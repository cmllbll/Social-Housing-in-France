{
 "cells": [
  {
   "cell_type": "code",
   "execution_count": 1,
   "metadata": {
    "collapsed": true,
    "pycharm": {
     "name": "#%%\n"
    }
   },
   "outputs": [],
   "source": [
    "import numpy as np\n",
    "import pandas\n",
    "import pandas as pd\n",
    "import matplotlib.pyplot as plt"
   ]
  },
  {
   "cell_type": "markdown",
   "source": [
    "## Nettoyage des bases de données"
   ],
   "metadata": {
    "collapsed": false,
    "pycharm": {
     "name": "#%% md\n"
    }
   }
  },
  {
   "cell_type": "code",
   "execution_count": 2,
   "outputs": [
    {
     "name": "stderr",
     "output_type": "stream",
     "text": [
      "C:\\Users\\arceb\\AppData\\Local\\Temp\\ipykernel_11952\\35231794.py:1: DtypeWarning: Columns (7,8,25) have mixed types. Specify dtype option on import or set low_memory=False.\n",
      "  dfa = pd.read_csv(r'C:\\Users\\arceb\\Desktop\\Stage\\BDD/attributaires_IDF.csv')\n",
      "C:\\Users\\arceb\\AppData\\Local\\Temp\\ipykernel_11952\\35231794.py:2: DtypeWarning: Columns (21) have mixed types. Specify dtype option on import or set low_memory=False.\n",
      "  dfd = pd.read_csv(r'C:\\Users\\arceb\\Desktop\\Stage\\BDD/demandeurs_IDF(1).csv')\n"
     ]
    }
   ],
   "source": [
    "dfa = pd.read_csv(r'C:\\Users\\arceb\\Desktop\\Stage\\BDD/attributaires_IDF.csv')\n",
    "dfd = pd.read_csv(r'C:\\Users\\arceb\\Desktop\\Stage\\BDD/demandeurs_IDF(1).csv')"
   ],
   "metadata": {
    "collapsed": false,
    "pycharm": {
     "name": "#%%\n"
    }
   }
  },
  {
   "cell_type": "markdown",
   "source": [
    "On va commencer par travailler sur la base de donnée des demandeurs pour estimer les différents quartiles de revenus parmis les demandeurs de la base de donnée. On va donc nettoyer la base, et créer une nouvelle colonne dans le dataframe indiquant le quartile auquel appartient le ménage. Cette information va permettre ensuite d'analyser le taux d'attente des demandeurs qui ont reçu un logement dans l'année en fonction de leur quartile d'appartenance."
   ],
   "metadata": {
    "collapsed": false,
    "pycharm": {
     "name": "#%% md\n"
    }
   }
  },
  {
   "cell_type": "code",
   "execution_count": 11,
   "outputs": [
    {
     "data": {
      "text/plain": "        Unnamed: 0         région       Numéro Unique Date création demande  \\\n0                0  Ile-de-France  175037900427000002   1979-03-01 00:00:00   \n1                1  Ile-de-France  175018000669100002   1980-01-15 00:00:00   \n2                2  Ile-de-France  175028000646000002   1980-02-17 00:00:00   \n3                3  Ile-de-France  175028000574100002   1980-02-18 00:00:00   \n4                4  Ile-de-France  111091487693675056   1980-04-15 00:00:00   \n...            ...            ...                 ...                   ...   \n704518      704518  Ile-de-France  111011887480795219   2018-01-01 00:00:00   \n704519      704519  Ile-de-France  1110118890705AL003   2018-01-01 00:00:00   \n704520      704520  Ile-de-France  1110118912212AL003   2018-01-01 00:00:00   \n704521      704521  Ile-de-France  1110118918305AL003   2018-01-01 00:00:00   \n704522      704522            NaN               65832                   NaN   \n\n        Age demandeur Situation familiale  Code département logement actuel  \\\n0                59.0           Veuf (ve)                              75.0   \n1                66.0         Célibataire                              75.0   \n2                80.0         Célibataire                              75.0   \n3                65.0         Célibataire                              75.0   \n4                82.0         Célibataire                              75.0   \n...               ...                 ...                               ...   \n704518           43.0         Célibataire                              95.0   \n704519           32.0         Célibataire                              95.0   \n704520           24.0         Célibataire                              95.0   \n704521           51.0           Marié (e)                              95.0   \n704522            NaN                 NaN                               NaN   \n\n        Code INSEE logt actuel         Commune logt actuel  \\\n0                      75112.0  Paris 12ème arrondissement   \n1                      75113.0  Paris 13ème arrondissement   \n2                      75113.0  Paris 13ème arrondissement   \n3                      75104.0   Paris 4ème arrondissement   \n4                      75114.0  Paris 14ème arrondissement   \n...                        ...                         ...   \n704518                 95219.0                      Ermont   \n704519                 95205.0                      Écouen   \n704520                 95018.0                  Argenteuil   \n704521                 95018.0                  Argenteuil   \n704522                     NaN                         NaN   \n\n                                  Mode de logement actuel  ...  \\\n0                                    Locataire parc privé  ...   \n1                                    Locataire parc privé  ...   \n2                                   Propriétaire occupant  ...   \n3                                    Locataire parc privé  ...   \n4                                           Locataire HLM  ...   \n...                                                   ...  ...   \n704518                            Structure d'hébergement  ...   \n704519                                      Locataire HLM  ...   \n704520                    Chez vos parents ou vos enfants  ...   \n704521  Sous-locataire ou hébergé dans un logement à t...  ...   \n704522                                                NaN  ...   \n\n       Ressources mensuelles du foyer  RFR du foyer, année n-1  \\\n0                               556.0                      0.0   \n1                              1906.0                  35847.0   \n2                              1446.0                  11571.0   \n3                              2323.0                      NaN   \n4                              1447.0                  14481.0   \n...                               ...                      ...   \n704518                         1067.0                      NaN   \n704519                         1643.0                      NaN   \n704520                         1186.0                      NaN   \n704521                            NaN                      NaN   \n704522                            NaN                      NaN   \n\n        RFR du foyer, année n-2  Code INSEE commune logt souhaité  \\\n0                           0.0                             75056   \n1                       36249.0                             75113   \n2                       11534.0                             75056   \n3                           NaN                             75101   \n4                       14322.0                             75114   \n...                         ...                               ...   \n704518                      NaN                             95219   \n704519                  15894.0                             95205   \n704520                  15014.0                             95176   \n704521                  16018.0                             95018   \n704522                      NaN                               NaN   \n\n         Commune logement souhaité Montant maxi (loyer+charges) supportable  \\\n0                            Paris                                    300.0   \n1       Paris 13ème arrondissement                                    299.0   \n2                            Paris                                    400.0   \n3         Paris 1er arrondissement                                    750.0   \n4       Paris 14ème arrondissement                                    300.0   \n...                            ...                                      ...   \n704518                      Ermont                                    600.0   \n704519                      Écouen                                    600.0   \n704520       Cormeilles-en-Parisis                                    395.0   \n704521                  Argenteuil                                    630.0   \n704522                         NaN                                      NaN   \n\n       Sexe demandeur\\n  Nationalité demandeur\\n  \\\n0                     F    Hors Union Européenne   \n1                     F                Française   \n2                     M                Française   \n3                     F                Française   \n4                     F                Française   \n...                 ...                      ...   \n704518                M    Hors Union Européenne   \n704519                F                Française   \n704520                F                Française   \n704521                M         Union Européenne   \n704522              NaN                      NaN   \n\n        Autre logement dé\\ntenu demandeur\\n  Nb de personnes handicapees  \n0                                       Non                          0.0  \n1                                       Non                          0.0  \n2                                       Non                          0.0  \n3                                       Oui                          0.0  \n4                                       Non                          0.0  \n...                                     ...                          ...  \n704518                                  Non                          0.0  \n704519                                  Non                          0.0  \n704520                                  Non                          0.0  \n704521                                  Non                          0.0  \n704522                                  NaN                          NaN  \n\n[704523 rows x 28 columns]",
      "text/html": "<div>\n<style scoped>\n    .dataframe tbody tr th:only-of-type {\n        vertical-align: middle;\n    }\n\n    .dataframe tbody tr th {\n        vertical-align: top;\n    }\n\n    .dataframe thead th {\n        text-align: right;\n    }\n</style>\n<table border=\"1\" class=\"dataframe\">\n  <thead>\n    <tr style=\"text-align: right;\">\n      <th></th>\n      <th>Unnamed: 0</th>\n      <th>région</th>\n      <th>Numéro Unique</th>\n      <th>Date création demande</th>\n      <th>Age demandeur</th>\n      <th>Situation familiale</th>\n      <th>Code département logement actuel</th>\n      <th>Code INSEE logt actuel</th>\n      <th>Commune logt actuel</th>\n      <th>Mode de logement actuel</th>\n      <th>...</th>\n      <th>Ressources mensuelles du foyer</th>\n      <th>RFR du foyer, année n-1</th>\n      <th>RFR du foyer, année n-2</th>\n      <th>Code INSEE commune logt souhaité</th>\n      <th>Commune logement souhaité</th>\n      <th>Montant maxi (loyer+charges) supportable</th>\n      <th>Sexe demandeur\\n</th>\n      <th>Nationalité demandeur\\n</th>\n      <th>Autre logement dé\\ntenu demandeur\\n</th>\n      <th>Nb de personnes handicapees</th>\n    </tr>\n  </thead>\n  <tbody>\n    <tr>\n      <th>0</th>\n      <td>0</td>\n      <td>Ile-de-France</td>\n      <td>175037900427000002</td>\n      <td>1979-03-01 00:00:00</td>\n      <td>59.0</td>\n      <td>Veuf (ve)</td>\n      <td>75.0</td>\n      <td>75112.0</td>\n      <td>Paris 12ème arrondissement</td>\n      <td>Locataire parc privé</td>\n      <td>...</td>\n      <td>556.0</td>\n      <td>0.0</td>\n      <td>0.0</td>\n      <td>75056</td>\n      <td>Paris</td>\n      <td>300.0</td>\n      <td>F</td>\n      <td>Hors Union Européenne</td>\n      <td>Non</td>\n      <td>0.0</td>\n    </tr>\n    <tr>\n      <th>1</th>\n      <td>1</td>\n      <td>Ile-de-France</td>\n      <td>175018000669100002</td>\n      <td>1980-01-15 00:00:00</td>\n      <td>66.0</td>\n      <td>Célibataire</td>\n      <td>75.0</td>\n      <td>75113.0</td>\n      <td>Paris 13ème arrondissement</td>\n      <td>Locataire parc privé</td>\n      <td>...</td>\n      <td>1906.0</td>\n      <td>35847.0</td>\n      <td>36249.0</td>\n      <td>75113</td>\n      <td>Paris 13ème arrondissement</td>\n      <td>299.0</td>\n      <td>F</td>\n      <td>Française</td>\n      <td>Non</td>\n      <td>0.0</td>\n    </tr>\n    <tr>\n      <th>2</th>\n      <td>2</td>\n      <td>Ile-de-France</td>\n      <td>175028000646000002</td>\n      <td>1980-02-17 00:00:00</td>\n      <td>80.0</td>\n      <td>Célibataire</td>\n      <td>75.0</td>\n      <td>75113.0</td>\n      <td>Paris 13ème arrondissement</td>\n      <td>Propriétaire occupant</td>\n      <td>...</td>\n      <td>1446.0</td>\n      <td>11571.0</td>\n      <td>11534.0</td>\n      <td>75056</td>\n      <td>Paris</td>\n      <td>400.0</td>\n      <td>M</td>\n      <td>Française</td>\n      <td>Non</td>\n      <td>0.0</td>\n    </tr>\n    <tr>\n      <th>3</th>\n      <td>3</td>\n      <td>Ile-de-France</td>\n      <td>175028000574100002</td>\n      <td>1980-02-18 00:00:00</td>\n      <td>65.0</td>\n      <td>Célibataire</td>\n      <td>75.0</td>\n      <td>75104.0</td>\n      <td>Paris 4ème arrondissement</td>\n      <td>Locataire parc privé</td>\n      <td>...</td>\n      <td>2323.0</td>\n      <td>NaN</td>\n      <td>NaN</td>\n      <td>75101</td>\n      <td>Paris 1er arrondissement</td>\n      <td>750.0</td>\n      <td>F</td>\n      <td>Française</td>\n      <td>Oui</td>\n      <td>0.0</td>\n    </tr>\n    <tr>\n      <th>4</th>\n      <td>4</td>\n      <td>Ile-de-France</td>\n      <td>111091487693675056</td>\n      <td>1980-04-15 00:00:00</td>\n      <td>82.0</td>\n      <td>Célibataire</td>\n      <td>75.0</td>\n      <td>75114.0</td>\n      <td>Paris 14ème arrondissement</td>\n      <td>Locataire HLM</td>\n      <td>...</td>\n      <td>1447.0</td>\n      <td>14481.0</td>\n      <td>14322.0</td>\n      <td>75114</td>\n      <td>Paris 14ème arrondissement</td>\n      <td>300.0</td>\n      <td>F</td>\n      <td>Française</td>\n      <td>Non</td>\n      <td>0.0</td>\n    </tr>\n    <tr>\n      <th>...</th>\n      <td>...</td>\n      <td>...</td>\n      <td>...</td>\n      <td>...</td>\n      <td>...</td>\n      <td>...</td>\n      <td>...</td>\n      <td>...</td>\n      <td>...</td>\n      <td>...</td>\n      <td>...</td>\n      <td>...</td>\n      <td>...</td>\n      <td>...</td>\n      <td>...</td>\n      <td>...</td>\n      <td>...</td>\n      <td>...</td>\n      <td>...</td>\n      <td>...</td>\n      <td>...</td>\n    </tr>\n    <tr>\n      <th>704518</th>\n      <td>704518</td>\n      <td>Ile-de-France</td>\n      <td>111011887480795219</td>\n      <td>2018-01-01 00:00:00</td>\n      <td>43.0</td>\n      <td>Célibataire</td>\n      <td>95.0</td>\n      <td>95219.0</td>\n      <td>Ermont</td>\n      <td>Structure d'hébergement</td>\n      <td>...</td>\n      <td>1067.0</td>\n      <td>NaN</td>\n      <td>NaN</td>\n      <td>95219</td>\n      <td>Ermont</td>\n      <td>600.0</td>\n      <td>M</td>\n      <td>Hors Union Européenne</td>\n      <td>Non</td>\n      <td>0.0</td>\n    </tr>\n    <tr>\n      <th>704519</th>\n      <td>704519</td>\n      <td>Ile-de-France</td>\n      <td>1110118890705AL003</td>\n      <td>2018-01-01 00:00:00</td>\n      <td>32.0</td>\n      <td>Célibataire</td>\n      <td>95.0</td>\n      <td>95205.0</td>\n      <td>Écouen</td>\n      <td>Locataire HLM</td>\n      <td>...</td>\n      <td>1643.0</td>\n      <td>NaN</td>\n      <td>15894.0</td>\n      <td>95205</td>\n      <td>Écouen</td>\n      <td>600.0</td>\n      <td>F</td>\n      <td>Française</td>\n      <td>Non</td>\n      <td>0.0</td>\n    </tr>\n    <tr>\n      <th>704520</th>\n      <td>704520</td>\n      <td>Ile-de-France</td>\n      <td>1110118912212AL003</td>\n      <td>2018-01-01 00:00:00</td>\n      <td>24.0</td>\n      <td>Célibataire</td>\n      <td>95.0</td>\n      <td>95018.0</td>\n      <td>Argenteuil</td>\n      <td>Chez vos parents ou vos enfants</td>\n      <td>...</td>\n      <td>1186.0</td>\n      <td>NaN</td>\n      <td>15014.0</td>\n      <td>95176</td>\n      <td>Cormeilles-en-Parisis</td>\n      <td>395.0</td>\n      <td>F</td>\n      <td>Française</td>\n      <td>Non</td>\n      <td>0.0</td>\n    </tr>\n    <tr>\n      <th>704521</th>\n      <td>704521</td>\n      <td>Ile-de-France</td>\n      <td>1110118918305AL003</td>\n      <td>2018-01-01 00:00:00</td>\n      <td>51.0</td>\n      <td>Marié (e)</td>\n      <td>95.0</td>\n      <td>95018.0</td>\n      <td>Argenteuil</td>\n      <td>Sous-locataire ou hébergé dans un logement à t...</td>\n      <td>...</td>\n      <td>NaN</td>\n      <td>NaN</td>\n      <td>16018.0</td>\n      <td>95018</td>\n      <td>Argenteuil</td>\n      <td>630.0</td>\n      <td>M</td>\n      <td>Union Européenne</td>\n      <td>Non</td>\n      <td>0.0</td>\n    </tr>\n    <tr>\n      <th>704522</th>\n      <td>704522</td>\n      <td>NaN</td>\n      <td>65832</td>\n      <td>NaN</td>\n      <td>NaN</td>\n      <td>NaN</td>\n      <td>NaN</td>\n      <td>NaN</td>\n      <td>NaN</td>\n      <td>NaN</td>\n      <td>...</td>\n      <td>NaN</td>\n      <td>NaN</td>\n      <td>NaN</td>\n      <td>NaN</td>\n      <td>NaN</td>\n      <td>NaN</td>\n      <td>NaN</td>\n      <td>NaN</td>\n      <td>NaN</td>\n      <td>NaN</td>\n    </tr>\n  </tbody>\n</table>\n<p>704523 rows × 28 columns</p>\n</div>"
     },
     "execution_count": 11,
     "metadata": {},
     "output_type": "execute_result"
    }
   ],
   "source": [
    "dfd"
   ],
   "metadata": {
    "collapsed": false,
    "pycharm": {
     "name": "#%%\n"
    }
   }
  },
  {
   "cell_type": "code",
   "execution_count": 120,
   "outputs": [
    {
     "data": {
      "text/plain": "             Numéro Unique  Nb unités de consommation du foyer  \\\n0       175037900427000002                                 1.0   \n1       175018000669100002                                 1.0   \n2       175028000646000002                                 1.0   \n3       175028000574100002                                 1.5   \n4       111091487693675056                                 1.0   \n...                    ...                                 ...   \n704518  111011887480795219                                 1.0   \n704519  1110118890705AL003                                 1.3   \n704520  1110118912212AL003                                 1.0   \n704521  1110118918305AL003                                 2.0   \n704522               65832                                 NaN   \n\n        Ressources mensuelles du foyer Date création demande Sexe demandeur\\n  \\\n0                                556.0   1979-03-01 00:00:00                F   \n1                               1906.0   1980-01-15 00:00:00                F   \n2                               1446.0   1980-02-17 00:00:00                M   \n3                               2323.0   1980-02-18 00:00:00                F   \n4                               1447.0   1980-04-15 00:00:00                F   \n...                                ...                   ...              ...   \n704518                          1067.0   2018-01-01 00:00:00                M   \n704519                          1643.0   2018-01-01 00:00:00                F   \n704520                          1186.0   2018-01-01 00:00:00                F   \n704521                             NaN   2018-01-01 00:00:00                M   \n704522                             NaN                   NaN              NaN   \n\n       Nationalité demandeur\\n  Age demandeur Situation familiale  \n0        Hors Union Européenne           59.0           Veuf (ve)  \n1                    Française           66.0         Célibataire  \n2                    Française           80.0         Célibataire  \n3                    Française           65.0         Célibataire  \n4                    Française           82.0         Célibataire  \n...                        ...            ...                 ...  \n704518   Hors Union Européenne           43.0         Célibataire  \n704519               Française           32.0         Célibataire  \n704520               Française           24.0         Célibataire  \n704521        Union Européenne           51.0           Marié (e)  \n704522                     NaN            NaN                 NaN  \n\n[704523 rows x 8 columns]",
      "text/html": "<div>\n<style scoped>\n    .dataframe tbody tr th:only-of-type {\n        vertical-align: middle;\n    }\n\n    .dataframe tbody tr th {\n        vertical-align: top;\n    }\n\n    .dataframe thead th {\n        text-align: right;\n    }\n</style>\n<table border=\"1\" class=\"dataframe\">\n  <thead>\n    <tr style=\"text-align: right;\">\n      <th></th>\n      <th>Numéro Unique</th>\n      <th>Nb unités de consommation du foyer</th>\n      <th>Ressources mensuelles du foyer</th>\n      <th>Date création demande</th>\n      <th>Sexe demandeur\\n</th>\n      <th>Nationalité demandeur\\n</th>\n      <th>Age demandeur</th>\n      <th>Situation familiale</th>\n    </tr>\n  </thead>\n  <tbody>\n    <tr>\n      <th>0</th>\n      <td>175037900427000002</td>\n      <td>1.0</td>\n      <td>556.0</td>\n      <td>1979-03-01 00:00:00</td>\n      <td>F</td>\n      <td>Hors Union Européenne</td>\n      <td>59.0</td>\n      <td>Veuf (ve)</td>\n    </tr>\n    <tr>\n      <th>1</th>\n      <td>175018000669100002</td>\n      <td>1.0</td>\n      <td>1906.0</td>\n      <td>1980-01-15 00:00:00</td>\n      <td>F</td>\n      <td>Française</td>\n      <td>66.0</td>\n      <td>Célibataire</td>\n    </tr>\n    <tr>\n      <th>2</th>\n      <td>175028000646000002</td>\n      <td>1.0</td>\n      <td>1446.0</td>\n      <td>1980-02-17 00:00:00</td>\n      <td>M</td>\n      <td>Française</td>\n      <td>80.0</td>\n      <td>Célibataire</td>\n    </tr>\n    <tr>\n      <th>3</th>\n      <td>175028000574100002</td>\n      <td>1.5</td>\n      <td>2323.0</td>\n      <td>1980-02-18 00:00:00</td>\n      <td>F</td>\n      <td>Française</td>\n      <td>65.0</td>\n      <td>Célibataire</td>\n    </tr>\n    <tr>\n      <th>4</th>\n      <td>111091487693675056</td>\n      <td>1.0</td>\n      <td>1447.0</td>\n      <td>1980-04-15 00:00:00</td>\n      <td>F</td>\n      <td>Française</td>\n      <td>82.0</td>\n      <td>Célibataire</td>\n    </tr>\n    <tr>\n      <th>...</th>\n      <td>...</td>\n      <td>...</td>\n      <td>...</td>\n      <td>...</td>\n      <td>...</td>\n      <td>...</td>\n      <td>...</td>\n      <td>...</td>\n    </tr>\n    <tr>\n      <th>704518</th>\n      <td>111011887480795219</td>\n      <td>1.0</td>\n      <td>1067.0</td>\n      <td>2018-01-01 00:00:00</td>\n      <td>M</td>\n      <td>Hors Union Européenne</td>\n      <td>43.0</td>\n      <td>Célibataire</td>\n    </tr>\n    <tr>\n      <th>704519</th>\n      <td>1110118890705AL003</td>\n      <td>1.3</td>\n      <td>1643.0</td>\n      <td>2018-01-01 00:00:00</td>\n      <td>F</td>\n      <td>Française</td>\n      <td>32.0</td>\n      <td>Célibataire</td>\n    </tr>\n    <tr>\n      <th>704520</th>\n      <td>1110118912212AL003</td>\n      <td>1.0</td>\n      <td>1186.0</td>\n      <td>2018-01-01 00:00:00</td>\n      <td>F</td>\n      <td>Française</td>\n      <td>24.0</td>\n      <td>Célibataire</td>\n    </tr>\n    <tr>\n      <th>704521</th>\n      <td>1110118918305AL003</td>\n      <td>2.0</td>\n      <td>NaN</td>\n      <td>2018-01-01 00:00:00</td>\n      <td>M</td>\n      <td>Union Européenne</td>\n      <td>51.0</td>\n      <td>Marié (e)</td>\n    </tr>\n    <tr>\n      <th>704522</th>\n      <td>65832</td>\n      <td>NaN</td>\n      <td>NaN</td>\n      <td>NaN</td>\n      <td>NaN</td>\n      <td>NaN</td>\n      <td>NaN</td>\n      <td>NaN</td>\n    </tr>\n  </tbody>\n</table>\n<p>704523 rows × 8 columns</p>\n</div>"
     },
     "execution_count": 120,
     "metadata": {},
     "output_type": "execute_result"
    }
   ],
   "source": [
    "dfd1=dfd[[ \"Numéro Unique\", \"Nb unités de consommation du foyer\", \"Ressources mensuelles du foyer\", \"Date création demande\", \"Sexe demandeur\\n\", \"Nationalité demandeur\\n\", \"Age demandeur\", \"Situation familiale\"]]\n",
    "dfd1"
   ],
   "metadata": {
    "collapsed": false,
    "pycharm": {
     "name": "#%%\n"
    }
   }
  },
  {
   "cell_type": "code",
   "execution_count": 3,
   "outputs": [],
   "source": [
    "dfdx=dfd[[ \"Numéro Unique\", \"Montant AL / APL\"]]\n",
    "dfax=dfa[[ \"Numéro Unique\", \"Montant AL / APL\"]]\n",
    "dfx = dfdx.merge(dfax, on='Numéro Unique', how='inner')"
   ],
   "metadata": {
    "collapsed": false,
    "pycharm": {
     "name": "#%%\n"
    }
   }
  },
  {
   "cell_type": "code",
   "execution_count": 4,
   "outputs": [
    {
     "data": {
      "text/plain": "            Numéro Unique  Montant AL / APL_x  Montant AL / APL_y\n0      175037900427000002                 0.0                 0.0\n1      175118000728300002                 0.0                 0.0\n2      175108301617300002                 0.0                 0.0\n3      175128420982700002                 0.0                 0.0\n4      175058909634800002               235.0               235.0\n...                   ...                 ...                 ...\n60759  1111217905754AL003                 0.0                 0.0\n60760  1111217849606GDPUB                 0.0                 0.0\n60761  1111217849858GDPUB                 NaN                 NaN\n60762  1110118850370GDPUB                 0.0                 0.0\n60763  1110118850622GDPUB               231.0               231.0\n\n[60764 rows x 3 columns]",
      "text/html": "<div>\n<style scoped>\n    .dataframe tbody tr th:only-of-type {\n        vertical-align: middle;\n    }\n\n    .dataframe tbody tr th {\n        vertical-align: top;\n    }\n\n    .dataframe thead th {\n        text-align: right;\n    }\n</style>\n<table border=\"1\" class=\"dataframe\">\n  <thead>\n    <tr style=\"text-align: right;\">\n      <th></th>\n      <th>Numéro Unique</th>\n      <th>Montant AL / APL_x</th>\n      <th>Montant AL / APL_y</th>\n    </tr>\n  </thead>\n  <tbody>\n    <tr>\n      <th>0</th>\n      <td>175037900427000002</td>\n      <td>0.0</td>\n      <td>0.0</td>\n    </tr>\n    <tr>\n      <th>1</th>\n      <td>175118000728300002</td>\n      <td>0.0</td>\n      <td>0.0</td>\n    </tr>\n    <tr>\n      <th>2</th>\n      <td>175108301617300002</td>\n      <td>0.0</td>\n      <td>0.0</td>\n    </tr>\n    <tr>\n      <th>3</th>\n      <td>175128420982700002</td>\n      <td>0.0</td>\n      <td>0.0</td>\n    </tr>\n    <tr>\n      <th>4</th>\n      <td>175058909634800002</td>\n      <td>235.0</td>\n      <td>235.0</td>\n    </tr>\n    <tr>\n      <th>...</th>\n      <td>...</td>\n      <td>...</td>\n      <td>...</td>\n    </tr>\n    <tr>\n      <th>60759</th>\n      <td>1111217905754AL003</td>\n      <td>0.0</td>\n      <td>0.0</td>\n    </tr>\n    <tr>\n      <th>60760</th>\n      <td>1111217849606GDPUB</td>\n      <td>0.0</td>\n      <td>0.0</td>\n    </tr>\n    <tr>\n      <th>60761</th>\n      <td>1111217849858GDPUB</td>\n      <td>NaN</td>\n      <td>NaN</td>\n    </tr>\n    <tr>\n      <th>60762</th>\n      <td>1110118850370GDPUB</td>\n      <td>0.0</td>\n      <td>0.0</td>\n    </tr>\n    <tr>\n      <th>60763</th>\n      <td>1110118850622GDPUB</td>\n      <td>231.0</td>\n      <td>231.0</td>\n    </tr>\n  </tbody>\n</table>\n<p>60764 rows × 3 columns</p>\n</div>"
     },
     "execution_count": 4,
     "metadata": {},
     "output_type": "execute_result"
    }
   ],
   "source": [
    "dfx"
   ],
   "metadata": {
    "collapsed": false,
    "pycharm": {
     "name": "#%%\n"
    }
   }
  },
  {
   "cell_type": "markdown",
   "source": [
    "On ne conserve que les colonnes qui vont nous intéresser dans le cadre de l'étude du taux d'attente."
   ],
   "metadata": {
    "collapsed": false,
    "pycharm": {
     "name": "#%% md\n"
    }
   }
  },
  {
   "cell_type": "markdown",
   "source": [
    "#### Application des filtres"
   ],
   "metadata": {
    "collapsed": false,
    "pycharm": {
     "name": "#%% md\n"
    }
   }
  },
  {
   "cell_type": "markdown",
   "source": [
    "On convertir en NaN les valeurs qui doivent être filtrées, à savoir:\n",
    "- les NaN (les valeurs qui ne sont pas renseignées), les revenus qui ne sont pas indiqués\n",
    "- les revenus qui ne sont pas strictement supérieurs à 0\n",
    "- les revenus qui sont supérieurs à 10000"
   ],
   "metadata": {
    "collapsed": false,
    "pycharm": {
     "name": "#%% md\n"
    }
   }
  },
  {
   "cell_type": "code",
   "execution_count": 121,
   "outputs": [
    {
     "data": {
      "text/plain": "             Numéro Unique  Nb unités de consommation du foyer  \\\n0       175037900427000002                                 1.0   \n1       175018000669100002                                 1.0   \n2       175028000646000002                                 1.0   \n3       175028000574100002                                 1.5   \n4       111091487693675056                                 1.0   \n...                    ...                                 ...   \n704516  1110118856747AL010                                 2.1   \n704517  1110118874178AL010                                 1.8   \n704518  111011887480795219                                 1.0   \n704519  1110118890705AL003                                 1.3   \n704520  1110118912212AL003                                 1.0   \n\n        Ressources mensuelles du foyer Date création demande Sexe demandeur\\n  \\\n0                                556.0   1979-03-01 00:00:00                F   \n1                               1906.0   1980-01-15 00:00:00                F   \n2                               1446.0   1980-02-17 00:00:00                M   \n3                               2323.0   1980-02-18 00:00:00                F   \n4                               1447.0   1980-04-15 00:00:00                F   \n...                                ...                   ...              ...   \n704516                          2128.0   2018-01-01 00:00:00                M   \n704517                          4821.0   2018-01-01 00:00:00                F   \n704518                          1067.0   2018-01-01 00:00:00                M   \n704519                          1643.0   2018-01-01 00:00:00                F   \n704520                          1186.0   2018-01-01 00:00:00                F   \n\n       Nationalité demandeur\\n  Age demandeur Situation familiale  \n0        Hors Union Européenne           59.0           Veuf (ve)  \n1                    Française           66.0         Célibataire  \n2                    Française           80.0         Célibataire  \n3                    Française           65.0         Célibataire  \n4                    Française           82.0         Célibataire  \n...                        ...            ...                 ...  \n704516               Française           31.0           Marié (e)  \n704517               Française           47.0         Divorcé (e)  \n704518   Hors Union Européenne           43.0         Célibataire  \n704519               Française           32.0         Célibataire  \n704520               Française           24.0         Célibataire  \n\n[692435 rows x 8 columns]",
      "text/html": "<div>\n<style scoped>\n    .dataframe tbody tr th:only-of-type {\n        vertical-align: middle;\n    }\n\n    .dataframe tbody tr th {\n        vertical-align: top;\n    }\n\n    .dataframe thead th {\n        text-align: right;\n    }\n</style>\n<table border=\"1\" class=\"dataframe\">\n  <thead>\n    <tr style=\"text-align: right;\">\n      <th></th>\n      <th>Numéro Unique</th>\n      <th>Nb unités de consommation du foyer</th>\n      <th>Ressources mensuelles du foyer</th>\n      <th>Date création demande</th>\n      <th>Sexe demandeur\\n</th>\n      <th>Nationalité demandeur\\n</th>\n      <th>Age demandeur</th>\n      <th>Situation familiale</th>\n    </tr>\n  </thead>\n  <tbody>\n    <tr>\n      <th>0</th>\n      <td>175037900427000002</td>\n      <td>1.0</td>\n      <td>556.0</td>\n      <td>1979-03-01 00:00:00</td>\n      <td>F</td>\n      <td>Hors Union Européenne</td>\n      <td>59.0</td>\n      <td>Veuf (ve)</td>\n    </tr>\n    <tr>\n      <th>1</th>\n      <td>175018000669100002</td>\n      <td>1.0</td>\n      <td>1906.0</td>\n      <td>1980-01-15 00:00:00</td>\n      <td>F</td>\n      <td>Française</td>\n      <td>66.0</td>\n      <td>Célibataire</td>\n    </tr>\n    <tr>\n      <th>2</th>\n      <td>175028000646000002</td>\n      <td>1.0</td>\n      <td>1446.0</td>\n      <td>1980-02-17 00:00:00</td>\n      <td>M</td>\n      <td>Française</td>\n      <td>80.0</td>\n      <td>Célibataire</td>\n    </tr>\n    <tr>\n      <th>3</th>\n      <td>175028000574100002</td>\n      <td>1.5</td>\n      <td>2323.0</td>\n      <td>1980-02-18 00:00:00</td>\n      <td>F</td>\n      <td>Française</td>\n      <td>65.0</td>\n      <td>Célibataire</td>\n    </tr>\n    <tr>\n      <th>4</th>\n      <td>111091487693675056</td>\n      <td>1.0</td>\n      <td>1447.0</td>\n      <td>1980-04-15 00:00:00</td>\n      <td>F</td>\n      <td>Française</td>\n      <td>82.0</td>\n      <td>Célibataire</td>\n    </tr>\n    <tr>\n      <th>...</th>\n      <td>...</td>\n      <td>...</td>\n      <td>...</td>\n      <td>...</td>\n      <td>...</td>\n      <td>...</td>\n      <td>...</td>\n      <td>...</td>\n    </tr>\n    <tr>\n      <th>704516</th>\n      <td>1110118856747AL010</td>\n      <td>2.1</td>\n      <td>2128.0</td>\n      <td>2018-01-01 00:00:00</td>\n      <td>M</td>\n      <td>Française</td>\n      <td>31.0</td>\n      <td>Marié (e)</td>\n    </tr>\n    <tr>\n      <th>704517</th>\n      <td>1110118874178AL010</td>\n      <td>1.8</td>\n      <td>4821.0</td>\n      <td>2018-01-01 00:00:00</td>\n      <td>F</td>\n      <td>Française</td>\n      <td>47.0</td>\n      <td>Divorcé (e)</td>\n    </tr>\n    <tr>\n      <th>704518</th>\n      <td>111011887480795219</td>\n      <td>1.0</td>\n      <td>1067.0</td>\n      <td>2018-01-01 00:00:00</td>\n      <td>M</td>\n      <td>Hors Union Européenne</td>\n      <td>43.0</td>\n      <td>Célibataire</td>\n    </tr>\n    <tr>\n      <th>704519</th>\n      <td>1110118890705AL003</td>\n      <td>1.3</td>\n      <td>1643.0</td>\n      <td>2018-01-01 00:00:00</td>\n      <td>F</td>\n      <td>Française</td>\n      <td>32.0</td>\n      <td>Célibataire</td>\n    </tr>\n    <tr>\n      <th>704520</th>\n      <td>1110118912212AL003</td>\n      <td>1.0</td>\n      <td>1186.0</td>\n      <td>2018-01-01 00:00:00</td>\n      <td>F</td>\n      <td>Française</td>\n      <td>24.0</td>\n      <td>Célibataire</td>\n    </tr>\n  </tbody>\n</table>\n<p>692435 rows × 8 columns</p>\n</div>"
     },
     "execution_count": 121,
     "metadata": {},
     "output_type": "execute_result"
    }
   ],
   "source": [
    "dfd1.dropna()"
   ],
   "metadata": {
    "collapsed": false,
    "pycharm": {
     "name": "#%%\n"
    }
   }
  },
  {
   "cell_type": "code",
   "execution_count": 122,
   "outputs": [
    {
     "name": "stderr",
     "output_type": "stream",
     "text": [
      "C:\\Users\\arceb\\AppData\\Local\\Temp\\ipykernel_11952\\519414860.py:2: SettingWithCopyWarning: \n",
      "A value is trying to be set on a copy of a slice from a DataFrame\n",
      "\n",
      "See the caveats in the documentation: https://pandas.pydata.org/pandas-docs/stable/user_guide/indexing.html#returning-a-view-versus-a-copy\n",
      "  dfd1.drop(indexNames , inplace=True)\n"
     ]
    },
    {
     "data": {
      "text/plain": "             Numéro Unique  Nb unités de consommation du foyer  \\\n0       175037900427000002                                 1.0   \n1       175018000669100002                                 1.0   \n2       175028000646000002                                 1.0   \n3       175028000574100002                                 1.5   \n4       111091487693675056                                 1.0   \n...                    ...                                 ...   \n704518  111011887480795219                                 1.0   \n704519  1110118890705AL003                                 1.3   \n704520  1110118912212AL003                                 1.0   \n704521  1110118918305AL003                                 2.0   \n704522               65832                                 NaN   \n\n        Ressources mensuelles du foyer Date création demande Sexe demandeur\\n  \\\n0                                556.0   1979-03-01 00:00:00                F   \n1                               1906.0   1980-01-15 00:00:00                F   \n2                               1446.0   1980-02-17 00:00:00                M   \n3                               2323.0   1980-02-18 00:00:00                F   \n4                               1447.0   1980-04-15 00:00:00                F   \n...                                ...                   ...              ...   \n704518                          1067.0   2018-01-01 00:00:00                M   \n704519                          1643.0   2018-01-01 00:00:00                F   \n704520                          1186.0   2018-01-01 00:00:00                F   \n704521                             NaN   2018-01-01 00:00:00                M   \n704522                             NaN                   NaN              NaN   \n\n       Nationalité demandeur\\n  Age demandeur Situation familiale  \n0        Hors Union Européenne           59.0           Veuf (ve)  \n1                    Française           66.0         Célibataire  \n2                    Française           80.0         Célibataire  \n3                    Française           65.0         Célibataire  \n4                    Française           82.0         Célibataire  \n...                        ...            ...                 ...  \n704518   Hors Union Européenne           43.0         Célibataire  \n704519               Française           32.0         Célibataire  \n704520               Française           24.0         Célibataire  \n704521        Union Européenne           51.0           Marié (e)  \n704522                     NaN            NaN                 NaN  \n\n[703802 rows x 8 columns]",
      "text/html": "<div>\n<style scoped>\n    .dataframe tbody tr th:only-of-type {\n        vertical-align: middle;\n    }\n\n    .dataframe tbody tr th {\n        vertical-align: top;\n    }\n\n    .dataframe thead th {\n        text-align: right;\n    }\n</style>\n<table border=\"1\" class=\"dataframe\">\n  <thead>\n    <tr style=\"text-align: right;\">\n      <th></th>\n      <th>Numéro Unique</th>\n      <th>Nb unités de consommation du foyer</th>\n      <th>Ressources mensuelles du foyer</th>\n      <th>Date création demande</th>\n      <th>Sexe demandeur\\n</th>\n      <th>Nationalité demandeur\\n</th>\n      <th>Age demandeur</th>\n      <th>Situation familiale</th>\n    </tr>\n  </thead>\n  <tbody>\n    <tr>\n      <th>0</th>\n      <td>175037900427000002</td>\n      <td>1.0</td>\n      <td>556.0</td>\n      <td>1979-03-01 00:00:00</td>\n      <td>F</td>\n      <td>Hors Union Européenne</td>\n      <td>59.0</td>\n      <td>Veuf (ve)</td>\n    </tr>\n    <tr>\n      <th>1</th>\n      <td>175018000669100002</td>\n      <td>1.0</td>\n      <td>1906.0</td>\n      <td>1980-01-15 00:00:00</td>\n      <td>F</td>\n      <td>Française</td>\n      <td>66.0</td>\n      <td>Célibataire</td>\n    </tr>\n    <tr>\n      <th>2</th>\n      <td>175028000646000002</td>\n      <td>1.0</td>\n      <td>1446.0</td>\n      <td>1980-02-17 00:00:00</td>\n      <td>M</td>\n      <td>Française</td>\n      <td>80.0</td>\n      <td>Célibataire</td>\n    </tr>\n    <tr>\n      <th>3</th>\n      <td>175028000574100002</td>\n      <td>1.5</td>\n      <td>2323.0</td>\n      <td>1980-02-18 00:00:00</td>\n      <td>F</td>\n      <td>Française</td>\n      <td>65.0</td>\n      <td>Célibataire</td>\n    </tr>\n    <tr>\n      <th>4</th>\n      <td>111091487693675056</td>\n      <td>1.0</td>\n      <td>1447.0</td>\n      <td>1980-04-15 00:00:00</td>\n      <td>F</td>\n      <td>Française</td>\n      <td>82.0</td>\n      <td>Célibataire</td>\n    </tr>\n    <tr>\n      <th>...</th>\n      <td>...</td>\n      <td>...</td>\n      <td>...</td>\n      <td>...</td>\n      <td>...</td>\n      <td>...</td>\n      <td>...</td>\n      <td>...</td>\n    </tr>\n    <tr>\n      <th>704518</th>\n      <td>111011887480795219</td>\n      <td>1.0</td>\n      <td>1067.0</td>\n      <td>2018-01-01 00:00:00</td>\n      <td>M</td>\n      <td>Hors Union Européenne</td>\n      <td>43.0</td>\n      <td>Célibataire</td>\n    </tr>\n    <tr>\n      <th>704519</th>\n      <td>1110118890705AL003</td>\n      <td>1.3</td>\n      <td>1643.0</td>\n      <td>2018-01-01 00:00:00</td>\n      <td>F</td>\n      <td>Française</td>\n      <td>32.0</td>\n      <td>Célibataire</td>\n    </tr>\n    <tr>\n      <th>704520</th>\n      <td>1110118912212AL003</td>\n      <td>1.0</td>\n      <td>1186.0</td>\n      <td>2018-01-01 00:00:00</td>\n      <td>F</td>\n      <td>Française</td>\n      <td>24.0</td>\n      <td>Célibataire</td>\n    </tr>\n    <tr>\n      <th>704521</th>\n      <td>1110118918305AL003</td>\n      <td>2.0</td>\n      <td>NaN</td>\n      <td>2018-01-01 00:00:00</td>\n      <td>M</td>\n      <td>Union Européenne</td>\n      <td>51.0</td>\n      <td>Marié (e)</td>\n    </tr>\n    <tr>\n      <th>704522</th>\n      <td>65832</td>\n      <td>NaN</td>\n      <td>NaN</td>\n      <td>NaN</td>\n      <td>NaN</td>\n      <td>NaN</td>\n      <td>NaN</td>\n      <td>NaN</td>\n    </tr>\n  </tbody>\n</table>\n<p>703802 rows × 8 columns</p>\n</div>"
     },
     "execution_count": 122,
     "metadata": {},
     "output_type": "execute_result"
    }
   ],
   "source": [
    "indexNames = dfd1[ dfd1['Ressources mensuelles du foyer'] < 0 ].index\n",
    "dfd1.drop(indexNames , inplace=True)\n",
    "dfd1"
   ],
   "metadata": {
    "collapsed": false,
    "pycharm": {
     "name": "#%%\n"
    }
   }
  },
  {
   "cell_type": "code",
   "execution_count": 123,
   "outputs": [
    {
     "name": "stderr",
     "output_type": "stream",
     "text": [
      "C:\\Users\\arceb\\AppData\\Local\\Temp\\ipykernel_11952\\2081586591.py:2: SettingWithCopyWarning: \n",
      "A value is trying to be set on a copy of a slice from a DataFrame\n",
      "\n",
      "See the caveats in the documentation: https://pandas.pydata.org/pandas-docs/stable/user_guide/indexing.html#returning-a-view-versus-a-copy\n",
      "  dfd1.drop(indexNames1 , inplace=True)\n"
     ]
    },
    {
     "data": {
      "text/plain": "             Numéro Unique  Nb unités de consommation du foyer  \\\n0       175037900427000002                                 1.0   \n1       175018000669100002                                 1.0   \n2       175028000646000002                                 1.0   \n3       175028000574100002                                 1.5   \n4       111091487693675056                                 1.0   \n...                    ...                                 ...   \n704518  111011887480795219                                 1.0   \n704519  1110118890705AL003                                 1.3   \n704520  1110118912212AL003                                 1.0   \n704521  1110118918305AL003                                 2.0   \n704522               65832                                 NaN   \n\n        Ressources mensuelles du foyer Date création demande Sexe demandeur\\n  \\\n0                                556.0   1979-03-01 00:00:00                F   \n1                               1906.0   1980-01-15 00:00:00                F   \n2                               1446.0   1980-02-17 00:00:00                M   \n3                               2323.0   1980-02-18 00:00:00                F   \n4                               1447.0   1980-04-15 00:00:00                F   \n...                                ...                   ...              ...   \n704518                          1067.0   2018-01-01 00:00:00                M   \n704519                          1643.0   2018-01-01 00:00:00                F   \n704520                          1186.0   2018-01-01 00:00:00                F   \n704521                             NaN   2018-01-01 00:00:00                M   \n704522                             NaN                   NaN              NaN   \n\n       Nationalité demandeur\\n  Age demandeur Situation familiale  \n0        Hors Union Européenne           59.0           Veuf (ve)  \n1                    Française           66.0         Célibataire  \n2                    Française           80.0         Célibataire  \n3                    Française           65.0         Célibataire  \n4                    Française           82.0         Célibataire  \n...                        ...            ...                 ...  \n704518   Hors Union Européenne           43.0         Célibataire  \n704519               Française           32.0         Célibataire  \n704520               Française           24.0         Célibataire  \n704521        Union Européenne           51.0           Marié (e)  \n704522                     NaN            NaN                 NaN  \n\n[701612 rows x 8 columns]",
      "text/html": "<div>\n<style scoped>\n    .dataframe tbody tr th:only-of-type {\n        vertical-align: middle;\n    }\n\n    .dataframe tbody tr th {\n        vertical-align: top;\n    }\n\n    .dataframe thead th {\n        text-align: right;\n    }\n</style>\n<table border=\"1\" class=\"dataframe\">\n  <thead>\n    <tr style=\"text-align: right;\">\n      <th></th>\n      <th>Numéro Unique</th>\n      <th>Nb unités de consommation du foyer</th>\n      <th>Ressources mensuelles du foyer</th>\n      <th>Date création demande</th>\n      <th>Sexe demandeur\\n</th>\n      <th>Nationalité demandeur\\n</th>\n      <th>Age demandeur</th>\n      <th>Situation familiale</th>\n    </tr>\n  </thead>\n  <tbody>\n    <tr>\n      <th>0</th>\n      <td>175037900427000002</td>\n      <td>1.0</td>\n      <td>556.0</td>\n      <td>1979-03-01 00:00:00</td>\n      <td>F</td>\n      <td>Hors Union Européenne</td>\n      <td>59.0</td>\n      <td>Veuf (ve)</td>\n    </tr>\n    <tr>\n      <th>1</th>\n      <td>175018000669100002</td>\n      <td>1.0</td>\n      <td>1906.0</td>\n      <td>1980-01-15 00:00:00</td>\n      <td>F</td>\n      <td>Française</td>\n      <td>66.0</td>\n      <td>Célibataire</td>\n    </tr>\n    <tr>\n      <th>2</th>\n      <td>175028000646000002</td>\n      <td>1.0</td>\n      <td>1446.0</td>\n      <td>1980-02-17 00:00:00</td>\n      <td>M</td>\n      <td>Française</td>\n      <td>80.0</td>\n      <td>Célibataire</td>\n    </tr>\n    <tr>\n      <th>3</th>\n      <td>175028000574100002</td>\n      <td>1.5</td>\n      <td>2323.0</td>\n      <td>1980-02-18 00:00:00</td>\n      <td>F</td>\n      <td>Française</td>\n      <td>65.0</td>\n      <td>Célibataire</td>\n    </tr>\n    <tr>\n      <th>4</th>\n      <td>111091487693675056</td>\n      <td>1.0</td>\n      <td>1447.0</td>\n      <td>1980-04-15 00:00:00</td>\n      <td>F</td>\n      <td>Française</td>\n      <td>82.0</td>\n      <td>Célibataire</td>\n    </tr>\n    <tr>\n      <th>...</th>\n      <td>...</td>\n      <td>...</td>\n      <td>...</td>\n      <td>...</td>\n      <td>...</td>\n      <td>...</td>\n      <td>...</td>\n      <td>...</td>\n    </tr>\n    <tr>\n      <th>704518</th>\n      <td>111011887480795219</td>\n      <td>1.0</td>\n      <td>1067.0</td>\n      <td>2018-01-01 00:00:00</td>\n      <td>M</td>\n      <td>Hors Union Européenne</td>\n      <td>43.0</td>\n      <td>Célibataire</td>\n    </tr>\n    <tr>\n      <th>704519</th>\n      <td>1110118890705AL003</td>\n      <td>1.3</td>\n      <td>1643.0</td>\n      <td>2018-01-01 00:00:00</td>\n      <td>F</td>\n      <td>Française</td>\n      <td>32.0</td>\n      <td>Célibataire</td>\n    </tr>\n    <tr>\n      <th>704520</th>\n      <td>1110118912212AL003</td>\n      <td>1.0</td>\n      <td>1186.0</td>\n      <td>2018-01-01 00:00:00</td>\n      <td>F</td>\n      <td>Française</td>\n      <td>24.0</td>\n      <td>Célibataire</td>\n    </tr>\n    <tr>\n      <th>704521</th>\n      <td>1110118918305AL003</td>\n      <td>2.0</td>\n      <td>NaN</td>\n      <td>2018-01-01 00:00:00</td>\n      <td>M</td>\n      <td>Union Européenne</td>\n      <td>51.0</td>\n      <td>Marié (e)</td>\n    </tr>\n    <tr>\n      <th>704522</th>\n      <td>65832</td>\n      <td>NaN</td>\n      <td>NaN</td>\n      <td>NaN</td>\n      <td>NaN</td>\n      <td>NaN</td>\n      <td>NaN</td>\n      <td>NaN</td>\n    </tr>\n  </tbody>\n</table>\n<p>701612 rows × 8 columns</p>\n</div>"
     },
     "execution_count": 123,
     "metadata": {},
     "output_type": "execute_result"
    }
   ],
   "source": [
    "indexNames1 = dfd1[ dfd1['Ressources mensuelles du foyer'] > 10000 ].index\n",
    "dfd1.drop(indexNames1 , inplace=True)\n",
    "dfd1"
   ],
   "metadata": {
    "collapsed": false,
    "pycharm": {
     "name": "#%%\n"
    }
   }
  },
  {
   "cell_type": "code",
   "execution_count": 124,
   "outputs": [],
   "source": [
    "dfd1=dfd1.dropna()"
   ],
   "metadata": {
    "collapsed": false,
    "pycharm": {
     "name": "#%%\n"
    }
   }
  },
  {
   "cell_type": "code",
   "execution_count": 125,
   "outputs": [
    {
     "data": {
      "text/plain": "             Numéro Unique  Nb unités de consommation du foyer  \\\n0       175037900427000002                                 1.0   \n1       175018000669100002                                 1.0   \n2       175028000646000002                                 1.0   \n3       175028000574100002                                 1.5   \n4       111091487693675056                                 1.0   \n...                    ...                                 ...   \n704516  1110118856747AL010                                 2.1   \n704517  1110118874178AL010                                 1.8   \n704518  111011887480795219                                 1.0   \n704519  1110118890705AL003                                 1.3   \n704520  1110118912212AL003                                 1.0   \n\n        Ressources mensuelles du foyer Date création demande Sexe demandeur\\n  \\\n0                                556.0   1979-03-01 00:00:00                F   \n1                               1906.0   1980-01-15 00:00:00                F   \n2                               1446.0   1980-02-17 00:00:00                M   \n3                               2323.0   1980-02-18 00:00:00                F   \n4                               1447.0   1980-04-15 00:00:00                F   \n...                                ...                   ...              ...   \n704516                          2128.0   2018-01-01 00:00:00                M   \n704517                          4821.0   2018-01-01 00:00:00                F   \n704518                          1067.0   2018-01-01 00:00:00                M   \n704519                          1643.0   2018-01-01 00:00:00                F   \n704520                          1186.0   2018-01-01 00:00:00                F   \n\n       Nationalité demandeur\\n  Age demandeur Situation familiale  \n0        Hors Union Européenne           59.0           Veuf (ve)  \n1                    Française           66.0         Célibataire  \n2                    Française           80.0         Célibataire  \n3                    Française           65.0         Célibataire  \n4                    Française           82.0         Célibataire  \n...                        ...            ...                 ...  \n704516               Française           31.0           Marié (e)  \n704517               Française           47.0         Divorcé (e)  \n704518   Hors Union Européenne           43.0         Célibataire  \n704519               Française           32.0         Célibataire  \n704520               Française           24.0         Célibataire  \n\n[689524 rows x 8 columns]",
      "text/html": "<div>\n<style scoped>\n    .dataframe tbody tr th:only-of-type {\n        vertical-align: middle;\n    }\n\n    .dataframe tbody tr th {\n        vertical-align: top;\n    }\n\n    .dataframe thead th {\n        text-align: right;\n    }\n</style>\n<table border=\"1\" class=\"dataframe\">\n  <thead>\n    <tr style=\"text-align: right;\">\n      <th></th>\n      <th>Numéro Unique</th>\n      <th>Nb unités de consommation du foyer</th>\n      <th>Ressources mensuelles du foyer</th>\n      <th>Date création demande</th>\n      <th>Sexe demandeur\\n</th>\n      <th>Nationalité demandeur\\n</th>\n      <th>Age demandeur</th>\n      <th>Situation familiale</th>\n    </tr>\n  </thead>\n  <tbody>\n    <tr>\n      <th>0</th>\n      <td>175037900427000002</td>\n      <td>1.0</td>\n      <td>556.0</td>\n      <td>1979-03-01 00:00:00</td>\n      <td>F</td>\n      <td>Hors Union Européenne</td>\n      <td>59.0</td>\n      <td>Veuf (ve)</td>\n    </tr>\n    <tr>\n      <th>1</th>\n      <td>175018000669100002</td>\n      <td>1.0</td>\n      <td>1906.0</td>\n      <td>1980-01-15 00:00:00</td>\n      <td>F</td>\n      <td>Française</td>\n      <td>66.0</td>\n      <td>Célibataire</td>\n    </tr>\n    <tr>\n      <th>2</th>\n      <td>175028000646000002</td>\n      <td>1.0</td>\n      <td>1446.0</td>\n      <td>1980-02-17 00:00:00</td>\n      <td>M</td>\n      <td>Française</td>\n      <td>80.0</td>\n      <td>Célibataire</td>\n    </tr>\n    <tr>\n      <th>3</th>\n      <td>175028000574100002</td>\n      <td>1.5</td>\n      <td>2323.0</td>\n      <td>1980-02-18 00:00:00</td>\n      <td>F</td>\n      <td>Française</td>\n      <td>65.0</td>\n      <td>Célibataire</td>\n    </tr>\n    <tr>\n      <th>4</th>\n      <td>111091487693675056</td>\n      <td>1.0</td>\n      <td>1447.0</td>\n      <td>1980-04-15 00:00:00</td>\n      <td>F</td>\n      <td>Française</td>\n      <td>82.0</td>\n      <td>Célibataire</td>\n    </tr>\n    <tr>\n      <th>...</th>\n      <td>...</td>\n      <td>...</td>\n      <td>...</td>\n      <td>...</td>\n      <td>...</td>\n      <td>...</td>\n      <td>...</td>\n      <td>...</td>\n    </tr>\n    <tr>\n      <th>704516</th>\n      <td>1110118856747AL010</td>\n      <td>2.1</td>\n      <td>2128.0</td>\n      <td>2018-01-01 00:00:00</td>\n      <td>M</td>\n      <td>Française</td>\n      <td>31.0</td>\n      <td>Marié (e)</td>\n    </tr>\n    <tr>\n      <th>704517</th>\n      <td>1110118874178AL010</td>\n      <td>1.8</td>\n      <td>4821.0</td>\n      <td>2018-01-01 00:00:00</td>\n      <td>F</td>\n      <td>Française</td>\n      <td>47.0</td>\n      <td>Divorcé (e)</td>\n    </tr>\n    <tr>\n      <th>704518</th>\n      <td>111011887480795219</td>\n      <td>1.0</td>\n      <td>1067.0</td>\n      <td>2018-01-01 00:00:00</td>\n      <td>M</td>\n      <td>Hors Union Européenne</td>\n      <td>43.0</td>\n      <td>Célibataire</td>\n    </tr>\n    <tr>\n      <th>704519</th>\n      <td>1110118890705AL003</td>\n      <td>1.3</td>\n      <td>1643.0</td>\n      <td>2018-01-01 00:00:00</td>\n      <td>F</td>\n      <td>Française</td>\n      <td>32.0</td>\n      <td>Célibataire</td>\n    </tr>\n    <tr>\n      <th>704520</th>\n      <td>1110118912212AL003</td>\n      <td>1.0</td>\n      <td>1186.0</td>\n      <td>2018-01-01 00:00:00</td>\n      <td>F</td>\n      <td>Française</td>\n      <td>24.0</td>\n      <td>Célibataire</td>\n    </tr>\n  </tbody>\n</table>\n<p>689524 rows × 8 columns</p>\n</div>"
     },
     "execution_count": 125,
     "metadata": {},
     "output_type": "execute_result"
    }
   ],
   "source": [
    "dfd1"
   ],
   "metadata": {
    "collapsed": false,
    "pycharm": {
     "name": "#%%\n"
    }
   }
  },
  {
   "cell_type": "markdown",
   "source": [
    "dfd1 donne désormais la base de  données filtrée. On va pouvoir déterminer les quartiles de revenus."
   ],
   "metadata": {
    "collapsed": false,
    "pycharm": {
     "name": "#%% md\n"
    }
   }
  },
  {
   "cell_type": "markdown",
   "source": [
    "#### Détermination des quartiles"
   ],
   "metadata": {
    "collapsed": false,
    "pycharm": {
     "name": "#%% md\n"
    }
   }
  },
  {
   "cell_type": "markdown",
   "source": [
    "On calcule dans un premier temps le revenu par unité de consommation."
   ],
   "metadata": {
    "collapsed": false,
    "pycharm": {
     "name": "#%% md\n"
    }
   }
  },
  {
   "cell_type": "code",
   "execution_count": 126,
   "outputs": [
    {
     "name": "stderr",
     "output_type": "stream",
     "text": [
      "C:\\Users\\arceb\\AppData\\Local\\Temp\\ipykernel_11952\\2797935456.py:3: SettingWithCopyWarning: \n",
      "A value is trying to be set on a copy of a slice from a DataFrame.\n",
      "Try using .loc[row_indexer,col_indexer] = value instead\n",
      "\n",
      "See the caveats in the documentation: https://pandas.pydata.org/pandas-docs/stable/user_guide/indexing.html#returning-a-view-versus-a-copy\n",
      "  dfd1['revenu_par_UC']=revenu/UC\n"
     ]
    },
    {
     "data": {
      "text/plain": "             Numéro Unique  Nb unités de consommation du foyer  \\\n0       175037900427000002                                 1.0   \n1       175018000669100002                                 1.0   \n2       175028000646000002                                 1.0   \n3       175028000574100002                                 1.5   \n4       111091487693675056                                 1.0   \n...                    ...                                 ...   \n704516  1110118856747AL010                                 2.1   \n704517  1110118874178AL010                                 1.8   \n704518  111011887480795219                                 1.0   \n704519  1110118890705AL003                                 1.3   \n704520  1110118912212AL003                                 1.0   \n\n        Ressources mensuelles du foyer Date création demande Sexe demandeur\\n  \\\n0                                556.0   1979-03-01 00:00:00                F   \n1                               1906.0   1980-01-15 00:00:00                F   \n2                               1446.0   1980-02-17 00:00:00                M   \n3                               2323.0   1980-02-18 00:00:00                F   \n4                               1447.0   1980-04-15 00:00:00                F   \n...                                ...                   ...              ...   \n704516                          2128.0   2018-01-01 00:00:00                M   \n704517                          4821.0   2018-01-01 00:00:00                F   \n704518                          1067.0   2018-01-01 00:00:00                M   \n704519                          1643.0   2018-01-01 00:00:00                F   \n704520                          1186.0   2018-01-01 00:00:00                F   \n\n       Nationalité demandeur\\n  Age demandeur Situation familiale  \\\n0        Hors Union Européenne           59.0           Veuf (ve)   \n1                    Française           66.0         Célibataire   \n2                    Française           80.0         Célibataire   \n3                    Française           65.0         Célibataire   \n4                    Française           82.0         Célibataire   \n...                        ...            ...                 ...   \n704516               Française           31.0           Marié (e)   \n704517               Française           47.0         Divorcé (e)   \n704518   Hors Union Européenne           43.0         Célibataire   \n704519               Française           32.0         Célibataire   \n704520               Française           24.0         Célibataire   \n\n        revenu_par_UC  \n0          556.000000  \n1         1906.000000  \n2         1446.000000  \n3         1548.666667  \n4         1447.000000  \n...               ...  \n704516    1013.333333  \n704517    2678.333333  \n704518    1067.000000  \n704519    1263.846154  \n704520    1186.000000  \n\n[689524 rows x 9 columns]",
      "text/html": "<div>\n<style scoped>\n    .dataframe tbody tr th:only-of-type {\n        vertical-align: middle;\n    }\n\n    .dataframe tbody tr th {\n        vertical-align: top;\n    }\n\n    .dataframe thead th {\n        text-align: right;\n    }\n</style>\n<table border=\"1\" class=\"dataframe\">\n  <thead>\n    <tr style=\"text-align: right;\">\n      <th></th>\n      <th>Numéro Unique</th>\n      <th>Nb unités de consommation du foyer</th>\n      <th>Ressources mensuelles du foyer</th>\n      <th>Date création demande</th>\n      <th>Sexe demandeur\\n</th>\n      <th>Nationalité demandeur\\n</th>\n      <th>Age demandeur</th>\n      <th>Situation familiale</th>\n      <th>revenu_par_UC</th>\n    </tr>\n  </thead>\n  <tbody>\n    <tr>\n      <th>0</th>\n      <td>175037900427000002</td>\n      <td>1.0</td>\n      <td>556.0</td>\n      <td>1979-03-01 00:00:00</td>\n      <td>F</td>\n      <td>Hors Union Européenne</td>\n      <td>59.0</td>\n      <td>Veuf (ve)</td>\n      <td>556.000000</td>\n    </tr>\n    <tr>\n      <th>1</th>\n      <td>175018000669100002</td>\n      <td>1.0</td>\n      <td>1906.0</td>\n      <td>1980-01-15 00:00:00</td>\n      <td>F</td>\n      <td>Française</td>\n      <td>66.0</td>\n      <td>Célibataire</td>\n      <td>1906.000000</td>\n    </tr>\n    <tr>\n      <th>2</th>\n      <td>175028000646000002</td>\n      <td>1.0</td>\n      <td>1446.0</td>\n      <td>1980-02-17 00:00:00</td>\n      <td>M</td>\n      <td>Française</td>\n      <td>80.0</td>\n      <td>Célibataire</td>\n      <td>1446.000000</td>\n    </tr>\n    <tr>\n      <th>3</th>\n      <td>175028000574100002</td>\n      <td>1.5</td>\n      <td>2323.0</td>\n      <td>1980-02-18 00:00:00</td>\n      <td>F</td>\n      <td>Française</td>\n      <td>65.0</td>\n      <td>Célibataire</td>\n      <td>1548.666667</td>\n    </tr>\n    <tr>\n      <th>4</th>\n      <td>111091487693675056</td>\n      <td>1.0</td>\n      <td>1447.0</td>\n      <td>1980-04-15 00:00:00</td>\n      <td>F</td>\n      <td>Française</td>\n      <td>82.0</td>\n      <td>Célibataire</td>\n      <td>1447.000000</td>\n    </tr>\n    <tr>\n      <th>...</th>\n      <td>...</td>\n      <td>...</td>\n      <td>...</td>\n      <td>...</td>\n      <td>...</td>\n      <td>...</td>\n      <td>...</td>\n      <td>...</td>\n      <td>...</td>\n    </tr>\n    <tr>\n      <th>704516</th>\n      <td>1110118856747AL010</td>\n      <td>2.1</td>\n      <td>2128.0</td>\n      <td>2018-01-01 00:00:00</td>\n      <td>M</td>\n      <td>Française</td>\n      <td>31.0</td>\n      <td>Marié (e)</td>\n      <td>1013.333333</td>\n    </tr>\n    <tr>\n      <th>704517</th>\n      <td>1110118874178AL010</td>\n      <td>1.8</td>\n      <td>4821.0</td>\n      <td>2018-01-01 00:00:00</td>\n      <td>F</td>\n      <td>Française</td>\n      <td>47.0</td>\n      <td>Divorcé (e)</td>\n      <td>2678.333333</td>\n    </tr>\n    <tr>\n      <th>704518</th>\n      <td>111011887480795219</td>\n      <td>1.0</td>\n      <td>1067.0</td>\n      <td>2018-01-01 00:00:00</td>\n      <td>M</td>\n      <td>Hors Union Européenne</td>\n      <td>43.0</td>\n      <td>Célibataire</td>\n      <td>1067.000000</td>\n    </tr>\n    <tr>\n      <th>704519</th>\n      <td>1110118890705AL003</td>\n      <td>1.3</td>\n      <td>1643.0</td>\n      <td>2018-01-01 00:00:00</td>\n      <td>F</td>\n      <td>Française</td>\n      <td>32.0</td>\n      <td>Célibataire</td>\n      <td>1263.846154</td>\n    </tr>\n    <tr>\n      <th>704520</th>\n      <td>1110118912212AL003</td>\n      <td>1.0</td>\n      <td>1186.0</td>\n      <td>2018-01-01 00:00:00</td>\n      <td>F</td>\n      <td>Française</td>\n      <td>24.0</td>\n      <td>Célibataire</td>\n      <td>1186.000000</td>\n    </tr>\n  </tbody>\n</table>\n<p>689524 rows × 9 columns</p>\n</div>"
     },
     "execution_count": 126,
     "metadata": {},
     "output_type": "execute_result"
    }
   ],
   "source": [
    "UC=dfd1[\"Nb unités de consommation du foyer\"]\n",
    "revenu=dfd1[\"Ressources mensuelles du foyer\"]\n",
    "dfd1['revenu_par_UC']=revenu/UC\n",
    "dfd1"
   ],
   "metadata": {
    "collapsed": false,
    "pycharm": {
     "name": "#%%\n"
    }
   }
  },
  {
   "cell_type": "markdown",
   "source": [
    "Il s'agit désormais de déterminer les quartiles."
   ],
   "metadata": {
    "collapsed": false,
    "pycharm": {
     "name": "#%% md\n"
    }
   }
  },
  {
   "cell_type": "code",
   "execution_count": 127,
   "outputs": [
    {
     "name": "stderr",
     "output_type": "stream",
     "text": [
      "C:\\Users\\arceb\\AppData\\Local\\Temp\\ipykernel_11952\\325979235.py:1: SettingWithCopyWarning: \n",
      "A value is trying to be set on a copy of a slice from a DataFrame.\n",
      "Try using .loc[row_indexer,col_indexer] = value instead\n",
      "\n",
      "See the caveats in the documentation: https://pandas.pydata.org/pandas-docs/stable/user_guide/indexing.html#returning-a-view-versus-a-copy\n",
      "  dfd1['Revenus annuels']=dfd1['revenu_par_UC']*12 #le *12 est pour le revenu annuel\n"
     ]
    }
   ],
   "source": [
    "dfd1['Revenus annuels']=dfd1['revenu_par_UC']*12 #le *12 est pour le revenu annuel"
   ],
   "metadata": {
    "collapsed": false,
    "pycharm": {
     "name": "#%%\n"
    }
   }
  },
  {
   "cell_type": "code",
   "execution_count": 128,
   "outputs": [
    {
     "data": {
      "text/plain": "0          6672.000000\n1         22872.000000\n2         17352.000000\n3         18584.000000\n4         17364.000000\n              ...     \n704516    12160.000000\n704517    32140.000000\n704518    12804.000000\n704519    15166.153846\n704520    14232.000000\nName: Revenus annuels, Length: 689524, dtype: float64"
     },
     "execution_count": 128,
     "metadata": {},
     "output_type": "execute_result"
    }
   ],
   "source": [
    "dfd1['Revenus annuels']"
   ],
   "metadata": {
    "collapsed": false,
    "pycharm": {
     "name": "#%%\n"
    }
   }
  },
  {
   "cell_type": "code",
   "execution_count": 129,
   "outputs": [
    {
     "data": {
      "text/plain": "count    689524.000000\nmean      15155.877603\nstd        7747.455110\nmin           0.000000\n25%        9732.000000\n50%       14220.000000\n75%       19200.000000\nmax      120000.000000\nName: Revenus annuels, dtype: float64"
     },
     "execution_count": 129,
     "metadata": {},
     "output_type": "execute_result"
    }
   ],
   "source": [
    "dfd1['Revenus annuels'].describe()"
   ],
   "metadata": {
    "collapsed": false,
    "pycharm": {
     "name": "#%%\n"
    }
   }
  },
  {
   "cell_type": "code",
   "execution_count": 130,
   "outputs": [
    {
     "data": {
      "text/plain": "count    689524.000000\nmean      15155.877603\nstd        7747.455110\nmin           0.000000\n20%        8880.000000\n40%       12354.285714\n50%       14220.000000\n60%       15960.000000\n80%       20560.000000\nmax      120000.000000\nName: Revenus annuels, dtype: float64"
     },
     "execution_count": 130,
     "metadata": {},
     "output_type": "execute_result"
    }
   ],
   "source": [
    "dfd1['Revenus annuels'].describe(percentiles=[.2, .4, .6, .8])#pour avoir les quintiles"
   ],
   "metadata": {
    "collapsed": false,
    "pycharm": {
     "name": "#%%\n"
    }
   }
  },
  {
   "cell_type": "markdown",
   "source": [
    "On a les quantiles de revenu annuel :\n",
    "- 20%= 8989\n",
    "- 40%= 12410\n",
    "- 60%= 14275\n",
    "- 80%= 20604\n",
    "\n",
    "A partir de ces valeurs on va déterminer dans une nouvelle colonne 5 groupes de quintiles d'appartenance des demandeurs."
   ],
   "metadata": {
    "collapsed": false,
    "pycharm": {
     "name": "#%% md\n"
    }
   }
  },
  {
   "cell_type": "code",
   "execution_count": 131,
   "outputs": [
    {
     "name": "stderr",
     "output_type": "stream",
     "text": [
      "C:\\Users\\arceb\\AppData\\Local\\Temp\\ipykernel_11952\\1676404251.py:1: SettingWithCopyWarning: \n",
      "A value is trying to be set on a copy of a slice from a DataFrame.\n",
      "Try using .loc[row_indexer,col_indexer] = value instead\n",
      "\n",
      "See the caveats in the documentation: https://pandas.pydata.org/pandas-docs/stable/user_guide/indexing.html#returning-a-view-versus-a-copy\n",
      "  dfd1['Quintile'] = \"\"\n"
     ]
    }
   ],
   "source": [
    "dfd1['Quintile'] = \"\""
   ],
   "metadata": {
    "collapsed": false,
    "pycharm": {
     "name": "#%%\n"
    }
   }
  },
  {
   "cell_type": "code",
   "execution_count": 132,
   "outputs": [
    {
     "name": "stderr",
     "output_type": "stream",
     "text": [
      "C:\\Users\\arceb\\AppData\\Local\\Temp\\ipykernel_11952\\1534071720.py:1: SettingWithCopyWarning: \n",
      "A value is trying to be set on a copy of a slice from a DataFrame.\n",
      "Try using .loc[row_indexer,col_indexer] = value instead\n",
      "\n",
      "See the caveats in the documentation: https://pandas.pydata.org/pandas-docs/stable/user_guide/indexing.html#returning-a-view-versus-a-copy\n",
      "  dfd1['Quintile']=pd.cut(dfd1['Revenus annuels'], [0,8989, 12410, 14275, 20604, 120000], labels=['Premier Quintile', 'Deuxième Quintile', 'Troisième Quintile', 'Quatrième Quintile', 'Cinquième Quintile'])\n"
     ]
    }
   ],
   "source": [
    "dfd1['Quintile']=pd.cut(dfd1['Revenus annuels'], [0,8989, 12410, 14275, 20604, 120000], labels=['Premier Quintile', 'Deuxième Quintile', 'Troisième Quintile', 'Quatrième Quintile', 'Cinquième Quintile'])"
   ],
   "metadata": {
    "collapsed": false,
    "pycharm": {
     "name": "#%%\n"
    }
   }
  },
  {
   "cell_type": "code",
   "execution_count": 133,
   "outputs": [
    {
     "data": {
      "text/plain": "             Numéro Unique  Nb unités de consommation du foyer  \\\n0       175037900427000002                                 1.0   \n1       175018000669100002                                 1.0   \n2       175028000646000002                                 1.0   \n3       175028000574100002                                 1.5   \n4       111091487693675056                                 1.0   \n...                    ...                                 ...   \n704516  1110118856747AL010                                 2.1   \n704517  1110118874178AL010                                 1.8   \n704518  111011887480795219                                 1.0   \n704519  1110118890705AL003                                 1.3   \n704520  1110118912212AL003                                 1.0   \n\n        Ressources mensuelles du foyer Date création demande Sexe demandeur\\n  \\\n0                                556.0   1979-03-01 00:00:00                F   \n1                               1906.0   1980-01-15 00:00:00                F   \n2                               1446.0   1980-02-17 00:00:00                M   \n3                               2323.0   1980-02-18 00:00:00                F   \n4                               1447.0   1980-04-15 00:00:00                F   \n...                                ...                   ...              ...   \n704516                          2128.0   2018-01-01 00:00:00                M   \n704517                          4821.0   2018-01-01 00:00:00                F   \n704518                          1067.0   2018-01-01 00:00:00                M   \n704519                          1643.0   2018-01-01 00:00:00                F   \n704520                          1186.0   2018-01-01 00:00:00                F   \n\n       Nationalité demandeur\\n  Age demandeur Situation familiale  \\\n0        Hors Union Européenne           59.0           Veuf (ve)   \n1                    Française           66.0         Célibataire   \n2                    Française           80.0         Célibataire   \n3                    Française           65.0         Célibataire   \n4                    Française           82.0         Célibataire   \n...                        ...            ...                 ...   \n704516               Française           31.0           Marié (e)   \n704517               Française           47.0         Divorcé (e)   \n704518   Hors Union Européenne           43.0         Célibataire   \n704519               Française           32.0         Célibataire   \n704520               Française           24.0         Célibataire   \n\n        revenu_par_UC  Revenus annuels            Quintile  \n0          556.000000      6672.000000    Premier Quintile  \n1         1906.000000     22872.000000  Cinquième Quintile  \n2         1446.000000     17352.000000  Quatrième Quintile  \n3         1548.666667     18584.000000  Quatrième Quintile  \n4         1447.000000     17364.000000  Quatrième Quintile  \n...               ...              ...                 ...  \n704516    1013.333333     12160.000000   Deuxième Quintile  \n704517    2678.333333     32140.000000  Cinquième Quintile  \n704518    1067.000000     12804.000000  Troisième Quintile  \n704519    1263.846154     15166.153846  Quatrième Quintile  \n704520    1186.000000     14232.000000  Troisième Quintile  \n\n[689524 rows x 11 columns]",
      "text/html": "<div>\n<style scoped>\n    .dataframe tbody tr th:only-of-type {\n        vertical-align: middle;\n    }\n\n    .dataframe tbody tr th {\n        vertical-align: top;\n    }\n\n    .dataframe thead th {\n        text-align: right;\n    }\n</style>\n<table border=\"1\" class=\"dataframe\">\n  <thead>\n    <tr style=\"text-align: right;\">\n      <th></th>\n      <th>Numéro Unique</th>\n      <th>Nb unités de consommation du foyer</th>\n      <th>Ressources mensuelles du foyer</th>\n      <th>Date création demande</th>\n      <th>Sexe demandeur\\n</th>\n      <th>Nationalité demandeur\\n</th>\n      <th>Age demandeur</th>\n      <th>Situation familiale</th>\n      <th>revenu_par_UC</th>\n      <th>Revenus annuels</th>\n      <th>Quintile</th>\n    </tr>\n  </thead>\n  <tbody>\n    <tr>\n      <th>0</th>\n      <td>175037900427000002</td>\n      <td>1.0</td>\n      <td>556.0</td>\n      <td>1979-03-01 00:00:00</td>\n      <td>F</td>\n      <td>Hors Union Européenne</td>\n      <td>59.0</td>\n      <td>Veuf (ve)</td>\n      <td>556.000000</td>\n      <td>6672.000000</td>\n      <td>Premier Quintile</td>\n    </tr>\n    <tr>\n      <th>1</th>\n      <td>175018000669100002</td>\n      <td>1.0</td>\n      <td>1906.0</td>\n      <td>1980-01-15 00:00:00</td>\n      <td>F</td>\n      <td>Française</td>\n      <td>66.0</td>\n      <td>Célibataire</td>\n      <td>1906.000000</td>\n      <td>22872.000000</td>\n      <td>Cinquième Quintile</td>\n    </tr>\n    <tr>\n      <th>2</th>\n      <td>175028000646000002</td>\n      <td>1.0</td>\n      <td>1446.0</td>\n      <td>1980-02-17 00:00:00</td>\n      <td>M</td>\n      <td>Française</td>\n      <td>80.0</td>\n      <td>Célibataire</td>\n      <td>1446.000000</td>\n      <td>17352.000000</td>\n      <td>Quatrième Quintile</td>\n    </tr>\n    <tr>\n      <th>3</th>\n      <td>175028000574100002</td>\n      <td>1.5</td>\n      <td>2323.0</td>\n      <td>1980-02-18 00:00:00</td>\n      <td>F</td>\n      <td>Française</td>\n      <td>65.0</td>\n      <td>Célibataire</td>\n      <td>1548.666667</td>\n      <td>18584.000000</td>\n      <td>Quatrième Quintile</td>\n    </tr>\n    <tr>\n      <th>4</th>\n      <td>111091487693675056</td>\n      <td>1.0</td>\n      <td>1447.0</td>\n      <td>1980-04-15 00:00:00</td>\n      <td>F</td>\n      <td>Française</td>\n      <td>82.0</td>\n      <td>Célibataire</td>\n      <td>1447.000000</td>\n      <td>17364.000000</td>\n      <td>Quatrième Quintile</td>\n    </tr>\n    <tr>\n      <th>...</th>\n      <td>...</td>\n      <td>...</td>\n      <td>...</td>\n      <td>...</td>\n      <td>...</td>\n      <td>...</td>\n      <td>...</td>\n      <td>...</td>\n      <td>...</td>\n      <td>...</td>\n      <td>...</td>\n    </tr>\n    <tr>\n      <th>704516</th>\n      <td>1110118856747AL010</td>\n      <td>2.1</td>\n      <td>2128.0</td>\n      <td>2018-01-01 00:00:00</td>\n      <td>M</td>\n      <td>Française</td>\n      <td>31.0</td>\n      <td>Marié (e)</td>\n      <td>1013.333333</td>\n      <td>12160.000000</td>\n      <td>Deuxième Quintile</td>\n    </tr>\n    <tr>\n      <th>704517</th>\n      <td>1110118874178AL010</td>\n      <td>1.8</td>\n      <td>4821.0</td>\n      <td>2018-01-01 00:00:00</td>\n      <td>F</td>\n      <td>Française</td>\n      <td>47.0</td>\n      <td>Divorcé (e)</td>\n      <td>2678.333333</td>\n      <td>32140.000000</td>\n      <td>Cinquième Quintile</td>\n    </tr>\n    <tr>\n      <th>704518</th>\n      <td>111011887480795219</td>\n      <td>1.0</td>\n      <td>1067.0</td>\n      <td>2018-01-01 00:00:00</td>\n      <td>M</td>\n      <td>Hors Union Européenne</td>\n      <td>43.0</td>\n      <td>Célibataire</td>\n      <td>1067.000000</td>\n      <td>12804.000000</td>\n      <td>Troisième Quintile</td>\n    </tr>\n    <tr>\n      <th>704519</th>\n      <td>1110118890705AL003</td>\n      <td>1.3</td>\n      <td>1643.0</td>\n      <td>2018-01-01 00:00:00</td>\n      <td>F</td>\n      <td>Française</td>\n      <td>32.0</td>\n      <td>Célibataire</td>\n      <td>1263.846154</td>\n      <td>15166.153846</td>\n      <td>Quatrième Quintile</td>\n    </tr>\n    <tr>\n      <th>704520</th>\n      <td>1110118912212AL003</td>\n      <td>1.0</td>\n      <td>1186.0</td>\n      <td>2018-01-01 00:00:00</td>\n      <td>F</td>\n      <td>Française</td>\n      <td>24.0</td>\n      <td>Célibataire</td>\n      <td>1186.000000</td>\n      <td>14232.000000</td>\n      <td>Troisième Quintile</td>\n    </tr>\n  </tbody>\n</table>\n<p>689524 rows × 11 columns</p>\n</div>"
     },
     "execution_count": 133,
     "metadata": {},
     "output_type": "execute_result"
    }
   ],
   "source": [
    "dfd1"
   ],
   "metadata": {
    "collapsed": false,
    "pycharm": {
     "name": "#%%\n"
    }
   }
  },
  {
   "cell_type": "markdown",
   "source": [
    "#### Création des tranches d'âge"
   ],
   "metadata": {
    "collapsed": false,
    "pycharm": {
     "name": "#%% md\n"
    }
   }
  },
  {
   "cell_type": "code",
   "execution_count": 135,
   "outputs": [
    {
     "name": "stderr",
     "output_type": "stream",
     "text": [
      "C:\\Users\\arceb\\AppData\\Local\\Temp\\ipykernel_11952\\2946466155.py:1: SettingWithCopyWarning: \n",
      "A value is trying to be set on a copy of a slice from a DataFrame.\n",
      "Try using .loc[row_indexer,col_indexer] = value instead\n",
      "\n",
      "See the caveats in the documentation: https://pandas.pydata.org/pandas-docs/stable/user_guide/indexing.html#returning-a-view-versus-a-copy\n",
      "  dfd1['Age'] = \"\"\n",
      "C:\\Users\\arceb\\AppData\\Local\\Temp\\ipykernel_11952\\2946466155.py:2: SettingWithCopyWarning: \n",
      "A value is trying to be set on a copy of a slice from a DataFrame.\n",
      "Try using .loc[row_indexer,col_indexer] = value instead\n",
      "\n",
      "See the caveats in the documentation: https://pandas.pydata.org/pandas-docs/stable/user_guide/indexing.html#returning-a-view-versus-a-copy\n",
      "  dfd1['Age']=pd.cut(dfd1['Age demandeur'], [0, 29, 39, 49, 59, 69, 130], labels=['0 à 29 ans', '30 à 39 ans', '40 à 49 ans', '50 à 59 ans', '60 à 69ans', '70 ans et plus'])\n"
     ]
    },
    {
     "data": {
      "text/plain": "             Numéro Unique  Nb unités de consommation du foyer  \\\n0       175037900427000002                                 1.0   \n1       175018000669100002                                 1.0   \n2       175028000646000002                                 1.0   \n3       175028000574100002                                 1.5   \n4       111091487693675056                                 1.0   \n...                    ...                                 ...   \n704516  1110118856747AL010                                 2.1   \n704517  1110118874178AL010                                 1.8   \n704518  111011887480795219                                 1.0   \n704519  1110118890705AL003                                 1.3   \n704520  1110118912212AL003                                 1.0   \n\n        Ressources mensuelles du foyer Date création demande Sexe demandeur\\n  \\\n0                                556.0   1979-03-01 00:00:00                F   \n1                               1906.0   1980-01-15 00:00:00                F   \n2                               1446.0   1980-02-17 00:00:00                M   \n3                               2323.0   1980-02-18 00:00:00                F   \n4                               1447.0   1980-04-15 00:00:00                F   \n...                                ...                   ...              ...   \n704516                          2128.0   2018-01-01 00:00:00                M   \n704517                          4821.0   2018-01-01 00:00:00                F   \n704518                          1067.0   2018-01-01 00:00:00                M   \n704519                          1643.0   2018-01-01 00:00:00                F   \n704520                          1186.0   2018-01-01 00:00:00                F   \n\n       Nationalité demandeur\\n  Age demandeur Situation familiale  \\\n0        Hors Union Européenne           59.0           Veuf (ve)   \n1                    Française           66.0         Célibataire   \n2                    Française           80.0         Célibataire   \n3                    Française           65.0         Célibataire   \n4                    Française           82.0         Célibataire   \n...                        ...            ...                 ...   \n704516               Française           31.0           Marié (e)   \n704517               Française           47.0         Divorcé (e)   \n704518   Hors Union Européenne           43.0         Célibataire   \n704519               Française           32.0         Célibataire   \n704520               Française           24.0         Célibataire   \n\n        revenu_par_UC  Revenus annuels            Quintile             Age  \n0          556.000000      6672.000000    Premier Quintile     50 à 59 ans  \n1         1906.000000     22872.000000  Cinquième Quintile      60 à 69ans  \n2         1446.000000     17352.000000  Quatrième Quintile  70 ans et plus  \n3         1548.666667     18584.000000  Quatrième Quintile      60 à 69ans  \n4         1447.000000     17364.000000  Quatrième Quintile  70 ans et plus  \n...               ...              ...                 ...             ...  \n704516    1013.333333     12160.000000   Deuxième Quintile     30 à 39 ans  \n704517    2678.333333     32140.000000  Cinquième Quintile     40 à 49 ans  \n704518    1067.000000     12804.000000  Troisième Quintile     40 à 49 ans  \n704519    1263.846154     15166.153846  Quatrième Quintile     30 à 39 ans  \n704520    1186.000000     14232.000000  Troisième Quintile      0 à 29 ans  \n\n[689524 rows x 12 columns]",
      "text/html": "<div>\n<style scoped>\n    .dataframe tbody tr th:only-of-type {\n        vertical-align: middle;\n    }\n\n    .dataframe tbody tr th {\n        vertical-align: top;\n    }\n\n    .dataframe thead th {\n        text-align: right;\n    }\n</style>\n<table border=\"1\" class=\"dataframe\">\n  <thead>\n    <tr style=\"text-align: right;\">\n      <th></th>\n      <th>Numéro Unique</th>\n      <th>Nb unités de consommation du foyer</th>\n      <th>Ressources mensuelles du foyer</th>\n      <th>Date création demande</th>\n      <th>Sexe demandeur\\n</th>\n      <th>Nationalité demandeur\\n</th>\n      <th>Age demandeur</th>\n      <th>Situation familiale</th>\n      <th>revenu_par_UC</th>\n      <th>Revenus annuels</th>\n      <th>Quintile</th>\n      <th>Age</th>\n    </tr>\n  </thead>\n  <tbody>\n    <tr>\n      <th>0</th>\n      <td>175037900427000002</td>\n      <td>1.0</td>\n      <td>556.0</td>\n      <td>1979-03-01 00:00:00</td>\n      <td>F</td>\n      <td>Hors Union Européenne</td>\n      <td>59.0</td>\n      <td>Veuf (ve)</td>\n      <td>556.000000</td>\n      <td>6672.000000</td>\n      <td>Premier Quintile</td>\n      <td>50 à 59 ans</td>\n    </tr>\n    <tr>\n      <th>1</th>\n      <td>175018000669100002</td>\n      <td>1.0</td>\n      <td>1906.0</td>\n      <td>1980-01-15 00:00:00</td>\n      <td>F</td>\n      <td>Française</td>\n      <td>66.0</td>\n      <td>Célibataire</td>\n      <td>1906.000000</td>\n      <td>22872.000000</td>\n      <td>Cinquième Quintile</td>\n      <td>60 à 69ans</td>\n    </tr>\n    <tr>\n      <th>2</th>\n      <td>175028000646000002</td>\n      <td>1.0</td>\n      <td>1446.0</td>\n      <td>1980-02-17 00:00:00</td>\n      <td>M</td>\n      <td>Française</td>\n      <td>80.0</td>\n      <td>Célibataire</td>\n      <td>1446.000000</td>\n      <td>17352.000000</td>\n      <td>Quatrième Quintile</td>\n      <td>70 ans et plus</td>\n    </tr>\n    <tr>\n      <th>3</th>\n      <td>175028000574100002</td>\n      <td>1.5</td>\n      <td>2323.0</td>\n      <td>1980-02-18 00:00:00</td>\n      <td>F</td>\n      <td>Française</td>\n      <td>65.0</td>\n      <td>Célibataire</td>\n      <td>1548.666667</td>\n      <td>18584.000000</td>\n      <td>Quatrième Quintile</td>\n      <td>60 à 69ans</td>\n    </tr>\n    <tr>\n      <th>4</th>\n      <td>111091487693675056</td>\n      <td>1.0</td>\n      <td>1447.0</td>\n      <td>1980-04-15 00:00:00</td>\n      <td>F</td>\n      <td>Française</td>\n      <td>82.0</td>\n      <td>Célibataire</td>\n      <td>1447.000000</td>\n      <td>17364.000000</td>\n      <td>Quatrième Quintile</td>\n      <td>70 ans et plus</td>\n    </tr>\n    <tr>\n      <th>...</th>\n      <td>...</td>\n      <td>...</td>\n      <td>...</td>\n      <td>...</td>\n      <td>...</td>\n      <td>...</td>\n      <td>...</td>\n      <td>...</td>\n      <td>...</td>\n      <td>...</td>\n      <td>...</td>\n      <td>...</td>\n    </tr>\n    <tr>\n      <th>704516</th>\n      <td>1110118856747AL010</td>\n      <td>2.1</td>\n      <td>2128.0</td>\n      <td>2018-01-01 00:00:00</td>\n      <td>M</td>\n      <td>Française</td>\n      <td>31.0</td>\n      <td>Marié (e)</td>\n      <td>1013.333333</td>\n      <td>12160.000000</td>\n      <td>Deuxième Quintile</td>\n      <td>30 à 39 ans</td>\n    </tr>\n    <tr>\n      <th>704517</th>\n      <td>1110118874178AL010</td>\n      <td>1.8</td>\n      <td>4821.0</td>\n      <td>2018-01-01 00:00:00</td>\n      <td>F</td>\n      <td>Française</td>\n      <td>47.0</td>\n      <td>Divorcé (e)</td>\n      <td>2678.333333</td>\n      <td>32140.000000</td>\n      <td>Cinquième Quintile</td>\n      <td>40 à 49 ans</td>\n    </tr>\n    <tr>\n      <th>704518</th>\n      <td>111011887480795219</td>\n      <td>1.0</td>\n      <td>1067.0</td>\n      <td>2018-01-01 00:00:00</td>\n      <td>M</td>\n      <td>Hors Union Européenne</td>\n      <td>43.0</td>\n      <td>Célibataire</td>\n      <td>1067.000000</td>\n      <td>12804.000000</td>\n      <td>Troisième Quintile</td>\n      <td>40 à 49 ans</td>\n    </tr>\n    <tr>\n      <th>704519</th>\n      <td>1110118890705AL003</td>\n      <td>1.3</td>\n      <td>1643.0</td>\n      <td>2018-01-01 00:00:00</td>\n      <td>F</td>\n      <td>Française</td>\n      <td>32.0</td>\n      <td>Célibataire</td>\n      <td>1263.846154</td>\n      <td>15166.153846</td>\n      <td>Quatrième Quintile</td>\n      <td>30 à 39 ans</td>\n    </tr>\n    <tr>\n      <th>704520</th>\n      <td>1110118912212AL003</td>\n      <td>1.0</td>\n      <td>1186.0</td>\n      <td>2018-01-01 00:00:00</td>\n      <td>F</td>\n      <td>Française</td>\n      <td>24.0</td>\n      <td>Célibataire</td>\n      <td>1186.000000</td>\n      <td>14232.000000</td>\n      <td>Troisième Quintile</td>\n      <td>0 à 29 ans</td>\n    </tr>\n  </tbody>\n</table>\n<p>689524 rows × 12 columns</p>\n</div>"
     },
     "execution_count": 135,
     "metadata": {},
     "output_type": "execute_result"
    }
   ],
   "source": [
    "dfd1['Age'] = \"\"\n",
    "dfd1['Age']=pd.cut(dfd1['Age demandeur'], [0, 29, 39, 49, 59, 69, 130], labels=['0 à 29 ans', '30 à 39 ans', '40 à 49 ans', '50 à 59 ans', '60 à 69ans', '70 ans et plus'])\n",
    "dfd1"
   ],
   "metadata": {
    "collapsed": false,
    "pycharm": {
     "name": "#%%\n"
    }
   }
  },
  {
   "cell_type": "markdown",
   "source": [
    "#### Travail sur le taux d'attente\n",
    "\n",
    "Pour travailler sur le taux d'attente, on va fusionner à notre base de données des demandeurs filtrée à la base attributaires et calculer les taux d'attente des personnes attributaires dans l'année en fonction de la date de leur demande et de la date de leur acceptation."
   ],
   "metadata": {
    "collapsed": false,
    "pycharm": {
     "name": "#%% md\n"
    }
   }
  },
  {
   "cell_type": "code",
   "execution_count": 73,
   "outputs": [
    {
     "name": "stderr",
     "output_type": "stream",
     "text": [
      "C:\\Users\\arceb\\AppData\\Local\\Temp\\ipykernel_11952\\988554171.py:1: DtypeWarning: Columns (7,8,25) have mixed types. Specify dtype option on import or set low_memory=False.\n",
      "  dfa = pd.read_csv(r'C:\\Users\\arceb\\Desktop\\Stage\\BDD/attributaires_IDF.csv')\n"
     ]
    }
   ],
   "source": [
    "dfa = pd.read_csv(r'C:\\Users\\arceb\\Desktop\\Stage\\BDD/attributaires_IDF.csv')"
   ],
   "metadata": {
    "collapsed": false,
    "pycharm": {
     "name": "#%%\n"
    }
   }
  },
  {
   "cell_type": "code",
   "execution_count": 137,
   "outputs": [
    {
     "data": {
      "text/plain": "        Unnamed: 0         région       Numéro Unique Date création demande  \\\n0                0  Ile-de-France  175037900427000002   1979-03-01 00:00:00   \n1                1  Ile-de-France  175118000728300002   1980-11-14 00:00:00   \n2                2  Ile-de-France  211048217550092024   1982-04-01 00:00:00   \n3                3  Ile-de-France  175108301617300002   1983-10-17 00:00:00   \n4                4  Ile-de-France  175128420982700002   1984-12-01 00:00:00   \n...            ...            ...                 ...                   ...   \n153709      153709  Ile-de-France  1111218129847GDPUB   2018-12-19 00:00:00   \n153710      153710  Ile-de-France  111121812788778498   2018-12-20 00:00:00   \n153711      153711  Ile-de-France  111121812792310122   2018-12-20 00:00:00   \n153712      153712  Ile-de-France  111121813038177438   2018-12-21 00:00:00   \n153713      153713  Ile-de-France  111121813209910389   2018-12-28 00:00:00   \n\n       Date de la radiation  Age demandeur Situation familiale  \\\n0       2018-04-13 00:00:00             59           Veuf (ve)   \n1       2018-06-04 00:00:00             72           Veuf (ve)   \n2       2018-11-27 00:00:00             91         Divorcé (e)   \n3       2018-10-30 00:00:00             64         Célibataire   \n4       2018-04-10 00:00:00             57         Célibataire   \n...                     ...            ...                 ...   \n153709  2019-01-01 00:00:00             70           Marié (e)   \n153710  2018-12-21 00:00:00             51         Célibataire   \n153711  2018-12-28 00:00:00             86           Veuf (ve)   \n153712  2018-12-31 00:00:00             48        Concubin (e)   \n153713  2018-12-31 00:00:00             28        Concubin (e)   \n\n       Code département logement actuel Code INSEE logt actuel  \\\n0                                    75                75112.0   \n1                                    75                75117.0   \n2                                    92                92024.0   \n3                                    75                75111.0   \n4                                    75                75119.0   \n...                                 ...                    ...   \n153709                               78                78440.0   \n153710                               78                78498.0   \n153711                               78                78440.0   \n153712                               77                77438.0   \n153713                               91                91228.0   \n\n               Commune logt actuel  ...  Code de la commune attribuée  \\\n0       Paris 12ème arrondissement  ...                         75120   \n1       Paris 17ème arrondissement  ...                         75117   \n2                           Clichy  ...                         92024   \n3       Paris 11ème arrondissement  ...                         75119   \n4       Paris 19ème arrondissement  ...                         75120   \n...                            ...  ...                           ...   \n153709                 Les Mureaux  ...                         78361   \n153710                      Poissy  ...                         78498   \n153711                 Les Mureaux  ...                         78314   \n153712   Saint-Thibault-des-Vignes  ...                         77243   \n153713                        Évry  ...                         91174   \n\n       Région du logement attribué Type du logement attribué Est en QPV  \\\n0                    Ile-de-France                        T1        Oui   \n1                    Ile-de-France                        T2        Non   \n2                    Ile-de-France                        T1        Non   \n3                    Ile-de-France                        T2        Non   \n4                    Ile-de-France                        T2        Non   \n...                            ...                       ...        ...   \n153709               Ile-de-France                        T2        Oui   \n153710               Ile-de-France                        T2        Oui   \n153711               Ile-de-France                        T2        Non   \n153712               Ile-de-France                        T3        Non   \n153713               Ile-de-France                        T2        Oui   \n\n        Surface du logement attribué    Statut DALO  \\\n0                                 20   Actif relogé   \n1                                 44   Actif relogé   \n2                                 35  Non renseigné   \n3                                 55  Non renseigné   \n4                                 53  Non renseigné   \n...                              ...            ...   \n153709                            47  Non renseigné   \n153710                            46  Non renseigné   \n153711                            53  Non renseigné   \n153712                            63  Non renseigné   \n153713                            50  Non renseigné   \n\n        Date de la décision DALO\\n\\n Accompagnement social Diagnostic social  \\\n0                2012-06-15 00:00:00                   Non               Non   \n1                2013-07-12 00:00:00                   Non               Non   \n2                                NaN                   Non               Non   \n3                                NaN                   Non               Non   \n4                                NaN                   Non               Non   \n...                              ...                   ...               ...   \n153709                           NaN                   Non               Non   \n153710                           NaN                   Non               Non   \n153711                           NaN                   Non               Non   \n153712                           NaN                   Non               Non   \n153713                           NaN                   Non               Non   \n\n                                             Réservataire  \n0       Contingent des collectivités territoriales, de...  \n1                         Contingent autres réservataires  \n2       Contingent des collectivités territoriales, de...  \n3                                         Hors contingent  \n4       Contingent des collectivités territoriales, de...  \n...                                                   ...  \n153709                    Contingent autres réservataires  \n153710                                 Contingent commune  \n153711                                    Hors contingent  \n153712                             Contingent département  \n153713  Contingent préfet prioritaires (hors fonctionn...  \n\n[153714 rows x 39 columns]",
      "text/html": "<div>\n<style scoped>\n    .dataframe tbody tr th:only-of-type {\n        vertical-align: middle;\n    }\n\n    .dataframe tbody tr th {\n        vertical-align: top;\n    }\n\n    .dataframe thead th {\n        text-align: right;\n    }\n</style>\n<table border=\"1\" class=\"dataframe\">\n  <thead>\n    <tr style=\"text-align: right;\">\n      <th></th>\n      <th>Unnamed: 0</th>\n      <th>région</th>\n      <th>Numéro Unique</th>\n      <th>Date création demande</th>\n      <th>Date de la radiation</th>\n      <th>Age demandeur</th>\n      <th>Situation familiale</th>\n      <th>Code département logement actuel</th>\n      <th>Code INSEE logt actuel</th>\n      <th>Commune logt actuel</th>\n      <th>...</th>\n      <th>Code de la commune attribuée</th>\n      <th>Région du logement attribué</th>\n      <th>Type du logement attribué</th>\n      <th>Est en QPV</th>\n      <th>Surface du logement attribué</th>\n      <th>Statut DALO</th>\n      <th>Date de la décision DALO\\n\\n</th>\n      <th>Accompagnement social</th>\n      <th>Diagnostic social</th>\n      <th>Réservataire</th>\n    </tr>\n  </thead>\n  <tbody>\n    <tr>\n      <th>0</th>\n      <td>0</td>\n      <td>Ile-de-France</td>\n      <td>175037900427000002</td>\n      <td>1979-03-01 00:00:00</td>\n      <td>2018-04-13 00:00:00</td>\n      <td>59</td>\n      <td>Veuf (ve)</td>\n      <td>75</td>\n      <td>75112.0</td>\n      <td>Paris 12ème arrondissement</td>\n      <td>...</td>\n      <td>75120</td>\n      <td>Ile-de-France</td>\n      <td>T1</td>\n      <td>Oui</td>\n      <td>20</td>\n      <td>Actif relogé</td>\n      <td>2012-06-15 00:00:00</td>\n      <td>Non</td>\n      <td>Non</td>\n      <td>Contingent des collectivités territoriales, de...</td>\n    </tr>\n    <tr>\n      <th>1</th>\n      <td>1</td>\n      <td>Ile-de-France</td>\n      <td>175118000728300002</td>\n      <td>1980-11-14 00:00:00</td>\n      <td>2018-06-04 00:00:00</td>\n      <td>72</td>\n      <td>Veuf (ve)</td>\n      <td>75</td>\n      <td>75117.0</td>\n      <td>Paris 17ème arrondissement</td>\n      <td>...</td>\n      <td>75117</td>\n      <td>Ile-de-France</td>\n      <td>T2</td>\n      <td>Non</td>\n      <td>44</td>\n      <td>Actif relogé</td>\n      <td>2013-07-12 00:00:00</td>\n      <td>Non</td>\n      <td>Non</td>\n      <td>Contingent autres réservataires</td>\n    </tr>\n    <tr>\n      <th>2</th>\n      <td>2</td>\n      <td>Ile-de-France</td>\n      <td>211048217550092024</td>\n      <td>1982-04-01 00:00:00</td>\n      <td>2018-11-27 00:00:00</td>\n      <td>91</td>\n      <td>Divorcé (e)</td>\n      <td>92</td>\n      <td>92024.0</td>\n      <td>Clichy</td>\n      <td>...</td>\n      <td>92024</td>\n      <td>Ile-de-France</td>\n      <td>T1</td>\n      <td>Non</td>\n      <td>35</td>\n      <td>Non renseigné</td>\n      <td>NaN</td>\n      <td>Non</td>\n      <td>Non</td>\n      <td>Contingent des collectivités territoriales, de...</td>\n    </tr>\n    <tr>\n      <th>3</th>\n      <td>3</td>\n      <td>Ile-de-France</td>\n      <td>175108301617300002</td>\n      <td>1983-10-17 00:00:00</td>\n      <td>2018-10-30 00:00:00</td>\n      <td>64</td>\n      <td>Célibataire</td>\n      <td>75</td>\n      <td>75111.0</td>\n      <td>Paris 11ème arrondissement</td>\n      <td>...</td>\n      <td>75119</td>\n      <td>Ile-de-France</td>\n      <td>T2</td>\n      <td>Non</td>\n      <td>55</td>\n      <td>Non renseigné</td>\n      <td>NaN</td>\n      <td>Non</td>\n      <td>Non</td>\n      <td>Hors contingent</td>\n    </tr>\n    <tr>\n      <th>4</th>\n      <td>4</td>\n      <td>Ile-de-France</td>\n      <td>175128420982700002</td>\n      <td>1984-12-01 00:00:00</td>\n      <td>2018-04-10 00:00:00</td>\n      <td>57</td>\n      <td>Célibataire</td>\n      <td>75</td>\n      <td>75119.0</td>\n      <td>Paris 19ème arrondissement</td>\n      <td>...</td>\n      <td>75120</td>\n      <td>Ile-de-France</td>\n      <td>T2</td>\n      <td>Non</td>\n      <td>53</td>\n      <td>Non renseigné</td>\n      <td>NaN</td>\n      <td>Non</td>\n      <td>Non</td>\n      <td>Contingent des collectivités territoriales, de...</td>\n    </tr>\n    <tr>\n      <th>...</th>\n      <td>...</td>\n      <td>...</td>\n      <td>...</td>\n      <td>...</td>\n      <td>...</td>\n      <td>...</td>\n      <td>...</td>\n      <td>...</td>\n      <td>...</td>\n      <td>...</td>\n      <td>...</td>\n      <td>...</td>\n      <td>...</td>\n      <td>...</td>\n      <td>...</td>\n      <td>...</td>\n      <td>...</td>\n      <td>...</td>\n      <td>...</td>\n      <td>...</td>\n      <td>...</td>\n    </tr>\n    <tr>\n      <th>153709</th>\n      <td>153709</td>\n      <td>Ile-de-France</td>\n      <td>1111218129847GDPUB</td>\n      <td>2018-12-19 00:00:00</td>\n      <td>2019-01-01 00:00:00</td>\n      <td>70</td>\n      <td>Marié (e)</td>\n      <td>78</td>\n      <td>78440.0</td>\n      <td>Les Mureaux</td>\n      <td>...</td>\n      <td>78361</td>\n      <td>Ile-de-France</td>\n      <td>T2</td>\n      <td>Oui</td>\n      <td>47</td>\n      <td>Non renseigné</td>\n      <td>NaN</td>\n      <td>Non</td>\n      <td>Non</td>\n      <td>Contingent autres réservataires</td>\n    </tr>\n    <tr>\n      <th>153710</th>\n      <td>153710</td>\n      <td>Ile-de-France</td>\n      <td>111121812788778498</td>\n      <td>2018-12-20 00:00:00</td>\n      <td>2018-12-21 00:00:00</td>\n      <td>51</td>\n      <td>Célibataire</td>\n      <td>78</td>\n      <td>78498.0</td>\n      <td>Poissy</td>\n      <td>...</td>\n      <td>78498</td>\n      <td>Ile-de-France</td>\n      <td>T2</td>\n      <td>Oui</td>\n      <td>46</td>\n      <td>Non renseigné</td>\n      <td>NaN</td>\n      <td>Non</td>\n      <td>Non</td>\n      <td>Contingent commune</td>\n    </tr>\n    <tr>\n      <th>153711</th>\n      <td>153711</td>\n      <td>Ile-de-France</td>\n      <td>111121812792310122</td>\n      <td>2018-12-20 00:00:00</td>\n      <td>2018-12-28 00:00:00</td>\n      <td>86</td>\n      <td>Veuf (ve)</td>\n      <td>78</td>\n      <td>78440.0</td>\n      <td>Les Mureaux</td>\n      <td>...</td>\n      <td>78314</td>\n      <td>Ile-de-France</td>\n      <td>T2</td>\n      <td>Non</td>\n      <td>53</td>\n      <td>Non renseigné</td>\n      <td>NaN</td>\n      <td>Non</td>\n      <td>Non</td>\n      <td>Hors contingent</td>\n    </tr>\n    <tr>\n      <th>153712</th>\n      <td>153712</td>\n      <td>Ile-de-France</td>\n      <td>111121813038177438</td>\n      <td>2018-12-21 00:00:00</td>\n      <td>2018-12-31 00:00:00</td>\n      <td>48</td>\n      <td>Concubin (e)</td>\n      <td>77</td>\n      <td>77438.0</td>\n      <td>Saint-Thibault-des-Vignes</td>\n      <td>...</td>\n      <td>77243</td>\n      <td>Ile-de-France</td>\n      <td>T3</td>\n      <td>Non</td>\n      <td>63</td>\n      <td>Non renseigné</td>\n      <td>NaN</td>\n      <td>Non</td>\n      <td>Non</td>\n      <td>Contingent département</td>\n    </tr>\n    <tr>\n      <th>153713</th>\n      <td>153713</td>\n      <td>Ile-de-France</td>\n      <td>111121813209910389</td>\n      <td>2018-12-28 00:00:00</td>\n      <td>2018-12-31 00:00:00</td>\n      <td>28</td>\n      <td>Concubin (e)</td>\n      <td>91</td>\n      <td>91228.0</td>\n      <td>Évry</td>\n      <td>...</td>\n      <td>91174</td>\n      <td>Ile-de-France</td>\n      <td>T2</td>\n      <td>Oui</td>\n      <td>50</td>\n      <td>Non renseigné</td>\n      <td>NaN</td>\n      <td>Non</td>\n      <td>Non</td>\n      <td>Contingent préfet prioritaires (hors fonctionn...</td>\n    </tr>\n  </tbody>\n</table>\n<p>153714 rows × 39 columns</p>\n</div>"
     },
     "execution_count": 137,
     "metadata": {},
     "output_type": "execute_result"
    }
   ],
   "source": [
    "dfa"
   ],
   "metadata": {
    "collapsed": false,
    "pycharm": {
     "name": "#%%\n"
    }
   }
  },
  {
   "cell_type": "code",
   "execution_count": 138,
   "outputs": [
    {
     "data": {
      "text/plain": "             Numéro Unique                        Composition foyer demandeur  \\\n0       175037900427000002                                     Personne seule   \n1       175118000728300002                                     Personne seule   \n2       211048217550092024                                     Personne seule   \n3       175108301617300002                            Au moins 2 cotitulaires   \n4       175128420982700002                                     Personne seule   \n...                    ...                                                ...   \n153709  1111218129847GDPUB                            Au moins 2 cotitulaires   \n153710  111121812788778498                                     Personne seule   \n153711  111121812792310122                                     Personne seule   \n153712  111121813038177438  Au moins 2 cotitulaires avec 2 personnes à charge   \n153713  111121813209910389  Au moins 2 cotitulaires avec une personne à ch...   \n\n       Situation professionnelle demandeur Type du logement attribué  \\\n0                                 Retraité                        T1   \n1                                 Retraité                        T2   \n2                                 Retraité                        T1   \n3                                 Retraité                        T2   \n4                   CDI (ou fonctionnaire)                        T2   \n...                                    ...                       ...   \n153709                            Retraité                        T2   \n153710                               Autre                        T2   \n153711                            Retraité                        T2   \n153712                                 CDI                        T3   \n153713                                 CDI                        T2   \n\n          Statut DALO  \n0        Actif relogé  \n1        Actif relogé  \n2       Non renseigné  \n3       Non renseigné  \n4       Non renseigné  \n...               ...  \n153709  Non renseigné  \n153710  Non renseigné  \n153711  Non renseigné  \n153712  Non renseigné  \n153713  Non renseigné  \n\n[153714 rows x 5 columns]",
      "text/html": "<div>\n<style scoped>\n    .dataframe tbody tr th:only-of-type {\n        vertical-align: middle;\n    }\n\n    .dataframe tbody tr th {\n        vertical-align: top;\n    }\n\n    .dataframe thead th {\n        text-align: right;\n    }\n</style>\n<table border=\"1\" class=\"dataframe\">\n  <thead>\n    <tr style=\"text-align: right;\">\n      <th></th>\n      <th>Numéro Unique</th>\n      <th>Composition foyer demandeur</th>\n      <th>Situation professionnelle demandeur</th>\n      <th>Type du logement attribué</th>\n      <th>Statut DALO</th>\n    </tr>\n  </thead>\n  <tbody>\n    <tr>\n      <th>0</th>\n      <td>175037900427000002</td>\n      <td>Personne seule</td>\n      <td>Retraité</td>\n      <td>T1</td>\n      <td>Actif relogé</td>\n    </tr>\n    <tr>\n      <th>1</th>\n      <td>175118000728300002</td>\n      <td>Personne seule</td>\n      <td>Retraité</td>\n      <td>T2</td>\n      <td>Actif relogé</td>\n    </tr>\n    <tr>\n      <th>2</th>\n      <td>211048217550092024</td>\n      <td>Personne seule</td>\n      <td>Retraité</td>\n      <td>T1</td>\n      <td>Non renseigné</td>\n    </tr>\n    <tr>\n      <th>3</th>\n      <td>175108301617300002</td>\n      <td>Au moins 2 cotitulaires</td>\n      <td>Retraité</td>\n      <td>T2</td>\n      <td>Non renseigné</td>\n    </tr>\n    <tr>\n      <th>4</th>\n      <td>175128420982700002</td>\n      <td>Personne seule</td>\n      <td>CDI (ou fonctionnaire)</td>\n      <td>T2</td>\n      <td>Non renseigné</td>\n    </tr>\n    <tr>\n      <th>...</th>\n      <td>...</td>\n      <td>...</td>\n      <td>...</td>\n      <td>...</td>\n      <td>...</td>\n    </tr>\n    <tr>\n      <th>153709</th>\n      <td>1111218129847GDPUB</td>\n      <td>Au moins 2 cotitulaires</td>\n      <td>Retraité</td>\n      <td>T2</td>\n      <td>Non renseigné</td>\n    </tr>\n    <tr>\n      <th>153710</th>\n      <td>111121812788778498</td>\n      <td>Personne seule</td>\n      <td>Autre</td>\n      <td>T2</td>\n      <td>Non renseigné</td>\n    </tr>\n    <tr>\n      <th>153711</th>\n      <td>111121812792310122</td>\n      <td>Personne seule</td>\n      <td>Retraité</td>\n      <td>T2</td>\n      <td>Non renseigné</td>\n    </tr>\n    <tr>\n      <th>153712</th>\n      <td>111121813038177438</td>\n      <td>Au moins 2 cotitulaires avec 2 personnes à charge</td>\n      <td>CDI</td>\n      <td>T3</td>\n      <td>Non renseigné</td>\n    </tr>\n    <tr>\n      <th>153713</th>\n      <td>111121813209910389</td>\n      <td>Au moins 2 cotitulaires avec une personne à ch...</td>\n      <td>CDI</td>\n      <td>T2</td>\n      <td>Non renseigné</td>\n    </tr>\n  </tbody>\n</table>\n<p>153714 rows × 5 columns</p>\n</div>"
     },
     "execution_count": 138,
     "metadata": {},
     "output_type": "execute_result"
    }
   ],
   "source": [
    "dfa1=dfa[[ \"Numéro Unique\", \"Composition foyer demandeur\", \"Situation professionnelle demandeur\", \"Type du logement attribué\", \"Statut DALO\"]]\n",
    "dfa1"
   ],
   "metadata": {
    "collapsed": false,
    "pycharm": {
     "name": "#%%\n"
    }
   }
  },
  {
   "cell_type": "code",
   "execution_count": 139,
   "outputs": [
    {
     "data": {
      "text/plain": "            Numéro Unique  Nb unités de consommation du foyer  \\\n0      175037900427000002                                 1.0   \n1      175118000728300002                                 1.0   \n2      175108301617300002                                 1.5   \n3      175128420982700002                                 1.0   \n4      175058909634800002                                 1.0   \n...                   ...                                 ...   \n60238  1111217905754AL003                                 1.0   \n60239  1111217849606GDPUB                                 1.0   \n60240  1111217849858GDPUB                                 1.0   \n60241  1110118850370GDPUB                                 1.0   \n60242  1110118850622GDPUB                                 1.0   \n\n       Ressources mensuelles du foyer Date création demande Sexe demandeur\\n  \\\n0                               556.0   1979-03-01 00:00:00                F   \n1                              1763.0   1980-11-14 00:00:00                F   \n2                              3535.0   1983-10-17 00:00:00                F   \n3                              3144.0   1984-12-01 00:00:00                F   \n4                               765.0   1989-05-16 00:00:00                M   \n...                               ...                   ...              ...   \n60238                          3072.0   2017-12-28 00:00:00                M   \n60239                          1774.0   2017-12-29 00:00:00                F   \n60240                          2143.0   2017-12-29 00:00:00                F   \n60241                          1190.0   2018-01-01 00:00:00                M   \n60242                          1800.0   2018-01-01 00:00:00                F   \n\n      Nationalité demandeur\\n  Age demandeur Situation familiale  \\\n0       Hors Union Européenne           59.0           Veuf (ve)   \n1                   Française           72.0           Veuf (ve)   \n2                   Française           64.0         Célibataire   \n3                   Française           57.0         Célibataire   \n4                   Française           69.0         Célibataire   \n...                       ...            ...                 ...   \n60238               Française           28.0         Célibataire   \n60239               Française           37.0         Divorcé (e)   \n60240   Hors Union Européenne           28.0         Célibataire   \n60241   Hors Union Européenne           36.0         Célibataire   \n60242               Française           26.0         Célibataire   \n\n       revenu_par_UC  Revenus annuels            Quintile             Age  \\\n0         556.000000           6672.0    Premier Quintile     50 à 59 ans   \n1        1763.000000          21156.0  Cinquième Quintile  70 ans et plus   \n2        2356.666667          28280.0  Cinquième Quintile      60 à 69ans   \n3        3144.000000          37728.0  Cinquième Quintile     50 à 59 ans   \n4         765.000000           9180.0   Deuxième Quintile      60 à 69ans   \n...              ...              ...                 ...             ...   \n60238    3072.000000          36864.0  Cinquième Quintile      0 à 29 ans   \n60239    1774.000000          21288.0  Cinquième Quintile     30 à 39 ans   \n60240    2143.000000          25716.0  Cinquième Quintile      0 à 29 ans   \n60241    1190.000000          14280.0  Quatrième Quintile     30 à 39 ans   \n60242    1800.000000          21600.0  Cinquième Quintile      0 à 29 ans   \n\n      Composition foyer demandeur Situation professionnelle demandeur  \\\n0                  Personne seule                            Retraité   \n1                  Personne seule                            Retraité   \n2         Au moins 2 cotitulaires                            Retraité   \n3                  Personne seule              CDI (ou fonctionnaire)   \n4                  Personne seule                            Retraité   \n...                           ...                                 ...   \n60238              Personne seule                  CDD,Stage, intérim   \n60239              Personne seule                                 CDI   \n60240              Personne seule                                 CDI   \n60241              Personne seule                  CDD,Stage, intérim   \n60242              Personne seule                  CDD,Stage, intérim   \n\n      Type du logement attribué    Statut DALO  \n0                            T1   Actif relogé  \n1                            T2   Actif relogé  \n2                            T2  Non renseigné  \n3                            T2  Non renseigné  \n4                            T2   Actif relogé  \n...                         ...            ...  \n60238                        T2  Non renseigné  \n60239                        T2  Non renseigné  \n60240                        T2  Non renseigné  \n60241                        T1  Non renseigné  \n60242                        T2  Non renseigné  \n\n[60243 rows x 16 columns]",
      "text/html": "<div>\n<style scoped>\n    .dataframe tbody tr th:only-of-type {\n        vertical-align: middle;\n    }\n\n    .dataframe tbody tr th {\n        vertical-align: top;\n    }\n\n    .dataframe thead th {\n        text-align: right;\n    }\n</style>\n<table border=\"1\" class=\"dataframe\">\n  <thead>\n    <tr style=\"text-align: right;\">\n      <th></th>\n      <th>Numéro Unique</th>\n      <th>Nb unités de consommation du foyer</th>\n      <th>Ressources mensuelles du foyer</th>\n      <th>Date création demande</th>\n      <th>Sexe demandeur\\n</th>\n      <th>Nationalité demandeur\\n</th>\n      <th>Age demandeur</th>\n      <th>Situation familiale</th>\n      <th>revenu_par_UC</th>\n      <th>Revenus annuels</th>\n      <th>Quintile</th>\n      <th>Age</th>\n      <th>Composition foyer demandeur</th>\n      <th>Situation professionnelle demandeur</th>\n      <th>Type du logement attribué</th>\n      <th>Statut DALO</th>\n    </tr>\n  </thead>\n  <tbody>\n    <tr>\n      <th>0</th>\n      <td>175037900427000002</td>\n      <td>1.0</td>\n      <td>556.0</td>\n      <td>1979-03-01 00:00:00</td>\n      <td>F</td>\n      <td>Hors Union Européenne</td>\n      <td>59.0</td>\n      <td>Veuf (ve)</td>\n      <td>556.000000</td>\n      <td>6672.0</td>\n      <td>Premier Quintile</td>\n      <td>50 à 59 ans</td>\n      <td>Personne seule</td>\n      <td>Retraité</td>\n      <td>T1</td>\n      <td>Actif relogé</td>\n    </tr>\n    <tr>\n      <th>1</th>\n      <td>175118000728300002</td>\n      <td>1.0</td>\n      <td>1763.0</td>\n      <td>1980-11-14 00:00:00</td>\n      <td>F</td>\n      <td>Française</td>\n      <td>72.0</td>\n      <td>Veuf (ve)</td>\n      <td>1763.000000</td>\n      <td>21156.0</td>\n      <td>Cinquième Quintile</td>\n      <td>70 ans et plus</td>\n      <td>Personne seule</td>\n      <td>Retraité</td>\n      <td>T2</td>\n      <td>Actif relogé</td>\n    </tr>\n    <tr>\n      <th>2</th>\n      <td>175108301617300002</td>\n      <td>1.5</td>\n      <td>3535.0</td>\n      <td>1983-10-17 00:00:00</td>\n      <td>F</td>\n      <td>Française</td>\n      <td>64.0</td>\n      <td>Célibataire</td>\n      <td>2356.666667</td>\n      <td>28280.0</td>\n      <td>Cinquième Quintile</td>\n      <td>60 à 69ans</td>\n      <td>Au moins 2 cotitulaires</td>\n      <td>Retraité</td>\n      <td>T2</td>\n      <td>Non renseigné</td>\n    </tr>\n    <tr>\n      <th>3</th>\n      <td>175128420982700002</td>\n      <td>1.0</td>\n      <td>3144.0</td>\n      <td>1984-12-01 00:00:00</td>\n      <td>F</td>\n      <td>Française</td>\n      <td>57.0</td>\n      <td>Célibataire</td>\n      <td>3144.000000</td>\n      <td>37728.0</td>\n      <td>Cinquième Quintile</td>\n      <td>50 à 59 ans</td>\n      <td>Personne seule</td>\n      <td>CDI (ou fonctionnaire)</td>\n      <td>T2</td>\n      <td>Non renseigné</td>\n    </tr>\n    <tr>\n      <th>4</th>\n      <td>175058909634800002</td>\n      <td>1.0</td>\n      <td>765.0</td>\n      <td>1989-05-16 00:00:00</td>\n      <td>M</td>\n      <td>Française</td>\n      <td>69.0</td>\n      <td>Célibataire</td>\n      <td>765.000000</td>\n      <td>9180.0</td>\n      <td>Deuxième Quintile</td>\n      <td>60 à 69ans</td>\n      <td>Personne seule</td>\n      <td>Retraité</td>\n      <td>T2</td>\n      <td>Actif relogé</td>\n    </tr>\n    <tr>\n      <th>...</th>\n      <td>...</td>\n      <td>...</td>\n      <td>...</td>\n      <td>...</td>\n      <td>...</td>\n      <td>...</td>\n      <td>...</td>\n      <td>...</td>\n      <td>...</td>\n      <td>...</td>\n      <td>...</td>\n      <td>...</td>\n      <td>...</td>\n      <td>...</td>\n      <td>...</td>\n      <td>...</td>\n    </tr>\n    <tr>\n      <th>60238</th>\n      <td>1111217905754AL003</td>\n      <td>1.0</td>\n      <td>3072.0</td>\n      <td>2017-12-28 00:00:00</td>\n      <td>M</td>\n      <td>Française</td>\n      <td>28.0</td>\n      <td>Célibataire</td>\n      <td>3072.000000</td>\n      <td>36864.0</td>\n      <td>Cinquième Quintile</td>\n      <td>0 à 29 ans</td>\n      <td>Personne seule</td>\n      <td>CDD,Stage, intérim</td>\n      <td>T2</td>\n      <td>Non renseigné</td>\n    </tr>\n    <tr>\n      <th>60239</th>\n      <td>1111217849606GDPUB</td>\n      <td>1.0</td>\n      <td>1774.0</td>\n      <td>2017-12-29 00:00:00</td>\n      <td>F</td>\n      <td>Française</td>\n      <td>37.0</td>\n      <td>Divorcé (e)</td>\n      <td>1774.000000</td>\n      <td>21288.0</td>\n      <td>Cinquième Quintile</td>\n      <td>30 à 39 ans</td>\n      <td>Personne seule</td>\n      <td>CDI</td>\n      <td>T2</td>\n      <td>Non renseigné</td>\n    </tr>\n    <tr>\n      <th>60240</th>\n      <td>1111217849858GDPUB</td>\n      <td>1.0</td>\n      <td>2143.0</td>\n      <td>2017-12-29 00:00:00</td>\n      <td>F</td>\n      <td>Hors Union Européenne</td>\n      <td>28.0</td>\n      <td>Célibataire</td>\n      <td>2143.000000</td>\n      <td>25716.0</td>\n      <td>Cinquième Quintile</td>\n      <td>0 à 29 ans</td>\n      <td>Personne seule</td>\n      <td>CDI</td>\n      <td>T2</td>\n      <td>Non renseigné</td>\n    </tr>\n    <tr>\n      <th>60241</th>\n      <td>1110118850370GDPUB</td>\n      <td>1.0</td>\n      <td>1190.0</td>\n      <td>2018-01-01 00:00:00</td>\n      <td>M</td>\n      <td>Hors Union Européenne</td>\n      <td>36.0</td>\n      <td>Célibataire</td>\n      <td>1190.000000</td>\n      <td>14280.0</td>\n      <td>Quatrième Quintile</td>\n      <td>30 à 39 ans</td>\n      <td>Personne seule</td>\n      <td>CDD,Stage, intérim</td>\n      <td>T1</td>\n      <td>Non renseigné</td>\n    </tr>\n    <tr>\n      <th>60242</th>\n      <td>1110118850622GDPUB</td>\n      <td>1.0</td>\n      <td>1800.0</td>\n      <td>2018-01-01 00:00:00</td>\n      <td>F</td>\n      <td>Française</td>\n      <td>26.0</td>\n      <td>Célibataire</td>\n      <td>1800.000000</td>\n      <td>21600.0</td>\n      <td>Cinquième Quintile</td>\n      <td>0 à 29 ans</td>\n      <td>Personne seule</td>\n      <td>CDD,Stage, intérim</td>\n      <td>T2</td>\n      <td>Non renseigné</td>\n    </tr>\n  </tbody>\n</table>\n<p>60243 rows × 16 columns</p>\n</div>"
     },
     "execution_count": 139,
     "metadata": {},
     "output_type": "execute_result"
    }
   ],
   "source": [
    "base = dfd1.merge(dfa1, on='Numéro Unique', how='inner')\n",
    "base"
   ],
   "metadata": {
    "collapsed": false,
    "pycharm": {
     "name": "#%%\n"
    }
   }
  },
  {
   "cell_type": "code",
   "execution_count": 105,
   "outputs": [],
   "source": [
    "bdd=base[[ \"Revenus annuels\",  \"Quintile\", \"Date création demande_y\", \"Date de la radiation\", \"motif n°1 de la demande\", \"Age demandeur\", \"Numéro Unique\"]]"
   ],
   "metadata": {
    "collapsed": false,
    "pycharm": {
     "name": "#%%\n"
    }
   }
  },
  {
   "cell_type": "code",
   "execution_count": 106,
   "outputs": [
    {
     "name": "stderr",
     "output_type": "stream",
     "text": [
      "C:\\Users\\arceb\\AppData\\Local\\Temp\\ipykernel_11952\\51515142.py:1: SettingWithCopyWarning: \n",
      "A value is trying to be set on a copy of a slice from a DataFrame\n",
      "\n",
      "See the caveats in the documentation: https://pandas.pydata.org/pandas-docs/stable/user_guide/indexing.html#returning-a-view-versus-a-copy\n",
      "  bdd.rename(columns={'Date création demande_y': 'Date création demande'}, inplace=True)\n"
     ]
    },
    {
     "data": {
      "text/plain": "       Revenus annuels            Quintile Date création demande  \\\n0               6672.0    Premier Quintile   1979-03-01 00:00:00   \n1              21156.0  Cinquième Quintile   1980-11-14 00:00:00   \n2              28280.0  Cinquième Quintile   1983-10-17 00:00:00   \n3              37728.0  Cinquième Quintile   1984-12-01 00:00:00   \n4               9180.0   Deuxième Quintile   1989-05-16 00:00:00   \n...                ...                 ...                   ...   \n60238          36864.0  Cinquième Quintile   2017-12-28 00:00:00   \n60239          21288.0  Cinquième Quintile   2017-12-29 00:00:00   \n60240          25716.0  Cinquième Quintile   2017-12-29 00:00:00   \n60241          14280.0  Quatrième Quintile   2018-01-01 00:00:00   \n60242          21600.0  Cinquième Quintile   2018-01-01 00:00:00   \n\n      Date de la radiation                            motif n°1 de la demande  \\\n0      2018-04-13 00:00:00  Logement repris ou mis en vente par son propri...   \n1      2018-06-04 00:00:00                           En procédure d'expulsion   \n2      2018-10-30 00:00:00                 Autre motif particulier (précisez)   \n3      2018-04-10 00:00:00          Problèmes d'environnement ou de voisinage   \n4      2018-09-06 00:00:00                                Logement trop petit   \n...                    ...                                                ...   \n60238  2018-09-27 00:00:00  Logement non décent, insalubre ou dangereux ou...   \n60239  2018-10-19 00:00:00  Sans logement ou hébergé ou en logement tempor...   \n60240  2018-12-05 00:00:00  Sans logement ou hébergé ou en logement tempor...   \n60241  2018-12-07 00:00:00  Sans logement ou hébergé ou en logement tempor...   \n60242  2018-09-05 00:00:00          Problèmes d'environnement ou de voisinage   \n\n       Age demandeur       Numéro Unique  \n0                 59  175037900427000002  \n1                 72  175118000728300002  \n2                 64  175108301617300002  \n3                 57  175128420982700002  \n4                 69  175058909634800002  \n...              ...                 ...  \n60238             28  1111217905754AL003  \n60239             37  1111217849606GDPUB  \n60240             28  1111217849858GDPUB  \n60241             36  1110118850370GDPUB  \n60242             27  1110118850622GDPUB  \n\n[60243 rows x 7 columns]",
      "text/html": "<div>\n<style scoped>\n    .dataframe tbody tr th:only-of-type {\n        vertical-align: middle;\n    }\n\n    .dataframe tbody tr th {\n        vertical-align: top;\n    }\n\n    .dataframe thead th {\n        text-align: right;\n    }\n</style>\n<table border=\"1\" class=\"dataframe\">\n  <thead>\n    <tr style=\"text-align: right;\">\n      <th></th>\n      <th>Revenus annuels</th>\n      <th>Quintile</th>\n      <th>Date création demande</th>\n      <th>Date de la radiation</th>\n      <th>motif n°1 de la demande</th>\n      <th>Age demandeur</th>\n      <th>Numéro Unique</th>\n    </tr>\n  </thead>\n  <tbody>\n    <tr>\n      <th>0</th>\n      <td>6672.0</td>\n      <td>Premier Quintile</td>\n      <td>1979-03-01 00:00:00</td>\n      <td>2018-04-13 00:00:00</td>\n      <td>Logement repris ou mis en vente par son propri...</td>\n      <td>59</td>\n      <td>175037900427000002</td>\n    </tr>\n    <tr>\n      <th>1</th>\n      <td>21156.0</td>\n      <td>Cinquième Quintile</td>\n      <td>1980-11-14 00:00:00</td>\n      <td>2018-06-04 00:00:00</td>\n      <td>En procédure d'expulsion</td>\n      <td>72</td>\n      <td>175118000728300002</td>\n    </tr>\n    <tr>\n      <th>2</th>\n      <td>28280.0</td>\n      <td>Cinquième Quintile</td>\n      <td>1983-10-17 00:00:00</td>\n      <td>2018-10-30 00:00:00</td>\n      <td>Autre motif particulier (précisez)</td>\n      <td>64</td>\n      <td>175108301617300002</td>\n    </tr>\n    <tr>\n      <th>3</th>\n      <td>37728.0</td>\n      <td>Cinquième Quintile</td>\n      <td>1984-12-01 00:00:00</td>\n      <td>2018-04-10 00:00:00</td>\n      <td>Problèmes d'environnement ou de voisinage</td>\n      <td>57</td>\n      <td>175128420982700002</td>\n    </tr>\n    <tr>\n      <th>4</th>\n      <td>9180.0</td>\n      <td>Deuxième Quintile</td>\n      <td>1989-05-16 00:00:00</td>\n      <td>2018-09-06 00:00:00</td>\n      <td>Logement trop petit</td>\n      <td>69</td>\n      <td>175058909634800002</td>\n    </tr>\n    <tr>\n      <th>...</th>\n      <td>...</td>\n      <td>...</td>\n      <td>...</td>\n      <td>...</td>\n      <td>...</td>\n      <td>...</td>\n      <td>...</td>\n    </tr>\n    <tr>\n      <th>60238</th>\n      <td>36864.0</td>\n      <td>Cinquième Quintile</td>\n      <td>2017-12-28 00:00:00</td>\n      <td>2018-09-27 00:00:00</td>\n      <td>Logement non décent, insalubre ou dangereux ou...</td>\n      <td>28</td>\n      <td>1111217905754AL003</td>\n    </tr>\n    <tr>\n      <th>60239</th>\n      <td>21288.0</td>\n      <td>Cinquième Quintile</td>\n      <td>2017-12-29 00:00:00</td>\n      <td>2018-10-19 00:00:00</td>\n      <td>Sans logement ou hébergé ou en logement tempor...</td>\n      <td>37</td>\n      <td>1111217849606GDPUB</td>\n    </tr>\n    <tr>\n      <th>60240</th>\n      <td>25716.0</td>\n      <td>Cinquième Quintile</td>\n      <td>2017-12-29 00:00:00</td>\n      <td>2018-12-05 00:00:00</td>\n      <td>Sans logement ou hébergé ou en logement tempor...</td>\n      <td>28</td>\n      <td>1111217849858GDPUB</td>\n    </tr>\n    <tr>\n      <th>60241</th>\n      <td>14280.0</td>\n      <td>Quatrième Quintile</td>\n      <td>2018-01-01 00:00:00</td>\n      <td>2018-12-07 00:00:00</td>\n      <td>Sans logement ou hébergé ou en logement tempor...</td>\n      <td>36</td>\n      <td>1110118850370GDPUB</td>\n    </tr>\n    <tr>\n      <th>60242</th>\n      <td>21600.0</td>\n      <td>Cinquième Quintile</td>\n      <td>2018-01-01 00:00:00</td>\n      <td>2018-09-05 00:00:00</td>\n      <td>Problèmes d'environnement ou de voisinage</td>\n      <td>27</td>\n      <td>1110118850622GDPUB</td>\n    </tr>\n  </tbody>\n</table>\n<p>60243 rows × 7 columns</p>\n</div>"
     },
     "execution_count": 106,
     "metadata": {},
     "output_type": "execute_result"
    }
   ],
   "source": [
    "bdd.rename(columns={'Date création demande_y': 'Date création demande'}, inplace=True)\n",
    "bdd"
   ],
   "metadata": {
    "collapsed": false,
    "pycharm": {
     "name": "#%%\n"
    }
   }
  },
  {
   "cell_type": "code",
   "execution_count": 107,
   "outputs": [],
   "source": [
    "#!pip install datetime"
   ],
   "metadata": {
    "collapsed": false,
    "pycharm": {
     "name": "#%%\n"
    }
   }
  },
  {
   "cell_type": "code",
   "execution_count": 108,
   "outputs": [],
   "source": [
    "import datetime\n",
    "from datetime import timedelta"
   ],
   "metadata": {
    "collapsed": false,
    "pycharm": {
     "name": "#%%\n"
    }
   }
  },
  {
   "cell_type": "code",
   "execution_count": 109,
   "outputs": [
    {
     "name": "stderr",
     "output_type": "stream",
     "text": [
      "C:\\Users\\arceb\\AppData\\Local\\Temp\\ipykernel_11952\\1835229834.py:1: SettingWithCopyWarning: \n",
      "A value is trying to be set on a copy of a slice from a DataFrame.\n",
      "Try using .loc[row_indexer,col_indexer] = value instead\n",
      "\n",
      "See the caveats in the documentation: https://pandas.pydata.org/pandas-docs/stable/user_guide/indexing.html#returning-a-view-versus-a-copy\n",
      "  bdd['Date création demande'] = pd.to_datetime(bdd['Date création demande'], format=\"%Y/%m/%d %H:%M:%S\")\n"
     ]
    }
   ],
   "source": [
    "bdd['Date création demande'] = pd.to_datetime(bdd['Date création demande'], format=\"%Y/%m/%d %H:%M:%S\")"
   ],
   "metadata": {
    "collapsed": false,
    "pycharm": {
     "name": "#%%\n"
    }
   }
  },
  {
   "cell_type": "code",
   "execution_count": 110,
   "outputs": [
    {
     "name": "stderr",
     "output_type": "stream",
     "text": [
      "C:\\Users\\arceb\\AppData\\Local\\Temp\\ipykernel_11952\\1171770445.py:1: SettingWithCopyWarning: \n",
      "A value is trying to be set on a copy of a slice from a DataFrame.\n",
      "Try using .loc[row_indexer,col_indexer] = value instead\n",
      "\n",
      "See the caveats in the documentation: https://pandas.pydata.org/pandas-docs/stable/user_guide/indexing.html#returning-a-view-versus-a-copy\n",
      "  bdd['Date de la radiation'] = pd.to_datetime(bdd['Date de la radiation'], format=\"%Y/%m/%d %H:%M:%S\")\n"
     ]
    },
    {
     "data": {
      "text/plain": "       Revenus annuels            Quintile Date création demande  \\\n0               6672.0    Premier Quintile            1979-03-01   \n1              21156.0  Cinquième Quintile            1980-11-14   \n2              28280.0  Cinquième Quintile            1983-10-17   \n3              37728.0  Cinquième Quintile            1984-12-01   \n4               9180.0   Deuxième Quintile            1989-05-16   \n...                ...                 ...                   ...   \n60238          36864.0  Cinquième Quintile            2017-12-28   \n60239          21288.0  Cinquième Quintile            2017-12-29   \n60240          25716.0  Cinquième Quintile            2017-12-29   \n60241          14280.0  Quatrième Quintile            2018-01-01   \n60242          21600.0  Cinquième Quintile            2018-01-01   \n\n      Date de la radiation                            motif n°1 de la demande  \\\n0               2018-04-13  Logement repris ou mis en vente par son propri...   \n1               2018-06-04                           En procédure d'expulsion   \n2               2018-10-30                 Autre motif particulier (précisez)   \n3               2018-04-10          Problèmes d'environnement ou de voisinage   \n4               2018-09-06                                Logement trop petit   \n...                    ...                                                ...   \n60238           2018-09-27  Logement non décent, insalubre ou dangereux ou...   \n60239           2018-10-19  Sans logement ou hébergé ou en logement tempor...   \n60240           2018-12-05  Sans logement ou hébergé ou en logement tempor...   \n60241           2018-12-07  Sans logement ou hébergé ou en logement tempor...   \n60242           2018-09-05          Problèmes d'environnement ou de voisinage   \n\n       Age demandeur       Numéro Unique  \n0                 59  175037900427000002  \n1                 72  175118000728300002  \n2                 64  175108301617300002  \n3                 57  175128420982700002  \n4                 69  175058909634800002  \n...              ...                 ...  \n60238             28  1111217905754AL003  \n60239             37  1111217849606GDPUB  \n60240             28  1111217849858GDPUB  \n60241             36  1110118850370GDPUB  \n60242             27  1110118850622GDPUB  \n\n[60243 rows x 7 columns]",
      "text/html": "<div>\n<style scoped>\n    .dataframe tbody tr th:only-of-type {\n        vertical-align: middle;\n    }\n\n    .dataframe tbody tr th {\n        vertical-align: top;\n    }\n\n    .dataframe thead th {\n        text-align: right;\n    }\n</style>\n<table border=\"1\" class=\"dataframe\">\n  <thead>\n    <tr style=\"text-align: right;\">\n      <th></th>\n      <th>Revenus annuels</th>\n      <th>Quintile</th>\n      <th>Date création demande</th>\n      <th>Date de la radiation</th>\n      <th>motif n°1 de la demande</th>\n      <th>Age demandeur</th>\n      <th>Numéro Unique</th>\n    </tr>\n  </thead>\n  <tbody>\n    <tr>\n      <th>0</th>\n      <td>6672.0</td>\n      <td>Premier Quintile</td>\n      <td>1979-03-01</td>\n      <td>2018-04-13</td>\n      <td>Logement repris ou mis en vente par son propri...</td>\n      <td>59</td>\n      <td>175037900427000002</td>\n    </tr>\n    <tr>\n      <th>1</th>\n      <td>21156.0</td>\n      <td>Cinquième Quintile</td>\n      <td>1980-11-14</td>\n      <td>2018-06-04</td>\n      <td>En procédure d'expulsion</td>\n      <td>72</td>\n      <td>175118000728300002</td>\n    </tr>\n    <tr>\n      <th>2</th>\n      <td>28280.0</td>\n      <td>Cinquième Quintile</td>\n      <td>1983-10-17</td>\n      <td>2018-10-30</td>\n      <td>Autre motif particulier (précisez)</td>\n      <td>64</td>\n      <td>175108301617300002</td>\n    </tr>\n    <tr>\n      <th>3</th>\n      <td>37728.0</td>\n      <td>Cinquième Quintile</td>\n      <td>1984-12-01</td>\n      <td>2018-04-10</td>\n      <td>Problèmes d'environnement ou de voisinage</td>\n      <td>57</td>\n      <td>175128420982700002</td>\n    </tr>\n    <tr>\n      <th>4</th>\n      <td>9180.0</td>\n      <td>Deuxième Quintile</td>\n      <td>1989-05-16</td>\n      <td>2018-09-06</td>\n      <td>Logement trop petit</td>\n      <td>69</td>\n      <td>175058909634800002</td>\n    </tr>\n    <tr>\n      <th>...</th>\n      <td>...</td>\n      <td>...</td>\n      <td>...</td>\n      <td>...</td>\n      <td>...</td>\n      <td>...</td>\n      <td>...</td>\n    </tr>\n    <tr>\n      <th>60238</th>\n      <td>36864.0</td>\n      <td>Cinquième Quintile</td>\n      <td>2017-12-28</td>\n      <td>2018-09-27</td>\n      <td>Logement non décent, insalubre ou dangereux ou...</td>\n      <td>28</td>\n      <td>1111217905754AL003</td>\n    </tr>\n    <tr>\n      <th>60239</th>\n      <td>21288.0</td>\n      <td>Cinquième Quintile</td>\n      <td>2017-12-29</td>\n      <td>2018-10-19</td>\n      <td>Sans logement ou hébergé ou en logement tempor...</td>\n      <td>37</td>\n      <td>1111217849606GDPUB</td>\n    </tr>\n    <tr>\n      <th>60240</th>\n      <td>25716.0</td>\n      <td>Cinquième Quintile</td>\n      <td>2017-12-29</td>\n      <td>2018-12-05</td>\n      <td>Sans logement ou hébergé ou en logement tempor...</td>\n      <td>28</td>\n      <td>1111217849858GDPUB</td>\n    </tr>\n    <tr>\n      <th>60241</th>\n      <td>14280.0</td>\n      <td>Quatrième Quintile</td>\n      <td>2018-01-01</td>\n      <td>2018-12-07</td>\n      <td>Sans logement ou hébergé ou en logement tempor...</td>\n      <td>36</td>\n      <td>1110118850370GDPUB</td>\n    </tr>\n    <tr>\n      <th>60242</th>\n      <td>21600.0</td>\n      <td>Cinquième Quintile</td>\n      <td>2018-01-01</td>\n      <td>2018-09-05</td>\n      <td>Problèmes d'environnement ou de voisinage</td>\n      <td>27</td>\n      <td>1110118850622GDPUB</td>\n    </tr>\n  </tbody>\n</table>\n<p>60243 rows × 7 columns</p>\n</div>"
     },
     "execution_count": 110,
     "metadata": {},
     "output_type": "execute_result"
    }
   ],
   "source": [
    "bdd['Date de la radiation'] = pd.to_datetime(bdd['Date de la radiation'], format=\"%Y/%m/%d %H:%M:%S\")\n",
    "bdd"
   ],
   "metadata": {
    "collapsed": false,
    "pycharm": {
     "name": "#%%\n"
    }
   }
  },
  {
   "cell_type": "code",
   "execution_count": 111,
   "outputs": [
    {
     "name": "stderr",
     "output_type": "stream",
     "text": [
      "C:\\Users\\arceb\\AppData\\Local\\Temp\\ipykernel_11952\\1878810048.py:2: SettingWithCopyWarning: \n",
      "A value is trying to be set on a copy of a slice from a DataFrame.\n",
      "Try using .loc[row_indexer,col_indexer] = value instead\n",
      "\n",
      "See the caveats in the documentation: https://pandas.pydata.org/pandas-docs/stable/user_guide/indexing.html#returning-a-view-versus-a-copy\n",
      "  bdd['Temps attente']= timedelta\n"
     ]
    },
    {
     "data": {
      "text/plain": "       Revenus annuels            Quintile Date création demande  \\\n0               6672.0    Premier Quintile            1979-03-01   \n1              21156.0  Cinquième Quintile            1980-11-14   \n2              28280.0  Cinquième Quintile            1983-10-17   \n3              37728.0  Cinquième Quintile            1984-12-01   \n4               9180.0   Deuxième Quintile            1989-05-16   \n...                ...                 ...                   ...   \n60238          36864.0  Cinquième Quintile            2017-12-28   \n60239          21288.0  Cinquième Quintile            2017-12-29   \n60240          25716.0  Cinquième Quintile            2017-12-29   \n60241          14280.0  Quatrième Quintile            2018-01-01   \n60242          21600.0  Cinquième Quintile            2018-01-01   \n\n      Date de la radiation                            motif n°1 de la demande  \\\n0               2018-04-13  Logement repris ou mis en vente par son propri...   \n1               2018-06-04                           En procédure d'expulsion   \n2               2018-10-30                 Autre motif particulier (précisez)   \n3               2018-04-10          Problèmes d'environnement ou de voisinage   \n4               2018-09-06                                Logement trop petit   \n...                    ...                                                ...   \n60238           2018-09-27  Logement non décent, insalubre ou dangereux ou...   \n60239           2018-10-19  Sans logement ou hébergé ou en logement tempor...   \n60240           2018-12-05  Sans logement ou hébergé ou en logement tempor...   \n60241           2018-12-07  Sans logement ou hébergé ou en logement tempor...   \n60242           2018-09-05          Problèmes d'environnement ou de voisinage   \n\n       Age demandeur       Numéro Unique Temps attente  \n0                 59  175037900427000002    14288 days  \n1                 72  175118000728300002    13716 days  \n2                 64  175108301617300002    12797 days  \n3                 57  175128420982700002    12183 days  \n4                 69  175058909634800002    10705 days  \n...              ...                 ...           ...  \n60238             28  1111217905754AL003      273 days  \n60239             37  1111217849606GDPUB      294 days  \n60240             28  1111217849858GDPUB      341 days  \n60241             36  1110118850370GDPUB      340 days  \n60242             27  1110118850622GDPUB      247 days  \n\n[60243 rows x 8 columns]",
      "text/html": "<div>\n<style scoped>\n    .dataframe tbody tr th:only-of-type {\n        vertical-align: middle;\n    }\n\n    .dataframe tbody tr th {\n        vertical-align: top;\n    }\n\n    .dataframe thead th {\n        text-align: right;\n    }\n</style>\n<table border=\"1\" class=\"dataframe\">\n  <thead>\n    <tr style=\"text-align: right;\">\n      <th></th>\n      <th>Revenus annuels</th>\n      <th>Quintile</th>\n      <th>Date création demande</th>\n      <th>Date de la radiation</th>\n      <th>motif n°1 de la demande</th>\n      <th>Age demandeur</th>\n      <th>Numéro Unique</th>\n      <th>Temps attente</th>\n    </tr>\n  </thead>\n  <tbody>\n    <tr>\n      <th>0</th>\n      <td>6672.0</td>\n      <td>Premier Quintile</td>\n      <td>1979-03-01</td>\n      <td>2018-04-13</td>\n      <td>Logement repris ou mis en vente par son propri...</td>\n      <td>59</td>\n      <td>175037900427000002</td>\n      <td>14288 days</td>\n    </tr>\n    <tr>\n      <th>1</th>\n      <td>21156.0</td>\n      <td>Cinquième Quintile</td>\n      <td>1980-11-14</td>\n      <td>2018-06-04</td>\n      <td>En procédure d'expulsion</td>\n      <td>72</td>\n      <td>175118000728300002</td>\n      <td>13716 days</td>\n    </tr>\n    <tr>\n      <th>2</th>\n      <td>28280.0</td>\n      <td>Cinquième Quintile</td>\n      <td>1983-10-17</td>\n      <td>2018-10-30</td>\n      <td>Autre motif particulier (précisez)</td>\n      <td>64</td>\n      <td>175108301617300002</td>\n      <td>12797 days</td>\n    </tr>\n    <tr>\n      <th>3</th>\n      <td>37728.0</td>\n      <td>Cinquième Quintile</td>\n      <td>1984-12-01</td>\n      <td>2018-04-10</td>\n      <td>Problèmes d'environnement ou de voisinage</td>\n      <td>57</td>\n      <td>175128420982700002</td>\n      <td>12183 days</td>\n    </tr>\n    <tr>\n      <th>4</th>\n      <td>9180.0</td>\n      <td>Deuxième Quintile</td>\n      <td>1989-05-16</td>\n      <td>2018-09-06</td>\n      <td>Logement trop petit</td>\n      <td>69</td>\n      <td>175058909634800002</td>\n      <td>10705 days</td>\n    </tr>\n    <tr>\n      <th>...</th>\n      <td>...</td>\n      <td>...</td>\n      <td>...</td>\n      <td>...</td>\n      <td>...</td>\n      <td>...</td>\n      <td>...</td>\n      <td>...</td>\n    </tr>\n    <tr>\n      <th>60238</th>\n      <td>36864.0</td>\n      <td>Cinquième Quintile</td>\n      <td>2017-12-28</td>\n      <td>2018-09-27</td>\n      <td>Logement non décent, insalubre ou dangereux ou...</td>\n      <td>28</td>\n      <td>1111217905754AL003</td>\n      <td>273 days</td>\n    </tr>\n    <tr>\n      <th>60239</th>\n      <td>21288.0</td>\n      <td>Cinquième Quintile</td>\n      <td>2017-12-29</td>\n      <td>2018-10-19</td>\n      <td>Sans logement ou hébergé ou en logement tempor...</td>\n      <td>37</td>\n      <td>1111217849606GDPUB</td>\n      <td>294 days</td>\n    </tr>\n    <tr>\n      <th>60240</th>\n      <td>25716.0</td>\n      <td>Cinquième Quintile</td>\n      <td>2017-12-29</td>\n      <td>2018-12-05</td>\n      <td>Sans logement ou hébergé ou en logement tempor...</td>\n      <td>28</td>\n      <td>1111217849858GDPUB</td>\n      <td>341 days</td>\n    </tr>\n    <tr>\n      <th>60241</th>\n      <td>14280.0</td>\n      <td>Quatrième Quintile</td>\n      <td>2018-01-01</td>\n      <td>2018-12-07</td>\n      <td>Sans logement ou hébergé ou en logement tempor...</td>\n      <td>36</td>\n      <td>1110118850370GDPUB</td>\n      <td>340 days</td>\n    </tr>\n    <tr>\n      <th>60242</th>\n      <td>21600.0</td>\n      <td>Cinquième Quintile</td>\n      <td>2018-01-01</td>\n      <td>2018-09-05</td>\n      <td>Problèmes d'environnement ou de voisinage</td>\n      <td>27</td>\n      <td>1110118850622GDPUB</td>\n      <td>247 days</td>\n    </tr>\n  </tbody>\n</table>\n<p>60243 rows × 8 columns</p>\n</div>"
     },
     "execution_count": 111,
     "metadata": {},
     "output_type": "execute_result"
    }
   ],
   "source": [
    "timedelta = bdd['Date de la radiation']-bdd['Date création demande']\n",
    "bdd['Temps attente']= timedelta\n",
    "bdd"
   ],
   "metadata": {
    "collapsed": false,
    "pycharm": {
     "name": "#%%\n"
    }
   }
  },
  {
   "cell_type": "code",
   "execution_count": 112,
   "outputs": [],
   "source": [
    "attente=bdd[[ \"Quintile\", \"Temps attente\"]]"
   ],
   "metadata": {
    "collapsed": false,
    "pycharm": {
     "name": "#%%\n"
    }
   }
  },
  {
   "cell_type": "code",
   "execution_count": 113,
   "outputs": [],
   "source": [
    "dfplot = attente.groupby('Quintile').mean()"
   ],
   "metadata": {
    "collapsed": false,
    "pycharm": {
     "name": "#%%\n"
    }
   }
  },
  {
   "cell_type": "code",
   "execution_count": 114,
   "outputs": [
    {
     "data": {
      "text/plain": "                                  Temps attente\nQuintile                                       \nPremier Quintile   1397 days 11:37:46.455596016\nDeuxième Quintile  1341 days 19:34:03.337363968\nTroisième Quintile 1229 days 15:48:11.704877040\nQuatrième Quintile 1092 days 00:41:32.725526944\nCinquième Quintile  953 days 03:36:45.701364768",
      "text/html": "<div>\n<style scoped>\n    .dataframe tbody tr th:only-of-type {\n        vertical-align: middle;\n    }\n\n    .dataframe tbody tr th {\n        vertical-align: top;\n    }\n\n    .dataframe thead th {\n        text-align: right;\n    }\n</style>\n<table border=\"1\" class=\"dataframe\">\n  <thead>\n    <tr style=\"text-align: right;\">\n      <th></th>\n      <th>Temps attente</th>\n    </tr>\n    <tr>\n      <th>Quintile</th>\n      <th></th>\n    </tr>\n  </thead>\n  <tbody>\n    <tr>\n      <th>Premier Quintile</th>\n      <td>1397 days 11:37:46.455596016</td>\n    </tr>\n    <tr>\n      <th>Deuxième Quintile</th>\n      <td>1341 days 19:34:03.337363968</td>\n    </tr>\n    <tr>\n      <th>Troisième Quintile</th>\n      <td>1229 days 15:48:11.704877040</td>\n    </tr>\n    <tr>\n      <th>Quatrième Quintile</th>\n      <td>1092 days 00:41:32.725526944</td>\n    </tr>\n    <tr>\n      <th>Cinquième Quintile</th>\n      <td>953 days 03:36:45.701364768</td>\n    </tr>\n  </tbody>\n</table>\n</div>"
     },
     "execution_count": 114,
     "metadata": {},
     "output_type": "execute_result"
    }
   ],
   "source": [
    "dfplot"
   ],
   "metadata": {
    "collapsed": false,
    "pycharm": {
     "name": "#%%\n"
    }
   }
  },
  {
   "cell_type": "code",
   "execution_count": 115,
   "outputs": [],
   "source": [
    "dfplot['Temps attente'] = dfplot['Temps attente'].values.astype(np.int64)"
   ],
   "metadata": {
    "collapsed": false,
    "pycharm": {
     "name": "#%%\n"
    }
   }
  },
  {
   "cell_type": "code",
   "execution_count": 116,
   "outputs": [
    {
     "data": {
      "text/plain": "                         Temps attente\nQuintile                              \nPremier Quintile    120742666455596016\nDeuxième Quintile   115932843337363968\nTroisième Quintile  106242491704877040\nQuatrième Quintile   94351292725526944\nCinquième Quintile   82352205701364768",
      "text/html": "<div>\n<style scoped>\n    .dataframe tbody tr th:only-of-type {\n        vertical-align: middle;\n    }\n\n    .dataframe tbody tr th {\n        vertical-align: top;\n    }\n\n    .dataframe thead th {\n        text-align: right;\n    }\n</style>\n<table border=\"1\" class=\"dataframe\">\n  <thead>\n    <tr style=\"text-align: right;\">\n      <th></th>\n      <th>Temps attente</th>\n    </tr>\n    <tr>\n      <th>Quintile</th>\n      <th></th>\n    </tr>\n  </thead>\n  <tbody>\n    <tr>\n      <th>Premier Quintile</th>\n      <td>120742666455596016</td>\n    </tr>\n    <tr>\n      <th>Deuxième Quintile</th>\n      <td>115932843337363968</td>\n    </tr>\n    <tr>\n      <th>Troisième Quintile</th>\n      <td>106242491704877040</td>\n    </tr>\n    <tr>\n      <th>Quatrième Quintile</th>\n      <td>94351292725526944</td>\n    </tr>\n    <tr>\n      <th>Cinquième Quintile</th>\n      <td>82352205701364768</td>\n    </tr>\n  </tbody>\n</table>\n</div>"
     },
     "execution_count": 116,
     "metadata": {},
     "output_type": "execute_result"
    }
   ],
   "source": [
    "dfplot"
   ],
   "metadata": {
    "collapsed": false,
    "pycharm": {
     "name": "#%%\n"
    }
   }
  },
  {
   "cell_type": "code",
   "execution_count": 117,
   "outputs": [],
   "source": [
    "dfplot['Temps attente']=(dfplot['Temps attente']//(86400000000000)) #attention ici on fait un arrondi, il faut le préciser"
   ],
   "metadata": {
    "collapsed": false,
    "pycharm": {
     "name": "#%%\n"
    }
   }
  },
  {
   "cell_type": "code",
   "execution_count": 118,
   "outputs": [
    {
     "data": {
      "text/plain": "                    Temps attente\nQuintile                         \nPremier Quintile             1397\nDeuxième Quintile            1341\nTroisième Quintile           1229\nQuatrième Quintile           1092\nCinquième Quintile            953",
      "text/html": "<div>\n<style scoped>\n    .dataframe tbody tr th:only-of-type {\n        vertical-align: middle;\n    }\n\n    .dataframe tbody tr th {\n        vertical-align: top;\n    }\n\n    .dataframe thead th {\n        text-align: right;\n    }\n</style>\n<table border=\"1\" class=\"dataframe\">\n  <thead>\n    <tr style=\"text-align: right;\">\n      <th></th>\n      <th>Temps attente</th>\n    </tr>\n    <tr>\n      <th>Quintile</th>\n      <th></th>\n    </tr>\n  </thead>\n  <tbody>\n    <tr>\n      <th>Premier Quintile</th>\n      <td>1397</td>\n    </tr>\n    <tr>\n      <th>Deuxième Quintile</th>\n      <td>1341</td>\n    </tr>\n    <tr>\n      <th>Troisième Quintile</th>\n      <td>1229</td>\n    </tr>\n    <tr>\n      <th>Quatrième Quintile</th>\n      <td>1092</td>\n    </tr>\n    <tr>\n      <th>Cinquième Quintile</th>\n      <td>953</td>\n    </tr>\n  </tbody>\n</table>\n</div>"
     },
     "execution_count": 118,
     "metadata": {},
     "output_type": "execute_result"
    }
   ],
   "source": [
    "dfplot"
   ],
   "metadata": {
    "collapsed": false,
    "pycharm": {
     "name": "#%%\n"
    }
   }
  },
  {
   "cell_type": "code",
   "execution_count": 119,
   "outputs": [
    {
     "data": {
      "text/plain": "Text(0, 0.5, \"Temps d'attente moyen pour obtenir un logement social (en jours)\")"
     },
     "execution_count": 119,
     "metadata": {},
     "output_type": "execute_result"
    },
    {
     "data": {
      "text/plain": "<Figure size 720x432 with 1 Axes>",
      "image/png": "[encoded data removed]"
     },
     "metadata": {
      "needs_background": "light"
     },
     "output_type": "display_data"
    }
   ],
   "source": [
    "dfplot.reset_index(inplace=True)\n",
    "fig = plt.figure(1, figsize=(10, 6))\n",
    "plt.bar(dfplot[\"Quintile\"], dfplot['Temps attente'], color=\"red\")\n",
    "plt.xlabel('Quintile de revenus du ménage(selon les revenus annuels par unité de consommation)')\n",
    "plt.ylabel(\"Temps d'attente moyen pour obtenir un logement social (en jours)\")"
   ],
   "metadata": {
    "collapsed": false,
    "pycharm": {
     "name": "#%%\n"
    }
   }
  },
  {
   "cell_type": "code",
   "execution_count": 240,
   "outputs": [],
   "source": [
    "attente2=bdd[[ \"motif n°1 de la demande\", \"Temps attente\"]]\n",
    "dfplot2 = attente2.groupby('motif n°1 de la demande').mean()\n",
    "dfplot2['Temps attente'] = dfplot2['Temps attente'].values.astype(np.int64)\n",
    "dfplot2['Temps attente']=(dfplot2['Temps attente']//(86400000000000))"
   ],
   "metadata": {
    "collapsed": false,
    "pycharm": {
     "name": "#%%\n"
    }
   }
  },
  {
   "cell_type": "code",
   "execution_count": 243,
   "outputs": [
    {
     "data": {
      "text/plain": "<Figure size 360x360 with 0 Axes>"
     },
     "metadata": {},
     "output_type": "display_data"
    }
   ],
   "source": [
    "dfplot2.reset_index(inplace=True)\n",
    "fig = plt.figure(1, figsize=(5, 5))"
   ],
   "metadata": {
    "collapsed": false,
    "pycharm": {
     "name": "#%%\n"
    }
   }
  },
  {
   "cell_type": "code",
   "execution_count": 244,
   "outputs": [
    {
     "data": {
      "text/plain": "Text(0, 0.5, 'Motif de la demande')"
     },
     "execution_count": 244,
     "metadata": {},
     "output_type": "execute_result"
    },
    {
     "data": {
      "text/plain": "<Figure size 432x288 with 1 Axes>",
      "image/png": "[encoded data removed]"
     },
     "metadata": {
      "needs_background": "light"
     },
     "output_type": "display_data"
    }
   ],
   "source": [
    "plt.barh(dfplot2[\"motif n°1 de la demande\"], dfplot2['Temps attente'], color=\"red\")\n",
    "plt.xlabel(\"Temps attente pour obtenir un logement social (en jours)\")\n",
    "plt.ylabel('Motif de la demande')"
   ],
   "metadata": {
    "collapsed": false,
    "pycharm": {
     "name": "#%%\n"
    }
   }
  },
  {
   "cell_type": "code",
   "execution_count": 245,
   "outputs": [
    {
     "data": {
      "text/plain": "                              motif n°1 de la demande  Temps attente\n0               Accédant à la propriété en difficulté           1086\n1              Assistant(e) maternel(le) ou familiale           1612\n2                  Autre motif particulier (précisez)            976\n3                                 Divorce, séparation            831\n4                                      Décohabitation            967\n5                                          Démolition            781\n6                            En procédure d'expulsion           1723\n7                    Futur mariage, concubinage, PACS            829\n8                                            Handicap           1384\n9   Logement insalubre ou dangereux ou local impro...           1470\n10  Logement non décent (ne répondant pas aux cara...           1401\n11  Logement non décent, insalubre ou dangereux ou...           1341\n12  Logement repris ou mis en vente par son propri...           1399\n13                                 Logement trop cher           1314\n14                                Logement trop grand           1118\n15                                Logement trop petit           1278\n16                           Mobilité professionnelle            938\n17                           Mutation professionnelle            449\n18          Problèmes d'environnement ou de voisinage           1080\n19  Profession du demandeur ou de son conjoint : a...           1533\n20                                   Raisons de santé           1492\n21                        Rapprochement de la famille           1149\n22          Rapprochement des équipements et services           1192\n23                   Rapprochement du lieu de travail            845\n24                              Regroupement familial           1097\n25  Sans logement ou hébergé ou en logement tempor...           1087\n26                               Violences familiales            849",
      "text/html": "<div>\n<style scoped>\n    .dataframe tbody tr th:only-of-type {\n        vertical-align: middle;\n    }\n\n    .dataframe tbody tr th {\n        vertical-align: top;\n    }\n\n    .dataframe thead th {\n        text-align: right;\n    }\n</style>\n<table border=\"1\" class=\"dataframe\">\n  <thead>\n    <tr style=\"text-align: right;\">\n      <th></th>\n      <th>motif n°1 de la demande</th>\n      <th>Temps attente</th>\n    </tr>\n  </thead>\n  <tbody>\n    <tr>\n      <th>0</th>\n      <td>Accédant à la propriété en difficulté</td>\n      <td>1086</td>\n    </tr>\n    <tr>\n      <th>1</th>\n      <td>Assistant(e) maternel(le) ou familiale</td>\n      <td>1612</td>\n    </tr>\n    <tr>\n      <th>2</th>\n      <td>Autre motif particulier (précisez)</td>\n      <td>976</td>\n    </tr>\n    <tr>\n      <th>3</th>\n      <td>Divorce, séparation</td>\n      <td>831</td>\n    </tr>\n    <tr>\n      <th>4</th>\n      <td>Décohabitation</td>\n      <td>967</td>\n    </tr>\n    <tr>\n      <th>5</th>\n      <td>Démolition</td>\n      <td>781</td>\n    </tr>\n    <tr>\n      <th>6</th>\n      <td>En procédure d'expulsion</td>\n      <td>1723</td>\n    </tr>\n    <tr>\n      <th>7</th>\n      <td>Futur mariage, concubinage, PACS</td>\n      <td>829</td>\n    </tr>\n    <tr>\n      <th>8</th>\n      <td>Handicap</td>\n      <td>1384</td>\n    </tr>\n    <tr>\n      <th>9</th>\n      <td>Logement insalubre ou dangereux ou local impro...</td>\n      <td>1470</td>\n    </tr>\n    <tr>\n      <th>10</th>\n      <td>Logement non décent (ne répondant pas aux cara...</td>\n      <td>1401</td>\n    </tr>\n    <tr>\n      <th>11</th>\n      <td>Logement non décent, insalubre ou dangereux ou...</td>\n      <td>1341</td>\n    </tr>\n    <tr>\n      <th>12</th>\n      <td>Logement repris ou mis en vente par son propri...</td>\n      <td>1399</td>\n    </tr>\n    <tr>\n      <th>13</th>\n      <td>Logement trop cher</td>\n      <td>1314</td>\n    </tr>\n    <tr>\n      <th>14</th>\n      <td>Logement trop grand</td>\n      <td>1118</td>\n    </tr>\n    <tr>\n      <th>15</th>\n      <td>Logement trop petit</td>\n      <td>1278</td>\n    </tr>\n    <tr>\n      <th>16</th>\n      <td>Mobilité professionnelle</td>\n      <td>938</td>\n    </tr>\n    <tr>\n      <th>17</th>\n      <td>Mutation professionnelle</td>\n      <td>449</td>\n    </tr>\n    <tr>\n      <th>18</th>\n      <td>Problèmes d'environnement ou de voisinage</td>\n      <td>1080</td>\n    </tr>\n    <tr>\n      <th>19</th>\n      <td>Profession du demandeur ou de son conjoint : a...</td>\n      <td>1533</td>\n    </tr>\n    <tr>\n      <th>20</th>\n      <td>Raisons de santé</td>\n      <td>1492</td>\n    </tr>\n    <tr>\n      <th>21</th>\n      <td>Rapprochement de la famille</td>\n      <td>1149</td>\n    </tr>\n    <tr>\n      <th>22</th>\n      <td>Rapprochement des équipements et services</td>\n      <td>1192</td>\n    </tr>\n    <tr>\n      <th>23</th>\n      <td>Rapprochement du lieu de travail</td>\n      <td>845</td>\n    </tr>\n    <tr>\n      <th>24</th>\n      <td>Regroupement familial</td>\n      <td>1097</td>\n    </tr>\n    <tr>\n      <th>25</th>\n      <td>Sans logement ou hébergé ou en logement tempor...</td>\n      <td>1087</td>\n    </tr>\n    <tr>\n      <th>26</th>\n      <td>Violences familiales</td>\n      <td>849</td>\n    </tr>\n  </tbody>\n</table>\n</div>"
     },
     "execution_count": 245,
     "metadata": {},
     "output_type": "execute_result"
    }
   ],
   "source": [
    "dfplot2"
   ],
   "metadata": {
    "collapsed": false,
    "pycharm": {
     "name": "#%%\n"
    }
   }
  },
  {
   "cell_type": "markdown",
   "source": [
    "Il faudrait réarranger le graph au niveau de la lisibilité. On pourrait aussi créer une fonction qui donne le graph en fonction d'une colonne en entrée (motif, quintile, sexe, tranches d'âge,....). Il faudrait pour cela au préalable avoir un dataframe nettoyé. Trier aussi par ordre croissant les motifs avec la commande sort."
   ],
   "metadata": {
    "collapsed": false,
    "pycharm": {
     "name": "#%% md\n"
    }
   }
  },
  {
   "cell_type": "markdown",
   "source": [
    "Sur les motifs on a l'impression que c'est pour les motfis relatifs à des mobilités professionnelles, ou liés à des violences conjugales que le temps est moins loin (pour les gens qui ont une certane stabilité professionnelle, ou pour les cas d'extrême urgence). Je ne comprends pas trop ce que fait le \"assistante maternelle\" dans la liste."
   ],
   "metadata": {
    "collapsed": false,
    "pycharm": {
     "name": "#%% md\n"
    }
   }
  },
  {
   "cell_type": "markdown",
   "source": [
    "## Automatisation"
   ],
   "metadata": {
    "collapsed": false,
    "pycharm": {
     "name": "#%% md\n"
    }
   }
  },
  {
   "cell_type": "code",
   "execution_count": null,
   "outputs": [],
   "source": [],
   "metadata": {
    "collapsed": false,
    "pycharm": {
     "name": "#%%\n"
    }
   }
  }
 ],
 "metadata": {
  "kernelspec": {
   "display_name": "Python 3",
   "language": "python",
   "name": "python3"
  },
  "language_info": {
   "codemirror_mode": {
    "name": "ipython",
    "version": 2
   },
   "file_extension": ".py",
   "mimetype": "text/x-python",
   "name": "python",
   "nbconvert_exporter": "python",
   "pygments_lexer": "ipython2",
   "version": "2.7.6"
  }
 },
 "nbformat": 4,
 "nbformat_minor": 0
}