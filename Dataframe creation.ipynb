{
 "cells": [
  {
   "cell_type": "code",
   "execution_count": 1,
   "outputs": [],
   "source": [
    "#! pip install openpyxl\n",
    "import pandas as pd"
   ],
   "metadata": {
    "collapsed": false,
    "pycharm": {
     "name": "#%%\n"
    }
   }
  },
  {
   "cell_type": "code",
   "execution_count": 9,
   "outputs": [
    {
     "name": "stderr",
     "output_type": "stream",
     "text": [
      "C:\\Users\\arceb\\AppData\\Local\\Programs\\Python\\Python39\\lib\\site-packages\\openpyxl\\styles\\stylesheet.py:226: UserWarning: Workbook contains no default style, apply openpyxl's default\n",
      "  warn(\"Workbook contains no default style, apply openpyxl's default\")\n"
     ]
    }
   ],
   "source": [
    "df75 = pd.DataFrame(pd.read_excel(r'C:\\Users\\arceb\\Desktop\\Stage\\Fichiers demandeurs complets Ministère/d_20180101_75_20190329.xlsx', sheet_name=\"Ressources demandeur\"))"
   ],
   "metadata": {
    "collapsed": false,
    "pycharm": {
     "name": "#%%\n"
    }
   }
  },
  {
   "cell_type": "code",
   "execution_count": 10,
   "outputs": [
    {
     "data": {
      "text/plain": "        Unnamed: 0                                         Unnamed: 1  \\\n0              NaN  Demandes actives : types de ressources des dem...   \n1              NaN                                                NaN   \n2              NaN  Source : DGALN - Infocentre Numéro Unique - do...   \n3              NaN                                                NaN   \n4              NaN                                                NaN   \n...            ...                                                ...   \n255878         NaN                                 9740616123643GDPUB   \n255879         NaN                                 9740617145244GDPUB   \n255880         NaN                                 974071046835311480   \n255881         NaN                                 9740816127611GDPUB   \n255882         NaN                                             148574   \n\n       Unnamed: 2                    Unnamed: 3  \\\n0             NaN                           NaN   \n1             NaN                           NaN   \n2             NaN                           NaN   \n3             NaN                           NaN   \n4             NaN                           NaN   \n...           ...                           ...   \n255878       1250  Salaire ou revenu d'activité   \n255879        NaN                           NaN   \n255880        620                      Retraite   \n255881       2037  Salaire ou revenu d'activité   \n255882        NaN                           NaN   \n\n                                 Unnamed: 4  \n0                                       NaN  \n1                                       NaN  \n2                                       NaN  \n3       Date du stock : 01/01/2018 12:00:00  \n4                                       NaN  \n...                                     ...  \n255878                                 1250  \n255879                                  NaN  \n255880                                  620  \n255881                                 2037  \n255882                                  NaN  \n\n[255883 rows x 5 columns]",
      "text/html": "<div>\n<style scoped>\n    .dataframe tbody tr th:only-of-type {\n        vertical-align: middle;\n    }\n\n    .dataframe tbody tr th {\n        vertical-align: top;\n    }\n\n    .dataframe thead th {\n        text-align: right;\n    }\n</style>\n<table border=\"1\" class=\"dataframe\">\n  <thead>\n    <tr style=\"text-align: right;\">\n      <th></th>\n      <th>Unnamed: 0</th>\n      <th>Unnamed: 1</th>\n      <th>Unnamed: 2</th>\n      <th>Unnamed: 3</th>\n      <th>Unnamed: 4</th>\n    </tr>\n  </thead>\n  <tbody>\n    <tr>\n      <th>0</th>\n      <td>NaN</td>\n      <td>Demandes actives : types de ressources des dem...</td>\n      <td>NaN</td>\n      <td>NaN</td>\n      <td>NaN</td>\n    </tr>\n    <tr>\n      <th>1</th>\n      <td>NaN</td>\n      <td>NaN</td>\n      <td>NaN</td>\n      <td>NaN</td>\n      <td>NaN</td>\n    </tr>\n    <tr>\n      <th>2</th>\n      <td>NaN</td>\n      <td>Source : DGALN - Infocentre Numéro Unique - do...</td>\n      <td>NaN</td>\n      <td>NaN</td>\n      <td>NaN</td>\n    </tr>\n    <tr>\n      <th>3</th>\n      <td>NaN</td>\n      <td>NaN</td>\n      <td>NaN</td>\n      <td>NaN</td>\n      <td>Date du stock : 01/01/2018 12:00:00</td>\n    </tr>\n    <tr>\n      <th>4</th>\n      <td>NaN</td>\n      <td>NaN</td>\n      <td>NaN</td>\n      <td>NaN</td>\n      <td>NaN</td>\n    </tr>\n    <tr>\n      <th>...</th>\n      <td>...</td>\n      <td>...</td>\n      <td>...</td>\n      <td>...</td>\n      <td>...</td>\n    </tr>\n    <tr>\n      <th>255878</th>\n      <td>NaN</td>\n      <td>9740616123643GDPUB</td>\n      <td>1250</td>\n      <td>Salaire ou revenu d'activité</td>\n      <td>1250</td>\n    </tr>\n    <tr>\n      <th>255879</th>\n      <td>NaN</td>\n      <td>9740617145244GDPUB</td>\n      <td>NaN</td>\n      <td>NaN</td>\n      <td>NaN</td>\n    </tr>\n    <tr>\n      <th>255880</th>\n      <td>NaN</td>\n      <td>974071046835311480</td>\n      <td>620</td>\n      <td>Retraite</td>\n      <td>620</td>\n    </tr>\n    <tr>\n      <th>255881</th>\n      <td>NaN</td>\n      <td>9740816127611GDPUB</td>\n      <td>2037</td>\n      <td>Salaire ou revenu d'activité</td>\n      <td>2037</td>\n    </tr>\n    <tr>\n      <th>255882</th>\n      <td>NaN</td>\n      <td>148574</td>\n      <td>NaN</td>\n      <td>NaN</td>\n      <td>NaN</td>\n    </tr>\n  </tbody>\n</table>\n<p>255883 rows × 5 columns</p>\n</div>"
     },
     "execution_count": 10,
     "metadata": {},
     "output_type": "execute_result"
    }
   ],
   "source": [
    "df75"
   ],
   "metadata": {
    "collapsed": false,
    "pycharm": {
     "name": "#%%\n"
    }
   }
  },
  {
   "cell_type": "code",
   "execution_count": 11,
   "outputs": [
    {
     "name": "stderr",
     "output_type": "stream",
     "text": [
      "C:\\Users\\arceb\\AppData\\Local\\Programs\\Python\\Python39\\lib\\site-packages\\openpyxl\\styles\\stylesheet.py:226: UserWarning: Workbook contains no default style, apply openpyxl's default\n",
      "  warn(\"Workbook contains no default style, apply openpyxl's default\")\n",
      "C:\\Users\\arceb\\AppData\\Local\\Programs\\Python\\Python39\\lib\\site-packages\\openpyxl\\styles\\stylesheet.py:226: UserWarning: Workbook contains no default style, apply openpyxl's default\n",
      "  warn(\"Workbook contains no default style, apply openpyxl's default\")\n",
      "C:\\Users\\arceb\\AppData\\Local\\Programs\\Python\\Python39\\lib\\site-packages\\openpyxl\\styles\\stylesheet.py:226: UserWarning: Workbook contains no default style, apply openpyxl's default\n",
      "  warn(\"Workbook contains no default style, apply openpyxl's default\")\n",
      "C:\\Users\\arceb\\AppData\\Local\\Programs\\Python\\Python39\\lib\\site-packages\\openpyxl\\styles\\stylesheet.py:226: UserWarning: Workbook contains no default style, apply openpyxl's default\n",
      "  warn(\"Workbook contains no default style, apply openpyxl's default\")\n",
      "C:\\Users\\arceb\\AppData\\Local\\Programs\\Python\\Python39\\lib\\site-packages\\openpyxl\\styles\\stylesheet.py:226: UserWarning: Workbook contains no default style, apply openpyxl's default\n",
      "  warn(\"Workbook contains no default style, apply openpyxl's default\")\n",
      "C:\\Users\\arceb\\AppData\\Local\\Programs\\Python\\Python39\\lib\\site-packages\\openpyxl\\styles\\stylesheet.py:226: UserWarning: Workbook contains no default style, apply openpyxl's default\n",
      "  warn(\"Workbook contains no default style, apply openpyxl's default\")\n"
     ]
    }
   ],
   "source": [
    "df7778=pd.DataFrame(pd.read_excel(r'C:\\Users\\arceb\\Desktop\\Stage\\Fichiers demandeurs complets Ministère/d_20180101_77_78_20190329.xlsx', sheet_name=\"Ressources demandeur\"))\n",
    "df91=pd.DataFrame(pd.read_excel(r'C:\\Users\\arceb\\Desktop\\Stage\\Fichiers demandeurs complets Ministère/d_20180101_91_20190329.xlsx', sheet_name=\"Ressources demandeur\"))\n",
    "df92=pd.DataFrame(pd.read_excel(r'C:\\Users\\arceb\\Desktop\\Stage\\Fichiers demandeurs complets Ministère/d_20180101_92_20190329.xlsx', sheet_name=\"Ressources demandeur\"))\n",
    "df93=pd.DataFrame(pd.read_excel(r'C:\\Users\\arceb\\Desktop\\Stage\\Fichiers demandeurs complets Ministère/d_20180101_93_20190329.xlsx', sheet_name=\"Ressources demandeur\"))\n",
    "df94=pd.DataFrame(pd.read_excel(r'C:\\Users\\arceb\\Desktop\\Stage\\Fichiers demandeurs complets Ministère/d_20180101_94_20190329.xlsx', sheet_name=\"Ressources demandeur\"))\n",
    "df95=pd.DataFrame(pd.read_excel(r'C:\\Users\\arceb\\Desktop\\Stage\\Fichiers demandeurs complets Ministère/d_20180101_95_20190329.xlsx', sheet_name=\"Ressources demandeur\"))"
   ],
   "metadata": {
    "collapsed": false,
    "pycharm": {
     "name": "#%%\n"
    }
   }
  },
  {
   "cell_type": "code",
   "execution_count": 12,
   "outputs": [],
   "source": [
    "df_75=df75.drop(index = [0, 1, 2, 3, 4, 5], columns=['Unnamed: 0'])\n",
    "df_7778=df7778.drop(index = [0, 1, 2, 3, 4, 5], columns=['Unnamed: 0'])\n",
    "df_91=df91.drop(index = [0, 1, 2, 3, 4, 5], columns=['Unnamed: 0'])\n",
    "df_92=df92.drop(index = [0, 1, 2, 3, 4, 5], columns=['Unnamed: 0'])\n",
    "df_93=df93.drop(index = [0, 1, 2, 3, 4, 5], columns=['Unnamed: 0'])\n",
    "df_94=df94.drop(index = [0, 1, 2, 3, 4, 5], columns=['Unnamed: 0'])\n",
    "df_95=df95.drop(index = [0, 1, 2, 3, 4, 5], columns=['Unnamed: 0'])"
   ],
   "metadata": {
    "collapsed": false,
    "pycharm": {
     "name": "#%%\n"
    }
   }
  },
  {
   "cell_type": "code",
   "execution_count": 14,
   "outputs": [
    {
     "data": {
      "text/plain": "                Unnamed: 1               Unnamed: 2  \\\n6            Numéro Unique  Ressources mensuelles\\n   \n7       0010216061927GDPUB                      908   \n8       001021707657411126                     1239   \n9       0010417079507GDPUB                     1000   \n10      001071606857001033                     1570   \n...                    ...                      ...   \n124946  974081715046411487                     1027   \n124947  974101613022611484                     1240   \n124948  974111613236511483                     1650   \n124949  9741217157605GDPUB                      475   \n124950               65838                      NaN   \n\n                               Unnamed: 3                       Unnamed: 4  \n6                     Type de ressource\\n  Montant par type de ressource\\n  \n7                                Retraite                              908  \n8                                Retraite                             1239  \n9         Allocation chômage / indemnités                             1000  \n10        Allocation chômage / indemnités                              500  \n...                                   ...                              ...  \n124946                           Retraite                              867  \n124947                           Retraite                             1240  \n124948       Salaire ou revenu d'activité                             1650  \n124949  Revenu de solidarité active (RSA)                              475  \n124950                                NaN                              NaN  \n\n[1285458 rows x 4 columns]",
      "text/html": "<div>\n<style scoped>\n    .dataframe tbody tr th:only-of-type {\n        vertical-align: middle;\n    }\n\n    .dataframe tbody tr th {\n        vertical-align: top;\n    }\n\n    .dataframe thead th {\n        text-align: right;\n    }\n</style>\n<table border=\"1\" class=\"dataframe\">\n  <thead>\n    <tr style=\"text-align: right;\">\n      <th></th>\n      <th>Unnamed: 1</th>\n      <th>Unnamed: 2</th>\n      <th>Unnamed: 3</th>\n      <th>Unnamed: 4</th>\n    </tr>\n  </thead>\n  <tbody>\n    <tr>\n      <th>6</th>\n      <td>Numéro Unique</td>\n      <td>Ressources mensuelles\\n</td>\n      <td>Type de ressource\\n</td>\n      <td>Montant par type de ressource\\n</td>\n    </tr>\n    <tr>\n      <th>7</th>\n      <td>0010216061927GDPUB</td>\n      <td>908</td>\n      <td>Retraite</td>\n      <td>908</td>\n    </tr>\n    <tr>\n      <th>8</th>\n      <td>001021707657411126</td>\n      <td>1239</td>\n      <td>Retraite</td>\n      <td>1239</td>\n    </tr>\n    <tr>\n      <th>9</th>\n      <td>0010417079507GDPUB</td>\n      <td>1000</td>\n      <td>Allocation chômage / indemnités</td>\n      <td>1000</td>\n    </tr>\n    <tr>\n      <th>10</th>\n      <td>001071606857001033</td>\n      <td>1570</td>\n      <td>Allocation chômage / indemnités</td>\n      <td>500</td>\n    </tr>\n    <tr>\n      <th>...</th>\n      <td>...</td>\n      <td>...</td>\n      <td>...</td>\n      <td>...</td>\n    </tr>\n    <tr>\n      <th>124946</th>\n      <td>974081715046411487</td>\n      <td>1027</td>\n      <td>Retraite</td>\n      <td>867</td>\n    </tr>\n    <tr>\n      <th>124947</th>\n      <td>974101613022611484</td>\n      <td>1240</td>\n      <td>Retraite</td>\n      <td>1240</td>\n    </tr>\n    <tr>\n      <th>124948</th>\n      <td>974111613236511483</td>\n      <td>1650</td>\n      <td>Salaire ou revenu d'activité</td>\n      <td>1650</td>\n    </tr>\n    <tr>\n      <th>124949</th>\n      <td>9741217157605GDPUB</td>\n      <td>475</td>\n      <td>Revenu de solidarité active (RSA)</td>\n      <td>475</td>\n    </tr>\n    <tr>\n      <th>124950</th>\n      <td>65838</td>\n      <td>NaN</td>\n      <td>NaN</td>\n      <td>NaN</td>\n    </tr>\n  </tbody>\n</table>\n<p>1285458 rows × 4 columns</p>\n</div>"
     },
     "execution_count": 14,
     "metadata": {},
     "output_type": "execute_result"
    }
   ],
   "source": [
    "df_d=pd.concat([df_75, df_7778, df_91, df_92, df_93, df_94, df_95])\n",
    "df_d"
   ],
   "metadata": {
    "collapsed": false,
    "pycharm": {
     "name": "#%%\n"
    }
   }
  },
  {
   "cell_type": "code",
   "execution_count": 15,
   "outputs": [],
   "source": [
    "df_d.columns = df_d.iloc[0]"
   ],
   "metadata": {
    "collapsed": false,
    "pycharm": {
     "name": "#%%\n"
    }
   }
  },
  {
   "cell_type": "code",
   "execution_count": 16,
   "outputs": [
    {
     "data": {
      "text/plain": "6       Numéro Unique Ressources mensuelles\\n  \\\n7  0010216061927GDPUB                     908   \n8  001021707657411126                    1239   \n9  0010417079507GDPUB                    1000   \n\n6              Type de ressource\\n Montant par type de ressource\\n  \n7                         Retraite                             908  \n8                         Retraite                            1239  \n9  Allocation chômage / indemnités                            1000  ",
      "text/html": "<div>\n<style scoped>\n    .dataframe tbody tr th:only-of-type {\n        vertical-align: middle;\n    }\n\n    .dataframe tbody tr th {\n        vertical-align: top;\n    }\n\n    .dataframe thead th {\n        text-align: right;\n    }\n</style>\n<table border=\"1\" class=\"dataframe\">\n  <thead>\n    <tr style=\"text-align: right;\">\n      <th>6</th>\n      <th>Numéro Unique</th>\n      <th>Ressources mensuelles\\n</th>\n      <th>Type de ressource\\n</th>\n      <th>Montant par type de ressource\\n</th>\n    </tr>\n  </thead>\n  <tbody>\n    <tr>\n      <th>7</th>\n      <td>0010216061927GDPUB</td>\n      <td>908</td>\n      <td>Retraite</td>\n      <td>908</td>\n    </tr>\n    <tr>\n      <th>8</th>\n      <td>001021707657411126</td>\n      <td>1239</td>\n      <td>Retraite</td>\n      <td>1239</td>\n    </tr>\n    <tr>\n      <th>9</th>\n      <td>0010417079507GDPUB</td>\n      <td>1000</td>\n      <td>Allocation chômage / indemnités</td>\n      <td>1000</td>\n    </tr>\n  </tbody>\n</table>\n</div>"
     },
     "execution_count": 16,
     "metadata": {},
     "output_type": "execute_result"
    }
   ],
   "source": [
    "df_d1=df_d.drop(index = [6])\n"
   ],
   "metadata": {
    "collapsed": false,
    "pycharm": {
     "name": "#%%\n"
    }
   }
  },
  {
   "cell_type": "code",
   "execution_count": 17,
   "outputs": [
    {
     "data": {
      "text/plain": "6            Numéro Unique Ressources mensuelles\\n  \\\n7       0010216061927GDPUB                     908   \n8       001021707657411126                    1239   \n9       0010417079507GDPUB                    1000   \n10      001071606857001033                    1570   \n11      001071606857001033                    1570   \n...                    ...                     ...   \n124946  974081715046411487                    1027   \n124947  974101613022611484                    1240   \n124948  974111613236511483                    1650   \n124949  9741217157605GDPUB                     475   \n124950               65838                     NaN   \n\n6                     Type de ressource\\n Montant par type de ressource\\n  \n7                                Retraite                             908  \n8                                Retraite                            1239  \n9         Allocation chômage / indemnités                            1000  \n10        Allocation chômage / indemnités                             500  \n11           Salaire ou revenu d'activité                            1070  \n...                                   ...                             ...  \n124946                           Retraite                             867  \n124947                           Retraite                            1240  \n124948       Salaire ou revenu d'activité                            1650  \n124949  Revenu de solidarité active (RSA)                             475  \n124950                                NaN                             NaN  \n\n[1285451 rows x 4 columns]",
      "text/html": "<div>\n<style scoped>\n    .dataframe tbody tr th:only-of-type {\n        vertical-align: middle;\n    }\n\n    .dataframe tbody tr th {\n        vertical-align: top;\n    }\n\n    .dataframe thead th {\n        text-align: right;\n    }\n</style>\n<table border=\"1\" class=\"dataframe\">\n  <thead>\n    <tr style=\"text-align: right;\">\n      <th>6</th>\n      <th>Numéro Unique</th>\n      <th>Ressources mensuelles\\n</th>\n      <th>Type de ressource\\n</th>\n      <th>Montant par type de ressource\\n</th>\n    </tr>\n  </thead>\n  <tbody>\n    <tr>\n      <th>7</th>\n      <td>0010216061927GDPUB</td>\n      <td>908</td>\n      <td>Retraite</td>\n      <td>908</td>\n    </tr>\n    <tr>\n      <th>8</th>\n      <td>001021707657411126</td>\n      <td>1239</td>\n      <td>Retraite</td>\n      <td>1239</td>\n    </tr>\n    <tr>\n      <th>9</th>\n      <td>0010417079507GDPUB</td>\n      <td>1000</td>\n      <td>Allocation chômage / indemnités</td>\n      <td>1000</td>\n    </tr>\n    <tr>\n      <th>10</th>\n      <td>001071606857001033</td>\n      <td>1570</td>\n      <td>Allocation chômage / indemnités</td>\n      <td>500</td>\n    </tr>\n    <tr>\n      <th>11</th>\n      <td>001071606857001033</td>\n      <td>1570</td>\n      <td>Salaire ou revenu d'activité</td>\n      <td>1070</td>\n    </tr>\n    <tr>\n      <th>...</th>\n      <td>...</td>\n      <td>...</td>\n      <td>...</td>\n      <td>...</td>\n    </tr>\n    <tr>\n      <th>124946</th>\n      <td>974081715046411487</td>\n      <td>1027</td>\n      <td>Retraite</td>\n      <td>867</td>\n    </tr>\n    <tr>\n      <th>124947</th>\n      <td>974101613022611484</td>\n      <td>1240</td>\n      <td>Retraite</td>\n      <td>1240</td>\n    </tr>\n    <tr>\n      <th>124948</th>\n      <td>974111613236511483</td>\n      <td>1650</td>\n      <td>Salaire ou revenu d'activité</td>\n      <td>1650</td>\n    </tr>\n    <tr>\n      <th>124949</th>\n      <td>9741217157605GDPUB</td>\n      <td>475</td>\n      <td>Revenu de solidarité active (RSA)</td>\n      <td>475</td>\n    </tr>\n    <tr>\n      <th>124950</th>\n      <td>65838</td>\n      <td>NaN</td>\n      <td>NaN</td>\n      <td>NaN</td>\n    </tr>\n  </tbody>\n</table>\n<p>1285451 rows × 4 columns</p>\n</div>"
     },
     "execution_count": 17,
     "metadata": {},
     "output_type": "execute_result"
    }
   ],
   "source": [
    "df_d1"
   ],
   "metadata": {
    "collapsed": false,
    "pycharm": {
     "name": "#%%\n"
    }
   }
  },
  {
   "cell_type": "code",
   "execution_count": 18,
   "outputs": [
    {
     "data": {
      "text/plain": "6             Numéro Unique Ressources mensuelles\\n  \\\n0        0010216061927GDPUB                     908   \n1        001021707657411126                    1239   \n2        0010417079507GDPUB                    1000   \n3        001071606857001033                    1570   \n4        001071606857001033                    1570   \n...                     ...                     ...   \n1285446  974081715046411487                    1027   \n1285447  974101613022611484                    1240   \n1285448  974111613236511483                    1650   \n1285449  9741217157605GDPUB                     475   \n1285450               65838                     NaN   \n\n6                      Type de ressource\\n Montant par type de ressource\\n  \n0                                 Retraite                             908  \n1                                 Retraite                            1239  \n2          Allocation chômage / indemnités                            1000  \n3          Allocation chômage / indemnités                             500  \n4             Salaire ou revenu d'activité                            1070  \n...                                    ...                             ...  \n1285446                           Retraite                             867  \n1285447                           Retraite                            1240  \n1285448       Salaire ou revenu d'activité                            1650  \n1285449  Revenu de solidarité active (RSA)                             475  \n1285450                                NaN                             NaN  \n\n[1285451 rows x 4 columns]",
      "text/html": "<div>\n<style scoped>\n    .dataframe tbody tr th:only-of-type {\n        vertical-align: middle;\n    }\n\n    .dataframe tbody tr th {\n        vertical-align: top;\n    }\n\n    .dataframe thead th {\n        text-align: right;\n    }\n</style>\n<table border=\"1\" class=\"dataframe\">\n  <thead>\n    <tr style=\"text-align: right;\">\n      <th>6</th>\n      <th>Numéro Unique</th>\n      <th>Ressources mensuelles\\n</th>\n      <th>Type de ressource\\n</th>\n      <th>Montant par type de ressource\\n</th>\n    </tr>\n  </thead>\n  <tbody>\n    <tr>\n      <th>0</th>\n      <td>0010216061927GDPUB</td>\n      <td>908</td>\n      <td>Retraite</td>\n      <td>908</td>\n    </tr>\n    <tr>\n      <th>1</th>\n      <td>001021707657411126</td>\n      <td>1239</td>\n      <td>Retraite</td>\n      <td>1239</td>\n    </tr>\n    <tr>\n      <th>2</th>\n      <td>0010417079507GDPUB</td>\n      <td>1000</td>\n      <td>Allocation chômage / indemnités</td>\n      <td>1000</td>\n    </tr>\n    <tr>\n      <th>3</th>\n      <td>001071606857001033</td>\n      <td>1570</td>\n      <td>Allocation chômage / indemnités</td>\n      <td>500</td>\n    </tr>\n    <tr>\n      <th>4</th>\n      <td>001071606857001033</td>\n      <td>1570</td>\n      <td>Salaire ou revenu d'activité</td>\n      <td>1070</td>\n    </tr>\n    <tr>\n      <th>...</th>\n      <td>...</td>\n      <td>...</td>\n      <td>...</td>\n      <td>...</td>\n    </tr>\n    <tr>\n      <th>1285446</th>\n      <td>974081715046411487</td>\n      <td>1027</td>\n      <td>Retraite</td>\n      <td>867</td>\n    </tr>\n    <tr>\n      <th>1285447</th>\n      <td>974101613022611484</td>\n      <td>1240</td>\n      <td>Retraite</td>\n      <td>1240</td>\n    </tr>\n    <tr>\n      <th>1285448</th>\n      <td>974111613236511483</td>\n      <td>1650</td>\n      <td>Salaire ou revenu d'activité</td>\n      <td>1650</td>\n    </tr>\n    <tr>\n      <th>1285449</th>\n      <td>9741217157605GDPUB</td>\n      <td>475</td>\n      <td>Revenu de solidarité active (RSA)</td>\n      <td>475</td>\n    </tr>\n    <tr>\n      <th>1285450</th>\n      <td>65838</td>\n      <td>NaN</td>\n      <td>NaN</td>\n      <td>NaN</td>\n    </tr>\n  </tbody>\n</table>\n<p>1285451 rows × 4 columns</p>\n</div>"
     },
     "execution_count": 18,
     "metadata": {},
     "output_type": "execute_result"
    }
   ],
   "source": [
    "df_d1.reset_index(inplace=True, drop=True)\n",
    "df_d1"
   ],
   "metadata": {
    "collapsed": false,
    "pycharm": {
     "name": "#%%\n"
    }
   }
  },
  {
   "cell_type": "code",
   "execution_count": 19,
   "outputs": [],
   "source": [
    "df_d1.to_csv('demandeurs_IDF__revenus.csv', index = True)"
   ],
   "metadata": {
    "collapsed": false,
    "pycharm": {
     "name": "#%%\n"
    }
   }
  },
  {
   "cell_type": "code",
   "execution_count": null,
   "outputs": [],
   "source": [],
   "metadata": {
    "collapsed": false,
    "pycharm": {
     "name": "#%%\n"
    }
   }
  }
 ],
 "metadata": {
  "kernelspec": {
   "display_name": "Python 3",
   "language": "python",
   "name": "python3"
  },
  "language_info": {
   "codemirror_mode": {
    "name": "ipython",
    "version": 2
   },
   "file_extension": ".py",
   "mimetype": "text/x-python",
   "name": "python",
   "nbconvert_exporter": "python",
   "pygments_lexer": "ipython2",
   "version": "2.7.6"
  }
 },
 "nbformat": 4,
 "nbformat_minor": 0
}