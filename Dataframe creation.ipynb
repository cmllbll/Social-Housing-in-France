{
 "cells": [
  {
   "cell_type": "code",
   "execution_count": 5,
   "outputs": [],
   "source": [
    "#! pip install openpyxl\n",
    "import pandas as pd"
   ],
   "metadata": {
    "collapsed": false,
    "pycharm": {
     "name": "#%%\n"
    }
   }
  },
  {
   "cell_type": "code",
   "execution_count": 6,
   "outputs": [],
   "source": [
    "df = pd.DataFrame(pd.read_excel(r'C:\\Users\\arceb\\Desktop\\Stage\\Attrib 2018 MGP - RM positif - MVI pour CBA.xlsx'))\n",
    "#df = pd.DataFrame(pd.read_excel(r'C:\\Users\\arceb\\Desktop\\Stage\\Attrib 2018 MGP - RM positif - MVI pour CBA.xlsx', sheet_name=\"Ressources demandeur\"))"
   ],
   "metadata": {
    "collapsed": false,
    "pycharm": {
     "name": "#%%\n"
    }
   }
  },
  {
   "cell_type": "code",
   "execution_count": 4,
   "outputs": [
    {
     "data": {
      "text/plain": "       Unnamed: 0         région       Numéro Unique Date création demande  \\\n0             NaN  Ile-de-France  111011885857794043            2018-01-15   \n1             NaN  Ile-de-France  111051767234510108            2017-05-15   \n2             NaN  Ile-de-France  111091777617075056            2017-09-29   \n3             NaN  Ile-de-France  111021758912175056            2017-02-08   \n4             NaN  Ile-de-France  111111781080175056            2017-11-10   \n...           ...            ...                 ...                   ...   \n42743         NaN  Ile-de-France  111011885009910129            2018-01-04   \n42744         NaN  Ile-de-France  1111217829952GDPUB            2017-12-03   \n42745         NaN  Ile-de-France  111111782174292019            2017-11-23   \n42746         NaN  Ile-de-France  111091647518710129            2016-09-23   \n42747         NaN  Ile-de-France  111041228887210033            2012-04-23   \n\n      Date de la radiation  Age demandeur Situation familiale  \\\n0               2018-06-08             37           Marié (e)   \n1               2018-06-01             54          Séparé (e)   \n2               2018-11-26             32        Concubin (e)   \n3               2018-01-03             28         Célibataire   \n4               2018-04-01             45         Célibataire   \n...                    ...            ...                 ...   \n42743           2018-04-24             54         Célibataire   \n42744           2018-02-12             33           Marié (e)   \n42745           2018-08-07             66           Marié (e)   \n42746           2018-05-25             61           Marié (e)   \n42747           2018-04-26             56         Divorcé (e)   \n\n      Code département logement actuel Code INSEE logt actuel  \\\n0                                   94                  94043   \n1                                   94                  94017   \n2                                   94                  94068   \n3                                   94                  94017   \n4                                   75                  75104   \n...                                ...                    ...   \n42743                               91                  91174   \n42744                               75                  75114   \n42745                               92                  92019   \n42746                               93                  93005   \n42747                               94                  94028   \n\n              Commune logt actuel  ...  Code de la commune attribuée  \\\n0              Le Kremlin-Bicêtre  ...                         94067   \n1             Champigny-sur-Marne  ...                         94079   \n2           Saint-Maur-des-Fossés  ...                         93057   \n3             Champigny-sur-Marne  ...                         75117   \n4       Paris 4ème arrondissement  ...                         75104   \n...                           ...  ...                           ...   \n42743            Corbeil-Essonnes  ...                         91687   \n42744  Paris 14ème arrondissement  ...                         75114   \n42745            Châtenay-Malabry  ...                         92019   \n42746            Aulnay-sous-Bois  ...                         93005   \n42747                     Créteil  ...                         94053   \n\n      Région du logement attribué Type du logement attribué   Est en QPV  \\\n0                   Ile-de-France                        T3  Ne sait pas   \n1                   Ile-de-France                        T3          Non   \n2                   Ile-de-France                        T2          Non   \n3                   Ile-de-France                        T1          Non   \n4                   Ile-de-France                        T1          Non   \n...                           ...                       ...          ...   \n42743               Ile-de-France                        T3          Non   \n42744               Ile-de-France                        T3          Non   \n42745               Ile-de-France                        T4          Non   \n42746               Ile-de-France                        T3          Oui   \n42747               Ile-de-France                        T4          Non   \n\n       Surface du logement attribué    Statut DALO  \\\n0                                64  Non renseigné   \n1                                70  Non renseigné   \n2                                46  Non renseigné   \n3                                27  Non renseigné   \n4                                16  Non renseigné   \n...                             ...            ...   \n42743                            57  Non renseigné   \n42744                            71  Non renseigné   \n42745                            81  Non renseigné   \n42746                            64  Non renseigné   \n42747                            77   Actif relogé   \n\n       Date de la décision DALO\\n\\n Accompagnement social Diagnostic social  \\\n0                               NaT                   Non               Non   \n1                               NaT                   Non               Non   \n2                               NaT                   Non               Non   \n3                               NaT                   Non               Non   \n4                               NaT                   Non               Non   \n...                             ...                   ...               ...   \n42743                           NaT                   Non               Non   \n42744                           NaT                   Non               Non   \n42745                           NaT                   Non               Non   \n42746                           NaT                   Non               Non   \n42747                    2013-06-20                   Oui               Non   \n\n                                            Réservataire  \n0                                        Action Logement  \n1                                        Action Logement  \n2                                        Action Logement  \n3      Contingent préfet fonctionnaires et agents pub...  \n4      Contingent des collectivités territoriales, de...  \n...                                                  ...  \n42743  Contingent préfet fonctionnaires et agents pub...  \n42744                                    Hors contingent  \n42745  Contingent des collectivités territoriales, de...  \n42746                                    Hors contingent  \n42747  Contingent préfet prioritaires (hors fonctionn...  \n\n[42748 rows x 39 columns]",
      "text/html": "<div>\n<style scoped>\n    .dataframe tbody tr th:only-of-type {\n        vertical-align: middle;\n    }\n\n    .dataframe tbody tr th {\n        vertical-align: top;\n    }\n\n    .dataframe thead th {\n        text-align: right;\n    }\n</style>\n<table border=\"1\" class=\"dataframe\">\n  <thead>\n    <tr style=\"text-align: right;\">\n      <th></th>\n      <th>Unnamed: 0</th>\n      <th>région</th>\n      <th>Numéro Unique</th>\n      <th>Date création demande</th>\n      <th>Date de la radiation</th>\n      <th>Age demandeur</th>\n      <th>Situation familiale</th>\n      <th>Code département logement actuel</th>\n      <th>Code INSEE logt actuel</th>\n      <th>Commune logt actuel</th>\n      <th>...</th>\n      <th>Code de la commune attribuée</th>\n      <th>Région du logement attribué</th>\n      <th>Type du logement attribué</th>\n      <th>Est en QPV</th>\n      <th>Surface du logement attribué</th>\n      <th>Statut DALO</th>\n      <th>Date de la décision DALO\\n\\n</th>\n      <th>Accompagnement social</th>\n      <th>Diagnostic social</th>\n      <th>Réservataire</th>\n    </tr>\n  </thead>\n  <tbody>\n    <tr>\n      <th>0</th>\n      <td>NaN</td>\n      <td>Ile-de-France</td>\n      <td>111011885857794043</td>\n      <td>2018-01-15</td>\n      <td>2018-06-08</td>\n      <td>37</td>\n      <td>Marié (e)</td>\n      <td>94</td>\n      <td>94043</td>\n      <td>Le Kremlin-Bicêtre</td>\n      <td>...</td>\n      <td>94067</td>\n      <td>Ile-de-France</td>\n      <td>T3</td>\n      <td>Ne sait pas</td>\n      <td>64</td>\n      <td>Non renseigné</td>\n      <td>NaT</td>\n      <td>Non</td>\n      <td>Non</td>\n      <td>Action Logement</td>\n    </tr>\n    <tr>\n      <th>1</th>\n      <td>NaN</td>\n      <td>Ile-de-France</td>\n      <td>111051767234510108</td>\n      <td>2017-05-15</td>\n      <td>2018-06-01</td>\n      <td>54</td>\n      <td>Séparé (e)</td>\n      <td>94</td>\n      <td>94017</td>\n      <td>Champigny-sur-Marne</td>\n      <td>...</td>\n      <td>94079</td>\n      <td>Ile-de-France</td>\n      <td>T3</td>\n      <td>Non</td>\n      <td>70</td>\n      <td>Non renseigné</td>\n      <td>NaT</td>\n      <td>Non</td>\n      <td>Non</td>\n      <td>Action Logement</td>\n    </tr>\n    <tr>\n      <th>2</th>\n      <td>NaN</td>\n      <td>Ile-de-France</td>\n      <td>111091777617075056</td>\n      <td>2017-09-29</td>\n      <td>2018-11-26</td>\n      <td>32</td>\n      <td>Concubin (e)</td>\n      <td>94</td>\n      <td>94068</td>\n      <td>Saint-Maur-des-Fossés</td>\n      <td>...</td>\n      <td>93057</td>\n      <td>Ile-de-France</td>\n      <td>T2</td>\n      <td>Non</td>\n      <td>46</td>\n      <td>Non renseigné</td>\n      <td>NaT</td>\n      <td>Non</td>\n      <td>Non</td>\n      <td>Action Logement</td>\n    </tr>\n    <tr>\n      <th>3</th>\n      <td>NaN</td>\n      <td>Ile-de-France</td>\n      <td>111021758912175056</td>\n      <td>2017-02-08</td>\n      <td>2018-01-03</td>\n      <td>28</td>\n      <td>Célibataire</td>\n      <td>94</td>\n      <td>94017</td>\n      <td>Champigny-sur-Marne</td>\n      <td>...</td>\n      <td>75117</td>\n      <td>Ile-de-France</td>\n      <td>T1</td>\n      <td>Non</td>\n      <td>27</td>\n      <td>Non renseigné</td>\n      <td>NaT</td>\n      <td>Non</td>\n      <td>Non</td>\n      <td>Contingent préfet fonctionnaires et agents pub...</td>\n    </tr>\n    <tr>\n      <th>4</th>\n      <td>NaN</td>\n      <td>Ile-de-France</td>\n      <td>111111781080175056</td>\n      <td>2017-11-10</td>\n      <td>2018-04-01</td>\n      <td>45</td>\n      <td>Célibataire</td>\n      <td>75</td>\n      <td>75104</td>\n      <td>Paris 4ème arrondissement</td>\n      <td>...</td>\n      <td>75104</td>\n      <td>Ile-de-France</td>\n      <td>T1</td>\n      <td>Non</td>\n      <td>16</td>\n      <td>Non renseigné</td>\n      <td>NaT</td>\n      <td>Non</td>\n      <td>Non</td>\n      <td>Contingent des collectivités territoriales, de...</td>\n    </tr>\n    <tr>\n      <th>...</th>\n      <td>...</td>\n      <td>...</td>\n      <td>...</td>\n      <td>...</td>\n      <td>...</td>\n      <td>...</td>\n      <td>...</td>\n      <td>...</td>\n      <td>...</td>\n      <td>...</td>\n      <td>...</td>\n      <td>...</td>\n      <td>...</td>\n      <td>...</td>\n      <td>...</td>\n      <td>...</td>\n      <td>...</td>\n      <td>...</td>\n      <td>...</td>\n      <td>...</td>\n      <td>...</td>\n    </tr>\n    <tr>\n      <th>42743</th>\n      <td>NaN</td>\n      <td>Ile-de-France</td>\n      <td>111011885009910129</td>\n      <td>2018-01-04</td>\n      <td>2018-04-24</td>\n      <td>54</td>\n      <td>Célibataire</td>\n      <td>91</td>\n      <td>91174</td>\n      <td>Corbeil-Essonnes</td>\n      <td>...</td>\n      <td>91687</td>\n      <td>Ile-de-France</td>\n      <td>T3</td>\n      <td>Non</td>\n      <td>57</td>\n      <td>Non renseigné</td>\n      <td>NaT</td>\n      <td>Non</td>\n      <td>Non</td>\n      <td>Contingent préfet fonctionnaires et agents pub...</td>\n    </tr>\n    <tr>\n      <th>42744</th>\n      <td>NaN</td>\n      <td>Ile-de-France</td>\n      <td>1111217829952GDPUB</td>\n      <td>2017-12-03</td>\n      <td>2018-02-12</td>\n      <td>33</td>\n      <td>Marié (e)</td>\n      <td>75</td>\n      <td>75114</td>\n      <td>Paris 14ème arrondissement</td>\n      <td>...</td>\n      <td>75114</td>\n      <td>Ile-de-France</td>\n      <td>T3</td>\n      <td>Non</td>\n      <td>71</td>\n      <td>Non renseigné</td>\n      <td>NaT</td>\n      <td>Non</td>\n      <td>Non</td>\n      <td>Hors contingent</td>\n    </tr>\n    <tr>\n      <th>42745</th>\n      <td>NaN</td>\n      <td>Ile-de-France</td>\n      <td>111111782174292019</td>\n      <td>2017-11-23</td>\n      <td>2018-08-07</td>\n      <td>66</td>\n      <td>Marié (e)</td>\n      <td>92</td>\n      <td>92019</td>\n      <td>Châtenay-Malabry</td>\n      <td>...</td>\n      <td>92019</td>\n      <td>Ile-de-France</td>\n      <td>T4</td>\n      <td>Non</td>\n      <td>81</td>\n      <td>Non renseigné</td>\n      <td>NaT</td>\n      <td>Non</td>\n      <td>Non</td>\n      <td>Contingent des collectivités territoriales, de...</td>\n    </tr>\n    <tr>\n      <th>42746</th>\n      <td>NaN</td>\n      <td>Ile-de-France</td>\n      <td>111091647518710129</td>\n      <td>2016-09-23</td>\n      <td>2018-05-25</td>\n      <td>61</td>\n      <td>Marié (e)</td>\n      <td>93</td>\n      <td>93005</td>\n      <td>Aulnay-sous-Bois</td>\n      <td>...</td>\n      <td>93005</td>\n      <td>Ile-de-France</td>\n      <td>T3</td>\n      <td>Oui</td>\n      <td>64</td>\n      <td>Non renseigné</td>\n      <td>NaT</td>\n      <td>Non</td>\n      <td>Non</td>\n      <td>Hors contingent</td>\n    </tr>\n    <tr>\n      <th>42747</th>\n      <td>NaN</td>\n      <td>Ile-de-France</td>\n      <td>111041228887210033</td>\n      <td>2012-04-23</td>\n      <td>2018-04-26</td>\n      <td>56</td>\n      <td>Divorcé (e)</td>\n      <td>94</td>\n      <td>94028</td>\n      <td>Créteil</td>\n      <td>...</td>\n      <td>94053</td>\n      <td>Ile-de-France</td>\n      <td>T4</td>\n      <td>Non</td>\n      <td>77</td>\n      <td>Actif relogé</td>\n      <td>2013-06-20</td>\n      <td>Oui</td>\n      <td>Non</td>\n      <td>Contingent préfet prioritaires (hors fonctionn...</td>\n    </tr>\n  </tbody>\n</table>\n<p>42748 rows × 39 columns</p>\n</div>"
     },
     "execution_count": 4,
     "metadata": {},
     "output_type": "execute_result"
    }
   ],
   "source": [
    "df"
   ],
   "metadata": {
    "collapsed": false,
    "pycharm": {
     "name": "#%%\n"
    }
   }
  },
  {
   "cell_type": "code",
   "execution_count": 66,
   "outputs": [
    {
     "ename": "SyntaxError",
     "evalue": "(unicode error) 'unicodeescape' codec can't decode bytes in position 38-39: truncated \\UXXXXXXXX escape (4105613451.py, line 6)",
     "output_type": "error",
     "traceback": [
      "\u001B[1;36m  Input \u001B[1;32mIn [66]\u001B[1;36m\u001B[0m\n\u001B[1;33m    df95=pd.DataFrame(pd.read_excel(r'C:\\Users\\arceb\\Desktop\\Stage\\Fichiers demandeurs complets Ministère/d_20180101_95_20190329.xlsx', sheet_name=\"Ressources demandeur\"))\"\"\"\u001B[0m\n\u001B[1;37m                                                                                                                                                                              ^\u001B[0m\n\u001B[1;31mSyntaxError\u001B[0m\u001B[1;31m:\u001B[0m (unicode error) 'unicodeescape' codec can't decode bytes in position 38-39: truncated \\UXXXXXXXX escape\n"
     ]
    }
   ],
   "source": [
    "\"\"\"df7778=pd.DataFrame(pd.read_excel(r'C:\\Users\\arceb\\Desktop\\Stage\\Fichiers demandeurs complets Ministère/d_20180101_77_78_20190329.xlsx', sheet_name=\"Ressources demandeur\"))\n",
    "df91=pd.DataFrame(pd.read_excel(r'C:\\Users\\arceb\\Desktop\\Stage\\Fichiers demandeurs complets Ministère/d_20180101_91_20190329.xlsx', sheet_name=\"Ressources demandeur\"))\n",
    "df92=pd.DataFrame(pd.read_excel(r'C:\\Users\\arceb\\Desktop\\Stage\\Fichiers demandeurs complets Ministère/d_20180101_92_20190329.xlsx', sheet_name=\"Ressources demandeur\"))\n",
    "df93=pd.DataFrame(pd.read_excel(r'C:\\Users\\arceb\\Desktop\\Stage\\Fichiers demandeurs complets Ministère/d_20180101_93_20190329.xlsx', sheet_name=\"Ressources demandeur\"))\n",
    "df94=pd.DataFrame(pd.read_excel(r'C:\\Users\\arceb\\Desktop\\Stage\\Fichiers demandeurs complets Ministère/d_20180101_94_20190329.xlsx', sheet_name=\"Ressources demandeur\"))\n",
    "df95=pd.DataFrame(pd.read_excel(r'C:\\Users\\arceb\\Desktop\\Stage\\Fichiers demandeurs complets Ministère/d_20180101_95_20190329.xlsx', sheet_name=\"Ressources demandeur\"))\"\"\""
   ],
   "metadata": {
    "collapsed": false,
    "pycharm": {
     "name": "#%%\n"
    }
   }
  },
  {
   "cell_type": "code",
   "execution_count": 4,
   "outputs": [
    {
     "data": {
      "text/plain": "\"df_7778=df7778.drop(index = [0, 1, 2, 3, 4, 5], columns=['Unnamed: 0'])\\ndf_91=df91.drop(index = [0, 1, 2, 3, 4, 5], columns=['Unnamed: 0'])\\ndf_92=df92.drop(index = [0, 1, 2, 3, 4, 5], columns=['Unnamed: 0'])\\ndf_93=df93.drop(index = [0, 1, 2, 3, 4, 5], columns=['Unnamed: 0'])\\ndf_94=df94.drop(index = [0, 1, 2, 3, 4, 5], columns=['Unnamed: 0'])\\ndf_95=df95.drop(index = [0, 1, 2, 3, 4, 5], columns=['Unnamed: 0'])\""
     },
     "execution_count": 4,
     "metadata": {},
     "output_type": "execute_result"
    }
   ],
   "source": [
    "dfbis=df.drop(index = [0, 1, 2, 3, 4, 5], columns=['Unnamed: 0'])\n",
    "\"\"\"df_7778=df7778.drop(index = [0, 1, 2, 3, 4, 5], columns=['Unnamed: 0'])\n",
    "df_91=df91.drop(index = [0, 1, 2, 3, 4, 5], columns=['Unnamed: 0'])\n",
    "df_92=df92.drop(index = [0, 1, 2, 3, 4, 5], columns=['Unnamed: 0'])\n",
    "df_93=df93.drop(index = [0, 1, 2, 3, 4, 5], columns=['Unnamed: 0'])\n",
    "df_94=df94.drop(index = [0, 1, 2, 3, 4, 5], columns=['Unnamed: 0'])\n",
    "df_95=df95.drop(index = [0, 1, 2, 3, 4, 5], columns=['Unnamed: 0'])\"\"\""
   ],
   "metadata": {
    "collapsed": false,
    "pycharm": {
     "name": "#%%\n"
    }
   }
  },
  {
   "cell_type": "code",
   "execution_count": 5,
   "outputs": [
    {
     "data": {
      "text/plain": "'df_d=pd.concat([df_75, df_7778, df_91, df_92, df_93, df_94, df_95])\\ndf_d'"
     },
     "execution_count": 5,
     "metadata": {},
     "output_type": "execute_result"
    }
   ],
   "source": [
    "\"\"\"df_d=pd.concat([df_75, df_7778, df_91, df_92, df_93, df_94, df_95])\n",
    "df_d\"\"\""
   ],
   "metadata": {
    "collapsed": false,
    "pycharm": {
     "name": "#%%\n"
    }
   }
  },
  {
   "cell_type": "code",
   "execution_count": 6,
   "outputs": [],
   "source": [
    "dfbis.columns = dfbis.iloc[0]"
   ],
   "metadata": {
    "collapsed": false,
    "pycharm": {
     "name": "#%%\n"
    }
   }
  },
  {
   "cell_type": "code",
   "execution_count": 7,
   "outputs": [],
   "source": [
    "df_d=dfbis.drop(index = [6])\n"
   ],
   "metadata": {
    "collapsed": false,
    "pycharm": {
     "name": "#%%\n"
    }
   }
  },
  {
   "cell_type": "code",
   "execution_count": 8,
   "outputs": [
    {
     "data": {
      "text/plain": "6            Numéro Unique Ressources mensuelles\\n  \\\n7       001011403466511146                    2134   \n8       001011403466511146                    2134   \n9       001011403466511146                    2134   \n10      001011403466511146                    2134   \n11      0010117074877GDPUB                     900   \n...                    ...                     ...   \n152679  974111715873511487                    1725   \n152680  9741216133916GDPUB                    2000   \n152681  9741216133920GDPUB                     846   \n152682  9741217158325GDPUB                      33   \n152683               83717                     NaN   \n\n6                   Type de ressource\\n Montant par type de ressource\\n  \n7       Allocation chômage / indemnités                             240  \n8                 Allocation familiales                             424  \n9               Autres (hors APL ou AL)                             517  \n10         Salaire ou revenu d'activité                             953  \n11                Allocation familiales                             700  \n...                                 ...                             ...  \n152679                         Retraite                            1725  \n152680     Salaire ou revenu d'activité                            2000  \n152681                         Retraite                             846  \n152682  Allocation chômage / indemnités                              33  \n152683                              NaN                             NaN  \n\n[152677 rows x 4 columns]",
      "text/html": "<div>\n<style scoped>\n    .dataframe tbody tr th:only-of-type {\n        vertical-align: middle;\n    }\n\n    .dataframe tbody tr th {\n        vertical-align: top;\n    }\n\n    .dataframe thead th {\n        text-align: right;\n    }\n</style>\n<table border=\"1\" class=\"dataframe\">\n  <thead>\n    <tr style=\"text-align: right;\">\n      <th>6</th>\n      <th>Numéro Unique</th>\n      <th>Ressources mensuelles\\n</th>\n      <th>Type de ressource\\n</th>\n      <th>Montant par type de ressource\\n</th>\n    </tr>\n  </thead>\n  <tbody>\n    <tr>\n      <th>7</th>\n      <td>001011403466511146</td>\n      <td>2134</td>\n      <td>Allocation chômage / indemnités</td>\n      <td>240</td>\n    </tr>\n    <tr>\n      <th>8</th>\n      <td>001011403466511146</td>\n      <td>2134</td>\n      <td>Allocation familiales</td>\n      <td>424</td>\n    </tr>\n    <tr>\n      <th>9</th>\n      <td>001011403466511146</td>\n      <td>2134</td>\n      <td>Autres (hors APL ou AL)</td>\n      <td>517</td>\n    </tr>\n    <tr>\n      <th>10</th>\n      <td>001011403466511146</td>\n      <td>2134</td>\n      <td>Salaire ou revenu d'activité</td>\n      <td>953</td>\n    </tr>\n    <tr>\n      <th>11</th>\n      <td>0010117074877GDPUB</td>\n      <td>900</td>\n      <td>Allocation familiales</td>\n      <td>700</td>\n    </tr>\n    <tr>\n      <th>...</th>\n      <td>...</td>\n      <td>...</td>\n      <td>...</td>\n      <td>...</td>\n    </tr>\n    <tr>\n      <th>152679</th>\n      <td>974111715873511487</td>\n      <td>1725</td>\n      <td>Retraite</td>\n      <td>1725</td>\n    </tr>\n    <tr>\n      <th>152680</th>\n      <td>9741216133916GDPUB</td>\n      <td>2000</td>\n      <td>Salaire ou revenu d'activité</td>\n      <td>2000</td>\n    </tr>\n    <tr>\n      <th>152681</th>\n      <td>9741216133920GDPUB</td>\n      <td>846</td>\n      <td>Retraite</td>\n      <td>846</td>\n    </tr>\n    <tr>\n      <th>152682</th>\n      <td>9741217158325GDPUB</td>\n      <td>33</td>\n      <td>Allocation chômage / indemnités</td>\n      <td>33</td>\n    </tr>\n    <tr>\n      <th>152683</th>\n      <td>83717</td>\n      <td>NaN</td>\n      <td>NaN</td>\n      <td>NaN</td>\n    </tr>\n  </tbody>\n</table>\n<p>152677 rows × 4 columns</p>\n</div>"
     },
     "execution_count": 8,
     "metadata": {},
     "output_type": "execute_result"
    }
   ],
   "source": [
    "df_d"
   ],
   "metadata": {
    "collapsed": false,
    "pycharm": {
     "name": "#%%\n"
    }
   }
  },
  {
   "cell_type": "code",
   "execution_count": 9,
   "outputs": [
    {
     "data": {
      "text/plain": "6            Numéro Unique Ressources mensuelles\\n  \\\n0       001011403466511146                    2134   \n1       001011403466511146                    2134   \n2       001011403466511146                    2134   \n3       001011403466511146                    2134   \n4       0010117074877GDPUB                     900   \n...                    ...                     ...   \n152672  974111715873511487                    1725   \n152673  9741216133916GDPUB                    2000   \n152674  9741216133920GDPUB                     846   \n152675  9741217158325GDPUB                      33   \n152676               83717                     NaN   \n\n6                   Type de ressource\\n Montant par type de ressource\\n  \n0       Allocation chômage / indemnités                             240  \n1                 Allocation familiales                             424  \n2               Autres (hors APL ou AL)                             517  \n3          Salaire ou revenu d'activité                             953  \n4                 Allocation familiales                             700  \n...                                 ...                             ...  \n152672                         Retraite                            1725  \n152673     Salaire ou revenu d'activité                            2000  \n152674                         Retraite                             846  \n152675  Allocation chômage / indemnités                              33  \n152676                              NaN                             NaN  \n\n[152677 rows x 4 columns]",
      "text/html": "<div>\n<style scoped>\n    .dataframe tbody tr th:only-of-type {\n        vertical-align: middle;\n    }\n\n    .dataframe tbody tr th {\n        vertical-align: top;\n    }\n\n    .dataframe thead th {\n        text-align: right;\n    }\n</style>\n<table border=\"1\" class=\"dataframe\">\n  <thead>\n    <tr style=\"text-align: right;\">\n      <th>6</th>\n      <th>Numéro Unique</th>\n      <th>Ressources mensuelles\\n</th>\n      <th>Type de ressource\\n</th>\n      <th>Montant par type de ressource\\n</th>\n    </tr>\n  </thead>\n  <tbody>\n    <tr>\n      <th>0</th>\n      <td>001011403466511146</td>\n      <td>2134</td>\n      <td>Allocation chômage / indemnités</td>\n      <td>240</td>\n    </tr>\n    <tr>\n      <th>1</th>\n      <td>001011403466511146</td>\n      <td>2134</td>\n      <td>Allocation familiales</td>\n      <td>424</td>\n    </tr>\n    <tr>\n      <th>2</th>\n      <td>001011403466511146</td>\n      <td>2134</td>\n      <td>Autres (hors APL ou AL)</td>\n      <td>517</td>\n    </tr>\n    <tr>\n      <th>3</th>\n      <td>001011403466511146</td>\n      <td>2134</td>\n      <td>Salaire ou revenu d'activité</td>\n      <td>953</td>\n    </tr>\n    <tr>\n      <th>4</th>\n      <td>0010117074877GDPUB</td>\n      <td>900</td>\n      <td>Allocation familiales</td>\n      <td>700</td>\n    </tr>\n    <tr>\n      <th>...</th>\n      <td>...</td>\n      <td>...</td>\n      <td>...</td>\n      <td>...</td>\n    </tr>\n    <tr>\n      <th>152672</th>\n      <td>974111715873511487</td>\n      <td>1725</td>\n      <td>Retraite</td>\n      <td>1725</td>\n    </tr>\n    <tr>\n      <th>152673</th>\n      <td>9741216133916GDPUB</td>\n      <td>2000</td>\n      <td>Salaire ou revenu d'activité</td>\n      <td>2000</td>\n    </tr>\n    <tr>\n      <th>152674</th>\n      <td>9741216133920GDPUB</td>\n      <td>846</td>\n      <td>Retraite</td>\n      <td>846</td>\n    </tr>\n    <tr>\n      <th>152675</th>\n      <td>9741217158325GDPUB</td>\n      <td>33</td>\n      <td>Allocation chômage / indemnités</td>\n      <td>33</td>\n    </tr>\n    <tr>\n      <th>152676</th>\n      <td>83717</td>\n      <td>NaN</td>\n      <td>NaN</td>\n      <td>NaN</td>\n    </tr>\n  </tbody>\n</table>\n<p>152677 rows × 4 columns</p>\n</div>"
     },
     "execution_count": 9,
     "metadata": {},
     "output_type": "execute_result"
    }
   ],
   "source": [
    "df_d.reset_index(inplace=True, drop=True)\n",
    "df_d"
   ],
   "metadata": {
    "collapsed": false,
    "pycharm": {
     "name": "#%%\n"
    }
   }
  },
  {
   "cell_type": "code",
   "execution_count": 10,
   "outputs": [],
   "source": [
    "df_d.to_csv('demandeurs_45_revenus.csv', index = True)"
   ],
   "metadata": {
    "collapsed": false,
    "pycharm": {
     "name": "#%%\n"
    }
   }
  },
  {
   "cell_type": "code",
   "execution_count": 1,
   "outputs": [],
   "source": [
    "from threading import Thread\n",
    "import os\n",
    "import pandas as pd"
   ],
   "metadata": {
    "collapsed": false,
    "pycharm": {
     "name": "#%%\n"
    }
   }
  },
  {
   "cell_type": "code",
   "execution_count": 15,
   "outputs": [],
   "source": [
    "path = \"../../Desktop/Stage/fichiers_demandeurs_complets_ministere/\"\n",
    "filesnames = list(f'{path}{filename}' for filename in os.listdir(path) if not filename.startswith('.') )"
   ],
   "metadata": {
    "collapsed": false,
    "pycharm": {
     "name": "#%%\n"
    }
   }
  },
  {
   "cell_type": "markdown",
   "source": [],
   "metadata": {
    "collapsed": false,
    "pycharm": {
     "name": "#%% md\n"
    }
   }
  },
  {
   "cell_type": "code",
   "execution_count": null,
   "outputs": [],
   "source": [
    "def thread_func(filename: str, paris_df : pd.DataFrame, lyon_df : pd.DataFrame, aix_df: pd.DataFrame):\n",
    "    df = pd.read_excel(sheet_name=filename)\n",
    "    df.drop(index = [0, 1, 2, 3, 4, 5], columns=['Unnamed: 0'], inplace=True)\n",
    "    df.columns = df.iloc[0]\n",
    "    df.drop(index = [6], inplace=True)\n",
    "    df.reset_index(inplace=True, drop=True)\n",
    "    df[df.]\n",
    "\n"
   ],
   "metadata": {
    "collapsed": false,
    "pycharm": {
     "name": "#%%\n"
    }
   }
  },
  {
   "cell_type": "code",
   "execution_count": 16,
   "outputs": [
    {
     "data": {
      "text/plain": "['../../Desktop/Stage/fichiers_demandeurs_complets_ministere/d_20180101_01_07_26_38.xlsx',\n '../../Desktop/Stage/fichiers_demandeurs_complets_ministere/d_20180101_04_05_06.xlsx',\n '../../Desktop/Stage/fichiers_demandeurs_complets_ministere/d_20180101_13_20190328.xlsx',\n '../../Desktop/Stage/fichiers_demandeurs_complets_ministere/d_20180101_42_69_73_74.xlsx',\n '../../Desktop/Stage/fichiers_demandeurs_complets_ministere/d_20180101_75_20190329.xlsx',\n '../../Desktop/Stage/fichiers_demandeurs_complets_ministere/d_20180101_77_78_20190329.xlsx',\n '../../Desktop/Stage/fichiers_demandeurs_complets_ministere/d_20180101_83_84_20190329.xlsx',\n '../../Desktop/Stage/fichiers_demandeurs_complets_ministere/d_20180101_91_20190329.xlsx',\n '../../Desktop/Stage/fichiers_demandeurs_complets_ministere/d_20180101_92_20190329.xlsx',\n '../../Desktop/Stage/fichiers_demandeurs_complets_ministere/d_20180101_93_20190329.xlsx',\n '../../Desktop/Stage/fichiers_demandeurs_complets_ministere/d_20180101_94_20190329.xlsx',\n '../../Desktop/Stage/fichiers_demandeurs_complets_ministere/d_20180101_95_20190329.xlsx',\n '../../Desktop/Stage/fichiers_demandeurs_complets_ministere/d_20180101_Alsace_20190330.xlsx',\n '../../Desktop/Stage/fichiers_demandeurs_complets_ministere/d_20180101_Aquitaine_20190329.xlsx',\n '../../Desktop/Stage/fichiers_demandeurs_complets_ministere/d_20180101_Auvergne_BN_20190329.xlsx',\n '../../Desktop/Stage/fichiers_demandeurs_complets_ministere/d_20180101_Bourgo_Bretagne_20190329.xlsx',\n '../../Desktop/Stage/fichiers_demandeurs_complets_ministere/d_20180101_CA_Centre_Corse_20190329.xlsx',\n '../../Desktop/Stage/fichiers_demandeurs_complets_ministere/d_20180101_HN_FC_Guad_Guy_20190329.xlsx',\n '../../Desktop/Stage/fichiers_demandeurs_complets_ministere/d_20180101_Limou_Lorrai_Mart_20190329.xlsx',\n '../../Desktop/Stage/fichiers_demandeurs_complets_ministere/d_20180101_LR_20190329.xlsx',\n '../../Desktop/Stage/fichiers_demandeurs_complets_ministere/d_20180101_MP_20190329.xlsx',\n '../../Desktop/Stage/fichiers_demandeurs_complets_ministere/d_20180101_Nord_20190329.xlsx',\n '../../Desktop/Stage/fichiers_demandeurs_complets_ministere/d_20180101_PDC_20190329.xlsx',\n '../../Desktop/Stage/fichiers_demandeurs_complets_ministere/d_20180101_Pic_PDL_PC_20190329.xlsx']"
     },
     "execution_count": 16,
     "metadata": {},
     "output_type": "execute_result"
    }
   ],
   "source": [
    "threads = []\n",
    "\n",
    "for filename in filesnames:\n",
    "    threads.append(Thread())"
   ],
   "metadata": {
    "collapsed": false,
    "pycharm": {
     "name": "#%%\n"
    }
   }
  },
  {
   "cell_type": "code",
   "execution_count": 10,
   "outputs": [],
   "source": [
    "liste = pd.DataFrame(pd.read_excel(r'C:\\Users\\arceb\\Desktop\\Stage\\Attrib 2018 MGP - RM positif - MVI pour CBA.xlsx', index_col = 1))"
   ],
   "metadata": {
    "collapsed": false,
    "pycharm": {
     "name": "#%%\n"
    }
   }
  },
  {
   "cell_type": "code",
   "execution_count": 11,
   "outputs": [],
   "source": [
    "list_of_single_column = liste['Numéro Unique'].tolist()"
   ],
   "metadata": {
    "collapsed": false,
    "pycharm": {
     "name": "#%%\n"
    }
   }
  },
  {
   "cell_type": "code",
   "execution_count": 12,
   "outputs": [
    {
     "data": {
      "text/plain": "['111011885857794043',\n '111051767234510108',\n '111091777617075056',\n '111021758912175056',\n '111111781080175056',\n '111111782057410086',\n '1111217833632AL007',\n '1110417666444R4081',\n '1110317636456GDPUB',\n '111011625651194060',\n '111091777636210269',\n '111051767181711716',\n '111051102970092024',\n '1111117820408GDPUB',\n '111081514396092040',\n '111011625503375056',\n '111091775841511716',\n '111121654813792073',\n '111051894955675B09',\n '111071801056675B09',\n '111021759598010108',\n '111121119079775B02',\n '111051504756794002',\n '111071482939875056',\n '111111243276175056',\n '111121521366593027',\n '1110716415407GDPUB',\n '111121783393875056',\n '111071772116710037',\n '111111242628893055',\n '111121523241592064',\n '1110117571407AL002',\n '094090673843594034',\n '111081645339894011',\n '111051637043093073',\n '1111017796447GDPUB',\n '111101492543210040',\n '111041352276791687',\n '095010856457510007',\n '111041229864210006',\n '111091804998875B09',\n '111121368657092002',\n '111051637521094B05',\n '111071772575710037',\n '111061899456292B12',\n '111101650053611716',\n '111081512041192002',\n '111111781603411716',\n '111121788784110656',\n '111071642582575B02',\n '111101489629892012',\n '111011756171593048',\n '111031506097793070',\n '111121784003211716',\n '111041632138193066',\n '111021598474193051',\n '111081360364393008',\n '111041501930292072',\n '111061897860875B09',\n '1110216286860GDPUB',\n '111011471269692B09',\n '095080423373695018',\n '111021889700710424',\n '111031764094294002',\n '111021888763093008',\n '111061639093675B02',\n '111111782571110656',\n '111111491415194054',\n '111031763504394002',\n '111101651430692B02',\n '111061898596394R01',\n '111121523091810073',\n '093061035427710015',\n '111031501816492073',\n '111031762535510037',\n '111051767564492032',\n '175100403911700002',\n '175100921684300002',\n '1111012406246R5252',\n '111101779013611715',\n '111091486726993R01',\n '111031629583778208',\n '1111017797547GDPUB',\n '093090805726511716',\n '111041892793795018',\n '111031892467410064',\n '111011478355410007',\n '111031890778610127',\n '111071771798793046',\n '111121653174010167',\n '092110680585992002',\n '111091776872711715',\n '111081774122910656',\n '111031352254292036',\n '111091237601975056',\n '111081780205894B02',\n '1110818036297GDPUB',\n '111071641696210272',\n '111121522574710033',\n '1110115964719R4081',\n '111081511262093007',\n '111031504957078311',\n '111011626284711716',\n '093010316037693048',\n '111101516570893071',\n '111011595163593007',\n '1110318922487R4081',\n '211080905251692024',\n '1110917755125GDPUB',\n '111071800625475B07',\n '111121783276175B09',\n '1110617700964GDPUB',\n '111071772220694B02',\n '1110716430951GDPUB',\n '111031506492210656',\n '111071800862610656',\n '111031890839410064',\n '111061110190892004',\n '175010901312400002',\n '111041893346293066',\n '111081652703493B10',\n '111101781080893006',\n '111091238931275056',\n '111031890261210053',\n '111081485927075056',\n '111021760164391434',\n '111011757813494052',\n '111071801572910073',\n '111111491926110033',\n '111121782992793010',\n '111021597451293010',\n '111101240137793029',\n '111111811133275B09',\n '111071510817993031',\n '111011756564592B06',\n '111061898934010012',\n '111091374969011716',\n '1111016522046R4081',\n '111061356537010064',\n '111031762934592078',\n '1110317637383GDPUB',\n '092050965684892012',\n '094030550517310033',\n '111011886187510086',\n '111111366790311715',\n '111061356914093073',\n '111031351151675056',\n '111031765343810007',\n '111021627278793008',\n '111071235616292050',\n '111111809227610064',\n '111011623650175056',\n '111031892255894017',\n '111101490277910023',\n '111061242683393070',\n '111061898686775B06',\n '111101807482010073',\n '111071775982593005',\n '093020546434210167',\n '111121401488592025',\n '175100226567300002',\n '111021599040593070',\n '111091514845793055',\n '111091805761875B07',\n '111121786026710012',\n '111061482636293064',\n '111061801948575B02',\n '111011885061310064',\n '111031501151094078',\n '111061105103693053',\n '111111118224191477',\n '111101807824110127',\n '1110116242690GDPUB',\n '111041502078294078',\n '1110117581223R4081',\n '111121783423410064',\n '111101649745793073',\n '111021626331494043',\n '111021628882492022',\n '111041478897595018',\n '111121784229610272',\n '111081775646810086',\n '111111243041910033',\n '111061770606493066',\n '093020316889793070',\n '111051480149210023',\n '111101778950510089',\n '111031477828693066',\n '111031761803693073',\n '111051767913711715',\n '093050210969710059',\n '111071484711393B10',\n '111041478397391687',\n '111091804663310064',\n '092010528674792036',\n '111061776047993005',\n '092040108897092004',\n '111031896891310272',\n '111031629893294078',\n '111081774289610006',\n '111051896746211716',\n '111071359151894017',\n '111051505552175056',\n '111051230635693014',\n '111071773020411715',\n '111071509564892004',\n '111041633503792024',\n '111111782510910037',\n '111051894997610009',\n '111101115148493R01',\n '1110118861595GDPUB',\n '175030910412900002',\n '111101365056692007',\n '111091804433611716',\n '111091776310410111',\n '111081643525094076',\n '111061508705694043',\n '111081774514592073',\n '111081774123110656',\n '111071771814793032',\n '111051636050092025',\n '111111782144893B05',\n '111051485158711716',\n '111021348707375056',\n '111061485485793R01',\n '111021351397910044',\n '111041351860595063',\n '111061486616692024',\n '111021631215775056',\n '111031476066275056',\n '111011623522975056',\n '111021888985710122',\n '111121401553493B10',\n '111031764175610006',\n '111091362778475056',\n '093030897646893008',\n '1110417702629AL003',\n '1110815123853GDPUB',\n '111041634373392014',\n '111031763058393005',\n '111101649281393014',\n '111101648535794054',\n '111111782056594078',\n '111051229521610033',\n '111111788497410656',\n '111081775293911716',\n '111031350050594034',\n '111101779917675056',\n '111071771707293007',\n '111011221683475056',\n '111041767469094B02',\n '111081774122410656',\n '092100102876310037',\n '111051767473692B06',\n '111041352317094B02',\n '111061510093293070',\n '1111214946867R3063',\n '111111782017394R01',\n '111101807799710167',\n '111021598624893005',\n '111021761717575B09',\n '111041766049293031',\n '211010625200894081',\n '111111242153594067',\n '111031631336411716',\n '111061232130975056',\n '111021348995193031',\n '111121654076091027',\n '111071482993894002',\n '1110717715901GDPUB',\n '111061355929594076',\n '111031357740975B02',\n '1110417643971R3063',\n '092010961493992004',\n '175020907770500002',\n '111011887409094078',\n '111071357964394037',\n '1110117558337GDPUB',\n '111031501128811716',\n '111061508551978158',\n '111111783493410031',\n '111091776767994R01',\n '111071509060275056',\n '111091645833493070',\n '111011893278510038',\n '092120751672792026',\n '111111652138610122',\n '111021597314392B12',\n '093060100852510059',\n '1110818036446AL004',\n '111031890130911716',\n '175100901489200002',\n '111091648011393006',\n '111061770349992019',\n '111081644268092019',\n '111041894360875B02',\n '111101517126392019',\n '111051638706993070',\n '175040826730400002',\n '111111810551910064',\n '111091804970410167',\n '111091804829910064',\n '093060920440910015',\n '111111810218075B07',\n '111071801399010656',\n '111071512228110044',\n '111111781760510007',\n '111081802009410122',\n '111031349636092B12',\n '111041893123375B09',\n '111021887442694078',\n '093120933175493000',\n '111031630392293B10',\n '111081774610894R01',\n '111021352999493066',\n '111041766540393005',\n '175119804146800002',\n '111121783012710301',\n '111061769880792026',\n '111071483794193027',\n '092121078155792078',\n '111041892636810064',\n '111121121861293072',\n '111091515120893027',\n '111101779050092B02',\n '111101781251293066',\n '111111782684275B02',\n '111031629798593057',\n '175011007146400002',\n '111111651904592036',\n '111081645578611716',\n '111091645692894068',\n '175010808267200002',\n '111021761084910037',\n '111041893162111716',\n '111121369728893027',\n '111111117472793R01',\n '111091775598594B02',\n '111051354335375056',\n '111061506686794078',\n '211011111774794081',\n '111071358218094079',\n '111071510247694038',\n '111061898146893029',\n '111051505406392B12',\n '1111217842643GDPUB',\n '092010636477010037',\n '1110317616738AL007',\n '111091518790710064',\n '111051358581893B10',\n '092110978791592073',\n '111061232898293048',\n '111021638113893066',\n '111071108536193027',\n '091050420297610176',\n '111071108063975056',\n '111031767793011716',\n '111011886035878172',\n '111091646469195018',\n '111011885124810167',\n '111011892909611716',\n '111121244357793029',\n '111081512776792002',\n '111121784217092B12',\n '094070208385210122',\n '1110212232656R4081',\n '111071801869710009',\n '111091115501392012',\n '1110818034145R3063',\n '092120753646510003',\n '111051504165892020',\n '111111491994993055',\n '111111492821694078',\n '111091487659593059',\n '111081802681610122',\n '111041892837492019',\n '093031030876193001',\n '111081237086694022',\n '175040826176600002',\n '111091777588610086',\n '111081777591610064',\n '093060786115710076',\n '111121786473210122',\n '111101778541510122',\n '175020024330200002',\n '1110916477026R4081',\n '111121784289593050',\n '111101648225794016',\n '095011077389395424',\n '092040854646692004',\n '2110810205332PRE93',\n '111051355426310034',\n '111021627995075056',\n '111041892659692B05',\n '111081487951493072',\n '111101516383710026',\n '111031349982710037',\n '111031891499393055',\n '111121124909693006',\n '111011758836792B02',\n '111091514680993008',\n '111121654573511716',\n '093031140701393001',\n '093080804186593071',\n '111021894768410064',\n '1111113681838R4081',\n '111041633659894041',\n '111011755727293008',\n '111061506159593055',\n '111021627085692073',\n '111061769079910108',\n '095020968192695018',\n '092031073241492036',\n '111011596603094017',\n '1110517675200GDPUB',\n '111031501420393061',\n '111041227913692020',\n '111061644210311715',\n '092070967027310037',\n '111031891133210064',\n '093100104259093048',\n '111061770873511716',\n '175010902454100002',\n '111121783015593010',\n '111111782093994R01',\n '175091006570600002',\n '111011756599210064',\n '111011346271593031',\n '111041502613311716',\n '111021504078394B05',\n '1110616415171R4081',\n '111031237891094078',\n '111111366262992019',\n '111011886226210086',\n '111021758863775B02',\n '111061356984592050',\n '111101650495294079',\n '111111491403793055',\n '111101522534977288',\n '111041765913493051',\n '175021125712000002',\n '093080439768693007',\n '111031630808810012',\n '111061770812493064',\n '111031630312391174',\n '111091776890292B02',\n '1110817743948GDPUB',\n '111071510094593029',\n '111091363576992004',\n '111031476434194077',\n '111101648413911716',\n '111041633649393007',\n '175050220756100002',\n '1110616397534R3063',\n '1110516405392R4081',\n '111031891640710129',\n '111071806847910089',\n '111051769234895018',\n '111031475014494041',\n '111081645220791027',\n '111091488503475056',\n '092100210670410236',\n '111091486754293007',\n '111111242548993070',\n '111101519103575B02',\n '111121124939892050',\n '111021472377893014',\n '111071641682794080',\n '111021473045694078',\n '111111367536610023',\n '111061770058893055',\n '1110515124667GDPUB',\n '091061075459391687',\n '111111652720093008',\n '111071359576475056',\n '111101240091894043',\n '111041505514093070',\n '111111367194693079',\n '111041477473294022',\n '111081644211592044',\n '111041228295192036',\n '111081486067393059',\n '111031349597493008',\n '111021758854475056',\n '111011346692875056',\n '111051896322710064',\n '111031475887810033',\n '111111651733875B02',\n '111111781223194R01',\n '111051895020011716',\n '111021473319093006',\n '111021223430675056',\n '111031629053693005',\n '111011885459475B02',\n '111011633923493066',\n '111091776049393030',\n '111071108779310009',\n '1110316311100GDPUB',\n '111071485193610037',\n '111031890549811716',\n '111091486605293048',\n '111031350232894002',\n '111021225833192050',\n '111041353192994041',\n '1110917764460GDPUB',\n '175010707706400002',\n '111021888334510073',\n '093111038672893006',\n '175040715863400002',\n '111121494172193010',\n '111091489064694002',\n '111061768556911716',\n '111111652750475056',\n '111121783811194B02',\n '111031476730810044',\n '111121493882293048',\n '111011886817592B12',\n '111011595807775056',\n '1110515064839GDPUB',\n '111091648018675056',\n '111041230994375056',\n '111011893372810038',\n '175041018513500002',\n '111061800776010127',\n '111091514954993053',\n '111111519266892019',\n '111061802164995B02',\n '111101490749293066',\n '111051766773675056',\n '093021140070410064',\n '092030747696192050',\n '111041633024810108',\n '111091489155794017',\n '111061639065591687',\n '111011350031593072',\n '1110417656124GDPUB',\n '211090400043694041',\n '111101779221892035',\n '111101116178992032',\n '111101518435093059',\n '111081650432392032',\n '111101517225693006',\n '111021473308475056',\n '111071511242475056',\n '175021101606400002',\n '111091487644810086',\n '111061507980810033',\n '111081511947394043',\n '111011886610410122',\n '111041632509092040',\n '175081012667400002',\n '111091513744011716',\n '111021348221693053',\n '111021891009310272',\n '111011471239793053',\n '111071642435292B12',\n '111021472399193005',\n '111091805240810064',\n '175050407394700002',\n '111101656558994B02',\n '111021759765993029',\n '111111247731910064',\n '111121369744593050',\n '111071484718593B10',\n '093060920712093014',\n '1110117574548GDPUB',\n '0920410738472PRE92',\n '111071489108193R01',\n '111081644620993039',\n '111101807044511716',\n '1110616442854AL019',\n '111061645788993B10',\n '111101516107793048',\n '111091518192475B01',\n '111021887804310167',\n '111011756923793027',\n '111031500157592072',\n '111111367668293051',\n '111121247766993B10',\n '111071642804975056',\n '111051355091275056',\n '111041632287210269',\n '111021628001111716',\n '093091037865310009',\n '093080533327493066',\n '111101807038811716',\n '111101518313093030',\n '111121657149593B03',\n '111111781468011715',\n '111081644669793048',\n '093050899697793046',\n '111011348027693051',\n '111011887003193014',\n '093021030069493055',\n '111061355900692004',\n '111081109506175B02',\n '111041358654393B10',\n '175030320735300002',\n '111071802648275B07',\n '093111038755993030',\n '093040210099093027',\n '111061640929992050',\n '111101780002695585',\n '111071510596592002',\n '111071484996595018',\n '1110515058742GDPUB',\n '111081513189892050',\n '111121494552794022',\n '111121494303294076',\n '111031500029992044',\n '111071358758575056',\n '111011887255994R01',\n '111121522428992002',\n '111011756255211715',\n '111011346794394078',\n '111071359588494037',\n '111101114202294037',\n '111101778989710122',\n '111051479613992025',\n '111091645740311716',\n '111041581894992026',\n '111041640020911716',\n '111101364652110122',\n '175120830721400002',\n '111121493762794003',\n '111011887353692050',\n '111051767187493066',\n '111061485278093R01',\n '1110316304186GDPUB',\n '111061482391411715',\n '111021348416375056',\n '111101517571393R01',\n '111101365418393006',\n '111031599932393006',\n '111041892522293B06',\n '111021888904811716',\n '1110316310651R4081',\n '111071643347392007',\n '093110445038193006',\n '093111038828193048',\n '111101648283675056',\n '111031890738793B01',\n '111031500322275B02',\n '093080439519693073',\n '111101779025592B12',\n '111101117834292078',\n '111071483938275056',\n '111051766392211716',\n '111051637864211716',\n '1110117555475R3063',\n '111041365388210064',\n '111051230984975056',\n '111101780174775056',\n '111051767757175056',\n '111051766978610040',\n '111111809524710086',\n '111011757204691421',\n '2110608113093PRE94',\n '211040601129294003',\n '111121370004894003',\n '111061357248975056',\n '111121368821494041',\n '111061770413494078',\n '111011596294694059',\n '093081037112693014',\n '111031349913092050',\n '111041227509410007',\n '111041764623910108',\n '111101648617375056',\n '111021888633811716',\n '111091775964711716',\n '111101779463311716',\n '111011758050093008',\n '175011108462600002',\n '111021348780393R01',\n '111081485793293029',\n '111071483796993029',\n '111011756542493007',\n '093020895664993071',\n '111101373318193B10',\n '1110318912566GDPUB',\n '111021598381593B10',\n '111051635858593B10',\n '111051480407993055',\n '111031256687111715',\n '111061638836910122',\n '111121244633293055',\n '111061233276675056',\n '111111781966194B03',\n '111111519845894022',\n '0920604292846PRE92',\n '111081511835293R01',\n '111011500728710064',\n '111121523434675056',\n '111061638783094041',\n '111071509505875056',\n '175089923293700002',\n '111101648613575056',\n '1110817740638GDPUB',\n '111081644470394041',\n '111111250981992024',\n '175071021165900002',\n '111091487827392012',\n '111061232795792025',\n '111031761103892036',\n '111081645095611716',\n '111091363337993059',\n '111041772831311716',\n '111111522581093066',\n '111111652204593066',\n '111111491876193005',\n '111041764687793073',\n '1111015176876R3063',\n '111061507766293048',\n '111071775328210064',\n '111121521426693006',\n '111091113628493050',\n '111101779544810122',\n '111121369346710064',\n '111091514587675056',\n '111031355359175B02',\n '111041477459375056',\n '175120529521500002',\n '111121783799775056',\n '111091363396075056',\n '111101785300010122',\n '111081773724175056',\n '175120723912000002',\n '111041477888375056',\n '111121783618794017',\n '094110886644610066',\n '111011471144294037',\n '111021888535410073',\n '111101516044794078',\n '111051106806310040',\n '111101782081894B02',\n '111031227719892050',\n '111021599266092050',\n '111021759226095018',\n '111111781876210236',\n '111121120040092036',\n '093070787791493001',\n '111111780506211716',\n '111081774931393R01',\n '1111116511734GDPUB',\n '111031630610793059',\n '111041893971111716',\n '175110621522000002',\n '111111519596893030',\n '175120314388500002',\n '111021887727710064',\n '111021475538493045',\n '093020546284093013',\n '111101650245693050',\n '111071359292311715',\n '111031352451610023',\n '111121784165610033',\n '111081802937675056',\n '111071359620293055',\n '111061638588193014',\n '111101779730710023',\n '175120511467800002',\n '111071486285393072',\n '111121784575793B01',\n '1111016503973R3063',\n '111021760493493B10',\n '111011476919111715',\n '111111782697875B02',\n '111111652340793R01',\n '175090805274600002',\n '175020502643200002',\n '111091238551310033',\n '111061507400110122',\n '111121494774492036',\n '111031501870493R01',\n '111041765610493029',\n '111121657305593006',\n '111121783749293048',\n '1110616409737R3063',\n '111031763478293R01',\n '175040614325400002',\n '111031474433375056',\n '111121120442775056',\n '111011886206110086',\n '111011885478510086',\n '2110806276980PRE94',\n '111021473023091589',\n '1110915160711GDPUB',\n '094091096658894018',\n '111051508709593066',\n '111061512532792024',\n '111081361210575056',\n '111021888683075B02',\n '111061770484093029',\n '111081486447092044',\n '111121662593193014',\n '111081802169410064',\n '111071111943493006',\n '111101490769275056',\n '111041502740575056',\n '175049810168100002',\n '175010309912600002',\n '111021760477875056',\n '111031350968775056',\n '111071801321475056',\n '111121784155994059',\n '111051800309392024',\n '111121493686192022',\n '111031760782493066',\n '111021347700675056',\n '111011755774693055',\n '093040898259793007',\n '111021888612310064',\n '093050550319293055',\n '111021889032775056',\n '111021474398410037',\n '111081109463494077',\n '175070918508700002',\n '111091513592810012',\n '111081774295610656',\n '111081645297793078',\n '175110419601700002',\n '175021009145900002',\n '111011755741310167',\n '111121653267875056',\n '111021758729475056',\n '175100010971400002',\n '175049609236300002',\n '111091487708275056',\n '175111008725500002',\n '111091776721875056',\n '111041227667475056',\n '175030502961400002',\n '111101372397475B02',\n '111101779555775056',\n '111041893327075B02',\n '111051504461394B01',\n '175040325213400002',\n '111081775518075056',\n '111011757949975056',\n '111061769260275056',\n '1110118867247GDPUB',\n '111111365815775056',\n '111041764158875B02',\n '175120201956400002',\n '111031892182975B02',\n '111031763239378126',\n '175090006233900002',\n '111101364646475056',\n '111061898375275B02',\n '111041894245775056',\n '111021626769494B02',\n '111101364143394067',\n '111111652362594033',\n '111061898445810086',\n '111071773177794017',\n '111031500684994044',\n '111061231516410033',\n '111101648933394022',\n '111121784494294B02',\n '111021889124110122',\n '111031890874210098',\n '111041892746410073',\n '111031891158210073',\n '111031763176294003',\n '111121521722594022',\n '111031761050794077',\n '111041505042191228',\n '211081100270894041',\n '111051896221092071',\n '111101364521910044',\n '111121497353592032',\n '111031228821310023',\n '111071642484192060',\n '111061898599675056',\n '111051896925592019',\n '111071509622375056',\n '111041765951292012',\n '111031891247910129',\n '092071075523610037',\n '092111077740210037',\n '111091515529492050',\n '111011624422692044',\n '111101114531792050',\n '111071235485795476',\n '175070813609300002',\n '111091646081875056',\n '111031351968392050',\n '092090534167292050',\n '095070208160810108',\n '092060966202992004',\n '111121368679895018',\n '111061897922910236',\n '111121783876710236',\n '092010744245592044',\n '111021761029511716',\n '1110516390132GDPUB',\n '111031475615910009',\n '111031630915993039',\n '111091777852411716',\n '111021628680193072',\n '093040898417393001',\n '111041765817211716',\n '111031350898993066',\n '111081644956011716',\n '111051506507711716',\n '111111652439893072',\n '111081803420693R01',\n '111071775329810064',\n '111051896002510064',\n '111081774596110656',\n '111031501892975056',\n '111031599933193006',\n '093100926728693048',\n '111011758116393055',\n '111081651621593B10',\n '111031892197793055',\n '111031351111293061',\n '111041634787810012',\n '111071359050493061',\n '111031762667293055',\n '111041100970793048',\n '111061801975111715',\n '111041892845610064',\n '111081775067310167',\n '111071899899093B01',\n '111041764132293B10',\n '111021627869593008',\n '111071484197893078',\n '1111018085301GDPUB',\n '111061647429475B02',\n '111011886834875B02',\n '111071359573775056',\n '111111491731775056',\n '175030202755600002',\n '111091514372194016',\n '211111000220694041',\n '111051768403091687',\n '1110117580078GDPUB',\n '111071358985695018',\n '111041633513710108',\n '111041478864193045',\n '111021630607710064',\n '111031500366978440',\n '094070779461794033',\n '111041633662694041',\n '1110217588242GDPUB',\n '111071106620993061',\n '111101365457193029',\n '111091515131793055',\n '111041632495875056',\n '111071641821893055',\n '111031226686775056',\n '111061899064975056',\n '2110408226267PRE94',\n '111091777978392050',\n '111101780228992B02',\n '093110443519510059',\n '111021760222493039',\n '111091514071211716',\n '111121123551394076',\n '111111244086693051',\n '1111017806716R4081',\n '092050010844092064',\n '1110415039846GDPUB',\n '111021598251475056',\n '111031630373875056',\n '111061506986875056',\n '175060819475300002',\n '111041764921394017',\n '092070640853592050',\n '092060968609092050',\n '111021760159810037',\n '111051895100210007',\n '111111494752711716',\n '111091778409793B10',\n '111091519818111716',\n '111061508610893048',\n '175050609053600002',\n '175119512201400002',\n '111041893819275056',\n '111061483009094068',\n '111051637819694B01',\n '111081511536194068',\n '175040905831300002',\n '111021629296877152',\n '111041503583594043',\n '111081802827275B01',\n '111011346849075056',\n '093050466180193001',\n '093020781247193001',\n '111041894559010122',\n '111091804475810167',\n '111011886694194041',\n '111021761100392050',\n '111071641434294078',\n '092121078665892007',\n '094070001064594046',\n '111081802809010167',\n '175070816469200002',\n ...]"
     },
     "execution_count": 12,
     "metadata": {},
     "output_type": "execute_result"
    }
   ],
   "source": [
    "list_of_single_column"
   ],
   "metadata": {
    "collapsed": false,
    "pycharm": {
     "name": "#%%\n"
    }
   }
  },
  {
   "cell_type": "code",
   "execution_count": 13,
   "outputs": [],
   "source": [
    "with open('MGP.txt', 'w') as filehandle:\n",
    "    for listitem in list_of_single_column:\n",
    "        filehandle.write('\"%s\",' % listitem)"
   ],
   "metadata": {
    "collapsed": false,
    "pycharm": {
     "name": "#%%\n"
    }
   }
  },
  {
   "cell_type": "code",
   "execution_count": 22,
   "outputs": [
    {
     "ename": "KeyError",
     "evalue": "'Numéro Unique'",
     "output_type": "error",
     "traceback": [
      "\u001B[1;31m---------------------------------------------------------------------------\u001B[0m",
      "\u001B[1;31mKeyError\u001B[0m                                  Traceback (most recent call last)",
      "File \u001B[1;32m~\\AppData\\Local\\Programs\\Python\\Python39\\lib\\site-packages\\pandas\\core\\indexes\\base.py:3621\u001B[0m, in \u001B[0;36mIndex.get_loc\u001B[1;34m(self, key, method, tolerance)\u001B[0m\n\u001B[0;32m   3620\u001B[0m \u001B[38;5;28;01mtry\u001B[39;00m:\n\u001B[1;32m-> 3621\u001B[0m     \u001B[38;5;28;01mreturn\u001B[39;00m \u001B[38;5;28;43mself\u001B[39;49m\u001B[38;5;241;43m.\u001B[39;49m\u001B[43m_engine\u001B[49m\u001B[38;5;241;43m.\u001B[39;49m\u001B[43mget_loc\u001B[49m\u001B[43m(\u001B[49m\u001B[43mcasted_key\u001B[49m\u001B[43m)\u001B[49m\n\u001B[0;32m   3622\u001B[0m \u001B[38;5;28;01mexcept\u001B[39;00m \u001B[38;5;167;01mKeyError\u001B[39;00m \u001B[38;5;28;01mas\u001B[39;00m err:\n",
      "File \u001B[1;32m~\\AppData\\Local\\Programs\\Python\\Python39\\lib\\site-packages\\pandas\\_libs\\index.pyx:136\u001B[0m, in \u001B[0;36mpandas._libs.index.IndexEngine.get_loc\u001B[1;34m()\u001B[0m\n",
      "File \u001B[1;32m~\\AppData\\Local\\Programs\\Python\\Python39\\lib\\site-packages\\pandas\\_libs\\index.pyx:144\u001B[0m, in \u001B[0;36mpandas._libs.index.IndexEngine.get_loc\u001B[1;34m()\u001B[0m\n",
      "File \u001B[1;32mpandas\\_libs\\index_class_helper.pxi:41\u001B[0m, in \u001B[0;36mpandas._libs.index.Int64Engine._check_type\u001B[1;34m()\u001B[0m\n",
      "\u001B[1;31mKeyError\u001B[0m: 'Numéro Unique'",
      "\nThe above exception was the direct cause of the following exception:\n",
      "\u001B[1;31mKeyError\u001B[0m                                  Traceback (most recent call last)",
      "Input \u001B[1;32mIn [22]\u001B[0m, in \u001B[0;36m<cell line: 1>\u001B[1;34m()\u001B[0m\n\u001B[1;32m----> 1\u001B[0m liste\u001B[38;5;241m=\u001B[39m\u001B[43mliste\u001B[49m\u001B[43m[\u001B[49m\u001B[38;5;124;43m'\u001B[39;49m\u001B[38;5;124;43mNuméro Unique\u001B[39;49m\u001B[38;5;124;43m'\u001B[39;49m\u001B[43m]\u001B[49m\n\u001B[0;32m      2\u001B[0m liste\u001B[38;5;241m.\u001B[39mto_excel(\u001B[38;5;124m\"\u001B[39m\u001B[38;5;124mlisteparis_.xslx\u001B[39m\u001B[38;5;124m\"\u001B[39m)\n",
      "File \u001B[1;32m~\\AppData\\Local\\Programs\\Python\\Python39\\lib\\site-packages\\pandas\\core\\series.py:958\u001B[0m, in \u001B[0;36mSeries.__getitem__\u001B[1;34m(self, key)\u001B[0m\n\u001B[0;32m    955\u001B[0m     \u001B[38;5;28;01mreturn\u001B[39;00m \u001B[38;5;28mself\u001B[39m\u001B[38;5;241m.\u001B[39m_values[key]\n\u001B[0;32m    957\u001B[0m \u001B[38;5;28;01melif\u001B[39;00m key_is_scalar:\n\u001B[1;32m--> 958\u001B[0m     \u001B[38;5;28;01mreturn\u001B[39;00m \u001B[38;5;28;43mself\u001B[39;49m\u001B[38;5;241;43m.\u001B[39;49m\u001B[43m_get_value\u001B[49m\u001B[43m(\u001B[49m\u001B[43mkey\u001B[49m\u001B[43m)\u001B[49m\n\u001B[0;32m    960\u001B[0m \u001B[38;5;28;01mif\u001B[39;00m is_hashable(key):\n\u001B[0;32m    961\u001B[0m     \u001B[38;5;66;03m# Otherwise index.get_value will raise InvalidIndexError\u001B[39;00m\n\u001B[0;32m    962\u001B[0m     \u001B[38;5;28;01mtry\u001B[39;00m:\n\u001B[0;32m    963\u001B[0m         \u001B[38;5;66;03m# For labels that don't resolve as scalars like tuples and frozensets\u001B[39;00m\n",
      "File \u001B[1;32m~\\AppData\\Local\\Programs\\Python\\Python39\\lib\\site-packages\\pandas\\core\\series.py:1069\u001B[0m, in \u001B[0;36mSeries._get_value\u001B[1;34m(self, label, takeable)\u001B[0m\n\u001B[0;32m   1066\u001B[0m     \u001B[38;5;28;01mreturn\u001B[39;00m \u001B[38;5;28mself\u001B[39m\u001B[38;5;241m.\u001B[39m_values[label]\n\u001B[0;32m   1068\u001B[0m \u001B[38;5;66;03m# Similar to Index.get_value, but we do not fall back to positional\u001B[39;00m\n\u001B[1;32m-> 1069\u001B[0m loc \u001B[38;5;241m=\u001B[39m \u001B[38;5;28;43mself\u001B[39;49m\u001B[38;5;241;43m.\u001B[39;49m\u001B[43mindex\u001B[49m\u001B[38;5;241;43m.\u001B[39;49m\u001B[43mget_loc\u001B[49m\u001B[43m(\u001B[49m\u001B[43mlabel\u001B[49m\u001B[43m)\u001B[49m\n\u001B[0;32m   1070\u001B[0m \u001B[38;5;28;01mreturn\u001B[39;00m \u001B[38;5;28mself\u001B[39m\u001B[38;5;241m.\u001B[39mindex\u001B[38;5;241m.\u001B[39m_get_values_for_loc(\u001B[38;5;28mself\u001B[39m, loc, label)\n",
      "File \u001B[1;32m~\\AppData\\Local\\Programs\\Python\\Python39\\lib\\site-packages\\pandas\\core\\indexes\\base.py:3623\u001B[0m, in \u001B[0;36mIndex.get_loc\u001B[1;34m(self, key, method, tolerance)\u001B[0m\n\u001B[0;32m   3621\u001B[0m     \u001B[38;5;28;01mreturn\u001B[39;00m \u001B[38;5;28mself\u001B[39m\u001B[38;5;241m.\u001B[39m_engine\u001B[38;5;241m.\u001B[39mget_loc(casted_key)\n\u001B[0;32m   3622\u001B[0m \u001B[38;5;28;01mexcept\u001B[39;00m \u001B[38;5;167;01mKeyError\u001B[39;00m \u001B[38;5;28;01mas\u001B[39;00m err:\n\u001B[1;32m-> 3623\u001B[0m     \u001B[38;5;28;01mraise\u001B[39;00m \u001B[38;5;167;01mKeyError\u001B[39;00m(key) \u001B[38;5;28;01mfrom\u001B[39;00m \u001B[38;5;21;01merr\u001B[39;00m\n\u001B[0;32m   3624\u001B[0m \u001B[38;5;28;01mexcept\u001B[39;00m \u001B[38;5;167;01mTypeError\u001B[39;00m:\n\u001B[0;32m   3625\u001B[0m     \u001B[38;5;66;03m# If we have a listlike key, _check_indexing_error will raise\u001B[39;00m\n\u001B[0;32m   3626\u001B[0m     \u001B[38;5;66;03m#  InvalidIndexError. Otherwise we fall through and re-raise\u001B[39;00m\n\u001B[0;32m   3627\u001B[0m     \u001B[38;5;66;03m#  the TypeError.\u001B[39;00m\n\u001B[0;32m   3628\u001B[0m     \u001B[38;5;28mself\u001B[39m\u001B[38;5;241m.\u001B[39m_check_indexing_error(key)\n",
      "\u001B[1;31mKeyError\u001B[0m: 'Numéro Unique'"
     ]
    }
   ],
   "source": [
    "liste=liste['Numéro Unique']\n",
    "liste.to_excel(\"listeparis_.xslx\")"
   ],
   "metadata": {
    "collapsed": false,
    "pycharm": {
     "name": "#%%\n"
    }
   }
  },
  {
   "cell_type": "code",
   "execution_count": 29,
   "outputs": [
    {
     "name": "stderr",
     "output_type": "stream",
     "text": [
      "IOPub data rate exceeded.\n",
      "The notebook server will temporarily stop sending output\n",
      "to the client in order to avoid crashing it.\n",
      "To change this limit, set the config variable\n",
      "`--NotebookApp.iopub_data_rate_limit`.\n",
      "\n",
      "Current values:\n",
      "NotebookApp.iopub_data_rate_limit=1000000.0 (bytes/sec)\n",
      "NotebookApp.rate_limit_window=3.0 (secs)\n",
      "\n"
     ]
    }
   ],
   "source": [
    "print(\"the list of a single column from the dataframe\\n\",\n",
    "        list_of_single_column,\n",
    "        type(list_of_single_column))"
   ],
   "metadata": {
    "collapsed": false,
    "pycharm": {
     "name": "#%%\n"
    }
   }
  },
  {
   "cell_type": "code",
   "execution_count": null,
   "outputs": [],
   "source": [],
   "metadata": {
    "collapsed": false,
    "pycharm": {
     "name": "#%%\n"
    }
   }
  }
 ],
 "metadata": {
  "kernelspec": {
   "display_name": "Python 3",
   "language": "python",
   "name": "python3"
  },
  "language_info": {
   "codemirror_mode": {
    "name": "ipython",
    "version": 2
   },
   "file_extension": ".py",
   "mimetype": "text/x-python",
   "name": "python",
   "nbconvert_exporter": "python",
   "pygments_lexer": "ipython2",
   "version": "2.7.6"
  }
 },
 "nbformat": 4,
 "nbformat_minor": 0
}