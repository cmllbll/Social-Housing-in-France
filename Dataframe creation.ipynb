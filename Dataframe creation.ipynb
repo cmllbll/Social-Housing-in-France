{
 "cells": [
  {
   "cell_type": "code",
   "execution_count": 1,
   "outputs": [],
   "source": [
    "#! pip install openpyxl\n",
    "import pandas as pd"
   ],
   "metadata": {
    "collapsed": false,
    "pycharm": {
     "name": "#%%\n"
    }
   }
  },
  {
   "cell_type": "code",
   "execution_count": 2,
   "outputs": [
    {
     "name": "stderr",
     "output_type": "stream",
     "text": [
      "C:\\Users\\arceb\\AppData\\Local\\Programs\\Python\\Python39\\lib\\site-packages\\openpyxl\\styles\\stylesheet.py:226: UserWarning: Workbook contains no default style, apply openpyxl's default\n",
      "  warn(\"Workbook contains no default style, apply openpyxl's default\")\n"
     ]
    }
   ],
   "source": [
    "df = pd.DataFrame(pd.read_excel(r'C:\\Users\\arceb\\Desktop\\Stage\\Attrib 2018 MGP - RM positif - MVI pour CBA.xlsx', sheet_name=\"Ressources demandeur\"))"
   ],
   "metadata": {
    "collapsed": false,
    "pycharm": {
     "name": "#%%\n"
    }
   }
  },
  {
   "cell_type": "code",
   "execution_count": 3,
   "outputs": [
    {
     "data": {
      "text/plain": "        Unnamed: 0                                         Unnamed: 1  \\\n0              NaN  Demandes actives : types de ressources des dem...   \n1              NaN                                                NaN   \n2              NaN  Source : DGALN - Infocentre Numéro Unique - do...   \n3              NaN                                                NaN   \n4              NaN                                                NaN   \n...            ...                                                ...   \n152679         NaN                                 974111715873511487   \n152680         NaN                                 9741216133916GDPUB   \n152681         NaN                                 9741216133920GDPUB   \n152682         NaN                                 9741217158325GDPUB   \n152683         NaN                                              83717   \n\n       Unnamed: 2                       Unnamed: 3  \\\n0             NaN                              NaN   \n1             NaN                              NaN   \n2             NaN                              NaN   \n3             NaN                              NaN   \n4             NaN                              NaN   \n...           ...                              ...   \n152679       1725                         Retraite   \n152680       2000     Salaire ou revenu d'activité   \n152681        846                         Retraite   \n152682         33  Allocation chômage / indemnités   \n152683        NaN                              NaN   \n\n                                 Unnamed: 4  \n0                                       NaN  \n1                                       NaN  \n2                                       NaN  \n3       Date du stock : 01/01/2018 12:00:00  \n4                                       NaN  \n...                                     ...  \n152679                                 1725  \n152680                                 2000  \n152681                                  846  \n152682                                   33  \n152683                                  NaN  \n\n[152684 rows x 5 columns]",
      "text/html": "<div>\n<style scoped>\n    .dataframe tbody tr th:only-of-type {\n        vertical-align: middle;\n    }\n\n    .dataframe tbody tr th {\n        vertical-align: top;\n    }\n\n    .dataframe thead th {\n        text-align: right;\n    }\n</style>\n<table border=\"1\" class=\"dataframe\">\n  <thead>\n    <tr style=\"text-align: right;\">\n      <th></th>\n      <th>Unnamed: 0</th>\n      <th>Unnamed: 1</th>\n      <th>Unnamed: 2</th>\n      <th>Unnamed: 3</th>\n      <th>Unnamed: 4</th>\n    </tr>\n  </thead>\n  <tbody>\n    <tr>\n      <th>0</th>\n      <td>NaN</td>\n      <td>Demandes actives : types de ressources des dem...</td>\n      <td>NaN</td>\n      <td>NaN</td>\n      <td>NaN</td>\n    </tr>\n    <tr>\n      <th>1</th>\n      <td>NaN</td>\n      <td>NaN</td>\n      <td>NaN</td>\n      <td>NaN</td>\n      <td>NaN</td>\n    </tr>\n    <tr>\n      <th>2</th>\n      <td>NaN</td>\n      <td>Source : DGALN - Infocentre Numéro Unique - do...</td>\n      <td>NaN</td>\n      <td>NaN</td>\n      <td>NaN</td>\n    </tr>\n    <tr>\n      <th>3</th>\n      <td>NaN</td>\n      <td>NaN</td>\n      <td>NaN</td>\n      <td>NaN</td>\n      <td>Date du stock : 01/01/2018 12:00:00</td>\n    </tr>\n    <tr>\n      <th>4</th>\n      <td>NaN</td>\n      <td>NaN</td>\n      <td>NaN</td>\n      <td>NaN</td>\n      <td>NaN</td>\n    </tr>\n    <tr>\n      <th>...</th>\n      <td>...</td>\n      <td>...</td>\n      <td>...</td>\n      <td>...</td>\n      <td>...</td>\n    </tr>\n    <tr>\n      <th>152679</th>\n      <td>NaN</td>\n      <td>974111715873511487</td>\n      <td>1725</td>\n      <td>Retraite</td>\n      <td>1725</td>\n    </tr>\n    <tr>\n      <th>152680</th>\n      <td>NaN</td>\n      <td>9741216133916GDPUB</td>\n      <td>2000</td>\n      <td>Salaire ou revenu d'activité</td>\n      <td>2000</td>\n    </tr>\n    <tr>\n      <th>152681</th>\n      <td>NaN</td>\n      <td>9741216133920GDPUB</td>\n      <td>846</td>\n      <td>Retraite</td>\n      <td>846</td>\n    </tr>\n    <tr>\n      <th>152682</th>\n      <td>NaN</td>\n      <td>9741217158325GDPUB</td>\n      <td>33</td>\n      <td>Allocation chômage / indemnités</td>\n      <td>33</td>\n    </tr>\n    <tr>\n      <th>152683</th>\n      <td>NaN</td>\n      <td>83717</td>\n      <td>NaN</td>\n      <td>NaN</td>\n      <td>NaN</td>\n    </tr>\n  </tbody>\n</table>\n<p>152684 rows × 5 columns</p>\n</div>"
     },
     "execution_count": 3,
     "metadata": {},
     "output_type": "execute_result"
    }
   ],
   "source": [
    "df"
   ],
   "metadata": {
    "collapsed": false,
    "pycharm": {
     "name": "#%%\n"
    }
   }
  },
  {
   "cell_type": "code",
   "execution_count": 66,
   "outputs": [
    {
     "ename": "SyntaxError",
     "evalue": "(unicode error) 'unicodeescape' codec can't decode bytes in position 38-39: truncated \\UXXXXXXXX escape (4105613451.py, line 6)",
     "output_type": "error",
     "traceback": [
      "\u001B[1;36m  Input \u001B[1;32mIn [66]\u001B[1;36m\u001B[0m\n\u001B[1;33m    df95=pd.DataFrame(pd.read_excel(r'C:\\Users\\arceb\\Desktop\\Stage\\Fichiers demandeurs complets Ministère/d_20180101_95_20190329.xlsx', sheet_name=\"Ressources demandeur\"))\"\"\"\u001B[0m\n\u001B[1;37m                                                                                                                                                                              ^\u001B[0m\n\u001B[1;31mSyntaxError\u001B[0m\u001B[1;31m:\u001B[0m (unicode error) 'unicodeescape' codec can't decode bytes in position 38-39: truncated \\UXXXXXXXX escape\n"
     ]
    }
   ],
   "source": [
    "\"\"\"df7778=pd.DataFrame(pd.read_excel(r'C:\\Users\\arceb\\Desktop\\Stage\\Fichiers demandeurs complets Ministère/d_20180101_77_78_20190329.xlsx', sheet_name=\"Ressources demandeur\"))\n",
    "df91=pd.DataFrame(pd.read_excel(r'C:\\Users\\arceb\\Desktop\\Stage\\Fichiers demandeurs complets Ministère/d_20180101_91_20190329.xlsx', sheet_name=\"Ressources demandeur\"))\n",
    "df92=pd.DataFrame(pd.read_excel(r'C:\\Users\\arceb\\Desktop\\Stage\\Fichiers demandeurs complets Ministère/d_20180101_92_20190329.xlsx', sheet_name=\"Ressources demandeur\"))\n",
    "df93=pd.DataFrame(pd.read_excel(r'C:\\Users\\arceb\\Desktop\\Stage\\Fichiers demandeurs complets Ministère/d_20180101_93_20190329.xlsx', sheet_name=\"Ressources demandeur\"))\n",
    "df94=pd.DataFrame(pd.read_excel(r'C:\\Users\\arceb\\Desktop\\Stage\\Fichiers demandeurs complets Ministère/d_20180101_94_20190329.xlsx', sheet_name=\"Ressources demandeur\"))\n",
    "df95=pd.DataFrame(pd.read_excel(r'C:\\Users\\arceb\\Desktop\\Stage\\Fichiers demandeurs complets Ministère/d_20180101_95_20190329.xlsx', sheet_name=\"Ressources demandeur\"))\"\"\""
   ],
   "metadata": {
    "collapsed": false,
    "pycharm": {
     "name": "#%%\n"
    }
   }
  },
  {
   "cell_type": "code",
   "execution_count": 4,
   "outputs": [
    {
     "data": {
      "text/plain": "\"df_7778=df7778.drop(index = [0, 1, 2, 3, 4, 5], columns=['Unnamed: 0'])\\ndf_91=df91.drop(index = [0, 1, 2, 3, 4, 5], columns=['Unnamed: 0'])\\ndf_92=df92.drop(index = [0, 1, 2, 3, 4, 5], columns=['Unnamed: 0'])\\ndf_93=df93.drop(index = [0, 1, 2, 3, 4, 5], columns=['Unnamed: 0'])\\ndf_94=df94.drop(index = [0, 1, 2, 3, 4, 5], columns=['Unnamed: 0'])\\ndf_95=df95.drop(index = [0, 1, 2, 3, 4, 5], columns=['Unnamed: 0'])\""
     },
     "execution_count": 4,
     "metadata": {},
     "output_type": "execute_result"
    }
   ],
   "source": [
    "dfbis=df.drop(index = [0, 1, 2, 3, 4, 5], columns=['Unnamed: 0'])\n",
    "\"\"\"df_7778=df7778.drop(index = [0, 1, 2, 3, 4, 5], columns=['Unnamed: 0'])\n",
    "df_91=df91.drop(index = [0, 1, 2, 3, 4, 5], columns=['Unnamed: 0'])\n",
    "df_92=df92.drop(index = [0, 1, 2, 3, 4, 5], columns=['Unnamed: 0'])\n",
    "df_93=df93.drop(index = [0, 1, 2, 3, 4, 5], columns=['Unnamed: 0'])\n",
    "df_94=df94.drop(index = [0, 1, 2, 3, 4, 5], columns=['Unnamed: 0'])\n",
    "df_95=df95.drop(index = [0, 1, 2, 3, 4, 5], columns=['Unnamed: 0'])\"\"\""
   ],
   "metadata": {
    "collapsed": false,
    "pycharm": {
     "name": "#%%\n"
    }
   }
  },
  {
   "cell_type": "code",
   "execution_count": 5,
   "outputs": [
    {
     "data": {
      "text/plain": "'df_d=pd.concat([df_75, df_7778, df_91, df_92, df_93, df_94, df_95])\\ndf_d'"
     },
     "execution_count": 5,
     "metadata": {},
     "output_type": "execute_result"
    }
   ],
   "source": [
    "\"\"\"df_d=pd.concat([df_75, df_7778, df_91, df_92, df_93, df_94, df_95])\n",
    "df_d\"\"\""
   ],
   "metadata": {
    "collapsed": false,
    "pycharm": {
     "name": "#%%\n"
    }
   }
  },
  {
   "cell_type": "code",
   "execution_count": 6,
   "outputs": [],
   "source": [
    "dfbis.columns = dfbis.iloc[0]"
   ],
   "metadata": {
    "collapsed": false,
    "pycharm": {
     "name": "#%%\n"
    }
   }
  },
  {
   "cell_type": "code",
   "execution_count": 7,
   "outputs": [],
   "source": [
    "df_d=dfbis.drop(index = [6])\n"
   ],
   "metadata": {
    "collapsed": false,
    "pycharm": {
     "name": "#%%\n"
    }
   }
  },
  {
   "cell_type": "code",
   "execution_count": 8,
   "outputs": [
    {
     "data": {
      "text/plain": "6            Numéro Unique Ressources mensuelles\\n  \\\n7       001011403466511146                    2134   \n8       001011403466511146                    2134   \n9       001011403466511146                    2134   \n10      001011403466511146                    2134   \n11      0010117074877GDPUB                     900   \n...                    ...                     ...   \n152679  974111715873511487                    1725   \n152680  9741216133916GDPUB                    2000   \n152681  9741216133920GDPUB                     846   \n152682  9741217158325GDPUB                      33   \n152683               83717                     NaN   \n\n6                   Type de ressource\\n Montant par type de ressource\\n  \n7       Allocation chômage / indemnités                             240  \n8                 Allocation familiales                             424  \n9               Autres (hors APL ou AL)                             517  \n10         Salaire ou revenu d'activité                             953  \n11                Allocation familiales                             700  \n...                                 ...                             ...  \n152679                         Retraite                            1725  \n152680     Salaire ou revenu d'activité                            2000  \n152681                         Retraite                             846  \n152682  Allocation chômage / indemnités                              33  \n152683                              NaN                             NaN  \n\n[152677 rows x 4 columns]",
      "text/html": "<div>\n<style scoped>\n    .dataframe tbody tr th:only-of-type {\n        vertical-align: middle;\n    }\n\n    .dataframe tbody tr th {\n        vertical-align: top;\n    }\n\n    .dataframe thead th {\n        text-align: right;\n    }\n</style>\n<table border=\"1\" class=\"dataframe\">\n  <thead>\n    <tr style=\"text-align: right;\">\n      <th>6</th>\n      <th>Numéro Unique</th>\n      <th>Ressources mensuelles\\n</th>\n      <th>Type de ressource\\n</th>\n      <th>Montant par type de ressource\\n</th>\n    </tr>\n  </thead>\n  <tbody>\n    <tr>\n      <th>7</th>\n      <td>001011403466511146</td>\n      <td>2134</td>\n      <td>Allocation chômage / indemnités</td>\n      <td>240</td>\n    </tr>\n    <tr>\n      <th>8</th>\n      <td>001011403466511146</td>\n      <td>2134</td>\n      <td>Allocation familiales</td>\n      <td>424</td>\n    </tr>\n    <tr>\n      <th>9</th>\n      <td>001011403466511146</td>\n      <td>2134</td>\n      <td>Autres (hors APL ou AL)</td>\n      <td>517</td>\n    </tr>\n    <tr>\n      <th>10</th>\n      <td>001011403466511146</td>\n      <td>2134</td>\n      <td>Salaire ou revenu d'activité</td>\n      <td>953</td>\n    </tr>\n    <tr>\n      <th>11</th>\n      <td>0010117074877GDPUB</td>\n      <td>900</td>\n      <td>Allocation familiales</td>\n      <td>700</td>\n    </tr>\n    <tr>\n      <th>...</th>\n      <td>...</td>\n      <td>...</td>\n      <td>...</td>\n      <td>...</td>\n    </tr>\n    <tr>\n      <th>152679</th>\n      <td>974111715873511487</td>\n      <td>1725</td>\n      <td>Retraite</td>\n      <td>1725</td>\n    </tr>\n    <tr>\n      <th>152680</th>\n      <td>9741216133916GDPUB</td>\n      <td>2000</td>\n      <td>Salaire ou revenu d'activité</td>\n      <td>2000</td>\n    </tr>\n    <tr>\n      <th>152681</th>\n      <td>9741216133920GDPUB</td>\n      <td>846</td>\n      <td>Retraite</td>\n      <td>846</td>\n    </tr>\n    <tr>\n      <th>152682</th>\n      <td>9741217158325GDPUB</td>\n      <td>33</td>\n      <td>Allocation chômage / indemnités</td>\n      <td>33</td>\n    </tr>\n    <tr>\n      <th>152683</th>\n      <td>83717</td>\n      <td>NaN</td>\n      <td>NaN</td>\n      <td>NaN</td>\n    </tr>\n  </tbody>\n</table>\n<p>152677 rows × 4 columns</p>\n</div>"
     },
     "execution_count": 8,
     "metadata": {},
     "output_type": "execute_result"
    }
   ],
   "source": [
    "df_d"
   ],
   "metadata": {
    "collapsed": false,
    "pycharm": {
     "name": "#%%\n"
    }
   }
  },
  {
   "cell_type": "code",
   "execution_count": 9,
   "outputs": [
    {
     "data": {
      "text/plain": "6            Numéro Unique Ressources mensuelles\\n  \\\n0       001011403466511146                    2134   \n1       001011403466511146                    2134   \n2       001011403466511146                    2134   \n3       001011403466511146                    2134   \n4       0010117074877GDPUB                     900   \n...                    ...                     ...   \n152672  974111715873511487                    1725   \n152673  9741216133916GDPUB                    2000   \n152674  9741216133920GDPUB                     846   \n152675  9741217158325GDPUB                      33   \n152676               83717                     NaN   \n\n6                   Type de ressource\\n Montant par type de ressource\\n  \n0       Allocation chômage / indemnités                             240  \n1                 Allocation familiales                             424  \n2               Autres (hors APL ou AL)                             517  \n3          Salaire ou revenu d'activité                             953  \n4                 Allocation familiales                             700  \n...                                 ...                             ...  \n152672                         Retraite                            1725  \n152673     Salaire ou revenu d'activité                            2000  \n152674                         Retraite                             846  \n152675  Allocation chômage / indemnités                              33  \n152676                              NaN                             NaN  \n\n[152677 rows x 4 columns]",
      "text/html": "<div>\n<style scoped>\n    .dataframe tbody tr th:only-of-type {\n        vertical-align: middle;\n    }\n\n    .dataframe tbody tr th {\n        vertical-align: top;\n    }\n\n    .dataframe thead th {\n        text-align: right;\n    }\n</style>\n<table border=\"1\" class=\"dataframe\">\n  <thead>\n    <tr style=\"text-align: right;\">\n      <th>6</th>\n      <th>Numéro Unique</th>\n      <th>Ressources mensuelles\\n</th>\n      <th>Type de ressource\\n</th>\n      <th>Montant par type de ressource\\n</th>\n    </tr>\n  </thead>\n  <tbody>\n    <tr>\n      <th>0</th>\n      <td>001011403466511146</td>\n      <td>2134</td>\n      <td>Allocation chômage / indemnités</td>\n      <td>240</td>\n    </tr>\n    <tr>\n      <th>1</th>\n      <td>001011403466511146</td>\n      <td>2134</td>\n      <td>Allocation familiales</td>\n      <td>424</td>\n    </tr>\n    <tr>\n      <th>2</th>\n      <td>001011403466511146</td>\n      <td>2134</td>\n      <td>Autres (hors APL ou AL)</td>\n      <td>517</td>\n    </tr>\n    <tr>\n      <th>3</th>\n      <td>001011403466511146</td>\n      <td>2134</td>\n      <td>Salaire ou revenu d'activité</td>\n      <td>953</td>\n    </tr>\n    <tr>\n      <th>4</th>\n      <td>0010117074877GDPUB</td>\n      <td>900</td>\n      <td>Allocation familiales</td>\n      <td>700</td>\n    </tr>\n    <tr>\n      <th>...</th>\n      <td>...</td>\n      <td>...</td>\n      <td>...</td>\n      <td>...</td>\n    </tr>\n    <tr>\n      <th>152672</th>\n      <td>974111715873511487</td>\n      <td>1725</td>\n      <td>Retraite</td>\n      <td>1725</td>\n    </tr>\n    <tr>\n      <th>152673</th>\n      <td>9741216133916GDPUB</td>\n      <td>2000</td>\n      <td>Salaire ou revenu d'activité</td>\n      <td>2000</td>\n    </tr>\n    <tr>\n      <th>152674</th>\n      <td>9741216133920GDPUB</td>\n      <td>846</td>\n      <td>Retraite</td>\n      <td>846</td>\n    </tr>\n    <tr>\n      <th>152675</th>\n      <td>9741217158325GDPUB</td>\n      <td>33</td>\n      <td>Allocation chômage / indemnités</td>\n      <td>33</td>\n    </tr>\n    <tr>\n      <th>152676</th>\n      <td>83717</td>\n      <td>NaN</td>\n      <td>NaN</td>\n      <td>NaN</td>\n    </tr>\n  </tbody>\n</table>\n<p>152677 rows × 4 columns</p>\n</div>"
     },
     "execution_count": 9,
     "metadata": {},
     "output_type": "execute_result"
    }
   ],
   "source": [
    "df_d.reset_index(inplace=True, drop=True)\n",
    "df_d"
   ],
   "metadata": {
    "collapsed": false,
    "pycharm": {
     "name": "#%%\n"
    }
   }
  },
  {
   "cell_type": "code",
   "execution_count": 10,
   "outputs": [],
   "source": [
    "df_d.to_csv('demandeurs_45_revenus.csv', index = True)"
   ],
   "metadata": {
    "collapsed": false,
    "pycharm": {
     "name": "#%%\n"
    }
   }
  },
  {
   "cell_type": "code",
   "execution_count": 1,
   "outputs": [],
   "source": [
    "from threading import Thread\n",
    "import os\n",
    "import pandas as pd"
   ],
   "metadata": {
    "collapsed": false,
    "pycharm": {
     "name": "#%%\n"
    }
   }
  },
  {
   "cell_type": "code",
   "execution_count": 15,
   "outputs": [],
   "source": [
    "path = \"../../Desktop/Stage/fichiers_demandeurs_complets_ministere/\"\n",
    "filesnames = list(f'{path}{filename}' for filename in os.listdir(path) if not filename.startswith('.') )"
   ],
   "metadata": {
    "collapsed": false,
    "pycharm": {
     "name": "#%%\n"
    }
   }
  },
  {
   "cell_type": "markdown",
   "source": [],
   "metadata": {
    "collapsed": false,
    "pycharm": {
     "name": "#%% md\n"
    }
   }
  },
  {
   "cell_type": "code",
   "execution_count": null,
   "outputs": [],
   "source": [
    "def thread_func(filename: str, paris_df : pd.DataFrame, lyon_df : pd.DataFrame, aix_df: pd.DataFrame):\n",
    "    df = pd.read_excel(sheet_name=filename)\n",
    "    df.drop(index = [0, 1, 2, 3, 4, 5], columns=['Unnamed: 0'], inplace=True)\n",
    "    df.columns = df.iloc[0]\n",
    "    df.drop(index = [6], inplace=True)\n",
    "    df.reset_index(inplace=True, drop=True)\n",
    "    df[df.]\n",
    "\n"
   ],
   "metadata": {
    "collapsed": false,
    "pycharm": {
     "name": "#%%\n"
    }
   }
  },
  {
   "cell_type": "code",
   "execution_count": 16,
   "outputs": [
    {
     "data": {
      "text/plain": "['../../Desktop/Stage/fichiers_demandeurs_complets_ministere/d_20180101_01_07_26_38.xlsx',\n '../../Desktop/Stage/fichiers_demandeurs_complets_ministere/d_20180101_04_05_06.xlsx',\n '../../Desktop/Stage/fichiers_demandeurs_complets_ministere/d_20180101_13_20190328.xlsx',\n '../../Desktop/Stage/fichiers_demandeurs_complets_ministere/d_20180101_42_69_73_74.xlsx',\n '../../Desktop/Stage/fichiers_demandeurs_complets_ministere/d_20180101_75_20190329.xlsx',\n '../../Desktop/Stage/fichiers_demandeurs_complets_ministere/d_20180101_77_78_20190329.xlsx',\n '../../Desktop/Stage/fichiers_demandeurs_complets_ministere/d_20180101_83_84_20190329.xlsx',\n '../../Desktop/Stage/fichiers_demandeurs_complets_ministere/d_20180101_91_20190329.xlsx',\n '../../Desktop/Stage/fichiers_demandeurs_complets_ministere/d_20180101_92_20190329.xlsx',\n '../../Desktop/Stage/fichiers_demandeurs_complets_ministere/d_20180101_93_20190329.xlsx',\n '../../Desktop/Stage/fichiers_demandeurs_complets_ministere/d_20180101_94_20190329.xlsx',\n '../../Desktop/Stage/fichiers_demandeurs_complets_ministere/d_20180101_95_20190329.xlsx',\n '../../Desktop/Stage/fichiers_demandeurs_complets_ministere/d_20180101_Alsace_20190330.xlsx',\n '../../Desktop/Stage/fichiers_demandeurs_complets_ministere/d_20180101_Aquitaine_20190329.xlsx',\n '../../Desktop/Stage/fichiers_demandeurs_complets_ministere/d_20180101_Auvergne_BN_20190329.xlsx',\n '../../Desktop/Stage/fichiers_demandeurs_complets_ministere/d_20180101_Bourgo_Bretagne_20190329.xlsx',\n '../../Desktop/Stage/fichiers_demandeurs_complets_ministere/d_20180101_CA_Centre_Corse_20190329.xlsx',\n '../../Desktop/Stage/fichiers_demandeurs_complets_ministere/d_20180101_HN_FC_Guad_Guy_20190329.xlsx',\n '../../Desktop/Stage/fichiers_demandeurs_complets_ministere/d_20180101_Limou_Lorrai_Mart_20190329.xlsx',\n '../../Desktop/Stage/fichiers_demandeurs_complets_ministere/d_20180101_LR_20190329.xlsx',\n '../../Desktop/Stage/fichiers_demandeurs_complets_ministere/d_20180101_MP_20190329.xlsx',\n '../../Desktop/Stage/fichiers_demandeurs_complets_ministere/d_20180101_Nord_20190329.xlsx',\n '../../Desktop/Stage/fichiers_demandeurs_complets_ministere/d_20180101_PDC_20190329.xlsx',\n '../../Desktop/Stage/fichiers_demandeurs_complets_ministere/d_20180101_Pic_PDL_PC_20190329.xlsx']"
     },
     "execution_count": 16,
     "metadata": {},
     "output_type": "execute_result"
    }
   ],
   "source": [
    "threads = []\n",
    "\n",
    "for filename in filesnames:\n",
    "    threads.append(Thread())"
   ],
   "metadata": {
    "collapsed": false,
    "pycharm": {
     "name": "#%%\n"
    }
   }
  },
  {
   "cell_type": "code",
   "execution_count": 25,
   "outputs": [
    {
     "name": "stderr",
     "output_type": "stream",
     "text": [
      "C:\\Users\\arceb\\AppData\\Local\\Temp\\ipykernel_53140\\3553423729.py:1: DtypeWarning: Columns (6,7) have mixed types. Specify dtype option on import or set low_memory=False.\n",
      "  liste = pd.read_csv(r'C:\\Users\\arceb\\PycharmProjects\\pythonProject\\Paris_.csv', index_col = 0)\n"
     ]
    }
   ],
   "source": [
    "liste = pd.read_csv(r'C:\\Users\\arceb\\PycharmProjects\\pythonProject\\Paris_.csv', index_col = 0)"
   ],
   "metadata": {
    "collapsed": false,
    "pycharm": {
     "name": "#%%\n"
    }
   }
  },
  {
   "cell_type": "code",
   "execution_count": 26,
   "outputs": [],
   "source": [
    "list_of_single_column = liste['Numéro Unique'].tolist()"
   ],
   "metadata": {
    "collapsed": false,
    "pycharm": {
     "name": "#%%\n"
    }
   }
  },
  {
   "cell_type": "code",
   "execution_count": 19,
   "outputs": [
    {
     "data": {
      "text/plain": "['175059506627600002',\n '175109601597200002',\n '175050024651100002',\n '175020105237600002',\n '094060145050010004',\n '175030213847900002',\n '175120203296200002',\n '211080400042994041',\n '111121522545475056',\n '175010611563100002',\n '175030621341300002',\n '175010705656900002',\n '175010705820600002',\n '175060721916500002',\n '175080716237000002',\n '175060819213600002',\n '175120811617400002',\n '175120801074200002',\n '175020905323600002',\n '175030910615900002',\n '094060989659910167',\n '175080910163900002',\n '175090915767300002',\n '175110922227300002',\n '175061016052900002',\n '175061017890000002',\n '175121018177200002',\n '175121010514700002',\n '111031101318392B05',\n '111051103108075056',\n '111051103653075056',\n '111011221699075056',\n '175011216304700002',\n '111031225288275056',\n '111031225733275056',\n '111081236945975056',\n '111091238707075056',\n '111031350171775056',\n '111031350487375056',\n '111041353158094080',\n '111041353552175056',\n '111051355405075056',\n '111061356299710936',\n '111061357351375056',\n '111101365533775056',\n '111121368145675056',\n '111011470749775056',\n '111011471502975056',\n '111031475835075056',\n '111061481759175056',\n '111071483132675056',\n '111091487505575056',\n '111091487704575056',\n '111091488025895539',\n '111111491354075056',\n '111111492184577058',\n '111111492777775056',\n '111031599288495491',\n '111031599613575056',\n '111031500428575056',\n '111031500428775056',\n '111041501913175056',\n '111041502227775056',\n '111061506757075B02',\n '111061507829275056',\n '1111015163105GDPUB',\n '1111015179333GDPUB',\n '111111518600375056',\n '1111215228165GDPUB',\n '1110116248351GDPUB',\n '111021626371375056',\n '111021627848675B02',\n '111021627931775056',\n '1110216286846GDPUB',\n '111031629560075056',\n '1110316303327GDPUB',\n '1110316306525GDPUB',\n '111031630835775056',\n '1110616393836GDPUB',\n '111061639189675056',\n '111061639315675056',\n '111061641076775056',\n '111071642449475056',\n '111091607102475056',\n '111091647185775056',\n '1110916475818GDPUB',\n '1110916481658GDPUB',\n '1111016495962GDPUB',\n '111111652109075056',\n '111121653512475056',\n '111121653516875056',\n '1111216536136GDPUB',\n '1111216536197GDPUB',\n '1111216536593GDPUB',\n '1111216538844AL020',\n '111121653950675056',\n '1111216544316GDPUB',\n '1110117559878GDPUB',\n '1110117566949GDPUB',\n '1110117575739GDPUB',\n '1110117576747GDPUB',\n '1110217633193AL011',\n '1110217596593GDPUB',\n '1110217601691GDPUB',\n '1110317609336AL004',\n '1110317612162GDPUB',\n '111031761856275056',\n '1110317620405AL004',\n '1110317625921GDPUB',\n '111031763155975056',\n '1110317635100GDPUB',\n '111041764446778311',\n '1110417645440AL008',\n '111041764714375056',\n '1110417654834GDPUB',\n '1110417659858GDPUB',\n '1110517664128GDPUB',\n '111051767038575B02',\n '1110517675508GDPUB',\n '1110517679698GDPUB',\n '1110517683153AL008',\n '1110517684538GDPUB',\n '111061768650275056',\n '1110617691152GDPUB',\n '1110617692094GDPUB',\n '111061769369175056',\n '1110617698859GDPUB',\n '1110617701521GDPUB',\n '1110617711802GDPUB',\n '1110717710162AL020',\n '1110717713676GDPUB',\n '1110717715322GDPUB',\n '1110717716421GDPUB',\n '111071771984575056',\n '1110717721358AL010',\n '1110717724137GDPUB',\n '1110717722828AL004',\n '1110717730145GDPUB',\n '1110717730822GDPUB',\n '1110817738643GDPUB',\n '1110817739531GDPUB',\n '111081774146975056',\n '1110817753137GDPUB',\n '111091775432875056',\n '1110917755630GDPUB',\n '1110917763844GDPUB',\n '1110917766756GDPUB',\n '1110917770293GDPUB',\n '1110917770859GDPUB',\n '1110917772605AL004',\n '1110917775236GDPUB',\n '1110917775459GDPUB',\n '1110917777289GDPUB',\n '1111017777924GDPUB',\n '1111017803279AL010',\n '1111017793425GDPUB',\n '1111017793477GDPUB',\n '1111117807065GDPUB',\n '1111117819937GDPUB',\n '1111217838787GDPUB',\n '1111217846788GDPUB',\n '1111217848622GDPUB',\n '1111217848700GDPUB',\n '175029922428400002',\n '175020316691700002',\n '175060305998500002',\n '175030508876300002',\n '175110731013400002',\n '175030911977700002',\n '175110913966500002',\n '175081022600400002',\n '175031107381200002',\n '111111116800675056',\n '111071234987375056',\n '111101239439475056',\n '111051354084175056',\n '111121369007275056',\n '111011473621594041',\n '111011470744275056',\n '111121492989375056',\n '111121494127675056',\n '111011596527675056',\n '111021597194075B02',\n '111021598964375056',\n '111031599744375056',\n '1110415039385GDPUB',\n '111051505264075056',\n '1110515060485GDPUB',\n '1110515073012R5680',\n '111061506774110170',\n '111091514964293006',\n '111091515214710167',\n '111101516274975056',\n '1111215223297GDPUB',\n '1111215228266GDPUB',\n '111011624892175056',\n '1110416338588GDPUB',\n '111051637527710167',\n '111051638028775056',\n '111051638430293029',\n '111061639088075056',\n '1110716422484GDPUB',\n '111071643063975056',\n '1110816436927GDPUB',\n '1110816447932GDPUB',\n '111081644960275056',\n '1110816450096GDPUB',\n '1110816453677GDPUB',\n '111081645446092012',\n '111081645557375056',\n '1110916481664GDPUB',\n '1111016486566GDPUB',\n '1111116528566GDPUB',\n '111111652996675056',\n '1111216548813GDPUB',\n '1111216566071AL010',\n '1110117567829GDPUB',\n '1110117576292AL018',\n '1110117581312GDPUB',\n '1110217585932AL018',\n '1110217586063GDPUB',\n '1110217591367GDPUB',\n '111021759175310007',\n '1110217593559GDPUB',\n '1110217598305GDPUB',\n '1110217599816GDPUB',\n '111021760239475056',\n '1110217603834GDPUB',\n '1110217605471GDPUB',\n '111021760497475056',\n '111021760637275056',\n '1110217608292GDPUB',\n '1110317611206GDPUB',\n '1110317624980GDPUB',\n '1110317628309GDPUB',\n '111031762752875056',\n '1110317634702GDPUB',\n '1110317635585GDPUB',\n '1110317639552GDPUB',\n '1110317640419GDPUB',\n '1110417643057GDPUB',\n '1110417643193GDPUB',\n '1110417644423GDPUB',\n '1110417645210GDPUB',\n '1110417646415GDPUB',\n '1110417653934GDPUB',\n '1110417654375GDPUB',\n '1110417654406GDPUB',\n '1110417652815AL004',\n '1110417655299GDPUB',\n '1110417655712GDPUB',\n '1110417659913GDPUB',\n '111041767996475056',\n '1110517663201GDPUB',\n '1110517665127GDPUB',\n '1110517665841GDPUB',\n '1110517667078GDPUB',\n '1110517668329GDPUB',\n '1110517669296GDPUB',\n '1110517672439GDPUB',\n '1110517673281GDPUB',\n '1110517673375GDPUB',\n '1110517673598GDPUB',\n '1110517676640GDPUB',\n '1110517679617GDPUB',\n '1110517682735GDPUB',\n '1110517682850GDPUB',\n '1110517685836GDPUB',\n '111061768623775056',\n '1110617687066GDPUB',\n '1110617691063GDPUB',\n '111061769254575056',\n '1110617698235GDPUB',\n '1110617699800GDPUB',\n '1110617701919GDPUB',\n '1110617706406GDPUB',\n '1110617710236GDPUB',\n '1110617710639GDPUB',\n '1110717712264GDPUB',\n '1110717717390GDPUB',\n '1110717719106GDPUB',\n '1110717715692AL010',\n '1110717719159GDPUB',\n '1110717719682GDPUB',\n '1110717724301GDPUB',\n '1110717729887GDPUB',\n '1110717732004GDPUB',\n '1110717733603GDPUB',\n '1110817737912GDPUB',\n '1110817739596GDPUB',\n '1110817741204GDPUB',\n '1110817744415GDPUB',\n '1110817746115GDPUB',\n '1110817753396GDPUB',\n '1110917755102GDPUB',\n '1110917758289GDPUB',\n '1110917758292GDPUB',\n '111091777225410122',\n '1111017780488GDPUB',\n '1111017788763GDPUB',\n '1111017793074GDPUB',\n '1111017798322GDPUB',\n '1111117809548GDPUB',\n '111111781608475056',\n '1111117819428GDPUB',\n '1111117820692GDPUB',\n '1111117821878GDPUB',\n '1111117823976GDPUB',\n '111111782817375056',\n '1111217831522GDPUB',\n '1111217840677AL010',\n '1111217838925GDPUB',\n '111121783957592024',\n '111121784812875056',\n '1111217850147GDPUB',\n '175099916601100002',\n '175090422151700002',\n '111081485688875056',\n '175120428187800002',\n '2110205109592PRE94',\n '092020744741992044',\n '175020723021400002',\n '175091002246000002',\n '175091012733000002',\n '175121016803000002',\n '175121012464700008',\n '175021102657600002',\n '111071118322675056',\n '111111116790575056',\n '111061232334275056',\n '111071236829210044',\n '111071235325475056',\n '111091237985775056',\n '111101246173694B02',\n '111041351440175056',\n '111041354083575056',\n '111081360089394017',\n '111091362509775056',\n '111121369219575056',\n '111041478431875056',\n '111041478824475056',\n '111041478825075056',\n '111121493734275056',\n '111121494041675056',\n '111121494302694080',\n '111021598460475056',\n '111051504486775056',\n '1110815130992GDPUB',\n '1110915145193GDPUB',\n '111101516546975056',\n '1111015177110GDPUB',\n '1111115220348GDPUB',\n '1111215221824GDPUB',\n '1111215223749GDPUB',\n '111121521576675056',\n '1111215230211GDPUB',\n '1110116249814GDPUB',\n '111011624878794037',\n '1110316287749GDPUB',\n '111031632168775056',\n '111041632127694046',\n '1110416333349GDPUB',\n '1110516351488GDPUB',\n '1110516372848GDPUB',\n '1110516372980GDPUB',\n '1110716423121GDPUB',\n '111081643807575056',\n '1110816439378GDPUB',\n '111081644239975056',\n '1110816456344GDPUB',\n '1110916466606GDPUB',\n '1110916479127GDPUB',\n '111101654435093B10',\n '111101650527078358',\n '1111216537068GDPUB',\n '1111216544627GDPUB',\n '1111216547324GDPUB',\n '1111216546951AL017',\n '111121654797275056',\n '1111216550010GDPUB',\n '111121655352575056',\n '1111216553907GDPUB',\n '1111216555197GDPUB',\n '1110117559663GDPUB',\n '1110117562455GDPUB',\n '111011756705375056',\n '1110117568404GDPUB',\n '1110117572441GDPUB',\n '1110117575410GDPUB',\n '1110117575635GDPUB',\n '1110117576505GDPUB',\n '1110217586880GDPUB',\n '1110217587489GDPUB',\n '1110217589870GDPUB',\n '1110217589961GDPUB',\n '1110217591926GDPUB',\n '1110217593954GDPUB',\n '111021759332391N01',\n '1110217594445GDPUB',\n '1110217595042GDPUB',\n '1110217597645GDPUB',\n '111021759845575056',\n '1110217598972GDPUB',\n '111021760122275056',\n '1110217601754GDPUB',\n '1110217605542GDPUB',\n '111021760537975056',\n '111021760635475056',\n '1110317613687GDPUB',\n '1110317614465GDPUB',\n '1110317614819GDPUB',\n '1110317614953GDPUB',\n '1110317617992GDPUB',\n '1110317619000GDPUB',\n '1110317619665GDPUB',\n '1110317622887GDPUB',\n '1110317626124GDPUB',\n '1110317627147GDPUB',\n '1110317629390GDPUB',\n '1110317629496GDPUB',\n '1110317629523GDPUB',\n '1110317633402GDPUB',\n '1110317633665GDPUB',\n '1110317634254GDPUB',\n '1110317636438GDPUB',\n '1110317637806GDPUB',\n '1110417641150GDPUB',\n '1110417642205GDPUB',\n '1110417646617GDPUB',\n '1110417647067GDPUB',\n '1110417652461GDPUB',\n '1110417652614GDPUB',\n '1110417653143GDPUB',\n '1110417655435GDPUB',\n '1110417656004GDPUB',\n '1110417656078GDPUB',\n '1110417657510GDPUB',\n '1110417658217GDPUB',\n '1110417659087GDPUB',\n '1110417658643AL004',\n '1110517666316GDPUB',\n '1110517666824GDPUB',\n '1110517668113GDPUB',\n '111051766913975056',\n '111051767142875056',\n '1110517674691GDPUB',\n '1110517674695GDPUB',\n '1110517674972GDPUB',\n '1110517675144GDPUB',\n '111051768464291228',\n '111051769454610103',\n '1110517685363GDPUB',\n '1110617689244GDPUB',\n '1110617690528GDPUB',\n '1110617690558GDPUB',\n '1110617692496GDPUB',\n '1110617693534GDPUB',\n '1110617693915GDPUB',\n '1110617698107GDPUB',\n '1110617698595GDPUB',\n '111061769917375056',\n '1110617703848GDPUB',\n '111061770646375056',\n '1110617707570GDPUB',\n '1110617707582GDPUB',\n '1110617709269GDPUB',\n '1110617710711GDPUB',\n '1110717715550GDPUB',\n '1110717722582GDPUB',\n '1110717722671GDPUB',\n '111071772060375056',\n '1110717728836GDPUB',\n '111071772770675056',\n '1110717730358GDPUB',\n '1110817738591GDPUB',\n '1110817739973GDPUB',\n '1110817742581GDPUB',\n '1110817751873GDPUB',\n '1110917762963GDPUB',\n '1110917763841GDPUB',\n '1110917767310GDPUB',\n '1110917769714AL004',\n '1110917772338GDPUB',\n '111091777362675056',\n '1111017778275GDPUB',\n '1111017779006GDPUB',\n '1111017781329GDPUB',\n '1111017781374GDPUB',\n '1111017789142GDPUB',\n '1111017790142GDPUB',\n '111101778817475056',\n '1111017795479AL004',\n '111101780150775056',\n '1111017803098GDPUB',\n '1111117803406GDPUB',\n '1111117804808GDPUB',\n '1111117810917GDPUB',\n '1111117818706GDPUB',\n '111111782194975056',\n '1111117823891GDPUB',\n '1111117825391GDPUB',\n '111111782574975056',\n '1111217829794GDPUB',\n '111121783043875056',\n '1111217830635GDPUB',\n '1111217835990GDPUB',\n '1111217842842GDPUB',\n '1111217859812AL010',\n '1111217844535GDPUB',\n '175109414949300002',\n '175079613746500002',\n '175059217754400002',\n '094059905507510174',\n '091059901586491027',\n '175069922938400002',\n '175079916577300002',\n '175020002295800002',\n '175060020116300002',\n '175100001294600002',\n '175110017653600002',\n '175110019927400002',\n '092020105804892075',\n '092100102844510037',\n '111061506984475056',\n '078060100196710076',\n '175060114333900002',\n '175060114399500002',\n '093070101633493061',\n '093070101775493051',\n '094070100692910034',\n '091080101047310122',\n '093010207044710176',\n '175020206227600002',\n '094030205577310033',\n '093040209918193029',\n '092060207681610037',\n '091060205555310122',\n '0910902085309LOGTS',\n '175100226497200002',\n '092100211197692044',\n '175110226754100002',\n '175120201526800002',\n '092010312727010018',\n '094010315129610122',\n '091020310242691573',\n '094020315931394079',\n '091040312348191326',\n '091060312522610095',\n '091080313738210176',\n '175090318938600002',\n '091100315753410277',\n '091100316001710277',\n '092030422789692012',\n '175040416148600002',\n '093040434038910015',\n '091040419954110176',\n '093050434882693070',\n '091070421209391114',\n '175080410179900002',\n '175110426016900002',\n '175010518709000002',\n '091010525226910277',\n '078010543364478490',\n '175020500578700002',\n '175020503723600002',\n '175040515803900002',\n '175040522095800002',\n '175040511485800002',\n '175070527118600002',\n '175070528713100002',\n '092080533206192012',\n '175080515579900002',\n '175090529048700002',\n '175100502139000002',\n '175100526585000002',\n '175110527458600002',\n '092110320315610037',\n '175120527668000002',\n '175020618606300002',\n '093030664565893027',\n '175040606823700002',\n '175050626755800002',\n '175050629618900002',\n '175050629647700002',\n '091010634150710122',\n '092050531093592025',\n '091090641102691687',\n '091100641217310277',\n '111051481281375056',\n '093100674571993048',\n '175120620357900002',\n '175120621525700002',\n '175120630673900002',\n '175120630690200002',\n '094010776045810033',\n '175010709617700002',\n '175010712716400002',\n '095020748428610007',\n '175020702377800002',\n '175030720399100002',\n '175040703865500002',\n '092040746514910176',\n '175040704248200002',\n '0920407464171PRE92',\n '175050712907500002',\n '175050705308600002',\n '094080779506294077',\n '175080716437600002',\n '175090725954500002',\n '092100750231592075',\n '175100728452800002',\n '092100750459592002',\n '175100730760500002',\n '091120752664491570',\n '091120752834191687',\n '091020854042310176',\n '175020817927600002',\n '175020819324000002',\n '175020820442800002',\n '111020818409875056',\n '094030882682910033',\n '175030806583400002',\n '175030829663000002',\n '175030800486200002',\n '175030802388300002',\n '091030855053510147',\n '175030809822100002',\n '175040816098800002',\n '175040828762300002',\n '175040824884100002',\n '175050822954500002',\n '091060858190291345',\n '077070857104010167',\n '175070816628400002',\n '175070816327200002',\n '092070857018610037',\n '175080811680800002',\n '091090860363610167',\n '175090807071700002',\n '175100826537900002',\n '095110865914610032',\n '175120811961400002',\n '175120810996500002',\n '175120829098500002',\n '175120800591000002',\n '091120863715691377',\n '175020907658500002',\n '092030963044610062',\n '175030909038700002',\n '175030904024700002',\n '175030911210100002',\n '175030911652200002',\n '175040913448000002',\n '175040905819900002',\n '091040967220991174',\n '077040970105110002',\n '175050903407300002',\n '175050905475700002',\n '175060901626800002',\n '175060908478200002',\n '175050611043200002',\n '175060916621900002',\n '094040487911110176',\n '175070919220500002',\n '175070919330200002',\n '175090920159300002',\n '175100921095300002',\n '091110971969891685',\n '111021598675575056',\n '175110911749400002',\n '175110912546500002',\n '175120902315700002',\n '175120902506200002',\n '091050312067391286',\n '091120972836310034',\n '175120903606500002',\n '175011005630000002',\n '091021073424291687',\n '175100510357800002',\n '175031014453100002',\n '175031015313000002',\n '175031015801900002',\n '175031015928900002',\n '175041016316600002',\n '175041010154700002',\n '175041014994700002',\n '175041018087100002',\n '091051074755091657',\n '1110216267238GDPUB',\n '091061075090191122',\n '091061075115491477',\n '175061013057200002',\n '092061074953710037',\n '175061019559200002',\n '211071057424991103',\n '175071021364600002',\n '175081021748500008',\n '091060000199691027',\n '175081021695800002',\n '175081007589600002',\n '175081022204300002',\n '175091003645900002',\n '091091076356891377',\n '091091076379291201',\n '094091096658894018',\n '175091008147900002',\n '092091077088692012',\n '175091010080900002',\n '091101077192010034',\n '094101097082310176',\n '175101001442500002',\n '175089723278200002',\n '175101023755700002',\n '111111003449191016',\n '091121077956591432',\n '175111011668000002',\n '175111013324700002',\n '175111014536500002',\n '175121007082400002',\n '175121014217900002',\n '091121078097491377',\n '094121097733594067',\n '091121078202491589',\n '175121019899100002',\n '0910403419114LOGTS',\n '175121024587800002',\n '175121024629100002',\n '175011101062400002',\n '175011105098600002',\n '175011105569400002',\n '175011105970600002',\n '211011116031691326',\n '175021125549000002',\n '175021125558600002',\n '093021139900810424',\n '175021125620100002',\n '111021198980175056',\n '091021178968510122',\n '092021180054210037',\n '111031102617891286',\n '091031179247391589',\n '091031179374491174',\n '111031106800591552',\n '111031100009491649',\n '175031110721000002',\n '111031102194291589',\n '111031103719175056',\n '111031100196710167',\n '111031122522694043',\n '111041103612475056',\n '111041102227391272',\n '111041103715175056',\n '111041102906675056',\n '111041103842175056',\n '111041103725075056',\n '211041166734475B02',\n '111041103550775056',\n '111051101570191657',\n '111051103097575056',\n '111051111910491692',\n '111051120268995018',\n '111051103196475056',\n '111051103882391589',\n '111051104482675056',\n '111051108270691223',\n '091050205027510176',\n '111061106107591661',\n '111061104454475056',\n '111061104429275056',\n '111061104926775056',\n '111061104854291182',\n '111061105077275056',\n '111061105737591174',\n '111061105300075056',\n '111061105428191692',\n '111061144593291687',\n '111061144602491687',\n '111061105704595277',\n '111061107810375056',\n '1110611141703R4081',\n '111061106378275056',\n '111071107050775056',\n '111071107405494033',\n '111071108615591326',\n '111071107777195252',\n '111071109224492025',\n '111071107908991191',\n '111071108068775056',\n '111081109752775056',\n '111081110259475056',\n '111081110977275056',\n '111091116695710040',\n '111091124717310064',\n '111091112322275056',\n '111091112646075056',\n '111091112661575056',\n '111091113009291174',\n '111091113246591286',\n '111091113136691377',\n '111091113659892050',\n '111101113984575056',\n '111101114092475056',\n '1111011152842OSI05',\n '111101115247291B01',\n '111101115296375056',\n '111101115969791589',\n '111101116027975056',\n '111111116471477284',\n '111111116921075056',\n '111111117492175056',\n '111111117745375056',\n '111121123192893006',\n '111121118986275056',\n '111121119291791027',\n '111121119766291589',\n '111121119612075056',\n '111121119624475056',\n '111121119793392B01',\n '111121120550191228',\n '111121119876675056',\n '111121122890975056',\n '111121120312175056',\n '111121121926491432',\n '111121123859975056',\n '111011221599991286',\n '1110112228190PRE91',\n '111011221742493B10',\n '111011221900175056',\n '111011222339891570',\n '111011222129575056',\n '111011223330075056',\n '111021222887075056',\n '111021223085075056',\n '111021223229475056',\n '111021224170491570',\n '111021224153491549',\n '111021224134675056',\n '111021224228575056',\n '111021224241175056',\n '111021252138975056',\n '111021224545275056',\n '111021224632875056',\n '111021224830175056',\n '111031225507375056',\n '111031225731975056',\n '111031239820475056',\n '111031227171593059',\n '111031227527575056',\n '111041227534375056',\n '1110412283416PRE91',\n '111041227965675056',\n '111041228069175056',\n '111041228331593008',\n '111041228445091326',\n '111051229711091326',\n '111051231024975056',\n '111051246213110064',\n '111051231035475056',\n '111051229616991174',\n '111051231062575056',\n '111051236455275056',\n '111051229948875056',\n '111051230060875056',\n '111051230176175056',\n '111051230282275056',\n '111051230283675056',\n '111051231439291377',\n '111051231054475056',\n '111051236032575056',\n '111051239457691272',\n '111051231280375056',\n '111061233376691345',\n '111061231615991215',\n '111061232321691182',\n '111061232339175056',\n '111061236289575056',\n '111061232985575056',\n '111061232985775056',\n '111061233019594034',\n '111061233240493048',\n '1110612333804R4081',\n '111061233714491687',\n '111071233750475056',\n '111071234170291377',\n '111071234815710936',\n '111071233933175056',\n '111071234051975056',\n '111071234082777108',\n '111071234086291272',\n '111071234438875056',\n '111071234558191174',\n '111071236226793070',\n '111071234852794B02',\n '111071235622491692',\n '111071234787175056',\n '111071237758610023',\n '111071235244675056',\n '111081235977891122',\n '111081235913991657',\n '111081236143091587',\n '111081236235691477',\n '111081236433191114',\n '111081236699875056',\n '111081236774075056',\n '1110812368520OSI05',\n '111081237274475056',\n '111081237397991174',\n '111091237438475056',\n '111091237637594034',\n '111091238259791549',\n '111091248265775056',\n '111091237978875056',\n '111091238245575056',\n '111091238640191216',\n '111101240253991692',\n '111101239431975056',\n '111101239528975056',\n '111101252860175056',\n '1111012402459ATHEG',\n '111101240676991201',\n '111101240394875056',\n '111101240494075056',\n '111101240680275056',\n '111101240795675056',\n '111101241124091589',\n '111101241091675056',\n '111101241096075056',\n '111101241351775056',\n '111101241529391377',\n '111111241593075056',\n '111111241751675056',\n '111111242527592014',\n '111111242394275056',\n '111111242422691657',\n '111111242505275056',\n '111111244541291600',\n '111111243100775056',\n '111121243836491223',\n '111121243852075056',\n '111121244035675056',\n '111121223462091363',\n '111121244214375056',\n '111121244483875056',\n '111121244487475056',\n '111121244666675056',\n '111121244938175056',\n '111011348420110002',\n '111011345858791687',\n '111011346348791339',\n '111011346180991687',\n '111011346117675056',\n '111011352200475056',\n '111011346683575056',\n '111011346694875056',\n '111011346848175056',\n '111011346960475056',\n '111021347347275056',\n '111021347721810086',\n '111021347483075056',\n '111021349444110034',\n '111021347914475056',\n '111021348073075056',\n '111021348584991201',\n '111021351222891122',\n '111021348832391174',\n '111021348477891249',\n '111021348818891286',\n '111021348949610037',\n '111021349238975056',\n '111031349350375056',\n '111031349464875056',\n '111031349657975056',\n '111031353480593045',\n '111031349690291182',\n '111031349835391099',\n '111031349879991286',\n '111031350000993048',\n '111031351533293071',\n '111031350593991326',\n '111031351034194079',\n '111031352682891692',\n '111041351694610154',\n '111041351560775056',\n '111041351589791657',\n '111041351807591589',\n '111041351888275056',\n '111041352686091330',\n '111041353006493R01',\n '111041353442691122',\n '111051353742775056',\n '111051353745975056',\n '111051353848975056',\n '111051353856275056',\n '111051353949075056',\n '111051353958675056',\n '111051354314392009',\n '111051354392991421',\n '111051354541975056',\n '111101515995775056',\n '111051355044292071',\n ...]"
     },
     "execution_count": 19,
     "metadata": {},
     "output_type": "execute_result"
    }
   ],
   "source": [
    "list_of_single_column"
   ],
   "metadata": {
    "collapsed": false,
    "pycharm": {
     "name": "#%%\n"
    }
   }
  },
  {
   "cell_type": "code",
   "execution_count": 33,
   "outputs": [],
   "source": [
    "with open('listfile.txt', 'w') as filehandle:\n",
    "    for listitem in list_of_single_column:\n",
    "        filehandle.write('\"%s\",' % listitem)"
   ],
   "metadata": {
    "collapsed": false,
    "pycharm": {
     "name": "#%%\n"
    }
   }
  },
  {
   "cell_type": "code",
   "execution_count": 22,
   "outputs": [
    {
     "ename": "KeyError",
     "evalue": "'Numéro Unique'",
     "output_type": "error",
     "traceback": [
      "\u001B[1;31m---------------------------------------------------------------------------\u001B[0m",
      "\u001B[1;31mKeyError\u001B[0m                                  Traceback (most recent call last)",
      "File \u001B[1;32m~\\AppData\\Local\\Programs\\Python\\Python39\\lib\\site-packages\\pandas\\core\\indexes\\base.py:3621\u001B[0m, in \u001B[0;36mIndex.get_loc\u001B[1;34m(self, key, method, tolerance)\u001B[0m\n\u001B[0;32m   3620\u001B[0m \u001B[38;5;28;01mtry\u001B[39;00m:\n\u001B[1;32m-> 3621\u001B[0m     \u001B[38;5;28;01mreturn\u001B[39;00m \u001B[38;5;28;43mself\u001B[39;49m\u001B[38;5;241;43m.\u001B[39;49m\u001B[43m_engine\u001B[49m\u001B[38;5;241;43m.\u001B[39;49m\u001B[43mget_loc\u001B[49m\u001B[43m(\u001B[49m\u001B[43mcasted_key\u001B[49m\u001B[43m)\u001B[49m\n\u001B[0;32m   3622\u001B[0m \u001B[38;5;28;01mexcept\u001B[39;00m \u001B[38;5;167;01mKeyError\u001B[39;00m \u001B[38;5;28;01mas\u001B[39;00m err:\n",
      "File \u001B[1;32m~\\AppData\\Local\\Programs\\Python\\Python39\\lib\\site-packages\\pandas\\_libs\\index.pyx:136\u001B[0m, in \u001B[0;36mpandas._libs.index.IndexEngine.get_loc\u001B[1;34m()\u001B[0m\n",
      "File \u001B[1;32m~\\AppData\\Local\\Programs\\Python\\Python39\\lib\\site-packages\\pandas\\_libs\\index.pyx:144\u001B[0m, in \u001B[0;36mpandas._libs.index.IndexEngine.get_loc\u001B[1;34m()\u001B[0m\n",
      "File \u001B[1;32mpandas\\_libs\\index_class_helper.pxi:41\u001B[0m, in \u001B[0;36mpandas._libs.index.Int64Engine._check_type\u001B[1;34m()\u001B[0m\n",
      "\u001B[1;31mKeyError\u001B[0m: 'Numéro Unique'",
      "\nThe above exception was the direct cause of the following exception:\n",
      "\u001B[1;31mKeyError\u001B[0m                                  Traceback (most recent call last)",
      "Input \u001B[1;32mIn [22]\u001B[0m, in \u001B[0;36m<cell line: 1>\u001B[1;34m()\u001B[0m\n\u001B[1;32m----> 1\u001B[0m liste\u001B[38;5;241m=\u001B[39m\u001B[43mliste\u001B[49m\u001B[43m[\u001B[49m\u001B[38;5;124;43m'\u001B[39;49m\u001B[38;5;124;43mNuméro Unique\u001B[39;49m\u001B[38;5;124;43m'\u001B[39;49m\u001B[43m]\u001B[49m\n\u001B[0;32m      2\u001B[0m liste\u001B[38;5;241m.\u001B[39mto_excel(\u001B[38;5;124m\"\u001B[39m\u001B[38;5;124mlisteparis_.xslx\u001B[39m\u001B[38;5;124m\"\u001B[39m)\n",
      "File \u001B[1;32m~\\AppData\\Local\\Programs\\Python\\Python39\\lib\\site-packages\\pandas\\core\\series.py:958\u001B[0m, in \u001B[0;36mSeries.__getitem__\u001B[1;34m(self, key)\u001B[0m\n\u001B[0;32m    955\u001B[0m     \u001B[38;5;28;01mreturn\u001B[39;00m \u001B[38;5;28mself\u001B[39m\u001B[38;5;241m.\u001B[39m_values[key]\n\u001B[0;32m    957\u001B[0m \u001B[38;5;28;01melif\u001B[39;00m key_is_scalar:\n\u001B[1;32m--> 958\u001B[0m     \u001B[38;5;28;01mreturn\u001B[39;00m \u001B[38;5;28;43mself\u001B[39;49m\u001B[38;5;241;43m.\u001B[39;49m\u001B[43m_get_value\u001B[49m\u001B[43m(\u001B[49m\u001B[43mkey\u001B[49m\u001B[43m)\u001B[49m\n\u001B[0;32m    960\u001B[0m \u001B[38;5;28;01mif\u001B[39;00m is_hashable(key):\n\u001B[0;32m    961\u001B[0m     \u001B[38;5;66;03m# Otherwise index.get_value will raise InvalidIndexError\u001B[39;00m\n\u001B[0;32m    962\u001B[0m     \u001B[38;5;28;01mtry\u001B[39;00m:\n\u001B[0;32m    963\u001B[0m         \u001B[38;5;66;03m# For labels that don't resolve as scalars like tuples and frozensets\u001B[39;00m\n",
      "File \u001B[1;32m~\\AppData\\Local\\Programs\\Python\\Python39\\lib\\site-packages\\pandas\\core\\series.py:1069\u001B[0m, in \u001B[0;36mSeries._get_value\u001B[1;34m(self, label, takeable)\u001B[0m\n\u001B[0;32m   1066\u001B[0m     \u001B[38;5;28;01mreturn\u001B[39;00m \u001B[38;5;28mself\u001B[39m\u001B[38;5;241m.\u001B[39m_values[label]\n\u001B[0;32m   1068\u001B[0m \u001B[38;5;66;03m# Similar to Index.get_value, but we do not fall back to positional\u001B[39;00m\n\u001B[1;32m-> 1069\u001B[0m loc \u001B[38;5;241m=\u001B[39m \u001B[38;5;28;43mself\u001B[39;49m\u001B[38;5;241;43m.\u001B[39;49m\u001B[43mindex\u001B[49m\u001B[38;5;241;43m.\u001B[39;49m\u001B[43mget_loc\u001B[49m\u001B[43m(\u001B[49m\u001B[43mlabel\u001B[49m\u001B[43m)\u001B[49m\n\u001B[0;32m   1070\u001B[0m \u001B[38;5;28;01mreturn\u001B[39;00m \u001B[38;5;28mself\u001B[39m\u001B[38;5;241m.\u001B[39mindex\u001B[38;5;241m.\u001B[39m_get_values_for_loc(\u001B[38;5;28mself\u001B[39m, loc, label)\n",
      "File \u001B[1;32m~\\AppData\\Local\\Programs\\Python\\Python39\\lib\\site-packages\\pandas\\core\\indexes\\base.py:3623\u001B[0m, in \u001B[0;36mIndex.get_loc\u001B[1;34m(self, key, method, tolerance)\u001B[0m\n\u001B[0;32m   3621\u001B[0m     \u001B[38;5;28;01mreturn\u001B[39;00m \u001B[38;5;28mself\u001B[39m\u001B[38;5;241m.\u001B[39m_engine\u001B[38;5;241m.\u001B[39mget_loc(casted_key)\n\u001B[0;32m   3622\u001B[0m \u001B[38;5;28;01mexcept\u001B[39;00m \u001B[38;5;167;01mKeyError\u001B[39;00m \u001B[38;5;28;01mas\u001B[39;00m err:\n\u001B[1;32m-> 3623\u001B[0m     \u001B[38;5;28;01mraise\u001B[39;00m \u001B[38;5;167;01mKeyError\u001B[39;00m(key) \u001B[38;5;28;01mfrom\u001B[39;00m \u001B[38;5;21;01merr\u001B[39;00m\n\u001B[0;32m   3624\u001B[0m \u001B[38;5;28;01mexcept\u001B[39;00m \u001B[38;5;167;01mTypeError\u001B[39;00m:\n\u001B[0;32m   3625\u001B[0m     \u001B[38;5;66;03m# If we have a listlike key, _check_indexing_error will raise\u001B[39;00m\n\u001B[0;32m   3626\u001B[0m     \u001B[38;5;66;03m#  InvalidIndexError. Otherwise we fall through and re-raise\u001B[39;00m\n\u001B[0;32m   3627\u001B[0m     \u001B[38;5;66;03m#  the TypeError.\u001B[39;00m\n\u001B[0;32m   3628\u001B[0m     \u001B[38;5;28mself\u001B[39m\u001B[38;5;241m.\u001B[39m_check_indexing_error(key)\n",
      "\u001B[1;31mKeyError\u001B[0m: 'Numéro Unique'"
     ]
    }
   ],
   "source": [
    "liste=liste['Numéro Unique']\n",
    "liste.to_excel(\"listeparis_.xslx\")"
   ],
   "metadata": {
    "collapsed": false,
    "pycharm": {
     "name": "#%%\n"
    }
   }
  },
  {
   "cell_type": "code",
   "execution_count": 29,
   "outputs": [
    {
     "name": "stderr",
     "output_type": "stream",
     "text": [
      "IOPub data rate exceeded.\n",
      "The notebook server will temporarily stop sending output\n",
      "to the client in order to avoid crashing it.\n",
      "To change this limit, set the config variable\n",
      "`--NotebookApp.iopub_data_rate_limit`.\n",
      "\n",
      "Current values:\n",
      "NotebookApp.iopub_data_rate_limit=1000000.0 (bytes/sec)\n",
      "NotebookApp.rate_limit_window=3.0 (secs)\n",
      "\n"
     ]
    }
   ],
   "source": [
    "print(\"the list of a single column from the dataframe\\n\",\n",
    "        list_of_single_column,\n",
    "        type(list_of_single_column))"
   ],
   "metadata": {
    "collapsed": false,
    "pycharm": {
     "name": "#%%\n"
    }
   }
  },
  {
   "cell_type": "code",
   "execution_count": null,
   "outputs": [],
   "source": [],
   "metadata": {
    "collapsed": false,
    "pycharm": {
     "name": "#%%\n"
    }
   }
  }
 ],
 "metadata": {
  "kernelspec": {
   "display_name": "Python 3",
   "language": "python",
   "name": "python3"
  },
  "language_info": {
   "codemirror_mode": {
    "name": "ipython",
    "version": 2
   },
   "file_extension": ".py",
   "mimetype": "text/x-python",
   "name": "python",
   "nbconvert_exporter": "python",
   "pygments_lexer": "ipython2",
   "version": "2.7.6"
  }
 },
 "nbformat": 4,
 "nbformat_minor": 0
}