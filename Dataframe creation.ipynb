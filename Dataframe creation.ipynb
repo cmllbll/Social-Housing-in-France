{
 "cells": [
  {
   "cell_type": "code",
   "execution_count": 1,
   "outputs": [],
   "source": [
    "#! pip install openpyxl\n",
    "import pandas as pd"
   ],
   "metadata": {
    "collapsed": false,
    "pycharm": {
     "name": "#%%\n"
    }
   }
  },
  {
   "cell_type": "code",
   "execution_count": 2,
   "outputs": [
    {
     "name": "stderr",
     "output_type": "stream",
     "text": [
      "C:\\Users\\arceb\\AppData\\Local\\Programs\\Python\\Python39\\lib\\site-packages\\openpyxl\\styles\\stylesheet.py:226: UserWarning: Workbook contains no default style, apply openpyxl's default\n",
      "  warn(\"Workbook contains no default style, apply openpyxl's default\")\n"
     ]
    }
   ],
   "source": [
    "df = pd.DataFrame(pd.read_excel(r'C:\\Users\\arceb\\Desktop\\Stage\\Fichiers demandeurs complets Ministère/d_20180101_Aquitaine_20190329.xlsx', sheet_name=\"Ressources demandeur\"))"
   ],
   "metadata": {
    "collapsed": false,
    "pycharm": {
     "name": "#%%\n"
    }
   }
  },
  {
   "cell_type": "code",
   "execution_count": 3,
   "outputs": [
    {
     "data": {
      "text/plain": "        Unnamed: 0                                         Unnamed: 1  \\\n0              NaN  Demandes actives : types de ressources des dem...   \n1              NaN                                                NaN   \n2              NaN  Source : DGALN - Infocentre Numéro Unique - do...   \n3              NaN                                                NaN   \n4              NaN                                                NaN   \n...            ...                                                ...   \n152679         NaN                                 974111715873511487   \n152680         NaN                                 9741216133916GDPUB   \n152681         NaN                                 9741216133920GDPUB   \n152682         NaN                                 9741217158325GDPUB   \n152683         NaN                                              83717   \n\n       Unnamed: 2                       Unnamed: 3  \\\n0             NaN                              NaN   \n1             NaN                              NaN   \n2             NaN                              NaN   \n3             NaN                              NaN   \n4             NaN                              NaN   \n...           ...                              ...   \n152679       1725                         Retraite   \n152680       2000     Salaire ou revenu d'activité   \n152681        846                         Retraite   \n152682         33  Allocation chômage / indemnités   \n152683        NaN                              NaN   \n\n                                 Unnamed: 4  \n0                                       NaN  \n1                                       NaN  \n2                                       NaN  \n3       Date du stock : 01/01/2018 12:00:00  \n4                                       NaN  \n...                                     ...  \n152679                                 1725  \n152680                                 2000  \n152681                                  846  \n152682                                   33  \n152683                                  NaN  \n\n[152684 rows x 5 columns]",
      "text/html": "<div>\n<style scoped>\n    .dataframe tbody tr th:only-of-type {\n        vertical-align: middle;\n    }\n\n    .dataframe tbody tr th {\n        vertical-align: top;\n    }\n\n    .dataframe thead th {\n        text-align: right;\n    }\n</style>\n<table border=\"1\" class=\"dataframe\">\n  <thead>\n    <tr style=\"text-align: right;\">\n      <th></th>\n      <th>Unnamed: 0</th>\n      <th>Unnamed: 1</th>\n      <th>Unnamed: 2</th>\n      <th>Unnamed: 3</th>\n      <th>Unnamed: 4</th>\n    </tr>\n  </thead>\n  <tbody>\n    <tr>\n      <th>0</th>\n      <td>NaN</td>\n      <td>Demandes actives : types de ressources des dem...</td>\n      <td>NaN</td>\n      <td>NaN</td>\n      <td>NaN</td>\n    </tr>\n    <tr>\n      <th>1</th>\n      <td>NaN</td>\n      <td>NaN</td>\n      <td>NaN</td>\n      <td>NaN</td>\n      <td>NaN</td>\n    </tr>\n    <tr>\n      <th>2</th>\n      <td>NaN</td>\n      <td>Source : DGALN - Infocentre Numéro Unique - do...</td>\n      <td>NaN</td>\n      <td>NaN</td>\n      <td>NaN</td>\n    </tr>\n    <tr>\n      <th>3</th>\n      <td>NaN</td>\n      <td>NaN</td>\n      <td>NaN</td>\n      <td>NaN</td>\n      <td>Date du stock : 01/01/2018 12:00:00</td>\n    </tr>\n    <tr>\n      <th>4</th>\n      <td>NaN</td>\n      <td>NaN</td>\n      <td>NaN</td>\n      <td>NaN</td>\n      <td>NaN</td>\n    </tr>\n    <tr>\n      <th>...</th>\n      <td>...</td>\n      <td>...</td>\n      <td>...</td>\n      <td>...</td>\n      <td>...</td>\n    </tr>\n    <tr>\n      <th>152679</th>\n      <td>NaN</td>\n      <td>974111715873511487</td>\n      <td>1725</td>\n      <td>Retraite</td>\n      <td>1725</td>\n    </tr>\n    <tr>\n      <th>152680</th>\n      <td>NaN</td>\n      <td>9741216133916GDPUB</td>\n      <td>2000</td>\n      <td>Salaire ou revenu d'activité</td>\n      <td>2000</td>\n    </tr>\n    <tr>\n      <th>152681</th>\n      <td>NaN</td>\n      <td>9741216133920GDPUB</td>\n      <td>846</td>\n      <td>Retraite</td>\n      <td>846</td>\n    </tr>\n    <tr>\n      <th>152682</th>\n      <td>NaN</td>\n      <td>9741217158325GDPUB</td>\n      <td>33</td>\n      <td>Allocation chômage / indemnités</td>\n      <td>33</td>\n    </tr>\n    <tr>\n      <th>152683</th>\n      <td>NaN</td>\n      <td>83717</td>\n      <td>NaN</td>\n      <td>NaN</td>\n      <td>NaN</td>\n    </tr>\n  </tbody>\n</table>\n<p>152684 rows × 5 columns</p>\n</div>"
     },
     "execution_count": 3,
     "metadata": {},
     "output_type": "execute_result"
    }
   ],
   "source": [
    "df"
   ],
   "metadata": {
    "collapsed": false,
    "pycharm": {
     "name": "#%%\n"
    }
   }
  },
  {
   "cell_type": "code",
   "execution_count": 66,
   "outputs": [
    {
     "ename": "SyntaxError",
     "evalue": "(unicode error) 'unicodeescape' codec can't decode bytes in position 38-39: truncated \\UXXXXXXXX escape (4105613451.py, line 6)",
     "output_type": "error",
     "traceback": [
      "\u001B[1;36m  Input \u001B[1;32mIn [66]\u001B[1;36m\u001B[0m\n\u001B[1;33m    df95=pd.DataFrame(pd.read_excel(r'C:\\Users\\arceb\\Desktop\\Stage\\Fichiers demandeurs complets Ministère/d_20180101_95_20190329.xlsx', sheet_name=\"Ressources demandeur\"))\"\"\"\u001B[0m\n\u001B[1;37m                                                                                                                                                                              ^\u001B[0m\n\u001B[1;31mSyntaxError\u001B[0m\u001B[1;31m:\u001B[0m (unicode error) 'unicodeescape' codec can't decode bytes in position 38-39: truncated \\UXXXXXXXX escape\n"
     ]
    }
   ],
   "source": [
    "\"\"\"df7778=pd.DataFrame(pd.read_excel(r'C:\\Users\\arceb\\Desktop\\Stage\\Fichiers demandeurs complets Ministère/d_20180101_77_78_20190329.xlsx', sheet_name=\"Ressources demandeur\"))\n",
    "df91=pd.DataFrame(pd.read_excel(r'C:\\Users\\arceb\\Desktop\\Stage\\Fichiers demandeurs complets Ministère/d_20180101_91_20190329.xlsx', sheet_name=\"Ressources demandeur\"))\n",
    "df92=pd.DataFrame(pd.read_excel(r'C:\\Users\\arceb\\Desktop\\Stage\\Fichiers demandeurs complets Ministère/d_20180101_92_20190329.xlsx', sheet_name=\"Ressources demandeur\"))\n",
    "df93=pd.DataFrame(pd.read_excel(r'C:\\Users\\arceb\\Desktop\\Stage\\Fichiers demandeurs complets Ministère/d_20180101_93_20190329.xlsx', sheet_name=\"Ressources demandeur\"))\n",
    "df94=pd.DataFrame(pd.read_excel(r'C:\\Users\\arceb\\Desktop\\Stage\\Fichiers demandeurs complets Ministère/d_20180101_94_20190329.xlsx', sheet_name=\"Ressources demandeur\"))\n",
    "df95=pd.DataFrame(pd.read_excel(r'C:\\Users\\arceb\\Desktop\\Stage\\Fichiers demandeurs complets Ministère/d_20180101_95_20190329.xlsx', sheet_name=\"Ressources demandeur\"))\"\"\""
   ],
   "metadata": {
    "collapsed": false,
    "pycharm": {
     "name": "#%%\n"
    }
   }
  },
  {
   "cell_type": "code",
   "execution_count": 4,
   "outputs": [
    {
     "data": {
      "text/plain": "\"df_7778=df7778.drop(index = [0, 1, 2, 3, 4, 5], columns=['Unnamed: 0'])\\ndf_91=df91.drop(index = [0, 1, 2, 3, 4, 5], columns=['Unnamed: 0'])\\ndf_92=df92.drop(index = [0, 1, 2, 3, 4, 5], columns=['Unnamed: 0'])\\ndf_93=df93.drop(index = [0, 1, 2, 3, 4, 5], columns=['Unnamed: 0'])\\ndf_94=df94.drop(index = [0, 1, 2, 3, 4, 5], columns=['Unnamed: 0'])\\ndf_95=df95.drop(index = [0, 1, 2, 3, 4, 5], columns=['Unnamed: 0'])\""
     },
     "execution_count": 4,
     "metadata": {},
     "output_type": "execute_result"
    }
   ],
   "source": [
    "dfbis=df.drop(index = [0, 1, 2, 3, 4, 5], columns=['Unnamed: 0'])\n",
    "\"\"\"df_7778=df7778.drop(index = [0, 1, 2, 3, 4, 5], columns=['Unnamed: 0'])\n",
    "df_91=df91.drop(index = [0, 1, 2, 3, 4, 5], columns=['Unnamed: 0'])\n",
    "df_92=df92.drop(index = [0, 1, 2, 3, 4, 5], columns=['Unnamed: 0'])\n",
    "df_93=df93.drop(index = [0, 1, 2, 3, 4, 5], columns=['Unnamed: 0'])\n",
    "df_94=df94.drop(index = [0, 1, 2, 3, 4, 5], columns=['Unnamed: 0'])\n",
    "df_95=df95.drop(index = [0, 1, 2, 3, 4, 5], columns=['Unnamed: 0'])\"\"\""
   ],
   "metadata": {
    "collapsed": false,
    "pycharm": {
     "name": "#%%\n"
    }
   }
  },
  {
   "cell_type": "code",
   "execution_count": 5,
   "outputs": [
    {
     "data": {
      "text/plain": "'df_d=pd.concat([df_75, df_7778, df_91, df_92, df_93, df_94, df_95])\\ndf_d'"
     },
     "execution_count": 5,
     "metadata": {},
     "output_type": "execute_result"
    }
   ],
   "source": [
    "\"\"\"df_d=pd.concat([df_75, df_7778, df_91, df_92, df_93, df_94, df_95])\n",
    "df_d\"\"\""
   ],
   "metadata": {
    "collapsed": false,
    "pycharm": {
     "name": "#%%\n"
    }
   }
  },
  {
   "cell_type": "code",
   "execution_count": 6,
   "outputs": [],
   "source": [
    "dfbis.columns = dfbis.iloc[0]"
   ],
   "metadata": {
    "collapsed": false,
    "pycharm": {
     "name": "#%%\n"
    }
   }
  },
  {
   "cell_type": "code",
   "execution_count": 7,
   "outputs": [],
   "source": [
    "df_d=dfbis.drop(index = [6])\n"
   ],
   "metadata": {
    "collapsed": false,
    "pycharm": {
     "name": "#%%\n"
    }
   }
  },
  {
   "cell_type": "code",
   "execution_count": 8,
   "outputs": [
    {
     "data": {
      "text/plain": "6            Numéro Unique Ressources mensuelles\\n  \\\n7       001011403466511146                    2134   \n8       001011403466511146                    2134   \n9       001011403466511146                    2134   \n10      001011403466511146                    2134   \n11      0010117074877GDPUB                     900   \n...                    ...                     ...   \n152679  974111715873511487                    1725   \n152680  9741216133916GDPUB                    2000   \n152681  9741216133920GDPUB                     846   \n152682  9741217158325GDPUB                      33   \n152683               83717                     NaN   \n\n6                   Type de ressource\\n Montant par type de ressource\\n  \n7       Allocation chômage / indemnités                             240  \n8                 Allocation familiales                             424  \n9               Autres (hors APL ou AL)                             517  \n10         Salaire ou revenu d'activité                             953  \n11                Allocation familiales                             700  \n...                                 ...                             ...  \n152679                         Retraite                            1725  \n152680     Salaire ou revenu d'activité                            2000  \n152681                         Retraite                             846  \n152682  Allocation chômage / indemnités                              33  \n152683                              NaN                             NaN  \n\n[152677 rows x 4 columns]",
      "text/html": "<div>\n<style scoped>\n    .dataframe tbody tr th:only-of-type {\n        vertical-align: middle;\n    }\n\n    .dataframe tbody tr th {\n        vertical-align: top;\n    }\n\n    .dataframe thead th {\n        text-align: right;\n    }\n</style>\n<table border=\"1\" class=\"dataframe\">\n  <thead>\n    <tr style=\"text-align: right;\">\n      <th>6</th>\n      <th>Numéro Unique</th>\n      <th>Ressources mensuelles\\n</th>\n      <th>Type de ressource\\n</th>\n      <th>Montant par type de ressource\\n</th>\n    </tr>\n  </thead>\n  <tbody>\n    <tr>\n      <th>7</th>\n      <td>001011403466511146</td>\n      <td>2134</td>\n      <td>Allocation chômage / indemnités</td>\n      <td>240</td>\n    </tr>\n    <tr>\n      <th>8</th>\n      <td>001011403466511146</td>\n      <td>2134</td>\n      <td>Allocation familiales</td>\n      <td>424</td>\n    </tr>\n    <tr>\n      <th>9</th>\n      <td>001011403466511146</td>\n      <td>2134</td>\n      <td>Autres (hors APL ou AL)</td>\n      <td>517</td>\n    </tr>\n    <tr>\n      <th>10</th>\n      <td>001011403466511146</td>\n      <td>2134</td>\n      <td>Salaire ou revenu d'activité</td>\n      <td>953</td>\n    </tr>\n    <tr>\n      <th>11</th>\n      <td>0010117074877GDPUB</td>\n      <td>900</td>\n      <td>Allocation familiales</td>\n      <td>700</td>\n    </tr>\n    <tr>\n      <th>...</th>\n      <td>...</td>\n      <td>...</td>\n      <td>...</td>\n      <td>...</td>\n    </tr>\n    <tr>\n      <th>152679</th>\n      <td>974111715873511487</td>\n      <td>1725</td>\n      <td>Retraite</td>\n      <td>1725</td>\n    </tr>\n    <tr>\n      <th>152680</th>\n      <td>9741216133916GDPUB</td>\n      <td>2000</td>\n      <td>Salaire ou revenu d'activité</td>\n      <td>2000</td>\n    </tr>\n    <tr>\n      <th>152681</th>\n      <td>9741216133920GDPUB</td>\n      <td>846</td>\n      <td>Retraite</td>\n      <td>846</td>\n    </tr>\n    <tr>\n      <th>152682</th>\n      <td>9741217158325GDPUB</td>\n      <td>33</td>\n      <td>Allocation chômage / indemnités</td>\n      <td>33</td>\n    </tr>\n    <tr>\n      <th>152683</th>\n      <td>83717</td>\n      <td>NaN</td>\n      <td>NaN</td>\n      <td>NaN</td>\n    </tr>\n  </tbody>\n</table>\n<p>152677 rows × 4 columns</p>\n</div>"
     },
     "execution_count": 8,
     "metadata": {},
     "output_type": "execute_result"
    }
   ],
   "source": [
    "df_d"
   ],
   "metadata": {
    "collapsed": false,
    "pycharm": {
     "name": "#%%\n"
    }
   }
  },
  {
   "cell_type": "code",
   "execution_count": 9,
   "outputs": [
    {
     "data": {
      "text/plain": "6            Numéro Unique Ressources mensuelles\\n  \\\n0       001011403466511146                    2134   \n1       001011403466511146                    2134   \n2       001011403466511146                    2134   \n3       001011403466511146                    2134   \n4       0010117074877GDPUB                     900   \n...                    ...                     ...   \n152672  974111715873511487                    1725   \n152673  9741216133916GDPUB                    2000   \n152674  9741216133920GDPUB                     846   \n152675  9741217158325GDPUB                      33   \n152676               83717                     NaN   \n\n6                   Type de ressource\\n Montant par type de ressource\\n  \n0       Allocation chômage / indemnités                             240  \n1                 Allocation familiales                             424  \n2               Autres (hors APL ou AL)                             517  \n3          Salaire ou revenu d'activité                             953  \n4                 Allocation familiales                             700  \n...                                 ...                             ...  \n152672                         Retraite                            1725  \n152673     Salaire ou revenu d'activité                            2000  \n152674                         Retraite                             846  \n152675  Allocation chômage / indemnités                              33  \n152676                              NaN                             NaN  \n\n[152677 rows x 4 columns]",
      "text/html": "<div>\n<style scoped>\n    .dataframe tbody tr th:only-of-type {\n        vertical-align: middle;\n    }\n\n    .dataframe tbody tr th {\n        vertical-align: top;\n    }\n\n    .dataframe thead th {\n        text-align: right;\n    }\n</style>\n<table border=\"1\" class=\"dataframe\">\n  <thead>\n    <tr style=\"text-align: right;\">\n      <th>6</th>\n      <th>Numéro Unique</th>\n      <th>Ressources mensuelles\\n</th>\n      <th>Type de ressource\\n</th>\n      <th>Montant par type de ressource\\n</th>\n    </tr>\n  </thead>\n  <tbody>\n    <tr>\n      <th>0</th>\n      <td>001011403466511146</td>\n      <td>2134</td>\n      <td>Allocation chômage / indemnités</td>\n      <td>240</td>\n    </tr>\n    <tr>\n      <th>1</th>\n      <td>001011403466511146</td>\n      <td>2134</td>\n      <td>Allocation familiales</td>\n      <td>424</td>\n    </tr>\n    <tr>\n      <th>2</th>\n      <td>001011403466511146</td>\n      <td>2134</td>\n      <td>Autres (hors APL ou AL)</td>\n      <td>517</td>\n    </tr>\n    <tr>\n      <th>3</th>\n      <td>001011403466511146</td>\n      <td>2134</td>\n      <td>Salaire ou revenu d'activité</td>\n      <td>953</td>\n    </tr>\n    <tr>\n      <th>4</th>\n      <td>0010117074877GDPUB</td>\n      <td>900</td>\n      <td>Allocation familiales</td>\n      <td>700</td>\n    </tr>\n    <tr>\n      <th>...</th>\n      <td>...</td>\n      <td>...</td>\n      <td>...</td>\n      <td>...</td>\n    </tr>\n    <tr>\n      <th>152672</th>\n      <td>974111715873511487</td>\n      <td>1725</td>\n      <td>Retraite</td>\n      <td>1725</td>\n    </tr>\n    <tr>\n      <th>152673</th>\n      <td>9741216133916GDPUB</td>\n      <td>2000</td>\n      <td>Salaire ou revenu d'activité</td>\n      <td>2000</td>\n    </tr>\n    <tr>\n      <th>152674</th>\n      <td>9741216133920GDPUB</td>\n      <td>846</td>\n      <td>Retraite</td>\n      <td>846</td>\n    </tr>\n    <tr>\n      <th>152675</th>\n      <td>9741217158325GDPUB</td>\n      <td>33</td>\n      <td>Allocation chômage / indemnités</td>\n      <td>33</td>\n    </tr>\n    <tr>\n      <th>152676</th>\n      <td>83717</td>\n      <td>NaN</td>\n      <td>NaN</td>\n      <td>NaN</td>\n    </tr>\n  </tbody>\n</table>\n<p>152677 rows × 4 columns</p>\n</div>"
     },
     "execution_count": 9,
     "metadata": {},
     "output_type": "execute_result"
    }
   ],
   "source": [
    "df_d.reset_index(inplace=True, drop=True)\n",
    "df_d"
   ],
   "metadata": {
    "collapsed": false,
    "pycharm": {
     "name": "#%%\n"
    }
   }
  },
  {
   "cell_type": "code",
   "execution_count": 10,
   "outputs": [],
   "source": [
    "df_d.to_csv('demandeurs_45_revenus.csv', index = True)"
   ],
   "metadata": {
    "collapsed": false,
    "pycharm": {
     "name": "#%%\n"
    }
   }
  }
 ],
 "metadata": {
  "kernelspec": {
   "display_name": "Python 3",
   "language": "python",
   "name": "python3"
  },
  "language_info": {
   "codemirror_mode": {
    "name": "ipython",
    "version": 2
   },
   "file_extension": ".py",
   "mimetype": "text/x-python",
   "name": "python",
   "nbconvert_exporter": "python",
   "pygments_lexer": "ipython2",
   "version": "2.7.6"
  }
 },
 "nbformat": 4,
 "nbformat_minor": 0
}