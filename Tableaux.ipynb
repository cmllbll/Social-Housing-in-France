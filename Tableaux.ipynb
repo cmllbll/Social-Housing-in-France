{
 "cells": [
  {
   "cell_type": "code",
   "execution_count": 1,
   "outputs": [],
   "source": [
    "import pandas as pd\n",
    "import numpy as np\n",
    "import matplotlib.pyplot as plt\n",
    "from tqdm import tqdm"
   ],
   "metadata": {
    "collapsed": false,
    "pycharm": {
     "name": "#%%\n"
    }
   }
  },
  {
   "cell_type": "code",
   "execution_count": 151,
   "outputs": [],
   "source": [
    "import seaborn as sns"
   ],
   "metadata": {
    "collapsed": false,
    "pycharm": {
     "name": "#%%\n"
    }
   }
  },
  {
   "cell_type": "code",
   "execution_count": 419,
   "outputs": [],
   "source": [
    "dfd = pd.read_csv(r'C:\\Users\\arceb\\PycharmProjects\\pythonProject/demandeurs_4_revenus.csv', index_col = 0)"
   ],
   "metadata": {
    "collapsed": false,
    "pycharm": {
     "name": "#%%\n"
    }
   }
  },
  {
   "cell_type": "code",
   "execution_count": 420,
   "outputs": [
    {
     "data": {
      "text/plain": "             Numéro Unique  Ressources mensuelles\\n  \\\n0       001011403466511146                   2134.0   \n1       001011403466511146                   2134.0   \n2       001011403466511146                   2134.0   \n3       001011403466511146                   2134.0   \n4       0010117074877GDPUB                    900.0   \n...                    ...                      ...   \n152672  974111715873511487                   1725.0   \n152673  9741216133916GDPUB                   2000.0   \n152674  9741216133920GDPUB                    846.0   \n152675  9741217158325GDPUB                     33.0   \n152676               83717                      NaN   \n\n                                   Type  Montant par type de ressource\\n  \n0       Allocation chômage / indemnités                            240.0  \n1                 Allocation familiales                            424.0  \n2               Autres (hors APL ou AL)                            517.0  \n3          Salaire ou revenu d'activité                            953.0  \n4                 Allocation familiales                            700.0  \n...                                 ...                              ...  \n152672                         Retraite                           1725.0  \n152673     Salaire ou revenu d'activité                           2000.0  \n152674                         Retraite                            846.0  \n152675  Allocation chômage / indemnités                             33.0  \n152676                              NaN                              NaN  \n\n[152677 rows x 4 columns]",
      "text/html": "<div>\n<style scoped>\n    .dataframe tbody tr th:only-of-type {\n        vertical-align: middle;\n    }\n\n    .dataframe tbody tr th {\n        vertical-align: top;\n    }\n\n    .dataframe thead th {\n        text-align: right;\n    }\n</style>\n<table border=\"1\" class=\"dataframe\">\n  <thead>\n    <tr style=\"text-align: right;\">\n      <th></th>\n      <th>Numéro Unique</th>\n      <th>Ressources mensuelles\\n</th>\n      <th>Type</th>\n      <th>Montant par type de ressource\\n</th>\n    </tr>\n  </thead>\n  <tbody>\n    <tr>\n      <th>0</th>\n      <td>001011403466511146</td>\n      <td>2134.0</td>\n      <td>Allocation chômage / indemnités</td>\n      <td>240.0</td>\n    </tr>\n    <tr>\n      <th>1</th>\n      <td>001011403466511146</td>\n      <td>2134.0</td>\n      <td>Allocation familiales</td>\n      <td>424.0</td>\n    </tr>\n    <tr>\n      <th>2</th>\n      <td>001011403466511146</td>\n      <td>2134.0</td>\n      <td>Autres (hors APL ou AL)</td>\n      <td>517.0</td>\n    </tr>\n    <tr>\n      <th>3</th>\n      <td>001011403466511146</td>\n      <td>2134.0</td>\n      <td>Salaire ou revenu d'activité</td>\n      <td>953.0</td>\n    </tr>\n    <tr>\n      <th>4</th>\n      <td>0010117074877GDPUB</td>\n      <td>900.0</td>\n      <td>Allocation familiales</td>\n      <td>700.0</td>\n    </tr>\n    <tr>\n      <th>...</th>\n      <td>...</td>\n      <td>...</td>\n      <td>...</td>\n      <td>...</td>\n    </tr>\n    <tr>\n      <th>152672</th>\n      <td>974111715873511487</td>\n      <td>1725.0</td>\n      <td>Retraite</td>\n      <td>1725.0</td>\n    </tr>\n    <tr>\n      <th>152673</th>\n      <td>9741216133916GDPUB</td>\n      <td>2000.0</td>\n      <td>Salaire ou revenu d'activité</td>\n      <td>2000.0</td>\n    </tr>\n    <tr>\n      <th>152674</th>\n      <td>9741216133920GDPUB</td>\n      <td>846.0</td>\n      <td>Retraite</td>\n      <td>846.0</td>\n    </tr>\n    <tr>\n      <th>152675</th>\n      <td>9741217158325GDPUB</td>\n      <td>33.0</td>\n      <td>Allocation chômage / indemnités</td>\n      <td>33.0</td>\n    </tr>\n    <tr>\n      <th>152676</th>\n      <td>83717</td>\n      <td>NaN</td>\n      <td>NaN</td>\n      <td>NaN</td>\n    </tr>\n  </tbody>\n</table>\n<p>152677 rows × 4 columns</p>\n</div>"
     },
     "execution_count": 420,
     "metadata": {},
     "output_type": "execute_result"
    }
   ],
   "source": [
    "dfd=dfd.rename(columns={'Type de ressource\\n': 'Type'})\n",
    "dfd"
   ],
   "metadata": {
    "collapsed": false,
    "pycharm": {
     "name": "#%%\n"
    }
   }
  },
  {
   "cell_type": "code",
   "execution_count": 421,
   "outputs": [
    {
     "data": {
      "text/plain": "2813"
     },
     "execution_count": 421,
     "metadata": {},
     "output_type": "execute_result"
    }
   ],
   "source": [
    "dfd['Ressources mensuelles\\n'].isna().sum()"
   ],
   "metadata": {
    "collapsed": false,
    "pycharm": {
     "name": "#%%\n"
    }
   }
  },
  {
   "cell_type": "code",
   "execution_count": 422,
   "outputs": [
    {
     "data": {
      "text/plain": "             Numéro Unique  Ressources mensuelles\\n  \\\n0       001011403466511146                   2134.0   \n4       0010117074877GDPUB                    900.0   \n6       001021504965918214                    944.0   \n8       0010217076033GDPUB                   1200.0   \n9       001021707620301173                   1200.0   \n...                    ...                      ...   \n152671  9741117155529GDPUB                    674.0   \n152672  974111715873511487                   1725.0   \n152673  9741216133916GDPUB                   2000.0   \n152674  9741216133920GDPUB                    846.0   \n152675  9741217158325GDPUB                     33.0   \n\n                                     Type  Montant par type de ressource\\n  \n0         Allocation chômage / indemnités                            240.0  \n4                   Allocation familiales                            700.0  \n6                   Allocation familiales                            129.0  \n8         Allocation chômage / indemnités                           1200.0  \n9            Salaire ou revenu d'activité                           1200.0  \n...                                   ...                              ...  \n152671  Revenu de solidarité active (RSA)                            674.0  \n152672                           Retraite                           1725.0  \n152673       Salaire ou revenu d'activité                           2000.0  \n152674                           Retraite                            846.0  \n152675    Allocation chômage / indemnités                             33.0  \n\n[80879 rows x 4 columns]",
      "text/html": "<div>\n<style scoped>\n    .dataframe tbody tr th:only-of-type {\n        vertical-align: middle;\n    }\n\n    .dataframe tbody tr th {\n        vertical-align: top;\n    }\n\n    .dataframe thead th {\n        text-align: right;\n    }\n</style>\n<table border=\"1\" class=\"dataframe\">\n  <thead>\n    <tr style=\"text-align: right;\">\n      <th></th>\n      <th>Numéro Unique</th>\n      <th>Ressources mensuelles\\n</th>\n      <th>Type</th>\n      <th>Montant par type de ressource\\n</th>\n    </tr>\n  </thead>\n  <tbody>\n    <tr>\n      <th>0</th>\n      <td>001011403466511146</td>\n      <td>2134.0</td>\n      <td>Allocation chômage / indemnités</td>\n      <td>240.0</td>\n    </tr>\n    <tr>\n      <th>4</th>\n      <td>0010117074877GDPUB</td>\n      <td>900.0</td>\n      <td>Allocation familiales</td>\n      <td>700.0</td>\n    </tr>\n    <tr>\n      <th>6</th>\n      <td>001021504965918214</td>\n      <td>944.0</td>\n      <td>Allocation familiales</td>\n      <td>129.0</td>\n    </tr>\n    <tr>\n      <th>8</th>\n      <td>0010217076033GDPUB</td>\n      <td>1200.0</td>\n      <td>Allocation chômage / indemnités</td>\n      <td>1200.0</td>\n    </tr>\n    <tr>\n      <th>9</th>\n      <td>001021707620301173</td>\n      <td>1200.0</td>\n      <td>Salaire ou revenu d'activité</td>\n      <td>1200.0</td>\n    </tr>\n    <tr>\n      <th>...</th>\n      <td>...</td>\n      <td>...</td>\n      <td>...</td>\n      <td>...</td>\n    </tr>\n    <tr>\n      <th>152671</th>\n      <td>9741117155529GDPUB</td>\n      <td>674.0</td>\n      <td>Revenu de solidarité active (RSA)</td>\n      <td>674.0</td>\n    </tr>\n    <tr>\n      <th>152672</th>\n      <td>974111715873511487</td>\n      <td>1725.0</td>\n      <td>Retraite</td>\n      <td>1725.0</td>\n    </tr>\n    <tr>\n      <th>152673</th>\n      <td>9741216133916GDPUB</td>\n      <td>2000.0</td>\n      <td>Salaire ou revenu d'activité</td>\n      <td>2000.0</td>\n    </tr>\n    <tr>\n      <th>152674</th>\n      <td>9741216133920GDPUB</td>\n      <td>846.0</td>\n      <td>Retraite</td>\n      <td>846.0</td>\n    </tr>\n    <tr>\n      <th>152675</th>\n      <td>9741217158325GDPUB</td>\n      <td>33.0</td>\n      <td>Allocation chômage / indemnités</td>\n      <td>33.0</td>\n    </tr>\n  </tbody>\n</table>\n<p>80879 rows × 4 columns</p>\n</div>"
     },
     "execution_count": 422,
     "metadata": {},
     "output_type": "execute_result"
    }
   ],
   "source": [
    "dfdbis=dfd.drop_duplicates(subset =\"Numéro Unique\")\n",
    "dfdbis=dfdbis.dropna()\n",
    "dfdbis"
   ],
   "metadata": {
    "collapsed": false,
    "pycharm": {
     "name": "#%%\n"
    }
   }
  },
  {
   "cell_type": "markdown",
   "source": [
    "### Calcul des ressources imposables mensuelles"
   ],
   "metadata": {
    "collapsed": false,
    "pycharm": {
     "name": "#%% md\n"
    }
   }
  },
  {
   "cell_type": "code",
   "execution_count": 423,
   "outputs": [
    {
     "data": {
      "text/plain": "             Numéro Unique  Ressources mensuelles\\n  \\\n0       001011403466511146                   2134.0   \n2       001011403466511146                   2134.0   \n3       001011403466511146                   2134.0   \n5       0010117074877GDPUB                    900.0   \n8       0010217076033GDPUB                   1200.0   \n...                    ...                      ...   \n152670  974091715322011487                   2121.0   \n152672  974111715873511487                   1725.0   \n152673  9741216133916GDPUB                   2000.0   \n152674  9741216133920GDPUB                    846.0   \n152675  9741217158325GDPUB                     33.0   \n\n                                   Type  Montant par type de ressource\\n  \n0       Allocation chômage / indemnités                            240.0  \n2               Autres (hors APL ou AL)                            517.0  \n3          Salaire ou revenu d'activité                            953.0  \n5             Pension alimentaire reçue                            200.0  \n8       Allocation chômage / indemnités                           1200.0  \n...                                 ...                              ...  \n152670     Salaire ou revenu d'activité                           2083.0  \n152672                         Retraite                           1725.0  \n152673     Salaire ou revenu d'activité                           2000.0  \n152674                         Retraite                            846.0  \n152675  Allocation chômage / indemnités                             33.0  \n\n[90206 rows x 4 columns]",
      "text/html": "<div>\n<style scoped>\n    .dataframe tbody tr th:only-of-type {\n        vertical-align: middle;\n    }\n\n    .dataframe tbody tr th {\n        vertical-align: top;\n    }\n\n    .dataframe thead th {\n        text-align: right;\n    }\n</style>\n<table border=\"1\" class=\"dataframe\">\n  <thead>\n    <tr style=\"text-align: right;\">\n      <th></th>\n      <th>Numéro Unique</th>\n      <th>Ressources mensuelles\\n</th>\n      <th>Type</th>\n      <th>Montant par type de ressource\\n</th>\n    </tr>\n  </thead>\n  <tbody>\n    <tr>\n      <th>0</th>\n      <td>001011403466511146</td>\n      <td>2134.0</td>\n      <td>Allocation chômage / indemnités</td>\n      <td>240.0</td>\n    </tr>\n    <tr>\n      <th>2</th>\n      <td>001011403466511146</td>\n      <td>2134.0</td>\n      <td>Autres (hors APL ou AL)</td>\n      <td>517.0</td>\n    </tr>\n    <tr>\n      <th>3</th>\n      <td>001011403466511146</td>\n      <td>2134.0</td>\n      <td>Salaire ou revenu d'activité</td>\n      <td>953.0</td>\n    </tr>\n    <tr>\n      <th>5</th>\n      <td>0010117074877GDPUB</td>\n      <td>900.0</td>\n      <td>Pension alimentaire reçue</td>\n      <td>200.0</td>\n    </tr>\n    <tr>\n      <th>8</th>\n      <td>0010217076033GDPUB</td>\n      <td>1200.0</td>\n      <td>Allocation chômage / indemnités</td>\n      <td>1200.0</td>\n    </tr>\n    <tr>\n      <th>...</th>\n      <td>...</td>\n      <td>...</td>\n      <td>...</td>\n      <td>...</td>\n    </tr>\n    <tr>\n      <th>152670</th>\n      <td>974091715322011487</td>\n      <td>2121.0</td>\n      <td>Salaire ou revenu d'activité</td>\n      <td>2083.0</td>\n    </tr>\n    <tr>\n      <th>152672</th>\n      <td>974111715873511487</td>\n      <td>1725.0</td>\n      <td>Retraite</td>\n      <td>1725.0</td>\n    </tr>\n    <tr>\n      <th>152673</th>\n      <td>9741216133916GDPUB</td>\n      <td>2000.0</td>\n      <td>Salaire ou revenu d'activité</td>\n      <td>2000.0</td>\n    </tr>\n    <tr>\n      <th>152674</th>\n      <td>9741216133920GDPUB</td>\n      <td>846.0</td>\n      <td>Retraite</td>\n      <td>846.0</td>\n    </tr>\n    <tr>\n      <th>152675</th>\n      <td>9741217158325GDPUB</td>\n      <td>33.0</td>\n      <td>Allocation chômage / indemnités</td>\n      <td>33.0</td>\n    </tr>\n  </tbody>\n</table>\n<p>90206 rows × 4 columns</p>\n</div>"
     },
     "execution_count": 423,
     "metadata": {},
     "output_type": "execute_result"
    }
   ],
   "source": [
    "values=[\"Retraite\", \"Allocation chômage / indemnités\", \"Salaire ou revenu d'activité\", \"Pension alimentaire reçue\", \"Autres (hors APL ou AL)\", \"Pension d\\'invalidité\"]\n",
    "filtered_df = dfd[dfd.Type.isin(values)]\n",
    "filtered_df"
   ],
   "metadata": {
    "collapsed": false,
    "pycharm": {
     "name": "#%%\n"
    }
   }
  },
  {
   "cell_type": "code",
   "execution_count": 424,
   "outputs": [],
   "source": [
    "shrank_values = filtered_df.groupby(by='Numéro Unique').sum()['Montant par type de ressource\\n']\n",
    "\n",
    "merged_df = filtered_df.merge(shrank_values, left_on='Numéro Unique', right_index=True)\n",
    "\n",
    "merged_df = merged_df.rename(columns={'Montant par type de ressource\\n_y': 'Ressources imposables mensuelles moyennes (RI)'})\n"
   ],
   "metadata": {
    "collapsed": false,
    "pycharm": {
     "name": "#%%\n"
    }
   }
  },
  {
   "cell_type": "code",
   "execution_count": 425,
   "outputs": [
    {
     "data": {
      "text/plain": "             Numéro Unique  Ressources mensuelles\\n  \\\n0       001011403466511146                   2134.0   \n2       001011403466511146                   2134.0   \n3       001011403466511146                   2134.0   \n5       0010117074877GDPUB                    900.0   \n8       0010217076033GDPUB                   1200.0   \n...                    ...                      ...   \n152670  974091715322011487                   2121.0   \n152672  974111715873511487                   1725.0   \n152673  9741216133916GDPUB                   2000.0   \n152674  9741216133920GDPUB                    846.0   \n152675  9741217158325GDPUB                     33.0   \n\n                                   Type  Montant par type de ressource\\n_x  \\\n0       Allocation chômage / indemnités                              240.0   \n2               Autres (hors APL ou AL)                              517.0   \n3          Salaire ou revenu d'activité                              953.0   \n5             Pension alimentaire reçue                              200.0   \n8       Allocation chômage / indemnités                             1200.0   \n...                                 ...                                ...   \n152670     Salaire ou revenu d'activité                             2083.0   \n152672                         Retraite                             1725.0   \n152673     Salaire ou revenu d'activité                             2000.0   \n152674                         Retraite                              846.0   \n152675  Allocation chômage / indemnités                               33.0   \n\n        Ressources imposables mensuelles moyennes (RI)  \n0                                               1710.0  \n2                                               1710.0  \n3                                               1710.0  \n5                                                200.0  \n8                                               1200.0  \n...                                                ...  \n152670                                          2083.0  \n152672                                          1725.0  \n152673                                          2000.0  \n152674                                           846.0  \n152675                                            33.0  \n\n[90206 rows x 5 columns]",
      "text/html": "<div>\n<style scoped>\n    .dataframe tbody tr th:only-of-type {\n        vertical-align: middle;\n    }\n\n    .dataframe tbody tr th {\n        vertical-align: top;\n    }\n\n    .dataframe thead th {\n        text-align: right;\n    }\n</style>\n<table border=\"1\" class=\"dataframe\">\n  <thead>\n    <tr style=\"text-align: right;\">\n      <th></th>\n      <th>Numéro Unique</th>\n      <th>Ressources mensuelles\\n</th>\n      <th>Type</th>\n      <th>Montant par type de ressource\\n_x</th>\n      <th>Ressources imposables mensuelles moyennes (RI)</th>\n    </tr>\n  </thead>\n  <tbody>\n    <tr>\n      <th>0</th>\n      <td>001011403466511146</td>\n      <td>2134.0</td>\n      <td>Allocation chômage / indemnités</td>\n      <td>240.0</td>\n      <td>1710.0</td>\n    </tr>\n    <tr>\n      <th>2</th>\n      <td>001011403466511146</td>\n      <td>2134.0</td>\n      <td>Autres (hors APL ou AL)</td>\n      <td>517.0</td>\n      <td>1710.0</td>\n    </tr>\n    <tr>\n      <th>3</th>\n      <td>001011403466511146</td>\n      <td>2134.0</td>\n      <td>Salaire ou revenu d'activité</td>\n      <td>953.0</td>\n      <td>1710.0</td>\n    </tr>\n    <tr>\n      <th>5</th>\n      <td>0010117074877GDPUB</td>\n      <td>900.0</td>\n      <td>Pension alimentaire reçue</td>\n      <td>200.0</td>\n      <td>200.0</td>\n    </tr>\n    <tr>\n      <th>8</th>\n      <td>0010217076033GDPUB</td>\n      <td>1200.0</td>\n      <td>Allocation chômage / indemnités</td>\n      <td>1200.0</td>\n      <td>1200.0</td>\n    </tr>\n    <tr>\n      <th>...</th>\n      <td>...</td>\n      <td>...</td>\n      <td>...</td>\n      <td>...</td>\n      <td>...</td>\n    </tr>\n    <tr>\n      <th>152670</th>\n      <td>974091715322011487</td>\n      <td>2121.0</td>\n      <td>Salaire ou revenu d'activité</td>\n      <td>2083.0</td>\n      <td>2083.0</td>\n    </tr>\n    <tr>\n      <th>152672</th>\n      <td>974111715873511487</td>\n      <td>1725.0</td>\n      <td>Retraite</td>\n      <td>1725.0</td>\n      <td>1725.0</td>\n    </tr>\n    <tr>\n      <th>152673</th>\n      <td>9741216133916GDPUB</td>\n      <td>2000.0</td>\n      <td>Salaire ou revenu d'activité</td>\n      <td>2000.0</td>\n      <td>2000.0</td>\n    </tr>\n    <tr>\n      <th>152674</th>\n      <td>9741216133920GDPUB</td>\n      <td>846.0</td>\n      <td>Retraite</td>\n      <td>846.0</td>\n      <td>846.0</td>\n    </tr>\n    <tr>\n      <th>152675</th>\n      <td>9741217158325GDPUB</td>\n      <td>33.0</td>\n      <td>Allocation chômage / indemnités</td>\n      <td>33.0</td>\n      <td>33.0</td>\n    </tr>\n  </tbody>\n</table>\n<p>90206 rows × 5 columns</p>\n</div>"
     },
     "execution_count": 425,
     "metadata": {},
     "output_type": "execute_result"
    }
   ],
   "source": [
    "merged_df"
   ],
   "metadata": {
    "collapsed": false,
    "pycharm": {
     "name": "#%%\n"
    }
   }
  },
  {
   "cell_type": "code",
   "execution_count": 426,
   "outputs": [
    {
     "data": {
      "text/plain": "             Numéro Unique  Ressources mensuelles\\n  \\\n0       001011403466511146                   2134.0   \n5       0010117074877GDPUB                    900.0   \n8       0010217076033GDPUB                   1200.0   \n9       001021707620301173                   1200.0   \n10      001041707857711126                    800.0   \n...                    ...                      ...   \n152670  974091715322011487                   2121.0   \n152672  974111715873511487                   1725.0   \n152673  9741216133916GDPUB                   2000.0   \n152674  9741216133920GDPUB                    846.0   \n152675  9741217158325GDPUB                     33.0   \n\n                                   Type  Montant par type de ressource\\n_x  \\\n0       Allocation chômage / indemnités                              240.0   \n5             Pension alimentaire reçue                              200.0   \n8       Allocation chômage / indemnités                             1200.0   \n9          Salaire ou revenu d'activité                             1200.0   \n10                             Retraite                              800.0   \n...                                 ...                                ...   \n152670     Salaire ou revenu d'activité                             2083.0   \n152672                         Retraite                             1725.0   \n152673     Salaire ou revenu d'activité                             2000.0   \n152674                         Retraite                              846.0   \n152675  Allocation chômage / indemnités                               33.0   \n\n        Ressources imposables mensuelles moyennes (RI)  \n0                                               1710.0  \n5                                                200.0  \n8                                               1200.0  \n9                                               1200.0  \n10                                               800.0  \n...                                                ...  \n152670                                          2083.0  \n152672                                          1725.0  \n152673                                          2000.0  \n152674                                           846.0  \n152675                                            33.0  \n\n[68066 rows x 5 columns]",
      "text/html": "<div>\n<style scoped>\n    .dataframe tbody tr th:only-of-type {\n        vertical-align: middle;\n    }\n\n    .dataframe tbody tr th {\n        vertical-align: top;\n    }\n\n    .dataframe thead th {\n        text-align: right;\n    }\n</style>\n<table border=\"1\" class=\"dataframe\">\n  <thead>\n    <tr style=\"text-align: right;\">\n      <th></th>\n      <th>Numéro Unique</th>\n      <th>Ressources mensuelles\\n</th>\n      <th>Type</th>\n      <th>Montant par type de ressource\\n_x</th>\n      <th>Ressources imposables mensuelles moyennes (RI)</th>\n    </tr>\n  </thead>\n  <tbody>\n    <tr>\n      <th>0</th>\n      <td>001011403466511146</td>\n      <td>2134.0</td>\n      <td>Allocation chômage / indemnités</td>\n      <td>240.0</td>\n      <td>1710.0</td>\n    </tr>\n    <tr>\n      <th>5</th>\n      <td>0010117074877GDPUB</td>\n      <td>900.0</td>\n      <td>Pension alimentaire reçue</td>\n      <td>200.0</td>\n      <td>200.0</td>\n    </tr>\n    <tr>\n      <th>8</th>\n      <td>0010217076033GDPUB</td>\n      <td>1200.0</td>\n      <td>Allocation chômage / indemnités</td>\n      <td>1200.0</td>\n      <td>1200.0</td>\n    </tr>\n    <tr>\n      <th>9</th>\n      <td>001021707620301173</td>\n      <td>1200.0</td>\n      <td>Salaire ou revenu d'activité</td>\n      <td>1200.0</td>\n      <td>1200.0</td>\n    </tr>\n    <tr>\n      <th>10</th>\n      <td>001041707857711126</td>\n      <td>800.0</td>\n      <td>Retraite</td>\n      <td>800.0</td>\n      <td>800.0</td>\n    </tr>\n    <tr>\n      <th>...</th>\n      <td>...</td>\n      <td>...</td>\n      <td>...</td>\n      <td>...</td>\n      <td>...</td>\n    </tr>\n    <tr>\n      <th>152670</th>\n      <td>974091715322011487</td>\n      <td>2121.0</td>\n      <td>Salaire ou revenu d'activité</td>\n      <td>2083.0</td>\n      <td>2083.0</td>\n    </tr>\n    <tr>\n      <th>152672</th>\n      <td>974111715873511487</td>\n      <td>1725.0</td>\n      <td>Retraite</td>\n      <td>1725.0</td>\n      <td>1725.0</td>\n    </tr>\n    <tr>\n      <th>152673</th>\n      <td>9741216133916GDPUB</td>\n      <td>2000.0</td>\n      <td>Salaire ou revenu d'activité</td>\n      <td>2000.0</td>\n      <td>2000.0</td>\n    </tr>\n    <tr>\n      <th>152674</th>\n      <td>9741216133920GDPUB</td>\n      <td>846.0</td>\n      <td>Retraite</td>\n      <td>846.0</td>\n      <td>846.0</td>\n    </tr>\n    <tr>\n      <th>152675</th>\n      <td>9741217158325GDPUB</td>\n      <td>33.0</td>\n      <td>Allocation chômage / indemnités</td>\n      <td>33.0</td>\n      <td>33.0</td>\n    </tr>\n  </tbody>\n</table>\n<p>68066 rows × 5 columns</p>\n</div>"
     },
     "execution_count": 426,
     "metadata": {},
     "output_type": "execute_result"
    }
   ],
   "source": [
    "merged_dfbis=merged_df.drop_duplicates(subset =\"Numéro Unique\")\n",
    "merged_dfbis"
   ],
   "metadata": {
    "collapsed": false,
    "pycharm": {
     "name": "#%%\n"
    }
   }
  },
  {
   "cell_type": "code",
   "execution_count": 427,
   "outputs": [
    {
     "data": {
      "text/plain": "            Numéro Unique  RM Moyennes  \\\n0      001011403466511146       2134.0   \n1      0010117074877GDPUB        900.0   \n2      001021504965918214        944.0   \n3      0010217076033GDPUB       1200.0   \n4      001021707620301173       1200.0   \n...                   ...          ...   \n80874  9741117155529GDPUB        674.0   \n80875  974111715873511487       1725.0   \n80876  9741216133916GDPUB       2000.0   \n80877  9741216133920GDPUB        846.0   \n80878  9741217158325GDPUB         33.0   \n\n       Ressources imposables mensuelles moyennes (RI)  \n0                                              1710.0  \n1                                               200.0  \n2                                                 NaN  \n3                                              1200.0  \n4                                              1200.0  \n...                                               ...  \n80874                                             NaN  \n80875                                          1725.0  \n80876                                          2000.0  \n80877                                           846.0  \n80878                                            33.0  \n\n[80879 rows x 3 columns]",
      "text/html": "<div>\n<style scoped>\n    .dataframe tbody tr th:only-of-type {\n        vertical-align: middle;\n    }\n\n    .dataframe tbody tr th {\n        vertical-align: top;\n    }\n\n    .dataframe thead th {\n        text-align: right;\n    }\n</style>\n<table border=\"1\" class=\"dataframe\">\n  <thead>\n    <tr style=\"text-align: right;\">\n      <th></th>\n      <th>Numéro Unique</th>\n      <th>RM Moyennes</th>\n      <th>Ressources imposables mensuelles moyennes (RI)</th>\n    </tr>\n  </thead>\n  <tbody>\n    <tr>\n      <th>0</th>\n      <td>001011403466511146</td>\n      <td>2134.0</td>\n      <td>1710.0</td>\n    </tr>\n    <tr>\n      <th>1</th>\n      <td>0010117074877GDPUB</td>\n      <td>900.0</td>\n      <td>200.0</td>\n    </tr>\n    <tr>\n      <th>2</th>\n      <td>001021504965918214</td>\n      <td>944.0</td>\n      <td>NaN</td>\n    </tr>\n    <tr>\n      <th>3</th>\n      <td>0010217076033GDPUB</td>\n      <td>1200.0</td>\n      <td>1200.0</td>\n    </tr>\n    <tr>\n      <th>4</th>\n      <td>001021707620301173</td>\n      <td>1200.0</td>\n      <td>1200.0</td>\n    </tr>\n    <tr>\n      <th>...</th>\n      <td>...</td>\n      <td>...</td>\n      <td>...</td>\n    </tr>\n    <tr>\n      <th>80874</th>\n      <td>9741117155529GDPUB</td>\n      <td>674.0</td>\n      <td>NaN</td>\n    </tr>\n    <tr>\n      <th>80875</th>\n      <td>974111715873511487</td>\n      <td>1725.0</td>\n      <td>1725.0</td>\n    </tr>\n    <tr>\n      <th>80876</th>\n      <td>9741216133916GDPUB</td>\n      <td>2000.0</td>\n      <td>2000.0</td>\n    </tr>\n    <tr>\n      <th>80877</th>\n      <td>9741216133920GDPUB</td>\n      <td>846.0</td>\n      <td>846.0</td>\n    </tr>\n    <tr>\n      <th>80878</th>\n      <td>9741217158325GDPUB</td>\n      <td>33.0</td>\n      <td>33.0</td>\n    </tr>\n  </tbody>\n</table>\n<p>80879 rows × 3 columns</p>\n</div>"
     },
     "execution_count": 427,
     "metadata": {},
     "output_type": "execute_result"
    }
   ],
   "source": [
    "bdd = dfdbis.merge(merged_dfbis, on='Numéro Unique', how='outer')\n",
    "bdd=bdd[['Numéro Unique', 'Ressources mensuelles\\n_x','Ressources imposables mensuelles moyennes (RI)']]\n",
    "bdd=bdd.rename(columns={'Ressources mensuelles\\n_x': 'RM Moyennes'})\n",
    "bdd"
   ],
   "metadata": {
    "collapsed": false,
    "pycharm": {
     "name": "#%%\n"
    }
   }
  },
  {
   "cell_type": "code",
   "execution_count": 428,
   "outputs": [
    {
     "ename": "KeyError",
     "evalue": "'Revenu imposable'",
     "output_type": "error",
     "traceback": [
      "\u001B[1;31m---------------------------------------------------------------------------\u001B[0m",
      "\u001B[1;31mKeyError\u001B[0m                                  Traceback (most recent call last)",
      "File \u001B[1;32m~\\AppData\\Local\\Programs\\Python\\Python39\\lib\\site-packages\\pandas\\core\\indexes\\base.py:3621\u001B[0m, in \u001B[0;36mIndex.get_loc\u001B[1;34m(self, key, method, tolerance)\u001B[0m\n\u001B[0;32m   3620\u001B[0m \u001B[38;5;28;01mtry\u001B[39;00m:\n\u001B[1;32m-> 3621\u001B[0m     \u001B[38;5;28;01mreturn\u001B[39;00m \u001B[38;5;28;43mself\u001B[39;49m\u001B[38;5;241;43m.\u001B[39;49m\u001B[43m_engine\u001B[49m\u001B[38;5;241;43m.\u001B[39;49m\u001B[43mget_loc\u001B[49m\u001B[43m(\u001B[49m\u001B[43mcasted_key\u001B[49m\u001B[43m)\u001B[49m\n\u001B[0;32m   3622\u001B[0m \u001B[38;5;28;01mexcept\u001B[39;00m \u001B[38;5;167;01mKeyError\u001B[39;00m \u001B[38;5;28;01mas\u001B[39;00m err:\n",
      "File \u001B[1;32m~\\AppData\\Local\\Programs\\Python\\Python39\\lib\\site-packages\\pandas\\_libs\\index.pyx:136\u001B[0m, in \u001B[0;36mpandas._libs.index.IndexEngine.get_loc\u001B[1;34m()\u001B[0m\n",
      "File \u001B[1;32m~\\AppData\\Local\\Programs\\Python\\Python39\\lib\\site-packages\\pandas\\_libs\\index.pyx:163\u001B[0m, in \u001B[0;36mpandas._libs.index.IndexEngine.get_loc\u001B[1;34m()\u001B[0m\n",
      "File \u001B[1;32mpandas\\_libs\\hashtable_class_helper.pxi:5198\u001B[0m, in \u001B[0;36mpandas._libs.hashtable.PyObjectHashTable.get_item\u001B[1;34m()\u001B[0m\n",
      "File \u001B[1;32mpandas\\_libs\\hashtable_class_helper.pxi:5206\u001B[0m, in \u001B[0;36mpandas._libs.hashtable.PyObjectHashTable.get_item\u001B[1;34m()\u001B[0m\n",
      "\u001B[1;31mKeyError\u001B[0m: 'Revenu imposable'",
      "\nThe above exception was the direct cause of the following exception:\n",
      "\u001B[1;31mKeyError\u001B[0m                                  Traceback (most recent call last)",
      "Input \u001B[1;32mIn [428]\u001B[0m, in \u001B[0;36m<cell line: 2>\u001B[1;34m()\u001B[0m\n\u001B[0;32m      1\u001B[0m \u001B[38;5;66;03m#Foyers dont les ressources mensuelles ne matchent pas le revenu imposable => Une part des ressources n'est pas imposable\u001B[39;00m\n\u001B[1;32m----> 2\u001B[0m merged_df[\u001B[43mmerged_df\u001B[49m\u001B[43m[\u001B[49m\u001B[38;5;124;43m'\u001B[39;49m\u001B[38;5;124;43mRevenu imposable\u001B[39;49m\u001B[38;5;124;43m'\u001B[39;49m\u001B[43m]\u001B[49m\u001B[38;5;241m!=\u001B[39mmerged_df[\u001B[38;5;124m'\u001B[39m\u001B[38;5;124mRessources mensuelles\u001B[39m\u001B[38;5;124m'\u001B[39m]]\n",
      "File \u001B[1;32m~\\AppData\\Local\\Programs\\Python\\Python39\\lib\\site-packages\\pandas\\core\\frame.py:3505\u001B[0m, in \u001B[0;36mDataFrame.__getitem__\u001B[1;34m(self, key)\u001B[0m\n\u001B[0;32m   3503\u001B[0m \u001B[38;5;28;01mif\u001B[39;00m \u001B[38;5;28mself\u001B[39m\u001B[38;5;241m.\u001B[39mcolumns\u001B[38;5;241m.\u001B[39mnlevels \u001B[38;5;241m>\u001B[39m \u001B[38;5;241m1\u001B[39m:\n\u001B[0;32m   3504\u001B[0m     \u001B[38;5;28;01mreturn\u001B[39;00m \u001B[38;5;28mself\u001B[39m\u001B[38;5;241m.\u001B[39m_getitem_multilevel(key)\n\u001B[1;32m-> 3505\u001B[0m indexer \u001B[38;5;241m=\u001B[39m \u001B[38;5;28;43mself\u001B[39;49m\u001B[38;5;241;43m.\u001B[39;49m\u001B[43mcolumns\u001B[49m\u001B[38;5;241;43m.\u001B[39;49m\u001B[43mget_loc\u001B[49m\u001B[43m(\u001B[49m\u001B[43mkey\u001B[49m\u001B[43m)\u001B[49m\n\u001B[0;32m   3506\u001B[0m \u001B[38;5;28;01mif\u001B[39;00m is_integer(indexer):\n\u001B[0;32m   3507\u001B[0m     indexer \u001B[38;5;241m=\u001B[39m [indexer]\n",
      "File \u001B[1;32m~\\AppData\\Local\\Programs\\Python\\Python39\\lib\\site-packages\\pandas\\core\\indexes\\base.py:3623\u001B[0m, in \u001B[0;36mIndex.get_loc\u001B[1;34m(self, key, method, tolerance)\u001B[0m\n\u001B[0;32m   3621\u001B[0m     \u001B[38;5;28;01mreturn\u001B[39;00m \u001B[38;5;28mself\u001B[39m\u001B[38;5;241m.\u001B[39m_engine\u001B[38;5;241m.\u001B[39mget_loc(casted_key)\n\u001B[0;32m   3622\u001B[0m \u001B[38;5;28;01mexcept\u001B[39;00m \u001B[38;5;167;01mKeyError\u001B[39;00m \u001B[38;5;28;01mas\u001B[39;00m err:\n\u001B[1;32m-> 3623\u001B[0m     \u001B[38;5;28;01mraise\u001B[39;00m \u001B[38;5;167;01mKeyError\u001B[39;00m(key) \u001B[38;5;28;01mfrom\u001B[39;00m \u001B[38;5;21;01merr\u001B[39;00m\n\u001B[0;32m   3624\u001B[0m \u001B[38;5;28;01mexcept\u001B[39;00m \u001B[38;5;167;01mTypeError\u001B[39;00m:\n\u001B[0;32m   3625\u001B[0m     \u001B[38;5;66;03m# If we have a listlike key, _check_indexing_error will raise\u001B[39;00m\n\u001B[0;32m   3626\u001B[0m     \u001B[38;5;66;03m#  InvalidIndexError. Otherwise we fall through and re-raise\u001B[39;00m\n\u001B[0;32m   3627\u001B[0m     \u001B[38;5;66;03m#  the TypeError.\u001B[39;00m\n\u001B[0;32m   3628\u001B[0m     \u001B[38;5;28mself\u001B[39m\u001B[38;5;241m.\u001B[39m_check_indexing_error(key)\n",
      "\u001B[1;31mKeyError\u001B[0m: 'Revenu imposable'"
     ]
    }
   ],
   "source": [
    "#Foyers dont les ressources mensuelles ne matchent pas le revenu imposable => Une part des ressources n'est pas imposable\n",
    "merged_df[merged_df['Revenu imposable']!=merged_df['Ressources mensuelles']]"
   ],
   "metadata": {
    "collapsed": false,
    "pycharm": {
     "name": "#%%\n"
    }
   }
  },
  {
   "cell_type": "code",
   "execution_count": 429,
   "outputs": [
    {
     "ename": "KeyError",
     "evalue": "'Revenu imposable'",
     "output_type": "error",
     "traceback": [
      "\u001B[1;31m---------------------------------------------------------------------------\u001B[0m",
      "\u001B[1;31mKeyError\u001B[0m                                  Traceback (most recent call last)",
      "File \u001B[1;32m~\\AppData\\Local\\Programs\\Python\\Python39\\lib\\site-packages\\pandas\\core\\indexes\\base.py:3621\u001B[0m, in \u001B[0;36mIndex.get_loc\u001B[1;34m(self, key, method, tolerance)\u001B[0m\n\u001B[0;32m   3620\u001B[0m \u001B[38;5;28;01mtry\u001B[39;00m:\n\u001B[1;32m-> 3621\u001B[0m     \u001B[38;5;28;01mreturn\u001B[39;00m \u001B[38;5;28;43mself\u001B[39;49m\u001B[38;5;241;43m.\u001B[39;49m\u001B[43m_engine\u001B[49m\u001B[38;5;241;43m.\u001B[39;49m\u001B[43mget_loc\u001B[49m\u001B[43m(\u001B[49m\u001B[43mcasted_key\u001B[49m\u001B[43m)\u001B[49m\n\u001B[0;32m   3622\u001B[0m \u001B[38;5;28;01mexcept\u001B[39;00m \u001B[38;5;167;01mKeyError\u001B[39;00m \u001B[38;5;28;01mas\u001B[39;00m err:\n",
      "File \u001B[1;32m~\\AppData\\Local\\Programs\\Python\\Python39\\lib\\site-packages\\pandas\\_libs\\index.pyx:136\u001B[0m, in \u001B[0;36mpandas._libs.index.IndexEngine.get_loc\u001B[1;34m()\u001B[0m\n",
      "File \u001B[1;32m~\\AppData\\Local\\Programs\\Python\\Python39\\lib\\site-packages\\pandas\\_libs\\index.pyx:163\u001B[0m, in \u001B[0;36mpandas._libs.index.IndexEngine.get_loc\u001B[1;34m()\u001B[0m\n",
      "File \u001B[1;32mpandas\\_libs\\hashtable_class_helper.pxi:5198\u001B[0m, in \u001B[0;36mpandas._libs.hashtable.PyObjectHashTable.get_item\u001B[1;34m()\u001B[0m\n",
      "File \u001B[1;32mpandas\\_libs\\hashtable_class_helper.pxi:5206\u001B[0m, in \u001B[0;36mpandas._libs.hashtable.PyObjectHashTable.get_item\u001B[1;34m()\u001B[0m\n",
      "\u001B[1;31mKeyError\u001B[0m: 'Revenu imposable'",
      "\nThe above exception was the direct cause of the following exception:\n",
      "\u001B[1;31mKeyError\u001B[0m                                  Traceback (most recent call last)",
      "Input \u001B[1;32mIn [429]\u001B[0m, in \u001B[0;36m<cell line: 2>\u001B[1;34m()\u001B[0m\n\u001B[0;32m      1\u001B[0m \u001B[38;5;66;03m#Foyers avec plusieurs type de revenus\u001B[39;00m\n\u001B[1;32m----> 2\u001B[0m merged_df[\u001B[43mmerged_df\u001B[49m\u001B[43m[\u001B[49m\u001B[38;5;124;43m'\u001B[39;49m\u001B[38;5;124;43mRevenu imposable\u001B[39;49m\u001B[38;5;124;43m'\u001B[39;49m\u001B[43m]\u001B[49m\u001B[38;5;241m!=\u001B[39mmerged_df[\u001B[38;5;124m'\u001B[39m\u001B[38;5;124mMontant par type de ressource_x\u001B[39m\u001B[38;5;124m'\u001B[39m]]\n",
      "File \u001B[1;32m~\\AppData\\Local\\Programs\\Python\\Python39\\lib\\site-packages\\pandas\\core\\frame.py:3505\u001B[0m, in \u001B[0;36mDataFrame.__getitem__\u001B[1;34m(self, key)\u001B[0m\n\u001B[0;32m   3503\u001B[0m \u001B[38;5;28;01mif\u001B[39;00m \u001B[38;5;28mself\u001B[39m\u001B[38;5;241m.\u001B[39mcolumns\u001B[38;5;241m.\u001B[39mnlevels \u001B[38;5;241m>\u001B[39m \u001B[38;5;241m1\u001B[39m:\n\u001B[0;32m   3504\u001B[0m     \u001B[38;5;28;01mreturn\u001B[39;00m \u001B[38;5;28mself\u001B[39m\u001B[38;5;241m.\u001B[39m_getitem_multilevel(key)\n\u001B[1;32m-> 3505\u001B[0m indexer \u001B[38;5;241m=\u001B[39m \u001B[38;5;28;43mself\u001B[39;49m\u001B[38;5;241;43m.\u001B[39;49m\u001B[43mcolumns\u001B[49m\u001B[38;5;241;43m.\u001B[39;49m\u001B[43mget_loc\u001B[49m\u001B[43m(\u001B[49m\u001B[43mkey\u001B[49m\u001B[43m)\u001B[49m\n\u001B[0;32m   3506\u001B[0m \u001B[38;5;28;01mif\u001B[39;00m is_integer(indexer):\n\u001B[0;32m   3507\u001B[0m     indexer \u001B[38;5;241m=\u001B[39m [indexer]\n",
      "File \u001B[1;32m~\\AppData\\Local\\Programs\\Python\\Python39\\lib\\site-packages\\pandas\\core\\indexes\\base.py:3623\u001B[0m, in \u001B[0;36mIndex.get_loc\u001B[1;34m(self, key, method, tolerance)\u001B[0m\n\u001B[0;32m   3621\u001B[0m     \u001B[38;5;28;01mreturn\u001B[39;00m \u001B[38;5;28mself\u001B[39m\u001B[38;5;241m.\u001B[39m_engine\u001B[38;5;241m.\u001B[39mget_loc(casted_key)\n\u001B[0;32m   3622\u001B[0m \u001B[38;5;28;01mexcept\u001B[39;00m \u001B[38;5;167;01mKeyError\u001B[39;00m \u001B[38;5;28;01mas\u001B[39;00m err:\n\u001B[1;32m-> 3623\u001B[0m     \u001B[38;5;28;01mraise\u001B[39;00m \u001B[38;5;167;01mKeyError\u001B[39;00m(key) \u001B[38;5;28;01mfrom\u001B[39;00m \u001B[38;5;21;01merr\u001B[39;00m\n\u001B[0;32m   3624\u001B[0m \u001B[38;5;28;01mexcept\u001B[39;00m \u001B[38;5;167;01mTypeError\u001B[39;00m:\n\u001B[0;32m   3625\u001B[0m     \u001B[38;5;66;03m# If we have a listlike key, _check_indexing_error will raise\u001B[39;00m\n\u001B[0;32m   3626\u001B[0m     \u001B[38;5;66;03m#  InvalidIndexError. Otherwise we fall through and re-raise\u001B[39;00m\n\u001B[0;32m   3627\u001B[0m     \u001B[38;5;66;03m#  the TypeError.\u001B[39;00m\n\u001B[0;32m   3628\u001B[0m     \u001B[38;5;28mself\u001B[39m\u001B[38;5;241m.\u001B[39m_check_indexing_error(key)\n",
      "\u001B[1;31mKeyError\u001B[0m: 'Revenu imposable'"
     ]
    }
   ],
   "source": [
    "#Foyers avec plusieurs type de revenus\n",
    "merged_df[merged_df['Revenu imposable']!=merged_df['Montant par type de ressource_x']]\n"
   ],
   "metadata": {
    "collapsed": false,
    "pycharm": {
     "name": "#%%\n"
    }
   }
  },
  {
   "cell_type": "code",
   "execution_count": null,
   "outputs": [],
   "source": [
    "#Foyers avec un seul type de revenu\n",
    "merged_df[~(merged_df['Revenu imposable']!=merged_df['Montant par type de ressource_x'])]\n"
   ],
   "metadata": {
    "collapsed": false,
    "pycharm": {
     "name": "#%%\n"
    }
   }
  },
  {
   "cell_type": "markdown",
   "source": [
    "### Calcul des prestations familiales et sociales mensuelles"
   ],
   "metadata": {
    "collapsed": false,
    "pycharm": {
     "name": "#%% md\n"
    }
   }
  },
  {
   "cell_type": "code",
   "execution_count": 430,
   "outputs": [
    {
     "data": {
      "text/plain": "             Numéro Unique  Ressources mensuelles\\n  \\\n1       001011403466511146                   2134.0   \n4       0010117074877GDPUB                    900.0   \n6       001021504965918214                    944.0   \n7       001021504965918214                    944.0   \n14      0010417079394GDPUB                      0.0   \n...                    ...                      ...   \n152663  9740617145930GDPUB                   1943.0   \n152664  9740617145930GDPUB                   1943.0   \n152666  9740617145930GDPUB                   1943.0   \n152669  974091715322011487                   2121.0   \n152671  9741117155529GDPUB                    674.0   \n\n                                                    Type  \\\n1                                  Allocation familiales   \n4                                  Allocation familiales   \n6                                  Allocation familiales   \n7                      Revenu de solidarité active (RSA)   \n14                    Allocation d'adulte handicapé(AAH)   \n...                                                  ...   \n152663  Allocation d'éducation d'enfant handicapé (AEEH)   \n152664                             Allocation familiales   \n152666                 Revenu de solidarité active (RSA)   \n152669                             Allocation familiales   \n152671                 Revenu de solidarité active (RSA)   \n\n        Montant par type de ressource\\n  \n1                                 424.0  \n4                                 700.0  \n6                                 129.0  \n7                                 815.0  \n14                                  0.0  \n...                                 ...  \n152663                            718.0  \n152664                            131.0  \n152666                            702.0  \n152669                             38.0  \n152671                            674.0  \n\n[59632 rows x 4 columns]",
      "text/html": "<div>\n<style scoped>\n    .dataframe tbody tr th:only-of-type {\n        vertical-align: middle;\n    }\n\n    .dataframe tbody tr th {\n        vertical-align: top;\n    }\n\n    .dataframe thead th {\n        text-align: right;\n    }\n</style>\n<table border=\"1\" class=\"dataframe\">\n  <thead>\n    <tr style=\"text-align: right;\">\n      <th></th>\n      <th>Numéro Unique</th>\n      <th>Ressources mensuelles\\n</th>\n      <th>Type</th>\n      <th>Montant par type de ressource\\n</th>\n    </tr>\n  </thead>\n  <tbody>\n    <tr>\n      <th>1</th>\n      <td>001011403466511146</td>\n      <td>2134.0</td>\n      <td>Allocation familiales</td>\n      <td>424.0</td>\n    </tr>\n    <tr>\n      <th>4</th>\n      <td>0010117074877GDPUB</td>\n      <td>900.0</td>\n      <td>Allocation familiales</td>\n      <td>700.0</td>\n    </tr>\n    <tr>\n      <th>6</th>\n      <td>001021504965918214</td>\n      <td>944.0</td>\n      <td>Allocation familiales</td>\n      <td>129.0</td>\n    </tr>\n    <tr>\n      <th>7</th>\n      <td>001021504965918214</td>\n      <td>944.0</td>\n      <td>Revenu de solidarité active (RSA)</td>\n      <td>815.0</td>\n    </tr>\n    <tr>\n      <th>14</th>\n      <td>0010417079394GDPUB</td>\n      <td>0.0</td>\n      <td>Allocation d'adulte handicapé(AAH)</td>\n      <td>0.0</td>\n    </tr>\n    <tr>\n      <th>...</th>\n      <td>...</td>\n      <td>...</td>\n      <td>...</td>\n      <td>...</td>\n    </tr>\n    <tr>\n      <th>152663</th>\n      <td>9740617145930GDPUB</td>\n      <td>1943.0</td>\n      <td>Allocation d'éducation d'enfant handicapé (AEEH)</td>\n      <td>718.0</td>\n    </tr>\n    <tr>\n      <th>152664</th>\n      <td>9740617145930GDPUB</td>\n      <td>1943.0</td>\n      <td>Allocation familiales</td>\n      <td>131.0</td>\n    </tr>\n    <tr>\n      <th>152666</th>\n      <td>9740617145930GDPUB</td>\n      <td>1943.0</td>\n      <td>Revenu de solidarité active (RSA)</td>\n      <td>702.0</td>\n    </tr>\n    <tr>\n      <th>152669</th>\n      <td>974091715322011487</td>\n      <td>2121.0</td>\n      <td>Allocation familiales</td>\n      <td>38.0</td>\n    </tr>\n    <tr>\n      <th>152671</th>\n      <td>9741117155529GDPUB</td>\n      <td>674.0</td>\n      <td>Revenu de solidarité active (RSA)</td>\n      <td>674.0</td>\n    </tr>\n  </tbody>\n</table>\n<p>59632 rows × 4 columns</p>\n</div>"
     },
     "execution_count": 430,
     "metadata": {},
     "output_type": "execute_result"
    }
   ],
   "source": [
    "values1=[\"Allocation d'adulte handicapé(AAH)\", \"Allocation d'éducation d'enfant handicapé (AEEH)\", \"Allocation de minimum vieillesse\", \"Allocation familiales\", \"Allocation Jeune Enfant (PAJE)\", \"Bourse étudiant\", \"Prime d'activité\", \"Revenu de solidarité active (RSA)\", \"Allocation journalière de présence parentale (AJPP)\"]\n",
    "filtered_df1 = dfd[dfd.Type.isin(values1)]\n",
    "filtered_df1"
   ],
   "metadata": {
    "collapsed": false,
    "pycharm": {
     "name": "#%%\n"
    }
   }
  },
  {
   "cell_type": "code",
   "execution_count": 431,
   "outputs": [],
   "source": [
    "shrank_values1 = filtered_df1.groupby(by='Numéro Unique').sum()['Montant par type de ressource\\n']\n",
    "\n",
    "merged_df1 = filtered_df1.merge(shrank_values1, left_on='Numéro Unique', right_index=True)\n",
    "\n",
    "merged_df1 = merged_df1.rename(columns={'Montant par type de ressource\\n_y': 'Prestations familiales et sociales mensuelles moyennes (PFS)'})"
   ],
   "metadata": {
    "collapsed": false,
    "pycharm": {
     "name": "#%%\n"
    }
   }
  },
  {
   "cell_type": "code",
   "execution_count": 432,
   "outputs": [
    {
     "data": {
      "text/plain": "             Numéro Unique  Ressources mensuelles\\n  \\\n1       001011403466511146                   2134.0   \n4       0010117074877GDPUB                    900.0   \n6       001021504965918214                    944.0   \n7       001021504965918214                    944.0   \n14      0010417079394GDPUB                      0.0   \n...                    ...                      ...   \n152663  9740617145930GDPUB                   1943.0   \n152664  9740617145930GDPUB                   1943.0   \n152666  9740617145930GDPUB                   1943.0   \n152669  974091715322011487                   2121.0   \n152671  9741117155529GDPUB                    674.0   \n\n                                                    Type  \\\n1                                  Allocation familiales   \n4                                  Allocation familiales   \n6                                  Allocation familiales   \n7                      Revenu de solidarité active (RSA)   \n14                    Allocation d'adulte handicapé(AAH)   \n...                                                  ...   \n152663  Allocation d'éducation d'enfant handicapé (AEEH)   \n152664                             Allocation familiales   \n152666                 Revenu de solidarité active (RSA)   \n152669                             Allocation familiales   \n152671                 Revenu de solidarité active (RSA)   \n\n        Montant par type de ressource\\n_x  \\\n1                                   424.0   \n4                                   700.0   \n6                                   129.0   \n7                                   815.0   \n14                                    0.0   \n...                                   ...   \n152663                              718.0   \n152664                              131.0   \n152666                              702.0   \n152669                               38.0   \n152671                              674.0   \n\n        Prestations familiales et sociales mensuelles moyennes (PFS)  \n1                                                   424.0             \n4                                                   700.0             \n6                                                   944.0             \n7                                                   944.0             \n14                                                    0.0             \n...                                                   ...             \n152663                                             1551.0             \n152664                                             1551.0             \n152666                                             1551.0             \n152669                                               38.0             \n152671                                              674.0             \n\n[59632 rows x 5 columns]",
      "text/html": "<div>\n<style scoped>\n    .dataframe tbody tr th:only-of-type {\n        vertical-align: middle;\n    }\n\n    .dataframe tbody tr th {\n        vertical-align: top;\n    }\n\n    .dataframe thead th {\n        text-align: right;\n    }\n</style>\n<table border=\"1\" class=\"dataframe\">\n  <thead>\n    <tr style=\"text-align: right;\">\n      <th></th>\n      <th>Numéro Unique</th>\n      <th>Ressources mensuelles\\n</th>\n      <th>Type</th>\n      <th>Montant par type de ressource\\n_x</th>\n      <th>Prestations familiales et sociales mensuelles moyennes (PFS)</th>\n    </tr>\n  </thead>\n  <tbody>\n    <tr>\n      <th>1</th>\n      <td>001011403466511146</td>\n      <td>2134.0</td>\n      <td>Allocation familiales</td>\n      <td>424.0</td>\n      <td>424.0</td>\n    </tr>\n    <tr>\n      <th>4</th>\n      <td>0010117074877GDPUB</td>\n      <td>900.0</td>\n      <td>Allocation familiales</td>\n      <td>700.0</td>\n      <td>700.0</td>\n    </tr>\n    <tr>\n      <th>6</th>\n      <td>001021504965918214</td>\n      <td>944.0</td>\n      <td>Allocation familiales</td>\n      <td>129.0</td>\n      <td>944.0</td>\n    </tr>\n    <tr>\n      <th>7</th>\n      <td>001021504965918214</td>\n      <td>944.0</td>\n      <td>Revenu de solidarité active (RSA)</td>\n      <td>815.0</td>\n      <td>944.0</td>\n    </tr>\n    <tr>\n      <th>14</th>\n      <td>0010417079394GDPUB</td>\n      <td>0.0</td>\n      <td>Allocation d'adulte handicapé(AAH)</td>\n      <td>0.0</td>\n      <td>0.0</td>\n    </tr>\n    <tr>\n      <th>...</th>\n      <td>...</td>\n      <td>...</td>\n      <td>...</td>\n      <td>...</td>\n      <td>...</td>\n    </tr>\n    <tr>\n      <th>152663</th>\n      <td>9740617145930GDPUB</td>\n      <td>1943.0</td>\n      <td>Allocation d'éducation d'enfant handicapé (AEEH)</td>\n      <td>718.0</td>\n      <td>1551.0</td>\n    </tr>\n    <tr>\n      <th>152664</th>\n      <td>9740617145930GDPUB</td>\n      <td>1943.0</td>\n      <td>Allocation familiales</td>\n      <td>131.0</td>\n      <td>1551.0</td>\n    </tr>\n    <tr>\n      <th>152666</th>\n      <td>9740617145930GDPUB</td>\n      <td>1943.0</td>\n      <td>Revenu de solidarité active (RSA)</td>\n      <td>702.0</td>\n      <td>1551.0</td>\n    </tr>\n    <tr>\n      <th>152669</th>\n      <td>974091715322011487</td>\n      <td>2121.0</td>\n      <td>Allocation familiales</td>\n      <td>38.0</td>\n      <td>38.0</td>\n    </tr>\n    <tr>\n      <th>152671</th>\n      <td>9741117155529GDPUB</td>\n      <td>674.0</td>\n      <td>Revenu de solidarité active (RSA)</td>\n      <td>674.0</td>\n      <td>674.0</td>\n    </tr>\n  </tbody>\n</table>\n<p>59632 rows × 5 columns</p>\n</div>"
     },
     "execution_count": 432,
     "metadata": {},
     "output_type": "execute_result"
    }
   ],
   "source": [
    "merged_df1"
   ],
   "metadata": {
    "collapsed": false,
    "pycharm": {
     "name": "#%%\n"
    }
   }
  },
  {
   "cell_type": "code",
   "execution_count": 433,
   "outputs": [
    {
     "data": {
      "text/plain": "             Numéro Unique  Ressources mensuelles\\n  \\\n1       001011403466511146                   2134.0   \n4       0010117074877GDPUB                    900.0   \n6       001021504965918214                    944.0   \n14      0010417079394GDPUB                      0.0   \n29      001051708062718214                   1102.0   \n...                    ...                      ...   \n152655  973051301257111526                   1611.0   \n152659  9740217138112GDPUB                    986.0   \n152663  9740617145930GDPUB                   1943.0   \n152669  974091715322011487                   2121.0   \n152671  9741117155529GDPUB                    674.0   \n\n                                                    Type  \\\n1                                  Allocation familiales   \n4                                  Allocation familiales   \n6                                  Allocation familiales   \n14                    Allocation d'adulte handicapé(AAH)   \n29                     Revenu de solidarité active (RSA)   \n...                                                  ...   \n152655                             Allocation familiales   \n152659                Allocation d'adulte handicapé(AAH)   \n152663  Allocation d'éducation d'enfant handicapé (AEEH)   \n152669                             Allocation familiales   \n152671                 Revenu de solidarité active (RSA)   \n\n        Montant par type de ressource\\n_x  \\\n1                                   424.0   \n4                                   700.0   \n6                                   129.0   \n14                                    0.0   \n29                                  759.0   \n...                                   ...   \n152655                              296.0   \n152659                              240.0   \n152663                              718.0   \n152669                               38.0   \n152671                              674.0   \n\n        Prestations familiales et sociales mensuelles moyennes (PFS)  \n1                                                   424.0             \n4                                                   700.0             \n6                                                   944.0             \n14                                                    0.0             \n29                                                  759.0             \n...                                                   ...             \n152655                                             1221.0             \n152659                                              240.0             \n152663                                             1551.0             \n152669                                               38.0             \n152671                                              674.0             \n\n[36705 rows x 5 columns]",
      "text/html": "<div>\n<style scoped>\n    .dataframe tbody tr th:only-of-type {\n        vertical-align: middle;\n    }\n\n    .dataframe tbody tr th {\n        vertical-align: top;\n    }\n\n    .dataframe thead th {\n        text-align: right;\n    }\n</style>\n<table border=\"1\" class=\"dataframe\">\n  <thead>\n    <tr style=\"text-align: right;\">\n      <th></th>\n      <th>Numéro Unique</th>\n      <th>Ressources mensuelles\\n</th>\n      <th>Type</th>\n      <th>Montant par type de ressource\\n_x</th>\n      <th>Prestations familiales et sociales mensuelles moyennes (PFS)</th>\n    </tr>\n  </thead>\n  <tbody>\n    <tr>\n      <th>1</th>\n      <td>001011403466511146</td>\n      <td>2134.0</td>\n      <td>Allocation familiales</td>\n      <td>424.0</td>\n      <td>424.0</td>\n    </tr>\n    <tr>\n      <th>4</th>\n      <td>0010117074877GDPUB</td>\n      <td>900.0</td>\n      <td>Allocation familiales</td>\n      <td>700.0</td>\n      <td>700.0</td>\n    </tr>\n    <tr>\n      <th>6</th>\n      <td>001021504965918214</td>\n      <td>944.0</td>\n      <td>Allocation familiales</td>\n      <td>129.0</td>\n      <td>944.0</td>\n    </tr>\n    <tr>\n      <th>14</th>\n      <td>0010417079394GDPUB</td>\n      <td>0.0</td>\n      <td>Allocation d'adulte handicapé(AAH)</td>\n      <td>0.0</td>\n      <td>0.0</td>\n    </tr>\n    <tr>\n      <th>29</th>\n      <td>001051708062718214</td>\n      <td>1102.0</td>\n      <td>Revenu de solidarité active (RSA)</td>\n      <td>759.0</td>\n      <td>759.0</td>\n    </tr>\n    <tr>\n      <th>...</th>\n      <td>...</td>\n      <td>...</td>\n      <td>...</td>\n      <td>...</td>\n      <td>...</td>\n    </tr>\n    <tr>\n      <th>152655</th>\n      <td>973051301257111526</td>\n      <td>1611.0</td>\n      <td>Allocation familiales</td>\n      <td>296.0</td>\n      <td>1221.0</td>\n    </tr>\n    <tr>\n      <th>152659</th>\n      <td>9740217138112GDPUB</td>\n      <td>986.0</td>\n      <td>Allocation d'adulte handicapé(AAH)</td>\n      <td>240.0</td>\n      <td>240.0</td>\n    </tr>\n    <tr>\n      <th>152663</th>\n      <td>9740617145930GDPUB</td>\n      <td>1943.0</td>\n      <td>Allocation d'éducation d'enfant handicapé (AEEH)</td>\n      <td>718.0</td>\n      <td>1551.0</td>\n    </tr>\n    <tr>\n      <th>152669</th>\n      <td>974091715322011487</td>\n      <td>2121.0</td>\n      <td>Allocation familiales</td>\n      <td>38.0</td>\n      <td>38.0</td>\n    </tr>\n    <tr>\n      <th>152671</th>\n      <td>9741117155529GDPUB</td>\n      <td>674.0</td>\n      <td>Revenu de solidarité active (RSA)</td>\n      <td>674.0</td>\n      <td>674.0</td>\n    </tr>\n  </tbody>\n</table>\n<p>36705 rows × 5 columns</p>\n</div>"
     },
     "execution_count": 433,
     "metadata": {},
     "output_type": "execute_result"
    }
   ],
   "source": [
    "merged_dfbis1=merged_df1.drop_duplicates(subset =\"Numéro Unique\")\n",
    "merged_dfbis1"
   ],
   "metadata": {
    "collapsed": false,
    "pycharm": {
     "name": "#%%\n"
    }
   }
  },
  {
   "cell_type": "code",
   "execution_count": 434,
   "outputs": [
    {
     "data": {
      "text/plain": "            Numéro Unique  RM Moyennes  \\\n0      001011403466511146       2134.0   \n1      0010117074877GDPUB        900.0   \n2      001021504965918214        944.0   \n3      0010217076033GDPUB       1200.0   \n4      001021707620301173       1200.0   \n...                   ...          ...   \n80874  9741117155529GDPUB        674.0   \n80875  974111715873511487       1725.0   \n80876  9741216133916GDPUB       2000.0   \n80877  9741216133920GDPUB        846.0   \n80878  9741217158325GDPUB         33.0   \n\n       Ressources imposables mensuelles moyennes (RI)  \\\n0                                              1710.0   \n1                                               200.0   \n2                                                 NaN   \n3                                              1200.0   \n4                                              1200.0   \n...                                               ...   \n80874                                             NaN   \n80875                                          1725.0   \n80876                                          2000.0   \n80877                                           846.0   \n80878                                            33.0   \n\n       Prestations familiales et sociales mensuelles moyennes (PFS)  \n0                                                  424.0             \n1                                                  700.0             \n2                                                  944.0             \n3                                                    NaN             \n4                                                    NaN             \n...                                                  ...             \n80874                                              674.0             \n80875                                                NaN             \n80876                                                NaN             \n80877                                                NaN             \n80878                                                NaN             \n\n[80879 rows x 4 columns]",
      "text/html": "<div>\n<style scoped>\n    .dataframe tbody tr th:only-of-type {\n        vertical-align: middle;\n    }\n\n    .dataframe tbody tr th {\n        vertical-align: top;\n    }\n\n    .dataframe thead th {\n        text-align: right;\n    }\n</style>\n<table border=\"1\" class=\"dataframe\">\n  <thead>\n    <tr style=\"text-align: right;\">\n      <th></th>\n      <th>Numéro Unique</th>\n      <th>RM Moyennes</th>\n      <th>Ressources imposables mensuelles moyennes (RI)</th>\n      <th>Prestations familiales et sociales mensuelles moyennes (PFS)</th>\n    </tr>\n  </thead>\n  <tbody>\n    <tr>\n      <th>0</th>\n      <td>001011403466511146</td>\n      <td>2134.0</td>\n      <td>1710.0</td>\n      <td>424.0</td>\n    </tr>\n    <tr>\n      <th>1</th>\n      <td>0010117074877GDPUB</td>\n      <td>900.0</td>\n      <td>200.0</td>\n      <td>700.0</td>\n    </tr>\n    <tr>\n      <th>2</th>\n      <td>001021504965918214</td>\n      <td>944.0</td>\n      <td>NaN</td>\n      <td>944.0</td>\n    </tr>\n    <tr>\n      <th>3</th>\n      <td>0010217076033GDPUB</td>\n      <td>1200.0</td>\n      <td>1200.0</td>\n      <td>NaN</td>\n    </tr>\n    <tr>\n      <th>4</th>\n      <td>001021707620301173</td>\n      <td>1200.0</td>\n      <td>1200.0</td>\n      <td>NaN</td>\n    </tr>\n    <tr>\n      <th>...</th>\n      <td>...</td>\n      <td>...</td>\n      <td>...</td>\n      <td>...</td>\n    </tr>\n    <tr>\n      <th>80874</th>\n      <td>9741117155529GDPUB</td>\n      <td>674.0</td>\n      <td>NaN</td>\n      <td>674.0</td>\n    </tr>\n    <tr>\n      <th>80875</th>\n      <td>974111715873511487</td>\n      <td>1725.0</td>\n      <td>1725.0</td>\n      <td>NaN</td>\n    </tr>\n    <tr>\n      <th>80876</th>\n      <td>9741216133916GDPUB</td>\n      <td>2000.0</td>\n      <td>2000.0</td>\n      <td>NaN</td>\n    </tr>\n    <tr>\n      <th>80877</th>\n      <td>9741216133920GDPUB</td>\n      <td>846.0</td>\n      <td>846.0</td>\n      <td>NaN</td>\n    </tr>\n    <tr>\n      <th>80878</th>\n      <td>9741217158325GDPUB</td>\n      <td>33.0</td>\n      <td>33.0</td>\n      <td>NaN</td>\n    </tr>\n  </tbody>\n</table>\n<p>80879 rows × 4 columns</p>\n</div>"
     },
     "execution_count": 434,
     "metadata": {},
     "output_type": "execute_result"
    }
   ],
   "source": [
    "bddbis = bdd.merge(merged_dfbis1, on='Numéro Unique', how='outer')\n",
    "bddbis=bddbis.rename(columns={'Ressources mensuelles\\n_x': 'RM Moyennes'})\n",
    "bddbis=bddbis[['Numéro Unique', 'RM Moyennes','Ressources imposables mensuelles moyennes (RI)', 'Prestations familiales et sociales mensuelles moyennes (PFS)']]\n",
    "bddbis"
   ],
   "metadata": {
    "collapsed": false,
    "pycharm": {
     "name": "#%%\n"
    }
   }
  },
  {
   "cell_type": "code",
   "execution_count": 435,
   "outputs": [
    {
     "data": {
      "text/plain": "12813"
     },
     "execution_count": 435,
     "metadata": {},
     "output_type": "execute_result"
    }
   ],
   "source": [
    "bddbis['Ressources imposables mensuelles moyennes (RI)'].isna().sum()"
   ],
   "metadata": {
    "collapsed": false,
    "pycharm": {
     "name": "#%%\n"
    }
   }
  },
  {
   "cell_type": "code",
   "execution_count": 436,
   "outputs": [
    {
     "data": {
      "text/plain": "44174"
     },
     "execution_count": 436,
     "metadata": {},
     "output_type": "execute_result"
    }
   ],
   "source": [
    "bddbis['Prestations familiales et sociales mensuelles moyennes (PFS)'].isna().sum()"
   ],
   "metadata": {
    "collapsed": false,
    "pycharm": {
     "name": "#%%\n"
    }
   }
  },
  {
   "cell_type": "markdown",
   "source": [
    "### Somme Revenus imposables et prestations"
   ],
   "metadata": {
    "collapsed": false,
    "pycharm": {
     "name": "#%% md\n"
    }
   }
  },
  {
   "cell_type": "code",
   "execution_count": 437,
   "outputs": [],
   "source": [
    "bddbis['Ressources imposables mensuelles moyennes (RI)'].fillna(0, inplace=True)\n",
    "bddbis['Prestations familiales et sociales mensuelles moyennes (PFS)'].fillna(0, inplace=True)"
   ],
   "metadata": {
    "collapsed": false,
    "pycharm": {
     "name": "#%%\n"
    }
   }
  },
  {
   "cell_type": "code",
   "execution_count": 438,
   "outputs": [
    {
     "data": {
      "text/plain": "            Numéro Unique  RM Moyennes  \\\n0      001011403466511146       2134.0   \n1      0010117074877GDPUB        900.0   \n2      001021504965918214        944.0   \n3      0010217076033GDPUB       1200.0   \n4      001021707620301173       1200.0   \n...                   ...          ...   \n80874  9741117155529GDPUB        674.0   \n80875  974111715873511487       1725.0   \n80876  9741216133916GDPUB       2000.0   \n80877  9741216133920GDPUB        846.0   \n80878  9741217158325GDPUB         33.0   \n\n       Ressources imposables mensuelles moyennes (RI)  \\\n0                                              1710.0   \n1                                               200.0   \n2                                                 0.0   \n3                                              1200.0   \n4                                              1200.0   \n...                                               ...   \n80874                                             0.0   \n80875                                          1725.0   \n80876                                          2000.0   \n80877                                           846.0   \n80878                                            33.0   \n\n       Prestations familiales et sociales mensuelles moyennes (PFS)  \n0                                                  424.0             \n1                                                  700.0             \n2                                                  944.0             \n3                                                    0.0             \n4                                                    0.0             \n...                                                  ...             \n80874                                              674.0             \n80875                                                0.0             \n80876                                                0.0             \n80877                                                0.0             \n80878                                                0.0             \n\n[80879 rows x 4 columns]",
      "text/html": "<div>\n<style scoped>\n    .dataframe tbody tr th:only-of-type {\n        vertical-align: middle;\n    }\n\n    .dataframe tbody tr th {\n        vertical-align: top;\n    }\n\n    .dataframe thead th {\n        text-align: right;\n    }\n</style>\n<table border=\"1\" class=\"dataframe\">\n  <thead>\n    <tr style=\"text-align: right;\">\n      <th></th>\n      <th>Numéro Unique</th>\n      <th>RM Moyennes</th>\n      <th>Ressources imposables mensuelles moyennes (RI)</th>\n      <th>Prestations familiales et sociales mensuelles moyennes (PFS)</th>\n    </tr>\n  </thead>\n  <tbody>\n    <tr>\n      <th>0</th>\n      <td>001011403466511146</td>\n      <td>2134.0</td>\n      <td>1710.0</td>\n      <td>424.0</td>\n    </tr>\n    <tr>\n      <th>1</th>\n      <td>0010117074877GDPUB</td>\n      <td>900.0</td>\n      <td>200.0</td>\n      <td>700.0</td>\n    </tr>\n    <tr>\n      <th>2</th>\n      <td>001021504965918214</td>\n      <td>944.0</td>\n      <td>0.0</td>\n      <td>944.0</td>\n    </tr>\n    <tr>\n      <th>3</th>\n      <td>0010217076033GDPUB</td>\n      <td>1200.0</td>\n      <td>1200.0</td>\n      <td>0.0</td>\n    </tr>\n    <tr>\n      <th>4</th>\n      <td>001021707620301173</td>\n      <td>1200.0</td>\n      <td>1200.0</td>\n      <td>0.0</td>\n    </tr>\n    <tr>\n      <th>...</th>\n      <td>...</td>\n      <td>...</td>\n      <td>...</td>\n      <td>...</td>\n    </tr>\n    <tr>\n      <th>80874</th>\n      <td>9741117155529GDPUB</td>\n      <td>674.0</td>\n      <td>0.0</td>\n      <td>674.0</td>\n    </tr>\n    <tr>\n      <th>80875</th>\n      <td>974111715873511487</td>\n      <td>1725.0</td>\n      <td>1725.0</td>\n      <td>0.0</td>\n    </tr>\n    <tr>\n      <th>80876</th>\n      <td>9741216133916GDPUB</td>\n      <td>2000.0</td>\n      <td>2000.0</td>\n      <td>0.0</td>\n    </tr>\n    <tr>\n      <th>80877</th>\n      <td>9741216133920GDPUB</td>\n      <td>846.0</td>\n      <td>846.0</td>\n      <td>0.0</td>\n    </tr>\n    <tr>\n      <th>80878</th>\n      <td>9741217158325GDPUB</td>\n      <td>33.0</td>\n      <td>33.0</td>\n      <td>0.0</td>\n    </tr>\n  </tbody>\n</table>\n<p>80879 rows × 4 columns</p>\n</div>"
     },
     "execution_count": 438,
     "metadata": {},
     "output_type": "execute_result"
    }
   ],
   "source": [
    "bddbis"
   ],
   "metadata": {
    "collapsed": false,
    "pycharm": {
     "name": "#%%\n"
    }
   }
  },
  {
   "cell_type": "code",
   "execution_count": 439,
   "outputs": [
    {
     "data": {
      "text/plain": "            Numéro Unique  RM Moyennes  \\\n0      001011403466511146       2134.0   \n1      0010117074877GDPUB        900.0   \n2      001021504965918214        944.0   \n3      0010217076033GDPUB       1200.0   \n4      001021707620301173       1200.0   \n...                   ...          ...   \n80874  9741117155529GDPUB        674.0   \n80875  974111715873511487       1725.0   \n80876  9741216133916GDPUB       2000.0   \n80877  9741216133920GDPUB        846.0   \n80878  9741217158325GDPUB         33.0   \n\n       Ressources imposables mensuelles moyennes (RI)  \\\n0                                              1710.0   \n1                                               200.0   \n2                                                 0.0   \n3                                              1200.0   \n4                                              1200.0   \n...                                               ...   \n80874                                             0.0   \n80875                                          1725.0   \n80876                                          2000.0   \n80877                                           846.0   \n80878                                            33.0   \n\n       Prestations familiales et sociales mensuelles moyennes (PFS)  Ri + PFS  \n0                                                  424.0               2134.0  \n1                                                  700.0                900.0  \n2                                                  944.0                944.0  \n3                                                    0.0               1200.0  \n4                                                    0.0               1200.0  \n...                                                  ...                  ...  \n80874                                              674.0                674.0  \n80875                                                0.0               1725.0  \n80876                                                0.0               2000.0  \n80877                                                0.0                846.0  \n80878                                                0.0                 33.0  \n\n[80879 rows x 5 columns]",
      "text/html": "<div>\n<style scoped>\n    .dataframe tbody tr th:only-of-type {\n        vertical-align: middle;\n    }\n\n    .dataframe tbody tr th {\n        vertical-align: top;\n    }\n\n    .dataframe thead th {\n        text-align: right;\n    }\n</style>\n<table border=\"1\" class=\"dataframe\">\n  <thead>\n    <tr style=\"text-align: right;\">\n      <th></th>\n      <th>Numéro Unique</th>\n      <th>RM Moyennes</th>\n      <th>Ressources imposables mensuelles moyennes (RI)</th>\n      <th>Prestations familiales et sociales mensuelles moyennes (PFS)</th>\n      <th>Ri + PFS</th>\n    </tr>\n  </thead>\n  <tbody>\n    <tr>\n      <th>0</th>\n      <td>001011403466511146</td>\n      <td>2134.0</td>\n      <td>1710.0</td>\n      <td>424.0</td>\n      <td>2134.0</td>\n    </tr>\n    <tr>\n      <th>1</th>\n      <td>0010117074877GDPUB</td>\n      <td>900.0</td>\n      <td>200.0</td>\n      <td>700.0</td>\n      <td>900.0</td>\n    </tr>\n    <tr>\n      <th>2</th>\n      <td>001021504965918214</td>\n      <td>944.0</td>\n      <td>0.0</td>\n      <td>944.0</td>\n      <td>944.0</td>\n    </tr>\n    <tr>\n      <th>3</th>\n      <td>0010217076033GDPUB</td>\n      <td>1200.0</td>\n      <td>1200.0</td>\n      <td>0.0</td>\n      <td>1200.0</td>\n    </tr>\n    <tr>\n      <th>4</th>\n      <td>001021707620301173</td>\n      <td>1200.0</td>\n      <td>1200.0</td>\n      <td>0.0</td>\n      <td>1200.0</td>\n    </tr>\n    <tr>\n      <th>...</th>\n      <td>...</td>\n      <td>...</td>\n      <td>...</td>\n      <td>...</td>\n      <td>...</td>\n    </tr>\n    <tr>\n      <th>80874</th>\n      <td>9741117155529GDPUB</td>\n      <td>674.0</td>\n      <td>0.0</td>\n      <td>674.0</td>\n      <td>674.0</td>\n    </tr>\n    <tr>\n      <th>80875</th>\n      <td>974111715873511487</td>\n      <td>1725.0</td>\n      <td>1725.0</td>\n      <td>0.0</td>\n      <td>1725.0</td>\n    </tr>\n    <tr>\n      <th>80876</th>\n      <td>9741216133916GDPUB</td>\n      <td>2000.0</td>\n      <td>2000.0</td>\n      <td>0.0</td>\n      <td>2000.0</td>\n    </tr>\n    <tr>\n      <th>80877</th>\n      <td>9741216133920GDPUB</td>\n      <td>846.0</td>\n      <td>846.0</td>\n      <td>0.0</td>\n      <td>846.0</td>\n    </tr>\n    <tr>\n      <th>80878</th>\n      <td>9741217158325GDPUB</td>\n      <td>33.0</td>\n      <td>33.0</td>\n      <td>0.0</td>\n      <td>33.0</td>\n    </tr>\n  </tbody>\n</table>\n<p>80879 rows × 5 columns</p>\n</div>"
     },
     "execution_count": 439,
     "metadata": {},
     "output_type": "execute_result"
    }
   ],
   "source": [
    "bddbis['Ri + PFS']=bddbis['Ressources imposables mensuelles moyennes (RI)']+bddbis['Prestations familiales et sociales mensuelles moyennes (PFS)']\n",
    "bddbis"
   ],
   "metadata": {
    "collapsed": false,
    "pycharm": {
     "name": "#%%\n"
    }
   }
  },
  {
   "cell_type": "code",
   "execution_count": 440,
   "outputs": [],
   "source": [
    "file_name = 'RI_PFS_IDF.csv'\n",
    "bddbis.to_csv(file_name)"
   ],
   "metadata": {
    "collapsed": false,
    "pycharm": {
     "name": "#%%\n"
    }
   }
  },
  {
   "cell_type": "markdown",
   "source": [
    "### Mise en place des tranches de ressources mensuelles"
   ],
   "metadata": {
    "collapsed": false,
    "pycharm": {
     "name": "#%% md\n"
    }
   }
  },
  {
   "cell_type": "code",
   "execution_count": 441,
   "outputs": [
    {
     "data": {
      "text/plain": "            Numéro Unique  RM Moyennes  \\\n0      001011403466511146       2134.0   \n1      0010117074877GDPUB        900.0   \n2      001021504965918214        944.0   \n3      0010217076033GDPUB       1200.0   \n4      001021707620301173       1200.0   \n...                   ...          ...   \n80874  9741117155529GDPUB        674.0   \n80875  974111715873511487       1725.0   \n80876  9741216133916GDPUB       2000.0   \n80877  9741216133920GDPUB        846.0   \n80878  9741217158325GDPUB         33.0   \n\n       Ressources imposables mensuelles moyennes (RI)  \\\n0                                              1710.0   \n1                                               200.0   \n2                                                 0.0   \n3                                              1200.0   \n4                                              1200.0   \n...                                               ...   \n80874                                             0.0   \n80875                                          1725.0   \n80876                                          2000.0   \n80877                                           846.0   \n80878                                            33.0   \n\n       Prestations familiales et sociales mensuelles moyennes (PFS)  Ri + PFS  \\\n0                                                  424.0               2134.0   \n1                                                  700.0                900.0   \n2                                                  944.0                944.0   \n3                                                    0.0               1200.0   \n4                                                    0.0               1200.0   \n...                                                  ...                  ...   \n80874                                              674.0                674.0   \n80875                                                0.0               1725.0   \n80876                                                0.0               2000.0   \n80877                                                0.0                846.0   \n80878                                                0.0                 33.0   \n\n       Tranches de ressources mensuelles (RM)  \n0                                      2100.0  \n1                                       900.0  \n2                                       900.0  \n3                                      1200.0  \n4                                      1200.0  \n...                                       ...  \n80874                                   650.0  \n80875                                  1700.0  \n80876                                  2000.0  \n80877                                   800.0  \n80878                                     0.0  \n\n[80879 rows x 6 columns]",
      "text/html": "<div>\n<style scoped>\n    .dataframe tbody tr th:only-of-type {\n        vertical-align: middle;\n    }\n\n    .dataframe tbody tr th {\n        vertical-align: top;\n    }\n\n    .dataframe thead th {\n        text-align: right;\n    }\n</style>\n<table border=\"1\" class=\"dataframe\">\n  <thead>\n    <tr style=\"text-align: right;\">\n      <th></th>\n      <th>Numéro Unique</th>\n      <th>RM Moyennes</th>\n      <th>Ressources imposables mensuelles moyennes (RI)</th>\n      <th>Prestations familiales et sociales mensuelles moyennes (PFS)</th>\n      <th>Ri + PFS</th>\n      <th>Tranches de ressources mensuelles (RM)</th>\n    </tr>\n  </thead>\n  <tbody>\n    <tr>\n      <th>0</th>\n      <td>001011403466511146</td>\n      <td>2134.0</td>\n      <td>1710.0</td>\n      <td>424.0</td>\n      <td>2134.0</td>\n      <td>2100.0</td>\n    </tr>\n    <tr>\n      <th>1</th>\n      <td>0010117074877GDPUB</td>\n      <td>900.0</td>\n      <td>200.0</td>\n      <td>700.0</td>\n      <td>900.0</td>\n      <td>900.0</td>\n    </tr>\n    <tr>\n      <th>2</th>\n      <td>001021504965918214</td>\n      <td>944.0</td>\n      <td>0.0</td>\n      <td>944.0</td>\n      <td>944.0</td>\n      <td>900.0</td>\n    </tr>\n    <tr>\n      <th>3</th>\n      <td>0010217076033GDPUB</td>\n      <td>1200.0</td>\n      <td>1200.0</td>\n      <td>0.0</td>\n      <td>1200.0</td>\n      <td>1200.0</td>\n    </tr>\n    <tr>\n      <th>4</th>\n      <td>001021707620301173</td>\n      <td>1200.0</td>\n      <td>1200.0</td>\n      <td>0.0</td>\n      <td>1200.0</td>\n      <td>1200.0</td>\n    </tr>\n    <tr>\n      <th>...</th>\n      <td>...</td>\n      <td>...</td>\n      <td>...</td>\n      <td>...</td>\n      <td>...</td>\n      <td>...</td>\n    </tr>\n    <tr>\n      <th>80874</th>\n      <td>9741117155529GDPUB</td>\n      <td>674.0</td>\n      <td>0.0</td>\n      <td>674.0</td>\n      <td>674.0</td>\n      <td>650.0</td>\n    </tr>\n    <tr>\n      <th>80875</th>\n      <td>974111715873511487</td>\n      <td>1725.0</td>\n      <td>1725.0</td>\n      <td>0.0</td>\n      <td>1725.0</td>\n      <td>1700.0</td>\n    </tr>\n    <tr>\n      <th>80876</th>\n      <td>9741216133916GDPUB</td>\n      <td>2000.0</td>\n      <td>2000.0</td>\n      <td>0.0</td>\n      <td>2000.0</td>\n      <td>2000.0</td>\n    </tr>\n    <tr>\n      <th>80877</th>\n      <td>9741216133920GDPUB</td>\n      <td>846.0</td>\n      <td>846.0</td>\n      <td>0.0</td>\n      <td>846.0</td>\n      <td>800.0</td>\n    </tr>\n    <tr>\n      <th>80878</th>\n      <td>9741217158325GDPUB</td>\n      <td>33.0</td>\n      <td>33.0</td>\n      <td>0.0</td>\n      <td>33.0</td>\n      <td>0.0</td>\n    </tr>\n  </tbody>\n</table>\n<p>80879 rows × 6 columns</p>\n</div>"
     },
     "execution_count": 441,
     "metadata": {},
     "output_type": "execute_result"
    }
   ],
   "source": [
    "bddbis['Tranches de ressources mensuelles (RM)']=0\n",
    "\n",
    "def decoupe(rl):\n",
    "    for i in range(0, 5000, 50):\n",
    "        if i<=rl and rl<i+50:\n",
    "            return i\n",
    "        elif rl>4950:\n",
    "            return 4950\n",
    "\n",
    "bddbis['Tranches de ressources mensuelles (RM)'] = bddbis['RM Moyennes'].apply(decoupe)\n",
    "bddbis"
   ],
   "metadata": {
    "collapsed": false,
    "pycharm": {
     "name": "#%%\n"
    }
   }
  },
  {
   "cell_type": "code",
   "execution_count": 442,
   "outputs": [],
   "source": [
    "#bddbis['Tranches de ressources mensuelles'].dropna()"
   ],
   "metadata": {
    "collapsed": false,
    "pycharm": {
     "name": "#%%\n"
    }
   }
  },
  {
   "cell_type": "code",
   "execution_count": 445,
   "outputs": [
    {
     "data": {
      "text/plain": "    Tranches de ressources mensuelles (RM)   RM Moyennes  \\\n0                                      0.0      1.844898   \n1                                     50.0     78.186441   \n2                                    100.0    118.508333   \n3                                    150.0    176.809322   \n4                                    200.0    218.787234   \n..                                     ...           ...   \n94                                  4750.0   4771.400000   \n95                                  4800.0   4800.000000   \n96                                  4850.0   4861.000000   \n97                                  4900.0   4936.000000   \n98                                  4950.0  19343.008333   \n\n    Ressources imposables mensuelles moyennes (RI)  \\\n0                                         8.728571   \n1                                        44.728814   \n2                                        60.208333   \n3                                        47.131356   \n4                                       149.489362   \n..                                             ...   \n94                                     1611.600000   \n95                                     4800.000000   \n96                                     4861.000000   \n97                                     4014.000000   \n98                                    18664.062500   \n\n    Prestations familiales et sociales mensuelles moyennes (PFS)      Ri + PFS  \n0                                            1.648980                10.377551  \n1                                           42.796610                87.525424  \n2                                           86.941667               147.150000  \n3                                          134.745763               181.877119  \n4                                           84.581560               234.070922  \n..                                                ...                      ...  \n94                                        3159.800000              4771.400000  \n95                                           0.000000              4800.000000  \n96                                           0.000000              4861.000000  \n97                                         922.000000              4936.000000  \n98                                         781.195833             19445.258333  \n\n[99 rows x 5 columns]",
      "text/html": "<div>\n<style scoped>\n    .dataframe tbody tr th:only-of-type {\n        vertical-align: middle;\n    }\n\n    .dataframe tbody tr th {\n        vertical-align: top;\n    }\n\n    .dataframe thead th {\n        text-align: right;\n    }\n</style>\n<table border=\"1\" class=\"dataframe\">\n  <thead>\n    <tr style=\"text-align: right;\">\n      <th></th>\n      <th>Tranches de ressources mensuelles (RM)</th>\n      <th>RM Moyennes</th>\n      <th>Ressources imposables mensuelles moyennes (RI)</th>\n      <th>Prestations familiales et sociales mensuelles moyennes (PFS)</th>\n      <th>Ri + PFS</th>\n    </tr>\n  </thead>\n  <tbody>\n    <tr>\n      <th>0</th>\n      <td>0.0</td>\n      <td>1.844898</td>\n      <td>8.728571</td>\n      <td>1.648980</td>\n      <td>10.377551</td>\n    </tr>\n    <tr>\n      <th>1</th>\n      <td>50.0</td>\n      <td>78.186441</td>\n      <td>44.728814</td>\n      <td>42.796610</td>\n      <td>87.525424</td>\n    </tr>\n    <tr>\n      <th>2</th>\n      <td>100.0</td>\n      <td>118.508333</td>\n      <td>60.208333</td>\n      <td>86.941667</td>\n      <td>147.150000</td>\n    </tr>\n    <tr>\n      <th>3</th>\n      <td>150.0</td>\n      <td>176.809322</td>\n      <td>47.131356</td>\n      <td>134.745763</td>\n      <td>181.877119</td>\n    </tr>\n    <tr>\n      <th>4</th>\n      <td>200.0</td>\n      <td>218.787234</td>\n      <td>149.489362</td>\n      <td>84.581560</td>\n      <td>234.070922</td>\n    </tr>\n    <tr>\n      <th>...</th>\n      <td>...</td>\n      <td>...</td>\n      <td>...</td>\n      <td>...</td>\n      <td>...</td>\n    </tr>\n    <tr>\n      <th>94</th>\n      <td>4750.0</td>\n      <td>4771.400000</td>\n      <td>1611.600000</td>\n      <td>3159.800000</td>\n      <td>4771.400000</td>\n    </tr>\n    <tr>\n      <th>95</th>\n      <td>4800.0</td>\n      <td>4800.000000</td>\n      <td>4800.000000</td>\n      <td>0.000000</td>\n      <td>4800.000000</td>\n    </tr>\n    <tr>\n      <th>96</th>\n      <td>4850.0</td>\n      <td>4861.000000</td>\n      <td>4861.000000</td>\n      <td>0.000000</td>\n      <td>4861.000000</td>\n    </tr>\n    <tr>\n      <th>97</th>\n      <td>4900.0</td>\n      <td>4936.000000</td>\n      <td>4014.000000</td>\n      <td>922.000000</td>\n      <td>4936.000000</td>\n    </tr>\n    <tr>\n      <th>98</th>\n      <td>4950.0</td>\n      <td>19343.008333</td>\n      <td>18664.062500</td>\n      <td>781.195833</td>\n      <td>19445.258333</td>\n    </tr>\n  </tbody>\n</table>\n<p>99 rows × 5 columns</p>\n</div>"
     },
     "execution_count": 445,
     "metadata": {},
     "output_type": "execute_result"
    }
   ],
   "source": [
    "#bddbis.groupby(['Tranches de ressources mensuelles'])['Sales'].mean()\n",
    "x=bddbis.groupby('Tranches de ressources mensuelles (RM)').mean().reset_index()\n",
    "x"
   ],
   "metadata": {
    "collapsed": false,
    "pycharm": {
     "name": "#%%\n"
    }
   }
  },
  {
   "cell_type": "code",
   "execution_count": 446,
   "outputs": [
    {
     "data": {
      "text/plain": "     index  Tranches de ressources mensuelles (RM)\n0    800.0                                    5280\n1   1200.0                                    3785\n2    450.0                                    3773\n3   1300.0                                    3352\n4    900.0                                    3186\n..     ...                                     ...\n94  4800.0                                       2\n95  4900.0                                       2\n96  4450.0                                       2\n97  4600.0                                       2\n98  4850.0                                       1\n\n[99 rows x 2 columns]",
      "text/html": "<div>\n<style scoped>\n    .dataframe tbody tr th:only-of-type {\n        vertical-align: middle;\n    }\n\n    .dataframe tbody tr th {\n        vertical-align: top;\n    }\n\n    .dataframe thead th {\n        text-align: right;\n    }\n</style>\n<table border=\"1\" class=\"dataframe\">\n  <thead>\n    <tr style=\"text-align: right;\">\n      <th></th>\n      <th>index</th>\n      <th>Tranches de ressources mensuelles (RM)</th>\n    </tr>\n  </thead>\n  <tbody>\n    <tr>\n      <th>0</th>\n      <td>800.0</td>\n      <td>5280</td>\n    </tr>\n    <tr>\n      <th>1</th>\n      <td>1200.0</td>\n      <td>3785</td>\n    </tr>\n    <tr>\n      <th>2</th>\n      <td>450.0</td>\n      <td>3773</td>\n    </tr>\n    <tr>\n      <th>3</th>\n      <td>1300.0</td>\n      <td>3352</td>\n    </tr>\n    <tr>\n      <th>4</th>\n      <td>900.0</td>\n      <td>3186</td>\n    </tr>\n    <tr>\n      <th>...</th>\n      <td>...</td>\n      <td>...</td>\n    </tr>\n    <tr>\n      <th>94</th>\n      <td>4800.0</td>\n      <td>2</td>\n    </tr>\n    <tr>\n      <th>95</th>\n      <td>4900.0</td>\n      <td>2</td>\n    </tr>\n    <tr>\n      <th>96</th>\n      <td>4450.0</td>\n      <td>2</td>\n    </tr>\n    <tr>\n      <th>97</th>\n      <td>4600.0</td>\n      <td>2</td>\n    </tr>\n    <tr>\n      <th>98</th>\n      <td>4850.0</td>\n      <td>1</td>\n    </tr>\n  </tbody>\n</table>\n<p>99 rows × 2 columns</p>\n</div>"
     },
     "execution_count": 446,
     "metadata": {},
     "output_type": "execute_result"
    }
   ],
   "source": [
    "#x['Nombre de demandeurs'] = bddbis.groupby('Tranches de ressources mensuelles').count()\n",
    "y=bddbis['Tranches de ressources mensuelles (RM)'].value_counts()\n",
    "y=y.reset_index()\n",
    "y"
   ],
   "metadata": {
    "collapsed": false,
    "pycharm": {
     "name": "#%%\n"
    }
   }
  },
  {
   "cell_type": "code",
   "execution_count": 447,
   "outputs": [],
   "source": [
    "y=y.rename(columns={'index': 'Tranches de ressources mensuelles (RM)', \"Tranches de ressources mensuelles (RM)\": \"Nombre de demandeurs\"})"
   ],
   "metadata": {
    "collapsed": false,
    "pycharm": {
     "name": "#%%\n"
    }
   }
  },
  {
   "cell_type": "code",
   "execution_count": 448,
   "outputs": [
    {
     "data": {
      "text/plain": "    Tranches de ressources mensuelles (RM)  Nombre de demandeurs\n0                                    800.0                  5280\n1                                   1200.0                  3785\n2                                    450.0                  3773\n3                                   1300.0                  3352\n4                                    900.0                  3186\n..                                     ...                   ...\n94                                  4800.0                     2\n95                                  4900.0                     2\n96                                  4450.0                     2\n97                                  4600.0                     2\n98                                  4850.0                     1\n\n[99 rows x 2 columns]",
      "text/html": "<div>\n<style scoped>\n    .dataframe tbody tr th:only-of-type {\n        vertical-align: middle;\n    }\n\n    .dataframe tbody tr th {\n        vertical-align: top;\n    }\n\n    .dataframe thead th {\n        text-align: right;\n    }\n</style>\n<table border=\"1\" class=\"dataframe\">\n  <thead>\n    <tr style=\"text-align: right;\">\n      <th></th>\n      <th>Tranches de ressources mensuelles (RM)</th>\n      <th>Nombre de demandeurs</th>\n    </tr>\n  </thead>\n  <tbody>\n    <tr>\n      <th>0</th>\n      <td>800.0</td>\n      <td>5280</td>\n    </tr>\n    <tr>\n      <th>1</th>\n      <td>1200.0</td>\n      <td>3785</td>\n    </tr>\n    <tr>\n      <th>2</th>\n      <td>450.0</td>\n      <td>3773</td>\n    </tr>\n    <tr>\n      <th>3</th>\n      <td>1300.0</td>\n      <td>3352</td>\n    </tr>\n    <tr>\n      <th>4</th>\n      <td>900.0</td>\n      <td>3186</td>\n    </tr>\n    <tr>\n      <th>...</th>\n      <td>...</td>\n      <td>...</td>\n    </tr>\n    <tr>\n      <th>94</th>\n      <td>4800.0</td>\n      <td>2</td>\n    </tr>\n    <tr>\n      <th>95</th>\n      <td>4900.0</td>\n      <td>2</td>\n    </tr>\n    <tr>\n      <th>96</th>\n      <td>4450.0</td>\n      <td>2</td>\n    </tr>\n    <tr>\n      <th>97</th>\n      <td>4600.0</td>\n      <td>2</td>\n    </tr>\n    <tr>\n      <th>98</th>\n      <td>4850.0</td>\n      <td>1</td>\n    </tr>\n  </tbody>\n</table>\n<p>99 rows × 2 columns</p>\n</div>"
     },
     "execution_count": 448,
     "metadata": {},
     "output_type": "execute_result"
    }
   ],
   "source": [
    "y"
   ],
   "metadata": {
    "collapsed": false,
    "pycharm": {
     "name": "#%%\n"
    }
   }
  },
  {
   "cell_type": "code",
   "execution_count": 449,
   "outputs": [
    {
     "data": {
      "text/plain": "    Tranches de ressources mensuelles (RM)   RM Moyennes  \\\n0                                      0.0      1.844898   \n1                                     50.0     78.186441   \n2                                    100.0    118.508333   \n3                                    150.0    176.809322   \n4                                    200.0    218.787234   \n..                                     ...           ...   \n94                                  4750.0   4771.400000   \n95                                  4800.0   4800.000000   \n96                                  4850.0   4861.000000   \n97                                  4900.0   4936.000000   \n98                                  4950.0  19343.008333   \n\n    Ressources imposables mensuelles moyennes (RI)  \\\n0                                         8.728571   \n1                                        44.728814   \n2                                        60.208333   \n3                                        47.131356   \n4                                       149.489362   \n..                                             ...   \n94                                     1611.600000   \n95                                     4800.000000   \n96                                     4861.000000   \n97                                     4014.000000   \n98                                    18664.062500   \n\n    Prestations familiales et sociales mensuelles moyennes (PFS)  \\\n0                                            1.648980              \n1                                           42.796610              \n2                                           86.941667              \n3                                          134.745763              \n4                                           84.581560              \n..                                                ...              \n94                                        3159.800000              \n95                                           0.000000              \n96                                           0.000000              \n97                                         922.000000              \n98                                         781.195833              \n\n        Ri + PFS  Nombre de demandeurs  \n0      10.377551                   490  \n1      87.525424                    59  \n2     147.150000                   240  \n3     181.877119                   236  \n4     234.070922                   141  \n..           ...                   ...  \n94   4771.400000                     5  \n95   4800.000000                     2  \n96   4861.000000                     1  \n97   4936.000000                     2  \n98  19445.258333                   240  \n\n[99 rows x 6 columns]",
      "text/html": "<div>\n<style scoped>\n    .dataframe tbody tr th:only-of-type {\n        vertical-align: middle;\n    }\n\n    .dataframe tbody tr th {\n        vertical-align: top;\n    }\n\n    .dataframe thead th {\n        text-align: right;\n    }\n</style>\n<table border=\"1\" class=\"dataframe\">\n  <thead>\n    <tr style=\"text-align: right;\">\n      <th></th>\n      <th>Tranches de ressources mensuelles (RM)</th>\n      <th>RM Moyennes</th>\n      <th>Ressources imposables mensuelles moyennes (RI)</th>\n      <th>Prestations familiales et sociales mensuelles moyennes (PFS)</th>\n      <th>Ri + PFS</th>\n      <th>Nombre de demandeurs</th>\n    </tr>\n  </thead>\n  <tbody>\n    <tr>\n      <th>0</th>\n      <td>0.0</td>\n      <td>1.844898</td>\n      <td>8.728571</td>\n      <td>1.648980</td>\n      <td>10.377551</td>\n      <td>490</td>\n    </tr>\n    <tr>\n      <th>1</th>\n      <td>50.0</td>\n      <td>78.186441</td>\n      <td>44.728814</td>\n      <td>42.796610</td>\n      <td>87.525424</td>\n      <td>59</td>\n    </tr>\n    <tr>\n      <th>2</th>\n      <td>100.0</td>\n      <td>118.508333</td>\n      <td>60.208333</td>\n      <td>86.941667</td>\n      <td>147.150000</td>\n      <td>240</td>\n    </tr>\n    <tr>\n      <th>3</th>\n      <td>150.0</td>\n      <td>176.809322</td>\n      <td>47.131356</td>\n      <td>134.745763</td>\n      <td>181.877119</td>\n      <td>236</td>\n    </tr>\n    <tr>\n      <th>4</th>\n      <td>200.0</td>\n      <td>218.787234</td>\n      <td>149.489362</td>\n      <td>84.581560</td>\n      <td>234.070922</td>\n      <td>141</td>\n    </tr>\n    <tr>\n      <th>...</th>\n      <td>...</td>\n      <td>...</td>\n      <td>...</td>\n      <td>...</td>\n      <td>...</td>\n      <td>...</td>\n    </tr>\n    <tr>\n      <th>94</th>\n      <td>4750.0</td>\n      <td>4771.400000</td>\n      <td>1611.600000</td>\n      <td>3159.800000</td>\n      <td>4771.400000</td>\n      <td>5</td>\n    </tr>\n    <tr>\n      <th>95</th>\n      <td>4800.0</td>\n      <td>4800.000000</td>\n      <td>4800.000000</td>\n      <td>0.000000</td>\n      <td>4800.000000</td>\n      <td>2</td>\n    </tr>\n    <tr>\n      <th>96</th>\n      <td>4850.0</td>\n      <td>4861.000000</td>\n      <td>4861.000000</td>\n      <td>0.000000</td>\n      <td>4861.000000</td>\n      <td>1</td>\n    </tr>\n    <tr>\n      <th>97</th>\n      <td>4900.0</td>\n      <td>4936.000000</td>\n      <td>4014.000000</td>\n      <td>922.000000</td>\n      <td>4936.000000</td>\n      <td>2</td>\n    </tr>\n    <tr>\n      <th>98</th>\n      <td>4950.0</td>\n      <td>19343.008333</td>\n      <td>18664.062500</td>\n      <td>781.195833</td>\n      <td>19445.258333</td>\n      <td>240</td>\n    </tr>\n  </tbody>\n</table>\n<p>99 rows × 6 columns</p>\n</div>"
     },
     "execution_count": 449,
     "metadata": {},
     "output_type": "execute_result"
    }
   ],
   "source": [
    "final = x.merge(y, on='Tranches de ressources mensuelles (RM)', how='left')\n",
    "final"
   ],
   "metadata": {
    "collapsed": false,
    "pycharm": {
     "name": "#%%\n"
    }
   }
  },
  {
   "cell_type": "code",
   "execution_count": 450,
   "outputs": [],
   "source": [
    "final=final[['Tranches de ressources mensuelles (RM)', 'Nombre de demandeurs', 'RM Moyennes', 'Prestations familiales et sociales mensuelles moyennes (PFS)', 'Ressources imposables mensuelles moyennes (RI)', 'Ri + PFS']]"
   ],
   "metadata": {
    "collapsed": false,
    "pycharm": {
     "name": "#%%\n"
    }
   }
  },
  {
   "cell_type": "code",
   "execution_count": 451,
   "outputs": [
    {
     "data": {
      "text/plain": "    Tranches de ressources mensuelles (RM)  Nombre de demandeurs  \\\n0                                      0.0                   490   \n1                                     50.0                    59   \n2                                    100.0                   240   \n3                                    150.0                   236   \n4                                    200.0                   141   \n..                                     ...                   ...   \n94                                  4750.0                     5   \n95                                  4800.0                     2   \n96                                  4850.0                     1   \n97                                  4900.0                     2   \n98                                  4950.0                   240   \n\n     RM Moyennes  \\\n0       1.844898   \n1      78.186441   \n2     118.508333   \n3     176.809322   \n4     218.787234   \n..           ...   \n94   4771.400000   \n95   4800.000000   \n96   4861.000000   \n97   4936.000000   \n98  19343.008333   \n\n    Prestations familiales et sociales mensuelles moyennes (PFS)  \\\n0                                            1.648980              \n1                                           42.796610              \n2                                           86.941667              \n3                                          134.745763              \n4                                           84.581560              \n..                                                ...              \n94                                        3159.800000              \n95                                           0.000000              \n96                                           0.000000              \n97                                         922.000000              \n98                                         781.195833              \n\n    Ressources imposables mensuelles moyennes (RI)      Ri + PFS  \n0                                         8.728571     10.377551  \n1                                        44.728814     87.525424  \n2                                        60.208333    147.150000  \n3                                        47.131356    181.877119  \n4                                       149.489362    234.070922  \n..                                             ...           ...  \n94                                     1611.600000   4771.400000  \n95                                     4800.000000   4800.000000  \n96                                     4861.000000   4861.000000  \n97                                     4014.000000   4936.000000  \n98                                    18664.062500  19445.258333  \n\n[99 rows x 6 columns]",
      "text/html": "<div>\n<style scoped>\n    .dataframe tbody tr th:only-of-type {\n        vertical-align: middle;\n    }\n\n    .dataframe tbody tr th {\n        vertical-align: top;\n    }\n\n    .dataframe thead th {\n        text-align: right;\n    }\n</style>\n<table border=\"1\" class=\"dataframe\">\n  <thead>\n    <tr style=\"text-align: right;\">\n      <th></th>\n      <th>Tranches de ressources mensuelles (RM)</th>\n      <th>Nombre de demandeurs</th>\n      <th>RM Moyennes</th>\n      <th>Prestations familiales et sociales mensuelles moyennes (PFS)</th>\n      <th>Ressources imposables mensuelles moyennes (RI)</th>\n      <th>Ri + PFS</th>\n    </tr>\n  </thead>\n  <tbody>\n    <tr>\n      <th>0</th>\n      <td>0.0</td>\n      <td>490</td>\n      <td>1.844898</td>\n      <td>1.648980</td>\n      <td>8.728571</td>\n      <td>10.377551</td>\n    </tr>\n    <tr>\n      <th>1</th>\n      <td>50.0</td>\n      <td>59</td>\n      <td>78.186441</td>\n      <td>42.796610</td>\n      <td>44.728814</td>\n      <td>87.525424</td>\n    </tr>\n    <tr>\n      <th>2</th>\n      <td>100.0</td>\n      <td>240</td>\n      <td>118.508333</td>\n      <td>86.941667</td>\n      <td>60.208333</td>\n      <td>147.150000</td>\n    </tr>\n    <tr>\n      <th>3</th>\n      <td>150.0</td>\n      <td>236</td>\n      <td>176.809322</td>\n      <td>134.745763</td>\n      <td>47.131356</td>\n      <td>181.877119</td>\n    </tr>\n    <tr>\n      <th>4</th>\n      <td>200.0</td>\n      <td>141</td>\n      <td>218.787234</td>\n      <td>84.581560</td>\n      <td>149.489362</td>\n      <td>234.070922</td>\n    </tr>\n    <tr>\n      <th>...</th>\n      <td>...</td>\n      <td>...</td>\n      <td>...</td>\n      <td>...</td>\n      <td>...</td>\n      <td>...</td>\n    </tr>\n    <tr>\n      <th>94</th>\n      <td>4750.0</td>\n      <td>5</td>\n      <td>4771.400000</td>\n      <td>3159.800000</td>\n      <td>1611.600000</td>\n      <td>4771.400000</td>\n    </tr>\n    <tr>\n      <th>95</th>\n      <td>4800.0</td>\n      <td>2</td>\n      <td>4800.000000</td>\n      <td>0.000000</td>\n      <td>4800.000000</td>\n      <td>4800.000000</td>\n    </tr>\n    <tr>\n      <th>96</th>\n      <td>4850.0</td>\n      <td>1</td>\n      <td>4861.000000</td>\n      <td>0.000000</td>\n      <td>4861.000000</td>\n      <td>4861.000000</td>\n    </tr>\n    <tr>\n      <th>97</th>\n      <td>4900.0</td>\n      <td>2</td>\n      <td>4936.000000</td>\n      <td>922.000000</td>\n      <td>4014.000000</td>\n      <td>4936.000000</td>\n    </tr>\n    <tr>\n      <th>98</th>\n      <td>4950.0</td>\n      <td>240</td>\n      <td>19343.008333</td>\n      <td>781.195833</td>\n      <td>18664.062500</td>\n      <td>19445.258333</td>\n    </tr>\n  </tbody>\n</table>\n<p>99 rows × 6 columns</p>\n</div>"
     },
     "execution_count": 451,
     "metadata": {},
     "output_type": "execute_result"
    }
   ],
   "source": [
    "final=final.reset_index(drop=True)\n",
    "final"
   ],
   "metadata": {
    "collapsed": false,
    "pycharm": {
     "name": "#%%\n"
    }
   }
  },
  {
   "cell_type": "code",
   "execution_count": 452,
   "outputs": [],
   "source": [
    "#file_name = 'Analyse des ressources v4.xlsx'\n",
    "#final.to_excel(file_name)"
   ],
   "metadata": {
    "collapsed": false,
    "pycharm": {
     "name": "#%%\n"
    }
   }
  },
  {
   "cell_type": "markdown",
   "source": [
    "### Tableaux croisés RI / PFS"
   ],
   "metadata": {
    "collapsed": false,
    "pycharm": {
     "name": "#%% md\n"
    }
   }
  },
  {
   "cell_type": "code",
   "execution_count": 453,
   "outputs": [
    {
     "data": {
      "text/plain": "            Numéro Unique  RM Moyennes  \\\n0      001011403466511146       2134.0   \n1      0010117074877GDPUB        900.0   \n2      001021504965918214        944.0   \n3      0010217076033GDPUB       1200.0   \n4      001021707620301173       1200.0   \n...                   ...          ...   \n80874  9741117155529GDPUB        674.0   \n80875  974111715873511487       1725.0   \n80876  9741216133916GDPUB       2000.0   \n80877  9741216133920GDPUB        846.0   \n80878  9741217158325GDPUB         33.0   \n\n       Ressources imposables mensuelles moyennes (RI)  \\\n0                                              1710.0   \n1                                               200.0   \n2                                                 0.0   \n3                                              1200.0   \n4                                              1200.0   \n...                                               ...   \n80874                                             0.0   \n80875                                          1725.0   \n80876                                          2000.0   \n80877                                           846.0   \n80878                                            33.0   \n\n       Prestations familiales et sociales mensuelles moyennes (PFS)  Ri + PFS  \\\n0                                                  424.0               2134.0   \n1                                                  700.0                900.0   \n2                                                  944.0                944.0   \n3                                                    0.0               1200.0   \n4                                                    0.0               1200.0   \n...                                                  ...                  ...   \n80874                                              674.0                674.0   \n80875                                                0.0               1725.0   \n80876                                                0.0               2000.0   \n80877                                                0.0                846.0   \n80878                                                0.0                 33.0   \n\n       Tranches de ressources mensuelles (RM)  Tranches de RI  Tranches de PFS  \n0                                      2100.0          1700.0            400.0  \n1                                       900.0           150.0            650.0  \n2                                       900.0             NaN            900.0  \n3                                      1200.0          1150.0              NaN  \n4                                      1200.0          1150.0              NaN  \n...                                       ...             ...              ...  \n80874                                   650.0             NaN            650.0  \n80875                                  1700.0          1700.0              NaN  \n80876                                  2000.0          1950.0              NaN  \n80877                                   800.0           800.0              NaN  \n80878                                     0.0             0.0              NaN  \n\n[80879 rows x 8 columns]",
      "text/html": "<div>\n<style scoped>\n    .dataframe tbody tr th:only-of-type {\n        vertical-align: middle;\n    }\n\n    .dataframe tbody tr th {\n        vertical-align: top;\n    }\n\n    .dataframe thead th {\n        text-align: right;\n    }\n</style>\n<table border=\"1\" class=\"dataframe\">\n  <thead>\n    <tr style=\"text-align: right;\">\n      <th></th>\n      <th>Numéro Unique</th>\n      <th>RM Moyennes</th>\n      <th>Ressources imposables mensuelles moyennes (RI)</th>\n      <th>Prestations familiales et sociales mensuelles moyennes (PFS)</th>\n      <th>Ri + PFS</th>\n      <th>Tranches de ressources mensuelles (RM)</th>\n      <th>Tranches de RI</th>\n      <th>Tranches de PFS</th>\n    </tr>\n  </thead>\n  <tbody>\n    <tr>\n      <th>0</th>\n      <td>001011403466511146</td>\n      <td>2134.0</td>\n      <td>1710.0</td>\n      <td>424.0</td>\n      <td>2134.0</td>\n      <td>2100.0</td>\n      <td>1700.0</td>\n      <td>400.0</td>\n    </tr>\n    <tr>\n      <th>1</th>\n      <td>0010117074877GDPUB</td>\n      <td>900.0</td>\n      <td>200.0</td>\n      <td>700.0</td>\n      <td>900.0</td>\n      <td>900.0</td>\n      <td>150.0</td>\n      <td>650.0</td>\n    </tr>\n    <tr>\n      <th>2</th>\n      <td>001021504965918214</td>\n      <td>944.0</td>\n      <td>0.0</td>\n      <td>944.0</td>\n      <td>944.0</td>\n      <td>900.0</td>\n      <td>NaN</td>\n      <td>900.0</td>\n    </tr>\n    <tr>\n      <th>3</th>\n      <td>0010217076033GDPUB</td>\n      <td>1200.0</td>\n      <td>1200.0</td>\n      <td>0.0</td>\n      <td>1200.0</td>\n      <td>1200.0</td>\n      <td>1150.0</td>\n      <td>NaN</td>\n    </tr>\n    <tr>\n      <th>4</th>\n      <td>001021707620301173</td>\n      <td>1200.0</td>\n      <td>1200.0</td>\n      <td>0.0</td>\n      <td>1200.0</td>\n      <td>1200.0</td>\n      <td>1150.0</td>\n      <td>NaN</td>\n    </tr>\n    <tr>\n      <th>...</th>\n      <td>...</td>\n      <td>...</td>\n      <td>...</td>\n      <td>...</td>\n      <td>...</td>\n      <td>...</td>\n      <td>...</td>\n      <td>...</td>\n    </tr>\n    <tr>\n      <th>80874</th>\n      <td>9741117155529GDPUB</td>\n      <td>674.0</td>\n      <td>0.0</td>\n      <td>674.0</td>\n      <td>674.0</td>\n      <td>650.0</td>\n      <td>NaN</td>\n      <td>650.0</td>\n    </tr>\n    <tr>\n      <th>80875</th>\n      <td>974111715873511487</td>\n      <td>1725.0</td>\n      <td>1725.0</td>\n      <td>0.0</td>\n      <td>1725.0</td>\n      <td>1700.0</td>\n      <td>1700.0</td>\n      <td>NaN</td>\n    </tr>\n    <tr>\n      <th>80876</th>\n      <td>9741216133916GDPUB</td>\n      <td>2000.0</td>\n      <td>2000.0</td>\n      <td>0.0</td>\n      <td>2000.0</td>\n      <td>2000.0</td>\n      <td>1950.0</td>\n      <td>NaN</td>\n    </tr>\n    <tr>\n      <th>80877</th>\n      <td>9741216133920GDPUB</td>\n      <td>846.0</td>\n      <td>846.0</td>\n      <td>0.0</td>\n      <td>846.0</td>\n      <td>800.0</td>\n      <td>800.0</td>\n      <td>NaN</td>\n    </tr>\n    <tr>\n      <th>80878</th>\n      <td>9741217158325GDPUB</td>\n      <td>33.0</td>\n      <td>33.0</td>\n      <td>0.0</td>\n      <td>33.0</td>\n      <td>0.0</td>\n      <td>0.0</td>\n      <td>NaN</td>\n    </tr>\n  </tbody>\n</table>\n<p>80879 rows × 8 columns</p>\n</div>"
     },
     "execution_count": 453,
     "metadata": {},
     "output_type": "execute_result"
    }
   ],
   "source": [
    "bddbis['Tranches de RI']=0\n",
    "bddbis['Tranches de PFS']=0\n",
    "\n",
    "def decoupe2(rl):\n",
    "    for i in range(0, 2000, 50):\n",
    "        if i<rl and rl<=i+50:\n",
    "            return i\n",
    "        elif rl>2000:\n",
    "            return np.NaN\n",
    "        elif rl==0:\n",
    "            return np.NaN\n",
    "\n",
    "\n",
    "bddbis['Tranches de RI'] = bddbis['Ressources imposables mensuelles moyennes (RI)'].apply(decoupe2)\n",
    "bddbis['Tranches de PFS'] = bddbis['Prestations familiales et sociales mensuelles moyennes (PFS)'].apply(decoupe2)\n",
    "bddbis"
   ],
   "metadata": {
    "collapsed": false,
    "pycharm": {
     "name": "#%%\n"
    }
   }
  },
  {
   "cell_type": "code",
   "execution_count": 454,
   "outputs": [
    {
     "data": {
      "text/plain": "       Tranches de RI  Tranches de PFS\n0              1700.0            400.0\n1               150.0            650.0\n9               300.0            750.0\n11              450.0            700.0\n14              200.0            600.0\n...               ...              ...\n80864          1150.0            150.0\n80867          1550.0            100.0\n80868           350.0           1200.0\n80870           700.0            200.0\n80872           350.0           1550.0\n\n[21465 rows x 2 columns]",
      "text/html": "<div>\n<style scoped>\n    .dataframe tbody tr th:only-of-type {\n        vertical-align: middle;\n    }\n\n    .dataframe tbody tr th {\n        vertical-align: top;\n    }\n\n    .dataframe thead th {\n        text-align: right;\n    }\n</style>\n<table border=\"1\" class=\"dataframe\">\n  <thead>\n    <tr style=\"text-align: right;\">\n      <th></th>\n      <th>Tranches de RI</th>\n      <th>Tranches de PFS</th>\n    </tr>\n  </thead>\n  <tbody>\n    <tr>\n      <th>0</th>\n      <td>1700.0</td>\n      <td>400.0</td>\n    </tr>\n    <tr>\n      <th>1</th>\n      <td>150.0</td>\n      <td>650.0</td>\n    </tr>\n    <tr>\n      <th>9</th>\n      <td>300.0</td>\n      <td>750.0</td>\n    </tr>\n    <tr>\n      <th>11</th>\n      <td>450.0</td>\n      <td>700.0</td>\n    </tr>\n    <tr>\n      <th>14</th>\n      <td>200.0</td>\n      <td>600.0</td>\n    </tr>\n    <tr>\n      <th>...</th>\n      <td>...</td>\n      <td>...</td>\n    </tr>\n    <tr>\n      <th>80864</th>\n      <td>1150.0</td>\n      <td>150.0</td>\n    </tr>\n    <tr>\n      <th>80867</th>\n      <td>1550.0</td>\n      <td>100.0</td>\n    </tr>\n    <tr>\n      <th>80868</th>\n      <td>350.0</td>\n      <td>1200.0</td>\n    </tr>\n    <tr>\n      <th>80870</th>\n      <td>700.0</td>\n      <td>200.0</td>\n    </tr>\n    <tr>\n      <th>80872</th>\n      <td>350.0</td>\n      <td>1550.0</td>\n    </tr>\n  </tbody>\n</table>\n<p>21465 rows × 2 columns</p>\n</div>"
     },
     "execution_count": 454,
     "metadata": {},
     "output_type": "execute_result"
    }
   ],
   "source": [
    "tableau=bddbis[['Tranches de RI', 'Tranches de PFS']]\n",
    "tableau=tableau.dropna()\n",
    "tableau"
   ],
   "metadata": {
    "collapsed": false,
    "pycharm": {
     "name": "#%%\n"
    }
   }
  },
  {
   "cell_type": "code",
   "execution_count": 455,
   "outputs": [
    {
     "data": {
      "text/plain": "Tranches de PFS  0.0     50.0    100.0   150.0   200.0   250.0   300.0   \\\nTranches de RI                                                            \n0.0                   0       0       0       3       1       0       4   \n50.0                  0       2       2       1       4       5      12   \n100.0                 1       2       9      12       3       8      26   \n150.0                 0       7      10      13       8      15      17   \n200.0                 1       1       8      10       8      14      14   \n250.0                 2       4      19      24      11      11      20   \n300.0                 0       4      15      33      19       8      14   \n350.0                 3      18      15      29      14      11      72   \n400.0                 6       5      20       9       7      16      16   \n450.0                 6      10      41      41      23      36      47   \n500.0                 4      16      44      47      31      38      38   \n550.0                 4      21      44      52      39      27      34   \n600.0                 6      24      46      60      56      32      37   \n650.0                10      31     113      59      73      45      38   \n700.0                 8      39     127      64      54      39      45   \n750.0                18      35      87      92      34      26      60   \n800.0                11      19      92      86      34      33      46   \n850.0                11      33     108     117      43      34      53   \n900.0                15      30      97     112      40      30      46   \n950.0                13      39     130     110      34      40      76   \n1000.0               13      25      81      75      27      26      44   \n1050.0               10      37     140     121      31      42      71   \n1100.0               10      38     132     109      21      34      59   \n1150.0               17      83     200     194      38      60      88   \n1200.0               13      63     137     107      37      48      56   \n1250.0               23      60     190     124      43      47      66   \n1300.0               17      51     100      98      36      36      52   \n1350.0               30      56     186     126      35      42      53   \n1400.0                8      36     124      74      28      31      45   \n1450.0               20      50     180     101      32      52      59   \n1500.0               12      23      88      60      14      27      34   \n1550.0               13      44     147      79      23      24      56   \n1600.0                7      19     115      52      13      14      36   \n1650.0               10      18      91      62      21      21      35   \n1700.0                2      13      84      36       6      16      18   \n1750.0                0      11      99      47      13      11      29   \n1800.0                3      10      58      29       3       8      13   \n1850.0                1      17      71      30       7      10      17   \n1900.0                2      16      53      15      10      11       9   \n1950.0                2       9      67      38       5       9      22   \n\nTranches de PFS  350.0   400.0   450.0   ...  1500.0  1550.0  1600.0  1650.0  \\\nTranches de RI                           ...                                   \n0.0                   3      11      19  ...       3       0       1       1   \n50.0                 19      21      37  ...       4       2       0       2   \n100.0                26      23      39  ...       2       0       0       0   \n150.0                20      21      38  ...       2       4       3       0   \n200.0                19      25      38  ...       2       3       4       1   \n250.0                17      24      89  ...       4       0       3       0   \n300.0                18      23      47  ...       5       1       0       0   \n350.0                15      35      63  ...       0       1       2       1   \n400.0                30      18      36  ...       2       1       0       0   \n450.0                25      28      52  ...       1       3       3       2   \n500.0                33      22      35  ...       1       1       1       0   \n550.0                25      29      28  ...       2       2       0       0   \n600.0                31      28      31  ...       2       1       1       0   \n650.0                32      26      49  ...       0       1       1       0   \n700.0                33      21      42  ...       0       0       3       0   \n750.0                30      39      45  ...       0       1       0       0   \n800.0                24      27      53  ...       2       0       1       0   \n850.0                18      33      45  ...       1       0       1       1   \n900.0                24      22      34  ...       0       0       0       1   \n950.0                37      30      52  ...       0       0       1       0   \n1000.0               25      17      32  ...       0       0       0       0   \n1050.0               27      29      44  ...       1       0       1       0   \n1100.0                9      21      28  ...       1       1       2       0   \n1150.0               43      23      50  ...       1       0       1       0   \n1200.0               25      25      39  ...       0       0       0       0   \n1250.0               26      29      47  ...       1       0       1       1   \n1300.0               28      21      23  ...       0       0       0       0   \n1350.0               24      17      38  ...       1       1       1       0   \n1400.0               23      11      31  ...       0       0       1       0   \n1450.0               17      16      42  ...       2       1       0       0   \n1500.0               15       9      21  ...       0       0       0       1   \n1550.0               14      17      32  ...       0       1       0       0   \n1600.0                8       7      20  ...       0       0       0       0   \n1650.0               16       8      17  ...       0       0       0       0   \n1700.0                8       7      12  ...       0       0       0       1   \n1750.0               16       6      17  ...       1       0       0       0   \n1800.0                7       4      21  ...       0       0       0       0   \n1850.0                4       5      17  ...       0       0       0       0   \n1900.0                3       4      10  ...       0       0       0       0   \n1950.0                5       9       8  ...       0       0       0       0   \n\nTranches de PFS  1700.0  1750.0  1800.0  1850.0  1900.0  1950.0  \nTranches de RI                                                   \n0.0                   0       1       1       0       1       0  \n50.0                  0       0       0       0       0       0  \n100.0                 0       0       0       2       0       1  \n150.0                 1       3       1       1       1       0  \n200.0                 4       2       2       0       2       0  \n250.0                 1       2       0       0       0       1  \n300.0                 2       1       0       1       2       0  \n350.0                 1       2       1       0       0       0  \n400.0                 0       0       4       0       0       1  \n450.0                 1       0       0       1       0       0  \n500.0                 0       0       0       1       0       0  \n550.0                 0       0       2       0       0       0  \n600.0                 0       1       0       0       2       0  \n650.0                 0       1       1       0       1       1  \n700.0                 0       1       0       1       0       0  \n750.0                 0       0       0       0       0       0  \n800.0                 1       0       0       0       0       0  \n850.0                 0       0       1       1       0       0  \n900.0                 0       0       1       0       0       0  \n950.0                 1       0       0       0       0       0  \n1000.0                0       0       0       0       0       1  \n1050.0                0       0       0       0       0       0  \n1100.0                0       0       0       0       0       0  \n1150.0                0       0       0       0       0       1  \n1200.0                0       0       1       0       0       0  \n1250.0                0       0       0       0       1       0  \n1300.0                0       0       0       0       0       0  \n1350.0                0       1       0       0       0       0  \n1400.0                0       0       0       0       0       0  \n1450.0                0       1       1       0       0       0  \n1500.0                0       0       0       0       0       0  \n1550.0                0       0       0       0       0       0  \n1600.0                0       0       0       0       0       0  \n1650.0                0       0       0       0       0       0  \n1700.0                0       0       0       0       0       0  \n1750.0                0       0       0       0       0       0  \n1800.0                0       0       0       0       0       0  \n1850.0                0       0       0       0       1       0  \n1900.0                0       0       0       0       0       0  \n1950.0                0       0       0       0       0       1  \n\n[40 rows x 40 columns]",
      "text/html": "<div>\n<style scoped>\n    .dataframe tbody tr th:only-of-type {\n        vertical-align: middle;\n    }\n\n    .dataframe tbody tr th {\n        vertical-align: top;\n    }\n\n    .dataframe thead th {\n        text-align: right;\n    }\n</style>\n<table border=\"1\" class=\"dataframe\">\n  <thead>\n    <tr style=\"text-align: right;\">\n      <th>Tranches de PFS</th>\n      <th>0.0</th>\n      <th>50.0</th>\n      <th>100.0</th>\n      <th>150.0</th>\n      <th>200.0</th>\n      <th>250.0</th>\n      <th>300.0</th>\n      <th>350.0</th>\n      <th>400.0</th>\n      <th>450.0</th>\n      <th>...</th>\n      <th>1500.0</th>\n      <th>1550.0</th>\n      <th>1600.0</th>\n      <th>1650.0</th>\n      <th>1700.0</th>\n      <th>1750.0</th>\n      <th>1800.0</th>\n      <th>1850.0</th>\n      <th>1900.0</th>\n      <th>1950.0</th>\n    </tr>\n    <tr>\n      <th>Tranches de RI</th>\n      <th></th>\n      <th></th>\n      <th></th>\n      <th></th>\n      <th></th>\n      <th></th>\n      <th></th>\n      <th></th>\n      <th></th>\n      <th></th>\n      <th></th>\n      <th></th>\n      <th></th>\n      <th></th>\n      <th></th>\n      <th></th>\n      <th></th>\n      <th></th>\n      <th></th>\n      <th></th>\n      <th></th>\n    </tr>\n  </thead>\n  <tbody>\n    <tr>\n      <th>0.0</th>\n      <td>0</td>\n      <td>0</td>\n      <td>0</td>\n      <td>3</td>\n      <td>1</td>\n      <td>0</td>\n      <td>4</td>\n      <td>3</td>\n      <td>11</td>\n      <td>19</td>\n      <td>...</td>\n      <td>3</td>\n      <td>0</td>\n      <td>1</td>\n      <td>1</td>\n      <td>0</td>\n      <td>1</td>\n      <td>1</td>\n      <td>0</td>\n      <td>1</td>\n      <td>0</td>\n    </tr>\n    <tr>\n      <th>50.0</th>\n      <td>0</td>\n      <td>2</td>\n      <td>2</td>\n      <td>1</td>\n      <td>4</td>\n      <td>5</td>\n      <td>12</td>\n      <td>19</td>\n      <td>21</td>\n      <td>37</td>\n      <td>...</td>\n      <td>4</td>\n      <td>2</td>\n      <td>0</td>\n      <td>2</td>\n      <td>0</td>\n      <td>0</td>\n      <td>0</td>\n      <td>0</td>\n      <td>0</td>\n      <td>0</td>\n    </tr>\n    <tr>\n      <th>100.0</th>\n      <td>1</td>\n      <td>2</td>\n      <td>9</td>\n      <td>12</td>\n      <td>3</td>\n      <td>8</td>\n      <td>26</td>\n      <td>26</td>\n      <td>23</td>\n      <td>39</td>\n      <td>...</td>\n      <td>2</td>\n      <td>0</td>\n      <td>0</td>\n      <td>0</td>\n      <td>0</td>\n      <td>0</td>\n      <td>0</td>\n      <td>2</td>\n      <td>0</td>\n      <td>1</td>\n    </tr>\n    <tr>\n      <th>150.0</th>\n      <td>0</td>\n      <td>7</td>\n      <td>10</td>\n      <td>13</td>\n      <td>8</td>\n      <td>15</td>\n      <td>17</td>\n      <td>20</td>\n      <td>21</td>\n      <td>38</td>\n      <td>...</td>\n      <td>2</td>\n      <td>4</td>\n      <td>3</td>\n      <td>0</td>\n      <td>1</td>\n      <td>3</td>\n      <td>1</td>\n      <td>1</td>\n      <td>1</td>\n      <td>0</td>\n    </tr>\n    <tr>\n      <th>200.0</th>\n      <td>1</td>\n      <td>1</td>\n      <td>8</td>\n      <td>10</td>\n      <td>8</td>\n      <td>14</td>\n      <td>14</td>\n      <td>19</td>\n      <td>25</td>\n      <td>38</td>\n      <td>...</td>\n      <td>2</td>\n      <td>3</td>\n      <td>4</td>\n      <td>1</td>\n      <td>4</td>\n      <td>2</td>\n      <td>2</td>\n      <td>0</td>\n      <td>2</td>\n      <td>0</td>\n    </tr>\n    <tr>\n      <th>250.0</th>\n      <td>2</td>\n      <td>4</td>\n      <td>19</td>\n      <td>24</td>\n      <td>11</td>\n      <td>11</td>\n      <td>20</td>\n      <td>17</td>\n      <td>24</td>\n      <td>89</td>\n      <td>...</td>\n      <td>4</td>\n      <td>0</td>\n      <td>3</td>\n      <td>0</td>\n      <td>1</td>\n      <td>2</td>\n      <td>0</td>\n      <td>0</td>\n      <td>0</td>\n      <td>1</td>\n    </tr>\n    <tr>\n      <th>300.0</th>\n      <td>0</td>\n      <td>4</td>\n      <td>15</td>\n      <td>33</td>\n      <td>19</td>\n      <td>8</td>\n      <td>14</td>\n      <td>18</td>\n      <td>23</td>\n      <td>47</td>\n      <td>...</td>\n      <td>5</td>\n      <td>1</td>\n      <td>0</td>\n      <td>0</td>\n      <td>2</td>\n      <td>1</td>\n      <td>0</td>\n      <td>1</td>\n      <td>2</td>\n      <td>0</td>\n    </tr>\n    <tr>\n      <th>350.0</th>\n      <td>3</td>\n      <td>18</td>\n      <td>15</td>\n      <td>29</td>\n      <td>14</td>\n      <td>11</td>\n      <td>72</td>\n      <td>15</td>\n      <td>35</td>\n      <td>63</td>\n      <td>...</td>\n      <td>0</td>\n      <td>1</td>\n      <td>2</td>\n      <td>1</td>\n      <td>1</td>\n      <td>2</td>\n      <td>1</td>\n      <td>0</td>\n      <td>0</td>\n      <td>0</td>\n    </tr>\n    <tr>\n      <th>400.0</th>\n      <td>6</td>\n      <td>5</td>\n      <td>20</td>\n      <td>9</td>\n      <td>7</td>\n      <td>16</td>\n      <td>16</td>\n      <td>30</td>\n      <td>18</td>\n      <td>36</td>\n      <td>...</td>\n      <td>2</td>\n      <td>1</td>\n      <td>0</td>\n      <td>0</td>\n      <td>0</td>\n      <td>0</td>\n      <td>4</td>\n      <td>0</td>\n      <td>0</td>\n      <td>1</td>\n    </tr>\n    <tr>\n      <th>450.0</th>\n      <td>6</td>\n      <td>10</td>\n      <td>41</td>\n      <td>41</td>\n      <td>23</td>\n      <td>36</td>\n      <td>47</td>\n      <td>25</td>\n      <td>28</td>\n      <td>52</td>\n      <td>...</td>\n      <td>1</td>\n      <td>3</td>\n      <td>3</td>\n      <td>2</td>\n      <td>1</td>\n      <td>0</td>\n      <td>0</td>\n      <td>1</td>\n      <td>0</td>\n      <td>0</td>\n    </tr>\n    <tr>\n      <th>500.0</th>\n      <td>4</td>\n      <td>16</td>\n      <td>44</td>\n      <td>47</td>\n      <td>31</td>\n      <td>38</td>\n      <td>38</td>\n      <td>33</td>\n      <td>22</td>\n      <td>35</td>\n      <td>...</td>\n      <td>1</td>\n      <td>1</td>\n      <td>1</td>\n      <td>0</td>\n      <td>0</td>\n      <td>0</td>\n      <td>0</td>\n      <td>1</td>\n      <td>0</td>\n      <td>0</td>\n    </tr>\n    <tr>\n      <th>550.0</th>\n      <td>4</td>\n      <td>21</td>\n      <td>44</td>\n      <td>52</td>\n      <td>39</td>\n      <td>27</td>\n      <td>34</td>\n      <td>25</td>\n      <td>29</td>\n      <td>28</td>\n      <td>...</td>\n      <td>2</td>\n      <td>2</td>\n      <td>0</td>\n      <td>0</td>\n      <td>0</td>\n      <td>0</td>\n      <td>2</td>\n      <td>0</td>\n      <td>0</td>\n      <td>0</td>\n    </tr>\n    <tr>\n      <th>600.0</th>\n      <td>6</td>\n      <td>24</td>\n      <td>46</td>\n      <td>60</td>\n      <td>56</td>\n      <td>32</td>\n      <td>37</td>\n      <td>31</td>\n      <td>28</td>\n      <td>31</td>\n      <td>...</td>\n      <td>2</td>\n      <td>1</td>\n      <td>1</td>\n      <td>0</td>\n      <td>0</td>\n      <td>1</td>\n      <td>0</td>\n      <td>0</td>\n      <td>2</td>\n      <td>0</td>\n    </tr>\n    <tr>\n      <th>650.0</th>\n      <td>10</td>\n      <td>31</td>\n      <td>113</td>\n      <td>59</td>\n      <td>73</td>\n      <td>45</td>\n      <td>38</td>\n      <td>32</td>\n      <td>26</td>\n      <td>49</td>\n      <td>...</td>\n      <td>0</td>\n      <td>1</td>\n      <td>1</td>\n      <td>0</td>\n      <td>0</td>\n      <td>1</td>\n      <td>1</td>\n      <td>0</td>\n      <td>1</td>\n      <td>1</td>\n    </tr>\n    <tr>\n      <th>700.0</th>\n      <td>8</td>\n      <td>39</td>\n      <td>127</td>\n      <td>64</td>\n      <td>54</td>\n      <td>39</td>\n      <td>45</td>\n      <td>33</td>\n      <td>21</td>\n      <td>42</td>\n      <td>...</td>\n      <td>0</td>\n      <td>0</td>\n      <td>3</td>\n      <td>0</td>\n      <td>0</td>\n      <td>1</td>\n      <td>0</td>\n      <td>1</td>\n      <td>0</td>\n      <td>0</td>\n    </tr>\n    <tr>\n      <th>750.0</th>\n      <td>18</td>\n      <td>35</td>\n      <td>87</td>\n      <td>92</td>\n      <td>34</td>\n      <td>26</td>\n      <td>60</td>\n      <td>30</td>\n      <td>39</td>\n      <td>45</td>\n      <td>...</td>\n      <td>0</td>\n      <td>1</td>\n      <td>0</td>\n      <td>0</td>\n      <td>0</td>\n      <td>0</td>\n      <td>0</td>\n      <td>0</td>\n      <td>0</td>\n      <td>0</td>\n    </tr>\n    <tr>\n      <th>800.0</th>\n      <td>11</td>\n      <td>19</td>\n      <td>92</td>\n      <td>86</td>\n      <td>34</td>\n      <td>33</td>\n      <td>46</td>\n      <td>24</td>\n      <td>27</td>\n      <td>53</td>\n      <td>...</td>\n      <td>2</td>\n      <td>0</td>\n      <td>1</td>\n      <td>0</td>\n      <td>1</td>\n      <td>0</td>\n      <td>0</td>\n      <td>0</td>\n      <td>0</td>\n      <td>0</td>\n    </tr>\n    <tr>\n      <th>850.0</th>\n      <td>11</td>\n      <td>33</td>\n      <td>108</td>\n      <td>117</td>\n      <td>43</td>\n      <td>34</td>\n      <td>53</td>\n      <td>18</td>\n      <td>33</td>\n      <td>45</td>\n      <td>...</td>\n      <td>1</td>\n      <td>0</td>\n      <td>1</td>\n      <td>1</td>\n      <td>0</td>\n      <td>0</td>\n      <td>1</td>\n      <td>1</td>\n      <td>0</td>\n      <td>0</td>\n    </tr>\n    <tr>\n      <th>900.0</th>\n      <td>15</td>\n      <td>30</td>\n      <td>97</td>\n      <td>112</td>\n      <td>40</td>\n      <td>30</td>\n      <td>46</td>\n      <td>24</td>\n      <td>22</td>\n      <td>34</td>\n      <td>...</td>\n      <td>0</td>\n      <td>0</td>\n      <td>0</td>\n      <td>1</td>\n      <td>0</td>\n      <td>0</td>\n      <td>1</td>\n      <td>0</td>\n      <td>0</td>\n      <td>0</td>\n    </tr>\n    <tr>\n      <th>950.0</th>\n      <td>13</td>\n      <td>39</td>\n      <td>130</td>\n      <td>110</td>\n      <td>34</td>\n      <td>40</td>\n      <td>76</td>\n      <td>37</td>\n      <td>30</td>\n      <td>52</td>\n      <td>...</td>\n      <td>0</td>\n      <td>0</td>\n      <td>1</td>\n      <td>0</td>\n      <td>1</td>\n      <td>0</td>\n      <td>0</td>\n      <td>0</td>\n      <td>0</td>\n      <td>0</td>\n    </tr>\n    <tr>\n      <th>1000.0</th>\n      <td>13</td>\n      <td>25</td>\n      <td>81</td>\n      <td>75</td>\n      <td>27</td>\n      <td>26</td>\n      <td>44</td>\n      <td>25</td>\n      <td>17</td>\n      <td>32</td>\n      <td>...</td>\n      <td>0</td>\n      <td>0</td>\n      <td>0</td>\n      <td>0</td>\n      <td>0</td>\n      <td>0</td>\n      <td>0</td>\n      <td>0</td>\n      <td>0</td>\n      <td>1</td>\n    </tr>\n    <tr>\n      <th>1050.0</th>\n      <td>10</td>\n      <td>37</td>\n      <td>140</td>\n      <td>121</td>\n      <td>31</td>\n      <td>42</td>\n      <td>71</td>\n      <td>27</td>\n      <td>29</td>\n      <td>44</td>\n      <td>...</td>\n      <td>1</td>\n      <td>0</td>\n      <td>1</td>\n      <td>0</td>\n      <td>0</td>\n      <td>0</td>\n      <td>0</td>\n      <td>0</td>\n      <td>0</td>\n      <td>0</td>\n    </tr>\n    <tr>\n      <th>1100.0</th>\n      <td>10</td>\n      <td>38</td>\n      <td>132</td>\n      <td>109</td>\n      <td>21</td>\n      <td>34</td>\n      <td>59</td>\n      <td>9</td>\n      <td>21</td>\n      <td>28</td>\n      <td>...</td>\n      <td>1</td>\n      <td>1</td>\n      <td>2</td>\n      <td>0</td>\n      <td>0</td>\n      <td>0</td>\n      <td>0</td>\n      <td>0</td>\n      <td>0</td>\n      <td>0</td>\n    </tr>\n    <tr>\n      <th>1150.0</th>\n      <td>17</td>\n      <td>83</td>\n      <td>200</td>\n      <td>194</td>\n      <td>38</td>\n      <td>60</td>\n      <td>88</td>\n      <td>43</td>\n      <td>23</td>\n      <td>50</td>\n      <td>...</td>\n      <td>1</td>\n      <td>0</td>\n      <td>1</td>\n      <td>0</td>\n      <td>0</td>\n      <td>0</td>\n      <td>0</td>\n      <td>0</td>\n      <td>0</td>\n      <td>1</td>\n    </tr>\n    <tr>\n      <th>1200.0</th>\n      <td>13</td>\n      <td>63</td>\n      <td>137</td>\n      <td>107</td>\n      <td>37</td>\n      <td>48</td>\n      <td>56</td>\n      <td>25</td>\n      <td>25</td>\n      <td>39</td>\n      <td>...</td>\n      <td>0</td>\n      <td>0</td>\n      <td>0</td>\n      <td>0</td>\n      <td>0</td>\n      <td>0</td>\n      <td>1</td>\n      <td>0</td>\n      <td>0</td>\n      <td>0</td>\n    </tr>\n    <tr>\n      <th>1250.0</th>\n      <td>23</td>\n      <td>60</td>\n      <td>190</td>\n      <td>124</td>\n      <td>43</td>\n      <td>47</td>\n      <td>66</td>\n      <td>26</td>\n      <td>29</td>\n      <td>47</td>\n      <td>...</td>\n      <td>1</td>\n      <td>0</td>\n      <td>1</td>\n      <td>1</td>\n      <td>0</td>\n      <td>0</td>\n      <td>0</td>\n      <td>0</td>\n      <td>1</td>\n      <td>0</td>\n    </tr>\n    <tr>\n      <th>1300.0</th>\n      <td>17</td>\n      <td>51</td>\n      <td>100</td>\n      <td>98</td>\n      <td>36</td>\n      <td>36</td>\n      <td>52</td>\n      <td>28</td>\n      <td>21</td>\n      <td>23</td>\n      <td>...</td>\n      <td>0</td>\n      <td>0</td>\n      <td>0</td>\n      <td>0</td>\n      <td>0</td>\n      <td>0</td>\n      <td>0</td>\n      <td>0</td>\n      <td>0</td>\n      <td>0</td>\n    </tr>\n    <tr>\n      <th>1350.0</th>\n      <td>30</td>\n      <td>56</td>\n      <td>186</td>\n      <td>126</td>\n      <td>35</td>\n      <td>42</td>\n      <td>53</td>\n      <td>24</td>\n      <td>17</td>\n      <td>38</td>\n      <td>...</td>\n      <td>1</td>\n      <td>1</td>\n      <td>1</td>\n      <td>0</td>\n      <td>0</td>\n      <td>1</td>\n      <td>0</td>\n      <td>0</td>\n      <td>0</td>\n      <td>0</td>\n    </tr>\n    <tr>\n      <th>1400.0</th>\n      <td>8</td>\n      <td>36</td>\n      <td>124</td>\n      <td>74</td>\n      <td>28</td>\n      <td>31</td>\n      <td>45</td>\n      <td>23</td>\n      <td>11</td>\n      <td>31</td>\n      <td>...</td>\n      <td>0</td>\n      <td>0</td>\n      <td>1</td>\n      <td>0</td>\n      <td>0</td>\n      <td>0</td>\n      <td>0</td>\n      <td>0</td>\n      <td>0</td>\n      <td>0</td>\n    </tr>\n    <tr>\n      <th>1450.0</th>\n      <td>20</td>\n      <td>50</td>\n      <td>180</td>\n      <td>101</td>\n      <td>32</td>\n      <td>52</td>\n      <td>59</td>\n      <td>17</td>\n      <td>16</td>\n      <td>42</td>\n      <td>...</td>\n      <td>2</td>\n      <td>1</td>\n      <td>0</td>\n      <td>0</td>\n      <td>0</td>\n      <td>1</td>\n      <td>1</td>\n      <td>0</td>\n      <td>0</td>\n      <td>0</td>\n    </tr>\n    <tr>\n      <th>1500.0</th>\n      <td>12</td>\n      <td>23</td>\n      <td>88</td>\n      <td>60</td>\n      <td>14</td>\n      <td>27</td>\n      <td>34</td>\n      <td>15</td>\n      <td>9</td>\n      <td>21</td>\n      <td>...</td>\n      <td>0</td>\n      <td>0</td>\n      <td>0</td>\n      <td>1</td>\n      <td>0</td>\n      <td>0</td>\n      <td>0</td>\n      <td>0</td>\n      <td>0</td>\n      <td>0</td>\n    </tr>\n    <tr>\n      <th>1550.0</th>\n      <td>13</td>\n      <td>44</td>\n      <td>147</td>\n      <td>79</td>\n      <td>23</td>\n      <td>24</td>\n      <td>56</td>\n      <td>14</td>\n      <td>17</td>\n      <td>32</td>\n      <td>...</td>\n      <td>0</td>\n      <td>1</td>\n      <td>0</td>\n      <td>0</td>\n      <td>0</td>\n      <td>0</td>\n      <td>0</td>\n      <td>0</td>\n      <td>0</td>\n      <td>0</td>\n    </tr>\n    <tr>\n      <th>1600.0</th>\n      <td>7</td>\n      <td>19</td>\n      <td>115</td>\n      <td>52</td>\n      <td>13</td>\n      <td>14</td>\n      <td>36</td>\n      <td>8</td>\n      <td>7</td>\n      <td>20</td>\n      <td>...</td>\n      <td>0</td>\n      <td>0</td>\n      <td>0</td>\n      <td>0</td>\n      <td>0</td>\n      <td>0</td>\n      <td>0</td>\n      <td>0</td>\n      <td>0</td>\n      <td>0</td>\n    </tr>\n    <tr>\n      <th>1650.0</th>\n      <td>10</td>\n      <td>18</td>\n      <td>91</td>\n      <td>62</td>\n      <td>21</td>\n      <td>21</td>\n      <td>35</td>\n      <td>16</td>\n      <td>8</td>\n      <td>17</td>\n      <td>...</td>\n      <td>0</td>\n      <td>0</td>\n      <td>0</td>\n      <td>0</td>\n      <td>0</td>\n      <td>0</td>\n      <td>0</td>\n      <td>0</td>\n      <td>0</td>\n      <td>0</td>\n    </tr>\n    <tr>\n      <th>1700.0</th>\n      <td>2</td>\n      <td>13</td>\n      <td>84</td>\n      <td>36</td>\n      <td>6</td>\n      <td>16</td>\n      <td>18</td>\n      <td>8</td>\n      <td>7</td>\n      <td>12</td>\n      <td>...</td>\n      <td>0</td>\n      <td>0</td>\n      <td>0</td>\n      <td>1</td>\n      <td>0</td>\n      <td>0</td>\n      <td>0</td>\n      <td>0</td>\n      <td>0</td>\n      <td>0</td>\n    </tr>\n    <tr>\n      <th>1750.0</th>\n      <td>0</td>\n      <td>11</td>\n      <td>99</td>\n      <td>47</td>\n      <td>13</td>\n      <td>11</td>\n      <td>29</td>\n      <td>16</td>\n      <td>6</td>\n      <td>17</td>\n      <td>...</td>\n      <td>1</td>\n      <td>0</td>\n      <td>0</td>\n      <td>0</td>\n      <td>0</td>\n      <td>0</td>\n      <td>0</td>\n      <td>0</td>\n      <td>0</td>\n      <td>0</td>\n    </tr>\n    <tr>\n      <th>1800.0</th>\n      <td>3</td>\n      <td>10</td>\n      <td>58</td>\n      <td>29</td>\n      <td>3</td>\n      <td>8</td>\n      <td>13</td>\n      <td>7</td>\n      <td>4</td>\n      <td>21</td>\n      <td>...</td>\n      <td>0</td>\n      <td>0</td>\n      <td>0</td>\n      <td>0</td>\n      <td>0</td>\n      <td>0</td>\n      <td>0</td>\n      <td>0</td>\n      <td>0</td>\n      <td>0</td>\n    </tr>\n    <tr>\n      <th>1850.0</th>\n      <td>1</td>\n      <td>17</td>\n      <td>71</td>\n      <td>30</td>\n      <td>7</td>\n      <td>10</td>\n      <td>17</td>\n      <td>4</td>\n      <td>5</td>\n      <td>17</td>\n      <td>...</td>\n      <td>0</td>\n      <td>0</td>\n      <td>0</td>\n      <td>0</td>\n      <td>0</td>\n      <td>0</td>\n      <td>0</td>\n      <td>0</td>\n      <td>1</td>\n      <td>0</td>\n    </tr>\n    <tr>\n      <th>1900.0</th>\n      <td>2</td>\n      <td>16</td>\n      <td>53</td>\n      <td>15</td>\n      <td>10</td>\n      <td>11</td>\n      <td>9</td>\n      <td>3</td>\n      <td>4</td>\n      <td>10</td>\n      <td>...</td>\n      <td>0</td>\n      <td>0</td>\n      <td>0</td>\n      <td>0</td>\n      <td>0</td>\n      <td>0</td>\n      <td>0</td>\n      <td>0</td>\n      <td>0</td>\n      <td>0</td>\n    </tr>\n    <tr>\n      <th>1950.0</th>\n      <td>2</td>\n      <td>9</td>\n      <td>67</td>\n      <td>38</td>\n      <td>5</td>\n      <td>9</td>\n      <td>22</td>\n      <td>5</td>\n      <td>9</td>\n      <td>8</td>\n      <td>...</td>\n      <td>0</td>\n      <td>0</td>\n      <td>0</td>\n      <td>0</td>\n      <td>0</td>\n      <td>0</td>\n      <td>0</td>\n      <td>0</td>\n      <td>0</td>\n      <td>1</td>\n    </tr>\n  </tbody>\n</table>\n<p>40 rows × 40 columns</p>\n</div>"
     },
     "execution_count": 455,
     "metadata": {},
     "output_type": "execute_result"
    }
   ],
   "source": [
    "#bddbis.pivot_table(index=\"Trancges de RI\", columns=\"Tranches de PFS\", values=\"value\", aggfunc=\"sum\")\n",
    "z=bddbis.pivot_table(index=\"Tranches de RI\", columns=\"Tranches de PFS\", values=\"Numéro Unique\",  aggfunc=\"size\", fill_value=0)\n",
    "z"
   ],
   "metadata": {
    "collapsed": false,
    "pycharm": {
     "name": "#%%\n"
    }
   }
  },
  {
   "cell_type": "code",
   "execution_count": 456,
   "outputs": [],
   "source": [
    "#file_name = 'Tableau croisé non nul v2.xlsx'\n",
    "#z.to_excel(file_name)"
   ],
   "metadata": {
    "collapsed": false,
    "pycharm": {
     "name": "#%%\n"
    }
   }
  },
  {
   "cell_type": "code",
   "execution_count": 457,
   "outputs": [
    {
     "data": {
      "text/plain": "            Numéro Unique  RM Moyennes  \\\n1133   0240217028221GDPUB       1007.0   \n1150   024021702824711014         10.0   \n1152   0240217028249GDPUB       1230.0   \n1431   0240317028612GDPUB         50.0   \n1949   0240517029256GDPUB       1083.0   \n...                   ...          ...   \n79502  0660816043646GDPUB        784.0   \n79554  067101700169411800       1345.0   \n79931  085011700026310869       1007.0   \n80048  0900117023147GDPUB          1.0   \n80873  974091715322011487       2121.0   \n\n       Ressources imposables mensuelles moyennes (RI)  \\\n1133                                            978.0   \n1150                                              0.0   \n1152                                           1200.0   \n1431                                              0.0   \n1949                                           1061.0   \n...                                               ...   \n79502                                           734.0   \n79554                                          1322.0   \n79931                                           977.0   \n80048                                             0.0   \n80873                                          2083.0   \n\n       Prestations familiales et sociales mensuelles moyennes (PFS)  Ri + PFS  \\\n1133                                                29.0               1007.0   \n1150                                                10.0                 10.0   \n1152                                                30.0               1230.0   \n1431                                                50.0                 50.0   \n1949                                                22.0               1083.0   \n...                                                  ...                  ...   \n79502                                               50.0                784.0   \n79554                                               23.0               1345.0   \n79931                                               30.0               1007.0   \n80048                                                1.0                  1.0   \n80873                                               38.0               2121.0   \n\n       Tranches de ressources mensuelles (RM)  Tranches de RI  Tranches de PFS  \n1133                                   1000.0           950.0              0.0  \n1150                                      0.0             NaN              0.0  \n1152                                   1200.0          1150.0              0.0  \n1431                                     50.0             NaN              0.0  \n1949                                   1050.0          1050.0              0.0  \n...                                       ...             ...              ...  \n79502                                   750.0           700.0              0.0  \n79554                                  1300.0          1300.0              0.0  \n79931                                  1000.0           950.0              0.0  \n80048                                     0.0             NaN              0.0  \n80873                                  2100.0             NaN              0.0  \n\n[398 rows x 8 columns]",
      "text/html": "<div>\n<style scoped>\n    .dataframe tbody tr th:only-of-type {\n        vertical-align: middle;\n    }\n\n    .dataframe tbody tr th {\n        vertical-align: top;\n    }\n\n    .dataframe thead th {\n        text-align: right;\n    }\n</style>\n<table border=\"1\" class=\"dataframe\">\n  <thead>\n    <tr style=\"text-align: right;\">\n      <th></th>\n      <th>Numéro Unique</th>\n      <th>RM Moyennes</th>\n      <th>Ressources imposables mensuelles moyennes (RI)</th>\n      <th>Prestations familiales et sociales mensuelles moyennes (PFS)</th>\n      <th>Ri + PFS</th>\n      <th>Tranches de ressources mensuelles (RM)</th>\n      <th>Tranches de RI</th>\n      <th>Tranches de PFS</th>\n    </tr>\n  </thead>\n  <tbody>\n    <tr>\n      <th>1133</th>\n      <td>0240217028221GDPUB</td>\n      <td>1007.0</td>\n      <td>978.0</td>\n      <td>29.0</td>\n      <td>1007.0</td>\n      <td>1000.0</td>\n      <td>950.0</td>\n      <td>0.0</td>\n    </tr>\n    <tr>\n      <th>1150</th>\n      <td>024021702824711014</td>\n      <td>10.0</td>\n      <td>0.0</td>\n      <td>10.0</td>\n      <td>10.0</td>\n      <td>0.0</td>\n      <td>NaN</td>\n      <td>0.0</td>\n    </tr>\n    <tr>\n      <th>1152</th>\n      <td>0240217028249GDPUB</td>\n      <td>1230.0</td>\n      <td>1200.0</td>\n      <td>30.0</td>\n      <td>1230.0</td>\n      <td>1200.0</td>\n      <td>1150.0</td>\n      <td>0.0</td>\n    </tr>\n    <tr>\n      <th>1431</th>\n      <td>0240317028612GDPUB</td>\n      <td>50.0</td>\n      <td>0.0</td>\n      <td>50.0</td>\n      <td>50.0</td>\n      <td>50.0</td>\n      <td>NaN</td>\n      <td>0.0</td>\n    </tr>\n    <tr>\n      <th>1949</th>\n      <td>0240517029256GDPUB</td>\n      <td>1083.0</td>\n      <td>1061.0</td>\n      <td>22.0</td>\n      <td>1083.0</td>\n      <td>1050.0</td>\n      <td>1050.0</td>\n      <td>0.0</td>\n    </tr>\n    <tr>\n      <th>...</th>\n      <td>...</td>\n      <td>...</td>\n      <td>...</td>\n      <td>...</td>\n      <td>...</td>\n      <td>...</td>\n      <td>...</td>\n      <td>...</td>\n    </tr>\n    <tr>\n      <th>79502</th>\n      <td>0660816043646GDPUB</td>\n      <td>784.0</td>\n      <td>734.0</td>\n      <td>50.0</td>\n      <td>784.0</td>\n      <td>750.0</td>\n      <td>700.0</td>\n      <td>0.0</td>\n    </tr>\n    <tr>\n      <th>79554</th>\n      <td>067101700169411800</td>\n      <td>1345.0</td>\n      <td>1322.0</td>\n      <td>23.0</td>\n      <td>1345.0</td>\n      <td>1300.0</td>\n      <td>1300.0</td>\n      <td>0.0</td>\n    </tr>\n    <tr>\n      <th>79931</th>\n      <td>085011700026310869</td>\n      <td>1007.0</td>\n      <td>977.0</td>\n      <td>30.0</td>\n      <td>1007.0</td>\n      <td>1000.0</td>\n      <td>950.0</td>\n      <td>0.0</td>\n    </tr>\n    <tr>\n      <th>80048</th>\n      <td>0900117023147GDPUB</td>\n      <td>1.0</td>\n      <td>0.0</td>\n      <td>1.0</td>\n      <td>1.0</td>\n      <td>0.0</td>\n      <td>NaN</td>\n      <td>0.0</td>\n    </tr>\n    <tr>\n      <th>80873</th>\n      <td>974091715322011487</td>\n      <td>2121.0</td>\n      <td>2083.0</td>\n      <td>38.0</td>\n      <td>2121.0</td>\n      <td>2100.0</td>\n      <td>NaN</td>\n      <td>0.0</td>\n    </tr>\n  </tbody>\n</table>\n<p>398 rows × 8 columns</p>\n</div>"
     },
     "execution_count": 457,
     "metadata": {},
     "output_type": "execute_result"
    }
   ],
   "source": [
    "bddbis[bddbis['Tranches de PFS']==0]"
   ],
   "metadata": {
    "collapsed": false,
    "pycharm": {
     "name": "#%%\n"
    }
   }
  },
  {
   "cell_type": "code",
   "execution_count": 458,
   "outputs": [
    {
     "data": {
      "text/plain": "Tranches de RI\n0.0        160\n50.0       459\n100.0     1124\n150.0      684\n200.0      654\n250.0      607\n300.0      436\n350.0      603\n400.0      385\n450.0      647\n500.0      522\n550.0      512\n600.0      530\n650.0      691\n700.0      622\n750.0      661\n800.0      559\n850.0      667\n900.0      568\n950.0      721\n1000.0     464\n1050.0     690\n1100.0     567\n1150.0     975\n1200.0     644\n1250.0     801\n1300.0     562\n1350.0     728\n1400.0     481\n1450.0     705\n1500.0     384\n1550.0     553\n1600.0     355\n1650.0     362\n1700.0     275\n1750.0     320\n1800.0     185\n1850.0     218\n1900.0     166\n1950.0     218\nName: Tranches de PFS, dtype: int64"
     },
     "execution_count": 458,
     "metadata": {},
     "output_type": "execute_result"
    }
   ],
   "source": [
    "shrank = tableau.groupby(by='Tranches de RI').count()['Tranches de PFS']\n",
    "shrank"
   ],
   "metadata": {
    "collapsed": false,
    "pycharm": {
     "name": "#%%\n"
    }
   }
  },
  {
   "cell_type": "code",
   "execution_count": 459,
   "outputs": [],
   "source": [
    "import plotly.graph_objects as go"
   ],
   "metadata": {
    "collapsed": false,
    "pycharm": {
     "name": "#%%\n"
    }
   }
  },
  {
   "cell_type": "code",
   "execution_count": 460,
   "outputs": [
    {
     "data": {
      "application/vnd.plotly.v1+json": {
       "data": [
        {
         "x": [
          0.0,
          50.0,
          100.0,
          150.0,
          200.0,
          250.0,
          300.0,
          350.0,
          400.0,
          450.0,
          500.0,
          550.0,
          600.0,
          650.0,
          700.0,
          750.0,
          800.0,
          850.0,
          900.0,
          950.0,
          1000.0,
          1050.0,
          1100.0,
          1150.0,
          1200.0,
          1250.0,
          1300.0,
          1350.0,
          1400.0,
          1450.0,
          1500.0,
          1550.0,
          1600.0,
          1650.0,
          1700.0,
          1750.0,
          1800.0,
          1850.0,
          1900.0,
          1950.0
         ],
         "y": [
          0.0,
          50.0,
          100.0,
          150.0,
          200.0,
          250.0,
          300.0,
          350.0,
          400.0,
          450.0,
          500.0,
          550.0,
          600.0,
          650.0,
          700.0,
          750.0,
          800.0,
          850.0,
          900.0,
          950.0,
          1000.0,
          1050.0,
          1100.0,
          1150.0,
          1200.0,
          1250.0,
          1300.0,
          1350.0,
          1400.0,
          1450.0,
          1500.0,
          1550.0,
          1600.0,
          1650.0,
          1700.0,
          1750.0,
          1800.0,
          1850.0,
          1900.0,
          1950.0
         ],
         "z": [
          [
           0,
           0,
           0,
           3,
           1,
           0,
           4,
           3,
           11,
           19,
           7,
           5,
           16,
           11,
           12,
           17,
           10,
           4,
           8,
           3,
           2,
           2,
           3,
           2,
           1,
           2,
           3,
           1,
           0,
           2,
           3,
           0,
           1,
           1,
           0,
           1,
           1,
           0,
           1,
           0
          ],
          [
           0,
           2,
           2,
           1,
           4,
           5,
           12,
           19,
           21,
           37,
           17,
           38,
           23,
           39,
           43,
           29,
           31,
           27,
           20,
           22,
           10,
           13,
           4,
           10,
           7,
           5,
           1,
           6,
           2,
           1,
           4,
           2,
           0,
           2,
           0,
           0,
           0,
           0,
           0,
           0
          ],
          [
           1,
           2,
           9,
           12,
           3,
           8,
           26,
           26,
           23,
           39,
           47,
           90,
           35,
           62,
           80,
           53,
           329,
           84,
           63,
           39,
           21,
           11,
           15,
           11,
           3,
           7,
           9,
           8,
           2,
           1,
           2,
           0,
           0,
           0,
           0,
           0,
           0,
           2,
           0,
           1
          ],
          [
           0,
           7,
           10,
           13,
           8,
           15,
           17,
           20,
           21,
           38,
           30,
           23,
           44,
           29,
           21,
           33,
           180,
           35,
           35,
           34,
           9,
           11,
           9,
           8,
           3,
           6,
           4,
           1,
           4,
           0,
           2,
           4,
           3,
           0,
           1,
           3,
           1,
           1,
           1,
           0
          ],
          [
           1,
           1,
           8,
           10,
           8,
           14,
           14,
           19,
           25,
           38,
           18,
           31,
           63,
           33,
           35,
           38,
           74,
           17,
           33,
           25,
           28,
           22,
           17,
           11,
           10,
           9,
           9,
           10,
           9,
           4,
           2,
           3,
           4,
           1,
           4,
           2,
           2,
           0,
           2,
           0
          ],
          [
           2,
           4,
           19,
           24,
           11,
           11,
           20,
           17,
           24,
           89,
           47,
           34,
           19,
           24,
           17,
           27,
           70,
           20,
           26,
           15,
           14,
           12,
           13,
           7,
           5,
           7,
           6,
           4,
           6,
           2,
           4,
           0,
           3,
           0,
           1,
           2,
           0,
           0,
           0,
           1
          ],
          [
           0,
           4,
           15,
           33,
           19,
           8,
           14,
           18,
           23,
           47,
           15,
           18,
           12,
           17,
           10,
           26,
           31,
           17,
           24,
           13,
           11,
           7,
           11,
           6,
           7,
           7,
           5,
           3,
           1,
           2,
           5,
           1,
           0,
           0,
           2,
           1,
           0,
           1,
           2,
           0
          ],
          [
           3,
           18,
           15,
           29,
           14,
           11,
           72,
           15,
           35,
           63,
           20,
           31,
           23,
           39,
           24,
           30,
           44,
           24,
           15,
           17,
           13,
           5,
           9,
           5,
           3,
           9,
           3,
           2,
           3,
           1,
           0,
           1,
           2,
           1,
           1,
           2,
           1,
           0,
           0,
           0
          ],
          [
           6,
           5,
           20,
           9,
           7,
           16,
           16,
           30,
           18,
           36,
           25,
           17,
           11,
           19,
           14,
           20,
           20,
           14,
           14,
           12,
           15,
           8,
           4,
           6,
           4,
           1,
           6,
           3,
           0,
           1,
           2,
           1,
           0,
           0,
           0,
           0,
           4,
           0,
           0,
           1
          ],
          [
           6,
           10,
           41,
           41,
           23,
           36,
           47,
           25,
           28,
           52,
           32,
           22,
           18,
           32,
           23,
           29,
           65,
           19,
           19,
           13,
           5,
           6,
           5,
           15,
           8,
           6,
           2,
           1,
           7,
           0,
           1,
           3,
           3,
           2,
           1,
           0,
           0,
           1,
           0,
           0
          ],
          [
           4,
           16,
           44,
           47,
           31,
           38,
           38,
           33,
           22,
           35,
           20,
           16,
           20,
           11,
           8,
           12,
           59,
           14,
           10,
           4,
           5,
           6,
           2,
           10,
           3,
           2,
           2,
           2,
           3,
           1,
           1,
           1,
           1,
           0,
           0,
           0,
           0,
           1,
           0,
           0
          ],
          [
           4,
           21,
           44,
           52,
           39,
           27,
           34,
           25,
           29,
           28,
           27,
           20,
           23,
           10,
           19,
           14,
           33,
           11,
           11,
           7,
           3,
           2,
           3,
           5,
           3,
           2,
           2,
           3,
           2,
           3,
           2,
           2,
           0,
           0,
           0,
           0,
           2,
           0,
           0,
           0
          ],
          [
           6,
           24,
           46,
           60,
           56,
           32,
           37,
           31,
           28,
           31,
           24,
           21,
           19,
           17,
           9,
           16,
           29,
           6,
           8,
           10,
           1,
           2,
           1,
           2,
           3,
           0,
           0,
           1,
           2,
           1,
           2,
           1,
           1,
           0,
           0,
           1,
           0,
           0,
           2,
           0
          ],
          [
           10,
           31,
           113,
           59,
           73,
           45,
           38,
           32,
           26,
           49,
           29,
           23,
           20,
           16,
           16,
           9,
           34,
           16,
           7,
           7,
           5,
           2,
           7,
           5,
           2,
           4,
           0,
           1,
           3,
           3,
           0,
           1,
           1,
           0,
           0,
           1,
           1,
           0,
           1,
           1
          ],
          [
           8,
           39,
           127,
           64,
           54,
           39,
           45,
           33,
           21,
           42,
           20,
           31,
           12,
           12,
           15,
           8,
           16,
           5,
           9,
           4,
           5,
           2,
           0,
           0,
           0,
           4,
           0,
           0,
           2,
           0,
           0,
           0,
           3,
           0,
           0,
           1,
           0,
           1,
           0,
           0
          ],
          [
           18,
           35,
           87,
           92,
           34,
           26,
           60,
           30,
           39,
           45,
           35,
           27,
           15,
           20,
           14,
           16,
           20,
           14,
           10,
           4,
           3,
           2,
           4,
           3,
           2,
           3,
           1,
           1,
           0,
           0,
           0,
           1,
           0,
           0,
           0,
           0,
           0,
           0,
           0,
           0
          ],
          [
           11,
           19,
           92,
           86,
           34,
           33,
           46,
           24,
           27,
           53,
           20,
           13,
           9,
           16,
           6,
           5,
           22,
           6,
           6,
           8,
           5,
           2,
           4,
           1,
           1,
           1,
           2,
           2,
           1,
           0,
           2,
           0,
           1,
           0,
           1,
           0,
           0,
           0,
           0,
           0
          ],
          [
           11,
           33,
           108,
           117,
           43,
           34,
           53,
           18,
           33,
           45,
           44,
           18,
           20,
           17,
           12,
           8,
           7,
           11,
           5,
           4,
           3,
           7,
           2,
           0,
           3,
           0,
           2,
           1,
           3,
           0,
           1,
           0,
           1,
           1,
           0,
           0,
           1,
           1,
           0,
           0
          ],
          [
           15,
           30,
           97,
           112,
           40,
           30,
           46,
           24,
           22,
           34,
           21,
           15,
           12,
           11,
           10,
           8,
           6,
           3,
           7,
           5,
           3,
           1,
           2,
           1,
           4,
           4,
           0,
           0,
           2,
           1,
           0,
           0,
           0,
           1,
           0,
           0,
           1,
           0,
           0,
           0
          ],
          [
           13,
           39,
           130,
           110,
           34,
           40,
           76,
           37,
           30,
           52,
           26,
           21,
           11,
           15,
           15,
           12,
           12,
           9,
           11,
           10,
           4,
           4,
           2,
           1,
           2,
           1,
           0,
           0,
           1,
           1,
           0,
           0,
           1,
           0,
           1,
           0,
           0,
           0,
           0,
           0
          ],
          [
           13,
           25,
           81,
           75,
           27,
           26,
           44,
           25,
           17,
           32,
           18,
           11,
           8,
           12,
           2,
           12,
           6,
           5,
           8,
           4,
           2,
           2,
           1,
           0,
           1,
           0,
           1,
           2,
           0,
           3,
           0,
           0,
           0,
           0,
           0,
           0,
           0,
           0,
           0,
           1
          ],
          [
           10,
           37,
           140,
           121,
           31,
           42,
           71,
           27,
           29,
           44,
           29,
           13,
           17,
           9,
           15,
           9,
           8,
           6,
           6,
           5,
           3,
           2,
           3,
           1,
           4,
           0,
           1,
           2,
           2,
           1,
           1,
           0,
           1,
           0,
           0,
           0,
           0,
           0,
           0,
           0
          ],
          [
           10,
           38,
           132,
           109,
           21,
           34,
           59,
           9,
           21,
           28,
           20,
           12,
           10,
           6,
           6,
           9,
           12,
           1,
           5,
           3,
           5,
           3,
           2,
           1,
           3,
           1,
           2,
           1,
           0,
           0,
           1,
           1,
           2,
           0,
           0,
           0,
           0,
           0,
           0,
           0
          ],
          [
           17,
           83,
           200,
           194,
           38,
           60,
           88,
           43,
           23,
           50,
           21,
           33,
           15,
           15,
           12,
           13,
           15,
           18,
           5,
           7,
           3,
           6,
           2,
           3,
           2,
           1,
           2,
           2,
           1,
           0,
           1,
           0,
           1,
           0,
           0,
           0,
           0,
           0,
           0,
           1
          ],
          [
           13,
           63,
           137,
           107,
           37,
           48,
           56,
           25,
           25,
           39,
           19,
           13,
           9,
           5,
           7,
           4,
           7,
           9,
           6,
           3,
           4,
           0,
           1,
           0,
           2,
           2,
           0,
           2,
           0,
           0,
           0,
           0,
           0,
           0,
           0,
           0,
           1,
           0,
           0,
           0
          ],
          [
           23,
           60,
           190,
           124,
           43,
           47,
           66,
           26,
           29,
           47,
           28,
           18,
           15,
           15,
           9,
           11,
           12,
           9,
           8,
           7,
           2,
           1,
           2,
           1,
           1,
           1,
           0,
           1,
           1,
           0,
           1,
           0,
           1,
           1,
           0,
           0,
           0,
           0,
           1,
           0
          ],
          [
           17,
           51,
           100,
           98,
           36,
           36,
           52,
           28,
           21,
           23,
           19,
           21,
           11,
           5,
           8,
           5,
           7,
           1,
           6,
           1,
           5,
           4,
           2,
           1,
           0,
           2,
           1,
           0,
           1,
           0,
           0,
           0,
           0,
           0,
           0,
           0,
           0,
           0,
           0,
           0
          ],
          [
           30,
           56,
           186,
           126,
           35,
           42,
           53,
           24,
           17,
           38,
           14,
           16,
           12,
           15,
           13,
           7,
           8,
           5,
           6,
           3,
           3,
           2,
           0,
           4,
           3,
           2,
           1,
           1,
           1,
           1,
           1,
           1,
           1,
           0,
           0,
           1,
           0,
           0,
           0,
           0
          ],
          [
           8,
           36,
           124,
           74,
           28,
           31,
           45,
           23,
           11,
           31,
           12,
           7,
           9,
           6,
           2,
           6,
           8,
           7,
           3,
           0,
           1,
           0,
           1,
           2,
           1,
           1,
           0,
           0,
           2,
           1,
           0,
           0,
           1,
           0,
           0,
           0,
           0,
           0,
           0,
           0
          ],
          [
           20,
           50,
           180,
           101,
           32,
           52,
           59,
           17,
           16,
           42,
           25,
           20,
           15,
           15,
           14,
           8,
           7,
           6,
           3,
           5,
           3,
           3,
           0,
           4,
           0,
           1,
           0,
           0,
           0,
           2,
           2,
           1,
           0,
           0,
           0,
           1,
           1,
           0,
           0,
           0
          ],
          [
           12,
           23,
           88,
           60,
           14,
           27,
           34,
           15,
           9,
           21,
           12,
           8,
           13,
           10,
           6,
           6,
           6,
           3,
           6,
           3,
           4,
           1,
           0,
           1,
           1,
           0,
           0,
           0,
           0,
           0,
           0,
           0,
           0,
           1,
           0,
           0,
           0,
           0,
           0,
           0
          ],
          [
           13,
           44,
           147,
           79,
           23,
           24,
           56,
           14,
           17,
           32,
           15,
           17,
           9,
           17,
           6,
           9,
           5,
           4,
           5,
           3,
           3,
           2,
           1,
           3,
           2,
           0,
           0,
           1,
           0,
           1,
           0,
           1,
           0,
           0,
           0,
           0,
           0,
           0,
           0,
           0
          ],
          [
           7,
           19,
           115,
           52,
           13,
           14,
           36,
           8,
           7,
           20,
           12,
           9,
           11,
           5,
           1,
           4,
           1,
           8,
           2,
           4,
           4,
           1,
           0,
           1,
           0,
           0,
           1,
           0,
           0,
           0,
           0,
           0,
           0,
           0,
           0,
           0,
           0,
           0,
           0,
           0
          ],
          [
           10,
           18,
           91,
           62,
           21,
           21,
           35,
           16,
           8,
           17,
           8,
           7,
           9,
           12,
           4,
           5,
           5,
           4,
           2,
           1,
           1,
           2,
           0,
           1,
           0,
           0,
           1,
           0,
           0,
           1,
           0,
           0,
           0,
           0,
           0,
           0,
           0,
           0,
           0,
           0
          ],
          [
           2,
           13,
           84,
           36,
           6,
           16,
           18,
           8,
           7,
           12,
           12,
           5,
           10,
           7,
           4,
           9,
           12,
           7,
           1,
           0,
           0,
           1,
           0,
           1,
           1,
           0,
           2,
           0,
           0,
           0,
           0,
           0,
           0,
           1,
           0,
           0,
           0,
           0,
           0,
           0
          ],
          [
           0,
           11,
           99,
           47,
           13,
           11,
           29,
           16,
           6,
           17,
           11,
           11,
           5,
           8,
           0,
           5,
           6,
           4,
           2,
           1,
           4,
           5,
           0,
           2,
           2,
           2,
           1,
           0,
           1,
           0,
           1,
           0,
           0,
           0,
           0,
           0,
           0,
           0,
           0,
           0
          ],
          [
           3,
           10,
           58,
           29,
           3,
           8,
           13,
           7,
           4,
           21,
           3,
           8,
           3,
           3,
           2,
           2,
           3,
           1,
           1,
           0,
           0,
           0,
           0,
           1,
           0,
           1,
           1,
           0,
           0,
           0,
           0,
           0,
           0,
           0,
           0,
           0,
           0,
           0,
           0,
           0
          ],
          [
           1,
           17,
           71,
           30,
           7,
           10,
           17,
           4,
           5,
           17,
           7,
           8,
           3,
           3,
           5,
           1,
           0,
           4,
           1,
           3,
           2,
           0,
           0,
           1,
           0,
           0,
           0,
           0,
           0,
           0,
           0,
           0,
           0,
           0,
           0,
           0,
           0,
           0,
           1,
           0
          ],
          [
           2,
           16,
           53,
           15,
           10,
           11,
           9,
           3,
           4,
           10,
           5,
           2,
           3,
           5,
           2,
           4,
           4,
           2,
           0,
           1,
           1,
           0,
           1,
           1,
           1,
           1,
           0,
           0,
           0,
           0,
           0,
           0,
           0,
           0,
           0,
           0,
           0,
           0,
           0,
           0
          ],
          [
           2,
           9,
           67,
           38,
           5,
           9,
           22,
           5,
           9,
           8,
           8,
           6,
           3,
           5,
           6,
           3,
           6,
           1,
           3,
           2,
           0,
           0,
           0,
           0,
           0,
           0,
           0,
           0,
           0,
           0,
           0,
           0,
           0,
           0,
           0,
           0,
           0,
           0,
           0,
           1
          ]
         ],
         "type": "surface"
        }
       ],
       "layout": {
        "template": {
         "data": {
          "histogram2dcontour": [
           {
            "type": "histogram2dcontour",
            "colorbar": {
             "outlinewidth": 0,
             "ticks": ""
            },
            "colorscale": [
             [
              0.0,
              "#0d0887"
             ],
             [
              0.1111111111111111,
              "#46039f"
             ],
             [
              0.2222222222222222,
              "#7201a8"
             ],
             [
              0.3333333333333333,
              "#9c179e"
             ],
             [
              0.4444444444444444,
              "#bd3786"
             ],
             [
              0.5555555555555556,
              "#d8576b"
             ],
             [
              0.6666666666666666,
              "#ed7953"
             ],
             [
              0.7777777777777778,
              "#fb9f3a"
             ],
             [
              0.8888888888888888,
              "#fdca26"
             ],
             [
              1.0,
              "#f0f921"
             ]
            ]
           }
          ],
          "choropleth": [
           {
            "type": "choropleth",
            "colorbar": {
             "outlinewidth": 0,
             "ticks": ""
            }
           }
          ],
          "histogram2d": [
           {
            "type": "histogram2d",
            "colorbar": {
             "outlinewidth": 0,
             "ticks": ""
            },
            "colorscale": [
             [
              0.0,
              "#0d0887"
             ],
             [
              0.1111111111111111,
              "#46039f"
             ],
             [
              0.2222222222222222,
              "#7201a8"
             ],
             [
              0.3333333333333333,
              "#9c179e"
             ],
             [
              0.4444444444444444,
              "#bd3786"
             ],
             [
              0.5555555555555556,
              "#d8576b"
             ],
             [
              0.6666666666666666,
              "#ed7953"
             ],
             [
              0.7777777777777778,
              "#fb9f3a"
             ],
             [
              0.8888888888888888,
              "#fdca26"
             ],
             [
              1.0,
              "#f0f921"
             ]
            ]
           }
          ],
          "heatmap": [
           {
            "type": "heatmap",
            "colorbar": {
             "outlinewidth": 0,
             "ticks": ""
            },
            "colorscale": [
             [
              0.0,
              "#0d0887"
             ],
             [
              0.1111111111111111,
              "#46039f"
             ],
             [
              0.2222222222222222,
              "#7201a8"
             ],
             [
              0.3333333333333333,
              "#9c179e"
             ],
             [
              0.4444444444444444,
              "#bd3786"
             ],
             [
              0.5555555555555556,
              "#d8576b"
             ],
             [
              0.6666666666666666,
              "#ed7953"
             ],
             [
              0.7777777777777778,
              "#fb9f3a"
             ],
             [
              0.8888888888888888,
              "#fdca26"
             ],
             [
              1.0,
              "#f0f921"
             ]
            ]
           }
          ],
          "heatmapgl": [
           {
            "type": "heatmapgl",
            "colorbar": {
             "outlinewidth": 0,
             "ticks": ""
            },
            "colorscale": [
             [
              0.0,
              "#0d0887"
             ],
             [
              0.1111111111111111,
              "#46039f"
             ],
             [
              0.2222222222222222,
              "#7201a8"
             ],
             [
              0.3333333333333333,
              "#9c179e"
             ],
             [
              0.4444444444444444,
              "#bd3786"
             ],
             [
              0.5555555555555556,
              "#d8576b"
             ],
             [
              0.6666666666666666,
              "#ed7953"
             ],
             [
              0.7777777777777778,
              "#fb9f3a"
             ],
             [
              0.8888888888888888,
              "#fdca26"
             ],
             [
              1.0,
              "#f0f921"
             ]
            ]
           }
          ],
          "contourcarpet": [
           {
            "type": "contourcarpet",
            "colorbar": {
             "outlinewidth": 0,
             "ticks": ""
            }
           }
          ],
          "contour": [
           {
            "type": "contour",
            "colorbar": {
             "outlinewidth": 0,
             "ticks": ""
            },
            "colorscale": [
             [
              0.0,
              "#0d0887"
             ],
             [
              0.1111111111111111,
              "#46039f"
             ],
             [
              0.2222222222222222,
              "#7201a8"
             ],
             [
              0.3333333333333333,
              "#9c179e"
             ],
             [
              0.4444444444444444,
              "#bd3786"
             ],
             [
              0.5555555555555556,
              "#d8576b"
             ],
             [
              0.6666666666666666,
              "#ed7953"
             ],
             [
              0.7777777777777778,
              "#fb9f3a"
             ],
             [
              0.8888888888888888,
              "#fdca26"
             ],
             [
              1.0,
              "#f0f921"
             ]
            ]
           }
          ],
          "surface": [
           {
            "type": "surface",
            "colorbar": {
             "outlinewidth": 0,
             "ticks": ""
            },
            "colorscale": [
             [
              0.0,
              "#0d0887"
             ],
             [
              0.1111111111111111,
              "#46039f"
             ],
             [
              0.2222222222222222,
              "#7201a8"
             ],
             [
              0.3333333333333333,
              "#9c179e"
             ],
             [
              0.4444444444444444,
              "#bd3786"
             ],
             [
              0.5555555555555556,
              "#d8576b"
             ],
             [
              0.6666666666666666,
              "#ed7953"
             ],
             [
              0.7777777777777778,
              "#fb9f3a"
             ],
             [
              0.8888888888888888,
              "#fdca26"
             ],
             [
              1.0,
              "#f0f921"
             ]
            ]
           }
          ],
          "mesh3d": [
           {
            "type": "mesh3d",
            "colorbar": {
             "outlinewidth": 0,
             "ticks": ""
            }
           }
          ],
          "scatter": [
           {
            "marker": {
             "line": {
              "color": "#283442"
             }
            },
            "type": "scatter"
           }
          ],
          "parcoords": [
           {
            "type": "parcoords",
            "line": {
             "colorbar": {
              "outlinewidth": 0,
              "ticks": ""
             }
            }
           }
          ],
          "scatterpolargl": [
           {
            "type": "scatterpolargl",
            "marker": {
             "colorbar": {
              "outlinewidth": 0,
              "ticks": ""
             }
            }
           }
          ],
          "bar": [
           {
            "error_x": {
             "color": "#f2f5fa"
            },
            "error_y": {
             "color": "#f2f5fa"
            },
            "marker": {
             "line": {
              "color": "rgb(17,17,17)",
              "width": 0.5
             },
             "pattern": {
              "fillmode": "overlay",
              "size": 10,
              "solidity": 0.2
             }
            },
            "type": "bar"
           }
          ],
          "scattergeo": [
           {
            "type": "scattergeo",
            "marker": {
             "colorbar": {
              "outlinewidth": 0,
              "ticks": ""
             }
            }
           }
          ],
          "scatterpolar": [
           {
            "type": "scatterpolar",
            "marker": {
             "colorbar": {
              "outlinewidth": 0,
              "ticks": ""
             }
            }
           }
          ],
          "histogram": [
           {
            "marker": {
             "pattern": {
              "fillmode": "overlay",
              "size": 10,
              "solidity": 0.2
             }
            },
            "type": "histogram"
           }
          ],
          "scattergl": [
           {
            "marker": {
             "line": {
              "color": "#283442"
             }
            },
            "type": "scattergl"
           }
          ],
          "scatter3d": [
           {
            "type": "scatter3d",
            "line": {
             "colorbar": {
              "outlinewidth": 0,
              "ticks": ""
             }
            },
            "marker": {
             "colorbar": {
              "outlinewidth": 0,
              "ticks": ""
             }
            }
           }
          ],
          "scattermapbox": [
           {
            "type": "scattermapbox",
            "marker": {
             "colorbar": {
              "outlinewidth": 0,
              "ticks": ""
             }
            }
           }
          ],
          "scatterternary": [
           {
            "type": "scatterternary",
            "marker": {
             "colorbar": {
              "outlinewidth": 0,
              "ticks": ""
             }
            }
           }
          ],
          "scattercarpet": [
           {
            "type": "scattercarpet",
            "marker": {
             "colorbar": {
              "outlinewidth": 0,
              "ticks": ""
             }
            }
           }
          ],
          "carpet": [
           {
            "aaxis": {
             "endlinecolor": "#A2B1C6",
             "gridcolor": "#506784",
             "linecolor": "#506784",
             "minorgridcolor": "#506784",
             "startlinecolor": "#A2B1C6"
            },
            "baxis": {
             "endlinecolor": "#A2B1C6",
             "gridcolor": "#506784",
             "linecolor": "#506784",
             "minorgridcolor": "#506784",
             "startlinecolor": "#A2B1C6"
            },
            "type": "carpet"
           }
          ],
          "table": [
           {
            "cells": {
             "fill": {
              "color": "#506784"
             },
             "line": {
              "color": "rgb(17,17,17)"
             }
            },
            "header": {
             "fill": {
              "color": "#2a3f5f"
             },
             "line": {
              "color": "rgb(17,17,17)"
             }
            },
            "type": "table"
           }
          ],
          "barpolar": [
           {
            "marker": {
             "line": {
              "color": "rgb(17,17,17)",
              "width": 0.5
             },
             "pattern": {
              "fillmode": "overlay",
              "size": 10,
              "solidity": 0.2
             }
            },
            "type": "barpolar"
           }
          ],
          "pie": [
           {
            "automargin": true,
            "type": "pie"
           }
          ]
         },
         "layout": {
          "autotypenumbers": "strict",
          "colorway": [
           "#636efa",
           "#EF553B",
           "#00cc96",
           "#ab63fa",
           "#FFA15A",
           "#19d3f3",
           "#FF6692",
           "#B6E880",
           "#FF97FF",
           "#FECB52"
          ],
          "font": {
           "color": "#f2f5fa"
          },
          "hovermode": "closest",
          "hoverlabel": {
           "align": "left"
          },
          "paper_bgcolor": "rgb(17,17,17)",
          "plot_bgcolor": "rgb(17,17,17)",
          "polar": {
           "bgcolor": "rgb(17,17,17)",
           "angularaxis": {
            "gridcolor": "#506784",
            "linecolor": "#506784",
            "ticks": ""
           },
           "radialaxis": {
            "gridcolor": "#506784",
            "linecolor": "#506784",
            "ticks": ""
           }
          },
          "ternary": {
           "bgcolor": "rgb(17,17,17)",
           "aaxis": {
            "gridcolor": "#506784",
            "linecolor": "#506784",
            "ticks": ""
           },
           "baxis": {
            "gridcolor": "#506784",
            "linecolor": "#506784",
            "ticks": ""
           },
           "caxis": {
            "gridcolor": "#506784",
            "linecolor": "#506784",
            "ticks": ""
           }
          },
          "coloraxis": {
           "colorbar": {
            "outlinewidth": 0,
            "ticks": ""
           }
          },
          "colorscale": {
           "sequential": [
            [
             0.0,
             "#0d0887"
            ],
            [
             0.1111111111111111,
             "#46039f"
            ],
            [
             0.2222222222222222,
             "#7201a8"
            ],
            [
             0.3333333333333333,
             "#9c179e"
            ],
            [
             0.4444444444444444,
             "#bd3786"
            ],
            [
             0.5555555555555556,
             "#d8576b"
            ],
            [
             0.6666666666666666,
             "#ed7953"
            ],
            [
             0.7777777777777778,
             "#fb9f3a"
            ],
            [
             0.8888888888888888,
             "#fdca26"
            ],
            [
             1.0,
             "#f0f921"
            ]
           ],
           "sequentialminus": [
            [
             0.0,
             "#0d0887"
            ],
            [
             0.1111111111111111,
             "#46039f"
            ],
            [
             0.2222222222222222,
             "#7201a8"
            ],
            [
             0.3333333333333333,
             "#9c179e"
            ],
            [
             0.4444444444444444,
             "#bd3786"
            ],
            [
             0.5555555555555556,
             "#d8576b"
            ],
            [
             0.6666666666666666,
             "#ed7953"
            ],
            [
             0.7777777777777778,
             "#fb9f3a"
            ],
            [
             0.8888888888888888,
             "#fdca26"
            ],
            [
             1.0,
             "#f0f921"
            ]
           ],
           "diverging": [
            [
             0,
             "#8e0152"
            ],
            [
             0.1,
             "#c51b7d"
            ],
            [
             0.2,
             "#de77ae"
            ],
            [
             0.3,
             "#f1b6da"
            ],
            [
             0.4,
             "#fde0ef"
            ],
            [
             0.5,
             "#f7f7f7"
            ],
            [
             0.6,
             "#e6f5d0"
            ],
            [
             0.7,
             "#b8e186"
            ],
            [
             0.8,
             "#7fbc41"
            ],
            [
             0.9,
             "#4d9221"
            ],
            [
             1,
             "#276419"
            ]
           ]
          },
          "xaxis": {
           "gridcolor": "#283442",
           "linecolor": "#506784",
           "ticks": "",
           "title": {
            "standoff": 15
           },
           "zerolinecolor": "#283442",
           "automargin": true,
           "zerolinewidth": 2
          },
          "yaxis": {
           "gridcolor": "#283442",
           "linecolor": "#506784",
           "ticks": "",
           "title": {
            "standoff": 15
           },
           "zerolinecolor": "#283442",
           "automargin": true,
           "zerolinewidth": 2
          },
          "scene": {
           "xaxis": {
            "backgroundcolor": "rgb(17,17,17)",
            "gridcolor": "#506784",
            "linecolor": "#506784",
            "showbackground": true,
            "ticks": "",
            "zerolinecolor": "#C8D4E3",
            "gridwidth": 2
           },
           "yaxis": {
            "backgroundcolor": "rgb(17,17,17)",
            "gridcolor": "#506784",
            "linecolor": "#506784",
            "showbackground": true,
            "ticks": "",
            "zerolinecolor": "#C8D4E3",
            "gridwidth": 2
           },
           "zaxis": {
            "backgroundcolor": "rgb(17,17,17)",
            "gridcolor": "#506784",
            "linecolor": "#506784",
            "showbackground": true,
            "ticks": "",
            "zerolinecolor": "#C8D4E3",
            "gridwidth": 2
           }
          },
          "shapedefaults": {
           "line": {
            "color": "#f2f5fa"
           }
          },
          "annotationdefaults": {
           "arrowcolor": "#f2f5fa",
           "arrowhead": 0,
           "arrowwidth": 1
          },
          "geo": {
           "bgcolor": "rgb(17,17,17)",
           "landcolor": "rgb(17,17,17)",
           "subunitcolor": "#506784",
           "showland": true,
           "showlakes": true,
           "lakecolor": "rgb(17,17,17)"
          },
          "title": {
           "x": 0.05
          },
          "updatemenudefaults": {
           "bgcolor": "#506784",
           "borderwidth": 0
          },
          "sliderdefaults": {
           "bgcolor": "#C8D4E3",
           "borderwidth": 1,
           "bordercolor": "rgb(17,17,17)",
           "tickwidth": 0
          },
          "mapbox": {
           "style": "dark"
          }
         }
        }
       },
       "config": {
        "plotlyServerURL": "https://plot.ly"
       }
      },
      "text/html": "<div>                            <div id=\"590472c8-7c93-471f-82ee-118638968042\" class=\"plotly-graph-div\" style=\"height:525px; width:100%;\"></div>            <script type=\"text/javascript\">                require([\"plotly\"], function(Plotly) {                    window.PLOTLYENV=window.PLOTLYENV || {};                                    if (document.getElementById(\"590472c8-7c93-471f-82ee-118638968042\")) {                    Plotly.newPlot(                        \"590472c8-7c93-471f-82ee-118638968042\",                        [{\"x\":[0.0,50.0,100.0,150.0,200.0,250.0,300.0,350.0,400.0,450.0,500.0,550.0,600.0,650.0,700.0,750.0,800.0,850.0,900.0,950.0,1000.0,1050.0,1100.0,1150.0,1200.0,1250.0,1300.0,1350.0,1400.0,1450.0,1500.0,1550.0,1600.0,1650.0,1700.0,1750.0,1800.0,1850.0,1900.0,1950.0],\"y\":[0.0,50.0,100.0,150.0,200.0,250.0,300.0,350.0,400.0,450.0,500.0,550.0,600.0,650.0,700.0,750.0,800.0,850.0,900.0,950.0,1000.0,1050.0,1100.0,1150.0,1200.0,1250.0,1300.0,1350.0,1400.0,1450.0,1500.0,1550.0,1600.0,1650.0,1700.0,1750.0,1800.0,1850.0,1900.0,1950.0],\"z\":[[0,0,0,3,1,0,4,3,11,19,7,5,16,11,12,17,10,4,8,3,2,2,3,2,1,2,3,1,0,2,3,0,1,1,0,1,1,0,1,0],[0,2,2,1,4,5,12,19,21,37,17,38,23,39,43,29,31,27,20,22,10,13,4,10,7,5,1,6,2,1,4,2,0,2,0,0,0,0,0,0],[1,2,9,12,3,8,26,26,23,39,47,90,35,62,80,53,329,84,63,39,21,11,15,11,3,7,9,8,2,1,2,0,0,0,0,0,0,2,0,1],[0,7,10,13,8,15,17,20,21,38,30,23,44,29,21,33,180,35,35,34,9,11,9,8,3,6,4,1,4,0,2,4,3,0,1,3,1,1,1,0],[1,1,8,10,8,14,14,19,25,38,18,31,63,33,35,38,74,17,33,25,28,22,17,11,10,9,9,10,9,4,2,3,4,1,4,2,2,0,2,0],[2,4,19,24,11,11,20,17,24,89,47,34,19,24,17,27,70,20,26,15,14,12,13,7,5,7,6,4,6,2,4,0,3,0,1,2,0,0,0,1],[0,4,15,33,19,8,14,18,23,47,15,18,12,17,10,26,31,17,24,13,11,7,11,6,7,7,5,3,1,2,5,1,0,0,2,1,0,1,2,0],[3,18,15,29,14,11,72,15,35,63,20,31,23,39,24,30,44,24,15,17,13,5,9,5,3,9,3,2,3,1,0,1,2,1,1,2,1,0,0,0],[6,5,20,9,7,16,16,30,18,36,25,17,11,19,14,20,20,14,14,12,15,8,4,6,4,1,6,3,0,1,2,1,0,0,0,0,4,0,0,1],[6,10,41,41,23,36,47,25,28,52,32,22,18,32,23,29,65,19,19,13,5,6,5,15,8,6,2,1,7,0,1,3,3,2,1,0,0,1,0,0],[4,16,44,47,31,38,38,33,22,35,20,16,20,11,8,12,59,14,10,4,5,6,2,10,3,2,2,2,3,1,1,1,1,0,0,0,0,1,0,0],[4,21,44,52,39,27,34,25,29,28,27,20,23,10,19,14,33,11,11,7,3,2,3,5,3,2,2,3,2,3,2,2,0,0,0,0,2,0,0,0],[6,24,46,60,56,32,37,31,28,31,24,21,19,17,9,16,29,6,8,10,1,2,1,2,3,0,0,1,2,1,2,1,1,0,0,1,0,0,2,0],[10,31,113,59,73,45,38,32,26,49,29,23,20,16,16,9,34,16,7,7,5,2,7,5,2,4,0,1,3,3,0,1,1,0,0,1,1,0,1,1],[8,39,127,64,54,39,45,33,21,42,20,31,12,12,15,8,16,5,9,4,5,2,0,0,0,4,0,0,2,0,0,0,3,0,0,1,0,1,0,0],[18,35,87,92,34,26,60,30,39,45,35,27,15,20,14,16,20,14,10,4,3,2,4,3,2,3,1,1,0,0,0,1,0,0,0,0,0,0,0,0],[11,19,92,86,34,33,46,24,27,53,20,13,9,16,6,5,22,6,6,8,5,2,4,1,1,1,2,2,1,0,2,0,1,0,1,0,0,0,0,0],[11,33,108,117,43,34,53,18,33,45,44,18,20,17,12,8,7,11,5,4,3,7,2,0,3,0,2,1,3,0,1,0,1,1,0,0,1,1,0,0],[15,30,97,112,40,30,46,24,22,34,21,15,12,11,10,8,6,3,7,5,3,1,2,1,4,4,0,0,2,1,0,0,0,1,0,0,1,0,0,0],[13,39,130,110,34,40,76,37,30,52,26,21,11,15,15,12,12,9,11,10,4,4,2,1,2,1,0,0,1,1,0,0,1,0,1,0,0,0,0,0],[13,25,81,75,27,26,44,25,17,32,18,11,8,12,2,12,6,5,8,4,2,2,1,0,1,0,1,2,0,3,0,0,0,0,0,0,0,0,0,1],[10,37,140,121,31,42,71,27,29,44,29,13,17,9,15,9,8,6,6,5,3,2,3,1,4,0,1,2,2,1,1,0,1,0,0,0,0,0,0,0],[10,38,132,109,21,34,59,9,21,28,20,12,10,6,6,9,12,1,5,3,5,3,2,1,3,1,2,1,0,0,1,1,2,0,0,0,0,0,0,0],[17,83,200,194,38,60,88,43,23,50,21,33,15,15,12,13,15,18,5,7,3,6,2,3,2,1,2,2,1,0,1,0,1,0,0,0,0,0,0,1],[13,63,137,107,37,48,56,25,25,39,19,13,9,5,7,4,7,9,6,3,4,0,1,0,2,2,0,2,0,0,0,0,0,0,0,0,1,0,0,0],[23,60,190,124,43,47,66,26,29,47,28,18,15,15,9,11,12,9,8,7,2,1,2,1,1,1,0,1,1,0,1,0,1,1,0,0,0,0,1,0],[17,51,100,98,36,36,52,28,21,23,19,21,11,5,8,5,7,1,6,1,5,4,2,1,0,2,1,0,1,0,0,0,0,0,0,0,0,0,0,0],[30,56,186,126,35,42,53,24,17,38,14,16,12,15,13,7,8,5,6,3,3,2,0,4,3,2,1,1,1,1,1,1,1,0,0,1,0,0,0,0],[8,36,124,74,28,31,45,23,11,31,12,7,9,6,2,6,8,7,3,0,1,0,1,2,1,1,0,0,2,1,0,0,1,0,0,0,0,0,0,0],[20,50,180,101,32,52,59,17,16,42,25,20,15,15,14,8,7,6,3,5,3,3,0,4,0,1,0,0,0,2,2,1,0,0,0,1,1,0,0,0],[12,23,88,60,14,27,34,15,9,21,12,8,13,10,6,6,6,3,6,3,4,1,0,1,1,0,0,0,0,0,0,0,0,1,0,0,0,0,0,0],[13,44,147,79,23,24,56,14,17,32,15,17,9,17,6,9,5,4,5,3,3,2,1,3,2,0,0,1,0,1,0,1,0,0,0,0,0,0,0,0],[7,19,115,52,13,14,36,8,7,20,12,9,11,5,1,4,1,8,2,4,4,1,0,1,0,0,1,0,0,0,0,0,0,0,0,0,0,0,0,0],[10,18,91,62,21,21,35,16,8,17,8,7,9,12,4,5,5,4,2,1,1,2,0,1,0,0,1,0,0,1,0,0,0,0,0,0,0,0,0,0],[2,13,84,36,6,16,18,8,7,12,12,5,10,7,4,9,12,7,1,0,0,1,0,1,1,0,2,0,0,0,0,0,0,1,0,0,0,0,0,0],[0,11,99,47,13,11,29,16,6,17,11,11,5,8,0,5,6,4,2,1,4,5,0,2,2,2,1,0,1,0,1,0,0,0,0,0,0,0,0,0],[3,10,58,29,3,8,13,7,4,21,3,8,3,3,2,2,3,1,1,0,0,0,0,1,0,1,1,0,0,0,0,0,0,0,0,0,0,0,0,0],[1,17,71,30,7,10,17,4,5,17,7,8,3,3,5,1,0,4,1,3,2,0,0,1,0,0,0,0,0,0,0,0,0,0,0,0,0,0,1,0],[2,16,53,15,10,11,9,3,4,10,5,2,3,5,2,4,4,2,0,1,1,0,1,1,1,1,0,0,0,0,0,0,0,0,0,0,0,0,0,0],[2,9,67,38,5,9,22,5,9,8,8,6,3,5,6,3,6,1,3,2,0,0,0,0,0,0,0,0,0,0,0,0,0,0,0,0,0,0,0,1]],\"type\":\"surface\"}],                        {\"template\":{\"data\":{\"histogram2dcontour\":[{\"type\":\"histogram2dcontour\",\"colorbar\":{\"outlinewidth\":0,\"ticks\":\"\"},\"colorscale\":[[0.0,\"#0d0887\"],[0.1111111111111111,\"#46039f\"],[0.2222222222222222,\"#7201a8\"],[0.3333333333333333,\"#9c179e\"],[0.4444444444444444,\"#bd3786\"],[0.5555555555555556,\"#d8576b\"],[0.6666666666666666,\"#ed7953\"],[0.7777777777777778,\"#fb9f3a\"],[0.8888888888888888,\"#fdca26\"],[1.0,\"#f0f921\"]]}],\"choropleth\":[{\"type\":\"choropleth\",\"colorbar\":{\"outlinewidth\":0,\"ticks\":\"\"}}],\"histogram2d\":[{\"type\":\"histogram2d\",\"colorbar\":{\"outlinewidth\":0,\"ticks\":\"\"},\"colorscale\":[[0.0,\"#0d0887\"],[0.1111111111111111,\"#46039f\"],[0.2222222222222222,\"#7201a8\"],[0.3333333333333333,\"#9c179e\"],[0.4444444444444444,\"#bd3786\"],[0.5555555555555556,\"#d8576b\"],[0.6666666666666666,\"#ed7953\"],[0.7777777777777778,\"#fb9f3a\"],[0.8888888888888888,\"#fdca26\"],[1.0,\"#f0f921\"]]}],\"heatmap\":[{\"type\":\"heatmap\",\"colorbar\":{\"outlinewidth\":0,\"ticks\":\"\"},\"colorscale\":[[0.0,\"#0d0887\"],[0.1111111111111111,\"#46039f\"],[0.2222222222222222,\"#7201a8\"],[0.3333333333333333,\"#9c179e\"],[0.4444444444444444,\"#bd3786\"],[0.5555555555555556,\"#d8576b\"],[0.6666666666666666,\"#ed7953\"],[0.7777777777777778,\"#fb9f3a\"],[0.8888888888888888,\"#fdca26\"],[1.0,\"#f0f921\"]]}],\"heatmapgl\":[{\"type\":\"heatmapgl\",\"colorbar\":{\"outlinewidth\":0,\"ticks\":\"\"},\"colorscale\":[[0.0,\"#0d0887\"],[0.1111111111111111,\"#46039f\"],[0.2222222222222222,\"#7201a8\"],[0.3333333333333333,\"#9c179e\"],[0.4444444444444444,\"#bd3786\"],[0.5555555555555556,\"#d8576b\"],[0.6666666666666666,\"#ed7953\"],[0.7777777777777778,\"#fb9f3a\"],[0.8888888888888888,\"#fdca26\"],[1.0,\"#f0f921\"]]}],\"contourcarpet\":[{\"type\":\"contourcarpet\",\"colorbar\":{\"outlinewidth\":0,\"ticks\":\"\"}}],\"contour\":[{\"type\":\"contour\",\"colorbar\":{\"outlinewidth\":0,\"ticks\":\"\"},\"colorscale\":[[0.0,\"#0d0887\"],[0.1111111111111111,\"#46039f\"],[0.2222222222222222,\"#7201a8\"],[0.3333333333333333,\"#9c179e\"],[0.4444444444444444,\"#bd3786\"],[0.5555555555555556,\"#d8576b\"],[0.6666666666666666,\"#ed7953\"],[0.7777777777777778,\"#fb9f3a\"],[0.8888888888888888,\"#fdca26\"],[1.0,\"#f0f921\"]]}],\"surface\":[{\"type\":\"surface\",\"colorbar\":{\"outlinewidth\":0,\"ticks\":\"\"},\"colorscale\":[[0.0,\"#0d0887\"],[0.1111111111111111,\"#46039f\"],[0.2222222222222222,\"#7201a8\"],[0.3333333333333333,\"#9c179e\"],[0.4444444444444444,\"#bd3786\"],[0.5555555555555556,\"#d8576b\"],[0.6666666666666666,\"#ed7953\"],[0.7777777777777778,\"#fb9f3a\"],[0.8888888888888888,\"#fdca26\"],[1.0,\"#f0f921\"]]}],\"mesh3d\":[{\"type\":\"mesh3d\",\"colorbar\":{\"outlinewidth\":0,\"ticks\":\"\"}}],\"scatter\":[{\"marker\":{\"line\":{\"color\":\"#283442\"}},\"type\":\"scatter\"}],\"parcoords\":[{\"type\":\"parcoords\",\"line\":{\"colorbar\":{\"outlinewidth\":0,\"ticks\":\"\"}}}],\"scatterpolargl\":[{\"type\":\"scatterpolargl\",\"marker\":{\"colorbar\":{\"outlinewidth\":0,\"ticks\":\"\"}}}],\"bar\":[{\"error_x\":{\"color\":\"#f2f5fa\"},\"error_y\":{\"color\":\"#f2f5fa\"},\"marker\":{\"line\":{\"color\":\"rgb(17,17,17)\",\"width\":0.5},\"pattern\":{\"fillmode\":\"overlay\",\"size\":10,\"solidity\":0.2}},\"type\":\"bar\"}],\"scattergeo\":[{\"type\":\"scattergeo\",\"marker\":{\"colorbar\":{\"outlinewidth\":0,\"ticks\":\"\"}}}],\"scatterpolar\":[{\"type\":\"scatterpolar\",\"marker\":{\"colorbar\":{\"outlinewidth\":0,\"ticks\":\"\"}}}],\"histogram\":[{\"marker\":{\"pattern\":{\"fillmode\":\"overlay\",\"size\":10,\"solidity\":0.2}},\"type\":\"histogram\"}],\"scattergl\":[{\"marker\":{\"line\":{\"color\":\"#283442\"}},\"type\":\"scattergl\"}],\"scatter3d\":[{\"type\":\"scatter3d\",\"line\":{\"colorbar\":{\"outlinewidth\":0,\"ticks\":\"\"}},\"marker\":{\"colorbar\":{\"outlinewidth\":0,\"ticks\":\"\"}}}],\"scattermapbox\":[{\"type\":\"scattermapbox\",\"marker\":{\"colorbar\":{\"outlinewidth\":0,\"ticks\":\"\"}}}],\"scatterternary\":[{\"type\":\"scatterternary\",\"marker\":{\"colorbar\":{\"outlinewidth\":0,\"ticks\":\"\"}}}],\"scattercarpet\":[{\"type\":\"scattercarpet\",\"marker\":{\"colorbar\":{\"outlinewidth\":0,\"ticks\":\"\"}}}],\"carpet\":[{\"aaxis\":{\"endlinecolor\":\"#A2B1C6\",\"gridcolor\":\"#506784\",\"linecolor\":\"#506784\",\"minorgridcolor\":\"#506784\",\"startlinecolor\":\"#A2B1C6\"},\"baxis\":{\"endlinecolor\":\"#A2B1C6\",\"gridcolor\":\"#506784\",\"linecolor\":\"#506784\",\"minorgridcolor\":\"#506784\",\"startlinecolor\":\"#A2B1C6\"},\"type\":\"carpet\"}],\"table\":[{\"cells\":{\"fill\":{\"color\":\"#506784\"},\"line\":{\"color\":\"rgb(17,17,17)\"}},\"header\":{\"fill\":{\"color\":\"#2a3f5f\"},\"line\":{\"color\":\"rgb(17,17,17)\"}},\"type\":\"table\"}],\"barpolar\":[{\"marker\":{\"line\":{\"color\":\"rgb(17,17,17)\",\"width\":0.5},\"pattern\":{\"fillmode\":\"overlay\",\"size\":10,\"solidity\":0.2}},\"type\":\"barpolar\"}],\"pie\":[{\"automargin\":true,\"type\":\"pie\"}]},\"layout\":{\"autotypenumbers\":\"strict\",\"colorway\":[\"#636efa\",\"#EF553B\",\"#00cc96\",\"#ab63fa\",\"#FFA15A\",\"#19d3f3\",\"#FF6692\",\"#B6E880\",\"#FF97FF\",\"#FECB52\"],\"font\":{\"color\":\"#f2f5fa\"},\"hovermode\":\"closest\",\"hoverlabel\":{\"align\":\"left\"},\"paper_bgcolor\":\"rgb(17,17,17)\",\"plot_bgcolor\":\"rgb(17,17,17)\",\"polar\":{\"bgcolor\":\"rgb(17,17,17)\",\"angularaxis\":{\"gridcolor\":\"#506784\",\"linecolor\":\"#506784\",\"ticks\":\"\"},\"radialaxis\":{\"gridcolor\":\"#506784\",\"linecolor\":\"#506784\",\"ticks\":\"\"}},\"ternary\":{\"bgcolor\":\"rgb(17,17,17)\",\"aaxis\":{\"gridcolor\":\"#506784\",\"linecolor\":\"#506784\",\"ticks\":\"\"},\"baxis\":{\"gridcolor\":\"#506784\",\"linecolor\":\"#506784\",\"ticks\":\"\"},\"caxis\":{\"gridcolor\":\"#506784\",\"linecolor\":\"#506784\",\"ticks\":\"\"}},\"coloraxis\":{\"colorbar\":{\"outlinewidth\":0,\"ticks\":\"\"}},\"colorscale\":{\"sequential\":[[0.0,\"#0d0887\"],[0.1111111111111111,\"#46039f\"],[0.2222222222222222,\"#7201a8\"],[0.3333333333333333,\"#9c179e\"],[0.4444444444444444,\"#bd3786\"],[0.5555555555555556,\"#d8576b\"],[0.6666666666666666,\"#ed7953\"],[0.7777777777777778,\"#fb9f3a\"],[0.8888888888888888,\"#fdca26\"],[1.0,\"#f0f921\"]],\"sequentialminus\":[[0.0,\"#0d0887\"],[0.1111111111111111,\"#46039f\"],[0.2222222222222222,\"#7201a8\"],[0.3333333333333333,\"#9c179e\"],[0.4444444444444444,\"#bd3786\"],[0.5555555555555556,\"#d8576b\"],[0.6666666666666666,\"#ed7953\"],[0.7777777777777778,\"#fb9f3a\"],[0.8888888888888888,\"#fdca26\"],[1.0,\"#f0f921\"]],\"diverging\":[[0,\"#8e0152\"],[0.1,\"#c51b7d\"],[0.2,\"#de77ae\"],[0.3,\"#f1b6da\"],[0.4,\"#fde0ef\"],[0.5,\"#f7f7f7\"],[0.6,\"#e6f5d0\"],[0.7,\"#b8e186\"],[0.8,\"#7fbc41\"],[0.9,\"#4d9221\"],[1,\"#276419\"]]},\"xaxis\":{\"gridcolor\":\"#283442\",\"linecolor\":\"#506784\",\"ticks\":\"\",\"title\":{\"standoff\":15},\"zerolinecolor\":\"#283442\",\"automargin\":true,\"zerolinewidth\":2},\"yaxis\":{\"gridcolor\":\"#283442\",\"linecolor\":\"#506784\",\"ticks\":\"\",\"title\":{\"standoff\":15},\"zerolinecolor\":\"#283442\",\"automargin\":true,\"zerolinewidth\":2},\"scene\":{\"xaxis\":{\"backgroundcolor\":\"rgb(17,17,17)\",\"gridcolor\":\"#506784\",\"linecolor\":\"#506784\",\"showbackground\":true,\"ticks\":\"\",\"zerolinecolor\":\"#C8D4E3\",\"gridwidth\":2},\"yaxis\":{\"backgroundcolor\":\"rgb(17,17,17)\",\"gridcolor\":\"#506784\",\"linecolor\":\"#506784\",\"showbackground\":true,\"ticks\":\"\",\"zerolinecolor\":\"#C8D4E3\",\"gridwidth\":2},\"zaxis\":{\"backgroundcolor\":\"rgb(17,17,17)\",\"gridcolor\":\"#506784\",\"linecolor\":\"#506784\",\"showbackground\":true,\"ticks\":\"\",\"zerolinecolor\":\"#C8D4E3\",\"gridwidth\":2}},\"shapedefaults\":{\"line\":{\"color\":\"#f2f5fa\"}},\"annotationdefaults\":{\"arrowcolor\":\"#f2f5fa\",\"arrowhead\":0,\"arrowwidth\":1},\"geo\":{\"bgcolor\":\"rgb(17,17,17)\",\"landcolor\":\"rgb(17,17,17)\",\"subunitcolor\":\"#506784\",\"showland\":true,\"showlakes\":true,\"lakecolor\":\"rgb(17,17,17)\"},\"title\":{\"x\":0.05},\"updatemenudefaults\":{\"bgcolor\":\"#506784\",\"borderwidth\":0},\"sliderdefaults\":{\"bgcolor\":\"#C8D4E3\",\"borderwidth\":1,\"bordercolor\":\"rgb(17,17,17)\",\"tickwidth\":0},\"mapbox\":{\"style\":\"dark\"}}}},                        {\"responsive\": true}                    ).then(function(){\n                            \nvar gd = document.getElementById('590472c8-7c93-471f-82ee-118638968042');\nvar x = new MutationObserver(function (mutations, observer) {{\n        var display = window.getComputedStyle(gd).display;\n        if (!display || display === 'none') {{\n            console.log([gd, 'removed!']);\n            Plotly.purge(gd);\n            observer.disconnect();\n        }}\n}});\n\n// Listen for the removal of the full notebook cells\nvar notebookContainer = gd.closest('#notebook-container');\nif (notebookContainer) {{\n    x.observe(notebookContainer, {childList: true});\n}}\n\n// Listen for the clearing of the current output cell\nvar outputEl = gd.closest('.output');\nif (outputEl) {{\n    x.observe(outputEl, {childList: true});\n}}\n\n                        })                };                });            </script>        </div>"
     },
     "metadata": {},
     "output_type": "display_data"
    }
   ],
   "source": [
    "fig=go.Figure(go.Surface(z=z, y=z.index, x=z.columns))\n",
    "fig.show()"
   ],
   "metadata": {
    "collapsed": false,
    "pycharm": {
     "name": "#%%\n"
    }
   }
  },
  {
   "cell_type": "code",
   "execution_count": 165,
   "outputs": [
    {
     "ename": "FileNotFoundError",
     "evalue": "[Errno 2] No such file or directory: 'C:\\\\Users\\\\arceb\\\\pythonProjects\\\\Graphique.html'",
     "output_type": "error",
     "traceback": [
      "\u001B[1;31m---------------------------------------------------------------------------\u001B[0m",
      "\u001B[1;31mFileNotFoundError\u001B[0m                         Traceback (most recent call last)",
      "Input \u001B[1;32mIn [165]\u001B[0m, in \u001B[0;36m<cell line: 1>\u001B[1;34m()\u001B[0m\n\u001B[1;32m----> 1\u001B[0m \u001B[43mfig\u001B[49m\u001B[38;5;241;43m.\u001B[39;49m\u001B[43mwrite_html\u001B[49m\u001B[43m(\u001B[49m\u001B[38;5;124;43mr\u001B[39;49m\u001B[38;5;124;43m\"\u001B[39;49m\u001B[38;5;124;43mC:\u001B[39;49m\u001B[38;5;124;43m\\\u001B[39;49m\u001B[38;5;124;43mUsers\u001B[39;49m\u001B[38;5;124;43m\\\u001B[39;49m\u001B[38;5;124;43marceb\u001B[39;49m\u001B[38;5;124;43m\\\u001B[39;49m\u001B[38;5;124;43mpythonProjects\u001B[39;49m\u001B[38;5;124;43m\\\u001B[39;49m\u001B[38;5;124;43mGraphique.html\u001B[39;49m\u001B[38;5;124;43m\"\u001B[39;49m\u001B[43m)\u001B[49m\n",
      "File \u001B[1;32m~\\AppData\\Local\\Programs\\Python\\Python39\\lib\\site-packages\\plotly\\basedatatypes.py:3708\u001B[0m, in \u001B[0;36mBaseFigure.write_html\u001B[1;34m(self, *args, **kwargs)\u001B[0m\n\u001B[0;32m   3593\u001B[0m \u001B[38;5;124;03m\"\"\"\u001B[39;00m\n\u001B[0;32m   3594\u001B[0m \u001B[38;5;124;03mWrite a figure to an HTML file representation\u001B[39;00m\n\u001B[0;32m   3595\u001B[0m \n\u001B[1;32m   (...)\u001B[0m\n\u001B[0;32m   3704\u001B[0m \u001B[38;5;124;03m    Representation of figure as an HTML div string\u001B[39;00m\n\u001B[0;32m   3705\u001B[0m \u001B[38;5;124;03m\"\"\"\u001B[39;00m\n\u001B[0;32m   3706\u001B[0m \u001B[38;5;28;01mimport\u001B[39;00m \u001B[38;5;21;01mplotly\u001B[39;00m\u001B[38;5;21;01m.\u001B[39;00m\u001B[38;5;21;01mio\u001B[39;00m \u001B[38;5;28;01mas\u001B[39;00m \u001B[38;5;21;01mpio\u001B[39;00m\n\u001B[1;32m-> 3708\u001B[0m \u001B[38;5;28;01mreturn\u001B[39;00m pio\u001B[38;5;241m.\u001B[39mwrite_html(\u001B[38;5;28mself\u001B[39m, \u001B[38;5;241m*\u001B[39margs, \u001B[38;5;241m*\u001B[39m\u001B[38;5;241m*\u001B[39mkwargs)\n",
      "File \u001B[1;32m~\\AppData\\Local\\Programs\\Python\\Python39\\lib\\site-packages\\plotly\\io\\_html.py:536\u001B[0m, in \u001B[0;36mwrite_html\u001B[1;34m(fig, file, config, auto_play, include_plotlyjs, include_mathjax, post_script, full_html, animation_opts, validate, default_width, default_height, auto_open, div_id)\u001B[0m\n\u001B[0;32m    534\u001B[0m \u001B[38;5;66;03m# Write HTML string\u001B[39;00m\n\u001B[0;32m    535\u001B[0m \u001B[38;5;28;01mif\u001B[39;00m path \u001B[38;5;129;01mis\u001B[39;00m \u001B[38;5;129;01mnot\u001B[39;00m \u001B[38;5;28;01mNone\u001B[39;00m:\n\u001B[1;32m--> 536\u001B[0m     \u001B[43mpath\u001B[49m\u001B[38;5;241;43m.\u001B[39;49m\u001B[43mwrite_text\u001B[49m\u001B[43m(\u001B[49m\u001B[43mhtml_str\u001B[49m\u001B[43m)\u001B[49m\n\u001B[0;32m    537\u001B[0m \u001B[38;5;28;01melse\u001B[39;00m:\n\u001B[0;32m    538\u001B[0m     file\u001B[38;5;241m.\u001B[39mwrite(html_str)\n",
      "File \u001B[1;32m~\\AppData\\Local\\Programs\\Python\\Python39\\lib\\pathlib.py:1285\u001B[0m, in \u001B[0;36mPath.write_text\u001B[1;34m(self, data, encoding, errors)\u001B[0m\n\u001B[0;32m   1282\u001B[0m \u001B[38;5;28;01mif\u001B[39;00m \u001B[38;5;129;01mnot\u001B[39;00m \u001B[38;5;28misinstance\u001B[39m(data, \u001B[38;5;28mstr\u001B[39m):\n\u001B[0;32m   1283\u001B[0m     \u001B[38;5;28;01mraise\u001B[39;00m \u001B[38;5;167;01mTypeError\u001B[39;00m(\u001B[38;5;124m'\u001B[39m\u001B[38;5;124mdata must be str, not \u001B[39m\u001B[38;5;132;01m%s\u001B[39;00m\u001B[38;5;124m'\u001B[39m \u001B[38;5;241m%\u001B[39m\n\u001B[0;32m   1284\u001B[0m                     data\u001B[38;5;241m.\u001B[39m\u001B[38;5;18m__class__\u001B[39m\u001B[38;5;241m.\u001B[39m\u001B[38;5;18m__name__\u001B[39m)\n\u001B[1;32m-> 1285\u001B[0m \u001B[38;5;28;01mwith\u001B[39;00m \u001B[38;5;28;43mself\u001B[39;49m\u001B[38;5;241;43m.\u001B[39;49m\u001B[43mopen\u001B[49m\u001B[43m(\u001B[49m\u001B[43mmode\u001B[49m\u001B[38;5;241;43m=\u001B[39;49m\u001B[38;5;124;43m'\u001B[39;49m\u001B[38;5;124;43mw\u001B[39;49m\u001B[38;5;124;43m'\u001B[39;49m\u001B[43m,\u001B[49m\u001B[43m \u001B[49m\u001B[43mencoding\u001B[49m\u001B[38;5;241;43m=\u001B[39;49m\u001B[43mencoding\u001B[49m\u001B[43m,\u001B[49m\u001B[43m \u001B[49m\u001B[43merrors\u001B[49m\u001B[38;5;241;43m=\u001B[39;49m\u001B[43merrors\u001B[49m\u001B[43m)\u001B[49m \u001B[38;5;28;01mas\u001B[39;00m f:\n\u001B[0;32m   1286\u001B[0m     \u001B[38;5;28;01mreturn\u001B[39;00m f\u001B[38;5;241m.\u001B[39mwrite(data)\n",
      "File \u001B[1;32m~\\AppData\\Local\\Programs\\Python\\Python39\\lib\\pathlib.py:1252\u001B[0m, in \u001B[0;36mPath.open\u001B[1;34m(self, mode, buffering, encoding, errors, newline)\u001B[0m\n\u001B[0;32m   1246\u001B[0m \u001B[38;5;28;01mdef\u001B[39;00m \u001B[38;5;21mopen\u001B[39m(\u001B[38;5;28mself\u001B[39m, mode\u001B[38;5;241m=\u001B[39m\u001B[38;5;124m'\u001B[39m\u001B[38;5;124mr\u001B[39m\u001B[38;5;124m'\u001B[39m, buffering\u001B[38;5;241m=\u001B[39m\u001B[38;5;241m-\u001B[39m\u001B[38;5;241m1\u001B[39m, encoding\u001B[38;5;241m=\u001B[39m\u001B[38;5;28;01mNone\u001B[39;00m,\n\u001B[0;32m   1247\u001B[0m          errors\u001B[38;5;241m=\u001B[39m\u001B[38;5;28;01mNone\u001B[39;00m, newline\u001B[38;5;241m=\u001B[39m\u001B[38;5;28;01mNone\u001B[39;00m):\n\u001B[0;32m   1248\u001B[0m     \u001B[38;5;124;03m\"\"\"\u001B[39;00m\n\u001B[0;32m   1249\u001B[0m \u001B[38;5;124;03m    Open the file pointed by this path and return a file object, as\u001B[39;00m\n\u001B[0;32m   1250\u001B[0m \u001B[38;5;124;03m    the built-in open() function does.\u001B[39;00m\n\u001B[0;32m   1251\u001B[0m \u001B[38;5;124;03m    \"\"\"\u001B[39;00m\n\u001B[1;32m-> 1252\u001B[0m     \u001B[38;5;28;01mreturn\u001B[39;00m \u001B[43mio\u001B[49m\u001B[38;5;241;43m.\u001B[39;49m\u001B[43mopen\u001B[49m\u001B[43m(\u001B[49m\u001B[38;5;28;43mself\u001B[39;49m\u001B[43m,\u001B[49m\u001B[43m \u001B[49m\u001B[43mmode\u001B[49m\u001B[43m,\u001B[49m\u001B[43m \u001B[49m\u001B[43mbuffering\u001B[49m\u001B[43m,\u001B[49m\u001B[43m \u001B[49m\u001B[43mencoding\u001B[49m\u001B[43m,\u001B[49m\u001B[43m \u001B[49m\u001B[43merrors\u001B[49m\u001B[43m,\u001B[49m\u001B[43m \u001B[49m\u001B[43mnewline\u001B[49m\u001B[43m,\u001B[49m\n\u001B[0;32m   1253\u001B[0m \u001B[43m                   \u001B[49m\u001B[43mopener\u001B[49m\u001B[38;5;241;43m=\u001B[39;49m\u001B[38;5;28;43mself\u001B[39;49m\u001B[38;5;241;43m.\u001B[39;49m\u001B[43m_opener\u001B[49m\u001B[43m)\u001B[49m\n",
      "File \u001B[1;32m~\\AppData\\Local\\Programs\\Python\\Python39\\lib\\pathlib.py:1120\u001B[0m, in \u001B[0;36mPath._opener\u001B[1;34m(self, name, flags, mode)\u001B[0m\n\u001B[0;32m   1118\u001B[0m \u001B[38;5;28;01mdef\u001B[39;00m \u001B[38;5;21m_opener\u001B[39m(\u001B[38;5;28mself\u001B[39m, name, flags, mode\u001B[38;5;241m=\u001B[39m\u001B[38;5;241m0o666\u001B[39m):\n\u001B[0;32m   1119\u001B[0m     \u001B[38;5;66;03m# A stub for the opener argument to built-in open()\u001B[39;00m\n\u001B[1;32m-> 1120\u001B[0m     \u001B[38;5;28;01mreturn\u001B[39;00m \u001B[38;5;28;43mself\u001B[39;49m\u001B[38;5;241;43m.\u001B[39;49m\u001B[43m_accessor\u001B[49m\u001B[38;5;241;43m.\u001B[39;49m\u001B[43mopen\u001B[49m\u001B[43m(\u001B[49m\u001B[38;5;28;43mself\u001B[39;49m\u001B[43m,\u001B[49m\u001B[43m \u001B[49m\u001B[43mflags\u001B[49m\u001B[43m,\u001B[49m\u001B[43m \u001B[49m\u001B[43mmode\u001B[49m\u001B[43m)\u001B[49m\n",
      "\u001B[1;31mFileNotFoundError\u001B[0m: [Errno 2] No such file or directory: 'C:\\\\Users\\\\arceb\\\\pythonProjects\\\\Graphique.html'"
     ]
    }
   ],
   "source": [
    "fig.write_html(r\"C:\\Users\\arceb\\pythonProjects\\Graphique.html\")"
   ],
   "metadata": {
    "collapsed": false,
    "pycharm": {
     "name": "#%%\n"
    }
   }
  },
  {
   "cell_type": "code",
   "execution_count": 39,
   "outputs": [],
   "source": [
    "import plotly.express as px"
   ],
   "metadata": {
    "collapsed": false,
    "pycharm": {
     "name": "#%%\n"
    }
   }
  },
  {
   "cell_type": "code",
   "execution_count": 53,
   "outputs": [],
   "source": [
    "fig2=px.scatter(z)"
   ],
   "metadata": {
    "collapsed": false,
    "pycharm": {
     "name": "#%%\n"
    }
   }
  },
  {
   "cell_type": "code",
   "execution_count": 56,
   "outputs": [],
   "source": [
    "fig3=px.imshow(z)"
   ],
   "metadata": {
    "collapsed": false,
    "pycharm": {
     "name": "#%%\n"
    }
   }
  },
  {
   "cell_type": "code",
   "execution_count": 55,
   "outputs": [],
   "source": [
    "fig2.write_html(r\"C:\\Users\\arceb\\PycharmProjects\\Graphique_bis.html\")"
   ],
   "metadata": {
    "collapsed": false,
    "pycharm": {
     "name": "#%%\n"
    }
   }
  },
  {
   "cell_type": "code",
   "execution_count": 57,
   "outputs": [],
   "source": [
    "fig3.write_html(r\"C:\\Users\\arceb\\PycharmProjects\\Graphique3.html\")"
   ],
   "metadata": {
    "collapsed": false,
    "pycharm": {
     "name": "#%%\n"
    }
   }
  },
  {
   "cell_type": "code",
   "execution_count": 51,
   "outputs": [],
   "source": [
    "import plotly"
   ],
   "metadata": {
    "collapsed": false,
    "pycharm": {
     "name": "#%%\n"
    }
   }
  },
  {
   "cell_type": "markdown",
   "source": [
    "### Graphiques RI nuls"
   ],
   "metadata": {
    "collapsed": false,
    "pycharm": {
     "name": "#%% md\n"
    }
   }
  },
  {
   "cell_type": "code",
   "execution_count": 461,
   "outputs": [],
   "source": [
    "RI=bddbis[bddbis['Ressources imposables mensuelles moyennes (RI)']==0]"
   ],
   "metadata": {
    "collapsed": false,
    "pycharm": {
     "name": "#%%\n"
    }
   }
  },
  {
   "cell_type": "code",
   "execution_count": 462,
   "outputs": [
    {
     "data": {
      "text/plain": "            Numéro Unique  RM Moyennes  \\\n2      001021504965918214        944.0   \n8      0010417079394GDPUB          0.0   \n10     0010617082122GDPUB        741.0   \n23     002121708820210411        483.0   \n26     003021701847503F01        786.0   \n...                   ...          ...   \n80860  971071705452811563        998.0   \n80861  9710817054943GDPUB        706.0   \n80865  9720917052170GDPUB        738.0   \n80866  9721015035273GDPUB        807.0   \n80874  9741117155529GDPUB        674.0   \n\n       Ressources imposables mensuelles moyennes (RI)  \\\n2                                                 0.0   \n8                                                 0.0   \n10                                                0.0   \n23                                                0.0   \n26                                                0.0   \n...                                               ...   \n80860                                             0.0   \n80861                                             0.0   \n80865                                             0.0   \n80866                                             0.0   \n80874                                             0.0   \n\n       Prestations familiales et sociales mensuelles moyennes (PFS)  Ri + PFS  \\\n2                                                  944.0                944.0   \n8                                                    0.0                  0.0   \n10                                                 741.0                741.0   \n23                                                 484.0                484.0   \n26                                                 786.0                786.0   \n...                                                  ...                  ...   \n80860                                              998.0                998.0   \n80861                                              706.0                706.0   \n80865                                              738.0                738.0   \n80866                                              807.0                807.0   \n80874                                              674.0                674.0   \n\n       Tranches de ressources mensuelles (RM)  Tranches de RI  Tranches de PFS  \n2                                       900.0             NaN            900.0  \n8                                         0.0             NaN              NaN  \n10                                      700.0             NaN            700.0  \n23                                      450.0             NaN            450.0  \n26                                      750.0             NaN            750.0  \n...                                       ...             ...              ...  \n80860                                   950.0             NaN            950.0  \n80861                                   700.0             NaN            700.0  \n80865                                   700.0             NaN            700.0  \n80866                                   800.0             NaN            800.0  \n80874                                   650.0             NaN            650.0  \n\n[13485 rows x 8 columns]",
      "text/html": "<div>\n<style scoped>\n    .dataframe tbody tr th:only-of-type {\n        vertical-align: middle;\n    }\n\n    .dataframe tbody tr th {\n        vertical-align: top;\n    }\n\n    .dataframe thead th {\n        text-align: right;\n    }\n</style>\n<table border=\"1\" class=\"dataframe\">\n  <thead>\n    <tr style=\"text-align: right;\">\n      <th></th>\n      <th>Numéro Unique</th>\n      <th>RM Moyennes</th>\n      <th>Ressources imposables mensuelles moyennes (RI)</th>\n      <th>Prestations familiales et sociales mensuelles moyennes (PFS)</th>\n      <th>Ri + PFS</th>\n      <th>Tranches de ressources mensuelles (RM)</th>\n      <th>Tranches de RI</th>\n      <th>Tranches de PFS</th>\n    </tr>\n  </thead>\n  <tbody>\n    <tr>\n      <th>2</th>\n      <td>001021504965918214</td>\n      <td>944.0</td>\n      <td>0.0</td>\n      <td>944.0</td>\n      <td>944.0</td>\n      <td>900.0</td>\n      <td>NaN</td>\n      <td>900.0</td>\n    </tr>\n    <tr>\n      <th>8</th>\n      <td>0010417079394GDPUB</td>\n      <td>0.0</td>\n      <td>0.0</td>\n      <td>0.0</td>\n      <td>0.0</td>\n      <td>0.0</td>\n      <td>NaN</td>\n      <td>NaN</td>\n    </tr>\n    <tr>\n      <th>10</th>\n      <td>0010617082122GDPUB</td>\n      <td>741.0</td>\n      <td>0.0</td>\n      <td>741.0</td>\n      <td>741.0</td>\n      <td>700.0</td>\n      <td>NaN</td>\n      <td>700.0</td>\n    </tr>\n    <tr>\n      <th>23</th>\n      <td>002121708820210411</td>\n      <td>483.0</td>\n      <td>0.0</td>\n      <td>484.0</td>\n      <td>484.0</td>\n      <td>450.0</td>\n      <td>NaN</td>\n      <td>450.0</td>\n    </tr>\n    <tr>\n      <th>26</th>\n      <td>003021701847503F01</td>\n      <td>786.0</td>\n      <td>0.0</td>\n      <td>786.0</td>\n      <td>786.0</td>\n      <td>750.0</td>\n      <td>NaN</td>\n      <td>750.0</td>\n    </tr>\n    <tr>\n      <th>...</th>\n      <td>...</td>\n      <td>...</td>\n      <td>...</td>\n      <td>...</td>\n      <td>...</td>\n      <td>...</td>\n      <td>...</td>\n      <td>...</td>\n    </tr>\n    <tr>\n      <th>80860</th>\n      <td>971071705452811563</td>\n      <td>998.0</td>\n      <td>0.0</td>\n      <td>998.0</td>\n      <td>998.0</td>\n      <td>950.0</td>\n      <td>NaN</td>\n      <td>950.0</td>\n    </tr>\n    <tr>\n      <th>80861</th>\n      <td>9710817054943GDPUB</td>\n      <td>706.0</td>\n      <td>0.0</td>\n      <td>706.0</td>\n      <td>706.0</td>\n      <td>700.0</td>\n      <td>NaN</td>\n      <td>700.0</td>\n    </tr>\n    <tr>\n      <th>80865</th>\n      <td>9720917052170GDPUB</td>\n      <td>738.0</td>\n      <td>0.0</td>\n      <td>738.0</td>\n      <td>738.0</td>\n      <td>700.0</td>\n      <td>NaN</td>\n      <td>700.0</td>\n    </tr>\n    <tr>\n      <th>80866</th>\n      <td>9721015035273GDPUB</td>\n      <td>807.0</td>\n      <td>0.0</td>\n      <td>807.0</td>\n      <td>807.0</td>\n      <td>800.0</td>\n      <td>NaN</td>\n      <td>800.0</td>\n    </tr>\n    <tr>\n      <th>80874</th>\n      <td>9741117155529GDPUB</td>\n      <td>674.0</td>\n      <td>0.0</td>\n      <td>674.0</td>\n      <td>674.0</td>\n      <td>650.0</td>\n      <td>NaN</td>\n      <td>650.0</td>\n    </tr>\n  </tbody>\n</table>\n<p>13485 rows × 8 columns</p>\n</div>"
     },
     "execution_count": 462,
     "metadata": {},
     "output_type": "execute_result"
    }
   ],
   "source": [
    "RI"
   ],
   "metadata": {
    "collapsed": false,
    "pycharm": {
     "name": "#%%\n"
    }
   }
  },
  {
   "cell_type": "code",
   "execution_count": 463,
   "outputs": [
    {
     "name": "stderr",
     "output_type": "stream",
     "text": [
      "C:\\Users\\arceb\\AppData\\Local\\Temp\\ipykernel_32864\\684197278.py:1: SettingWithCopyWarning:\n",
      "\n",
      "\n",
      "A value is trying to be set on a copy of a slice from a DataFrame.\n",
      "Try using .loc[row_indexer,col_indexer] = value instead\n",
      "\n",
      "See the caveats in the documentation: https://pandas.pydata.org/pandas-docs/stable/user_guide/indexing.html#returning-a-view-versus-a-copy\n",
      "\n",
      "C:\\Users\\arceb\\AppData\\Local\\Temp\\ipykernel_32864\\684197278.py:10: SettingWithCopyWarning:\n",
      "\n",
      "\n",
      "A value is trying to be set on a copy of a slice from a DataFrame.\n",
      "Try using .loc[row_indexer,col_indexer] = value instead\n",
      "\n",
      "See the caveats in the documentation: https://pandas.pydata.org/pandas-docs/stable/user_guide/indexing.html#returning-a-view-versus-a-copy\n",
      "\n"
     ]
    },
    {
     "data": {
      "text/plain": "            Numéro Unique  RM Moyennes  \\\n2      001021504965918214        944.0   \n8      0010417079394GDPUB          0.0   \n10     0010617082122GDPUB        741.0   \n23     002121708820210411        483.0   \n26     003021701847503F01        786.0   \n...                   ...          ...   \n80860  971071705452811563        998.0   \n80861  9710817054943GDPUB        706.0   \n80865  9720917052170GDPUB        738.0   \n80866  9721015035273GDPUB        807.0   \n80874  9741117155529GDPUB        674.0   \n\n       Ressources imposables mensuelles moyennes (RI)  \\\n2                                                 0.0   \n8                                                 0.0   \n10                                                0.0   \n23                                                0.0   \n26                                                0.0   \n...                                               ...   \n80860                                             0.0   \n80861                                             0.0   \n80865                                             0.0   \n80866                                             0.0   \n80874                                             0.0   \n\n       Prestations familiales et sociales mensuelles moyennes (PFS)  Ri + PFS  \\\n2                                                  944.0                944.0   \n8                                                    0.0                  0.0   \n10                                                 741.0                741.0   \n23                                                 484.0                484.0   \n26                                                 786.0                786.0   \n...                                                  ...                  ...   \n80860                                              998.0                998.0   \n80861                                              706.0                706.0   \n80865                                              738.0                738.0   \n80866                                              807.0                807.0   \n80874                                              674.0                674.0   \n\n       Tranches de ressources mensuelles (RM)  Tranches de RI  Tranches de PFS  \n2                                       900.0             NaN            900.0  \n8                                         0.0             NaN              NaN  \n10                                      700.0             NaN            700.0  \n23                                      450.0             NaN            450.0  \n26                                      750.0             NaN            750.0  \n...                                       ...             ...              ...  \n80860                                   950.0             NaN            950.0  \n80861                                   700.0             NaN            700.0  \n80865                                   700.0             NaN            700.0  \n80866                                   800.0             NaN            800.0  \n80874                                   650.0             NaN            650.0  \n\n[13485 rows x 8 columns]",
      "text/html": "<div>\n<style scoped>\n    .dataframe tbody tr th:only-of-type {\n        vertical-align: middle;\n    }\n\n    .dataframe tbody tr th {\n        vertical-align: top;\n    }\n\n    .dataframe thead th {\n        text-align: right;\n    }\n</style>\n<table border=\"1\" class=\"dataframe\">\n  <thead>\n    <tr style=\"text-align: right;\">\n      <th></th>\n      <th>Numéro Unique</th>\n      <th>RM Moyennes</th>\n      <th>Ressources imposables mensuelles moyennes (RI)</th>\n      <th>Prestations familiales et sociales mensuelles moyennes (PFS)</th>\n      <th>Ri + PFS</th>\n      <th>Tranches de ressources mensuelles (RM)</th>\n      <th>Tranches de RI</th>\n      <th>Tranches de PFS</th>\n    </tr>\n  </thead>\n  <tbody>\n    <tr>\n      <th>2</th>\n      <td>001021504965918214</td>\n      <td>944.0</td>\n      <td>0.0</td>\n      <td>944.0</td>\n      <td>944.0</td>\n      <td>900.0</td>\n      <td>NaN</td>\n      <td>900.0</td>\n    </tr>\n    <tr>\n      <th>8</th>\n      <td>0010417079394GDPUB</td>\n      <td>0.0</td>\n      <td>0.0</td>\n      <td>0.0</td>\n      <td>0.0</td>\n      <td>0.0</td>\n      <td>NaN</td>\n      <td>NaN</td>\n    </tr>\n    <tr>\n      <th>10</th>\n      <td>0010617082122GDPUB</td>\n      <td>741.0</td>\n      <td>0.0</td>\n      <td>741.0</td>\n      <td>741.0</td>\n      <td>700.0</td>\n      <td>NaN</td>\n      <td>700.0</td>\n    </tr>\n    <tr>\n      <th>23</th>\n      <td>002121708820210411</td>\n      <td>483.0</td>\n      <td>0.0</td>\n      <td>484.0</td>\n      <td>484.0</td>\n      <td>450.0</td>\n      <td>NaN</td>\n      <td>450.0</td>\n    </tr>\n    <tr>\n      <th>26</th>\n      <td>003021701847503F01</td>\n      <td>786.0</td>\n      <td>0.0</td>\n      <td>786.0</td>\n      <td>786.0</td>\n      <td>750.0</td>\n      <td>NaN</td>\n      <td>750.0</td>\n    </tr>\n    <tr>\n      <th>...</th>\n      <td>...</td>\n      <td>...</td>\n      <td>...</td>\n      <td>...</td>\n      <td>...</td>\n      <td>...</td>\n      <td>...</td>\n      <td>...</td>\n    </tr>\n    <tr>\n      <th>80860</th>\n      <td>971071705452811563</td>\n      <td>998.0</td>\n      <td>0.0</td>\n      <td>998.0</td>\n      <td>998.0</td>\n      <td>950.0</td>\n      <td>NaN</td>\n      <td>950.0</td>\n    </tr>\n    <tr>\n      <th>80861</th>\n      <td>9710817054943GDPUB</td>\n      <td>706.0</td>\n      <td>0.0</td>\n      <td>706.0</td>\n      <td>706.0</td>\n      <td>700.0</td>\n      <td>NaN</td>\n      <td>700.0</td>\n    </tr>\n    <tr>\n      <th>80865</th>\n      <td>9720917052170GDPUB</td>\n      <td>738.0</td>\n      <td>0.0</td>\n      <td>738.0</td>\n      <td>738.0</td>\n      <td>700.0</td>\n      <td>NaN</td>\n      <td>700.0</td>\n    </tr>\n    <tr>\n      <th>80866</th>\n      <td>9721015035273GDPUB</td>\n      <td>807.0</td>\n      <td>0.0</td>\n      <td>807.0</td>\n      <td>807.0</td>\n      <td>800.0</td>\n      <td>NaN</td>\n      <td>800.0</td>\n    </tr>\n    <tr>\n      <th>80874</th>\n      <td>9741117155529GDPUB</td>\n      <td>674.0</td>\n      <td>0.0</td>\n      <td>674.0</td>\n      <td>674.0</td>\n      <td>650.0</td>\n      <td>NaN</td>\n      <td>650.0</td>\n    </tr>\n  </tbody>\n</table>\n<p>13485 rows × 8 columns</p>\n</div>"
     },
     "execution_count": 463,
     "metadata": {},
     "output_type": "execute_result"
    }
   ],
   "source": [
    "RI['Tranches de PFS']=0\n",
    "\n",
    "def ri(rl):\n",
    "    for i in range(0, 2000, 50):\n",
    "        if i<rl and rl<=i+50:\n",
    "            return i\n",
    "        elif rl>2000:\n",
    "            return np.NaN\n",
    "\n",
    "RI['Tranches de PFS'] = RI['Prestations familiales et sociales mensuelles moyennes (PFS)'].apply(ri)\n",
    "RI"
   ],
   "metadata": {
    "collapsed": false,
    "pycharm": {
     "name": "#%%\n"
    }
   }
  },
  {
   "cell_type": "code",
   "execution_count": 464,
   "outputs": [
    {
     "data": {
      "text/plain": "       Tranches de PFS       Numéro Unique\n2                900.0  001021504965918214\n8                  NaN  0010417079394GDPUB\n10               700.0  0010617082122GDPUB\n23               450.0  002121708820210411\n26               750.0  003021701847503F01\n...                ...                 ...\n80860            950.0  971071705452811563\n80861            700.0  9710817054943GDPUB\n80865            700.0  9720917052170GDPUB\n80866            800.0  9721015035273GDPUB\n80874            650.0  9741117155529GDPUB\n\n[13485 rows x 2 columns]",
      "text/html": "<div>\n<style scoped>\n    .dataframe tbody tr th:only-of-type {\n        vertical-align: middle;\n    }\n\n    .dataframe tbody tr th {\n        vertical-align: top;\n    }\n\n    .dataframe thead th {\n        text-align: right;\n    }\n</style>\n<table border=\"1\" class=\"dataframe\">\n  <thead>\n    <tr style=\"text-align: right;\">\n      <th></th>\n      <th>Tranches de PFS</th>\n      <th>Numéro Unique</th>\n    </tr>\n  </thead>\n  <tbody>\n    <tr>\n      <th>2</th>\n      <td>900.0</td>\n      <td>001021504965918214</td>\n    </tr>\n    <tr>\n      <th>8</th>\n      <td>NaN</td>\n      <td>0010417079394GDPUB</td>\n    </tr>\n    <tr>\n      <th>10</th>\n      <td>700.0</td>\n      <td>0010617082122GDPUB</td>\n    </tr>\n    <tr>\n      <th>23</th>\n      <td>450.0</td>\n      <td>002121708820210411</td>\n    </tr>\n    <tr>\n      <th>26</th>\n      <td>750.0</td>\n      <td>003021701847503F01</td>\n    </tr>\n    <tr>\n      <th>...</th>\n      <td>...</td>\n      <td>...</td>\n    </tr>\n    <tr>\n      <th>80860</th>\n      <td>950.0</td>\n      <td>971071705452811563</td>\n    </tr>\n    <tr>\n      <th>80861</th>\n      <td>700.0</td>\n      <td>9710817054943GDPUB</td>\n    </tr>\n    <tr>\n      <th>80865</th>\n      <td>700.0</td>\n      <td>9720917052170GDPUB</td>\n    </tr>\n    <tr>\n      <th>80866</th>\n      <td>800.0</td>\n      <td>9721015035273GDPUB</td>\n    </tr>\n    <tr>\n      <th>80874</th>\n      <td>650.0</td>\n      <td>9741117155529GDPUB</td>\n    </tr>\n  </tbody>\n</table>\n<p>13485 rows × 2 columns</p>\n</div>"
     },
     "execution_count": 464,
     "metadata": {},
     "output_type": "execute_result"
    }
   ],
   "source": [
    "ri=RI[['Tranches de PFS', 'Numéro Unique']]\n",
    "ri"
   ],
   "metadata": {
    "collapsed": false,
    "pycharm": {
     "name": "#%%\n"
    }
   }
  },
  {
   "cell_type": "code",
   "execution_count": 465,
   "outputs": [
    {
     "data": {
      "text/plain": "                 Numéro Unique\nTranches de PFS               \n0.0                         49\n50.0                        65\n100.0                      126\n150.0                      173\n200.0                       39\n250.0                       92\n300.0                      158\n350.0                      128\n400.0                      341\n450.0                     2958\n500.0                      926\n550.0                      271\n600.0                      309\n650.0                      618\n700.0                      419\n750.0                      602\n800.0                     2469\n850.0                      538\n900.0                      573\n950.0                      643\n1000.0                     252\n1050.0                     174\n1100.0                     175\n1150.0                     170\n1200.0                     113\n1250.0                     108\n1300.0                      85\n1350.0                      82\n1400.0                      62\n1450.0                      62\n1500.0                      54\n1550.0                      43\n1600.0                      39\n1650.0                      24\n1700.0                      24\n1750.0                      24\n1800.0                      11\n1850.0                      16\n1900.0                       6\n1950.0                      13",
      "text/html": "<div>\n<style scoped>\n    .dataframe tbody tr th:only-of-type {\n        vertical-align: middle;\n    }\n\n    .dataframe tbody tr th {\n        vertical-align: top;\n    }\n\n    .dataframe thead th {\n        text-align: right;\n    }\n</style>\n<table border=\"1\" class=\"dataframe\">\n  <thead>\n    <tr style=\"text-align: right;\">\n      <th></th>\n      <th>Numéro Unique</th>\n    </tr>\n    <tr>\n      <th>Tranches de PFS</th>\n      <th></th>\n    </tr>\n  </thead>\n  <tbody>\n    <tr>\n      <th>0.0</th>\n      <td>49</td>\n    </tr>\n    <tr>\n      <th>50.0</th>\n      <td>65</td>\n    </tr>\n    <tr>\n      <th>100.0</th>\n      <td>126</td>\n    </tr>\n    <tr>\n      <th>150.0</th>\n      <td>173</td>\n    </tr>\n    <tr>\n      <th>200.0</th>\n      <td>39</td>\n    </tr>\n    <tr>\n      <th>250.0</th>\n      <td>92</td>\n    </tr>\n    <tr>\n      <th>300.0</th>\n      <td>158</td>\n    </tr>\n    <tr>\n      <th>350.0</th>\n      <td>128</td>\n    </tr>\n    <tr>\n      <th>400.0</th>\n      <td>341</td>\n    </tr>\n    <tr>\n      <th>450.0</th>\n      <td>2958</td>\n    </tr>\n    <tr>\n      <th>500.0</th>\n      <td>926</td>\n    </tr>\n    <tr>\n      <th>550.0</th>\n      <td>271</td>\n    </tr>\n    <tr>\n      <th>600.0</th>\n      <td>309</td>\n    </tr>\n    <tr>\n      <th>650.0</th>\n      <td>618</td>\n    </tr>\n    <tr>\n      <th>700.0</th>\n      <td>419</td>\n    </tr>\n    <tr>\n      <th>750.0</th>\n      <td>602</td>\n    </tr>\n    <tr>\n      <th>800.0</th>\n      <td>2469</td>\n    </tr>\n    <tr>\n      <th>850.0</th>\n      <td>538</td>\n    </tr>\n    <tr>\n      <th>900.0</th>\n      <td>573</td>\n    </tr>\n    <tr>\n      <th>950.0</th>\n      <td>643</td>\n    </tr>\n    <tr>\n      <th>1000.0</th>\n      <td>252</td>\n    </tr>\n    <tr>\n      <th>1050.0</th>\n      <td>174</td>\n    </tr>\n    <tr>\n      <th>1100.0</th>\n      <td>175</td>\n    </tr>\n    <tr>\n      <th>1150.0</th>\n      <td>170</td>\n    </tr>\n    <tr>\n      <th>1200.0</th>\n      <td>113</td>\n    </tr>\n    <tr>\n      <th>1250.0</th>\n      <td>108</td>\n    </tr>\n    <tr>\n      <th>1300.0</th>\n      <td>85</td>\n    </tr>\n    <tr>\n      <th>1350.0</th>\n      <td>82</td>\n    </tr>\n    <tr>\n      <th>1400.0</th>\n      <td>62</td>\n    </tr>\n    <tr>\n      <th>1450.0</th>\n      <td>62</td>\n    </tr>\n    <tr>\n      <th>1500.0</th>\n      <td>54</td>\n    </tr>\n    <tr>\n      <th>1550.0</th>\n      <td>43</td>\n    </tr>\n    <tr>\n      <th>1600.0</th>\n      <td>39</td>\n    </tr>\n    <tr>\n      <th>1650.0</th>\n      <td>24</td>\n    </tr>\n    <tr>\n      <th>1700.0</th>\n      <td>24</td>\n    </tr>\n    <tr>\n      <th>1750.0</th>\n      <td>24</td>\n    </tr>\n    <tr>\n      <th>1800.0</th>\n      <td>11</td>\n    </tr>\n    <tr>\n      <th>1850.0</th>\n      <td>16</td>\n    </tr>\n    <tr>\n      <th>1900.0</th>\n      <td>6</td>\n    </tr>\n    <tr>\n      <th>1950.0</th>\n      <td>13</td>\n    </tr>\n  </tbody>\n</table>\n</div>"
     },
     "execution_count": 465,
     "metadata": {},
     "output_type": "execute_result"
    }
   ],
   "source": [
    "ri = ri.groupby(by='Tranches de PFS').count()['Numéro Unique']\n",
    "ri = ri.to_frame()\n",
    "ri"
   ],
   "metadata": {
    "collapsed": false,
    "pycharm": {
     "name": "#%%\n"
    }
   }
  },
  {
   "cell_type": "code",
   "execution_count": 466,
   "outputs": [
    {
     "data": {
      "text/plain": "13034"
     },
     "execution_count": 466,
     "metadata": {},
     "output_type": "execute_result"
    }
   ],
   "source": [
    "ri['Numéro Unique'].sum()"
   ],
   "metadata": {
    "collapsed": false,
    "pycharm": {
     "name": "#%%\n"
    }
   }
  },
  {
   "cell_type": "code",
   "execution_count": 467,
   "outputs": [],
   "source": [
    "ri=ri.reset_index()"
   ],
   "metadata": {
    "collapsed": false,
    "pycharm": {
     "name": "#%%\n"
    }
   }
  },
  {
   "cell_type": "code",
   "execution_count": 468,
   "outputs": [
    {
     "data": {
      "text/plain": "    Tranches de PFS  Numéro Unique\n0               0.0       0.375940\n1              50.0       0.498696\n2             100.0       0.966702\n3             150.0       1.327298\n4             200.0       0.299217\n5             250.0       0.705846\n6             300.0       1.212214\n7             350.0       0.982047\n8             400.0       2.616234\n9             450.0      22.694491\n10            500.0       7.104496\n11            550.0       2.079178\n12            600.0       2.370723\n13            650.0       4.741445\n14            700.0       3.214669\n15            750.0       4.618690\n16            800.0      18.942765\n17            850.0       4.127666\n18            900.0       4.396195\n19            950.0       4.933251\n20           1000.0       1.933405\n21           1050.0       1.334970\n22           1100.0       1.342642\n23           1150.0       1.304281\n24           1200.0       0.866963\n25           1250.0       0.828602\n26           1300.0       0.652141\n27           1350.0       0.629124\n28           1400.0       0.475679\n29           1450.0       0.475679\n30           1500.0       0.414301\n31           1550.0       0.329906\n32           1600.0       0.299217\n33           1650.0       0.184134\n34           1700.0       0.184134\n35           1750.0       0.184134\n36           1800.0       0.084395\n37           1850.0       0.122756\n38           1900.0       0.046033\n39           1950.0       0.099739",
      "text/html": "<div>\n<style scoped>\n    .dataframe tbody tr th:only-of-type {\n        vertical-align: middle;\n    }\n\n    .dataframe tbody tr th {\n        vertical-align: top;\n    }\n\n    .dataframe thead th {\n        text-align: right;\n    }\n</style>\n<table border=\"1\" class=\"dataframe\">\n  <thead>\n    <tr style=\"text-align: right;\">\n      <th></th>\n      <th>Tranches de PFS</th>\n      <th>Numéro Unique</th>\n    </tr>\n  </thead>\n  <tbody>\n    <tr>\n      <th>0</th>\n      <td>0.0</td>\n      <td>0.375940</td>\n    </tr>\n    <tr>\n      <th>1</th>\n      <td>50.0</td>\n      <td>0.498696</td>\n    </tr>\n    <tr>\n      <th>2</th>\n      <td>100.0</td>\n      <td>0.966702</td>\n    </tr>\n    <tr>\n      <th>3</th>\n      <td>150.0</td>\n      <td>1.327298</td>\n    </tr>\n    <tr>\n      <th>4</th>\n      <td>200.0</td>\n      <td>0.299217</td>\n    </tr>\n    <tr>\n      <th>5</th>\n      <td>250.0</td>\n      <td>0.705846</td>\n    </tr>\n    <tr>\n      <th>6</th>\n      <td>300.0</td>\n      <td>1.212214</td>\n    </tr>\n    <tr>\n      <th>7</th>\n      <td>350.0</td>\n      <td>0.982047</td>\n    </tr>\n    <tr>\n      <th>8</th>\n      <td>400.0</td>\n      <td>2.616234</td>\n    </tr>\n    <tr>\n      <th>9</th>\n      <td>450.0</td>\n      <td>22.694491</td>\n    </tr>\n    <tr>\n      <th>10</th>\n      <td>500.0</td>\n      <td>7.104496</td>\n    </tr>\n    <tr>\n      <th>11</th>\n      <td>550.0</td>\n      <td>2.079178</td>\n    </tr>\n    <tr>\n      <th>12</th>\n      <td>600.0</td>\n      <td>2.370723</td>\n    </tr>\n    <tr>\n      <th>13</th>\n      <td>650.0</td>\n      <td>4.741445</td>\n    </tr>\n    <tr>\n      <th>14</th>\n      <td>700.0</td>\n      <td>3.214669</td>\n    </tr>\n    <tr>\n      <th>15</th>\n      <td>750.0</td>\n      <td>4.618690</td>\n    </tr>\n    <tr>\n      <th>16</th>\n      <td>800.0</td>\n      <td>18.942765</td>\n    </tr>\n    <tr>\n      <th>17</th>\n      <td>850.0</td>\n      <td>4.127666</td>\n    </tr>\n    <tr>\n      <th>18</th>\n      <td>900.0</td>\n      <td>4.396195</td>\n    </tr>\n    <tr>\n      <th>19</th>\n      <td>950.0</td>\n      <td>4.933251</td>\n    </tr>\n    <tr>\n      <th>20</th>\n      <td>1000.0</td>\n      <td>1.933405</td>\n    </tr>\n    <tr>\n      <th>21</th>\n      <td>1050.0</td>\n      <td>1.334970</td>\n    </tr>\n    <tr>\n      <th>22</th>\n      <td>1100.0</td>\n      <td>1.342642</td>\n    </tr>\n    <tr>\n      <th>23</th>\n      <td>1150.0</td>\n      <td>1.304281</td>\n    </tr>\n    <tr>\n      <th>24</th>\n      <td>1200.0</td>\n      <td>0.866963</td>\n    </tr>\n    <tr>\n      <th>25</th>\n      <td>1250.0</td>\n      <td>0.828602</td>\n    </tr>\n    <tr>\n      <th>26</th>\n      <td>1300.0</td>\n      <td>0.652141</td>\n    </tr>\n    <tr>\n      <th>27</th>\n      <td>1350.0</td>\n      <td>0.629124</td>\n    </tr>\n    <tr>\n      <th>28</th>\n      <td>1400.0</td>\n      <td>0.475679</td>\n    </tr>\n    <tr>\n      <th>29</th>\n      <td>1450.0</td>\n      <td>0.475679</td>\n    </tr>\n    <tr>\n      <th>30</th>\n      <td>1500.0</td>\n      <td>0.414301</td>\n    </tr>\n    <tr>\n      <th>31</th>\n      <td>1550.0</td>\n      <td>0.329906</td>\n    </tr>\n    <tr>\n      <th>32</th>\n      <td>1600.0</td>\n      <td>0.299217</td>\n    </tr>\n    <tr>\n      <th>33</th>\n      <td>1650.0</td>\n      <td>0.184134</td>\n    </tr>\n    <tr>\n      <th>34</th>\n      <td>1700.0</td>\n      <td>0.184134</td>\n    </tr>\n    <tr>\n      <th>35</th>\n      <td>1750.0</td>\n      <td>0.184134</td>\n    </tr>\n    <tr>\n      <th>36</th>\n      <td>1800.0</td>\n      <td>0.084395</td>\n    </tr>\n    <tr>\n      <th>37</th>\n      <td>1850.0</td>\n      <td>0.122756</td>\n    </tr>\n    <tr>\n      <th>38</th>\n      <td>1900.0</td>\n      <td>0.046033</td>\n    </tr>\n    <tr>\n      <th>39</th>\n      <td>1950.0</td>\n      <td>0.099739</td>\n    </tr>\n  </tbody>\n</table>\n</div>"
     },
     "execution_count": 468,
     "metadata": {},
     "output_type": "execute_result"
    }
   ],
   "source": [
    "ri['Numéro Unique']=(ri['Numéro Unique']/13034)*100\n",
    "ri"
   ],
   "metadata": {
    "collapsed": false,
    "pycharm": {
     "name": "#%%\n"
    }
   }
  },
  {
   "cell_type": "code",
   "execution_count": 469,
   "outputs": [
    {
     "data": {
      "text/plain": "100.0"
     },
     "execution_count": 469,
     "metadata": {},
     "output_type": "execute_result"
    }
   ],
   "source": [
    "ri['Numéro Unique'].sum()"
   ],
   "metadata": {
    "collapsed": false,
    "pycharm": {
     "name": "#%%\n"
    }
   }
  },
  {
   "cell_type": "code",
   "execution_count": 470,
   "outputs": [
    {
     "data": {
      "text/plain": "<Figure size 1800x360 with 1 Axes>",
      "image/png": "[encoded data removed]"
     },
     "metadata": {
      "needs_background": "light"
     },
     "output_type": "display_data"
    }
   ],
   "source": [
    " ax = ri.plot.bar(x='Tranches de PFS', y='Numéro Unique', xlabel='Tranche de Prestations sociales et financières', ylabel= \"Pourcentage de demandeurs\", title= 'Distribution par montant de PFS des demandeurs qui ne déclarent aucun RI', rot=0, figsize=(25,5), color='red')"
   ],
   "metadata": {
    "collapsed": false,
    "pycharm": {
     "name": "#%%\n"
    }
   }
  },
  {
   "cell_type": "code",
   "execution_count": 471,
   "outputs": [],
   "source": [
    "ax.figure.savefig('PFS_Aquitaine.pdf')"
   ],
   "metadata": {
    "collapsed": false,
    "pycharm": {
     "name": "#%%\n"
    }
   }
  },
  {
   "cell_type": "markdown",
   "source": [
    "### Graphiques PFS nuls"
   ],
   "metadata": {
    "collapsed": false,
    "pycharm": {
     "name": "#%% md\n"
    }
   }
  },
  {
   "cell_type": "code",
   "execution_count": 472,
   "outputs": [],
   "source": [
    "PFS=bddbis[bddbis['Prestations familiales et sociales mensuelles moyennes (PFS)']==0]"
   ],
   "metadata": {
    "collapsed": false,
    "pycharm": {
     "name": "#%%\n"
    }
   }
  },
  {
   "cell_type": "code",
   "execution_count": 473,
   "outputs": [
    {
     "name": "stderr",
     "output_type": "stream",
     "text": [
      "C:\\Users\\arceb\\AppData\\Local\\Temp\\ipykernel_32864\\2495171306.py:1: SettingWithCopyWarning:\n",
      "\n",
      "\n",
      "A value is trying to be set on a copy of a slice from a DataFrame.\n",
      "Try using .loc[row_indexer,col_indexer] = value instead\n",
      "\n",
      "See the caveats in the documentation: https://pandas.pydata.org/pandas-docs/stable/user_guide/indexing.html#returning-a-view-versus-a-copy\n",
      "\n",
      "C:\\Users\\arceb\\AppData\\Local\\Temp\\ipykernel_32864\\2495171306.py:10: SettingWithCopyWarning:\n",
      "\n",
      "\n",
      "A value is trying to be set on a copy of a slice from a DataFrame.\n",
      "Try using .loc[row_indexer,col_indexer] = value instead\n",
      "\n",
      "See the caveats in the documentation: https://pandas.pydata.org/pandas-docs/stable/user_guide/indexing.html#returning-a-view-versus-a-copy\n",
      "\n"
     ]
    },
    {
     "data": {
      "text/plain": "            Numéro Unique  RM Moyennes  \\\n3      0010217076033GDPUB       1200.0   \n4      001021707620301173       1200.0   \n5      001041707857711126        800.0   \n6      001041707861811126       1526.0   \n7      0010417079307GDPUB       1146.0   \n...                   ...          ...   \n80871  9740317140150GDPUB       1579.0   \n80875  974111715873511487       1725.0   \n80876  9741216133916GDPUB       2000.0   \n80877  9741216133920GDPUB        846.0   \n80878  9741217158325GDPUB         33.0   \n\n       Ressources imposables mensuelles moyennes (RI)  \\\n3                                              1200.0   \n4                                              1200.0   \n5                                               800.0   \n6                                              1526.0   \n7                                              1146.0   \n...                                               ...   \n80871                                          1579.0   \n80875                                          1725.0   \n80876                                          2000.0   \n80877                                           846.0   \n80878                                            33.0   \n\n       Prestations familiales et sociales mensuelles moyennes (PFS)  Ri + PFS  \\\n3                                                    0.0               1200.0   \n4                                                    0.0               1200.0   \n5                                                    0.0                800.0   \n6                                                    0.0               1526.0   \n7                                                    0.0               1146.0   \n...                                                  ...                  ...   \n80871                                                0.0               1579.0   \n80875                                                0.0               1725.0   \n80876                                                0.0               2000.0   \n80877                                                0.0                846.0   \n80878                                                0.0                 33.0   \n\n       Tranches de ressources mensuelles (RM)  Tranches de RI  Tranches de PFS  \n3                                      1200.0          1150.0              NaN  \n4                                      1200.0          1150.0              NaN  \n5                                       800.0           750.0              NaN  \n6                                      1500.0          1500.0              NaN  \n7                                      1100.0          1100.0              NaN  \n...                                       ...             ...              ...  \n80871                                  1550.0          1550.0              NaN  \n80875                                  1700.0          1700.0              NaN  \n80876                                  2000.0          1950.0              NaN  \n80877                                   800.0           800.0              NaN  \n80878                                     0.0             0.0              NaN  \n\n[45150 rows x 8 columns]",
      "text/html": "<div>\n<style scoped>\n    .dataframe tbody tr th:only-of-type {\n        vertical-align: middle;\n    }\n\n    .dataframe tbody tr th {\n        vertical-align: top;\n    }\n\n    .dataframe thead th {\n        text-align: right;\n    }\n</style>\n<table border=\"1\" class=\"dataframe\">\n  <thead>\n    <tr style=\"text-align: right;\">\n      <th></th>\n      <th>Numéro Unique</th>\n      <th>RM Moyennes</th>\n      <th>Ressources imposables mensuelles moyennes (RI)</th>\n      <th>Prestations familiales et sociales mensuelles moyennes (PFS)</th>\n      <th>Ri + PFS</th>\n      <th>Tranches de ressources mensuelles (RM)</th>\n      <th>Tranches de RI</th>\n      <th>Tranches de PFS</th>\n    </tr>\n  </thead>\n  <tbody>\n    <tr>\n      <th>3</th>\n      <td>0010217076033GDPUB</td>\n      <td>1200.0</td>\n      <td>1200.0</td>\n      <td>0.0</td>\n      <td>1200.0</td>\n      <td>1200.0</td>\n      <td>1150.0</td>\n      <td>NaN</td>\n    </tr>\n    <tr>\n      <th>4</th>\n      <td>001021707620301173</td>\n      <td>1200.0</td>\n      <td>1200.0</td>\n      <td>0.0</td>\n      <td>1200.0</td>\n      <td>1200.0</td>\n      <td>1150.0</td>\n      <td>NaN</td>\n    </tr>\n    <tr>\n      <th>5</th>\n      <td>001041707857711126</td>\n      <td>800.0</td>\n      <td>800.0</td>\n      <td>0.0</td>\n      <td>800.0</td>\n      <td>800.0</td>\n      <td>750.0</td>\n      <td>NaN</td>\n    </tr>\n    <tr>\n      <th>6</th>\n      <td>001041707861811126</td>\n      <td>1526.0</td>\n      <td>1526.0</td>\n      <td>0.0</td>\n      <td>1526.0</td>\n      <td>1500.0</td>\n      <td>1500.0</td>\n      <td>NaN</td>\n    </tr>\n    <tr>\n      <th>7</th>\n      <td>0010417079307GDPUB</td>\n      <td>1146.0</td>\n      <td>1146.0</td>\n      <td>0.0</td>\n      <td>1146.0</td>\n      <td>1100.0</td>\n      <td>1100.0</td>\n      <td>NaN</td>\n    </tr>\n    <tr>\n      <th>...</th>\n      <td>...</td>\n      <td>...</td>\n      <td>...</td>\n      <td>...</td>\n      <td>...</td>\n      <td>...</td>\n      <td>...</td>\n      <td>...</td>\n    </tr>\n    <tr>\n      <th>80871</th>\n      <td>9740317140150GDPUB</td>\n      <td>1579.0</td>\n      <td>1579.0</td>\n      <td>0.0</td>\n      <td>1579.0</td>\n      <td>1550.0</td>\n      <td>1550.0</td>\n      <td>NaN</td>\n    </tr>\n    <tr>\n      <th>80875</th>\n      <td>974111715873511487</td>\n      <td>1725.0</td>\n      <td>1725.0</td>\n      <td>0.0</td>\n      <td>1725.0</td>\n      <td>1700.0</td>\n      <td>1700.0</td>\n      <td>NaN</td>\n    </tr>\n    <tr>\n      <th>80876</th>\n      <td>9741216133916GDPUB</td>\n      <td>2000.0</td>\n      <td>2000.0</td>\n      <td>0.0</td>\n      <td>2000.0</td>\n      <td>2000.0</td>\n      <td>1950.0</td>\n      <td>NaN</td>\n    </tr>\n    <tr>\n      <th>80877</th>\n      <td>9741216133920GDPUB</td>\n      <td>846.0</td>\n      <td>846.0</td>\n      <td>0.0</td>\n      <td>846.0</td>\n      <td>800.0</td>\n      <td>800.0</td>\n      <td>NaN</td>\n    </tr>\n    <tr>\n      <th>80878</th>\n      <td>9741217158325GDPUB</td>\n      <td>33.0</td>\n      <td>33.0</td>\n      <td>0.0</td>\n      <td>33.0</td>\n      <td>0.0</td>\n      <td>0.0</td>\n      <td>NaN</td>\n    </tr>\n  </tbody>\n</table>\n<p>45150 rows × 8 columns</p>\n</div>"
     },
     "execution_count": 473,
     "metadata": {},
     "output_type": "execute_result"
    }
   ],
   "source": [
    "PFS['Tranches de RI']=0\n",
    "\n",
    "def pfs(rl):\n",
    "    for i in range(0, 2000, 50):\n",
    "        if i<rl and rl<=i+50:\n",
    "            return i\n",
    "        elif rl>2000:\n",
    "            return np.NaN\n",
    "\n",
    "PFS['Tranches de RI'] = PFS['Ressources imposables mensuelles moyennes (RI)'].apply(pfs)\n",
    "PFS"
   ],
   "metadata": {
    "collapsed": false,
    "pycharm": {
     "name": "#%%\n"
    }
   }
  },
  {
   "cell_type": "code",
   "execution_count": 474,
   "outputs": [],
   "source": [
    "pfs=PFS[['Tranches de RI', 'Numéro Unique']]\n",
    "pfs = pfs.groupby(by='Tranches de RI').count()['Numéro Unique']\n",
    "pfs = pfs.to_frame()"
   ],
   "metadata": {
    "collapsed": false,
    "pycharm": {
     "name": "#%%\n"
    }
   }
  },
  {
   "cell_type": "code",
   "execution_count": 475,
   "outputs": [
    {
     "data": {
      "text/plain": "41769"
     },
     "execution_count": 475,
     "metadata": {},
     "output_type": "execute_result"
    }
   ],
   "source": [
    "pfs['Numéro Unique'].sum()"
   ],
   "metadata": {
    "collapsed": false,
    "pycharm": {
     "name": "#%%\n"
    }
   }
  },
  {
   "cell_type": "code",
   "execution_count": 476,
   "outputs": [
    {
     "data": {
      "text/plain": "    Tranches de RI  Numéro Unique\n0              0.0       0.177165\n1             50.0       0.105341\n2            100.0       0.165194\n3            150.0       0.172377\n4            200.0       0.179559\n5            250.0       0.251383\n6            300.0       0.280112\n7            350.0       0.387847\n8            400.0       0.440518\n9            450.0       2.092461\n10           500.0       1.371831\n11           550.0       1.153966\n12           600.0       1.249731\n13           650.0       1.848261\n14           700.0       1.833896\n15           750.0       3.710886\n16           800.0       3.193756\n17           850.0       3.787498\n18           900.0       3.136297\n19           950.0       4.742752\n20          1000.0       3.074050\n21          1050.0       4.556010\n22          1100.0       3.797074\n23          1150.0       7.337978\n24          1200.0       4.251957\n25          1250.0       5.860806\n26          1300.0       3.885657\n27          1350.0       5.374799\n28          1400.0       3.581604\n29          1450.0       6.066700\n30          1500.0       2.748450\n31          1550.0       4.041275\n32          1600.0       2.322296\n33          1650.0       3.038138\n34          1700.0       1.678278\n35          1750.0       2.705356\n36          1800.0       1.213819\n37          1850.0       1.541813\n38          1900.0       0.897795\n39          1950.0       1.745314",
      "text/html": "<div>\n<style scoped>\n    .dataframe tbody tr th:only-of-type {\n        vertical-align: middle;\n    }\n\n    .dataframe tbody tr th {\n        vertical-align: top;\n    }\n\n    .dataframe thead th {\n        text-align: right;\n    }\n</style>\n<table border=\"1\" class=\"dataframe\">\n  <thead>\n    <tr style=\"text-align: right;\">\n      <th></th>\n      <th>Tranches de RI</th>\n      <th>Numéro Unique</th>\n    </tr>\n  </thead>\n  <tbody>\n    <tr>\n      <th>0</th>\n      <td>0.0</td>\n      <td>0.177165</td>\n    </tr>\n    <tr>\n      <th>1</th>\n      <td>50.0</td>\n      <td>0.105341</td>\n    </tr>\n    <tr>\n      <th>2</th>\n      <td>100.0</td>\n      <td>0.165194</td>\n    </tr>\n    <tr>\n      <th>3</th>\n      <td>150.0</td>\n      <td>0.172377</td>\n    </tr>\n    <tr>\n      <th>4</th>\n      <td>200.0</td>\n      <td>0.179559</td>\n    </tr>\n    <tr>\n      <th>5</th>\n      <td>250.0</td>\n      <td>0.251383</td>\n    </tr>\n    <tr>\n      <th>6</th>\n      <td>300.0</td>\n      <td>0.280112</td>\n    </tr>\n    <tr>\n      <th>7</th>\n      <td>350.0</td>\n      <td>0.387847</td>\n    </tr>\n    <tr>\n      <th>8</th>\n      <td>400.0</td>\n      <td>0.440518</td>\n    </tr>\n    <tr>\n      <th>9</th>\n      <td>450.0</td>\n      <td>2.092461</td>\n    </tr>\n    <tr>\n      <th>10</th>\n      <td>500.0</td>\n      <td>1.371831</td>\n    </tr>\n    <tr>\n      <th>11</th>\n      <td>550.0</td>\n      <td>1.153966</td>\n    </tr>\n    <tr>\n      <th>12</th>\n      <td>600.0</td>\n      <td>1.249731</td>\n    </tr>\n    <tr>\n      <th>13</th>\n      <td>650.0</td>\n      <td>1.848261</td>\n    </tr>\n    <tr>\n      <th>14</th>\n      <td>700.0</td>\n      <td>1.833896</td>\n    </tr>\n    <tr>\n      <th>15</th>\n      <td>750.0</td>\n      <td>3.710886</td>\n    </tr>\n    <tr>\n      <th>16</th>\n      <td>800.0</td>\n      <td>3.193756</td>\n    </tr>\n    <tr>\n      <th>17</th>\n      <td>850.0</td>\n      <td>3.787498</td>\n    </tr>\n    <tr>\n      <th>18</th>\n      <td>900.0</td>\n      <td>3.136297</td>\n    </tr>\n    <tr>\n      <th>19</th>\n      <td>950.0</td>\n      <td>4.742752</td>\n    </tr>\n    <tr>\n      <th>20</th>\n      <td>1000.0</td>\n      <td>3.074050</td>\n    </tr>\n    <tr>\n      <th>21</th>\n      <td>1050.0</td>\n      <td>4.556010</td>\n    </tr>\n    <tr>\n      <th>22</th>\n      <td>1100.0</td>\n      <td>3.797074</td>\n    </tr>\n    <tr>\n      <th>23</th>\n      <td>1150.0</td>\n      <td>7.337978</td>\n    </tr>\n    <tr>\n      <th>24</th>\n      <td>1200.0</td>\n      <td>4.251957</td>\n    </tr>\n    <tr>\n      <th>25</th>\n      <td>1250.0</td>\n      <td>5.860806</td>\n    </tr>\n    <tr>\n      <th>26</th>\n      <td>1300.0</td>\n      <td>3.885657</td>\n    </tr>\n    <tr>\n      <th>27</th>\n      <td>1350.0</td>\n      <td>5.374799</td>\n    </tr>\n    <tr>\n      <th>28</th>\n      <td>1400.0</td>\n      <td>3.581604</td>\n    </tr>\n    <tr>\n      <th>29</th>\n      <td>1450.0</td>\n      <td>6.066700</td>\n    </tr>\n    <tr>\n      <th>30</th>\n      <td>1500.0</td>\n      <td>2.748450</td>\n    </tr>\n    <tr>\n      <th>31</th>\n      <td>1550.0</td>\n      <td>4.041275</td>\n    </tr>\n    <tr>\n      <th>32</th>\n      <td>1600.0</td>\n      <td>2.322296</td>\n    </tr>\n    <tr>\n      <th>33</th>\n      <td>1650.0</td>\n      <td>3.038138</td>\n    </tr>\n    <tr>\n      <th>34</th>\n      <td>1700.0</td>\n      <td>1.678278</td>\n    </tr>\n    <tr>\n      <th>35</th>\n      <td>1750.0</td>\n      <td>2.705356</td>\n    </tr>\n    <tr>\n      <th>36</th>\n      <td>1800.0</td>\n      <td>1.213819</td>\n    </tr>\n    <tr>\n      <th>37</th>\n      <td>1850.0</td>\n      <td>1.541813</td>\n    </tr>\n    <tr>\n      <th>38</th>\n      <td>1900.0</td>\n      <td>0.897795</td>\n    </tr>\n    <tr>\n      <th>39</th>\n      <td>1950.0</td>\n      <td>1.745314</td>\n    </tr>\n  </tbody>\n</table>\n</div>"
     },
     "execution_count": 476,
     "metadata": {},
     "output_type": "execute_result"
    }
   ],
   "source": [
    "pfs=pfs.reset_index()\n",
    "pfs['Numéro Unique']=(pfs['Numéro Unique']/41769)*100\n",
    "pfs"
   ],
   "metadata": {
    "collapsed": false,
    "pycharm": {
     "name": "#%%\n"
    }
   }
  },
  {
   "cell_type": "code",
   "execution_count": 477,
   "outputs": [
    {
     "data": {
      "text/plain": "100.0"
     },
     "execution_count": 477,
     "metadata": {},
     "output_type": "execute_result"
    }
   ],
   "source": [
    "pfs['Numéro Unique'].sum()"
   ],
   "metadata": {
    "collapsed": false,
    "pycharm": {
     "name": "#%%\n"
    }
   }
  },
  {
   "cell_type": "code",
   "execution_count": 478,
   "outputs": [
    {
     "data": {
      "text/plain": "<Figure size 1800x360 with 1 Axes>",
      "image/png": "[encoded data removed]"
     },
     "metadata": {
      "needs_background": "light"
     },
     "output_type": "display_data"
    }
   ],
   "source": [
    " ax = pfs.plot.bar(x='Tranches de RI', y='Numéro Unique', xlabel='Tranche de Revenu imposable mensuel moyen', ylabel= \"Pourcentage de demandeurs\", title= 'Distribution par montant de RI des demandeurs qui ne déclarent aucunes PFS', rot=0, figsize=(25,5), color='green')"
   ],
   "metadata": {
    "collapsed": false,
    "pycharm": {
     "name": "#%%\n"
    }
   }
  },
  {
   "cell_type": "code",
   "execution_count": 479,
   "outputs": [],
   "source": [
    "ax.figure.savefig('RI_Aquitaine.pdf')"
   ],
   "metadata": {
    "collapsed": false,
    "pycharm": {
     "name": "#%%\n"
    }
   }
  },
  {
   "cell_type": "code",
   "execution_count": null,
   "outputs": [],
   "source": [],
   "metadata": {
    "collapsed": false,
    "pycharm": {
     "name": "#%%\n"
    }
   }
  }
 ],
 "metadata": {
  "kernelspec": {
   "display_name": "Python 3.10.5 ('housing_camille_env')",
   "language": "python",
   "name": "python3"
  },
  "language_info": {
   "codemirror_mode": {
    "name": "ipython",
    "version": 3
   },
   "file_extension": ".py",
   "mimetype": "text/x-python",
   "name": "python",
   "nbconvert_exporter": "python",
   "pygments_lexer": "ipython3",
   "version": "3.10.5"
  },
  "vscode": {
   "interpreter": {
    "hash": "8fad96bbbe6762c519f1fa3a0e80a714676148bdfa8f6cd3491511eec586cb93"
   }
  }
 },
 "nbformat": 4,
 "nbformat_minor": 0
}