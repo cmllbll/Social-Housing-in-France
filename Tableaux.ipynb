{
 "cells": [
  {
   "cell_type": "code",
   "execution_count": 429,
   "outputs": [],
   "source": [
    "import numpy as np\n",
    "import pandas as pd\n",
    "from tqdm import tqdm"
   ],
   "metadata": {
    "collapsed": false,
    "pycharm": {
     "name": "#%%\n"
    }
   }
  },
  {
   "cell_type": "code",
   "execution_count": 419,
   "outputs": [],
   "source": [
    "dfd = pd.read_csv(r'demandeurs_3_revenus.csv', index_col = 0)"
   ],
   "metadata": {
    "collapsed": false,
    "pycharm": {
     "name": "#%%\n"
    }
   }
  },
  {
   "cell_type": "code",
   "execution_count": 420,
   "outputs": [
    {
     "data": {
      "text/plain": "             Numéro Unique  Ressources mensuelles\\n  \\\n0       001031606376411126                    829.0   \n1       001031606376411126                    829.0   \n2       001031606376411126                    829.0   \n3       001031707754001033                    759.0   \n4       001031707754001033                    759.0   \n...                    ...                      ...   \n166753  9740116110885GDPUB                    472.0   \n166754  9740116110885GDPUB                    472.0   \n166755  9740417140838GDPUB                   1700.0   \n166756  974081714984011487                    764.0   \n166757               93610                      NaN   \n\n                                     Type  Montant par type de ressource\\n  \n0                   Allocation familiales                            129.0  \n1                 Autres (hors APL ou AL)                            209.0  \n2       Revenu de solidarité active (RSA)                            491.0  \n3                 Autres (hors APL ou AL)                            249.0  \n4       Revenu de solidarité active (RSA)                             37.0  \n...                                   ...                              ...  \n166753  Revenu de solidarité active (RSA)                            472.0  \n166754       Salaire ou revenu d'activité                              0.0  \n166755       Salaire ou revenu d'activité                           1700.0  \n166756               Pension d'invalidité                            764.0  \n166757                                NaN                              NaN  \n\n[166758 rows x 4 columns]",
      "text/html": "<div>\n<style scoped>\n    .dataframe tbody tr th:only-of-type {\n        vertical-align: middle;\n    }\n\n    .dataframe tbody tr th {\n        vertical-align: top;\n    }\n\n    .dataframe thead th {\n        text-align: right;\n    }\n</style>\n<table border=\"1\" class=\"dataframe\">\n  <thead>\n    <tr style=\"text-align: right;\">\n      <th></th>\n      <th>Numéro Unique</th>\n      <th>Ressources mensuelles\\n</th>\n      <th>Type</th>\n      <th>Montant par type de ressource\\n</th>\n    </tr>\n  </thead>\n  <tbody>\n    <tr>\n      <th>0</th>\n      <td>001031606376411126</td>\n      <td>829.0</td>\n      <td>Allocation familiales</td>\n      <td>129.0</td>\n    </tr>\n    <tr>\n      <th>1</th>\n      <td>001031606376411126</td>\n      <td>829.0</td>\n      <td>Autres (hors APL ou AL)</td>\n      <td>209.0</td>\n    </tr>\n    <tr>\n      <th>2</th>\n      <td>001031606376411126</td>\n      <td>829.0</td>\n      <td>Revenu de solidarité active (RSA)</td>\n      <td>491.0</td>\n    </tr>\n    <tr>\n      <th>3</th>\n      <td>001031707754001033</td>\n      <td>759.0</td>\n      <td>Autres (hors APL ou AL)</td>\n      <td>249.0</td>\n    </tr>\n    <tr>\n      <th>4</th>\n      <td>001031707754001033</td>\n      <td>759.0</td>\n      <td>Revenu de solidarité active (RSA)</td>\n      <td>37.0</td>\n    </tr>\n    <tr>\n      <th>...</th>\n      <td>...</td>\n      <td>...</td>\n      <td>...</td>\n      <td>...</td>\n    </tr>\n    <tr>\n      <th>166753</th>\n      <td>9740116110885GDPUB</td>\n      <td>472.0</td>\n      <td>Revenu de solidarité active (RSA)</td>\n      <td>472.0</td>\n    </tr>\n    <tr>\n      <th>166754</th>\n      <td>9740116110885GDPUB</td>\n      <td>472.0</td>\n      <td>Salaire ou revenu d'activité</td>\n      <td>0.0</td>\n    </tr>\n    <tr>\n      <th>166755</th>\n      <td>9740417140838GDPUB</td>\n      <td>1700.0</td>\n      <td>Salaire ou revenu d'activité</td>\n      <td>1700.0</td>\n    </tr>\n    <tr>\n      <th>166756</th>\n      <td>974081714984011487</td>\n      <td>764.0</td>\n      <td>Pension d'invalidité</td>\n      <td>764.0</td>\n    </tr>\n    <tr>\n      <th>166757</th>\n      <td>93610</td>\n      <td>NaN</td>\n      <td>NaN</td>\n      <td>NaN</td>\n    </tr>\n  </tbody>\n</table>\n<p>166758 rows × 4 columns</p>\n</div>"
     },
     "execution_count": 420,
     "metadata": {},
     "output_type": "execute_result"
    }
   ],
   "source": [
    "dfd=dfd.rename(columns={'Type de ressource\\n': 'Type'})\n",
    "dfd"
   ],
   "metadata": {
    "collapsed": false,
    "pycharm": {
     "name": "#%%\n"
    }
   }
  },
  {
   "cell_type": "code",
   "execution_count": 421,
   "outputs": [
    {
     "data": {
      "text/plain": "3350"
     },
     "execution_count": 421,
     "metadata": {},
     "output_type": "execute_result"
    }
   ],
   "source": [
    "dfd['Ressources mensuelles\\n'].isna().sum()"
   ],
   "metadata": {
    "collapsed": false,
    "pycharm": {
     "name": "#%%\n"
    }
   }
  },
  {
   "cell_type": "code",
   "execution_count": 378,
   "outputs": [
    {
     "data": {
      "text/plain": "             Numéro Unique  Ressources mensuelles\\n  \\\n0       001011403466511146                   2134.0   \n4       0010117074877GDPUB                    900.0   \n6       001021504965918214                    944.0   \n8       0010217076033GDPUB                   1200.0   \n9       001021707620301173                   1200.0   \n...                    ...                      ...   \n152671  9741117155529GDPUB                    674.0   \n152672  974111715873511487                   1725.0   \n152673  9741216133916GDPUB                   2000.0   \n152674  9741216133920GDPUB                    846.0   \n152675  9741217158325GDPUB                     33.0   \n\n                                     Type  Montant par type de ressource\\n  \n0         Allocation chômage / indemnités                            240.0  \n4                   Allocation familiales                            700.0  \n6                   Allocation familiales                            129.0  \n8         Allocation chômage / indemnités                           1200.0  \n9            Salaire ou revenu d'activité                           1200.0  \n...                                   ...                              ...  \n152671  Revenu de solidarité active (RSA)                            674.0  \n152672                           Retraite                           1725.0  \n152673       Salaire ou revenu d'activité                           2000.0  \n152674                           Retraite                            846.0  \n152675    Allocation chômage / indemnités                             33.0  \n\n[80879 rows x 4 columns]",
      "text/html": "<div>\n<style scoped>\n    .dataframe tbody tr th:only-of-type {\n        vertical-align: middle;\n    }\n\n    .dataframe tbody tr th {\n        vertical-align: top;\n    }\n\n    .dataframe thead th {\n        text-align: right;\n    }\n</style>\n<table border=\"1\" class=\"dataframe\">\n  <thead>\n    <tr style=\"text-align: right;\">\n      <th></th>\n      <th>Numéro Unique</th>\n      <th>Ressources mensuelles\\n</th>\n      <th>Type</th>\n      <th>Montant par type de ressource\\n</th>\n    </tr>\n  </thead>\n  <tbody>\n    <tr>\n      <th>0</th>\n      <td>001011403466511146</td>\n      <td>2134.0</td>\n      <td>Allocation chômage / indemnités</td>\n      <td>240.0</td>\n    </tr>\n    <tr>\n      <th>4</th>\n      <td>0010117074877GDPUB</td>\n      <td>900.0</td>\n      <td>Allocation familiales</td>\n      <td>700.0</td>\n    </tr>\n    <tr>\n      <th>6</th>\n      <td>001021504965918214</td>\n      <td>944.0</td>\n      <td>Allocation familiales</td>\n      <td>129.0</td>\n    </tr>\n    <tr>\n      <th>8</th>\n      <td>0010217076033GDPUB</td>\n      <td>1200.0</td>\n      <td>Allocation chômage / indemnités</td>\n      <td>1200.0</td>\n    </tr>\n    <tr>\n      <th>9</th>\n      <td>001021707620301173</td>\n      <td>1200.0</td>\n      <td>Salaire ou revenu d'activité</td>\n      <td>1200.0</td>\n    </tr>\n    <tr>\n      <th>...</th>\n      <td>...</td>\n      <td>...</td>\n      <td>...</td>\n      <td>...</td>\n    </tr>\n    <tr>\n      <th>152671</th>\n      <td>9741117155529GDPUB</td>\n      <td>674.0</td>\n      <td>Revenu de solidarité active (RSA)</td>\n      <td>674.0</td>\n    </tr>\n    <tr>\n      <th>152672</th>\n      <td>974111715873511487</td>\n      <td>1725.0</td>\n      <td>Retraite</td>\n      <td>1725.0</td>\n    </tr>\n    <tr>\n      <th>152673</th>\n      <td>9741216133916GDPUB</td>\n      <td>2000.0</td>\n      <td>Salaire ou revenu d'activité</td>\n      <td>2000.0</td>\n    </tr>\n    <tr>\n      <th>152674</th>\n      <td>9741216133920GDPUB</td>\n      <td>846.0</td>\n      <td>Retraite</td>\n      <td>846.0</td>\n    </tr>\n    <tr>\n      <th>152675</th>\n      <td>9741217158325GDPUB</td>\n      <td>33.0</td>\n      <td>Allocation chômage / indemnités</td>\n      <td>33.0</td>\n    </tr>\n  </tbody>\n</table>\n<p>80879 rows × 4 columns</p>\n</div>"
     },
     "execution_count": 378,
     "metadata": {},
     "output_type": "execute_result"
    }
   ],
   "source": [
    "dfdbis=dfd.drop_duplicates(subset =\"Numéro Unique\")\n",
    "dfdbis=dfdbis.dropna()\n",
    "dfdbis"
   ],
   "metadata": {
    "collapsed": false,
    "pycharm": {
     "name": "#%%\n"
    }
   }
  },
  {
   "cell_type": "markdown",
   "source": [
    "### Calcul des ressources imposables mensuelles"
   ],
   "metadata": {
    "collapsed": false,
    "pycharm": {
     "name": "#%% md\n"
    }
   }
  },
  {
   "cell_type": "code",
   "execution_count": 379,
   "outputs": [
    {
     "data": {
      "text/plain": "             Numéro Unique  Ressources mensuelles\\n  \\\n0       001011403466511146                   2134.0   \n2       001011403466511146                   2134.0   \n3       001011403466511146                   2134.0   \n5       0010117074877GDPUB                    900.0   \n8       0010217076033GDPUB                   1200.0   \n...                    ...                      ...   \n152670  974091715322011487                   2121.0   \n152672  974111715873511487                   1725.0   \n152673  9741216133916GDPUB                   2000.0   \n152674  9741216133920GDPUB                    846.0   \n152675  9741217158325GDPUB                     33.0   \n\n                                   Type  Montant par type de ressource\\n  \n0       Allocation chômage / indemnités                            240.0  \n2               Autres (hors APL ou AL)                            517.0  \n3          Salaire ou revenu d'activité                            953.0  \n5             Pension alimentaire reçue                            200.0  \n8       Allocation chômage / indemnités                           1200.0  \n...                                 ...                              ...  \n152670     Salaire ou revenu d'activité                           2083.0  \n152672                         Retraite                           1725.0  \n152673     Salaire ou revenu d'activité                           2000.0  \n152674                         Retraite                            846.0  \n152675  Allocation chômage / indemnités                             33.0  \n\n[90206 rows x 4 columns]",
      "text/html": "<div>\n<style scoped>\n    .dataframe tbody tr th:only-of-type {\n        vertical-align: middle;\n    }\n\n    .dataframe tbody tr th {\n        vertical-align: top;\n    }\n\n    .dataframe thead th {\n        text-align: right;\n    }\n</style>\n<table border=\"1\" class=\"dataframe\">\n  <thead>\n    <tr style=\"text-align: right;\">\n      <th></th>\n      <th>Numéro Unique</th>\n      <th>Ressources mensuelles\\n</th>\n      <th>Type</th>\n      <th>Montant par type de ressource\\n</th>\n    </tr>\n  </thead>\n  <tbody>\n    <tr>\n      <th>0</th>\n      <td>001011403466511146</td>\n      <td>2134.0</td>\n      <td>Allocation chômage / indemnités</td>\n      <td>240.0</td>\n    </tr>\n    <tr>\n      <th>2</th>\n      <td>001011403466511146</td>\n      <td>2134.0</td>\n      <td>Autres (hors APL ou AL)</td>\n      <td>517.0</td>\n    </tr>\n    <tr>\n      <th>3</th>\n      <td>001011403466511146</td>\n      <td>2134.0</td>\n      <td>Salaire ou revenu d'activité</td>\n      <td>953.0</td>\n    </tr>\n    <tr>\n      <th>5</th>\n      <td>0010117074877GDPUB</td>\n      <td>900.0</td>\n      <td>Pension alimentaire reçue</td>\n      <td>200.0</td>\n    </tr>\n    <tr>\n      <th>8</th>\n      <td>0010217076033GDPUB</td>\n      <td>1200.0</td>\n      <td>Allocation chômage / indemnités</td>\n      <td>1200.0</td>\n    </tr>\n    <tr>\n      <th>...</th>\n      <td>...</td>\n      <td>...</td>\n      <td>...</td>\n      <td>...</td>\n    </tr>\n    <tr>\n      <th>152670</th>\n      <td>974091715322011487</td>\n      <td>2121.0</td>\n      <td>Salaire ou revenu d'activité</td>\n      <td>2083.0</td>\n    </tr>\n    <tr>\n      <th>152672</th>\n      <td>974111715873511487</td>\n      <td>1725.0</td>\n      <td>Retraite</td>\n      <td>1725.0</td>\n    </tr>\n    <tr>\n      <th>152673</th>\n      <td>9741216133916GDPUB</td>\n      <td>2000.0</td>\n      <td>Salaire ou revenu d'activité</td>\n      <td>2000.0</td>\n    </tr>\n    <tr>\n      <th>152674</th>\n      <td>9741216133920GDPUB</td>\n      <td>846.0</td>\n      <td>Retraite</td>\n      <td>846.0</td>\n    </tr>\n    <tr>\n      <th>152675</th>\n      <td>9741217158325GDPUB</td>\n      <td>33.0</td>\n      <td>Allocation chômage / indemnités</td>\n      <td>33.0</td>\n    </tr>\n  </tbody>\n</table>\n<p>90206 rows × 4 columns</p>\n</div>"
     },
     "execution_count": 379,
     "metadata": {},
     "output_type": "execute_result"
    }
   ],
   "source": [
    "values=[\"Retraite\", \"Allocation chômage / indemnités\", \"Salaire ou revenu d'activité\", \"Pension alimentaire reçue\", \"Autres (hors APL ou AL)\", \"Pension d\\'invalidité\"]\n",
    "filtered_df = dfd[dfd.Type.isin(values)]\n",
    "filtered_df"
   ],
   "metadata": {
    "collapsed": false,
    "pycharm": {
     "name": "#%%\n"
    }
   }
  },
  {
   "cell_type": "code",
   "execution_count": 380,
   "outputs": [],
   "source": [
    "shrank_values = filtered_df.groupby(by='Numéro Unique').sum()['Montant par type de ressource\\n']\n",
    "\n",
    "merged_df = filtered_df.merge(shrank_values, left_on='Numéro Unique', right_index=True)\n",
    "\n",
    "merged_df = merged_df.rename(columns={'Montant par type de ressource\\n_y': 'Ressources imposables mensuelles moyennes (RI)'})\n"
   ],
   "metadata": {
    "collapsed": false,
    "pycharm": {
     "name": "#%%\n"
    }
   }
  },
  {
   "cell_type": "code",
   "execution_count": 381,
   "outputs": [
    {
     "data": {
      "text/plain": "             Numéro Unique  Ressources mensuelles\\n  \\\n0       001011403466511146                   2134.0   \n2       001011403466511146                   2134.0   \n3       001011403466511146                   2134.0   \n5       0010117074877GDPUB                    900.0   \n8       0010217076033GDPUB                   1200.0   \n...                    ...                      ...   \n152670  974091715322011487                   2121.0   \n152672  974111715873511487                   1725.0   \n152673  9741216133916GDPUB                   2000.0   \n152674  9741216133920GDPUB                    846.0   \n152675  9741217158325GDPUB                     33.0   \n\n                                   Type  Montant par type de ressource\\n_x  \\\n0       Allocation chômage / indemnités                              240.0   \n2               Autres (hors APL ou AL)                              517.0   \n3          Salaire ou revenu d'activité                              953.0   \n5             Pension alimentaire reçue                              200.0   \n8       Allocation chômage / indemnités                             1200.0   \n...                                 ...                                ...   \n152670     Salaire ou revenu d'activité                             2083.0   \n152672                         Retraite                             1725.0   \n152673     Salaire ou revenu d'activité                             2000.0   \n152674                         Retraite                              846.0   \n152675  Allocation chômage / indemnités                               33.0   \n\n        Ressources imposables mensuelles moyennes (RI)  \n0                                               1710.0  \n2                                               1710.0  \n3                                               1710.0  \n5                                                200.0  \n8                                               1200.0  \n...                                                ...  \n152670                                          2083.0  \n152672                                          1725.0  \n152673                                          2000.0  \n152674                                           846.0  \n152675                                            33.0  \n\n[90206 rows x 5 columns]",
      "text/html": "<div>\n<style scoped>\n    .dataframe tbody tr th:only-of-type {\n        vertical-align: middle;\n    }\n\n    .dataframe tbody tr th {\n        vertical-align: top;\n    }\n\n    .dataframe thead th {\n        text-align: right;\n    }\n</style>\n<table border=\"1\" class=\"dataframe\">\n  <thead>\n    <tr style=\"text-align: right;\">\n      <th></th>\n      <th>Numéro Unique</th>\n      <th>Ressources mensuelles\\n</th>\n      <th>Type</th>\n      <th>Montant par type de ressource\\n_x</th>\n      <th>Ressources imposables mensuelles moyennes (RI)</th>\n    </tr>\n  </thead>\n  <tbody>\n    <tr>\n      <th>0</th>\n      <td>001011403466511146</td>\n      <td>2134.0</td>\n      <td>Allocation chômage / indemnités</td>\n      <td>240.0</td>\n      <td>1710.0</td>\n    </tr>\n    <tr>\n      <th>2</th>\n      <td>001011403466511146</td>\n      <td>2134.0</td>\n      <td>Autres (hors APL ou AL)</td>\n      <td>517.0</td>\n      <td>1710.0</td>\n    </tr>\n    <tr>\n      <th>3</th>\n      <td>001011403466511146</td>\n      <td>2134.0</td>\n      <td>Salaire ou revenu d'activité</td>\n      <td>953.0</td>\n      <td>1710.0</td>\n    </tr>\n    <tr>\n      <th>5</th>\n      <td>0010117074877GDPUB</td>\n      <td>900.0</td>\n      <td>Pension alimentaire reçue</td>\n      <td>200.0</td>\n      <td>200.0</td>\n    </tr>\n    <tr>\n      <th>8</th>\n      <td>0010217076033GDPUB</td>\n      <td>1200.0</td>\n      <td>Allocation chômage / indemnités</td>\n      <td>1200.0</td>\n      <td>1200.0</td>\n    </tr>\n    <tr>\n      <th>...</th>\n      <td>...</td>\n      <td>...</td>\n      <td>...</td>\n      <td>...</td>\n      <td>...</td>\n    </tr>\n    <tr>\n      <th>152670</th>\n      <td>974091715322011487</td>\n      <td>2121.0</td>\n      <td>Salaire ou revenu d'activité</td>\n      <td>2083.0</td>\n      <td>2083.0</td>\n    </tr>\n    <tr>\n      <th>152672</th>\n      <td>974111715873511487</td>\n      <td>1725.0</td>\n      <td>Retraite</td>\n      <td>1725.0</td>\n      <td>1725.0</td>\n    </tr>\n    <tr>\n      <th>152673</th>\n      <td>9741216133916GDPUB</td>\n      <td>2000.0</td>\n      <td>Salaire ou revenu d'activité</td>\n      <td>2000.0</td>\n      <td>2000.0</td>\n    </tr>\n    <tr>\n      <th>152674</th>\n      <td>9741216133920GDPUB</td>\n      <td>846.0</td>\n      <td>Retraite</td>\n      <td>846.0</td>\n      <td>846.0</td>\n    </tr>\n    <tr>\n      <th>152675</th>\n      <td>9741217158325GDPUB</td>\n      <td>33.0</td>\n      <td>Allocation chômage / indemnités</td>\n      <td>33.0</td>\n      <td>33.0</td>\n    </tr>\n  </tbody>\n</table>\n<p>90206 rows × 5 columns</p>\n</div>"
     },
     "execution_count": 381,
     "metadata": {},
     "output_type": "execute_result"
    }
   ],
   "source": [
    "merged_df"
   ],
   "metadata": {
    "collapsed": false,
    "pycharm": {
     "name": "#%%\n"
    }
   }
  },
  {
   "cell_type": "code",
   "execution_count": 382,
   "outputs": [
    {
     "data": {
      "text/plain": "             Numéro Unique  Ressources mensuelles\\n  \\\n0       001011403466511146                   2134.0   \n5       0010117074877GDPUB                    900.0   \n8       0010217076033GDPUB                   1200.0   \n9       001021707620301173                   1200.0   \n10      001041707857711126                    800.0   \n...                    ...                      ...   \n152670  974091715322011487                   2121.0   \n152672  974111715873511487                   1725.0   \n152673  9741216133916GDPUB                   2000.0   \n152674  9741216133920GDPUB                    846.0   \n152675  9741217158325GDPUB                     33.0   \n\n                                   Type  Montant par type de ressource\\n_x  \\\n0       Allocation chômage / indemnités                              240.0   \n5             Pension alimentaire reçue                              200.0   \n8       Allocation chômage / indemnités                             1200.0   \n9          Salaire ou revenu d'activité                             1200.0   \n10                             Retraite                              800.0   \n...                                 ...                                ...   \n152670     Salaire ou revenu d'activité                             2083.0   \n152672                         Retraite                             1725.0   \n152673     Salaire ou revenu d'activité                             2000.0   \n152674                         Retraite                              846.0   \n152675  Allocation chômage / indemnités                               33.0   \n\n        Ressources imposables mensuelles moyennes (RI)  \n0                                               1710.0  \n5                                                200.0  \n8                                               1200.0  \n9                                               1200.0  \n10                                               800.0  \n...                                                ...  \n152670                                          2083.0  \n152672                                          1725.0  \n152673                                          2000.0  \n152674                                           846.0  \n152675                                            33.0  \n\n[68066 rows x 5 columns]",
      "text/html": "<div>\n<style scoped>\n    .dataframe tbody tr th:only-of-type {\n        vertical-align: middle;\n    }\n\n    .dataframe tbody tr th {\n        vertical-align: top;\n    }\n\n    .dataframe thead th {\n        text-align: right;\n    }\n</style>\n<table border=\"1\" class=\"dataframe\">\n  <thead>\n    <tr style=\"text-align: right;\">\n      <th></th>\n      <th>Numéro Unique</th>\n      <th>Ressources mensuelles\\n</th>\n      <th>Type</th>\n      <th>Montant par type de ressource\\n_x</th>\n      <th>Ressources imposables mensuelles moyennes (RI)</th>\n    </tr>\n  </thead>\n  <tbody>\n    <tr>\n      <th>0</th>\n      <td>001011403466511146</td>\n      <td>2134.0</td>\n      <td>Allocation chômage / indemnités</td>\n      <td>240.0</td>\n      <td>1710.0</td>\n    </tr>\n    <tr>\n      <th>5</th>\n      <td>0010117074877GDPUB</td>\n      <td>900.0</td>\n      <td>Pension alimentaire reçue</td>\n      <td>200.0</td>\n      <td>200.0</td>\n    </tr>\n    <tr>\n      <th>8</th>\n      <td>0010217076033GDPUB</td>\n      <td>1200.0</td>\n      <td>Allocation chômage / indemnités</td>\n      <td>1200.0</td>\n      <td>1200.0</td>\n    </tr>\n    <tr>\n      <th>9</th>\n      <td>001021707620301173</td>\n      <td>1200.0</td>\n      <td>Salaire ou revenu d'activité</td>\n      <td>1200.0</td>\n      <td>1200.0</td>\n    </tr>\n    <tr>\n      <th>10</th>\n      <td>001041707857711126</td>\n      <td>800.0</td>\n      <td>Retraite</td>\n      <td>800.0</td>\n      <td>800.0</td>\n    </tr>\n    <tr>\n      <th>...</th>\n      <td>...</td>\n      <td>...</td>\n      <td>...</td>\n      <td>...</td>\n      <td>...</td>\n    </tr>\n    <tr>\n      <th>152670</th>\n      <td>974091715322011487</td>\n      <td>2121.0</td>\n      <td>Salaire ou revenu d'activité</td>\n      <td>2083.0</td>\n      <td>2083.0</td>\n    </tr>\n    <tr>\n      <th>152672</th>\n      <td>974111715873511487</td>\n      <td>1725.0</td>\n      <td>Retraite</td>\n      <td>1725.0</td>\n      <td>1725.0</td>\n    </tr>\n    <tr>\n      <th>152673</th>\n      <td>9741216133916GDPUB</td>\n      <td>2000.0</td>\n      <td>Salaire ou revenu d'activité</td>\n      <td>2000.0</td>\n      <td>2000.0</td>\n    </tr>\n    <tr>\n      <th>152674</th>\n      <td>9741216133920GDPUB</td>\n      <td>846.0</td>\n      <td>Retraite</td>\n      <td>846.0</td>\n      <td>846.0</td>\n    </tr>\n    <tr>\n      <th>152675</th>\n      <td>9741217158325GDPUB</td>\n      <td>33.0</td>\n      <td>Allocation chômage / indemnités</td>\n      <td>33.0</td>\n      <td>33.0</td>\n    </tr>\n  </tbody>\n</table>\n<p>68066 rows × 5 columns</p>\n</div>"
     },
     "execution_count": 382,
     "metadata": {},
     "output_type": "execute_result"
    }
   ],
   "source": [
    "merged_dfbis=merged_df.drop_duplicates(subset =\"Numéro Unique\")\n",
    "merged_dfbis"
   ],
   "metadata": {
    "collapsed": false,
    "pycharm": {
     "name": "#%%\n"
    }
   }
  },
  {
   "cell_type": "code",
   "execution_count": 383,
   "outputs": [
    {
     "data": {
      "text/plain": "            Numéro Unique  RM Moyennes  \\\n0      001011403466511146       2134.0   \n1      0010117074877GDPUB        900.0   \n2      001021504965918214        944.0   \n3      0010217076033GDPUB       1200.0   \n4      001021707620301173       1200.0   \n...                   ...          ...   \n80874  9741117155529GDPUB        674.0   \n80875  974111715873511487       1725.0   \n80876  9741216133916GDPUB       2000.0   \n80877  9741216133920GDPUB        846.0   \n80878  9741217158325GDPUB         33.0   \n\n       Ressources imposables mensuelles moyennes (RI)  \n0                                              1710.0  \n1                                               200.0  \n2                                                 NaN  \n3                                              1200.0  \n4                                              1200.0  \n...                                               ...  \n80874                                             NaN  \n80875                                          1725.0  \n80876                                          2000.0  \n80877                                           846.0  \n80878                                            33.0  \n\n[80879 rows x 3 columns]",
      "text/html": "<div>\n<style scoped>\n    .dataframe tbody tr th:only-of-type {\n        vertical-align: middle;\n    }\n\n    .dataframe tbody tr th {\n        vertical-align: top;\n    }\n\n    .dataframe thead th {\n        text-align: right;\n    }\n</style>\n<table border=\"1\" class=\"dataframe\">\n  <thead>\n    <tr style=\"text-align: right;\">\n      <th></th>\n      <th>Numéro Unique</th>\n      <th>RM Moyennes</th>\n      <th>Ressources imposables mensuelles moyennes (RI)</th>\n    </tr>\n  </thead>\n  <tbody>\n    <tr>\n      <th>0</th>\n      <td>001011403466511146</td>\n      <td>2134.0</td>\n      <td>1710.0</td>\n    </tr>\n    <tr>\n      <th>1</th>\n      <td>0010117074877GDPUB</td>\n      <td>900.0</td>\n      <td>200.0</td>\n    </tr>\n    <tr>\n      <th>2</th>\n      <td>001021504965918214</td>\n      <td>944.0</td>\n      <td>NaN</td>\n    </tr>\n    <tr>\n      <th>3</th>\n      <td>0010217076033GDPUB</td>\n      <td>1200.0</td>\n      <td>1200.0</td>\n    </tr>\n    <tr>\n      <th>4</th>\n      <td>001021707620301173</td>\n      <td>1200.0</td>\n      <td>1200.0</td>\n    </tr>\n    <tr>\n      <th>...</th>\n      <td>...</td>\n      <td>...</td>\n      <td>...</td>\n    </tr>\n    <tr>\n      <th>80874</th>\n      <td>9741117155529GDPUB</td>\n      <td>674.0</td>\n      <td>NaN</td>\n    </tr>\n    <tr>\n      <th>80875</th>\n      <td>974111715873511487</td>\n      <td>1725.0</td>\n      <td>1725.0</td>\n    </tr>\n    <tr>\n      <th>80876</th>\n      <td>9741216133916GDPUB</td>\n      <td>2000.0</td>\n      <td>2000.0</td>\n    </tr>\n    <tr>\n      <th>80877</th>\n      <td>9741216133920GDPUB</td>\n      <td>846.0</td>\n      <td>846.0</td>\n    </tr>\n    <tr>\n      <th>80878</th>\n      <td>9741217158325GDPUB</td>\n      <td>33.0</td>\n      <td>33.0</td>\n    </tr>\n  </tbody>\n</table>\n<p>80879 rows × 3 columns</p>\n</div>"
     },
     "execution_count": 383,
     "metadata": {},
     "output_type": "execute_result"
    }
   ],
   "source": [
    "bdd = dfdbis.merge(merged_dfbis, on='Numéro Unique', how='outer')\n",
    "bdd=bdd[['Numéro Unique', 'Ressources mensuelles\\n_x','Ressources imposables mensuelles moyennes (RI)']]\n",
    "bdd=bdd.rename(columns={'Ressources mensuelles\\n_x': 'RM Moyennes'})\n",
    "bdd"
   ],
   "metadata": {
    "collapsed": false,
    "pycharm": {
     "name": "#%%\n"
    }
   }
  },
  {
   "cell_type": "code",
   "execution_count": 150,
   "outputs": [
    {
     "data": {
      "text/plain": "              Numéro Unique  Ressources mensuelles  \\\nindex                                                \n29       002011403169610414                  946.0   \n30       002011707708910411                 1000.0   \n32       0020117077711GDPUB                 1850.0   \n34       002011707772510420                 1982.0   \n37       002021707869210424                 1371.0   \n...                     ...                    ...   \n1285435  972121705572711572                 1157.0   \n1285437  9740317139610AL020                  691.0   \n1285440  9740317140139AL020                 3728.0   \n1285441  9740317140139AL020                 3728.0   \n1285443  974051714578111487                  367.0   \n\n                                 Type  Montant par type de ressource_x  \\\nindex                                                                    \n29       Salaire ou revenu d'activité                            650.0   \n30                           Retraite                           1001.0   \n32       Salaire ou revenu d'activité                           1650.0   \n34       Salaire ou revenu d'activité                           1700.0   \n37                           Retraite                           1671.0   \n...                               ...                              ...   \n1285435                      Retraite                           1044.0   \n1285437          Pension d'invalidité                            991.0   \n1285440     Pension alimentaire reçue                            100.0   \n1285441  Salaire ou revenu d'activité                           1728.0   \n1285443       Autres (hors APL ou AL)                            168.0   \n\n         Revenu imposable  \nindex                      \n29                  650.0  \n30                 1001.0  \n32                 1650.0  \n34                 1700.0  \n37                 1671.0  \n...                   ...  \n1285435            1044.0  \n1285437             991.0  \n1285440            1828.0  \n1285441            1828.0  \n1285443             168.0  \n\n[294152 rows x 5 columns]",
      "text/html": "<div>\n<style scoped>\n    .dataframe tbody tr th:only-of-type {\n        vertical-align: middle;\n    }\n\n    .dataframe tbody tr th {\n        vertical-align: top;\n    }\n\n    .dataframe thead th {\n        text-align: right;\n    }\n</style>\n<table border=\"1\" class=\"dataframe\">\n  <thead>\n    <tr style=\"text-align: right;\">\n      <th></th>\n      <th>Numéro Unique</th>\n      <th>Ressources mensuelles</th>\n      <th>Type</th>\n      <th>Montant par type de ressource_x</th>\n      <th>Revenu imposable</th>\n    </tr>\n    <tr>\n      <th>index</th>\n      <th></th>\n      <th></th>\n      <th></th>\n      <th></th>\n      <th></th>\n    </tr>\n  </thead>\n  <tbody>\n    <tr>\n      <th>29</th>\n      <td>002011403169610414</td>\n      <td>946.0</td>\n      <td>Salaire ou revenu d'activité</td>\n      <td>650.0</td>\n      <td>650.0</td>\n    </tr>\n    <tr>\n      <th>30</th>\n      <td>002011707708910411</td>\n      <td>1000.0</td>\n      <td>Retraite</td>\n      <td>1001.0</td>\n      <td>1001.0</td>\n    </tr>\n    <tr>\n      <th>32</th>\n      <td>0020117077711GDPUB</td>\n      <td>1850.0</td>\n      <td>Salaire ou revenu d'activité</td>\n      <td>1650.0</td>\n      <td>1650.0</td>\n    </tr>\n    <tr>\n      <th>34</th>\n      <td>002011707772510420</td>\n      <td>1982.0</td>\n      <td>Salaire ou revenu d'activité</td>\n      <td>1700.0</td>\n      <td>1700.0</td>\n    </tr>\n    <tr>\n      <th>37</th>\n      <td>002021707869210424</td>\n      <td>1371.0</td>\n      <td>Retraite</td>\n      <td>1671.0</td>\n      <td>1671.0</td>\n    </tr>\n    <tr>\n      <th>...</th>\n      <td>...</td>\n      <td>...</td>\n      <td>...</td>\n      <td>...</td>\n      <td>...</td>\n    </tr>\n    <tr>\n      <th>1285435</th>\n      <td>972121705572711572</td>\n      <td>1157.0</td>\n      <td>Retraite</td>\n      <td>1044.0</td>\n      <td>1044.0</td>\n    </tr>\n    <tr>\n      <th>1285437</th>\n      <td>9740317139610AL020</td>\n      <td>691.0</td>\n      <td>Pension d'invalidité</td>\n      <td>991.0</td>\n      <td>991.0</td>\n    </tr>\n    <tr>\n      <th>1285440</th>\n      <td>9740317140139AL020</td>\n      <td>3728.0</td>\n      <td>Pension alimentaire reçue</td>\n      <td>100.0</td>\n      <td>1828.0</td>\n    </tr>\n    <tr>\n      <th>1285441</th>\n      <td>9740317140139AL020</td>\n      <td>3728.0</td>\n      <td>Salaire ou revenu d'activité</td>\n      <td>1728.0</td>\n      <td>1828.0</td>\n    </tr>\n    <tr>\n      <th>1285443</th>\n      <td>974051714578111487</td>\n      <td>367.0</td>\n      <td>Autres (hors APL ou AL)</td>\n      <td>168.0</td>\n      <td>168.0</td>\n    </tr>\n  </tbody>\n</table>\n<p>294152 rows × 5 columns</p>\n</div>"
     },
     "execution_count": 150,
     "metadata": {},
     "output_type": "execute_result"
    }
   ],
   "source": [
    "#Foyers dont les ressources mensuelles ne matchent pas le revenu imposable => Une part des ressources n'est pas imposable\n",
    "merged_df[merged_df['Revenu imposable']!=merged_df['Ressources mensuelles']]"
   ],
   "metadata": {
    "collapsed": false,
    "pycharm": {
     "name": "#%%\n"
    }
   }
  },
  {
   "cell_type": "code",
   "execution_count": 151,
   "outputs": [
    {
     "data": {
      "text/plain": "              Numéro Unique  Ressources mensuelles  \\\nindex                                                \n3        001071606857001033                 1570.0   \n4        001071606857001033                 1570.0   \n7        001111708713716214                 1868.0   \n8        001111708713716214                 1868.0   \n13       0011217089230GDPUB                 1800.0   \n...                     ...                    ...   \n1285430  972091705244411572                 3002.0   \n1285440  9740317140139AL020                 3728.0   \n1285441  9740317140139AL020                 3728.0   \n1285445  974081715046411487                 1027.0   \n1285446  974081715046411487                 1027.0   \n\n                                    Type  Montant par type de ressource_x  \\\nindex                                                                       \n3        Allocation chômage / indemnités                            500.0   \n4           Salaire ou revenu d'activité                           1070.0   \n7                   Pension d'invalidité                            723.0   \n8                               Retraite                           1145.0   \n13       Allocation chômage / indemnités                              0.0   \n...                                  ...                              ...   \n1285430     Salaire ou revenu d'activité                           1501.0   \n1285440        Pension alimentaire reçue                            100.0   \n1285441     Salaire ou revenu d'activité                           1728.0   \n1285445        Pension alimentaire reçue                            160.0   \n1285446                         Retraite                            867.0   \n\n         Revenu imposable  \nindex                      \n3                  1570.0  \n4                  1570.0  \n7                  1868.0  \n8                  1868.0  \n13                 1800.0  \n...                   ...  \n1285430            3002.0  \n1285440            1828.0  \n1285441            1828.0  \n1285445            1027.0  \n1285446            1027.0  \n\n[247603 rows x 5 columns]",
      "text/html": "<div>\n<style scoped>\n    .dataframe tbody tr th:only-of-type {\n        vertical-align: middle;\n    }\n\n    .dataframe tbody tr th {\n        vertical-align: top;\n    }\n\n    .dataframe thead th {\n        text-align: right;\n    }\n</style>\n<table border=\"1\" class=\"dataframe\">\n  <thead>\n    <tr style=\"text-align: right;\">\n      <th></th>\n      <th>Numéro Unique</th>\n      <th>Ressources mensuelles</th>\n      <th>Type</th>\n      <th>Montant par type de ressource_x</th>\n      <th>Revenu imposable</th>\n    </tr>\n    <tr>\n      <th>index</th>\n      <th></th>\n      <th></th>\n      <th></th>\n      <th></th>\n      <th></th>\n    </tr>\n  </thead>\n  <tbody>\n    <tr>\n      <th>3</th>\n      <td>001071606857001033</td>\n      <td>1570.0</td>\n      <td>Allocation chômage / indemnités</td>\n      <td>500.0</td>\n      <td>1570.0</td>\n    </tr>\n    <tr>\n      <th>4</th>\n      <td>001071606857001033</td>\n      <td>1570.0</td>\n      <td>Salaire ou revenu d'activité</td>\n      <td>1070.0</td>\n      <td>1570.0</td>\n    </tr>\n    <tr>\n      <th>7</th>\n      <td>001111708713716214</td>\n      <td>1868.0</td>\n      <td>Pension d'invalidité</td>\n      <td>723.0</td>\n      <td>1868.0</td>\n    </tr>\n    <tr>\n      <th>8</th>\n      <td>001111708713716214</td>\n      <td>1868.0</td>\n      <td>Retraite</td>\n      <td>1145.0</td>\n      <td>1868.0</td>\n    </tr>\n    <tr>\n      <th>13</th>\n      <td>0011217089230GDPUB</td>\n      <td>1800.0</td>\n      <td>Allocation chômage / indemnités</td>\n      <td>0.0</td>\n      <td>1800.0</td>\n    </tr>\n    <tr>\n      <th>...</th>\n      <td>...</td>\n      <td>...</td>\n      <td>...</td>\n      <td>...</td>\n      <td>...</td>\n    </tr>\n    <tr>\n      <th>1285430</th>\n      <td>972091705244411572</td>\n      <td>3002.0</td>\n      <td>Salaire ou revenu d'activité</td>\n      <td>1501.0</td>\n      <td>3002.0</td>\n    </tr>\n    <tr>\n      <th>1285440</th>\n      <td>9740317140139AL020</td>\n      <td>3728.0</td>\n      <td>Pension alimentaire reçue</td>\n      <td>100.0</td>\n      <td>1828.0</td>\n    </tr>\n    <tr>\n      <th>1285441</th>\n      <td>9740317140139AL020</td>\n      <td>3728.0</td>\n      <td>Salaire ou revenu d'activité</td>\n      <td>1728.0</td>\n      <td>1828.0</td>\n    </tr>\n    <tr>\n      <th>1285445</th>\n      <td>974081715046411487</td>\n      <td>1027.0</td>\n      <td>Pension alimentaire reçue</td>\n      <td>160.0</td>\n      <td>1027.0</td>\n    </tr>\n    <tr>\n      <th>1285446</th>\n      <td>974081715046411487</td>\n      <td>1027.0</td>\n      <td>Retraite</td>\n      <td>867.0</td>\n      <td>1027.0</td>\n    </tr>\n  </tbody>\n</table>\n<p>247603 rows × 5 columns</p>\n</div>"
     },
     "execution_count": 151,
     "metadata": {},
     "output_type": "execute_result"
    }
   ],
   "source": [
    "#Foyers avec plusieurs type de revenus\n",
    "merged_df[merged_df['Revenu imposable']!=merged_df['Montant par type de ressource_x']]\n"
   ],
   "metadata": {
    "collapsed": false,
    "pycharm": {
     "name": "#%%\n"
    }
   }
  },
  {
   "cell_type": "code",
   "execution_count": 152,
   "outputs": [
    {
     "data": {
      "text/plain": "              Numéro Unique  Ressources mensuelles  \\\nindex                                                \n0        0010216061927GDPUB                  908.0   \n1        001021707657411126                 1239.0   \n2        0010417079507GDPUB                 1000.0   \n5        001081708354301071                 2000.0   \n6        0010917085404AL020                44030.0   \n...                     ...                    ...   \n1285438  9740317140124AL020                 1560.0   \n1285442  9740317140152GDPUB                  952.0   \n1285443  974051714578111487                  367.0   \n1285447  974101613022611484                 1240.0   \n1285448  974111613236511483                 1650.0   \n\n                                    Type  Montant par type de ressource_x  \\\nindex                                                                       \n0                               Retraite                            908.0   \n1                               Retraite                           1239.0   \n2        Allocation chômage / indemnités                           1000.0   \n5           Salaire ou revenu d'activité                           2000.0   \n6           Salaire ou revenu d'activité                          44030.0   \n...                                  ...                              ...   \n1285438     Salaire ou revenu d'activité                           1560.0   \n1285442                         Retraite                            952.0   \n1285443          Autres (hors APL ou AL)                            168.0   \n1285447                         Retraite                           1240.0   \n1285448     Salaire ou revenu d'activité                           1650.0   \n\n         Revenu imposable  \nindex                      \n0                   908.0  \n1                  1239.0  \n2                  1000.0  \n5                  2000.0  \n6                 44030.0  \n...                   ...  \n1285438            1560.0  \n1285442             952.0  \n1285443             168.0  \n1285447            1240.0  \n1285448            1650.0  \n\n[538664 rows x 5 columns]",
      "text/html": "<div>\n<style scoped>\n    .dataframe tbody tr th:only-of-type {\n        vertical-align: middle;\n    }\n\n    .dataframe tbody tr th {\n        vertical-align: top;\n    }\n\n    .dataframe thead th {\n        text-align: right;\n    }\n</style>\n<table border=\"1\" class=\"dataframe\">\n  <thead>\n    <tr style=\"text-align: right;\">\n      <th></th>\n      <th>Numéro Unique</th>\n      <th>Ressources mensuelles</th>\n      <th>Type</th>\n      <th>Montant par type de ressource_x</th>\n      <th>Revenu imposable</th>\n    </tr>\n    <tr>\n      <th>index</th>\n      <th></th>\n      <th></th>\n      <th></th>\n      <th></th>\n      <th></th>\n    </tr>\n  </thead>\n  <tbody>\n    <tr>\n      <th>0</th>\n      <td>0010216061927GDPUB</td>\n      <td>908.0</td>\n      <td>Retraite</td>\n      <td>908.0</td>\n      <td>908.0</td>\n    </tr>\n    <tr>\n      <th>1</th>\n      <td>001021707657411126</td>\n      <td>1239.0</td>\n      <td>Retraite</td>\n      <td>1239.0</td>\n      <td>1239.0</td>\n    </tr>\n    <tr>\n      <th>2</th>\n      <td>0010417079507GDPUB</td>\n      <td>1000.0</td>\n      <td>Allocation chômage / indemnités</td>\n      <td>1000.0</td>\n      <td>1000.0</td>\n    </tr>\n    <tr>\n      <th>5</th>\n      <td>001081708354301071</td>\n      <td>2000.0</td>\n      <td>Salaire ou revenu d'activité</td>\n      <td>2000.0</td>\n      <td>2000.0</td>\n    </tr>\n    <tr>\n      <th>6</th>\n      <td>0010917085404AL020</td>\n      <td>44030.0</td>\n      <td>Salaire ou revenu d'activité</td>\n      <td>44030.0</td>\n      <td>44030.0</td>\n    </tr>\n    <tr>\n      <th>...</th>\n      <td>...</td>\n      <td>...</td>\n      <td>...</td>\n      <td>...</td>\n      <td>...</td>\n    </tr>\n    <tr>\n      <th>1285438</th>\n      <td>9740317140124AL020</td>\n      <td>1560.0</td>\n      <td>Salaire ou revenu d'activité</td>\n      <td>1560.0</td>\n      <td>1560.0</td>\n    </tr>\n    <tr>\n      <th>1285442</th>\n      <td>9740317140152GDPUB</td>\n      <td>952.0</td>\n      <td>Retraite</td>\n      <td>952.0</td>\n      <td>952.0</td>\n    </tr>\n    <tr>\n      <th>1285443</th>\n      <td>974051714578111487</td>\n      <td>367.0</td>\n      <td>Autres (hors APL ou AL)</td>\n      <td>168.0</td>\n      <td>168.0</td>\n    </tr>\n    <tr>\n      <th>1285447</th>\n      <td>974101613022611484</td>\n      <td>1240.0</td>\n      <td>Retraite</td>\n      <td>1240.0</td>\n      <td>1240.0</td>\n    </tr>\n    <tr>\n      <th>1285448</th>\n      <td>974111613236511483</td>\n      <td>1650.0</td>\n      <td>Salaire ou revenu d'activité</td>\n      <td>1650.0</td>\n      <td>1650.0</td>\n    </tr>\n  </tbody>\n</table>\n<p>538664 rows × 5 columns</p>\n</div>"
     },
     "execution_count": 152,
     "metadata": {},
     "output_type": "execute_result"
    }
   ],
   "source": [
    "#Foyers avec un seul type de revenu\n",
    "merged_df[~(merged_df['Revenu imposable']!=merged_df['Montant par type de ressource_x'])]\n"
   ],
   "metadata": {
    "collapsed": false,
    "pycharm": {
     "name": "#%%\n"
    }
   }
  },
  {
   "cell_type": "markdown",
   "source": [
    "### Calcul des prestations familiales et sociales mensuelles"
   ],
   "metadata": {
    "collapsed": false,
    "pycharm": {
     "name": "#%% md\n"
    }
   }
  },
  {
   "cell_type": "code",
   "execution_count": 384,
   "outputs": [
    {
     "data": {
      "text/plain": "             Numéro Unique  Ressources mensuelles\\n  \\\n1       001011403466511146                   2134.0   \n4       0010117074877GDPUB                    900.0   \n6       001021504965918214                    944.0   \n7       001021504965918214                    944.0   \n14      0010417079394GDPUB                      0.0   \n...                    ...                      ...   \n152663  9740617145930GDPUB                   1943.0   \n152664  9740617145930GDPUB                   1943.0   \n152666  9740617145930GDPUB                   1943.0   \n152669  974091715322011487                   2121.0   \n152671  9741117155529GDPUB                    674.0   \n\n                                                    Type  \\\n1                                  Allocation familiales   \n4                                  Allocation familiales   \n6                                  Allocation familiales   \n7                      Revenu de solidarité active (RSA)   \n14                    Allocation d'adulte handicapé(AAH)   \n...                                                  ...   \n152663  Allocation d'éducation d'enfant handicapé (AEEH)   \n152664                             Allocation familiales   \n152666                 Revenu de solidarité active (RSA)   \n152669                             Allocation familiales   \n152671                 Revenu de solidarité active (RSA)   \n\n        Montant par type de ressource\\n  \n1                                 424.0  \n4                                 700.0  \n6                                 129.0  \n7                                 815.0  \n14                                  0.0  \n...                                 ...  \n152663                            718.0  \n152664                            131.0  \n152666                            702.0  \n152669                             38.0  \n152671                            674.0  \n\n[59632 rows x 4 columns]",
      "text/html": "<div>\n<style scoped>\n    .dataframe tbody tr th:only-of-type {\n        vertical-align: middle;\n    }\n\n    .dataframe tbody tr th {\n        vertical-align: top;\n    }\n\n    .dataframe thead th {\n        text-align: right;\n    }\n</style>\n<table border=\"1\" class=\"dataframe\">\n  <thead>\n    <tr style=\"text-align: right;\">\n      <th></th>\n      <th>Numéro Unique</th>\n      <th>Ressources mensuelles\\n</th>\n      <th>Type</th>\n      <th>Montant par type de ressource\\n</th>\n    </tr>\n  </thead>\n  <tbody>\n    <tr>\n      <th>1</th>\n      <td>001011403466511146</td>\n      <td>2134.0</td>\n      <td>Allocation familiales</td>\n      <td>424.0</td>\n    </tr>\n    <tr>\n      <th>4</th>\n      <td>0010117074877GDPUB</td>\n      <td>900.0</td>\n      <td>Allocation familiales</td>\n      <td>700.0</td>\n    </tr>\n    <tr>\n      <th>6</th>\n      <td>001021504965918214</td>\n      <td>944.0</td>\n      <td>Allocation familiales</td>\n      <td>129.0</td>\n    </tr>\n    <tr>\n      <th>7</th>\n      <td>001021504965918214</td>\n      <td>944.0</td>\n      <td>Revenu de solidarité active (RSA)</td>\n      <td>815.0</td>\n    </tr>\n    <tr>\n      <th>14</th>\n      <td>0010417079394GDPUB</td>\n      <td>0.0</td>\n      <td>Allocation d'adulte handicapé(AAH)</td>\n      <td>0.0</td>\n    </tr>\n    <tr>\n      <th>...</th>\n      <td>...</td>\n      <td>...</td>\n      <td>...</td>\n      <td>...</td>\n    </tr>\n    <tr>\n      <th>152663</th>\n      <td>9740617145930GDPUB</td>\n      <td>1943.0</td>\n      <td>Allocation d'éducation d'enfant handicapé (AEEH)</td>\n      <td>718.0</td>\n    </tr>\n    <tr>\n      <th>152664</th>\n      <td>9740617145930GDPUB</td>\n      <td>1943.0</td>\n      <td>Allocation familiales</td>\n      <td>131.0</td>\n    </tr>\n    <tr>\n      <th>152666</th>\n      <td>9740617145930GDPUB</td>\n      <td>1943.0</td>\n      <td>Revenu de solidarité active (RSA)</td>\n      <td>702.0</td>\n    </tr>\n    <tr>\n      <th>152669</th>\n      <td>974091715322011487</td>\n      <td>2121.0</td>\n      <td>Allocation familiales</td>\n      <td>38.0</td>\n    </tr>\n    <tr>\n      <th>152671</th>\n      <td>9741117155529GDPUB</td>\n      <td>674.0</td>\n      <td>Revenu de solidarité active (RSA)</td>\n      <td>674.0</td>\n    </tr>\n  </tbody>\n</table>\n<p>59632 rows × 4 columns</p>\n</div>"
     },
     "execution_count": 384,
     "metadata": {},
     "output_type": "execute_result"
    }
   ],
   "source": [
    "values1=[\"Allocation d'adulte handicapé(AAH)\", \"Allocation d'éducation d'enfant handicapé (AEEH)\", \"Allocation de minimum vieillesse\", \"Allocation familiales\", \"Allocation Jeune Enfant (PAJE)\", \"Bourse étudiant\", \"Prime d'activité\", \"Revenu de solidarité active (RSA)\", \"Allocation journalière de présence parentale (AJPP)\"]\n",
    "filtered_df1 = dfd[dfd.Type.isin(values1)]\n",
    "filtered_df1"
   ],
   "metadata": {
    "collapsed": false,
    "pycharm": {
     "name": "#%%\n"
    }
   }
  },
  {
   "cell_type": "code",
   "execution_count": 385,
   "outputs": [],
   "source": [
    "shrank_values1 = filtered_df1.groupby(by='Numéro Unique').sum()['Montant par type de ressource\\n']\n",
    "\n",
    "merged_df1 = filtered_df1.merge(shrank_values1, left_on='Numéro Unique', right_index=True)\n",
    "\n",
    "merged_df1 = merged_df1.rename(columns={'Montant par type de ressource\\n_y': 'Prestations familiales et sociales mensuelles moyennes (PFS)'})"
   ],
   "metadata": {
    "collapsed": false,
    "pycharm": {
     "name": "#%%\n"
    }
   }
  },
  {
   "cell_type": "code",
   "execution_count": 386,
   "outputs": [
    {
     "data": {
      "text/plain": "             Numéro Unique  Ressources mensuelles\\n  \\\n1       001011403466511146                   2134.0   \n4       0010117074877GDPUB                    900.0   \n6       001021504965918214                    944.0   \n7       001021504965918214                    944.0   \n14      0010417079394GDPUB                      0.0   \n...                    ...                      ...   \n152663  9740617145930GDPUB                   1943.0   \n152664  9740617145930GDPUB                   1943.0   \n152666  9740617145930GDPUB                   1943.0   \n152669  974091715322011487                   2121.0   \n152671  9741117155529GDPUB                    674.0   \n\n                                                    Type  \\\n1                                  Allocation familiales   \n4                                  Allocation familiales   \n6                                  Allocation familiales   \n7                      Revenu de solidarité active (RSA)   \n14                    Allocation d'adulte handicapé(AAH)   \n...                                                  ...   \n152663  Allocation d'éducation d'enfant handicapé (AEEH)   \n152664                             Allocation familiales   \n152666                 Revenu de solidarité active (RSA)   \n152669                             Allocation familiales   \n152671                 Revenu de solidarité active (RSA)   \n\n        Montant par type de ressource\\n_x  \\\n1                                   424.0   \n4                                   700.0   \n6                                   129.0   \n7                                   815.0   \n14                                    0.0   \n...                                   ...   \n152663                              718.0   \n152664                              131.0   \n152666                              702.0   \n152669                               38.0   \n152671                              674.0   \n\n        Prestations familiales et sociales mensuelles moyennes (PFS)  \n1                                                   424.0             \n4                                                   700.0             \n6                                                   944.0             \n7                                                   944.0             \n14                                                    0.0             \n...                                                   ...             \n152663                                             1551.0             \n152664                                             1551.0             \n152666                                             1551.0             \n152669                                               38.0             \n152671                                              674.0             \n\n[59632 rows x 5 columns]",
      "text/html": "<div>\n<style scoped>\n    .dataframe tbody tr th:only-of-type {\n        vertical-align: middle;\n    }\n\n    .dataframe tbody tr th {\n        vertical-align: top;\n    }\n\n    .dataframe thead th {\n        text-align: right;\n    }\n</style>\n<table border=\"1\" class=\"dataframe\">\n  <thead>\n    <tr style=\"text-align: right;\">\n      <th></th>\n      <th>Numéro Unique</th>\n      <th>Ressources mensuelles\\n</th>\n      <th>Type</th>\n      <th>Montant par type de ressource\\n_x</th>\n      <th>Prestations familiales et sociales mensuelles moyennes (PFS)</th>\n    </tr>\n  </thead>\n  <tbody>\n    <tr>\n      <th>1</th>\n      <td>001011403466511146</td>\n      <td>2134.0</td>\n      <td>Allocation familiales</td>\n      <td>424.0</td>\n      <td>424.0</td>\n    </tr>\n    <tr>\n      <th>4</th>\n      <td>0010117074877GDPUB</td>\n      <td>900.0</td>\n      <td>Allocation familiales</td>\n      <td>700.0</td>\n      <td>700.0</td>\n    </tr>\n    <tr>\n      <th>6</th>\n      <td>001021504965918214</td>\n      <td>944.0</td>\n      <td>Allocation familiales</td>\n      <td>129.0</td>\n      <td>944.0</td>\n    </tr>\n    <tr>\n      <th>7</th>\n      <td>001021504965918214</td>\n      <td>944.0</td>\n      <td>Revenu de solidarité active (RSA)</td>\n      <td>815.0</td>\n      <td>944.0</td>\n    </tr>\n    <tr>\n      <th>14</th>\n      <td>0010417079394GDPUB</td>\n      <td>0.0</td>\n      <td>Allocation d'adulte handicapé(AAH)</td>\n      <td>0.0</td>\n      <td>0.0</td>\n    </tr>\n    <tr>\n      <th>...</th>\n      <td>...</td>\n      <td>...</td>\n      <td>...</td>\n      <td>...</td>\n      <td>...</td>\n    </tr>\n    <tr>\n      <th>152663</th>\n      <td>9740617145930GDPUB</td>\n      <td>1943.0</td>\n      <td>Allocation d'éducation d'enfant handicapé (AEEH)</td>\n      <td>718.0</td>\n      <td>1551.0</td>\n    </tr>\n    <tr>\n      <th>152664</th>\n      <td>9740617145930GDPUB</td>\n      <td>1943.0</td>\n      <td>Allocation familiales</td>\n      <td>131.0</td>\n      <td>1551.0</td>\n    </tr>\n    <tr>\n      <th>152666</th>\n      <td>9740617145930GDPUB</td>\n      <td>1943.0</td>\n      <td>Revenu de solidarité active (RSA)</td>\n      <td>702.0</td>\n      <td>1551.0</td>\n    </tr>\n    <tr>\n      <th>152669</th>\n      <td>974091715322011487</td>\n      <td>2121.0</td>\n      <td>Allocation familiales</td>\n      <td>38.0</td>\n      <td>38.0</td>\n    </tr>\n    <tr>\n      <th>152671</th>\n      <td>9741117155529GDPUB</td>\n      <td>674.0</td>\n      <td>Revenu de solidarité active (RSA)</td>\n      <td>674.0</td>\n      <td>674.0</td>\n    </tr>\n  </tbody>\n</table>\n<p>59632 rows × 5 columns</p>\n</div>"
     },
     "execution_count": 386,
     "metadata": {},
     "output_type": "execute_result"
    }
   ],
   "source": [
    "merged_df1"
   ],
   "metadata": {
    "collapsed": false,
    "pycharm": {
     "name": "#%%\n"
    }
   }
  },
  {
   "cell_type": "code",
   "execution_count": 387,
   "outputs": [
    {
     "data": {
      "text/plain": "             Numéro Unique  Ressources mensuelles\\n  \\\n1       001011403466511146                   2134.0   \n4       0010117074877GDPUB                    900.0   \n6       001021504965918214                    944.0   \n14      0010417079394GDPUB                      0.0   \n29      001051708062718214                   1102.0   \n...                    ...                      ...   \n152655  973051301257111526                   1611.0   \n152659  9740217138112GDPUB                    986.0   \n152663  9740617145930GDPUB                   1943.0   \n152669  974091715322011487                   2121.0   \n152671  9741117155529GDPUB                    674.0   \n\n                                                    Type  \\\n1                                  Allocation familiales   \n4                                  Allocation familiales   \n6                                  Allocation familiales   \n14                    Allocation d'adulte handicapé(AAH)   \n29                     Revenu de solidarité active (RSA)   \n...                                                  ...   \n152655                             Allocation familiales   \n152659                Allocation d'adulte handicapé(AAH)   \n152663  Allocation d'éducation d'enfant handicapé (AEEH)   \n152669                             Allocation familiales   \n152671                 Revenu de solidarité active (RSA)   \n\n        Montant par type de ressource\\n_x  \\\n1                                   424.0   \n4                                   700.0   \n6                                   129.0   \n14                                    0.0   \n29                                  759.0   \n...                                   ...   \n152655                              296.0   \n152659                              240.0   \n152663                              718.0   \n152669                               38.0   \n152671                              674.0   \n\n        Prestations familiales et sociales mensuelles moyennes (PFS)  \n1                                                   424.0             \n4                                                   700.0             \n6                                                   944.0             \n14                                                    0.0             \n29                                                  759.0             \n...                                                   ...             \n152655                                             1221.0             \n152659                                              240.0             \n152663                                             1551.0             \n152669                                               38.0             \n152671                                              674.0             \n\n[36705 rows x 5 columns]",
      "text/html": "<div>\n<style scoped>\n    .dataframe tbody tr th:only-of-type {\n        vertical-align: middle;\n    }\n\n    .dataframe tbody tr th {\n        vertical-align: top;\n    }\n\n    .dataframe thead th {\n        text-align: right;\n    }\n</style>\n<table border=\"1\" class=\"dataframe\">\n  <thead>\n    <tr style=\"text-align: right;\">\n      <th></th>\n      <th>Numéro Unique</th>\n      <th>Ressources mensuelles\\n</th>\n      <th>Type</th>\n      <th>Montant par type de ressource\\n_x</th>\n      <th>Prestations familiales et sociales mensuelles moyennes (PFS)</th>\n    </tr>\n  </thead>\n  <tbody>\n    <tr>\n      <th>1</th>\n      <td>001011403466511146</td>\n      <td>2134.0</td>\n      <td>Allocation familiales</td>\n      <td>424.0</td>\n      <td>424.0</td>\n    </tr>\n    <tr>\n      <th>4</th>\n      <td>0010117074877GDPUB</td>\n      <td>900.0</td>\n      <td>Allocation familiales</td>\n      <td>700.0</td>\n      <td>700.0</td>\n    </tr>\n    <tr>\n      <th>6</th>\n      <td>001021504965918214</td>\n      <td>944.0</td>\n      <td>Allocation familiales</td>\n      <td>129.0</td>\n      <td>944.0</td>\n    </tr>\n    <tr>\n      <th>14</th>\n      <td>0010417079394GDPUB</td>\n      <td>0.0</td>\n      <td>Allocation d'adulte handicapé(AAH)</td>\n      <td>0.0</td>\n      <td>0.0</td>\n    </tr>\n    <tr>\n      <th>29</th>\n      <td>001051708062718214</td>\n      <td>1102.0</td>\n      <td>Revenu de solidarité active (RSA)</td>\n      <td>759.0</td>\n      <td>759.0</td>\n    </tr>\n    <tr>\n      <th>...</th>\n      <td>...</td>\n      <td>...</td>\n      <td>...</td>\n      <td>...</td>\n      <td>...</td>\n    </tr>\n    <tr>\n      <th>152655</th>\n      <td>973051301257111526</td>\n      <td>1611.0</td>\n      <td>Allocation familiales</td>\n      <td>296.0</td>\n      <td>1221.0</td>\n    </tr>\n    <tr>\n      <th>152659</th>\n      <td>9740217138112GDPUB</td>\n      <td>986.0</td>\n      <td>Allocation d'adulte handicapé(AAH)</td>\n      <td>240.0</td>\n      <td>240.0</td>\n    </tr>\n    <tr>\n      <th>152663</th>\n      <td>9740617145930GDPUB</td>\n      <td>1943.0</td>\n      <td>Allocation d'éducation d'enfant handicapé (AEEH)</td>\n      <td>718.0</td>\n      <td>1551.0</td>\n    </tr>\n    <tr>\n      <th>152669</th>\n      <td>974091715322011487</td>\n      <td>2121.0</td>\n      <td>Allocation familiales</td>\n      <td>38.0</td>\n      <td>38.0</td>\n    </tr>\n    <tr>\n      <th>152671</th>\n      <td>9741117155529GDPUB</td>\n      <td>674.0</td>\n      <td>Revenu de solidarité active (RSA)</td>\n      <td>674.0</td>\n      <td>674.0</td>\n    </tr>\n  </tbody>\n</table>\n<p>36705 rows × 5 columns</p>\n</div>"
     },
     "execution_count": 387,
     "metadata": {},
     "output_type": "execute_result"
    }
   ],
   "source": [
    "merged_dfbis1=merged_df1.drop_duplicates(subset =\"Numéro Unique\")\n",
    "merged_dfbis1"
   ],
   "metadata": {
    "collapsed": false,
    "pycharm": {
     "name": "#%%\n"
    }
   }
  },
  {
   "cell_type": "code",
   "execution_count": 402,
   "outputs": [
    {
     "data": {
      "text/plain": "            Numéro Unique  RM Moyennes  \\\n0      001011403466511146       2134.0   \n1      0010117074877GDPUB        900.0   \n2      001021504965918214        944.0   \n3      0010217076033GDPUB       1200.0   \n4      001021707620301173       1200.0   \n...                   ...          ...   \n80874  9741117155529GDPUB        674.0   \n80875  974111715873511487       1725.0   \n80876  9741216133916GDPUB       2000.0   \n80877  9741216133920GDPUB        846.0   \n80878  9741217158325GDPUB         33.0   \n\n       Ressources imposables mensuelles moyennes (RI)  \\\n0                                              1710.0   \n1                                               200.0   \n2                                                 NaN   \n3                                              1200.0   \n4                                              1200.0   \n...                                               ...   \n80874                                             NaN   \n80875                                          1725.0   \n80876                                          2000.0   \n80877                                           846.0   \n80878                                            33.0   \n\n       Prestations familiales et sociales mensuelles moyennes (PFS)  \n0                                                  424.0             \n1                                                  700.0             \n2                                                  944.0             \n3                                                    NaN             \n4                                                    NaN             \n...                                                  ...             \n80874                                              674.0             \n80875                                                NaN             \n80876                                                NaN             \n80877                                                NaN             \n80878                                                NaN             \n\n[80879 rows x 4 columns]",
      "text/html": "<div>\n<style scoped>\n    .dataframe tbody tr th:only-of-type {\n        vertical-align: middle;\n    }\n\n    .dataframe tbody tr th {\n        vertical-align: top;\n    }\n\n    .dataframe thead th {\n        text-align: right;\n    }\n</style>\n<table border=\"1\" class=\"dataframe\">\n  <thead>\n    <tr style=\"text-align: right;\">\n      <th></th>\n      <th>Numéro Unique</th>\n      <th>RM Moyennes</th>\n      <th>Ressources imposables mensuelles moyennes (RI)</th>\n      <th>Prestations familiales et sociales mensuelles moyennes (PFS)</th>\n    </tr>\n  </thead>\n  <tbody>\n    <tr>\n      <th>0</th>\n      <td>001011403466511146</td>\n      <td>2134.0</td>\n      <td>1710.0</td>\n      <td>424.0</td>\n    </tr>\n    <tr>\n      <th>1</th>\n      <td>0010117074877GDPUB</td>\n      <td>900.0</td>\n      <td>200.0</td>\n      <td>700.0</td>\n    </tr>\n    <tr>\n      <th>2</th>\n      <td>001021504965918214</td>\n      <td>944.0</td>\n      <td>NaN</td>\n      <td>944.0</td>\n    </tr>\n    <tr>\n      <th>3</th>\n      <td>0010217076033GDPUB</td>\n      <td>1200.0</td>\n      <td>1200.0</td>\n      <td>NaN</td>\n    </tr>\n    <tr>\n      <th>4</th>\n      <td>001021707620301173</td>\n      <td>1200.0</td>\n      <td>1200.0</td>\n      <td>NaN</td>\n    </tr>\n    <tr>\n      <th>...</th>\n      <td>...</td>\n      <td>...</td>\n      <td>...</td>\n      <td>...</td>\n    </tr>\n    <tr>\n      <th>80874</th>\n      <td>9741117155529GDPUB</td>\n      <td>674.0</td>\n      <td>NaN</td>\n      <td>674.0</td>\n    </tr>\n    <tr>\n      <th>80875</th>\n      <td>974111715873511487</td>\n      <td>1725.0</td>\n      <td>1725.0</td>\n      <td>NaN</td>\n    </tr>\n    <tr>\n      <th>80876</th>\n      <td>9741216133916GDPUB</td>\n      <td>2000.0</td>\n      <td>2000.0</td>\n      <td>NaN</td>\n    </tr>\n    <tr>\n      <th>80877</th>\n      <td>9741216133920GDPUB</td>\n      <td>846.0</td>\n      <td>846.0</td>\n      <td>NaN</td>\n    </tr>\n    <tr>\n      <th>80878</th>\n      <td>9741217158325GDPUB</td>\n      <td>33.0</td>\n      <td>33.0</td>\n      <td>NaN</td>\n    </tr>\n  </tbody>\n</table>\n<p>80879 rows × 4 columns</p>\n</div>"
     },
     "execution_count": 402,
     "metadata": {},
     "output_type": "execute_result"
    }
   ],
   "source": [
    "bddbis = bdd.merge(merged_dfbis1, on='Numéro Unique', how='outer')\n",
    "bddbis=bddbis.rename(columns={'Ressources mensuelles\\n_x': 'RM Moyennes'})\n",
    "bddbis=bddbis[['Numéro Unique', 'RM Moyennes','Ressources imposables mensuelles moyennes (RI)', 'Prestations familiales et sociales mensuelles moyennes (PFS)']]\n",
    "bddbis"
   ],
   "metadata": {
    "collapsed": false,
    "pycharm": {
     "name": "#%%\n"
    }
   }
  },
  {
   "cell_type": "markdown",
   "source": [
    "### Somme Revenus imposables et prestations"
   ],
   "metadata": {
    "collapsed": false,
    "pycharm": {
     "name": "#%% md\n"
    }
   }
  },
  {
   "cell_type": "code",
   "execution_count": 403,
   "outputs": [],
   "source": [
    "bddbis['Ressources imposables mensuelles moyennes (RI)'].fillna(0, inplace=True)\n",
    "bddbis['Prestations familiales et sociales mensuelles moyennes (PFS)'].fillna(0, inplace=True)"
   ],
   "metadata": {
    "collapsed": false,
    "pycharm": {
     "name": "#%%\n"
    }
   }
  },
  {
   "cell_type": "code",
   "execution_count": 404,
   "outputs": [
    {
     "data": {
      "text/plain": "            Numéro Unique  RM Moyennes  \\\n0      001011403466511146       2134.0   \n1      0010117074877GDPUB        900.0   \n2      001021504965918214        944.0   \n3      0010217076033GDPUB       1200.0   \n4      001021707620301173       1200.0   \n...                   ...          ...   \n80874  9741117155529GDPUB        674.0   \n80875  974111715873511487       1725.0   \n80876  9741216133916GDPUB       2000.0   \n80877  9741216133920GDPUB        846.0   \n80878  9741217158325GDPUB         33.0   \n\n       Ressources imposables mensuelles moyennes (RI)  \\\n0                                              1710.0   \n1                                               200.0   \n2                                                 0.0   \n3                                              1200.0   \n4                                              1200.0   \n...                                               ...   \n80874                                             0.0   \n80875                                          1725.0   \n80876                                          2000.0   \n80877                                           846.0   \n80878                                            33.0   \n\n       Prestations familiales et sociales mensuelles moyennes (PFS)  \n0                                                  424.0             \n1                                                  700.0             \n2                                                  944.0             \n3                                                    0.0             \n4                                                    0.0             \n...                                                  ...             \n80874                                              674.0             \n80875                                                0.0             \n80876                                                0.0             \n80877                                                0.0             \n80878                                                0.0             \n\n[80879 rows x 4 columns]",
      "text/html": "<div>\n<style scoped>\n    .dataframe tbody tr th:only-of-type {\n        vertical-align: middle;\n    }\n\n    .dataframe tbody tr th {\n        vertical-align: top;\n    }\n\n    .dataframe thead th {\n        text-align: right;\n    }\n</style>\n<table border=\"1\" class=\"dataframe\">\n  <thead>\n    <tr style=\"text-align: right;\">\n      <th></th>\n      <th>Numéro Unique</th>\n      <th>RM Moyennes</th>\n      <th>Ressources imposables mensuelles moyennes (RI)</th>\n      <th>Prestations familiales et sociales mensuelles moyennes (PFS)</th>\n    </tr>\n  </thead>\n  <tbody>\n    <tr>\n      <th>0</th>\n      <td>001011403466511146</td>\n      <td>2134.0</td>\n      <td>1710.0</td>\n      <td>424.0</td>\n    </tr>\n    <tr>\n      <th>1</th>\n      <td>0010117074877GDPUB</td>\n      <td>900.0</td>\n      <td>200.0</td>\n      <td>700.0</td>\n    </tr>\n    <tr>\n      <th>2</th>\n      <td>001021504965918214</td>\n      <td>944.0</td>\n      <td>0.0</td>\n      <td>944.0</td>\n    </tr>\n    <tr>\n      <th>3</th>\n      <td>0010217076033GDPUB</td>\n      <td>1200.0</td>\n      <td>1200.0</td>\n      <td>0.0</td>\n    </tr>\n    <tr>\n      <th>4</th>\n      <td>001021707620301173</td>\n      <td>1200.0</td>\n      <td>1200.0</td>\n      <td>0.0</td>\n    </tr>\n    <tr>\n      <th>...</th>\n      <td>...</td>\n      <td>...</td>\n      <td>...</td>\n      <td>...</td>\n    </tr>\n    <tr>\n      <th>80874</th>\n      <td>9741117155529GDPUB</td>\n      <td>674.0</td>\n      <td>0.0</td>\n      <td>674.0</td>\n    </tr>\n    <tr>\n      <th>80875</th>\n      <td>974111715873511487</td>\n      <td>1725.0</td>\n      <td>1725.0</td>\n      <td>0.0</td>\n    </tr>\n    <tr>\n      <th>80876</th>\n      <td>9741216133916GDPUB</td>\n      <td>2000.0</td>\n      <td>2000.0</td>\n      <td>0.0</td>\n    </tr>\n    <tr>\n      <th>80877</th>\n      <td>9741216133920GDPUB</td>\n      <td>846.0</td>\n      <td>846.0</td>\n      <td>0.0</td>\n    </tr>\n    <tr>\n      <th>80878</th>\n      <td>9741217158325GDPUB</td>\n      <td>33.0</td>\n      <td>33.0</td>\n      <td>0.0</td>\n    </tr>\n  </tbody>\n</table>\n<p>80879 rows × 4 columns</p>\n</div>"
     },
     "execution_count": 404,
     "metadata": {},
     "output_type": "execute_result"
    }
   ],
   "source": [
    "bddbis"
   ],
   "metadata": {
    "collapsed": false,
    "pycharm": {
     "name": "#%%\n"
    }
   }
  },
  {
   "cell_type": "code",
   "execution_count": 405,
   "outputs": [
    {
     "data": {
      "text/plain": "            Numéro Unique  RM Moyennes  \\\n0      001011403466511146       2134.0   \n1      0010117074877GDPUB        900.0   \n2      001021504965918214        944.0   \n3      0010217076033GDPUB       1200.0   \n4      001021707620301173       1200.0   \n...                   ...          ...   \n80874  9741117155529GDPUB        674.0   \n80875  974111715873511487       1725.0   \n80876  9741216133916GDPUB       2000.0   \n80877  9741216133920GDPUB        846.0   \n80878  9741217158325GDPUB         33.0   \n\n       Ressources imposables mensuelles moyennes (RI)  \\\n0                                              1710.0   \n1                                               200.0   \n2                                                 0.0   \n3                                              1200.0   \n4                                              1200.0   \n...                                               ...   \n80874                                             0.0   \n80875                                          1725.0   \n80876                                          2000.0   \n80877                                           846.0   \n80878                                            33.0   \n\n       Prestations familiales et sociales mensuelles moyennes (PFS)  Ri + PFS  \n0                                                  424.0               2134.0  \n1                                                  700.0                900.0  \n2                                                  944.0                944.0  \n3                                                    0.0               1200.0  \n4                                                    0.0               1200.0  \n...                                                  ...                  ...  \n80874                                              674.0                674.0  \n80875                                                0.0               1725.0  \n80876                                                0.0               2000.0  \n80877                                                0.0                846.0  \n80878                                                0.0                 33.0  \n\n[80879 rows x 5 columns]",
      "text/html": "<div>\n<style scoped>\n    .dataframe tbody tr th:only-of-type {\n        vertical-align: middle;\n    }\n\n    .dataframe tbody tr th {\n        vertical-align: top;\n    }\n\n    .dataframe thead th {\n        text-align: right;\n    }\n</style>\n<table border=\"1\" class=\"dataframe\">\n  <thead>\n    <tr style=\"text-align: right;\">\n      <th></th>\n      <th>Numéro Unique</th>\n      <th>RM Moyennes</th>\n      <th>Ressources imposables mensuelles moyennes (RI)</th>\n      <th>Prestations familiales et sociales mensuelles moyennes (PFS)</th>\n      <th>Ri + PFS</th>\n    </tr>\n  </thead>\n  <tbody>\n    <tr>\n      <th>0</th>\n      <td>001011403466511146</td>\n      <td>2134.0</td>\n      <td>1710.0</td>\n      <td>424.0</td>\n      <td>2134.0</td>\n    </tr>\n    <tr>\n      <th>1</th>\n      <td>0010117074877GDPUB</td>\n      <td>900.0</td>\n      <td>200.0</td>\n      <td>700.0</td>\n      <td>900.0</td>\n    </tr>\n    <tr>\n      <th>2</th>\n      <td>001021504965918214</td>\n      <td>944.0</td>\n      <td>0.0</td>\n      <td>944.0</td>\n      <td>944.0</td>\n    </tr>\n    <tr>\n      <th>3</th>\n      <td>0010217076033GDPUB</td>\n      <td>1200.0</td>\n      <td>1200.0</td>\n      <td>0.0</td>\n      <td>1200.0</td>\n    </tr>\n    <tr>\n      <th>4</th>\n      <td>001021707620301173</td>\n      <td>1200.0</td>\n      <td>1200.0</td>\n      <td>0.0</td>\n      <td>1200.0</td>\n    </tr>\n    <tr>\n      <th>...</th>\n      <td>...</td>\n      <td>...</td>\n      <td>...</td>\n      <td>...</td>\n      <td>...</td>\n    </tr>\n    <tr>\n      <th>80874</th>\n      <td>9741117155529GDPUB</td>\n      <td>674.0</td>\n      <td>0.0</td>\n      <td>674.0</td>\n      <td>674.0</td>\n    </tr>\n    <tr>\n      <th>80875</th>\n      <td>974111715873511487</td>\n      <td>1725.0</td>\n      <td>1725.0</td>\n      <td>0.0</td>\n      <td>1725.0</td>\n    </tr>\n    <tr>\n      <th>80876</th>\n      <td>9741216133916GDPUB</td>\n      <td>2000.0</td>\n      <td>2000.0</td>\n      <td>0.0</td>\n      <td>2000.0</td>\n    </tr>\n    <tr>\n      <th>80877</th>\n      <td>9741216133920GDPUB</td>\n      <td>846.0</td>\n      <td>846.0</td>\n      <td>0.0</td>\n      <td>846.0</td>\n    </tr>\n    <tr>\n      <th>80878</th>\n      <td>9741217158325GDPUB</td>\n      <td>33.0</td>\n      <td>33.0</td>\n      <td>0.0</td>\n      <td>33.0</td>\n    </tr>\n  </tbody>\n</table>\n<p>80879 rows × 5 columns</p>\n</div>"
     },
     "execution_count": 405,
     "metadata": {},
     "output_type": "execute_result"
    }
   ],
   "source": [
    "bddbis['Ri + PFS']=bddbis['Ressources imposables mensuelles moyennes (RI)']+bddbis['Prestations familiales et sociales mensuelles moyennes (PFS)']\n",
    "bddbis"
   ],
   "metadata": {
    "collapsed": false,
    "pycharm": {
     "name": "#%%\n"
    }
   }
  },
  {
   "cell_type": "markdown",
   "source": [
    "### Mise en place des tranches de ressources mensuelles"
   ],
   "metadata": {
    "collapsed": false,
    "pycharm": {
     "name": "#%% md\n"
    }
   }
  },
  {
   "cell_type": "code",
   "execution_count": 406,
   "outputs": [
    {
     "data": {
      "text/plain": "            Numéro Unique  RM Moyennes  \\\n0      001011403466511146       2134.0   \n1      0010117074877GDPUB        900.0   \n2      001021504965918214        944.0   \n3      0010217076033GDPUB       1200.0   \n4      001021707620301173       1200.0   \n...                   ...          ...   \n80874  9741117155529GDPUB        674.0   \n80875  974111715873511487       1725.0   \n80876  9741216133916GDPUB       2000.0   \n80877  9741216133920GDPUB        846.0   \n80878  9741217158325GDPUB         33.0   \n\n       Ressources imposables mensuelles moyennes (RI)  \\\n0                                              1710.0   \n1                                               200.0   \n2                                                 0.0   \n3                                              1200.0   \n4                                              1200.0   \n...                                               ...   \n80874                                             0.0   \n80875                                          1725.0   \n80876                                          2000.0   \n80877                                           846.0   \n80878                                            33.0   \n\n       Prestations familiales et sociales mensuelles moyennes (PFS)  Ri + PFS  \\\n0                                                  424.0               2134.0   \n1                                                  700.0                900.0   \n2                                                  944.0                944.0   \n3                                                    0.0               1200.0   \n4                                                    0.0               1200.0   \n...                                                  ...                  ...   \n80874                                              674.0                674.0   \n80875                                                0.0               1725.0   \n80876                                                0.0               2000.0   \n80877                                                0.0                846.0   \n80878                                                0.0                 33.0   \n\n       Tranches de ressources mensuelles (RM)  \n0                                      2100.0  \n1                                       900.0  \n2                                       900.0  \n3                                      1200.0  \n4                                      1200.0  \n...                                       ...  \n80874                                   650.0  \n80875                                  1700.0  \n80876                                  2000.0  \n80877                                   800.0  \n80878                                     0.0  \n\n[80879 rows x 6 columns]",
      "text/html": "<div>\n<style scoped>\n    .dataframe tbody tr th:only-of-type {\n        vertical-align: middle;\n    }\n\n    .dataframe tbody tr th {\n        vertical-align: top;\n    }\n\n    .dataframe thead th {\n        text-align: right;\n    }\n</style>\n<table border=\"1\" class=\"dataframe\">\n  <thead>\n    <tr style=\"text-align: right;\">\n      <th></th>\n      <th>Numéro Unique</th>\n      <th>RM Moyennes</th>\n      <th>Ressources imposables mensuelles moyennes (RI)</th>\n      <th>Prestations familiales et sociales mensuelles moyennes (PFS)</th>\n      <th>Ri + PFS</th>\n      <th>Tranches de ressources mensuelles (RM)</th>\n    </tr>\n  </thead>\n  <tbody>\n    <tr>\n      <th>0</th>\n      <td>001011403466511146</td>\n      <td>2134.0</td>\n      <td>1710.0</td>\n      <td>424.0</td>\n      <td>2134.0</td>\n      <td>2100.0</td>\n    </tr>\n    <tr>\n      <th>1</th>\n      <td>0010117074877GDPUB</td>\n      <td>900.0</td>\n      <td>200.0</td>\n      <td>700.0</td>\n      <td>900.0</td>\n      <td>900.0</td>\n    </tr>\n    <tr>\n      <th>2</th>\n      <td>001021504965918214</td>\n      <td>944.0</td>\n      <td>0.0</td>\n      <td>944.0</td>\n      <td>944.0</td>\n      <td>900.0</td>\n    </tr>\n    <tr>\n      <th>3</th>\n      <td>0010217076033GDPUB</td>\n      <td>1200.0</td>\n      <td>1200.0</td>\n      <td>0.0</td>\n      <td>1200.0</td>\n      <td>1200.0</td>\n    </tr>\n    <tr>\n      <th>4</th>\n      <td>001021707620301173</td>\n      <td>1200.0</td>\n      <td>1200.0</td>\n      <td>0.0</td>\n      <td>1200.0</td>\n      <td>1200.0</td>\n    </tr>\n    <tr>\n      <th>...</th>\n      <td>...</td>\n      <td>...</td>\n      <td>...</td>\n      <td>...</td>\n      <td>...</td>\n      <td>...</td>\n    </tr>\n    <tr>\n      <th>80874</th>\n      <td>9741117155529GDPUB</td>\n      <td>674.0</td>\n      <td>0.0</td>\n      <td>674.0</td>\n      <td>674.0</td>\n      <td>650.0</td>\n    </tr>\n    <tr>\n      <th>80875</th>\n      <td>974111715873511487</td>\n      <td>1725.0</td>\n      <td>1725.0</td>\n      <td>0.0</td>\n      <td>1725.0</td>\n      <td>1700.0</td>\n    </tr>\n    <tr>\n      <th>80876</th>\n      <td>9741216133916GDPUB</td>\n      <td>2000.0</td>\n      <td>2000.0</td>\n      <td>0.0</td>\n      <td>2000.0</td>\n      <td>2000.0</td>\n    </tr>\n    <tr>\n      <th>80877</th>\n      <td>9741216133920GDPUB</td>\n      <td>846.0</td>\n      <td>846.0</td>\n      <td>0.0</td>\n      <td>846.0</td>\n      <td>800.0</td>\n    </tr>\n    <tr>\n      <th>80878</th>\n      <td>9741217158325GDPUB</td>\n      <td>33.0</td>\n      <td>33.0</td>\n      <td>0.0</td>\n      <td>33.0</td>\n      <td>0.0</td>\n    </tr>\n  </tbody>\n</table>\n<p>80879 rows × 6 columns</p>\n</div>"
     },
     "execution_count": 406,
     "metadata": {},
     "output_type": "execute_result"
    }
   ],
   "source": [
    "bddbis['Tranches de ressources mensuelles (RM)']=0\n",
    "\n",
    "def decoupe(rl):\n",
    "    for i in range(0, 5000, 50):\n",
    "        if i<=rl and rl<i+50:\n",
    "            return i\n",
    "        elif rl>4950:\n",
    "            return 4950\n",
    "\n",
    "bddbis['Tranches de ressources mensuelles (RM)'] = bddbis['RM Moyennes'].apply(decoupe)\n",
    "bddbis"
   ],
   "metadata": {
    "collapsed": false,
    "pycharm": {
     "name": "#%%\n"
    }
   }
  },
  {
   "cell_type": "code",
   "execution_count": 393,
   "outputs": [],
   "source": [
    "#bddbis['Tranches de ressources mensuelles'].dropna()"
   ],
   "metadata": {
    "collapsed": false,
    "pycharm": {
     "name": "#%%\n"
    }
   }
  },
  {
   "cell_type": "code",
   "execution_count": 407,
   "outputs": [
    {
     "data": {
      "text/plain": "    Tranches de ressources mensuelles (RM)   RM Moyennes  \\\n0                                      0.0      1.844898   \n1                                     50.0     78.186441   \n2                                    100.0    118.508333   \n3                                    150.0    176.809322   \n4                                    200.0    218.787234   \n..                                     ...           ...   \n94                                  4750.0   4771.400000   \n95                                  4800.0   4800.000000   \n96                                  4850.0   4861.000000   \n97                                  4900.0   4936.000000   \n98                                  4950.0  19343.008333   \n\n    Ressources imposables mensuelles moyennes (RI)  \\\n0                                         8.728571   \n1                                        44.728814   \n2                                        60.208333   \n3                                        47.131356   \n4                                       149.489362   \n..                                             ...   \n94                                     1611.600000   \n95                                     4800.000000   \n96                                     4861.000000   \n97                                     4014.000000   \n98                                    18664.062500   \n\n    Prestations familiales et sociales mensuelles moyennes (PFS)      Ri + PFS  \n0                                            1.648980                10.377551  \n1                                           42.796610                87.525424  \n2                                           86.941667               147.150000  \n3                                          134.745763               181.877119  \n4                                           84.581560               234.070922  \n..                                                ...                      ...  \n94                                        3159.800000              4771.400000  \n95                                           0.000000              4800.000000  \n96                                           0.000000              4861.000000  \n97                                         922.000000              4936.000000  \n98                                         781.195833             19445.258333  \n\n[99 rows x 5 columns]",
      "text/html": "<div>\n<style scoped>\n    .dataframe tbody tr th:only-of-type {\n        vertical-align: middle;\n    }\n\n    .dataframe tbody tr th {\n        vertical-align: top;\n    }\n\n    .dataframe thead th {\n        text-align: right;\n    }\n</style>\n<table border=\"1\" class=\"dataframe\">\n  <thead>\n    <tr style=\"text-align: right;\">\n      <th></th>\n      <th>Tranches de ressources mensuelles (RM)</th>\n      <th>RM Moyennes</th>\n      <th>Ressources imposables mensuelles moyennes (RI)</th>\n      <th>Prestations familiales et sociales mensuelles moyennes (PFS)</th>\n      <th>Ri + PFS</th>\n    </tr>\n  </thead>\n  <tbody>\n    <tr>\n      <th>0</th>\n      <td>0.0</td>\n      <td>1.844898</td>\n      <td>8.728571</td>\n      <td>1.648980</td>\n      <td>10.377551</td>\n    </tr>\n    <tr>\n      <th>1</th>\n      <td>50.0</td>\n      <td>78.186441</td>\n      <td>44.728814</td>\n      <td>42.796610</td>\n      <td>87.525424</td>\n    </tr>\n    <tr>\n      <th>2</th>\n      <td>100.0</td>\n      <td>118.508333</td>\n      <td>60.208333</td>\n      <td>86.941667</td>\n      <td>147.150000</td>\n    </tr>\n    <tr>\n      <th>3</th>\n      <td>150.0</td>\n      <td>176.809322</td>\n      <td>47.131356</td>\n      <td>134.745763</td>\n      <td>181.877119</td>\n    </tr>\n    <tr>\n      <th>4</th>\n      <td>200.0</td>\n      <td>218.787234</td>\n      <td>149.489362</td>\n      <td>84.581560</td>\n      <td>234.070922</td>\n    </tr>\n    <tr>\n      <th>...</th>\n      <td>...</td>\n      <td>...</td>\n      <td>...</td>\n      <td>...</td>\n      <td>...</td>\n    </tr>\n    <tr>\n      <th>94</th>\n      <td>4750.0</td>\n      <td>4771.400000</td>\n      <td>1611.600000</td>\n      <td>3159.800000</td>\n      <td>4771.400000</td>\n    </tr>\n    <tr>\n      <th>95</th>\n      <td>4800.0</td>\n      <td>4800.000000</td>\n      <td>4800.000000</td>\n      <td>0.000000</td>\n      <td>4800.000000</td>\n    </tr>\n    <tr>\n      <th>96</th>\n      <td>4850.0</td>\n      <td>4861.000000</td>\n      <td>4861.000000</td>\n      <td>0.000000</td>\n      <td>4861.000000</td>\n    </tr>\n    <tr>\n      <th>97</th>\n      <td>4900.0</td>\n      <td>4936.000000</td>\n      <td>4014.000000</td>\n      <td>922.000000</td>\n      <td>4936.000000</td>\n    </tr>\n    <tr>\n      <th>98</th>\n      <td>4950.0</td>\n      <td>19343.008333</td>\n      <td>18664.062500</td>\n      <td>781.195833</td>\n      <td>19445.258333</td>\n    </tr>\n  </tbody>\n</table>\n<p>99 rows × 5 columns</p>\n</div>"
     },
     "execution_count": 407,
     "metadata": {},
     "output_type": "execute_result"
    }
   ],
   "source": [
    "#bddbis.groupby(['Tranches de ressources mensuelles'])['Sales'].mean()\n",
    "x=bddbis.groupby('Tranches de ressources mensuelles (RM)').mean().reset_index()\n",
    "x"
   ],
   "metadata": {
    "collapsed": false,
    "pycharm": {
     "name": "#%%\n"
    }
   }
  },
  {
   "cell_type": "code",
   "execution_count": 395,
   "outputs": [
    {
     "data": {
      "text/plain": "     index  Tranches de ressources mensuelles (RM)\n0    800.0                                    5280\n1   1200.0                                    3785\n2    450.0                                    3773\n3   1300.0                                    3352\n4    900.0                                    3186\n..     ...                                     ...\n94  4800.0                                       2\n95  4900.0                                       2\n96  4450.0                                       2\n97  4600.0                                       2\n98  4850.0                                       1\n\n[99 rows x 2 columns]",
      "text/html": "<div>\n<style scoped>\n    .dataframe tbody tr th:only-of-type {\n        vertical-align: middle;\n    }\n\n    .dataframe tbody tr th {\n        vertical-align: top;\n    }\n\n    .dataframe thead th {\n        text-align: right;\n    }\n</style>\n<table border=\"1\" class=\"dataframe\">\n  <thead>\n    <tr style=\"text-align: right;\">\n      <th></th>\n      <th>index</th>\n      <th>Tranches de ressources mensuelles (RM)</th>\n    </tr>\n  </thead>\n  <tbody>\n    <tr>\n      <th>0</th>\n      <td>800.0</td>\n      <td>5280</td>\n    </tr>\n    <tr>\n      <th>1</th>\n      <td>1200.0</td>\n      <td>3785</td>\n    </tr>\n    <tr>\n      <th>2</th>\n      <td>450.0</td>\n      <td>3773</td>\n    </tr>\n    <tr>\n      <th>3</th>\n      <td>1300.0</td>\n      <td>3352</td>\n    </tr>\n    <tr>\n      <th>4</th>\n      <td>900.0</td>\n      <td>3186</td>\n    </tr>\n    <tr>\n      <th>...</th>\n      <td>...</td>\n      <td>...</td>\n    </tr>\n    <tr>\n      <th>94</th>\n      <td>4800.0</td>\n      <td>2</td>\n    </tr>\n    <tr>\n      <th>95</th>\n      <td>4900.0</td>\n      <td>2</td>\n    </tr>\n    <tr>\n      <th>96</th>\n      <td>4450.0</td>\n      <td>2</td>\n    </tr>\n    <tr>\n      <th>97</th>\n      <td>4600.0</td>\n      <td>2</td>\n    </tr>\n    <tr>\n      <th>98</th>\n      <td>4850.0</td>\n      <td>1</td>\n    </tr>\n  </tbody>\n</table>\n<p>99 rows × 2 columns</p>\n</div>"
     },
     "execution_count": 395,
     "metadata": {},
     "output_type": "execute_result"
    }
   ],
   "source": [
    "#x['Nombre de demandeurs'] = bddbis.groupby('Tranches de ressources mensuelles').count()\n",
    "y=bddbis['Tranches de ressources mensuelles (RM)'].value_counts()\n",
    "y=y.reset_index()\n",
    "y"
   ],
   "metadata": {
    "collapsed": false,
    "pycharm": {
     "name": "#%%\n"
    }
   }
  },
  {
   "cell_type": "code",
   "execution_count": 396,
   "outputs": [],
   "source": [
    "y=y.rename(columns={'index': 'Tranches de ressources mensuelles (RM)', \"Tranches de ressources mensuelles (RM)\": \"Nombre de demandeurs\"})"
   ],
   "metadata": {
    "collapsed": false,
    "pycharm": {
     "name": "#%%\n"
    }
   }
  },
  {
   "cell_type": "code",
   "execution_count": 397,
   "outputs": [
    {
     "data": {
      "text/plain": "    Tranches de ressources mensuelles (RM)  Nombre de demandeurs\n0                                    800.0                  5280\n1                                   1200.0                  3785\n2                                    450.0                  3773\n3                                   1300.0                  3352\n4                                    900.0                  3186\n..                                     ...                   ...\n94                                  4800.0                     2\n95                                  4900.0                     2\n96                                  4450.0                     2\n97                                  4600.0                     2\n98                                  4850.0                     1\n\n[99 rows x 2 columns]",
      "text/html": "<div>\n<style scoped>\n    .dataframe tbody tr th:only-of-type {\n        vertical-align: middle;\n    }\n\n    .dataframe tbody tr th {\n        vertical-align: top;\n    }\n\n    .dataframe thead th {\n        text-align: right;\n    }\n</style>\n<table border=\"1\" class=\"dataframe\">\n  <thead>\n    <tr style=\"text-align: right;\">\n      <th></th>\n      <th>Tranches de ressources mensuelles (RM)</th>\n      <th>Nombre de demandeurs</th>\n    </tr>\n  </thead>\n  <tbody>\n    <tr>\n      <th>0</th>\n      <td>800.0</td>\n      <td>5280</td>\n    </tr>\n    <tr>\n      <th>1</th>\n      <td>1200.0</td>\n      <td>3785</td>\n    </tr>\n    <tr>\n      <th>2</th>\n      <td>450.0</td>\n      <td>3773</td>\n    </tr>\n    <tr>\n      <th>3</th>\n      <td>1300.0</td>\n      <td>3352</td>\n    </tr>\n    <tr>\n      <th>4</th>\n      <td>900.0</td>\n      <td>3186</td>\n    </tr>\n    <tr>\n      <th>...</th>\n      <td>...</td>\n      <td>...</td>\n    </tr>\n    <tr>\n      <th>94</th>\n      <td>4800.0</td>\n      <td>2</td>\n    </tr>\n    <tr>\n      <th>95</th>\n      <td>4900.0</td>\n      <td>2</td>\n    </tr>\n    <tr>\n      <th>96</th>\n      <td>4450.0</td>\n      <td>2</td>\n    </tr>\n    <tr>\n      <th>97</th>\n      <td>4600.0</td>\n      <td>2</td>\n    </tr>\n    <tr>\n      <th>98</th>\n      <td>4850.0</td>\n      <td>1</td>\n    </tr>\n  </tbody>\n</table>\n<p>99 rows × 2 columns</p>\n</div>"
     },
     "execution_count": 397,
     "metadata": {},
     "output_type": "execute_result"
    }
   ],
   "source": [
    "y"
   ],
   "metadata": {
    "collapsed": false,
    "pycharm": {
     "name": "#%%\n"
    }
   }
  },
  {
   "cell_type": "code",
   "execution_count": 398,
   "outputs": [
    {
     "data": {
      "text/plain": "    Tranches de ressources mensuelles (RM)   RM Moyennes  \\\n0                                      0.0      1.844898   \n1                                     50.0     78.186441   \n2                                    100.0    118.508333   \n3                                    150.0    176.809322   \n4                                    200.0    218.787234   \n..                                     ...           ...   \n94                                  4750.0   4771.400000   \n95                                  4800.0   4800.000000   \n96                                  4850.0   4861.000000   \n97                                  4900.0   4936.000000   \n98                                  4950.0  19343.008333   \n\n    Ressources imposables mensuelles moyennes (RI)  \\\n0                                         8.728571   \n1                                        44.728814   \n2                                        60.208333   \n3                                        47.131356   \n4                                       149.489362   \n..                                             ...   \n94                                     1611.600000   \n95                                     4800.000000   \n96                                     4861.000000   \n97                                     4014.000000   \n98                                    18664.062500   \n\n    Prestations familiales et sociales mensuelles moyennes (PFS)  \\\n0                                            1.648980              \n1                                           42.796610              \n2                                           86.941667              \n3                                          134.745763              \n4                                           84.581560              \n..                                                ...              \n94                                        3159.800000              \n95                                           0.000000              \n96                                           0.000000              \n97                                         922.000000              \n98                                         781.195833              \n\n        Ri + PFS  Nombre de demandeurs  \n0      10.377551                   490  \n1      87.525424                    59  \n2     147.150000                   240  \n3     181.877119                   236  \n4     234.070922                   141  \n..           ...                   ...  \n94   4771.400000                     5  \n95   4800.000000                     2  \n96   4861.000000                     1  \n97   4936.000000                     2  \n98  19445.258333                   240  \n\n[99 rows x 6 columns]",
      "text/html": "<div>\n<style scoped>\n    .dataframe tbody tr th:only-of-type {\n        vertical-align: middle;\n    }\n\n    .dataframe tbody tr th {\n        vertical-align: top;\n    }\n\n    .dataframe thead th {\n        text-align: right;\n    }\n</style>\n<table border=\"1\" class=\"dataframe\">\n  <thead>\n    <tr style=\"text-align: right;\">\n      <th></th>\n      <th>Tranches de ressources mensuelles (RM)</th>\n      <th>RM Moyennes</th>\n      <th>Ressources imposables mensuelles moyennes (RI)</th>\n      <th>Prestations familiales et sociales mensuelles moyennes (PFS)</th>\n      <th>Ri + PFS</th>\n      <th>Nombre de demandeurs</th>\n    </tr>\n  </thead>\n  <tbody>\n    <tr>\n      <th>0</th>\n      <td>0.0</td>\n      <td>1.844898</td>\n      <td>8.728571</td>\n      <td>1.648980</td>\n      <td>10.377551</td>\n      <td>490</td>\n    </tr>\n    <tr>\n      <th>1</th>\n      <td>50.0</td>\n      <td>78.186441</td>\n      <td>44.728814</td>\n      <td>42.796610</td>\n      <td>87.525424</td>\n      <td>59</td>\n    </tr>\n    <tr>\n      <th>2</th>\n      <td>100.0</td>\n      <td>118.508333</td>\n      <td>60.208333</td>\n      <td>86.941667</td>\n      <td>147.150000</td>\n      <td>240</td>\n    </tr>\n    <tr>\n      <th>3</th>\n      <td>150.0</td>\n      <td>176.809322</td>\n      <td>47.131356</td>\n      <td>134.745763</td>\n      <td>181.877119</td>\n      <td>236</td>\n    </tr>\n    <tr>\n      <th>4</th>\n      <td>200.0</td>\n      <td>218.787234</td>\n      <td>149.489362</td>\n      <td>84.581560</td>\n      <td>234.070922</td>\n      <td>141</td>\n    </tr>\n    <tr>\n      <th>...</th>\n      <td>...</td>\n      <td>...</td>\n      <td>...</td>\n      <td>...</td>\n      <td>...</td>\n      <td>...</td>\n    </tr>\n    <tr>\n      <th>94</th>\n      <td>4750.0</td>\n      <td>4771.400000</td>\n      <td>1611.600000</td>\n      <td>3159.800000</td>\n      <td>4771.400000</td>\n      <td>5</td>\n    </tr>\n    <tr>\n      <th>95</th>\n      <td>4800.0</td>\n      <td>4800.000000</td>\n      <td>4800.000000</td>\n      <td>0.000000</td>\n      <td>4800.000000</td>\n      <td>2</td>\n    </tr>\n    <tr>\n      <th>96</th>\n      <td>4850.0</td>\n      <td>4861.000000</td>\n      <td>4861.000000</td>\n      <td>0.000000</td>\n      <td>4861.000000</td>\n      <td>1</td>\n    </tr>\n    <tr>\n      <th>97</th>\n      <td>4900.0</td>\n      <td>4936.000000</td>\n      <td>4014.000000</td>\n      <td>922.000000</td>\n      <td>4936.000000</td>\n      <td>2</td>\n    </tr>\n    <tr>\n      <th>98</th>\n      <td>4950.0</td>\n      <td>19343.008333</td>\n      <td>18664.062500</td>\n      <td>781.195833</td>\n      <td>19445.258333</td>\n      <td>240</td>\n    </tr>\n  </tbody>\n</table>\n<p>99 rows × 6 columns</p>\n</div>"
     },
     "execution_count": 398,
     "metadata": {},
     "output_type": "execute_result"
    }
   ],
   "source": [
    "final = x.merge(y, on='Tranches de ressources mensuelles (RM)', how='left')\n",
    "final"
   ],
   "metadata": {
    "collapsed": false,
    "pycharm": {
     "name": "#%%\n"
    }
   }
  },
  {
   "cell_type": "code",
   "execution_count": 399,
   "outputs": [],
   "source": [
    "final=final[['Tranches de ressources mensuelles (RM)', 'Nombre de demandeurs', 'RM Moyennes', 'Prestations familiales et sociales mensuelles moyennes (PFS)', 'Ressources imposables mensuelles moyennes (RI)', 'Ri + PFS']]"
   ],
   "metadata": {
    "collapsed": false,
    "pycharm": {
     "name": "#%%\n"
    }
   }
  },
  {
   "cell_type": "code",
   "execution_count": 400,
   "outputs": [
    {
     "data": {
      "text/plain": "    Tranches de ressources mensuelles (RM)  Nombre de demandeurs  \\\n0                                      0.0                   490   \n1                                     50.0                    59   \n2                                    100.0                   240   \n3                                    150.0                   236   \n4                                    200.0                   141   \n..                                     ...                   ...   \n94                                  4750.0                     5   \n95                                  4800.0                     2   \n96                                  4850.0                     1   \n97                                  4900.0                     2   \n98                                  4950.0                   240   \n\n     RM Moyennes  \\\n0       1.844898   \n1      78.186441   \n2     118.508333   \n3     176.809322   \n4     218.787234   \n..           ...   \n94   4771.400000   \n95   4800.000000   \n96   4861.000000   \n97   4936.000000   \n98  19343.008333   \n\n    Prestations familiales et sociales mensuelles moyennes (PFS)  \\\n0                                            1.648980              \n1                                           42.796610              \n2                                           86.941667              \n3                                          134.745763              \n4                                           84.581560              \n..                                                ...              \n94                                        3159.800000              \n95                                           0.000000              \n96                                           0.000000              \n97                                         922.000000              \n98                                         781.195833              \n\n    Ressources imposables mensuelles moyennes (RI)      Ri + PFS  \n0                                         8.728571     10.377551  \n1                                        44.728814     87.525424  \n2                                        60.208333    147.150000  \n3                                        47.131356    181.877119  \n4                                       149.489362    234.070922  \n..                                             ...           ...  \n94                                     1611.600000   4771.400000  \n95                                     4800.000000   4800.000000  \n96                                     4861.000000   4861.000000  \n97                                     4014.000000   4936.000000  \n98                                    18664.062500  19445.258333  \n\n[99 rows x 6 columns]",
      "text/html": "<div>\n<style scoped>\n    .dataframe tbody tr th:only-of-type {\n        vertical-align: middle;\n    }\n\n    .dataframe tbody tr th {\n        vertical-align: top;\n    }\n\n    .dataframe thead th {\n        text-align: right;\n    }\n</style>\n<table border=\"1\" class=\"dataframe\">\n  <thead>\n    <tr style=\"text-align: right;\">\n      <th></th>\n      <th>Tranches de ressources mensuelles (RM)</th>\n      <th>Nombre de demandeurs</th>\n      <th>RM Moyennes</th>\n      <th>Prestations familiales et sociales mensuelles moyennes (PFS)</th>\n      <th>Ressources imposables mensuelles moyennes (RI)</th>\n      <th>Ri + PFS</th>\n    </tr>\n  </thead>\n  <tbody>\n    <tr>\n      <th>0</th>\n      <td>0.0</td>\n      <td>490</td>\n      <td>1.844898</td>\n      <td>1.648980</td>\n      <td>8.728571</td>\n      <td>10.377551</td>\n    </tr>\n    <tr>\n      <th>1</th>\n      <td>50.0</td>\n      <td>59</td>\n      <td>78.186441</td>\n      <td>42.796610</td>\n      <td>44.728814</td>\n      <td>87.525424</td>\n    </tr>\n    <tr>\n      <th>2</th>\n      <td>100.0</td>\n      <td>240</td>\n      <td>118.508333</td>\n      <td>86.941667</td>\n      <td>60.208333</td>\n      <td>147.150000</td>\n    </tr>\n    <tr>\n      <th>3</th>\n      <td>150.0</td>\n      <td>236</td>\n      <td>176.809322</td>\n      <td>134.745763</td>\n      <td>47.131356</td>\n      <td>181.877119</td>\n    </tr>\n    <tr>\n      <th>4</th>\n      <td>200.0</td>\n      <td>141</td>\n      <td>218.787234</td>\n      <td>84.581560</td>\n      <td>149.489362</td>\n      <td>234.070922</td>\n    </tr>\n    <tr>\n      <th>...</th>\n      <td>...</td>\n      <td>...</td>\n      <td>...</td>\n      <td>...</td>\n      <td>...</td>\n      <td>...</td>\n    </tr>\n    <tr>\n      <th>94</th>\n      <td>4750.0</td>\n      <td>5</td>\n      <td>4771.400000</td>\n      <td>3159.800000</td>\n      <td>1611.600000</td>\n      <td>4771.400000</td>\n    </tr>\n    <tr>\n      <th>95</th>\n      <td>4800.0</td>\n      <td>2</td>\n      <td>4800.000000</td>\n      <td>0.000000</td>\n      <td>4800.000000</td>\n      <td>4800.000000</td>\n    </tr>\n    <tr>\n      <th>96</th>\n      <td>4850.0</td>\n      <td>1</td>\n      <td>4861.000000</td>\n      <td>0.000000</td>\n      <td>4861.000000</td>\n      <td>4861.000000</td>\n    </tr>\n    <tr>\n      <th>97</th>\n      <td>4900.0</td>\n      <td>2</td>\n      <td>4936.000000</td>\n      <td>922.000000</td>\n      <td>4014.000000</td>\n      <td>4936.000000</td>\n    </tr>\n    <tr>\n      <th>98</th>\n      <td>4950.0</td>\n      <td>240</td>\n      <td>19343.008333</td>\n      <td>781.195833</td>\n      <td>18664.062500</td>\n      <td>19445.258333</td>\n    </tr>\n  </tbody>\n</table>\n<p>99 rows × 6 columns</p>\n</div>"
     },
     "execution_count": 400,
     "metadata": {},
     "output_type": "execute_result"
    }
   ],
   "source": [
    "final=final.reset_index(drop=True)\n",
    "final"
   ],
   "metadata": {
    "collapsed": false,
    "pycharm": {
     "name": "#%%\n"
    }
   }
  },
  {
   "cell_type": "code",
   "execution_count": 401,
   "outputs": [],
   "source": [
    "file_name = 'Analyse des ressources v4.xlsx'\n",
    "final.to_excel(file_name)"
   ],
   "metadata": {
    "collapsed": false,
    "pycharm": {
     "name": "#%%\n"
    }
   }
  },
  {
   "cell_type": "markdown",
   "source": [
    "### Tableaux croisés RI / PFS"
   ],
   "metadata": {
    "collapsed": false,
    "pycharm": {
     "name": "#%% md\n"
    }
   }
  },
  {
   "cell_type": "code",
   "execution_count": 431,
   "outputs": [
    {
     "data": {
      "text/plain": "            Numéro Unique  RM Moyennes  \\\n0      001011403466511146       2134.0   \n1      0010117074877GDPUB        900.0   \n2      001021504965918214        944.0   \n3      0010217076033GDPUB       1200.0   \n4      001021707620301173       1200.0   \n...                   ...          ...   \n80874  9741117155529GDPUB        674.0   \n80875  974111715873511487       1725.0   \n80876  9741216133916GDPUB       2000.0   \n80877  9741216133920GDPUB        846.0   \n80878  9741217158325GDPUB         33.0   \n\n       Ressources imposables mensuelles moyennes (RI)  \\\n0                                              1710.0   \n1                                               200.0   \n2                                                 0.0   \n3                                              1200.0   \n4                                              1200.0   \n...                                               ...   \n80874                                             0.0   \n80875                                          1725.0   \n80876                                          2000.0   \n80877                                           846.0   \n80878                                            33.0   \n\n       Prestations familiales et sociales mensuelles moyennes (PFS)  Ri + PFS  \\\n0                                                  424.0               2134.0   \n1                                                  700.0                900.0   \n2                                                  944.0                944.0   \n3                                                    0.0               1200.0   \n4                                                    0.0               1200.0   \n...                                                  ...                  ...   \n80874                                              674.0                674.0   \n80875                                                0.0               1725.0   \n80876                                                0.0               2000.0   \n80877                                                0.0                846.0   \n80878                                                0.0                 33.0   \n\n       Tranches de ressources mensuelles (RM)  Tranches de RI  Tranches de PFS  \n0                                      2100.0          1700.0            400.0  \n1                                       900.0           200.0            700.0  \n2                                       900.0             0.0            900.0  \n3                                      1200.0          1200.0              0.0  \n4                                      1200.0          1200.0              0.0  \n...                                       ...             ...              ...  \n80874                                   650.0             0.0            650.0  \n80875                                  1700.0          1700.0              0.0  \n80876                                  2000.0          2000.0              0.0  \n80877                                   800.0           800.0              0.0  \n80878                                     0.0             0.0              0.0  \n\n[80879 rows x 8 columns]",
      "text/html": "<div>\n<style scoped>\n    .dataframe tbody tr th:only-of-type {\n        vertical-align: middle;\n    }\n\n    .dataframe tbody tr th {\n        vertical-align: top;\n    }\n\n    .dataframe thead th {\n        text-align: right;\n    }\n</style>\n<table border=\"1\" class=\"dataframe\">\n  <thead>\n    <tr style=\"text-align: right;\">\n      <th></th>\n      <th>Numéro Unique</th>\n      <th>RM Moyennes</th>\n      <th>Ressources imposables mensuelles moyennes (RI)</th>\n      <th>Prestations familiales et sociales mensuelles moyennes (PFS)</th>\n      <th>Ri + PFS</th>\n      <th>Tranches de ressources mensuelles (RM)</th>\n      <th>Tranches de RI</th>\n      <th>Tranches de PFS</th>\n    </tr>\n  </thead>\n  <tbody>\n    <tr>\n      <th>0</th>\n      <td>001011403466511146</td>\n      <td>2134.0</td>\n      <td>1710.0</td>\n      <td>424.0</td>\n      <td>2134.0</td>\n      <td>2100.0</td>\n      <td>1700.0</td>\n      <td>400.0</td>\n    </tr>\n    <tr>\n      <th>1</th>\n      <td>0010117074877GDPUB</td>\n      <td>900.0</td>\n      <td>200.0</td>\n      <td>700.0</td>\n      <td>900.0</td>\n      <td>900.0</td>\n      <td>200.0</td>\n      <td>700.0</td>\n    </tr>\n    <tr>\n      <th>2</th>\n      <td>001021504965918214</td>\n      <td>944.0</td>\n      <td>0.0</td>\n      <td>944.0</td>\n      <td>944.0</td>\n      <td>900.0</td>\n      <td>0.0</td>\n      <td>900.0</td>\n    </tr>\n    <tr>\n      <th>3</th>\n      <td>0010217076033GDPUB</td>\n      <td>1200.0</td>\n      <td>1200.0</td>\n      <td>0.0</td>\n      <td>1200.0</td>\n      <td>1200.0</td>\n      <td>1200.0</td>\n      <td>0.0</td>\n    </tr>\n    <tr>\n      <th>4</th>\n      <td>001021707620301173</td>\n      <td>1200.0</td>\n      <td>1200.0</td>\n      <td>0.0</td>\n      <td>1200.0</td>\n      <td>1200.0</td>\n      <td>1200.0</td>\n      <td>0.0</td>\n    </tr>\n    <tr>\n      <th>...</th>\n      <td>...</td>\n      <td>...</td>\n      <td>...</td>\n      <td>...</td>\n      <td>...</td>\n      <td>...</td>\n      <td>...</td>\n      <td>...</td>\n    </tr>\n    <tr>\n      <th>80874</th>\n      <td>9741117155529GDPUB</td>\n      <td>674.0</td>\n      <td>0.0</td>\n      <td>674.0</td>\n      <td>674.0</td>\n      <td>650.0</td>\n      <td>0.0</td>\n      <td>650.0</td>\n    </tr>\n    <tr>\n      <th>80875</th>\n      <td>974111715873511487</td>\n      <td>1725.0</td>\n      <td>1725.0</td>\n      <td>0.0</td>\n      <td>1725.0</td>\n      <td>1700.0</td>\n      <td>1700.0</td>\n      <td>0.0</td>\n    </tr>\n    <tr>\n      <th>80876</th>\n      <td>9741216133916GDPUB</td>\n      <td>2000.0</td>\n      <td>2000.0</td>\n      <td>0.0</td>\n      <td>2000.0</td>\n      <td>2000.0</td>\n      <td>2000.0</td>\n      <td>0.0</td>\n    </tr>\n    <tr>\n      <th>80877</th>\n      <td>9741216133920GDPUB</td>\n      <td>846.0</td>\n      <td>846.0</td>\n      <td>0.0</td>\n      <td>846.0</td>\n      <td>800.0</td>\n      <td>800.0</td>\n      <td>0.0</td>\n    </tr>\n    <tr>\n      <th>80878</th>\n      <td>9741217158325GDPUB</td>\n      <td>33.0</td>\n      <td>33.0</td>\n      <td>0.0</td>\n      <td>33.0</td>\n      <td>0.0</td>\n      <td>0.0</td>\n      <td>0.0</td>\n    </tr>\n  </tbody>\n</table>\n<p>80879 rows × 8 columns</p>\n</div>"
     },
     "execution_count": 431,
     "metadata": {},
     "output_type": "execute_result"
    }
   ],
   "source": [
    "bddbis['Tranches de RI']=0\n",
    "bddbis['Tranches de PFS']=0\n",
    "\n",
    "def decoupe2(rl):\n",
    "    for i in range(0, 2050, 50):\n",
    "        if i<=rl and rl<i+50:\n",
    "            return i\n",
    "        elif rl>2001:\n",
    "            return np.NaN\n",
    "\n",
    "bddbis['Tranches de RI'] = bddbis['Ressources imposables mensuelles moyennes (RI)'].apply(decoupe2)\n",
    "bddbis['Tranches de PFS'] = bddbis['Prestations familiales et sociales mensuelles moyennes (PFS)'].apply(decoupe2)\n",
    "bddbis"
   ],
   "metadata": {
    "collapsed": false,
    "pycharm": {
     "name": "#%%\n"
    }
   }
  },
  {
   "cell_type": "code",
   "execution_count": 447,
   "outputs": [
    {
     "data": {
      "text/plain": "       Tranches de RI  Tranches de PFS\n0              1700.0            400.0\n1               200.0            700.0\n2                 0.0            900.0\n3              1200.0              0.0\n4              1200.0              0.0\n...               ...              ...\n80874             0.0            650.0\n80875          1700.0              0.0\n80876          2000.0              0.0\n80877           800.0              0.0\n80878             0.0              0.0\n\n[76641 rows x 2 columns]",
      "text/html": "<div>\n<style scoped>\n    .dataframe tbody tr th:only-of-type {\n        vertical-align: middle;\n    }\n\n    .dataframe tbody tr th {\n        vertical-align: top;\n    }\n\n    .dataframe thead th {\n        text-align: right;\n    }\n</style>\n<table border=\"1\" class=\"dataframe\">\n  <thead>\n    <tr style=\"text-align: right;\">\n      <th></th>\n      <th>Tranches de RI</th>\n      <th>Tranches de PFS</th>\n    </tr>\n  </thead>\n  <tbody>\n    <tr>\n      <th>0</th>\n      <td>1700.0</td>\n      <td>400.0</td>\n    </tr>\n    <tr>\n      <th>1</th>\n      <td>200.0</td>\n      <td>700.0</td>\n    </tr>\n    <tr>\n      <th>2</th>\n      <td>0.0</td>\n      <td>900.0</td>\n    </tr>\n    <tr>\n      <th>3</th>\n      <td>1200.0</td>\n      <td>0.0</td>\n    </tr>\n    <tr>\n      <th>4</th>\n      <td>1200.0</td>\n      <td>0.0</td>\n    </tr>\n    <tr>\n      <th>...</th>\n      <td>...</td>\n      <td>...</td>\n    </tr>\n    <tr>\n      <th>80874</th>\n      <td>0.0</td>\n      <td>650.0</td>\n    </tr>\n    <tr>\n      <th>80875</th>\n      <td>1700.0</td>\n      <td>0.0</td>\n    </tr>\n    <tr>\n      <th>80876</th>\n      <td>2000.0</td>\n      <td>0.0</td>\n    </tr>\n    <tr>\n      <th>80877</th>\n      <td>800.0</td>\n      <td>0.0</td>\n    </tr>\n    <tr>\n      <th>80878</th>\n      <td>0.0</td>\n      <td>0.0</td>\n    </tr>\n  </tbody>\n</table>\n<p>76641 rows × 2 columns</p>\n</div>"
     },
     "execution_count": 447,
     "metadata": {},
     "output_type": "execute_result"
    }
   ],
   "source": [
    "tableau=bddbis[['Tranches de RI', 'Tranches de PFS']]\n",
    "tableau=tableau.dropna()\n",
    "tableau"
   ],
   "metadata": {
    "collapsed": false,
    "pycharm": {
     "name": "#%%\n"
    }
   }
  },
  {
   "cell_type": "code",
   "execution_count": null,
   "outputs": [],
   "source": [],
   "metadata": {
    "collapsed": false,
    "pycharm": {
     "name": "#%%\n"
    }
   }
  },
  {
   "cell_type": "code",
   "execution_count": 449,
   "outputs": [
    {
     "data": {
      "text/plain": "Tranches de RI\n0.0       13589\n50.0        347\n100.0      1227\n150.0       737\n200.0       837\n250.0       583\n300.0       680\n350.0       662\n400.0       650\n450.0      1060\n500.0      1558\n550.0       761\n600.0      1223\n650.0      1263\n700.0      1569\n750.0      1589\n800.0      2406\n850.0      1831\n900.0      2305\n950.0      2068\n1000.0     2420\n1050.0     1776\n1100.0     2790\n1150.0     2508\n1200.0     3849\n1250.0     2374\n1300.0     3084\n1350.0     2165\n1400.0     2844\n1450.0     1990\n1500.0     2952\n1550.0     1471\n1600.0     2083\n1650.0     1212\n1700.0     1500\n1750.0      868\n1800.0     1323\n1850.0      651\n1900.0      802\n1950.0      496\n2000.0      538\nName: Tranches de PFS, dtype: int64"
     },
     "execution_count": 449,
     "metadata": {},
     "output_type": "execute_result"
    }
   ],
   "source": [
    "shrank = tableau.groupby(by='Tranches de RI').count()['Tranches de PFS']\n",
    "shrank"
   ],
   "metadata": {
    "collapsed": false,
    "pycharm": {
     "name": "#%%\n"
    }
   }
  },
  {
   "cell_type": "code",
   "execution_count": null,
   "outputs": [],
   "source": [],
   "metadata": {
    "collapsed": false,
    "pycharm": {
     "name": "#%%\n"
    }
   }
  },
  {
   "cell_type": "code",
   "execution_count": 441,
   "outputs": [
    {
     "data": {
      "text/plain": "     index  Tranches de RI\n0      0.0           13589\n1   1200.0            3849\n2   1300.0            3084\n3   1500.0            2952\n4   1400.0            2844\n5   1100.0            2790\n6   1150.0            2508\n7   1000.0            2420\n8    800.0            2406\n9   1250.0            2374\n10   900.0            2305\n11  1350.0            2165\n12  1600.0            2083\n13   950.0            2068\n14  1450.0            1990\n15   850.0            1831\n16  1050.0            1776\n17   750.0            1589\n18   700.0            1569\n19   500.0            1558\n20  1700.0            1500\n21  1550.0            1471\n22  1800.0            1323\n23   650.0            1263\n24   100.0            1227\n25   600.0            1223\n26  1650.0            1212\n27   450.0            1060\n28  1750.0             868\n29   200.0             837\n30  1900.0             802\n31   550.0             761\n32   150.0             737\n33   300.0             680\n34   350.0             662\n35  1850.0             651\n36   400.0             650\n37   250.0             583\n38  2000.0             538\n39  1950.0             496\n40    50.0             347",
      "text/html": "<div>\n<style scoped>\n    .dataframe tbody tr th:only-of-type {\n        vertical-align: middle;\n    }\n\n    .dataframe tbody tr th {\n        vertical-align: top;\n    }\n\n    .dataframe thead th {\n        text-align: right;\n    }\n</style>\n<table border=\"1\" class=\"dataframe\">\n  <thead>\n    <tr style=\"text-align: right;\">\n      <th></th>\n      <th>index</th>\n      <th>Tranches de RI</th>\n    </tr>\n  </thead>\n  <tbody>\n    <tr>\n      <th>0</th>\n      <td>0.0</td>\n      <td>13589</td>\n    </tr>\n    <tr>\n      <th>1</th>\n      <td>1200.0</td>\n      <td>3849</td>\n    </tr>\n    <tr>\n      <th>2</th>\n      <td>1300.0</td>\n      <td>3084</td>\n    </tr>\n    <tr>\n      <th>3</th>\n      <td>1500.0</td>\n      <td>2952</td>\n    </tr>\n    <tr>\n      <th>4</th>\n      <td>1400.0</td>\n      <td>2844</td>\n    </tr>\n    <tr>\n      <th>5</th>\n      <td>1100.0</td>\n      <td>2790</td>\n    </tr>\n    <tr>\n      <th>6</th>\n      <td>1150.0</td>\n      <td>2508</td>\n    </tr>\n    <tr>\n      <th>7</th>\n      <td>1000.0</td>\n      <td>2420</td>\n    </tr>\n    <tr>\n      <th>8</th>\n      <td>800.0</td>\n      <td>2406</td>\n    </tr>\n    <tr>\n      <th>9</th>\n      <td>1250.0</td>\n      <td>2374</td>\n    </tr>\n    <tr>\n      <th>10</th>\n      <td>900.0</td>\n      <td>2305</td>\n    </tr>\n    <tr>\n      <th>11</th>\n      <td>1350.0</td>\n      <td>2165</td>\n    </tr>\n    <tr>\n      <th>12</th>\n      <td>1600.0</td>\n      <td>2083</td>\n    </tr>\n    <tr>\n      <th>13</th>\n      <td>950.0</td>\n      <td>2068</td>\n    </tr>\n    <tr>\n      <th>14</th>\n      <td>1450.0</td>\n      <td>1990</td>\n    </tr>\n    <tr>\n      <th>15</th>\n      <td>850.0</td>\n      <td>1831</td>\n    </tr>\n    <tr>\n      <th>16</th>\n      <td>1050.0</td>\n      <td>1776</td>\n    </tr>\n    <tr>\n      <th>17</th>\n      <td>750.0</td>\n      <td>1589</td>\n    </tr>\n    <tr>\n      <th>18</th>\n      <td>700.0</td>\n      <td>1569</td>\n    </tr>\n    <tr>\n      <th>19</th>\n      <td>500.0</td>\n      <td>1558</td>\n    </tr>\n    <tr>\n      <th>20</th>\n      <td>1700.0</td>\n      <td>1500</td>\n    </tr>\n    <tr>\n      <th>21</th>\n      <td>1550.0</td>\n      <td>1471</td>\n    </tr>\n    <tr>\n      <th>22</th>\n      <td>1800.0</td>\n      <td>1323</td>\n    </tr>\n    <tr>\n      <th>23</th>\n      <td>650.0</td>\n      <td>1263</td>\n    </tr>\n    <tr>\n      <th>24</th>\n      <td>100.0</td>\n      <td>1227</td>\n    </tr>\n    <tr>\n      <th>25</th>\n      <td>600.0</td>\n      <td>1223</td>\n    </tr>\n    <tr>\n      <th>26</th>\n      <td>1650.0</td>\n      <td>1212</td>\n    </tr>\n    <tr>\n      <th>27</th>\n      <td>450.0</td>\n      <td>1060</td>\n    </tr>\n    <tr>\n      <th>28</th>\n      <td>1750.0</td>\n      <td>868</td>\n    </tr>\n    <tr>\n      <th>29</th>\n      <td>200.0</td>\n      <td>837</td>\n    </tr>\n    <tr>\n      <th>30</th>\n      <td>1900.0</td>\n      <td>802</td>\n    </tr>\n    <tr>\n      <th>31</th>\n      <td>550.0</td>\n      <td>761</td>\n    </tr>\n    <tr>\n      <th>32</th>\n      <td>150.0</td>\n      <td>737</td>\n    </tr>\n    <tr>\n      <th>33</th>\n      <td>300.0</td>\n      <td>680</td>\n    </tr>\n    <tr>\n      <th>34</th>\n      <td>350.0</td>\n      <td>662</td>\n    </tr>\n    <tr>\n      <th>35</th>\n      <td>1850.0</td>\n      <td>651</td>\n    </tr>\n    <tr>\n      <th>36</th>\n      <td>400.0</td>\n      <td>650</td>\n    </tr>\n    <tr>\n      <th>37</th>\n      <td>250.0</td>\n      <td>583</td>\n    </tr>\n    <tr>\n      <th>38</th>\n      <td>2000.0</td>\n      <td>538</td>\n    </tr>\n    <tr>\n      <th>39</th>\n      <td>1950.0</td>\n      <td>496</td>\n    </tr>\n    <tr>\n      <th>40</th>\n      <td>50.0</td>\n      <td>347</td>\n    </tr>\n  </tbody>\n</table>\n</div>"
     },
     "execution_count": 441,
     "metadata": {},
     "output_type": "execute_result"
    }
   ],
   "source": [
    "def croix(c1, c2):\n",
    "    for i in range(0, 76640):\n",
    "        for j in range(0, 76640):\n",
    "            if c1 == 0:\n",
    "                if c2 ==0:\n",
    "                    df[i][j] =+1\n",
    "\n",
    "        return 0.3\n",
    "    else:\n",
    "        return 0\n",
    "\n",
    "base['C1'] = base['Rapport RL'].apply(c1)\n",
    "base"
   ],
   "metadata": {
    "collapsed": false,
    "pycharm": {
     "name": "#%%\n"
    }
   }
  },
  {
   "cell_type": "code",
   "execution_count": 439,
   "outputs": [
    {
     "data": {
      "text/plain": "    Tranches de RI      0\n0              0.0  13589\n1             50.0    347\n2            100.0   1227\n3            150.0    737\n4            200.0    837\n5            250.0    583\n6            300.0    680\n7            350.0    662\n8            400.0    650\n9            450.0   1060\n10           500.0   1558\n11           550.0    761\n12           600.0   1223\n13           650.0   1263\n14           700.0   1569\n15           750.0   1589\n16           800.0   2406\n17           850.0   1831\n18           900.0   2305\n19           950.0   2068\n20          1000.0   2420\n21          1050.0   1776\n22          1100.0   2790\n23          1150.0   2508\n24          1200.0   3849\n25          1250.0   2374\n26          1300.0   3084\n27          1350.0   2165\n28          1400.0   2844\n29          1450.0   1990\n30          1500.0   2952\n31          1550.0   1471\n32          1600.0   2083\n33          1650.0   1212\n34          1700.0   1500\n35          1750.0    868\n36          1800.0   1323\n37          1850.0    651\n38          1900.0    802\n39          1950.0    496\n40          2000.0    538",
      "text/html": "<div>\n<style scoped>\n    .dataframe tbody tr th:only-of-type {\n        vertical-align: middle;\n    }\n\n    .dataframe tbody tr th {\n        vertical-align: top;\n    }\n\n    .dataframe thead th {\n        text-align: right;\n    }\n</style>\n<table border=\"1\" class=\"dataframe\">\n  <thead>\n    <tr style=\"text-align: right;\">\n      <th></th>\n      <th>Tranches de RI</th>\n      <th>0</th>\n    </tr>\n  </thead>\n  <tbody>\n    <tr>\n      <th>0</th>\n      <td>0.0</td>\n      <td>13589</td>\n    </tr>\n    <tr>\n      <th>1</th>\n      <td>50.0</td>\n      <td>347</td>\n    </tr>\n    <tr>\n      <th>2</th>\n      <td>100.0</td>\n      <td>1227</td>\n    </tr>\n    <tr>\n      <th>3</th>\n      <td>150.0</td>\n      <td>737</td>\n    </tr>\n    <tr>\n      <th>4</th>\n      <td>200.0</td>\n      <td>837</td>\n    </tr>\n    <tr>\n      <th>5</th>\n      <td>250.0</td>\n      <td>583</td>\n    </tr>\n    <tr>\n      <th>6</th>\n      <td>300.0</td>\n      <td>680</td>\n    </tr>\n    <tr>\n      <th>7</th>\n      <td>350.0</td>\n      <td>662</td>\n    </tr>\n    <tr>\n      <th>8</th>\n      <td>400.0</td>\n      <td>650</td>\n    </tr>\n    <tr>\n      <th>9</th>\n      <td>450.0</td>\n      <td>1060</td>\n    </tr>\n    <tr>\n      <th>10</th>\n      <td>500.0</td>\n      <td>1558</td>\n    </tr>\n    <tr>\n      <th>11</th>\n      <td>550.0</td>\n      <td>761</td>\n    </tr>\n    <tr>\n      <th>12</th>\n      <td>600.0</td>\n      <td>1223</td>\n    </tr>\n    <tr>\n      <th>13</th>\n      <td>650.0</td>\n      <td>1263</td>\n    </tr>\n    <tr>\n      <th>14</th>\n      <td>700.0</td>\n      <td>1569</td>\n    </tr>\n    <tr>\n      <th>15</th>\n      <td>750.0</td>\n      <td>1589</td>\n    </tr>\n    <tr>\n      <th>16</th>\n      <td>800.0</td>\n      <td>2406</td>\n    </tr>\n    <tr>\n      <th>17</th>\n      <td>850.0</td>\n      <td>1831</td>\n    </tr>\n    <tr>\n      <th>18</th>\n      <td>900.0</td>\n      <td>2305</td>\n    </tr>\n    <tr>\n      <th>19</th>\n      <td>950.0</td>\n      <td>2068</td>\n    </tr>\n    <tr>\n      <th>20</th>\n      <td>1000.0</td>\n      <td>2420</td>\n    </tr>\n    <tr>\n      <th>21</th>\n      <td>1050.0</td>\n      <td>1776</td>\n    </tr>\n    <tr>\n      <th>22</th>\n      <td>1100.0</td>\n      <td>2790</td>\n    </tr>\n    <tr>\n      <th>23</th>\n      <td>1150.0</td>\n      <td>2508</td>\n    </tr>\n    <tr>\n      <th>24</th>\n      <td>1200.0</td>\n      <td>3849</td>\n    </tr>\n    <tr>\n      <th>25</th>\n      <td>1250.0</td>\n      <td>2374</td>\n    </tr>\n    <tr>\n      <th>26</th>\n      <td>1300.0</td>\n      <td>3084</td>\n    </tr>\n    <tr>\n      <th>27</th>\n      <td>1350.0</td>\n      <td>2165</td>\n    </tr>\n    <tr>\n      <th>28</th>\n      <td>1400.0</td>\n      <td>2844</td>\n    </tr>\n    <tr>\n      <th>29</th>\n      <td>1450.0</td>\n      <td>1990</td>\n    </tr>\n    <tr>\n      <th>30</th>\n      <td>1500.0</td>\n      <td>2952</td>\n    </tr>\n    <tr>\n      <th>31</th>\n      <td>1550.0</td>\n      <td>1471</td>\n    </tr>\n    <tr>\n      <th>32</th>\n      <td>1600.0</td>\n      <td>2083</td>\n    </tr>\n    <tr>\n      <th>33</th>\n      <td>1650.0</td>\n      <td>1212</td>\n    </tr>\n    <tr>\n      <th>34</th>\n      <td>1700.0</td>\n      <td>1500</td>\n    </tr>\n    <tr>\n      <th>35</th>\n      <td>1750.0</td>\n      <td>868</td>\n    </tr>\n    <tr>\n      <th>36</th>\n      <td>1800.0</td>\n      <td>1323</td>\n    </tr>\n    <tr>\n      <th>37</th>\n      <td>1850.0</td>\n      <td>651</td>\n    </tr>\n    <tr>\n      <th>38</th>\n      <td>1900.0</td>\n      <td>802</td>\n    </tr>\n    <tr>\n      <th>39</th>\n      <td>1950.0</td>\n      <td>496</td>\n    </tr>\n    <tr>\n      <th>40</th>\n      <td>2000.0</td>\n      <td>538</td>\n    </tr>\n  </tbody>\n</table>\n</div>"
     },
     "execution_count": 439,
     "metadata": {},
     "output_type": "execute_result"
    }
   ],
   "source": [
    "z.reset_index()"
   ],
   "metadata": {
    "collapsed": false,
    "pycharm": {
     "name": "#%%\n"
    }
   }
  },
  {
   "cell_type": "code",
   "execution_count": 437,
   "outputs": [
    {
     "data": {
      "text/plain": "Tranches de RI\n0.0       13589\n50.0        347\n100.0      1227\n150.0       737\n200.0       837\n250.0       583\n300.0       680\n350.0       662\n400.0       650\n450.0      1060\n500.0      1558\n550.0       761\n600.0      1223\n650.0      1263\n700.0      1569\n750.0      1589\n800.0      2406\n850.0      1831\n900.0      2305\n950.0      2068\n1000.0     2420\n1050.0     1776\n1100.0     2790\n1150.0     2508\n1200.0     3849\n1250.0     2374\n1300.0     3084\n1350.0     2165\n1400.0     2844\n1450.0     1990\n1500.0     2952\n1550.0     1471\n1600.0     2083\n1650.0     1212\n1700.0     1500\n1750.0      868\n1800.0     1323\n1850.0      651\n1900.0      802\n1950.0      496\n2000.0      538\ndtype: int64"
     },
     "execution_count": 437,
     "metadata": {},
     "output_type": "execute_result"
    }
   ],
   "source": [
    "z"
   ],
   "metadata": {
    "collapsed": false,
    "pycharm": {
     "name": "#%%\n"
    }
   }
  },
  {
   "cell_type": "code",
   "execution_count": null,
   "outputs": [],
   "source": [
    "pd.melt(df, id_vars=['A'], value_vars=['B'])"
   ],
   "metadata": {
    "collapsed": false,
    "pycharm": {
     "name": "#%%\n"
    }
   }
  }
 ],
 "metadata": {
  "kernelspec": {
   "display_name": "Python 3.10.5 ('housing_camille_env')",
   "language": "python",
   "name": "python3"
  },
  "language_info": {
   "codemirror_mode": {
    "name": "ipython",
    "version": 3
   },
   "file_extension": ".py",
   "mimetype": "text/x-python",
   "name": "python",
   "nbconvert_exporter": "python",
   "pygments_lexer": "ipython3",
   "version": "3.10.5"
  },
  "vscode": {
   "interpreter": {
    "hash": "8fad96bbbe6762c519f1fa3a0e80a714676148bdfa8f6cd3491511eec586cb93"
   }
  }
 },
 "nbformat": 4,
 "nbformat_minor": 0
}