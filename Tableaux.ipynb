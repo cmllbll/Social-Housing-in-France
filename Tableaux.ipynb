{
 "cells": [
  {
   "cell_type": "code",
   "execution_count": 2,
   "outputs": [],
   "source": [
    "import pandas as pd\n",
    "import numpy as np\n",
    "import matplotlib.pyplot as plt\n",
    "from tqdm import tqdm"
   ],
   "metadata": {
    "collapsed": false,
    "pycharm": {
     "name": "#%%\n"
    }
   }
  },
  {
   "cell_type": "code",
   "execution_count": 151,
   "outputs": [],
   "source": [
    "import seaborn as sns"
   ],
   "metadata": {
    "collapsed": false,
    "pycharm": {
     "name": "#%%\n"
    }
   }
  },
  {
   "cell_type": "code",
   "execution_count": null,
   "outputs": [],
   "source": [
    "dfd = pd.read_csv(r'C:\\Users\\arceb\\PycharmProjects\\pythonProject/demandeurs_2_revenus.csv', index_col = 0)"
   ],
   "metadata": {
    "collapsed": false,
    "pycharm": {
     "name": "#%%\n"
    }
   }
  },
  {
   "cell_type": "code",
   "execution_count": null,
   "outputs": [],
   "source": [
    "dfd=dfd.rename(columns={'Type de ressource\\n': 'Type'})\n",
    "dfd"
   ],
   "metadata": {
    "collapsed": false,
    "pycharm": {
     "name": "#%%\n"
    }
   }
  },
  {
   "cell_type": "code",
   "execution_count": null,
   "outputs": [],
   "source": [
    "dfd['Ressources mensuelles\\n'].isna().sum()"
   ],
   "metadata": {
    "collapsed": false,
    "pycharm": {
     "name": "#%%\n"
    }
   }
  },
  {
   "cell_type": "code",
   "execution_count": null,
   "outputs": [],
   "source": [
    "dfdbis=dfd.drop_duplicates(subset =\"Numéro Unique\")\n",
    "dfdbis=dfdbis.dropna()\n",
    "dfdbis"
   ],
   "metadata": {
    "collapsed": false,
    "pycharm": {
     "name": "#%%\n"
    }
   }
  },
  {
   "cell_type": "markdown",
   "source": [
    "### Calcul des ressources imposables mensuelles"
   ],
   "metadata": {
    "collapsed": false,
    "pycharm": {
     "name": "#%% md\n"
    }
   }
  },
  {
   "cell_type": "code",
   "execution_count": null,
   "outputs": [],
   "source": [
    "values=[\"Retraite\", \"Allocation chômage / indemnités\", \"Salaire ou revenu d'activité\", \"Pension alimentaire reçue\", \"Autres (hors APL ou AL)\", \"Pension d\\'invalidité\"]\n",
    "filtered_df = dfd[dfd.Type.isin(values)]\n",
    "filtered_df"
   ],
   "metadata": {
    "collapsed": false,
    "pycharm": {
     "name": "#%%\n"
    }
   }
  },
  {
   "cell_type": "code",
   "execution_count": null,
   "outputs": [],
   "source": [
    "shrank_values = filtered_df.groupby(by='Numéro Unique').sum()['Montant par type de ressource\\n']\n",
    "\n",
    "merged_df = filtered_df.merge(shrank_values, left_on='Numéro Unique', right_index=True)\n",
    "\n",
    "merged_df = merged_df.rename(columns={'Montant par type de ressource\\n_y': 'Ressources imposables mensuelles moyennes (RI)'})\n"
   ],
   "metadata": {
    "collapsed": false,
    "pycharm": {
     "name": "#%%\n"
    }
   }
  },
  {
   "cell_type": "code",
   "execution_count": null,
   "outputs": [],
   "source": [
    "merged_df"
   ],
   "metadata": {
    "collapsed": false,
    "pycharm": {
     "name": "#%%\n"
    }
   }
  },
  {
   "cell_type": "code",
   "execution_count": null,
   "outputs": [],
   "source": [
    "merged_dfbis=merged_df.drop_duplicates(subset =\"Numéro Unique\")\n",
    "merged_dfbis"
   ],
   "metadata": {
    "collapsed": false,
    "pycharm": {
     "name": "#%%\n"
    }
   }
  },
  {
   "cell_type": "code",
   "execution_count": null,
   "outputs": [],
   "source": [
    "bdd = dfdbis.merge(merged_dfbis, on='Numéro Unique', how='outer')\n",
    "bdd=bdd[['Numéro Unique', 'Ressources mensuelles\\n_x','Ressources imposables mensuelles moyennes (RI)']]\n",
    "bdd=bdd.rename(columns={'Ressources mensuelles\\n_x': 'RM Moyennes'})\n",
    "bdd"
   ],
   "metadata": {
    "collapsed": false,
    "pycharm": {
     "name": "#%%\n"
    }
   }
  },
  {
   "cell_type": "code",
   "execution_count": null,
   "outputs": [],
   "source": [
    "#Foyers dont les ressources mensuelles ne matchent pas le revenu imposable => Une part des ressources n'est pas imposable\n",
    "merged_df[merged_df['Revenu imposable']!=merged_df['Ressources mensuelles']]"
   ],
   "metadata": {
    "collapsed": false,
    "pycharm": {
     "name": "#%%\n"
    }
   }
  },
  {
   "cell_type": "code",
   "execution_count": null,
   "outputs": [],
   "source": [
    "#Foyers avec plusieurs type de revenus\n",
    "merged_df[merged_df['Revenu imposable']!=merged_df['Montant par type de ressource_x']]\n"
   ],
   "metadata": {
    "collapsed": false,
    "pycharm": {
     "name": "#%%\n"
    }
   }
  },
  {
   "cell_type": "code",
   "execution_count": null,
   "outputs": [],
   "source": [
    "#Foyers avec un seul type de revenu\n",
    "merged_df[~(merged_df['Revenu imposable']!=merged_df['Montant par type de ressource_x'])]\n"
   ],
   "metadata": {
    "collapsed": false,
    "pycharm": {
     "name": "#%%\n"
    }
   }
  },
  {
   "cell_type": "markdown",
   "source": [
    "### Calcul des prestations familiales et sociales mensuelles"
   ],
   "metadata": {
    "collapsed": false,
    "pycharm": {
     "name": "#%% md\n"
    }
   }
  },
  {
   "cell_type": "code",
   "execution_count": null,
   "outputs": [],
   "source": [
    "values1=[\"Allocation d'adulte handicapé(AAH)\", \"Allocation d'éducation d'enfant handicapé (AEEH)\", \"Allocation de minimum vieillesse\", \"Allocation familiales\", \"Allocation Jeune Enfant (PAJE)\", \"Bourse étudiant\", \"Prime d'activité\", \"Revenu de solidarité active (RSA)\", \"Allocation journalière de présence parentale (AJPP)\"]\n",
    "filtered_df1 = dfd[dfd.Type.isin(values1)]\n",
    "filtered_df1"
   ],
   "metadata": {
    "collapsed": false,
    "pycharm": {
     "name": "#%%\n"
    }
   }
  },
  {
   "cell_type": "code",
   "execution_count": null,
   "outputs": [],
   "source": [
    "shrank_values1 = filtered_df1.groupby(by='Numéro Unique').sum()['Montant par type de ressource\\n']\n",
    "\n",
    "merged_df1 = filtered_df1.merge(shrank_values1, left_on='Numéro Unique', right_index=True)\n",
    "\n",
    "merged_df1 = merged_df1.rename(columns={'Montant par type de ressource\\n_y': 'Prestations familiales et sociales mensuelles moyennes (PFS)'})"
   ],
   "metadata": {
    "collapsed": false,
    "pycharm": {
     "name": "#%%\n"
    }
   }
  },
  {
   "cell_type": "code",
   "execution_count": null,
   "outputs": [],
   "source": [
    "merged_df1"
   ],
   "metadata": {
    "collapsed": false,
    "pycharm": {
     "name": "#%%\n"
    }
   }
  },
  {
   "cell_type": "code",
   "execution_count": null,
   "outputs": [],
   "source": [
    "merged_dfbis1=merged_df1.drop_duplicates(subset =\"Numéro Unique\")\n",
    "merged_dfbis1"
   ],
   "metadata": {
    "collapsed": false,
    "pycharm": {
     "name": "#%%\n"
    }
   }
  },
  {
   "cell_type": "code",
   "execution_count": null,
   "outputs": [],
   "source": [
    "bddbis = bdd.merge(merged_dfbis1, on='Numéro Unique', how='outer')\n",
    "bddbis=bddbis.rename(columns={'Ressources mensuelles\\n_x': 'RM Moyennes'})\n",
    "bddbis=bddbis[['Numéro Unique', 'RM Moyennes','Ressources imposables mensuelles moyennes (RI)', 'Prestations familiales et sociales mensuelles moyennes (PFS)']]\n",
    "bddbis"
   ],
   "metadata": {
    "collapsed": false,
    "pycharm": {
     "name": "#%%\n"
    }
   }
  },
  {
   "cell_type": "code",
   "execution_count": null,
   "outputs": [],
   "source": [
    "bddbis['Ressources imposables mensuelles moyennes (RI)'].isna().sum()"
   ],
   "metadata": {
    "collapsed": false,
    "pycharm": {
     "name": "#%%\n"
    }
   }
  },
  {
   "cell_type": "code",
   "execution_count": null,
   "outputs": [],
   "source": [
    "bddbis['Prestations familiales et sociales mensuelles moyennes (PFS)'].isna().sum()"
   ],
   "metadata": {
    "collapsed": false,
    "pycharm": {
     "name": "#%%\n"
    }
   }
  },
  {
   "cell_type": "markdown",
   "source": [
    "### Somme Revenus imposables et prestations"
   ],
   "metadata": {
    "collapsed": false,
    "pycharm": {
     "name": "#%% md\n"
    }
   }
  },
  {
   "cell_type": "code",
   "execution_count": null,
   "outputs": [],
   "source": [
    "bddbis['Ressources imposables mensuelles moyennes (RI)'].fillna(0, inplace=True)\n",
    "bddbis['Prestations familiales et sociales mensuelles moyennes (PFS)'].fillna(0, inplace=True)"
   ],
   "metadata": {
    "collapsed": false,
    "pycharm": {
     "name": "#%%\n"
    }
   }
  },
  {
   "cell_type": "code",
   "execution_count": null,
   "outputs": [],
   "source": [
    "bddbis"
   ],
   "metadata": {
    "collapsed": false,
    "pycharm": {
     "name": "#%%\n"
    }
   }
  },
  {
   "cell_type": "code",
   "execution_count": null,
   "outputs": [],
   "source": [
    "bddbis['Ri + PFS']=bddbis['Ressources imposables mensuelles moyennes (RI)']+bddbis['Prestations familiales et sociales mensuelles moyennes (PFS)']\n",
    "bddbis"
   ],
   "metadata": {
    "collapsed": false,
    "pycharm": {
     "name": "#%%\n"
    }
   }
  },
  {
   "cell_type": "code",
   "execution_count": null,
   "outputs": [],
   "source": [
    "file_name = 'RI_PFS_IDF.csv'\n",
    "bddbis.to_csv(file_name)"
   ],
   "metadata": {
    "collapsed": false,
    "pycharm": {
     "name": "#%%\n"
    }
   }
  },
  {
   "cell_type": "markdown",
   "source": [
    "### Mise en place des tranches de ressources mensuelles"
   ],
   "metadata": {
    "collapsed": false,
    "pycharm": {
     "name": "#%% md\n"
    }
   }
  },
  {
   "cell_type": "code",
   "execution_count": null,
   "outputs": [],
   "source": [
    "bddbis['Tranches de ressources mensuelles (RM)']=0\n",
    "\n",
    "def decoupe(rl):\n",
    "    for i in range(0, 5000, 50):\n",
    "        if i<=rl and rl<i+50:\n",
    "            return i\n",
    "        elif rl>4950:\n",
    "            return 4950\n",
    "\n",
    "bddbis['Tranches de ressources mensuelles (RM)'] = bddbis['RM Moyennes'].apply(decoupe)\n",
    "bddbis"
   ],
   "metadata": {
    "collapsed": false,
    "pycharm": {
     "name": "#%%\n"
    }
   }
  },
  {
   "cell_type": "code",
   "execution_count": null,
   "outputs": [],
   "source": [
    "#bddbis['Tranches de ressources mensuelles'].dropna()"
   ],
   "metadata": {
    "collapsed": false,
    "pycharm": {
     "name": "#%%\n"
    }
   }
  },
  {
   "cell_type": "code",
   "execution_count": null,
   "outputs": [],
   "source": [
    "#bddbis.groupby(['Tranches de ressources mensuelles'])['Sales'].mean()\n",
    "x=bddbis.groupby('Tranches de ressources mensuelles (RM)').mean().reset_index()\n",
    "x"
   ],
   "metadata": {
    "collapsed": false,
    "pycharm": {
     "name": "#%%\n"
    }
   }
  },
  {
   "cell_type": "code",
   "execution_count": null,
   "outputs": [],
   "source": [
    "#x['Nombre de demandeurs'] = bddbis.groupby('Tranches de ressources mensuelles').count()\n",
    "y=bddbis['Tranches de ressources mensuelles (RM)'].value_counts()\n",
    "y=y.reset_index()\n",
    "y"
   ],
   "metadata": {
    "collapsed": false,
    "pycharm": {
     "name": "#%%\n"
    }
   }
  },
  {
   "cell_type": "code",
   "execution_count": null,
   "outputs": [],
   "source": [
    "y=y.rename(columns={'index': 'Tranches de ressources mensuelles (RM)', \"Tranches de ressources mensuelles (RM)\": \"Nombre de demandeurs\"})"
   ],
   "metadata": {
    "collapsed": false,
    "pycharm": {
     "name": "#%%\n"
    }
   }
  },
  {
   "cell_type": "code",
   "execution_count": null,
   "outputs": [],
   "source": [
    "y"
   ],
   "metadata": {
    "collapsed": false,
    "pycharm": {
     "name": "#%%\n"
    }
   }
  },
  {
   "cell_type": "code",
   "execution_count": null,
   "outputs": [],
   "source": [
    "final = x.merge(y, on='Tranches de ressources mensuelles (RM)', how='left')\n",
    "final"
   ],
   "metadata": {
    "collapsed": false,
    "pycharm": {
     "name": "#%%\n"
    }
   }
  },
  {
   "cell_type": "code",
   "execution_count": null,
   "outputs": [],
   "source": [
    "final=final[['Tranches de ressources mensuelles (RM)', 'Nombre de demandeurs', 'RM Moyennes', 'Prestations familiales et sociales mensuelles moyennes (PFS)', 'Ressources imposables mensuelles moyennes (RI)', 'Ri + PFS']]"
   ],
   "metadata": {
    "collapsed": false,
    "pycharm": {
     "name": "#%%\n"
    }
   }
  },
  {
   "cell_type": "code",
   "execution_count": null,
   "outputs": [],
   "source": [
    "final=final.reset_index(drop=True)\n",
    "final"
   ],
   "metadata": {
    "collapsed": false,
    "pycharm": {
     "name": "#%%\n"
    }
   }
  },
  {
   "cell_type": "code",
   "execution_count": null,
   "outputs": [],
   "source": [
    "#file_name = 'Analyse des ressources v4.xlsx'\n",
    "#final.to_excel(file_name)"
   ],
   "metadata": {
    "collapsed": false,
    "pycharm": {
     "name": "#%%\n"
    }
   }
  },
  {
   "cell_type": "markdown",
   "source": [
    "### Tableaux croisés RI / PFS"
   ],
   "metadata": {
    "collapsed": false,
    "pycharm": {
     "name": "#%% md\n"
    }
   }
  },
  {
   "cell_type": "code",
   "execution_count": null,
   "outputs": [],
   "source": [
    "bddbis['Tranches de RI']=0\n",
    "bddbis['Tranches de PFS']=0\n",
    "\n",
    "def decoupe2(rl):\n",
    "    for i in range(0, 2000, 50):\n",
    "        if i<rl and rl<=i+50:\n",
    "            return i\n",
    "        elif rl>2000:\n",
    "            return np.NaN\n",
    "        elif rl==0:\n",
    "            return np.NaN\n",
    "\n",
    "\n",
    "bddbis['Tranches de RI'] = bddbis['Ressources imposables mensuelles moyennes (RI)'].apply(decoupe2)\n",
    "bddbis['Tranches de PFS'] = bddbis['Prestations familiales et sociales mensuelles moyennes (PFS)'].apply(decoupe2)\n",
    "bddbis"
   ],
   "metadata": {
    "collapsed": false,
    "pycharm": {
     "name": "#%%\n"
    }
   }
  },
  {
   "cell_type": "code",
   "execution_count": null,
   "outputs": [],
   "source": [
    "tableau=bddbis[['Tranches de RI', 'Tranches de PFS']]\n",
    "tableau=tableau.dropna()\n",
    "tableau"
   ],
   "metadata": {
    "collapsed": false,
    "pycharm": {
     "name": "#%%\n"
    }
   }
  },
  {
   "cell_type": "code",
   "execution_count": null,
   "outputs": [],
   "source": [
    "#bddbis.pivot_table(index=\"Trancges de RI\", columns=\"Tranches de PFS\", values=\"value\", aggfunc=\"sum\")\n",
    "z=bddbis.pivot_table(index=\"Tranches de RI\", columns=\"Tranches de PFS\", values=\"Numéro Unique\",  aggfunc=\"size\", fill_value=0)\n",
    "z"
   ],
   "metadata": {
    "collapsed": false,
    "pycharm": {
     "name": "#%%\n"
    }
   }
  },
  {
   "cell_type": "code",
   "execution_count": null,
   "outputs": [],
   "source": [
    "file_name = 'Tableau croisé non nul v2.xlsx'\n",
    "z.to_excel(file_name)"
   ],
   "metadata": {
    "collapsed": false,
    "pycharm": {
     "name": "#%%\n"
    }
   }
  },
  {
   "cell_type": "code",
   "execution_count": null,
   "outputs": [],
   "source": [
    "bddbis[bddbis['Tranches de PFS']==0]"
   ],
   "metadata": {
    "collapsed": false,
    "pycharm": {
     "name": "#%%\n"
    }
   }
  },
  {
   "cell_type": "code",
   "execution_count": null,
   "outputs": [],
   "source": [
    "shrank = tableau.groupby(by='Tranches de RI').count()['Tranches de PFS']\n",
    "shrank"
   ],
   "metadata": {
    "collapsed": false,
    "pycharm": {
     "name": "#%%\n"
    }
   }
  },
  {
   "cell_type": "code",
   "execution_count": null,
   "outputs": [],
   "source": [
    "import plotly.graph_objects as go"
   ],
   "metadata": {
    "collapsed": false,
    "pycharm": {
     "name": "#%%\n"
    }
   }
  },
  {
   "cell_type": "code",
   "execution_count": null,
   "outputs": [],
   "source": [
    "fig=go.Figure(go.Surface(z=z, y=z.index, x=z.columns))\n",
    "fig.show()"
   ],
   "metadata": {
    "collapsed": false,
    "pycharm": {
     "name": "#%%\n"
    }
   }
  },
  {
   "cell_type": "code",
   "execution_count": null,
   "outputs": [],
   "source": [
    "fig.write_html(r\"C:\\Users\\arceb\\pythonProjects\\Graphique.html\")"
   ],
   "metadata": {
    "collapsed": false,
    "pycharm": {
     "name": "#%%\n"
    }
   }
  },
  {
   "cell_type": "code",
   "execution_count": null,
   "outputs": [],
   "source": [
    "import plotly.express as px"
   ],
   "metadata": {
    "collapsed": false,
    "pycharm": {
     "name": "#%%\n"
    }
   }
  },
  {
   "cell_type": "code",
   "execution_count": null,
   "outputs": [],
   "source": [
    "fig2=px.scatter(z)"
   ],
   "metadata": {
    "collapsed": false,
    "pycharm": {
     "name": "#%%\n"
    }
   }
  },
  {
   "cell_type": "code",
   "execution_count": null,
   "outputs": [],
   "source": [
    "fig3=px.imshow(z)"
   ],
   "metadata": {
    "collapsed": false,
    "pycharm": {
     "name": "#%%\n"
    }
   }
  },
  {
   "cell_type": "code",
   "execution_count": null,
   "outputs": [],
   "source": [
    "fig2.write_html(r\"C:\\Users\\arceb\\PycharmProjects\\Graphique_bis.html\")"
   ],
   "metadata": {
    "collapsed": false,
    "pycharm": {
     "name": "#%%\n"
    }
   }
  },
  {
   "cell_type": "code",
   "execution_count": null,
   "outputs": [],
   "source": [
    "fig3.write_html(r\"C:\\Users\\arceb\\PycharmProjects\\Graphique3.html\")"
   ],
   "metadata": {
    "collapsed": false,
    "pycharm": {
     "name": "#%%\n"
    }
   }
  },
  {
   "cell_type": "code",
   "execution_count": null,
   "outputs": [],
   "source": [
    "import plotly"
   ],
   "metadata": {
    "collapsed": false,
    "pycharm": {
     "name": "#%%\n"
    }
   }
  },
  {
   "cell_type": "markdown",
   "source": [
    "### Graphiques RI nuls"
   ],
   "metadata": {
    "collapsed": false,
    "pycharm": {
     "name": "#%% md\n"
    }
   }
  },
  {
   "cell_type": "code",
   "execution_count": null,
   "outputs": [],
   "source": [
    "RI=bddbis[bddbis['Ressources imposables mensuelles moyennes (RI)']==0]"
   ],
   "metadata": {
    "collapsed": false,
    "pycharm": {
     "name": "#%%\n"
    }
   }
  },
  {
   "cell_type": "code",
   "execution_count": null,
   "outputs": [],
   "source": [
    "RI"
   ],
   "metadata": {
    "collapsed": false,
    "pycharm": {
     "name": "#%%\n"
    }
   }
  },
  {
   "cell_type": "code",
   "execution_count": null,
   "outputs": [],
   "source": [
    "RI['Tranches de PFS']=0\n",
    "\n",
    "def ri(rl):\n",
    "    for i in range(0, 2000, 50):\n",
    "        if i<rl and rl<=i+50:\n",
    "            return i\n",
    "        elif rl>2000:\n",
    "            return np.NaN\n",
    "\n",
    "RI['Tranches de PFS'] = RI['Prestations familiales et sociales mensuelles moyennes (PFS)'].apply(ri)\n",
    "RI"
   ],
   "metadata": {
    "collapsed": false,
    "pycharm": {
     "name": "#%%\n"
    }
   }
  },
  {
   "cell_type": "code",
   "execution_count": null,
   "outputs": [],
   "source": [
    "ri=RI[['Tranches de PFS', 'Numéro Unique']]\n",
    "ri"
   ],
   "metadata": {
    "collapsed": false,
    "pycharm": {
     "name": "#%%\n"
    }
   }
  },
  {
   "cell_type": "code",
   "execution_count": null,
   "outputs": [],
   "source": [
    "ri = ri.groupby(by='Tranches de PFS').count()['Numéro Unique']\n",
    "ri = ri.to_frame()\n",
    "ri"
   ],
   "metadata": {
    "collapsed": false,
    "pycharm": {
     "name": "#%%\n"
    }
   }
  },
  {
   "cell_type": "code",
   "execution_count": null,
   "outputs": [],
   "source": [
    "ri['Numéro Unique'].sum()"
   ],
   "metadata": {
    "collapsed": false,
    "pycharm": {
     "name": "#%%\n"
    }
   }
  },
  {
   "cell_type": "code",
   "execution_count": null,
   "outputs": [],
   "source": [
    "ri=ri.reset_index()"
   ],
   "metadata": {
    "collapsed": false,
    "pycharm": {
     "name": "#%%\n"
    }
   }
  },
  {
   "cell_type": "code",
   "execution_count": null,
   "outputs": [],
   "source": [
    "ri['Numéro Unique']=(ri['Numéro Unique']/14545)*100\n",
    "ri"
   ],
   "metadata": {
    "collapsed": false,
    "pycharm": {
     "name": "#%%\n"
    }
   }
  },
  {
   "cell_type": "code",
   "execution_count": null,
   "outputs": [],
   "source": [
    "ri['Numéro Unique'].sum()"
   ],
   "metadata": {
    "collapsed": false,
    "pycharm": {
     "name": "#%%\n"
    }
   }
  },
  {
   "cell_type": "code",
   "execution_count": null,
   "outputs": [],
   "source": [
    " ax = ri.plot.bar(x='Tranches de PFS', y='Numéro Unique', xlabel='Tranche de Prestations sociales et financières', ylabel= \"Pourcentage de demandeurs\", title= 'Distribution par montant de PFS des demandeurs qui ne déclarent aucun RI', rot=0, figsize=(25,5), color='red')"
   ],
   "metadata": {
    "collapsed": false,
    "pycharm": {
     "name": "#%%\n"
    }
   }
  },
  {
   "cell_type": "code",
   "execution_count": 52,
   "outputs": [],
   "source": [
    "ax.figure.savefig('PFS_Aix.pdf')"
   ],
   "metadata": {
    "collapsed": false,
    "pycharm": {
     "name": "#%%\n"
    }
   }
  },
  {
   "cell_type": "markdown",
   "source": [
    "### Graphiques PFS nuls"
   ],
   "metadata": {
    "collapsed": false,
    "pycharm": {
     "name": "#%% md\n"
    }
   }
  },
  {
   "cell_type": "code",
   "execution_count": 53,
   "outputs": [],
   "source": [
    "PFS=bddbis[bddbis['Prestations familiales et sociales mensuelles moyennes (PFS)']==0]"
   ],
   "metadata": {
    "collapsed": false,
    "pycharm": {
     "name": "#%%\n"
    }
   }
  },
  {
   "cell_type": "code",
   "execution_count": 54,
   "outputs": [
    {
     "name": "stderr",
     "output_type": "stream",
     "text": [
      "C:\\Users\\arceb\\AppData\\Local\\Temp\\ipykernel_22328\\2495171306.py:1: SettingWithCopyWarning:\n",
      "\n",
      "\n",
      "A value is trying to be set on a copy of a slice from a DataFrame.\n",
      "Try using .loc[row_indexer,col_indexer] = value instead\n",
      "\n",
      "See the caveats in the documentation: https://pandas.pydata.org/pandas-docs/stable/user_guide/indexing.html#returning-a-view-versus-a-copy\n",
      "\n",
      "C:\\Users\\arceb\\AppData\\Local\\Temp\\ipykernel_22328\\2495171306.py:10: SettingWithCopyWarning:\n",
      "\n",
      "\n",
      "A value is trying to be set on a copy of a slice from a DataFrame.\n",
      "Try using .loc[row_indexer,col_indexer] = value instead\n",
      "\n",
      "See the caveats in the documentation: https://pandas.pydata.org/pandas-docs/stable/user_guide/indexing.html#returning-a-view-versus-a-copy\n",
      "\n"
     ]
    },
    {
     "data": {
      "text/plain": "            Numéro Unique  RM Moyennes  \\\n0      0010217076044GDPUB       1890.0   \n1      001031606377111126       1550.0   \n10     0010617081725AL002        418.0   \n11     001071505384511126        560.0   \n12     0010716067636GDPUB       1600.0   \n...                   ...          ...   \n77720  9740117135655GDPUB        500.0   \n77722  9740617145543GDPUB       2150.0   \n77724  974061714677811483        806.0   \n77727  9741217157742GDPUB        359.0   \n77728  9741217157996GDPUB        680.0   \n\n       Ressources imposables mensuelles moyennes (RI)  \\\n0                                              1890.0   \n1                                              1550.0   \n10                                              418.0   \n11                                              560.0   \n12                                             1600.0   \n...                                               ...   \n77720                                           500.0   \n77722                                          2150.0   \n77724                                           806.0   \n77727                                           359.0   \n77728                                           680.0   \n\n       Prestations familiales et sociales mensuelles moyennes (PFS)  Ri + PFS  \\\n0                                                    0.0               1890.0   \n1                                                    0.0               1550.0   \n10                                                   0.0                418.0   \n11                                                   0.0                560.0   \n12                                                   0.0               1600.0   \n...                                                  ...                  ...   \n77720                                                0.0                500.0   \n77722                                                0.0               2150.0   \n77724                                                0.0                806.0   \n77727                                                0.0                359.0   \n77728                                                0.0                680.0   \n\n       Tranches de ressources mensuelles (RM)  Tranches de RI  Tranches de PFS  \n0                                      1850.0          1850.0              NaN  \n1                                      1550.0          1500.0              NaN  \n10                                      400.0           400.0              NaN  \n11                                      550.0           550.0              NaN  \n12                                     1600.0          1550.0              NaN  \n...                                       ...             ...              ...  \n77720                                   500.0           450.0              NaN  \n77722                                  2150.0             NaN              NaN  \n77724                                   800.0           800.0              NaN  \n77727                                   350.0           350.0              NaN  \n77728                                   650.0           650.0              NaN  \n\n[39660 rows x 8 columns]",
      "text/html": "<div>\n<style scoped>\n    .dataframe tbody tr th:only-of-type {\n        vertical-align: middle;\n    }\n\n    .dataframe tbody tr th {\n        vertical-align: top;\n    }\n\n    .dataframe thead th {\n        text-align: right;\n    }\n</style>\n<table border=\"1\" class=\"dataframe\">\n  <thead>\n    <tr style=\"text-align: right;\">\n      <th></th>\n      <th>Numéro Unique</th>\n      <th>RM Moyennes</th>\n      <th>Ressources imposables mensuelles moyennes (RI)</th>\n      <th>Prestations familiales et sociales mensuelles moyennes (PFS)</th>\n      <th>Ri + PFS</th>\n      <th>Tranches de ressources mensuelles (RM)</th>\n      <th>Tranches de RI</th>\n      <th>Tranches de PFS</th>\n    </tr>\n  </thead>\n  <tbody>\n    <tr>\n      <th>0</th>\n      <td>0010217076044GDPUB</td>\n      <td>1890.0</td>\n      <td>1890.0</td>\n      <td>0.0</td>\n      <td>1890.0</td>\n      <td>1850.0</td>\n      <td>1850.0</td>\n      <td>NaN</td>\n    </tr>\n    <tr>\n      <th>1</th>\n      <td>001031606377111126</td>\n      <td>1550.0</td>\n      <td>1550.0</td>\n      <td>0.0</td>\n      <td>1550.0</td>\n      <td>1550.0</td>\n      <td>1500.0</td>\n      <td>NaN</td>\n    </tr>\n    <tr>\n      <th>10</th>\n      <td>0010617081725AL002</td>\n      <td>418.0</td>\n      <td>418.0</td>\n      <td>0.0</td>\n      <td>418.0</td>\n      <td>400.0</td>\n      <td>400.0</td>\n      <td>NaN</td>\n    </tr>\n    <tr>\n      <th>11</th>\n      <td>001071505384511126</td>\n      <td>560.0</td>\n      <td>560.0</td>\n      <td>0.0</td>\n      <td>560.0</td>\n      <td>550.0</td>\n      <td>550.0</td>\n      <td>NaN</td>\n    </tr>\n    <tr>\n      <th>12</th>\n      <td>0010716067636GDPUB</td>\n      <td>1600.0</td>\n      <td>1600.0</td>\n      <td>0.0</td>\n      <td>1600.0</td>\n      <td>1600.0</td>\n      <td>1550.0</td>\n      <td>NaN</td>\n    </tr>\n    <tr>\n      <th>...</th>\n      <td>...</td>\n      <td>...</td>\n      <td>...</td>\n      <td>...</td>\n      <td>...</td>\n      <td>...</td>\n      <td>...</td>\n      <td>...</td>\n    </tr>\n    <tr>\n      <th>77720</th>\n      <td>9740117135655GDPUB</td>\n      <td>500.0</td>\n      <td>500.0</td>\n      <td>0.0</td>\n      <td>500.0</td>\n      <td>500.0</td>\n      <td>450.0</td>\n      <td>NaN</td>\n    </tr>\n    <tr>\n      <th>77722</th>\n      <td>9740617145543GDPUB</td>\n      <td>2150.0</td>\n      <td>2150.0</td>\n      <td>0.0</td>\n      <td>2150.0</td>\n      <td>2150.0</td>\n      <td>NaN</td>\n      <td>NaN</td>\n    </tr>\n    <tr>\n      <th>77724</th>\n      <td>974061714677811483</td>\n      <td>806.0</td>\n      <td>806.0</td>\n      <td>0.0</td>\n      <td>806.0</td>\n      <td>800.0</td>\n      <td>800.0</td>\n      <td>NaN</td>\n    </tr>\n    <tr>\n      <th>77727</th>\n      <td>9741217157742GDPUB</td>\n      <td>359.0</td>\n      <td>359.0</td>\n      <td>0.0</td>\n      <td>359.0</td>\n      <td>350.0</td>\n      <td>350.0</td>\n      <td>NaN</td>\n    </tr>\n    <tr>\n      <th>77728</th>\n      <td>9741217157996GDPUB</td>\n      <td>680.0</td>\n      <td>680.0</td>\n      <td>0.0</td>\n      <td>680.0</td>\n      <td>650.0</td>\n      <td>650.0</td>\n      <td>NaN</td>\n    </tr>\n  </tbody>\n</table>\n<p>39660 rows × 8 columns</p>\n</div>"
     },
     "execution_count": 54,
     "metadata": {},
     "output_type": "execute_result"
    }
   ],
   "source": [
    "PFS['Tranches de RI']=0\n",
    "\n",
    "def pfs(rl):\n",
    "    for i in range(0, 2000, 50):\n",
    "        if i<rl and rl<=i+50:\n",
    "            return i\n",
    "        elif rl>2000:\n",
    "            return np.NaN\n",
    "\n",
    "PFS['Tranches de RI'] = PFS['Ressources imposables mensuelles moyennes (RI)'].apply(pfs)\n",
    "PFS"
   ],
   "metadata": {
    "collapsed": false,
    "pycharm": {
     "name": "#%%\n"
    }
   }
  },
  {
   "cell_type": "code",
   "execution_count": 55,
   "outputs": [],
   "source": [
    "pfs=PFS[['Tranches de RI', 'Numéro Unique']]\n",
    "pfs = pfs.groupby(by='Tranches de RI').count()['Numéro Unique']\n",
    "pfs = pfs.to_frame()"
   ],
   "metadata": {
    "collapsed": false,
    "pycharm": {
     "name": "#%%\n"
    }
   }
  },
  {
   "cell_type": "code",
   "execution_count": 56,
   "outputs": [
    {
     "data": {
      "text/plain": "35989"
     },
     "execution_count": 56,
     "metadata": {},
     "output_type": "execute_result"
    }
   ],
   "source": [
    "pfs['Numéro Unique'].sum()"
   ],
   "metadata": {
    "collapsed": false,
    "pycharm": {
     "name": "#%%\n"
    }
   }
  },
  {
   "cell_type": "code",
   "execution_count": 57,
   "outputs": [
    {
     "data": {
      "text/plain": "    Tranches de RI  Numéro Unique\n0              0.0       0.086137\n1             50.0       0.119481\n2            100.0       0.197283\n3            150.0       0.172275\n4            200.0       0.141710\n5            250.0       0.269527\n6            300.0       0.347328\n7            350.0       0.461252\n8            400.0       0.414015\n9            450.0       2.011726\n10           500.0       1.500458\n11           550.0       1.097558\n12           600.0       1.380978\n13           650.0       2.078413\n14           700.0       2.058962\n15           750.0       4.254078\n16           800.0       3.601100\n17           850.0       3.662230\n18           900.0       2.834199\n19           950.0       4.504154\n20          1000.0       2.595237\n21          1050.0       4.384673\n22          1100.0       3.259329\n23          1150.0       6.613132\n24          1200.0       3.887299\n25          1250.0       6.074078\n26          1300.0       3.562200\n27          1350.0       5.693406\n28          1400.0       3.028703\n29          1450.0       6.279697\n30          1500.0       2.609131\n31          1550.0       4.237406\n32          1600.0       2.245130\n33          1650.0       3.259329\n34          1700.0       1.756092\n35          1750.0       2.923115\n36          1800.0       1.328184\n37          1850.0       1.917252\n38          1900.0       1.008642\n39          1950.0       2.145100",
      "text/html": "<div>\n<style scoped>\n    .dataframe tbody tr th:only-of-type {\n        vertical-align: middle;\n    }\n\n    .dataframe tbody tr th {\n        vertical-align: top;\n    }\n\n    .dataframe thead th {\n        text-align: right;\n    }\n</style>\n<table border=\"1\" class=\"dataframe\">\n  <thead>\n    <tr style=\"text-align: right;\">\n      <th></th>\n      <th>Tranches de RI</th>\n      <th>Numéro Unique</th>\n    </tr>\n  </thead>\n  <tbody>\n    <tr>\n      <th>0</th>\n      <td>0.0</td>\n      <td>0.086137</td>\n    </tr>\n    <tr>\n      <th>1</th>\n      <td>50.0</td>\n      <td>0.119481</td>\n    </tr>\n    <tr>\n      <th>2</th>\n      <td>100.0</td>\n      <td>0.197283</td>\n    </tr>\n    <tr>\n      <th>3</th>\n      <td>150.0</td>\n      <td>0.172275</td>\n    </tr>\n    <tr>\n      <th>4</th>\n      <td>200.0</td>\n      <td>0.141710</td>\n    </tr>\n    <tr>\n      <th>5</th>\n      <td>250.0</td>\n      <td>0.269527</td>\n    </tr>\n    <tr>\n      <th>6</th>\n      <td>300.0</td>\n      <td>0.347328</td>\n    </tr>\n    <tr>\n      <th>7</th>\n      <td>350.0</td>\n      <td>0.461252</td>\n    </tr>\n    <tr>\n      <th>8</th>\n      <td>400.0</td>\n      <td>0.414015</td>\n    </tr>\n    <tr>\n      <th>9</th>\n      <td>450.0</td>\n      <td>2.011726</td>\n    </tr>\n    <tr>\n      <th>10</th>\n      <td>500.0</td>\n      <td>1.500458</td>\n    </tr>\n    <tr>\n      <th>11</th>\n      <td>550.0</td>\n      <td>1.097558</td>\n    </tr>\n    <tr>\n      <th>12</th>\n      <td>600.0</td>\n      <td>1.380978</td>\n    </tr>\n    <tr>\n      <th>13</th>\n      <td>650.0</td>\n      <td>2.078413</td>\n    </tr>\n    <tr>\n      <th>14</th>\n      <td>700.0</td>\n      <td>2.058962</td>\n    </tr>\n    <tr>\n      <th>15</th>\n      <td>750.0</td>\n      <td>4.254078</td>\n    </tr>\n    <tr>\n      <th>16</th>\n      <td>800.0</td>\n      <td>3.601100</td>\n    </tr>\n    <tr>\n      <th>17</th>\n      <td>850.0</td>\n      <td>3.662230</td>\n    </tr>\n    <tr>\n      <th>18</th>\n      <td>900.0</td>\n      <td>2.834199</td>\n    </tr>\n    <tr>\n      <th>19</th>\n      <td>950.0</td>\n      <td>4.504154</td>\n    </tr>\n    <tr>\n      <th>20</th>\n      <td>1000.0</td>\n      <td>2.595237</td>\n    </tr>\n    <tr>\n      <th>21</th>\n      <td>1050.0</td>\n      <td>4.384673</td>\n    </tr>\n    <tr>\n      <th>22</th>\n      <td>1100.0</td>\n      <td>3.259329</td>\n    </tr>\n    <tr>\n      <th>23</th>\n      <td>1150.0</td>\n      <td>6.613132</td>\n    </tr>\n    <tr>\n      <th>24</th>\n      <td>1200.0</td>\n      <td>3.887299</td>\n    </tr>\n    <tr>\n      <th>25</th>\n      <td>1250.0</td>\n      <td>6.074078</td>\n    </tr>\n    <tr>\n      <th>26</th>\n      <td>1300.0</td>\n      <td>3.562200</td>\n    </tr>\n    <tr>\n      <th>27</th>\n      <td>1350.0</td>\n      <td>5.693406</td>\n    </tr>\n    <tr>\n      <th>28</th>\n      <td>1400.0</td>\n      <td>3.028703</td>\n    </tr>\n    <tr>\n      <th>29</th>\n      <td>1450.0</td>\n      <td>6.279697</td>\n    </tr>\n    <tr>\n      <th>30</th>\n      <td>1500.0</td>\n      <td>2.609131</td>\n    </tr>\n    <tr>\n      <th>31</th>\n      <td>1550.0</td>\n      <td>4.237406</td>\n    </tr>\n    <tr>\n      <th>32</th>\n      <td>1600.0</td>\n      <td>2.245130</td>\n    </tr>\n    <tr>\n      <th>33</th>\n      <td>1650.0</td>\n      <td>3.259329</td>\n    </tr>\n    <tr>\n      <th>34</th>\n      <td>1700.0</td>\n      <td>1.756092</td>\n    </tr>\n    <tr>\n      <th>35</th>\n      <td>1750.0</td>\n      <td>2.923115</td>\n    </tr>\n    <tr>\n      <th>36</th>\n      <td>1800.0</td>\n      <td>1.328184</td>\n    </tr>\n    <tr>\n      <th>37</th>\n      <td>1850.0</td>\n      <td>1.917252</td>\n    </tr>\n    <tr>\n      <th>38</th>\n      <td>1900.0</td>\n      <td>1.008642</td>\n    </tr>\n    <tr>\n      <th>39</th>\n      <td>1950.0</td>\n      <td>2.145100</td>\n    </tr>\n  </tbody>\n</table>\n</div>"
     },
     "execution_count": 57,
     "metadata": {},
     "output_type": "execute_result"
    }
   ],
   "source": [
    "pfs=pfs.reset_index()\n",
    "pfs['Numéro Unique']=(pfs['Numéro Unique']/35989)*100\n",
    "pfs"
   ],
   "metadata": {
    "collapsed": false,
    "pycharm": {
     "name": "#%%\n"
    }
   }
  },
  {
   "cell_type": "code",
   "execution_count": 58,
   "outputs": [
    {
     "data": {
      "text/plain": "100.0"
     },
     "execution_count": 58,
     "metadata": {},
     "output_type": "execute_result"
    }
   ],
   "source": [
    "pfs['Numéro Unique'].sum()"
   ],
   "metadata": {
    "collapsed": false,
    "pycharm": {
     "name": "#%%\n"
    }
   }
  },
  {
   "cell_type": "code",
   "execution_count": 59,
   "outputs": [
    {
     "data": {
      "text/plain": "<Figure size 1800x360 with 1 Axes>",
      "image/png": "[encoded data removed]"
     },
     "metadata": {
      "needs_background": "light"
     },
     "output_type": "display_data"
    }
   ],
   "source": [
    " ax = pfs.plot.bar(x='Tranches de RI', y='Numéro Unique', xlabel='Tranche de Revenu imposable mensuel moyen', ylabel= \"Pourcentage de demandeurs\", title= 'Distribution par montant de RI des demandeurs qui ne déclarent aucunes PFS', rot=0, figsize=(25,5), color='green')"
   ],
   "metadata": {
    "collapsed": false,
    "pycharm": {
     "name": "#%%\n"
    }
   }
  },
  {
   "cell_type": "code",
   "execution_count": 60,
   "outputs": [],
   "source": [
    "ax.figure.savefig('RI_Aix.pdf')"
   ],
   "metadata": {
    "collapsed": false,
    "pycharm": {
     "name": "#%%\n"
    }
   }
  }
 ],
 "metadata": {
  "kernelspec": {
   "display_name": "Python 3.10.5 ('housing_camille_env')",
   "language": "python",
   "name": "python3"
  },
  "language_info": {
   "codemirror_mode": {
    "name": "ipython",
    "version": 3
   },
   "file_extension": ".py",
   "mimetype": "text/x-python",
   "name": "python",
   "nbconvert_exporter": "python",
   "pygments_lexer": "ipython3",
   "version": "3.10.5"
  },
  "vscode": {
   "interpreter": {
    "hash": "8fad96bbbe6762c519f1fa3a0e80a714676148bdfa8f6cd3491511eec586cb93"
   }
  }
 },
 "nbformat": 4,
 "nbformat_minor": 0
}