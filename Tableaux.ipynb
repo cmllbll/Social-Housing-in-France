{
 "cells": [
  {
   "cell_type": "code",
   "execution_count": 2,
   "outputs": [],
   "source": [
    "import numpy as np\n",
    "import pandas as pd\n",
    "from tqdm import tqdm"
   ],
   "metadata": {
    "collapsed": false,
    "pycharm": {
     "name": "#%%\n"
    }
   }
  },
  {
   "cell_type": "code",
   "execution_count": 49,
   "outputs": [],
   "source": [
    "dfd = pd.read_csv(r'demandeurs_42_69_73_74_revenus.csv', index_col = 0)"
   ],
   "metadata": {
    "collapsed": false,
    "pycharm": {
     "name": "#%%\n"
    }
   }
  },
  {
   "cell_type": "code",
   "execution_count": 50,
   "outputs": [
    {
     "data": {
      "text/plain": "             Numéro Unique  Ressources mensuelles\\n  \\\n0       001011302246211126                    484.0   \n1       001011302274911126                   2122.0   \n2       001011302274911126                   2122.0   \n3       001011403468611126                   2057.0   \n4       001011403468611126                   2057.0   \n...                    ...                      ...   \n227963  9741117156583GDPUB                   1165.0   \n227964  9741117156583GDPUB                   1165.0   \n227965  974121613666511487                    761.0   \n227966  974121613666511487                    761.0   \n227967              118333                      NaN   \n\n                                                    Type  \\\n0                      Revenu de solidarité active (RSA)   \n1                                Autres (hors APL ou AL)   \n2                           Salaire ou revenu d'activité   \n3       Allocation d'éducation d'enfant handicapé (AEEH)   \n4                                  Allocation familiales   \n...                                                  ...   \n227963                           Autres (hors APL ou AL)   \n227964                      Salaire ou revenu d'activité   \n227965                    Allocation Jeune Enfant (PAJE)   \n227966                      Salaire ou revenu d'activité   \n227967                                               NaN   \n\n        Montant par type de ressource\\n  \n0                                 484.0  \n1                                 272.0  \n2                                2300.0  \n3                                 129.0  \n4                                 128.0  \n...                                 ...  \n227963                            437.0  \n227964                            599.0  \n227965                            184.0  \n227966                            577.0  \n227967                              NaN  \n\n[227968 rows x 4 columns]",
      "text/html": "<div>\n<style scoped>\n    .dataframe tbody tr th:only-of-type {\n        vertical-align: middle;\n    }\n\n    .dataframe tbody tr th {\n        vertical-align: top;\n    }\n\n    .dataframe thead th {\n        text-align: right;\n    }\n</style>\n<table border=\"1\" class=\"dataframe\">\n  <thead>\n    <tr style=\"text-align: right;\">\n      <th></th>\n      <th>Numéro Unique</th>\n      <th>Ressources mensuelles\\n</th>\n      <th>Type</th>\n      <th>Montant par type de ressource\\n</th>\n    </tr>\n  </thead>\n  <tbody>\n    <tr>\n      <th>0</th>\n      <td>001011302246211126</td>\n      <td>484.0</td>\n      <td>Revenu de solidarité active (RSA)</td>\n      <td>484.0</td>\n    </tr>\n    <tr>\n      <th>1</th>\n      <td>001011302274911126</td>\n      <td>2122.0</td>\n      <td>Autres (hors APL ou AL)</td>\n      <td>272.0</td>\n    </tr>\n    <tr>\n      <th>2</th>\n      <td>001011302274911126</td>\n      <td>2122.0</td>\n      <td>Salaire ou revenu d'activité</td>\n      <td>2300.0</td>\n    </tr>\n    <tr>\n      <th>3</th>\n      <td>001011403468611126</td>\n      <td>2057.0</td>\n      <td>Allocation d'éducation d'enfant handicapé (AEEH)</td>\n      <td>129.0</td>\n    </tr>\n    <tr>\n      <th>4</th>\n      <td>001011403468611126</td>\n      <td>2057.0</td>\n      <td>Allocation familiales</td>\n      <td>128.0</td>\n    </tr>\n    <tr>\n      <th>...</th>\n      <td>...</td>\n      <td>...</td>\n      <td>...</td>\n      <td>...</td>\n    </tr>\n    <tr>\n      <th>227963</th>\n      <td>9741117156583GDPUB</td>\n      <td>1165.0</td>\n      <td>Autres (hors APL ou AL)</td>\n      <td>437.0</td>\n    </tr>\n    <tr>\n      <th>227964</th>\n      <td>9741117156583GDPUB</td>\n      <td>1165.0</td>\n      <td>Salaire ou revenu d'activité</td>\n      <td>599.0</td>\n    </tr>\n    <tr>\n      <th>227965</th>\n      <td>974121613666511487</td>\n      <td>761.0</td>\n      <td>Allocation Jeune Enfant (PAJE)</td>\n      <td>184.0</td>\n    </tr>\n    <tr>\n      <th>227966</th>\n      <td>974121613666511487</td>\n      <td>761.0</td>\n      <td>Salaire ou revenu d'activité</td>\n      <td>577.0</td>\n    </tr>\n    <tr>\n      <th>227967</th>\n      <td>118333</td>\n      <td>NaN</td>\n      <td>NaN</td>\n      <td>NaN</td>\n    </tr>\n  </tbody>\n</table>\n<p>227968 rows × 4 columns</p>\n</div>"
     },
     "execution_count": 50,
     "metadata": {},
     "output_type": "execute_result"
    }
   ],
   "source": [
    "dfd=dfd.rename(columns={'Type de ressource\\n': 'Type'})\n",
    "dfd"
   ],
   "metadata": {
    "collapsed": false,
    "pycharm": {
     "name": "#%%\n"
    }
   }
  },
  {
   "cell_type": "code",
   "execution_count": 51,
   "outputs": [
    {
     "data": {
      "text/plain": "3929"
     },
     "execution_count": 51,
     "metadata": {},
     "output_type": "execute_result"
    }
   ],
   "source": [
    "dfd['Ressources mensuelles\\n'].isna().sum()"
   ],
   "metadata": {
    "collapsed": false,
    "pycharm": {
     "name": "#%%\n"
    }
   }
  },
  {
   "cell_type": "code",
   "execution_count": 52,
   "outputs": [
    {
     "data": {
      "text/plain": "             Numéro Unique  Ressources mensuelles\\n  \\\n0       001011302246211126                    484.0   \n1       001011302274911126                   2122.0   \n3       001011403468611126                   2057.0   \n6       001011504695111168                   1023.0   \n9       001011504798111126                   1000.0   \n...                    ...                      ...   \n227956  974101715477011487                   1440.0   \n227959  9741116133178GDPUB                   1739.0   \n227961  9741117156454GDPUB                   1260.0   \n227962  9741117156583GDPUB                   1165.0   \n227965  974121613666511487                    761.0   \n\n                                                    Type  \\\n0                      Revenu de solidarité active (RSA)   \n1                                Autres (hors APL ou AL)   \n3       Allocation d'éducation d'enfant handicapé (AEEH)   \n6                                  Allocation familiales   \n9                           Salaire ou revenu d'activité   \n...                                                  ...   \n227956                             Allocation familiales   \n227959                Allocation d'adulte handicapé(AAH)   \n227961                      Salaire ou revenu d'activité   \n227962                             Allocation familiales   \n227965                    Allocation Jeune Enfant (PAJE)   \n\n        Montant par type de ressource\\n  \n0                                 484.0  \n1                                 272.0  \n3                                 129.0  \n6                                 129.0  \n9                                1000.0  \n...                                 ...  \n227956                            467.0  \n227959                            399.0  \n227961                           1260.0  \n227962                            129.0  \n227965                            184.0  \n\n[114364 rows x 4 columns]",
      "text/html": "<div>\n<style scoped>\n    .dataframe tbody tr th:only-of-type {\n        vertical-align: middle;\n    }\n\n    .dataframe tbody tr th {\n        vertical-align: top;\n    }\n\n    .dataframe thead th {\n        text-align: right;\n    }\n</style>\n<table border=\"1\" class=\"dataframe\">\n  <thead>\n    <tr style=\"text-align: right;\">\n      <th></th>\n      <th>Numéro Unique</th>\n      <th>Ressources mensuelles\\n</th>\n      <th>Type</th>\n      <th>Montant par type de ressource\\n</th>\n    </tr>\n  </thead>\n  <tbody>\n    <tr>\n      <th>0</th>\n      <td>001011302246211126</td>\n      <td>484.0</td>\n      <td>Revenu de solidarité active (RSA)</td>\n      <td>484.0</td>\n    </tr>\n    <tr>\n      <th>1</th>\n      <td>001011302274911126</td>\n      <td>2122.0</td>\n      <td>Autres (hors APL ou AL)</td>\n      <td>272.0</td>\n    </tr>\n    <tr>\n      <th>3</th>\n      <td>001011403468611126</td>\n      <td>2057.0</td>\n      <td>Allocation d'éducation d'enfant handicapé (AEEH)</td>\n      <td>129.0</td>\n    </tr>\n    <tr>\n      <th>6</th>\n      <td>001011504695111168</td>\n      <td>1023.0</td>\n      <td>Allocation familiales</td>\n      <td>129.0</td>\n    </tr>\n    <tr>\n      <th>9</th>\n      <td>001011504798111126</td>\n      <td>1000.0</td>\n      <td>Salaire ou revenu d'activité</td>\n      <td>1000.0</td>\n    </tr>\n    <tr>\n      <th>...</th>\n      <td>...</td>\n      <td>...</td>\n      <td>...</td>\n      <td>...</td>\n    </tr>\n    <tr>\n      <th>227956</th>\n      <td>974101715477011487</td>\n      <td>1440.0</td>\n      <td>Allocation familiales</td>\n      <td>467.0</td>\n    </tr>\n    <tr>\n      <th>227959</th>\n      <td>9741116133178GDPUB</td>\n      <td>1739.0</td>\n      <td>Allocation d'adulte handicapé(AAH)</td>\n      <td>399.0</td>\n    </tr>\n    <tr>\n      <th>227961</th>\n      <td>9741117156454GDPUB</td>\n      <td>1260.0</td>\n      <td>Salaire ou revenu d'activité</td>\n      <td>1260.0</td>\n    </tr>\n    <tr>\n      <th>227962</th>\n      <td>9741117156583GDPUB</td>\n      <td>1165.0</td>\n      <td>Allocation familiales</td>\n      <td>129.0</td>\n    </tr>\n    <tr>\n      <th>227965</th>\n      <td>974121613666511487</td>\n      <td>761.0</td>\n      <td>Allocation Jeune Enfant (PAJE)</td>\n      <td>184.0</td>\n    </tr>\n  </tbody>\n</table>\n<p>114364 rows × 4 columns</p>\n</div>"
     },
     "execution_count": 52,
     "metadata": {},
     "output_type": "execute_result"
    }
   ],
   "source": [
    "dfdbis=dfd.drop_duplicates(subset =\"Numéro Unique\")\n",
    "dfdbis=dfdbis.dropna()\n",
    "dfdbis"
   ],
   "metadata": {
    "collapsed": false,
    "pycharm": {
     "name": "#%%\n"
    }
   }
  },
  {
   "cell_type": "markdown",
   "source": [
    "### Calcul des ressources imposables mensuelles"
   ],
   "metadata": {
    "collapsed": false,
    "pycharm": {
     "name": "#%% md\n"
    }
   }
  },
  {
   "cell_type": "code",
   "execution_count": 53,
   "outputs": [
    {
     "data": {
      "text/plain": "             Numéro Unique  Ressources mensuelles\\n  \\\n1       001011302274911126                   2122.0   \n2       001011302274911126                   2122.0   \n5       001011403468611126                   2057.0   \n8       001011504695111168                   1023.0   \n9       001011504798111126                   1000.0   \n...                    ...                      ...   \n227960  9741116133178GDPUB                   1739.0   \n227961  9741117156454GDPUB                   1260.0   \n227963  9741117156583GDPUB                   1165.0   \n227964  9741117156583GDPUB                   1165.0   \n227966  974121613666511487                    761.0   \n\n                                Type  Montant par type de ressource\\n  \n1            Autres (hors APL ou AL)                            272.0  \n2       Salaire ou revenu d'activité                           2300.0  \n5       Salaire ou revenu d'activité                           1800.0  \n8       Salaire ou revenu d'activité                            679.0  \n9       Salaire ou revenu d'activité                           1000.0  \n...                              ...                              ...  \n227960          Pension d'invalidité                           1340.0  \n227961  Salaire ou revenu d'activité                           1260.0  \n227963       Autres (hors APL ou AL)                            437.0  \n227964  Salaire ou revenu d'activité                            599.0  \n227966  Salaire ou revenu d'activité                            577.0  \n\n[132919 rows x 4 columns]",
      "text/html": "<div>\n<style scoped>\n    .dataframe tbody tr th:only-of-type {\n        vertical-align: middle;\n    }\n\n    .dataframe tbody tr th {\n        vertical-align: top;\n    }\n\n    .dataframe thead th {\n        text-align: right;\n    }\n</style>\n<table border=\"1\" class=\"dataframe\">\n  <thead>\n    <tr style=\"text-align: right;\">\n      <th></th>\n      <th>Numéro Unique</th>\n      <th>Ressources mensuelles\\n</th>\n      <th>Type</th>\n      <th>Montant par type de ressource\\n</th>\n    </tr>\n  </thead>\n  <tbody>\n    <tr>\n      <th>1</th>\n      <td>001011302274911126</td>\n      <td>2122.0</td>\n      <td>Autres (hors APL ou AL)</td>\n      <td>272.0</td>\n    </tr>\n    <tr>\n      <th>2</th>\n      <td>001011302274911126</td>\n      <td>2122.0</td>\n      <td>Salaire ou revenu d'activité</td>\n      <td>2300.0</td>\n    </tr>\n    <tr>\n      <th>5</th>\n      <td>001011403468611126</td>\n      <td>2057.0</td>\n      <td>Salaire ou revenu d'activité</td>\n      <td>1800.0</td>\n    </tr>\n    <tr>\n      <th>8</th>\n      <td>001011504695111168</td>\n      <td>1023.0</td>\n      <td>Salaire ou revenu d'activité</td>\n      <td>679.0</td>\n    </tr>\n    <tr>\n      <th>9</th>\n      <td>001011504798111126</td>\n      <td>1000.0</td>\n      <td>Salaire ou revenu d'activité</td>\n      <td>1000.0</td>\n    </tr>\n    <tr>\n      <th>...</th>\n      <td>...</td>\n      <td>...</td>\n      <td>...</td>\n      <td>...</td>\n    </tr>\n    <tr>\n      <th>227960</th>\n      <td>9741116133178GDPUB</td>\n      <td>1739.0</td>\n      <td>Pension d'invalidité</td>\n      <td>1340.0</td>\n    </tr>\n    <tr>\n      <th>227961</th>\n      <td>9741117156454GDPUB</td>\n      <td>1260.0</td>\n      <td>Salaire ou revenu d'activité</td>\n      <td>1260.0</td>\n    </tr>\n    <tr>\n      <th>227963</th>\n      <td>9741117156583GDPUB</td>\n      <td>1165.0</td>\n      <td>Autres (hors APL ou AL)</td>\n      <td>437.0</td>\n    </tr>\n    <tr>\n      <th>227964</th>\n      <td>9741117156583GDPUB</td>\n      <td>1165.0</td>\n      <td>Salaire ou revenu d'activité</td>\n      <td>599.0</td>\n    </tr>\n    <tr>\n      <th>227966</th>\n      <td>974121613666511487</td>\n      <td>761.0</td>\n      <td>Salaire ou revenu d'activité</td>\n      <td>577.0</td>\n    </tr>\n  </tbody>\n</table>\n<p>132919 rows × 4 columns</p>\n</div>"
     },
     "execution_count": 53,
     "metadata": {},
     "output_type": "execute_result"
    }
   ],
   "source": [
    "values=[\"Retraite\", \"Allocation chômage / indemnités\", \"Salaire ou revenu d'activité\", \"Pension alimentaire reçue\", \"Autres (hors APL ou AL)\", \"Pension d\\'invalidité\"]\n",
    "filtered_df = dfd[dfd.Type.isin(values)]\n",
    "filtered_df"
   ],
   "metadata": {
    "collapsed": false,
    "pycharm": {
     "name": "#%%\n"
    }
   }
  },
  {
   "cell_type": "code",
   "execution_count": 54,
   "outputs": [],
   "source": [
    "shrank_values = filtered_df.groupby(by='Numéro Unique').sum()['Montant par type de ressource\\n']\n",
    "\n",
    "merged_df = filtered_df.merge(shrank_values, left_on='Numéro Unique', right_index=True)\n",
    "\n",
    "merged_df = merged_df.rename(columns={'Montant par type de ressource\\n_y': 'Ressources imposables mensuelles moyennes (RI)'})\n"
   ],
   "metadata": {
    "collapsed": false,
    "pycharm": {
     "name": "#%%\n"
    }
   }
  },
  {
   "cell_type": "code",
   "execution_count": 55,
   "outputs": [
    {
     "data": {
      "text/plain": "             Numéro Unique  Ressources mensuelles\\n  \\\n1       001011302274911126                   2122.0   \n2       001011302274911126                   2122.0   \n5       001011403468611126                   2057.0   \n8       001011504695111168                   1023.0   \n9       001011504798111126                   1000.0   \n...                    ...                      ...   \n227960  9741116133178GDPUB                   1739.0   \n227961  9741117156454GDPUB                   1260.0   \n227963  9741117156583GDPUB                   1165.0   \n227964  9741117156583GDPUB                   1165.0   \n227966  974121613666511487                    761.0   \n\n                                Type  Montant par type de ressource\\n_x  \\\n1            Autres (hors APL ou AL)                              272.0   \n2       Salaire ou revenu d'activité                             2300.0   \n5       Salaire ou revenu d'activité                             1800.0   \n8       Salaire ou revenu d'activité                              679.0   \n9       Salaire ou revenu d'activité                             1000.0   \n...                              ...                                ...   \n227960          Pension d'invalidité                             1340.0   \n227961  Salaire ou revenu d'activité                             1260.0   \n227963       Autres (hors APL ou AL)                              437.0   \n227964  Salaire ou revenu d'activité                              599.0   \n227966  Salaire ou revenu d'activité                              577.0   \n\n        Ressources imposables mensuelles moyennes (RI)  \n1                                               2572.0  \n2                                               2572.0  \n5                                               1800.0  \n8                                                679.0  \n9                                               1000.0  \n...                                                ...  \n227960                                          1340.0  \n227961                                          1260.0  \n227963                                          1036.0  \n227964                                          1036.0  \n227966                                           577.0  \n\n[132919 rows x 5 columns]",
      "text/html": "<div>\n<style scoped>\n    .dataframe tbody tr th:only-of-type {\n        vertical-align: middle;\n    }\n\n    .dataframe tbody tr th {\n        vertical-align: top;\n    }\n\n    .dataframe thead th {\n        text-align: right;\n    }\n</style>\n<table border=\"1\" class=\"dataframe\">\n  <thead>\n    <tr style=\"text-align: right;\">\n      <th></th>\n      <th>Numéro Unique</th>\n      <th>Ressources mensuelles\\n</th>\n      <th>Type</th>\n      <th>Montant par type de ressource\\n_x</th>\n      <th>Ressources imposables mensuelles moyennes (RI)</th>\n    </tr>\n  </thead>\n  <tbody>\n    <tr>\n      <th>1</th>\n      <td>001011302274911126</td>\n      <td>2122.0</td>\n      <td>Autres (hors APL ou AL)</td>\n      <td>272.0</td>\n      <td>2572.0</td>\n    </tr>\n    <tr>\n      <th>2</th>\n      <td>001011302274911126</td>\n      <td>2122.0</td>\n      <td>Salaire ou revenu d'activité</td>\n      <td>2300.0</td>\n      <td>2572.0</td>\n    </tr>\n    <tr>\n      <th>5</th>\n      <td>001011403468611126</td>\n      <td>2057.0</td>\n      <td>Salaire ou revenu d'activité</td>\n      <td>1800.0</td>\n      <td>1800.0</td>\n    </tr>\n    <tr>\n      <th>8</th>\n      <td>001011504695111168</td>\n      <td>1023.0</td>\n      <td>Salaire ou revenu d'activité</td>\n      <td>679.0</td>\n      <td>679.0</td>\n    </tr>\n    <tr>\n      <th>9</th>\n      <td>001011504798111126</td>\n      <td>1000.0</td>\n      <td>Salaire ou revenu d'activité</td>\n      <td>1000.0</td>\n      <td>1000.0</td>\n    </tr>\n    <tr>\n      <th>...</th>\n      <td>...</td>\n      <td>...</td>\n      <td>...</td>\n      <td>...</td>\n      <td>...</td>\n    </tr>\n    <tr>\n      <th>227960</th>\n      <td>9741116133178GDPUB</td>\n      <td>1739.0</td>\n      <td>Pension d'invalidité</td>\n      <td>1340.0</td>\n      <td>1340.0</td>\n    </tr>\n    <tr>\n      <th>227961</th>\n      <td>9741117156454GDPUB</td>\n      <td>1260.0</td>\n      <td>Salaire ou revenu d'activité</td>\n      <td>1260.0</td>\n      <td>1260.0</td>\n    </tr>\n    <tr>\n      <th>227963</th>\n      <td>9741117156583GDPUB</td>\n      <td>1165.0</td>\n      <td>Autres (hors APL ou AL)</td>\n      <td>437.0</td>\n      <td>1036.0</td>\n    </tr>\n    <tr>\n      <th>227964</th>\n      <td>9741117156583GDPUB</td>\n      <td>1165.0</td>\n      <td>Salaire ou revenu d'activité</td>\n      <td>599.0</td>\n      <td>1036.0</td>\n    </tr>\n    <tr>\n      <th>227966</th>\n      <td>974121613666511487</td>\n      <td>761.0</td>\n      <td>Salaire ou revenu d'activité</td>\n      <td>577.0</td>\n      <td>577.0</td>\n    </tr>\n  </tbody>\n</table>\n<p>132919 rows × 5 columns</p>\n</div>"
     },
     "execution_count": 55,
     "metadata": {},
     "output_type": "execute_result"
    }
   ],
   "source": [
    "merged_df"
   ],
   "metadata": {
    "collapsed": false,
    "pycharm": {
     "name": "#%%\n"
    }
   }
  },
  {
   "cell_type": "code",
   "execution_count": 56,
   "outputs": [
    {
     "data": {
      "text/plain": "             Numéro Unique  Ressources mensuelles\\n  \\\n1       001011302274911126                   2122.0   \n5       001011403468611126                   2057.0   \n8       001011504695111168                   1023.0   \n9       001011504798111126                   1000.0   \n10      001011606073945B99                   1900.0   \n...                    ...                      ...   \n227957  974101715477011487                   1440.0   \n227960  9741116133178GDPUB                   1739.0   \n227961  9741117156454GDPUB                   1260.0   \n227963  9741117156583GDPUB                   1165.0   \n227966  974121613666511487                    761.0   \n\n                                Type  Montant par type de ressource\\n_x  \\\n1            Autres (hors APL ou AL)                              272.0   \n5       Salaire ou revenu d'activité                             1800.0   \n8       Salaire ou revenu d'activité                              679.0   \n9       Salaire ou revenu d'activité                             1000.0   \n10      Salaire ou revenu d'activité                             1900.0   \n...                              ...                                ...   \n227957       Autres (hors APL ou AL)                              717.0   \n227960          Pension d'invalidité                             1340.0   \n227961  Salaire ou revenu d'activité                             1260.0   \n227963       Autres (hors APL ou AL)                              437.0   \n227966  Salaire ou revenu d'activité                              577.0   \n\n        Ressources imposables mensuelles moyennes (RI)  \n1                                               2572.0  \n5                                               1800.0  \n8                                                679.0  \n9                                               1000.0  \n10                                              1900.0  \n...                                                ...  \n227957                                           717.0  \n227960                                          1340.0  \n227961                                          1260.0  \n227963                                          1036.0  \n227966                                           577.0  \n\n[98151 rows x 5 columns]",
      "text/html": "<div>\n<style scoped>\n    .dataframe tbody tr th:only-of-type {\n        vertical-align: middle;\n    }\n\n    .dataframe tbody tr th {\n        vertical-align: top;\n    }\n\n    .dataframe thead th {\n        text-align: right;\n    }\n</style>\n<table border=\"1\" class=\"dataframe\">\n  <thead>\n    <tr style=\"text-align: right;\">\n      <th></th>\n      <th>Numéro Unique</th>\n      <th>Ressources mensuelles\\n</th>\n      <th>Type</th>\n      <th>Montant par type de ressource\\n_x</th>\n      <th>Ressources imposables mensuelles moyennes (RI)</th>\n    </tr>\n  </thead>\n  <tbody>\n    <tr>\n      <th>1</th>\n      <td>001011302274911126</td>\n      <td>2122.0</td>\n      <td>Autres (hors APL ou AL)</td>\n      <td>272.0</td>\n      <td>2572.0</td>\n    </tr>\n    <tr>\n      <th>5</th>\n      <td>001011403468611126</td>\n      <td>2057.0</td>\n      <td>Salaire ou revenu d'activité</td>\n      <td>1800.0</td>\n      <td>1800.0</td>\n    </tr>\n    <tr>\n      <th>8</th>\n      <td>001011504695111168</td>\n      <td>1023.0</td>\n      <td>Salaire ou revenu d'activité</td>\n      <td>679.0</td>\n      <td>679.0</td>\n    </tr>\n    <tr>\n      <th>9</th>\n      <td>001011504798111126</td>\n      <td>1000.0</td>\n      <td>Salaire ou revenu d'activité</td>\n      <td>1000.0</td>\n      <td>1000.0</td>\n    </tr>\n    <tr>\n      <th>10</th>\n      <td>001011606073945B99</td>\n      <td>1900.0</td>\n      <td>Salaire ou revenu d'activité</td>\n      <td>1900.0</td>\n      <td>1900.0</td>\n    </tr>\n    <tr>\n      <th>...</th>\n      <td>...</td>\n      <td>...</td>\n      <td>...</td>\n      <td>...</td>\n      <td>...</td>\n    </tr>\n    <tr>\n      <th>227957</th>\n      <td>974101715477011487</td>\n      <td>1440.0</td>\n      <td>Autres (hors APL ou AL)</td>\n      <td>717.0</td>\n      <td>717.0</td>\n    </tr>\n    <tr>\n      <th>227960</th>\n      <td>9741116133178GDPUB</td>\n      <td>1739.0</td>\n      <td>Pension d'invalidité</td>\n      <td>1340.0</td>\n      <td>1340.0</td>\n    </tr>\n    <tr>\n      <th>227961</th>\n      <td>9741117156454GDPUB</td>\n      <td>1260.0</td>\n      <td>Salaire ou revenu d'activité</td>\n      <td>1260.0</td>\n      <td>1260.0</td>\n    </tr>\n    <tr>\n      <th>227963</th>\n      <td>9741117156583GDPUB</td>\n      <td>1165.0</td>\n      <td>Autres (hors APL ou AL)</td>\n      <td>437.0</td>\n      <td>1036.0</td>\n    </tr>\n    <tr>\n      <th>227966</th>\n      <td>974121613666511487</td>\n      <td>761.0</td>\n      <td>Salaire ou revenu d'activité</td>\n      <td>577.0</td>\n      <td>577.0</td>\n    </tr>\n  </tbody>\n</table>\n<p>98151 rows × 5 columns</p>\n</div>"
     },
     "execution_count": 56,
     "metadata": {},
     "output_type": "execute_result"
    }
   ],
   "source": [
    "merged_dfbis=merged_df.drop_duplicates(subset =\"Numéro Unique\")\n",
    "merged_dfbis"
   ],
   "metadata": {
    "collapsed": false,
    "pycharm": {
     "name": "#%%\n"
    }
   }
  },
  {
   "cell_type": "code",
   "execution_count": 57,
   "outputs": [
    {
     "data": {
      "text/plain": "             Numéro Unique  RM Moyennes  \\\n0       001011302246211126        484.0   \n1       001011302274911126       2122.0   \n2       001011403468611126       2057.0   \n3       001011504695111168       1023.0   \n4       001011504798111126       1000.0   \n...                    ...          ...   \n114359  974101715477011487       1440.0   \n114360  9741116133178GDPUB       1739.0   \n114361  9741117156454GDPUB       1260.0   \n114362  9741117156583GDPUB       1165.0   \n114363  974121613666511487        761.0   \n\n        Ressources imposables mensuelles moyennes (RI)  \n0                                                  NaN  \n1                                               2572.0  \n2                                               1800.0  \n3                                                679.0  \n4                                               1000.0  \n...                                                ...  \n114359                                           717.0  \n114360                                          1340.0  \n114361                                          1260.0  \n114362                                          1036.0  \n114363                                           577.0  \n\n[114364 rows x 3 columns]",
      "text/html": "<div>\n<style scoped>\n    .dataframe tbody tr th:only-of-type {\n        vertical-align: middle;\n    }\n\n    .dataframe tbody tr th {\n        vertical-align: top;\n    }\n\n    .dataframe thead th {\n        text-align: right;\n    }\n</style>\n<table border=\"1\" class=\"dataframe\">\n  <thead>\n    <tr style=\"text-align: right;\">\n      <th></th>\n      <th>Numéro Unique</th>\n      <th>RM Moyennes</th>\n      <th>Ressources imposables mensuelles moyennes (RI)</th>\n    </tr>\n  </thead>\n  <tbody>\n    <tr>\n      <th>0</th>\n      <td>001011302246211126</td>\n      <td>484.0</td>\n      <td>NaN</td>\n    </tr>\n    <tr>\n      <th>1</th>\n      <td>001011302274911126</td>\n      <td>2122.0</td>\n      <td>2572.0</td>\n    </tr>\n    <tr>\n      <th>2</th>\n      <td>001011403468611126</td>\n      <td>2057.0</td>\n      <td>1800.0</td>\n    </tr>\n    <tr>\n      <th>3</th>\n      <td>001011504695111168</td>\n      <td>1023.0</td>\n      <td>679.0</td>\n    </tr>\n    <tr>\n      <th>4</th>\n      <td>001011504798111126</td>\n      <td>1000.0</td>\n      <td>1000.0</td>\n    </tr>\n    <tr>\n      <th>...</th>\n      <td>...</td>\n      <td>...</td>\n      <td>...</td>\n    </tr>\n    <tr>\n      <th>114359</th>\n      <td>974101715477011487</td>\n      <td>1440.0</td>\n      <td>717.0</td>\n    </tr>\n    <tr>\n      <th>114360</th>\n      <td>9741116133178GDPUB</td>\n      <td>1739.0</td>\n      <td>1340.0</td>\n    </tr>\n    <tr>\n      <th>114361</th>\n      <td>9741117156454GDPUB</td>\n      <td>1260.0</td>\n      <td>1260.0</td>\n    </tr>\n    <tr>\n      <th>114362</th>\n      <td>9741117156583GDPUB</td>\n      <td>1165.0</td>\n      <td>1036.0</td>\n    </tr>\n    <tr>\n      <th>114363</th>\n      <td>974121613666511487</td>\n      <td>761.0</td>\n      <td>577.0</td>\n    </tr>\n  </tbody>\n</table>\n<p>114364 rows × 3 columns</p>\n</div>"
     },
     "execution_count": 57,
     "metadata": {},
     "output_type": "execute_result"
    }
   ],
   "source": [
    "bdd = dfdbis.merge(merged_dfbis, on='Numéro Unique', how='outer')\n",
    "bdd=bdd[['Numéro Unique', 'Ressources mensuelles\\n_x','Ressources imposables mensuelles moyennes (RI)']]\n",
    "bdd=bdd.rename(columns={'Ressources mensuelles\\n_x': 'RM Moyennes'})\n",
    "bdd"
   ],
   "metadata": {
    "collapsed": false,
    "pycharm": {
     "name": "#%%\n"
    }
   }
  },
  {
   "cell_type": "code",
   "execution_count": 150,
   "outputs": [
    {
     "data": {
      "text/plain": "              Numéro Unique  Ressources mensuelles  \\\nindex                                                \n29       002011403169610414                  946.0   \n30       002011707708910411                 1000.0   \n32       0020117077711GDPUB                 1850.0   \n34       002011707772510420                 1982.0   \n37       002021707869210424                 1371.0   \n...                     ...                    ...   \n1285435  972121705572711572                 1157.0   \n1285437  9740317139610AL020                  691.0   \n1285440  9740317140139AL020                 3728.0   \n1285441  9740317140139AL020                 3728.0   \n1285443  974051714578111487                  367.0   \n\n                                 Type  Montant par type de ressource_x  \\\nindex                                                                    \n29       Salaire ou revenu d'activité                            650.0   \n30                           Retraite                           1001.0   \n32       Salaire ou revenu d'activité                           1650.0   \n34       Salaire ou revenu d'activité                           1700.0   \n37                           Retraite                           1671.0   \n...                               ...                              ...   \n1285435                      Retraite                           1044.0   \n1285437          Pension d'invalidité                            991.0   \n1285440     Pension alimentaire reçue                            100.0   \n1285441  Salaire ou revenu d'activité                           1728.0   \n1285443       Autres (hors APL ou AL)                            168.0   \n\n         Revenu imposable  \nindex                      \n29                  650.0  \n30                 1001.0  \n32                 1650.0  \n34                 1700.0  \n37                 1671.0  \n...                   ...  \n1285435            1044.0  \n1285437             991.0  \n1285440            1828.0  \n1285441            1828.0  \n1285443             168.0  \n\n[294152 rows x 5 columns]",
      "text/html": "<div>\n<style scoped>\n    .dataframe tbody tr th:only-of-type {\n        vertical-align: middle;\n    }\n\n    .dataframe tbody tr th {\n        vertical-align: top;\n    }\n\n    .dataframe thead th {\n        text-align: right;\n    }\n</style>\n<table border=\"1\" class=\"dataframe\">\n  <thead>\n    <tr style=\"text-align: right;\">\n      <th></th>\n      <th>Numéro Unique</th>\n      <th>Ressources mensuelles</th>\n      <th>Type</th>\n      <th>Montant par type de ressource_x</th>\n      <th>Revenu imposable</th>\n    </tr>\n    <tr>\n      <th>index</th>\n      <th></th>\n      <th></th>\n      <th></th>\n      <th></th>\n      <th></th>\n    </tr>\n  </thead>\n  <tbody>\n    <tr>\n      <th>29</th>\n      <td>002011403169610414</td>\n      <td>946.0</td>\n      <td>Salaire ou revenu d'activité</td>\n      <td>650.0</td>\n      <td>650.0</td>\n    </tr>\n    <tr>\n      <th>30</th>\n      <td>002011707708910411</td>\n      <td>1000.0</td>\n      <td>Retraite</td>\n      <td>1001.0</td>\n      <td>1001.0</td>\n    </tr>\n    <tr>\n      <th>32</th>\n      <td>0020117077711GDPUB</td>\n      <td>1850.0</td>\n      <td>Salaire ou revenu d'activité</td>\n      <td>1650.0</td>\n      <td>1650.0</td>\n    </tr>\n    <tr>\n      <th>34</th>\n      <td>002011707772510420</td>\n      <td>1982.0</td>\n      <td>Salaire ou revenu d'activité</td>\n      <td>1700.0</td>\n      <td>1700.0</td>\n    </tr>\n    <tr>\n      <th>37</th>\n      <td>002021707869210424</td>\n      <td>1371.0</td>\n      <td>Retraite</td>\n      <td>1671.0</td>\n      <td>1671.0</td>\n    </tr>\n    <tr>\n      <th>...</th>\n      <td>...</td>\n      <td>...</td>\n      <td>...</td>\n      <td>...</td>\n      <td>...</td>\n    </tr>\n    <tr>\n      <th>1285435</th>\n      <td>972121705572711572</td>\n      <td>1157.0</td>\n      <td>Retraite</td>\n      <td>1044.0</td>\n      <td>1044.0</td>\n    </tr>\n    <tr>\n      <th>1285437</th>\n      <td>9740317139610AL020</td>\n      <td>691.0</td>\n      <td>Pension d'invalidité</td>\n      <td>991.0</td>\n      <td>991.0</td>\n    </tr>\n    <tr>\n      <th>1285440</th>\n      <td>9740317140139AL020</td>\n      <td>3728.0</td>\n      <td>Pension alimentaire reçue</td>\n      <td>100.0</td>\n      <td>1828.0</td>\n    </tr>\n    <tr>\n      <th>1285441</th>\n      <td>9740317140139AL020</td>\n      <td>3728.0</td>\n      <td>Salaire ou revenu d'activité</td>\n      <td>1728.0</td>\n      <td>1828.0</td>\n    </tr>\n    <tr>\n      <th>1285443</th>\n      <td>974051714578111487</td>\n      <td>367.0</td>\n      <td>Autres (hors APL ou AL)</td>\n      <td>168.0</td>\n      <td>168.0</td>\n    </tr>\n  </tbody>\n</table>\n<p>294152 rows × 5 columns</p>\n</div>"
     },
     "execution_count": 150,
     "metadata": {},
     "output_type": "execute_result"
    }
   ],
   "source": [
    "#Foyers dont les ressources mensuelles ne matchent pas le revenu imposable => Une part des ressources n'est pas imposable\n",
    "merged_df[merged_df['Revenu imposable']!=merged_df['Ressources mensuelles']]"
   ],
   "metadata": {
    "collapsed": false,
    "pycharm": {
     "name": "#%%\n"
    }
   }
  },
  {
   "cell_type": "code",
   "execution_count": 151,
   "outputs": [
    {
     "data": {
      "text/plain": "              Numéro Unique  Ressources mensuelles  \\\nindex                                                \n3        001071606857001033                 1570.0   \n4        001071606857001033                 1570.0   \n7        001111708713716214                 1868.0   \n8        001111708713716214                 1868.0   \n13       0011217089230GDPUB                 1800.0   \n...                     ...                    ...   \n1285430  972091705244411572                 3002.0   \n1285440  9740317140139AL020                 3728.0   \n1285441  9740317140139AL020                 3728.0   \n1285445  974081715046411487                 1027.0   \n1285446  974081715046411487                 1027.0   \n\n                                    Type  Montant par type de ressource_x  \\\nindex                                                                       \n3        Allocation chômage / indemnités                            500.0   \n4           Salaire ou revenu d'activité                           1070.0   \n7                   Pension d'invalidité                            723.0   \n8                               Retraite                           1145.0   \n13       Allocation chômage / indemnités                              0.0   \n...                                  ...                              ...   \n1285430     Salaire ou revenu d'activité                           1501.0   \n1285440        Pension alimentaire reçue                            100.0   \n1285441     Salaire ou revenu d'activité                           1728.0   \n1285445        Pension alimentaire reçue                            160.0   \n1285446                         Retraite                            867.0   \n\n         Revenu imposable  \nindex                      \n3                  1570.0  \n4                  1570.0  \n7                  1868.0  \n8                  1868.0  \n13                 1800.0  \n...                   ...  \n1285430            3002.0  \n1285440            1828.0  \n1285441            1828.0  \n1285445            1027.0  \n1285446            1027.0  \n\n[247603 rows x 5 columns]",
      "text/html": "<div>\n<style scoped>\n    .dataframe tbody tr th:only-of-type {\n        vertical-align: middle;\n    }\n\n    .dataframe tbody tr th {\n        vertical-align: top;\n    }\n\n    .dataframe thead th {\n        text-align: right;\n    }\n</style>\n<table border=\"1\" class=\"dataframe\">\n  <thead>\n    <tr style=\"text-align: right;\">\n      <th></th>\n      <th>Numéro Unique</th>\n      <th>Ressources mensuelles</th>\n      <th>Type</th>\n      <th>Montant par type de ressource_x</th>\n      <th>Revenu imposable</th>\n    </tr>\n    <tr>\n      <th>index</th>\n      <th></th>\n      <th></th>\n      <th></th>\n      <th></th>\n      <th></th>\n    </tr>\n  </thead>\n  <tbody>\n    <tr>\n      <th>3</th>\n      <td>001071606857001033</td>\n      <td>1570.0</td>\n      <td>Allocation chômage / indemnités</td>\n      <td>500.0</td>\n      <td>1570.0</td>\n    </tr>\n    <tr>\n      <th>4</th>\n      <td>001071606857001033</td>\n      <td>1570.0</td>\n      <td>Salaire ou revenu d'activité</td>\n      <td>1070.0</td>\n      <td>1570.0</td>\n    </tr>\n    <tr>\n      <th>7</th>\n      <td>001111708713716214</td>\n      <td>1868.0</td>\n      <td>Pension d'invalidité</td>\n      <td>723.0</td>\n      <td>1868.0</td>\n    </tr>\n    <tr>\n      <th>8</th>\n      <td>001111708713716214</td>\n      <td>1868.0</td>\n      <td>Retraite</td>\n      <td>1145.0</td>\n      <td>1868.0</td>\n    </tr>\n    <tr>\n      <th>13</th>\n      <td>0011217089230GDPUB</td>\n      <td>1800.0</td>\n      <td>Allocation chômage / indemnités</td>\n      <td>0.0</td>\n      <td>1800.0</td>\n    </tr>\n    <tr>\n      <th>...</th>\n      <td>...</td>\n      <td>...</td>\n      <td>...</td>\n      <td>...</td>\n      <td>...</td>\n    </tr>\n    <tr>\n      <th>1285430</th>\n      <td>972091705244411572</td>\n      <td>3002.0</td>\n      <td>Salaire ou revenu d'activité</td>\n      <td>1501.0</td>\n      <td>3002.0</td>\n    </tr>\n    <tr>\n      <th>1285440</th>\n      <td>9740317140139AL020</td>\n      <td>3728.0</td>\n      <td>Pension alimentaire reçue</td>\n      <td>100.0</td>\n      <td>1828.0</td>\n    </tr>\n    <tr>\n      <th>1285441</th>\n      <td>9740317140139AL020</td>\n      <td>3728.0</td>\n      <td>Salaire ou revenu d'activité</td>\n      <td>1728.0</td>\n      <td>1828.0</td>\n    </tr>\n    <tr>\n      <th>1285445</th>\n      <td>974081715046411487</td>\n      <td>1027.0</td>\n      <td>Pension alimentaire reçue</td>\n      <td>160.0</td>\n      <td>1027.0</td>\n    </tr>\n    <tr>\n      <th>1285446</th>\n      <td>974081715046411487</td>\n      <td>1027.0</td>\n      <td>Retraite</td>\n      <td>867.0</td>\n      <td>1027.0</td>\n    </tr>\n  </tbody>\n</table>\n<p>247603 rows × 5 columns</p>\n</div>"
     },
     "execution_count": 151,
     "metadata": {},
     "output_type": "execute_result"
    }
   ],
   "source": [
    "#Foyers avec plusieurs type de revenus\n",
    "merged_df[merged_df['Revenu imposable']!=merged_df['Montant par type de ressource_x']]\n"
   ],
   "metadata": {
    "collapsed": false,
    "pycharm": {
     "name": "#%%\n"
    }
   }
  },
  {
   "cell_type": "code",
   "execution_count": 152,
   "outputs": [
    {
     "data": {
      "text/plain": "              Numéro Unique  Ressources mensuelles  \\\nindex                                                \n0        0010216061927GDPUB                  908.0   \n1        001021707657411126                 1239.0   \n2        0010417079507GDPUB                 1000.0   \n5        001081708354301071                 2000.0   \n6        0010917085404AL020                44030.0   \n...                     ...                    ...   \n1285438  9740317140124AL020                 1560.0   \n1285442  9740317140152GDPUB                  952.0   \n1285443  974051714578111487                  367.0   \n1285447  974101613022611484                 1240.0   \n1285448  974111613236511483                 1650.0   \n\n                                    Type  Montant par type de ressource_x  \\\nindex                                                                       \n0                               Retraite                            908.0   \n1                               Retraite                           1239.0   \n2        Allocation chômage / indemnités                           1000.0   \n5           Salaire ou revenu d'activité                           2000.0   \n6           Salaire ou revenu d'activité                          44030.0   \n...                                  ...                              ...   \n1285438     Salaire ou revenu d'activité                           1560.0   \n1285442                         Retraite                            952.0   \n1285443          Autres (hors APL ou AL)                            168.0   \n1285447                         Retraite                           1240.0   \n1285448     Salaire ou revenu d'activité                           1650.0   \n\n         Revenu imposable  \nindex                      \n0                   908.0  \n1                  1239.0  \n2                  1000.0  \n5                  2000.0  \n6                 44030.0  \n...                   ...  \n1285438            1560.0  \n1285442             952.0  \n1285443             168.0  \n1285447            1240.0  \n1285448            1650.0  \n\n[538664 rows x 5 columns]",
      "text/html": "<div>\n<style scoped>\n    .dataframe tbody tr th:only-of-type {\n        vertical-align: middle;\n    }\n\n    .dataframe tbody tr th {\n        vertical-align: top;\n    }\n\n    .dataframe thead th {\n        text-align: right;\n    }\n</style>\n<table border=\"1\" class=\"dataframe\">\n  <thead>\n    <tr style=\"text-align: right;\">\n      <th></th>\n      <th>Numéro Unique</th>\n      <th>Ressources mensuelles</th>\n      <th>Type</th>\n      <th>Montant par type de ressource_x</th>\n      <th>Revenu imposable</th>\n    </tr>\n    <tr>\n      <th>index</th>\n      <th></th>\n      <th></th>\n      <th></th>\n      <th></th>\n      <th></th>\n    </tr>\n  </thead>\n  <tbody>\n    <tr>\n      <th>0</th>\n      <td>0010216061927GDPUB</td>\n      <td>908.0</td>\n      <td>Retraite</td>\n      <td>908.0</td>\n      <td>908.0</td>\n    </tr>\n    <tr>\n      <th>1</th>\n      <td>001021707657411126</td>\n      <td>1239.0</td>\n      <td>Retraite</td>\n      <td>1239.0</td>\n      <td>1239.0</td>\n    </tr>\n    <tr>\n      <th>2</th>\n      <td>0010417079507GDPUB</td>\n      <td>1000.0</td>\n      <td>Allocation chômage / indemnités</td>\n      <td>1000.0</td>\n      <td>1000.0</td>\n    </tr>\n    <tr>\n      <th>5</th>\n      <td>001081708354301071</td>\n      <td>2000.0</td>\n      <td>Salaire ou revenu d'activité</td>\n      <td>2000.0</td>\n      <td>2000.0</td>\n    </tr>\n    <tr>\n      <th>6</th>\n      <td>0010917085404AL020</td>\n      <td>44030.0</td>\n      <td>Salaire ou revenu d'activité</td>\n      <td>44030.0</td>\n      <td>44030.0</td>\n    </tr>\n    <tr>\n      <th>...</th>\n      <td>...</td>\n      <td>...</td>\n      <td>...</td>\n      <td>...</td>\n      <td>...</td>\n    </tr>\n    <tr>\n      <th>1285438</th>\n      <td>9740317140124AL020</td>\n      <td>1560.0</td>\n      <td>Salaire ou revenu d'activité</td>\n      <td>1560.0</td>\n      <td>1560.0</td>\n    </tr>\n    <tr>\n      <th>1285442</th>\n      <td>9740317140152GDPUB</td>\n      <td>952.0</td>\n      <td>Retraite</td>\n      <td>952.0</td>\n      <td>952.0</td>\n    </tr>\n    <tr>\n      <th>1285443</th>\n      <td>974051714578111487</td>\n      <td>367.0</td>\n      <td>Autres (hors APL ou AL)</td>\n      <td>168.0</td>\n      <td>168.0</td>\n    </tr>\n    <tr>\n      <th>1285447</th>\n      <td>974101613022611484</td>\n      <td>1240.0</td>\n      <td>Retraite</td>\n      <td>1240.0</td>\n      <td>1240.0</td>\n    </tr>\n    <tr>\n      <th>1285448</th>\n      <td>974111613236511483</td>\n      <td>1650.0</td>\n      <td>Salaire ou revenu d'activité</td>\n      <td>1650.0</td>\n      <td>1650.0</td>\n    </tr>\n  </tbody>\n</table>\n<p>538664 rows × 5 columns</p>\n</div>"
     },
     "execution_count": 152,
     "metadata": {},
     "output_type": "execute_result"
    }
   ],
   "source": [
    "#Foyers avec un seul type de revenu\n",
    "merged_df[~(merged_df['Revenu imposable']!=merged_df['Montant par type de ressource_x'])]\n"
   ],
   "metadata": {
    "collapsed": false,
    "pycharm": {
     "name": "#%%\n"
    }
   }
  },
  {
   "cell_type": "markdown",
   "source": [
    "### Calcul des prestations familiales et sociales mensuelles"
   ],
   "metadata": {
    "collapsed": false,
    "pycharm": {
     "name": "#%% md\n"
    }
   }
  },
  {
   "cell_type": "code",
   "execution_count": 58,
   "outputs": [
    {
     "data": {
      "text/plain": "             Numéro Unique  Ressources mensuelles\\n  \\\n0       001011302246211126                    484.0   \n3       001011403468611126                   2057.0   \n4       001011403468611126                   2057.0   \n6       001011504695111168                   1023.0   \n7       001011504695111168                   1023.0   \n...                    ...                      ...   \n227956  974101715477011487                   1440.0   \n227958  974101715477011487                   1440.0   \n227959  9741116133178GDPUB                   1739.0   \n227962  9741117156583GDPUB                   1165.0   \n227965  974121613666511487                    761.0   \n\n                                                    Type  \\\n0                      Revenu de solidarité active (RSA)   \n3       Allocation d'éducation d'enfant handicapé (AEEH)   \n4                                  Allocation familiales   \n6                                  Allocation familiales   \n7                      Revenu de solidarité active (RSA)   \n...                                                  ...   \n227956                             Allocation familiales   \n227958                 Revenu de solidarité active (RSA)   \n227959                Allocation d'adulte handicapé(AAH)   \n227962                             Allocation familiales   \n227965                    Allocation Jeune Enfant (PAJE)   \n\n        Montant par type de ressource\\n  \n0                                 484.0  \n3                                 129.0  \n4                                 128.0  \n6                                 129.0  \n7                                 215.0  \n...                                 ...  \n227956                            467.0  \n227958                            256.0  \n227959                            399.0  \n227962                            129.0  \n227965                            184.0  \n\n[91079 rows x 4 columns]",
      "text/html": "<div>\n<style scoped>\n    .dataframe tbody tr th:only-of-type {\n        vertical-align: middle;\n    }\n\n    .dataframe tbody tr th {\n        vertical-align: top;\n    }\n\n    .dataframe thead th {\n        text-align: right;\n    }\n</style>\n<table border=\"1\" class=\"dataframe\">\n  <thead>\n    <tr style=\"text-align: right;\">\n      <th></th>\n      <th>Numéro Unique</th>\n      <th>Ressources mensuelles\\n</th>\n      <th>Type</th>\n      <th>Montant par type de ressource\\n</th>\n    </tr>\n  </thead>\n  <tbody>\n    <tr>\n      <th>0</th>\n      <td>001011302246211126</td>\n      <td>484.0</td>\n      <td>Revenu de solidarité active (RSA)</td>\n      <td>484.0</td>\n    </tr>\n    <tr>\n      <th>3</th>\n      <td>001011403468611126</td>\n      <td>2057.0</td>\n      <td>Allocation d'éducation d'enfant handicapé (AEEH)</td>\n      <td>129.0</td>\n    </tr>\n    <tr>\n      <th>4</th>\n      <td>001011403468611126</td>\n      <td>2057.0</td>\n      <td>Allocation familiales</td>\n      <td>128.0</td>\n    </tr>\n    <tr>\n      <th>6</th>\n      <td>001011504695111168</td>\n      <td>1023.0</td>\n      <td>Allocation familiales</td>\n      <td>129.0</td>\n    </tr>\n    <tr>\n      <th>7</th>\n      <td>001011504695111168</td>\n      <td>1023.0</td>\n      <td>Revenu de solidarité active (RSA)</td>\n      <td>215.0</td>\n    </tr>\n    <tr>\n      <th>...</th>\n      <td>...</td>\n      <td>...</td>\n      <td>...</td>\n      <td>...</td>\n    </tr>\n    <tr>\n      <th>227956</th>\n      <td>974101715477011487</td>\n      <td>1440.0</td>\n      <td>Allocation familiales</td>\n      <td>467.0</td>\n    </tr>\n    <tr>\n      <th>227958</th>\n      <td>974101715477011487</td>\n      <td>1440.0</td>\n      <td>Revenu de solidarité active (RSA)</td>\n      <td>256.0</td>\n    </tr>\n    <tr>\n      <th>227959</th>\n      <td>9741116133178GDPUB</td>\n      <td>1739.0</td>\n      <td>Allocation d'adulte handicapé(AAH)</td>\n      <td>399.0</td>\n    </tr>\n    <tr>\n      <th>227962</th>\n      <td>9741117156583GDPUB</td>\n      <td>1165.0</td>\n      <td>Allocation familiales</td>\n      <td>129.0</td>\n    </tr>\n    <tr>\n      <th>227965</th>\n      <td>974121613666511487</td>\n      <td>761.0</td>\n      <td>Allocation Jeune Enfant (PAJE)</td>\n      <td>184.0</td>\n    </tr>\n  </tbody>\n</table>\n<p>91079 rows × 4 columns</p>\n</div>"
     },
     "execution_count": 58,
     "metadata": {},
     "output_type": "execute_result"
    }
   ],
   "source": [
    "values1=[\"Allocation d'adulte handicapé(AAH)\", \"Allocation d'éducation d'enfant handicapé (AEEH)\", \"Allocation de minimum vieillesse\", \"Allocation familiales\", \"Allocation Jeune Enfant (PAJE)\", \"Bourse étudiant\", \"Prime d'activité\", \"Revenu de solidarité active (RSA)\", \"Allocation journalière de présence parentale (AJPP)\"]\n",
    "filtered_df1 = dfd[dfd.Type.isin(values1)]\n",
    "filtered_df1"
   ],
   "metadata": {
    "collapsed": false,
    "pycharm": {
     "name": "#%%\n"
    }
   }
  },
  {
   "cell_type": "code",
   "execution_count": 59,
   "outputs": [],
   "source": [
    "shrank_values1 = filtered_df1.groupby(by='Numéro Unique').sum()['Montant par type de ressource\\n']\n",
    "\n",
    "merged_df1 = filtered_df1.merge(shrank_values1, left_on='Numéro Unique', right_index=True)\n",
    "\n",
    "merged_df1 = merged_df1.rename(columns={'Montant par type de ressource\\n_y': 'Prestations familiales et sociales mensuelles moyennes (PFS)'})"
   ],
   "metadata": {
    "collapsed": false,
    "pycharm": {
     "name": "#%%\n"
    }
   }
  },
  {
   "cell_type": "code",
   "execution_count": 60,
   "outputs": [
    {
     "data": {
      "text/plain": "             Numéro Unique  Ressources mensuelles\\n  \\\n0       001011302246211126                    484.0   \n3       001011403468611126                   2057.0   \n4       001011403468611126                   2057.0   \n6       001011504695111168                   1023.0   \n7       001011504695111168                   1023.0   \n...                    ...                      ...   \n227956  974101715477011487                   1440.0   \n227958  974101715477011487                   1440.0   \n227959  9741116133178GDPUB                   1739.0   \n227962  9741117156583GDPUB                   1165.0   \n227965  974121613666511487                    761.0   \n\n                                                    Type  \\\n0                      Revenu de solidarité active (RSA)   \n3       Allocation d'éducation d'enfant handicapé (AEEH)   \n4                                  Allocation familiales   \n6                                  Allocation familiales   \n7                      Revenu de solidarité active (RSA)   \n...                                                  ...   \n227956                             Allocation familiales   \n227958                 Revenu de solidarité active (RSA)   \n227959                Allocation d'adulte handicapé(AAH)   \n227962                             Allocation familiales   \n227965                    Allocation Jeune Enfant (PAJE)   \n\n        Montant par type de ressource\\n_x  \\\n0                                   484.0   \n3                                   129.0   \n4                                   128.0   \n6                                   129.0   \n7                                   215.0   \n...                                   ...   \n227956                              467.0   \n227958                              256.0   \n227959                              399.0   \n227962                              129.0   \n227965                              184.0   \n\n        Prestations familiales et sociales mensuelles moyennes (PFS)  \n0                                                   484.0             \n3                                                   257.0             \n4                                                   257.0             \n6                                                   344.0             \n7                                                   344.0             \n...                                                   ...             \n227956                                              723.0             \n227958                                              723.0             \n227959                                              399.0             \n227962                                              129.0             \n227965                                              184.0             \n\n[91079 rows x 5 columns]",
      "text/html": "<div>\n<style scoped>\n    .dataframe tbody tr th:only-of-type {\n        vertical-align: middle;\n    }\n\n    .dataframe tbody tr th {\n        vertical-align: top;\n    }\n\n    .dataframe thead th {\n        text-align: right;\n    }\n</style>\n<table border=\"1\" class=\"dataframe\">\n  <thead>\n    <tr style=\"text-align: right;\">\n      <th></th>\n      <th>Numéro Unique</th>\n      <th>Ressources mensuelles\\n</th>\n      <th>Type</th>\n      <th>Montant par type de ressource\\n_x</th>\n      <th>Prestations familiales et sociales mensuelles moyennes (PFS)</th>\n    </tr>\n  </thead>\n  <tbody>\n    <tr>\n      <th>0</th>\n      <td>001011302246211126</td>\n      <td>484.0</td>\n      <td>Revenu de solidarité active (RSA)</td>\n      <td>484.0</td>\n      <td>484.0</td>\n    </tr>\n    <tr>\n      <th>3</th>\n      <td>001011403468611126</td>\n      <td>2057.0</td>\n      <td>Allocation d'éducation d'enfant handicapé (AEEH)</td>\n      <td>129.0</td>\n      <td>257.0</td>\n    </tr>\n    <tr>\n      <th>4</th>\n      <td>001011403468611126</td>\n      <td>2057.0</td>\n      <td>Allocation familiales</td>\n      <td>128.0</td>\n      <td>257.0</td>\n    </tr>\n    <tr>\n      <th>6</th>\n      <td>001011504695111168</td>\n      <td>1023.0</td>\n      <td>Allocation familiales</td>\n      <td>129.0</td>\n      <td>344.0</td>\n    </tr>\n    <tr>\n      <th>7</th>\n      <td>001011504695111168</td>\n      <td>1023.0</td>\n      <td>Revenu de solidarité active (RSA)</td>\n      <td>215.0</td>\n      <td>344.0</td>\n    </tr>\n    <tr>\n      <th>...</th>\n      <td>...</td>\n      <td>...</td>\n      <td>...</td>\n      <td>...</td>\n      <td>...</td>\n    </tr>\n    <tr>\n      <th>227956</th>\n      <td>974101715477011487</td>\n      <td>1440.0</td>\n      <td>Allocation familiales</td>\n      <td>467.0</td>\n      <td>723.0</td>\n    </tr>\n    <tr>\n      <th>227958</th>\n      <td>974101715477011487</td>\n      <td>1440.0</td>\n      <td>Revenu de solidarité active (RSA)</td>\n      <td>256.0</td>\n      <td>723.0</td>\n    </tr>\n    <tr>\n      <th>227959</th>\n      <td>9741116133178GDPUB</td>\n      <td>1739.0</td>\n      <td>Allocation d'adulte handicapé(AAH)</td>\n      <td>399.0</td>\n      <td>399.0</td>\n    </tr>\n    <tr>\n      <th>227962</th>\n      <td>9741117156583GDPUB</td>\n      <td>1165.0</td>\n      <td>Allocation familiales</td>\n      <td>129.0</td>\n      <td>129.0</td>\n    </tr>\n    <tr>\n      <th>227965</th>\n      <td>974121613666511487</td>\n      <td>761.0</td>\n      <td>Allocation Jeune Enfant (PAJE)</td>\n      <td>184.0</td>\n      <td>184.0</td>\n    </tr>\n  </tbody>\n</table>\n<p>91079 rows × 5 columns</p>\n</div>"
     },
     "execution_count": 60,
     "metadata": {},
     "output_type": "execute_result"
    }
   ],
   "source": [
    "merged_df1"
   ],
   "metadata": {
    "collapsed": false,
    "pycharm": {
     "name": "#%%\n"
    }
   }
  },
  {
   "cell_type": "code",
   "execution_count": 61,
   "outputs": [
    {
     "data": {
      "text/plain": "             Numéro Unique  Ressources mensuelles\\n  \\\n0       001011302246211126                    484.0   \n3       001011403468611126                   2057.0   \n6       001011504695111168                   1023.0   \n12      001011606085911126                   1921.0   \n21      001011707472217214                   1808.0   \n...                    ...                      ...   \n227950  974091613096811480                   1592.0   \n227956  974101715477011487                   1440.0   \n227959  9741116133178GDPUB                   1739.0   \n227962  9741117156583GDPUB                   1165.0   \n227965  974121613666511487                    761.0   \n\n                                                    Type  \\\n0                      Revenu de solidarité active (RSA)   \n3       Allocation d'éducation d'enfant handicapé (AEEH)   \n6                                  Allocation familiales   \n12                                 Allocation familiales   \n21                                 Allocation familiales   \n...                                                  ...   \n227950  Allocation d'éducation d'enfant handicapé (AEEH)   \n227956                             Allocation familiales   \n227959                Allocation d'adulte handicapé(AAH)   \n227962                             Allocation familiales   \n227965                    Allocation Jeune Enfant (PAJE)   \n\n        Montant par type de ressource\\n_x  \\\n0                                   484.0   \n3                                   129.0   \n6                                   129.0   \n12                                 1062.0   \n21                                  132.0   \n...                                   ...   \n227950                              395.0   \n227956                              467.0   \n227959                              399.0   \n227962                              129.0   \n227965                              184.0   \n\n        Prestations familiales et sociales mensuelles moyennes (PFS)  \n0                                                   484.0             \n3                                                   257.0             \n6                                                   344.0             \n12                                                 1271.0             \n21                                                  132.0             \n...                                                   ...             \n227950                                             1320.0             \n227956                                              723.0             \n227959                                              399.0             \n227962                                              129.0             \n227965                                              184.0             \n\n[49525 rows x 5 columns]",
      "text/html": "<div>\n<style scoped>\n    .dataframe tbody tr th:only-of-type {\n        vertical-align: middle;\n    }\n\n    .dataframe tbody tr th {\n        vertical-align: top;\n    }\n\n    .dataframe thead th {\n        text-align: right;\n    }\n</style>\n<table border=\"1\" class=\"dataframe\">\n  <thead>\n    <tr style=\"text-align: right;\">\n      <th></th>\n      <th>Numéro Unique</th>\n      <th>Ressources mensuelles\\n</th>\n      <th>Type</th>\n      <th>Montant par type de ressource\\n_x</th>\n      <th>Prestations familiales et sociales mensuelles moyennes (PFS)</th>\n    </tr>\n  </thead>\n  <tbody>\n    <tr>\n      <th>0</th>\n      <td>001011302246211126</td>\n      <td>484.0</td>\n      <td>Revenu de solidarité active (RSA)</td>\n      <td>484.0</td>\n      <td>484.0</td>\n    </tr>\n    <tr>\n      <th>3</th>\n      <td>001011403468611126</td>\n      <td>2057.0</td>\n      <td>Allocation d'éducation d'enfant handicapé (AEEH)</td>\n      <td>129.0</td>\n      <td>257.0</td>\n    </tr>\n    <tr>\n      <th>6</th>\n      <td>001011504695111168</td>\n      <td>1023.0</td>\n      <td>Allocation familiales</td>\n      <td>129.0</td>\n      <td>344.0</td>\n    </tr>\n    <tr>\n      <th>12</th>\n      <td>001011606085911126</td>\n      <td>1921.0</td>\n      <td>Allocation familiales</td>\n      <td>1062.0</td>\n      <td>1271.0</td>\n    </tr>\n    <tr>\n      <th>21</th>\n      <td>001011707472217214</td>\n      <td>1808.0</td>\n      <td>Allocation familiales</td>\n      <td>132.0</td>\n      <td>132.0</td>\n    </tr>\n    <tr>\n      <th>...</th>\n      <td>...</td>\n      <td>...</td>\n      <td>...</td>\n      <td>...</td>\n      <td>...</td>\n    </tr>\n    <tr>\n      <th>227950</th>\n      <td>974091613096811480</td>\n      <td>1592.0</td>\n      <td>Allocation d'éducation d'enfant handicapé (AEEH)</td>\n      <td>395.0</td>\n      <td>1320.0</td>\n    </tr>\n    <tr>\n      <th>227956</th>\n      <td>974101715477011487</td>\n      <td>1440.0</td>\n      <td>Allocation familiales</td>\n      <td>467.0</td>\n      <td>723.0</td>\n    </tr>\n    <tr>\n      <th>227959</th>\n      <td>9741116133178GDPUB</td>\n      <td>1739.0</td>\n      <td>Allocation d'adulte handicapé(AAH)</td>\n      <td>399.0</td>\n      <td>399.0</td>\n    </tr>\n    <tr>\n      <th>227962</th>\n      <td>9741117156583GDPUB</td>\n      <td>1165.0</td>\n      <td>Allocation familiales</td>\n      <td>129.0</td>\n      <td>129.0</td>\n    </tr>\n    <tr>\n      <th>227965</th>\n      <td>974121613666511487</td>\n      <td>761.0</td>\n      <td>Allocation Jeune Enfant (PAJE)</td>\n      <td>184.0</td>\n      <td>184.0</td>\n    </tr>\n  </tbody>\n</table>\n<p>49525 rows × 5 columns</p>\n</div>"
     },
     "execution_count": 61,
     "metadata": {},
     "output_type": "execute_result"
    }
   ],
   "source": [
    "merged_dfbis1=merged_df1.drop_duplicates(subset =\"Numéro Unique\")\n",
    "merged_dfbis1"
   ],
   "metadata": {
    "collapsed": false,
    "pycharm": {
     "name": "#%%\n"
    }
   }
  },
  {
   "cell_type": "code",
   "execution_count": 62,
   "outputs": [
    {
     "data": {
      "text/plain": "             Numéro Unique  RM Moyennes  \\\n0       001011302246211126        484.0   \n1       001011302274911126       2122.0   \n2       001011403468611126       2057.0   \n3       001011504695111168       1023.0   \n4       001011504798111126       1000.0   \n...                    ...          ...   \n114359  974101715477011487       1440.0   \n114360  9741116133178GDPUB       1739.0   \n114361  9741117156454GDPUB       1260.0   \n114362  9741117156583GDPUB       1165.0   \n114363  974121613666511487        761.0   \n\n        Ressources imposables mensuelles moyennes (RI)  \\\n0                                                  NaN   \n1                                               2572.0   \n2                                               1800.0   \n3                                                679.0   \n4                                               1000.0   \n...                                                ...   \n114359                                           717.0   \n114360                                          1340.0   \n114361                                          1260.0   \n114362                                          1036.0   \n114363                                           577.0   \n\n        Prestations familiales et sociales mensuelles moyennes (PFS)  \n0                                                   484.0             \n1                                                     NaN             \n2                                                   257.0             \n3                                                   344.0             \n4                                                     NaN             \n...                                                   ...             \n114359                                              723.0             \n114360                                              399.0             \n114361                                                NaN             \n114362                                              129.0             \n114363                                              184.0             \n\n[114364 rows x 4 columns]",
      "text/html": "<div>\n<style scoped>\n    .dataframe tbody tr th:only-of-type {\n        vertical-align: middle;\n    }\n\n    .dataframe tbody tr th {\n        vertical-align: top;\n    }\n\n    .dataframe thead th {\n        text-align: right;\n    }\n</style>\n<table border=\"1\" class=\"dataframe\">\n  <thead>\n    <tr style=\"text-align: right;\">\n      <th></th>\n      <th>Numéro Unique</th>\n      <th>RM Moyennes</th>\n      <th>Ressources imposables mensuelles moyennes (RI)</th>\n      <th>Prestations familiales et sociales mensuelles moyennes (PFS)</th>\n    </tr>\n  </thead>\n  <tbody>\n    <tr>\n      <th>0</th>\n      <td>001011302246211126</td>\n      <td>484.0</td>\n      <td>NaN</td>\n      <td>484.0</td>\n    </tr>\n    <tr>\n      <th>1</th>\n      <td>001011302274911126</td>\n      <td>2122.0</td>\n      <td>2572.0</td>\n      <td>NaN</td>\n    </tr>\n    <tr>\n      <th>2</th>\n      <td>001011403468611126</td>\n      <td>2057.0</td>\n      <td>1800.0</td>\n      <td>257.0</td>\n    </tr>\n    <tr>\n      <th>3</th>\n      <td>001011504695111168</td>\n      <td>1023.0</td>\n      <td>679.0</td>\n      <td>344.0</td>\n    </tr>\n    <tr>\n      <th>4</th>\n      <td>001011504798111126</td>\n      <td>1000.0</td>\n      <td>1000.0</td>\n      <td>NaN</td>\n    </tr>\n    <tr>\n      <th>...</th>\n      <td>...</td>\n      <td>...</td>\n      <td>...</td>\n      <td>...</td>\n    </tr>\n    <tr>\n      <th>114359</th>\n      <td>974101715477011487</td>\n      <td>1440.0</td>\n      <td>717.0</td>\n      <td>723.0</td>\n    </tr>\n    <tr>\n      <th>114360</th>\n      <td>9741116133178GDPUB</td>\n      <td>1739.0</td>\n      <td>1340.0</td>\n      <td>399.0</td>\n    </tr>\n    <tr>\n      <th>114361</th>\n      <td>9741117156454GDPUB</td>\n      <td>1260.0</td>\n      <td>1260.0</td>\n      <td>NaN</td>\n    </tr>\n    <tr>\n      <th>114362</th>\n      <td>9741117156583GDPUB</td>\n      <td>1165.0</td>\n      <td>1036.0</td>\n      <td>129.0</td>\n    </tr>\n    <tr>\n      <th>114363</th>\n      <td>974121613666511487</td>\n      <td>761.0</td>\n      <td>577.0</td>\n      <td>184.0</td>\n    </tr>\n  </tbody>\n</table>\n<p>114364 rows × 4 columns</p>\n</div>"
     },
     "execution_count": 62,
     "metadata": {},
     "output_type": "execute_result"
    }
   ],
   "source": [
    "bddbis = bdd.merge(merged_dfbis1, on='Numéro Unique', how='outer')\n",
    "bddbis=bddbis.rename(columns={'Ressources mensuelles\\n_x': 'RM Moyennes'})\n",
    "bddbis=bddbis[['Numéro Unique', 'RM Moyennes','Ressources imposables mensuelles moyennes (RI)', 'Prestations familiales et sociales mensuelles moyennes (PFS)']]\n",
    "bddbis"
   ],
   "metadata": {
    "collapsed": false,
    "pycharm": {
     "name": "#%%\n"
    }
   }
  },
  {
   "cell_type": "markdown",
   "source": [
    "### Somme Revenus imposables et prestations"
   ],
   "metadata": {
    "collapsed": false,
    "pycharm": {
     "name": "#%% md\n"
    }
   }
  },
  {
   "cell_type": "code",
   "execution_count": 33,
   "outputs": [],
   "source": [
    "bddbis['Ressources imposables mensuelles moyennes (RI)'].fillna(0, inplace=True)\n",
    "bddbis['Prestations familiales et sociales mensuelles moyennes (PFS)'].fillna(0, inplace=True)"
   ],
   "metadata": {
    "collapsed": false,
    "pycharm": {
     "name": "#%%\n"
    }
   }
  },
  {
   "cell_type": "code",
   "execution_count": 34,
   "outputs": [
    {
     "data": {
      "text/plain": "            Numéro Unique  RM Moyennes  \\\n0      001031606376411126        829.0   \n1      001031707754001033        759.0   \n2      0010317077778GDPUB       2114.0   \n3      0010417078908GDPUB       1600.0   \n4      0010616066636GDPUB       3184.0   \n...                   ...          ...   \n90214  973071703439411526       2985.0   \n90215  9731217036751GDPUB        787.0   \n90216  9740116110885GDPUB        472.0   \n90217  9740417140838GDPUB       1700.0   \n90218  974081714984011487        764.0   \n\n       Ressources imposables mensuelles moyennes (RI)  \\\n0                                               209.0   \n1                                               722.0   \n2                                              1116.0   \n3                                              1600.0   \n4                                              3000.0   \n...                                               ...   \n90214                                          2689.0   \n90215                                             0.0   \n90216                                             0.0   \n90217                                          1700.0   \n90218                                           764.0   \n\n       Prestations familiales et sociales mensuelles moyennes (PFS)  \n0                                                  620.0             \n1                                                   37.0             \n2                                                  998.0             \n3                                                    0.0             \n4                                                  184.0             \n...                                                  ...             \n90214                                              296.0             \n90215                                              787.0             \n90216                                              472.0             \n90217                                                0.0             \n90218                                                0.0             \n\n[90219 rows x 4 columns]",
      "text/html": "<div>\n<style scoped>\n    .dataframe tbody tr th:only-of-type {\n        vertical-align: middle;\n    }\n\n    .dataframe tbody tr th {\n        vertical-align: top;\n    }\n\n    .dataframe thead th {\n        text-align: right;\n    }\n</style>\n<table border=\"1\" class=\"dataframe\">\n  <thead>\n    <tr style=\"text-align: right;\">\n      <th></th>\n      <th>Numéro Unique</th>\n      <th>RM Moyennes</th>\n      <th>Ressources imposables mensuelles moyennes (RI)</th>\n      <th>Prestations familiales et sociales mensuelles moyennes (PFS)</th>\n    </tr>\n  </thead>\n  <tbody>\n    <tr>\n      <th>0</th>\n      <td>001031606376411126</td>\n      <td>829.0</td>\n      <td>209.0</td>\n      <td>620.0</td>\n    </tr>\n    <tr>\n      <th>1</th>\n      <td>001031707754001033</td>\n      <td>759.0</td>\n      <td>722.0</td>\n      <td>37.0</td>\n    </tr>\n    <tr>\n      <th>2</th>\n      <td>0010317077778GDPUB</td>\n      <td>2114.0</td>\n      <td>1116.0</td>\n      <td>998.0</td>\n    </tr>\n    <tr>\n      <th>3</th>\n      <td>0010417078908GDPUB</td>\n      <td>1600.0</td>\n      <td>1600.0</td>\n      <td>0.0</td>\n    </tr>\n    <tr>\n      <th>4</th>\n      <td>0010616066636GDPUB</td>\n      <td>3184.0</td>\n      <td>3000.0</td>\n      <td>184.0</td>\n    </tr>\n    <tr>\n      <th>...</th>\n      <td>...</td>\n      <td>...</td>\n      <td>...</td>\n      <td>...</td>\n    </tr>\n    <tr>\n      <th>90214</th>\n      <td>973071703439411526</td>\n      <td>2985.0</td>\n      <td>2689.0</td>\n      <td>296.0</td>\n    </tr>\n    <tr>\n      <th>90215</th>\n      <td>9731217036751GDPUB</td>\n      <td>787.0</td>\n      <td>0.0</td>\n      <td>787.0</td>\n    </tr>\n    <tr>\n      <th>90216</th>\n      <td>9740116110885GDPUB</td>\n      <td>472.0</td>\n      <td>0.0</td>\n      <td>472.0</td>\n    </tr>\n    <tr>\n      <th>90217</th>\n      <td>9740417140838GDPUB</td>\n      <td>1700.0</td>\n      <td>1700.0</td>\n      <td>0.0</td>\n    </tr>\n    <tr>\n      <th>90218</th>\n      <td>974081714984011487</td>\n      <td>764.0</td>\n      <td>764.0</td>\n      <td>0.0</td>\n    </tr>\n  </tbody>\n</table>\n<p>90219 rows × 4 columns</p>\n</div>"
     },
     "execution_count": 34,
     "metadata": {},
     "output_type": "execute_result"
    }
   ],
   "source": [
    "bddbis"
   ],
   "metadata": {
    "collapsed": false,
    "pycharm": {
     "name": "#%%\n"
    }
   }
  },
  {
   "cell_type": "code",
   "execution_count": 35,
   "outputs": [
    {
     "data": {
      "text/plain": "            Numéro Unique  RM Moyennes  \\\n0      001031606376411126        829.0   \n1      001031707754001033        759.0   \n2      0010317077778GDPUB       2114.0   \n3      0010417078908GDPUB       1600.0   \n4      0010616066636GDPUB       3184.0   \n...                   ...          ...   \n90214  973071703439411526       2985.0   \n90215  9731217036751GDPUB        787.0   \n90216  9740116110885GDPUB        472.0   \n90217  9740417140838GDPUB       1700.0   \n90218  974081714984011487        764.0   \n\n       Ressources imposables mensuelles moyennes (RI)  \\\n0                                               209.0   \n1                                               722.0   \n2                                              1116.0   \n3                                              1600.0   \n4                                              3000.0   \n...                                               ...   \n90214                                          2689.0   \n90215                                             0.0   \n90216                                             0.0   \n90217                                          1700.0   \n90218                                           764.0   \n\n       Prestations familiales et sociales mensuelles moyennes (PFS)  Ri + PFS  \n0                                                  620.0                829.0  \n1                                                   37.0                759.0  \n2                                                  998.0               2114.0  \n3                                                    0.0               1600.0  \n4                                                  184.0               3184.0  \n...                                                  ...                  ...  \n90214                                              296.0               2985.0  \n90215                                              787.0                787.0  \n90216                                              472.0                472.0  \n90217                                                0.0               1700.0  \n90218                                                0.0                764.0  \n\n[90219 rows x 5 columns]",
      "text/html": "<div>\n<style scoped>\n    .dataframe tbody tr th:only-of-type {\n        vertical-align: middle;\n    }\n\n    .dataframe tbody tr th {\n        vertical-align: top;\n    }\n\n    .dataframe thead th {\n        text-align: right;\n    }\n</style>\n<table border=\"1\" class=\"dataframe\">\n  <thead>\n    <tr style=\"text-align: right;\">\n      <th></th>\n      <th>Numéro Unique</th>\n      <th>RM Moyennes</th>\n      <th>Ressources imposables mensuelles moyennes (RI)</th>\n      <th>Prestations familiales et sociales mensuelles moyennes (PFS)</th>\n      <th>Ri + PFS</th>\n    </tr>\n  </thead>\n  <tbody>\n    <tr>\n      <th>0</th>\n      <td>001031606376411126</td>\n      <td>829.0</td>\n      <td>209.0</td>\n      <td>620.0</td>\n      <td>829.0</td>\n    </tr>\n    <tr>\n      <th>1</th>\n      <td>001031707754001033</td>\n      <td>759.0</td>\n      <td>722.0</td>\n      <td>37.0</td>\n      <td>759.0</td>\n    </tr>\n    <tr>\n      <th>2</th>\n      <td>0010317077778GDPUB</td>\n      <td>2114.0</td>\n      <td>1116.0</td>\n      <td>998.0</td>\n      <td>2114.0</td>\n    </tr>\n    <tr>\n      <th>3</th>\n      <td>0010417078908GDPUB</td>\n      <td>1600.0</td>\n      <td>1600.0</td>\n      <td>0.0</td>\n      <td>1600.0</td>\n    </tr>\n    <tr>\n      <th>4</th>\n      <td>0010616066636GDPUB</td>\n      <td>3184.0</td>\n      <td>3000.0</td>\n      <td>184.0</td>\n      <td>3184.0</td>\n    </tr>\n    <tr>\n      <th>...</th>\n      <td>...</td>\n      <td>...</td>\n      <td>...</td>\n      <td>...</td>\n      <td>...</td>\n    </tr>\n    <tr>\n      <th>90214</th>\n      <td>973071703439411526</td>\n      <td>2985.0</td>\n      <td>2689.0</td>\n      <td>296.0</td>\n      <td>2985.0</td>\n    </tr>\n    <tr>\n      <th>90215</th>\n      <td>9731217036751GDPUB</td>\n      <td>787.0</td>\n      <td>0.0</td>\n      <td>787.0</td>\n      <td>787.0</td>\n    </tr>\n    <tr>\n      <th>90216</th>\n      <td>9740116110885GDPUB</td>\n      <td>472.0</td>\n      <td>0.0</td>\n      <td>472.0</td>\n      <td>472.0</td>\n    </tr>\n    <tr>\n      <th>90217</th>\n      <td>9740417140838GDPUB</td>\n      <td>1700.0</td>\n      <td>1700.0</td>\n      <td>0.0</td>\n      <td>1700.0</td>\n    </tr>\n    <tr>\n      <th>90218</th>\n      <td>974081714984011487</td>\n      <td>764.0</td>\n      <td>764.0</td>\n      <td>0.0</td>\n      <td>764.0</td>\n    </tr>\n  </tbody>\n</table>\n<p>90219 rows × 5 columns</p>\n</div>"
     },
     "execution_count": 35,
     "metadata": {},
     "output_type": "execute_result"
    }
   ],
   "source": [
    "bddbis['Ri + PFS']=bddbis['Ressources imposables mensuelles moyennes (RI)']+bddbis['Prestations familiales et sociales mensuelles moyennes (PFS)']\n",
    "bddbis"
   ],
   "metadata": {
    "collapsed": false,
    "pycharm": {
     "name": "#%%\n"
    }
   }
  },
  {
   "cell_type": "markdown",
   "source": [
    "### Mise en place des tranches de ressources mensuelles"
   ],
   "metadata": {
    "collapsed": false,
    "pycharm": {
     "name": "#%% md\n"
    }
   }
  },
  {
   "cell_type": "code",
   "execution_count": 36,
   "outputs": [
    {
     "data": {
      "text/plain": "            Numéro Unique  RM Moyennes  \\\n0      001031606376411126        829.0   \n1      001031707754001033        759.0   \n2      0010317077778GDPUB       2114.0   \n3      0010417078908GDPUB       1600.0   \n4      0010616066636GDPUB       3184.0   \n...                   ...          ...   \n90214  973071703439411526       2985.0   \n90215  9731217036751GDPUB        787.0   \n90216  9740116110885GDPUB        472.0   \n90217  9740417140838GDPUB       1700.0   \n90218  974081714984011487        764.0   \n\n       Ressources imposables mensuelles moyennes (RI)  \\\n0                                               209.0   \n1                                               722.0   \n2                                              1116.0   \n3                                              1600.0   \n4                                              3000.0   \n...                                               ...   \n90214                                          2689.0   \n90215                                             0.0   \n90216                                             0.0   \n90217                                          1700.0   \n90218                                           764.0   \n\n       Prestations familiales et sociales mensuelles moyennes (PFS)  Ri + PFS  \\\n0                                                  620.0                829.0   \n1                                                   37.0                759.0   \n2                                                  998.0               2114.0   \n3                                                    0.0               1600.0   \n4                                                  184.0               3184.0   \n...                                                  ...                  ...   \n90214                                              296.0               2985.0   \n90215                                              787.0                787.0   \n90216                                              472.0                472.0   \n90217                                                0.0               1700.0   \n90218                                                0.0                764.0   \n\n       Tranches de ressources mensuelles (RM)  \n0                                       800.0  \n1                                       750.0  \n2                                      2100.0  \n3                                      1600.0  \n4                                      3150.0  \n...                                       ...  \n90214                                  2950.0  \n90215                                   750.0  \n90216                                   450.0  \n90217                                  1700.0  \n90218                                   750.0  \n\n[90219 rows x 6 columns]",
      "text/html": "<div>\n<style scoped>\n    .dataframe tbody tr th:only-of-type {\n        vertical-align: middle;\n    }\n\n    .dataframe tbody tr th {\n        vertical-align: top;\n    }\n\n    .dataframe thead th {\n        text-align: right;\n    }\n</style>\n<table border=\"1\" class=\"dataframe\">\n  <thead>\n    <tr style=\"text-align: right;\">\n      <th></th>\n      <th>Numéro Unique</th>\n      <th>RM Moyennes</th>\n      <th>Ressources imposables mensuelles moyennes (RI)</th>\n      <th>Prestations familiales et sociales mensuelles moyennes (PFS)</th>\n      <th>Ri + PFS</th>\n      <th>Tranches de ressources mensuelles (RM)</th>\n    </tr>\n  </thead>\n  <tbody>\n    <tr>\n      <th>0</th>\n      <td>001031606376411126</td>\n      <td>829.0</td>\n      <td>209.0</td>\n      <td>620.0</td>\n      <td>829.0</td>\n      <td>800.0</td>\n    </tr>\n    <tr>\n      <th>1</th>\n      <td>001031707754001033</td>\n      <td>759.0</td>\n      <td>722.0</td>\n      <td>37.0</td>\n      <td>759.0</td>\n      <td>750.0</td>\n    </tr>\n    <tr>\n      <th>2</th>\n      <td>0010317077778GDPUB</td>\n      <td>2114.0</td>\n      <td>1116.0</td>\n      <td>998.0</td>\n      <td>2114.0</td>\n      <td>2100.0</td>\n    </tr>\n    <tr>\n      <th>3</th>\n      <td>0010417078908GDPUB</td>\n      <td>1600.0</td>\n      <td>1600.0</td>\n      <td>0.0</td>\n      <td>1600.0</td>\n      <td>1600.0</td>\n    </tr>\n    <tr>\n      <th>4</th>\n      <td>0010616066636GDPUB</td>\n      <td>3184.0</td>\n      <td>3000.0</td>\n      <td>184.0</td>\n      <td>3184.0</td>\n      <td>3150.0</td>\n    </tr>\n    <tr>\n      <th>...</th>\n      <td>...</td>\n      <td>...</td>\n      <td>...</td>\n      <td>...</td>\n      <td>...</td>\n      <td>...</td>\n    </tr>\n    <tr>\n      <th>90214</th>\n      <td>973071703439411526</td>\n      <td>2985.0</td>\n      <td>2689.0</td>\n      <td>296.0</td>\n      <td>2985.0</td>\n      <td>2950.0</td>\n    </tr>\n    <tr>\n      <th>90215</th>\n      <td>9731217036751GDPUB</td>\n      <td>787.0</td>\n      <td>0.0</td>\n      <td>787.0</td>\n      <td>787.0</td>\n      <td>750.0</td>\n    </tr>\n    <tr>\n      <th>90216</th>\n      <td>9740116110885GDPUB</td>\n      <td>472.0</td>\n      <td>0.0</td>\n      <td>472.0</td>\n      <td>472.0</td>\n      <td>450.0</td>\n    </tr>\n    <tr>\n      <th>90217</th>\n      <td>9740417140838GDPUB</td>\n      <td>1700.0</td>\n      <td>1700.0</td>\n      <td>0.0</td>\n      <td>1700.0</td>\n      <td>1700.0</td>\n    </tr>\n    <tr>\n      <th>90218</th>\n      <td>974081714984011487</td>\n      <td>764.0</td>\n      <td>764.0</td>\n      <td>0.0</td>\n      <td>764.0</td>\n      <td>750.0</td>\n    </tr>\n  </tbody>\n</table>\n<p>90219 rows × 6 columns</p>\n</div>"
     },
     "execution_count": 36,
     "metadata": {},
     "output_type": "execute_result"
    }
   ],
   "source": [
    "bddbis['Tranches de ressources mensuelles (RM)']=0\n",
    "\n",
    "def decoupe(rl):\n",
    "    for i in range(0, 5000, 50):\n",
    "        if i<=rl and rl<i+50:\n",
    "            return i\n",
    "        elif rl>4950:\n",
    "            return 4950\n",
    "\n",
    "bddbis['Tranches de ressources mensuelles (RM)'] = bddbis['RM Moyennes'].apply(decoupe)\n",
    "bddbis"
   ],
   "metadata": {
    "collapsed": false,
    "pycharm": {
     "name": "#%%\n"
    }
   }
  },
  {
   "cell_type": "code",
   "execution_count": 37,
   "outputs": [],
   "source": [
    "#bddbis['Tranches de ressources mensuelles'].dropna()"
   ],
   "metadata": {
    "collapsed": false,
    "pycharm": {
     "name": "#%%\n"
    }
   }
  },
  {
   "cell_type": "code",
   "execution_count": 38,
   "outputs": [
    {
     "data": {
      "text/plain": "    Tranches de ressources mensuelles (RM)   RM Moyennes  \\\n0                                      0.0      1.672684   \n1                                     50.0     76.679612   \n2                                    100.0    121.608579   \n3                                    150.0    177.533163   \n4                                    200.0    219.331858   \n..                                     ...           ...   \n95                                  4750.0   4772.500000   \n96                                  4800.0   4836.000000   \n97                                  4850.0   4886.000000   \n98                                  4900.0   4944.000000   \n99                                  4950.0  15928.314286   \n\n    Ressources imposables mensuelles moyennes (RI)  \\\n0                                         0.870036   \n1                                        46.524272   \n2                                        38.654155   \n3                                        43.229592   \n4                                       126.845133   \n..                                             ...   \n95                                     4303.000000   \n96                                     3508.000000   \n97                                     4886.000000   \n98                                     4944.000000   \n99                                    14971.571429   \n\n    Prestations familiales et sociales mensuelles moyennes (PFS)      Ri + PFS  \n0                                            1.134777                 2.004813  \n1                                           43.747573                90.271845  \n2                                           91.989276               130.643432  \n3                                          139.877551               183.107143  \n4                                          103.331858               230.176991  \n..                                                ...                      ...  \n95                                         469.500000              4772.500000  \n96                                        1328.000000              4836.000000  \n97                                           0.000000              4886.000000  \n98                                           0.000000              4944.000000  \n99                                         995.814286             15967.385714  \n\n[100 rows x 5 columns]",
      "text/html": "<div>\n<style scoped>\n    .dataframe tbody tr th:only-of-type {\n        vertical-align: middle;\n    }\n\n    .dataframe tbody tr th {\n        vertical-align: top;\n    }\n\n    .dataframe thead th {\n        text-align: right;\n    }\n</style>\n<table border=\"1\" class=\"dataframe\">\n  <thead>\n    <tr style=\"text-align: right;\">\n      <th></th>\n      <th>Tranches de ressources mensuelles (RM)</th>\n      <th>RM Moyennes</th>\n      <th>Ressources imposables mensuelles moyennes (RI)</th>\n      <th>Prestations familiales et sociales mensuelles moyennes (PFS)</th>\n      <th>Ri + PFS</th>\n    </tr>\n  </thead>\n  <tbody>\n    <tr>\n      <th>0</th>\n      <td>0.0</td>\n      <td>1.672684</td>\n      <td>0.870036</td>\n      <td>1.134777</td>\n      <td>2.004813</td>\n    </tr>\n    <tr>\n      <th>1</th>\n      <td>50.0</td>\n      <td>76.679612</td>\n      <td>46.524272</td>\n      <td>43.747573</td>\n      <td>90.271845</td>\n    </tr>\n    <tr>\n      <th>2</th>\n      <td>100.0</td>\n      <td>121.608579</td>\n      <td>38.654155</td>\n      <td>91.989276</td>\n      <td>130.643432</td>\n    </tr>\n    <tr>\n      <th>3</th>\n      <td>150.0</td>\n      <td>177.533163</td>\n      <td>43.229592</td>\n      <td>139.877551</td>\n      <td>183.107143</td>\n    </tr>\n    <tr>\n      <th>4</th>\n      <td>200.0</td>\n      <td>219.331858</td>\n      <td>126.845133</td>\n      <td>103.331858</td>\n      <td>230.176991</td>\n    </tr>\n    <tr>\n      <th>...</th>\n      <td>...</td>\n      <td>...</td>\n      <td>...</td>\n      <td>...</td>\n      <td>...</td>\n    </tr>\n    <tr>\n      <th>95</th>\n      <td>4750.0</td>\n      <td>4772.500000</td>\n      <td>4303.000000</td>\n      <td>469.500000</td>\n      <td>4772.500000</td>\n    </tr>\n    <tr>\n      <th>96</th>\n      <td>4800.0</td>\n      <td>4836.000000</td>\n      <td>3508.000000</td>\n      <td>1328.000000</td>\n      <td>4836.000000</td>\n    </tr>\n    <tr>\n      <th>97</th>\n      <td>4850.0</td>\n      <td>4886.000000</td>\n      <td>4886.000000</td>\n      <td>0.000000</td>\n      <td>4886.000000</td>\n    </tr>\n    <tr>\n      <th>98</th>\n      <td>4900.0</td>\n      <td>4944.000000</td>\n      <td>4944.000000</td>\n      <td>0.000000</td>\n      <td>4944.000000</td>\n    </tr>\n    <tr>\n      <th>99</th>\n      <td>4950.0</td>\n      <td>15928.314286</td>\n      <td>14971.571429</td>\n      <td>995.814286</td>\n      <td>15967.385714</td>\n    </tr>\n  </tbody>\n</table>\n<p>100 rows × 5 columns</p>\n</div>"
     },
     "execution_count": 38,
     "metadata": {},
     "output_type": "execute_result"
    }
   ],
   "source": [
    "#bddbis.groupby(['Tranches de ressources mensuelles'])['Sales'].mean()\n",
    "x=bddbis.groupby('Tranches de ressources mensuelles (RM)').mean().reset_index()\n",
    "x"
   ],
   "metadata": {
    "collapsed": false,
    "pycharm": {
     "name": "#%%\n"
    }
   }
  },
  {
   "cell_type": "code",
   "execution_count": 39,
   "outputs": [
    {
     "data": {
      "text/plain": "     index  Tranches de ressources mensuelles (RM)\n0    450.0                                    5781\n1    800.0                                    5758\n2   1200.0                                    4190\n3   1300.0                                    3590\n4    900.0                                    3405\n..     ...                                     ...\n95  4850.0                                       1\n96  4800.0                                       1\n97  4900.0                                       1\n98  4650.0                                       1\n99  4350.0                                       1\n\n[100 rows x 2 columns]",
      "text/html": "<div>\n<style scoped>\n    .dataframe tbody tr th:only-of-type {\n        vertical-align: middle;\n    }\n\n    .dataframe tbody tr th {\n        vertical-align: top;\n    }\n\n    .dataframe thead th {\n        text-align: right;\n    }\n</style>\n<table border=\"1\" class=\"dataframe\">\n  <thead>\n    <tr style=\"text-align: right;\">\n      <th></th>\n      <th>index</th>\n      <th>Tranches de ressources mensuelles (RM)</th>\n    </tr>\n  </thead>\n  <tbody>\n    <tr>\n      <th>0</th>\n      <td>450.0</td>\n      <td>5781</td>\n    </tr>\n    <tr>\n      <th>1</th>\n      <td>800.0</td>\n      <td>5758</td>\n    </tr>\n    <tr>\n      <th>2</th>\n      <td>1200.0</td>\n      <td>4190</td>\n    </tr>\n    <tr>\n      <th>3</th>\n      <td>1300.0</td>\n      <td>3590</td>\n    </tr>\n    <tr>\n      <th>4</th>\n      <td>900.0</td>\n      <td>3405</td>\n    </tr>\n    <tr>\n      <th>...</th>\n      <td>...</td>\n      <td>...</td>\n    </tr>\n    <tr>\n      <th>95</th>\n      <td>4850.0</td>\n      <td>1</td>\n    </tr>\n    <tr>\n      <th>96</th>\n      <td>4800.0</td>\n      <td>1</td>\n    </tr>\n    <tr>\n      <th>97</th>\n      <td>4900.0</td>\n      <td>1</td>\n    </tr>\n    <tr>\n      <th>98</th>\n      <td>4650.0</td>\n      <td>1</td>\n    </tr>\n    <tr>\n      <th>99</th>\n      <td>4350.0</td>\n      <td>1</td>\n    </tr>\n  </tbody>\n</table>\n<p>100 rows × 2 columns</p>\n</div>"
     },
     "execution_count": 39,
     "metadata": {},
     "output_type": "execute_result"
    }
   ],
   "source": [
    "#x['Nombre de demandeurs'] = bddbis.groupby('Tranches de ressources mensuelles').count()\n",
    "y=bddbis['Tranches de ressources mensuelles (RM)'].value_counts()\n",
    "y=y.reset_index()\n",
    "y"
   ],
   "metadata": {
    "collapsed": false,
    "pycharm": {
     "name": "#%%\n"
    }
   }
  },
  {
   "cell_type": "code",
   "execution_count": 40,
   "outputs": [],
   "source": [
    "y=y.rename(columns={'index': 'Tranches de ressources mensuelles (RM)', \"Tranches de ressources mensuelles (RM)\": \"Nombre de demandeurs\"})"
   ],
   "metadata": {
    "collapsed": false,
    "pycharm": {
     "name": "#%%\n"
    }
   }
  },
  {
   "cell_type": "code",
   "execution_count": 41,
   "outputs": [
    {
     "data": {
      "text/plain": "    Tranches de ressources mensuelles (RM)  Nombre de demandeurs\n0                                    450.0                  5781\n1                                    800.0                  5758\n2                                   1200.0                  4190\n3                                   1300.0                  3590\n4                                    900.0                  3405\n..                                     ...                   ...\n95                                  4850.0                     1\n96                                  4800.0                     1\n97                                  4900.0                     1\n98                                  4650.0                     1\n99                                  4350.0                     1\n\n[100 rows x 2 columns]",
      "text/html": "<div>\n<style scoped>\n    .dataframe tbody tr th:only-of-type {\n        vertical-align: middle;\n    }\n\n    .dataframe tbody tr th {\n        vertical-align: top;\n    }\n\n    .dataframe thead th {\n        text-align: right;\n    }\n</style>\n<table border=\"1\" class=\"dataframe\">\n  <thead>\n    <tr style=\"text-align: right;\">\n      <th></th>\n      <th>Tranches de ressources mensuelles (RM)</th>\n      <th>Nombre de demandeurs</th>\n    </tr>\n  </thead>\n  <tbody>\n    <tr>\n      <th>0</th>\n      <td>450.0</td>\n      <td>5781</td>\n    </tr>\n    <tr>\n      <th>1</th>\n      <td>800.0</td>\n      <td>5758</td>\n    </tr>\n    <tr>\n      <th>2</th>\n      <td>1200.0</td>\n      <td>4190</td>\n    </tr>\n    <tr>\n      <th>3</th>\n      <td>1300.0</td>\n      <td>3590</td>\n    </tr>\n    <tr>\n      <th>4</th>\n      <td>900.0</td>\n      <td>3405</td>\n    </tr>\n    <tr>\n      <th>...</th>\n      <td>...</td>\n      <td>...</td>\n    </tr>\n    <tr>\n      <th>95</th>\n      <td>4850.0</td>\n      <td>1</td>\n    </tr>\n    <tr>\n      <th>96</th>\n      <td>4800.0</td>\n      <td>1</td>\n    </tr>\n    <tr>\n      <th>97</th>\n      <td>4900.0</td>\n      <td>1</td>\n    </tr>\n    <tr>\n      <th>98</th>\n      <td>4650.0</td>\n      <td>1</td>\n    </tr>\n    <tr>\n      <th>99</th>\n      <td>4350.0</td>\n      <td>1</td>\n    </tr>\n  </tbody>\n</table>\n<p>100 rows × 2 columns</p>\n</div>"
     },
     "execution_count": 41,
     "metadata": {},
     "output_type": "execute_result"
    }
   ],
   "source": [
    "y"
   ],
   "metadata": {
    "collapsed": false,
    "pycharm": {
     "name": "#%%\n"
    }
   }
  },
  {
   "cell_type": "code",
   "execution_count": 42,
   "outputs": [
    {
     "data": {
      "text/plain": "    Tranches de ressources mensuelles (RM)   RM Moyennes  \\\n0                                      0.0      1.672684   \n1                                     50.0     76.679612   \n2                                    100.0    121.608579   \n3                                    150.0    177.533163   \n4                                    200.0    219.331858   \n..                                     ...           ...   \n95                                  4750.0   4772.500000   \n96                                  4800.0   4836.000000   \n97                                  4850.0   4886.000000   \n98                                  4900.0   4944.000000   \n99                                  4950.0  15928.314286   \n\n    Ressources imposables mensuelles moyennes (RI)  \\\n0                                         0.870036   \n1                                        46.524272   \n2                                        38.654155   \n3                                        43.229592   \n4                                       126.845133   \n..                                             ...   \n95                                     4303.000000   \n96                                     3508.000000   \n97                                     4886.000000   \n98                                     4944.000000   \n99                                    14971.571429   \n\n    Prestations familiales et sociales mensuelles moyennes (PFS)  \\\n0                                            1.134777              \n1                                           43.747573              \n2                                           91.989276              \n3                                          139.877551              \n4                                          103.331858              \n..                                                ...              \n95                                         469.500000              \n96                                        1328.000000              \n97                                           0.000000              \n98                                           0.000000              \n99                                         995.814286              \n\n        Ri + PFS  Nombre de demandeurs  \n0       2.004813                   831  \n1      90.271845                   103  \n2     130.643432                   373  \n3     183.107143                   392  \n4     230.176991                   226  \n..           ...                   ...  \n95   4772.500000                     2  \n96   4836.000000                     1  \n97   4886.000000                     1  \n98   4944.000000                     1  \n99  15967.385714                   140  \n\n[100 rows x 6 columns]",
      "text/html": "<div>\n<style scoped>\n    .dataframe tbody tr th:only-of-type {\n        vertical-align: middle;\n    }\n\n    .dataframe tbody tr th {\n        vertical-align: top;\n    }\n\n    .dataframe thead th {\n        text-align: right;\n    }\n</style>\n<table border=\"1\" class=\"dataframe\">\n  <thead>\n    <tr style=\"text-align: right;\">\n      <th></th>\n      <th>Tranches de ressources mensuelles (RM)</th>\n      <th>RM Moyennes</th>\n      <th>Ressources imposables mensuelles moyennes (RI)</th>\n      <th>Prestations familiales et sociales mensuelles moyennes (PFS)</th>\n      <th>Ri + PFS</th>\n      <th>Nombre de demandeurs</th>\n    </tr>\n  </thead>\n  <tbody>\n    <tr>\n      <th>0</th>\n      <td>0.0</td>\n      <td>1.672684</td>\n      <td>0.870036</td>\n      <td>1.134777</td>\n      <td>2.004813</td>\n      <td>831</td>\n    </tr>\n    <tr>\n      <th>1</th>\n      <td>50.0</td>\n      <td>76.679612</td>\n      <td>46.524272</td>\n      <td>43.747573</td>\n      <td>90.271845</td>\n      <td>103</td>\n    </tr>\n    <tr>\n      <th>2</th>\n      <td>100.0</td>\n      <td>121.608579</td>\n      <td>38.654155</td>\n      <td>91.989276</td>\n      <td>130.643432</td>\n      <td>373</td>\n    </tr>\n    <tr>\n      <th>3</th>\n      <td>150.0</td>\n      <td>177.533163</td>\n      <td>43.229592</td>\n      <td>139.877551</td>\n      <td>183.107143</td>\n      <td>392</td>\n    </tr>\n    <tr>\n      <th>4</th>\n      <td>200.0</td>\n      <td>219.331858</td>\n      <td>126.845133</td>\n      <td>103.331858</td>\n      <td>230.176991</td>\n      <td>226</td>\n    </tr>\n    <tr>\n      <th>...</th>\n      <td>...</td>\n      <td>...</td>\n      <td>...</td>\n      <td>...</td>\n      <td>...</td>\n      <td>...</td>\n    </tr>\n    <tr>\n      <th>95</th>\n      <td>4750.0</td>\n      <td>4772.500000</td>\n      <td>4303.000000</td>\n      <td>469.500000</td>\n      <td>4772.500000</td>\n      <td>2</td>\n    </tr>\n    <tr>\n      <th>96</th>\n      <td>4800.0</td>\n      <td>4836.000000</td>\n      <td>3508.000000</td>\n      <td>1328.000000</td>\n      <td>4836.000000</td>\n      <td>1</td>\n    </tr>\n    <tr>\n      <th>97</th>\n      <td>4850.0</td>\n      <td>4886.000000</td>\n      <td>4886.000000</td>\n      <td>0.000000</td>\n      <td>4886.000000</td>\n      <td>1</td>\n    </tr>\n    <tr>\n      <th>98</th>\n      <td>4900.0</td>\n      <td>4944.000000</td>\n      <td>4944.000000</td>\n      <td>0.000000</td>\n      <td>4944.000000</td>\n      <td>1</td>\n    </tr>\n    <tr>\n      <th>99</th>\n      <td>4950.0</td>\n      <td>15928.314286</td>\n      <td>14971.571429</td>\n      <td>995.814286</td>\n      <td>15967.385714</td>\n      <td>140</td>\n    </tr>\n  </tbody>\n</table>\n<p>100 rows × 6 columns</p>\n</div>"
     },
     "execution_count": 42,
     "metadata": {},
     "output_type": "execute_result"
    }
   ],
   "source": [
    "final = x.merge(y, on='Tranches de ressources mensuelles (RM)', how='left')\n",
    "final"
   ],
   "metadata": {
    "collapsed": false,
    "pycharm": {
     "name": "#%%\n"
    }
   }
  },
  {
   "cell_type": "code",
   "execution_count": 43,
   "outputs": [],
   "source": [
    "final=final[['Tranches de ressources mensuelles (RM)', 'Nombre de demandeurs', 'RM Moyennes', 'Prestations familiales et sociales mensuelles moyennes (PFS)', 'Ressources imposables mensuelles moyennes (RI)', 'Ri + PFS']]"
   ],
   "metadata": {
    "collapsed": false,
    "pycharm": {
     "name": "#%%\n"
    }
   }
  },
  {
   "cell_type": "code",
   "execution_count": 27,
   "outputs": [
    {
     "data": {
      "text/plain": "    Tranches de ressources mensuelles (RM)  Nombre de demandeurs  \\\n0                                      0.0                   831   \n1                                     50.0                   103   \n2                                    100.0                   373   \n3                                    150.0                   392   \n4                                    200.0                   226   \n..                                     ...                   ...   \n95                                  4750.0                     2   \n96                                  4800.0                     1   \n97                                  4850.0                     1   \n98                                  4900.0                     1   \n99                                  4950.0                   140   \n\n     RM Moyennes  \\\n0       1.672684   \n1      76.679612   \n2     121.608579   \n3     177.533163   \n4     219.331858   \n..           ...   \n95   4772.500000   \n96   4836.000000   \n97   4886.000000   \n98   4944.000000   \n99  15928.314286   \n\n    Prestations familiales et sociales mensuelles moyennes (PFS)  \\\n0                                            1.134777              \n1                                           43.747573              \n2                                           91.989276              \n3                                          139.877551              \n4                                          103.331858              \n..                                                ...              \n95                                         469.500000              \n96                                        1328.000000              \n97                                           0.000000              \n98                                           0.000000              \n99                                         995.814286              \n\n    Ressources imposables mensuelles moyennes (RI)      Ri + PFS  \n0                                         0.870036      2.004813  \n1                                        46.524272     90.271845  \n2                                        38.654155    130.643432  \n3                                        43.229592    183.107143  \n4                                       126.845133    230.176991  \n..                                             ...           ...  \n95                                     4303.000000   4772.500000  \n96                                     3508.000000   4836.000000  \n97                                     4886.000000   4886.000000  \n98                                     4944.000000   4944.000000  \n99                                    14971.571429  15967.385714  \n\n[100 rows x 6 columns]",
      "text/html": "<div>\n<style scoped>\n    .dataframe tbody tr th:only-of-type {\n        vertical-align: middle;\n    }\n\n    .dataframe tbody tr th {\n        vertical-align: top;\n    }\n\n    .dataframe thead th {\n        text-align: right;\n    }\n</style>\n<table border=\"1\" class=\"dataframe\">\n  <thead>\n    <tr style=\"text-align: right;\">\n      <th></th>\n      <th>Tranches de ressources mensuelles (RM)</th>\n      <th>Nombre de demandeurs</th>\n      <th>RM Moyennes</th>\n      <th>Prestations familiales et sociales mensuelles moyennes (PFS)</th>\n      <th>Ressources imposables mensuelles moyennes (RI)</th>\n      <th>Ri + PFS</th>\n    </tr>\n  </thead>\n  <tbody>\n    <tr>\n      <th>0</th>\n      <td>0.0</td>\n      <td>831</td>\n      <td>1.672684</td>\n      <td>1.134777</td>\n      <td>0.870036</td>\n      <td>2.004813</td>\n    </tr>\n    <tr>\n      <th>1</th>\n      <td>50.0</td>\n      <td>103</td>\n      <td>76.679612</td>\n      <td>43.747573</td>\n      <td>46.524272</td>\n      <td>90.271845</td>\n    </tr>\n    <tr>\n      <th>2</th>\n      <td>100.0</td>\n      <td>373</td>\n      <td>121.608579</td>\n      <td>91.989276</td>\n      <td>38.654155</td>\n      <td>130.643432</td>\n    </tr>\n    <tr>\n      <th>3</th>\n      <td>150.0</td>\n      <td>392</td>\n      <td>177.533163</td>\n      <td>139.877551</td>\n      <td>43.229592</td>\n      <td>183.107143</td>\n    </tr>\n    <tr>\n      <th>4</th>\n      <td>200.0</td>\n      <td>226</td>\n      <td>219.331858</td>\n      <td>103.331858</td>\n      <td>126.845133</td>\n      <td>230.176991</td>\n    </tr>\n    <tr>\n      <th>...</th>\n      <td>...</td>\n      <td>...</td>\n      <td>...</td>\n      <td>...</td>\n      <td>...</td>\n      <td>...</td>\n    </tr>\n    <tr>\n      <th>95</th>\n      <td>4750.0</td>\n      <td>2</td>\n      <td>4772.500000</td>\n      <td>469.500000</td>\n      <td>4303.000000</td>\n      <td>4772.500000</td>\n    </tr>\n    <tr>\n      <th>96</th>\n      <td>4800.0</td>\n      <td>1</td>\n      <td>4836.000000</td>\n      <td>1328.000000</td>\n      <td>3508.000000</td>\n      <td>4836.000000</td>\n    </tr>\n    <tr>\n      <th>97</th>\n      <td>4850.0</td>\n      <td>1</td>\n      <td>4886.000000</td>\n      <td>0.000000</td>\n      <td>4886.000000</td>\n      <td>4886.000000</td>\n    </tr>\n    <tr>\n      <th>98</th>\n      <td>4900.0</td>\n      <td>1</td>\n      <td>4944.000000</td>\n      <td>0.000000</td>\n      <td>4944.000000</td>\n      <td>4944.000000</td>\n    </tr>\n    <tr>\n      <th>99</th>\n      <td>4950.0</td>\n      <td>140</td>\n      <td>15928.314286</td>\n      <td>995.814286</td>\n      <td>14971.571429</td>\n      <td>15967.385714</td>\n    </tr>\n  </tbody>\n</table>\n<p>100 rows × 6 columns</p>\n</div>"
     },
     "execution_count": 27,
     "metadata": {},
     "output_type": "execute_result"
    }
   ],
   "source": [
    "final=final.reset_index(drop=True)\n",
    "final"
   ],
   "metadata": {
    "collapsed": false,
    "pycharm": {
     "name": "#%%\n"
    }
   }
  },
  {
   "cell_type": "code",
   "execution_count": 401,
   "outputs": [],
   "source": [
    "file_name = 'Analyse des ressources v4.xlsx'\n",
    "final.to_excel(file_name)"
   ],
   "metadata": {
    "collapsed": false,
    "pycharm": {
     "name": "#%%\n"
    }
   }
  },
  {
   "cell_type": "markdown",
   "source": [
    "### Tableaux croisés RI / PFS"
   ],
   "metadata": {
    "collapsed": false,
    "pycharm": {
     "name": "#%% md\n"
    }
   }
  },
  {
   "cell_type": "code",
   "execution_count": 44,
   "outputs": [
    {
     "data": {
      "text/plain": "            Numéro Unique  RM Moyennes  \\\n0      001031606376411126        829.0   \n1      001031707754001033        759.0   \n2      0010317077778GDPUB       2114.0   \n3      0010417078908GDPUB       1600.0   \n4      0010616066636GDPUB       3184.0   \n...                   ...          ...   \n90214  973071703439411526       2985.0   \n90215  9731217036751GDPUB        787.0   \n90216  9740116110885GDPUB        472.0   \n90217  9740417140838GDPUB       1700.0   \n90218  974081714984011487        764.0   \n\n       Ressources imposables mensuelles moyennes (RI)  \\\n0                                               209.0   \n1                                               722.0   \n2                                              1116.0   \n3                                              1600.0   \n4                                              3000.0   \n...                                               ...   \n90214                                          2689.0   \n90215                                             0.0   \n90216                                             0.0   \n90217                                          1700.0   \n90218                                           764.0   \n\n       Prestations familiales et sociales mensuelles moyennes (PFS)  Ri + PFS  \\\n0                                                  620.0                829.0   \n1                                                   37.0                759.0   \n2                                                  998.0               2114.0   \n3                                                    0.0               1600.0   \n4                                                  184.0               3184.0   \n...                                                  ...                  ...   \n90214                                              296.0               2985.0   \n90215                                              787.0                787.0   \n90216                                              472.0                472.0   \n90217                                                0.0               1700.0   \n90218                                                0.0                764.0   \n\n       Tranches de ressources mensuelles (RM)  Tranches de RI  Tranches de PFS  \n0                                       800.0           200.0            600.0  \n1                                       750.0           700.0              0.0  \n2                                      2100.0          1100.0            950.0  \n3                                      1600.0          1600.0              0.0  \n4                                      3150.0             NaN            150.0  \n...                                       ...             ...              ...  \n90214                                  2950.0             NaN            250.0  \n90215                                   750.0             0.0            750.0  \n90216                                   450.0             0.0            450.0  \n90217                                  1700.0          1700.0              0.0  \n90218                                   750.0           750.0              0.0  \n\n[90219 rows x 8 columns]",
      "text/html": "<div>\n<style scoped>\n    .dataframe tbody tr th:only-of-type {\n        vertical-align: middle;\n    }\n\n    .dataframe tbody tr th {\n        vertical-align: top;\n    }\n\n    .dataframe thead th {\n        text-align: right;\n    }\n</style>\n<table border=\"1\" class=\"dataframe\">\n  <thead>\n    <tr style=\"text-align: right;\">\n      <th></th>\n      <th>Numéro Unique</th>\n      <th>RM Moyennes</th>\n      <th>Ressources imposables mensuelles moyennes (RI)</th>\n      <th>Prestations familiales et sociales mensuelles moyennes (PFS)</th>\n      <th>Ri + PFS</th>\n      <th>Tranches de ressources mensuelles (RM)</th>\n      <th>Tranches de RI</th>\n      <th>Tranches de PFS</th>\n    </tr>\n  </thead>\n  <tbody>\n    <tr>\n      <th>0</th>\n      <td>001031606376411126</td>\n      <td>829.0</td>\n      <td>209.0</td>\n      <td>620.0</td>\n      <td>829.0</td>\n      <td>800.0</td>\n      <td>200.0</td>\n      <td>600.0</td>\n    </tr>\n    <tr>\n      <th>1</th>\n      <td>001031707754001033</td>\n      <td>759.0</td>\n      <td>722.0</td>\n      <td>37.0</td>\n      <td>759.0</td>\n      <td>750.0</td>\n      <td>700.0</td>\n      <td>0.0</td>\n    </tr>\n    <tr>\n      <th>2</th>\n      <td>0010317077778GDPUB</td>\n      <td>2114.0</td>\n      <td>1116.0</td>\n      <td>998.0</td>\n      <td>2114.0</td>\n      <td>2100.0</td>\n      <td>1100.0</td>\n      <td>950.0</td>\n    </tr>\n    <tr>\n      <th>3</th>\n      <td>0010417078908GDPUB</td>\n      <td>1600.0</td>\n      <td>1600.0</td>\n      <td>0.0</td>\n      <td>1600.0</td>\n      <td>1600.0</td>\n      <td>1600.0</td>\n      <td>0.0</td>\n    </tr>\n    <tr>\n      <th>4</th>\n      <td>0010616066636GDPUB</td>\n      <td>3184.0</td>\n      <td>3000.0</td>\n      <td>184.0</td>\n      <td>3184.0</td>\n      <td>3150.0</td>\n      <td>NaN</td>\n      <td>150.0</td>\n    </tr>\n    <tr>\n      <th>...</th>\n      <td>...</td>\n      <td>...</td>\n      <td>...</td>\n      <td>...</td>\n      <td>...</td>\n      <td>...</td>\n      <td>...</td>\n      <td>...</td>\n    </tr>\n    <tr>\n      <th>90214</th>\n      <td>973071703439411526</td>\n      <td>2985.0</td>\n      <td>2689.0</td>\n      <td>296.0</td>\n      <td>2985.0</td>\n      <td>2950.0</td>\n      <td>NaN</td>\n      <td>250.0</td>\n    </tr>\n    <tr>\n      <th>90215</th>\n      <td>9731217036751GDPUB</td>\n      <td>787.0</td>\n      <td>0.0</td>\n      <td>787.0</td>\n      <td>787.0</td>\n      <td>750.0</td>\n      <td>0.0</td>\n      <td>750.0</td>\n    </tr>\n    <tr>\n      <th>90216</th>\n      <td>9740116110885GDPUB</td>\n      <td>472.0</td>\n      <td>0.0</td>\n      <td>472.0</td>\n      <td>472.0</td>\n      <td>450.0</td>\n      <td>0.0</td>\n      <td>450.0</td>\n    </tr>\n    <tr>\n      <th>90217</th>\n      <td>9740417140838GDPUB</td>\n      <td>1700.0</td>\n      <td>1700.0</td>\n      <td>0.0</td>\n      <td>1700.0</td>\n      <td>1700.0</td>\n      <td>1700.0</td>\n      <td>0.0</td>\n    </tr>\n    <tr>\n      <th>90218</th>\n      <td>974081714984011487</td>\n      <td>764.0</td>\n      <td>764.0</td>\n      <td>0.0</td>\n      <td>764.0</td>\n      <td>750.0</td>\n      <td>750.0</td>\n      <td>0.0</td>\n    </tr>\n  </tbody>\n</table>\n<p>90219 rows × 8 columns</p>\n</div>"
     },
     "execution_count": 44,
     "metadata": {},
     "output_type": "execute_result"
    }
   ],
   "source": [
    "bddbis['Tranches de RI']=0\n",
    "bddbis['Tranches de PFS']=0\n",
    "\n",
    "def decoupe2(rl):\n",
    "    for i in range(0, 2000, 50):\n",
    "        if i<=rl and rl<i+50:\n",
    "            return i\n",
    "        elif rl>2000:\n",
    "            return np.NaN\n",
    "\n",
    "bddbis['Tranches de RI'] = bddbis['Ressources imposables mensuelles moyennes (RI)'].apply(decoupe2)\n",
    "bddbis['Tranches de PFS'] = bddbis['Prestations familiales et sociales mensuelles moyennes (PFS)'].apply(decoupe2)\n",
    "bddbis"
   ],
   "metadata": {
    "collapsed": false,
    "pycharm": {
     "name": "#%%\n"
    }
   }
  },
  {
   "cell_type": "code",
   "execution_count": null,
   "outputs": [],
   "source": [],
   "metadata": {
    "collapsed": false,
    "pycharm": {
     "name": "#%%\n"
    }
   }
  },
  {
   "cell_type": "code",
   "execution_count": 45,
   "outputs": [
    {
     "data": {
      "text/plain": "       Tranches de RI  Tranches de PFS\n0               200.0            600.0\n1               700.0              0.0\n2              1100.0            950.0\n3              1600.0              0.0\n6               650.0              0.0\n...               ...              ...\n90213           400.0            100.0\n90215             0.0            750.0\n90216             0.0            450.0\n90217          1700.0              0.0\n90218           750.0              0.0\n\n[85480 rows x 2 columns]",
      "text/html": "<div>\n<style scoped>\n    .dataframe tbody tr th:only-of-type {\n        vertical-align: middle;\n    }\n\n    .dataframe tbody tr th {\n        vertical-align: top;\n    }\n\n    .dataframe thead th {\n        text-align: right;\n    }\n</style>\n<table border=\"1\" class=\"dataframe\">\n  <thead>\n    <tr style=\"text-align: right;\">\n      <th></th>\n      <th>Tranches de RI</th>\n      <th>Tranches de PFS</th>\n    </tr>\n  </thead>\n  <tbody>\n    <tr>\n      <th>0</th>\n      <td>200.0</td>\n      <td>600.0</td>\n    </tr>\n    <tr>\n      <th>1</th>\n      <td>700.0</td>\n      <td>0.0</td>\n    </tr>\n    <tr>\n      <th>2</th>\n      <td>1100.0</td>\n      <td>950.0</td>\n    </tr>\n    <tr>\n      <th>3</th>\n      <td>1600.0</td>\n      <td>0.0</td>\n    </tr>\n    <tr>\n      <th>6</th>\n      <td>650.0</td>\n      <td>0.0</td>\n    </tr>\n    <tr>\n      <th>...</th>\n      <td>...</td>\n      <td>...</td>\n    </tr>\n    <tr>\n      <th>90213</th>\n      <td>400.0</td>\n      <td>100.0</td>\n    </tr>\n    <tr>\n      <th>90215</th>\n      <td>0.0</td>\n      <td>750.0</td>\n    </tr>\n    <tr>\n      <th>90216</th>\n      <td>0.0</td>\n      <td>450.0</td>\n    </tr>\n    <tr>\n      <th>90217</th>\n      <td>1700.0</td>\n      <td>0.0</td>\n    </tr>\n    <tr>\n      <th>90218</th>\n      <td>750.0</td>\n      <td>0.0</td>\n    </tr>\n  </tbody>\n</table>\n<p>85480 rows × 2 columns</p>\n</div>"
     },
     "execution_count": 45,
     "metadata": {},
     "output_type": "execute_result"
    }
   ],
   "source": [
    "tableau=bddbis[['Tranches de RI', 'Tranches de PFS']]\n",
    "tableau=tableau.dropna()\n",
    "tableau"
   ],
   "metadata": {
    "collapsed": false,
    "pycharm": {
     "name": "#%%\n"
    }
   }
  },
  {
   "cell_type": "code",
   "execution_count": 47,
   "outputs": [
    {
     "data": {
      "text/plain": "Tranches de PFS  0.0     50.0    100.0   150.0   200.0   250.0   300.0   \\\nTranches de RI                                                            \n0.0                 833      50     273     300      89     141     266   \n50.0                 53       1       6       5       2       4      17   \n100.0                98       1       8      20       4       7      24   \n150.0                83       2      10       8       7       7      24   \n200.0               115       1      15      18      12      23      23   \n250.0               110       1      17      17      12      20      20   \n300.0               180       5      29      37      10      17      27   \n350.0               156       7      38      17       8      13      77   \n400.0               230      23      22      22      12      17      29   \n450.0               850      10      38      33      18      30      44   \n500.0              1140      16      58      56      43      43      67   \n550.0               536      17      46      38      35      19      31   \n600.0               636      24      52      57      45      31      39   \n650.0               792      20      92      73      75      42      43   \n700.0              1002      22     132      75      52      37      52   \n750.0               963      24      66      54      46      24      28   \n800.0              1885      15     105      93      60      28      42   \n850.0              1324      14      81     126      47      33      50   \n900.0              1670      23      97     111      38      34      61   \n950.0              1465      10      99      96      37      33      62   \n1000.0             1893      21     100      98      30      33      57   \n1050.0             1309      28      90      61      18      23      42   \n1100.0             2148      31     153     116      26      30      51   \n1150.0             1833      42     108      89      30      30      58   \n1200.0             3061      48     177     125      27      44      83   \n1250.0             1892      33     114      88      35      31      51   \n1300.0             2477      33     156     103      35      46      70   \n1350.0             1667      34     110      73      21      33      50   \n1400.0             2163      23     117     100      22      38      71   \n1450.0             1483      20     108      66      21      29      57   \n1500.0             2194      25     127      74      18      39      75   \n1550.0             1098      13      95      39       6      23      34   \n1600.0             1592      13      96      69      17      27      43   \n1650.0              894      10      63      42      12      11      33   \n1700.0             1184      16     104      49      15      12      25   \n1750.0              694      17      47      38       8      15      22   \n1800.0             1014       9      57      37      11      11      26   \n1850.0              523       6      43      19       1      12      19   \n1900.0              674       8      41      34       4       9      25   \n1950.0              373      12      42      13       5       5      14   \n\nTranches de PFS  350.0   400.0   450.0   ...  1500.0  1550.0  1600.0  1650.0  \\\nTranches de RI                           ...                                   \n0.0                 155     350    4737  ...      82      59      80      49   \n50.0                 10       8      63  ...       2       3       3       2   \n100.0                25      21      61  ...       5       2       7       2   \n150.0                22      13      63  ...       2       0       1       1   \n200.0                20      17      89  ...       9      10       5       5   \n250.0                15      13     126  ...       3       4       0       3   \n300.0                24      27      53  ...       7       6       4       0   \n350.0                14      30      73  ...       7       2       2       2   \n400.0                21      27      56  ...       2       5       3       3   \n450.0                24      29      51  ...       5       5       0       2   \n500.0                30      45      58  ...       5       2       6       0   \n550.0                24      23      39  ...       3       3       3       1   \n600.0                31      32      50  ...       2       2       6       1   \n650.0                24      47      56  ...       5       2       1       0   \n700.0                30      32      52  ...       0       4       1       0   \n750.0                24      25      41  ...       0       1       0       1   \n800.0                26      41      61  ...       1       1       2       0   \n850.0                21      20      46  ...       0       3       2       0   \n900.0                42      34      44  ...       0       1       0       1   \n950.0                30      22      45  ...       3       0       0       0   \n1000.0               32      20      37  ...       0       0       0       0   \n1050.0               17      18      27  ...       2       0       1       0   \n1100.0               32      26      59  ...       2       0       1       1   \n1150.0               24      31      47  ...       1       1       0       0   \n1200.0               34      38      62  ...       2       1       0       0   \n1250.0               18      14      42  ...       0       1       0       1   \n1300.0               21      26      56  ...       1       1       1       0   \n1350.0               14      16      41  ...       0       0       1       0   \n1400.0               29      16      43  ...       2       0       0       0   \n1450.0               13      15      29  ...       1       2       0       1   \n1500.0               20      12      52  ...       2       1       0       0   \n1550.0               18      16      30  ...       0       0       0       0   \n1600.0               12      21      39  ...       0       1       1       0   \n1650.0                7      11      17  ...       1       0       0       0   \n1700.0               14      13      25  ...       0       0       0       1   \n1750.0                7       4      25  ...       1       0       0       0   \n1800.0               11       7      27  ...       0       0       0       0   \n1850.0                8       4      12  ...       0       0       1       0   \n1900.0                7       5      12  ...       0       0       0       0   \n1950.0                6       6      15  ...       0       0       0       0   \n\nTranches de PFS  1700.0  1750.0  1800.0  1850.0  1900.0  1950.0  \nTranches de RI                                                   \n0.0                  51      31      37      17      25      24  \n50.0                  0       0       2       0       0       0  \n100.0                 6       2       3       3       1       0  \n150.0                 1       2       0       0       1       0  \n200.0                 5       4       4       0       3       1  \n250.0                 1       2       0       1       3       1  \n300.0                 1       3       1       1       1       0  \n350.0                 0       2       0       0       0       0  \n400.0                 2       0       1       1       1       0  \n450.0                 0       4       0       0       1       1  \n500.0                 4       0       2       0       1       0  \n550.0                 3       2       1       0       1       1  \n600.0                 3       1       1       1       0       1  \n650.0                 2       3       2       2       1       1  \n700.0                 0       0       0       0       0       0  \n750.0                 1       1       1       0       0       0  \n800.0                 0       2       2       0       0       1  \n850.0                 4       0       1       1       0       1  \n900.0                 1       0       0       1       0       1  \n950.0                 1       2       0       0       0       0  \n1000.0                0       0       0       0       0       0  \n1050.0                0       0       0       1       0       0  \n1100.0                0       0       0       0       0       0  \n1150.0                0       1       1       0       0       0  \n1200.0                1       0       1       1       0       0  \n1250.0                0       1       0       0       0       0  \n1300.0                1       0       0       0       0       1  \n1350.0                0       0       0       0       0       1  \n1400.0                0       0       1       0       0       0  \n1450.0                0       0       0       0       0       0  \n1500.0                1       0       2       0       0       1  \n1550.0                0       0       0       0       0       0  \n1600.0                0       0       1       0       0       0  \n1650.0                0       0       0       0       0       0  \n1700.0                1       1       1       0       0       0  \n1750.0                0       1       0       0       0       0  \n1800.0                1       0       0       0       0       0  \n1850.0                0       0       0       0       0       0  \n1900.0                0       0       0       1       0       0  \n1950.0                0       0       0       0       0       0  \n\n[40 rows x 40 columns]",
      "text/html": "<div>\n<style scoped>\n    .dataframe tbody tr th:only-of-type {\n        vertical-align: middle;\n    }\n\n    .dataframe tbody tr th {\n        vertical-align: top;\n    }\n\n    .dataframe thead th {\n        text-align: right;\n    }\n</style>\n<table border=\"1\" class=\"dataframe\">\n  <thead>\n    <tr style=\"text-align: right;\">\n      <th>Tranches de PFS</th>\n      <th>0.0</th>\n      <th>50.0</th>\n      <th>100.0</th>\n      <th>150.0</th>\n      <th>200.0</th>\n      <th>250.0</th>\n      <th>300.0</th>\n      <th>350.0</th>\n      <th>400.0</th>\n      <th>450.0</th>\n      <th>...</th>\n      <th>1500.0</th>\n      <th>1550.0</th>\n      <th>1600.0</th>\n      <th>1650.0</th>\n      <th>1700.0</th>\n      <th>1750.0</th>\n      <th>1800.0</th>\n      <th>1850.0</th>\n      <th>1900.0</th>\n      <th>1950.0</th>\n    </tr>\n    <tr>\n      <th>Tranches de RI</th>\n      <th></th>\n      <th></th>\n      <th></th>\n      <th></th>\n      <th></th>\n      <th></th>\n      <th></th>\n      <th></th>\n      <th></th>\n      <th></th>\n      <th></th>\n      <th></th>\n      <th></th>\n      <th></th>\n      <th></th>\n      <th></th>\n      <th></th>\n      <th></th>\n      <th></th>\n      <th></th>\n      <th></th>\n    </tr>\n  </thead>\n  <tbody>\n    <tr>\n      <th>0.0</th>\n      <td>833</td>\n      <td>50</td>\n      <td>273</td>\n      <td>300</td>\n      <td>89</td>\n      <td>141</td>\n      <td>266</td>\n      <td>155</td>\n      <td>350</td>\n      <td>4737</td>\n      <td>...</td>\n      <td>82</td>\n      <td>59</td>\n      <td>80</td>\n      <td>49</td>\n      <td>51</td>\n      <td>31</td>\n      <td>37</td>\n      <td>17</td>\n      <td>25</td>\n      <td>24</td>\n    </tr>\n    <tr>\n      <th>50.0</th>\n      <td>53</td>\n      <td>1</td>\n      <td>6</td>\n      <td>5</td>\n      <td>2</td>\n      <td>4</td>\n      <td>17</td>\n      <td>10</td>\n      <td>8</td>\n      <td>63</td>\n      <td>...</td>\n      <td>2</td>\n      <td>3</td>\n      <td>3</td>\n      <td>2</td>\n      <td>0</td>\n      <td>0</td>\n      <td>2</td>\n      <td>0</td>\n      <td>0</td>\n      <td>0</td>\n    </tr>\n    <tr>\n      <th>100.0</th>\n      <td>98</td>\n      <td>1</td>\n      <td>8</td>\n      <td>20</td>\n      <td>4</td>\n      <td>7</td>\n      <td>24</td>\n      <td>25</td>\n      <td>21</td>\n      <td>61</td>\n      <td>...</td>\n      <td>5</td>\n      <td>2</td>\n      <td>7</td>\n      <td>2</td>\n      <td>6</td>\n      <td>2</td>\n      <td>3</td>\n      <td>3</td>\n      <td>1</td>\n      <td>0</td>\n    </tr>\n    <tr>\n      <th>150.0</th>\n      <td>83</td>\n      <td>2</td>\n      <td>10</td>\n      <td>8</td>\n      <td>7</td>\n      <td>7</td>\n      <td>24</td>\n      <td>22</td>\n      <td>13</td>\n      <td>63</td>\n      <td>...</td>\n      <td>2</td>\n      <td>0</td>\n      <td>1</td>\n      <td>1</td>\n      <td>1</td>\n      <td>2</td>\n      <td>0</td>\n      <td>0</td>\n      <td>1</td>\n      <td>0</td>\n    </tr>\n    <tr>\n      <th>200.0</th>\n      <td>115</td>\n      <td>1</td>\n      <td>15</td>\n      <td>18</td>\n      <td>12</td>\n      <td>23</td>\n      <td>23</td>\n      <td>20</td>\n      <td>17</td>\n      <td>89</td>\n      <td>...</td>\n      <td>9</td>\n      <td>10</td>\n      <td>5</td>\n      <td>5</td>\n      <td>5</td>\n      <td>4</td>\n      <td>4</td>\n      <td>0</td>\n      <td>3</td>\n      <td>1</td>\n    </tr>\n    <tr>\n      <th>250.0</th>\n      <td>110</td>\n      <td>1</td>\n      <td>17</td>\n      <td>17</td>\n      <td>12</td>\n      <td>20</td>\n      <td>20</td>\n      <td>15</td>\n      <td>13</td>\n      <td>126</td>\n      <td>...</td>\n      <td>3</td>\n      <td>4</td>\n      <td>0</td>\n      <td>3</td>\n      <td>1</td>\n      <td>2</td>\n      <td>0</td>\n      <td>1</td>\n      <td>3</td>\n      <td>1</td>\n    </tr>\n    <tr>\n      <th>300.0</th>\n      <td>180</td>\n      <td>5</td>\n      <td>29</td>\n      <td>37</td>\n      <td>10</td>\n      <td>17</td>\n      <td>27</td>\n      <td>24</td>\n      <td>27</td>\n      <td>53</td>\n      <td>...</td>\n      <td>7</td>\n      <td>6</td>\n      <td>4</td>\n      <td>0</td>\n      <td>1</td>\n      <td>3</td>\n      <td>1</td>\n      <td>1</td>\n      <td>1</td>\n      <td>0</td>\n    </tr>\n    <tr>\n      <th>350.0</th>\n      <td>156</td>\n      <td>7</td>\n      <td>38</td>\n      <td>17</td>\n      <td>8</td>\n      <td>13</td>\n      <td>77</td>\n      <td>14</td>\n      <td>30</td>\n      <td>73</td>\n      <td>...</td>\n      <td>7</td>\n      <td>2</td>\n      <td>2</td>\n      <td>2</td>\n      <td>0</td>\n      <td>2</td>\n      <td>0</td>\n      <td>0</td>\n      <td>0</td>\n      <td>0</td>\n    </tr>\n    <tr>\n      <th>400.0</th>\n      <td>230</td>\n      <td>23</td>\n      <td>22</td>\n      <td>22</td>\n      <td>12</td>\n      <td>17</td>\n      <td>29</td>\n      <td>21</td>\n      <td>27</td>\n      <td>56</td>\n      <td>...</td>\n      <td>2</td>\n      <td>5</td>\n      <td>3</td>\n      <td>3</td>\n      <td>2</td>\n      <td>0</td>\n      <td>1</td>\n      <td>1</td>\n      <td>1</td>\n      <td>0</td>\n    </tr>\n    <tr>\n      <th>450.0</th>\n      <td>850</td>\n      <td>10</td>\n      <td>38</td>\n      <td>33</td>\n      <td>18</td>\n      <td>30</td>\n      <td>44</td>\n      <td>24</td>\n      <td>29</td>\n      <td>51</td>\n      <td>...</td>\n      <td>5</td>\n      <td>5</td>\n      <td>0</td>\n      <td>2</td>\n      <td>0</td>\n      <td>4</td>\n      <td>0</td>\n      <td>0</td>\n      <td>1</td>\n      <td>1</td>\n    </tr>\n    <tr>\n      <th>500.0</th>\n      <td>1140</td>\n      <td>16</td>\n      <td>58</td>\n      <td>56</td>\n      <td>43</td>\n      <td>43</td>\n      <td>67</td>\n      <td>30</td>\n      <td>45</td>\n      <td>58</td>\n      <td>...</td>\n      <td>5</td>\n      <td>2</td>\n      <td>6</td>\n      <td>0</td>\n      <td>4</td>\n      <td>0</td>\n      <td>2</td>\n      <td>0</td>\n      <td>1</td>\n      <td>0</td>\n    </tr>\n    <tr>\n      <th>550.0</th>\n      <td>536</td>\n      <td>17</td>\n      <td>46</td>\n      <td>38</td>\n      <td>35</td>\n      <td>19</td>\n      <td>31</td>\n      <td>24</td>\n      <td>23</td>\n      <td>39</td>\n      <td>...</td>\n      <td>3</td>\n      <td>3</td>\n      <td>3</td>\n      <td>1</td>\n      <td>3</td>\n      <td>2</td>\n      <td>1</td>\n      <td>0</td>\n      <td>1</td>\n      <td>1</td>\n    </tr>\n    <tr>\n      <th>600.0</th>\n      <td>636</td>\n      <td>24</td>\n      <td>52</td>\n      <td>57</td>\n      <td>45</td>\n      <td>31</td>\n      <td>39</td>\n      <td>31</td>\n      <td>32</td>\n      <td>50</td>\n      <td>...</td>\n      <td>2</td>\n      <td>2</td>\n      <td>6</td>\n      <td>1</td>\n      <td>3</td>\n      <td>1</td>\n      <td>1</td>\n      <td>1</td>\n      <td>0</td>\n      <td>1</td>\n    </tr>\n    <tr>\n      <th>650.0</th>\n      <td>792</td>\n      <td>20</td>\n      <td>92</td>\n      <td>73</td>\n      <td>75</td>\n      <td>42</td>\n      <td>43</td>\n      <td>24</td>\n      <td>47</td>\n      <td>56</td>\n      <td>...</td>\n      <td>5</td>\n      <td>2</td>\n      <td>1</td>\n      <td>0</td>\n      <td>2</td>\n      <td>3</td>\n      <td>2</td>\n      <td>2</td>\n      <td>1</td>\n      <td>1</td>\n    </tr>\n    <tr>\n      <th>700.0</th>\n      <td>1002</td>\n      <td>22</td>\n      <td>132</td>\n      <td>75</td>\n      <td>52</td>\n      <td>37</td>\n      <td>52</td>\n      <td>30</td>\n      <td>32</td>\n      <td>52</td>\n      <td>...</td>\n      <td>0</td>\n      <td>4</td>\n      <td>1</td>\n      <td>0</td>\n      <td>0</td>\n      <td>0</td>\n      <td>0</td>\n      <td>0</td>\n      <td>0</td>\n      <td>0</td>\n    </tr>\n    <tr>\n      <th>750.0</th>\n      <td>963</td>\n      <td>24</td>\n      <td>66</td>\n      <td>54</td>\n      <td>46</td>\n      <td>24</td>\n      <td>28</td>\n      <td>24</td>\n      <td>25</td>\n      <td>41</td>\n      <td>...</td>\n      <td>0</td>\n      <td>1</td>\n      <td>0</td>\n      <td>1</td>\n      <td>1</td>\n      <td>1</td>\n      <td>1</td>\n      <td>0</td>\n      <td>0</td>\n      <td>0</td>\n    </tr>\n    <tr>\n      <th>800.0</th>\n      <td>1885</td>\n      <td>15</td>\n      <td>105</td>\n      <td>93</td>\n      <td>60</td>\n      <td>28</td>\n      <td>42</td>\n      <td>26</td>\n      <td>41</td>\n      <td>61</td>\n      <td>...</td>\n      <td>1</td>\n      <td>1</td>\n      <td>2</td>\n      <td>0</td>\n      <td>0</td>\n      <td>2</td>\n      <td>2</td>\n      <td>0</td>\n      <td>0</td>\n      <td>1</td>\n    </tr>\n    <tr>\n      <th>850.0</th>\n      <td>1324</td>\n      <td>14</td>\n      <td>81</td>\n      <td>126</td>\n      <td>47</td>\n      <td>33</td>\n      <td>50</td>\n      <td>21</td>\n      <td>20</td>\n      <td>46</td>\n      <td>...</td>\n      <td>0</td>\n      <td>3</td>\n      <td>2</td>\n      <td>0</td>\n      <td>4</td>\n      <td>0</td>\n      <td>1</td>\n      <td>1</td>\n      <td>0</td>\n      <td>1</td>\n    </tr>\n    <tr>\n      <th>900.0</th>\n      <td>1670</td>\n      <td>23</td>\n      <td>97</td>\n      <td>111</td>\n      <td>38</td>\n      <td>34</td>\n      <td>61</td>\n      <td>42</td>\n      <td>34</td>\n      <td>44</td>\n      <td>...</td>\n      <td>0</td>\n      <td>1</td>\n      <td>0</td>\n      <td>1</td>\n      <td>1</td>\n      <td>0</td>\n      <td>0</td>\n      <td>1</td>\n      <td>0</td>\n      <td>1</td>\n    </tr>\n    <tr>\n      <th>950.0</th>\n      <td>1465</td>\n      <td>10</td>\n      <td>99</td>\n      <td>96</td>\n      <td>37</td>\n      <td>33</td>\n      <td>62</td>\n      <td>30</td>\n      <td>22</td>\n      <td>45</td>\n      <td>...</td>\n      <td>3</td>\n      <td>0</td>\n      <td>0</td>\n      <td>0</td>\n      <td>1</td>\n      <td>2</td>\n      <td>0</td>\n      <td>0</td>\n      <td>0</td>\n      <td>0</td>\n    </tr>\n    <tr>\n      <th>1000.0</th>\n      <td>1893</td>\n      <td>21</td>\n      <td>100</td>\n      <td>98</td>\n      <td>30</td>\n      <td>33</td>\n      <td>57</td>\n      <td>32</td>\n      <td>20</td>\n      <td>37</td>\n      <td>...</td>\n      <td>0</td>\n      <td>0</td>\n      <td>0</td>\n      <td>0</td>\n      <td>0</td>\n      <td>0</td>\n      <td>0</td>\n      <td>0</td>\n      <td>0</td>\n      <td>0</td>\n    </tr>\n    <tr>\n      <th>1050.0</th>\n      <td>1309</td>\n      <td>28</td>\n      <td>90</td>\n      <td>61</td>\n      <td>18</td>\n      <td>23</td>\n      <td>42</td>\n      <td>17</td>\n      <td>18</td>\n      <td>27</td>\n      <td>...</td>\n      <td>2</td>\n      <td>0</td>\n      <td>1</td>\n      <td>0</td>\n      <td>0</td>\n      <td>0</td>\n      <td>0</td>\n      <td>1</td>\n      <td>0</td>\n      <td>0</td>\n    </tr>\n    <tr>\n      <th>1100.0</th>\n      <td>2148</td>\n      <td>31</td>\n      <td>153</td>\n      <td>116</td>\n      <td>26</td>\n      <td>30</td>\n      <td>51</td>\n      <td>32</td>\n      <td>26</td>\n      <td>59</td>\n      <td>...</td>\n      <td>2</td>\n      <td>0</td>\n      <td>1</td>\n      <td>1</td>\n      <td>0</td>\n      <td>0</td>\n      <td>0</td>\n      <td>0</td>\n      <td>0</td>\n      <td>0</td>\n    </tr>\n    <tr>\n      <th>1150.0</th>\n      <td>1833</td>\n      <td>42</td>\n      <td>108</td>\n      <td>89</td>\n      <td>30</td>\n      <td>30</td>\n      <td>58</td>\n      <td>24</td>\n      <td>31</td>\n      <td>47</td>\n      <td>...</td>\n      <td>1</td>\n      <td>1</td>\n      <td>0</td>\n      <td>0</td>\n      <td>0</td>\n      <td>1</td>\n      <td>1</td>\n      <td>0</td>\n      <td>0</td>\n      <td>0</td>\n    </tr>\n    <tr>\n      <th>1200.0</th>\n      <td>3061</td>\n      <td>48</td>\n      <td>177</td>\n      <td>125</td>\n      <td>27</td>\n      <td>44</td>\n      <td>83</td>\n      <td>34</td>\n      <td>38</td>\n      <td>62</td>\n      <td>...</td>\n      <td>2</td>\n      <td>1</td>\n      <td>0</td>\n      <td>0</td>\n      <td>1</td>\n      <td>0</td>\n      <td>1</td>\n      <td>1</td>\n      <td>0</td>\n      <td>0</td>\n    </tr>\n    <tr>\n      <th>1250.0</th>\n      <td>1892</td>\n      <td>33</td>\n      <td>114</td>\n      <td>88</td>\n      <td>35</td>\n      <td>31</td>\n      <td>51</td>\n      <td>18</td>\n      <td>14</td>\n      <td>42</td>\n      <td>...</td>\n      <td>0</td>\n      <td>1</td>\n      <td>0</td>\n      <td>1</td>\n      <td>0</td>\n      <td>1</td>\n      <td>0</td>\n      <td>0</td>\n      <td>0</td>\n      <td>0</td>\n    </tr>\n    <tr>\n      <th>1300.0</th>\n      <td>2477</td>\n      <td>33</td>\n      <td>156</td>\n      <td>103</td>\n      <td>35</td>\n      <td>46</td>\n      <td>70</td>\n      <td>21</td>\n      <td>26</td>\n      <td>56</td>\n      <td>...</td>\n      <td>1</td>\n      <td>1</td>\n      <td>1</td>\n      <td>0</td>\n      <td>1</td>\n      <td>0</td>\n      <td>0</td>\n      <td>0</td>\n      <td>0</td>\n      <td>1</td>\n    </tr>\n    <tr>\n      <th>1350.0</th>\n      <td>1667</td>\n      <td>34</td>\n      <td>110</td>\n      <td>73</td>\n      <td>21</td>\n      <td>33</td>\n      <td>50</td>\n      <td>14</td>\n      <td>16</td>\n      <td>41</td>\n      <td>...</td>\n      <td>0</td>\n      <td>0</td>\n      <td>1</td>\n      <td>0</td>\n      <td>0</td>\n      <td>0</td>\n      <td>0</td>\n      <td>0</td>\n      <td>0</td>\n      <td>1</td>\n    </tr>\n    <tr>\n      <th>1400.0</th>\n      <td>2163</td>\n      <td>23</td>\n      <td>117</td>\n      <td>100</td>\n      <td>22</td>\n      <td>38</td>\n      <td>71</td>\n      <td>29</td>\n      <td>16</td>\n      <td>43</td>\n      <td>...</td>\n      <td>2</td>\n      <td>0</td>\n      <td>0</td>\n      <td>0</td>\n      <td>0</td>\n      <td>0</td>\n      <td>1</td>\n      <td>0</td>\n      <td>0</td>\n      <td>0</td>\n    </tr>\n    <tr>\n      <th>1450.0</th>\n      <td>1483</td>\n      <td>20</td>\n      <td>108</td>\n      <td>66</td>\n      <td>21</td>\n      <td>29</td>\n      <td>57</td>\n      <td>13</td>\n      <td>15</td>\n      <td>29</td>\n      <td>...</td>\n      <td>1</td>\n      <td>2</td>\n      <td>0</td>\n      <td>1</td>\n      <td>0</td>\n      <td>0</td>\n      <td>0</td>\n      <td>0</td>\n      <td>0</td>\n      <td>0</td>\n    </tr>\n    <tr>\n      <th>1500.0</th>\n      <td>2194</td>\n      <td>25</td>\n      <td>127</td>\n      <td>74</td>\n      <td>18</td>\n      <td>39</td>\n      <td>75</td>\n      <td>20</td>\n      <td>12</td>\n      <td>52</td>\n      <td>...</td>\n      <td>2</td>\n      <td>1</td>\n      <td>0</td>\n      <td>0</td>\n      <td>1</td>\n      <td>0</td>\n      <td>2</td>\n      <td>0</td>\n      <td>0</td>\n      <td>1</td>\n    </tr>\n    <tr>\n      <th>1550.0</th>\n      <td>1098</td>\n      <td>13</td>\n      <td>95</td>\n      <td>39</td>\n      <td>6</td>\n      <td>23</td>\n      <td>34</td>\n      <td>18</td>\n      <td>16</td>\n      <td>30</td>\n      <td>...</td>\n      <td>0</td>\n      <td>0</td>\n      <td>0</td>\n      <td>0</td>\n      <td>0</td>\n      <td>0</td>\n      <td>0</td>\n      <td>0</td>\n      <td>0</td>\n      <td>0</td>\n    </tr>\n    <tr>\n      <th>1600.0</th>\n      <td>1592</td>\n      <td>13</td>\n      <td>96</td>\n      <td>69</td>\n      <td>17</td>\n      <td>27</td>\n      <td>43</td>\n      <td>12</td>\n      <td>21</td>\n      <td>39</td>\n      <td>...</td>\n      <td>0</td>\n      <td>1</td>\n      <td>1</td>\n      <td>0</td>\n      <td>0</td>\n      <td>0</td>\n      <td>1</td>\n      <td>0</td>\n      <td>0</td>\n      <td>0</td>\n    </tr>\n    <tr>\n      <th>1650.0</th>\n      <td>894</td>\n      <td>10</td>\n      <td>63</td>\n      <td>42</td>\n      <td>12</td>\n      <td>11</td>\n      <td>33</td>\n      <td>7</td>\n      <td>11</td>\n      <td>17</td>\n      <td>...</td>\n      <td>1</td>\n      <td>0</td>\n      <td>0</td>\n      <td>0</td>\n      <td>0</td>\n      <td>0</td>\n      <td>0</td>\n      <td>0</td>\n      <td>0</td>\n      <td>0</td>\n    </tr>\n    <tr>\n      <th>1700.0</th>\n      <td>1184</td>\n      <td>16</td>\n      <td>104</td>\n      <td>49</td>\n      <td>15</td>\n      <td>12</td>\n      <td>25</td>\n      <td>14</td>\n      <td>13</td>\n      <td>25</td>\n      <td>...</td>\n      <td>0</td>\n      <td>0</td>\n      <td>0</td>\n      <td>1</td>\n      <td>1</td>\n      <td>1</td>\n      <td>1</td>\n      <td>0</td>\n      <td>0</td>\n      <td>0</td>\n    </tr>\n    <tr>\n      <th>1750.0</th>\n      <td>694</td>\n      <td>17</td>\n      <td>47</td>\n      <td>38</td>\n      <td>8</td>\n      <td>15</td>\n      <td>22</td>\n      <td>7</td>\n      <td>4</td>\n      <td>25</td>\n      <td>...</td>\n      <td>1</td>\n      <td>0</td>\n      <td>0</td>\n      <td>0</td>\n      <td>0</td>\n      <td>1</td>\n      <td>0</td>\n      <td>0</td>\n      <td>0</td>\n      <td>0</td>\n    </tr>\n    <tr>\n      <th>1800.0</th>\n      <td>1014</td>\n      <td>9</td>\n      <td>57</td>\n      <td>37</td>\n      <td>11</td>\n      <td>11</td>\n      <td>26</td>\n      <td>11</td>\n      <td>7</td>\n      <td>27</td>\n      <td>...</td>\n      <td>0</td>\n      <td>0</td>\n      <td>0</td>\n      <td>0</td>\n      <td>1</td>\n      <td>0</td>\n      <td>0</td>\n      <td>0</td>\n      <td>0</td>\n      <td>0</td>\n    </tr>\n    <tr>\n      <th>1850.0</th>\n      <td>523</td>\n      <td>6</td>\n      <td>43</td>\n      <td>19</td>\n      <td>1</td>\n      <td>12</td>\n      <td>19</td>\n      <td>8</td>\n      <td>4</td>\n      <td>12</td>\n      <td>...</td>\n      <td>0</td>\n      <td>0</td>\n      <td>1</td>\n      <td>0</td>\n      <td>0</td>\n      <td>0</td>\n      <td>0</td>\n      <td>0</td>\n      <td>0</td>\n      <td>0</td>\n    </tr>\n    <tr>\n      <th>1900.0</th>\n      <td>674</td>\n      <td>8</td>\n      <td>41</td>\n      <td>34</td>\n      <td>4</td>\n      <td>9</td>\n      <td>25</td>\n      <td>7</td>\n      <td>5</td>\n      <td>12</td>\n      <td>...</td>\n      <td>0</td>\n      <td>0</td>\n      <td>0</td>\n      <td>0</td>\n      <td>0</td>\n      <td>0</td>\n      <td>0</td>\n      <td>1</td>\n      <td>0</td>\n      <td>0</td>\n    </tr>\n    <tr>\n      <th>1950.0</th>\n      <td>373</td>\n      <td>12</td>\n      <td>42</td>\n      <td>13</td>\n      <td>5</td>\n      <td>5</td>\n      <td>14</td>\n      <td>6</td>\n      <td>6</td>\n      <td>15</td>\n      <td>...</td>\n      <td>0</td>\n      <td>0</td>\n      <td>0</td>\n      <td>0</td>\n      <td>0</td>\n      <td>0</td>\n      <td>0</td>\n      <td>0</td>\n      <td>0</td>\n      <td>0</td>\n    </tr>\n  </tbody>\n</table>\n<p>40 rows × 40 columns</p>\n</div>"
     },
     "execution_count": 47,
     "metadata": {},
     "output_type": "execute_result"
    }
   ],
   "source": [
    "#bddbis.pivot_table(index=\"Trancges de RI\", columns=\"Tranches de PFS\", values=\"value\", aggfunc=\"sum\")\n",
    "z=bddbis.pivot_table(index=\"Tranches de RI\", columns=\"Tranches de PFS\", values=\"Numéro Unique\",  aggfunc=\"size\", fill_value=0)\n",
    "z"
   ],
   "metadata": {
    "collapsed": false,
    "pycharm": {
     "name": "#%%\n"
    }
   }
  },
  {
   "cell_type": "code",
   "execution_count": 48,
   "outputs": [],
   "source": [
    "file_name = 'Tableau croisé v3.xlsx'\n",
    "z.to_excel(file_name)"
   ],
   "metadata": {
    "collapsed": false,
    "pycharm": {
     "name": "#%%\n"
    }
   }
  },
  {
   "cell_type": "code",
   "execution_count": 474,
   "outputs": [
    {
     "data": {
      "text/plain": "            Numéro Unique  RM Moyennes  \\\n3      0010217076033GDPUB       1200.0   \n4      001021707620301173       1200.0   \n5      001041707857711126        800.0   \n6      001041707861811126       1526.0   \n7      0010417079307GDPUB       1146.0   \n...                   ...          ...   \n80873  974091715322011487       2121.0   \n80875  974111715873511487       1725.0   \n80876  9741216133916GDPUB       2000.0   \n80877  9741216133920GDPUB        846.0   \n80878  9741217158325GDPUB         33.0   \n\n       Ressources imposables mensuelles moyennes (RI)  \\\n3                                              1200.0   \n4                                              1200.0   \n5                                               800.0   \n6                                              1526.0   \n7                                              1146.0   \n...                                               ...   \n80873                                          2083.0   \n80875                                          1725.0   \n80876                                          2000.0   \n80877                                           846.0   \n80878                                            33.0   \n\n       Prestations familiales et sociales mensuelles moyennes (PFS)  Ri + PFS  \\\n3                                                    0.0               1200.0   \n4                                                    0.0               1200.0   \n5                                                    0.0                800.0   \n6                                                    0.0               1526.0   \n7                                                    0.0               1146.0   \n...                                                  ...                  ...   \n80873                                               38.0               2121.0   \n80875                                                0.0               1725.0   \n80876                                                0.0               2000.0   \n80877                                                0.0                846.0   \n80878                                                0.0                 33.0   \n\n       Tranches de ressources mensuelles (RM)  Tranches de RI  Tranches de PFS  \n3                                      1200.0          1200.0              0.0  \n4                                      1200.0          1200.0              0.0  \n5                                       800.0           800.0              0.0  \n6                                      1500.0          1500.0              0.0  \n7                                      1100.0          1100.0              0.0  \n...                                       ...             ...              ...  \n80873                                  2100.0             NaN              0.0  \n80875                                  1700.0          1700.0              0.0  \n80876                                  2000.0          2000.0              0.0  \n80877                                   800.0           800.0              0.0  \n80878                                     0.0             0.0              0.0  \n\n[45525 rows x 8 columns]",
      "text/html": "<div>\n<style scoped>\n    .dataframe tbody tr th:only-of-type {\n        vertical-align: middle;\n    }\n\n    .dataframe tbody tr th {\n        vertical-align: top;\n    }\n\n    .dataframe thead th {\n        text-align: right;\n    }\n</style>\n<table border=\"1\" class=\"dataframe\">\n  <thead>\n    <tr style=\"text-align: right;\">\n      <th></th>\n      <th>Numéro Unique</th>\n      <th>RM Moyennes</th>\n      <th>Ressources imposables mensuelles moyennes (RI)</th>\n      <th>Prestations familiales et sociales mensuelles moyennes (PFS)</th>\n      <th>Ri + PFS</th>\n      <th>Tranches de ressources mensuelles (RM)</th>\n      <th>Tranches de RI</th>\n      <th>Tranches de PFS</th>\n    </tr>\n  </thead>\n  <tbody>\n    <tr>\n      <th>3</th>\n      <td>0010217076033GDPUB</td>\n      <td>1200.0</td>\n      <td>1200.0</td>\n      <td>0.0</td>\n      <td>1200.0</td>\n      <td>1200.0</td>\n      <td>1200.0</td>\n      <td>0.0</td>\n    </tr>\n    <tr>\n      <th>4</th>\n      <td>001021707620301173</td>\n      <td>1200.0</td>\n      <td>1200.0</td>\n      <td>0.0</td>\n      <td>1200.0</td>\n      <td>1200.0</td>\n      <td>1200.0</td>\n      <td>0.0</td>\n    </tr>\n    <tr>\n      <th>5</th>\n      <td>001041707857711126</td>\n      <td>800.0</td>\n      <td>800.0</td>\n      <td>0.0</td>\n      <td>800.0</td>\n      <td>800.0</td>\n      <td>800.0</td>\n      <td>0.0</td>\n    </tr>\n    <tr>\n      <th>6</th>\n      <td>001041707861811126</td>\n      <td>1526.0</td>\n      <td>1526.0</td>\n      <td>0.0</td>\n      <td>1526.0</td>\n      <td>1500.0</td>\n      <td>1500.0</td>\n      <td>0.0</td>\n    </tr>\n    <tr>\n      <th>7</th>\n      <td>0010417079307GDPUB</td>\n      <td>1146.0</td>\n      <td>1146.0</td>\n      <td>0.0</td>\n      <td>1146.0</td>\n      <td>1100.0</td>\n      <td>1100.0</td>\n      <td>0.0</td>\n    </tr>\n    <tr>\n      <th>...</th>\n      <td>...</td>\n      <td>...</td>\n      <td>...</td>\n      <td>...</td>\n      <td>...</td>\n      <td>...</td>\n      <td>...</td>\n      <td>...</td>\n    </tr>\n    <tr>\n      <th>80873</th>\n      <td>974091715322011487</td>\n      <td>2121.0</td>\n      <td>2083.0</td>\n      <td>38.0</td>\n      <td>2121.0</td>\n      <td>2100.0</td>\n      <td>NaN</td>\n      <td>0.0</td>\n    </tr>\n    <tr>\n      <th>80875</th>\n      <td>974111715873511487</td>\n      <td>1725.0</td>\n      <td>1725.0</td>\n      <td>0.0</td>\n      <td>1725.0</td>\n      <td>1700.0</td>\n      <td>1700.0</td>\n      <td>0.0</td>\n    </tr>\n    <tr>\n      <th>80876</th>\n      <td>9741216133916GDPUB</td>\n      <td>2000.0</td>\n      <td>2000.0</td>\n      <td>0.0</td>\n      <td>2000.0</td>\n      <td>2000.0</td>\n      <td>2000.0</td>\n      <td>0.0</td>\n    </tr>\n    <tr>\n      <th>80877</th>\n      <td>9741216133920GDPUB</td>\n      <td>846.0</td>\n      <td>846.0</td>\n      <td>0.0</td>\n      <td>846.0</td>\n      <td>800.0</td>\n      <td>800.0</td>\n      <td>0.0</td>\n    </tr>\n    <tr>\n      <th>80878</th>\n      <td>9741217158325GDPUB</td>\n      <td>33.0</td>\n      <td>33.0</td>\n      <td>0.0</td>\n      <td>33.0</td>\n      <td>0.0</td>\n      <td>0.0</td>\n      <td>0.0</td>\n    </tr>\n  </tbody>\n</table>\n<p>45525 rows × 8 columns</p>\n</div>"
     },
     "execution_count": 474,
     "metadata": {},
     "output_type": "execute_result"
    }
   ],
   "source": [
    "bddbis[bddbis['Tranches de PFS']==0]"
   ],
   "metadata": {
    "collapsed": false,
    "pycharm": {
     "name": "#%%\n"
    }
   }
  },
  {
   "cell_type": "code",
   "execution_count": 449,
   "outputs": [
    {
     "data": {
      "text/plain": "Tranches de RI\n0.0       13589\n50.0        347\n100.0      1227\n150.0       737\n200.0       837\n250.0       583\n300.0       680\n350.0       662\n400.0       650\n450.0      1060\n500.0      1558\n550.0       761\n600.0      1223\n650.0      1263\n700.0      1569\n750.0      1589\n800.0      2406\n850.0      1831\n900.0      2305\n950.0      2068\n1000.0     2420\n1050.0     1776\n1100.0     2790\n1150.0     2508\n1200.0     3849\n1250.0     2374\n1300.0     3084\n1350.0     2165\n1400.0     2844\n1450.0     1990\n1500.0     2952\n1550.0     1471\n1600.0     2083\n1650.0     1212\n1700.0     1500\n1750.0      868\n1800.0     1323\n1850.0      651\n1900.0      802\n1950.0      496\n2000.0      538\nName: Tranches de PFS, dtype: int64"
     },
     "execution_count": 449,
     "metadata": {},
     "output_type": "execute_result"
    }
   ],
   "source": [
    "shrank = tableau.groupby(by='Tranches de RI').count()['Tranches de PFS']\n",
    "shrank"
   ],
   "metadata": {
    "collapsed": false,
    "pycharm": {
     "name": "#%%\n"
    }
   }
  },
  {
   "cell_type": "code",
   "execution_count": null,
   "outputs": [],
   "source": [],
   "metadata": {
    "collapsed": false,
    "pycharm": {
     "name": "#%%\n"
    }
   }
  },
  {
   "cell_type": "code",
   "execution_count": 441,
   "outputs": [
    {
     "data": {
      "text/plain": "     index  Tranches de RI\n0      0.0           13589\n1   1200.0            3849\n2   1300.0            3084\n3   1500.0            2952\n4   1400.0            2844\n5   1100.0            2790\n6   1150.0            2508\n7   1000.0            2420\n8    800.0            2406\n9   1250.0            2374\n10   900.0            2305\n11  1350.0            2165\n12  1600.0            2083\n13   950.0            2068\n14  1450.0            1990\n15   850.0            1831\n16  1050.0            1776\n17   750.0            1589\n18   700.0            1569\n19   500.0            1558\n20  1700.0            1500\n21  1550.0            1471\n22  1800.0            1323\n23   650.0            1263\n24   100.0            1227\n25   600.0            1223\n26  1650.0            1212\n27   450.0            1060\n28  1750.0             868\n29   200.0             837\n30  1900.0             802\n31   550.0             761\n32   150.0             737\n33   300.0             680\n34   350.0             662\n35  1850.0             651\n36   400.0             650\n37   250.0             583\n38  2000.0             538\n39  1950.0             496\n40    50.0             347",
      "text/html": "<div>\n<style scoped>\n    .dataframe tbody tr th:only-of-type {\n        vertical-align: middle;\n    }\n\n    .dataframe tbody tr th {\n        vertical-align: top;\n    }\n\n    .dataframe thead th {\n        text-align: right;\n    }\n</style>\n<table border=\"1\" class=\"dataframe\">\n  <thead>\n    <tr style=\"text-align: right;\">\n      <th></th>\n      <th>index</th>\n      <th>Tranches de RI</th>\n    </tr>\n  </thead>\n  <tbody>\n    <tr>\n      <th>0</th>\n      <td>0.0</td>\n      <td>13589</td>\n    </tr>\n    <tr>\n      <th>1</th>\n      <td>1200.0</td>\n      <td>3849</td>\n    </tr>\n    <tr>\n      <th>2</th>\n      <td>1300.0</td>\n      <td>3084</td>\n    </tr>\n    <tr>\n      <th>3</th>\n      <td>1500.0</td>\n      <td>2952</td>\n    </tr>\n    <tr>\n      <th>4</th>\n      <td>1400.0</td>\n      <td>2844</td>\n    </tr>\n    <tr>\n      <th>5</th>\n      <td>1100.0</td>\n      <td>2790</td>\n    </tr>\n    <tr>\n      <th>6</th>\n      <td>1150.0</td>\n      <td>2508</td>\n    </tr>\n    <tr>\n      <th>7</th>\n      <td>1000.0</td>\n      <td>2420</td>\n    </tr>\n    <tr>\n      <th>8</th>\n      <td>800.0</td>\n      <td>2406</td>\n    </tr>\n    <tr>\n      <th>9</th>\n      <td>1250.0</td>\n      <td>2374</td>\n    </tr>\n    <tr>\n      <th>10</th>\n      <td>900.0</td>\n      <td>2305</td>\n    </tr>\n    <tr>\n      <th>11</th>\n      <td>1350.0</td>\n      <td>2165</td>\n    </tr>\n    <tr>\n      <th>12</th>\n      <td>1600.0</td>\n      <td>2083</td>\n    </tr>\n    <tr>\n      <th>13</th>\n      <td>950.0</td>\n      <td>2068</td>\n    </tr>\n    <tr>\n      <th>14</th>\n      <td>1450.0</td>\n      <td>1990</td>\n    </tr>\n    <tr>\n      <th>15</th>\n      <td>850.0</td>\n      <td>1831</td>\n    </tr>\n    <tr>\n      <th>16</th>\n      <td>1050.0</td>\n      <td>1776</td>\n    </tr>\n    <tr>\n      <th>17</th>\n      <td>750.0</td>\n      <td>1589</td>\n    </tr>\n    <tr>\n      <th>18</th>\n      <td>700.0</td>\n      <td>1569</td>\n    </tr>\n    <tr>\n      <th>19</th>\n      <td>500.0</td>\n      <td>1558</td>\n    </tr>\n    <tr>\n      <th>20</th>\n      <td>1700.0</td>\n      <td>1500</td>\n    </tr>\n    <tr>\n      <th>21</th>\n      <td>1550.0</td>\n      <td>1471</td>\n    </tr>\n    <tr>\n      <th>22</th>\n      <td>1800.0</td>\n      <td>1323</td>\n    </tr>\n    <tr>\n      <th>23</th>\n      <td>650.0</td>\n      <td>1263</td>\n    </tr>\n    <tr>\n      <th>24</th>\n      <td>100.0</td>\n      <td>1227</td>\n    </tr>\n    <tr>\n      <th>25</th>\n      <td>600.0</td>\n      <td>1223</td>\n    </tr>\n    <tr>\n      <th>26</th>\n      <td>1650.0</td>\n      <td>1212</td>\n    </tr>\n    <tr>\n      <th>27</th>\n      <td>450.0</td>\n      <td>1060</td>\n    </tr>\n    <tr>\n      <th>28</th>\n      <td>1750.0</td>\n      <td>868</td>\n    </tr>\n    <tr>\n      <th>29</th>\n      <td>200.0</td>\n      <td>837</td>\n    </tr>\n    <tr>\n      <th>30</th>\n      <td>1900.0</td>\n      <td>802</td>\n    </tr>\n    <tr>\n      <th>31</th>\n      <td>550.0</td>\n      <td>761</td>\n    </tr>\n    <tr>\n      <th>32</th>\n      <td>150.0</td>\n      <td>737</td>\n    </tr>\n    <tr>\n      <th>33</th>\n      <td>300.0</td>\n      <td>680</td>\n    </tr>\n    <tr>\n      <th>34</th>\n      <td>350.0</td>\n      <td>662</td>\n    </tr>\n    <tr>\n      <th>35</th>\n      <td>1850.0</td>\n      <td>651</td>\n    </tr>\n    <tr>\n      <th>36</th>\n      <td>400.0</td>\n      <td>650</td>\n    </tr>\n    <tr>\n      <th>37</th>\n      <td>250.0</td>\n      <td>583</td>\n    </tr>\n    <tr>\n      <th>38</th>\n      <td>2000.0</td>\n      <td>538</td>\n    </tr>\n    <tr>\n      <th>39</th>\n      <td>1950.0</td>\n      <td>496</td>\n    </tr>\n    <tr>\n      <th>40</th>\n      <td>50.0</td>\n      <td>347</td>\n    </tr>\n  </tbody>\n</table>\n</div>"
     },
     "execution_count": 441,
     "metadata": {},
     "output_type": "execute_result"
    }
   ],
   "source": [
    "def croix(c1, c2):\n",
    "    for i in range(0, 76640):\n",
    "        for j in range(0, 76640):\n",
    "            if c1 == 0:\n",
    "                if c2 ==0:\n",
    "                    df[i][j] =+1\n",
    "\n",
    "        return 0.3\n",
    "    else:\n",
    "        return 0\n",
    "\n",
    "base['C1'] = base['Rapport RL'].apply(c1)\n",
    "base"
   ],
   "metadata": {
    "collapsed": false,
    "pycharm": {
     "name": "#%%\n"
    }
   }
  },
  {
   "cell_type": "code",
   "execution_count": 439,
   "outputs": [
    {
     "data": {
      "text/plain": "    Tranches de RI      0\n0              0.0  13589\n1             50.0    347\n2            100.0   1227\n3            150.0    737\n4            200.0    837\n5            250.0    583\n6            300.0    680\n7            350.0    662\n8            400.0    650\n9            450.0   1060\n10           500.0   1558\n11           550.0    761\n12           600.0   1223\n13           650.0   1263\n14           700.0   1569\n15           750.0   1589\n16           800.0   2406\n17           850.0   1831\n18           900.0   2305\n19           950.0   2068\n20          1000.0   2420\n21          1050.0   1776\n22          1100.0   2790\n23          1150.0   2508\n24          1200.0   3849\n25          1250.0   2374\n26          1300.0   3084\n27          1350.0   2165\n28          1400.0   2844\n29          1450.0   1990\n30          1500.0   2952\n31          1550.0   1471\n32          1600.0   2083\n33          1650.0   1212\n34          1700.0   1500\n35          1750.0    868\n36          1800.0   1323\n37          1850.0    651\n38          1900.0    802\n39          1950.0    496\n40          2000.0    538",
      "text/html": "<div>\n<style scoped>\n    .dataframe tbody tr th:only-of-type {\n        vertical-align: middle;\n    }\n\n    .dataframe tbody tr th {\n        vertical-align: top;\n    }\n\n    .dataframe thead th {\n        text-align: right;\n    }\n</style>\n<table border=\"1\" class=\"dataframe\">\n  <thead>\n    <tr style=\"text-align: right;\">\n      <th></th>\n      <th>Tranches de RI</th>\n      <th>0</th>\n    </tr>\n  </thead>\n  <tbody>\n    <tr>\n      <th>0</th>\n      <td>0.0</td>\n      <td>13589</td>\n    </tr>\n    <tr>\n      <th>1</th>\n      <td>50.0</td>\n      <td>347</td>\n    </tr>\n    <tr>\n      <th>2</th>\n      <td>100.0</td>\n      <td>1227</td>\n    </tr>\n    <tr>\n      <th>3</th>\n      <td>150.0</td>\n      <td>737</td>\n    </tr>\n    <tr>\n      <th>4</th>\n      <td>200.0</td>\n      <td>837</td>\n    </tr>\n    <tr>\n      <th>5</th>\n      <td>250.0</td>\n      <td>583</td>\n    </tr>\n    <tr>\n      <th>6</th>\n      <td>300.0</td>\n      <td>680</td>\n    </tr>\n    <tr>\n      <th>7</th>\n      <td>350.0</td>\n      <td>662</td>\n    </tr>\n    <tr>\n      <th>8</th>\n      <td>400.0</td>\n      <td>650</td>\n    </tr>\n    <tr>\n      <th>9</th>\n      <td>450.0</td>\n      <td>1060</td>\n    </tr>\n    <tr>\n      <th>10</th>\n      <td>500.0</td>\n      <td>1558</td>\n    </tr>\n    <tr>\n      <th>11</th>\n      <td>550.0</td>\n      <td>761</td>\n    </tr>\n    <tr>\n      <th>12</th>\n      <td>600.0</td>\n      <td>1223</td>\n    </tr>\n    <tr>\n      <th>13</th>\n      <td>650.0</td>\n      <td>1263</td>\n    </tr>\n    <tr>\n      <th>14</th>\n      <td>700.0</td>\n      <td>1569</td>\n    </tr>\n    <tr>\n      <th>15</th>\n      <td>750.0</td>\n      <td>1589</td>\n    </tr>\n    <tr>\n      <th>16</th>\n      <td>800.0</td>\n      <td>2406</td>\n    </tr>\n    <tr>\n      <th>17</th>\n      <td>850.0</td>\n      <td>1831</td>\n    </tr>\n    <tr>\n      <th>18</th>\n      <td>900.0</td>\n      <td>2305</td>\n    </tr>\n    <tr>\n      <th>19</th>\n      <td>950.0</td>\n      <td>2068</td>\n    </tr>\n    <tr>\n      <th>20</th>\n      <td>1000.0</td>\n      <td>2420</td>\n    </tr>\n    <tr>\n      <th>21</th>\n      <td>1050.0</td>\n      <td>1776</td>\n    </tr>\n    <tr>\n      <th>22</th>\n      <td>1100.0</td>\n      <td>2790</td>\n    </tr>\n    <tr>\n      <th>23</th>\n      <td>1150.0</td>\n      <td>2508</td>\n    </tr>\n    <tr>\n      <th>24</th>\n      <td>1200.0</td>\n      <td>3849</td>\n    </tr>\n    <tr>\n      <th>25</th>\n      <td>1250.0</td>\n      <td>2374</td>\n    </tr>\n    <tr>\n      <th>26</th>\n      <td>1300.0</td>\n      <td>3084</td>\n    </tr>\n    <tr>\n      <th>27</th>\n      <td>1350.0</td>\n      <td>2165</td>\n    </tr>\n    <tr>\n      <th>28</th>\n      <td>1400.0</td>\n      <td>2844</td>\n    </tr>\n    <tr>\n      <th>29</th>\n      <td>1450.0</td>\n      <td>1990</td>\n    </tr>\n    <tr>\n      <th>30</th>\n      <td>1500.0</td>\n      <td>2952</td>\n    </tr>\n    <tr>\n      <th>31</th>\n      <td>1550.0</td>\n      <td>1471</td>\n    </tr>\n    <tr>\n      <th>32</th>\n      <td>1600.0</td>\n      <td>2083</td>\n    </tr>\n    <tr>\n      <th>33</th>\n      <td>1650.0</td>\n      <td>1212</td>\n    </tr>\n    <tr>\n      <th>34</th>\n      <td>1700.0</td>\n      <td>1500</td>\n    </tr>\n    <tr>\n      <th>35</th>\n      <td>1750.0</td>\n      <td>868</td>\n    </tr>\n    <tr>\n      <th>36</th>\n      <td>1800.0</td>\n      <td>1323</td>\n    </tr>\n    <tr>\n      <th>37</th>\n      <td>1850.0</td>\n      <td>651</td>\n    </tr>\n    <tr>\n      <th>38</th>\n      <td>1900.0</td>\n      <td>802</td>\n    </tr>\n    <tr>\n      <th>39</th>\n      <td>1950.0</td>\n      <td>496</td>\n    </tr>\n    <tr>\n      <th>40</th>\n      <td>2000.0</td>\n      <td>538</td>\n    </tr>\n  </tbody>\n</table>\n</div>"
     },
     "execution_count": 439,
     "metadata": {},
     "output_type": "execute_result"
    }
   ],
   "source": [
    "z.reset_index()"
   ],
   "metadata": {
    "collapsed": false,
    "pycharm": {
     "name": "#%%\n"
    }
   }
  },
  {
   "cell_type": "code",
   "execution_count": 437,
   "outputs": [
    {
     "data": {
      "text/plain": "Tranches de RI\n0.0       13589\n50.0        347\n100.0      1227\n150.0       737\n200.0       837\n250.0       583\n300.0       680\n350.0       662\n400.0       650\n450.0      1060\n500.0      1558\n550.0       761\n600.0      1223\n650.0      1263\n700.0      1569\n750.0      1589\n800.0      2406\n850.0      1831\n900.0      2305\n950.0      2068\n1000.0     2420\n1050.0     1776\n1100.0     2790\n1150.0     2508\n1200.0     3849\n1250.0     2374\n1300.0     3084\n1350.0     2165\n1400.0     2844\n1450.0     1990\n1500.0     2952\n1550.0     1471\n1600.0     2083\n1650.0     1212\n1700.0     1500\n1750.0      868\n1800.0     1323\n1850.0      651\n1900.0      802\n1950.0      496\n2000.0      538\ndtype: int64"
     },
     "execution_count": 437,
     "metadata": {},
     "output_type": "execute_result"
    }
   ],
   "source": [
    "z"
   ],
   "metadata": {
    "collapsed": false,
    "pycharm": {
     "name": "#%%\n"
    }
   }
  },
  {
   "cell_type": "code",
   "execution_count": null,
   "outputs": [],
   "source": [
    "pd.melt(df, id_vars=['A'], value_vars=['B'])"
   ],
   "metadata": {
    "collapsed": false,
    "pycharm": {
     "name": "#%%\n"
    }
   }
  }
 ],
 "metadata": {
  "kernelspec": {
   "display_name": "Python 3.10.5 ('housing_camille_env')",
   "language": "python",
   "name": "python3"
  },
  "language_info": {
   "codemirror_mode": {
    "name": "ipython",
    "version": 3
   },
   "file_extension": ".py",
   "mimetype": "text/x-python",
   "name": "python",
   "nbconvert_exporter": "python",
   "pygments_lexer": "ipython3",
   "version": "3.10.5"
  },
  "vscode": {
   "interpreter": {
    "hash": "8fad96bbbe6762c519f1fa3a0e80a714676148bdfa8f6cd3491511eec586cb93"
   }
  }
 },
 "nbformat": 4,
 "nbformat_minor": 0
}