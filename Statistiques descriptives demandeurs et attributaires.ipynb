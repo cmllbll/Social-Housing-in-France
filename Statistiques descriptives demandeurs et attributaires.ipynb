{
 "cells": [
  {
   "cell_type": "code",
   "execution_count": 2,
   "outputs": [
    {
     "name": "stdout",
     "output_type": "stream",
     "text": [
      "Collecting numpy\n",
      "  Using cached numpy-1.22.4-cp39-cp39-win_amd64.whl (14.7 MB)\n",
      "Installing collected packages: numpy\n",
      "Successfully installed numpy-1.22.4\n"
     ]
    },
    {
     "name": "stderr",
     "output_type": "stream",
     "text": [
      "WARNING: You are using pip version 21.2.4; however, version 22.1.2 is available.\n",
      "You should consider upgrading via the 'C:\\Users\\arceb\\AppData\\Local\\Programs\\Python\\Python39\\python.exe -m pip install --upgrade pip' command.\n"
     ]
    },
    {
     "name": "stdout",
     "output_type": "stream",
     "text": [
      "Collecting pandas\n",
      "  Downloading pandas-1.4.2-cp39-cp39-win_amd64.whl (10.5 MB)\n",
      "Requirement already satisfied: numpy>=1.18.5 in c:\\users\\arceb\\appdata\\local\\programs\\python\\python39\\lib\\site-packages (from pandas) (1.22.4)\n",
      "Collecting pytz>=2020.1\n",
      "  Downloading pytz-2022.1-py2.py3-none-any.whl (503 kB)\n",
      "Requirement already satisfied: python-dateutil>=2.8.1 in c:\\users\\arceb\\appdata\\local\\programs\\python\\python39\\lib\\site-packages (from pandas) (2.8.2)\n",
      "Requirement already satisfied: six>=1.5 in c:\\users\\arceb\\appdata\\local\\programs\\python\\python39\\lib\\site-packages (from python-dateutil>=2.8.1->pandas) (1.16.0)\n",
      "Installing collected packages: pytz, pandas\n",
      "Successfully installed pandas-1.4.2 pytz-2022.1\n"
     ]
    },
    {
     "name": "stderr",
     "output_type": "stream",
     "text": [
      "WARNING: You are using pip version 21.2.4; however, version 22.1.2 is available.\n",
      "You should consider upgrading via the 'C:\\Users\\arceb\\AppData\\Local\\Programs\\Python\\Python39\\python.exe -m pip install --upgrade pip' command.\n"
     ]
    },
    {
     "name": "stdout",
     "output_type": "stream",
     "text": [
      "Collecting matplotlib\n",
      "  Using cached matplotlib-3.5.2-cp39-cp39-win_amd64.whl (7.2 MB)\n",
      "Collecting pillow>=6.2.0\n",
      "  Using cached Pillow-9.1.1-cp39-cp39-win_amd64.whl (3.3 MB)\n",
      "Collecting fonttools>=4.22.0\n",
      "  Using cached fonttools-4.33.3-py3-none-any.whl (930 kB)\n",
      "Collecting cycler>=0.10\n",
      "  Using cached cycler-0.11.0-py3-none-any.whl (6.4 kB)\n",
      "Requirement already satisfied: packaging>=20.0 in c:\\users\\arceb\\appdata\\local\\programs\\python\\python39\\lib\\site-packages (from matplotlib) (21.3)\n",
      "Requirement already satisfied: python-dateutil>=2.7 in c:\\users\\arceb\\appdata\\local\\programs\\python\\python39\\lib\\site-packages (from matplotlib) (2.8.2)\n",
      "Requirement already satisfied: numpy>=1.17 in c:\\users\\arceb\\appdata\\local\\programs\\python\\python39\\lib\\site-packages (from matplotlib) (1.22.4)\n",
      "Requirement already satisfied: pyparsing>=2.2.1 in c:\\users\\arceb\\appdata\\local\\programs\\python\\python39\\lib\\site-packages (from matplotlib) (3.0.9)\n",
      "Collecting kiwisolver>=1.0.1\n",
      "  Using cached kiwisolver-1.4.3-cp39-cp39-win_amd64.whl (55 kB)\n",
      "Requirement already satisfied: six>=1.5 in c:\\users\\arceb\\appdata\\local\\programs\\python\\python39\\lib\\site-packages (from python-dateutil>=2.7->matplotlib) (1.16.0)\n",
      "Installing collected packages: pillow, kiwisolver, fonttools, cycler, matplotlib\n",
      "Successfully installed cycler-0.11.0 fonttools-4.33.3 kiwisolver-1.4.3 matplotlib-3.5.2 pillow-9.1.1\n"
     ]
    },
    {
     "name": "stderr",
     "output_type": "stream",
     "text": [
      "WARNING: You are using pip version 21.2.4; however, version 22.1.2 is available.\n",
      "You should consider upgrading via the 'C:\\Users\\arceb\\AppData\\Local\\Programs\\Python\\Python39\\python.exe -m pip install --upgrade pip' command.\n"
     ]
    }
   ],
   "source": [
    "!pip install numpy\n",
    "!pip install pandas\n",
    "!pip install matplotlib\n"
   ],
   "metadata": {
    "collapsed": false,
    "pycharm": {
     "name": "#%%\n"
    }
   }
  },
  {
   "cell_type": "code",
   "execution_count": 3,
   "outputs": [],
   "source": [
    "import numpy as np\n",
    "import pandas\n",
    "import pandas as pd\n",
    "import matplotlib.pyplot as plt"
   ],
   "metadata": {
    "collapsed": false,
    "pycharm": {
     "name": "#%%\n"
    }
   }
  },
  {
   "cell_type": "markdown",
   "source": [
    "## Nettoyage de la BDD"
   ],
   "metadata": {
    "collapsed": false,
    "pycharm": {
     "name": "#%% md\n"
    }
   }
  },
  {
   "cell_type": "code",
   "execution_count": 4,
   "outputs": [
    {
     "name": "stderr",
     "output_type": "stream",
     "text": [
      "C:\\Users\\arceb\\AppData\\Local\\Temp\\ipykernel_4640\\2247700435.py:1: DtypeWarning: Columns (7,8,25) have mixed types. Specify dtype option on import or set low_memory=False.\n",
      "  dfa = pd.read_csv(r'C:\\Users\\arceb\\Desktop\\Stage\\BDD/attributaires_IDF.csv')\n"
     ]
    }
   ],
   "source": [
    "dfa = pd.read_csv(r'C:\\Users\\arceb\\Desktop\\Stage\\BDD/attributaires_IDF.csv')\n"
   ],
   "metadata": {
    "collapsed": false,
    "pycharm": {
     "name": "#%%\n"
    }
   }
  },
  {
   "cell_type": "code",
   "execution_count": 5,
   "outputs": [
    {
     "data": {
      "text/plain": "Index(['Unnamed: 0', 'région', 'Numéro Unique', 'Date création demande',\n       'Date de la radiation', 'Age demandeur', 'Situation familiale',\n       'Code département logement actuel', 'Code INSEE logt actuel',\n       'Commune logt actuel', 'SIRET de l'EPCI (logement du demandeur)',\n       'Nom de l'EPCI (logement du demandeur)', 'Mode de logement actuel',\n       'Type de logement actuel', 'Nb résidents', 'Loyer montant mensuel',\n       'Montant AL / APL', 'Composition foyer demandeur',\n       'Situation professionnelle demandeur', 'motif n°1 de la demande',\n       'Nb unités de consommation du foyer', 'Ressources mensuelles du foyer',\n       'RFR du foyer, année n-1', 'RFR du foyer, année n-2',\n       'Montant maxi (loyer+charges) supportable',\n       'Numéro RPLS du logement attribué',\n       'Montant loyer mensuel du logement attribué\\n',\n       'SIRET de l'EPCI du logement attribué',\n       'Nom de l'EPCI du logement attribué', 'Code de la commune attribuée',\n       'Région du logement attribué', 'Type du logement attribué',\n       'Est en QPV', 'Surface du logement attribué', 'Statut DALO',\n       'Date de la décision DALO\\n\\n', 'Accompagnement social',\n       'Diagnostic social', 'Réservataire'],\n      dtype='object')"
     },
     "execution_count": 5,
     "metadata": {},
     "output_type": "execute_result"
    }
   ],
   "source": [
    "dfa.columns"
   ],
   "metadata": {
    "collapsed": false,
    "pycharm": {
     "name": "#%%\n"
    }
   }
  },
  {
   "cell_type": "code",
   "execution_count": 6,
   "outputs": [
    {
     "name": "stderr",
     "output_type": "stream",
     "text": [
      "C:\\Users\\arceb\\AppData\\Local\\Temp\\ipykernel_4640\\2397340150.py:1: DtypeWarning: Columns (21) have mixed types. Specify dtype option on import or set low_memory=False.\n",
      "  dfd = pd.read_csv(r'C:\\Users\\arceb\\Desktop\\Stage\\BDD/demandeurs_IDF(1).csv')\n"
     ]
    }
   ],
   "source": [
    "dfd = pd.read_csv(r'C:\\Users\\arceb\\Desktop\\Stage\\BDD/demandeurs_IDF(1).csv')"
   ],
   "metadata": {
    "collapsed": false,
    "pycharm": {
     "name": "#%%\n"
    }
   }
  },
  {
   "cell_type": "code",
   "execution_count": 7,
   "outputs": [
    {
     "data": {
      "text/plain": "Index(['Unnamed: 0', 'région', 'Numéro Unique', 'Date création demande',\n       'Age demandeur', 'Situation familiale',\n       'Code département logement actuel', 'Code INSEE logt actuel',\n       'Commune logt actuel', 'Mode de logement actuel',\n       'Type de logement actuel', 'Nb résidents', 'Loyer montant mensuel',\n       'Montant AL / APL', 'Composition foyer demandeur',\n       'Situation professionnelle demandeur', 'motif n°1 de la demande',\n       'Nb unités de consommation du foyer', 'Ressources mensuelles du foyer',\n       'RFR du foyer, année n-1', 'RFR du foyer, année n-2',\n       'Code INSEE commune logt souhaité', 'Commune logement souhaité',\n       'Montant maxi (loyer+charges) supportable', 'Sexe demandeur\\n',\n       'Nationalité demandeur\\n', 'Autre logement dé\\ntenu demandeur\\n',\n       'Nb de personnes handicapees'],\n      dtype='object')"
     },
     "execution_count": 7,
     "metadata": {},
     "output_type": "execute_result"
    }
   ],
   "source": [
    "dfd. columns"
   ],
   "metadata": {
    "collapsed": false,
    "pycharm": {
     "name": "#%%\n"
    }
   }
  },
  {
   "cell_type": "code",
   "execution_count": 7,
   "outputs": [
    {
     "data": {
      "text/plain": "       Unnamed: 0_x       région_x       Numéro Unique  \\\n0                 0  Ile-de-France  175037900427000002   \n1                10  Ile-de-France  175118000728300002   \n2                38  Ile-de-France  175108301617300002   \n3                48  Ile-de-France  175128420982700002   \n4               158  Ile-de-France  175058909634800002   \n...             ...            ...                 ...   \n60759        704403  Ile-de-France  1111217905754AL003   \n60760        704443  Ile-de-France  1111217849606GDPUB   \n60761        704455  Ile-de-France  1111217849858GDPUB   \n60762        704503  Ile-de-France  1110118850370GDPUB   \n60763        704514  Ile-de-France  1110118850622GDPUB   \n\n      Date création demande_x  Age demandeur_x Situation familiale_x  \\\n0         1979-03-01 00:00:00             59.0             Veuf (ve)   \n1         1980-11-14 00:00:00             72.0             Veuf (ve)   \n2         1983-10-17 00:00:00             64.0           Célibataire   \n3         1984-12-01 00:00:00             57.0           Célibataire   \n4         1989-05-16 00:00:00             69.0           Célibataire   \n...                       ...              ...                   ...   \n60759     2017-12-28 00:00:00             28.0           Célibataire   \n60760     2017-12-29 00:00:00             37.0           Divorcé (e)   \n60761     2017-12-29 00:00:00             28.0           Célibataire   \n60762     2018-01-01 00:00:00             36.0           Célibataire   \n60763     2018-01-01 00:00:00             26.0           Célibataire   \n\n       Code département logement actuel_x  Code INSEE logt actuel_x  \\\n0                                    75.0                   75112.0   \n1                                    75.0                   75117.0   \n2                                    75.0                   75111.0   \n3                                    75.0                   75119.0   \n4                                    75.0                   75117.0   \n...                                   ...                       ...   \n60759                                95.0                   95280.0   \n60760                                95.0                   95424.0   \n60761                                95.0                   95527.0   \n60762                                95.0                   95127.0   \n60763                                95.0                   95127.0   \n\n            Commune logt actuel_x  \\\n0      Paris 12ème arrondissement   \n1      Paris 17ème arrondissement   \n2      Paris 11ème arrondissement   \n3      Paris 19ème arrondissement   \n4      Paris 17ème arrondissement   \n...                           ...   \n60759               Goussainville   \n60760     Montigny-lès-Cormeilles   \n60761            Roissy-en-France   \n60762                       Cergy   \n60763                       Cergy   \n\n                               Mode de logement actuel_x  ...  \\\n0                                   Locataire parc privé  ...   \n1                                   Logement de fonction  ...   \n2                                   Locataire parc privé  ...   \n3                                          Locataire HLM  ...   \n4                                   Locataire parc privé  ...   \n...                                                  ...  ...   \n60759                                Chez un particulier  ...   \n60760            Hébergé chez vos parents ou vos enfants  ...   \n60761  Logé en logement-foyer, en résidence sociale o...  ...   \n60762                                Chez un particulier  ...   \n60763                               Locataire parc privé  ...   \n\n      Code de la commune attribuée  Région du logement attribué  \\\n0                            75120                Ile-de-France   \n1                            75117                Ile-de-France   \n2                            75119                Ile-de-France   \n3                            75120                Ile-de-France   \n4                            75117                Ile-de-France   \n...                            ...                          ...   \n60759                        95428                Ile-de-France   \n60760                        95252                Ile-de-France   \n60761                        95351                Ile-de-France   \n60762                        78455                Ile-de-France   \n60763                        95637                Ile-de-France   \n\n       Type du logement attribué   Est en QPV Surface du logement attribué  \\\n0                             T1          Oui                           20   \n1                             T2          Non                           44   \n2                             T2          Non                           55   \n3                             T2          Non                           53   \n4                             T2          Non                           49   \n...                          ...          ...                          ...   \n60759                         T2  Ne sait pas                           43   \n60760                         T2          Non                           46   \n60761                         T2          Non                           43   \n60762                         T1          Non                           30   \n60763                         T2  Ne sait pas                           56   \n\n         Statut DALO Date de la décision DALO\\n\\n  Accompagnement social  \\\n0       Actif relogé          2012-06-15 00:00:00                    Non   \n1       Actif relogé          2013-07-12 00:00:00                    Non   \n2      Non renseigné                          NaN                    Non   \n3      Non renseigné                          NaN                    Non   \n4       Actif relogé          2013-03-01 00:00:00                    Non   \n...              ...                          ...                    ...   \n60759  Non renseigné                          NaN                    Non   \n60760  Non renseigné                          NaN                    Non   \n60761  Non renseigné                          NaN                    Non   \n60762  Non renseigné                          NaN                    Non   \n60763  Non renseigné                          NaN                    Non   \n\n       Diagnostic social                                       Réservataire  \n0                    Non  Contingent des collectivités territoriales, de...  \n1                    Non                    Contingent autres réservataires  \n2                    Non                                    Hors contingent  \n3                    Non  Contingent des collectivités territoriales, de...  \n4                    Non  Contingent préfet prioritaires (hors fonctionn...  \n...                  ...                                                ...  \n60759                Non                                    Action Logement  \n60760                Non  Contingent préfet fonctionnaires et agents pub...  \n60761                Non  Contingent préfet prioritaires (hors fonctionn...  \n60762                Non                                    Action Logement  \n60763                Non                    Contingent autres réservataires  \n\n[60764 rows x 66 columns]",
      "text/html": "<div>\n<style scoped>\n    .dataframe tbody tr th:only-of-type {\n        vertical-align: middle;\n    }\n\n    .dataframe tbody tr th {\n        vertical-align: top;\n    }\n\n    .dataframe thead th {\n        text-align: right;\n    }\n</style>\n<table border=\"1\" class=\"dataframe\">\n  <thead>\n    <tr style=\"text-align: right;\">\n      <th></th>\n      <th>Unnamed: 0_x</th>\n      <th>région_x</th>\n      <th>Numéro Unique</th>\n      <th>Date création demande_x</th>\n      <th>Age demandeur_x</th>\n      <th>Situation familiale_x</th>\n      <th>Code département logement actuel_x</th>\n      <th>Code INSEE logt actuel_x</th>\n      <th>Commune logt actuel_x</th>\n      <th>Mode de logement actuel_x</th>\n      <th>...</th>\n      <th>Code de la commune attribuée</th>\n      <th>Région du logement attribué</th>\n      <th>Type du logement attribué</th>\n      <th>Est en QPV</th>\n      <th>Surface du logement attribué</th>\n      <th>Statut DALO</th>\n      <th>Date de la décision DALO\\n\\n</th>\n      <th>Accompagnement social</th>\n      <th>Diagnostic social</th>\n      <th>Réservataire</th>\n    </tr>\n  </thead>\n  <tbody>\n    <tr>\n      <th>0</th>\n      <td>0</td>\n      <td>Ile-de-France</td>\n      <td>175037900427000002</td>\n      <td>1979-03-01 00:00:00</td>\n      <td>59.0</td>\n      <td>Veuf (ve)</td>\n      <td>75.0</td>\n      <td>75112.0</td>\n      <td>Paris 12ème arrondissement</td>\n      <td>Locataire parc privé</td>\n      <td>...</td>\n      <td>75120</td>\n      <td>Ile-de-France</td>\n      <td>T1</td>\n      <td>Oui</td>\n      <td>20</td>\n      <td>Actif relogé</td>\n      <td>2012-06-15 00:00:00</td>\n      <td>Non</td>\n      <td>Non</td>\n      <td>Contingent des collectivités territoriales, de...</td>\n    </tr>\n    <tr>\n      <th>1</th>\n      <td>10</td>\n      <td>Ile-de-France</td>\n      <td>175118000728300002</td>\n      <td>1980-11-14 00:00:00</td>\n      <td>72.0</td>\n      <td>Veuf (ve)</td>\n      <td>75.0</td>\n      <td>75117.0</td>\n      <td>Paris 17ème arrondissement</td>\n      <td>Logement de fonction</td>\n      <td>...</td>\n      <td>75117</td>\n      <td>Ile-de-France</td>\n      <td>T2</td>\n      <td>Non</td>\n      <td>44</td>\n      <td>Actif relogé</td>\n      <td>2013-07-12 00:00:00</td>\n      <td>Non</td>\n      <td>Non</td>\n      <td>Contingent autres réservataires</td>\n    </tr>\n    <tr>\n      <th>2</th>\n      <td>38</td>\n      <td>Ile-de-France</td>\n      <td>175108301617300002</td>\n      <td>1983-10-17 00:00:00</td>\n      <td>64.0</td>\n      <td>Célibataire</td>\n      <td>75.0</td>\n      <td>75111.0</td>\n      <td>Paris 11ème arrondissement</td>\n      <td>Locataire parc privé</td>\n      <td>...</td>\n      <td>75119</td>\n      <td>Ile-de-France</td>\n      <td>T2</td>\n      <td>Non</td>\n      <td>55</td>\n      <td>Non renseigné</td>\n      <td>NaN</td>\n      <td>Non</td>\n      <td>Non</td>\n      <td>Hors contingent</td>\n    </tr>\n    <tr>\n      <th>3</th>\n      <td>48</td>\n      <td>Ile-de-France</td>\n      <td>175128420982700002</td>\n      <td>1984-12-01 00:00:00</td>\n      <td>57.0</td>\n      <td>Célibataire</td>\n      <td>75.0</td>\n      <td>75119.0</td>\n      <td>Paris 19ème arrondissement</td>\n      <td>Locataire HLM</td>\n      <td>...</td>\n      <td>75120</td>\n      <td>Ile-de-France</td>\n      <td>T2</td>\n      <td>Non</td>\n      <td>53</td>\n      <td>Non renseigné</td>\n      <td>NaN</td>\n      <td>Non</td>\n      <td>Non</td>\n      <td>Contingent des collectivités territoriales, de...</td>\n    </tr>\n    <tr>\n      <th>4</th>\n      <td>158</td>\n      <td>Ile-de-France</td>\n      <td>175058909634800002</td>\n      <td>1989-05-16 00:00:00</td>\n      <td>69.0</td>\n      <td>Célibataire</td>\n      <td>75.0</td>\n      <td>75117.0</td>\n      <td>Paris 17ème arrondissement</td>\n      <td>Locataire parc privé</td>\n      <td>...</td>\n      <td>75117</td>\n      <td>Ile-de-France</td>\n      <td>T2</td>\n      <td>Non</td>\n      <td>49</td>\n      <td>Actif relogé</td>\n      <td>2013-03-01 00:00:00</td>\n      <td>Non</td>\n      <td>Non</td>\n      <td>Contingent préfet prioritaires (hors fonctionn...</td>\n    </tr>\n    <tr>\n      <th>...</th>\n      <td>...</td>\n      <td>...</td>\n      <td>...</td>\n      <td>...</td>\n      <td>...</td>\n      <td>...</td>\n      <td>...</td>\n      <td>...</td>\n      <td>...</td>\n      <td>...</td>\n      <td>...</td>\n      <td>...</td>\n      <td>...</td>\n      <td>...</td>\n      <td>...</td>\n      <td>...</td>\n      <td>...</td>\n      <td>...</td>\n      <td>...</td>\n      <td>...</td>\n      <td>...</td>\n    </tr>\n    <tr>\n      <th>60759</th>\n      <td>704403</td>\n      <td>Ile-de-France</td>\n      <td>1111217905754AL003</td>\n      <td>2017-12-28 00:00:00</td>\n      <td>28.0</td>\n      <td>Célibataire</td>\n      <td>95.0</td>\n      <td>95280.0</td>\n      <td>Goussainville</td>\n      <td>Chez un particulier</td>\n      <td>...</td>\n      <td>95428</td>\n      <td>Ile-de-France</td>\n      <td>T2</td>\n      <td>Ne sait pas</td>\n      <td>43</td>\n      <td>Non renseigné</td>\n      <td>NaN</td>\n      <td>Non</td>\n      <td>Non</td>\n      <td>Action Logement</td>\n    </tr>\n    <tr>\n      <th>60760</th>\n      <td>704443</td>\n      <td>Ile-de-France</td>\n      <td>1111217849606GDPUB</td>\n      <td>2017-12-29 00:00:00</td>\n      <td>37.0</td>\n      <td>Divorcé (e)</td>\n      <td>95.0</td>\n      <td>95424.0</td>\n      <td>Montigny-lès-Cormeilles</td>\n      <td>Hébergé chez vos parents ou vos enfants</td>\n      <td>...</td>\n      <td>95252</td>\n      <td>Ile-de-France</td>\n      <td>T2</td>\n      <td>Non</td>\n      <td>46</td>\n      <td>Non renseigné</td>\n      <td>NaN</td>\n      <td>Non</td>\n      <td>Non</td>\n      <td>Contingent préfet fonctionnaires et agents pub...</td>\n    </tr>\n    <tr>\n      <th>60761</th>\n      <td>704455</td>\n      <td>Ile-de-France</td>\n      <td>1111217849858GDPUB</td>\n      <td>2017-12-29 00:00:00</td>\n      <td>28.0</td>\n      <td>Célibataire</td>\n      <td>95.0</td>\n      <td>95527.0</td>\n      <td>Roissy-en-France</td>\n      <td>Logé en logement-foyer, en résidence sociale o...</td>\n      <td>...</td>\n      <td>95351</td>\n      <td>Ile-de-France</td>\n      <td>T2</td>\n      <td>Non</td>\n      <td>43</td>\n      <td>Non renseigné</td>\n      <td>NaN</td>\n      <td>Non</td>\n      <td>Non</td>\n      <td>Contingent préfet prioritaires (hors fonctionn...</td>\n    </tr>\n    <tr>\n      <th>60762</th>\n      <td>704503</td>\n      <td>Ile-de-France</td>\n      <td>1110118850370GDPUB</td>\n      <td>2018-01-01 00:00:00</td>\n      <td>36.0</td>\n      <td>Célibataire</td>\n      <td>95.0</td>\n      <td>95127.0</td>\n      <td>Cergy</td>\n      <td>Chez un particulier</td>\n      <td>...</td>\n      <td>78455</td>\n      <td>Ile-de-France</td>\n      <td>T1</td>\n      <td>Non</td>\n      <td>30</td>\n      <td>Non renseigné</td>\n      <td>NaN</td>\n      <td>Non</td>\n      <td>Non</td>\n      <td>Action Logement</td>\n    </tr>\n    <tr>\n      <th>60763</th>\n      <td>704514</td>\n      <td>Ile-de-France</td>\n      <td>1110118850622GDPUB</td>\n      <td>2018-01-01 00:00:00</td>\n      <td>26.0</td>\n      <td>Célibataire</td>\n      <td>95.0</td>\n      <td>95127.0</td>\n      <td>Cergy</td>\n      <td>Locataire parc privé</td>\n      <td>...</td>\n      <td>95637</td>\n      <td>Ile-de-France</td>\n      <td>T2</td>\n      <td>Ne sait pas</td>\n      <td>56</td>\n      <td>Non renseigné</td>\n      <td>NaN</td>\n      <td>Non</td>\n      <td>Non</td>\n      <td>Contingent autres réservataires</td>\n    </tr>\n  </tbody>\n</table>\n<p>60764 rows × 66 columns</p>\n</div>"
     },
     "execution_count": 7,
     "metadata": {},
     "output_type": "execute_result"
    }
   ],
   "source": [
    "base = dfd.merge(dfa, on='Numéro Unique', how='inner')\n",
    "base"
   ],
   "metadata": {
    "collapsed": false,
    "pycharm": {
     "name": "#%%\n"
    }
   }
  },
  {
   "cell_type": "code",
   "execution_count": 8,
   "outputs": [
    {
     "data": {
      "text/plain": "       Montant maxi (loyer+charges) supportable_y  \\\n0                                           300.0   \n1                                           400.0   \n2                                           700.0   \n3                                          1000.0   \n4                                           450.0   \n...                                           ...   \n60759                                       514.0   \n60760                                       400.0   \n60761                                       495.0   \n60762                                       297.0   \n60763                                       750.0   \n\n       Montant maxi (loyer+charges) supportable_x  \\\n0                                           300.0   \n1                                           400.0   \n2                                           700.0   \n3                                          1000.0   \n4                                           450.0   \n...                                           ...   \n60759                                       514.0   \n60760                                       400.0   \n60761                                       495.0   \n60762                                       297.0   \n60763                                       750.0   \n\n       Ressources mensuelles du foyer_y  Ressources mensuelles du foyer_x  \\\n0                                 556.0                             556.0   \n1                                1763.0                            1763.0   \n2                                3535.0                            3535.0   \n3                                3144.0                            3144.0   \n4                                 765.0                             765.0   \n...                                 ...                               ...   \n60759                            3072.0                            3072.0   \n60760                            1774.0                            1774.0   \n60761                            2143.0                            2143.0   \n60762                            1190.0                            1190.0   \n60763                            1800.0                            1800.0   \n\n      Situation familiale_x  \n0                 Veuf (ve)  \n1                 Veuf (ve)  \n2               Célibataire  \n3               Célibataire  \n4               Célibataire  \n...                     ...  \n60759           Célibataire  \n60760           Divorcé (e)  \n60761           Célibataire  \n60762           Célibataire  \n60763           Célibataire  \n\n[60764 rows x 5 columns]",
      "text/html": "<div>\n<style scoped>\n    .dataframe tbody tr th:only-of-type {\n        vertical-align: middle;\n    }\n\n    .dataframe tbody tr th {\n        vertical-align: top;\n    }\n\n    .dataframe thead th {\n        text-align: right;\n    }\n</style>\n<table border=\"1\" class=\"dataframe\">\n  <thead>\n    <tr style=\"text-align: right;\">\n      <th></th>\n      <th>Montant maxi (loyer+charges) supportable_y</th>\n      <th>Montant maxi (loyer+charges) supportable_x</th>\n      <th>Ressources mensuelles du foyer_y</th>\n      <th>Ressources mensuelles du foyer_x</th>\n      <th>Situation familiale_x</th>\n    </tr>\n  </thead>\n  <tbody>\n    <tr>\n      <th>0</th>\n      <td>300.0</td>\n      <td>300.0</td>\n      <td>556.0</td>\n      <td>556.0</td>\n      <td>Veuf (ve)</td>\n    </tr>\n    <tr>\n      <th>1</th>\n      <td>400.0</td>\n      <td>400.0</td>\n      <td>1763.0</td>\n      <td>1763.0</td>\n      <td>Veuf (ve)</td>\n    </tr>\n    <tr>\n      <th>2</th>\n      <td>700.0</td>\n      <td>700.0</td>\n      <td>3535.0</td>\n      <td>3535.0</td>\n      <td>Célibataire</td>\n    </tr>\n    <tr>\n      <th>3</th>\n      <td>1000.0</td>\n      <td>1000.0</td>\n      <td>3144.0</td>\n      <td>3144.0</td>\n      <td>Célibataire</td>\n    </tr>\n    <tr>\n      <th>4</th>\n      <td>450.0</td>\n      <td>450.0</td>\n      <td>765.0</td>\n      <td>765.0</td>\n      <td>Célibataire</td>\n    </tr>\n    <tr>\n      <th>...</th>\n      <td>...</td>\n      <td>...</td>\n      <td>...</td>\n      <td>...</td>\n      <td>...</td>\n    </tr>\n    <tr>\n      <th>60759</th>\n      <td>514.0</td>\n      <td>514.0</td>\n      <td>3072.0</td>\n      <td>3072.0</td>\n      <td>Célibataire</td>\n    </tr>\n    <tr>\n      <th>60760</th>\n      <td>400.0</td>\n      <td>400.0</td>\n      <td>1774.0</td>\n      <td>1774.0</td>\n      <td>Divorcé (e)</td>\n    </tr>\n    <tr>\n      <th>60761</th>\n      <td>495.0</td>\n      <td>495.0</td>\n      <td>2143.0</td>\n      <td>2143.0</td>\n      <td>Célibataire</td>\n    </tr>\n    <tr>\n      <th>60762</th>\n      <td>297.0</td>\n      <td>297.0</td>\n      <td>1190.0</td>\n      <td>1190.0</td>\n      <td>Célibataire</td>\n    </tr>\n    <tr>\n      <th>60763</th>\n      <td>750.0</td>\n      <td>750.0</td>\n      <td>1800.0</td>\n      <td>1800.0</td>\n      <td>Célibataire</td>\n    </tr>\n  </tbody>\n</table>\n<p>60764 rows × 5 columns</p>\n</div>"
     },
     "execution_count": 8,
     "metadata": {},
     "output_type": "execute_result"
    }
   ],
   "source": [
    "#On vérifie qu'on a bien des données cohérentes\n",
    "\n",
    "base1=base[[ \"Montant maxi (loyer+charges) supportable_y\", \"Montant maxi (loyer+charges) supportable_x\", \"Ressources mensuelles du foyer_y\", \"Ressources mensuelles du foyer_x\", \"Situation familiale_x\", ]]\n",
    "base1"
   ],
   "metadata": {
    "collapsed": false,
    "pycharm": {
     "name": "#%%\n"
    }
   }
  },
  {
   "cell_type": "markdown",
   "source": [
    "## Statistiques sur les attributaires dans la base de données au 1er janvier\n",
    "Etude des personnes attributaires qui sont déjà dans la base de données des demandeurs au premier janvier. Quel est le profil des personnes auxquelles on a attribué un logement dans l'année ?"
   ],
   "metadata": {
    "collapsed": false,
    "pycharm": {
     "name": "#%% md\n"
    }
   }
  },
  {
   "cell_type": "code",
   "execution_count": 9,
   "outputs": [],
   "source": [
    "#On construit une première base de données pour étude des personnes qui accèdent aux logements\n",
    "\n",
    "bdd=base[[ \"Montant maxi (loyer+charges) supportable_y\",  \"Ressources mensuelles du foyer_x\", \"Nb unités de consommation du foyer_x\", \"Situation professionnelle demandeur_x\", \"motif n°1 de la demande_x\", \"Age demandeur_x\", \"Nationalité demandeur\\n\", \"Sexe demandeur\\n\", \"Numéro Unique\"]]"
   ],
   "metadata": {
    "collapsed": false,
    "pycharm": {
     "name": "#%%\n"
    }
   }
  },
  {
   "cell_type": "code",
   "execution_count": 10,
   "outputs": [
    {
     "data": {
      "text/plain": "       Montant maxi (loyer+charges) supportable_y  \\\n0                                           300.0   \n1                                           400.0   \n2                                           700.0   \n3                                          1000.0   \n4                                           450.0   \n...                                           ...   \n60759                                       514.0   \n60760                                       400.0   \n60761                                       495.0   \n60762                                       297.0   \n60763                                       750.0   \n\n       Ressources mensuelles du foyer_x  Nb unités de consommation du foyer_x  \\\n0                                 556.0                                   1.0   \n1                                1763.0                                   1.0   \n2                                3535.0                                   1.5   \n3                                3144.0                                   1.0   \n4                                 765.0                                   1.0   \n...                                 ...                                   ...   \n60759                            3072.0                                   1.0   \n60760                            1774.0                                   1.0   \n60761                            2143.0                                   1.0   \n60762                            1190.0                                   1.0   \n60763                            1800.0                                   1.0   \n\n      Situation professionnelle demandeur_x  \\\n0                                  Retraité   \n1                                  Retraité   \n2                                  Retraité   \n3                    CDI (ou fonctionnaire)   \n4                                  Retraité   \n...                                     ...   \n60759                    CDD,Stage, intérim   \n60760                                   CDI   \n60761                                   CDI   \n60762                    CDD,Stage, intérim   \n60763                    CDD,Stage, intérim   \n\n                               motif n°1 de la demande_x  Age demandeur_x  \\\n0      Logement repris ou mis en vente par son propri...             59.0   \n1                               En procédure d'expulsion             72.0   \n2                     Autre motif particulier (précisez)             64.0   \n3              Problèmes d'environnement ou de voisinage             57.0   \n4                                    Logement trop petit             69.0   \n...                                                  ...              ...   \n60759  Logement non décent, insalubre ou dangereux ou...             28.0   \n60760  Sans logement ou hébergé ou en logement tempor...             37.0   \n60761  Sans logement ou hébergé ou en logement tempor...             28.0   \n60762  Sans logement ou hébergé ou en logement tempor...             36.0   \n60763          Problèmes d'environnement ou de voisinage             26.0   \n\n      Nationalité demandeur\\n Sexe demandeur\\n       Numéro Unique  \n0       Hors Union Européenne                F  175037900427000002  \n1                   Française                F  175118000728300002  \n2                   Française                F  175108301617300002  \n3                   Française                F  175128420982700002  \n4                   Française                M  175058909634800002  \n...                       ...              ...                 ...  \n60759               Française                M  1111217905754AL003  \n60760               Française                F  1111217849606GDPUB  \n60761   Hors Union Européenne                F  1111217849858GDPUB  \n60762   Hors Union Européenne                M  1110118850370GDPUB  \n60763               Française                F  1110118850622GDPUB  \n\n[60764 rows x 9 columns]",
      "text/html": "<div>\n<style scoped>\n    .dataframe tbody tr th:only-of-type {\n        vertical-align: middle;\n    }\n\n    .dataframe tbody tr th {\n        vertical-align: top;\n    }\n\n    .dataframe thead th {\n        text-align: right;\n    }\n</style>\n<table border=\"1\" class=\"dataframe\">\n  <thead>\n    <tr style=\"text-align: right;\">\n      <th></th>\n      <th>Montant maxi (loyer+charges) supportable_y</th>\n      <th>Ressources mensuelles du foyer_x</th>\n      <th>Nb unités de consommation du foyer_x</th>\n      <th>Situation professionnelle demandeur_x</th>\n      <th>motif n°1 de la demande_x</th>\n      <th>Age demandeur_x</th>\n      <th>Nationalité demandeur\\n</th>\n      <th>Sexe demandeur\\n</th>\n      <th>Numéro Unique</th>\n    </tr>\n  </thead>\n  <tbody>\n    <tr>\n      <th>0</th>\n      <td>300.0</td>\n      <td>556.0</td>\n      <td>1.0</td>\n      <td>Retraité</td>\n      <td>Logement repris ou mis en vente par son propri...</td>\n      <td>59.0</td>\n      <td>Hors Union Européenne</td>\n      <td>F</td>\n      <td>175037900427000002</td>\n    </tr>\n    <tr>\n      <th>1</th>\n      <td>400.0</td>\n      <td>1763.0</td>\n      <td>1.0</td>\n      <td>Retraité</td>\n      <td>En procédure d'expulsion</td>\n      <td>72.0</td>\n      <td>Française</td>\n      <td>F</td>\n      <td>175118000728300002</td>\n    </tr>\n    <tr>\n      <th>2</th>\n      <td>700.0</td>\n      <td>3535.0</td>\n      <td>1.5</td>\n      <td>Retraité</td>\n      <td>Autre motif particulier (précisez)</td>\n      <td>64.0</td>\n      <td>Française</td>\n      <td>F</td>\n      <td>175108301617300002</td>\n    </tr>\n    <tr>\n      <th>3</th>\n      <td>1000.0</td>\n      <td>3144.0</td>\n      <td>1.0</td>\n      <td>CDI (ou fonctionnaire)</td>\n      <td>Problèmes d'environnement ou de voisinage</td>\n      <td>57.0</td>\n      <td>Française</td>\n      <td>F</td>\n      <td>175128420982700002</td>\n    </tr>\n    <tr>\n      <th>4</th>\n      <td>450.0</td>\n      <td>765.0</td>\n      <td>1.0</td>\n      <td>Retraité</td>\n      <td>Logement trop petit</td>\n      <td>69.0</td>\n      <td>Française</td>\n      <td>M</td>\n      <td>175058909634800002</td>\n    </tr>\n    <tr>\n      <th>...</th>\n      <td>...</td>\n      <td>...</td>\n      <td>...</td>\n      <td>...</td>\n      <td>...</td>\n      <td>...</td>\n      <td>...</td>\n      <td>...</td>\n      <td>...</td>\n    </tr>\n    <tr>\n      <th>60759</th>\n      <td>514.0</td>\n      <td>3072.0</td>\n      <td>1.0</td>\n      <td>CDD,Stage, intérim</td>\n      <td>Logement non décent, insalubre ou dangereux ou...</td>\n      <td>28.0</td>\n      <td>Française</td>\n      <td>M</td>\n      <td>1111217905754AL003</td>\n    </tr>\n    <tr>\n      <th>60760</th>\n      <td>400.0</td>\n      <td>1774.0</td>\n      <td>1.0</td>\n      <td>CDI</td>\n      <td>Sans logement ou hébergé ou en logement tempor...</td>\n      <td>37.0</td>\n      <td>Française</td>\n      <td>F</td>\n      <td>1111217849606GDPUB</td>\n    </tr>\n    <tr>\n      <th>60761</th>\n      <td>495.0</td>\n      <td>2143.0</td>\n      <td>1.0</td>\n      <td>CDI</td>\n      <td>Sans logement ou hébergé ou en logement tempor...</td>\n      <td>28.0</td>\n      <td>Hors Union Européenne</td>\n      <td>F</td>\n      <td>1111217849858GDPUB</td>\n    </tr>\n    <tr>\n      <th>60762</th>\n      <td>297.0</td>\n      <td>1190.0</td>\n      <td>1.0</td>\n      <td>CDD,Stage, intérim</td>\n      <td>Sans logement ou hébergé ou en logement tempor...</td>\n      <td>36.0</td>\n      <td>Hors Union Européenne</td>\n      <td>M</td>\n      <td>1110118850370GDPUB</td>\n    </tr>\n    <tr>\n      <th>60763</th>\n      <td>750.0</td>\n      <td>1800.0</td>\n      <td>1.0</td>\n      <td>CDD,Stage, intérim</td>\n      <td>Problèmes d'environnement ou de voisinage</td>\n      <td>26.0</td>\n      <td>Française</td>\n      <td>F</td>\n      <td>1110118850622GDPUB</td>\n    </tr>\n  </tbody>\n</table>\n<p>60764 rows × 9 columns</p>\n</div>"
     },
     "execution_count": 10,
     "metadata": {},
     "output_type": "execute_result"
    }
   ],
   "source": [
    "bdd"
   ],
   "metadata": {
    "collapsed": false,
    "pycharm": {
     "name": "#%%\n"
    }
   }
  },
  {
   "cell_type": "code",
   "execution_count": 11,
   "outputs": [
    {
     "name": "stderr",
     "output_type": "stream",
     "text": [
      "C:\\Users\\arceb\\AppData\\Local\\Temp\\ipykernel_3392\\1369987452.py:2: SettingWithCopyWarning: \n",
      "A value is trying to be set on a copy of a slice from a DataFrame\n",
      "\n",
      "See the caveats in the documentation: https://pandas.pydata.org/pandas-docs/stable/user_guide/indexing.html#returning-a-view-versus-a-copy\n",
      "  bdd.rename(columns={'Montant maxi (loyer+charges) supportable_y': 'Montant maxi (loyer+charges) supportable', 'Ressources mensuelles du foyer_x': 'Ressources mensuelles du foyer', 'Nb unités de consommation du foyer_x': 'Nb unités de consommation du foyer', 'Situation professionnelle demandeur_x':'Situation professionnelle demandeur', 'motif n°1 de la demande_x': 'motif n°1 de la demande', 'Age demandeur_x': 'Age demandeur', 'Nationalité demandeur\\n': 'Nationalité demandeur', 'Sexe demandeur\\n': 'Sexe demandeur'}, inplace=True)\n"
     ]
    },
    {
     "data": {
      "text/plain": "       Montant maxi (loyer+charges) supportable  \\\n0                                         300.0   \n1                                         400.0   \n2                                         700.0   \n3                                        1000.0   \n4                                         450.0   \n...                                         ...   \n60759                                     514.0   \n60760                                     400.0   \n60761                                     495.0   \n60762                                     297.0   \n60763                                     750.0   \n\n       Ressources mensuelles du foyer  Nb unités de consommation du foyer  \\\n0                               556.0                                 1.0   \n1                              1763.0                                 1.0   \n2                              3535.0                                 1.5   \n3                              3144.0                                 1.0   \n4                               765.0                                 1.0   \n...                               ...                                 ...   \n60759                          3072.0                                 1.0   \n60760                          1774.0                                 1.0   \n60761                          2143.0                                 1.0   \n60762                          1190.0                                 1.0   \n60763                          1800.0                                 1.0   \n\n      Situation professionnelle demandeur  \\\n0                                Retraité   \n1                                Retraité   \n2                                Retraité   \n3                  CDI (ou fonctionnaire)   \n4                                Retraité   \n...                                   ...   \n60759                  CDD,Stage, intérim   \n60760                                 CDI   \n60761                                 CDI   \n60762                  CDD,Stage, intérim   \n60763                  CDD,Stage, intérim   \n\n                                 motif n°1 de la demande  Age demandeur  \\\n0      Logement repris ou mis en vente par son propri...           59.0   \n1                               En procédure d'expulsion           72.0   \n2                     Autre motif particulier (précisez)           64.0   \n3              Problèmes d'environnement ou de voisinage           57.0   \n4                                    Logement trop petit           69.0   \n...                                                  ...            ...   \n60759  Logement non décent, insalubre ou dangereux ou...           28.0   \n60760  Sans logement ou hébergé ou en logement tempor...           37.0   \n60761  Sans logement ou hébergé ou en logement tempor...           28.0   \n60762  Sans logement ou hébergé ou en logement tempor...           36.0   \n60763          Problèmes d'environnement ou de voisinage           26.0   \n\n       Nationalité demandeur Sexe demandeur       Numéro Unique  \n0      Hors Union Européenne              F  175037900427000002  \n1                  Française              F  175118000728300002  \n2                  Française              F  175108301617300002  \n3                  Française              F  175128420982700002  \n4                  Française              M  175058909634800002  \n...                      ...            ...                 ...  \n60759              Française              M  1111217905754AL003  \n60760              Française              F  1111217849606GDPUB  \n60761  Hors Union Européenne              F  1111217849858GDPUB  \n60762  Hors Union Européenne              M  1110118850370GDPUB  \n60763              Française              F  1110118850622GDPUB  \n\n[60764 rows x 9 columns]",
      "text/html": "<div>\n<style scoped>\n    .dataframe tbody tr th:only-of-type {\n        vertical-align: middle;\n    }\n\n    .dataframe tbody tr th {\n        vertical-align: top;\n    }\n\n    .dataframe thead th {\n        text-align: right;\n    }\n</style>\n<table border=\"1\" class=\"dataframe\">\n  <thead>\n    <tr style=\"text-align: right;\">\n      <th></th>\n      <th>Montant maxi (loyer+charges) supportable</th>\n      <th>Ressources mensuelles du foyer</th>\n      <th>Nb unités de consommation du foyer</th>\n      <th>Situation professionnelle demandeur</th>\n      <th>motif n°1 de la demande</th>\n      <th>Age demandeur</th>\n      <th>Nationalité demandeur</th>\n      <th>Sexe demandeur</th>\n      <th>Numéro Unique</th>\n    </tr>\n  </thead>\n  <tbody>\n    <tr>\n      <th>0</th>\n      <td>300.0</td>\n      <td>556.0</td>\n      <td>1.0</td>\n      <td>Retraité</td>\n      <td>Logement repris ou mis en vente par son propri...</td>\n      <td>59.0</td>\n      <td>Hors Union Européenne</td>\n      <td>F</td>\n      <td>175037900427000002</td>\n    </tr>\n    <tr>\n      <th>1</th>\n      <td>400.0</td>\n      <td>1763.0</td>\n      <td>1.0</td>\n      <td>Retraité</td>\n      <td>En procédure d'expulsion</td>\n      <td>72.0</td>\n      <td>Française</td>\n      <td>F</td>\n      <td>175118000728300002</td>\n    </tr>\n    <tr>\n      <th>2</th>\n      <td>700.0</td>\n      <td>3535.0</td>\n      <td>1.5</td>\n      <td>Retraité</td>\n      <td>Autre motif particulier (précisez)</td>\n      <td>64.0</td>\n      <td>Française</td>\n      <td>F</td>\n      <td>175108301617300002</td>\n    </tr>\n    <tr>\n      <th>3</th>\n      <td>1000.0</td>\n      <td>3144.0</td>\n      <td>1.0</td>\n      <td>CDI (ou fonctionnaire)</td>\n      <td>Problèmes d'environnement ou de voisinage</td>\n      <td>57.0</td>\n      <td>Française</td>\n      <td>F</td>\n      <td>175128420982700002</td>\n    </tr>\n    <tr>\n      <th>4</th>\n      <td>450.0</td>\n      <td>765.0</td>\n      <td>1.0</td>\n      <td>Retraité</td>\n      <td>Logement trop petit</td>\n      <td>69.0</td>\n      <td>Française</td>\n      <td>M</td>\n      <td>175058909634800002</td>\n    </tr>\n    <tr>\n      <th>...</th>\n      <td>...</td>\n      <td>...</td>\n      <td>...</td>\n      <td>...</td>\n      <td>...</td>\n      <td>...</td>\n      <td>...</td>\n      <td>...</td>\n      <td>...</td>\n    </tr>\n    <tr>\n      <th>60759</th>\n      <td>514.0</td>\n      <td>3072.0</td>\n      <td>1.0</td>\n      <td>CDD,Stage, intérim</td>\n      <td>Logement non décent, insalubre ou dangereux ou...</td>\n      <td>28.0</td>\n      <td>Française</td>\n      <td>M</td>\n      <td>1111217905754AL003</td>\n    </tr>\n    <tr>\n      <th>60760</th>\n      <td>400.0</td>\n      <td>1774.0</td>\n      <td>1.0</td>\n      <td>CDI</td>\n      <td>Sans logement ou hébergé ou en logement tempor...</td>\n      <td>37.0</td>\n      <td>Française</td>\n      <td>F</td>\n      <td>1111217849606GDPUB</td>\n    </tr>\n    <tr>\n      <th>60761</th>\n      <td>495.0</td>\n      <td>2143.0</td>\n      <td>1.0</td>\n      <td>CDI</td>\n      <td>Sans logement ou hébergé ou en logement tempor...</td>\n      <td>28.0</td>\n      <td>Hors Union Européenne</td>\n      <td>F</td>\n      <td>1111217849858GDPUB</td>\n    </tr>\n    <tr>\n      <th>60762</th>\n      <td>297.0</td>\n      <td>1190.0</td>\n      <td>1.0</td>\n      <td>CDD,Stage, intérim</td>\n      <td>Sans logement ou hébergé ou en logement tempor...</td>\n      <td>36.0</td>\n      <td>Hors Union Européenne</td>\n      <td>M</td>\n      <td>1110118850370GDPUB</td>\n    </tr>\n    <tr>\n      <th>60763</th>\n      <td>750.0</td>\n      <td>1800.0</td>\n      <td>1.0</td>\n      <td>CDD,Stage, intérim</td>\n      <td>Problèmes d'environnement ou de voisinage</td>\n      <td>26.0</td>\n      <td>Française</td>\n      <td>F</td>\n      <td>1110118850622GDPUB</td>\n    </tr>\n  </tbody>\n</table>\n<p>60764 rows × 9 columns</p>\n</div>"
     },
     "execution_count": 11,
     "metadata": {},
     "output_type": "execute_result"
    }
   ],
   "source": [
    "#Réécriture et nettoyage de la base de données\n",
    "bdd.rename(columns={'Montant maxi (loyer+charges) supportable_y': 'Montant maxi (loyer+charges) supportable', 'Ressources mensuelles du foyer_x': 'Ressources mensuelles du foyer', 'Nb unités de consommation du foyer_x': 'Nb unités de consommation du foyer', 'Situation professionnelle demandeur_x':'Situation professionnelle demandeur', 'motif n°1 de la demande_x': 'motif n°1 de la demande', 'Age demandeur_x': 'Age demandeur', 'Nationalité demandeur\\n': 'Nationalité demandeur', 'Sexe demandeur\\n': 'Sexe demandeur'}, inplace=True)\n",
    "bdd"
   ],
   "metadata": {
    "collapsed": false,
    "pycharm": {
     "name": "#%%\n"
    }
   }
  },
  {
   "cell_type": "markdown",
   "source": [
    "#### Age des demandeurs"
   ],
   "metadata": {
    "collapsed": false,
    "pycharm": {
     "name": "#%% md\n"
    }
   }
  },
  {
   "cell_type": "code",
   "execution_count": 12,
   "outputs": [
    {
     "data": {
      "text/plain": "30.0    2324\n29.0    2245\n31.0    2237\n32.0    2228\n28.0    2154\n        ... \n95.0       2\n7.0        1\n18.0       1\n98.0       1\n99.0       1\nName: Age demandeur, Length: 86, dtype: int64"
     },
     "execution_count": 12,
     "metadata": {},
     "output_type": "execute_result"
    }
   ],
   "source": [
    "bdd['Age demandeur'].value_counts()\n",
    "#On peut voir des gros problèmes dans la base de données : demandeurs qui ont 7 ans ? 1 ans ? 2 ans ? Il faut nettoyer tout ça."
   ],
   "metadata": {
    "collapsed": false,
    "pycharm": {
     "name": "#%%\n"
    }
   }
  },
  {
   "cell_type": "markdown",
   "source": [
    "#### Situation professionnelle des demandeurs"
   ],
   "metadata": {
    "collapsed": false,
    "pycharm": {
     "name": "#%% md\n"
    }
   }
  },
  {
   "cell_type": "code",
   "execution_count": 13,
   "outputs": [
    {
     "data": {
      "text/plain": "CDI (ou fonctionnaire)                      30250\nCDD,Stage, intérim                           8989\nCDI                                          7638\nAutre                                        5628\nChômage                                      4141\nRetraité                                     2665\nArtisan, commerçant, profession libérale      881\nApprenti                                      341\nEtudiant                                      183\nAgents publics                                 48\nName: Situation professionnelle demandeur, dtype: int64"
     },
     "execution_count": 13,
     "metadata": {},
     "output_type": "execute_result"
    }
   ],
   "source": [
    "bdp=bdd['Situation professionnelle demandeur'].value_counts()\n",
    "bdp"
   ],
   "metadata": {
    "collapsed": false,
    "pycharm": {
     "name": "#%%\n"
    }
   }
  },
  {
   "cell_type": "code",
   "execution_count": 14,
   "outputs": [
    {
     "data": {
      "text/plain": "<AxesSubplot:>"
     },
     "execution_count": 14,
     "metadata": {},
     "output_type": "execute_result"
    },
    {
     "data": {
      "text/plain": "<Figure size 432x288 with 1 Axes>",
      "image/png": "[encoded data removed]"
     },
     "metadata": {
      "needs_background": "light"
     },
     "output_type": "display_data"
    }
   ],
   "source": [
    "bdp.plot.barh()"
   ],
   "metadata": {
    "collapsed": false,
    "pycharm": {
     "name": "#%%\n"
    }
   }
  },
  {
   "cell_type": "markdown",
   "source": [
    "#### Nationalité demandeur"
   ],
   "metadata": {
    "collapsed": false,
    "pycharm": {
     "name": "#%% md\n"
    }
   }
  },
  {
   "cell_type": "code",
   "execution_count": 15,
   "outputs": [
    {
     "data": {
      "text/plain": "Française                39041\nHors Union Européenne    18597\nUnion Européenne          3126\nName: Nationalité demandeur, dtype: int64"
     },
     "execution_count": 15,
     "metadata": {},
     "output_type": "execute_result"
    }
   ],
   "source": [
    "bdn=bdd['Nationalité demandeur'].value_counts()\n",
    "bdn"
   ],
   "metadata": {
    "collapsed": false,
    "pycharm": {
     "name": "#%%\n"
    }
   }
  },
  {
   "cell_type": "code",
   "execution_count": 16,
   "outputs": [
    {
     "data": {
      "text/plain": "<AxesSubplot:>"
     },
     "execution_count": 16,
     "metadata": {},
     "output_type": "execute_result"
    },
    {
     "data": {
      "text/plain": "<Figure size 432x288 with 1 Axes>",
      "image/png": "[encoded data removed]"
     },
     "metadata": {
      "needs_background": "light"
     },
     "output_type": "display_data"
    }
   ],
   "source": [
    "bdn.plot.barh()"
   ],
   "metadata": {
    "collapsed": false,
    "pycharm": {
     "name": "#%%\n"
    }
   }
  },
  {
   "cell_type": "markdown",
   "source": [
    "#### Sexe demandeur"
   ],
   "metadata": {
    "collapsed": false,
    "pycharm": {
     "name": "#%% md\n"
    }
   }
  },
  {
   "cell_type": "code",
   "execution_count": 17,
   "outputs": [
    {
     "data": {
      "text/plain": "F    32302\nM    28462\nName: Sexe demandeur, dtype: int64"
     },
     "execution_count": 17,
     "metadata": {},
     "output_type": "execute_result"
    }
   ],
   "source": [
    "bds=bdd['Sexe demandeur'].value_counts()\n",
    "bds\n"
   ],
   "metadata": {
    "collapsed": false,
    "pycharm": {
     "name": "#%%\n"
    }
   }
  },
  {
   "cell_type": "markdown",
   "source": [
    "#### Motif de la demande"
   ],
   "metadata": {
    "collapsed": false,
    "pycharm": {
     "name": "#%% md\n"
    }
   }
  },
  {
   "cell_type": "code",
   "execution_count": 18,
   "outputs": [
    {
     "data": {
      "text/plain": "Sans logement ou hébergé ou en logement temporaire                                                                        19070\nLogement trop petit                                                                                                       15481\nLogement trop cher                                                                                                         5561\nDivorce, séparation                                                                                                        2547\nDécohabitation                                                                                                             1834\nLogement repris ou mis en vente par son propriétaire                                                                       1771\nRaisons de santé                                                                                                           1751\nLogement non décent, insalubre ou dangereux ou local impropre à l'habitation (cave, sous-sol, garage, combles, cabane)     1522\nRapprochement du lieu de travail                                                                                           1506\nProblèmes d'environnement ou de voisinage                                                                                  1381\nHandicap                                                                                                                   1345\nAutre motif particulier (précisez)                                                                                         1308\nDémolition                                                                                                                 1294\nFutur mariage, concubinage, PACS                                                                                            927\nEn procédure d'expulsion                                                                                                    676\nViolences familiales                                                                                                        650\nLogement trop grand                                                                                                         505\nLogement non décent (ne répondant pas aux caractéristiques fixées par le décret n° 2002-120 du 30 janvier 2002)             437\nRapprochement de la famille                                                                                                 328\nRegroupement familial                                                                                                       285\nMutation professionnelle                                                                                                    249\nRapprochement des équipements et services                                                                                    94\nAssistant(e) maternel(le) ou familiale                                                                                       70\nAccédant à la propriété en difficulté                                                                                        57\nMobilité professionnelle                                                                                                     50\nProfession du demandeur ou de son conjoint : assistant(e) maternel(le) ou familiale                                          33\nLogement insalubre ou dangereux ou local impropre à l'habitation (cave, sous-sol, garage, combles, cabane)                   32\nName: motif n°1 de la demande, dtype: int64"
     },
     "execution_count": 18,
     "metadata": {},
     "output_type": "execute_result"
    }
   ],
   "source": [
    "bdm=bdd['motif n°1 de la demande'].value_counts()\n",
    "bdm"
   ],
   "metadata": {
    "collapsed": false,
    "pycharm": {
     "name": "#%%\n"
    }
   }
  },
  {
   "cell_type": "code",
   "execution_count": 19,
   "outputs": [
    {
     "data": {
      "text/plain": "<AxesSubplot:>"
     },
     "execution_count": 19,
     "metadata": {},
     "output_type": "execute_result"
    },
    {
     "data": {
      "text/plain": "<Figure size 432x288 with 1 Axes>",
      "image/png": "[encoded data removed]"
     },
     "metadata": {
      "needs_background": "light"
     },
     "output_type": "display_data"
    }
   ],
   "source": [
    "bdm.plot.barh()"
   ],
   "metadata": {
    "collapsed": false,
    "pycharm": {
     "name": "#%%\n"
    }
   }
  },
  {
   "cell_type": "markdown",
   "source": [
    "## Statistiques sur les demandeurs non attributaires"
   ],
   "metadata": {
    "collapsed": false,
    "pycharm": {
     "name": "#%% md\n"
    }
   }
  },
  {
   "cell_type": "markdown",
   "source": [
    "#### Réorganisation de la base de données"
   ],
   "metadata": {
    "collapsed": false,
    "pycharm": {
     "name": "#%% md\n"
    }
   }
  },
  {
   "cell_type": "code",
   "execution_count": 20,
   "outputs": [
    {
     "data": {
      "text/plain": "        Unnamed: 0_x       région_x       Numéro Unique  \\\n0                0.0  Ile-de-France  175037900427000002   \n1                1.0  Ile-de-France  175018000669100002   \n2                2.0  Ile-de-France  175028000646000002   \n3                3.0  Ile-de-France  175028000574100002   \n4                4.0  Ile-de-France  111091487693675056   \n...              ...            ...                 ...   \n797468           NaN            NaN  1111218129847GDPUB   \n797469           NaN            NaN  111121812788778498   \n797470           NaN            NaN  111121812792310122   \n797471           NaN            NaN  111121813038177438   \n797472           NaN            NaN  111121813209910389   \n\n       Date création demande_x  Age demandeur_x Situation familiale_x  \\\n0          1979-03-01 00:00:00             59.0             Veuf (ve)   \n1          1980-01-15 00:00:00             66.0           Célibataire   \n2          1980-02-17 00:00:00             80.0           Célibataire   \n3          1980-02-18 00:00:00             65.0           Célibataire   \n4          1980-04-15 00:00:00             82.0           Célibataire   \n...                        ...              ...                   ...   \n797468                     NaN              NaN                   NaN   \n797469                     NaN              NaN                   NaN   \n797470                     NaN              NaN                   NaN   \n797471                     NaN              NaN                   NaN   \n797472                     NaN              NaN                   NaN   \n\n        Code département logement actuel_x  Code INSEE logt actuel_x  \\\n0                                     75.0                   75112.0   \n1                                     75.0                   75113.0   \n2                                     75.0                   75113.0   \n3                                     75.0                   75104.0   \n4                                     75.0                   75114.0   \n...                                    ...                       ...   \n797468                                 NaN                       NaN   \n797469                                 NaN                       NaN   \n797470                                 NaN                       NaN   \n797471                                 NaN                       NaN   \n797472                                 NaN                       NaN   \n\n             Commune logt actuel_x Mode de logement actuel_x  ...  \\\n0       Paris 12ème arrondissement      Locataire parc privé  ...   \n1       Paris 13ème arrondissement      Locataire parc privé  ...   \n2       Paris 13ème arrondissement     Propriétaire occupant  ...   \n3        Paris 4ème arrondissement      Locataire parc privé  ...   \n4       Paris 14ème arrondissement             Locataire HLM  ...   \n...                            ...                       ...  ...   \n797468                         NaN                       NaN  ...   \n797469                         NaN                       NaN  ...   \n797470                         NaN                       NaN  ...   \n797471                         NaN                       NaN  ...   \n797472                         NaN                       NaN  ...   \n\n       Code de la commune attribuée  Région du logement attribué  \\\n0                           75120.0                Ile-de-France   \n1                               NaN                          NaN   \n2                               NaN                          NaN   \n3                               NaN                          NaN   \n4                               NaN                          NaN   \n...                             ...                          ...   \n797468                      78361.0                Ile-de-France   \n797469                      78498.0                Ile-de-France   \n797470                      78314.0                Ile-de-France   \n797471                      77243.0                Ile-de-France   \n797472                      91174.0                Ile-de-France   \n\n        Type du logement attribué  Est en QPV Surface du logement attribué  \\\n0                              T1         Oui                         20.0   \n1                             NaN         NaN                          NaN   \n2                             NaN         NaN                          NaN   \n3                             NaN         NaN                          NaN   \n4                             NaN         NaN                          NaN   \n...                           ...         ...                          ...   \n797468                         T2         Oui                         47.0   \n797469                         T2         Oui                         46.0   \n797470                         T2         Non                         53.0   \n797471                         T3         Non                         63.0   \n797472                         T2         Oui                         50.0   \n\n          Statut DALO Date de la décision DALO\\n\\n  Accompagnement social  \\\n0        Actif relogé          2012-06-15 00:00:00                    Non   \n1                 NaN                          NaN                    NaN   \n2                 NaN                          NaN                    NaN   \n3                 NaN                          NaN                    NaN   \n4                 NaN                          NaN                    NaN   \n...               ...                          ...                    ...   \n797468  Non renseigné                          NaN                    Non   \n797469  Non renseigné                          NaN                    Non   \n797470  Non renseigné                          NaN                    Non   \n797471  Non renseigné                          NaN                    Non   \n797472  Non renseigné                          NaN                    Non   \n\n        Diagnostic social                                       Réservataire  \n0                     Non  Contingent des collectivités territoriales, de...  \n1                     NaN                                                NaN  \n2                     NaN                                                NaN  \n3                     NaN                                                NaN  \n4                     NaN                                                NaN  \n...                   ...                                                ...  \n797468                Non                    Contingent autres réservataires  \n797469                Non                                 Contingent commune  \n797470                Non                                    Hors contingent  \n797471                Non                             Contingent département  \n797472                Non  Contingent préfet prioritaires (hors fonctionn...  \n\n[797473 rows x 66 columns]",
      "text/html": "<div>\n<style scoped>\n    .dataframe tbody tr th:only-of-type {\n        vertical-align: middle;\n    }\n\n    .dataframe tbody tr th {\n        vertical-align: top;\n    }\n\n    .dataframe thead th {\n        text-align: right;\n    }\n</style>\n<table border=\"1\" class=\"dataframe\">\n  <thead>\n    <tr style=\"text-align: right;\">\n      <th></th>\n      <th>Unnamed: 0_x</th>\n      <th>région_x</th>\n      <th>Numéro Unique</th>\n      <th>Date création demande_x</th>\n      <th>Age demandeur_x</th>\n      <th>Situation familiale_x</th>\n      <th>Code département logement actuel_x</th>\n      <th>Code INSEE logt actuel_x</th>\n      <th>Commune logt actuel_x</th>\n      <th>Mode de logement actuel_x</th>\n      <th>...</th>\n      <th>Code de la commune attribuée</th>\n      <th>Région du logement attribué</th>\n      <th>Type du logement attribué</th>\n      <th>Est en QPV</th>\n      <th>Surface du logement attribué</th>\n      <th>Statut DALO</th>\n      <th>Date de la décision DALO\\n\\n</th>\n      <th>Accompagnement social</th>\n      <th>Diagnostic social</th>\n      <th>Réservataire</th>\n    </tr>\n  </thead>\n  <tbody>\n    <tr>\n      <th>0</th>\n      <td>0.0</td>\n      <td>Ile-de-France</td>\n      <td>175037900427000002</td>\n      <td>1979-03-01 00:00:00</td>\n      <td>59.0</td>\n      <td>Veuf (ve)</td>\n      <td>75.0</td>\n      <td>75112.0</td>\n      <td>Paris 12ème arrondissement</td>\n      <td>Locataire parc privé</td>\n      <td>...</td>\n      <td>75120.0</td>\n      <td>Ile-de-France</td>\n      <td>T1</td>\n      <td>Oui</td>\n      <td>20.0</td>\n      <td>Actif relogé</td>\n      <td>2012-06-15 00:00:00</td>\n      <td>Non</td>\n      <td>Non</td>\n      <td>Contingent des collectivités territoriales, de...</td>\n    </tr>\n    <tr>\n      <th>1</th>\n      <td>1.0</td>\n      <td>Ile-de-France</td>\n      <td>175018000669100002</td>\n      <td>1980-01-15 00:00:00</td>\n      <td>66.0</td>\n      <td>Célibataire</td>\n      <td>75.0</td>\n      <td>75113.0</td>\n      <td>Paris 13ème arrondissement</td>\n      <td>Locataire parc privé</td>\n      <td>...</td>\n      <td>NaN</td>\n      <td>NaN</td>\n      <td>NaN</td>\n      <td>NaN</td>\n      <td>NaN</td>\n      <td>NaN</td>\n      <td>NaN</td>\n      <td>NaN</td>\n      <td>NaN</td>\n      <td>NaN</td>\n    </tr>\n    <tr>\n      <th>2</th>\n      <td>2.0</td>\n      <td>Ile-de-France</td>\n      <td>175028000646000002</td>\n      <td>1980-02-17 00:00:00</td>\n      <td>80.0</td>\n      <td>Célibataire</td>\n      <td>75.0</td>\n      <td>75113.0</td>\n      <td>Paris 13ème arrondissement</td>\n      <td>Propriétaire occupant</td>\n      <td>...</td>\n      <td>NaN</td>\n      <td>NaN</td>\n      <td>NaN</td>\n      <td>NaN</td>\n      <td>NaN</td>\n      <td>NaN</td>\n      <td>NaN</td>\n      <td>NaN</td>\n      <td>NaN</td>\n      <td>NaN</td>\n    </tr>\n    <tr>\n      <th>3</th>\n      <td>3.0</td>\n      <td>Ile-de-France</td>\n      <td>175028000574100002</td>\n      <td>1980-02-18 00:00:00</td>\n      <td>65.0</td>\n      <td>Célibataire</td>\n      <td>75.0</td>\n      <td>75104.0</td>\n      <td>Paris 4ème arrondissement</td>\n      <td>Locataire parc privé</td>\n      <td>...</td>\n      <td>NaN</td>\n      <td>NaN</td>\n      <td>NaN</td>\n      <td>NaN</td>\n      <td>NaN</td>\n      <td>NaN</td>\n      <td>NaN</td>\n      <td>NaN</td>\n      <td>NaN</td>\n      <td>NaN</td>\n    </tr>\n    <tr>\n      <th>4</th>\n      <td>4.0</td>\n      <td>Ile-de-France</td>\n      <td>111091487693675056</td>\n      <td>1980-04-15 00:00:00</td>\n      <td>82.0</td>\n      <td>Célibataire</td>\n      <td>75.0</td>\n      <td>75114.0</td>\n      <td>Paris 14ème arrondissement</td>\n      <td>Locataire HLM</td>\n      <td>...</td>\n      <td>NaN</td>\n      <td>NaN</td>\n      <td>NaN</td>\n      <td>NaN</td>\n      <td>NaN</td>\n      <td>NaN</td>\n      <td>NaN</td>\n      <td>NaN</td>\n      <td>NaN</td>\n      <td>NaN</td>\n    </tr>\n    <tr>\n      <th>...</th>\n      <td>...</td>\n      <td>...</td>\n      <td>...</td>\n      <td>...</td>\n      <td>...</td>\n      <td>...</td>\n      <td>...</td>\n      <td>...</td>\n      <td>...</td>\n      <td>...</td>\n      <td>...</td>\n      <td>...</td>\n      <td>...</td>\n      <td>...</td>\n      <td>...</td>\n      <td>...</td>\n      <td>...</td>\n      <td>...</td>\n      <td>...</td>\n      <td>...</td>\n      <td>...</td>\n    </tr>\n    <tr>\n      <th>797468</th>\n      <td>NaN</td>\n      <td>NaN</td>\n      <td>1111218129847GDPUB</td>\n      <td>NaN</td>\n      <td>NaN</td>\n      <td>NaN</td>\n      <td>NaN</td>\n      <td>NaN</td>\n      <td>NaN</td>\n      <td>NaN</td>\n      <td>...</td>\n      <td>78361.0</td>\n      <td>Ile-de-France</td>\n      <td>T2</td>\n      <td>Oui</td>\n      <td>47.0</td>\n      <td>Non renseigné</td>\n      <td>NaN</td>\n      <td>Non</td>\n      <td>Non</td>\n      <td>Contingent autres réservataires</td>\n    </tr>\n    <tr>\n      <th>797469</th>\n      <td>NaN</td>\n      <td>NaN</td>\n      <td>111121812788778498</td>\n      <td>NaN</td>\n      <td>NaN</td>\n      <td>NaN</td>\n      <td>NaN</td>\n      <td>NaN</td>\n      <td>NaN</td>\n      <td>NaN</td>\n      <td>...</td>\n      <td>78498.0</td>\n      <td>Ile-de-France</td>\n      <td>T2</td>\n      <td>Oui</td>\n      <td>46.0</td>\n      <td>Non renseigné</td>\n      <td>NaN</td>\n      <td>Non</td>\n      <td>Non</td>\n      <td>Contingent commune</td>\n    </tr>\n    <tr>\n      <th>797470</th>\n      <td>NaN</td>\n      <td>NaN</td>\n      <td>111121812792310122</td>\n      <td>NaN</td>\n      <td>NaN</td>\n      <td>NaN</td>\n      <td>NaN</td>\n      <td>NaN</td>\n      <td>NaN</td>\n      <td>NaN</td>\n      <td>...</td>\n      <td>78314.0</td>\n      <td>Ile-de-France</td>\n      <td>T2</td>\n      <td>Non</td>\n      <td>53.0</td>\n      <td>Non renseigné</td>\n      <td>NaN</td>\n      <td>Non</td>\n      <td>Non</td>\n      <td>Hors contingent</td>\n    </tr>\n    <tr>\n      <th>797471</th>\n      <td>NaN</td>\n      <td>NaN</td>\n      <td>111121813038177438</td>\n      <td>NaN</td>\n      <td>NaN</td>\n      <td>NaN</td>\n      <td>NaN</td>\n      <td>NaN</td>\n      <td>NaN</td>\n      <td>NaN</td>\n      <td>...</td>\n      <td>77243.0</td>\n      <td>Ile-de-France</td>\n      <td>T3</td>\n      <td>Non</td>\n      <td>63.0</td>\n      <td>Non renseigné</td>\n      <td>NaN</td>\n      <td>Non</td>\n      <td>Non</td>\n      <td>Contingent département</td>\n    </tr>\n    <tr>\n      <th>797472</th>\n      <td>NaN</td>\n      <td>NaN</td>\n      <td>111121813209910389</td>\n      <td>NaN</td>\n      <td>NaN</td>\n      <td>NaN</td>\n      <td>NaN</td>\n      <td>NaN</td>\n      <td>NaN</td>\n      <td>NaN</td>\n      <td>...</td>\n      <td>91174.0</td>\n      <td>Ile-de-France</td>\n      <td>T2</td>\n      <td>Oui</td>\n      <td>50.0</td>\n      <td>Non renseigné</td>\n      <td>NaN</td>\n      <td>Non</td>\n      <td>Non</td>\n      <td>Contingent préfet prioritaires (hors fonctionn...</td>\n    </tr>\n  </tbody>\n</table>\n<p>797473 rows × 66 columns</p>\n</div>"
     },
     "execution_count": 20,
     "metadata": {},
     "output_type": "execute_result"
    }
   ],
   "source": [
    "#Cette commande permet de ne garder dans le dataframe que les numéros uniques qui n'existent pas en double dans les deux bases de données\n",
    "base_bis = dfd.merge(dfa, on='Numéro Unique', how='outer')\n",
    "base_bis"
   ],
   "metadata": {
    "collapsed": false,
    "pycharm": {
     "name": "#%%\n"
    }
   }
  },
  {
   "cell_type": "code",
   "execution_count": 21,
   "outputs": [],
   "source": [
    "indexNames = base_bis[ base_bis['Date de la radiation'] == 'No' ].index"
   ],
   "metadata": {
    "collapsed": false,
    "pycharm": {
     "name": "#%%\n"
    }
   }
  },
  {
   "cell_type": "markdown",
   "source": [
    "Ce qu'on obtient dans la base de données ci-dessus, ce sont toutes les personnes qui sont soit dans la base de données demandeurs et qui n'ont pas obtenu de logement dans l'année, soit dans la base de données attributaires et qui n'étaient pas dans la base de données demandeurs de l'année précédente. Il faut séparer ces deux catégories et les étudier de façon indépendante."
   ],
   "metadata": {
    "collapsed": false,
    "pycharm": {
     "name": "#%% md\n"
    }
   }
  },
  {
   "cell_type": "code",
   "execution_count": 22,
   "outputs": [],
   "source": [
    "bdd_bis=base_bis[[ \"Montant maxi (loyer+charges) supportable_x\",  \"Ressources mensuelles du foyer_x\", \"Nb unités de consommation du foyer_x\", \"Situation professionnelle demandeur_x\", \"Montant AL / APL_x\", \"Loyer montant mensuel_x\", \"Nationalité demandeur\\n\", \"Sexe demandeur\\n\", \"Numéro Unique\"]]"
   ],
   "metadata": {
    "collapsed": false,
    "pycharm": {
     "name": "#%%\n"
    }
   }
  },
  {
   "cell_type": "code",
   "execution_count": 23,
   "outputs": [
    {
     "name": "stderr",
     "output_type": "stream",
     "text": [
      "C:\\Users\\arceb\\AppData\\Local\\Temp\\ipykernel_3392\\2516277862.py:1: SettingWithCopyWarning: \n",
      "A value is trying to be set on a copy of a slice from a DataFrame\n",
      "\n",
      "See the caveats in the documentation: https://pandas.pydata.org/pandas-docs/stable/user_guide/indexing.html#returning-a-view-versus-a-copy\n",
      "  bdd_bis.rename(columns={'Montant maxi (loyer+charges) supportable_x': 'Montant maxi (loyer+charges) supportable', 'Ressources mensuelles du foyer_x': 'Ressources mensuelles du foyer', 'Nb unités de consommation du foyer_x': 'Nb unités de consommation du foyer', 'Situation professionnelle demandeur_x':'Situation professionnelle demandeur', 'Montant AL / APL_x': 'Montant AL / APL', 'Loyer montant mensuel_x': 'Loyer montant mensuel', 'Nationalité demandeur\\n': 'Nationalité demandeur', 'Sexe demandeur\\n': 'Sexe demandeur'}, inplace=True)\n"
     ]
    },
    {
     "data": {
      "text/plain": "        Montant maxi (loyer+charges) supportable  \\\n0                                          300.0   \n1                                          299.0   \n2                                          400.0   \n3                                          750.0   \n4                                          300.0   \n...                                          ...   \n797468                                       NaN   \n797469                                       NaN   \n797470                                       NaN   \n797471                                       NaN   \n797472                                       NaN   \n\n        Ressources mensuelles du foyer  Nb unités de consommation du foyer  \\\n0                                556.0                                 1.0   \n1                               1906.0                                 1.0   \n2                               1446.0                                 1.0   \n3                               2323.0                                 1.5   \n4                               1447.0                                 1.0   \n...                                ...                                 ...   \n797468                             NaN                                 NaN   \n797469                             NaN                                 NaN   \n797470                             NaN                                 NaN   \n797471                             NaN                                 NaN   \n797472                             NaN                                 NaN   \n\n       Situation professionnelle demandeur  Montant AL / APL  \\\n0                                 Retraité               0.0   \n1                                 Retraité               0.0   \n2                                 Retraité               0.0   \n3                   CDI (ou fonctionnaire)               0.0   \n4                                 Retraité               0.0   \n...                                    ...               ...   \n797468                                 NaN               NaN   \n797469                                 NaN               NaN   \n797470                                 NaN               NaN   \n797471                                 NaN               NaN   \n797472                                 NaN               NaN   \n\n        Loyer montant mensuel  Nationalité demandeur Sexe demandeur  \\\n0                       308.0  Hors Union Européenne              F   \n1                       299.0              Française              F   \n2                         NaN              Française              M   \n3                       957.0              Française              F   \n4                       268.0              Française              F   \n...                       ...                    ...            ...   \n797468                    NaN                    NaN            NaN   \n797469                    NaN                    NaN            NaN   \n797470                    NaN                    NaN            NaN   \n797471                    NaN                    NaN            NaN   \n797472                    NaN                    NaN            NaN   \n\n             Numéro Unique  \n0       175037900427000002  \n1       175018000669100002  \n2       175028000646000002  \n3       175028000574100002  \n4       111091487693675056  \n...                    ...  \n797468  1111218129847GDPUB  \n797469  111121812788778498  \n797470  111121812792310122  \n797471  111121813038177438  \n797472  111121813209910389  \n\n[797473 rows x 9 columns]",
      "text/html": "<div>\n<style scoped>\n    .dataframe tbody tr th:only-of-type {\n        vertical-align: middle;\n    }\n\n    .dataframe tbody tr th {\n        vertical-align: top;\n    }\n\n    .dataframe thead th {\n        text-align: right;\n    }\n</style>\n<table border=\"1\" class=\"dataframe\">\n  <thead>\n    <tr style=\"text-align: right;\">\n      <th></th>\n      <th>Montant maxi (loyer+charges) supportable</th>\n      <th>Ressources mensuelles du foyer</th>\n      <th>Nb unités de consommation du foyer</th>\n      <th>Situation professionnelle demandeur</th>\n      <th>Montant AL / APL</th>\n      <th>Loyer montant mensuel</th>\n      <th>Nationalité demandeur</th>\n      <th>Sexe demandeur</th>\n      <th>Numéro Unique</th>\n    </tr>\n  </thead>\n  <tbody>\n    <tr>\n      <th>0</th>\n      <td>300.0</td>\n      <td>556.0</td>\n      <td>1.0</td>\n      <td>Retraité</td>\n      <td>0.0</td>\n      <td>308.0</td>\n      <td>Hors Union Européenne</td>\n      <td>F</td>\n      <td>175037900427000002</td>\n    </tr>\n    <tr>\n      <th>1</th>\n      <td>299.0</td>\n      <td>1906.0</td>\n      <td>1.0</td>\n      <td>Retraité</td>\n      <td>0.0</td>\n      <td>299.0</td>\n      <td>Française</td>\n      <td>F</td>\n      <td>175018000669100002</td>\n    </tr>\n    <tr>\n      <th>2</th>\n      <td>400.0</td>\n      <td>1446.0</td>\n      <td>1.0</td>\n      <td>Retraité</td>\n      <td>0.0</td>\n      <td>NaN</td>\n      <td>Française</td>\n      <td>M</td>\n      <td>175028000646000002</td>\n    </tr>\n    <tr>\n      <th>3</th>\n      <td>750.0</td>\n      <td>2323.0</td>\n      <td>1.5</td>\n      <td>CDI (ou fonctionnaire)</td>\n      <td>0.0</td>\n      <td>957.0</td>\n      <td>Française</td>\n      <td>F</td>\n      <td>175028000574100002</td>\n    </tr>\n    <tr>\n      <th>4</th>\n      <td>300.0</td>\n      <td>1447.0</td>\n      <td>1.0</td>\n      <td>Retraité</td>\n      <td>0.0</td>\n      <td>268.0</td>\n      <td>Française</td>\n      <td>F</td>\n      <td>111091487693675056</td>\n    </tr>\n    <tr>\n      <th>...</th>\n      <td>...</td>\n      <td>...</td>\n      <td>...</td>\n      <td>...</td>\n      <td>...</td>\n      <td>...</td>\n      <td>...</td>\n      <td>...</td>\n      <td>...</td>\n    </tr>\n    <tr>\n      <th>797468</th>\n      <td>NaN</td>\n      <td>NaN</td>\n      <td>NaN</td>\n      <td>NaN</td>\n      <td>NaN</td>\n      <td>NaN</td>\n      <td>NaN</td>\n      <td>NaN</td>\n      <td>1111218129847GDPUB</td>\n    </tr>\n    <tr>\n      <th>797469</th>\n      <td>NaN</td>\n      <td>NaN</td>\n      <td>NaN</td>\n      <td>NaN</td>\n      <td>NaN</td>\n      <td>NaN</td>\n      <td>NaN</td>\n      <td>NaN</td>\n      <td>111121812788778498</td>\n    </tr>\n    <tr>\n      <th>797470</th>\n      <td>NaN</td>\n      <td>NaN</td>\n      <td>NaN</td>\n      <td>NaN</td>\n      <td>NaN</td>\n      <td>NaN</td>\n      <td>NaN</td>\n      <td>NaN</td>\n      <td>111121812792310122</td>\n    </tr>\n    <tr>\n      <th>797471</th>\n      <td>NaN</td>\n      <td>NaN</td>\n      <td>NaN</td>\n      <td>NaN</td>\n      <td>NaN</td>\n      <td>NaN</td>\n      <td>NaN</td>\n      <td>NaN</td>\n      <td>111121813038177438</td>\n    </tr>\n    <tr>\n      <th>797472</th>\n      <td>NaN</td>\n      <td>NaN</td>\n      <td>NaN</td>\n      <td>NaN</td>\n      <td>NaN</td>\n      <td>NaN</td>\n      <td>NaN</td>\n      <td>NaN</td>\n      <td>111121813209910389</td>\n    </tr>\n  </tbody>\n</table>\n<p>797473 rows × 9 columns</p>\n</div>"
     },
     "execution_count": 23,
     "metadata": {},
     "output_type": "execute_result"
    }
   ],
   "source": [
    "bdd_bis.rename(columns={'Montant maxi (loyer+charges) supportable_x': 'Montant maxi (loyer+charges) supportable', 'Ressources mensuelles du foyer_x': 'Ressources mensuelles du foyer', 'Nb unités de consommation du foyer_x': 'Nb unités de consommation du foyer', 'Situation professionnelle demandeur_x':'Situation professionnelle demandeur', 'Montant AL / APL_x': 'Montant AL / APL', 'Loyer montant mensuel_x': 'Loyer montant mensuel', 'Nationalité demandeur\\n': 'Nationalité demandeur', 'Sexe demandeur\\n': 'Sexe demandeur'}, inplace=True)\n",
    "bdd_bis"
   ],
   "metadata": {
    "collapsed": false,
    "pycharm": {
     "name": "#%%\n"
    }
   }
  },
  {
   "cell_type": "markdown",
   "source": [
    "On enlève les endroits dans les cases où il y a des \"NaN\" (c'est-à-dire les endroits où il manque des valeurs) dans les colonnes de la première base qui contient les données sur les demandeurs. En procédant ainsi on retire les attributaires de la deuxième base, qui correspondent aux personnes auxquelles on a attribué un logement dans l'année et qui n'étaient pas dans la base des demandeurs."
   ],
   "metadata": {
    "collapsed": false,
    "pycharm": {
     "name": "#%% md\n"
    }
   }
  },
  {
   "cell_type": "code",
   "execution_count": 24,
   "outputs": [
    {
     "name": "stderr",
     "output_type": "stream",
     "text": [
      "C:\\Users\\arceb\\AppData\\Local\\Temp\\ipykernel_3392\\2504137402.py:1: SettingWithCopyWarning: \n",
      "A value is trying to be set on a copy of a slice from a DataFrame\n",
      "\n",
      "See the caveats in the documentation: https://pandas.pydata.org/pandas-docs/stable/user_guide/indexing.html#returning-a-view-versus-a-copy\n",
      "  bdd_bis.dropna(inplace=True)\n"
     ]
    }
   ],
   "source": [
    "bdd_bis.dropna(inplace=True)"
   ],
   "metadata": {
    "collapsed": false,
    "pycharm": {
     "name": "#%%\n"
    }
   }
  },
  {
   "cell_type": "code",
   "execution_count": 25,
   "outputs": [
    {
     "data": {
      "text/plain": "        Montant maxi (loyer+charges) supportable  \\\n0                                          300.0   \n1                                          299.0   \n3                                          750.0   \n4                                          300.0   \n7                                          750.0   \n...                                          ...   \n704514                                     750.0   \n704515                                     450.0   \n704517                                    1400.0   \n704519                                     600.0   \n704520                                     395.0   \n\n        Ressources mensuelles du foyer  Nb unités de consommation du foyer  \\\n0                                556.0                                 1.0   \n1                               1906.0                                 1.0   \n3                               2323.0                                 1.5   \n4                               1447.0                                 1.0   \n7                               2296.0                                 1.0   \n...                                ...                                 ...   \n704514                          1800.0                                 1.0   \n704515                          1200.0                                 1.0   \n704517                          4821.0                                 1.8   \n704519                          1643.0                                 1.3   \n704520                          1186.0                                 1.0   \n\n       Situation professionnelle demandeur  Montant AL / APL  \\\n0                                 Retraité               0.0   \n1                                 Retraité               0.0   \n3                   CDI (ou fonctionnaire)               0.0   \n4                                 Retraité               0.0   \n7                                 Retraité               0.0   \n...                                    ...               ...   \n704514                  CDD,Stage, intérim             231.0   \n704515                                 CDI               0.0   \n704517              CDI (ou fonctionnaire)               0.0   \n704519              CDI (ou fonctionnaire)               0.0   \n704520              CDI (ou fonctionnaire)               0.0   \n\n        Loyer montant mensuel  Nationalité demandeur Sexe demandeur  \\\n0                       308.0  Hors Union Européenne              F   \n1                       299.0              Française              F   \n3                       957.0              Française              F   \n4                       268.0              Française              F   \n7                      1026.0              Française              F   \n...                       ...                    ...            ...   \n704514                  594.0              Française              F   \n704515                  750.0  Hors Union Européenne              F   \n704517                    0.0              Française              F   \n704519                  561.0              Française              F   \n704520                    0.0              Française              F   \n\n             Numéro Unique  \n0       175037900427000002  \n1       175018000669100002  \n3       175028000574100002  \n4       111091487693675056  \n7       175108000569800002  \n...                    ...  \n704514  1110118850622GDPUB  \n704515  111011885169695018  \n704517  1110118874178AL010  \n704519  1110118890705AL003  \n704520  1110118912212AL003  \n\n[359410 rows x 9 columns]",
      "text/html": "<div>\n<style scoped>\n    .dataframe tbody tr th:only-of-type {\n        vertical-align: middle;\n    }\n\n    .dataframe tbody tr th {\n        vertical-align: top;\n    }\n\n    .dataframe thead th {\n        text-align: right;\n    }\n</style>\n<table border=\"1\" class=\"dataframe\">\n  <thead>\n    <tr style=\"text-align: right;\">\n      <th></th>\n      <th>Montant maxi (loyer+charges) supportable</th>\n      <th>Ressources mensuelles du foyer</th>\n      <th>Nb unités de consommation du foyer</th>\n      <th>Situation professionnelle demandeur</th>\n      <th>Montant AL / APL</th>\n      <th>Loyer montant mensuel</th>\n      <th>Nationalité demandeur</th>\n      <th>Sexe demandeur</th>\n      <th>Numéro Unique</th>\n    </tr>\n  </thead>\n  <tbody>\n    <tr>\n      <th>0</th>\n      <td>300.0</td>\n      <td>556.0</td>\n      <td>1.0</td>\n      <td>Retraité</td>\n      <td>0.0</td>\n      <td>308.0</td>\n      <td>Hors Union Européenne</td>\n      <td>F</td>\n      <td>175037900427000002</td>\n    </tr>\n    <tr>\n      <th>1</th>\n      <td>299.0</td>\n      <td>1906.0</td>\n      <td>1.0</td>\n      <td>Retraité</td>\n      <td>0.0</td>\n      <td>299.0</td>\n      <td>Française</td>\n      <td>F</td>\n      <td>175018000669100002</td>\n    </tr>\n    <tr>\n      <th>3</th>\n      <td>750.0</td>\n      <td>2323.0</td>\n      <td>1.5</td>\n      <td>CDI (ou fonctionnaire)</td>\n      <td>0.0</td>\n      <td>957.0</td>\n      <td>Française</td>\n      <td>F</td>\n      <td>175028000574100002</td>\n    </tr>\n    <tr>\n      <th>4</th>\n      <td>300.0</td>\n      <td>1447.0</td>\n      <td>1.0</td>\n      <td>Retraité</td>\n      <td>0.0</td>\n      <td>268.0</td>\n      <td>Française</td>\n      <td>F</td>\n      <td>111091487693675056</td>\n    </tr>\n    <tr>\n      <th>7</th>\n      <td>750.0</td>\n      <td>2296.0</td>\n      <td>1.0</td>\n      <td>Retraité</td>\n      <td>0.0</td>\n      <td>1026.0</td>\n      <td>Française</td>\n      <td>F</td>\n      <td>175108000569800002</td>\n    </tr>\n    <tr>\n      <th>...</th>\n      <td>...</td>\n      <td>...</td>\n      <td>...</td>\n      <td>...</td>\n      <td>...</td>\n      <td>...</td>\n      <td>...</td>\n      <td>...</td>\n      <td>...</td>\n    </tr>\n    <tr>\n      <th>704514</th>\n      <td>750.0</td>\n      <td>1800.0</td>\n      <td>1.0</td>\n      <td>CDD,Stage, intérim</td>\n      <td>231.0</td>\n      <td>594.0</td>\n      <td>Française</td>\n      <td>F</td>\n      <td>1110118850622GDPUB</td>\n    </tr>\n    <tr>\n      <th>704515</th>\n      <td>450.0</td>\n      <td>1200.0</td>\n      <td>1.0</td>\n      <td>CDI</td>\n      <td>0.0</td>\n      <td>750.0</td>\n      <td>Hors Union Européenne</td>\n      <td>F</td>\n      <td>111011885169695018</td>\n    </tr>\n    <tr>\n      <th>704517</th>\n      <td>1400.0</td>\n      <td>4821.0</td>\n      <td>1.8</td>\n      <td>CDI (ou fonctionnaire)</td>\n      <td>0.0</td>\n      <td>0.0</td>\n      <td>Française</td>\n      <td>F</td>\n      <td>1110118874178AL010</td>\n    </tr>\n    <tr>\n      <th>704519</th>\n      <td>600.0</td>\n      <td>1643.0</td>\n      <td>1.3</td>\n      <td>CDI (ou fonctionnaire)</td>\n      <td>0.0</td>\n      <td>561.0</td>\n      <td>Française</td>\n      <td>F</td>\n      <td>1110118890705AL003</td>\n    </tr>\n    <tr>\n      <th>704520</th>\n      <td>395.0</td>\n      <td>1186.0</td>\n      <td>1.0</td>\n      <td>CDI (ou fonctionnaire)</td>\n      <td>0.0</td>\n      <td>0.0</td>\n      <td>Française</td>\n      <td>F</td>\n      <td>1110118912212AL003</td>\n    </tr>\n  </tbody>\n</table>\n<p>359410 rows × 9 columns</p>\n</div>"
     },
     "execution_count": 25,
     "metadata": {},
     "output_type": "execute_result"
    }
   ],
   "source": [
    "bdd_bis"
   ],
   "metadata": {
    "collapsed": false,
    "pycharm": {
     "name": "#%%\n"
    }
   }
  },
  {
   "cell_type": "markdown",
   "source": [
    "#### Situation professionnelle des demandeurs"
   ],
   "metadata": {
    "collapsed": false,
    "pycharm": {
     "name": "#%% md\n"
    }
   }
  },
  {
   "cell_type": "code",
   "execution_count": 26,
   "outputs": [
    {
     "data": {
      "text/plain": "CDI (ou fonctionnaire)                      104582\nCDI                                          80667\nAutre                                        49696\nCDD,Stage, intérim                           41115\nChômage                                      39556\nRetraité                                     25451\nArtisan, commerçant, profession libérale      9821\nEtudiant                                      3001\nAgents publics                                2848\nApprenti                                      2673\nName: Situation professionnelle demandeur, dtype: int64"
     },
     "execution_count": 26,
     "metadata": {},
     "output_type": "execute_result"
    }
   ],
   "source": [
    "bdp_bis=bdd_bis['Situation professionnelle demandeur'].value_counts()\n",
    "bdp_bis"
   ],
   "metadata": {
    "collapsed": false,
    "pycharm": {
     "name": "#%%\n"
    }
   }
  },
  {
   "cell_type": "code",
   "execution_count": 27,
   "outputs": [
    {
     "data": {
      "text/plain": "<AxesSubplot:>"
     },
     "execution_count": 27,
     "metadata": {},
     "output_type": "execute_result"
    },
    {
     "data": {
      "text/plain": "<Figure size 432x288 with 1 Axes>",
      "image/png": "[encoded data removed]"
     },
     "metadata": {
      "needs_background": "light"
     },
     "output_type": "display_data"
    }
   ],
   "source": [
    "bdp_bis.plot.barh()"
   ],
   "metadata": {
    "collapsed": false,
    "pycharm": {
     "name": "#%%\n"
    }
   }
  },
  {
   "cell_type": "code",
   "execution_count": 28,
   "outputs": [
    {
     "data": {
      "text/plain": "<AxesSubplot:>"
     },
     "execution_count": 28,
     "metadata": {},
     "output_type": "execute_result"
    },
    {
     "data": {
      "text/plain": "<Figure size 432x288 with 1 Axes>",
      "image/png": "[encoded data removed]"
     },
     "metadata": {
      "needs_background": "light"
     },
     "output_type": "display_data"
    }
   ],
   "source": [
    "#Comparaison entre les deux situations au niveau de la répartition de l'emploi\n",
    "d = pd.DataFrame({'demandeurs attributaires': bdp, 'demandeurs non attributaires': bdp_bis})\n",
    "d.plot.barh(color={\"demandeurs attributaires\": \"red\", \"demandeurs non attributaires\": \"green\"})"
   ],
   "metadata": {
    "collapsed": false,
    "pycharm": {
     "name": "#%%\n"
    }
   }
  },
  {
   "cell_type": "markdown",
   "source": [
    "Les résultats ne sont pas très concluants en raison des fortes disproportions d'échelles. Il comparer ces répartitions propotionnellement au nombre total de chaque catégorie."
   ],
   "metadata": {
    "collapsed": false,
    "pycharm": {
     "name": "#%% md\n"
    }
   }
  },
  {
   "cell_type": "code",
   "execution_count": 29,
   "outputs": [
    {
     "data": {
      "text/plain": "                                          demandeurs attributaires  \\\nAgents publics                                                  48   \nApprenti                                                       341   \nArtisan, commerçant, profession libérale                       881   \nAutre                                                         5628   \nCDD,Stage, intérim                                            8989   \nCDI                                                           7638   \nCDI (ou fonctionnaire)                                       30250   \nChômage                                                       4141   \nEtudiant                                                       183   \nRetraité                                                      2665   \n\n                                          demandeurs non attributaires  \nAgents publics                                                    2848  \nApprenti                                                          2673  \nArtisan, commerçant, profession libérale                          9821  \nAutre                                                            49696  \nCDD,Stage, intérim                                               41115  \nCDI                                                              80667  \nCDI (ou fonctionnaire)                                          104582  \nChômage                                                          39556  \nEtudiant                                                          3001  \nRetraité                                                         25451  ",
      "text/html": "<div>\n<style scoped>\n    .dataframe tbody tr th:only-of-type {\n        vertical-align: middle;\n    }\n\n    .dataframe tbody tr th {\n        vertical-align: top;\n    }\n\n    .dataframe thead th {\n        text-align: right;\n    }\n</style>\n<table border=\"1\" class=\"dataframe\">\n  <thead>\n    <tr style=\"text-align: right;\">\n      <th></th>\n      <th>demandeurs attributaires</th>\n      <th>demandeurs non attributaires</th>\n    </tr>\n  </thead>\n  <tbody>\n    <tr>\n      <th>Agents publics</th>\n      <td>48</td>\n      <td>2848</td>\n    </tr>\n    <tr>\n      <th>Apprenti</th>\n      <td>341</td>\n      <td>2673</td>\n    </tr>\n    <tr>\n      <th>Artisan, commerçant, profession libérale</th>\n      <td>881</td>\n      <td>9821</td>\n    </tr>\n    <tr>\n      <th>Autre</th>\n      <td>5628</td>\n      <td>49696</td>\n    </tr>\n    <tr>\n      <th>CDD,Stage, intérim</th>\n      <td>8989</td>\n      <td>41115</td>\n    </tr>\n    <tr>\n      <th>CDI</th>\n      <td>7638</td>\n      <td>80667</td>\n    </tr>\n    <tr>\n      <th>CDI (ou fonctionnaire)</th>\n      <td>30250</td>\n      <td>104582</td>\n    </tr>\n    <tr>\n      <th>Chômage</th>\n      <td>4141</td>\n      <td>39556</td>\n    </tr>\n    <tr>\n      <th>Etudiant</th>\n      <td>183</td>\n      <td>3001</td>\n    </tr>\n    <tr>\n      <th>Retraité</th>\n      <td>2665</td>\n      <td>25451</td>\n    </tr>\n  </tbody>\n</table>\n</div>"
     },
     "execution_count": 29,
     "metadata": {},
     "output_type": "execute_result"
    }
   ],
   "source": [
    "d"
   ],
   "metadata": {
    "collapsed": false,
    "pycharm": {
     "name": "#%%\n"
    }
   }
  },
  {
   "cell_type": "code",
   "execution_count": 30,
   "outputs": [],
   "source": [
    "d[\"demandeurs attributaires\"]=d['demandeurs attributaires']/d['demandeurs attributaires'].sum()\n",
    "d[\"demandeurs non attributaires\"]=d[\"demandeurs non attributaires\"]/d[\"demandeurs non attributaires\"].sum()"
   ],
   "metadata": {
    "collapsed": false,
    "pycharm": {
     "name": "#%%\n"
    }
   }
  },
  {
   "cell_type": "code",
   "execution_count": 31,
   "outputs": [
    {
     "data": {
      "text/plain": "                                          demandeurs attributaires  \\\nAgents publics                                            0.000790   \nApprenti                                                  0.005612   \nArtisan, commerçant, profession libérale                  0.014499   \nAutre                                                     0.092621   \nCDD,Stage, intérim                                        0.147933   \nCDI                                                       0.125699   \nCDI (ou fonctionnaire)                                    0.497828   \nChômage                                                   0.068149   \nEtudiant                                                  0.003012   \nRetraité                                                  0.043858   \n\n                                          demandeurs non attributaires  \nAgents publics                                                0.007924  \nApprenti                                                      0.007437  \nArtisan, commerçant, profession libérale                      0.027325  \nAutre                                                         0.138271  \nCDD,Stage, intérim                                            0.114396  \nCDI                                                           0.224443  \nCDI (ou fonctionnaire)                                        0.290982  \nChômage                                                       0.110058  \nEtudiant                                                      0.008350  \nRetraité                                                      0.070813  ",
      "text/html": "<div>\n<style scoped>\n    .dataframe tbody tr th:only-of-type {\n        vertical-align: middle;\n    }\n\n    .dataframe tbody tr th {\n        vertical-align: top;\n    }\n\n    .dataframe thead th {\n        text-align: right;\n    }\n</style>\n<table border=\"1\" class=\"dataframe\">\n  <thead>\n    <tr style=\"text-align: right;\">\n      <th></th>\n      <th>demandeurs attributaires</th>\n      <th>demandeurs non attributaires</th>\n    </tr>\n  </thead>\n  <tbody>\n    <tr>\n      <th>Agents publics</th>\n      <td>0.000790</td>\n      <td>0.007924</td>\n    </tr>\n    <tr>\n      <th>Apprenti</th>\n      <td>0.005612</td>\n      <td>0.007437</td>\n    </tr>\n    <tr>\n      <th>Artisan, commerçant, profession libérale</th>\n      <td>0.014499</td>\n      <td>0.027325</td>\n    </tr>\n    <tr>\n      <th>Autre</th>\n      <td>0.092621</td>\n      <td>0.138271</td>\n    </tr>\n    <tr>\n      <th>CDD,Stage, intérim</th>\n      <td>0.147933</td>\n      <td>0.114396</td>\n    </tr>\n    <tr>\n      <th>CDI</th>\n      <td>0.125699</td>\n      <td>0.224443</td>\n    </tr>\n    <tr>\n      <th>CDI (ou fonctionnaire)</th>\n      <td>0.497828</td>\n      <td>0.290982</td>\n    </tr>\n    <tr>\n      <th>Chômage</th>\n      <td>0.068149</td>\n      <td>0.110058</td>\n    </tr>\n    <tr>\n      <th>Etudiant</th>\n      <td>0.003012</td>\n      <td>0.008350</td>\n    </tr>\n    <tr>\n      <th>Retraité</th>\n      <td>0.043858</td>\n      <td>0.070813</td>\n    </tr>\n  </tbody>\n</table>\n</div>"
     },
     "execution_count": 31,
     "metadata": {},
     "output_type": "execute_result"
    }
   ],
   "source": [
    "d"
   ],
   "metadata": {
    "collapsed": false,
    "pycharm": {
     "name": "#%%\n"
    }
   }
  },
  {
   "cell_type": "code",
   "execution_count": 32,
   "outputs": [
    {
     "data": {
      "text/plain": "<AxesSubplot:>"
     },
     "execution_count": 32,
     "metadata": {},
     "output_type": "execute_result"
    },
    {
     "data": {
      "text/plain": "<Figure size 432x288 with 1 Axes>",
      "image/png": "[encoded data removed]"
     },
     "metadata": {
      "needs_background": "light"
     },
     "output_type": "display_data"
    }
   ],
   "source": [
    "d.plot.barh(color={\"demandeurs attributaires\": \"red\", \"demandeurs non attributaires\": \"green\"})"
   ],
   "metadata": {
    "collapsed": false,
    "pycharm": {
     "name": "#%%\n"
    }
   }
  },
  {
   "cell_type": "markdown",
   "source": [
    "Voici les résultats représentés de façon  proportionnelle. On peut voir que proportionnellement, au niveau de la répartition, les logements dans l'année sont davantage attribués à des personnes ayant un CDD ou un CDI (en rouge). Pour les personnes qui ne reçoivent pas de logement dans l'année, on retrouve davantage des personnes retraitées ou au chômage ou autre. Met en évidence ue recherche de certaine stabilité de la part des bailleurs ?"
   ],
   "metadata": {
    "collapsed": false,
    "pycharm": {
     "name": "#%% md\n"
    }
   }
  },
  {
   "cell_type": "markdown",
   "source": [
    "#### Nationalité demandeur"
   ],
   "metadata": {
    "collapsed": false,
    "pycharm": {
     "name": "#%% md\n"
    }
   }
  },
  {
   "cell_type": "code",
   "execution_count": 33,
   "outputs": [
    {
     "data": {
      "text/plain": "Française                233089\nHors Union Européenne    109094\nUnion Européenne          17227\nName: Nationalité demandeur, dtype: int64"
     },
     "execution_count": 33,
     "metadata": {},
     "output_type": "execute_result"
    }
   ],
   "source": [
    "bdn_bis=bdd_bis['Nationalité demandeur'].value_counts()\n",
    "bdn_bis"
   ],
   "metadata": {
    "collapsed": false,
    "pycharm": {
     "name": "#%%\n"
    }
   }
  },
  {
   "cell_type": "code",
   "execution_count": 34,
   "outputs": [],
   "source": [
    "dn = pd.DataFrame({'demandeurs attributaires': bdn, 'demandeurs non attributaires': bdn_bis})\n",
    "dn[\"demandeurs attributaires\"]=dn['demandeurs attributaires']/dn['demandeurs attributaires'].sum()\n",
    "dn[\"demandeurs non attributaires\"]=dn[\"demandeurs non attributaires\"]/dn[\"demandeurs non attributaires\"].sum()"
   ],
   "metadata": {
    "collapsed": false,
    "pycharm": {
     "name": "#%%\n"
    }
   }
  },
  {
   "cell_type": "code",
   "execution_count": 35,
   "outputs": [
    {
     "data": {
      "text/plain": "<AxesSubplot:>"
     },
     "execution_count": 35,
     "metadata": {},
     "output_type": "execute_result"
    },
    {
     "data": {
      "text/plain": "<Figure size 432x288 with 1 Axes>",
      "image/png": "[encoded data removed]"
     },
     "metadata": {
      "needs_background": "light"
     },
     "output_type": "display_data"
    }
   ],
   "source": [
    "dn.plot.barh(color={\"demandeurs attributaires\": \"red\", \"demandeurs non attributaires\": \"green\"})"
   ],
   "metadata": {
    "collapsed": false,
    "pycharm": {
     "name": "#%%\n"
    }
   }
  },
  {
   "cell_type": "markdown",
   "source": [
    "Il est assez intéressant de voir qu'on a propotionnellement plus d'attributions de logements sociaux aux personnes non françaises. Peut-être faudrait-il coupler ça à des données de revenu ?"
   ],
   "metadata": {
    "collapsed": false,
    "pycharm": {
     "name": "#%% md\n"
    }
   }
  },
  {
   "cell_type": "markdown",
   "source": [
    "#### Sexe du demandeur"
   ],
   "metadata": {
    "collapsed": false,
    "pycharm": {
     "name": "#%% md\n"
    }
   }
  },
  {
   "cell_type": "code",
   "execution_count": 36,
   "outputs": [
    {
     "data": {
      "text/plain": "F    196437\nM    162973\nName: Sexe demandeur, dtype: int64"
     },
     "execution_count": 36,
     "metadata": {},
     "output_type": "execute_result"
    }
   ],
   "source": [
    "bds_bis=bdd_bis['Sexe demandeur'].value_counts()\n",
    "bds_bis"
   ],
   "metadata": {
    "collapsed": false,
    "pycharm": {
     "name": "#%%\n"
    }
   }
  },
  {
   "cell_type": "code",
   "execution_count": 37,
   "outputs": [],
   "source": [
    "ds = pd.DataFrame({'demandeurs attributaires': bds, 'demandeurs non attributaires': bds_bis})\n",
    "ds[\"demandeurs attributaires\"]=ds['demandeurs attributaires']/ds['demandeurs attributaires'].sum()\n",
    "ds[\"demandeurs non attributaires\"]=ds[\"demandeurs non attributaires\"]/ds[\"demandeurs non attributaires\"].sum()"
   ],
   "metadata": {
    "collapsed": false,
    "pycharm": {
     "name": "#%%\n"
    }
   }
  },
  {
   "cell_type": "code",
   "execution_count": 38,
   "outputs": [
    {
     "data": {
      "text/plain": "<AxesSubplot:>"
     },
     "execution_count": 38,
     "metadata": {},
     "output_type": "execute_result"
    },
    {
     "data": {
      "text/plain": "<Figure size 432x288 with 1 Axes>",
      "image/png": "[encoded data removed]"
     },
     "metadata": {
      "needs_background": "light"
     },
     "output_type": "display_data"
    }
   ],
   "source": [
    "ds.plot.barh(color={\"demandeurs attributaires\": \"red\", \"demandeurs non attributaires\": \"green\"})"
   ],
   "metadata": {
    "collapsed": false,
    "pycharm": {
     "name": "#%%\n"
    }
   }
  },
  {
   "cell_type": "markdown",
   "source": [
    "Proportionellement il semblerait qu'on accorde davantage les logements aux femmes. Corrélations avec le fait que ce soit souvent les familles monoparentales, avec de nombreux enfants ?"
   ],
   "metadata": {
    "collapsed": false,
    "pycharm": {
     "name": "#%% md\n"
    }
   }
  },
  {
   "cell_type": "markdown",
   "source": [
    "#### Motif du demandeur"
   ],
   "metadata": {
    "collapsed": false,
    "pycharm": {
     "name": "#%% md\n"
    }
   }
  },
  {
   "cell_type": "code",
   "execution_count": 41,
   "outputs": [
    {
     "ename": "KeyError",
     "evalue": "'motif n°1 de la demande'",
     "output_type": "error",
     "traceback": [
      "\u001B[1;31m---------------------------------------------------------------------------\u001B[0m",
      "\u001B[1;31mKeyError\u001B[0m                                  Traceback (most recent call last)",
      "File \u001B[1;32m~\\AppData\\Local\\Programs\\Python\\Python39\\lib\\site-packages\\pandas\\core\\indexes\\base.py:3621\u001B[0m, in \u001B[0;36mIndex.get_loc\u001B[1;34m(self, key, method, tolerance)\u001B[0m\n\u001B[0;32m   3620\u001B[0m \u001B[38;5;28;01mtry\u001B[39;00m:\n\u001B[1;32m-> 3621\u001B[0m     \u001B[38;5;28;01mreturn\u001B[39;00m \u001B[38;5;28;43mself\u001B[39;49m\u001B[38;5;241;43m.\u001B[39;49m\u001B[43m_engine\u001B[49m\u001B[38;5;241;43m.\u001B[39;49m\u001B[43mget_loc\u001B[49m\u001B[43m(\u001B[49m\u001B[43mcasted_key\u001B[49m\u001B[43m)\u001B[49m\n\u001B[0;32m   3622\u001B[0m \u001B[38;5;28;01mexcept\u001B[39;00m \u001B[38;5;167;01mKeyError\u001B[39;00m \u001B[38;5;28;01mas\u001B[39;00m err:\n",
      "File \u001B[1;32m~\\AppData\\Local\\Programs\\Python\\Python39\\lib\\site-packages\\pandas\\_libs\\index.pyx:136\u001B[0m, in \u001B[0;36mpandas._libs.index.IndexEngine.get_loc\u001B[1;34m()\u001B[0m\n",
      "File \u001B[1;32m~\\AppData\\Local\\Programs\\Python\\Python39\\lib\\site-packages\\pandas\\_libs\\index.pyx:163\u001B[0m, in \u001B[0;36mpandas._libs.index.IndexEngine.get_loc\u001B[1;34m()\u001B[0m\n",
      "File \u001B[1;32mpandas\\_libs\\hashtable_class_helper.pxi:5198\u001B[0m, in \u001B[0;36mpandas._libs.hashtable.PyObjectHashTable.get_item\u001B[1;34m()\u001B[0m\n",
      "File \u001B[1;32mpandas\\_libs\\hashtable_class_helper.pxi:5206\u001B[0m, in \u001B[0;36mpandas._libs.hashtable.PyObjectHashTable.get_item\u001B[1;34m()\u001B[0m\n",
      "\u001B[1;31mKeyError\u001B[0m: 'motif n°1 de la demande'",
      "\nThe above exception was the direct cause of the following exception:\n",
      "\u001B[1;31mKeyError\u001B[0m                                  Traceback (most recent call last)",
      "Input \u001B[1;32mIn [41]\u001B[0m, in \u001B[0;36m<cell line: 1>\u001B[1;34m()\u001B[0m\n\u001B[1;32m----> 1\u001B[0m bdm_bis\u001B[38;5;241m=\u001B[39m\u001B[43mbdd_bis\u001B[49m\u001B[43m[\u001B[49m\u001B[38;5;124;43m'\u001B[39;49m\u001B[38;5;124;43mmotif n°1 de la demande\u001B[39;49m\u001B[38;5;124;43m'\u001B[39;49m\u001B[43m]\u001B[49m\u001B[38;5;241m.\u001B[39mvalue_counts()\n\u001B[0;32m      2\u001B[0m bdm_bis\n",
      "File \u001B[1;32m~\\AppData\\Local\\Programs\\Python\\Python39\\lib\\site-packages\\pandas\\core\\frame.py:3505\u001B[0m, in \u001B[0;36mDataFrame.__getitem__\u001B[1;34m(self, key)\u001B[0m\n\u001B[0;32m   3503\u001B[0m \u001B[38;5;28;01mif\u001B[39;00m \u001B[38;5;28mself\u001B[39m\u001B[38;5;241m.\u001B[39mcolumns\u001B[38;5;241m.\u001B[39mnlevels \u001B[38;5;241m>\u001B[39m \u001B[38;5;241m1\u001B[39m:\n\u001B[0;32m   3504\u001B[0m     \u001B[38;5;28;01mreturn\u001B[39;00m \u001B[38;5;28mself\u001B[39m\u001B[38;5;241m.\u001B[39m_getitem_multilevel(key)\n\u001B[1;32m-> 3505\u001B[0m indexer \u001B[38;5;241m=\u001B[39m \u001B[38;5;28;43mself\u001B[39;49m\u001B[38;5;241;43m.\u001B[39;49m\u001B[43mcolumns\u001B[49m\u001B[38;5;241;43m.\u001B[39;49m\u001B[43mget_loc\u001B[49m\u001B[43m(\u001B[49m\u001B[43mkey\u001B[49m\u001B[43m)\u001B[49m\n\u001B[0;32m   3506\u001B[0m \u001B[38;5;28;01mif\u001B[39;00m is_integer(indexer):\n\u001B[0;32m   3507\u001B[0m     indexer \u001B[38;5;241m=\u001B[39m [indexer]\n",
      "File \u001B[1;32m~\\AppData\\Local\\Programs\\Python\\Python39\\lib\\site-packages\\pandas\\core\\indexes\\base.py:3623\u001B[0m, in \u001B[0;36mIndex.get_loc\u001B[1;34m(self, key, method, tolerance)\u001B[0m\n\u001B[0;32m   3621\u001B[0m     \u001B[38;5;28;01mreturn\u001B[39;00m \u001B[38;5;28mself\u001B[39m\u001B[38;5;241m.\u001B[39m_engine\u001B[38;5;241m.\u001B[39mget_loc(casted_key)\n\u001B[0;32m   3622\u001B[0m \u001B[38;5;28;01mexcept\u001B[39;00m \u001B[38;5;167;01mKeyError\u001B[39;00m \u001B[38;5;28;01mas\u001B[39;00m err:\n\u001B[1;32m-> 3623\u001B[0m     \u001B[38;5;28;01mraise\u001B[39;00m \u001B[38;5;167;01mKeyError\u001B[39;00m(key) \u001B[38;5;28;01mfrom\u001B[39;00m \u001B[38;5;21;01merr\u001B[39;00m\n\u001B[0;32m   3624\u001B[0m \u001B[38;5;28;01mexcept\u001B[39;00m \u001B[38;5;167;01mTypeError\u001B[39;00m:\n\u001B[0;32m   3625\u001B[0m     \u001B[38;5;66;03m# If we have a listlike key, _check_indexing_error will raise\u001B[39;00m\n\u001B[0;32m   3626\u001B[0m     \u001B[38;5;66;03m#  InvalidIndexError. Otherwise we fall through and re-raise\u001B[39;00m\n\u001B[0;32m   3627\u001B[0m     \u001B[38;5;66;03m#  the TypeError.\u001B[39;00m\n\u001B[0;32m   3628\u001B[0m     \u001B[38;5;28mself\u001B[39m\u001B[38;5;241m.\u001B[39m_check_indexing_error(key)\n",
      "\u001B[1;31mKeyError\u001B[0m: 'motif n°1 de la demande'"
     ]
    }
   ],
   "source": [
    "bdm_bis=bdd_bis['motif n°1 de la demande'].value_counts()\n",
    "bdm_bis"
   ],
   "metadata": {
    "collapsed": false,
    "pycharm": {
     "name": "#%%\n"
    }
   }
  },
  {
   "cell_type": "code",
   "execution_count": null,
   "outputs": [],
   "source": [
    "dm = pd.DataFrame({'demandeurs attributaires': bdm, 'demandeurs non attributaires': bdm_bis})\n",
    "dm[\"demandeurs attributaires\"]=dm['demandeurs attributaires']/dm['demandeurs attributaires'].sum()\n",
    "dm[\"demandeurs non attributaires\"]=dm[\"demandeurs non attributaires\"]/dm[\"demandeurs non attributaires\"].sum()"
   ],
   "metadata": {
    "collapsed": false,
    "pycharm": {
     "name": "#%%\n"
    }
   }
  },
  {
   "cell_type": "code",
   "execution_count": null,
   "outputs": [],
   "source": [
    "dm.plot.barh(color={\"demandeurs attributaires\": \"red\", \"demandeurs non attributaires\": \"green\"})"
   ],
   "metadata": {
    "collapsed": false,
    "pycharm": {
     "name": "#%%\n"
    }
   }
  },
  {
   "cell_type": "code",
   "execution_count": null,
   "outputs": [],
   "source": [],
   "metadata": {
    "collapsed": false,
    "pycharm": {
     "name": "#%%\n"
    }
   }
  },
  {
   "cell_type": "markdown",
   "source": [
    "## Tests sur le taux d'effort"
   ],
   "metadata": {
    "collapsed": false,
    "pycharm": {
     "name": "#%% md\n"
    }
   }
  },
  {
   "cell_type": "markdown",
   "source": [
    "#### Définition\n",
    "\n",
    "###### Le taux d'effort"
   ],
   "metadata": {
    "collapsed": false,
    "pycharm": {
     "name": "#%% md\n"
    }
   }
  },
  {
   "cell_type": "markdown",
   "source": [
    "Le taux d'effort est donné par le rapport entre :\n",
    "- les sommes des dépenses liées à l'habitation principale (loyer + charges locatives comprenant les charges relatives à l'eau et à l'electricité)\n",
    "- le revenu des ménages (revenu de l'activité professionnelle ou revenu de remplacement,auquel s'additionne les prestations sociales et familiales et les revenus du patrimoine, avant impôts).\n",
    "\n",
    "Le taux d'effort est dit :\n",
    "- net si on soustrait aux dépenses les aides au logement\n",
    "- brut si on ne prend pas en compte les aides au logement\n",
    "\n",
    "On s'intéresse ici au taux d'effort des ménages demandeurs/attributaires net, et donc au taux d'effort réel puisque par conséquent on a en notre possession les données relatives aux APL."
   ],
   "metadata": {
    "collapsed": false,
    "pycharm": {
     "name": "#%% md\n"
    }
   }
  },
  {
   "cell_type": "markdown",
   "source": [
    "#### Nettoyage de la base de données"
   ],
   "metadata": {
    "collapsed": false,
    "pycharm": {
     "name": "#%% md\n"
    }
   }
  },
  {
   "cell_type": "code",
   "execution_count": 42,
   "outputs": [],
   "source": [
    "bdd_tx=base[[ \"Montant maxi (loyer+charges) supportable_y\",  \"Ressources mensuelles du foyer_x\", \"Nb unités de consommation du foyer_x\", \"Loyer montant mensuel_x\", \"Montant AL / APL_x\", \"Age demandeur_x\",  \"Montant loyer mensuel du logement attribué\\n\", \"Numéro Unique\"]]"
   ],
   "metadata": {
    "collapsed": false,
    "pycharm": {
     "name": "#%%\n"
    }
   }
  },
  {
   "cell_type": "code",
   "execution_count": 43,
   "outputs": [
    {
     "name": "stderr",
     "output_type": "stream",
     "text": [
      "C:\\Users\\arceb\\AppData\\Local\\Temp\\ipykernel_3392\\3738932333.py:1: SettingWithCopyWarning: \n",
      "A value is trying to be set on a copy of a slice from a DataFrame\n",
      "\n",
      "See the caveats in the documentation: https://pandas.pydata.org/pandas-docs/stable/user_guide/indexing.html#returning-a-view-versus-a-copy\n",
      "  bdd_tx.rename(columns={'Montant maxi (loyer+charges) supportable_y': 'Montant maxi (loyer+charges) supportable', 'Ressources mensuelles du foyer_x': 'Ressources mensuelles du foyer', 'Nb unités de consommation du foyer_x': 'Nb unités de consommation du foyer', 'Loyer montant mensuel_x':'Loyer montant mensuel', 'Montant AL / APL_x': 'Montant AL / APL', 'Age demandeur_x': 'Age demandeur', 'Montant loyer mensuel du logement attribué\\n': 'Montant loyer mensuel du logement attribué'}, inplace=True)\n"
     ]
    },
    {
     "data": {
      "text/plain": "       Montant maxi (loyer+charges) supportable  \\\n0                                         300.0   \n1                                         400.0   \n2                                         700.0   \n3                                        1000.0   \n4                                         450.0   \n...                                         ...   \n60759                                     514.0   \n60760                                     400.0   \n60761                                     495.0   \n60762                                     297.0   \n60763                                     750.0   \n\n       Ressources mensuelles du foyer  Nb unités de consommation du foyer  \\\n0                               556.0                                 1.0   \n1                              1763.0                                 1.0   \n2                              3535.0                                 1.5   \n3                              3144.0                                 1.0   \n4                               765.0                                 1.0   \n...                               ...                                 ...   \n60759                          3072.0                                 1.0   \n60760                          1774.0                                 1.0   \n60761                          2143.0                                 1.0   \n60762                          1190.0                                 1.0   \n60763                          1800.0                                 1.0   \n\n       Loyer montant mensuel  Montant AL / APL  Age demandeur  \\\n0                      308.0               0.0           59.0   \n1                      800.0               0.0           72.0   \n2                      694.0               0.0           64.0   \n3                      878.0               0.0           57.0   \n4                      630.0             235.0           69.0   \n...                      ...               ...            ...   \n60759                  630.0               0.0           28.0   \n60760                    0.0               0.0           37.0   \n60761                  423.0               NaN           28.0   \n60762                    0.0               0.0           36.0   \n60763                  594.0             231.0           26.0   \n\n       Montant loyer mensuel du logement attribué       Numéro Unique  \n0                                               0  175037900427000002  \n1                                             298  175118000728300002  \n2                                             810  175108301617300002  \n3                                             626  175128420982700002  \n4                                             416  175058909634800002  \n...                                           ...                 ...  \n60759                                         514  1111217905754AL003  \n60760                                         256  1111217849606GDPUB  \n60761                                         311  1111217849858GDPUB  \n60762                                         298  1110118850370GDPUB  \n60763                                         357  1110118850622GDPUB  \n\n[60764 rows x 8 columns]",
      "text/html": "<div>\n<style scoped>\n    .dataframe tbody tr th:only-of-type {\n        vertical-align: middle;\n    }\n\n    .dataframe tbody tr th {\n        vertical-align: top;\n    }\n\n    .dataframe thead th {\n        text-align: right;\n    }\n</style>\n<table border=\"1\" class=\"dataframe\">\n  <thead>\n    <tr style=\"text-align: right;\">\n      <th></th>\n      <th>Montant maxi (loyer+charges) supportable</th>\n      <th>Ressources mensuelles du foyer</th>\n      <th>Nb unités de consommation du foyer</th>\n      <th>Loyer montant mensuel</th>\n      <th>Montant AL / APL</th>\n      <th>Age demandeur</th>\n      <th>Montant loyer mensuel du logement attribué</th>\n      <th>Numéro Unique</th>\n    </tr>\n  </thead>\n  <tbody>\n    <tr>\n      <th>0</th>\n      <td>300.0</td>\n      <td>556.0</td>\n      <td>1.0</td>\n      <td>308.0</td>\n      <td>0.0</td>\n      <td>59.0</td>\n      <td>0</td>\n      <td>175037900427000002</td>\n    </tr>\n    <tr>\n      <th>1</th>\n      <td>400.0</td>\n      <td>1763.0</td>\n      <td>1.0</td>\n      <td>800.0</td>\n      <td>0.0</td>\n      <td>72.0</td>\n      <td>298</td>\n      <td>175118000728300002</td>\n    </tr>\n    <tr>\n      <th>2</th>\n      <td>700.0</td>\n      <td>3535.0</td>\n      <td>1.5</td>\n      <td>694.0</td>\n      <td>0.0</td>\n      <td>64.0</td>\n      <td>810</td>\n      <td>175108301617300002</td>\n    </tr>\n    <tr>\n      <th>3</th>\n      <td>1000.0</td>\n      <td>3144.0</td>\n      <td>1.0</td>\n      <td>878.0</td>\n      <td>0.0</td>\n      <td>57.0</td>\n      <td>626</td>\n      <td>175128420982700002</td>\n    </tr>\n    <tr>\n      <th>4</th>\n      <td>450.0</td>\n      <td>765.0</td>\n      <td>1.0</td>\n      <td>630.0</td>\n      <td>235.0</td>\n      <td>69.0</td>\n      <td>416</td>\n      <td>175058909634800002</td>\n    </tr>\n    <tr>\n      <th>...</th>\n      <td>...</td>\n      <td>...</td>\n      <td>...</td>\n      <td>...</td>\n      <td>...</td>\n      <td>...</td>\n      <td>...</td>\n      <td>...</td>\n    </tr>\n    <tr>\n      <th>60759</th>\n      <td>514.0</td>\n      <td>3072.0</td>\n      <td>1.0</td>\n      <td>630.0</td>\n      <td>0.0</td>\n      <td>28.0</td>\n      <td>514</td>\n      <td>1111217905754AL003</td>\n    </tr>\n    <tr>\n      <th>60760</th>\n      <td>400.0</td>\n      <td>1774.0</td>\n      <td>1.0</td>\n      <td>0.0</td>\n      <td>0.0</td>\n      <td>37.0</td>\n      <td>256</td>\n      <td>1111217849606GDPUB</td>\n    </tr>\n    <tr>\n      <th>60761</th>\n      <td>495.0</td>\n      <td>2143.0</td>\n      <td>1.0</td>\n      <td>423.0</td>\n      <td>NaN</td>\n      <td>28.0</td>\n      <td>311</td>\n      <td>1111217849858GDPUB</td>\n    </tr>\n    <tr>\n      <th>60762</th>\n      <td>297.0</td>\n      <td>1190.0</td>\n      <td>1.0</td>\n      <td>0.0</td>\n      <td>0.0</td>\n      <td>36.0</td>\n      <td>298</td>\n      <td>1110118850370GDPUB</td>\n    </tr>\n    <tr>\n      <th>60763</th>\n      <td>750.0</td>\n      <td>1800.0</td>\n      <td>1.0</td>\n      <td>594.0</td>\n      <td>231.0</td>\n      <td>26.0</td>\n      <td>357</td>\n      <td>1110118850622GDPUB</td>\n    </tr>\n  </tbody>\n</table>\n<p>60764 rows × 8 columns</p>\n</div>"
     },
     "execution_count": 43,
     "metadata": {},
     "output_type": "execute_result"
    }
   ],
   "source": [
    "bdd_tx.rename(columns={'Montant maxi (loyer+charges) supportable_y': 'Montant maxi (loyer+charges) supportable', 'Ressources mensuelles du foyer_x': 'Ressources mensuelles du foyer', 'Nb unités de consommation du foyer_x': 'Nb unités de consommation du foyer', 'Loyer montant mensuel_x':'Loyer montant mensuel', 'Montant AL / APL_x': 'Montant AL / APL', 'Age demandeur_x': 'Age demandeur', 'Montant loyer mensuel du logement attribué\\n': 'Montant loyer mensuel du logement attribué'}, inplace=True)\n",
    "bdd_tx"
   ],
   "metadata": {
    "collapsed": false,
    "pycharm": {
     "name": "#%%\n"
    }
   }
  },
  {
   "cell_type": "markdown",
   "source": [
    "###### Test avec les APL fournis dans la base de données"
   ],
   "metadata": {
    "collapsed": false,
    "pycharm": {
     "name": "#%% md\n"
    }
   }
  },
  {
   "cell_type": "code",
   "execution_count": 44,
   "outputs": [
    {
     "data": {
      "text/plain": "       Montant maxi (loyer+charges) supportable  \\\n0                                         300.0   \n1                                         400.0   \n2                                         700.0   \n3                                        1000.0   \n4                                         450.0   \n...                                         ...   \n60757                                     700.0   \n60759                                     514.0   \n60760                                     400.0   \n60762                                     297.0   \n60763                                     750.0   \n\n       Ressources mensuelles du foyer  Nb unités de consommation du foyer  \\\n0                               556.0                                 1.0   \n1                              1763.0                                 1.0   \n2                              3535.0                                 1.5   \n3                              3144.0                                 1.0   \n4                               765.0                                 1.0   \n...                               ...                                 ...   \n60757                          1900.0                                 1.3   \n60759                          3072.0                                 1.0   \n60760                          1774.0                                 1.0   \n60762                          1190.0                                 1.0   \n60763                          1800.0                                 1.0   \n\n       Loyer montant mensuel  Montant AL / APL  Age demandeur  \\\n0                      308.0               0.0           59.0   \n1                      800.0               0.0           72.0   \n2                      694.0               0.0           64.0   \n3                      878.0               0.0           57.0   \n4                      630.0             235.0           69.0   \n...                      ...               ...            ...   \n60757                  581.0             313.0           34.0   \n60759                  630.0               0.0           28.0   \n60760                    0.0               0.0           37.0   \n60762                    0.0               0.0           36.0   \n60763                  594.0             231.0           26.0   \n\n       Montant loyer mensuel du logement attribué       Numéro Unique  \n0                                               0  175037900427000002  \n1                                             298  175118000728300002  \n2                                             810  175108301617300002  \n3                                             626  175128420982700002  \n4                                             416  175058909634800002  \n...                                           ...                 ...  \n60757                                         356  1111217849472GDPUB  \n60759                                         514  1111217905754AL003  \n60760                                         256  1111217849606GDPUB  \n60762                                         298  1110118850370GDPUB  \n60763                                         357  1110118850622GDPUB  \n\n[41530 rows x 8 columns]",
      "text/html": "<div>\n<style scoped>\n    .dataframe tbody tr th:only-of-type {\n        vertical-align: middle;\n    }\n\n    .dataframe tbody tr th {\n        vertical-align: top;\n    }\n\n    .dataframe thead th {\n        text-align: right;\n    }\n</style>\n<table border=\"1\" class=\"dataframe\">\n  <thead>\n    <tr style=\"text-align: right;\">\n      <th></th>\n      <th>Montant maxi (loyer+charges) supportable</th>\n      <th>Ressources mensuelles du foyer</th>\n      <th>Nb unités de consommation du foyer</th>\n      <th>Loyer montant mensuel</th>\n      <th>Montant AL / APL</th>\n      <th>Age demandeur</th>\n      <th>Montant loyer mensuel du logement attribué</th>\n      <th>Numéro Unique</th>\n    </tr>\n  </thead>\n  <tbody>\n    <tr>\n      <th>0</th>\n      <td>300.0</td>\n      <td>556.0</td>\n      <td>1.0</td>\n      <td>308.0</td>\n      <td>0.0</td>\n      <td>59.0</td>\n      <td>0</td>\n      <td>175037900427000002</td>\n    </tr>\n    <tr>\n      <th>1</th>\n      <td>400.0</td>\n      <td>1763.0</td>\n      <td>1.0</td>\n      <td>800.0</td>\n      <td>0.0</td>\n      <td>72.0</td>\n      <td>298</td>\n      <td>175118000728300002</td>\n    </tr>\n    <tr>\n      <th>2</th>\n      <td>700.0</td>\n      <td>3535.0</td>\n      <td>1.5</td>\n      <td>694.0</td>\n      <td>0.0</td>\n      <td>64.0</td>\n      <td>810</td>\n      <td>175108301617300002</td>\n    </tr>\n    <tr>\n      <th>3</th>\n      <td>1000.0</td>\n      <td>3144.0</td>\n      <td>1.0</td>\n      <td>878.0</td>\n      <td>0.0</td>\n      <td>57.0</td>\n      <td>626</td>\n      <td>175128420982700002</td>\n    </tr>\n    <tr>\n      <th>4</th>\n      <td>450.0</td>\n      <td>765.0</td>\n      <td>1.0</td>\n      <td>630.0</td>\n      <td>235.0</td>\n      <td>69.0</td>\n      <td>416</td>\n      <td>175058909634800002</td>\n    </tr>\n    <tr>\n      <th>...</th>\n      <td>...</td>\n      <td>...</td>\n      <td>...</td>\n      <td>...</td>\n      <td>...</td>\n      <td>...</td>\n      <td>...</td>\n      <td>...</td>\n    </tr>\n    <tr>\n      <th>60757</th>\n      <td>700.0</td>\n      <td>1900.0</td>\n      <td>1.3</td>\n      <td>581.0</td>\n      <td>313.0</td>\n      <td>34.0</td>\n      <td>356</td>\n      <td>1111217849472GDPUB</td>\n    </tr>\n    <tr>\n      <th>60759</th>\n      <td>514.0</td>\n      <td>3072.0</td>\n      <td>1.0</td>\n      <td>630.0</td>\n      <td>0.0</td>\n      <td>28.0</td>\n      <td>514</td>\n      <td>1111217905754AL003</td>\n    </tr>\n    <tr>\n      <th>60760</th>\n      <td>400.0</td>\n      <td>1774.0</td>\n      <td>1.0</td>\n      <td>0.0</td>\n      <td>0.0</td>\n      <td>37.0</td>\n      <td>256</td>\n      <td>1111217849606GDPUB</td>\n    </tr>\n    <tr>\n      <th>60762</th>\n      <td>297.0</td>\n      <td>1190.0</td>\n      <td>1.0</td>\n      <td>0.0</td>\n      <td>0.0</td>\n      <td>36.0</td>\n      <td>298</td>\n      <td>1110118850370GDPUB</td>\n    </tr>\n    <tr>\n      <th>60763</th>\n      <td>750.0</td>\n      <td>1800.0</td>\n      <td>1.0</td>\n      <td>594.0</td>\n      <td>231.0</td>\n      <td>26.0</td>\n      <td>357</td>\n      <td>1110118850622GDPUB</td>\n    </tr>\n  </tbody>\n</table>\n<p>41530 rows × 8 columns</p>\n</div>"
     },
     "execution_count": 44,
     "metadata": {},
     "output_type": "execute_result"
    }
   ],
   "source": [
    "bdd_tx.dropna()\n",
    "#On enlève les données pour lesquelles il y a des valeurs manquantes\n",
    "#Il y a quand même 10 000 valeurs en moins"
   ],
   "metadata": {
    "collapsed": false,
    "pycharm": {
     "name": "#%%\n"
    }
   }
  },
  {
   "cell_type": "code",
   "execution_count": 45,
   "outputs": [
    {
     "name": "stderr",
     "output_type": "stream",
     "text": [
      "C:\\Users\\arceb\\AppData\\Local\\Temp\\ipykernel_3392\\1076295001.py:1: SettingWithCopyWarning: \n",
      "A value is trying to be set on a copy of a slice from a DataFrame.\n",
      "Try using .loc[row_indexer,col_indexer] = value instead\n",
      "\n",
      "See the caveats in the documentation: https://pandas.pydata.org/pandas-docs/stable/user_guide/indexing.html#returning-a-view-versus-a-copy\n",
      "  bdd_tx['revenus']=bdd_tx['Ressources mensuelles du foyer']\n"
     ]
    }
   ],
   "source": [
    "bdd_tx['revenus']=bdd_tx['Ressources mensuelles du foyer']"
   ],
   "metadata": {
    "collapsed": false,
    "pycharm": {
     "name": "#%%\n"
    }
   }
  },
  {
   "cell_type": "code",
   "execution_count": 46,
   "outputs": [
    {
     "name": "stderr",
     "output_type": "stream",
     "text": [
      "C:\\Users\\arceb\\AppData\\Local\\Temp\\ipykernel_3392\\2962737556.py:1: SettingWithCopyWarning: \n",
      "A value is trying to be set on a copy of a slice from a DataFrame.\n",
      "Try using .loc[row_indexer,col_indexer] = value instead\n",
      "\n",
      "See the caveats in the documentation: https://pandas.pydata.org/pandas-docs/stable/user_guide/indexing.html#returning-a-view-versus-a-copy\n",
      "  bdd_tx['dépenses'] = bdd_tx['Loyer montant mensuel'] - bdd_tx['Montant AL / APL']\n"
     ]
    }
   ],
   "source": [
    "bdd_tx['dépenses'] = bdd_tx['Loyer montant mensuel'] - bdd_tx['Montant AL / APL']"
   ],
   "metadata": {
    "collapsed": false,
    "pycharm": {
     "name": "#%%\n"
    }
   }
  },
  {
   "cell_type": "code",
   "execution_count": 47,
   "outputs": [
    {
     "name": "stderr",
     "output_type": "stream",
     "text": [
      "C:\\Users\\arceb\\AppData\\Local\\Temp\\ipykernel_3392\\1141211948.py:1: SettingWithCopyWarning: \n",
      "A value is trying to be set on a copy of a slice from a DataFrame.\n",
      "Try using .loc[row_indexer,col_indexer] = value instead\n",
      "\n",
      "See the caveats in the documentation: https://pandas.pydata.org/pandas-docs/stable/user_guide/indexing.html#returning-a-view-versus-a-copy\n",
      "  bdd_tx['taux effort']= bdd_tx['dépenses'] / bdd_tx['revenus']\n"
     ]
    }
   ],
   "source": [
    "bdd_tx['taux effort']= bdd_tx['dépenses'] / bdd_tx['revenus']"
   ],
   "metadata": {
    "collapsed": false,
    "pycharm": {
     "name": "#%%\n"
    }
   }
  },
  {
   "cell_type": "code",
   "execution_count": 48,
   "outputs": [
    {
     "data": {
      "text/plain": "0        0.553957\n1        0.453772\n2        0.196322\n3        0.279262\n4        0.516340\n           ...   \n60759    0.205078\n60760    0.000000\n60761         NaN\n60762    0.000000\n60763    0.201667\nName: taux effort, Length: 60764, dtype: float64"
     },
     "execution_count": 48,
     "metadata": {},
     "output_type": "execute_result"
    }
   ],
   "source": [
    "bdd_tx['taux effort']"
   ],
   "metadata": {
    "collapsed": false,
    "pycharm": {
     "name": "#%%\n"
    }
   }
  },
  {
   "cell_type": "markdown",
   "source": [
    "##### Etude de la base de données demandeurs non attributaires taux d'effort"
   ],
   "metadata": {
    "collapsed": false,
    "pycharm": {
     "name": "#%% md\n"
    }
   }
  },
  {
   "cell_type": "code",
   "execution_count": 49,
   "outputs": [
    {
     "name": "stderr",
     "output_type": "stream",
     "text": [
      "C:\\Users\\arceb\\AppData\\Local\\Temp\\ipykernel_3392\\117050088.py:1: SettingWithCopyWarning: \n",
      "A value is trying to be set on a copy of a slice from a DataFrame.\n",
      "Try using .loc[row_indexer,col_indexer] = value instead\n",
      "\n",
      "See the caveats in the documentation: https://pandas.pydata.org/pandas-docs/stable/user_guide/indexing.html#returning-a-view-versus-a-copy\n",
      "  bdd_bis['revenus']=bdd_bis['Ressources mensuelles du foyer']\n"
     ]
    }
   ],
   "source": [
    "bdd_bis['revenus']=bdd_bis['Ressources mensuelles du foyer']"
   ],
   "metadata": {
    "collapsed": false,
    "pycharm": {
     "name": "#%%\n"
    }
   }
  },
  {
   "cell_type": "code",
   "execution_count": 50,
   "outputs": [
    {
     "name": "stderr",
     "output_type": "stream",
     "text": [
      "C:\\Users\\arceb\\AppData\\Local\\Temp\\ipykernel_3392\\1474552087.py:1: SettingWithCopyWarning: \n",
      "A value is trying to be set on a copy of a slice from a DataFrame.\n",
      "Try using .loc[row_indexer,col_indexer] = value instead\n",
      "\n",
      "See the caveats in the documentation: https://pandas.pydata.org/pandas-docs/stable/user_guide/indexing.html#returning-a-view-versus-a-copy\n",
      "  bdd_bis['dépenses'] = bdd_bis['Loyer montant mensuel'] - bdd_bis['Montant AL / APL']\n"
     ]
    }
   ],
   "source": [
    "bdd_bis['dépenses'] = bdd_bis['Loyer montant mensuel'] - bdd_bis['Montant AL / APL']"
   ],
   "metadata": {
    "collapsed": false,
    "pycharm": {
     "name": "#%%\n"
    }
   }
  },
  {
   "cell_type": "code",
   "execution_count": 51,
   "outputs": [
    {
     "name": "stderr",
     "output_type": "stream",
     "text": [
      "C:\\Users\\arceb\\AppData\\Local\\Temp\\ipykernel_3392\\4054796938.py:1: SettingWithCopyWarning: \n",
      "A value is trying to be set on a copy of a slice from a DataFrame.\n",
      "Try using .loc[row_indexer,col_indexer] = value instead\n",
      "\n",
      "See the caveats in the documentation: https://pandas.pydata.org/pandas-docs/stable/user_guide/indexing.html#returning-a-view-versus-a-copy\n",
      "  bdd_bis['taux effort']= bdd_bis['dépenses'] / bdd_bis['revenus']\n"
     ]
    }
   ],
   "source": [
    "bdd_bis['taux effort']= bdd_bis['dépenses'] / bdd_bis['revenus']"
   ],
   "metadata": {
    "collapsed": false,
    "pycharm": {
     "name": "#%%\n"
    }
   }
  },
  {
   "cell_type": "code",
   "execution_count": 52,
   "outputs": [
    {
     "data": {
      "text/plain": "0         0.553957\n1         0.156873\n3         0.411967\n4         0.185211\n7         0.446864\n            ...   \n704514    0.201667\n704515    0.625000\n704517    0.000000\n704519    0.341449\n704520    0.000000\nName: taux effort, Length: 359410, dtype: float64"
     },
     "execution_count": 52,
     "metadata": {},
     "output_type": "execute_result"
    }
   ],
   "source": [
    "bdd_bis['taux effort']"
   ],
   "metadata": {
    "collapsed": false,
    "pycharm": {
     "name": "#%%\n"
    }
   }
  },
  {
   "cell_type": "code",
   "execution_count": 65,
   "outputs": [
    {
     "data": {
      "text/plain": "0         0.553957\n1         0.156873\n3         0.411967\n4         0.185211\n7         0.446864\n            ...   \n704514    0.201667\n704515    0.625000\n704517    0.000000\n704519    0.341449\n704520    0.000000\nName: taux effort, Length: 358830, dtype: float64"
     },
     "execution_count": 65,
     "metadata": {},
     "output_type": "execute_result"
    }
   ],
   "source": [
    "tx=bdd_bis['taux effort'].dropna()\n",
    "tx"
   ],
   "metadata": {
    "collapsed": false,
    "pycharm": {
     "name": "#%%\n"
    }
   }
  },
  {
   "cell_type": "code",
   "execution_count": 66,
   "outputs": [
    {
     "data": {
      "text/plain": "         index  taux effort\n0            0     0.553957\n1            1     0.156873\n2            3     0.411967\n3            4     0.185211\n4            7     0.446864\n...        ...          ...\n358825  704514     0.201667\n358826  704515     0.625000\n358827  704517     0.000000\n358828  704519     0.341449\n358829  704520     0.000000\n\n[358830 rows x 2 columns]",
      "text/html": "<div>\n<style scoped>\n    .dataframe tbody tr th:only-of-type {\n        vertical-align: middle;\n    }\n\n    .dataframe tbody tr th {\n        vertical-align: top;\n    }\n\n    .dataframe thead th {\n        text-align: right;\n    }\n</style>\n<table border=\"1\" class=\"dataframe\">\n  <thead>\n    <tr style=\"text-align: right;\">\n      <th></th>\n      <th>index</th>\n      <th>taux effort</th>\n    </tr>\n  </thead>\n  <tbody>\n    <tr>\n      <th>0</th>\n      <td>0</td>\n      <td>0.553957</td>\n    </tr>\n    <tr>\n      <th>1</th>\n      <td>1</td>\n      <td>0.156873</td>\n    </tr>\n    <tr>\n      <th>2</th>\n      <td>3</td>\n      <td>0.411967</td>\n    </tr>\n    <tr>\n      <th>3</th>\n      <td>4</td>\n      <td>0.185211</td>\n    </tr>\n    <tr>\n      <th>4</th>\n      <td>7</td>\n      <td>0.446864</td>\n    </tr>\n    <tr>\n      <th>...</th>\n      <td>...</td>\n      <td>...</td>\n    </tr>\n    <tr>\n      <th>358825</th>\n      <td>704514</td>\n      <td>0.201667</td>\n    </tr>\n    <tr>\n      <th>358826</th>\n      <td>704515</td>\n      <td>0.625000</td>\n    </tr>\n    <tr>\n      <th>358827</th>\n      <td>704517</td>\n      <td>0.000000</td>\n    </tr>\n    <tr>\n      <th>358828</th>\n      <td>704519</td>\n      <td>0.341449</td>\n    </tr>\n    <tr>\n      <th>358829</th>\n      <td>704520</td>\n      <td>0.000000</td>\n    </tr>\n  </tbody>\n</table>\n<p>358830 rows × 2 columns</p>\n</div>"
     },
     "execution_count": 66,
     "metadata": {},
     "output_type": "execute_result"
    }
   ],
   "source": [
    "tx = tx.reset_index()\n",
    "tx"
   ],
   "metadata": {
    "collapsed": false,
    "pycharm": {
     "name": "#%%\n"
    }
   }
  },
  {
   "cell_type": "code",
   "execution_count": 68,
   "outputs": [
    {
     "data": {
      "text/plain": "nan"
     },
     "execution_count": 68,
     "metadata": {},
     "output_type": "execute_result"
    }
   ],
   "source": [
    "tx['taux effort'].mean()"
   ],
   "metadata": {
    "collapsed": false,
    "pycharm": {
     "name": "#%%\n"
    }
   }
  },
  {
   "cell_type": "code",
   "execution_count": 75,
   "outputs": [
    {
     "data": {
      "text/plain": "         index  taux effort\n78          93          0.0\n92         110          0.0\n142        170          0.0\n234        281          0.0\n268        324          0.0\n...        ...          ...\n358816  704483          0.0\n358819  704497          0.0\n358820  704503          0.0\n358827  704517          0.0\n358829  704520          0.0\n\n[44329 rows x 2 columns]",
      "text/html": "<div>\n<style scoped>\n    .dataframe tbody tr th:only-of-type {\n        vertical-align: middle;\n    }\n\n    .dataframe tbody tr th {\n        vertical-align: top;\n    }\n\n    .dataframe thead th {\n        text-align: right;\n    }\n</style>\n<table border=\"1\" class=\"dataframe\">\n  <thead>\n    <tr style=\"text-align: right;\">\n      <th></th>\n      <th>index</th>\n      <th>taux effort</th>\n    </tr>\n  </thead>\n  <tbody>\n    <tr>\n      <th>78</th>\n      <td>93</td>\n      <td>0.0</td>\n    </tr>\n    <tr>\n      <th>92</th>\n      <td>110</td>\n      <td>0.0</td>\n    </tr>\n    <tr>\n      <th>142</th>\n      <td>170</td>\n      <td>0.0</td>\n    </tr>\n    <tr>\n      <th>234</th>\n      <td>281</td>\n      <td>0.0</td>\n    </tr>\n    <tr>\n      <th>268</th>\n      <td>324</td>\n      <td>0.0</td>\n    </tr>\n    <tr>\n      <th>...</th>\n      <td>...</td>\n      <td>...</td>\n    </tr>\n    <tr>\n      <th>358816</th>\n      <td>704483</td>\n      <td>0.0</td>\n    </tr>\n    <tr>\n      <th>358819</th>\n      <td>704497</td>\n      <td>0.0</td>\n    </tr>\n    <tr>\n      <th>358820</th>\n      <td>704503</td>\n      <td>0.0</td>\n    </tr>\n    <tr>\n      <th>358827</th>\n      <td>704517</td>\n      <td>0.0</td>\n    </tr>\n    <tr>\n      <th>358829</th>\n      <td>704520</td>\n      <td>0.0</td>\n    </tr>\n  </tbody>\n</table>\n<p>44329 rows × 2 columns</p>\n</div>"
     },
     "execution_count": 75,
     "metadata": {},
     "output_type": "execute_result"
    }
   ],
   "source": [
    "a=tx[tx['taux effort']<=0]\n",
    "a"
   ],
   "metadata": {
    "collapsed": false,
    "pycharm": {
     "name": "#%%\n"
    }
   }
  },
  {
   "cell_type": "code",
   "execution_count": 77,
   "outputs": [
    {
     "ename": "ValueError",
     "evalue": "The truth value of a Series is ambiguous. Use a.empty, a.bool(), a.item(), a.any() or a.all().",
     "output_type": "error",
     "traceback": [
      "\u001B[1;31m---------------------------------------------------------------------------\u001B[0m",
      "\u001B[1;31mValueError\u001B[0m                                Traceback (most recent call last)",
      "Input \u001B[1;32mIn [77]\u001B[0m, in \u001B[0;36m<cell line: 1>\u001B[1;34m()\u001B[0m\n\u001B[1;32m----> 1\u001B[0m b\u001B[38;5;241m=\u001B[39mtx[tx[tx[\u001B[38;5;124m'\u001B[39m\u001B[38;5;124mtaux effort\u001B[39m\u001B[38;5;124m'\u001B[39m]\u001B[38;5;241m>\u001B[39m\u001B[38;5;241m0\u001B[39m \u001B[38;5;129;01mand\u001B[39;00m \u001B[38;5;124m'\u001B[39m\u001B[38;5;124mtaux effort\u001B[39m\u001B[38;5;124m'\u001B[39m]\u001B[38;5;241m<\u001B[39m\u001B[38;5;241m=\u001B[39m\u001B[38;5;241m0\u001B[39m,\u001B[38;5;241m1\u001B[39m]\n",
      "File \u001B[1;32m~\\AppData\\Local\\Programs\\Python\\Python39\\lib\\site-packages\\pandas\\core\\generic.py:1527\u001B[0m, in \u001B[0;36mNDFrame.__nonzero__\u001B[1;34m(self)\u001B[0m\n\u001B[0;32m   1525\u001B[0m \u001B[38;5;129m@final\u001B[39m\n\u001B[0;32m   1526\u001B[0m \u001B[38;5;28;01mdef\u001B[39;00m \u001B[38;5;21m__nonzero__\u001B[39m(\u001B[38;5;28mself\u001B[39m):\n\u001B[1;32m-> 1527\u001B[0m     \u001B[38;5;28;01mraise\u001B[39;00m \u001B[38;5;167;01mValueError\u001B[39;00m(\n\u001B[0;32m   1528\u001B[0m         \u001B[38;5;124mf\u001B[39m\u001B[38;5;124m\"\u001B[39m\u001B[38;5;124mThe truth value of a \u001B[39m\u001B[38;5;132;01m{\u001B[39;00m\u001B[38;5;28mtype\u001B[39m(\u001B[38;5;28mself\u001B[39m)\u001B[38;5;241m.\u001B[39m\u001B[38;5;18m__name__\u001B[39m\u001B[38;5;132;01m}\u001B[39;00m\u001B[38;5;124m is ambiguous. \u001B[39m\u001B[38;5;124m\"\u001B[39m\n\u001B[0;32m   1529\u001B[0m         \u001B[38;5;124m\"\u001B[39m\u001B[38;5;124mUse a.empty, a.bool(), a.item(), a.any() or a.all().\u001B[39m\u001B[38;5;124m\"\u001B[39m\n\u001B[0;32m   1530\u001B[0m     )\n",
      "\u001B[1;31mValueError\u001B[0m: The truth value of a Series is ambiguous. Use a.empty, a.bool(), a.item(), a.any() or a.all()."
     ]
    }
   ],
   "source": [
    "b=tx[tx[tx['taux effort']>0 and 'taux effort']<=0,1]"
   ],
   "metadata": {
    "collapsed": false,
    "pycharm": {
     "name": "#%%\n"
    }
   }
  },
  {
   "cell_type": "code",
   "execution_count": 79,
   "outputs": [
    {
     "ename": "AttributeError",
     "evalue": "'DataFrame' object has no attribute 'plt'",
     "output_type": "error",
     "traceback": [
      "\u001B[1;31m---------------------------------------------------------------------------\u001B[0m",
      "\u001B[1;31mAttributeError\u001B[0m                            Traceback (most recent call last)",
      "Input \u001B[1;32mIn [79]\u001B[0m, in \u001B[0;36m<cell line: 1>\u001B[1;34m()\u001B[0m\n\u001B[1;32m----> 1\u001B[0m \u001B[43mtx\u001B[49m\u001B[38;5;241;43m.\u001B[39;49m\u001B[43mplt\u001B[49m()\n",
      "File \u001B[1;32m~\\AppData\\Local\\Programs\\Python\\Python39\\lib\\site-packages\\pandas\\core\\generic.py:5575\u001B[0m, in \u001B[0;36mNDFrame.__getattr__\u001B[1;34m(self, name)\u001B[0m\n\u001B[0;32m   5568\u001B[0m \u001B[38;5;28;01mif\u001B[39;00m (\n\u001B[0;32m   5569\u001B[0m     name \u001B[38;5;129;01mnot\u001B[39;00m \u001B[38;5;129;01min\u001B[39;00m \u001B[38;5;28mself\u001B[39m\u001B[38;5;241m.\u001B[39m_internal_names_set\n\u001B[0;32m   5570\u001B[0m     \u001B[38;5;129;01mand\u001B[39;00m name \u001B[38;5;129;01mnot\u001B[39;00m \u001B[38;5;129;01min\u001B[39;00m \u001B[38;5;28mself\u001B[39m\u001B[38;5;241m.\u001B[39m_metadata\n\u001B[0;32m   5571\u001B[0m     \u001B[38;5;129;01mand\u001B[39;00m name \u001B[38;5;129;01mnot\u001B[39;00m \u001B[38;5;129;01min\u001B[39;00m \u001B[38;5;28mself\u001B[39m\u001B[38;5;241m.\u001B[39m_accessors\n\u001B[0;32m   5572\u001B[0m     \u001B[38;5;129;01mand\u001B[39;00m \u001B[38;5;28mself\u001B[39m\u001B[38;5;241m.\u001B[39m_info_axis\u001B[38;5;241m.\u001B[39m_can_hold_identifiers_and_holds_name(name)\n\u001B[0;32m   5573\u001B[0m ):\n\u001B[0;32m   5574\u001B[0m     \u001B[38;5;28;01mreturn\u001B[39;00m \u001B[38;5;28mself\u001B[39m[name]\n\u001B[1;32m-> 5575\u001B[0m \u001B[38;5;28;01mreturn\u001B[39;00m \u001B[38;5;28;43mobject\u001B[39;49m\u001B[38;5;241;43m.\u001B[39;49m\u001B[38;5;21;43m__getattribute__\u001B[39;49m\u001B[43m(\u001B[49m\u001B[38;5;28;43mself\u001B[39;49m\u001B[43m,\u001B[49m\u001B[43m \u001B[49m\u001B[43mname\u001B[49m\u001B[43m)\u001B[49m\n",
      "\u001B[1;31mAttributeError\u001B[0m: 'DataFrame' object has no attribute 'plt'"
     ]
    }
   ],
   "source": [
    "tx.plt()"
   ],
   "metadata": {
    "collapsed": false,
    "pycharm": {
     "name": "#%%\n"
    }
   }
  },
  {
   "cell_type": "code",
   "execution_count": 80,
   "outputs": [
    {
     "name": "stdout",
     "output_type": "stream",
     "text": [
      "Collecting seaborn\n",
      "  Downloading seaborn-0.11.2-py3-none-any.whl (292 kB)\n",
      "Collecting scipy>=1.0\n",
      "  Downloading scipy-1.8.1-cp39-cp39-win_amd64.whl (36.9 MB)\n",
      "Requirement already satisfied: numpy>=1.15 in c:\\users\\arceb\\appdata\\local\\programs\\python\\python39\\lib\\site-packages (from seaborn) (1.22.4)\n",
      "Requirement already satisfied: pandas>=0.23 in c:\\users\\arceb\\appdata\\local\\programs\\python\\python39\\lib\\site-packages (from seaborn) (1.4.2)\n",
      "Requirement already satisfied: matplotlib>=2.2 in c:\\users\\arceb\\appdata\\local\\programs\\python\\python39\\lib\\site-packages (from seaborn) (3.5.2)\n",
      "Requirement already satisfied: fonttools>=4.22.0 in c:\\users\\arceb\\appdata\\local\\programs\\python\\python39\\lib\\site-packages (from matplotlib>=2.2->seaborn) (4.33.3)\n",
      "Requirement already satisfied: python-dateutil>=2.7 in c:\\users\\arceb\\appdata\\local\\programs\\python\\python39\\lib\\site-packages (from matplotlib>=2.2->seaborn) (2.8.2)\n",
      "Requirement already satisfied: packaging>=20.0 in c:\\users\\arceb\\appdata\\local\\programs\\python\\python39\\lib\\site-packages (from matplotlib>=2.2->seaborn) (21.3)\n",
      "Requirement already satisfied: pillow>=6.2.0 in c:\\users\\arceb\\appdata\\local\\programs\\python\\python39\\lib\\site-packages (from matplotlib>=2.2->seaborn) (9.1.1)\n",
      "Requirement already satisfied: cycler>=0.10 in c:\\users\\arceb\\appdata\\local\\programs\\python\\python39\\lib\\site-packages (from matplotlib>=2.2->seaborn) (0.11.0)\n",
      "Requirement already satisfied: kiwisolver>=1.0.1 in c:\\users\\arceb\\appdata\\local\\programs\\python\\python39\\lib\\site-packages (from matplotlib>=2.2->seaborn) (1.4.3)\n",
      "Requirement already satisfied: pyparsing>=2.2.1 in c:\\users\\arceb\\appdata\\local\\programs\\python\\python39\\lib\\site-packages (from matplotlib>=2.2->seaborn) (3.0.9)\n",
      "Requirement already satisfied: pytz>=2020.1 in c:\\users\\arceb\\appdata\\local\\programs\\python\\python39\\lib\\site-packages (from pandas>=0.23->seaborn) (2022.1)\n",
      "Requirement already satisfied: six>=1.5 in c:\\users\\arceb\\appdata\\local\\programs\\python\\python39\\lib\\site-packages (from python-dateutil>=2.7->matplotlib>=2.2->seaborn) (1.16.0)\n",
      "Installing collected packages: scipy, seaborn\n",
      "Successfully installed scipy-1.8.1 seaborn-0.11.2\n"
     ]
    },
    {
     "name": "stderr",
     "output_type": "stream",
     "text": [
      "WARNING: You are using pip version 21.2.4; however, version 22.1.2 is available.\n",
      "You should consider upgrading via the 'C:\\Users\\arceb\\AppData\\Local\\Programs\\Python\\Python39\\python.exe -m pip install --upgrade pip' command.\n"
     ]
    }
   ],
   "source": [
    "!pip install seaborn"
   ],
   "metadata": {
    "collapsed": false,
    "pycharm": {
     "name": "#%%\n"
    }
   }
  },
  {
   "cell_type": "code",
   "execution_count": 81,
   "outputs": [],
   "source": [
    "# Import seaborn\n",
    "import seaborn as sns"
   ],
   "metadata": {
    "collapsed": false,
    "pycharm": {
     "name": "#%%\n"
    }
   }
  },
  {
   "cell_type": "code",
   "execution_count": 84,
   "outputs": [
    {
     "ename": "ValueError",
     "evalue": "Could not interpret value `red` for parameter `col`",
     "output_type": "error",
     "traceback": [
      "\u001B[1;31m---------------------------------------------------------------------------\u001B[0m",
      "\u001B[1;31mValueError\u001B[0m                                Traceback (most recent call last)",
      "Input \u001B[1;32mIn [84]\u001B[0m, in \u001B[0;36m<cell line: 7>\u001B[1;34m()\u001B[0m\n\u001B[0;32m      2\u001B[0m sns\u001B[38;5;241m.\u001B[39mset_theme()\n\u001B[0;32m      4\u001B[0m \u001B[38;5;66;03m# Load an example dataset\u001B[39;00m\n\u001B[0;32m      5\u001B[0m \n\u001B[0;32m      6\u001B[0m \u001B[38;5;66;03m# Create a visualization\u001B[39;00m\n\u001B[1;32m----> 7\u001B[0m \u001B[43msns\u001B[49m\u001B[38;5;241;43m.\u001B[39;49m\u001B[43mrelplot\u001B[49m\u001B[43m(\u001B[49m\n\u001B[0;32m      8\u001B[0m \u001B[43m    \u001B[49m\u001B[43mdata\u001B[49m\u001B[38;5;241;43m=\u001B[39;49m\u001B[43mtx\u001B[49m\u001B[43m,\u001B[49m\n\u001B[0;32m      9\u001B[0m \u001B[43m    \u001B[49m\u001B[43mx\u001B[49m\u001B[38;5;241;43m=\u001B[39;49m\u001B[38;5;124;43m\"\u001B[39;49m\u001B[38;5;124;43mtaux effort\u001B[39;49m\u001B[38;5;124;43m\"\u001B[39;49m\u001B[43m,\u001B[49m\u001B[43m \u001B[49m\u001B[43mcol\u001B[49m\u001B[38;5;241;43m=\u001B[39;49m\u001B[38;5;124;43m'\u001B[39;49m\u001B[38;5;124;43mred\u001B[39;49m\u001B[38;5;124;43m'\u001B[39;49m\n\u001B[0;32m     10\u001B[0m \u001B[43m)\u001B[49m\n",
      "File \u001B[1;32m~\\AppData\\Local\\Programs\\Python\\Python39\\lib\\site-packages\\seaborn\\_decorators.py:46\u001B[0m, in \u001B[0;36m_deprecate_positional_args.<locals>.inner_f\u001B[1;34m(*args, **kwargs)\u001B[0m\n\u001B[0;32m     36\u001B[0m     warnings\u001B[38;5;241m.\u001B[39mwarn(\n\u001B[0;32m     37\u001B[0m         \u001B[38;5;124m\"\u001B[39m\u001B[38;5;124mPass the following variable\u001B[39m\u001B[38;5;132;01m{}\u001B[39;00m\u001B[38;5;124m as \u001B[39m\u001B[38;5;132;01m{}\u001B[39;00m\u001B[38;5;124mkeyword arg\u001B[39m\u001B[38;5;132;01m{}\u001B[39;00m\u001B[38;5;124m: \u001B[39m\u001B[38;5;132;01m{}\u001B[39;00m\u001B[38;5;124m. \u001B[39m\u001B[38;5;124m\"\u001B[39m\n\u001B[0;32m     38\u001B[0m         \u001B[38;5;124m\"\u001B[39m\u001B[38;5;124mFrom version 0.12, the only valid positional argument \u001B[39m\u001B[38;5;124m\"\u001B[39m\n\u001B[1;32m   (...)\u001B[0m\n\u001B[0;32m     43\u001B[0m         \u001B[38;5;167;01mFutureWarning\u001B[39;00m\n\u001B[0;32m     44\u001B[0m     )\n\u001B[0;32m     45\u001B[0m kwargs\u001B[38;5;241m.\u001B[39mupdate({k: arg \u001B[38;5;28;01mfor\u001B[39;00m k, arg \u001B[38;5;129;01min\u001B[39;00m \u001B[38;5;28mzip\u001B[39m(sig\u001B[38;5;241m.\u001B[39mparameters, args)})\n\u001B[1;32m---> 46\u001B[0m \u001B[38;5;28;01mreturn\u001B[39;00m f(\u001B[38;5;241m*\u001B[39m\u001B[38;5;241m*\u001B[39mkwargs)\n",
      "File \u001B[1;32m~\\AppData\\Local\\Programs\\Python\\Python39\\lib\\site-packages\\seaborn\\relational.py:1001\u001B[0m, in \u001B[0;36mrelplot\u001B[1;34m(x, y, hue, size, style, data, row, col, col_wrap, row_order, col_order, palette, hue_order, hue_norm, sizes, size_order, size_norm, markers, dashes, style_order, legend, kind, height, aspect, facet_kws, units, **kwargs)\u001B[0m\n\u001B[0;32m    999\u001B[0m grid_semantics \u001B[38;5;241m=\u001B[39m \u001B[38;5;124m\"\u001B[39m\u001B[38;5;124mrow\u001B[39m\u001B[38;5;124m\"\u001B[39m, \u001B[38;5;124m\"\u001B[39m\u001B[38;5;124mcol\u001B[39m\u001B[38;5;124m\"\u001B[39m\n\u001B[0;32m   1000\u001B[0m p\u001B[38;5;241m.\u001B[39msemantics \u001B[38;5;241m=\u001B[39m plot_semantics \u001B[38;5;241m+\u001B[39m grid_semantics\n\u001B[1;32m-> 1001\u001B[0m \u001B[43mp\u001B[49m\u001B[38;5;241;43m.\u001B[39;49m\u001B[43massign_variables\u001B[49m\u001B[43m(\u001B[49m\n\u001B[0;32m   1002\u001B[0m \u001B[43m    \u001B[49m\u001B[43mdata\u001B[49m\u001B[38;5;241;43m=\u001B[39;49m\u001B[43mdata\u001B[49m\u001B[43m,\u001B[49m\n\u001B[0;32m   1003\u001B[0m \u001B[43m    \u001B[49m\u001B[43mvariables\u001B[49m\u001B[38;5;241;43m=\u001B[39;49m\u001B[38;5;28;43mdict\u001B[39;49m\u001B[43m(\u001B[49m\n\u001B[0;32m   1004\u001B[0m \u001B[43m        \u001B[49m\u001B[43mx\u001B[49m\u001B[38;5;241;43m=\u001B[39;49m\u001B[43mx\u001B[49m\u001B[43m,\u001B[49m\u001B[43m \u001B[49m\u001B[43my\u001B[49m\u001B[38;5;241;43m=\u001B[39;49m\u001B[43my\u001B[49m\u001B[43m,\u001B[49m\n\u001B[0;32m   1005\u001B[0m \u001B[43m        \u001B[49m\u001B[43mhue\u001B[49m\u001B[38;5;241;43m=\u001B[39;49m\u001B[43mhue\u001B[49m\u001B[43m,\u001B[49m\u001B[43m \u001B[49m\u001B[43msize\u001B[49m\u001B[38;5;241;43m=\u001B[39;49m\u001B[43msize\u001B[49m\u001B[43m,\u001B[49m\u001B[43m \u001B[49m\u001B[43mstyle\u001B[49m\u001B[38;5;241;43m=\u001B[39;49m\u001B[43mstyle\u001B[49m\u001B[43m,\u001B[49m\u001B[43m \u001B[49m\u001B[43munits\u001B[49m\u001B[38;5;241;43m=\u001B[39;49m\u001B[43munits\u001B[49m\u001B[43m,\u001B[49m\n\u001B[0;32m   1006\u001B[0m \u001B[43m        \u001B[49m\u001B[43mrow\u001B[49m\u001B[38;5;241;43m=\u001B[39;49m\u001B[43mrow\u001B[49m\u001B[43m,\u001B[49m\u001B[43m \u001B[49m\u001B[43mcol\u001B[49m\u001B[38;5;241;43m=\u001B[39;49m\u001B[43mcol\u001B[49m\u001B[43m,\u001B[49m\n\u001B[0;32m   1007\u001B[0m \u001B[43m    \u001B[49m\u001B[43m)\u001B[49m\u001B[43m,\u001B[49m\n\u001B[0;32m   1008\u001B[0m \u001B[43m\u001B[49m\u001B[43m)\u001B[49m\n\u001B[0;32m   1010\u001B[0m \u001B[38;5;66;03m# Define the named variables for plotting on each facet\u001B[39;00m\n\u001B[0;32m   1011\u001B[0m \u001B[38;5;66;03m# Rename the variables with a leading underscore to avoid\u001B[39;00m\n\u001B[0;32m   1012\u001B[0m \u001B[38;5;66;03m# collisions with faceting variable names\u001B[39;00m\n\u001B[0;32m   1013\u001B[0m plot_variables \u001B[38;5;241m=\u001B[39m {v: \u001B[38;5;124mf\u001B[39m\u001B[38;5;124m\"\u001B[39m\u001B[38;5;124m_\u001B[39m\u001B[38;5;132;01m{\u001B[39;00mv\u001B[38;5;132;01m}\u001B[39;00m\u001B[38;5;124m\"\u001B[39m \u001B[38;5;28;01mfor\u001B[39;00m v \u001B[38;5;129;01min\u001B[39;00m variables}\n",
      "File \u001B[1;32m~\\AppData\\Local\\Programs\\Python\\Python39\\lib\\site-packages\\seaborn\\_core.py:668\u001B[0m, in \u001B[0;36mVectorPlotter.assign_variables\u001B[1;34m(self, data, variables)\u001B[0m\n\u001B[0;32m    666\u001B[0m \u001B[38;5;28;01melse\u001B[39;00m:\n\u001B[0;32m    667\u001B[0m     \u001B[38;5;28mself\u001B[39m\u001B[38;5;241m.\u001B[39minput_format \u001B[38;5;241m=\u001B[39m \u001B[38;5;124m\"\u001B[39m\u001B[38;5;124mlong\u001B[39m\u001B[38;5;124m\"\u001B[39m\n\u001B[1;32m--> 668\u001B[0m     plot_data, variables \u001B[38;5;241m=\u001B[39m \u001B[38;5;28mself\u001B[39m\u001B[38;5;241m.\u001B[39m_assign_variables_longform(\n\u001B[0;32m    669\u001B[0m         data, \u001B[38;5;241m*\u001B[39m\u001B[38;5;241m*\u001B[39mvariables,\n\u001B[0;32m    670\u001B[0m     )\n\u001B[0;32m    672\u001B[0m \u001B[38;5;28mself\u001B[39m\u001B[38;5;241m.\u001B[39mplot_data \u001B[38;5;241m=\u001B[39m plot_data\n\u001B[0;32m    673\u001B[0m \u001B[38;5;28mself\u001B[39m\u001B[38;5;241m.\u001B[39mvariables \u001B[38;5;241m=\u001B[39m variables\n",
      "File \u001B[1;32m~\\AppData\\Local\\Programs\\Python\\Python39\\lib\\site-packages\\seaborn\\_core.py:903\u001B[0m, in \u001B[0;36mVectorPlotter._assign_variables_longform\u001B[1;34m(self, data, **kwargs)\u001B[0m\n\u001B[0;32m    898\u001B[0m \u001B[38;5;28;01melif\u001B[39;00m \u001B[38;5;28misinstance\u001B[39m(val, (\u001B[38;5;28mstr\u001B[39m, \u001B[38;5;28mbytes\u001B[39m)):\n\u001B[0;32m    899\u001B[0m \n\u001B[0;32m    900\u001B[0m     \u001B[38;5;66;03m# This looks like a column name but we don't know what it means!\u001B[39;00m\n\u001B[0;32m    902\u001B[0m     err \u001B[38;5;241m=\u001B[39m \u001B[38;5;124mf\u001B[39m\u001B[38;5;124m\"\u001B[39m\u001B[38;5;124mCould not interpret value `\u001B[39m\u001B[38;5;132;01m{\u001B[39;00mval\u001B[38;5;132;01m}\u001B[39;00m\u001B[38;5;124m` for parameter `\u001B[39m\u001B[38;5;132;01m{\u001B[39;00mkey\u001B[38;5;132;01m}\u001B[39;00m\u001B[38;5;124m`\u001B[39m\u001B[38;5;124m\"\u001B[39m\n\u001B[1;32m--> 903\u001B[0m     \u001B[38;5;28;01mraise\u001B[39;00m \u001B[38;5;167;01mValueError\u001B[39;00m(err)\n\u001B[0;32m    905\u001B[0m \u001B[38;5;28;01melse\u001B[39;00m:\n\u001B[0;32m    906\u001B[0m \n\u001B[0;32m    907\u001B[0m     \u001B[38;5;66;03m# Otherwise, assume the value is itself data\u001B[39;00m\n\u001B[0;32m    908\u001B[0m \n\u001B[0;32m    909\u001B[0m     \u001B[38;5;66;03m# Raise when data object is present and a vector can't matched\u001B[39;00m\n\u001B[0;32m    910\u001B[0m     \u001B[38;5;28;01mif\u001B[39;00m \u001B[38;5;28misinstance\u001B[39m(data, pd\u001B[38;5;241m.\u001B[39mDataFrame) \u001B[38;5;129;01mand\u001B[39;00m \u001B[38;5;129;01mnot\u001B[39;00m \u001B[38;5;28misinstance\u001B[39m(val, pd\u001B[38;5;241m.\u001B[39mSeries):\n",
      "\u001B[1;31mValueError\u001B[0m: Could not interpret value `red` for parameter `col`"
     ]
    }
   ],
   "source": [
    "\n",
    "# Apply the default theme\n",
    "sns.set_theme()\n",
    "\n",
    "# Load an example dataset\n",
    "\n",
    "# Create a visualization\n",
    "sns.relplot(\n",
    "    data=tx,\n",
    "    x=\"taux effort\", col='red'\n",
    ")"
   ],
   "metadata": {
    "collapsed": false,
    "pycharm": {
     "name": "#%%\n"
    }
   }
  },
  {
   "cell_type": "code",
   "execution_count": null,
   "outputs": [],
   "source": [],
   "metadata": {
    "collapsed": false,
    "pycharm": {
     "name": "#%%\n"
    }
   }
  }
 ],
 "metadata": {
  "kernelspec": {
   "display_name": "Python 3",
   "language": "python",
   "name": "python3"
  },
  "language_info": {
   "codemirror_mode": {
    "name": "ipython",
    "version": 2
   },
   "file_extension": ".py",
   "mimetype": "text/x-python",
   "name": "python",
   "nbconvert_exporter": "python",
   "pygments_lexer": "ipython2",
   "version": "2.7.6"
  }
 },
 "nbformat": 4,
 "nbformat_minor": 0
}
