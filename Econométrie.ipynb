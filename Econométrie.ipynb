{
 "cells": [
  {
   "cell_type": "code",
   "execution_count": 2,
   "metadata": {
    "collapsed": true,
    "pycharm": {
     "name": "#%%\n"
    }
   },
   "outputs": [],
   "source": [
    "import numpy as np\n",
    "import pandas\n",
    "import pandas as pd\n",
    "import matplotlib.pyplot as plt"
   ]
  },
  {
   "cell_type": "markdown",
   "source": [
    "## Nettoyage de la base de données"
   ],
   "metadata": {
    "collapsed": false,
    "pycharm": {
     "name": "#%% md\n"
    }
   }
  },
  {
   "cell_type": "markdown",
   "source": [
    "#### Création de la base de données fusionnée attributaires / demandeurs"
   ],
   "metadata": {
    "collapsed": false,
    "pycharm": {
     "name": "#%% md\n"
    }
   }
  },
  {
   "cell_type": "code",
   "execution_count": 3,
   "outputs": [
    {
     "name": "stderr",
     "output_type": "stream",
     "text": [
      "C:\\Users\\arceb\\AppData\\Local\\Temp\\ipykernel_19692\\35231794.py:1: DtypeWarning: Columns (7,8,25) have mixed types. Specify dtype option on import or set low_memory=False.\n",
      "  dfa = pd.read_csv(r'C:\\Users\\arceb\\Desktop\\Stage\\BDD/attributaires_IDF.csv')\n",
      "C:\\Users\\arceb\\AppData\\Local\\Temp\\ipykernel_19692\\35231794.py:2: DtypeWarning: Columns (21) have mixed types. Specify dtype option on import or set low_memory=False.\n",
      "  dfd = pd.read_csv(r'C:\\Users\\arceb\\Desktop\\Stage\\BDD/demandeurs_IDF(1).csv')\n"
     ]
    }
   ],
   "source": [
    "dfa = pd.read_csv(r'C:\\Users\\arceb\\Desktop\\Stage\\BDD/attributaires_IDF.csv')\n",
    "dfd = pd.read_csv(r'C:\\Users\\arceb\\Desktop\\Stage\\BDD/demandeurs_IDF(1).csv')"
   ],
   "metadata": {
    "collapsed": false,
    "pycharm": {
     "name": "#%%\n"
    }
   }
  },
  {
   "cell_type": "code",
   "execution_count": 21,
   "outputs": [
    {
     "data": {
      "text/plain": "        Unnamed: 0_x       région_x       Numéro Unique  \\\n0                0.0  Ile-de-France  175037900427000002   \n1                1.0  Ile-de-France  175018000669100002   \n2                2.0  Ile-de-France  175028000646000002   \n3                3.0  Ile-de-France  175028000574100002   \n4                4.0  Ile-de-France  111091487693675056   \n...              ...            ...                 ...   \n797468           NaN            NaN  1111218129847GDPUB   \n797469           NaN            NaN  111121812788778498   \n797470           NaN            NaN  111121812792310122   \n797471           NaN            NaN  111121813038177438   \n797472           NaN            NaN  111121813209910389   \n\n       Date création demande_x  Age demandeur_x Situation familiale_x  \\\n0          1979-03-01 00:00:00             59.0             Veuf (ve)   \n1          1980-01-15 00:00:00             66.0           Célibataire   \n2          1980-02-17 00:00:00             80.0           Célibataire   \n3          1980-02-18 00:00:00             65.0           Célibataire   \n4          1980-04-15 00:00:00             82.0           Célibataire   \n...                        ...              ...                   ...   \n797468                     NaN              NaN                   NaN   \n797469                     NaN              NaN                   NaN   \n797470                     NaN              NaN                   NaN   \n797471                     NaN              NaN                   NaN   \n797472                     NaN              NaN                   NaN   \n\n        Code département logement actuel_x  Code INSEE logt actuel_x  \\\n0                                     75.0                   75112.0   \n1                                     75.0                   75113.0   \n2                                     75.0                   75113.0   \n3                                     75.0                   75104.0   \n4                                     75.0                   75114.0   \n...                                    ...                       ...   \n797468                                 NaN                       NaN   \n797469                                 NaN                       NaN   \n797470                                 NaN                       NaN   \n797471                                 NaN                       NaN   \n797472                                 NaN                       NaN   \n\n             Commune logt actuel_x Mode de logement actuel_x  ...  \\\n0       Paris 12ème arrondissement      Locataire parc privé  ...   \n1       Paris 13ème arrondissement      Locataire parc privé  ...   \n2       Paris 13ème arrondissement     Propriétaire occupant  ...   \n3        Paris 4ème arrondissement      Locataire parc privé  ...   \n4       Paris 14ème arrondissement             Locataire HLM  ...   \n...                            ...                       ...  ...   \n797468                         NaN                       NaN  ...   \n797469                         NaN                       NaN  ...   \n797470                         NaN                       NaN  ...   \n797471                         NaN                       NaN  ...   \n797472                         NaN                       NaN  ...   \n\n       Code de la commune attribuée  Région du logement attribué  \\\n0                           75120.0                Ile-de-France   \n1                               NaN                          NaN   \n2                               NaN                          NaN   \n3                               NaN                          NaN   \n4                               NaN                          NaN   \n...                             ...                          ...   \n797468                      78361.0                Ile-de-France   \n797469                      78498.0                Ile-de-France   \n797470                      78314.0                Ile-de-France   \n797471                      77243.0                Ile-de-France   \n797472                      91174.0                Ile-de-France   \n\n        Type du logement attribué  Est en QPV Surface du logement attribué  \\\n0                              T1         Oui                         20.0   \n1                             NaN         NaN                          NaN   \n2                             NaN         NaN                          NaN   \n3                             NaN         NaN                          NaN   \n4                             NaN         NaN                          NaN   \n...                           ...         ...                          ...   \n797468                         T2         Oui                         47.0   \n797469                         T2         Oui                         46.0   \n797470                         T2         Non                         53.0   \n797471                         T3         Non                         63.0   \n797472                         T2         Oui                         50.0   \n\n          Statut DALO Date de la décision DALO\\n\\n  Accompagnement social  \\\n0        Actif relogé          2012-06-15 00:00:00                    Non   \n1                 NaN                          NaN                    NaN   \n2                 NaN                          NaN                    NaN   \n3                 NaN                          NaN                    NaN   \n4                 NaN                          NaN                    NaN   \n...               ...                          ...                    ...   \n797468  Non renseigné                          NaN                    Non   \n797469  Non renseigné                          NaN                    Non   \n797470  Non renseigné                          NaN                    Non   \n797471  Non renseigné                          NaN                    Non   \n797472  Non renseigné                          NaN                    Non   \n\n        Diagnostic social                                       Réservataire  \n0                     Non  Contingent des collectivités territoriales, de...  \n1                     NaN                                                NaN  \n2                     NaN                                                NaN  \n3                     NaN                                                NaN  \n4                     NaN                                                NaN  \n...                   ...                                                ...  \n797468                Non                    Contingent autres réservataires  \n797469                Non                                 Contingent commune  \n797470                Non                                    Hors contingent  \n797471                Non                             Contingent département  \n797472                Non  Contingent préfet prioritaires (hors fonctionn...  \n\n[797473 rows x 66 columns]",
      "text/html": "<div>\n<style scoped>\n    .dataframe tbody tr th:only-of-type {\n        vertical-align: middle;\n    }\n\n    .dataframe tbody tr th {\n        vertical-align: top;\n    }\n\n    .dataframe thead th {\n        text-align: right;\n    }\n</style>\n<table border=\"1\" class=\"dataframe\">\n  <thead>\n    <tr style=\"text-align: right;\">\n      <th></th>\n      <th>Unnamed: 0_x</th>\n      <th>région_x</th>\n      <th>Numéro Unique</th>\n      <th>Date création demande_x</th>\n      <th>Age demandeur_x</th>\n      <th>Situation familiale_x</th>\n      <th>Code département logement actuel_x</th>\n      <th>Code INSEE logt actuel_x</th>\n      <th>Commune logt actuel_x</th>\n      <th>Mode de logement actuel_x</th>\n      <th>...</th>\n      <th>Code de la commune attribuée</th>\n      <th>Région du logement attribué</th>\n      <th>Type du logement attribué</th>\n      <th>Est en QPV</th>\n      <th>Surface du logement attribué</th>\n      <th>Statut DALO</th>\n      <th>Date de la décision DALO\\n\\n</th>\n      <th>Accompagnement social</th>\n      <th>Diagnostic social</th>\n      <th>Réservataire</th>\n    </tr>\n  </thead>\n  <tbody>\n    <tr>\n      <th>0</th>\n      <td>0.0</td>\n      <td>Ile-de-France</td>\n      <td>175037900427000002</td>\n      <td>1979-03-01 00:00:00</td>\n      <td>59.0</td>\n      <td>Veuf (ve)</td>\n      <td>75.0</td>\n      <td>75112.0</td>\n      <td>Paris 12ème arrondissement</td>\n      <td>Locataire parc privé</td>\n      <td>...</td>\n      <td>75120.0</td>\n      <td>Ile-de-France</td>\n      <td>T1</td>\n      <td>Oui</td>\n      <td>20.0</td>\n      <td>Actif relogé</td>\n      <td>2012-06-15 00:00:00</td>\n      <td>Non</td>\n      <td>Non</td>\n      <td>Contingent des collectivités territoriales, de...</td>\n    </tr>\n    <tr>\n      <th>1</th>\n      <td>1.0</td>\n      <td>Ile-de-France</td>\n      <td>175018000669100002</td>\n      <td>1980-01-15 00:00:00</td>\n      <td>66.0</td>\n      <td>Célibataire</td>\n      <td>75.0</td>\n      <td>75113.0</td>\n      <td>Paris 13ème arrondissement</td>\n      <td>Locataire parc privé</td>\n      <td>...</td>\n      <td>NaN</td>\n      <td>NaN</td>\n      <td>NaN</td>\n      <td>NaN</td>\n      <td>NaN</td>\n      <td>NaN</td>\n      <td>NaN</td>\n      <td>NaN</td>\n      <td>NaN</td>\n      <td>NaN</td>\n    </tr>\n    <tr>\n      <th>2</th>\n      <td>2.0</td>\n      <td>Ile-de-France</td>\n      <td>175028000646000002</td>\n      <td>1980-02-17 00:00:00</td>\n      <td>80.0</td>\n      <td>Célibataire</td>\n      <td>75.0</td>\n      <td>75113.0</td>\n      <td>Paris 13ème arrondissement</td>\n      <td>Propriétaire occupant</td>\n      <td>...</td>\n      <td>NaN</td>\n      <td>NaN</td>\n      <td>NaN</td>\n      <td>NaN</td>\n      <td>NaN</td>\n      <td>NaN</td>\n      <td>NaN</td>\n      <td>NaN</td>\n      <td>NaN</td>\n      <td>NaN</td>\n    </tr>\n    <tr>\n      <th>3</th>\n      <td>3.0</td>\n      <td>Ile-de-France</td>\n      <td>175028000574100002</td>\n      <td>1980-02-18 00:00:00</td>\n      <td>65.0</td>\n      <td>Célibataire</td>\n      <td>75.0</td>\n      <td>75104.0</td>\n      <td>Paris 4ème arrondissement</td>\n      <td>Locataire parc privé</td>\n      <td>...</td>\n      <td>NaN</td>\n      <td>NaN</td>\n      <td>NaN</td>\n      <td>NaN</td>\n      <td>NaN</td>\n      <td>NaN</td>\n      <td>NaN</td>\n      <td>NaN</td>\n      <td>NaN</td>\n      <td>NaN</td>\n    </tr>\n    <tr>\n      <th>4</th>\n      <td>4.0</td>\n      <td>Ile-de-France</td>\n      <td>111091487693675056</td>\n      <td>1980-04-15 00:00:00</td>\n      <td>82.0</td>\n      <td>Célibataire</td>\n      <td>75.0</td>\n      <td>75114.0</td>\n      <td>Paris 14ème arrondissement</td>\n      <td>Locataire HLM</td>\n      <td>...</td>\n      <td>NaN</td>\n      <td>NaN</td>\n      <td>NaN</td>\n      <td>NaN</td>\n      <td>NaN</td>\n      <td>NaN</td>\n      <td>NaN</td>\n      <td>NaN</td>\n      <td>NaN</td>\n      <td>NaN</td>\n    </tr>\n    <tr>\n      <th>...</th>\n      <td>...</td>\n      <td>...</td>\n      <td>...</td>\n      <td>...</td>\n      <td>...</td>\n      <td>...</td>\n      <td>...</td>\n      <td>...</td>\n      <td>...</td>\n      <td>...</td>\n      <td>...</td>\n      <td>...</td>\n      <td>...</td>\n      <td>...</td>\n      <td>...</td>\n      <td>...</td>\n      <td>...</td>\n      <td>...</td>\n      <td>...</td>\n      <td>...</td>\n      <td>...</td>\n    </tr>\n    <tr>\n      <th>797468</th>\n      <td>NaN</td>\n      <td>NaN</td>\n      <td>1111218129847GDPUB</td>\n      <td>NaN</td>\n      <td>NaN</td>\n      <td>NaN</td>\n      <td>NaN</td>\n      <td>NaN</td>\n      <td>NaN</td>\n      <td>NaN</td>\n      <td>...</td>\n      <td>78361.0</td>\n      <td>Ile-de-France</td>\n      <td>T2</td>\n      <td>Oui</td>\n      <td>47.0</td>\n      <td>Non renseigné</td>\n      <td>NaN</td>\n      <td>Non</td>\n      <td>Non</td>\n      <td>Contingent autres réservataires</td>\n    </tr>\n    <tr>\n      <th>797469</th>\n      <td>NaN</td>\n      <td>NaN</td>\n      <td>111121812788778498</td>\n      <td>NaN</td>\n      <td>NaN</td>\n      <td>NaN</td>\n      <td>NaN</td>\n      <td>NaN</td>\n      <td>NaN</td>\n      <td>NaN</td>\n      <td>...</td>\n      <td>78498.0</td>\n      <td>Ile-de-France</td>\n      <td>T2</td>\n      <td>Oui</td>\n      <td>46.0</td>\n      <td>Non renseigné</td>\n      <td>NaN</td>\n      <td>Non</td>\n      <td>Non</td>\n      <td>Contingent commune</td>\n    </tr>\n    <tr>\n      <th>797470</th>\n      <td>NaN</td>\n      <td>NaN</td>\n      <td>111121812792310122</td>\n      <td>NaN</td>\n      <td>NaN</td>\n      <td>NaN</td>\n      <td>NaN</td>\n      <td>NaN</td>\n      <td>NaN</td>\n      <td>NaN</td>\n      <td>...</td>\n      <td>78314.0</td>\n      <td>Ile-de-France</td>\n      <td>T2</td>\n      <td>Non</td>\n      <td>53.0</td>\n      <td>Non renseigné</td>\n      <td>NaN</td>\n      <td>Non</td>\n      <td>Non</td>\n      <td>Hors contingent</td>\n    </tr>\n    <tr>\n      <th>797471</th>\n      <td>NaN</td>\n      <td>NaN</td>\n      <td>111121813038177438</td>\n      <td>NaN</td>\n      <td>NaN</td>\n      <td>NaN</td>\n      <td>NaN</td>\n      <td>NaN</td>\n      <td>NaN</td>\n      <td>NaN</td>\n      <td>...</td>\n      <td>77243.0</td>\n      <td>Ile-de-France</td>\n      <td>T3</td>\n      <td>Non</td>\n      <td>63.0</td>\n      <td>Non renseigné</td>\n      <td>NaN</td>\n      <td>Non</td>\n      <td>Non</td>\n      <td>Contingent département</td>\n    </tr>\n    <tr>\n      <th>797472</th>\n      <td>NaN</td>\n      <td>NaN</td>\n      <td>111121813209910389</td>\n      <td>NaN</td>\n      <td>NaN</td>\n      <td>NaN</td>\n      <td>NaN</td>\n      <td>NaN</td>\n      <td>NaN</td>\n      <td>NaN</td>\n      <td>...</td>\n      <td>91174.0</td>\n      <td>Ile-de-France</td>\n      <td>T2</td>\n      <td>Oui</td>\n      <td>50.0</td>\n      <td>Non renseigné</td>\n      <td>NaN</td>\n      <td>Non</td>\n      <td>Non</td>\n      <td>Contingent préfet prioritaires (hors fonctionn...</td>\n    </tr>\n  </tbody>\n</table>\n<p>797473 rows × 66 columns</p>\n</div>"
     },
     "execution_count": 21,
     "metadata": {},
     "output_type": "execute_result"
    }
   ],
   "source": [
    "base = dfd.merge(dfa, on='Numéro Unique', how='outer')\n",
    "base"
   ],
   "metadata": {
    "collapsed": false,
    "pycharm": {
     "name": "#%%\n"
    }
   }
  },
  {
   "cell_type": "code",
   "execution_count": 22,
   "outputs": [],
   "source": [
    "bdd=base[[\"Unnamed: 0_x\", \"Montant maxi (loyer+charges) supportable_x\",  \"Ressources mensuelles du foyer_x\", \"Nb unités de consommation du foyer_x\", \"Situation professionnelle demandeur_x\", \"motif n°1 de la demande_x\", \"Age demandeur_x\", \"Nationalité demandeur\\n\", \"Sexe demandeur\\n\", \"Numéro Unique\", \"Date de la radiation\"]]"
   ],
   "metadata": {
    "collapsed": false,
    "pycharm": {
     "name": "#%%\n"
    }
   }
  },
  {
   "cell_type": "code",
   "execution_count": 23,
   "outputs": [
    {
     "name": "stderr",
     "output_type": "stream",
     "text": [
      "C:\\Users\\arceb\\AppData\\Local\\Temp\\ipykernel_19692\\3319011739.py:1: SettingWithCopyWarning: \n",
      "A value is trying to be set on a copy of a slice from a DataFrame\n",
      "\n",
      "See the caveats in the documentation: https://pandas.pydata.org/pandas-docs/stable/user_guide/indexing.html#returning-a-view-versus-a-copy\n",
      "  bdd.rename(columns={'Unnamed: 0_x': 'Code', 'Montant maxi (loyer+charges) supportable_x': 'Montant maxi (loyer+charges) supportable', 'Ressources mensuelles du foyer_x': 'Ressources mensuelles du foyer', 'Nb unités de consommation du foyer_x': 'Nb unités de consommation du foyer', 'Situation professionnelle demandeur_x':'Situation professionnelle demandeur', 'motif n°1 de la demande_x': 'motif n°1 de la demande', 'Age demandeur_x': 'Age demandeur', 'Nationalité demandeur\\n': 'Nationalité demandeur', 'Sexe demandeur\\n': 'Sexe demandeur'}, inplace=True)\n"
     ]
    },
    {
     "data": {
      "text/plain": "        Code  Montant maxi (loyer+charges) supportable  \\\n0        0.0                                     300.0   \n1        1.0                                     299.0   \n2        2.0                                     400.0   \n3        3.0                                     750.0   \n4        4.0                                     300.0   \n...      ...                                       ...   \n797468   NaN                                       NaN   \n797469   NaN                                       NaN   \n797470   NaN                                       NaN   \n797471   NaN                                       NaN   \n797472   NaN                                       NaN   \n\n        Ressources mensuelles du foyer  Nb unités de consommation du foyer  \\\n0                                556.0                                 1.0   \n1                               1906.0                                 1.0   \n2                               1446.0                                 1.0   \n3                               2323.0                                 1.5   \n4                               1447.0                                 1.0   \n...                                ...                                 ...   \n797468                             NaN                                 NaN   \n797469                             NaN                                 NaN   \n797470                             NaN                                 NaN   \n797471                             NaN                                 NaN   \n797472                             NaN                                 NaN   \n\n       Situation professionnelle demandeur  \\\n0                                 Retraité   \n1                                 Retraité   \n2                                 Retraité   \n3                   CDI (ou fonctionnaire)   \n4                                 Retraité   \n...                                    ...   \n797468                                 NaN   \n797469                                 NaN   \n797470                                 NaN   \n797471                                 NaN   \n797472                                 NaN   \n\n                                  motif n°1 de la demande  Age demandeur  \\\n0       Logement repris ou mis en vente par son propri...           59.0   \n1                                     Logement trop petit           66.0   \n2                                                Handicap           80.0   \n3       Logement repris ou mis en vente par son propri...           65.0   \n4                                        Raisons de santé           82.0   \n...                                                   ...            ...   \n797468                                                NaN            NaN   \n797469                                                NaN            NaN   \n797470                                                NaN            NaN   \n797471                                                NaN            NaN   \n797472                                                NaN            NaN   \n\n        Nationalité demandeur Sexe demandeur       Numéro Unique  \\\n0       Hors Union Européenne              F  175037900427000002   \n1                   Française              F  175018000669100002   \n2                   Française              M  175028000646000002   \n3                   Française              F  175028000574100002   \n4                   Française              F  111091487693675056   \n...                       ...            ...                 ...   \n797468                    NaN            NaN  1111218129847GDPUB   \n797469                    NaN            NaN  111121812788778498   \n797470                    NaN            NaN  111121812792310122   \n797471                    NaN            NaN  111121813038177438   \n797472                    NaN            NaN  111121813209910389   \n\n       Date de la radiation  \n0       2018-04-13 00:00:00  \n1                       NaN  \n2                       NaN  \n3                       NaN  \n4                       NaN  \n...                     ...  \n797468  2019-01-01 00:00:00  \n797469  2018-12-21 00:00:00  \n797470  2018-12-28 00:00:00  \n797471  2018-12-31 00:00:00  \n797472  2018-12-31 00:00:00  \n\n[797473 rows x 11 columns]",
      "text/html": "<div>\n<style scoped>\n    .dataframe tbody tr th:only-of-type {\n        vertical-align: middle;\n    }\n\n    .dataframe tbody tr th {\n        vertical-align: top;\n    }\n\n    .dataframe thead th {\n        text-align: right;\n    }\n</style>\n<table border=\"1\" class=\"dataframe\">\n  <thead>\n    <tr style=\"text-align: right;\">\n      <th></th>\n      <th>Code</th>\n      <th>Montant maxi (loyer+charges) supportable</th>\n      <th>Ressources mensuelles du foyer</th>\n      <th>Nb unités de consommation du foyer</th>\n      <th>Situation professionnelle demandeur</th>\n      <th>motif n°1 de la demande</th>\n      <th>Age demandeur</th>\n      <th>Nationalité demandeur</th>\n      <th>Sexe demandeur</th>\n      <th>Numéro Unique</th>\n      <th>Date de la radiation</th>\n    </tr>\n  </thead>\n  <tbody>\n    <tr>\n      <th>0</th>\n      <td>0.0</td>\n      <td>300.0</td>\n      <td>556.0</td>\n      <td>1.0</td>\n      <td>Retraité</td>\n      <td>Logement repris ou mis en vente par son propri...</td>\n      <td>59.0</td>\n      <td>Hors Union Européenne</td>\n      <td>F</td>\n      <td>175037900427000002</td>\n      <td>2018-04-13 00:00:00</td>\n    </tr>\n    <tr>\n      <th>1</th>\n      <td>1.0</td>\n      <td>299.0</td>\n      <td>1906.0</td>\n      <td>1.0</td>\n      <td>Retraité</td>\n      <td>Logement trop petit</td>\n      <td>66.0</td>\n      <td>Française</td>\n      <td>F</td>\n      <td>175018000669100002</td>\n      <td>NaN</td>\n    </tr>\n    <tr>\n      <th>2</th>\n      <td>2.0</td>\n      <td>400.0</td>\n      <td>1446.0</td>\n      <td>1.0</td>\n      <td>Retraité</td>\n      <td>Handicap</td>\n      <td>80.0</td>\n      <td>Française</td>\n      <td>M</td>\n      <td>175028000646000002</td>\n      <td>NaN</td>\n    </tr>\n    <tr>\n      <th>3</th>\n      <td>3.0</td>\n      <td>750.0</td>\n      <td>2323.0</td>\n      <td>1.5</td>\n      <td>CDI (ou fonctionnaire)</td>\n      <td>Logement repris ou mis en vente par son propri...</td>\n      <td>65.0</td>\n      <td>Française</td>\n      <td>F</td>\n      <td>175028000574100002</td>\n      <td>NaN</td>\n    </tr>\n    <tr>\n      <th>4</th>\n      <td>4.0</td>\n      <td>300.0</td>\n      <td>1447.0</td>\n      <td>1.0</td>\n      <td>Retraité</td>\n      <td>Raisons de santé</td>\n      <td>82.0</td>\n      <td>Française</td>\n      <td>F</td>\n      <td>111091487693675056</td>\n      <td>NaN</td>\n    </tr>\n    <tr>\n      <th>...</th>\n      <td>...</td>\n      <td>...</td>\n      <td>...</td>\n      <td>...</td>\n      <td>...</td>\n      <td>...</td>\n      <td>...</td>\n      <td>...</td>\n      <td>...</td>\n      <td>...</td>\n      <td>...</td>\n    </tr>\n    <tr>\n      <th>797468</th>\n      <td>NaN</td>\n      <td>NaN</td>\n      <td>NaN</td>\n      <td>NaN</td>\n      <td>NaN</td>\n      <td>NaN</td>\n      <td>NaN</td>\n      <td>NaN</td>\n      <td>NaN</td>\n      <td>1111218129847GDPUB</td>\n      <td>2019-01-01 00:00:00</td>\n    </tr>\n    <tr>\n      <th>797469</th>\n      <td>NaN</td>\n      <td>NaN</td>\n      <td>NaN</td>\n      <td>NaN</td>\n      <td>NaN</td>\n      <td>NaN</td>\n      <td>NaN</td>\n      <td>NaN</td>\n      <td>NaN</td>\n      <td>111121812788778498</td>\n      <td>2018-12-21 00:00:00</td>\n    </tr>\n    <tr>\n      <th>797470</th>\n      <td>NaN</td>\n      <td>NaN</td>\n      <td>NaN</td>\n      <td>NaN</td>\n      <td>NaN</td>\n      <td>NaN</td>\n      <td>NaN</td>\n      <td>NaN</td>\n      <td>NaN</td>\n      <td>111121812792310122</td>\n      <td>2018-12-28 00:00:00</td>\n    </tr>\n    <tr>\n      <th>797471</th>\n      <td>NaN</td>\n      <td>NaN</td>\n      <td>NaN</td>\n      <td>NaN</td>\n      <td>NaN</td>\n      <td>NaN</td>\n      <td>NaN</td>\n      <td>NaN</td>\n      <td>NaN</td>\n      <td>111121813038177438</td>\n      <td>2018-12-31 00:00:00</td>\n    </tr>\n    <tr>\n      <th>797472</th>\n      <td>NaN</td>\n      <td>NaN</td>\n      <td>NaN</td>\n      <td>NaN</td>\n      <td>NaN</td>\n      <td>NaN</td>\n      <td>NaN</td>\n      <td>NaN</td>\n      <td>NaN</td>\n      <td>111121813209910389</td>\n      <td>2018-12-31 00:00:00</td>\n    </tr>\n  </tbody>\n</table>\n<p>797473 rows × 11 columns</p>\n</div>"
     },
     "execution_count": 23,
     "metadata": {},
     "output_type": "execute_result"
    }
   ],
   "source": [
    "bdd.rename(columns={'Unnamed: 0_x': 'Code', 'Montant maxi (loyer+charges) supportable_x': 'Montant maxi (loyer+charges) supportable', 'Ressources mensuelles du foyer_x': 'Ressources mensuelles du foyer', 'Nb unités de consommation du foyer_x': 'Nb unités de consommation du foyer', 'Situation professionnelle demandeur_x':'Situation professionnelle demandeur', 'motif n°1 de la demande_x': 'motif n°1 de la demande', 'Age demandeur_x': 'Age demandeur', 'Nationalité demandeur\\n': 'Nationalité demandeur', 'Sexe demandeur\\n': 'Sexe demandeur'}, inplace=True)\n",
    "bdd"
   ],
   "metadata": {
    "collapsed": false,
    "pycharm": {
     "name": "#%%\n"
    }
   }
  },
  {
   "cell_type": "markdown",
   "source": [
    "#### Création de la variable binaire : attribution d'un logement en 2018"
   ],
   "metadata": {
    "collapsed": false,
    "pycharm": {
     "name": "#%% md\n"
    }
   }
  },
  {
   "cell_type": "code",
   "execution_count": 29,
   "outputs": [
    {
     "name": "stderr",
     "output_type": "stream",
     "text": [
      "C:\\Users\\arceb\\AppData\\Local\\Temp\\ipykernel_19692\\325202126.py:1: SettingWithCopyWarning: \n",
      "A value is trying to be set on a copy of a slice from a DataFrame.\n",
      "Try using .loc[row_indexer,col_indexer] = value instead\n",
      "\n",
      "See the caveats in the documentation: https://pandas.pydata.org/pandas-docs/stable/user_guide/indexing.html#returning-a-view-versus-a-copy\n",
      "  bdd['Code'] = bdd['Date de la radiation'].str.contains(\"NaN\", na=True).astype(int)\n"
     ]
    }
   ],
   "source": [
    "bdd['Code'] = bdd['Date de la radiation'].str.contains(\"NaN\", na=True).astype(int)"
   ],
   "metadata": {
    "collapsed": false,
    "pycharm": {
     "name": "#%%\n"
    }
   }
  },
  {
   "cell_type": "code",
   "execution_count": 30,
   "outputs": [
    {
     "data": {
      "text/plain": "        Code  Montant maxi (loyer+charges) supportable  \\\n0          0                                     300.0   \n1          1                                     299.0   \n2          1                                     400.0   \n3          1                                     750.0   \n4          1                                     300.0   \n...      ...                                       ...   \n797468     0                                       NaN   \n797469     0                                       NaN   \n797470     0                                       NaN   \n797471     0                                       NaN   \n797472     0                                       NaN   \n\n        Ressources mensuelles du foyer  Nb unités de consommation du foyer  \\\n0                                556.0                                 1.0   \n1                               1906.0                                 1.0   \n2                               1446.0                                 1.0   \n3                               2323.0                                 1.5   \n4                               1447.0                                 1.0   \n...                                ...                                 ...   \n797468                             NaN                                 NaN   \n797469                             NaN                                 NaN   \n797470                             NaN                                 NaN   \n797471                             NaN                                 NaN   \n797472                             NaN                                 NaN   \n\n       Situation professionnelle demandeur  \\\n0                                 Retraité   \n1                                 Retraité   \n2                                 Retraité   \n3                   CDI (ou fonctionnaire)   \n4                                 Retraité   \n...                                    ...   \n797468                                 NaN   \n797469                                 NaN   \n797470                                 NaN   \n797471                                 NaN   \n797472                                 NaN   \n\n                                  motif n°1 de la demande  Age demandeur  \\\n0       Logement repris ou mis en vente par son propri...           59.0   \n1                                     Logement trop petit           66.0   \n2                                                Handicap           80.0   \n3       Logement repris ou mis en vente par son propri...           65.0   \n4                                        Raisons de santé           82.0   \n...                                                   ...            ...   \n797468                                                NaN            NaN   \n797469                                                NaN            NaN   \n797470                                                NaN            NaN   \n797471                                                NaN            NaN   \n797472                                                NaN            NaN   \n\n        Nationalité demandeur Sexe demandeur       Numéro Unique  \\\n0       Hors Union Européenne              F  175037900427000002   \n1                   Française              F  175018000669100002   \n2                   Française              M  175028000646000002   \n3                   Française              F  175028000574100002   \n4                   Française              F  111091487693675056   \n...                       ...            ...                 ...   \n797468                    NaN            NaN  1111218129847GDPUB   \n797469                    NaN            NaN  111121812788778498   \n797470                    NaN            NaN  111121812792310122   \n797471                    NaN            NaN  111121813038177438   \n797472                    NaN            NaN  111121813209910389   \n\n       Date de la radiation  \n0       2018-04-13 00:00:00  \n1                       NaN  \n2                       NaN  \n3                       NaN  \n4                       NaN  \n...                     ...  \n797468  2019-01-01 00:00:00  \n797469  2018-12-21 00:00:00  \n797470  2018-12-28 00:00:00  \n797471  2018-12-31 00:00:00  \n797472  2018-12-31 00:00:00  \n\n[797473 rows x 11 columns]",
      "text/html": "<div>\n<style scoped>\n    .dataframe tbody tr th:only-of-type {\n        vertical-align: middle;\n    }\n\n    .dataframe tbody tr th {\n        vertical-align: top;\n    }\n\n    .dataframe thead th {\n        text-align: right;\n    }\n</style>\n<table border=\"1\" class=\"dataframe\">\n  <thead>\n    <tr style=\"text-align: right;\">\n      <th></th>\n      <th>Code</th>\n      <th>Montant maxi (loyer+charges) supportable</th>\n      <th>Ressources mensuelles du foyer</th>\n      <th>Nb unités de consommation du foyer</th>\n      <th>Situation professionnelle demandeur</th>\n      <th>motif n°1 de la demande</th>\n      <th>Age demandeur</th>\n      <th>Nationalité demandeur</th>\n      <th>Sexe demandeur</th>\n      <th>Numéro Unique</th>\n      <th>Date de la radiation</th>\n    </tr>\n  </thead>\n  <tbody>\n    <tr>\n      <th>0</th>\n      <td>0</td>\n      <td>300.0</td>\n      <td>556.0</td>\n      <td>1.0</td>\n      <td>Retraité</td>\n      <td>Logement repris ou mis en vente par son propri...</td>\n      <td>59.0</td>\n      <td>Hors Union Européenne</td>\n      <td>F</td>\n      <td>175037900427000002</td>\n      <td>2018-04-13 00:00:00</td>\n    </tr>\n    <tr>\n      <th>1</th>\n      <td>1</td>\n      <td>299.0</td>\n      <td>1906.0</td>\n      <td>1.0</td>\n      <td>Retraité</td>\n      <td>Logement trop petit</td>\n      <td>66.0</td>\n      <td>Française</td>\n      <td>F</td>\n      <td>175018000669100002</td>\n      <td>NaN</td>\n    </tr>\n    <tr>\n      <th>2</th>\n      <td>1</td>\n      <td>400.0</td>\n      <td>1446.0</td>\n      <td>1.0</td>\n      <td>Retraité</td>\n      <td>Handicap</td>\n      <td>80.0</td>\n      <td>Française</td>\n      <td>M</td>\n      <td>175028000646000002</td>\n      <td>NaN</td>\n    </tr>\n    <tr>\n      <th>3</th>\n      <td>1</td>\n      <td>750.0</td>\n      <td>2323.0</td>\n      <td>1.5</td>\n      <td>CDI (ou fonctionnaire)</td>\n      <td>Logement repris ou mis en vente par son propri...</td>\n      <td>65.0</td>\n      <td>Française</td>\n      <td>F</td>\n      <td>175028000574100002</td>\n      <td>NaN</td>\n    </tr>\n    <tr>\n      <th>4</th>\n      <td>1</td>\n      <td>300.0</td>\n      <td>1447.0</td>\n      <td>1.0</td>\n      <td>Retraité</td>\n      <td>Raisons de santé</td>\n      <td>82.0</td>\n      <td>Française</td>\n      <td>F</td>\n      <td>111091487693675056</td>\n      <td>NaN</td>\n    </tr>\n    <tr>\n      <th>...</th>\n      <td>...</td>\n      <td>...</td>\n      <td>...</td>\n      <td>...</td>\n      <td>...</td>\n      <td>...</td>\n      <td>...</td>\n      <td>...</td>\n      <td>...</td>\n      <td>...</td>\n      <td>...</td>\n    </tr>\n    <tr>\n      <th>797468</th>\n      <td>0</td>\n      <td>NaN</td>\n      <td>NaN</td>\n      <td>NaN</td>\n      <td>NaN</td>\n      <td>NaN</td>\n      <td>NaN</td>\n      <td>NaN</td>\n      <td>NaN</td>\n      <td>1111218129847GDPUB</td>\n      <td>2019-01-01 00:00:00</td>\n    </tr>\n    <tr>\n      <th>797469</th>\n      <td>0</td>\n      <td>NaN</td>\n      <td>NaN</td>\n      <td>NaN</td>\n      <td>NaN</td>\n      <td>NaN</td>\n      <td>NaN</td>\n      <td>NaN</td>\n      <td>NaN</td>\n      <td>111121812788778498</td>\n      <td>2018-12-21 00:00:00</td>\n    </tr>\n    <tr>\n      <th>797470</th>\n      <td>0</td>\n      <td>NaN</td>\n      <td>NaN</td>\n      <td>NaN</td>\n      <td>NaN</td>\n      <td>NaN</td>\n      <td>NaN</td>\n      <td>NaN</td>\n      <td>NaN</td>\n      <td>111121812792310122</td>\n      <td>2018-12-28 00:00:00</td>\n    </tr>\n    <tr>\n      <th>797471</th>\n      <td>0</td>\n      <td>NaN</td>\n      <td>NaN</td>\n      <td>NaN</td>\n      <td>NaN</td>\n      <td>NaN</td>\n      <td>NaN</td>\n      <td>NaN</td>\n      <td>NaN</td>\n      <td>111121813038177438</td>\n      <td>2018-12-31 00:00:00</td>\n    </tr>\n    <tr>\n      <th>797472</th>\n      <td>0</td>\n      <td>NaN</td>\n      <td>NaN</td>\n      <td>NaN</td>\n      <td>NaN</td>\n      <td>NaN</td>\n      <td>NaN</td>\n      <td>NaN</td>\n      <td>NaN</td>\n      <td>111121813209910389</td>\n      <td>2018-12-31 00:00:00</td>\n    </tr>\n  </tbody>\n</table>\n<p>797473 rows × 11 columns</p>\n</div>"
     },
     "execution_count": 30,
     "metadata": {},
     "output_type": "execute_result"
    }
   ],
   "source": [
    "bdd"
   ],
   "metadata": {
    "collapsed": false,
    "pycharm": {
     "name": "#%%\n"
    }
   }
  },
  {
   "cell_type": "markdown",
   "source": [
    "Dans la première colonne du tableau, lorsque le code est égal à 1, cela veut dire qu'il n'y a pas eu d'attribution, tandis que lorsque le code est égal à 0, il y a eu attribution. On va retirer du tableau les valeurs qui correspondent à des attributions de 2017."
   ],
   "metadata": {
    "collapsed": false,
    "pycharm": {
     "name": "#%% md\n"
    }
   }
  },
  {
   "cell_type": "code",
   "execution_count": null,
   "outputs": [],
   "source": [
    "#On vérifie que dans la base de données il y a des attributions de 2017 afin de les supprimer\n",
    "bdd['Date de la radiation'].str.contains(\"2017\", na=False)"
   ],
   "metadata": {
    "collapsed": false,
    "pycharm": {
     "name": "#%%\n"
    }
   }
  },
  {
   "cell_type": "markdown",
   "source": [
    "A partir de la ligne 705000 environ on retrouve bien des radiations de 2017. Il faut les supprimer pour n'utiliser que les données de 2018."
   ],
   "metadata": {
    "collapsed": false,
    "pycharm": {
     "name": "#%% md\n"
    }
   }
  },
  {
   "cell_type": "code",
   "execution_count": 35,
   "outputs": [],
   "source": [
    "indexNames = bdd[ bdd['Date de la radiation'].str.contains(\"2017\", na=False)].index"
   ],
   "metadata": {
    "collapsed": false,
    "pycharm": {
     "name": "#%%\n"
    }
   }
  },
  {
   "cell_type": "code",
   "execution_count": 36,
   "outputs": [
    {
     "data": {
      "text/plain": "Int64Index([704523, 704524, 704525, 704526, 704527, 704528, 704529, 704530,\n            704531, 704532,\n            ...\n            784329, 784330, 784331, 784337, 784339, 784340, 784341, 784342,\n            784348, 784349],\n           dtype='int64', length=78876)"
     },
     "execution_count": 36,
     "metadata": {},
     "output_type": "execute_result"
    }
   ],
   "source": [
    "indexNames"
   ],
   "metadata": {
    "collapsed": false,
    "pycharm": {
     "name": "#%%\n"
    }
   }
  },
  {
   "cell_type": "code",
   "execution_count": 37,
   "outputs": [
    {
     "name": "stderr",
     "output_type": "stream",
     "text": [
      "C:\\Users\\arceb\\AppData\\Local\\Temp\\ipykernel_19692\\2541880329.py:1: SettingWithCopyWarning: \n",
      "A value is trying to be set on a copy of a slice from a DataFrame\n",
      "\n",
      "See the caveats in the documentation: https://pandas.pydata.org/pandas-docs/stable/user_guide/indexing.html#returning-a-view-versus-a-copy\n",
      "  bdd.drop(indexNames, inplace=True)\n"
     ]
    }
   ],
   "source": [
    "bdd.drop(indexNames, inplace=True)"
   ],
   "metadata": {
    "collapsed": false,
    "pycharm": {
     "name": "#%%\n"
    }
   }
  },
  {
   "cell_type": "code",
   "execution_count": 38,
   "outputs": [
    {
     "data": {
      "text/plain": "        Code  Montant maxi (loyer+charges) supportable  \\\n0          0                                     300.0   \n1          1                                     299.0   \n2          1                                     400.0   \n3          1                                     750.0   \n4          1                                     300.0   \n...      ...                                       ...   \n797468     0                                       NaN   \n797469     0                                       NaN   \n797470     0                                       NaN   \n797471     0                                       NaN   \n797472     0                                       NaN   \n\n        Ressources mensuelles du foyer  Nb unités de consommation du foyer  \\\n0                                556.0                                 1.0   \n1                               1906.0                                 1.0   \n2                               1446.0                                 1.0   \n3                               2323.0                                 1.5   \n4                               1447.0                                 1.0   \n...                                ...                                 ...   \n797468                             NaN                                 NaN   \n797469                             NaN                                 NaN   \n797470                             NaN                                 NaN   \n797471                             NaN                                 NaN   \n797472                             NaN                                 NaN   \n\n       Situation professionnelle demandeur  \\\n0                                 Retraité   \n1                                 Retraité   \n2                                 Retraité   \n3                   CDI (ou fonctionnaire)   \n4                                 Retraité   \n...                                    ...   \n797468                                 NaN   \n797469                                 NaN   \n797470                                 NaN   \n797471                                 NaN   \n797472                                 NaN   \n\n                                  motif n°1 de la demande  Age demandeur  \\\n0       Logement repris ou mis en vente par son propri...           59.0   \n1                                     Logement trop petit           66.0   \n2                                                Handicap           80.0   \n3       Logement repris ou mis en vente par son propri...           65.0   \n4                                        Raisons de santé           82.0   \n...                                                   ...            ...   \n797468                                                NaN            NaN   \n797469                                                NaN            NaN   \n797470                                                NaN            NaN   \n797471                                                NaN            NaN   \n797472                                                NaN            NaN   \n\n        Nationalité demandeur Sexe demandeur       Numéro Unique  \\\n0       Hors Union Européenne              F  175037900427000002   \n1                   Française              F  175018000669100002   \n2                   Française              M  175028000646000002   \n3                   Française              F  175028000574100002   \n4                   Française              F  111091487693675056   \n...                       ...            ...                 ...   \n797468                    NaN            NaN  1111218129847GDPUB   \n797469                    NaN            NaN  111121812788778498   \n797470                    NaN            NaN  111121812792310122   \n797471                    NaN            NaN  111121813038177438   \n797472                    NaN            NaN  111121813209910389   \n\n       Date de la radiation  \n0       2018-04-13 00:00:00  \n1                       NaN  \n2                       NaN  \n3                       NaN  \n4                       NaN  \n...                     ...  \n797468  2019-01-01 00:00:00  \n797469  2018-12-21 00:00:00  \n797470  2018-12-28 00:00:00  \n797471  2018-12-31 00:00:00  \n797472  2018-12-31 00:00:00  \n\n[718597 rows x 11 columns]",
      "text/html": "<div>\n<style scoped>\n    .dataframe tbody tr th:only-of-type {\n        vertical-align: middle;\n    }\n\n    .dataframe tbody tr th {\n        vertical-align: top;\n    }\n\n    .dataframe thead th {\n        text-align: right;\n    }\n</style>\n<table border=\"1\" class=\"dataframe\">\n  <thead>\n    <tr style=\"text-align: right;\">\n      <th></th>\n      <th>Code</th>\n      <th>Montant maxi (loyer+charges) supportable</th>\n      <th>Ressources mensuelles du foyer</th>\n      <th>Nb unités de consommation du foyer</th>\n      <th>Situation professionnelle demandeur</th>\n      <th>motif n°1 de la demande</th>\n      <th>Age demandeur</th>\n      <th>Nationalité demandeur</th>\n      <th>Sexe demandeur</th>\n      <th>Numéro Unique</th>\n      <th>Date de la radiation</th>\n    </tr>\n  </thead>\n  <tbody>\n    <tr>\n      <th>0</th>\n      <td>0</td>\n      <td>300.0</td>\n      <td>556.0</td>\n      <td>1.0</td>\n      <td>Retraité</td>\n      <td>Logement repris ou mis en vente par son propri...</td>\n      <td>59.0</td>\n      <td>Hors Union Européenne</td>\n      <td>F</td>\n      <td>175037900427000002</td>\n      <td>2018-04-13 00:00:00</td>\n    </tr>\n    <tr>\n      <th>1</th>\n      <td>1</td>\n      <td>299.0</td>\n      <td>1906.0</td>\n      <td>1.0</td>\n      <td>Retraité</td>\n      <td>Logement trop petit</td>\n      <td>66.0</td>\n      <td>Française</td>\n      <td>F</td>\n      <td>175018000669100002</td>\n      <td>NaN</td>\n    </tr>\n    <tr>\n      <th>2</th>\n      <td>1</td>\n      <td>400.0</td>\n      <td>1446.0</td>\n      <td>1.0</td>\n      <td>Retraité</td>\n      <td>Handicap</td>\n      <td>80.0</td>\n      <td>Française</td>\n      <td>M</td>\n      <td>175028000646000002</td>\n      <td>NaN</td>\n    </tr>\n    <tr>\n      <th>3</th>\n      <td>1</td>\n      <td>750.0</td>\n      <td>2323.0</td>\n      <td>1.5</td>\n      <td>CDI (ou fonctionnaire)</td>\n      <td>Logement repris ou mis en vente par son propri...</td>\n      <td>65.0</td>\n      <td>Française</td>\n      <td>F</td>\n      <td>175028000574100002</td>\n      <td>NaN</td>\n    </tr>\n    <tr>\n      <th>4</th>\n      <td>1</td>\n      <td>300.0</td>\n      <td>1447.0</td>\n      <td>1.0</td>\n      <td>Retraité</td>\n      <td>Raisons de santé</td>\n      <td>82.0</td>\n      <td>Française</td>\n      <td>F</td>\n      <td>111091487693675056</td>\n      <td>NaN</td>\n    </tr>\n    <tr>\n      <th>...</th>\n      <td>...</td>\n      <td>...</td>\n      <td>...</td>\n      <td>...</td>\n      <td>...</td>\n      <td>...</td>\n      <td>...</td>\n      <td>...</td>\n      <td>...</td>\n      <td>...</td>\n      <td>...</td>\n    </tr>\n    <tr>\n      <th>797468</th>\n      <td>0</td>\n      <td>NaN</td>\n      <td>NaN</td>\n      <td>NaN</td>\n      <td>NaN</td>\n      <td>NaN</td>\n      <td>NaN</td>\n      <td>NaN</td>\n      <td>NaN</td>\n      <td>1111218129847GDPUB</td>\n      <td>2019-01-01 00:00:00</td>\n    </tr>\n    <tr>\n      <th>797469</th>\n      <td>0</td>\n      <td>NaN</td>\n      <td>NaN</td>\n      <td>NaN</td>\n      <td>NaN</td>\n      <td>NaN</td>\n      <td>NaN</td>\n      <td>NaN</td>\n      <td>NaN</td>\n      <td>111121812788778498</td>\n      <td>2018-12-21 00:00:00</td>\n    </tr>\n    <tr>\n      <th>797470</th>\n      <td>0</td>\n      <td>NaN</td>\n      <td>NaN</td>\n      <td>NaN</td>\n      <td>NaN</td>\n      <td>NaN</td>\n      <td>NaN</td>\n      <td>NaN</td>\n      <td>NaN</td>\n      <td>111121812792310122</td>\n      <td>2018-12-28 00:00:00</td>\n    </tr>\n    <tr>\n      <th>797471</th>\n      <td>0</td>\n      <td>NaN</td>\n      <td>NaN</td>\n      <td>NaN</td>\n      <td>NaN</td>\n      <td>NaN</td>\n      <td>NaN</td>\n      <td>NaN</td>\n      <td>NaN</td>\n      <td>111121813038177438</td>\n      <td>2018-12-31 00:00:00</td>\n    </tr>\n    <tr>\n      <th>797472</th>\n      <td>0</td>\n      <td>NaN</td>\n      <td>NaN</td>\n      <td>NaN</td>\n      <td>NaN</td>\n      <td>NaN</td>\n      <td>NaN</td>\n      <td>NaN</td>\n      <td>NaN</td>\n      <td>111121813209910389</td>\n      <td>2018-12-31 00:00:00</td>\n    </tr>\n  </tbody>\n</table>\n<p>718597 rows × 11 columns</p>\n</div>"
     },
     "execution_count": 38,
     "metadata": {},
     "output_type": "execute_result"
    }
   ],
   "source": [
    "bdd"
   ],
   "metadata": {
    "collapsed": false,
    "pycharm": {
     "name": "#%%\n"
    }
   }
  },
  {
   "cell_type": "code",
   "execution_count": 54,
   "outputs": [],
   "source": [
    "bdd_bis=bdd[['Code', 'Montant maxi (loyer+charges) supportable', 'Ressources mensuelles du foyer','Nb unités de consommation du foyer', 'Age demandeur']]"
   ],
   "metadata": {
    "collapsed": false,
    "pycharm": {
     "name": "#%%\n"
    }
   }
  },
  {
   "cell_type": "code",
   "execution_count": 57,
   "outputs": [
    {
     "name": "stderr",
     "output_type": "stream",
     "text": [
      "C:\\Users\\arceb\\AppData\\Local\\Temp\\ipykernel_19692\\2504137402.py:1: SettingWithCopyWarning: \n",
      "A value is trying to be set on a copy of a slice from a DataFrame\n",
      "\n",
      "See the caveats in the documentation: https://pandas.pydata.org/pandas-docs/stable/user_guide/indexing.html#returning-a-view-versus-a-copy\n",
      "  bdd_bis.dropna(inplace=True)\n"
     ]
    }
   ],
   "source": [
    "#On enlève les NaN c'est à dire les données incomplètes + les personnes qui ont eu un logement dans l'année et qui ne sont pas dans la base attributaires\n",
    "bdd_bis.dropna(inplace=True)"
   ],
   "metadata": {
    "collapsed": false,
    "pycharm": {
     "name": "#%%\n"
    }
   }
  },
  {
   "cell_type": "code",
   "execution_count": 58,
   "outputs": [
    {
     "data": {
      "text/plain": "        Code  Montant maxi (loyer+charges) supportable  \\\n0          0                                     300.0   \n1          1                                     299.0   \n2          1                                     400.0   \n3          1                                     750.0   \n4          1                                     300.0   \n...      ...                                       ...   \n704516     1                                     550.0   \n704517     1                                    1400.0   \n704518     1                                     600.0   \n704519     1                                     600.0   \n704520     1                                     395.0   \n\n        Ressources mensuelles du foyer  Nb unités de consommation du foyer  \\\n0                                556.0                                 1.0   \n1                               1906.0                                 1.0   \n2                               1446.0                                 1.0   \n3                               2323.0                                 1.5   \n4                               1447.0                                 1.0   \n...                                ...                                 ...   \n704516                          2128.0                                 2.1   \n704517                          4821.0                                 1.8   \n704518                          1067.0                                 1.0   \n704519                          1643.0                                 1.3   \n704520                          1186.0                                 1.0   \n\n        Age demandeur  \n0                59.0  \n1                66.0  \n2                80.0  \n3                65.0  \n4                82.0  \n...               ...  \n704516           31.0  \n704517           47.0  \n704518           43.0  \n704519           32.0  \n704520           24.0  \n\n[638509 rows x 5 columns]",
      "text/html": "<div>\n<style scoped>\n    .dataframe tbody tr th:only-of-type {\n        vertical-align: middle;\n    }\n\n    .dataframe tbody tr th {\n        vertical-align: top;\n    }\n\n    .dataframe thead th {\n        text-align: right;\n    }\n</style>\n<table border=\"1\" class=\"dataframe\">\n  <thead>\n    <tr style=\"text-align: right;\">\n      <th></th>\n      <th>Code</th>\n      <th>Montant maxi (loyer+charges) supportable</th>\n      <th>Ressources mensuelles du foyer</th>\n      <th>Nb unités de consommation du foyer</th>\n      <th>Age demandeur</th>\n    </tr>\n  </thead>\n  <tbody>\n    <tr>\n      <th>0</th>\n      <td>0</td>\n      <td>300.0</td>\n      <td>556.0</td>\n      <td>1.0</td>\n      <td>59.0</td>\n    </tr>\n    <tr>\n      <th>1</th>\n      <td>1</td>\n      <td>299.0</td>\n      <td>1906.0</td>\n      <td>1.0</td>\n      <td>66.0</td>\n    </tr>\n    <tr>\n      <th>2</th>\n      <td>1</td>\n      <td>400.0</td>\n      <td>1446.0</td>\n      <td>1.0</td>\n      <td>80.0</td>\n    </tr>\n    <tr>\n      <th>3</th>\n      <td>1</td>\n      <td>750.0</td>\n      <td>2323.0</td>\n      <td>1.5</td>\n      <td>65.0</td>\n    </tr>\n    <tr>\n      <th>4</th>\n      <td>1</td>\n      <td>300.0</td>\n      <td>1447.0</td>\n      <td>1.0</td>\n      <td>82.0</td>\n    </tr>\n    <tr>\n      <th>...</th>\n      <td>...</td>\n      <td>...</td>\n      <td>...</td>\n      <td>...</td>\n      <td>...</td>\n    </tr>\n    <tr>\n      <th>704516</th>\n      <td>1</td>\n      <td>550.0</td>\n      <td>2128.0</td>\n      <td>2.1</td>\n      <td>31.0</td>\n    </tr>\n    <tr>\n      <th>704517</th>\n      <td>1</td>\n      <td>1400.0</td>\n      <td>4821.0</td>\n      <td>1.8</td>\n      <td>47.0</td>\n    </tr>\n    <tr>\n      <th>704518</th>\n      <td>1</td>\n      <td>600.0</td>\n      <td>1067.0</td>\n      <td>1.0</td>\n      <td>43.0</td>\n    </tr>\n    <tr>\n      <th>704519</th>\n      <td>1</td>\n      <td>600.0</td>\n      <td>1643.0</td>\n      <td>1.3</td>\n      <td>32.0</td>\n    </tr>\n    <tr>\n      <th>704520</th>\n      <td>1</td>\n      <td>395.0</td>\n      <td>1186.0</td>\n      <td>1.0</td>\n      <td>24.0</td>\n    </tr>\n  </tbody>\n</table>\n<p>638509 rows × 5 columns</p>\n</div>"
     },
     "execution_count": 58,
     "metadata": {},
     "output_type": "execute_result"
    }
   ],
   "source": [
    "bdd_bis"
   ],
   "metadata": {
    "collapsed": false,
    "pycharm": {
     "name": "#%%\n"
    }
   }
  },
  {
   "cell_type": "markdown",
   "source": [
    "On a transformé la variable d'intérêt (le fait que la personne se soit vue attribuer un logement ou non au cours de l'année 2018 en fonction de sa présence dans la base de données des demandeurs au premier janvier) en une variable binaire (0= elle a obtenu un logement, 1= elle n'a pas obtenu de logement). Afin d'effectuer une régression probit ou logit (qui sont les types de régressions utilisés lorsque la variable d'intérêt est binaire), il faut transformer les autres variables qualitatives de la base de données en des variables quantitatives.\n",
    "\n",
    "Idée : on pourrait avoir besoin de variables de contrôle selon le lieu (EPCI, régon,...) : aller voir les travaux de Gulian là-dessus."
   ],
   "metadata": {
    "collapsed": false,
    "pycharm": {
     "name": "#%% md\n"
    }
   }
  },
  {
   "cell_type": "markdown",
   "source": [
    "#### Transformation des autres variables en variables qualitatives\n",
    "\n",
    "Il faut transformer la variable situation professionnelle du demandeur, le motif, le sexe et la nationalité du demandeur, selon le nombre de catégories qualitatives que chaque variable contient (ex : le sexe du demandeur va être une variable binaire)"
   ],
   "metadata": {
    "collapsed": false,
    "pycharm": {
     "name": "#%% md\n"
    }
   }
  },
  {
   "cell_type": "code",
   "execution_count": 54,
   "outputs": [],
   "source": [],
   "metadata": {
    "collapsed": false,
    "pycharm": {
     "name": "#%%\n"
    }
   }
  },
  {
   "cell_type": "markdown",
   "source": [
    "## Test régression"
   ],
   "metadata": {
    "collapsed": false,
    "pycharm": {
     "name": "#%% md\n"
    }
   }
  },
  {
   "cell_type": "code",
   "execution_count": 42,
   "outputs": [
    {
     "name": "stdout",
     "output_type": "stream",
     "text": [
      "Collecting statsmodels\n",
      "  Downloading statsmodels-0.13.2-cp39-cp39-win_amd64.whl (9.1 MB)\n",
      "Requirement already satisfied: packaging>=21.3 in c:\\users\\arceb\\appdata\\local\\programs\\python\\python39\\lib\\site-packages (from statsmodels) (21.3)\n",
      "Requirement already satisfied: pandas>=0.25 in c:\\users\\arceb\\appdata\\local\\programs\\python\\python39\\lib\\site-packages (from statsmodels) (1.4.2)\n",
      "Collecting patsy>=0.5.2\n",
      "  Downloading patsy-0.5.2-py2.py3-none-any.whl (233 kB)\n",
      "Collecting scipy>=1.3\n",
      "  Downloading scipy-1.8.1-cp39-cp39-win_amd64.whl (36.9 MB)\n",
      "Requirement already satisfied: numpy>=1.17 in c:\\users\\arceb\\appdata\\local\\programs\\python\\python39\\lib\\site-packages (from statsmodels) (1.22.2)\n",
      "Requirement already satisfied: pyparsing!=3.0.5,>=2.0.2 in c:\\users\\arceb\\appdata\\local\\programs\\python\\python39\\lib\\site-packages (from packaging>=21.3->statsmodels) (3.0.9)\n",
      "Requirement already satisfied: pytz>=2020.1 in c:\\users\\arceb\\appdata\\local\\programs\\python\\python39\\lib\\site-packages (from pandas>=0.25->statsmodels) (2022.1)\n",
      "Requirement already satisfied: python-dateutil>=2.8.1 in c:\\users\\arceb\\appdata\\local\\programs\\python\\python39\\lib\\site-packages (from pandas>=0.25->statsmodels) (2.8.2)\n",
      "Requirement already satisfied: six in c:\\users\\arceb\\appdata\\local\\programs\\python\\python39\\lib\\site-packages (from patsy>=0.5.2->statsmodels) (1.16.0)\n",
      "Installing collected packages: scipy, patsy, statsmodels\n",
      "Successfully installed patsy-0.5.2 scipy-1.8.1 statsmodels-0.13.2\n"
     ]
    },
    {
     "name": "stderr",
     "output_type": "stream",
     "text": [
      "WARNING: You are using pip version 21.2.4; however, version 22.1.2 is available.\n",
      "You should consider upgrading via the 'C:\\Users\\arceb\\AppData\\Local\\Programs\\Python\\Python39\\python.exe -m pip install --upgrade pip' command.\n"
     ]
    }
   ],
   "source": [
    "!pip install statsmodels"
   ],
   "metadata": {
    "collapsed": false,
    "pycharm": {
     "name": "#%%\n"
    }
   }
  },
  {
   "cell_type": "code",
   "execution_count": 43,
   "outputs": [
    {
     "name": "stdout",
     "output_type": "stream",
     "text": [
      "Collecting sklearn\n",
      "  Downloading sklearn-0.0.tar.gz (1.1 kB)\n",
      "Collecting scikit-learn\n",
      "  Downloading scikit_learn-1.1.1-cp39-cp39-win_amd64.whl (7.4 MB)\n",
      "Requirement already satisfied: numpy>=1.17.3 in c:\\users\\arceb\\appdata\\local\\programs\\python\\python39\\lib\\site-packages (from scikit-learn->sklearn) (1.22.2)\n",
      "Collecting threadpoolctl>=2.0.0\n",
      "  Downloading threadpoolctl-3.1.0-py3-none-any.whl (14 kB)\n",
      "Requirement already satisfied: scipy>=1.3.2 in c:\\users\\arceb\\appdata\\local\\programs\\python\\python39\\lib\\site-packages (from scikit-learn->sklearn) (1.8.1)\n",
      "Collecting joblib>=1.0.0\n",
      "  Downloading joblib-1.1.0-py2.py3-none-any.whl (306 kB)\n",
      "Using legacy 'setup.py install' for sklearn, since package 'wheel' is not installed.\n",
      "Installing collected packages: threadpoolctl, joblib, scikit-learn, sklearn\n",
      "    Running setup.py install for sklearn: started\n",
      "    Running setup.py install for sklearn: finished with status 'done'\n",
      "Successfully installed joblib-1.1.0 scikit-learn-1.1.1 sklearn-0.0 threadpoolctl-3.1.0\n"
     ]
    },
    {
     "name": "stderr",
     "output_type": "stream",
     "text": [
      "WARNING: You are using pip version 21.2.4; however, version 22.1.2 is available.\n",
      "You should consider upgrading via the 'C:\\Users\\arceb\\AppData\\Local\\Programs\\Python\\Python39\\python.exe -m pip install --upgrade pip' command.\n"
     ]
    }
   ],
   "source": [
    "!pip install sklearn"
   ],
   "metadata": {
    "collapsed": false,
    "pycharm": {
     "name": "#%%\n"
    }
   }
  },
  {
   "cell_type": "code",
   "execution_count": 44,
   "outputs": [],
   "source": [
    "import statsmodels.api as sm\n",
    "from sklearn.linear_model import LogisticRegression"
   ],
   "metadata": {
    "collapsed": false,
    "pycharm": {
     "name": "#%%\n"
    }
   }
  },
  {
   "cell_type": "code",
   "execution_count": 59,
   "outputs": [],
   "source": [
    "y = bdd_bis[\"Code\"]\n",
    "# on ne prend que les colonnes quantitatives\n",
    "x = bdd_bis[['Montant maxi (loyer+charges) supportable', 'Ressources mensuelles du foyer','Nb unités de consommation du foyer', 'Age demandeur']]"
   ],
   "metadata": {
    "collapsed": false,
    "pycharm": {
     "name": "#%%\n"
    }
   }
  },
  {
   "cell_type": "code",
   "execution_count": 60,
   "outputs": [
    {
     "data": {
      "text/plain": "LogisticRegression(penalty='none', solver='newton-cg')",
      "text/html": "<style>#sk-container-id-1 {color: black;background-color: white;}#sk-container-id-1 pre{padding: 0;}#sk-container-id-1 div.sk-toggleable {background-color: white;}#sk-container-id-1 label.sk-toggleable__label {cursor: pointer;display: block;width: 100%;margin-bottom: 0;padding: 0.3em;box-sizing: border-box;text-align: center;}#sk-container-id-1 label.sk-toggleable__label-arrow:before {content: \"▸\";float: left;margin-right: 0.25em;color: #696969;}#sk-container-id-1 label.sk-toggleable__label-arrow:hover:before {color: black;}#sk-container-id-1 div.sk-estimator:hover label.sk-toggleable__label-arrow:before {color: black;}#sk-container-id-1 div.sk-toggleable__content {max-height: 0;max-width: 0;overflow: hidden;text-align: left;background-color: #f0f8ff;}#sk-container-id-1 div.sk-toggleable__content pre {margin: 0.2em;color: black;border-radius: 0.25em;background-color: #f0f8ff;}#sk-container-id-1 input.sk-toggleable__control:checked~div.sk-toggleable__content {max-height: 200px;max-width: 100%;overflow: auto;}#sk-container-id-1 input.sk-toggleable__control:checked~label.sk-toggleable__label-arrow:before {content: \"▾\";}#sk-container-id-1 div.sk-estimator input.sk-toggleable__control:checked~label.sk-toggleable__label {background-color: #d4ebff;}#sk-container-id-1 div.sk-label input.sk-toggleable__control:checked~label.sk-toggleable__label {background-color: #d4ebff;}#sk-container-id-1 input.sk-hidden--visually {border: 0;clip: rect(1px 1px 1px 1px);clip: rect(1px, 1px, 1px, 1px);height: 1px;margin: -1px;overflow: hidden;padding: 0;position: absolute;width: 1px;}#sk-container-id-1 div.sk-estimator {font-family: monospace;background-color: #f0f8ff;border: 1px dotted black;border-radius: 0.25em;box-sizing: border-box;margin-bottom: 0.5em;}#sk-container-id-1 div.sk-estimator:hover {background-color: #d4ebff;}#sk-container-id-1 div.sk-parallel-item::after {content: \"\";width: 100%;border-bottom: 1px solid gray;flex-grow: 1;}#sk-container-id-1 div.sk-label:hover label.sk-toggleable__label {background-color: #d4ebff;}#sk-container-id-1 div.sk-serial::before {content: \"\";position: absolute;border-left: 1px solid gray;box-sizing: border-box;top: 0;bottom: 0;left: 50%;z-index: 0;}#sk-container-id-1 div.sk-serial {display: flex;flex-direction: column;align-items: center;background-color: white;padding-right: 0.2em;padding-left: 0.2em;position: relative;}#sk-container-id-1 div.sk-item {position: relative;z-index: 1;}#sk-container-id-1 div.sk-parallel {display: flex;align-items: stretch;justify-content: center;background-color: white;position: relative;}#sk-container-id-1 div.sk-item::before, #sk-container-id-1 div.sk-parallel-item::before {content: \"\";position: absolute;border-left: 1px solid gray;box-sizing: border-box;top: 0;bottom: 0;left: 50%;z-index: -1;}#sk-container-id-1 div.sk-parallel-item {display: flex;flex-direction: column;z-index: 1;position: relative;background-color: white;}#sk-container-id-1 div.sk-parallel-item:first-child::after {align-self: flex-end;width: 50%;}#sk-container-id-1 div.sk-parallel-item:last-child::after {align-self: flex-start;width: 50%;}#sk-container-id-1 div.sk-parallel-item:only-child::after {width: 0;}#sk-container-id-1 div.sk-dashed-wrapped {border: 1px dashed gray;margin: 0 0.4em 0.5em 0.4em;box-sizing: border-box;padding-bottom: 0.4em;background-color: white;}#sk-container-id-1 div.sk-label label {font-family: monospace;font-weight: bold;display: inline-block;line-height: 1.2em;}#sk-container-id-1 div.sk-label-container {text-align: center;}#sk-container-id-1 div.sk-container {/* jupyter's `normalize.less` sets `[hidden] { display: none; }` but bootstrap.min.css set `[hidden] { display: none !important; }` so we also need the `!important` here to be able to override the default hidden behavior on the sphinx rendered scikit-learn.org. See: https://github.com/scikit-learn/scikit-learn/issues/21755 */display: inline-block !important;position: relative;}#sk-container-id-1 div.sk-text-repr-fallback {display: none;}</style><div id=\"sk-container-id-1\" class=\"sk-top-container\"><div class=\"sk-text-repr-fallback\"><pre>LogisticRegression(penalty=&#x27;none&#x27;, solver=&#x27;newton-cg&#x27;)</pre><b>In a Jupyter environment, please rerun this cell to show the HTML representation or trust the notebook. <br />On GitHub, the HTML representation is unable to render, please try loading this page with nbviewer.org.</b></div><div class=\"sk-container\" hidden><div class=\"sk-item\"><div class=\"sk-estimator sk-toggleable\"><input class=\"sk-toggleable__control sk-hidden--visually\" id=\"sk-estimator-id-1\" type=\"checkbox\" checked><label for=\"sk-estimator-id-1\" class=\"sk-toggleable__label sk-toggleable__label-arrow\">LogisticRegression</label><div class=\"sk-toggleable__content\"><pre>LogisticRegression(penalty=&#x27;none&#x27;, solver=&#x27;newton-cg&#x27;)</pre></div></div></div></div></div>"
     },
     "execution_count": 60,
     "metadata": {},
     "output_type": "execute_result"
    }
   ],
   "source": [
    "modele_logit = LogisticRegression(penalty='none',solver='newton-cg')\n",
    "modele_logit.fit(x,y)"
   ],
   "metadata": {
    "collapsed": false,
    "pycharm": {
     "name": "#%%\n"
    }
   }
  },
  {
   "cell_type": "code",
   "execution_count": 61,
   "outputs": [
    {
     "data": {
      "text/plain": "                                              coef\nconstante                                 1.897330\nMontant maxi (loyer+charges) supportable -0.000011\nRessources mensuelles du foyer           -0.000004\nNb unités de consommation du foyer       -0.189925\nAge demandeur                             0.018419",
      "text/html": "<div>\n<style scoped>\n    .dataframe tbody tr th:only-of-type {\n        vertical-align: middle;\n    }\n\n    .dataframe tbody tr th {\n        vertical-align: top;\n    }\n\n    .dataframe thead th {\n        text-align: right;\n    }\n</style>\n<table border=\"1\" class=\"dataframe\">\n  <thead>\n    <tr style=\"text-align: right;\">\n      <th></th>\n      <th>coef</th>\n    </tr>\n  </thead>\n  <tbody>\n    <tr>\n      <th>constante</th>\n      <td>1.897330</td>\n    </tr>\n    <tr>\n      <th>Montant maxi (loyer+charges) supportable</th>\n      <td>-0.000011</td>\n    </tr>\n    <tr>\n      <th>Ressources mensuelles du foyer</th>\n      <td>-0.000004</td>\n    </tr>\n    <tr>\n      <th>Nb unités de consommation du foyer</th>\n      <td>-0.189925</td>\n    </tr>\n    <tr>\n      <th>Age demandeur</th>\n      <td>0.018419</td>\n    </tr>\n  </tbody>\n</table>\n</div>"
     },
     "execution_count": 61,
     "metadata": {},
     "output_type": "execute_result"
    }
   ],
   "source": [
    "pd.DataFrame(np.concatenate([modele_logit.intercept_.reshape(-1,1),\n",
    "                             modele_logit.coef_],axis=1),\n",
    "             index = [\"coef\"],\n",
    "             columns = [\"constante\"]+list(x.columns)).T"
   ],
   "metadata": {
    "collapsed": false,
    "pycharm": {
     "name": "#%%\n"
    }
   }
  },
  {
   "cell_type": "code",
   "execution_count": null,
   "outputs": [],
   "source": [],
   "metadata": {
    "collapsed": false,
    "pycharm": {
     "name": "#%%\n"
    }
   }
  }
 ],
 "metadata": {
  "kernelspec": {
   "display_name": "Python 3",
   "language": "python",
   "name": "python3"
  },
  "language_info": {
   "codemirror_mode": {
    "name": "ipython",
    "version": 2
   },
   "file_extension": ".py",
   "mimetype": "text/x-python",
   "name": "python",
   "nbconvert_exporter": "python",
   "pygments_lexer": "ipython2",
   "version": "2.7.6"
  }
 },
 "nbformat": 4,
 "nbformat_minor": 0
}