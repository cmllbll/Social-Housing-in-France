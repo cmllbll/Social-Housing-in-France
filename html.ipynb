{
 "cells": [
  {
   "cell_type": "code",
   "execution_count": 14,
   "outputs": [],
   "source": [
    "import pandas as pd\n",
    "import plotly.graph_objects as go\n",
    "import plotly.express as px"
   ],
   "metadata": {
    "collapsed": false,
    "pycharm": {
     "name": "#%%\n"
    }
   }
  },
  {
   "cell_type": "code",
   "execution_count": 93,
   "outputs": [],
   "source": [
    "df = pd.DataFrame(pd.read_excel(r'C:\\Users\\arceb\\PycharmProjects\\pythonProject/Tableau croisé non nul v1.xlsx'))"
   ],
   "metadata": {
    "collapsed": false,
    "pycharm": {
     "name": "#%%\n"
    }
   }
  },
  {
   "cell_type": "code",
   "execution_count": 94,
   "outputs": [
    {
     "data": {
      "text/plain": "   Tranches de RI / Tranches de PFS   Entre 0 et 50 €  Entre 50 et 100€  \\\n0                    Entre 0 et 50 €                1                 0   \n1                   Entre 50 et 100€                0                 1   \n2                  Entre 100 et 150€                1                 5   \n3                  Entre 150 et 200€                0                 5   \n4                  Entre 200 et 250€                0                 5   \n5                  Entre 250 et 300€                2                 5   \n6                  Entre 300 et 350€                1                 1   \n7                  Entre 350 et 400€                4                15   \n8                  Entre 400 et 450€                5                 4   \n9                  Entre 450 et 500€               10                13   \n10                 Entre 500 et 550€               12                12   \n11                 Entre 550 et 600€                4                13   \n12                 Entre 600 et 650€                5                11   \n13                 Entre 650 et 700€                6                26   \n14                 Entre 700 et 750€               16                26   \n15                 Entre 750 et 800€               18                20   \n16                 Entre 800 et 850€               15                16   \n17                 Entre 850 et 900€               14                26   \n18                 Entre 900 et 950€               11                19   \n19                Entre 950 et 1000€               13                39   \n20               Entre 1000 et 1050€                8                17   \n21               Entre 1050 et 1100€               12                33   \n22               Entre 1100 et 1150€                7                28   \n23               Entre 1150 et 1200€               20                69   \n24               Entre 1200 et 1250€               10                30   \n25               Entre 1250 et 1300€               18                64   \n26               Entre 1300 et 1350€               15                32   \n27               Entre 1350 et 1400€               23                45   \n28               Entre 1400 et 1450€               11                28   \n29               Entre 1450 et 1500€               12                51   \n30               Entre 1500 et 1550€                7                21   \n31               Entre 1550 et 1600€                2                28   \n32               Entre 1600 et 1650€                4                25   \n33               Entre 1650 et 1700€               10                25   \n34               Entre 1700 et 1750€                4                18   \n35               Entre 1750 et 1800€                4                25   \n36               Entre 1800 et 1850€                3                14   \n37               Entre 1850 et 1900€                2                19   \n38               Entre 1900 et 1950€                2                10   \n39               Entre 1950 et 2000€                3                13   \n\n    Entre 100 et 150€  Entre 150 et 200€  Entre 200 et 250€  \\\n0                   5                  2                  0   \n1                   3                 11                  2   \n2                   7                  9                  3   \n3                  16                 13                  8   \n4                  15                 15                 11   \n5                  18                 21                 13   \n6                  33                 27                 11   \n7                  32                 28                 12   \n8                  25                 17                 16   \n9                  56                 69                 23   \n10                 52                 37                 19   \n11                 49                 36                 43   \n12                 54                 61                 39   \n13                121                 82                 69   \n14                156                 64                 45   \n15                111                 77                 55   \n16                105                 72                 41   \n17                134                107                 30   \n18                109                116                 22   \n19                149                145                 28   \n20                123                 95                 23   \n21                178                145                 35   \n22                118                134                 25   \n23                276                207                 45   \n24                166                105                 28   \n25                221                181                 34   \n26                137                112                 14   \n27                212                149                 34   \n28                152                104                 18   \n29                232                166                 26   \n30                144                 95                 24   \n31                206                130                 31   \n32                119                 88                 13   \n33                172                106                 19   \n34                106                 67                 16   \n35                170                101                 10   \n36                 81                 46                  5   \n37                108                 62                  8   \n38                 89                 35                  9   \n39                135                 70                  8   \n\n    Entre 250 et 300€  Entre 300 et 350€  Entre 350 et 400€  \\\n0                   0                  2                  6   \n1                   8                 16                 17   \n2                   9                 25                 21   \n3                  26                 17                 26   \n4                  21                 17                 13   \n5                  20                 25                 34   \n6                  11                 25                 20   \n7                  22                114                 31   \n8                  19                 28                 36   \n9                  44                 49                 25   \n10                 44                 48                 15   \n11                 36                 43                 29   \n12                 42                 53                 32   \n13                 51                 91                 37   \n14                 55                 55                 41   \n15                 49                 61                 37   \n16                 31                 31                 31   \n17                 52                 75                 42   \n18                 36                 62                 34   \n19                 49                 93                 32   \n20                 40                 61                 20   \n21                 46                 95                 37   \n22                 43                 60                 21   \n23                 65                100                 42   \n24                 49                 80                 32   \n25                 63                 89                 43   \n26                 40                 79                 38   \n27                 41                 89                 30   \n28                 44                 67                 28   \n29                 80                104                 38   \n30                 33                 60                 21   \n31                 53                 81                 21   \n32                 27                 54                 21   \n33                 41                 72                 22   \n34                 20                 37                 18   \n35                 38                 65                 24   \n36                 16                 27                 13   \n37                 22                 31                 13   \n38                 16                 28                  6   \n39                 34                 57                 17   \n\n    Entre 400 et 450€  ...  Entre 1500 et 1550€  Entre 1550 et 1600€  \\\n0                   8  ...                    2                    1   \n1                  21  ...                    0                    2   \n2                  14  ...                    5                    2   \n3                  11  ...                    4                    3   \n4                  31  ...                   14                    2   \n5                  22  ...                    2                    7   \n6                  13  ...                    1                    1   \n7                  39  ...                    4                    1   \n8                  27  ...                    2                    2   \n9                  35  ...                    5                    1   \n10                 26  ...                    2                    1   \n11                 27  ...                    2                    1   \n12                 28  ...                    1                    0   \n13                 36  ...                    3                    0   \n14                 14  ...                    0                    2   \n15                 32  ...                    1                    3   \n16                 34  ...                    2                    1   \n17                 27  ...                    0                    0   \n18                 24  ...                    2                    2   \n19                 41  ...                    2                    3   \n20                 16  ...                    0                    1   \n21                 24  ...                    1                    0   \n22                 24  ...                    2                    0   \n23                 43  ...                    0                    1   \n24                 27  ...                    2                    2   \n25                 35  ...                    0                    0   \n26                 20  ...                    0                    0   \n27                 32  ...                    0                    2   \n28                 14  ...                    0                    0   \n29                 38  ...                    0                    0   \n30                 12  ...                    2                    0   \n31                 30  ...                    0                    0   \n32                 16  ...                    0                    1   \n33                 18  ...                    1                    0   \n34                 13  ...                    0                    0   \n35                 23  ...                    1                    0   \n36                  7  ...                    0                    0   \n37                  4  ...                    0                    0   \n38                  4  ...                    0                    0   \n39                  9  ...                    1                    2   \n\n    Entre 1600 et 1650€  Entre 1650 et 1700€  Entre 1700 et 1750€  \\\n0                     0                    0                    0   \n1                     2                    2                    2   \n2                     3                    4                    1   \n3                     4                    2                    2   \n4                     4                    6                    0   \n5                     3                    4                    2   \n6                     5                    0                    1   \n7                     1                    2                    0   \n8                     1                    0                    1   \n9                     2                    0                    2   \n10                    3                    4                    1   \n11                    0                    3                    1   \n12                    2                    1                    4   \n13                    1                    1                    2   \n14                    0                    0                    0   \n15                    2                    1                    2   \n16                    0                    0                    1   \n17                    1                    2                    0   \n18                    0                    0                    0   \n19                    0                    1                    0   \n20                    1                    1                    0   \n21                    0                    0                    0   \n22                    1                    0                    0   \n23                    1                    0                    1   \n24                    3                    0                    0   \n25                    1                    0                    0   \n26                    0                    0                    0   \n27                    1                    1                    0   \n28                    1                    0                    0   \n29                    1                    2                    0   \n30                    0                    0                    0   \n31                    0                    0                    0   \n32                    0                    0                    0   \n33                    2                    0                    0   \n34                    0                    0                    0   \n35                    0                    0                    0   \n36                    0                    1                    0   \n37                    1                    0                    0   \n38                    0                    0                    0   \n39                    0                    0                    0   \n\n    Entre 1750 et 1800€  Entre 1800 et 1850€  Entre 1850 et 1900€  \\\n0                     0                    0                    0   \n1                     0                    1                    1   \n2                     2                    2                    3   \n3                     0                    0                    0   \n4                     3                    2                    1   \n5                     0                    1                    1   \n6                     0                    2                    2   \n7                     0                    1                    2   \n8                     2                    2                    1   \n9                     0                    3                    2   \n10                    0                    0                    0   \n11                    1                    0                    0   \n12                    1                    0                    2   \n13                    1                    2                    1   \n14                    1                    0                    0   \n15                    1                    1                    0   \n16                    0                    1                    0   \n17                    0                    0                    0   \n18                    0                    0                    0   \n19                    0                    0                    1   \n20                    0                    0                    0   \n21                    0                    0                    0   \n22                    1                    0                    0   \n23                    0                    0                    1   \n24                    0                    0                    0   \n25                    0                    0                    0   \n26                    0                    0                    0   \n27                    1                    0                    0   \n28                    0                    0                    0   \n29                    0                    0                    0   \n30                    1                    0                    0   \n31                    2                    0                    0   \n32                    0                    1                    0   \n33                    0                    0                    0   \n34                    0                    0                    0   \n35                    0                    0                    0   \n36                    0                    0                    0   \n37                    0                    0                    0   \n38                    0                    0                    0   \n39                    0                    0                    0   \n\n    Entre 1900 et 1950€  Entre 1950 et 2000€  \n0                     1                    0  \n1                     2                    0  \n2                     2                    0  \n3                     1                    0  \n4                     2                    0  \n5                     2                    1  \n6                     0                    0  \n7                     0                    0  \n8                     3                    0  \n9                     0                    0  \n10                    0                    1  \n11                    1                    0  \n12                    0                    2  \n13                    0                    0  \n14                    0                    0  \n15                    1                    1  \n16                    1                    0  \n17                    0                    1  \n18                    0                    0  \n19                    0                    0  \n20                    0                    0  \n21                    0                    0  \n22                    0                    0  \n23                    0                    0  \n24                    1                    1  \n25                    0                    0  \n26                    1                    0  \n27                    0                    0  \n28                    0                    0  \n29                    0                    0  \n30                    0                    0  \n31                    0                    0  \n32                    0                    0  \n33                    0                    0  \n34                    0                    0  \n35                    0                    0  \n36                    0                    0  \n37                    0                    0  \n38                    0                    0  \n39                    0                    0  \n\n[40 rows x 41 columns]",
      "text/html": "<div>\n<style scoped>\n    .dataframe tbody tr th:only-of-type {\n        vertical-align: middle;\n    }\n\n    .dataframe tbody tr th {\n        vertical-align: top;\n    }\n\n    .dataframe thead th {\n        text-align: right;\n    }\n</style>\n<table border=\"1\" class=\"dataframe\">\n  <thead>\n    <tr style=\"text-align: right;\">\n      <th></th>\n      <th>Tranches de RI / Tranches de PFS</th>\n      <th>Entre 0 et 50 €</th>\n      <th>Entre 50 et 100€</th>\n      <th>Entre 100 et 150€</th>\n      <th>Entre 150 et 200€</th>\n      <th>Entre 200 et 250€</th>\n      <th>Entre 250 et 300€</th>\n      <th>Entre 300 et 350€</th>\n      <th>Entre 350 et 400€</th>\n      <th>Entre 400 et 450€</th>\n      <th>...</th>\n      <th>Entre 1500 et 1550€</th>\n      <th>Entre 1550 et 1600€</th>\n      <th>Entre 1600 et 1650€</th>\n      <th>Entre 1650 et 1700€</th>\n      <th>Entre 1700 et 1750€</th>\n      <th>Entre 1750 et 1800€</th>\n      <th>Entre 1800 et 1850€</th>\n      <th>Entre 1850 et 1900€</th>\n      <th>Entre 1900 et 1950€</th>\n      <th>Entre 1950 et 2000€</th>\n    </tr>\n  </thead>\n  <tbody>\n    <tr>\n      <th>0</th>\n      <td>Entre 0 et 50 €</td>\n      <td>1</td>\n      <td>0</td>\n      <td>5</td>\n      <td>2</td>\n      <td>0</td>\n      <td>0</td>\n      <td>2</td>\n      <td>6</td>\n      <td>8</td>\n      <td>...</td>\n      <td>2</td>\n      <td>1</td>\n      <td>0</td>\n      <td>0</td>\n      <td>0</td>\n      <td>0</td>\n      <td>0</td>\n      <td>0</td>\n      <td>1</td>\n      <td>0</td>\n    </tr>\n    <tr>\n      <th>1</th>\n      <td>Entre 50 et 100€</td>\n      <td>0</td>\n      <td>1</td>\n      <td>3</td>\n      <td>11</td>\n      <td>2</td>\n      <td>8</td>\n      <td>16</td>\n      <td>17</td>\n      <td>21</td>\n      <td>...</td>\n      <td>0</td>\n      <td>2</td>\n      <td>2</td>\n      <td>2</td>\n      <td>2</td>\n      <td>0</td>\n      <td>1</td>\n      <td>1</td>\n      <td>2</td>\n      <td>0</td>\n    </tr>\n    <tr>\n      <th>2</th>\n      <td>Entre 100 et 150€</td>\n      <td>1</td>\n      <td>5</td>\n      <td>7</td>\n      <td>9</td>\n      <td>3</td>\n      <td>9</td>\n      <td>25</td>\n      <td>21</td>\n      <td>14</td>\n      <td>...</td>\n      <td>5</td>\n      <td>2</td>\n      <td>3</td>\n      <td>4</td>\n      <td>1</td>\n      <td>2</td>\n      <td>2</td>\n      <td>3</td>\n      <td>2</td>\n      <td>0</td>\n    </tr>\n    <tr>\n      <th>3</th>\n      <td>Entre 150 et 200€</td>\n      <td>0</td>\n      <td>5</td>\n      <td>16</td>\n      <td>13</td>\n      <td>8</td>\n      <td>26</td>\n      <td>17</td>\n      <td>26</td>\n      <td>11</td>\n      <td>...</td>\n      <td>4</td>\n      <td>3</td>\n      <td>4</td>\n      <td>2</td>\n      <td>2</td>\n      <td>0</td>\n      <td>0</td>\n      <td>0</td>\n      <td>1</td>\n      <td>0</td>\n    </tr>\n    <tr>\n      <th>4</th>\n      <td>Entre 200 et 250€</td>\n      <td>0</td>\n      <td>5</td>\n      <td>15</td>\n      <td>15</td>\n      <td>11</td>\n      <td>21</td>\n      <td>17</td>\n      <td>13</td>\n      <td>31</td>\n      <td>...</td>\n      <td>14</td>\n      <td>2</td>\n      <td>4</td>\n      <td>6</td>\n      <td>0</td>\n      <td>3</td>\n      <td>2</td>\n      <td>1</td>\n      <td>2</td>\n      <td>0</td>\n    </tr>\n    <tr>\n      <th>5</th>\n      <td>Entre 250 et 300€</td>\n      <td>2</td>\n      <td>5</td>\n      <td>18</td>\n      <td>21</td>\n      <td>13</td>\n      <td>20</td>\n      <td>25</td>\n      <td>34</td>\n      <td>22</td>\n      <td>...</td>\n      <td>2</td>\n      <td>7</td>\n      <td>3</td>\n      <td>4</td>\n      <td>2</td>\n      <td>0</td>\n      <td>1</td>\n      <td>1</td>\n      <td>2</td>\n      <td>1</td>\n    </tr>\n    <tr>\n      <th>6</th>\n      <td>Entre 300 et 350€</td>\n      <td>1</td>\n      <td>1</td>\n      <td>33</td>\n      <td>27</td>\n      <td>11</td>\n      <td>11</td>\n      <td>25</td>\n      <td>20</td>\n      <td>13</td>\n      <td>...</td>\n      <td>1</td>\n      <td>1</td>\n      <td>5</td>\n      <td>0</td>\n      <td>1</td>\n      <td>0</td>\n      <td>2</td>\n      <td>2</td>\n      <td>0</td>\n      <td>0</td>\n    </tr>\n    <tr>\n      <th>7</th>\n      <td>Entre 350 et 400€</td>\n      <td>4</td>\n      <td>15</td>\n      <td>32</td>\n      <td>28</td>\n      <td>12</td>\n      <td>22</td>\n      <td>114</td>\n      <td>31</td>\n      <td>39</td>\n      <td>...</td>\n      <td>4</td>\n      <td>1</td>\n      <td>1</td>\n      <td>2</td>\n      <td>0</td>\n      <td>0</td>\n      <td>1</td>\n      <td>2</td>\n      <td>0</td>\n      <td>0</td>\n    </tr>\n    <tr>\n      <th>8</th>\n      <td>Entre 400 et 450€</td>\n      <td>5</td>\n      <td>4</td>\n      <td>25</td>\n      <td>17</td>\n      <td>16</td>\n      <td>19</td>\n      <td>28</td>\n      <td>36</td>\n      <td>27</td>\n      <td>...</td>\n      <td>2</td>\n      <td>2</td>\n      <td>1</td>\n      <td>0</td>\n      <td>1</td>\n      <td>2</td>\n      <td>2</td>\n      <td>1</td>\n      <td>3</td>\n      <td>0</td>\n    </tr>\n    <tr>\n      <th>9</th>\n      <td>Entre 450 et 500€</td>\n      <td>10</td>\n      <td>13</td>\n      <td>56</td>\n      <td>69</td>\n      <td>23</td>\n      <td>44</td>\n      <td>49</td>\n      <td>25</td>\n      <td>35</td>\n      <td>...</td>\n      <td>5</td>\n      <td>1</td>\n      <td>2</td>\n      <td>0</td>\n      <td>2</td>\n      <td>0</td>\n      <td>3</td>\n      <td>2</td>\n      <td>0</td>\n      <td>0</td>\n    </tr>\n    <tr>\n      <th>10</th>\n      <td>Entre 500 et 550€</td>\n      <td>12</td>\n      <td>12</td>\n      <td>52</td>\n      <td>37</td>\n      <td>19</td>\n      <td>44</td>\n      <td>48</td>\n      <td>15</td>\n      <td>26</td>\n      <td>...</td>\n      <td>2</td>\n      <td>1</td>\n      <td>3</td>\n      <td>4</td>\n      <td>1</td>\n      <td>0</td>\n      <td>0</td>\n      <td>0</td>\n      <td>0</td>\n      <td>1</td>\n    </tr>\n    <tr>\n      <th>11</th>\n      <td>Entre 550 et 600€</td>\n      <td>4</td>\n      <td>13</td>\n      <td>49</td>\n      <td>36</td>\n      <td>43</td>\n      <td>36</td>\n      <td>43</td>\n      <td>29</td>\n      <td>27</td>\n      <td>...</td>\n      <td>2</td>\n      <td>1</td>\n      <td>0</td>\n      <td>3</td>\n      <td>1</td>\n      <td>1</td>\n      <td>0</td>\n      <td>0</td>\n      <td>1</td>\n      <td>0</td>\n    </tr>\n    <tr>\n      <th>12</th>\n      <td>Entre 600 et 650€</td>\n      <td>5</td>\n      <td>11</td>\n      <td>54</td>\n      <td>61</td>\n      <td>39</td>\n      <td>42</td>\n      <td>53</td>\n      <td>32</td>\n      <td>28</td>\n      <td>...</td>\n      <td>1</td>\n      <td>0</td>\n      <td>2</td>\n      <td>1</td>\n      <td>4</td>\n      <td>1</td>\n      <td>0</td>\n      <td>2</td>\n      <td>0</td>\n      <td>2</td>\n    </tr>\n    <tr>\n      <th>13</th>\n      <td>Entre 650 et 700€</td>\n      <td>6</td>\n      <td>26</td>\n      <td>121</td>\n      <td>82</td>\n      <td>69</td>\n      <td>51</td>\n      <td>91</td>\n      <td>37</td>\n      <td>36</td>\n      <td>...</td>\n      <td>3</td>\n      <td>0</td>\n      <td>1</td>\n      <td>1</td>\n      <td>2</td>\n      <td>1</td>\n      <td>2</td>\n      <td>1</td>\n      <td>0</td>\n      <td>0</td>\n    </tr>\n    <tr>\n      <th>14</th>\n      <td>Entre 700 et 750€</td>\n      <td>16</td>\n      <td>26</td>\n      <td>156</td>\n      <td>64</td>\n      <td>45</td>\n      <td>55</td>\n      <td>55</td>\n      <td>41</td>\n      <td>14</td>\n      <td>...</td>\n      <td>0</td>\n      <td>2</td>\n      <td>0</td>\n      <td>0</td>\n      <td>0</td>\n      <td>1</td>\n      <td>0</td>\n      <td>0</td>\n      <td>0</td>\n      <td>0</td>\n    </tr>\n    <tr>\n      <th>15</th>\n      <td>Entre 750 et 800€</td>\n      <td>18</td>\n      <td>20</td>\n      <td>111</td>\n      <td>77</td>\n      <td>55</td>\n      <td>49</td>\n      <td>61</td>\n      <td>37</td>\n      <td>32</td>\n      <td>...</td>\n      <td>1</td>\n      <td>3</td>\n      <td>2</td>\n      <td>1</td>\n      <td>2</td>\n      <td>1</td>\n      <td>1</td>\n      <td>0</td>\n      <td>1</td>\n      <td>1</td>\n    </tr>\n    <tr>\n      <th>16</th>\n      <td>Entre 800 et 850€</td>\n      <td>15</td>\n      <td>16</td>\n      <td>105</td>\n      <td>72</td>\n      <td>41</td>\n      <td>31</td>\n      <td>31</td>\n      <td>31</td>\n      <td>34</td>\n      <td>...</td>\n      <td>2</td>\n      <td>1</td>\n      <td>0</td>\n      <td>0</td>\n      <td>1</td>\n      <td>0</td>\n      <td>1</td>\n      <td>0</td>\n      <td>1</td>\n      <td>0</td>\n    </tr>\n    <tr>\n      <th>17</th>\n      <td>Entre 850 et 900€</td>\n      <td>14</td>\n      <td>26</td>\n      <td>134</td>\n      <td>107</td>\n      <td>30</td>\n      <td>52</td>\n      <td>75</td>\n      <td>42</td>\n      <td>27</td>\n      <td>...</td>\n      <td>0</td>\n      <td>0</td>\n      <td>1</td>\n      <td>2</td>\n      <td>0</td>\n      <td>0</td>\n      <td>0</td>\n      <td>0</td>\n      <td>0</td>\n      <td>1</td>\n    </tr>\n    <tr>\n      <th>18</th>\n      <td>Entre 900 et 950€</td>\n      <td>11</td>\n      <td>19</td>\n      <td>109</td>\n      <td>116</td>\n      <td>22</td>\n      <td>36</td>\n      <td>62</td>\n      <td>34</td>\n      <td>24</td>\n      <td>...</td>\n      <td>2</td>\n      <td>2</td>\n      <td>0</td>\n      <td>0</td>\n      <td>0</td>\n      <td>0</td>\n      <td>0</td>\n      <td>0</td>\n      <td>0</td>\n      <td>0</td>\n    </tr>\n    <tr>\n      <th>19</th>\n      <td>Entre 950 et 1000€</td>\n      <td>13</td>\n      <td>39</td>\n      <td>149</td>\n      <td>145</td>\n      <td>28</td>\n      <td>49</td>\n      <td>93</td>\n      <td>32</td>\n      <td>41</td>\n      <td>...</td>\n      <td>2</td>\n      <td>3</td>\n      <td>0</td>\n      <td>1</td>\n      <td>0</td>\n      <td>0</td>\n      <td>0</td>\n      <td>1</td>\n      <td>0</td>\n      <td>0</td>\n    </tr>\n    <tr>\n      <th>20</th>\n      <td>Entre 1000 et 1050€</td>\n      <td>8</td>\n      <td>17</td>\n      <td>123</td>\n      <td>95</td>\n      <td>23</td>\n      <td>40</td>\n      <td>61</td>\n      <td>20</td>\n      <td>16</td>\n      <td>...</td>\n      <td>0</td>\n      <td>1</td>\n      <td>1</td>\n      <td>1</td>\n      <td>0</td>\n      <td>0</td>\n      <td>0</td>\n      <td>0</td>\n      <td>0</td>\n      <td>0</td>\n    </tr>\n    <tr>\n      <th>21</th>\n      <td>Entre 1050 et 1100€</td>\n      <td>12</td>\n      <td>33</td>\n      <td>178</td>\n      <td>145</td>\n      <td>35</td>\n      <td>46</td>\n      <td>95</td>\n      <td>37</td>\n      <td>24</td>\n      <td>...</td>\n      <td>1</td>\n      <td>0</td>\n      <td>0</td>\n      <td>0</td>\n      <td>0</td>\n      <td>0</td>\n      <td>0</td>\n      <td>0</td>\n      <td>0</td>\n      <td>0</td>\n    </tr>\n    <tr>\n      <th>22</th>\n      <td>Entre 1100 et 1150€</td>\n      <td>7</td>\n      <td>28</td>\n      <td>118</td>\n      <td>134</td>\n      <td>25</td>\n      <td>43</td>\n      <td>60</td>\n      <td>21</td>\n      <td>24</td>\n      <td>...</td>\n      <td>2</td>\n      <td>0</td>\n      <td>1</td>\n      <td>0</td>\n      <td>0</td>\n      <td>1</td>\n      <td>0</td>\n      <td>0</td>\n      <td>0</td>\n      <td>0</td>\n    </tr>\n    <tr>\n      <th>23</th>\n      <td>Entre 1150 et 1200€</td>\n      <td>20</td>\n      <td>69</td>\n      <td>276</td>\n      <td>207</td>\n      <td>45</td>\n      <td>65</td>\n      <td>100</td>\n      <td>42</td>\n      <td>43</td>\n      <td>...</td>\n      <td>0</td>\n      <td>1</td>\n      <td>1</td>\n      <td>0</td>\n      <td>1</td>\n      <td>0</td>\n      <td>0</td>\n      <td>1</td>\n      <td>0</td>\n      <td>0</td>\n    </tr>\n    <tr>\n      <th>24</th>\n      <td>Entre 1200 et 1250€</td>\n      <td>10</td>\n      <td>30</td>\n      <td>166</td>\n      <td>105</td>\n      <td>28</td>\n      <td>49</td>\n      <td>80</td>\n      <td>32</td>\n      <td>27</td>\n      <td>...</td>\n      <td>2</td>\n      <td>2</td>\n      <td>3</td>\n      <td>0</td>\n      <td>0</td>\n      <td>0</td>\n      <td>0</td>\n      <td>0</td>\n      <td>1</td>\n      <td>1</td>\n    </tr>\n    <tr>\n      <th>25</th>\n      <td>Entre 1250 et 1300€</td>\n      <td>18</td>\n      <td>64</td>\n      <td>221</td>\n      <td>181</td>\n      <td>34</td>\n      <td>63</td>\n      <td>89</td>\n      <td>43</td>\n      <td>35</td>\n      <td>...</td>\n      <td>0</td>\n      <td>0</td>\n      <td>1</td>\n      <td>0</td>\n      <td>0</td>\n      <td>0</td>\n      <td>0</td>\n      <td>0</td>\n      <td>0</td>\n      <td>0</td>\n    </tr>\n    <tr>\n      <th>26</th>\n      <td>Entre 1300 et 1350€</td>\n      <td>15</td>\n      <td>32</td>\n      <td>137</td>\n      <td>112</td>\n      <td>14</td>\n      <td>40</td>\n      <td>79</td>\n      <td>38</td>\n      <td>20</td>\n      <td>...</td>\n      <td>0</td>\n      <td>0</td>\n      <td>0</td>\n      <td>0</td>\n      <td>0</td>\n      <td>0</td>\n      <td>0</td>\n      <td>0</td>\n      <td>1</td>\n      <td>0</td>\n    </tr>\n    <tr>\n      <th>27</th>\n      <td>Entre 1350 et 1400€</td>\n      <td>23</td>\n      <td>45</td>\n      <td>212</td>\n      <td>149</td>\n      <td>34</td>\n      <td>41</td>\n      <td>89</td>\n      <td>30</td>\n      <td>32</td>\n      <td>...</td>\n      <td>0</td>\n      <td>2</td>\n      <td>1</td>\n      <td>1</td>\n      <td>0</td>\n      <td>1</td>\n      <td>0</td>\n      <td>0</td>\n      <td>0</td>\n      <td>0</td>\n    </tr>\n    <tr>\n      <th>28</th>\n      <td>Entre 1400 et 1450€</td>\n      <td>11</td>\n      <td>28</td>\n      <td>152</td>\n      <td>104</td>\n      <td>18</td>\n      <td>44</td>\n      <td>67</td>\n      <td>28</td>\n      <td>14</td>\n      <td>...</td>\n      <td>0</td>\n      <td>0</td>\n      <td>1</td>\n      <td>0</td>\n      <td>0</td>\n      <td>0</td>\n      <td>0</td>\n      <td>0</td>\n      <td>0</td>\n      <td>0</td>\n    </tr>\n    <tr>\n      <th>29</th>\n      <td>Entre 1450 et 1500€</td>\n      <td>12</td>\n      <td>51</td>\n      <td>232</td>\n      <td>166</td>\n      <td>26</td>\n      <td>80</td>\n      <td>104</td>\n      <td>38</td>\n      <td>38</td>\n      <td>...</td>\n      <td>0</td>\n      <td>0</td>\n      <td>1</td>\n      <td>2</td>\n      <td>0</td>\n      <td>0</td>\n      <td>0</td>\n      <td>0</td>\n      <td>0</td>\n      <td>0</td>\n    </tr>\n    <tr>\n      <th>30</th>\n      <td>Entre 1500 et 1550€</td>\n      <td>7</td>\n      <td>21</td>\n      <td>144</td>\n      <td>95</td>\n      <td>24</td>\n      <td>33</td>\n      <td>60</td>\n      <td>21</td>\n      <td>12</td>\n      <td>...</td>\n      <td>2</td>\n      <td>0</td>\n      <td>0</td>\n      <td>0</td>\n      <td>0</td>\n      <td>1</td>\n      <td>0</td>\n      <td>0</td>\n      <td>0</td>\n      <td>0</td>\n    </tr>\n    <tr>\n      <th>31</th>\n      <td>Entre 1550 et 1600€</td>\n      <td>2</td>\n      <td>28</td>\n      <td>206</td>\n      <td>130</td>\n      <td>31</td>\n      <td>53</td>\n      <td>81</td>\n      <td>21</td>\n      <td>30</td>\n      <td>...</td>\n      <td>0</td>\n      <td>0</td>\n      <td>0</td>\n      <td>0</td>\n      <td>0</td>\n      <td>2</td>\n      <td>0</td>\n      <td>0</td>\n      <td>0</td>\n      <td>0</td>\n    </tr>\n    <tr>\n      <th>32</th>\n      <td>Entre 1600 et 1650€</td>\n      <td>4</td>\n      <td>25</td>\n      <td>119</td>\n      <td>88</td>\n      <td>13</td>\n      <td>27</td>\n      <td>54</td>\n      <td>21</td>\n      <td>16</td>\n      <td>...</td>\n      <td>0</td>\n      <td>1</td>\n      <td>0</td>\n      <td>0</td>\n      <td>0</td>\n      <td>0</td>\n      <td>1</td>\n      <td>0</td>\n      <td>0</td>\n      <td>0</td>\n    </tr>\n    <tr>\n      <th>33</th>\n      <td>Entre 1650 et 1700€</td>\n      <td>10</td>\n      <td>25</td>\n      <td>172</td>\n      <td>106</td>\n      <td>19</td>\n      <td>41</td>\n      <td>72</td>\n      <td>22</td>\n      <td>18</td>\n      <td>...</td>\n      <td>1</td>\n      <td>0</td>\n      <td>2</td>\n      <td>0</td>\n      <td>0</td>\n      <td>0</td>\n      <td>0</td>\n      <td>0</td>\n      <td>0</td>\n      <td>0</td>\n    </tr>\n    <tr>\n      <th>34</th>\n      <td>Entre 1700 et 1750€</td>\n      <td>4</td>\n      <td>18</td>\n      <td>106</td>\n      <td>67</td>\n      <td>16</td>\n      <td>20</td>\n      <td>37</td>\n      <td>18</td>\n      <td>13</td>\n      <td>...</td>\n      <td>0</td>\n      <td>0</td>\n      <td>0</td>\n      <td>0</td>\n      <td>0</td>\n      <td>0</td>\n      <td>0</td>\n      <td>0</td>\n      <td>0</td>\n      <td>0</td>\n    </tr>\n    <tr>\n      <th>35</th>\n      <td>Entre 1750 et 1800€</td>\n      <td>4</td>\n      <td>25</td>\n      <td>170</td>\n      <td>101</td>\n      <td>10</td>\n      <td>38</td>\n      <td>65</td>\n      <td>24</td>\n      <td>23</td>\n      <td>...</td>\n      <td>1</td>\n      <td>0</td>\n      <td>0</td>\n      <td>0</td>\n      <td>0</td>\n      <td>0</td>\n      <td>0</td>\n      <td>0</td>\n      <td>0</td>\n      <td>0</td>\n    </tr>\n    <tr>\n      <th>36</th>\n      <td>Entre 1800 et 1850€</td>\n      <td>3</td>\n      <td>14</td>\n      <td>81</td>\n      <td>46</td>\n      <td>5</td>\n      <td>16</td>\n      <td>27</td>\n      <td>13</td>\n      <td>7</td>\n      <td>...</td>\n      <td>0</td>\n      <td>0</td>\n      <td>0</td>\n      <td>1</td>\n      <td>0</td>\n      <td>0</td>\n      <td>0</td>\n      <td>0</td>\n      <td>0</td>\n      <td>0</td>\n    </tr>\n    <tr>\n      <th>37</th>\n      <td>Entre 1850 et 1900€</td>\n      <td>2</td>\n      <td>19</td>\n      <td>108</td>\n      <td>62</td>\n      <td>8</td>\n      <td>22</td>\n      <td>31</td>\n      <td>13</td>\n      <td>4</td>\n      <td>...</td>\n      <td>0</td>\n      <td>0</td>\n      <td>1</td>\n      <td>0</td>\n      <td>0</td>\n      <td>0</td>\n      <td>0</td>\n      <td>0</td>\n      <td>0</td>\n      <td>0</td>\n    </tr>\n    <tr>\n      <th>38</th>\n      <td>Entre 1900 et 1950€</td>\n      <td>2</td>\n      <td>10</td>\n      <td>89</td>\n      <td>35</td>\n      <td>9</td>\n      <td>16</td>\n      <td>28</td>\n      <td>6</td>\n      <td>4</td>\n      <td>...</td>\n      <td>0</td>\n      <td>0</td>\n      <td>0</td>\n      <td>0</td>\n      <td>0</td>\n      <td>0</td>\n      <td>0</td>\n      <td>0</td>\n      <td>0</td>\n      <td>0</td>\n    </tr>\n    <tr>\n      <th>39</th>\n      <td>Entre 1950 et 2000€</td>\n      <td>3</td>\n      <td>13</td>\n      <td>135</td>\n      <td>70</td>\n      <td>8</td>\n      <td>34</td>\n      <td>57</td>\n      <td>17</td>\n      <td>9</td>\n      <td>...</td>\n      <td>1</td>\n      <td>2</td>\n      <td>0</td>\n      <td>0</td>\n      <td>0</td>\n      <td>0</td>\n      <td>0</td>\n      <td>0</td>\n      <td>0</td>\n      <td>0</td>\n    </tr>\n  </tbody>\n</table>\n<p>40 rows × 41 columns</p>\n</div>"
     },
     "execution_count": 94,
     "metadata": {},
     "output_type": "execute_result"
    }
   ],
   "source": [
    "df"
   ],
   "metadata": {
    "collapsed": false,
    "pycharm": {
     "name": "#%%\n"
    }
   }
  },
  {
   "cell_type": "code",
   "execution_count": 90,
   "outputs": [],
   "source": [
    "#df.rename(columns={'Tranches de RI / Tranches de PFS ': 'Tranches de RI'}, inplace=True)"
   ],
   "metadata": {
    "collapsed": false,
    "pycharm": {
     "name": "#%%\n"
    }
   }
  },
  {
   "cell_type": "code",
   "execution_count": 95,
   "outputs": [],
   "source": [
    "df.set_index('Tranches de RI / Tranches de PFS ', inplace = True)"
   ],
   "metadata": {
    "collapsed": false,
    "pycharm": {
     "name": "#%%\n"
    }
   }
  },
  {
   "cell_type": "code",
   "execution_count": null,
   "outputs": [],
   "source": [
    "df"
   ],
   "metadata": {
    "collapsed": false,
    "pycharm": {
     "name": "#%%\n"
    }
   }
  },
  {
   "cell_type": "code",
   "execution_count": null,
   "outputs": [],
   "source": [
    "dfbis=[]"
   ],
   "metadata": {
    "collapsed": false,
    "pycharm": {
     "name": "#%%\n"
    }
   }
  },
  {
   "cell_type": "code",
   "execution_count": 96,
   "outputs": [],
   "source": [
    "fig=go.Figure(go.Surface(z=df, y=df.index, x=df.columns))"
   ],
   "metadata": {
    "collapsed": false,
    "pycharm": {
     "name": "#%%\n"
    }
   }
  },
  {
   "cell_type": "code",
   "execution_count": 97,
   "outputs": [],
   "source": [
    "fig.write_html(r\"C:\\Users\\arceb\\PycharmProjects\\Graphique_v1.html\")"
   ],
   "metadata": {
    "collapsed": false,
    "pycharm": {
     "name": "#%%\n"
    }
   }
  },
  {
   "cell_type": "code",
   "execution_count": 98,
   "outputs": [],
   "source": [
    "fig2=px.scatter(df, labels= {\"Tranches de RI / Tranches de PFS \":\"Tranches de RI\", \"variable\" : \"Tranches de PFS\", \"value\": \"Nombre de demandeurs\"})"
   ],
   "metadata": {
    "collapsed": false,
    "pycharm": {
     "name": "#%%\n"
    }
   }
  },
  {
   "cell_type": "code",
   "execution_count": 101,
   "outputs": [],
   "source": [
    "fig3=px.imshow(df, labels=dict(x=\"Tranches de PFS\", y=\"Tranches de RI\", color=\"Nombre de demandeurs\"))"
   ],
   "metadata": {
    "collapsed": false,
    "pycharm": {
     "name": "#%%\n"
    }
   }
  },
  {
   "cell_type": "code",
   "execution_count": 102,
   "outputs": [],
   "source": [
    "#fig2.write_html(r\"C:\\Users\\arceb\\PycharmProjects\\Graphique_v2.html\")\n",
    "fig3.write_html(r\"C:\\Users\\arceb\\PycharmProjects\\demandeurs_42_69_73_74.html\")"
   ],
   "metadata": {
    "collapsed": false,
    "pycharm": {
     "name": "#%%\n"
    }
   }
  },
  {
   "cell_type": "code",
   "execution_count": null,
   "outputs": [],
   "source": [],
   "metadata": {
    "collapsed": false,
    "pycharm": {
     "name": "#%%\n"
    }
   }
  }
 ],
 "metadata": {
  "kernelspec": {
   "display_name": "Python 3",
   "language": "python",
   "name": "python3"
  },
  "language_info": {
   "codemirror_mode": {
    "name": "ipython",
    "version": 2
   },
   "file_extension": ".py",
   "mimetype": "text/x-python",
   "name": "python",
   "nbconvert_exporter": "python",
   "pygments_lexer": "ipython2",
   "version": "2.7.6"
  }
 },
 "nbformat": 4,
 "nbformat_minor": 0
}