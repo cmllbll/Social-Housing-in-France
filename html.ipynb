{
 "cells": [
  {
   "cell_type": "code",
   "execution_count": 14,
   "outputs": [],
   "source": [
    "import pandas as pd\n",
    "import plotly.graph_objects as go\n",
    "import plotly.express as px"
   ],
   "metadata": {
    "collapsed": false,
    "pycharm": {
     "name": "#%%\n"
    }
   }
  },
  {
   "cell_type": "code",
   "execution_count": 9,
   "outputs": [],
   "source": [
    "df = pd.DataFrame(pd.read_excel(r'C:\\Users\\arceb\\PycharmProjects\\pythonProject/Tableau_RI-PFS_1.xlsx'))"
   ],
   "metadata": {
    "collapsed": false,
    "pycharm": {
     "name": "#%%\n"
    }
   }
  },
  {
   "cell_type": "code",
   "execution_count": 10,
   "outputs": [
    {
     "data": {
      "text/plain": "   Tranches de RI / Tranches de PFS   Entre 0 et 50 €  Entre 50 et 100€  \\\n0                    Entre 0 et 50 €              670                33   \n1                   Entre 50 et 100€               35                 1   \n2                  Entre 100 et 150€               78                 3   \n3                  Entre 150 et 200€               82                 2   \n4                  Entre 200 et 250€               96                 4   \n5                  Entre 250 et 300€              125                 2   \n6                  Entre 300 et 350€              191                 2   \n7                  Entre 350 et 400€              173                10   \n8                  Entre 400 et 450€              227                 7   \n9                  Entre 450 et 500€              744                 7   \n10                 Entre 500 et 550€             1057                12   \n11                 Entre 550 et 600€              394                11   \n12                 Entre 600 et 650€              759                10   \n13                 Entre 650 et 700€              829                16   \n14                 Entre 700 et 750€             1090                27   \n15                 Entre 750 et 800€             1099                17   \n16                 Entre 800 et 850€             2093                21   \n17                 Entre 850 et 900€             1536                18   \n18                 Entre 900 et 950€             2118                21   \n19                Entre 950 et 1000€             1863                27   \n20               Entre 1000 et 1050€             2385                21   \n21               Entre 1050 et 1100€             1598                16   \n22               Entre 1100 et 1150€             2901                24   \n23               Entre 1150 et 1200€             2431                35   \n24               Entre 1200 et 1250€             4285                56   \n25               Entre 1250 et 1300€             2454                42   \n26               Entre 1300 et 1350€             3697                43   \n27               Entre 1350 et 1400€             2445                34   \n28               Entre 1400 et 1450€             3468                41   \n29               Entre 1450 et 1500€             2305                31   \n30               Entre 1500 et 1550€             3950                37   \n31               Entre 1550 et 1600€             1673                14   \n32               Entre 1600 et 1650€             2734                26   \n33               Entre 1650 et 1700€             1482                15   \n34               Entre 1700 et 1750€             2118                21   \n35               Entre 1750 et 1800€             1156                13   \n36               Entre 1800 et 1850€             1911                19   \n37               Entre 1850 et 1900€              836                15   \n38               Entre 1900 et 1950€             1073                10   \n39               Entre 1950 et 2000€              647                 7   \n\n    Entre 100 et 150€  Entre 150 et 200€  Entre 200 et 250€  \\\n0                 198                300                 44   \n1                   2                  6                  2   \n2                   5                 14                  1   \n3                  14                 11                  5   \n4                  19                 17                 12   \n5                  18                 18                 13   \n6                  32                 26                 10   \n7                  31                 27                 14   \n8                  25                 19                 13   \n9                  37                 44                 16   \n10                 73                 60                 29   \n11                 38                 24                 30   \n12                 62                 63                 46   \n13                107                 66                 57   \n14                176                 69                 70   \n15                 73                 55                 46   \n16                127                 87                 47   \n17                108                 84                 34   \n18                128                132                 32   \n19                111                113                 29   \n20                168                128                 28   \n21                120                 98                 29   \n22                176                161                 34   \n23                182                127                 34   \n24                247                184                 48   \n25                162                134                 29   \n26                212                150                 30   \n27                145                118                 23   \n28                220                141                 36   \n29                142                101                 19   \n30                249                174                 33   \n31                144                 85                 23   \n32                185                132                 22   \n33                125                 73                 16   \n34                165                105                 17   \n35                111                 53                 11   \n36                155                 97                  6   \n37                 84                 40                  7   \n38                118                 57                 10   \n39                 75                 38                  4   \n\n    Entre 250 et 300€  Entre 300 et 350€  Entre 350 et 400€  \\\n0                  85                274                156   \n1                   4                 10                 16   \n2                  11                 23                 19   \n3                  18                 22                 17   \n4                  30                 17                 22   \n5                  15                 20                 25   \n6                  15                 28                 28   \n7                  17                109                 21   \n8                  21                 31                 33   \n9                  25                 43                 28   \n10                 53                 68                 16   \n11                 31                 35                 17   \n12                 46                 61                 34   \n13                 38                 78                 30   \n14                 56                 75                 44   \n15                 39                 48                 27   \n16                 39                 53                 39   \n17                 36                 62                 29   \n18                 42                 85                 37   \n19                 30                 66                 29   \n20                 56                 88                 28   \n21                 33                 58                 21   \n22                 48                 95                 34   \n23                 44                 67                 22   \n24                 58                122                 48   \n25                 51                 67                 21   \n26                 42                 95                 54   \n27                 37                 70                 25   \n28                 43                104                 34   \n29                 47                 65                 23   \n30                 64                105                 37   \n31                 35                 51                  9   \n32                 38                 90                 27   \n33                 21                 49                 19   \n34                 31                 75                 22   \n35                 17                 32                 17   \n36                 34                 67                 23   \n37                 19                 19                 13   \n38                 16                 43                  4   \n39                 21                 28                  6   \n\n    Entre 400 et 450€  ...  Entre 1500 et 1550€  Entre 1550 et 1600€  \\\n0                 309  ...                   80                   73   \n1                  16  ...                    1                    2   \n2                  12  ...                    5                    1   \n3                  16  ...                    3                    2   \n4                  24  ...                   16                    4   \n5                  18  ...                    0                    3   \n6                  18  ...                    2                    6   \n7                  24  ...                    4                    1   \n8                  42  ...                    1                    1   \n9                  29  ...                    5                    1   \n10                 33  ...                    1                    3   \n11                 26  ...                    3                    0   \n12                 34  ...                    1                    1   \n13                 32  ...                    3                    0   \n14                 21  ...                    0                    2   \n15                 22  ...                    2                    3   \n16                 45  ...                    2                    1   \n17                 30  ...                    1                    0   \n18                 28  ...                    1                    1   \n19                 32  ...                    4                    2   \n20                 24  ...                    0                    2   \n21                 16  ...                    1                    0   \n22                 24  ...                    2                    0   \n23                 32  ...                    0                    0   \n24                 43  ...                    2                    3   \n25                 28  ...                    0                    0   \n26                 26  ...                    1                    0   \n27                 22  ...                    0                    1   \n28                 23  ...                    0                    1   \n29                 19  ...                    0                    0   \n30                 33  ...                    2                    0   \n31                 23  ...                    0                    0   \n32                 26  ...                    1                    1   \n33                 15  ...                    0                    0   \n34                 21  ...                    1                    0   \n35                 14  ...                    0                    0   \n36                 14  ...                    1                    0   \n37                  5  ...                    0                    0   \n38                  5  ...                    0                    0   \n39                  6  ...                    0                    1   \n\n    Entre 1600 et 1650€  Entre 1650 et 1700€  Entre 1700 et 1750€  \\\n0                    60                   46                   39   \n1                     2                    2                    1   \n2                     2                    3                    2   \n3                     4                    3                    0   \n4                     5                    6                    2   \n5                     3                    1                    2   \n6                     5                    3                    1   \n7                     0                    2                    0   \n8                     2                    0                    1   \n9                     2                    0                    2   \n10                    3                    4                    0   \n11                    0                    2                    2   \n12                    2                    1                    3   \n13                    1                    2                    3   \n14                    0                    0                    0   \n15                    1                    0                    2   \n16                    1                    1                    1   \n17                    1                    1                    0   \n18                    1                    0                    1   \n19                    1                    1                    0   \n20                    1                    0                    0   \n21                    0                    1                    0   \n22                    1                    0                    0   \n23                    0                    0                    1   \n24                    1                    0                    0   \n25                    4                    0                    0   \n26                    0                    0                    0   \n27                    1                    1                    0   \n28                    1                    0                    0   \n29                    0                    0                    1   \n30                    1                    1                    0   \n31                    0                    0                    0   \n32                    0                    0                    0   \n33                    0                    0                    0   \n34                    2                    0                    0   \n35                    0                    0                    0   \n36                    0                    0                    1   \n37                    1                    0                    0   \n38                    0                    0                    0   \n39                    1                    0                    0   \n\n    Entre 1750 et 1800€  Entre 1800 et 1850€  Entre 1850 et 1900€  \\\n0                    17                   27                   24   \n1                     0                    0                    0   \n2                     2                    3                    3   \n3                     0                    0                    0   \n4                     3                    2                    1   \n5                     0                    1                    1   \n6                     0                    2                    2   \n7                     0                    1                    2   \n8                     2                    2                    1   \n9                     0                    2                    1   \n10                    0                    1                    0   \n11                    1                    0                    0   \n12                    1                    0                    1   \n13                    1                    2                    0   \n14                    1                    0                    1   \n15                    1                    1                    0   \n16                    0                    1                    0   \n17                    0                    0                    0   \n18                    0                    0                    0   \n19                    0                    0                    1   \n20                    0                    0                    0   \n21                    0                    0                    0   \n22                    0                    0                    0   \n23                    1                    0                    1   \n24                    0                    0                    0   \n25                    0                    0                    0   \n26                    0                    0                    0   \n27                    1                    0                    0   \n28                    0                    0                    0   \n29                    0                    0                    0   \n30                    1                    0                    0   \n31                    1                    0                    0   \n32                    0                    2                    0   \n33                    0                    0                    0   \n34                    0                    0                    0   \n35                    0                    0                    0   \n36                    0                    0                    0   \n37                    0                    0                    0   \n38                    0                    0                    0   \n39                    0                    0                    0   \n\n    Entre 1900 et 1950€  Entre 1950 et 2000€  \n0                    22                   18  \n1                     2                    0  \n2                     4                    0  \n3                     1                    0  \n4                     2                    0  \n5                     1                    1  \n6                     1                    0  \n7                     0                    0  \n8                     3                    0  \n9                     0                    0  \n10                    1                    1  \n11                    1                    0  \n12                    1                    1  \n13                    0                    1  \n14                    0                    0  \n15                    1                    1  \n16                    1                    0  \n17                    0                    0  \n18                    0                    1  \n19                    0                    0  \n20                    0                    0  \n21                    0                    0  \n22                    0                    0  \n23                    0                    0  \n24                    0                    1  \n25                    0                    1  \n26                    0                    0  \n27                    1                    0  \n28                    0                    0  \n29                    0                    0  \n30                    0                    0  \n31                    0                    0  \n32                    0                    0  \n33                    0                    0  \n34                    0                    0  \n35                    0                    0  \n36                    0                    0  \n37                    0                    0  \n38                    0                    0  \n39                    0                    0  \n\n[40 rows x 41 columns]",
      "text/html": "<div>\n<style scoped>\n    .dataframe tbody tr th:only-of-type {\n        vertical-align: middle;\n    }\n\n    .dataframe tbody tr th {\n        vertical-align: top;\n    }\n\n    .dataframe thead th {\n        text-align: right;\n    }\n</style>\n<table border=\"1\" class=\"dataframe\">\n  <thead>\n    <tr style=\"text-align: right;\">\n      <th></th>\n      <th>Tranches de RI / Tranches de PFS</th>\n      <th>Entre 0 et 50 €</th>\n      <th>Entre 50 et 100€</th>\n      <th>Entre 100 et 150€</th>\n      <th>Entre 150 et 200€</th>\n      <th>Entre 200 et 250€</th>\n      <th>Entre 250 et 300€</th>\n      <th>Entre 300 et 350€</th>\n      <th>Entre 350 et 400€</th>\n      <th>Entre 400 et 450€</th>\n      <th>...</th>\n      <th>Entre 1500 et 1550€</th>\n      <th>Entre 1550 et 1600€</th>\n      <th>Entre 1600 et 1650€</th>\n      <th>Entre 1650 et 1700€</th>\n      <th>Entre 1700 et 1750€</th>\n      <th>Entre 1750 et 1800€</th>\n      <th>Entre 1800 et 1850€</th>\n      <th>Entre 1850 et 1900€</th>\n      <th>Entre 1900 et 1950€</th>\n      <th>Entre 1950 et 2000€</th>\n    </tr>\n  </thead>\n  <tbody>\n    <tr>\n      <th>0</th>\n      <td>Entre 0 et 50 €</td>\n      <td>670</td>\n      <td>33</td>\n      <td>198</td>\n      <td>300</td>\n      <td>44</td>\n      <td>85</td>\n      <td>274</td>\n      <td>156</td>\n      <td>309</td>\n      <td>...</td>\n      <td>80</td>\n      <td>73</td>\n      <td>60</td>\n      <td>46</td>\n      <td>39</td>\n      <td>17</td>\n      <td>27</td>\n      <td>24</td>\n      <td>22</td>\n      <td>18</td>\n    </tr>\n    <tr>\n      <th>1</th>\n      <td>Entre 50 et 100€</td>\n      <td>35</td>\n      <td>1</td>\n      <td>2</td>\n      <td>6</td>\n      <td>2</td>\n      <td>4</td>\n      <td>10</td>\n      <td>16</td>\n      <td>16</td>\n      <td>...</td>\n      <td>1</td>\n      <td>2</td>\n      <td>2</td>\n      <td>2</td>\n      <td>1</td>\n      <td>0</td>\n      <td>0</td>\n      <td>0</td>\n      <td>2</td>\n      <td>0</td>\n    </tr>\n    <tr>\n      <th>2</th>\n      <td>Entre 100 et 150€</td>\n      <td>78</td>\n      <td>3</td>\n      <td>5</td>\n      <td>14</td>\n      <td>1</td>\n      <td>11</td>\n      <td>23</td>\n      <td>19</td>\n      <td>12</td>\n      <td>...</td>\n      <td>5</td>\n      <td>1</td>\n      <td>2</td>\n      <td>3</td>\n      <td>2</td>\n      <td>2</td>\n      <td>3</td>\n      <td>3</td>\n      <td>4</td>\n      <td>0</td>\n    </tr>\n    <tr>\n      <th>3</th>\n      <td>Entre 150 et 200€</td>\n      <td>82</td>\n      <td>2</td>\n      <td>14</td>\n      <td>11</td>\n      <td>5</td>\n      <td>18</td>\n      <td>22</td>\n      <td>17</td>\n      <td>16</td>\n      <td>...</td>\n      <td>3</td>\n      <td>2</td>\n      <td>4</td>\n      <td>3</td>\n      <td>0</td>\n      <td>0</td>\n      <td>0</td>\n      <td>0</td>\n      <td>1</td>\n      <td>0</td>\n    </tr>\n    <tr>\n      <th>4</th>\n      <td>Entre 200 et 250€</td>\n      <td>96</td>\n      <td>4</td>\n      <td>19</td>\n      <td>17</td>\n      <td>12</td>\n      <td>30</td>\n      <td>17</td>\n      <td>22</td>\n      <td>24</td>\n      <td>...</td>\n      <td>16</td>\n      <td>4</td>\n      <td>5</td>\n      <td>6</td>\n      <td>2</td>\n      <td>3</td>\n      <td>2</td>\n      <td>1</td>\n      <td>2</td>\n      <td>0</td>\n    </tr>\n    <tr>\n      <th>5</th>\n      <td>Entre 250 et 300€</td>\n      <td>125</td>\n      <td>2</td>\n      <td>18</td>\n      <td>18</td>\n      <td>13</td>\n      <td>15</td>\n      <td>20</td>\n      <td>25</td>\n      <td>18</td>\n      <td>...</td>\n      <td>0</td>\n      <td>3</td>\n      <td>3</td>\n      <td>1</td>\n      <td>2</td>\n      <td>0</td>\n      <td>1</td>\n      <td>1</td>\n      <td>1</td>\n      <td>1</td>\n    </tr>\n    <tr>\n      <th>6</th>\n      <td>Entre 300 et 350€</td>\n      <td>191</td>\n      <td>2</td>\n      <td>32</td>\n      <td>26</td>\n      <td>10</td>\n      <td>15</td>\n      <td>28</td>\n      <td>28</td>\n      <td>18</td>\n      <td>...</td>\n      <td>2</td>\n      <td>6</td>\n      <td>5</td>\n      <td>3</td>\n      <td>1</td>\n      <td>0</td>\n      <td>2</td>\n      <td>2</td>\n      <td>1</td>\n      <td>0</td>\n    </tr>\n    <tr>\n      <th>7</th>\n      <td>Entre 350 et 400€</td>\n      <td>173</td>\n      <td>10</td>\n      <td>31</td>\n      <td>27</td>\n      <td>14</td>\n      <td>17</td>\n      <td>109</td>\n      <td>21</td>\n      <td>24</td>\n      <td>...</td>\n      <td>4</td>\n      <td>1</td>\n      <td>0</td>\n      <td>2</td>\n      <td>0</td>\n      <td>0</td>\n      <td>1</td>\n      <td>2</td>\n      <td>0</td>\n      <td>0</td>\n    </tr>\n    <tr>\n      <th>8</th>\n      <td>Entre 400 et 450€</td>\n      <td>227</td>\n      <td>7</td>\n      <td>25</td>\n      <td>19</td>\n      <td>13</td>\n      <td>21</td>\n      <td>31</td>\n      <td>33</td>\n      <td>42</td>\n      <td>...</td>\n      <td>1</td>\n      <td>1</td>\n      <td>2</td>\n      <td>0</td>\n      <td>1</td>\n      <td>2</td>\n      <td>2</td>\n      <td>1</td>\n      <td>3</td>\n      <td>0</td>\n    </tr>\n    <tr>\n      <th>9</th>\n      <td>Entre 450 et 500€</td>\n      <td>744</td>\n      <td>7</td>\n      <td>37</td>\n      <td>44</td>\n      <td>16</td>\n      <td>25</td>\n      <td>43</td>\n      <td>28</td>\n      <td>29</td>\n      <td>...</td>\n      <td>5</td>\n      <td>1</td>\n      <td>2</td>\n      <td>0</td>\n      <td>2</td>\n      <td>0</td>\n      <td>2</td>\n      <td>1</td>\n      <td>0</td>\n      <td>0</td>\n    </tr>\n    <tr>\n      <th>10</th>\n      <td>Entre 500 et 550€</td>\n      <td>1057</td>\n      <td>12</td>\n      <td>73</td>\n      <td>60</td>\n      <td>29</td>\n      <td>53</td>\n      <td>68</td>\n      <td>16</td>\n      <td>33</td>\n      <td>...</td>\n      <td>1</td>\n      <td>3</td>\n      <td>3</td>\n      <td>4</td>\n      <td>0</td>\n      <td>0</td>\n      <td>1</td>\n      <td>0</td>\n      <td>1</td>\n      <td>1</td>\n    </tr>\n    <tr>\n      <th>11</th>\n      <td>Entre 550 et 600€</td>\n      <td>394</td>\n      <td>11</td>\n      <td>38</td>\n      <td>24</td>\n      <td>30</td>\n      <td>31</td>\n      <td>35</td>\n      <td>17</td>\n      <td>26</td>\n      <td>...</td>\n      <td>3</td>\n      <td>0</td>\n      <td>0</td>\n      <td>2</td>\n      <td>2</td>\n      <td>1</td>\n      <td>0</td>\n      <td>0</td>\n      <td>1</td>\n      <td>0</td>\n    </tr>\n    <tr>\n      <th>12</th>\n      <td>Entre 600 et 650€</td>\n      <td>759</td>\n      <td>10</td>\n      <td>62</td>\n      <td>63</td>\n      <td>46</td>\n      <td>46</td>\n      <td>61</td>\n      <td>34</td>\n      <td>34</td>\n      <td>...</td>\n      <td>1</td>\n      <td>1</td>\n      <td>2</td>\n      <td>1</td>\n      <td>3</td>\n      <td>1</td>\n      <td>0</td>\n      <td>1</td>\n      <td>1</td>\n      <td>1</td>\n    </tr>\n    <tr>\n      <th>13</th>\n      <td>Entre 650 et 700€</td>\n      <td>829</td>\n      <td>16</td>\n      <td>107</td>\n      <td>66</td>\n      <td>57</td>\n      <td>38</td>\n      <td>78</td>\n      <td>30</td>\n      <td>32</td>\n      <td>...</td>\n      <td>3</td>\n      <td>0</td>\n      <td>1</td>\n      <td>2</td>\n      <td>3</td>\n      <td>1</td>\n      <td>2</td>\n      <td>0</td>\n      <td>0</td>\n      <td>1</td>\n    </tr>\n    <tr>\n      <th>14</th>\n      <td>Entre 700 et 750€</td>\n      <td>1090</td>\n      <td>27</td>\n      <td>176</td>\n      <td>69</td>\n      <td>70</td>\n      <td>56</td>\n      <td>75</td>\n      <td>44</td>\n      <td>21</td>\n      <td>...</td>\n      <td>0</td>\n      <td>2</td>\n      <td>0</td>\n      <td>0</td>\n      <td>0</td>\n      <td>1</td>\n      <td>0</td>\n      <td>1</td>\n      <td>0</td>\n      <td>0</td>\n    </tr>\n    <tr>\n      <th>15</th>\n      <td>Entre 750 et 800€</td>\n      <td>1099</td>\n      <td>17</td>\n      <td>73</td>\n      <td>55</td>\n      <td>46</td>\n      <td>39</td>\n      <td>48</td>\n      <td>27</td>\n      <td>22</td>\n      <td>...</td>\n      <td>2</td>\n      <td>3</td>\n      <td>1</td>\n      <td>0</td>\n      <td>2</td>\n      <td>1</td>\n      <td>1</td>\n      <td>0</td>\n      <td>1</td>\n      <td>1</td>\n    </tr>\n    <tr>\n      <th>16</th>\n      <td>Entre 800 et 850€</td>\n      <td>2093</td>\n      <td>21</td>\n      <td>127</td>\n      <td>87</td>\n      <td>47</td>\n      <td>39</td>\n      <td>53</td>\n      <td>39</td>\n      <td>45</td>\n      <td>...</td>\n      <td>2</td>\n      <td>1</td>\n      <td>1</td>\n      <td>1</td>\n      <td>1</td>\n      <td>0</td>\n      <td>1</td>\n      <td>0</td>\n      <td>1</td>\n      <td>0</td>\n    </tr>\n    <tr>\n      <th>17</th>\n      <td>Entre 850 et 900€</td>\n      <td>1536</td>\n      <td>18</td>\n      <td>108</td>\n      <td>84</td>\n      <td>34</td>\n      <td>36</td>\n      <td>62</td>\n      <td>29</td>\n      <td>30</td>\n      <td>...</td>\n      <td>1</td>\n      <td>0</td>\n      <td>1</td>\n      <td>1</td>\n      <td>0</td>\n      <td>0</td>\n      <td>0</td>\n      <td>0</td>\n      <td>0</td>\n      <td>0</td>\n    </tr>\n    <tr>\n      <th>18</th>\n      <td>Entre 900 et 950€</td>\n      <td>2118</td>\n      <td>21</td>\n      <td>128</td>\n      <td>132</td>\n      <td>32</td>\n      <td>42</td>\n      <td>85</td>\n      <td>37</td>\n      <td>28</td>\n      <td>...</td>\n      <td>1</td>\n      <td>1</td>\n      <td>1</td>\n      <td>0</td>\n      <td>1</td>\n      <td>0</td>\n      <td>0</td>\n      <td>0</td>\n      <td>0</td>\n      <td>1</td>\n    </tr>\n    <tr>\n      <th>19</th>\n      <td>Entre 950 et 1000€</td>\n      <td>1863</td>\n      <td>27</td>\n      <td>111</td>\n      <td>113</td>\n      <td>29</td>\n      <td>30</td>\n      <td>66</td>\n      <td>29</td>\n      <td>32</td>\n      <td>...</td>\n      <td>4</td>\n      <td>2</td>\n      <td>1</td>\n      <td>1</td>\n      <td>0</td>\n      <td>0</td>\n      <td>0</td>\n      <td>1</td>\n      <td>0</td>\n      <td>0</td>\n    </tr>\n    <tr>\n      <th>20</th>\n      <td>Entre 1000 et 1050€</td>\n      <td>2385</td>\n      <td>21</td>\n      <td>168</td>\n      <td>128</td>\n      <td>28</td>\n      <td>56</td>\n      <td>88</td>\n      <td>28</td>\n      <td>24</td>\n      <td>...</td>\n      <td>0</td>\n      <td>2</td>\n      <td>1</td>\n      <td>0</td>\n      <td>0</td>\n      <td>0</td>\n      <td>0</td>\n      <td>0</td>\n      <td>0</td>\n      <td>0</td>\n    </tr>\n    <tr>\n      <th>21</th>\n      <td>Entre 1050 et 1100€</td>\n      <td>1598</td>\n      <td>16</td>\n      <td>120</td>\n      <td>98</td>\n      <td>29</td>\n      <td>33</td>\n      <td>58</td>\n      <td>21</td>\n      <td>16</td>\n      <td>...</td>\n      <td>1</td>\n      <td>0</td>\n      <td>0</td>\n      <td>1</td>\n      <td>0</td>\n      <td>0</td>\n      <td>0</td>\n      <td>0</td>\n      <td>0</td>\n      <td>0</td>\n    </tr>\n    <tr>\n      <th>22</th>\n      <td>Entre 1100 et 1150€</td>\n      <td>2901</td>\n      <td>24</td>\n      <td>176</td>\n      <td>161</td>\n      <td>34</td>\n      <td>48</td>\n      <td>95</td>\n      <td>34</td>\n      <td>24</td>\n      <td>...</td>\n      <td>2</td>\n      <td>0</td>\n      <td>1</td>\n      <td>0</td>\n      <td>0</td>\n      <td>0</td>\n      <td>0</td>\n      <td>0</td>\n      <td>0</td>\n      <td>0</td>\n    </tr>\n    <tr>\n      <th>23</th>\n      <td>Entre 1150 et 1200€</td>\n      <td>2431</td>\n      <td>35</td>\n      <td>182</td>\n      <td>127</td>\n      <td>34</td>\n      <td>44</td>\n      <td>67</td>\n      <td>22</td>\n      <td>32</td>\n      <td>...</td>\n      <td>0</td>\n      <td>0</td>\n      <td>0</td>\n      <td>0</td>\n      <td>1</td>\n      <td>1</td>\n      <td>0</td>\n      <td>1</td>\n      <td>0</td>\n      <td>0</td>\n    </tr>\n    <tr>\n      <th>24</th>\n      <td>Entre 1200 et 1250€</td>\n      <td>4285</td>\n      <td>56</td>\n      <td>247</td>\n      <td>184</td>\n      <td>48</td>\n      <td>58</td>\n      <td>122</td>\n      <td>48</td>\n      <td>43</td>\n      <td>...</td>\n      <td>2</td>\n      <td>3</td>\n      <td>1</td>\n      <td>0</td>\n      <td>0</td>\n      <td>0</td>\n      <td>0</td>\n      <td>0</td>\n      <td>0</td>\n      <td>1</td>\n    </tr>\n    <tr>\n      <th>25</th>\n      <td>Entre 1250 et 1300€</td>\n      <td>2454</td>\n      <td>42</td>\n      <td>162</td>\n      <td>134</td>\n      <td>29</td>\n      <td>51</td>\n      <td>67</td>\n      <td>21</td>\n      <td>28</td>\n      <td>...</td>\n      <td>0</td>\n      <td>0</td>\n      <td>4</td>\n      <td>0</td>\n      <td>0</td>\n      <td>0</td>\n      <td>0</td>\n      <td>0</td>\n      <td>0</td>\n      <td>1</td>\n    </tr>\n    <tr>\n      <th>26</th>\n      <td>Entre 1300 et 1350€</td>\n      <td>3697</td>\n      <td>43</td>\n      <td>212</td>\n      <td>150</td>\n      <td>30</td>\n      <td>42</td>\n      <td>95</td>\n      <td>54</td>\n      <td>26</td>\n      <td>...</td>\n      <td>1</td>\n      <td>0</td>\n      <td>0</td>\n      <td>0</td>\n      <td>0</td>\n      <td>0</td>\n      <td>0</td>\n      <td>0</td>\n      <td>0</td>\n      <td>0</td>\n    </tr>\n    <tr>\n      <th>27</th>\n      <td>Entre 1350 et 1400€</td>\n      <td>2445</td>\n      <td>34</td>\n      <td>145</td>\n      <td>118</td>\n      <td>23</td>\n      <td>37</td>\n      <td>70</td>\n      <td>25</td>\n      <td>22</td>\n      <td>...</td>\n      <td>0</td>\n      <td>1</td>\n      <td>1</td>\n      <td>1</td>\n      <td>0</td>\n      <td>1</td>\n      <td>0</td>\n      <td>0</td>\n      <td>1</td>\n      <td>0</td>\n    </tr>\n    <tr>\n      <th>28</th>\n      <td>Entre 1400 et 1450€</td>\n      <td>3468</td>\n      <td>41</td>\n      <td>220</td>\n      <td>141</td>\n      <td>36</td>\n      <td>43</td>\n      <td>104</td>\n      <td>34</td>\n      <td>23</td>\n      <td>...</td>\n      <td>0</td>\n      <td>1</td>\n      <td>1</td>\n      <td>0</td>\n      <td>0</td>\n      <td>0</td>\n      <td>0</td>\n      <td>0</td>\n      <td>0</td>\n      <td>0</td>\n    </tr>\n    <tr>\n      <th>29</th>\n      <td>Entre 1450 et 1500€</td>\n      <td>2305</td>\n      <td>31</td>\n      <td>142</td>\n      <td>101</td>\n      <td>19</td>\n      <td>47</td>\n      <td>65</td>\n      <td>23</td>\n      <td>19</td>\n      <td>...</td>\n      <td>0</td>\n      <td>0</td>\n      <td>0</td>\n      <td>0</td>\n      <td>1</td>\n      <td>0</td>\n      <td>0</td>\n      <td>0</td>\n      <td>0</td>\n      <td>0</td>\n    </tr>\n    <tr>\n      <th>30</th>\n      <td>Entre 1500 et 1550€</td>\n      <td>3950</td>\n      <td>37</td>\n      <td>249</td>\n      <td>174</td>\n      <td>33</td>\n      <td>64</td>\n      <td>105</td>\n      <td>37</td>\n      <td>33</td>\n      <td>...</td>\n      <td>2</td>\n      <td>0</td>\n      <td>1</td>\n      <td>1</td>\n      <td>0</td>\n      <td>1</td>\n      <td>0</td>\n      <td>0</td>\n      <td>0</td>\n      <td>0</td>\n    </tr>\n    <tr>\n      <th>31</th>\n      <td>Entre 1550 et 1600€</td>\n      <td>1673</td>\n      <td>14</td>\n      <td>144</td>\n      <td>85</td>\n      <td>23</td>\n      <td>35</td>\n      <td>51</td>\n      <td>9</td>\n      <td>23</td>\n      <td>...</td>\n      <td>0</td>\n      <td>0</td>\n      <td>0</td>\n      <td>0</td>\n      <td>0</td>\n      <td>1</td>\n      <td>0</td>\n      <td>0</td>\n      <td>0</td>\n      <td>0</td>\n    </tr>\n    <tr>\n      <th>32</th>\n      <td>Entre 1600 et 1650€</td>\n      <td>2734</td>\n      <td>26</td>\n      <td>185</td>\n      <td>132</td>\n      <td>22</td>\n      <td>38</td>\n      <td>90</td>\n      <td>27</td>\n      <td>26</td>\n      <td>...</td>\n      <td>1</td>\n      <td>1</td>\n      <td>0</td>\n      <td>0</td>\n      <td>0</td>\n      <td>0</td>\n      <td>2</td>\n      <td>0</td>\n      <td>0</td>\n      <td>0</td>\n    </tr>\n    <tr>\n      <th>33</th>\n      <td>Entre 1650 et 1700€</td>\n      <td>1482</td>\n      <td>15</td>\n      <td>125</td>\n      <td>73</td>\n      <td>16</td>\n      <td>21</td>\n      <td>49</td>\n      <td>19</td>\n      <td>15</td>\n      <td>...</td>\n      <td>0</td>\n      <td>0</td>\n      <td>0</td>\n      <td>0</td>\n      <td>0</td>\n      <td>0</td>\n      <td>0</td>\n      <td>0</td>\n      <td>0</td>\n      <td>0</td>\n    </tr>\n    <tr>\n      <th>34</th>\n      <td>Entre 1700 et 1750€</td>\n      <td>2118</td>\n      <td>21</td>\n      <td>165</td>\n      <td>105</td>\n      <td>17</td>\n      <td>31</td>\n      <td>75</td>\n      <td>22</td>\n      <td>21</td>\n      <td>...</td>\n      <td>1</td>\n      <td>0</td>\n      <td>2</td>\n      <td>0</td>\n      <td>0</td>\n      <td>0</td>\n      <td>0</td>\n      <td>0</td>\n      <td>0</td>\n      <td>0</td>\n    </tr>\n    <tr>\n      <th>35</th>\n      <td>Entre 1750 et 1800€</td>\n      <td>1156</td>\n      <td>13</td>\n      <td>111</td>\n      <td>53</td>\n      <td>11</td>\n      <td>17</td>\n      <td>32</td>\n      <td>17</td>\n      <td>14</td>\n      <td>...</td>\n      <td>0</td>\n      <td>0</td>\n      <td>0</td>\n      <td>0</td>\n      <td>0</td>\n      <td>0</td>\n      <td>0</td>\n      <td>0</td>\n      <td>0</td>\n      <td>0</td>\n    </tr>\n    <tr>\n      <th>36</th>\n      <td>Entre 1800 et 1850€</td>\n      <td>1911</td>\n      <td>19</td>\n      <td>155</td>\n      <td>97</td>\n      <td>6</td>\n      <td>34</td>\n      <td>67</td>\n      <td>23</td>\n      <td>14</td>\n      <td>...</td>\n      <td>1</td>\n      <td>0</td>\n      <td>0</td>\n      <td>0</td>\n      <td>1</td>\n      <td>0</td>\n      <td>0</td>\n      <td>0</td>\n      <td>0</td>\n      <td>0</td>\n    </tr>\n    <tr>\n      <th>37</th>\n      <td>Entre 1850 et 1900€</td>\n      <td>836</td>\n      <td>15</td>\n      <td>84</td>\n      <td>40</td>\n      <td>7</td>\n      <td>19</td>\n      <td>19</td>\n      <td>13</td>\n      <td>5</td>\n      <td>...</td>\n      <td>0</td>\n      <td>0</td>\n      <td>1</td>\n      <td>0</td>\n      <td>0</td>\n      <td>0</td>\n      <td>0</td>\n      <td>0</td>\n      <td>0</td>\n      <td>0</td>\n    </tr>\n    <tr>\n      <th>38</th>\n      <td>Entre 1900 et 1950€</td>\n      <td>1073</td>\n      <td>10</td>\n      <td>118</td>\n      <td>57</td>\n      <td>10</td>\n      <td>16</td>\n      <td>43</td>\n      <td>4</td>\n      <td>5</td>\n      <td>...</td>\n      <td>0</td>\n      <td>0</td>\n      <td>0</td>\n      <td>0</td>\n      <td>0</td>\n      <td>0</td>\n      <td>0</td>\n      <td>0</td>\n      <td>0</td>\n      <td>0</td>\n    </tr>\n    <tr>\n      <th>39</th>\n      <td>Entre 1950 et 2000€</td>\n      <td>647</td>\n      <td>7</td>\n      <td>75</td>\n      <td>38</td>\n      <td>4</td>\n      <td>21</td>\n      <td>28</td>\n      <td>6</td>\n      <td>6</td>\n      <td>...</td>\n      <td>0</td>\n      <td>1</td>\n      <td>1</td>\n      <td>0</td>\n      <td>0</td>\n      <td>0</td>\n      <td>0</td>\n      <td>0</td>\n      <td>0</td>\n      <td>0</td>\n    </tr>\n  </tbody>\n</table>\n<p>40 rows × 41 columns</p>\n</div>"
     },
     "execution_count": 10,
     "metadata": {},
     "output_type": "execute_result"
    }
   ],
   "source": [
    "df"
   ],
   "metadata": {
    "collapsed": false,
    "pycharm": {
     "name": "#%%\n"
    }
   }
  },
  {
   "cell_type": "code",
   "execution_count": 11,
   "outputs": [],
   "source": [
    "df.set_index('Tranches de RI / Tranches de PFS ', inplace = True)"
   ],
   "metadata": {
    "collapsed": false,
    "pycharm": {
     "name": "#%%\n"
    }
   }
  },
  {
   "cell_type": "code",
   "execution_count": 12,
   "outputs": [
    {
     "data": {
      "text/plain": "                                   Entre 0 et 50 €  Entre 50 et 100€  \\\nTranches de RI / Tranches de PFS                                       \nEntre 0 et 50 €                                670                33   \nEntre 50 et 100€                                35                 1   \nEntre 100 et 150€                               78                 3   \nEntre 150 et 200€                               82                 2   \nEntre 200 et 250€                               96                 4   \nEntre 250 et 300€                              125                 2   \nEntre 300 et 350€                              191                 2   \nEntre 350 et 400€                              173                10   \nEntre 400 et 450€                              227                 7   \nEntre 450 et 500€                              744                 7   \nEntre 500 et 550€                             1057                12   \nEntre 550 et 600€                              394                11   \nEntre 600 et 650€                              759                10   \nEntre 650 et 700€                              829                16   \nEntre 700 et 750€                             1090                27   \nEntre 750 et 800€                             1099                17   \nEntre 800 et 850€                             2093                21   \nEntre 850 et 900€                             1536                18   \nEntre 900 et 950€                             2118                21   \nEntre 950 et 1000€                            1863                27   \nEntre 1000 et 1050€                           2385                21   \nEntre 1050 et 1100€                           1598                16   \nEntre 1100 et 1150€                           2901                24   \nEntre 1150 et 1200€                           2431                35   \nEntre 1200 et 1250€                           4285                56   \nEntre 1250 et 1300€                           2454                42   \nEntre 1300 et 1350€                           3697                43   \nEntre 1350 et 1400€                           2445                34   \nEntre 1400 et 1450€                           3468                41   \nEntre 1450 et 1500€                           2305                31   \nEntre 1500 et 1550€                           3950                37   \nEntre 1550 et 1600€                           1673                14   \nEntre 1600 et 1650€                           2734                26   \nEntre 1650 et 1700€                           1482                15   \nEntre 1700 et 1750€                           2118                21   \nEntre 1750 et 1800€                           1156                13   \nEntre 1800 et 1850€                           1911                19   \nEntre 1850 et 1900€                            836                15   \nEntre 1900 et 1950€                           1073                10   \nEntre 1950 et 2000€                            647                 7   \n\n                                   Entre 100 et 150€  Entre 150 et 200€  \\\nTranches de RI / Tranches de PFS                                          \nEntre 0 et 50 €                                  198                300   \nEntre 50 et 100€                                   2                  6   \nEntre 100 et 150€                                  5                 14   \nEntre 150 et 200€                                 14                 11   \nEntre 200 et 250€                                 19                 17   \nEntre 250 et 300€                                 18                 18   \nEntre 300 et 350€                                 32                 26   \nEntre 350 et 400€                                 31                 27   \nEntre 400 et 450€                                 25                 19   \nEntre 450 et 500€                                 37                 44   \nEntre 500 et 550€                                 73                 60   \nEntre 550 et 600€                                 38                 24   \nEntre 600 et 650€                                 62                 63   \nEntre 650 et 700€                                107                 66   \nEntre 700 et 750€                                176                 69   \nEntre 750 et 800€                                 73                 55   \nEntre 800 et 850€                                127                 87   \nEntre 850 et 900€                                108                 84   \nEntre 900 et 950€                                128                132   \nEntre 950 et 1000€                               111                113   \nEntre 1000 et 1050€                              168                128   \nEntre 1050 et 1100€                              120                 98   \nEntre 1100 et 1150€                              176                161   \nEntre 1150 et 1200€                              182                127   \nEntre 1200 et 1250€                              247                184   \nEntre 1250 et 1300€                              162                134   \nEntre 1300 et 1350€                              212                150   \nEntre 1350 et 1400€                              145                118   \nEntre 1400 et 1450€                              220                141   \nEntre 1450 et 1500€                              142                101   \nEntre 1500 et 1550€                              249                174   \nEntre 1550 et 1600€                              144                 85   \nEntre 1600 et 1650€                              185                132   \nEntre 1650 et 1700€                              125                 73   \nEntre 1700 et 1750€                              165                105   \nEntre 1750 et 1800€                              111                 53   \nEntre 1800 et 1850€                              155                 97   \nEntre 1850 et 1900€                               84                 40   \nEntre 1900 et 1950€                              118                 57   \nEntre 1950 et 2000€                               75                 38   \n\n                                   Entre 200 et 250€  Entre 250 et 300€  \\\nTranches de RI / Tranches de PFS                                          \nEntre 0 et 50 €                                   44                 85   \nEntre 50 et 100€                                   2                  4   \nEntre 100 et 150€                                  1                 11   \nEntre 150 et 200€                                  5                 18   \nEntre 200 et 250€                                 12                 30   \nEntre 250 et 300€                                 13                 15   \nEntre 300 et 350€                                 10                 15   \nEntre 350 et 400€                                 14                 17   \nEntre 400 et 450€                                 13                 21   \nEntre 450 et 500€                                 16                 25   \nEntre 500 et 550€                                 29                 53   \nEntre 550 et 600€                                 30                 31   \nEntre 600 et 650€                                 46                 46   \nEntre 650 et 700€                                 57                 38   \nEntre 700 et 750€                                 70                 56   \nEntre 750 et 800€                                 46                 39   \nEntre 800 et 850€                                 47                 39   \nEntre 850 et 900€                                 34                 36   \nEntre 900 et 950€                                 32                 42   \nEntre 950 et 1000€                                29                 30   \nEntre 1000 et 1050€                               28                 56   \nEntre 1050 et 1100€                               29                 33   \nEntre 1100 et 1150€                               34                 48   \nEntre 1150 et 1200€                               34                 44   \nEntre 1200 et 1250€                               48                 58   \nEntre 1250 et 1300€                               29                 51   \nEntre 1300 et 1350€                               30                 42   \nEntre 1350 et 1400€                               23                 37   \nEntre 1400 et 1450€                               36                 43   \nEntre 1450 et 1500€                               19                 47   \nEntre 1500 et 1550€                               33                 64   \nEntre 1550 et 1600€                               23                 35   \nEntre 1600 et 1650€                               22                 38   \nEntre 1650 et 1700€                               16                 21   \nEntre 1700 et 1750€                               17                 31   \nEntre 1750 et 1800€                               11                 17   \nEntre 1800 et 1850€                                6                 34   \nEntre 1850 et 1900€                                7                 19   \nEntre 1900 et 1950€                               10                 16   \nEntre 1950 et 2000€                                4                 21   \n\n                                   Entre 300 et 350€  Entre 350 et 400€  \\\nTranches de RI / Tranches de PFS                                          \nEntre 0 et 50 €                                  274                156   \nEntre 50 et 100€                                  10                 16   \nEntre 100 et 150€                                 23                 19   \nEntre 150 et 200€                                 22                 17   \nEntre 200 et 250€                                 17                 22   \nEntre 250 et 300€                                 20                 25   \nEntre 300 et 350€                                 28                 28   \nEntre 350 et 400€                                109                 21   \nEntre 400 et 450€                                 31                 33   \nEntre 450 et 500€                                 43                 28   \nEntre 500 et 550€                                 68                 16   \nEntre 550 et 600€                                 35                 17   \nEntre 600 et 650€                                 61                 34   \nEntre 650 et 700€                                 78                 30   \nEntre 700 et 750€                                 75                 44   \nEntre 750 et 800€                                 48                 27   \nEntre 800 et 850€                                 53                 39   \nEntre 850 et 900€                                 62                 29   \nEntre 900 et 950€                                 85                 37   \nEntre 950 et 1000€                                66                 29   \nEntre 1000 et 1050€                               88                 28   \nEntre 1050 et 1100€                               58                 21   \nEntre 1100 et 1150€                               95                 34   \nEntre 1150 et 1200€                               67                 22   \nEntre 1200 et 1250€                              122                 48   \nEntre 1250 et 1300€                               67                 21   \nEntre 1300 et 1350€                               95                 54   \nEntre 1350 et 1400€                               70                 25   \nEntre 1400 et 1450€                              104                 34   \nEntre 1450 et 1500€                               65                 23   \nEntre 1500 et 1550€                              105                 37   \nEntre 1550 et 1600€                               51                  9   \nEntre 1600 et 1650€                               90                 27   \nEntre 1650 et 1700€                               49                 19   \nEntre 1700 et 1750€                               75                 22   \nEntre 1750 et 1800€                               32                 17   \nEntre 1800 et 1850€                               67                 23   \nEntre 1850 et 1900€                               19                 13   \nEntre 1900 et 1950€                               43                  4   \nEntre 1950 et 2000€                               28                  6   \n\n                                   Entre 400 et 450€  Entre 450 et 500€  ...  \\\nTranches de RI / Tranches de PFS                                         ...   \nEntre 0 et 50 €                                  309               4094  ...   \nEntre 50 et 100€                                  16                 22  ...   \nEntre 100 et 150€                                 12                 64  ...   \nEntre 150 et 200€                                 16                 41  ...   \nEntre 200 et 250€                                 24                 67  ...   \nEntre 250 et 300€                                 18                 78  ...   \nEntre 300 et 350€                                 18                 56  ...   \nEntre 350 et 400€                                 24                 96  ...   \nEntre 400 et 450€                                 42                 41  ...   \nEntre 450 et 500€                                 29                 37  ...   \nEntre 500 et 550€                                 33                 75  ...   \nEntre 550 et 600€                                 26                 30  ...   \nEntre 600 et 650€                                 34                 66  ...   \nEntre 650 et 700€                                 32                 63  ...   \nEntre 700 et 750€                                 21                 56  ...   \nEntre 750 et 800€                                 22                 47  ...   \nEntre 800 et 850€                                 45                 62  ...   \nEntre 850 et 900€                                 30                 52  ...   \nEntre 900 et 950€                                 28                 60  ...   \nEntre 950 et 1000€                                32                 54  ...   \nEntre 1000 et 1050€                               24                 63  ...   \nEntre 1050 et 1100€                               16                 35  ...   \nEntre 1100 et 1150€                               24                 71  ...   \nEntre 1150 et 1200€                               32                 57  ...   \nEntre 1200 et 1250€                               43                 88  ...   \nEntre 1250 et 1300€                               28                 58  ...   \nEntre 1300 et 1350€                               26                 81  ...   \nEntre 1350 et 1400€                               22                 46  ...   \nEntre 1400 et 1450€                               23                 73  ...   \nEntre 1450 et 1500€                               19                 67  ...   \nEntre 1500 et 1550€                               33                108  ...   \nEntre 1550 et 1600€                               23                 56  ...   \nEntre 1600 et 1650€                               26                 85  ...   \nEntre 1650 et 1700€                               15                 35  ...   \nEntre 1700 et 1750€                               21                 62  ...   \nEntre 1750 et 1800€                               14                 27  ...   \nEntre 1800 et 1850€                               14                 70  ...   \nEntre 1850 et 1900€                                5                 37  ...   \nEntre 1900 et 1950€                                5                 37  ...   \nEntre 1950 et 2000€                                6                 28  ...   \n\n                                   Entre 1500 et 1550€  Entre 1550 et 1600€  \\\nTranches de RI / Tranches de PFS                                              \nEntre 0 et 50 €                                     80                   73   \nEntre 50 et 100€                                     1                    2   \nEntre 100 et 150€                                    5                    1   \nEntre 150 et 200€                                    3                    2   \nEntre 200 et 250€                                   16                    4   \nEntre 250 et 300€                                    0                    3   \nEntre 300 et 350€                                    2                    6   \nEntre 350 et 400€                                    4                    1   \nEntre 400 et 450€                                    1                    1   \nEntre 450 et 500€                                    5                    1   \nEntre 500 et 550€                                    1                    3   \nEntre 550 et 600€                                    3                    0   \nEntre 600 et 650€                                    1                    1   \nEntre 650 et 700€                                    3                    0   \nEntre 700 et 750€                                    0                    2   \nEntre 750 et 800€                                    2                    3   \nEntre 800 et 850€                                    2                    1   \nEntre 850 et 900€                                    1                    0   \nEntre 900 et 950€                                    1                    1   \nEntre 950 et 1000€                                   4                    2   \nEntre 1000 et 1050€                                  0                    2   \nEntre 1050 et 1100€                                  1                    0   \nEntre 1100 et 1150€                                  2                    0   \nEntre 1150 et 1200€                                  0                    0   \nEntre 1200 et 1250€                                  2                    3   \nEntre 1250 et 1300€                                  0                    0   \nEntre 1300 et 1350€                                  1                    0   \nEntre 1350 et 1400€                                  0                    1   \nEntre 1400 et 1450€                                  0                    1   \nEntre 1450 et 1500€                                  0                    0   \nEntre 1500 et 1550€                                  2                    0   \nEntre 1550 et 1600€                                  0                    0   \nEntre 1600 et 1650€                                  1                    1   \nEntre 1650 et 1700€                                  0                    0   \nEntre 1700 et 1750€                                  1                    0   \nEntre 1750 et 1800€                                  0                    0   \nEntre 1800 et 1850€                                  1                    0   \nEntre 1850 et 1900€                                  0                    0   \nEntre 1900 et 1950€                                  0                    0   \nEntre 1950 et 2000€                                  0                    1   \n\n                                   Entre 1600 et 1650€  Entre 1650 et 1700€  \\\nTranches de RI / Tranches de PFS                                              \nEntre 0 et 50 €                                     60                   46   \nEntre 50 et 100€                                     2                    2   \nEntre 100 et 150€                                    2                    3   \nEntre 150 et 200€                                    4                    3   \nEntre 200 et 250€                                    5                    6   \nEntre 250 et 300€                                    3                    1   \nEntre 300 et 350€                                    5                    3   \nEntre 350 et 400€                                    0                    2   \nEntre 400 et 450€                                    2                    0   \nEntre 450 et 500€                                    2                    0   \nEntre 500 et 550€                                    3                    4   \nEntre 550 et 600€                                    0                    2   \nEntre 600 et 650€                                    2                    1   \nEntre 650 et 700€                                    1                    2   \nEntre 700 et 750€                                    0                    0   \nEntre 750 et 800€                                    1                    0   \nEntre 800 et 850€                                    1                    1   \nEntre 850 et 900€                                    1                    1   \nEntre 900 et 950€                                    1                    0   \nEntre 950 et 1000€                                   1                    1   \nEntre 1000 et 1050€                                  1                    0   \nEntre 1050 et 1100€                                  0                    1   \nEntre 1100 et 1150€                                  1                    0   \nEntre 1150 et 1200€                                  0                    0   \nEntre 1200 et 1250€                                  1                    0   \nEntre 1250 et 1300€                                  4                    0   \nEntre 1300 et 1350€                                  0                    0   \nEntre 1350 et 1400€                                  1                    1   \nEntre 1400 et 1450€                                  1                    0   \nEntre 1450 et 1500€                                  0                    0   \nEntre 1500 et 1550€                                  1                    1   \nEntre 1550 et 1600€                                  0                    0   \nEntre 1600 et 1650€                                  0                    0   \nEntre 1650 et 1700€                                  0                    0   \nEntre 1700 et 1750€                                  2                    0   \nEntre 1750 et 1800€                                  0                    0   \nEntre 1800 et 1850€                                  0                    0   \nEntre 1850 et 1900€                                  1                    0   \nEntre 1900 et 1950€                                  0                    0   \nEntre 1950 et 2000€                                  1                    0   \n\n                                   Entre 1700 et 1750€  Entre 1750 et 1800€  \\\nTranches de RI / Tranches de PFS                                              \nEntre 0 et 50 €                                     39                   17   \nEntre 50 et 100€                                     1                    0   \nEntre 100 et 150€                                    2                    2   \nEntre 150 et 200€                                    0                    0   \nEntre 200 et 250€                                    2                    3   \nEntre 250 et 300€                                    2                    0   \nEntre 300 et 350€                                    1                    0   \nEntre 350 et 400€                                    0                    0   \nEntre 400 et 450€                                    1                    2   \nEntre 450 et 500€                                    2                    0   \nEntre 500 et 550€                                    0                    0   \nEntre 550 et 600€                                    2                    1   \nEntre 600 et 650€                                    3                    1   \nEntre 650 et 700€                                    3                    1   \nEntre 700 et 750€                                    0                    1   \nEntre 750 et 800€                                    2                    1   \nEntre 800 et 850€                                    1                    0   \nEntre 850 et 900€                                    0                    0   \nEntre 900 et 950€                                    1                    0   \nEntre 950 et 1000€                                   0                    0   \nEntre 1000 et 1050€                                  0                    0   \nEntre 1050 et 1100€                                  0                    0   \nEntre 1100 et 1150€                                  0                    0   \nEntre 1150 et 1200€                                  1                    1   \nEntre 1200 et 1250€                                  0                    0   \nEntre 1250 et 1300€                                  0                    0   \nEntre 1300 et 1350€                                  0                    0   \nEntre 1350 et 1400€                                  0                    1   \nEntre 1400 et 1450€                                  0                    0   \nEntre 1450 et 1500€                                  1                    0   \nEntre 1500 et 1550€                                  0                    1   \nEntre 1550 et 1600€                                  0                    1   \nEntre 1600 et 1650€                                  0                    0   \nEntre 1650 et 1700€                                  0                    0   \nEntre 1700 et 1750€                                  0                    0   \nEntre 1750 et 1800€                                  0                    0   \nEntre 1800 et 1850€                                  1                    0   \nEntre 1850 et 1900€                                  0                    0   \nEntre 1900 et 1950€                                  0                    0   \nEntre 1950 et 2000€                                  0                    0   \n\n                                   Entre 1800 et 1850€  Entre 1850 et 1900€  \\\nTranches de RI / Tranches de PFS                                              \nEntre 0 et 50 €                                     27                   24   \nEntre 50 et 100€                                     0                    0   \nEntre 100 et 150€                                    3                    3   \nEntre 150 et 200€                                    0                    0   \nEntre 200 et 250€                                    2                    1   \nEntre 250 et 300€                                    1                    1   \nEntre 300 et 350€                                    2                    2   \nEntre 350 et 400€                                    1                    2   \nEntre 400 et 450€                                    2                    1   \nEntre 450 et 500€                                    2                    1   \nEntre 500 et 550€                                    1                    0   \nEntre 550 et 600€                                    0                    0   \nEntre 600 et 650€                                    0                    1   \nEntre 650 et 700€                                    2                    0   \nEntre 700 et 750€                                    0                    1   \nEntre 750 et 800€                                    1                    0   \nEntre 800 et 850€                                    1                    0   \nEntre 850 et 900€                                    0                    0   \nEntre 900 et 950€                                    0                    0   \nEntre 950 et 1000€                                   0                    1   \nEntre 1000 et 1050€                                  0                    0   \nEntre 1050 et 1100€                                  0                    0   \nEntre 1100 et 1150€                                  0                    0   \nEntre 1150 et 1200€                                  0                    1   \nEntre 1200 et 1250€                                  0                    0   \nEntre 1250 et 1300€                                  0                    0   \nEntre 1300 et 1350€                                  0                    0   \nEntre 1350 et 1400€                                  0                    0   \nEntre 1400 et 1450€                                  0                    0   \nEntre 1450 et 1500€                                  0                    0   \nEntre 1500 et 1550€                                  0                    0   \nEntre 1550 et 1600€                                  0                    0   \nEntre 1600 et 1650€                                  2                    0   \nEntre 1650 et 1700€                                  0                    0   \nEntre 1700 et 1750€                                  0                    0   \nEntre 1750 et 1800€                                  0                    0   \nEntre 1800 et 1850€                                  0                    0   \nEntre 1850 et 1900€                                  0                    0   \nEntre 1900 et 1950€                                  0                    0   \nEntre 1950 et 2000€                                  0                    0   \n\n                                   Entre 1900 et 1950€  Entre 1950 et 2000€  \nTranches de RI / Tranches de PFS                                             \nEntre 0 et 50 €                                     22                   18  \nEntre 50 et 100€                                     2                    0  \nEntre 100 et 150€                                    4                    0  \nEntre 150 et 200€                                    1                    0  \nEntre 200 et 250€                                    2                    0  \nEntre 250 et 300€                                    1                    1  \nEntre 300 et 350€                                    1                    0  \nEntre 350 et 400€                                    0                    0  \nEntre 400 et 450€                                    3                    0  \nEntre 450 et 500€                                    0                    0  \nEntre 500 et 550€                                    1                    1  \nEntre 550 et 600€                                    1                    0  \nEntre 600 et 650€                                    1                    1  \nEntre 650 et 700€                                    0                    1  \nEntre 700 et 750€                                    0                    0  \nEntre 750 et 800€                                    1                    1  \nEntre 800 et 850€                                    1                    0  \nEntre 850 et 900€                                    0                    0  \nEntre 900 et 950€                                    0                    1  \nEntre 950 et 1000€                                   0                    0  \nEntre 1000 et 1050€                                  0                    0  \nEntre 1050 et 1100€                                  0                    0  \nEntre 1100 et 1150€                                  0                    0  \nEntre 1150 et 1200€                                  0                    0  \nEntre 1200 et 1250€                                  0                    1  \nEntre 1250 et 1300€                                  0                    1  \nEntre 1300 et 1350€                                  0                    0  \nEntre 1350 et 1400€                                  1                    0  \nEntre 1400 et 1450€                                  0                    0  \nEntre 1450 et 1500€                                  0                    0  \nEntre 1500 et 1550€                                  0                    0  \nEntre 1550 et 1600€                                  0                    0  \nEntre 1600 et 1650€                                  0                    0  \nEntre 1650 et 1700€                                  0                    0  \nEntre 1700 et 1750€                                  0                    0  \nEntre 1750 et 1800€                                  0                    0  \nEntre 1800 et 1850€                                  0                    0  \nEntre 1850 et 1900€                                  0                    0  \nEntre 1900 et 1950€                                  0                    0  \nEntre 1950 et 2000€                                  0                    0  \n\n[40 rows x 40 columns]",
      "text/html": "<div>\n<style scoped>\n    .dataframe tbody tr th:only-of-type {\n        vertical-align: middle;\n    }\n\n    .dataframe tbody tr th {\n        vertical-align: top;\n    }\n\n    .dataframe thead th {\n        text-align: right;\n    }\n</style>\n<table border=\"1\" class=\"dataframe\">\n  <thead>\n    <tr style=\"text-align: right;\">\n      <th></th>\n      <th>Entre 0 et 50 €</th>\n      <th>Entre 50 et 100€</th>\n      <th>Entre 100 et 150€</th>\n      <th>Entre 150 et 200€</th>\n      <th>Entre 200 et 250€</th>\n      <th>Entre 250 et 300€</th>\n      <th>Entre 300 et 350€</th>\n      <th>Entre 350 et 400€</th>\n      <th>Entre 400 et 450€</th>\n      <th>Entre 450 et 500€</th>\n      <th>...</th>\n      <th>Entre 1500 et 1550€</th>\n      <th>Entre 1550 et 1600€</th>\n      <th>Entre 1600 et 1650€</th>\n      <th>Entre 1650 et 1700€</th>\n      <th>Entre 1700 et 1750€</th>\n      <th>Entre 1750 et 1800€</th>\n      <th>Entre 1800 et 1850€</th>\n      <th>Entre 1850 et 1900€</th>\n      <th>Entre 1900 et 1950€</th>\n      <th>Entre 1950 et 2000€</th>\n    </tr>\n    <tr>\n      <th>Tranches de RI / Tranches de PFS</th>\n      <th></th>\n      <th></th>\n      <th></th>\n      <th></th>\n      <th></th>\n      <th></th>\n      <th></th>\n      <th></th>\n      <th></th>\n      <th></th>\n      <th></th>\n      <th></th>\n      <th></th>\n      <th></th>\n      <th></th>\n      <th></th>\n      <th></th>\n      <th></th>\n      <th></th>\n      <th></th>\n      <th></th>\n    </tr>\n  </thead>\n  <tbody>\n    <tr>\n      <th>Entre 0 et 50 €</th>\n      <td>670</td>\n      <td>33</td>\n      <td>198</td>\n      <td>300</td>\n      <td>44</td>\n      <td>85</td>\n      <td>274</td>\n      <td>156</td>\n      <td>309</td>\n      <td>4094</td>\n      <td>...</td>\n      <td>80</td>\n      <td>73</td>\n      <td>60</td>\n      <td>46</td>\n      <td>39</td>\n      <td>17</td>\n      <td>27</td>\n      <td>24</td>\n      <td>22</td>\n      <td>18</td>\n    </tr>\n    <tr>\n      <th>Entre 50 et 100€</th>\n      <td>35</td>\n      <td>1</td>\n      <td>2</td>\n      <td>6</td>\n      <td>2</td>\n      <td>4</td>\n      <td>10</td>\n      <td>16</td>\n      <td>16</td>\n      <td>22</td>\n      <td>...</td>\n      <td>1</td>\n      <td>2</td>\n      <td>2</td>\n      <td>2</td>\n      <td>1</td>\n      <td>0</td>\n      <td>0</td>\n      <td>0</td>\n      <td>2</td>\n      <td>0</td>\n    </tr>\n    <tr>\n      <th>Entre 100 et 150€</th>\n      <td>78</td>\n      <td>3</td>\n      <td>5</td>\n      <td>14</td>\n      <td>1</td>\n      <td>11</td>\n      <td>23</td>\n      <td>19</td>\n      <td>12</td>\n      <td>64</td>\n      <td>...</td>\n      <td>5</td>\n      <td>1</td>\n      <td>2</td>\n      <td>3</td>\n      <td>2</td>\n      <td>2</td>\n      <td>3</td>\n      <td>3</td>\n      <td>4</td>\n      <td>0</td>\n    </tr>\n    <tr>\n      <th>Entre 150 et 200€</th>\n      <td>82</td>\n      <td>2</td>\n      <td>14</td>\n      <td>11</td>\n      <td>5</td>\n      <td>18</td>\n      <td>22</td>\n      <td>17</td>\n      <td>16</td>\n      <td>41</td>\n      <td>...</td>\n      <td>3</td>\n      <td>2</td>\n      <td>4</td>\n      <td>3</td>\n      <td>0</td>\n      <td>0</td>\n      <td>0</td>\n      <td>0</td>\n      <td>1</td>\n      <td>0</td>\n    </tr>\n    <tr>\n      <th>Entre 200 et 250€</th>\n      <td>96</td>\n      <td>4</td>\n      <td>19</td>\n      <td>17</td>\n      <td>12</td>\n      <td>30</td>\n      <td>17</td>\n      <td>22</td>\n      <td>24</td>\n      <td>67</td>\n      <td>...</td>\n      <td>16</td>\n      <td>4</td>\n      <td>5</td>\n      <td>6</td>\n      <td>2</td>\n      <td>3</td>\n      <td>2</td>\n      <td>1</td>\n      <td>2</td>\n      <td>0</td>\n    </tr>\n    <tr>\n      <th>Entre 250 et 300€</th>\n      <td>125</td>\n      <td>2</td>\n      <td>18</td>\n      <td>18</td>\n      <td>13</td>\n      <td>15</td>\n      <td>20</td>\n      <td>25</td>\n      <td>18</td>\n      <td>78</td>\n      <td>...</td>\n      <td>0</td>\n      <td>3</td>\n      <td>3</td>\n      <td>1</td>\n      <td>2</td>\n      <td>0</td>\n      <td>1</td>\n      <td>1</td>\n      <td>1</td>\n      <td>1</td>\n    </tr>\n    <tr>\n      <th>Entre 300 et 350€</th>\n      <td>191</td>\n      <td>2</td>\n      <td>32</td>\n      <td>26</td>\n      <td>10</td>\n      <td>15</td>\n      <td>28</td>\n      <td>28</td>\n      <td>18</td>\n      <td>56</td>\n      <td>...</td>\n      <td>2</td>\n      <td>6</td>\n      <td>5</td>\n      <td>3</td>\n      <td>1</td>\n      <td>0</td>\n      <td>2</td>\n      <td>2</td>\n      <td>1</td>\n      <td>0</td>\n    </tr>\n    <tr>\n      <th>Entre 350 et 400€</th>\n      <td>173</td>\n      <td>10</td>\n      <td>31</td>\n      <td>27</td>\n      <td>14</td>\n      <td>17</td>\n      <td>109</td>\n      <td>21</td>\n      <td>24</td>\n      <td>96</td>\n      <td>...</td>\n      <td>4</td>\n      <td>1</td>\n      <td>0</td>\n      <td>2</td>\n      <td>0</td>\n      <td>0</td>\n      <td>1</td>\n      <td>2</td>\n      <td>0</td>\n      <td>0</td>\n    </tr>\n    <tr>\n      <th>Entre 400 et 450€</th>\n      <td>227</td>\n      <td>7</td>\n      <td>25</td>\n      <td>19</td>\n      <td>13</td>\n      <td>21</td>\n      <td>31</td>\n      <td>33</td>\n      <td>42</td>\n      <td>41</td>\n      <td>...</td>\n      <td>1</td>\n      <td>1</td>\n      <td>2</td>\n      <td>0</td>\n      <td>1</td>\n      <td>2</td>\n      <td>2</td>\n      <td>1</td>\n      <td>3</td>\n      <td>0</td>\n    </tr>\n    <tr>\n      <th>Entre 450 et 500€</th>\n      <td>744</td>\n      <td>7</td>\n      <td>37</td>\n      <td>44</td>\n      <td>16</td>\n      <td>25</td>\n      <td>43</td>\n      <td>28</td>\n      <td>29</td>\n      <td>37</td>\n      <td>...</td>\n      <td>5</td>\n      <td>1</td>\n      <td>2</td>\n      <td>0</td>\n      <td>2</td>\n      <td>0</td>\n      <td>2</td>\n      <td>1</td>\n      <td>0</td>\n      <td>0</td>\n    </tr>\n    <tr>\n      <th>Entre 500 et 550€</th>\n      <td>1057</td>\n      <td>12</td>\n      <td>73</td>\n      <td>60</td>\n      <td>29</td>\n      <td>53</td>\n      <td>68</td>\n      <td>16</td>\n      <td>33</td>\n      <td>75</td>\n      <td>...</td>\n      <td>1</td>\n      <td>3</td>\n      <td>3</td>\n      <td>4</td>\n      <td>0</td>\n      <td>0</td>\n      <td>1</td>\n      <td>0</td>\n      <td>1</td>\n      <td>1</td>\n    </tr>\n    <tr>\n      <th>Entre 550 et 600€</th>\n      <td>394</td>\n      <td>11</td>\n      <td>38</td>\n      <td>24</td>\n      <td>30</td>\n      <td>31</td>\n      <td>35</td>\n      <td>17</td>\n      <td>26</td>\n      <td>30</td>\n      <td>...</td>\n      <td>3</td>\n      <td>0</td>\n      <td>0</td>\n      <td>2</td>\n      <td>2</td>\n      <td>1</td>\n      <td>0</td>\n      <td>0</td>\n      <td>1</td>\n      <td>0</td>\n    </tr>\n    <tr>\n      <th>Entre 600 et 650€</th>\n      <td>759</td>\n      <td>10</td>\n      <td>62</td>\n      <td>63</td>\n      <td>46</td>\n      <td>46</td>\n      <td>61</td>\n      <td>34</td>\n      <td>34</td>\n      <td>66</td>\n      <td>...</td>\n      <td>1</td>\n      <td>1</td>\n      <td>2</td>\n      <td>1</td>\n      <td>3</td>\n      <td>1</td>\n      <td>0</td>\n      <td>1</td>\n      <td>1</td>\n      <td>1</td>\n    </tr>\n    <tr>\n      <th>Entre 650 et 700€</th>\n      <td>829</td>\n      <td>16</td>\n      <td>107</td>\n      <td>66</td>\n      <td>57</td>\n      <td>38</td>\n      <td>78</td>\n      <td>30</td>\n      <td>32</td>\n      <td>63</td>\n      <td>...</td>\n      <td>3</td>\n      <td>0</td>\n      <td>1</td>\n      <td>2</td>\n      <td>3</td>\n      <td>1</td>\n      <td>2</td>\n      <td>0</td>\n      <td>0</td>\n      <td>1</td>\n    </tr>\n    <tr>\n      <th>Entre 700 et 750€</th>\n      <td>1090</td>\n      <td>27</td>\n      <td>176</td>\n      <td>69</td>\n      <td>70</td>\n      <td>56</td>\n      <td>75</td>\n      <td>44</td>\n      <td>21</td>\n      <td>56</td>\n      <td>...</td>\n      <td>0</td>\n      <td>2</td>\n      <td>0</td>\n      <td>0</td>\n      <td>0</td>\n      <td>1</td>\n      <td>0</td>\n      <td>1</td>\n      <td>0</td>\n      <td>0</td>\n    </tr>\n    <tr>\n      <th>Entre 750 et 800€</th>\n      <td>1099</td>\n      <td>17</td>\n      <td>73</td>\n      <td>55</td>\n      <td>46</td>\n      <td>39</td>\n      <td>48</td>\n      <td>27</td>\n      <td>22</td>\n      <td>47</td>\n      <td>...</td>\n      <td>2</td>\n      <td>3</td>\n      <td>1</td>\n      <td>0</td>\n      <td>2</td>\n      <td>1</td>\n      <td>1</td>\n      <td>0</td>\n      <td>1</td>\n      <td>1</td>\n    </tr>\n    <tr>\n      <th>Entre 800 et 850€</th>\n      <td>2093</td>\n      <td>21</td>\n      <td>127</td>\n      <td>87</td>\n      <td>47</td>\n      <td>39</td>\n      <td>53</td>\n      <td>39</td>\n      <td>45</td>\n      <td>62</td>\n      <td>...</td>\n      <td>2</td>\n      <td>1</td>\n      <td>1</td>\n      <td>1</td>\n      <td>1</td>\n      <td>0</td>\n      <td>1</td>\n      <td>0</td>\n      <td>1</td>\n      <td>0</td>\n    </tr>\n    <tr>\n      <th>Entre 850 et 900€</th>\n      <td>1536</td>\n      <td>18</td>\n      <td>108</td>\n      <td>84</td>\n      <td>34</td>\n      <td>36</td>\n      <td>62</td>\n      <td>29</td>\n      <td>30</td>\n      <td>52</td>\n      <td>...</td>\n      <td>1</td>\n      <td>0</td>\n      <td>1</td>\n      <td>1</td>\n      <td>0</td>\n      <td>0</td>\n      <td>0</td>\n      <td>0</td>\n      <td>0</td>\n      <td>0</td>\n    </tr>\n    <tr>\n      <th>Entre 900 et 950€</th>\n      <td>2118</td>\n      <td>21</td>\n      <td>128</td>\n      <td>132</td>\n      <td>32</td>\n      <td>42</td>\n      <td>85</td>\n      <td>37</td>\n      <td>28</td>\n      <td>60</td>\n      <td>...</td>\n      <td>1</td>\n      <td>1</td>\n      <td>1</td>\n      <td>0</td>\n      <td>1</td>\n      <td>0</td>\n      <td>0</td>\n      <td>0</td>\n      <td>0</td>\n      <td>1</td>\n    </tr>\n    <tr>\n      <th>Entre 950 et 1000€</th>\n      <td>1863</td>\n      <td>27</td>\n      <td>111</td>\n      <td>113</td>\n      <td>29</td>\n      <td>30</td>\n      <td>66</td>\n      <td>29</td>\n      <td>32</td>\n      <td>54</td>\n      <td>...</td>\n      <td>4</td>\n      <td>2</td>\n      <td>1</td>\n      <td>1</td>\n      <td>0</td>\n      <td>0</td>\n      <td>0</td>\n      <td>1</td>\n      <td>0</td>\n      <td>0</td>\n    </tr>\n    <tr>\n      <th>Entre 1000 et 1050€</th>\n      <td>2385</td>\n      <td>21</td>\n      <td>168</td>\n      <td>128</td>\n      <td>28</td>\n      <td>56</td>\n      <td>88</td>\n      <td>28</td>\n      <td>24</td>\n      <td>63</td>\n      <td>...</td>\n      <td>0</td>\n      <td>2</td>\n      <td>1</td>\n      <td>0</td>\n      <td>0</td>\n      <td>0</td>\n      <td>0</td>\n      <td>0</td>\n      <td>0</td>\n      <td>0</td>\n    </tr>\n    <tr>\n      <th>Entre 1050 et 1100€</th>\n      <td>1598</td>\n      <td>16</td>\n      <td>120</td>\n      <td>98</td>\n      <td>29</td>\n      <td>33</td>\n      <td>58</td>\n      <td>21</td>\n      <td>16</td>\n      <td>35</td>\n      <td>...</td>\n      <td>1</td>\n      <td>0</td>\n      <td>0</td>\n      <td>1</td>\n      <td>0</td>\n      <td>0</td>\n      <td>0</td>\n      <td>0</td>\n      <td>0</td>\n      <td>0</td>\n    </tr>\n    <tr>\n      <th>Entre 1100 et 1150€</th>\n      <td>2901</td>\n      <td>24</td>\n      <td>176</td>\n      <td>161</td>\n      <td>34</td>\n      <td>48</td>\n      <td>95</td>\n      <td>34</td>\n      <td>24</td>\n      <td>71</td>\n      <td>...</td>\n      <td>2</td>\n      <td>0</td>\n      <td>1</td>\n      <td>0</td>\n      <td>0</td>\n      <td>0</td>\n      <td>0</td>\n      <td>0</td>\n      <td>0</td>\n      <td>0</td>\n    </tr>\n    <tr>\n      <th>Entre 1150 et 1200€</th>\n      <td>2431</td>\n      <td>35</td>\n      <td>182</td>\n      <td>127</td>\n      <td>34</td>\n      <td>44</td>\n      <td>67</td>\n      <td>22</td>\n      <td>32</td>\n      <td>57</td>\n      <td>...</td>\n      <td>0</td>\n      <td>0</td>\n      <td>0</td>\n      <td>0</td>\n      <td>1</td>\n      <td>1</td>\n      <td>0</td>\n      <td>1</td>\n      <td>0</td>\n      <td>0</td>\n    </tr>\n    <tr>\n      <th>Entre 1200 et 1250€</th>\n      <td>4285</td>\n      <td>56</td>\n      <td>247</td>\n      <td>184</td>\n      <td>48</td>\n      <td>58</td>\n      <td>122</td>\n      <td>48</td>\n      <td>43</td>\n      <td>88</td>\n      <td>...</td>\n      <td>2</td>\n      <td>3</td>\n      <td>1</td>\n      <td>0</td>\n      <td>0</td>\n      <td>0</td>\n      <td>0</td>\n      <td>0</td>\n      <td>0</td>\n      <td>1</td>\n    </tr>\n    <tr>\n      <th>Entre 1250 et 1300€</th>\n      <td>2454</td>\n      <td>42</td>\n      <td>162</td>\n      <td>134</td>\n      <td>29</td>\n      <td>51</td>\n      <td>67</td>\n      <td>21</td>\n      <td>28</td>\n      <td>58</td>\n      <td>...</td>\n      <td>0</td>\n      <td>0</td>\n      <td>4</td>\n      <td>0</td>\n      <td>0</td>\n      <td>0</td>\n      <td>0</td>\n      <td>0</td>\n      <td>0</td>\n      <td>1</td>\n    </tr>\n    <tr>\n      <th>Entre 1300 et 1350€</th>\n      <td>3697</td>\n      <td>43</td>\n      <td>212</td>\n      <td>150</td>\n      <td>30</td>\n      <td>42</td>\n      <td>95</td>\n      <td>54</td>\n      <td>26</td>\n      <td>81</td>\n      <td>...</td>\n      <td>1</td>\n      <td>0</td>\n      <td>0</td>\n      <td>0</td>\n      <td>0</td>\n      <td>0</td>\n      <td>0</td>\n      <td>0</td>\n      <td>0</td>\n      <td>0</td>\n    </tr>\n    <tr>\n      <th>Entre 1350 et 1400€</th>\n      <td>2445</td>\n      <td>34</td>\n      <td>145</td>\n      <td>118</td>\n      <td>23</td>\n      <td>37</td>\n      <td>70</td>\n      <td>25</td>\n      <td>22</td>\n      <td>46</td>\n      <td>...</td>\n      <td>0</td>\n      <td>1</td>\n      <td>1</td>\n      <td>1</td>\n      <td>0</td>\n      <td>1</td>\n      <td>0</td>\n      <td>0</td>\n      <td>1</td>\n      <td>0</td>\n    </tr>\n    <tr>\n      <th>Entre 1400 et 1450€</th>\n      <td>3468</td>\n      <td>41</td>\n      <td>220</td>\n      <td>141</td>\n      <td>36</td>\n      <td>43</td>\n      <td>104</td>\n      <td>34</td>\n      <td>23</td>\n      <td>73</td>\n      <td>...</td>\n      <td>0</td>\n      <td>1</td>\n      <td>1</td>\n      <td>0</td>\n      <td>0</td>\n      <td>0</td>\n      <td>0</td>\n      <td>0</td>\n      <td>0</td>\n      <td>0</td>\n    </tr>\n    <tr>\n      <th>Entre 1450 et 1500€</th>\n      <td>2305</td>\n      <td>31</td>\n      <td>142</td>\n      <td>101</td>\n      <td>19</td>\n      <td>47</td>\n      <td>65</td>\n      <td>23</td>\n      <td>19</td>\n      <td>67</td>\n      <td>...</td>\n      <td>0</td>\n      <td>0</td>\n      <td>0</td>\n      <td>0</td>\n      <td>1</td>\n      <td>0</td>\n      <td>0</td>\n      <td>0</td>\n      <td>0</td>\n      <td>0</td>\n    </tr>\n    <tr>\n      <th>Entre 1500 et 1550€</th>\n      <td>3950</td>\n      <td>37</td>\n      <td>249</td>\n      <td>174</td>\n      <td>33</td>\n      <td>64</td>\n      <td>105</td>\n      <td>37</td>\n      <td>33</td>\n      <td>108</td>\n      <td>...</td>\n      <td>2</td>\n      <td>0</td>\n      <td>1</td>\n      <td>1</td>\n      <td>0</td>\n      <td>1</td>\n      <td>0</td>\n      <td>0</td>\n      <td>0</td>\n      <td>0</td>\n    </tr>\n    <tr>\n      <th>Entre 1550 et 1600€</th>\n      <td>1673</td>\n      <td>14</td>\n      <td>144</td>\n      <td>85</td>\n      <td>23</td>\n      <td>35</td>\n      <td>51</td>\n      <td>9</td>\n      <td>23</td>\n      <td>56</td>\n      <td>...</td>\n      <td>0</td>\n      <td>0</td>\n      <td>0</td>\n      <td>0</td>\n      <td>0</td>\n      <td>1</td>\n      <td>0</td>\n      <td>0</td>\n      <td>0</td>\n      <td>0</td>\n    </tr>\n    <tr>\n      <th>Entre 1600 et 1650€</th>\n      <td>2734</td>\n      <td>26</td>\n      <td>185</td>\n      <td>132</td>\n      <td>22</td>\n      <td>38</td>\n      <td>90</td>\n      <td>27</td>\n      <td>26</td>\n      <td>85</td>\n      <td>...</td>\n      <td>1</td>\n      <td>1</td>\n      <td>0</td>\n      <td>0</td>\n      <td>0</td>\n      <td>0</td>\n      <td>2</td>\n      <td>0</td>\n      <td>0</td>\n      <td>0</td>\n    </tr>\n    <tr>\n      <th>Entre 1650 et 1700€</th>\n      <td>1482</td>\n      <td>15</td>\n      <td>125</td>\n      <td>73</td>\n      <td>16</td>\n      <td>21</td>\n      <td>49</td>\n      <td>19</td>\n      <td>15</td>\n      <td>35</td>\n      <td>...</td>\n      <td>0</td>\n      <td>0</td>\n      <td>0</td>\n      <td>0</td>\n      <td>0</td>\n      <td>0</td>\n      <td>0</td>\n      <td>0</td>\n      <td>0</td>\n      <td>0</td>\n    </tr>\n    <tr>\n      <th>Entre 1700 et 1750€</th>\n      <td>2118</td>\n      <td>21</td>\n      <td>165</td>\n      <td>105</td>\n      <td>17</td>\n      <td>31</td>\n      <td>75</td>\n      <td>22</td>\n      <td>21</td>\n      <td>62</td>\n      <td>...</td>\n      <td>1</td>\n      <td>0</td>\n      <td>2</td>\n      <td>0</td>\n      <td>0</td>\n      <td>0</td>\n      <td>0</td>\n      <td>0</td>\n      <td>0</td>\n      <td>0</td>\n    </tr>\n    <tr>\n      <th>Entre 1750 et 1800€</th>\n      <td>1156</td>\n      <td>13</td>\n      <td>111</td>\n      <td>53</td>\n      <td>11</td>\n      <td>17</td>\n      <td>32</td>\n      <td>17</td>\n      <td>14</td>\n      <td>27</td>\n      <td>...</td>\n      <td>0</td>\n      <td>0</td>\n      <td>0</td>\n      <td>0</td>\n      <td>0</td>\n      <td>0</td>\n      <td>0</td>\n      <td>0</td>\n      <td>0</td>\n      <td>0</td>\n    </tr>\n    <tr>\n      <th>Entre 1800 et 1850€</th>\n      <td>1911</td>\n      <td>19</td>\n      <td>155</td>\n      <td>97</td>\n      <td>6</td>\n      <td>34</td>\n      <td>67</td>\n      <td>23</td>\n      <td>14</td>\n      <td>70</td>\n      <td>...</td>\n      <td>1</td>\n      <td>0</td>\n      <td>0</td>\n      <td>0</td>\n      <td>1</td>\n      <td>0</td>\n      <td>0</td>\n      <td>0</td>\n      <td>0</td>\n      <td>0</td>\n    </tr>\n    <tr>\n      <th>Entre 1850 et 1900€</th>\n      <td>836</td>\n      <td>15</td>\n      <td>84</td>\n      <td>40</td>\n      <td>7</td>\n      <td>19</td>\n      <td>19</td>\n      <td>13</td>\n      <td>5</td>\n      <td>37</td>\n      <td>...</td>\n      <td>0</td>\n      <td>0</td>\n      <td>1</td>\n      <td>0</td>\n      <td>0</td>\n      <td>0</td>\n      <td>0</td>\n      <td>0</td>\n      <td>0</td>\n      <td>0</td>\n    </tr>\n    <tr>\n      <th>Entre 1900 et 1950€</th>\n      <td>1073</td>\n      <td>10</td>\n      <td>118</td>\n      <td>57</td>\n      <td>10</td>\n      <td>16</td>\n      <td>43</td>\n      <td>4</td>\n      <td>5</td>\n      <td>37</td>\n      <td>...</td>\n      <td>0</td>\n      <td>0</td>\n      <td>0</td>\n      <td>0</td>\n      <td>0</td>\n      <td>0</td>\n      <td>0</td>\n      <td>0</td>\n      <td>0</td>\n      <td>0</td>\n    </tr>\n    <tr>\n      <th>Entre 1950 et 2000€</th>\n      <td>647</td>\n      <td>7</td>\n      <td>75</td>\n      <td>38</td>\n      <td>4</td>\n      <td>21</td>\n      <td>28</td>\n      <td>6</td>\n      <td>6</td>\n      <td>28</td>\n      <td>...</td>\n      <td>0</td>\n      <td>1</td>\n      <td>1</td>\n      <td>0</td>\n      <td>0</td>\n      <td>0</td>\n      <td>0</td>\n      <td>0</td>\n      <td>0</td>\n      <td>0</td>\n    </tr>\n  </tbody>\n</table>\n<p>40 rows × 40 columns</p>\n</div>"
     },
     "execution_count": 12,
     "metadata": {},
     "output_type": "execute_result"
    }
   ],
   "source": [
    "df"
   ],
   "metadata": {
    "collapsed": false,
    "pycharm": {
     "name": "#%%\n"
    }
   }
  },
  {
   "cell_type": "code",
   "execution_count": 13,
   "outputs": [
    {
     "data": {
      "application/vnd.plotly.v1+json": {
       "data": [
        {
         "x": [
          "Entre 0 et 50 €",
          "Entre 50 et 100€",
          "Entre 100 et 150€",
          "Entre 150 et 200€",
          "Entre 200 et 250€",
          "Entre 250 et 300€",
          "Entre 300 et 350€",
          "Entre 350 et 400€",
          "Entre 400 et 450€",
          "Entre 450 et 500€",
          "Entre 500 et 550€",
          "Entre 550 et 600€",
          "Entre 600 et 650€",
          "Entre 650 et 700€",
          "Entre 700 et 750€",
          "Entre 750 et 800€",
          "Entre 800 et 850€",
          "Entre 850 et 900€",
          "Entre 900 et 950€",
          "Entre 950 et 1000€",
          "Entre 1000 et 1050€",
          "Entre 1050 et 1100€",
          "Entre 1100 et 1150€",
          "Entre 1150 et 1200€",
          "Entre 1200 et 1250€",
          "Entre 1250 et 1300€",
          "Entre 1300 et 1350€",
          "Entre 1350 et 1400€",
          "Entre 1400 et 1450€",
          "Entre 1450 et 1500€",
          "Entre 1500 et 1550€",
          "Entre 1550 et 1600€",
          "Entre 1600 et 1650€",
          "Entre 1650 et 1700€",
          "Entre 1700 et 1750€",
          "Entre 1750 et 1800€",
          "Entre 1800 et 1850€",
          "Entre 1850 et 1900€",
          "Entre 1900 et 1950€",
          "Entre 1950 et 2000€"
         ],
         "y": [
          "Entre 0 et 50 €",
          "Entre 50 et 100€",
          "Entre 100 et 150€",
          "Entre 150 et 200€",
          "Entre 200 et 250€",
          "Entre 250 et 300€",
          "Entre 300 et 350€",
          "Entre 350 et 400€",
          "Entre 400 et 450€",
          "Entre 450 et 500€",
          "Entre 500 et 550€",
          "Entre 550 et 600€",
          "Entre 600 et 650€",
          "Entre 650 et 700€",
          "Entre 700 et 750€",
          "Entre 750 et 800€",
          "Entre 800 et 850€",
          "Entre 850 et 900€",
          "Entre 900 et 950€",
          "Entre 950 et 1000€",
          "Entre 1000 et 1050€",
          "Entre 1050 et 1100€",
          "Entre 1100 et 1150€",
          "Entre 1150 et 1200€",
          "Entre 1200 et 1250€",
          "Entre 1250 et 1300€",
          "Entre 1300 et 1350€",
          "Entre 1350 et 1400€",
          "Entre 1400 et 1450€",
          "Entre 1450 et 1500€",
          "Entre 1500 et 1550€",
          "Entre 1550 et 1600€",
          "Entre 1600 et 1650€",
          "Entre 1650 et 1700€",
          "Entre 1700 et 1750€",
          "Entre 1750 et 1800€",
          "Entre 1800 et 1850€",
          "Entre 1850 et 1900€",
          "Entre 1900 et 1950€",
          "Entre 1950 et 2000€"
         ],
         "z": [
          [
           670,
           33,
           198,
           300,
           44,
           85,
           274,
           156,
           309,
           4094,
           1120,
           461,
           403,
           762,
           528,
           481,
           3124,
           618,
           729,
           770,
           357,
           196,
           229,
           201,
           206,
           167,
           119,
           129,
           108,
           83,
           80,
           73,
           60,
           46,
           39,
           17,
           27,
           24,
           22,
           18
          ],
          [
           35,
           1,
           2,
           6,
           2,
           4,
           10,
           16,
           16,
           22,
           8,
           8,
           12,
           22,
           26,
           20,
           36,
           10,
           9,
           10,
           6,
           4,
           3,
           11,
           4,
           4,
           4,
           3,
           4,
           2,
           1,
           2,
           2,
           2,
           1,
           0,
           0,
           0,
           2,
           0
          ],
          [
           78,
           3,
           5,
           14,
           1,
           11,
           23,
           19,
           12,
           64,
           27,
           121,
           65,
           98,
           111,
           52,
           275,
           66,
           82,
           51,
           27,
           21,
           23,
           16,
           10,
           9,
           14,
           4,
           3,
           3,
           5,
           1,
           2,
           3,
           2,
           2,
           3,
           3,
           4,
           0
          ],
          [
           82,
           2,
           14,
           11,
           5,
           18,
           22,
           17,
           16,
           41,
           32,
           30,
           34,
           29,
           27,
           23,
           164,
           19,
           17,
           27,
           13,
           10,
           9,
           9,
           8,
           2,
           6,
           4,
           5,
           6,
           3,
           2,
           4,
           3,
           0,
           0,
           0,
           0,
           1,
           0
          ],
          [
           96,
           4,
           19,
           17,
           12,
           30,
           17,
           22,
           24,
           67,
           28,
           36,
           101,
           39,
           32,
           50,
           140,
           36,
           47,
           53,
           45,
           28,
           32,
           18,
           28,
           16,
           9,
           12,
           12,
           12,
           16,
           4,
           5,
           6,
           2,
           3,
           2,
           1,
           2,
           0
          ],
          [
           125,
           2,
           18,
           18,
           13,
           15,
           20,
           25,
           18,
           78,
           35,
           23,
           15,
           25,
           22,
           17,
           59,
           9,
           12,
           17,
           17,
           15,
           11,
           13,
           6,
           9,
           8,
           10,
           3,
           3,
           0,
           3,
           3,
           1,
           2,
           0,
           1,
           1,
           1,
           1
          ],
          [
           191,
           2,
           32,
           26,
           10,
           15,
           28,
           28,
           18,
           56,
           44,
           37,
           26,
           27,
           21,
           30,
           62,
           24,
           49,
           38,
           20,
           16,
           22,
           11,
           8,
           12,
           11,
           9,
           6,
           4,
           2,
           6,
           5,
           3,
           1,
           0,
           2,
           2,
           1,
           0
          ],
          [
           173,
           10,
           31,
           27,
           14,
           17,
           109,
           21,
           24,
           96,
           26,
           39,
           40,
           47,
           30,
           18,
           45,
           17,
           19,
           19,
           13,
           12,
           16,
           8,
           9,
           5,
           7,
           5,
           5,
           2,
           4,
           1,
           0,
           2,
           0,
           0,
           1,
           2,
           0,
           0
          ],
          [
           227,
           7,
           25,
           19,
           13,
           21,
           31,
           33,
           42,
           41,
           29,
           18,
           23,
           19,
           16,
           23,
           35,
           17,
           22,
           11,
           10,
           19,
           8,
           7,
           6,
           6,
           7,
           3,
           0,
           1,
           1,
           1,
           2,
           0,
           1,
           2,
           2,
           1,
           3,
           0
          ],
          [
           744,
           7,
           37,
           44,
           16,
           25,
           43,
           28,
           29,
           37,
           24,
           29,
           17,
           31,
           16,
           9,
           50,
           11,
           18,
           15,
           11,
           10,
           14,
           12,
           5,
           6,
           11,
           3,
           4,
           3,
           5,
           1,
           2,
           0,
           2,
           0,
           2,
           1,
           0,
           0
          ],
          [
           1057,
           12,
           73,
           60,
           29,
           53,
           68,
           16,
           33,
           75,
           33,
           39,
           34,
           33,
           28,
           26,
           84,
           13,
           32,
           12,
           13,
           10,
           10,
           8,
           10,
           6,
           8,
           2,
           3,
           3,
           1,
           3,
           3,
           4,
           0,
           0,
           1,
           0,
           1,
           1
          ],
          [
           394,
           11,
           38,
           24,
           30,
           31,
           35,
           17,
           26,
           30,
           29,
           26,
           23,
           16,
           15,
           12,
           26,
           9,
           6,
           11,
           3,
           5,
           7,
           2,
           6,
           4,
           4,
           4,
           2,
           5,
           3,
           0,
           0,
           2,
           2,
           1,
           0,
           0,
           1,
           0
          ],
          [
           759,
           10,
           62,
           63,
           46,
           46,
           61,
           34,
           34,
           66,
           34,
           32,
           27,
           20,
           18,
           21,
           36,
           10,
           13,
           8,
           8,
           3,
           10,
           3,
           4,
           4,
           2,
           2,
           4,
           3,
           1,
           1,
           2,
           1,
           3,
           1,
           0,
           1,
           1,
           1
          ],
          [
           829,
           16,
           107,
           66,
           57,
           38,
           78,
           30,
           32,
           63,
           33,
           27,
           32,
           24,
           19,
           8,
           29,
           13,
           18,
           20,
           7,
           7,
           4,
           6,
           1,
           6,
           4,
           3,
           1,
           3,
           3,
           0,
           1,
           2,
           3,
           1,
           2,
           0,
           0,
           1
          ],
          [
           1090,
           27,
           176,
           69,
           70,
           56,
           75,
           44,
           21,
           56,
           40,
           31,
           15,
           17,
           14,
           14,
           29,
           9,
           18,
           8,
           4,
           7,
           7,
           7,
           3,
           3,
           4,
           1,
           3,
           1,
           0,
           2,
           0,
           0,
           0,
           1,
           0,
           1,
           0,
           0
          ],
          [
           1099,
           17,
           73,
           55,
           46,
           39,
           48,
           27,
           22,
           47,
           30,
           15,
           16,
           13,
           10,
           9,
           20,
           13,
           9,
           6,
           7,
           6,
           4,
           4,
           4,
           4,
           4,
           1,
           0,
           1,
           2,
           3,
           1,
           0,
           2,
           1,
           1,
           0,
           1,
           1
          ],
          [
           2093,
           21,
           127,
           87,
           47,
           39,
           53,
           39,
           45,
           62,
           30,
           18,
           29,
           23,
           18,
           15,
           38,
           13,
           7,
           12,
           4,
           4,
           3,
           3,
           3,
           2,
           3,
           1,
           4,
           1,
           2,
           1,
           1,
           1,
           1,
           0,
           1,
           0,
           1,
           0
          ],
          [
           1536,
           18,
           108,
           84,
           34,
           36,
           62,
           29,
           30,
           52,
           28,
           23,
           19,
           18,
           9,
           10,
           21,
           14,
           16,
           8,
           5,
           3,
           2,
           7,
           1,
           4,
           3,
           0,
           0,
           1,
           1,
           0,
           1,
           1,
           0,
           0,
           0,
           0,
           0,
           0
          ],
          [
           2118,
           21,
           128,
           132,
           32,
           42,
           85,
           37,
           28,
           60,
           46,
           16,
           25,
           25,
           13,
           9,
           14,
           16,
           11,
           5,
           3,
           7,
           8,
           6,
           5,
           1,
           2,
           1,
           0,
           0,
           1,
           1,
           1,
           0,
           1,
           0,
           0,
           0,
           0,
           1
          ],
          [
           1863,
           27,
           111,
           113,
           29,
           30,
           66,
           29,
           32,
           54,
           18,
           19,
           24,
           15,
           12,
           7,
           18,
           8,
           9,
           16,
           4,
           3,
           6,
           2,
           2,
           2,
           0,
           1,
           0,
           1,
           4,
           2,
           1,
           1,
           0,
           0,
           0,
           1,
           0,
           0
          ],
          [
           2385,
           21,
           168,
           128,
           28,
           56,
           88,
           28,
           24,
           63,
           39,
           28,
           26,
           21,
           14,
           15,
           19,
           14,
           12,
           11,
           6,
           3,
           4,
           1,
           2,
           1,
           3,
           0,
           2,
           0,
           0,
           2,
           1,
           0,
           0,
           0,
           0,
           0,
           0,
           0
          ],
          [
           1598,
           16,
           120,
           98,
           29,
           33,
           58,
           21,
           16,
           35,
           17,
           19,
           16,
           14,
           11,
           9,
           8,
           9,
           6,
           13,
           1,
           2,
           5,
           5,
           5,
           1,
           1,
           1,
           0,
           0,
           1,
           0,
           0,
           1,
           0,
           0,
           0,
           0,
           0,
           0
          ],
          [
           2901,
           24,
           176,
           161,
           34,
           48,
           95,
           34,
           24,
           71,
           41,
           36,
           24,
           23,
           18,
           13,
           23,
           6,
           9,
           5,
           9,
           1,
           4,
           3,
           6,
           2,
           3,
           1,
           1,
           1,
           2,
           0,
           1,
           0,
           0,
           0,
           0,
           0,
           0,
           0
          ],
          [
           2431,
           35,
           182,
           127,
           34,
           44,
           67,
           22,
           32,
           57,
           38,
           21,
           27,
           16,
           12,
           11,
           15,
           5,
           7,
           14,
           2,
           4,
           3,
           4,
           1,
           5,
           2,
           1,
           2,
           1,
           0,
           0,
           0,
           0,
           1,
           1,
           0,
           1,
           0,
           0
          ],
          [
           4285,
           56,
           247,
           184,
           48,
           58,
           122,
           48,
           43,
           88,
           45,
           39,
           29,
           25,
           18,
           11,
           37,
           9,
           13,
           10,
           11,
           5,
           3,
           4,
           4,
           0,
           4,
           2,
           2,
           2,
           2,
           3,
           1,
           0,
           0,
           0,
           0,
           0,
           0,
           1
          ],
          [
           2454,
           42,
           162,
           134,
           29,
           51,
           67,
           21,
           28,
           58,
           27,
           15,
           21,
           19,
           18,
           10,
           13,
           13,
           10,
           4,
           6,
           3,
           0,
           1,
           5,
           1,
           1,
           1,
           0,
           1,
           0,
           0,
           4,
           0,
           0,
           0,
           0,
           0,
           0,
           1
          ],
          [
           3697,
           43,
           212,
           150,
           30,
           42,
           95,
           54,
           26,
           81,
           32,
           25,
           36,
           25,
           23,
           13,
           24,
           15,
           8,
           8,
           5,
           2,
           4,
           1,
           5,
           1,
           2,
           1,
           0,
           1,
           1,
           0,
           0,
           0,
           0,
           0,
           0,
           0,
           0,
           0
          ],
          [
           2445,
           34,
           145,
           118,
           23,
           37,
           70,
           25,
           22,
           46,
           29,
           13,
           13,
           13,
           17,
           8,
           10,
           14,
           7,
           5,
           4,
           2,
           3,
           2,
           3,
           0,
           0,
           1,
           0,
           0,
           0,
           1,
           1,
           1,
           0,
           1,
           0,
           0,
           1,
           0
          ],
          [
           3468,
           41,
           220,
           141,
           36,
           43,
           104,
           34,
           23,
           73,
           46,
           32,
           26,
           27,
           24,
           15,
           26,
           7,
           7,
           10,
           3,
           5,
           3,
           0,
           1,
           3,
           1,
           1,
           4,
           0,
           0,
           1,
           1,
           0,
           0,
           0,
           0,
           0,
           0,
           0
          ],
          [
           2305,
           31,
           142,
           101,
           19,
           47,
           65,
           23,
           19,
           67,
           24,
           19,
           19,
           7,
           15,
           8,
           9,
           13,
           11,
           1,
           2,
           5,
           1,
           2,
           0,
           0,
           1,
           0,
           1,
           0,
           0,
           0,
           0,
           0,
           1,
           0,
           0,
           0,
           0,
           0
          ],
          [
           3950,
           37,
           249,
           174,
           33,
           64,
           105,
           37,
           33,
           108,
           56,
           47,
           47,
           24,
           25,
           14,
           23,
           16,
           11,
           6,
           4,
           7,
           7,
           6,
           3,
           1,
           3,
           2,
           0,
           1,
           2,
           0,
           1,
           1,
           0,
           1,
           0,
           0,
           0,
           0
          ],
          [
           1673,
           14,
           144,
           85,
           23,
           35,
           51,
           9,
           23,
           56,
           24,
           19,
           22,
           18,
           10,
           7,
           9,
           7,
           7,
           4,
           4,
           1,
           2,
           0,
           6,
           0,
           4,
           1,
           0,
           1,
           0,
           0,
           0,
           0,
           0,
           1,
           0,
           0,
           0,
           0
          ],
          [
           2734,
           26,
           185,
           132,
           22,
           38,
           90,
           27,
           26,
           85,
           38,
           14,
           37,
           23,
           19,
           15,
           17,
           11,
           6,
           4,
           3,
           2,
           7,
           1,
           3,
           0,
           1,
           2,
           0,
           0,
           1,
           1,
           0,
           0,
           0,
           0,
           2,
           0,
           0,
           0
          ],
          [
           1482,
           15,
           125,
           73,
           16,
           21,
           49,
           19,
           15,
           35,
           15,
           16,
           18,
           13,
           8,
           5,
           7,
           8,
           1,
           2,
           3,
           4,
           2,
           1,
           1,
           4,
           1,
           0,
           1,
           0,
           0,
           0,
           0,
           0,
           0,
           0,
           0,
           0,
           0,
           0
          ],
          [
           2118,
           21,
           165,
           105,
           17,
           31,
           75,
           22,
           21,
           62,
           26,
           20,
           15,
           16,
           14,
           15,
           14,
           7,
           3,
           6,
           5,
           4,
           3,
           1,
           1,
           2,
           1,
           1,
           2,
           1,
           1,
           0,
           2,
           0,
           0,
           0,
           0,
           0,
           0,
           0
          ],
          [
           1156,
           13,
           111,
           53,
           11,
           17,
           32,
           17,
           14,
           27,
           12,
           13,
           14,
           11,
           8,
           8,
           6,
           6,
           2,
           4,
           5,
           5,
           1,
           2,
           1,
           0,
           0,
           2,
           0,
           1,
           0,
           0,
           0,
           0,
           0,
           0,
           0,
           0,
           0,
           0
          ],
          [
           1911,
           19,
           155,
           97,
           6,
           34,
           67,
           23,
           14,
           70,
           29,
           18,
           28,
           18,
           16,
           9,
           11,
           6,
           4,
           4,
           5,
           5,
           5,
           0,
           3,
           3,
           3,
           3,
           0,
           1,
           1,
           0,
           0,
           0,
           1,
           0,
           0,
           0,
           0,
           0
          ],
          [
           836,
           15,
           84,
           40,
           7,
           19,
           19,
           13,
           5,
           37,
           12,
           14,
           10,
           8,
           6,
           4,
           4,
           4,
           4,
           3,
           1,
           0,
           1,
           1,
           1,
           1,
           0,
           0,
           0,
           0,
           0,
           0,
           1,
           0,
           0,
           0,
           0,
           0,
           0,
           0
          ],
          [
           1073,
           10,
           118,
           57,
           10,
           16,
           43,
           4,
           5,
           37,
           16,
           9,
           17,
           14,
           4,
           8,
           10,
           3,
           4,
           3,
           0,
           1,
           1,
           1,
           1,
           1,
           1,
           0,
           0,
           0,
           0,
           0,
           0,
           0,
           0,
           0,
           0,
           0,
           0,
           0
          ],
          [
           647,
           7,
           75,
           38,
           4,
           21,
           28,
           6,
           6,
           28,
           12,
           5,
           5,
           7,
           3,
           6,
           10,
           7,
           6,
           2,
           1,
           0,
           1,
           0,
           0,
           0,
           0,
           0,
           0,
           0,
           0,
           1,
           1,
           0,
           0,
           0,
           0,
           0,
           0,
           0
          ]
         ],
         "type": "surface"
        }
       ],
       "layout": {
        "template": {
         "data": {
          "histogram2dcontour": [
           {
            "type": "histogram2dcontour",
            "colorbar": {
             "outlinewidth": 0,
             "ticks": ""
            },
            "colorscale": [
             [
              0.0,
              "#0d0887"
             ],
             [
              0.1111111111111111,
              "#46039f"
             ],
             [
              0.2222222222222222,
              "#7201a8"
             ],
             [
              0.3333333333333333,
              "#9c179e"
             ],
             [
              0.4444444444444444,
              "#bd3786"
             ],
             [
              0.5555555555555556,
              "#d8576b"
             ],
             [
              0.6666666666666666,
              "#ed7953"
             ],
             [
              0.7777777777777778,
              "#fb9f3a"
             ],
             [
              0.8888888888888888,
              "#fdca26"
             ],
             [
              1.0,
              "#f0f921"
             ]
            ]
           }
          ],
          "choropleth": [
           {
            "type": "choropleth",
            "colorbar": {
             "outlinewidth": 0,
             "ticks": ""
            }
           }
          ],
          "histogram2d": [
           {
            "type": "histogram2d",
            "colorbar": {
             "outlinewidth": 0,
             "ticks": ""
            },
            "colorscale": [
             [
              0.0,
              "#0d0887"
             ],
             [
              0.1111111111111111,
              "#46039f"
             ],
             [
              0.2222222222222222,
              "#7201a8"
             ],
             [
              0.3333333333333333,
              "#9c179e"
             ],
             [
              0.4444444444444444,
              "#bd3786"
             ],
             [
              0.5555555555555556,
              "#d8576b"
             ],
             [
              0.6666666666666666,
              "#ed7953"
             ],
             [
              0.7777777777777778,
              "#fb9f3a"
             ],
             [
              0.8888888888888888,
              "#fdca26"
             ],
             [
              1.0,
              "#f0f921"
             ]
            ]
           }
          ],
          "heatmap": [
           {
            "type": "heatmap",
            "colorbar": {
             "outlinewidth": 0,
             "ticks": ""
            },
            "colorscale": [
             [
              0.0,
              "#0d0887"
             ],
             [
              0.1111111111111111,
              "#46039f"
             ],
             [
              0.2222222222222222,
              "#7201a8"
             ],
             [
              0.3333333333333333,
              "#9c179e"
             ],
             [
              0.4444444444444444,
              "#bd3786"
             ],
             [
              0.5555555555555556,
              "#d8576b"
             ],
             [
              0.6666666666666666,
              "#ed7953"
             ],
             [
              0.7777777777777778,
              "#fb9f3a"
             ],
             [
              0.8888888888888888,
              "#fdca26"
             ],
             [
              1.0,
              "#f0f921"
             ]
            ]
           }
          ],
          "heatmapgl": [
           {
            "type": "heatmapgl",
            "colorbar": {
             "outlinewidth": 0,
             "ticks": ""
            },
            "colorscale": [
             [
              0.0,
              "#0d0887"
             ],
             [
              0.1111111111111111,
              "#46039f"
             ],
             [
              0.2222222222222222,
              "#7201a8"
             ],
             [
              0.3333333333333333,
              "#9c179e"
             ],
             [
              0.4444444444444444,
              "#bd3786"
             ],
             [
              0.5555555555555556,
              "#d8576b"
             ],
             [
              0.6666666666666666,
              "#ed7953"
             ],
             [
              0.7777777777777778,
              "#fb9f3a"
             ],
             [
              0.8888888888888888,
              "#fdca26"
             ],
             [
              1.0,
              "#f0f921"
             ]
            ]
           }
          ],
          "contourcarpet": [
           {
            "type": "contourcarpet",
            "colorbar": {
             "outlinewidth": 0,
             "ticks": ""
            }
           }
          ],
          "contour": [
           {
            "type": "contour",
            "colorbar": {
             "outlinewidth": 0,
             "ticks": ""
            },
            "colorscale": [
             [
              0.0,
              "#0d0887"
             ],
             [
              0.1111111111111111,
              "#46039f"
             ],
             [
              0.2222222222222222,
              "#7201a8"
             ],
             [
              0.3333333333333333,
              "#9c179e"
             ],
             [
              0.4444444444444444,
              "#bd3786"
             ],
             [
              0.5555555555555556,
              "#d8576b"
             ],
             [
              0.6666666666666666,
              "#ed7953"
             ],
             [
              0.7777777777777778,
              "#fb9f3a"
             ],
             [
              0.8888888888888888,
              "#fdca26"
             ],
             [
              1.0,
              "#f0f921"
             ]
            ]
           }
          ],
          "surface": [
           {
            "type": "surface",
            "colorbar": {
             "outlinewidth": 0,
             "ticks": ""
            },
            "colorscale": [
             [
              0.0,
              "#0d0887"
             ],
             [
              0.1111111111111111,
              "#46039f"
             ],
             [
              0.2222222222222222,
              "#7201a8"
             ],
             [
              0.3333333333333333,
              "#9c179e"
             ],
             [
              0.4444444444444444,
              "#bd3786"
             ],
             [
              0.5555555555555556,
              "#d8576b"
             ],
             [
              0.6666666666666666,
              "#ed7953"
             ],
             [
              0.7777777777777778,
              "#fb9f3a"
             ],
             [
              0.8888888888888888,
              "#fdca26"
             ],
             [
              1.0,
              "#f0f921"
             ]
            ]
           }
          ],
          "mesh3d": [
           {
            "type": "mesh3d",
            "colorbar": {
             "outlinewidth": 0,
             "ticks": ""
            }
           }
          ],
          "scatter": [
           {
            "marker": {
             "line": {
              "color": "#283442"
             }
            },
            "type": "scatter"
           }
          ],
          "parcoords": [
           {
            "type": "parcoords",
            "line": {
             "colorbar": {
              "outlinewidth": 0,
              "ticks": ""
             }
            }
           }
          ],
          "scatterpolargl": [
           {
            "type": "scatterpolargl",
            "marker": {
             "colorbar": {
              "outlinewidth": 0,
              "ticks": ""
             }
            }
           }
          ],
          "bar": [
           {
            "error_x": {
             "color": "#f2f5fa"
            },
            "error_y": {
             "color": "#f2f5fa"
            },
            "marker": {
             "line": {
              "color": "rgb(17,17,17)",
              "width": 0.5
             },
             "pattern": {
              "fillmode": "overlay",
              "size": 10,
              "solidity": 0.2
             }
            },
            "type": "bar"
           }
          ],
          "scattergeo": [
           {
            "type": "scattergeo",
            "marker": {
             "colorbar": {
              "outlinewidth": 0,
              "ticks": ""
             }
            }
           }
          ],
          "scatterpolar": [
           {
            "type": "scatterpolar",
            "marker": {
             "colorbar": {
              "outlinewidth": 0,
              "ticks": ""
             }
            }
           }
          ],
          "histogram": [
           {
            "marker": {
             "pattern": {
              "fillmode": "overlay",
              "size": 10,
              "solidity": 0.2
             }
            },
            "type": "histogram"
           }
          ],
          "scattergl": [
           {
            "marker": {
             "line": {
              "color": "#283442"
             }
            },
            "type": "scattergl"
           }
          ],
          "scatter3d": [
           {
            "type": "scatter3d",
            "line": {
             "colorbar": {
              "outlinewidth": 0,
              "ticks": ""
             }
            },
            "marker": {
             "colorbar": {
              "outlinewidth": 0,
              "ticks": ""
             }
            }
           }
          ],
          "scattermapbox": [
           {
            "type": "scattermapbox",
            "marker": {
             "colorbar": {
              "outlinewidth": 0,
              "ticks": ""
             }
            }
           }
          ],
          "scatterternary": [
           {
            "type": "scatterternary",
            "marker": {
             "colorbar": {
              "outlinewidth": 0,
              "ticks": ""
             }
            }
           }
          ],
          "scattercarpet": [
           {
            "type": "scattercarpet",
            "marker": {
             "colorbar": {
              "outlinewidth": 0,
              "ticks": ""
             }
            }
           }
          ],
          "carpet": [
           {
            "aaxis": {
             "endlinecolor": "#A2B1C6",
             "gridcolor": "#506784",
             "linecolor": "#506784",
             "minorgridcolor": "#506784",
             "startlinecolor": "#A2B1C6"
            },
            "baxis": {
             "endlinecolor": "#A2B1C6",
             "gridcolor": "#506784",
             "linecolor": "#506784",
             "minorgridcolor": "#506784",
             "startlinecolor": "#A2B1C6"
            },
            "type": "carpet"
           }
          ],
          "table": [
           {
            "cells": {
             "fill": {
              "color": "#506784"
             },
             "line": {
              "color": "rgb(17,17,17)"
             }
            },
            "header": {
             "fill": {
              "color": "#2a3f5f"
             },
             "line": {
              "color": "rgb(17,17,17)"
             }
            },
            "type": "table"
           }
          ],
          "barpolar": [
           {
            "marker": {
             "line": {
              "color": "rgb(17,17,17)",
              "width": 0.5
             },
             "pattern": {
              "fillmode": "overlay",
              "size": 10,
              "solidity": 0.2
             }
            },
            "type": "barpolar"
           }
          ],
          "pie": [
           {
            "automargin": true,
            "type": "pie"
           }
          ]
         },
         "layout": {
          "autotypenumbers": "strict",
          "colorway": [
           "#636efa",
           "#EF553B",
           "#00cc96",
           "#ab63fa",
           "#FFA15A",
           "#19d3f3",
           "#FF6692",
           "#B6E880",
           "#FF97FF",
           "#FECB52"
          ],
          "font": {
           "color": "#f2f5fa"
          },
          "hovermode": "closest",
          "hoverlabel": {
           "align": "left"
          },
          "paper_bgcolor": "rgb(17,17,17)",
          "plot_bgcolor": "rgb(17,17,17)",
          "polar": {
           "bgcolor": "rgb(17,17,17)",
           "angularaxis": {
            "gridcolor": "#506784",
            "linecolor": "#506784",
            "ticks": ""
           },
           "radialaxis": {
            "gridcolor": "#506784",
            "linecolor": "#506784",
            "ticks": ""
           }
          },
          "ternary": {
           "bgcolor": "rgb(17,17,17)",
           "aaxis": {
            "gridcolor": "#506784",
            "linecolor": "#506784",
            "ticks": ""
           },
           "baxis": {
            "gridcolor": "#506784",
            "linecolor": "#506784",
            "ticks": ""
           },
           "caxis": {
            "gridcolor": "#506784",
            "linecolor": "#506784",
            "ticks": ""
           }
          },
          "coloraxis": {
           "colorbar": {
            "outlinewidth": 0,
            "ticks": ""
           }
          },
          "colorscale": {
           "sequential": [
            [
             0.0,
             "#0d0887"
            ],
            [
             0.1111111111111111,
             "#46039f"
            ],
            [
             0.2222222222222222,
             "#7201a8"
            ],
            [
             0.3333333333333333,
             "#9c179e"
            ],
            [
             0.4444444444444444,
             "#bd3786"
            ],
            [
             0.5555555555555556,
             "#d8576b"
            ],
            [
             0.6666666666666666,
             "#ed7953"
            ],
            [
             0.7777777777777778,
             "#fb9f3a"
            ],
            [
             0.8888888888888888,
             "#fdca26"
            ],
            [
             1.0,
             "#f0f921"
            ]
           ],
           "sequentialminus": [
            [
             0.0,
             "#0d0887"
            ],
            [
             0.1111111111111111,
             "#46039f"
            ],
            [
             0.2222222222222222,
             "#7201a8"
            ],
            [
             0.3333333333333333,
             "#9c179e"
            ],
            [
             0.4444444444444444,
             "#bd3786"
            ],
            [
             0.5555555555555556,
             "#d8576b"
            ],
            [
             0.6666666666666666,
             "#ed7953"
            ],
            [
             0.7777777777777778,
             "#fb9f3a"
            ],
            [
             0.8888888888888888,
             "#fdca26"
            ],
            [
             1.0,
             "#f0f921"
            ]
           ],
           "diverging": [
            [
             0,
             "#8e0152"
            ],
            [
             0.1,
             "#c51b7d"
            ],
            [
             0.2,
             "#de77ae"
            ],
            [
             0.3,
             "#f1b6da"
            ],
            [
             0.4,
             "#fde0ef"
            ],
            [
             0.5,
             "#f7f7f7"
            ],
            [
             0.6,
             "#e6f5d0"
            ],
            [
             0.7,
             "#b8e186"
            ],
            [
             0.8,
             "#7fbc41"
            ],
            [
             0.9,
             "#4d9221"
            ],
            [
             1,
             "#276419"
            ]
           ]
          },
          "xaxis": {
           "gridcolor": "#283442",
           "linecolor": "#506784",
           "ticks": "",
           "title": {
            "standoff": 15
           },
           "zerolinecolor": "#283442",
           "automargin": true,
           "zerolinewidth": 2
          },
          "yaxis": {
           "gridcolor": "#283442",
           "linecolor": "#506784",
           "ticks": "",
           "title": {
            "standoff": 15
           },
           "zerolinecolor": "#283442",
           "automargin": true,
           "zerolinewidth": 2
          },
          "scene": {
           "xaxis": {
            "backgroundcolor": "rgb(17,17,17)",
            "gridcolor": "#506784",
            "linecolor": "#506784",
            "showbackground": true,
            "ticks": "",
            "zerolinecolor": "#C8D4E3",
            "gridwidth": 2
           },
           "yaxis": {
            "backgroundcolor": "rgb(17,17,17)",
            "gridcolor": "#506784",
            "linecolor": "#506784",
            "showbackground": true,
            "ticks": "",
            "zerolinecolor": "#C8D4E3",
            "gridwidth": 2
           },
           "zaxis": {
            "backgroundcolor": "rgb(17,17,17)",
            "gridcolor": "#506784",
            "linecolor": "#506784",
            "showbackground": true,
            "ticks": "",
            "zerolinecolor": "#C8D4E3",
            "gridwidth": 2
           }
          },
          "shapedefaults": {
           "line": {
            "color": "#f2f5fa"
           }
          },
          "annotationdefaults": {
           "arrowcolor": "#f2f5fa",
           "arrowhead": 0,
           "arrowwidth": 1
          },
          "geo": {
           "bgcolor": "rgb(17,17,17)",
           "landcolor": "rgb(17,17,17)",
           "subunitcolor": "#506784",
           "showland": true,
           "showlakes": true,
           "lakecolor": "rgb(17,17,17)"
          },
          "title": {
           "x": 0.05
          },
          "updatemenudefaults": {
           "bgcolor": "#506784",
           "borderwidth": 0
          },
          "sliderdefaults": {
           "bgcolor": "#C8D4E3",
           "borderwidth": 1,
           "bordercolor": "rgb(17,17,17)",
           "tickwidth": 0
          },
          "mapbox": {
           "style": "dark"
          }
         }
        }
       },
       "config": {
        "plotlyServerURL": "https://plot.ly"
       }
      },
      "text/html": "<div>                            <div id=\"0981f55b-baf3-4025-836d-df3538adcfe0\" class=\"plotly-graph-div\" style=\"height:525px; width:100%;\"></div>            <script type=\"text/javascript\">                require([\"plotly\"], function(Plotly) {                    window.PLOTLYENV=window.PLOTLYENV || {};                                    if (document.getElementById(\"0981f55b-baf3-4025-836d-df3538adcfe0\")) {                    Plotly.newPlot(                        \"0981f55b-baf3-4025-836d-df3538adcfe0\",                        [{\"x\":[\"Entre 0 et 50 \\u20ac\",\"Entre 50 et 100\\u20ac\",\"Entre 100 et 150\\u20ac\",\"Entre 150 et 200\\u20ac\",\"Entre 200 et 250\\u20ac\",\"Entre 250 et 300\\u20ac\",\"Entre 300 et 350\\u20ac\",\"Entre 350 et 400\\u20ac\",\"Entre 400 et 450\\u20ac\",\"Entre 450 et 500\\u20ac\",\"Entre 500 et 550\\u20ac\",\"Entre 550 et 600\\u20ac\",\"Entre 600 et 650\\u20ac\",\"Entre 650 et 700\\u20ac\",\"Entre 700 et 750\\u20ac\",\"Entre 750 et 800\\u20ac\",\"Entre 800 et 850\\u20ac\",\"Entre 850 et 900\\u20ac\",\"Entre 900 et 950\\u20ac\",\"Entre 950 et 1000\\u20ac\",\"Entre 1000 et 1050\\u20ac\",\"Entre 1050 et 1100\\u20ac\",\"Entre 1100 et 1150\\u20ac\",\"Entre 1150 et 1200\\u20ac\",\"Entre 1200 et 1250\\u20ac\",\"Entre 1250 et 1300\\u20ac\",\"Entre 1300 et 1350\\u20ac\",\"Entre 1350 et 1400\\u20ac\",\"Entre 1400 et 1450\\u20ac\",\"Entre 1450 et 1500\\u20ac\",\"Entre 1500 et 1550\\u20ac\",\"Entre 1550 et 1600\\u20ac\",\"Entre 1600 et 1650\\u20ac\",\"Entre 1650 et 1700\\u20ac\",\"Entre 1700 et 1750\\u20ac\",\"Entre 1750 et 1800\\u20ac\",\"Entre 1800 et 1850\\u20ac\",\"Entre 1850 et 1900\\u20ac\",\"Entre 1900 et 1950\\u20ac\",\"Entre 1950 et 2000\\u20ac\"],\"y\":[\"Entre 0 et 50 \\u20ac\",\"Entre 50 et 100\\u20ac\",\"Entre 100 et 150\\u20ac\",\"Entre 150 et 200\\u20ac\",\"Entre 200 et 250\\u20ac\",\"Entre 250 et 300\\u20ac\",\"Entre 300 et 350\\u20ac\",\"Entre 350 et 400\\u20ac\",\"Entre 400 et 450\\u20ac\",\"Entre 450 et 500\\u20ac\",\"Entre 500 et 550\\u20ac\",\"Entre 550 et 600\\u20ac\",\"Entre 600 et 650\\u20ac\",\"Entre 650 et 700\\u20ac\",\"Entre 700 et 750\\u20ac\",\"Entre 750 et 800\\u20ac\",\"Entre 800 et 850\\u20ac\",\"Entre 850 et 900\\u20ac\",\"Entre 900 et 950\\u20ac\",\"Entre 950 et 1000\\u20ac\",\"Entre 1000 et 1050\\u20ac\",\"Entre 1050 et 1100\\u20ac\",\"Entre 1100 et 1150\\u20ac\",\"Entre 1150 et 1200\\u20ac\",\"Entre 1200 et 1250\\u20ac\",\"Entre 1250 et 1300\\u20ac\",\"Entre 1300 et 1350\\u20ac\",\"Entre 1350 et 1400\\u20ac\",\"Entre 1400 et 1450\\u20ac\",\"Entre 1450 et 1500\\u20ac\",\"Entre 1500 et 1550\\u20ac\",\"Entre 1550 et 1600\\u20ac\",\"Entre 1600 et 1650\\u20ac\",\"Entre 1650 et 1700\\u20ac\",\"Entre 1700 et 1750\\u20ac\",\"Entre 1750 et 1800\\u20ac\",\"Entre 1800 et 1850\\u20ac\",\"Entre 1850 et 1900\\u20ac\",\"Entre 1900 et 1950\\u20ac\",\"Entre 1950 et 2000\\u20ac\"],\"z\":[[670,33,198,300,44,85,274,156,309,4094,1120,461,403,762,528,481,3124,618,729,770,357,196,229,201,206,167,119,129,108,83,80,73,60,46,39,17,27,24,22,18],[35,1,2,6,2,4,10,16,16,22,8,8,12,22,26,20,36,10,9,10,6,4,3,11,4,4,4,3,4,2,1,2,2,2,1,0,0,0,2,0],[78,3,5,14,1,11,23,19,12,64,27,121,65,98,111,52,275,66,82,51,27,21,23,16,10,9,14,4,3,3,5,1,2,3,2,2,3,3,4,0],[82,2,14,11,5,18,22,17,16,41,32,30,34,29,27,23,164,19,17,27,13,10,9,9,8,2,6,4,5,6,3,2,4,3,0,0,0,0,1,0],[96,4,19,17,12,30,17,22,24,67,28,36,101,39,32,50,140,36,47,53,45,28,32,18,28,16,9,12,12,12,16,4,5,6,2,3,2,1,2,0],[125,2,18,18,13,15,20,25,18,78,35,23,15,25,22,17,59,9,12,17,17,15,11,13,6,9,8,10,3,3,0,3,3,1,2,0,1,1,1,1],[191,2,32,26,10,15,28,28,18,56,44,37,26,27,21,30,62,24,49,38,20,16,22,11,8,12,11,9,6,4,2,6,5,3,1,0,2,2,1,0],[173,10,31,27,14,17,109,21,24,96,26,39,40,47,30,18,45,17,19,19,13,12,16,8,9,5,7,5,5,2,4,1,0,2,0,0,1,2,0,0],[227,7,25,19,13,21,31,33,42,41,29,18,23,19,16,23,35,17,22,11,10,19,8,7,6,6,7,3,0,1,1,1,2,0,1,2,2,1,3,0],[744,7,37,44,16,25,43,28,29,37,24,29,17,31,16,9,50,11,18,15,11,10,14,12,5,6,11,3,4,3,5,1,2,0,2,0,2,1,0,0],[1057,12,73,60,29,53,68,16,33,75,33,39,34,33,28,26,84,13,32,12,13,10,10,8,10,6,8,2,3,3,1,3,3,4,0,0,1,0,1,1],[394,11,38,24,30,31,35,17,26,30,29,26,23,16,15,12,26,9,6,11,3,5,7,2,6,4,4,4,2,5,3,0,0,2,2,1,0,0,1,0],[759,10,62,63,46,46,61,34,34,66,34,32,27,20,18,21,36,10,13,8,8,3,10,3,4,4,2,2,4,3,1,1,2,1,3,1,0,1,1,1],[829,16,107,66,57,38,78,30,32,63,33,27,32,24,19,8,29,13,18,20,7,7,4,6,1,6,4,3,1,3,3,0,1,2,3,1,2,0,0,1],[1090,27,176,69,70,56,75,44,21,56,40,31,15,17,14,14,29,9,18,8,4,7,7,7,3,3,4,1,3,1,0,2,0,0,0,1,0,1,0,0],[1099,17,73,55,46,39,48,27,22,47,30,15,16,13,10,9,20,13,9,6,7,6,4,4,4,4,4,1,0,1,2,3,1,0,2,1,1,0,1,1],[2093,21,127,87,47,39,53,39,45,62,30,18,29,23,18,15,38,13,7,12,4,4,3,3,3,2,3,1,4,1,2,1,1,1,1,0,1,0,1,0],[1536,18,108,84,34,36,62,29,30,52,28,23,19,18,9,10,21,14,16,8,5,3,2,7,1,4,3,0,0,1,1,0,1,1,0,0,0,0,0,0],[2118,21,128,132,32,42,85,37,28,60,46,16,25,25,13,9,14,16,11,5,3,7,8,6,5,1,2,1,0,0,1,1,1,0,1,0,0,0,0,1],[1863,27,111,113,29,30,66,29,32,54,18,19,24,15,12,7,18,8,9,16,4,3,6,2,2,2,0,1,0,1,4,2,1,1,0,0,0,1,0,0],[2385,21,168,128,28,56,88,28,24,63,39,28,26,21,14,15,19,14,12,11,6,3,4,1,2,1,3,0,2,0,0,2,1,0,0,0,0,0,0,0],[1598,16,120,98,29,33,58,21,16,35,17,19,16,14,11,9,8,9,6,13,1,2,5,5,5,1,1,1,0,0,1,0,0,1,0,0,0,0,0,0],[2901,24,176,161,34,48,95,34,24,71,41,36,24,23,18,13,23,6,9,5,9,1,4,3,6,2,3,1,1,1,2,0,1,0,0,0,0,0,0,0],[2431,35,182,127,34,44,67,22,32,57,38,21,27,16,12,11,15,5,7,14,2,4,3,4,1,5,2,1,2,1,0,0,0,0,1,1,0,1,0,0],[4285,56,247,184,48,58,122,48,43,88,45,39,29,25,18,11,37,9,13,10,11,5,3,4,4,0,4,2,2,2,2,3,1,0,0,0,0,0,0,1],[2454,42,162,134,29,51,67,21,28,58,27,15,21,19,18,10,13,13,10,4,6,3,0,1,5,1,1,1,0,1,0,0,4,0,0,0,0,0,0,1],[3697,43,212,150,30,42,95,54,26,81,32,25,36,25,23,13,24,15,8,8,5,2,4,1,5,1,2,1,0,1,1,0,0,0,0,0,0,0,0,0],[2445,34,145,118,23,37,70,25,22,46,29,13,13,13,17,8,10,14,7,5,4,2,3,2,3,0,0,1,0,0,0,1,1,1,0,1,0,0,1,0],[3468,41,220,141,36,43,104,34,23,73,46,32,26,27,24,15,26,7,7,10,3,5,3,0,1,3,1,1,4,0,0,1,1,0,0,0,0,0,0,0],[2305,31,142,101,19,47,65,23,19,67,24,19,19,7,15,8,9,13,11,1,2,5,1,2,0,0,1,0,1,0,0,0,0,0,1,0,0,0,0,0],[3950,37,249,174,33,64,105,37,33,108,56,47,47,24,25,14,23,16,11,6,4,7,7,6,3,1,3,2,0,1,2,0,1,1,0,1,0,0,0,0],[1673,14,144,85,23,35,51,9,23,56,24,19,22,18,10,7,9,7,7,4,4,1,2,0,6,0,4,1,0,1,0,0,0,0,0,1,0,0,0,0],[2734,26,185,132,22,38,90,27,26,85,38,14,37,23,19,15,17,11,6,4,3,2,7,1,3,0,1,2,0,0,1,1,0,0,0,0,2,0,0,0],[1482,15,125,73,16,21,49,19,15,35,15,16,18,13,8,5,7,8,1,2,3,4,2,1,1,4,1,0,1,0,0,0,0,0,0,0,0,0,0,0],[2118,21,165,105,17,31,75,22,21,62,26,20,15,16,14,15,14,7,3,6,5,4,3,1,1,2,1,1,2,1,1,0,2,0,0,0,0,0,0,0],[1156,13,111,53,11,17,32,17,14,27,12,13,14,11,8,8,6,6,2,4,5,5,1,2,1,0,0,2,0,1,0,0,0,0,0,0,0,0,0,0],[1911,19,155,97,6,34,67,23,14,70,29,18,28,18,16,9,11,6,4,4,5,5,5,0,3,3,3,3,0,1,1,0,0,0,1,0,0,0,0,0],[836,15,84,40,7,19,19,13,5,37,12,14,10,8,6,4,4,4,4,3,1,0,1,1,1,1,0,0,0,0,0,0,1,0,0,0,0,0,0,0],[1073,10,118,57,10,16,43,4,5,37,16,9,17,14,4,8,10,3,4,3,0,1,1,1,1,1,1,0,0,0,0,0,0,0,0,0,0,0,0,0],[647,7,75,38,4,21,28,6,6,28,12,5,5,7,3,6,10,7,6,2,1,0,1,0,0,0,0,0,0,0,0,1,1,0,0,0,0,0,0,0]],\"type\":\"surface\"}],                        {\"template\":{\"data\":{\"histogram2dcontour\":[{\"type\":\"histogram2dcontour\",\"colorbar\":{\"outlinewidth\":0,\"ticks\":\"\"},\"colorscale\":[[0.0,\"#0d0887\"],[0.1111111111111111,\"#46039f\"],[0.2222222222222222,\"#7201a8\"],[0.3333333333333333,\"#9c179e\"],[0.4444444444444444,\"#bd3786\"],[0.5555555555555556,\"#d8576b\"],[0.6666666666666666,\"#ed7953\"],[0.7777777777777778,\"#fb9f3a\"],[0.8888888888888888,\"#fdca26\"],[1.0,\"#f0f921\"]]}],\"choropleth\":[{\"type\":\"choropleth\",\"colorbar\":{\"outlinewidth\":0,\"ticks\":\"\"}}],\"histogram2d\":[{\"type\":\"histogram2d\",\"colorbar\":{\"outlinewidth\":0,\"ticks\":\"\"},\"colorscale\":[[0.0,\"#0d0887\"],[0.1111111111111111,\"#46039f\"],[0.2222222222222222,\"#7201a8\"],[0.3333333333333333,\"#9c179e\"],[0.4444444444444444,\"#bd3786\"],[0.5555555555555556,\"#d8576b\"],[0.6666666666666666,\"#ed7953\"],[0.7777777777777778,\"#fb9f3a\"],[0.8888888888888888,\"#fdca26\"],[1.0,\"#f0f921\"]]}],\"heatmap\":[{\"type\":\"heatmap\",\"colorbar\":{\"outlinewidth\":0,\"ticks\":\"\"},\"colorscale\":[[0.0,\"#0d0887\"],[0.1111111111111111,\"#46039f\"],[0.2222222222222222,\"#7201a8\"],[0.3333333333333333,\"#9c179e\"],[0.4444444444444444,\"#bd3786\"],[0.5555555555555556,\"#d8576b\"],[0.6666666666666666,\"#ed7953\"],[0.7777777777777778,\"#fb9f3a\"],[0.8888888888888888,\"#fdca26\"],[1.0,\"#f0f921\"]]}],\"heatmapgl\":[{\"type\":\"heatmapgl\",\"colorbar\":{\"outlinewidth\":0,\"ticks\":\"\"},\"colorscale\":[[0.0,\"#0d0887\"],[0.1111111111111111,\"#46039f\"],[0.2222222222222222,\"#7201a8\"],[0.3333333333333333,\"#9c179e\"],[0.4444444444444444,\"#bd3786\"],[0.5555555555555556,\"#d8576b\"],[0.6666666666666666,\"#ed7953\"],[0.7777777777777778,\"#fb9f3a\"],[0.8888888888888888,\"#fdca26\"],[1.0,\"#f0f921\"]]}],\"contourcarpet\":[{\"type\":\"contourcarpet\",\"colorbar\":{\"outlinewidth\":0,\"ticks\":\"\"}}],\"contour\":[{\"type\":\"contour\",\"colorbar\":{\"outlinewidth\":0,\"ticks\":\"\"},\"colorscale\":[[0.0,\"#0d0887\"],[0.1111111111111111,\"#46039f\"],[0.2222222222222222,\"#7201a8\"],[0.3333333333333333,\"#9c179e\"],[0.4444444444444444,\"#bd3786\"],[0.5555555555555556,\"#d8576b\"],[0.6666666666666666,\"#ed7953\"],[0.7777777777777778,\"#fb9f3a\"],[0.8888888888888888,\"#fdca26\"],[1.0,\"#f0f921\"]]}],\"surface\":[{\"type\":\"surface\",\"colorbar\":{\"outlinewidth\":0,\"ticks\":\"\"},\"colorscale\":[[0.0,\"#0d0887\"],[0.1111111111111111,\"#46039f\"],[0.2222222222222222,\"#7201a8\"],[0.3333333333333333,\"#9c179e\"],[0.4444444444444444,\"#bd3786\"],[0.5555555555555556,\"#d8576b\"],[0.6666666666666666,\"#ed7953\"],[0.7777777777777778,\"#fb9f3a\"],[0.8888888888888888,\"#fdca26\"],[1.0,\"#f0f921\"]]}],\"mesh3d\":[{\"type\":\"mesh3d\",\"colorbar\":{\"outlinewidth\":0,\"ticks\":\"\"}}],\"scatter\":[{\"marker\":{\"line\":{\"color\":\"#283442\"}},\"type\":\"scatter\"}],\"parcoords\":[{\"type\":\"parcoords\",\"line\":{\"colorbar\":{\"outlinewidth\":0,\"ticks\":\"\"}}}],\"scatterpolargl\":[{\"type\":\"scatterpolargl\",\"marker\":{\"colorbar\":{\"outlinewidth\":0,\"ticks\":\"\"}}}],\"bar\":[{\"error_x\":{\"color\":\"#f2f5fa\"},\"error_y\":{\"color\":\"#f2f5fa\"},\"marker\":{\"line\":{\"color\":\"rgb(17,17,17)\",\"width\":0.5},\"pattern\":{\"fillmode\":\"overlay\",\"size\":10,\"solidity\":0.2}},\"type\":\"bar\"}],\"scattergeo\":[{\"type\":\"scattergeo\",\"marker\":{\"colorbar\":{\"outlinewidth\":0,\"ticks\":\"\"}}}],\"scatterpolar\":[{\"type\":\"scatterpolar\",\"marker\":{\"colorbar\":{\"outlinewidth\":0,\"ticks\":\"\"}}}],\"histogram\":[{\"marker\":{\"pattern\":{\"fillmode\":\"overlay\",\"size\":10,\"solidity\":0.2}},\"type\":\"histogram\"}],\"scattergl\":[{\"marker\":{\"line\":{\"color\":\"#283442\"}},\"type\":\"scattergl\"}],\"scatter3d\":[{\"type\":\"scatter3d\",\"line\":{\"colorbar\":{\"outlinewidth\":0,\"ticks\":\"\"}},\"marker\":{\"colorbar\":{\"outlinewidth\":0,\"ticks\":\"\"}}}],\"scattermapbox\":[{\"type\":\"scattermapbox\",\"marker\":{\"colorbar\":{\"outlinewidth\":0,\"ticks\":\"\"}}}],\"scatterternary\":[{\"type\":\"scatterternary\",\"marker\":{\"colorbar\":{\"outlinewidth\":0,\"ticks\":\"\"}}}],\"scattercarpet\":[{\"type\":\"scattercarpet\",\"marker\":{\"colorbar\":{\"outlinewidth\":0,\"ticks\":\"\"}}}],\"carpet\":[{\"aaxis\":{\"endlinecolor\":\"#A2B1C6\",\"gridcolor\":\"#506784\",\"linecolor\":\"#506784\",\"minorgridcolor\":\"#506784\",\"startlinecolor\":\"#A2B1C6\"},\"baxis\":{\"endlinecolor\":\"#A2B1C6\",\"gridcolor\":\"#506784\",\"linecolor\":\"#506784\",\"minorgridcolor\":\"#506784\",\"startlinecolor\":\"#A2B1C6\"},\"type\":\"carpet\"}],\"table\":[{\"cells\":{\"fill\":{\"color\":\"#506784\"},\"line\":{\"color\":\"rgb(17,17,17)\"}},\"header\":{\"fill\":{\"color\":\"#2a3f5f\"},\"line\":{\"color\":\"rgb(17,17,17)\"}},\"type\":\"table\"}],\"barpolar\":[{\"marker\":{\"line\":{\"color\":\"rgb(17,17,17)\",\"width\":0.5},\"pattern\":{\"fillmode\":\"overlay\",\"size\":10,\"solidity\":0.2}},\"type\":\"barpolar\"}],\"pie\":[{\"automargin\":true,\"type\":\"pie\"}]},\"layout\":{\"autotypenumbers\":\"strict\",\"colorway\":[\"#636efa\",\"#EF553B\",\"#00cc96\",\"#ab63fa\",\"#FFA15A\",\"#19d3f3\",\"#FF6692\",\"#B6E880\",\"#FF97FF\",\"#FECB52\"],\"font\":{\"color\":\"#f2f5fa\"},\"hovermode\":\"closest\",\"hoverlabel\":{\"align\":\"left\"},\"paper_bgcolor\":\"rgb(17,17,17)\",\"plot_bgcolor\":\"rgb(17,17,17)\",\"polar\":{\"bgcolor\":\"rgb(17,17,17)\",\"angularaxis\":{\"gridcolor\":\"#506784\",\"linecolor\":\"#506784\",\"ticks\":\"\"},\"radialaxis\":{\"gridcolor\":\"#506784\",\"linecolor\":\"#506784\",\"ticks\":\"\"}},\"ternary\":{\"bgcolor\":\"rgb(17,17,17)\",\"aaxis\":{\"gridcolor\":\"#506784\",\"linecolor\":\"#506784\",\"ticks\":\"\"},\"baxis\":{\"gridcolor\":\"#506784\",\"linecolor\":\"#506784\",\"ticks\":\"\"},\"caxis\":{\"gridcolor\":\"#506784\",\"linecolor\":\"#506784\",\"ticks\":\"\"}},\"coloraxis\":{\"colorbar\":{\"outlinewidth\":0,\"ticks\":\"\"}},\"colorscale\":{\"sequential\":[[0.0,\"#0d0887\"],[0.1111111111111111,\"#46039f\"],[0.2222222222222222,\"#7201a8\"],[0.3333333333333333,\"#9c179e\"],[0.4444444444444444,\"#bd3786\"],[0.5555555555555556,\"#d8576b\"],[0.6666666666666666,\"#ed7953\"],[0.7777777777777778,\"#fb9f3a\"],[0.8888888888888888,\"#fdca26\"],[1.0,\"#f0f921\"]],\"sequentialminus\":[[0.0,\"#0d0887\"],[0.1111111111111111,\"#46039f\"],[0.2222222222222222,\"#7201a8\"],[0.3333333333333333,\"#9c179e\"],[0.4444444444444444,\"#bd3786\"],[0.5555555555555556,\"#d8576b\"],[0.6666666666666666,\"#ed7953\"],[0.7777777777777778,\"#fb9f3a\"],[0.8888888888888888,\"#fdca26\"],[1.0,\"#f0f921\"]],\"diverging\":[[0,\"#8e0152\"],[0.1,\"#c51b7d\"],[0.2,\"#de77ae\"],[0.3,\"#f1b6da\"],[0.4,\"#fde0ef\"],[0.5,\"#f7f7f7\"],[0.6,\"#e6f5d0\"],[0.7,\"#b8e186\"],[0.8,\"#7fbc41\"],[0.9,\"#4d9221\"],[1,\"#276419\"]]},\"xaxis\":{\"gridcolor\":\"#283442\",\"linecolor\":\"#506784\",\"ticks\":\"\",\"title\":{\"standoff\":15},\"zerolinecolor\":\"#283442\",\"automargin\":true,\"zerolinewidth\":2},\"yaxis\":{\"gridcolor\":\"#283442\",\"linecolor\":\"#506784\",\"ticks\":\"\",\"title\":{\"standoff\":15},\"zerolinecolor\":\"#283442\",\"automargin\":true,\"zerolinewidth\":2},\"scene\":{\"xaxis\":{\"backgroundcolor\":\"rgb(17,17,17)\",\"gridcolor\":\"#506784\",\"linecolor\":\"#506784\",\"showbackground\":true,\"ticks\":\"\",\"zerolinecolor\":\"#C8D4E3\",\"gridwidth\":2},\"yaxis\":{\"backgroundcolor\":\"rgb(17,17,17)\",\"gridcolor\":\"#506784\",\"linecolor\":\"#506784\",\"showbackground\":true,\"ticks\":\"\",\"zerolinecolor\":\"#C8D4E3\",\"gridwidth\":2},\"zaxis\":{\"backgroundcolor\":\"rgb(17,17,17)\",\"gridcolor\":\"#506784\",\"linecolor\":\"#506784\",\"showbackground\":true,\"ticks\":\"\",\"zerolinecolor\":\"#C8D4E3\",\"gridwidth\":2}},\"shapedefaults\":{\"line\":{\"color\":\"#f2f5fa\"}},\"annotationdefaults\":{\"arrowcolor\":\"#f2f5fa\",\"arrowhead\":0,\"arrowwidth\":1},\"geo\":{\"bgcolor\":\"rgb(17,17,17)\",\"landcolor\":\"rgb(17,17,17)\",\"subunitcolor\":\"#506784\",\"showland\":true,\"showlakes\":true,\"lakecolor\":\"rgb(17,17,17)\"},\"title\":{\"x\":0.05},\"updatemenudefaults\":{\"bgcolor\":\"#506784\",\"borderwidth\":0},\"sliderdefaults\":{\"bgcolor\":\"#C8D4E3\",\"borderwidth\":1,\"bordercolor\":\"rgb(17,17,17)\",\"tickwidth\":0},\"mapbox\":{\"style\":\"dark\"}}}},                        {\"responsive\": true}                    ).then(function(){\n                            \nvar gd = document.getElementById('0981f55b-baf3-4025-836d-df3538adcfe0');\nvar x = new MutationObserver(function (mutations, observer) {{\n        var display = window.getComputedStyle(gd).display;\n        if (!display || display === 'none') {{\n            console.log([gd, 'removed!']);\n            Plotly.purge(gd);\n            observer.disconnect();\n        }}\n}});\n\n// Listen for the removal of the full notebook cells\nvar notebookContainer = gd.closest('#notebook-container');\nif (notebookContainer) {{\n    x.observe(notebookContainer, {childList: true});\n}}\n\n// Listen for the clearing of the current output cell\nvar outputEl = gd.closest('.output');\nif (outputEl) {{\n    x.observe(outputEl, {childList: true});\n}}\n\n                        })                };                });            </script>        </div>"
     },
     "metadata": {},
     "output_type": "display_data"
    }
   ],
   "source": [
    "fig=go.Figure(go.Surface(z=df, y=df.index, x=df.columns))\n",
    "fig.show()"
   ],
   "metadata": {
    "collapsed": false,
    "pycharm": {
     "name": "#%%\n"
    }
   }
  },
  {
   "cell_type": "code",
   "execution_count": 20,
   "outputs": [],
   "source": [
    "fig.write_html(r\"C:\\Users\\arceb\\PycharmProjects\\Graphique_v1.html\")"
   ],
   "metadata": {
    "collapsed": false,
    "pycharm": {
     "name": "#%%\n"
    }
   }
  },
  {
   "cell_type": "code",
   "execution_count": 17,
   "outputs": [],
   "source": [
    "fig2=px.scatter(df)"
   ],
   "metadata": {
    "collapsed": false,
    "pycharm": {
     "name": "#%%\n"
    }
   }
  },
  {
   "cell_type": "code",
   "execution_count": 22,
   "outputs": [],
   "source": [
    "fig3=px.imshow(df)"
   ],
   "metadata": {
    "collapsed": false,
    "pycharm": {
     "name": "#%%\n"
    }
   }
  },
  {
   "cell_type": "code",
   "execution_count": 23,
   "outputs": [],
   "source": [
    "fig2.write_html(r\"C:\\Users\\arceb\\PycharmProjects\\Graphique_v2.html\")\n",
    "fig3.write_html(r\"C:\\Users\\arceb\\PycharmProjects\\Graphique_v3.html\")"
   ],
   "metadata": {
    "collapsed": false,
    "pycharm": {
     "name": "#%%\n"
    }
   }
  },
  {
   "cell_type": "code",
   "execution_count": null,
   "outputs": [],
   "source": [],
   "metadata": {
    "collapsed": false,
    "pycharm": {
     "name": "#%%\n"
    }
   }
  }
 ],
 "metadata": {
  "kernelspec": {
   "display_name": "Python 3",
   "language": "python",
   "name": "python3"
  },
  "language_info": {
   "codemirror_mode": {
    "name": "ipython",
    "version": 2
   },
   "file_extension": ".py",
   "mimetype": "text/x-python",
   "name": "python",
   "nbconvert_exporter": "python",
   "pygments_lexer": "ipython2",
   "version": "2.7.6"
  }
 },
 "nbformat": 4,
 "nbformat_minor": 0
}