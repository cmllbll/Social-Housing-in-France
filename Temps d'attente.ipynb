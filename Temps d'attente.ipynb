{
 "cells": [
  {
   "cell_type": "code",
   "execution_count": 1,
   "metadata": {
    "collapsed": true,
    "pycharm": {
     "name": "#%%\n"
    }
   },
   "outputs": [],
   "source": [
    "import numpy as np\n",
    "import pandas as pd\n",
    "import matplotlib.pyplot as plt"
   ]
  },
  {
   "cell_type": "markdown",
   "source": [
    "## Nettoyage des bases de données"
   ],
   "metadata": {
    "collapsed": false,
    "pycharm": {
     "name": "#%% md\n"
    }
   }
  },
  {
   "cell_type": "code",
   "execution_count": 2,
   "outputs": [],
   "source": [
    "df = pd.DataFrame(pd.read_excel(r'C:\\Users\\arceb\\Desktop\\Stage\\Attrib 2018 MGP - RM positif - MVI pour CBA.xlsx'))"
   ],
   "metadata": {
    "collapsed": false,
    "pycharm": {
     "name": "#%%\n"
    }
   }
  },
  {
   "cell_type": "markdown",
   "source": [
    "On va commencer par travailler sur la base de donnée des demandeurs pour estimer les différents quartiles de revenus parmis les demandeurs de la base de donnée. On va donc nettoyer la base, et créer une nouvelle colonne dans le dataframe indiquant le quartile auquel appartient le ménage. Cette information va permettre ensuite d'analyser le taux d'attente des demandeurs qui ont reçu un logement dans l'année en fonction de leur quartile d'appartenance."
   ],
   "metadata": {
    "collapsed": false,
    "pycharm": {
     "name": "#%% md\n"
    }
   }
  },
  {
   "cell_type": "code",
   "execution_count": 3,
   "outputs": [
    {
     "data": {
      "text/plain": "       Unnamed: 0         région       Numéro Unique Date création demande  \\\n0             NaN  Ile-de-France  111011885857794043            2018-01-15   \n1             NaN  Ile-de-France  111051767234510108            2017-05-15   \n2             NaN  Ile-de-France  111091777617075056            2017-09-29   \n3             NaN  Ile-de-France  111021758912175056            2017-02-08   \n4             NaN  Ile-de-France  111111781080175056            2017-11-10   \n...           ...            ...                 ...                   ...   \n42743         NaN  Ile-de-France  111011885009910129            2018-01-04   \n42744         NaN  Ile-de-France  1111217829952GDPUB            2017-12-03   \n42745         NaN  Ile-de-France  111111782174292019            2017-11-23   \n42746         NaN  Ile-de-France  111091647518710129            2016-09-23   \n42747         NaN  Ile-de-France  111041228887210033            2012-04-23   \n\n      Date de la radiation  Age demandeur Situation familiale  \\\n0               2018-06-08             37           Marié (e)   \n1               2018-06-01             54          Séparé (e)   \n2               2018-11-26             32        Concubin (e)   \n3               2018-01-03             28         Célibataire   \n4               2018-04-01             45         Célibataire   \n...                    ...            ...                 ...   \n42743           2018-04-24             54         Célibataire   \n42744           2018-02-12             33           Marié (e)   \n42745           2018-08-07             66           Marié (e)   \n42746           2018-05-25             61           Marié (e)   \n42747           2018-04-26             56         Divorcé (e)   \n\n      Code département logement actuel Code INSEE logt actuel  \\\n0                                   94                  94043   \n1                                   94                  94017   \n2                                   94                  94068   \n3                                   94                  94017   \n4                                   75                  75104   \n...                                ...                    ...   \n42743                               91                  91174   \n42744                               75                  75114   \n42745                               92                  92019   \n42746                               93                  93005   \n42747                               94                  94028   \n\n              Commune logt actuel  ...  Code de la commune attribuée  \\\n0              Le Kremlin-Bicêtre  ...                         94067   \n1             Champigny-sur-Marne  ...                         94079   \n2           Saint-Maur-des-Fossés  ...                         93057   \n3             Champigny-sur-Marne  ...                         75117   \n4       Paris 4ème arrondissement  ...                         75104   \n...                           ...  ...                           ...   \n42743            Corbeil-Essonnes  ...                         91687   \n42744  Paris 14ème arrondissement  ...                         75114   \n42745            Châtenay-Malabry  ...                         92019   \n42746            Aulnay-sous-Bois  ...                         93005   \n42747                     Créteil  ...                         94053   \n\n      Région du logement attribué Type du logement attribué   Est en QPV  \\\n0                   Ile-de-France                        T3  Ne sait pas   \n1                   Ile-de-France                        T3          Non   \n2                   Ile-de-France                        T2          Non   \n3                   Ile-de-France                        T1          Non   \n4                   Ile-de-France                        T1          Non   \n...                           ...                       ...          ...   \n42743               Ile-de-France                        T3          Non   \n42744               Ile-de-France                        T3          Non   \n42745               Ile-de-France                        T4          Non   \n42746               Ile-de-France                        T3          Oui   \n42747               Ile-de-France                        T4          Non   \n\n       Surface du logement attribué    Statut DALO  \\\n0                                64  Non renseigné   \n1                                70  Non renseigné   \n2                                46  Non renseigné   \n3                                27  Non renseigné   \n4                                16  Non renseigné   \n...                             ...            ...   \n42743                            57  Non renseigné   \n42744                            71  Non renseigné   \n42745                            81  Non renseigné   \n42746                            64  Non renseigné   \n42747                            77   Actif relogé   \n\n       Date de la décision DALO\\n\\n Accompagnement social Diagnostic social  \\\n0                               NaT                   Non               Non   \n1                               NaT                   Non               Non   \n2                               NaT                   Non               Non   \n3                               NaT                   Non               Non   \n4                               NaT                   Non               Non   \n...                             ...                   ...               ...   \n42743                           NaT                   Non               Non   \n42744                           NaT                   Non               Non   \n42745                           NaT                   Non               Non   \n42746                           NaT                   Non               Non   \n42747                    2013-06-20                   Oui               Non   \n\n                                            Réservataire  \n0                                        Action Logement  \n1                                        Action Logement  \n2                                        Action Logement  \n3      Contingent préfet fonctionnaires et agents pub...  \n4      Contingent des collectivités territoriales, de...  \n...                                                  ...  \n42743  Contingent préfet fonctionnaires et agents pub...  \n42744                                    Hors contingent  \n42745  Contingent des collectivités territoriales, de...  \n42746                                    Hors contingent  \n42747  Contingent préfet prioritaires (hors fonctionn...  \n\n[42748 rows x 39 columns]",
      "text/html": "<div>\n<style scoped>\n    .dataframe tbody tr th:only-of-type {\n        vertical-align: middle;\n    }\n\n    .dataframe tbody tr th {\n        vertical-align: top;\n    }\n\n    .dataframe thead th {\n        text-align: right;\n    }\n</style>\n<table border=\"1\" class=\"dataframe\">\n  <thead>\n    <tr style=\"text-align: right;\">\n      <th></th>\n      <th>Unnamed: 0</th>\n      <th>région</th>\n      <th>Numéro Unique</th>\n      <th>Date création demande</th>\n      <th>Date de la radiation</th>\n      <th>Age demandeur</th>\n      <th>Situation familiale</th>\n      <th>Code département logement actuel</th>\n      <th>Code INSEE logt actuel</th>\n      <th>Commune logt actuel</th>\n      <th>...</th>\n      <th>Code de la commune attribuée</th>\n      <th>Région du logement attribué</th>\n      <th>Type du logement attribué</th>\n      <th>Est en QPV</th>\n      <th>Surface du logement attribué</th>\n      <th>Statut DALO</th>\n      <th>Date de la décision DALO\\n\\n</th>\n      <th>Accompagnement social</th>\n      <th>Diagnostic social</th>\n      <th>Réservataire</th>\n    </tr>\n  </thead>\n  <tbody>\n    <tr>\n      <th>0</th>\n      <td>NaN</td>\n      <td>Ile-de-France</td>\n      <td>111011885857794043</td>\n      <td>2018-01-15</td>\n      <td>2018-06-08</td>\n      <td>37</td>\n      <td>Marié (e)</td>\n      <td>94</td>\n      <td>94043</td>\n      <td>Le Kremlin-Bicêtre</td>\n      <td>...</td>\n      <td>94067</td>\n      <td>Ile-de-France</td>\n      <td>T3</td>\n      <td>Ne sait pas</td>\n      <td>64</td>\n      <td>Non renseigné</td>\n      <td>NaT</td>\n      <td>Non</td>\n      <td>Non</td>\n      <td>Action Logement</td>\n    </tr>\n    <tr>\n      <th>1</th>\n      <td>NaN</td>\n      <td>Ile-de-France</td>\n      <td>111051767234510108</td>\n      <td>2017-05-15</td>\n      <td>2018-06-01</td>\n      <td>54</td>\n      <td>Séparé (e)</td>\n      <td>94</td>\n      <td>94017</td>\n      <td>Champigny-sur-Marne</td>\n      <td>...</td>\n      <td>94079</td>\n      <td>Ile-de-France</td>\n      <td>T3</td>\n      <td>Non</td>\n      <td>70</td>\n      <td>Non renseigné</td>\n      <td>NaT</td>\n      <td>Non</td>\n      <td>Non</td>\n      <td>Action Logement</td>\n    </tr>\n    <tr>\n      <th>2</th>\n      <td>NaN</td>\n      <td>Ile-de-France</td>\n      <td>111091777617075056</td>\n      <td>2017-09-29</td>\n      <td>2018-11-26</td>\n      <td>32</td>\n      <td>Concubin (e)</td>\n      <td>94</td>\n      <td>94068</td>\n      <td>Saint-Maur-des-Fossés</td>\n      <td>...</td>\n      <td>93057</td>\n      <td>Ile-de-France</td>\n      <td>T2</td>\n      <td>Non</td>\n      <td>46</td>\n      <td>Non renseigné</td>\n      <td>NaT</td>\n      <td>Non</td>\n      <td>Non</td>\n      <td>Action Logement</td>\n    </tr>\n    <tr>\n      <th>3</th>\n      <td>NaN</td>\n      <td>Ile-de-France</td>\n      <td>111021758912175056</td>\n      <td>2017-02-08</td>\n      <td>2018-01-03</td>\n      <td>28</td>\n      <td>Célibataire</td>\n      <td>94</td>\n      <td>94017</td>\n      <td>Champigny-sur-Marne</td>\n      <td>...</td>\n      <td>75117</td>\n      <td>Ile-de-France</td>\n      <td>T1</td>\n      <td>Non</td>\n      <td>27</td>\n      <td>Non renseigné</td>\n      <td>NaT</td>\n      <td>Non</td>\n      <td>Non</td>\n      <td>Contingent préfet fonctionnaires et agents pub...</td>\n    </tr>\n    <tr>\n      <th>4</th>\n      <td>NaN</td>\n      <td>Ile-de-France</td>\n      <td>111111781080175056</td>\n      <td>2017-11-10</td>\n      <td>2018-04-01</td>\n      <td>45</td>\n      <td>Célibataire</td>\n      <td>75</td>\n      <td>75104</td>\n      <td>Paris 4ème arrondissement</td>\n      <td>...</td>\n      <td>75104</td>\n      <td>Ile-de-France</td>\n      <td>T1</td>\n      <td>Non</td>\n      <td>16</td>\n      <td>Non renseigné</td>\n      <td>NaT</td>\n      <td>Non</td>\n      <td>Non</td>\n      <td>Contingent des collectivités territoriales, de...</td>\n    </tr>\n    <tr>\n      <th>...</th>\n      <td>...</td>\n      <td>...</td>\n      <td>...</td>\n      <td>...</td>\n      <td>...</td>\n      <td>...</td>\n      <td>...</td>\n      <td>...</td>\n      <td>...</td>\n      <td>...</td>\n      <td>...</td>\n      <td>...</td>\n      <td>...</td>\n      <td>...</td>\n      <td>...</td>\n      <td>...</td>\n      <td>...</td>\n      <td>...</td>\n      <td>...</td>\n      <td>...</td>\n      <td>...</td>\n    </tr>\n    <tr>\n      <th>42743</th>\n      <td>NaN</td>\n      <td>Ile-de-France</td>\n      <td>111011885009910129</td>\n      <td>2018-01-04</td>\n      <td>2018-04-24</td>\n      <td>54</td>\n      <td>Célibataire</td>\n      <td>91</td>\n      <td>91174</td>\n      <td>Corbeil-Essonnes</td>\n      <td>...</td>\n      <td>91687</td>\n      <td>Ile-de-France</td>\n      <td>T3</td>\n      <td>Non</td>\n      <td>57</td>\n      <td>Non renseigné</td>\n      <td>NaT</td>\n      <td>Non</td>\n      <td>Non</td>\n      <td>Contingent préfet fonctionnaires et agents pub...</td>\n    </tr>\n    <tr>\n      <th>42744</th>\n      <td>NaN</td>\n      <td>Ile-de-France</td>\n      <td>1111217829952GDPUB</td>\n      <td>2017-12-03</td>\n      <td>2018-02-12</td>\n      <td>33</td>\n      <td>Marié (e)</td>\n      <td>75</td>\n      <td>75114</td>\n      <td>Paris 14ème arrondissement</td>\n      <td>...</td>\n      <td>75114</td>\n      <td>Ile-de-France</td>\n      <td>T3</td>\n      <td>Non</td>\n      <td>71</td>\n      <td>Non renseigné</td>\n      <td>NaT</td>\n      <td>Non</td>\n      <td>Non</td>\n      <td>Hors contingent</td>\n    </tr>\n    <tr>\n      <th>42745</th>\n      <td>NaN</td>\n      <td>Ile-de-France</td>\n      <td>111111782174292019</td>\n      <td>2017-11-23</td>\n      <td>2018-08-07</td>\n      <td>66</td>\n      <td>Marié (e)</td>\n      <td>92</td>\n      <td>92019</td>\n      <td>Châtenay-Malabry</td>\n      <td>...</td>\n      <td>92019</td>\n      <td>Ile-de-France</td>\n      <td>T4</td>\n      <td>Non</td>\n      <td>81</td>\n      <td>Non renseigné</td>\n      <td>NaT</td>\n      <td>Non</td>\n      <td>Non</td>\n      <td>Contingent des collectivités territoriales, de...</td>\n    </tr>\n    <tr>\n      <th>42746</th>\n      <td>NaN</td>\n      <td>Ile-de-France</td>\n      <td>111091647518710129</td>\n      <td>2016-09-23</td>\n      <td>2018-05-25</td>\n      <td>61</td>\n      <td>Marié (e)</td>\n      <td>93</td>\n      <td>93005</td>\n      <td>Aulnay-sous-Bois</td>\n      <td>...</td>\n      <td>93005</td>\n      <td>Ile-de-France</td>\n      <td>T3</td>\n      <td>Oui</td>\n      <td>64</td>\n      <td>Non renseigné</td>\n      <td>NaT</td>\n      <td>Non</td>\n      <td>Non</td>\n      <td>Hors contingent</td>\n    </tr>\n    <tr>\n      <th>42747</th>\n      <td>NaN</td>\n      <td>Ile-de-France</td>\n      <td>111041228887210033</td>\n      <td>2012-04-23</td>\n      <td>2018-04-26</td>\n      <td>56</td>\n      <td>Divorcé (e)</td>\n      <td>94</td>\n      <td>94028</td>\n      <td>Créteil</td>\n      <td>...</td>\n      <td>94053</td>\n      <td>Ile-de-France</td>\n      <td>T4</td>\n      <td>Non</td>\n      <td>77</td>\n      <td>Actif relogé</td>\n      <td>2013-06-20</td>\n      <td>Oui</td>\n      <td>Non</td>\n      <td>Contingent préfet prioritaires (hors fonctionn...</td>\n    </tr>\n  </tbody>\n</table>\n<p>42748 rows × 39 columns</p>\n</div>"
     },
     "execution_count": 3,
     "metadata": {},
     "output_type": "execute_result"
    }
   ],
   "source": [
    "df"
   ],
   "metadata": {
    "collapsed": false,
    "pycharm": {
     "name": "#%%\n"
    }
   }
  },
  {
   "cell_type": "code",
   "execution_count": 5,
   "outputs": [
    {
     "data": {
      "text/plain": "            Numéro Unique  Nb unités de consommation du foyer  \\\n0      111011885857794043                                 1.8   \n1      111051767234510108                                 1.5   \n2      111091777617075056                                 1.5   \n3      111021758912175056                                 1.0   \n4      111111781080175056                                 1.0   \n...                   ...                                 ...   \n42743  111011885009910129                                 1.5   \n42744  1111217829952GDPUB                                 1.8   \n42745  111111782174292019                                 2.0   \n42746  111091647518710129                                 2.0   \n42747  111041228887210033                                 2.5   \n\n       Ressources mensuelles du foyer Date création demande  \\\n0                                   1            2018-01-15   \n1                                   1            2017-05-15   \n2                                   1            2017-09-29   \n3                                   1            2017-02-08   \n4                                   1            2017-11-10   \n...                               ...                   ...   \n42743                           70914            2018-01-04   \n42744                           89164            2017-12-03   \n42745                           99276            2017-11-23   \n42746                          105794            2016-09-23   \n42747                          150113            2012-04-23   \n\n      Date de la radiation  Age demandeur Situation familiale  \\\n0               2018-06-08             37           Marié (e)   \n1               2018-06-01             54          Séparé (e)   \n2               2018-11-26             32        Concubin (e)   \n3               2018-01-03             28         Célibataire   \n4               2018-04-01             45         Célibataire   \n...                    ...            ...                 ...   \n42743           2018-04-24             54         Célibataire   \n42744           2018-02-12             33           Marié (e)   \n42745           2018-08-07             66           Marié (e)   \n42746           2018-05-25             61           Marié (e)   \n42747           2018-04-26             56         Divorcé (e)   \n\n      Type du logement attribué  \n0                            T3  \n1                            T3  \n2                            T2  \n3                            T1  \n4                            T1  \n...                         ...  \n42743                        T3  \n42744                        T3  \n42745                        T4  \n42746                        T3  \n42747                        T4  \n\n[42748 rows x 8 columns]",
      "text/html": "<div>\n<style scoped>\n    .dataframe tbody tr th:only-of-type {\n        vertical-align: middle;\n    }\n\n    .dataframe tbody tr th {\n        vertical-align: top;\n    }\n\n    .dataframe thead th {\n        text-align: right;\n    }\n</style>\n<table border=\"1\" class=\"dataframe\">\n  <thead>\n    <tr style=\"text-align: right;\">\n      <th></th>\n      <th>Numéro Unique</th>\n      <th>Nb unités de consommation du foyer</th>\n      <th>Ressources mensuelles du foyer</th>\n      <th>Date création demande</th>\n      <th>Date de la radiation</th>\n      <th>Age demandeur</th>\n      <th>Situation familiale</th>\n      <th>Type du logement attribué</th>\n    </tr>\n  </thead>\n  <tbody>\n    <tr>\n      <th>0</th>\n      <td>111011885857794043</td>\n      <td>1.8</td>\n      <td>1</td>\n      <td>2018-01-15</td>\n      <td>2018-06-08</td>\n      <td>37</td>\n      <td>Marié (e)</td>\n      <td>T3</td>\n    </tr>\n    <tr>\n      <th>1</th>\n      <td>111051767234510108</td>\n      <td>1.5</td>\n      <td>1</td>\n      <td>2017-05-15</td>\n      <td>2018-06-01</td>\n      <td>54</td>\n      <td>Séparé (e)</td>\n      <td>T3</td>\n    </tr>\n    <tr>\n      <th>2</th>\n      <td>111091777617075056</td>\n      <td>1.5</td>\n      <td>1</td>\n      <td>2017-09-29</td>\n      <td>2018-11-26</td>\n      <td>32</td>\n      <td>Concubin (e)</td>\n      <td>T2</td>\n    </tr>\n    <tr>\n      <th>3</th>\n      <td>111021758912175056</td>\n      <td>1.0</td>\n      <td>1</td>\n      <td>2017-02-08</td>\n      <td>2018-01-03</td>\n      <td>28</td>\n      <td>Célibataire</td>\n      <td>T1</td>\n    </tr>\n    <tr>\n      <th>4</th>\n      <td>111111781080175056</td>\n      <td>1.0</td>\n      <td>1</td>\n      <td>2017-11-10</td>\n      <td>2018-04-01</td>\n      <td>45</td>\n      <td>Célibataire</td>\n      <td>T1</td>\n    </tr>\n    <tr>\n      <th>...</th>\n      <td>...</td>\n      <td>...</td>\n      <td>...</td>\n      <td>...</td>\n      <td>...</td>\n      <td>...</td>\n      <td>...</td>\n      <td>...</td>\n    </tr>\n    <tr>\n      <th>42743</th>\n      <td>111011885009910129</td>\n      <td>1.5</td>\n      <td>70914</td>\n      <td>2018-01-04</td>\n      <td>2018-04-24</td>\n      <td>54</td>\n      <td>Célibataire</td>\n      <td>T3</td>\n    </tr>\n    <tr>\n      <th>42744</th>\n      <td>1111217829952GDPUB</td>\n      <td>1.8</td>\n      <td>89164</td>\n      <td>2017-12-03</td>\n      <td>2018-02-12</td>\n      <td>33</td>\n      <td>Marié (e)</td>\n      <td>T3</td>\n    </tr>\n    <tr>\n      <th>42745</th>\n      <td>111111782174292019</td>\n      <td>2.0</td>\n      <td>99276</td>\n      <td>2017-11-23</td>\n      <td>2018-08-07</td>\n      <td>66</td>\n      <td>Marié (e)</td>\n      <td>T4</td>\n    </tr>\n    <tr>\n      <th>42746</th>\n      <td>111091647518710129</td>\n      <td>2.0</td>\n      <td>105794</td>\n      <td>2016-09-23</td>\n      <td>2018-05-25</td>\n      <td>61</td>\n      <td>Marié (e)</td>\n      <td>T3</td>\n    </tr>\n    <tr>\n      <th>42747</th>\n      <td>111041228887210033</td>\n      <td>2.5</td>\n      <td>150113</td>\n      <td>2012-04-23</td>\n      <td>2018-04-26</td>\n      <td>56</td>\n      <td>Divorcé (e)</td>\n      <td>T4</td>\n    </tr>\n  </tbody>\n</table>\n<p>42748 rows × 8 columns</p>\n</div>"
     },
     "execution_count": 5,
     "metadata": {},
     "output_type": "execute_result"
    }
   ],
   "source": [
    "dfd1=df[[ \"Numéro Unique\", \"Nb unités de consommation du foyer\", \"Ressources mensuelles du foyer\", \"Date création demande\", \"Date de la radiation\", \"Age demandeur\", \"Situation familiale\", \"Type du logement attribué\"]]\n",
    "dfd1"
   ],
   "metadata": {
    "collapsed": false,
    "pycharm": {
     "name": "#%%\n"
    }
   }
  },
  {
   "cell_type": "code",
   "execution_count": 5,
   "outputs": [],
   "source": [
    "dfdx=dfd[[ \"Numéro Unique\", \"Montant AL / APL\"]]\n",
    "dfax=dfa[[ \"Numéro Unique\", \"Montant AL / APL\"]]\n",
    "dfx = dfdx.merge(dfax, on='Numéro Unique', how='inner')"
   ],
   "metadata": {
    "collapsed": false,
    "pycharm": {
     "name": "#%%\n"
    }
   }
  },
  {
   "cell_type": "code",
   "execution_count": 6,
   "outputs": [
    {
     "data": {
      "text/plain": "            Numéro Unique  Montant AL / APL_x  Montant AL / APL_y\n0      175037900427000002                 0.0                 0.0\n1      175118000728300002                 0.0                 0.0\n2      175108301617300002                 0.0                 0.0\n3      175128420982700002                 0.0                 0.0\n4      175058909634800002               235.0               235.0\n...                   ...                 ...                 ...\n60759  1111217905754AL003                 0.0                 0.0\n60760  1111217849606GDPUB                 0.0                 0.0\n60761  1111217849858GDPUB                 NaN                 NaN\n60762  1110118850370GDPUB                 0.0                 0.0\n60763  1110118850622GDPUB               231.0               231.0\n\n[60764 rows x 3 columns]",
      "text/html": "<div>\n<style scoped>\n    .dataframe tbody tr th:only-of-type {\n        vertical-align: middle;\n    }\n\n    .dataframe tbody tr th {\n        vertical-align: top;\n    }\n\n    .dataframe thead th {\n        text-align: right;\n    }\n</style>\n<table border=\"1\" class=\"dataframe\">\n  <thead>\n    <tr style=\"text-align: right;\">\n      <th></th>\n      <th>Numéro Unique</th>\n      <th>Montant AL / APL_x</th>\n      <th>Montant AL / APL_y</th>\n    </tr>\n  </thead>\n  <tbody>\n    <tr>\n      <th>0</th>\n      <td>175037900427000002</td>\n      <td>0.0</td>\n      <td>0.0</td>\n    </tr>\n    <tr>\n      <th>1</th>\n      <td>175118000728300002</td>\n      <td>0.0</td>\n      <td>0.0</td>\n    </tr>\n    <tr>\n      <th>2</th>\n      <td>175108301617300002</td>\n      <td>0.0</td>\n      <td>0.0</td>\n    </tr>\n    <tr>\n      <th>3</th>\n      <td>175128420982700002</td>\n      <td>0.0</td>\n      <td>0.0</td>\n    </tr>\n    <tr>\n      <th>4</th>\n      <td>175058909634800002</td>\n      <td>235.0</td>\n      <td>235.0</td>\n    </tr>\n    <tr>\n      <th>...</th>\n      <td>...</td>\n      <td>...</td>\n      <td>...</td>\n    </tr>\n    <tr>\n      <th>60759</th>\n      <td>1111217905754AL003</td>\n      <td>0.0</td>\n      <td>0.0</td>\n    </tr>\n    <tr>\n      <th>60760</th>\n      <td>1111217849606GDPUB</td>\n      <td>0.0</td>\n      <td>0.0</td>\n    </tr>\n    <tr>\n      <th>60761</th>\n      <td>1111217849858GDPUB</td>\n      <td>NaN</td>\n      <td>NaN</td>\n    </tr>\n    <tr>\n      <th>60762</th>\n      <td>1110118850370GDPUB</td>\n      <td>0.0</td>\n      <td>0.0</td>\n    </tr>\n    <tr>\n      <th>60763</th>\n      <td>1110118850622GDPUB</td>\n      <td>231.0</td>\n      <td>231.0</td>\n    </tr>\n  </tbody>\n</table>\n<p>60764 rows × 3 columns</p>\n</div>"
     },
     "execution_count": 6,
     "metadata": {},
     "output_type": "execute_result"
    }
   ],
   "source": [
    "dfx"
   ],
   "metadata": {
    "collapsed": false,
    "pycharm": {
     "name": "#%%\n"
    }
   }
  },
  {
   "cell_type": "markdown",
   "source": [
    "On ne conserve que les colonnes qui vont nous intéresser dans le cadre de l'étude du taux d'attente."
   ],
   "metadata": {
    "collapsed": false,
    "pycharm": {
     "name": "#%% md\n"
    }
   }
  },
  {
   "cell_type": "markdown",
   "source": [
    "#### Application des filtres"
   ],
   "metadata": {
    "collapsed": false,
    "pycharm": {
     "name": "#%% md\n"
    }
   }
  },
  {
   "cell_type": "markdown",
   "source": [
    "On convertir en NaN les valeurs qui doivent être filtrées, à savoir:\n",
    "- les NaN (les valeurs qui ne sont pas renseignées), les revenus qui ne sont pas indiqués\n",
    "- les revenus qui ne sont pas strictement supérieurs à 0\n",
    "- les revenus qui sont supérieurs à 10000"
   ],
   "metadata": {
    "collapsed": false,
    "pycharm": {
     "name": "#%% md\n"
    }
   }
  },
  {
   "cell_type": "code",
   "execution_count": 6,
   "outputs": [
    {
     "data": {
      "text/plain": "            Numéro Unique  Nb unités de consommation du foyer  \\\n0      111011885857794043                                 1.8   \n1      111051767234510108                                 1.5   \n2      111091777617075056                                 1.5   \n3      111021758912175056                                 1.0   \n4      111111781080175056                                 1.0   \n...                   ...                                 ...   \n42743  111011885009910129                                 1.5   \n42744  1111217829952GDPUB                                 1.8   \n42745  111111782174292019                                 2.0   \n42746  111091647518710129                                 2.0   \n42747  111041228887210033                                 2.5   \n\n       Ressources mensuelles du foyer Date création demande  \\\n0                                   1            2018-01-15   \n1                                   1            2017-05-15   \n2                                   1            2017-09-29   \n3                                   1            2017-02-08   \n4                                   1            2017-11-10   \n...                               ...                   ...   \n42743                           70914            2018-01-04   \n42744                           89164            2017-12-03   \n42745                           99276            2017-11-23   \n42746                          105794            2016-09-23   \n42747                          150113            2012-04-23   \n\n      Date de la radiation  Age demandeur Situation familiale  \\\n0               2018-06-08             37           Marié (e)   \n1               2018-06-01             54          Séparé (e)   \n2               2018-11-26             32        Concubin (e)   \n3               2018-01-03             28         Célibataire   \n4               2018-04-01             45         Célibataire   \n...                    ...            ...                 ...   \n42743           2018-04-24             54         Célibataire   \n42744           2018-02-12             33           Marié (e)   \n42745           2018-08-07             66           Marié (e)   \n42746           2018-05-25             61           Marié (e)   \n42747           2018-04-26             56         Divorcé (e)   \n\n      Type du logement attribué  \n0                            T3  \n1                            T3  \n2                            T2  \n3                            T1  \n4                            T1  \n...                         ...  \n42743                        T3  \n42744                        T3  \n42745                        T4  \n42746                        T3  \n42747                        T4  \n\n[42748 rows x 8 columns]",
      "text/html": "<div>\n<style scoped>\n    .dataframe tbody tr th:only-of-type {\n        vertical-align: middle;\n    }\n\n    .dataframe tbody tr th {\n        vertical-align: top;\n    }\n\n    .dataframe thead th {\n        text-align: right;\n    }\n</style>\n<table border=\"1\" class=\"dataframe\">\n  <thead>\n    <tr style=\"text-align: right;\">\n      <th></th>\n      <th>Numéro Unique</th>\n      <th>Nb unités de consommation du foyer</th>\n      <th>Ressources mensuelles du foyer</th>\n      <th>Date création demande</th>\n      <th>Date de la radiation</th>\n      <th>Age demandeur</th>\n      <th>Situation familiale</th>\n      <th>Type du logement attribué</th>\n    </tr>\n  </thead>\n  <tbody>\n    <tr>\n      <th>0</th>\n      <td>111011885857794043</td>\n      <td>1.8</td>\n      <td>1</td>\n      <td>2018-01-15</td>\n      <td>2018-06-08</td>\n      <td>37</td>\n      <td>Marié (e)</td>\n      <td>T3</td>\n    </tr>\n    <tr>\n      <th>1</th>\n      <td>111051767234510108</td>\n      <td>1.5</td>\n      <td>1</td>\n      <td>2017-05-15</td>\n      <td>2018-06-01</td>\n      <td>54</td>\n      <td>Séparé (e)</td>\n      <td>T3</td>\n    </tr>\n    <tr>\n      <th>2</th>\n      <td>111091777617075056</td>\n      <td>1.5</td>\n      <td>1</td>\n      <td>2017-09-29</td>\n      <td>2018-11-26</td>\n      <td>32</td>\n      <td>Concubin (e)</td>\n      <td>T2</td>\n    </tr>\n    <tr>\n      <th>3</th>\n      <td>111021758912175056</td>\n      <td>1.0</td>\n      <td>1</td>\n      <td>2017-02-08</td>\n      <td>2018-01-03</td>\n      <td>28</td>\n      <td>Célibataire</td>\n      <td>T1</td>\n    </tr>\n    <tr>\n      <th>4</th>\n      <td>111111781080175056</td>\n      <td>1.0</td>\n      <td>1</td>\n      <td>2017-11-10</td>\n      <td>2018-04-01</td>\n      <td>45</td>\n      <td>Célibataire</td>\n      <td>T1</td>\n    </tr>\n    <tr>\n      <th>...</th>\n      <td>...</td>\n      <td>...</td>\n      <td>...</td>\n      <td>...</td>\n      <td>...</td>\n      <td>...</td>\n      <td>...</td>\n      <td>...</td>\n    </tr>\n    <tr>\n      <th>42743</th>\n      <td>111011885009910129</td>\n      <td>1.5</td>\n      <td>70914</td>\n      <td>2018-01-04</td>\n      <td>2018-04-24</td>\n      <td>54</td>\n      <td>Célibataire</td>\n      <td>T3</td>\n    </tr>\n    <tr>\n      <th>42744</th>\n      <td>1111217829952GDPUB</td>\n      <td>1.8</td>\n      <td>89164</td>\n      <td>2017-12-03</td>\n      <td>2018-02-12</td>\n      <td>33</td>\n      <td>Marié (e)</td>\n      <td>T3</td>\n    </tr>\n    <tr>\n      <th>42745</th>\n      <td>111111782174292019</td>\n      <td>2.0</td>\n      <td>99276</td>\n      <td>2017-11-23</td>\n      <td>2018-08-07</td>\n      <td>66</td>\n      <td>Marié (e)</td>\n      <td>T4</td>\n    </tr>\n    <tr>\n      <th>42746</th>\n      <td>111091647518710129</td>\n      <td>2.0</td>\n      <td>105794</td>\n      <td>2016-09-23</td>\n      <td>2018-05-25</td>\n      <td>61</td>\n      <td>Marié (e)</td>\n      <td>T3</td>\n    </tr>\n    <tr>\n      <th>42747</th>\n      <td>111041228887210033</td>\n      <td>2.5</td>\n      <td>150113</td>\n      <td>2012-04-23</td>\n      <td>2018-04-26</td>\n      <td>56</td>\n      <td>Divorcé (e)</td>\n      <td>T4</td>\n    </tr>\n  </tbody>\n</table>\n<p>42748 rows × 8 columns</p>\n</div>"
     },
     "execution_count": 6,
     "metadata": {},
     "output_type": "execute_result"
    }
   ],
   "source": [
    "dfd1.dropna()"
   ],
   "metadata": {
    "collapsed": false,
    "pycharm": {
     "name": "#%%\n"
    }
   }
  },
  {
   "cell_type": "code",
   "execution_count": 7,
   "outputs": [
    {
     "name": "stderr",
     "output_type": "stream",
     "text": [
      "C:\\Users\\arceb\\AppData\\Local\\Temp\\ipykernel_10432\\519414860.py:2: SettingWithCopyWarning: \n",
      "A value is trying to be set on a copy of a slice from a DataFrame\n",
      "\n",
      "See the caveats in the documentation: https://pandas.pydata.org/pandas-docs/stable/user_guide/indexing.html#returning-a-view-versus-a-copy\n",
      "  dfd1.drop(indexNames , inplace=True)\n"
     ]
    },
    {
     "data": {
      "text/plain": "            Numéro Unique  Nb unités de consommation du foyer  \\\n0      111011885857794043                                 1.8   \n1      111051767234510108                                 1.5   \n2      111091777617075056                                 1.5   \n3      111021758912175056                                 1.0   \n4      111111781080175056                                 1.0   \n...                   ...                                 ...   \n42743  111011885009910129                                 1.5   \n42744  1111217829952GDPUB                                 1.8   \n42745  111111782174292019                                 2.0   \n42746  111091647518710129                                 2.0   \n42747  111041228887210033                                 2.5   \n\n       Ressources mensuelles du foyer Date création demande  \\\n0                                   1            2018-01-15   \n1                                   1            2017-05-15   \n2                                   1            2017-09-29   \n3                                   1            2017-02-08   \n4                                   1            2017-11-10   \n...                               ...                   ...   \n42743                           70914            2018-01-04   \n42744                           89164            2017-12-03   \n42745                           99276            2017-11-23   \n42746                          105794            2016-09-23   \n42747                          150113            2012-04-23   \n\n      Date de la radiation  Age demandeur Situation familiale  \\\n0               2018-06-08             37           Marié (e)   \n1               2018-06-01             54          Séparé (e)   \n2               2018-11-26             32        Concubin (e)   \n3               2018-01-03             28         Célibataire   \n4               2018-04-01             45         Célibataire   \n...                    ...            ...                 ...   \n42743           2018-04-24             54         Célibataire   \n42744           2018-02-12             33           Marié (e)   \n42745           2018-08-07             66           Marié (e)   \n42746           2018-05-25             61           Marié (e)   \n42747           2018-04-26             56         Divorcé (e)   \n\n      Type du logement attribué  \n0                            T3  \n1                            T3  \n2                            T2  \n3                            T1  \n4                            T1  \n...                         ...  \n42743                        T3  \n42744                        T3  \n42745                        T4  \n42746                        T3  \n42747                        T4  \n\n[42748 rows x 8 columns]",
      "text/html": "<div>\n<style scoped>\n    .dataframe tbody tr th:only-of-type {\n        vertical-align: middle;\n    }\n\n    .dataframe tbody tr th {\n        vertical-align: top;\n    }\n\n    .dataframe thead th {\n        text-align: right;\n    }\n</style>\n<table border=\"1\" class=\"dataframe\">\n  <thead>\n    <tr style=\"text-align: right;\">\n      <th></th>\n      <th>Numéro Unique</th>\n      <th>Nb unités de consommation du foyer</th>\n      <th>Ressources mensuelles du foyer</th>\n      <th>Date création demande</th>\n      <th>Date de la radiation</th>\n      <th>Age demandeur</th>\n      <th>Situation familiale</th>\n      <th>Type du logement attribué</th>\n    </tr>\n  </thead>\n  <tbody>\n    <tr>\n      <th>0</th>\n      <td>111011885857794043</td>\n      <td>1.8</td>\n      <td>1</td>\n      <td>2018-01-15</td>\n      <td>2018-06-08</td>\n      <td>37</td>\n      <td>Marié (e)</td>\n      <td>T3</td>\n    </tr>\n    <tr>\n      <th>1</th>\n      <td>111051767234510108</td>\n      <td>1.5</td>\n      <td>1</td>\n      <td>2017-05-15</td>\n      <td>2018-06-01</td>\n      <td>54</td>\n      <td>Séparé (e)</td>\n      <td>T3</td>\n    </tr>\n    <tr>\n      <th>2</th>\n      <td>111091777617075056</td>\n      <td>1.5</td>\n      <td>1</td>\n      <td>2017-09-29</td>\n      <td>2018-11-26</td>\n      <td>32</td>\n      <td>Concubin (e)</td>\n      <td>T2</td>\n    </tr>\n    <tr>\n      <th>3</th>\n      <td>111021758912175056</td>\n      <td>1.0</td>\n      <td>1</td>\n      <td>2017-02-08</td>\n      <td>2018-01-03</td>\n      <td>28</td>\n      <td>Célibataire</td>\n      <td>T1</td>\n    </tr>\n    <tr>\n      <th>4</th>\n      <td>111111781080175056</td>\n      <td>1.0</td>\n      <td>1</td>\n      <td>2017-11-10</td>\n      <td>2018-04-01</td>\n      <td>45</td>\n      <td>Célibataire</td>\n      <td>T1</td>\n    </tr>\n    <tr>\n      <th>...</th>\n      <td>...</td>\n      <td>...</td>\n      <td>...</td>\n      <td>...</td>\n      <td>...</td>\n      <td>...</td>\n      <td>...</td>\n      <td>...</td>\n    </tr>\n    <tr>\n      <th>42743</th>\n      <td>111011885009910129</td>\n      <td>1.5</td>\n      <td>70914</td>\n      <td>2018-01-04</td>\n      <td>2018-04-24</td>\n      <td>54</td>\n      <td>Célibataire</td>\n      <td>T3</td>\n    </tr>\n    <tr>\n      <th>42744</th>\n      <td>1111217829952GDPUB</td>\n      <td>1.8</td>\n      <td>89164</td>\n      <td>2017-12-03</td>\n      <td>2018-02-12</td>\n      <td>33</td>\n      <td>Marié (e)</td>\n      <td>T3</td>\n    </tr>\n    <tr>\n      <th>42745</th>\n      <td>111111782174292019</td>\n      <td>2.0</td>\n      <td>99276</td>\n      <td>2017-11-23</td>\n      <td>2018-08-07</td>\n      <td>66</td>\n      <td>Marié (e)</td>\n      <td>T4</td>\n    </tr>\n    <tr>\n      <th>42746</th>\n      <td>111091647518710129</td>\n      <td>2.0</td>\n      <td>105794</td>\n      <td>2016-09-23</td>\n      <td>2018-05-25</td>\n      <td>61</td>\n      <td>Marié (e)</td>\n      <td>T3</td>\n    </tr>\n    <tr>\n      <th>42747</th>\n      <td>111041228887210033</td>\n      <td>2.5</td>\n      <td>150113</td>\n      <td>2012-04-23</td>\n      <td>2018-04-26</td>\n      <td>56</td>\n      <td>Divorcé (e)</td>\n      <td>T4</td>\n    </tr>\n  </tbody>\n</table>\n<p>42748 rows × 8 columns</p>\n</div>"
     },
     "execution_count": 7,
     "metadata": {},
     "output_type": "execute_result"
    }
   ],
   "source": [
    "indexNames = dfd1[ dfd1['Ressources mensuelles du foyer'] < 0 ].index\n",
    "dfd1.drop(indexNames , inplace=True)\n",
    "dfd1"
   ],
   "metadata": {
    "collapsed": false,
    "pycharm": {
     "name": "#%%\n"
    }
   }
  },
  {
   "cell_type": "code",
   "execution_count": 34,
   "outputs": [
    {
     "name": "stderr",
     "output_type": "stream",
     "text": [
      "C:\\Users\\arceb\\AppData\\Local\\Temp\\ipykernel_25580\\2081586591.py:2: SettingWithCopyWarning: \n",
      "A value is trying to be set on a copy of a slice from a DataFrame\n",
      "\n",
      "See the caveats in the documentation: https://pandas.pydata.org/pandas-docs/stable/user_guide/indexing.html#returning-a-view-versus-a-copy\n",
      "  dfd1.drop(indexNames1 , inplace=True)\n"
     ]
    },
    {
     "data": {
      "text/plain": "            Numéro Unique  Nb unités de consommation du foyer  \\\n0      111011885857794043                                 1.8   \n1      111051767234510108                                 1.5   \n2      111091777617075056                                 1.5   \n3      111021758912175056                                 1.0   \n4      111111781080175056                                 1.0   \n...                   ...                                 ...   \n42695  111031891371492044                                 1.5   \n42697  111061897945710012                                 1.5   \n42701  111031897446894B01                                 1.0   \n42705  1110718017084GDPUB                                 1.0   \n42709  1110818029911GDPUB                                 1.0   \n\n       Ressources mensuelles du foyer Date création demande  \\\n0                                   1            2018-01-15   \n1                                   1            2017-05-15   \n2                                   1            2017-09-29   \n3                                   1            2017-02-08   \n4                                   1            2017-11-10   \n...                               ...                   ...   \n42695                            9120            2018-03-19   \n42697                            9800            2018-06-01   \n42701                            7165            2018-03-05   \n42705                            7450            2018-07-27   \n42709                            9411            2018-08-16   \n\n      Date de la radiation  Age demandeur Situation familiale  \n0               2018-06-08             37           Marié (e)  \n1               2018-06-01             54          Séparé (e)  \n2               2018-11-26             32        Concubin (e)  \n3               2018-01-03             28         Célibataire  \n4               2018-04-01             45         Célibataire  \n...                    ...            ...                 ...  \n42695           2018-07-03             33           Marié (e)  \n42697           2018-06-26             62           Marié (e)  \n42701           2018-08-31             40         Célibataire  \n42705           2018-10-18             25         Célibataire  \n42709           2018-09-14             26         Célibataire  \n\n[42694 rows x 7 columns]",
      "text/html": "<div>\n<style scoped>\n    .dataframe tbody tr th:only-of-type {\n        vertical-align: middle;\n    }\n\n    .dataframe tbody tr th {\n        vertical-align: top;\n    }\n\n    .dataframe thead th {\n        text-align: right;\n    }\n</style>\n<table border=\"1\" class=\"dataframe\">\n  <thead>\n    <tr style=\"text-align: right;\">\n      <th></th>\n      <th>Numéro Unique</th>\n      <th>Nb unités de consommation du foyer</th>\n      <th>Ressources mensuelles du foyer</th>\n      <th>Date création demande</th>\n      <th>Date de la radiation</th>\n      <th>Age demandeur</th>\n      <th>Situation familiale</th>\n    </tr>\n  </thead>\n  <tbody>\n    <tr>\n      <th>0</th>\n      <td>111011885857794043</td>\n      <td>1.8</td>\n      <td>1</td>\n      <td>2018-01-15</td>\n      <td>2018-06-08</td>\n      <td>37</td>\n      <td>Marié (e)</td>\n    </tr>\n    <tr>\n      <th>1</th>\n      <td>111051767234510108</td>\n      <td>1.5</td>\n      <td>1</td>\n      <td>2017-05-15</td>\n      <td>2018-06-01</td>\n      <td>54</td>\n      <td>Séparé (e)</td>\n    </tr>\n    <tr>\n      <th>2</th>\n      <td>111091777617075056</td>\n      <td>1.5</td>\n      <td>1</td>\n      <td>2017-09-29</td>\n      <td>2018-11-26</td>\n      <td>32</td>\n      <td>Concubin (e)</td>\n    </tr>\n    <tr>\n      <th>3</th>\n      <td>111021758912175056</td>\n      <td>1.0</td>\n      <td>1</td>\n      <td>2017-02-08</td>\n      <td>2018-01-03</td>\n      <td>28</td>\n      <td>Célibataire</td>\n    </tr>\n    <tr>\n      <th>4</th>\n      <td>111111781080175056</td>\n      <td>1.0</td>\n      <td>1</td>\n      <td>2017-11-10</td>\n      <td>2018-04-01</td>\n      <td>45</td>\n      <td>Célibataire</td>\n    </tr>\n    <tr>\n      <th>...</th>\n      <td>...</td>\n      <td>...</td>\n      <td>...</td>\n      <td>...</td>\n      <td>...</td>\n      <td>...</td>\n      <td>...</td>\n    </tr>\n    <tr>\n      <th>42695</th>\n      <td>111031891371492044</td>\n      <td>1.5</td>\n      <td>9120</td>\n      <td>2018-03-19</td>\n      <td>2018-07-03</td>\n      <td>33</td>\n      <td>Marié (e)</td>\n    </tr>\n    <tr>\n      <th>42697</th>\n      <td>111061897945710012</td>\n      <td>1.5</td>\n      <td>9800</td>\n      <td>2018-06-01</td>\n      <td>2018-06-26</td>\n      <td>62</td>\n      <td>Marié (e)</td>\n    </tr>\n    <tr>\n      <th>42701</th>\n      <td>111031897446894B01</td>\n      <td>1.0</td>\n      <td>7165</td>\n      <td>2018-03-05</td>\n      <td>2018-08-31</td>\n      <td>40</td>\n      <td>Célibataire</td>\n    </tr>\n    <tr>\n      <th>42705</th>\n      <td>1110718017084GDPUB</td>\n      <td>1.0</td>\n      <td>7450</td>\n      <td>2018-07-27</td>\n      <td>2018-10-18</td>\n      <td>25</td>\n      <td>Célibataire</td>\n    </tr>\n    <tr>\n      <th>42709</th>\n      <td>1110818029911GDPUB</td>\n      <td>1.0</td>\n      <td>9411</td>\n      <td>2018-08-16</td>\n      <td>2018-09-14</td>\n      <td>26</td>\n      <td>Célibataire</td>\n    </tr>\n  </tbody>\n</table>\n<p>42694 rows × 7 columns</p>\n</div>"
     },
     "execution_count": 34,
     "metadata": {},
     "output_type": "execute_result"
    }
   ],
   "source": [
    "indexNames1 = dfd1[ dfd1['Ressources mensuelles du foyer'] > 10000 ].index\n",
    "dfd1.drop(indexNames1 , inplace=True)\n",
    "dfd1"
   ],
   "metadata": {
    "collapsed": false,
    "pycharm": {
     "name": "#%%\n"
    }
   }
  },
  {
   "cell_type": "code",
   "execution_count": 35,
   "outputs": [],
   "source": [
    "dfd1=dfd1.dropna()"
   ],
   "metadata": {
    "collapsed": false,
    "pycharm": {
     "name": "#%%\n"
    }
   }
  },
  {
   "cell_type": "code",
   "execution_count": 36,
   "outputs": [
    {
     "data": {
      "text/plain": "            Numéro Unique  Nb unités de consommation du foyer  \\\n0      111011885857794043                                 1.8   \n1      111051767234510108                                 1.5   \n2      111091777617075056                                 1.5   \n3      111021758912175056                                 1.0   \n4      111111781080175056                                 1.0   \n...                   ...                                 ...   \n42695  111031891371492044                                 1.5   \n42697  111061897945710012                                 1.5   \n42701  111031897446894B01                                 1.0   \n42705  1110718017084GDPUB                                 1.0   \n42709  1110818029911GDPUB                                 1.0   \n\n       Ressources mensuelles du foyer Date création demande  \\\n0                                   1            2018-01-15   \n1                                   1            2017-05-15   \n2                                   1            2017-09-29   \n3                                   1            2017-02-08   \n4                                   1            2017-11-10   \n...                               ...                   ...   \n42695                            9120            2018-03-19   \n42697                            9800            2018-06-01   \n42701                            7165            2018-03-05   \n42705                            7450            2018-07-27   \n42709                            9411            2018-08-16   \n\n      Date de la radiation  Age demandeur Situation familiale  \n0               2018-06-08             37           Marié (e)  \n1               2018-06-01             54          Séparé (e)  \n2               2018-11-26             32        Concubin (e)  \n3               2018-01-03             28         Célibataire  \n4               2018-04-01             45         Célibataire  \n...                    ...            ...                 ...  \n42695           2018-07-03             33           Marié (e)  \n42697           2018-06-26             62           Marié (e)  \n42701           2018-08-31             40         Célibataire  \n42705           2018-10-18             25         Célibataire  \n42709           2018-09-14             26         Célibataire  \n\n[42694 rows x 7 columns]",
      "text/html": "<div>\n<style scoped>\n    .dataframe tbody tr th:only-of-type {\n        vertical-align: middle;\n    }\n\n    .dataframe tbody tr th {\n        vertical-align: top;\n    }\n\n    .dataframe thead th {\n        text-align: right;\n    }\n</style>\n<table border=\"1\" class=\"dataframe\">\n  <thead>\n    <tr style=\"text-align: right;\">\n      <th></th>\n      <th>Numéro Unique</th>\n      <th>Nb unités de consommation du foyer</th>\n      <th>Ressources mensuelles du foyer</th>\n      <th>Date création demande</th>\n      <th>Date de la radiation</th>\n      <th>Age demandeur</th>\n      <th>Situation familiale</th>\n    </tr>\n  </thead>\n  <tbody>\n    <tr>\n      <th>0</th>\n      <td>111011885857794043</td>\n      <td>1.8</td>\n      <td>1</td>\n      <td>2018-01-15</td>\n      <td>2018-06-08</td>\n      <td>37</td>\n      <td>Marié (e)</td>\n    </tr>\n    <tr>\n      <th>1</th>\n      <td>111051767234510108</td>\n      <td>1.5</td>\n      <td>1</td>\n      <td>2017-05-15</td>\n      <td>2018-06-01</td>\n      <td>54</td>\n      <td>Séparé (e)</td>\n    </tr>\n    <tr>\n      <th>2</th>\n      <td>111091777617075056</td>\n      <td>1.5</td>\n      <td>1</td>\n      <td>2017-09-29</td>\n      <td>2018-11-26</td>\n      <td>32</td>\n      <td>Concubin (e)</td>\n    </tr>\n    <tr>\n      <th>3</th>\n      <td>111021758912175056</td>\n      <td>1.0</td>\n      <td>1</td>\n      <td>2017-02-08</td>\n      <td>2018-01-03</td>\n      <td>28</td>\n      <td>Célibataire</td>\n    </tr>\n    <tr>\n      <th>4</th>\n      <td>111111781080175056</td>\n      <td>1.0</td>\n      <td>1</td>\n      <td>2017-11-10</td>\n      <td>2018-04-01</td>\n      <td>45</td>\n      <td>Célibataire</td>\n    </tr>\n    <tr>\n      <th>...</th>\n      <td>...</td>\n      <td>...</td>\n      <td>...</td>\n      <td>...</td>\n      <td>...</td>\n      <td>...</td>\n      <td>...</td>\n    </tr>\n    <tr>\n      <th>42695</th>\n      <td>111031891371492044</td>\n      <td>1.5</td>\n      <td>9120</td>\n      <td>2018-03-19</td>\n      <td>2018-07-03</td>\n      <td>33</td>\n      <td>Marié (e)</td>\n    </tr>\n    <tr>\n      <th>42697</th>\n      <td>111061897945710012</td>\n      <td>1.5</td>\n      <td>9800</td>\n      <td>2018-06-01</td>\n      <td>2018-06-26</td>\n      <td>62</td>\n      <td>Marié (e)</td>\n    </tr>\n    <tr>\n      <th>42701</th>\n      <td>111031897446894B01</td>\n      <td>1.0</td>\n      <td>7165</td>\n      <td>2018-03-05</td>\n      <td>2018-08-31</td>\n      <td>40</td>\n      <td>Célibataire</td>\n    </tr>\n    <tr>\n      <th>42705</th>\n      <td>1110718017084GDPUB</td>\n      <td>1.0</td>\n      <td>7450</td>\n      <td>2018-07-27</td>\n      <td>2018-10-18</td>\n      <td>25</td>\n      <td>Célibataire</td>\n    </tr>\n    <tr>\n      <th>42709</th>\n      <td>1110818029911GDPUB</td>\n      <td>1.0</td>\n      <td>9411</td>\n      <td>2018-08-16</td>\n      <td>2018-09-14</td>\n      <td>26</td>\n      <td>Célibataire</td>\n    </tr>\n  </tbody>\n</table>\n<p>42694 rows × 7 columns</p>\n</div>"
     },
     "execution_count": 36,
     "metadata": {},
     "output_type": "execute_result"
    }
   ],
   "source": [
    "dfd1"
   ],
   "metadata": {
    "collapsed": false,
    "pycharm": {
     "name": "#%%\n"
    }
   }
  },
  {
   "cell_type": "markdown",
   "source": [
    "dfd1 donne désormais la base de  données filtrée. On va pouvoir déterminer les quartiles de revenus."
   ],
   "metadata": {
    "collapsed": false,
    "pycharm": {
     "name": "#%% md\n"
    }
   }
  },
  {
   "cell_type": "markdown",
   "source": [
    "#### Détermination des quintiles"
   ],
   "metadata": {
    "collapsed": false,
    "pycharm": {
     "name": "#%% md\n"
    }
   }
  },
  {
   "cell_type": "markdown",
   "source": [
    "On calcule dans un premier temps le revenu par unité de consommation."
   ],
   "metadata": {
    "collapsed": false,
    "pycharm": {
     "name": "#%% md\n"
    }
   }
  },
  {
   "cell_type": "code",
   "execution_count": 8,
   "outputs": [
    {
     "name": "stderr",
     "output_type": "stream",
     "text": [
      "C:\\Users\\arceb\\AppData\\Local\\Temp\\ipykernel_10432\\2797935456.py:3: SettingWithCopyWarning: \n",
      "A value is trying to be set on a copy of a slice from a DataFrame.\n",
      "Try using .loc[row_indexer,col_indexer] = value instead\n",
      "\n",
      "See the caveats in the documentation: https://pandas.pydata.org/pandas-docs/stable/user_guide/indexing.html#returning-a-view-versus-a-copy\n",
      "  dfd1['revenu_par_UC']=revenu/UC\n"
     ]
    },
    {
     "data": {
      "text/plain": "            Numéro Unique  Nb unités de consommation du foyer  \\\n0      111011885857794043                                 1.8   \n1      111051767234510108                                 1.5   \n2      111091777617075056                                 1.5   \n3      111021758912175056                                 1.0   \n4      111111781080175056                                 1.0   \n...                   ...                                 ...   \n42743  111011885009910129                                 1.5   \n42744  1111217829952GDPUB                                 1.8   \n42745  111111782174292019                                 2.0   \n42746  111091647518710129                                 2.0   \n42747  111041228887210033                                 2.5   \n\n       Ressources mensuelles du foyer Date création demande  \\\n0                                   1            2018-01-15   \n1                                   1            2017-05-15   \n2                                   1            2017-09-29   \n3                                   1            2017-02-08   \n4                                   1            2017-11-10   \n...                               ...                   ...   \n42743                           70914            2018-01-04   \n42744                           89164            2017-12-03   \n42745                           99276            2017-11-23   \n42746                          105794            2016-09-23   \n42747                          150113            2012-04-23   \n\n      Date de la radiation  Age demandeur Situation familiale  \\\n0               2018-06-08             37           Marié (e)   \n1               2018-06-01             54          Séparé (e)   \n2               2018-11-26             32        Concubin (e)   \n3               2018-01-03             28         Célibataire   \n4               2018-04-01             45         Célibataire   \n...                    ...            ...                 ...   \n42743           2018-04-24             54         Célibataire   \n42744           2018-02-12             33           Marié (e)   \n42745           2018-08-07             66           Marié (e)   \n42746           2018-05-25             61           Marié (e)   \n42747           2018-04-26             56         Divorcé (e)   \n\n      Type du logement attribué  revenu_par_UC  \n0                            T3       0.555556  \n1                            T3       0.666667  \n2                            T2       0.666667  \n3                            T1       1.000000  \n4                            T1       1.000000  \n...                         ...            ...  \n42743                        T3   47276.000000  \n42744                        T3   49535.555556  \n42745                        T4   49638.000000  \n42746                        T3   52897.000000  \n42747                        T4   60045.200000  \n\n[42748 rows x 9 columns]",
      "text/html": "<div>\n<style scoped>\n    .dataframe tbody tr th:only-of-type {\n        vertical-align: middle;\n    }\n\n    .dataframe tbody tr th {\n        vertical-align: top;\n    }\n\n    .dataframe thead th {\n        text-align: right;\n    }\n</style>\n<table border=\"1\" class=\"dataframe\">\n  <thead>\n    <tr style=\"text-align: right;\">\n      <th></th>\n      <th>Numéro Unique</th>\n      <th>Nb unités de consommation du foyer</th>\n      <th>Ressources mensuelles du foyer</th>\n      <th>Date création demande</th>\n      <th>Date de la radiation</th>\n      <th>Age demandeur</th>\n      <th>Situation familiale</th>\n      <th>Type du logement attribué</th>\n      <th>revenu_par_UC</th>\n    </tr>\n  </thead>\n  <tbody>\n    <tr>\n      <th>0</th>\n      <td>111011885857794043</td>\n      <td>1.8</td>\n      <td>1</td>\n      <td>2018-01-15</td>\n      <td>2018-06-08</td>\n      <td>37</td>\n      <td>Marié (e)</td>\n      <td>T3</td>\n      <td>0.555556</td>\n    </tr>\n    <tr>\n      <th>1</th>\n      <td>111051767234510108</td>\n      <td>1.5</td>\n      <td>1</td>\n      <td>2017-05-15</td>\n      <td>2018-06-01</td>\n      <td>54</td>\n      <td>Séparé (e)</td>\n      <td>T3</td>\n      <td>0.666667</td>\n    </tr>\n    <tr>\n      <th>2</th>\n      <td>111091777617075056</td>\n      <td>1.5</td>\n      <td>1</td>\n      <td>2017-09-29</td>\n      <td>2018-11-26</td>\n      <td>32</td>\n      <td>Concubin (e)</td>\n      <td>T2</td>\n      <td>0.666667</td>\n    </tr>\n    <tr>\n      <th>3</th>\n      <td>111021758912175056</td>\n      <td>1.0</td>\n      <td>1</td>\n      <td>2017-02-08</td>\n      <td>2018-01-03</td>\n      <td>28</td>\n      <td>Célibataire</td>\n      <td>T1</td>\n      <td>1.000000</td>\n    </tr>\n    <tr>\n      <th>4</th>\n      <td>111111781080175056</td>\n      <td>1.0</td>\n      <td>1</td>\n      <td>2017-11-10</td>\n      <td>2018-04-01</td>\n      <td>45</td>\n      <td>Célibataire</td>\n      <td>T1</td>\n      <td>1.000000</td>\n    </tr>\n    <tr>\n      <th>...</th>\n      <td>...</td>\n      <td>...</td>\n      <td>...</td>\n      <td>...</td>\n      <td>...</td>\n      <td>...</td>\n      <td>...</td>\n      <td>...</td>\n      <td>...</td>\n    </tr>\n    <tr>\n      <th>42743</th>\n      <td>111011885009910129</td>\n      <td>1.5</td>\n      <td>70914</td>\n      <td>2018-01-04</td>\n      <td>2018-04-24</td>\n      <td>54</td>\n      <td>Célibataire</td>\n      <td>T3</td>\n      <td>47276.000000</td>\n    </tr>\n    <tr>\n      <th>42744</th>\n      <td>1111217829952GDPUB</td>\n      <td>1.8</td>\n      <td>89164</td>\n      <td>2017-12-03</td>\n      <td>2018-02-12</td>\n      <td>33</td>\n      <td>Marié (e)</td>\n      <td>T3</td>\n      <td>49535.555556</td>\n    </tr>\n    <tr>\n      <th>42745</th>\n      <td>111111782174292019</td>\n      <td>2.0</td>\n      <td>99276</td>\n      <td>2017-11-23</td>\n      <td>2018-08-07</td>\n      <td>66</td>\n      <td>Marié (e)</td>\n      <td>T4</td>\n      <td>49638.000000</td>\n    </tr>\n    <tr>\n      <th>42746</th>\n      <td>111091647518710129</td>\n      <td>2.0</td>\n      <td>105794</td>\n      <td>2016-09-23</td>\n      <td>2018-05-25</td>\n      <td>61</td>\n      <td>Marié (e)</td>\n      <td>T3</td>\n      <td>52897.000000</td>\n    </tr>\n    <tr>\n      <th>42747</th>\n      <td>111041228887210033</td>\n      <td>2.5</td>\n      <td>150113</td>\n      <td>2012-04-23</td>\n      <td>2018-04-26</td>\n      <td>56</td>\n      <td>Divorcé (e)</td>\n      <td>T4</td>\n      <td>60045.200000</td>\n    </tr>\n  </tbody>\n</table>\n<p>42748 rows × 9 columns</p>\n</div>"
     },
     "execution_count": 8,
     "metadata": {},
     "output_type": "execute_result"
    }
   ],
   "source": [
    "UC=dfd1[\"Nb unités de consommation du foyer\"]\n",
    "revenu=dfd1[\"Ressources mensuelles du foyer\"]\n",
    "dfd1['revenu_par_UC']=revenu/UC\n",
    "dfd1"
   ],
   "metadata": {
    "collapsed": false,
    "pycharm": {
     "name": "#%%\n"
    }
   }
  },
  {
   "cell_type": "markdown",
   "source": [
    "Il s'agit désormais de déterminer les quintiles."
   ],
   "metadata": {
    "collapsed": false,
    "pycharm": {
     "name": "#%% md\n"
    }
   }
  },
  {
   "cell_type": "code",
   "execution_count": 9,
   "outputs": [
    {
     "name": "stderr",
     "output_type": "stream",
     "text": [
      "C:\\Users\\arceb\\AppData\\Local\\Temp\\ipykernel_10432\\325979235.py:1: SettingWithCopyWarning: \n",
      "A value is trying to be set on a copy of a slice from a DataFrame.\n",
      "Try using .loc[row_indexer,col_indexer] = value instead\n",
      "\n",
      "See the caveats in the documentation: https://pandas.pydata.org/pandas-docs/stable/user_guide/indexing.html#returning-a-view-versus-a-copy\n",
      "  dfd1['Revenus annuels']=dfd1['revenu_par_UC']*12 #le *12 est pour le revenu annuel\n"
     ]
    }
   ],
   "source": [
    "dfd1['Revenus annuels']=dfd1['revenu_par_UC']*12 #le *12 est pour le revenu annuel"
   ],
   "metadata": {
    "collapsed": false,
    "pycharm": {
     "name": "#%%\n"
    }
   }
  },
  {
   "cell_type": "code",
   "execution_count": 10,
   "outputs": [
    {
     "data": {
      "text/plain": "0             6.666667\n1             8.000000\n2             8.000000\n3            12.000000\n4            12.000000\n             ...      \n42743    567312.000000\n42744    594426.666667\n42745    595656.000000\n42746    634764.000000\n42747    720542.400000\nName: Revenus annuels, Length: 42748, dtype: float64"
     },
     "execution_count": 10,
     "metadata": {},
     "output_type": "execute_result"
    }
   ],
   "source": [
    "dfd1['Revenus annuels']"
   ],
   "metadata": {
    "collapsed": false,
    "pycharm": {
     "name": "#%%\n"
    }
   }
  },
  {
   "cell_type": "code",
   "execution_count": 40,
   "outputs": [
    {
     "data": {
      "text/plain": "count     42694.000000\nmean      17101.386676\nstd        7073.133836\nmin           6.666667\n25%       11992.000000\n50%       16259.032258\n75%       21156.000000\nmax      112932.000000\nName: Revenus annuels, dtype: float64"
     },
     "execution_count": 40,
     "metadata": {},
     "output_type": "execute_result"
    }
   ],
   "source": [
    "dfd1['Revenus annuels'].describe()"
   ],
   "metadata": {
    "collapsed": false,
    "pycharm": {
     "name": "#%%\n"
    }
   }
  },
  {
   "cell_type": "code",
   "execution_count": 41,
   "outputs": [
    {
     "data": {
      "text/plain": "count     42694.000000\nmean      17101.386676\nstd        7073.133836\nmin           6.666667\n20%       11023.542857\n40%       14593.846154\n50%       16259.032258\n60%       18000.000000\n80%       22451.657143\nmax      112932.000000\nName: Revenus annuels, dtype: float64"
     },
     "execution_count": 41,
     "metadata": {},
     "output_type": "execute_result"
    }
   ],
   "source": [
    "dfd1['Revenus annuels'].describe(percentiles=[.2, .4, .6, .8])#pour avoir les quintiles"
   ],
   "metadata": {
    "collapsed": false,
    "pycharm": {
     "name": "#%%\n"
    }
   }
  },
  {
   "cell_type": "markdown",
   "source": [
    "On a les quantiles de revenu annuel :\n",
    "- 20%= 11023.542857\n",
    "- 40%= 14593.846154\n",
    "- 60%= 18000.000000\n",
    "- 80%= 22451.657143\n",
    "\n",
    "A partir de ces valeurs on va déterminer dans une nouvelle colonne 5 groupes de quintiles d'appartenance des demandeurs."
   ],
   "metadata": {
    "collapsed": false,
    "pycharm": {
     "name": "#%% md\n"
    }
   }
  },
  {
   "cell_type": "code",
   "execution_count": 90,
   "outputs": [
    {
     "name": "stderr",
     "output_type": "stream",
     "text": [
      "C:\\Users\\arceb\\AppData\\Local\\Temp\\ipykernel_25580\\590966780.py:1: SettingWithCopyWarning: \n",
      "A value is trying to be set on a copy of a slice from a DataFrame.\n",
      "Try using .loc[row_indexer,col_indexer] = value instead\n",
      "\n",
      "See the caveats in the documentation: https://pandas.pydata.org/pandas-docs/stable/user_guide/indexing.html#returning-a-view-versus-a-copy\n",
      "  dfd1['Catégorie'] = \"\"\n"
     ]
    }
   ],
   "source": [
    "dfd1['Catégorie'] = \"\""
   ],
   "metadata": {
    "collapsed": false,
    "pycharm": {
     "name": "#%%\n"
    }
   }
  },
  {
   "cell_type": "code",
   "execution_count": 18,
   "outputs": [
    {
     "name": "stderr",
     "output_type": "stream",
     "text": [
      "C:\\Users\\arceb\\AppData\\Local\\Temp\\ipykernel_10432\\2193730149.py:1: SettingWithCopyWarning: \n",
      "A value is trying to be set on a copy of a slice from a DataFrame.\n",
      "Try using .loc[row_indexer,col_indexer] = value instead\n",
      "\n",
      "See the caveats in the documentation: https://pandas.pydata.org/pandas-docs/stable/user_guide/indexing.html#returning-a-view-versus-a-copy\n",
      "  dfd1['Catégorie']=pd.cut(dfd1['revenu_par_UC'], [0, 1063.571429, 200000], labels=['Pauvres', 'Autres'])\n"
     ]
    }
   ],
   "source": [
    "dfd1['Catégorie']=pd.cut(dfd1['revenu_par_UC'], [0, 1063.571429, 200000], labels=['Pauvres', 'Autres'])"
   ],
   "metadata": {
    "collapsed": false,
    "pycharm": {
     "name": "#%%\n"
    }
   }
  },
  {
   "cell_type": "markdown",
   "source": [],
   "metadata": {
    "collapsed": false,
    "pycharm": {
     "name": "#%% md\n"
    }
   }
  },
  {
   "cell_type": "code",
   "execution_count": 19,
   "outputs": [
    {
     "data": {
      "text/plain": "            Numéro Unique  Nb unités de consommation du foyer  \\\n0      111011885857794043                                 1.8   \n1      111051767234510108                                 1.5   \n2      111091777617075056                                 1.5   \n3      111021758912175056                                 1.0   \n4      111111781080175056                                 1.0   \n...                   ...                                 ...   \n42743  111011885009910129                                 1.5   \n42744  1111217829952GDPUB                                 1.8   \n42745  111111782174292019                                 2.0   \n42746  111091647518710129                                 2.0   \n42747  111041228887210033                                 2.5   \n\n       Ressources mensuelles du foyer Date création demande  \\\n0                                   1            2018-01-15   \n1                                   1            2017-05-15   \n2                                   1            2017-09-29   \n3                                   1            2017-02-08   \n4                                   1            2017-11-10   \n...                               ...                   ...   \n42743                           70914            2018-01-04   \n42744                           89164            2017-12-03   \n42745                           99276            2017-11-23   \n42746                          105794            2016-09-23   \n42747                          150113            2012-04-23   \n\n      Date de la radiation  Age demandeur Situation familiale  \\\n0               2018-06-08             37           Marié (e)   \n1               2018-06-01             54          Séparé (e)   \n2               2018-11-26             32        Concubin (e)   \n3               2018-01-03             28         Célibataire   \n4               2018-04-01             45         Célibataire   \n...                    ...            ...                 ...   \n42743           2018-04-24             54         Célibataire   \n42744           2018-02-12             33           Marié (e)   \n42745           2018-08-07             66           Marié (e)   \n42746           2018-05-25             61           Marié (e)   \n42747           2018-04-26             56         Divorcé (e)   \n\n      Type du logement attribué  revenu_par_UC  Revenus annuels Catégorie  \\\n0                            T3       0.555556         6.666667   Pauvres   \n1                            T3       0.666667         8.000000   Pauvres   \n2                            T2       0.666667         8.000000   Pauvres   \n3                            T1       1.000000        12.000000   Pauvres   \n4                            T1       1.000000        12.000000   Pauvres   \n...                         ...            ...              ...       ...   \n42743                        T3   47276.000000    567312.000000    Autres   \n42744                        T3   49535.555556    594426.666667    Autres   \n42745                        T4   49638.000000    595656.000000    Autres   \n42746                        T3   52897.000000    634764.000000    Autres   \n42747                        T4   60045.200000    720542.400000    Autres   \n\n               Age Temps attente  \n0      30 à 39 ans      144 days  \n1      50 à 59 ans      382 days  \n2      30 à 39 ans      423 days  \n3       0 à 29 ans      329 days  \n4      40 à 49 ans      142 days  \n...            ...           ...  \n42743  50 à 59 ans      110 days  \n42744  30 à 39 ans       71 days  \n42745   60 à 69ans      257 days  \n42746   60 à 69ans      609 days  \n42747  50 à 59 ans     2194 days  \n\n[42748 rows x 13 columns]",
      "text/html": "<div>\n<style scoped>\n    .dataframe tbody tr th:only-of-type {\n        vertical-align: middle;\n    }\n\n    .dataframe tbody tr th {\n        vertical-align: top;\n    }\n\n    .dataframe thead th {\n        text-align: right;\n    }\n</style>\n<table border=\"1\" class=\"dataframe\">\n  <thead>\n    <tr style=\"text-align: right;\">\n      <th></th>\n      <th>Numéro Unique</th>\n      <th>Nb unités de consommation du foyer</th>\n      <th>Ressources mensuelles du foyer</th>\n      <th>Date création demande</th>\n      <th>Date de la radiation</th>\n      <th>Age demandeur</th>\n      <th>Situation familiale</th>\n      <th>Type du logement attribué</th>\n      <th>revenu_par_UC</th>\n      <th>Revenus annuels</th>\n      <th>Catégorie</th>\n      <th>Age</th>\n      <th>Temps attente</th>\n    </tr>\n  </thead>\n  <tbody>\n    <tr>\n      <th>0</th>\n      <td>111011885857794043</td>\n      <td>1.8</td>\n      <td>1</td>\n      <td>2018-01-15</td>\n      <td>2018-06-08</td>\n      <td>37</td>\n      <td>Marié (e)</td>\n      <td>T3</td>\n      <td>0.555556</td>\n      <td>6.666667</td>\n      <td>Pauvres</td>\n      <td>30 à 39 ans</td>\n      <td>144 days</td>\n    </tr>\n    <tr>\n      <th>1</th>\n      <td>111051767234510108</td>\n      <td>1.5</td>\n      <td>1</td>\n      <td>2017-05-15</td>\n      <td>2018-06-01</td>\n      <td>54</td>\n      <td>Séparé (e)</td>\n      <td>T3</td>\n      <td>0.666667</td>\n      <td>8.000000</td>\n      <td>Pauvres</td>\n      <td>50 à 59 ans</td>\n      <td>382 days</td>\n    </tr>\n    <tr>\n      <th>2</th>\n      <td>111091777617075056</td>\n      <td>1.5</td>\n      <td>1</td>\n      <td>2017-09-29</td>\n      <td>2018-11-26</td>\n      <td>32</td>\n      <td>Concubin (e)</td>\n      <td>T2</td>\n      <td>0.666667</td>\n      <td>8.000000</td>\n      <td>Pauvres</td>\n      <td>30 à 39 ans</td>\n      <td>423 days</td>\n    </tr>\n    <tr>\n      <th>3</th>\n      <td>111021758912175056</td>\n      <td>1.0</td>\n      <td>1</td>\n      <td>2017-02-08</td>\n      <td>2018-01-03</td>\n      <td>28</td>\n      <td>Célibataire</td>\n      <td>T1</td>\n      <td>1.000000</td>\n      <td>12.000000</td>\n      <td>Pauvres</td>\n      <td>0 à 29 ans</td>\n      <td>329 days</td>\n    </tr>\n    <tr>\n      <th>4</th>\n      <td>111111781080175056</td>\n      <td>1.0</td>\n      <td>1</td>\n      <td>2017-11-10</td>\n      <td>2018-04-01</td>\n      <td>45</td>\n      <td>Célibataire</td>\n      <td>T1</td>\n      <td>1.000000</td>\n      <td>12.000000</td>\n      <td>Pauvres</td>\n      <td>40 à 49 ans</td>\n      <td>142 days</td>\n    </tr>\n    <tr>\n      <th>...</th>\n      <td>...</td>\n      <td>...</td>\n      <td>...</td>\n      <td>...</td>\n      <td>...</td>\n      <td>...</td>\n      <td>...</td>\n      <td>...</td>\n      <td>...</td>\n      <td>...</td>\n      <td>...</td>\n      <td>...</td>\n      <td>...</td>\n    </tr>\n    <tr>\n      <th>42743</th>\n      <td>111011885009910129</td>\n      <td>1.5</td>\n      <td>70914</td>\n      <td>2018-01-04</td>\n      <td>2018-04-24</td>\n      <td>54</td>\n      <td>Célibataire</td>\n      <td>T3</td>\n      <td>47276.000000</td>\n      <td>567312.000000</td>\n      <td>Autres</td>\n      <td>50 à 59 ans</td>\n      <td>110 days</td>\n    </tr>\n    <tr>\n      <th>42744</th>\n      <td>1111217829952GDPUB</td>\n      <td>1.8</td>\n      <td>89164</td>\n      <td>2017-12-03</td>\n      <td>2018-02-12</td>\n      <td>33</td>\n      <td>Marié (e)</td>\n      <td>T3</td>\n      <td>49535.555556</td>\n      <td>594426.666667</td>\n      <td>Autres</td>\n      <td>30 à 39 ans</td>\n      <td>71 days</td>\n    </tr>\n    <tr>\n      <th>42745</th>\n      <td>111111782174292019</td>\n      <td>2.0</td>\n      <td>99276</td>\n      <td>2017-11-23</td>\n      <td>2018-08-07</td>\n      <td>66</td>\n      <td>Marié (e)</td>\n      <td>T4</td>\n      <td>49638.000000</td>\n      <td>595656.000000</td>\n      <td>Autres</td>\n      <td>60 à 69ans</td>\n      <td>257 days</td>\n    </tr>\n    <tr>\n      <th>42746</th>\n      <td>111091647518710129</td>\n      <td>2.0</td>\n      <td>105794</td>\n      <td>2016-09-23</td>\n      <td>2018-05-25</td>\n      <td>61</td>\n      <td>Marié (e)</td>\n      <td>T3</td>\n      <td>52897.000000</td>\n      <td>634764.000000</td>\n      <td>Autres</td>\n      <td>60 à 69ans</td>\n      <td>609 days</td>\n    </tr>\n    <tr>\n      <th>42747</th>\n      <td>111041228887210033</td>\n      <td>2.5</td>\n      <td>150113</td>\n      <td>2012-04-23</td>\n      <td>2018-04-26</td>\n      <td>56</td>\n      <td>Divorcé (e)</td>\n      <td>T4</td>\n      <td>60045.200000</td>\n      <td>720542.400000</td>\n      <td>Autres</td>\n      <td>50 à 59 ans</td>\n      <td>2194 days</td>\n    </tr>\n  </tbody>\n</table>\n<p>42748 rows × 13 columns</p>\n</div>"
     },
     "execution_count": 19,
     "metadata": {},
     "output_type": "execute_result"
    }
   ],
   "source": [
    "dfd1"
   ],
   "metadata": {
    "collapsed": false,
    "pycharm": {
     "name": "#%%\n"
    }
   }
  },
  {
   "cell_type": "markdown",
   "source": [
    "#### Création des tranches d'âge"
   ],
   "metadata": {
    "collapsed": false,
    "pycharm": {
     "name": "#%% md\n"
    }
   }
  },
  {
   "cell_type": "code",
   "execution_count": 20,
   "outputs": [
    {
     "name": "stderr",
     "output_type": "stream",
     "text": [
      "C:\\Users\\arceb\\AppData\\Local\\Temp\\ipykernel_10432\\2946466155.py:1: SettingWithCopyWarning: \n",
      "A value is trying to be set on a copy of a slice from a DataFrame.\n",
      "Try using .loc[row_indexer,col_indexer] = value instead\n",
      "\n",
      "See the caveats in the documentation: https://pandas.pydata.org/pandas-docs/stable/user_guide/indexing.html#returning-a-view-versus-a-copy\n",
      "  dfd1['Age'] = \"\"\n",
      "C:\\Users\\arceb\\AppData\\Local\\Temp\\ipykernel_10432\\2946466155.py:2: SettingWithCopyWarning: \n",
      "A value is trying to be set on a copy of a slice from a DataFrame.\n",
      "Try using .loc[row_indexer,col_indexer] = value instead\n",
      "\n",
      "See the caveats in the documentation: https://pandas.pydata.org/pandas-docs/stable/user_guide/indexing.html#returning-a-view-versus-a-copy\n",
      "  dfd1['Age']=pd.cut(dfd1['Age demandeur'], [0, 29, 39, 49, 59, 69, 130], labels=['0 à 29 ans', '30 à 39 ans', '40 à 49 ans', '50 à 59 ans', '60 à 69ans', '70 ans et plus'])\n"
     ]
    },
    {
     "data": {
      "text/plain": "            Numéro Unique  Nb unités de consommation du foyer  \\\n0      111011885857794043                                 1.8   \n1      111051767234510108                                 1.5   \n2      111091777617075056                                 1.5   \n3      111021758912175056                                 1.0   \n4      111111781080175056                                 1.0   \n...                   ...                                 ...   \n42743  111011885009910129                                 1.5   \n42744  1111217829952GDPUB                                 1.8   \n42745  111111782174292019                                 2.0   \n42746  111091647518710129                                 2.0   \n42747  111041228887210033                                 2.5   \n\n       Ressources mensuelles du foyer Date création demande  \\\n0                                   1            2018-01-15   \n1                                   1            2017-05-15   \n2                                   1            2017-09-29   \n3                                   1            2017-02-08   \n4                                   1            2017-11-10   \n...                               ...                   ...   \n42743                           70914            2018-01-04   \n42744                           89164            2017-12-03   \n42745                           99276            2017-11-23   \n42746                          105794            2016-09-23   \n42747                          150113            2012-04-23   \n\n      Date de la radiation  Age demandeur Situation familiale  \\\n0               2018-06-08             37           Marié (e)   \n1               2018-06-01             54          Séparé (e)   \n2               2018-11-26             32        Concubin (e)   \n3               2018-01-03             28         Célibataire   \n4               2018-04-01             45         Célibataire   \n...                    ...            ...                 ...   \n42743           2018-04-24             54         Célibataire   \n42744           2018-02-12             33           Marié (e)   \n42745           2018-08-07             66           Marié (e)   \n42746           2018-05-25             61           Marié (e)   \n42747           2018-04-26             56         Divorcé (e)   \n\n      Type du logement attribué  revenu_par_UC  Revenus annuels Catégorie  \\\n0                            T3       0.555556         6.666667   Pauvres   \n1                            T3       0.666667         8.000000   Pauvres   \n2                            T2       0.666667         8.000000   Pauvres   \n3                            T1       1.000000        12.000000   Pauvres   \n4                            T1       1.000000        12.000000   Pauvres   \n...                         ...            ...              ...       ...   \n42743                        T3   47276.000000    567312.000000    Autres   \n42744                        T3   49535.555556    594426.666667    Autres   \n42745                        T4   49638.000000    595656.000000    Autres   \n42746                        T3   52897.000000    634764.000000    Autres   \n42747                        T4   60045.200000    720542.400000    Autres   \n\n               Age Temps attente  \n0      30 à 39 ans      144 days  \n1      50 à 59 ans      382 days  \n2      30 à 39 ans      423 days  \n3       0 à 29 ans      329 days  \n4      40 à 49 ans      142 days  \n...            ...           ...  \n42743  50 à 59 ans      110 days  \n42744  30 à 39 ans       71 days  \n42745   60 à 69ans      257 days  \n42746   60 à 69ans      609 days  \n42747  50 à 59 ans     2194 days  \n\n[42748 rows x 13 columns]",
      "text/html": "<div>\n<style scoped>\n    .dataframe tbody tr th:only-of-type {\n        vertical-align: middle;\n    }\n\n    .dataframe tbody tr th {\n        vertical-align: top;\n    }\n\n    .dataframe thead th {\n        text-align: right;\n    }\n</style>\n<table border=\"1\" class=\"dataframe\">\n  <thead>\n    <tr style=\"text-align: right;\">\n      <th></th>\n      <th>Numéro Unique</th>\n      <th>Nb unités de consommation du foyer</th>\n      <th>Ressources mensuelles du foyer</th>\n      <th>Date création demande</th>\n      <th>Date de la radiation</th>\n      <th>Age demandeur</th>\n      <th>Situation familiale</th>\n      <th>Type du logement attribué</th>\n      <th>revenu_par_UC</th>\n      <th>Revenus annuels</th>\n      <th>Catégorie</th>\n      <th>Age</th>\n      <th>Temps attente</th>\n    </tr>\n  </thead>\n  <tbody>\n    <tr>\n      <th>0</th>\n      <td>111011885857794043</td>\n      <td>1.8</td>\n      <td>1</td>\n      <td>2018-01-15</td>\n      <td>2018-06-08</td>\n      <td>37</td>\n      <td>Marié (e)</td>\n      <td>T3</td>\n      <td>0.555556</td>\n      <td>6.666667</td>\n      <td>Pauvres</td>\n      <td>30 à 39 ans</td>\n      <td>144 days</td>\n    </tr>\n    <tr>\n      <th>1</th>\n      <td>111051767234510108</td>\n      <td>1.5</td>\n      <td>1</td>\n      <td>2017-05-15</td>\n      <td>2018-06-01</td>\n      <td>54</td>\n      <td>Séparé (e)</td>\n      <td>T3</td>\n      <td>0.666667</td>\n      <td>8.000000</td>\n      <td>Pauvres</td>\n      <td>50 à 59 ans</td>\n      <td>382 days</td>\n    </tr>\n    <tr>\n      <th>2</th>\n      <td>111091777617075056</td>\n      <td>1.5</td>\n      <td>1</td>\n      <td>2017-09-29</td>\n      <td>2018-11-26</td>\n      <td>32</td>\n      <td>Concubin (e)</td>\n      <td>T2</td>\n      <td>0.666667</td>\n      <td>8.000000</td>\n      <td>Pauvres</td>\n      <td>30 à 39 ans</td>\n      <td>423 days</td>\n    </tr>\n    <tr>\n      <th>3</th>\n      <td>111021758912175056</td>\n      <td>1.0</td>\n      <td>1</td>\n      <td>2017-02-08</td>\n      <td>2018-01-03</td>\n      <td>28</td>\n      <td>Célibataire</td>\n      <td>T1</td>\n      <td>1.000000</td>\n      <td>12.000000</td>\n      <td>Pauvres</td>\n      <td>0 à 29 ans</td>\n      <td>329 days</td>\n    </tr>\n    <tr>\n      <th>4</th>\n      <td>111111781080175056</td>\n      <td>1.0</td>\n      <td>1</td>\n      <td>2017-11-10</td>\n      <td>2018-04-01</td>\n      <td>45</td>\n      <td>Célibataire</td>\n      <td>T1</td>\n      <td>1.000000</td>\n      <td>12.000000</td>\n      <td>Pauvres</td>\n      <td>40 à 49 ans</td>\n      <td>142 days</td>\n    </tr>\n    <tr>\n      <th>...</th>\n      <td>...</td>\n      <td>...</td>\n      <td>...</td>\n      <td>...</td>\n      <td>...</td>\n      <td>...</td>\n      <td>...</td>\n      <td>...</td>\n      <td>...</td>\n      <td>...</td>\n      <td>...</td>\n      <td>...</td>\n      <td>...</td>\n    </tr>\n    <tr>\n      <th>42743</th>\n      <td>111011885009910129</td>\n      <td>1.5</td>\n      <td>70914</td>\n      <td>2018-01-04</td>\n      <td>2018-04-24</td>\n      <td>54</td>\n      <td>Célibataire</td>\n      <td>T3</td>\n      <td>47276.000000</td>\n      <td>567312.000000</td>\n      <td>Autres</td>\n      <td>50 à 59 ans</td>\n      <td>110 days</td>\n    </tr>\n    <tr>\n      <th>42744</th>\n      <td>1111217829952GDPUB</td>\n      <td>1.8</td>\n      <td>89164</td>\n      <td>2017-12-03</td>\n      <td>2018-02-12</td>\n      <td>33</td>\n      <td>Marié (e)</td>\n      <td>T3</td>\n      <td>49535.555556</td>\n      <td>594426.666667</td>\n      <td>Autres</td>\n      <td>30 à 39 ans</td>\n      <td>71 days</td>\n    </tr>\n    <tr>\n      <th>42745</th>\n      <td>111111782174292019</td>\n      <td>2.0</td>\n      <td>99276</td>\n      <td>2017-11-23</td>\n      <td>2018-08-07</td>\n      <td>66</td>\n      <td>Marié (e)</td>\n      <td>T4</td>\n      <td>49638.000000</td>\n      <td>595656.000000</td>\n      <td>Autres</td>\n      <td>60 à 69ans</td>\n      <td>257 days</td>\n    </tr>\n    <tr>\n      <th>42746</th>\n      <td>111091647518710129</td>\n      <td>2.0</td>\n      <td>105794</td>\n      <td>2016-09-23</td>\n      <td>2018-05-25</td>\n      <td>61</td>\n      <td>Marié (e)</td>\n      <td>T3</td>\n      <td>52897.000000</td>\n      <td>634764.000000</td>\n      <td>Autres</td>\n      <td>60 à 69ans</td>\n      <td>609 days</td>\n    </tr>\n    <tr>\n      <th>42747</th>\n      <td>111041228887210033</td>\n      <td>2.5</td>\n      <td>150113</td>\n      <td>2012-04-23</td>\n      <td>2018-04-26</td>\n      <td>56</td>\n      <td>Divorcé (e)</td>\n      <td>T4</td>\n      <td>60045.200000</td>\n      <td>720542.400000</td>\n      <td>Autres</td>\n      <td>50 à 59 ans</td>\n      <td>2194 days</td>\n    </tr>\n  </tbody>\n</table>\n<p>42748 rows × 13 columns</p>\n</div>"
     },
     "execution_count": 20,
     "metadata": {},
     "output_type": "execute_result"
    }
   ],
   "source": [
    "dfd1['Age'] = \"\"\n",
    "dfd1['Age']=pd.cut(dfd1['Age demandeur'], [0, 29, 39, 49, 59, 69, 130], labels=['0 à 29 ans', '30 à 39 ans', '40 à 49 ans', '50 à 59 ans', '60 à 69ans', '70 ans et plus'])\n",
    "dfd1"
   ],
   "metadata": {
    "collapsed": false,
    "pycharm": {
     "name": "#%%\n"
    }
   }
  },
  {
   "cell_type": "markdown",
   "source": [
    "#### Travail sur le taux d'attente\n",
    "\n",
    "Pour travailler sur le taux d'attente, on va fusionner à notre base de données des demandeurs filtrée à la base attributaires et calculer les taux d'attente des personnes attributaires dans l'année en fonction de la date de leur demande et de la date de leur acceptation."
   ],
   "metadata": {
    "collapsed": false,
    "pycharm": {
     "name": "#%% md\n"
    }
   }
  },
  {
   "cell_type": "code",
   "execution_count": 23,
   "outputs": [
    {
     "name": "stderr",
     "output_type": "stream",
     "text": [
      "C:\\Users\\arceb\\AppData\\Local\\Temp\\ipykernel_39428\\988554171.py:1: DtypeWarning: Columns (7,8,25) have mixed types. Specify dtype option on import or set low_memory=False.\n",
      "  dfa = pd.read_csv(r'C:\\Users\\arceb\\Desktop\\Stage\\BDD/attributaires_IDF.csv')\n"
     ]
    }
   ],
   "source": [
    "dfa = pd.read_csv(r'C:\\Users\\arceb\\Desktop\\Stage\\BDD/attributaires_IDF.csv')"
   ],
   "metadata": {
    "collapsed": false,
    "pycharm": {
     "name": "#%%\n"
    }
   }
  },
  {
   "cell_type": "code",
   "execution_count": 24,
   "outputs": [
    {
     "data": {
      "text/plain": "        Unnamed: 0         région       Numéro Unique Date création demande  \\\n0                0  Ile-de-France  175037900427000002   1979-03-01 00:00:00   \n1                1  Ile-de-France  175118000728300002   1980-11-14 00:00:00   \n2                2  Ile-de-France  211048217550092024   1982-04-01 00:00:00   \n3                3  Ile-de-France  175108301617300002   1983-10-17 00:00:00   \n4                4  Ile-de-France  175128420982700002   1984-12-01 00:00:00   \n...            ...            ...                 ...                   ...   \n153709      153709  Ile-de-France  1111218129847GDPUB   2018-12-19 00:00:00   \n153710      153710  Ile-de-France  111121812788778498   2018-12-20 00:00:00   \n153711      153711  Ile-de-France  111121812792310122   2018-12-20 00:00:00   \n153712      153712  Ile-de-France  111121813038177438   2018-12-21 00:00:00   \n153713      153713  Ile-de-France  111121813209910389   2018-12-28 00:00:00   \n\n       Date de la radiation  Age demandeur Situation familiale  \\\n0       2018-04-13 00:00:00             59           Veuf (ve)   \n1       2018-06-04 00:00:00             72           Veuf (ve)   \n2       2018-11-27 00:00:00             91         Divorcé (e)   \n3       2018-10-30 00:00:00             64         Célibataire   \n4       2018-04-10 00:00:00             57         Célibataire   \n...                     ...            ...                 ...   \n153709  2019-01-01 00:00:00             70           Marié (e)   \n153710  2018-12-21 00:00:00             51         Célibataire   \n153711  2018-12-28 00:00:00             86           Veuf (ve)   \n153712  2018-12-31 00:00:00             48        Concubin (e)   \n153713  2018-12-31 00:00:00             28        Concubin (e)   \n\n       Code département logement actuel Code INSEE logt actuel  \\\n0                                    75                75112.0   \n1                                    75                75117.0   \n2                                    92                92024.0   \n3                                    75                75111.0   \n4                                    75                75119.0   \n...                                 ...                    ...   \n153709                               78                78440.0   \n153710                               78                78498.0   \n153711                               78                78440.0   \n153712                               77                77438.0   \n153713                               91                91228.0   \n\n               Commune logt actuel  ...  Code de la commune attribuée  \\\n0       Paris 12ème arrondissement  ...                         75120   \n1       Paris 17ème arrondissement  ...                         75117   \n2                           Clichy  ...                         92024   \n3       Paris 11ème arrondissement  ...                         75119   \n4       Paris 19ème arrondissement  ...                         75120   \n...                            ...  ...                           ...   \n153709                 Les Mureaux  ...                         78361   \n153710                      Poissy  ...                         78498   \n153711                 Les Mureaux  ...                         78314   \n153712   Saint-Thibault-des-Vignes  ...                         77243   \n153713                        Évry  ...                         91174   \n\n       Région du logement attribué Type du logement attribué Est en QPV  \\\n0                    Ile-de-France                        T1        Oui   \n1                    Ile-de-France                        T2        Non   \n2                    Ile-de-France                        T1        Non   \n3                    Ile-de-France                        T2        Non   \n4                    Ile-de-France                        T2        Non   \n...                            ...                       ...        ...   \n153709               Ile-de-France                        T2        Oui   \n153710               Ile-de-France                        T2        Oui   \n153711               Ile-de-France                        T2        Non   \n153712               Ile-de-France                        T3        Non   \n153713               Ile-de-France                        T2        Oui   \n\n        Surface du logement attribué    Statut DALO  \\\n0                                 20   Actif relogé   \n1                                 44   Actif relogé   \n2                                 35  Non renseigné   \n3                                 55  Non renseigné   \n4                                 53  Non renseigné   \n...                              ...            ...   \n153709                            47  Non renseigné   \n153710                            46  Non renseigné   \n153711                            53  Non renseigné   \n153712                            63  Non renseigné   \n153713                            50  Non renseigné   \n\n        Date de la décision DALO\\n\\n Accompagnement social Diagnostic social  \\\n0                2012-06-15 00:00:00                   Non               Non   \n1                2013-07-12 00:00:00                   Non               Non   \n2                                NaN                   Non               Non   \n3                                NaN                   Non               Non   \n4                                NaN                   Non               Non   \n...                              ...                   ...               ...   \n153709                           NaN                   Non               Non   \n153710                           NaN                   Non               Non   \n153711                           NaN                   Non               Non   \n153712                           NaN                   Non               Non   \n153713                           NaN                   Non               Non   \n\n                                             Réservataire  \n0       Contingent des collectivités territoriales, de...  \n1                         Contingent autres réservataires  \n2       Contingent des collectivités territoriales, de...  \n3                                         Hors contingent  \n4       Contingent des collectivités territoriales, de...  \n...                                                   ...  \n153709                    Contingent autres réservataires  \n153710                                 Contingent commune  \n153711                                    Hors contingent  \n153712                             Contingent département  \n153713  Contingent préfet prioritaires (hors fonctionn...  \n\n[153714 rows x 39 columns]",
      "text/html": "<div>\n<style scoped>\n    .dataframe tbody tr th:only-of-type {\n        vertical-align: middle;\n    }\n\n    .dataframe tbody tr th {\n        vertical-align: top;\n    }\n\n    .dataframe thead th {\n        text-align: right;\n    }\n</style>\n<table border=\"1\" class=\"dataframe\">\n  <thead>\n    <tr style=\"text-align: right;\">\n      <th></th>\n      <th>Unnamed: 0</th>\n      <th>région</th>\n      <th>Numéro Unique</th>\n      <th>Date création demande</th>\n      <th>Date de la radiation</th>\n      <th>Age demandeur</th>\n      <th>Situation familiale</th>\n      <th>Code département logement actuel</th>\n      <th>Code INSEE logt actuel</th>\n      <th>Commune logt actuel</th>\n      <th>...</th>\n      <th>Code de la commune attribuée</th>\n      <th>Région du logement attribué</th>\n      <th>Type du logement attribué</th>\n      <th>Est en QPV</th>\n      <th>Surface du logement attribué</th>\n      <th>Statut DALO</th>\n      <th>Date de la décision DALO\\n\\n</th>\n      <th>Accompagnement social</th>\n      <th>Diagnostic social</th>\n      <th>Réservataire</th>\n    </tr>\n  </thead>\n  <tbody>\n    <tr>\n      <th>0</th>\n      <td>0</td>\n      <td>Ile-de-France</td>\n      <td>175037900427000002</td>\n      <td>1979-03-01 00:00:00</td>\n      <td>2018-04-13 00:00:00</td>\n      <td>59</td>\n      <td>Veuf (ve)</td>\n      <td>75</td>\n      <td>75112.0</td>\n      <td>Paris 12ème arrondissement</td>\n      <td>...</td>\n      <td>75120</td>\n      <td>Ile-de-France</td>\n      <td>T1</td>\n      <td>Oui</td>\n      <td>20</td>\n      <td>Actif relogé</td>\n      <td>2012-06-15 00:00:00</td>\n      <td>Non</td>\n      <td>Non</td>\n      <td>Contingent des collectivités territoriales, de...</td>\n    </tr>\n    <tr>\n      <th>1</th>\n      <td>1</td>\n      <td>Ile-de-France</td>\n      <td>175118000728300002</td>\n      <td>1980-11-14 00:00:00</td>\n      <td>2018-06-04 00:00:00</td>\n      <td>72</td>\n      <td>Veuf (ve)</td>\n      <td>75</td>\n      <td>75117.0</td>\n      <td>Paris 17ème arrondissement</td>\n      <td>...</td>\n      <td>75117</td>\n      <td>Ile-de-France</td>\n      <td>T2</td>\n      <td>Non</td>\n      <td>44</td>\n      <td>Actif relogé</td>\n      <td>2013-07-12 00:00:00</td>\n      <td>Non</td>\n      <td>Non</td>\n      <td>Contingent autres réservataires</td>\n    </tr>\n    <tr>\n      <th>2</th>\n      <td>2</td>\n      <td>Ile-de-France</td>\n      <td>211048217550092024</td>\n      <td>1982-04-01 00:00:00</td>\n      <td>2018-11-27 00:00:00</td>\n      <td>91</td>\n      <td>Divorcé (e)</td>\n      <td>92</td>\n      <td>92024.0</td>\n      <td>Clichy</td>\n      <td>...</td>\n      <td>92024</td>\n      <td>Ile-de-France</td>\n      <td>T1</td>\n      <td>Non</td>\n      <td>35</td>\n      <td>Non renseigné</td>\n      <td>NaN</td>\n      <td>Non</td>\n      <td>Non</td>\n      <td>Contingent des collectivités territoriales, de...</td>\n    </tr>\n    <tr>\n      <th>3</th>\n      <td>3</td>\n      <td>Ile-de-France</td>\n      <td>175108301617300002</td>\n      <td>1983-10-17 00:00:00</td>\n      <td>2018-10-30 00:00:00</td>\n      <td>64</td>\n      <td>Célibataire</td>\n      <td>75</td>\n      <td>75111.0</td>\n      <td>Paris 11ème arrondissement</td>\n      <td>...</td>\n      <td>75119</td>\n      <td>Ile-de-France</td>\n      <td>T2</td>\n      <td>Non</td>\n      <td>55</td>\n      <td>Non renseigné</td>\n      <td>NaN</td>\n      <td>Non</td>\n      <td>Non</td>\n      <td>Hors contingent</td>\n    </tr>\n    <tr>\n      <th>4</th>\n      <td>4</td>\n      <td>Ile-de-France</td>\n      <td>175128420982700002</td>\n      <td>1984-12-01 00:00:00</td>\n      <td>2018-04-10 00:00:00</td>\n      <td>57</td>\n      <td>Célibataire</td>\n      <td>75</td>\n      <td>75119.0</td>\n      <td>Paris 19ème arrondissement</td>\n      <td>...</td>\n      <td>75120</td>\n      <td>Ile-de-France</td>\n      <td>T2</td>\n      <td>Non</td>\n      <td>53</td>\n      <td>Non renseigné</td>\n      <td>NaN</td>\n      <td>Non</td>\n      <td>Non</td>\n      <td>Contingent des collectivités territoriales, de...</td>\n    </tr>\n    <tr>\n      <th>...</th>\n      <td>...</td>\n      <td>...</td>\n      <td>...</td>\n      <td>...</td>\n      <td>...</td>\n      <td>...</td>\n      <td>...</td>\n      <td>...</td>\n      <td>...</td>\n      <td>...</td>\n      <td>...</td>\n      <td>...</td>\n      <td>...</td>\n      <td>...</td>\n      <td>...</td>\n      <td>...</td>\n      <td>...</td>\n      <td>...</td>\n      <td>...</td>\n      <td>...</td>\n      <td>...</td>\n    </tr>\n    <tr>\n      <th>153709</th>\n      <td>153709</td>\n      <td>Ile-de-France</td>\n      <td>1111218129847GDPUB</td>\n      <td>2018-12-19 00:00:00</td>\n      <td>2019-01-01 00:00:00</td>\n      <td>70</td>\n      <td>Marié (e)</td>\n      <td>78</td>\n      <td>78440.0</td>\n      <td>Les Mureaux</td>\n      <td>...</td>\n      <td>78361</td>\n      <td>Ile-de-France</td>\n      <td>T2</td>\n      <td>Oui</td>\n      <td>47</td>\n      <td>Non renseigné</td>\n      <td>NaN</td>\n      <td>Non</td>\n      <td>Non</td>\n      <td>Contingent autres réservataires</td>\n    </tr>\n    <tr>\n      <th>153710</th>\n      <td>153710</td>\n      <td>Ile-de-France</td>\n      <td>111121812788778498</td>\n      <td>2018-12-20 00:00:00</td>\n      <td>2018-12-21 00:00:00</td>\n      <td>51</td>\n      <td>Célibataire</td>\n      <td>78</td>\n      <td>78498.0</td>\n      <td>Poissy</td>\n      <td>...</td>\n      <td>78498</td>\n      <td>Ile-de-France</td>\n      <td>T2</td>\n      <td>Oui</td>\n      <td>46</td>\n      <td>Non renseigné</td>\n      <td>NaN</td>\n      <td>Non</td>\n      <td>Non</td>\n      <td>Contingent commune</td>\n    </tr>\n    <tr>\n      <th>153711</th>\n      <td>153711</td>\n      <td>Ile-de-France</td>\n      <td>111121812792310122</td>\n      <td>2018-12-20 00:00:00</td>\n      <td>2018-12-28 00:00:00</td>\n      <td>86</td>\n      <td>Veuf (ve)</td>\n      <td>78</td>\n      <td>78440.0</td>\n      <td>Les Mureaux</td>\n      <td>...</td>\n      <td>78314</td>\n      <td>Ile-de-France</td>\n      <td>T2</td>\n      <td>Non</td>\n      <td>53</td>\n      <td>Non renseigné</td>\n      <td>NaN</td>\n      <td>Non</td>\n      <td>Non</td>\n      <td>Hors contingent</td>\n    </tr>\n    <tr>\n      <th>153712</th>\n      <td>153712</td>\n      <td>Ile-de-France</td>\n      <td>111121813038177438</td>\n      <td>2018-12-21 00:00:00</td>\n      <td>2018-12-31 00:00:00</td>\n      <td>48</td>\n      <td>Concubin (e)</td>\n      <td>77</td>\n      <td>77438.0</td>\n      <td>Saint-Thibault-des-Vignes</td>\n      <td>...</td>\n      <td>77243</td>\n      <td>Ile-de-France</td>\n      <td>T3</td>\n      <td>Non</td>\n      <td>63</td>\n      <td>Non renseigné</td>\n      <td>NaN</td>\n      <td>Non</td>\n      <td>Non</td>\n      <td>Contingent département</td>\n    </tr>\n    <tr>\n      <th>153713</th>\n      <td>153713</td>\n      <td>Ile-de-France</td>\n      <td>111121813209910389</td>\n      <td>2018-12-28 00:00:00</td>\n      <td>2018-12-31 00:00:00</td>\n      <td>28</td>\n      <td>Concubin (e)</td>\n      <td>91</td>\n      <td>91228.0</td>\n      <td>Évry</td>\n      <td>...</td>\n      <td>91174</td>\n      <td>Ile-de-France</td>\n      <td>T2</td>\n      <td>Oui</td>\n      <td>50</td>\n      <td>Non renseigné</td>\n      <td>NaN</td>\n      <td>Non</td>\n      <td>Non</td>\n      <td>Contingent préfet prioritaires (hors fonctionn...</td>\n    </tr>\n  </tbody>\n</table>\n<p>153714 rows × 39 columns</p>\n</div>"
     },
     "execution_count": 24,
     "metadata": {},
     "output_type": "execute_result"
    }
   ],
   "source": [
    "dfa"
   ],
   "metadata": {
    "collapsed": false,
    "pycharm": {
     "name": "#%%\n"
    }
   }
  },
  {
   "cell_type": "code",
   "execution_count": 3,
   "outputs": [
    {
     "data": {
      "text/plain": "             Numéro Unique                        Composition foyer demandeur  \\\n0       175037900427000002                                     Personne seule   \n1       175118000728300002                                     Personne seule   \n2       211048217550092024                                     Personne seule   \n3       175108301617300002                            Au moins 2 cotitulaires   \n4       175128420982700002                                     Personne seule   \n...                    ...                                                ...   \n153709  1111218129847GDPUB                            Au moins 2 cotitulaires   \n153710  111121812788778498                                     Personne seule   \n153711  111121812792310122                                     Personne seule   \n153712  111121813038177438  Au moins 2 cotitulaires avec 2 personnes à charge   \n153713  111121813209910389  Au moins 2 cotitulaires avec une personne à ch...   \n\n       Situation professionnelle demandeur Type du logement attribué  \\\n0                                 Retraité                        T1   \n1                                 Retraité                        T2   \n2                                 Retraité                        T1   \n3                                 Retraité                        T2   \n4                   CDI (ou fonctionnaire)                        T2   \n...                                    ...                       ...   \n153709                            Retraité                        T2   \n153710                               Autre                        T2   \n153711                            Retraité                        T2   \n153712                                 CDI                        T3   \n153713                                 CDI                        T2   \n\n          Statut DALO Date de la radiation  \n0        Actif relogé  2018-04-13 00:00:00  \n1        Actif relogé  2018-06-04 00:00:00  \n2       Non renseigné  2018-11-27 00:00:00  \n3       Non renseigné  2018-10-30 00:00:00  \n4       Non renseigné  2018-04-10 00:00:00  \n...               ...                  ...  \n153709  Non renseigné  2019-01-01 00:00:00  \n153710  Non renseigné  2018-12-21 00:00:00  \n153711  Non renseigné  2018-12-28 00:00:00  \n153712  Non renseigné  2018-12-31 00:00:00  \n153713  Non renseigné  2018-12-31 00:00:00  \n\n[153714 rows x 6 columns]",
      "text/html": "<div>\n<style scoped>\n    .dataframe tbody tr th:only-of-type {\n        vertical-align: middle;\n    }\n\n    .dataframe tbody tr th {\n        vertical-align: top;\n    }\n\n    .dataframe thead th {\n        text-align: right;\n    }\n</style>\n<table border=\"1\" class=\"dataframe\">\n  <thead>\n    <tr style=\"text-align: right;\">\n      <th></th>\n      <th>Numéro Unique</th>\n      <th>Composition foyer demandeur</th>\n      <th>Situation professionnelle demandeur</th>\n      <th>Type du logement attribué</th>\n      <th>Statut DALO</th>\n      <th>Date de la radiation</th>\n    </tr>\n  </thead>\n  <tbody>\n    <tr>\n      <th>0</th>\n      <td>175037900427000002</td>\n      <td>Personne seule</td>\n      <td>Retraité</td>\n      <td>T1</td>\n      <td>Actif relogé</td>\n      <td>2018-04-13 00:00:00</td>\n    </tr>\n    <tr>\n      <th>1</th>\n      <td>175118000728300002</td>\n      <td>Personne seule</td>\n      <td>Retraité</td>\n      <td>T2</td>\n      <td>Actif relogé</td>\n      <td>2018-06-04 00:00:00</td>\n    </tr>\n    <tr>\n      <th>2</th>\n      <td>211048217550092024</td>\n      <td>Personne seule</td>\n      <td>Retraité</td>\n      <td>T1</td>\n      <td>Non renseigné</td>\n      <td>2018-11-27 00:00:00</td>\n    </tr>\n    <tr>\n      <th>3</th>\n      <td>175108301617300002</td>\n      <td>Au moins 2 cotitulaires</td>\n      <td>Retraité</td>\n      <td>T2</td>\n      <td>Non renseigné</td>\n      <td>2018-10-30 00:00:00</td>\n    </tr>\n    <tr>\n      <th>4</th>\n      <td>175128420982700002</td>\n      <td>Personne seule</td>\n      <td>CDI (ou fonctionnaire)</td>\n      <td>T2</td>\n      <td>Non renseigné</td>\n      <td>2018-04-10 00:00:00</td>\n    </tr>\n    <tr>\n      <th>...</th>\n      <td>...</td>\n      <td>...</td>\n      <td>...</td>\n      <td>...</td>\n      <td>...</td>\n      <td>...</td>\n    </tr>\n    <tr>\n      <th>153709</th>\n      <td>1111218129847GDPUB</td>\n      <td>Au moins 2 cotitulaires</td>\n      <td>Retraité</td>\n      <td>T2</td>\n      <td>Non renseigné</td>\n      <td>2019-01-01 00:00:00</td>\n    </tr>\n    <tr>\n      <th>153710</th>\n      <td>111121812788778498</td>\n      <td>Personne seule</td>\n      <td>Autre</td>\n      <td>T2</td>\n      <td>Non renseigné</td>\n      <td>2018-12-21 00:00:00</td>\n    </tr>\n    <tr>\n      <th>153711</th>\n      <td>111121812792310122</td>\n      <td>Personne seule</td>\n      <td>Retraité</td>\n      <td>T2</td>\n      <td>Non renseigné</td>\n      <td>2018-12-28 00:00:00</td>\n    </tr>\n    <tr>\n      <th>153712</th>\n      <td>111121813038177438</td>\n      <td>Au moins 2 cotitulaires avec 2 personnes à charge</td>\n      <td>CDI</td>\n      <td>T3</td>\n      <td>Non renseigné</td>\n      <td>2018-12-31 00:00:00</td>\n    </tr>\n    <tr>\n      <th>153713</th>\n      <td>111121813209910389</td>\n      <td>Au moins 2 cotitulaires avec une personne à ch...</td>\n      <td>CDI</td>\n      <td>T2</td>\n      <td>Non renseigné</td>\n      <td>2018-12-31 00:00:00</td>\n    </tr>\n  </tbody>\n</table>\n<p>153714 rows × 6 columns</p>\n</div>"
     },
     "execution_count": 3,
     "metadata": {},
     "output_type": "execute_result"
    }
   ],
   "source": [
    "dfa1=dfa[[ \"Numéro Unique\", \"Composition foyer demandeur\", \"Situation professionnelle demandeur\", \"Type du logement attribué\", \"Statut DALO\", \"Date de la radiation\"]]\n",
    "dfa1"
   ],
   "metadata": {
    "collapsed": false,
    "pycharm": {
     "name": "#%%\n"
    }
   }
  },
  {
   "cell_type": "code",
   "execution_count": 21,
   "outputs": [
    {
     "data": {
      "text/plain": "0       2018-01-15\n1       2017-05-15\n2       2017-09-29\n3       2017-02-08\n4       2017-11-10\n           ...    \n42743   2018-01-04\n42744   2017-12-03\n42745   2017-11-23\n42746   2016-09-23\n42747   2012-04-23\nName: Date création demande, Length: 42748, dtype: datetime64[ns]"
     },
     "execution_count": 21,
     "metadata": {},
     "output_type": "execute_result"
    }
   ],
   "source": [
    "dfd1['Date création demande']"
   ],
   "metadata": {
    "collapsed": false,
    "pycharm": {
     "name": "#%%\n"
    }
   }
  },
  {
   "cell_type": "code",
   "execution_count": 26,
   "outputs": [
    {
     "data": {
      "text/plain": "            Numéro Unique  Nb unités de consommation du foyer  \\\n0      175037900427000002                                 1.0   \n1      175118000728300002                                 1.0   \n2      175108301617300002                                 1.5   \n3      175128420982700002                                 1.0   \n4      175058909634800002                                 1.0   \n...                   ...                                 ...   \n60238  1111217905754AL003                                 1.0   \n60239  1111217849606GDPUB                                 1.0   \n60240  1111217849858GDPUB                                 1.0   \n60241  1110118850370GDPUB                                 1.0   \n60242  1110118850622GDPUB                                 1.0   \n\n       Ressources mensuelles du foyer Date création demande Sexe demandeur\\n  \\\n0                               556.0   1979-03-01 00:00:00                F   \n1                              1763.0   1980-11-14 00:00:00                F   \n2                              3535.0   1983-10-17 00:00:00                F   \n3                              3144.0   1984-12-01 00:00:00                F   \n4                               765.0   1989-05-16 00:00:00                M   \n...                               ...                   ...              ...   \n60238                          3072.0   2017-12-28 00:00:00                M   \n60239                          1774.0   2017-12-29 00:00:00                F   \n60240                          2143.0   2017-12-29 00:00:00                F   \n60241                          1190.0   2018-01-01 00:00:00                M   \n60242                          1800.0   2018-01-01 00:00:00                F   \n\n      Nationalité demandeur\\n  Age demandeur Situation familiale  \\\n0       Hors Union Européenne           59.0           Veuf (ve)   \n1                   Française           72.0           Veuf (ve)   \n2                   Française           64.0         Célibataire   \n3                   Française           57.0         Célibataire   \n4                   Française           69.0         Célibataire   \n...                       ...            ...                 ...   \n60238               Française           28.0         Célibataire   \n60239               Française           37.0         Divorcé (e)   \n60240   Hors Union Européenne           28.0         Célibataire   \n60241   Hors Union Européenne           36.0         Célibataire   \n60242               Française           26.0         Célibataire   \n\n       revenu_par_UC  Revenus annuels            Quintile             Age  \\\n0         556.000000           6672.0    Premier Quintile     50 à 59 ans   \n1        1763.000000          21156.0  Cinquième Quintile  70 ans et plus   \n2        2356.666667          28280.0  Cinquième Quintile      60 à 69ans   \n3        3144.000000          37728.0  Cinquième Quintile     50 à 59 ans   \n4         765.000000           9180.0   Deuxième Quintile      60 à 69ans   \n...              ...              ...                 ...             ...   \n60238    3072.000000          36864.0  Cinquième Quintile      0 à 29 ans   \n60239    1774.000000          21288.0  Cinquième Quintile     30 à 39 ans   \n60240    2143.000000          25716.0  Cinquième Quintile      0 à 29 ans   \n60241    1190.000000          14280.0  Quatrième Quintile     30 à 39 ans   \n60242    1800.000000          21600.0  Cinquième Quintile      0 à 29 ans   \n\n      Composition foyer demandeur Situation professionnelle demandeur  \\\n0                  Personne seule                            Retraité   \n1                  Personne seule                            Retraité   \n2         Au moins 2 cotitulaires                            Retraité   \n3                  Personne seule              CDI (ou fonctionnaire)   \n4                  Personne seule                            Retraité   \n...                           ...                                 ...   \n60238              Personne seule                  CDD,Stage, intérim   \n60239              Personne seule                                 CDI   \n60240              Personne seule                                 CDI   \n60241              Personne seule                  CDD,Stage, intérim   \n60242              Personne seule                  CDD,Stage, intérim   \n\n      Type du logement attribué    Statut DALO Date de la radiation  \n0                            T1   Actif relogé  2018-04-13 00:00:00  \n1                            T2   Actif relogé  2018-06-04 00:00:00  \n2                            T2  Non renseigné  2018-10-30 00:00:00  \n3                            T2  Non renseigné  2018-04-10 00:00:00  \n4                            T2   Actif relogé  2018-09-06 00:00:00  \n...                         ...            ...                  ...  \n60238                        T2  Non renseigné  2018-09-27 00:00:00  \n60239                        T2  Non renseigné  2018-10-19 00:00:00  \n60240                        T2  Non renseigné  2018-12-05 00:00:00  \n60241                        T1  Non renseigné  2018-12-07 00:00:00  \n60242                        T2  Non renseigné  2018-09-05 00:00:00  \n\n[60243 rows x 17 columns]",
      "text/html": "<div>\n<style scoped>\n    .dataframe tbody tr th:only-of-type {\n        vertical-align: middle;\n    }\n\n    .dataframe tbody tr th {\n        vertical-align: top;\n    }\n\n    .dataframe thead th {\n        text-align: right;\n    }\n</style>\n<table border=\"1\" class=\"dataframe\">\n  <thead>\n    <tr style=\"text-align: right;\">\n      <th></th>\n      <th>Numéro Unique</th>\n      <th>Nb unités de consommation du foyer</th>\n      <th>Ressources mensuelles du foyer</th>\n      <th>Date création demande</th>\n      <th>Sexe demandeur\\n</th>\n      <th>Nationalité demandeur\\n</th>\n      <th>Age demandeur</th>\n      <th>Situation familiale</th>\n      <th>revenu_par_UC</th>\n      <th>Revenus annuels</th>\n      <th>Quintile</th>\n      <th>Age</th>\n      <th>Composition foyer demandeur</th>\n      <th>Situation professionnelle demandeur</th>\n      <th>Type du logement attribué</th>\n      <th>Statut DALO</th>\n      <th>Date de la radiation</th>\n    </tr>\n  </thead>\n  <tbody>\n    <tr>\n      <th>0</th>\n      <td>175037900427000002</td>\n      <td>1.0</td>\n      <td>556.0</td>\n      <td>1979-03-01 00:00:00</td>\n      <td>F</td>\n      <td>Hors Union Européenne</td>\n      <td>59.0</td>\n      <td>Veuf (ve)</td>\n      <td>556.000000</td>\n      <td>6672.0</td>\n      <td>Premier Quintile</td>\n      <td>50 à 59 ans</td>\n      <td>Personne seule</td>\n      <td>Retraité</td>\n      <td>T1</td>\n      <td>Actif relogé</td>\n      <td>2018-04-13 00:00:00</td>\n    </tr>\n    <tr>\n      <th>1</th>\n      <td>175118000728300002</td>\n      <td>1.0</td>\n      <td>1763.0</td>\n      <td>1980-11-14 00:00:00</td>\n      <td>F</td>\n      <td>Française</td>\n      <td>72.0</td>\n      <td>Veuf (ve)</td>\n      <td>1763.000000</td>\n      <td>21156.0</td>\n      <td>Cinquième Quintile</td>\n      <td>70 ans et plus</td>\n      <td>Personne seule</td>\n      <td>Retraité</td>\n      <td>T2</td>\n      <td>Actif relogé</td>\n      <td>2018-06-04 00:00:00</td>\n    </tr>\n    <tr>\n      <th>2</th>\n      <td>175108301617300002</td>\n      <td>1.5</td>\n      <td>3535.0</td>\n      <td>1983-10-17 00:00:00</td>\n      <td>F</td>\n      <td>Française</td>\n      <td>64.0</td>\n      <td>Célibataire</td>\n      <td>2356.666667</td>\n      <td>28280.0</td>\n      <td>Cinquième Quintile</td>\n      <td>60 à 69ans</td>\n      <td>Au moins 2 cotitulaires</td>\n      <td>Retraité</td>\n      <td>T2</td>\n      <td>Non renseigné</td>\n      <td>2018-10-30 00:00:00</td>\n    </tr>\n    <tr>\n      <th>3</th>\n      <td>175128420982700002</td>\n      <td>1.0</td>\n      <td>3144.0</td>\n      <td>1984-12-01 00:00:00</td>\n      <td>F</td>\n      <td>Française</td>\n      <td>57.0</td>\n      <td>Célibataire</td>\n      <td>3144.000000</td>\n      <td>37728.0</td>\n      <td>Cinquième Quintile</td>\n      <td>50 à 59 ans</td>\n      <td>Personne seule</td>\n      <td>CDI (ou fonctionnaire)</td>\n      <td>T2</td>\n      <td>Non renseigné</td>\n      <td>2018-04-10 00:00:00</td>\n    </tr>\n    <tr>\n      <th>4</th>\n      <td>175058909634800002</td>\n      <td>1.0</td>\n      <td>765.0</td>\n      <td>1989-05-16 00:00:00</td>\n      <td>M</td>\n      <td>Française</td>\n      <td>69.0</td>\n      <td>Célibataire</td>\n      <td>765.000000</td>\n      <td>9180.0</td>\n      <td>Deuxième Quintile</td>\n      <td>60 à 69ans</td>\n      <td>Personne seule</td>\n      <td>Retraité</td>\n      <td>T2</td>\n      <td>Actif relogé</td>\n      <td>2018-09-06 00:00:00</td>\n    </tr>\n    <tr>\n      <th>...</th>\n      <td>...</td>\n      <td>...</td>\n      <td>...</td>\n      <td>...</td>\n      <td>...</td>\n      <td>...</td>\n      <td>...</td>\n      <td>...</td>\n      <td>...</td>\n      <td>...</td>\n      <td>...</td>\n      <td>...</td>\n      <td>...</td>\n      <td>...</td>\n      <td>...</td>\n      <td>...</td>\n      <td>...</td>\n    </tr>\n    <tr>\n      <th>60238</th>\n      <td>1111217905754AL003</td>\n      <td>1.0</td>\n      <td>3072.0</td>\n      <td>2017-12-28 00:00:00</td>\n      <td>M</td>\n      <td>Française</td>\n      <td>28.0</td>\n      <td>Célibataire</td>\n      <td>3072.000000</td>\n      <td>36864.0</td>\n      <td>Cinquième Quintile</td>\n      <td>0 à 29 ans</td>\n      <td>Personne seule</td>\n      <td>CDD,Stage, intérim</td>\n      <td>T2</td>\n      <td>Non renseigné</td>\n      <td>2018-09-27 00:00:00</td>\n    </tr>\n    <tr>\n      <th>60239</th>\n      <td>1111217849606GDPUB</td>\n      <td>1.0</td>\n      <td>1774.0</td>\n      <td>2017-12-29 00:00:00</td>\n      <td>F</td>\n      <td>Française</td>\n      <td>37.0</td>\n      <td>Divorcé (e)</td>\n      <td>1774.000000</td>\n      <td>21288.0</td>\n      <td>Cinquième Quintile</td>\n      <td>30 à 39 ans</td>\n      <td>Personne seule</td>\n      <td>CDI</td>\n      <td>T2</td>\n      <td>Non renseigné</td>\n      <td>2018-10-19 00:00:00</td>\n    </tr>\n    <tr>\n      <th>60240</th>\n      <td>1111217849858GDPUB</td>\n      <td>1.0</td>\n      <td>2143.0</td>\n      <td>2017-12-29 00:00:00</td>\n      <td>F</td>\n      <td>Hors Union Européenne</td>\n      <td>28.0</td>\n      <td>Célibataire</td>\n      <td>2143.000000</td>\n      <td>25716.0</td>\n      <td>Cinquième Quintile</td>\n      <td>0 à 29 ans</td>\n      <td>Personne seule</td>\n      <td>CDI</td>\n      <td>T2</td>\n      <td>Non renseigné</td>\n      <td>2018-12-05 00:00:00</td>\n    </tr>\n    <tr>\n      <th>60241</th>\n      <td>1110118850370GDPUB</td>\n      <td>1.0</td>\n      <td>1190.0</td>\n      <td>2018-01-01 00:00:00</td>\n      <td>M</td>\n      <td>Hors Union Européenne</td>\n      <td>36.0</td>\n      <td>Célibataire</td>\n      <td>1190.000000</td>\n      <td>14280.0</td>\n      <td>Quatrième Quintile</td>\n      <td>30 à 39 ans</td>\n      <td>Personne seule</td>\n      <td>CDD,Stage, intérim</td>\n      <td>T1</td>\n      <td>Non renseigné</td>\n      <td>2018-12-07 00:00:00</td>\n    </tr>\n    <tr>\n      <th>60242</th>\n      <td>1110118850622GDPUB</td>\n      <td>1.0</td>\n      <td>1800.0</td>\n      <td>2018-01-01 00:00:00</td>\n      <td>F</td>\n      <td>Française</td>\n      <td>26.0</td>\n      <td>Célibataire</td>\n      <td>1800.000000</td>\n      <td>21600.0</td>\n      <td>Cinquième Quintile</td>\n      <td>0 à 29 ans</td>\n      <td>Personne seule</td>\n      <td>CDD,Stage, intérim</td>\n      <td>T2</td>\n      <td>Non renseigné</td>\n      <td>2018-09-05 00:00:00</td>\n    </tr>\n  </tbody>\n</table>\n<p>60243 rows × 17 columns</p>\n</div>"
     },
     "execution_count": 26,
     "metadata": {},
     "output_type": "execute_result"
    }
   ],
   "source": [
    "#base = dfd1.merge(dfa1, on='Numéro Unique', how='inner')\n",
    "#base"
   ],
   "metadata": {
    "collapsed": false,
    "pycharm": {
     "name": "#%%\n"
    }
   }
  },
  {
   "cell_type": "code",
   "execution_count": 27,
   "outputs": [],
   "source": [
    "bdd=base[[ \"Revenus annuels\",  \"Quintile\", \"Date création demande\", \"Date de la radiation\", \"Age\", \"Numéro Unique\", \"Type du logement attribué\"]]"
   ],
   "metadata": {
    "collapsed": false,
    "pycharm": {
     "name": "#%%\n"
    }
   }
  },
  {
   "cell_type": "code",
   "execution_count": 28,
   "outputs": [
    {
     "name": "stderr",
     "output_type": "stream",
     "text": [
      "C:\\Users\\arceb\\AppData\\Local\\Temp\\ipykernel_39428\\51515142.py:1: SettingWithCopyWarning: \n",
      "A value is trying to be set on a copy of a slice from a DataFrame\n",
      "\n",
      "See the caveats in the documentation: https://pandas.pydata.org/pandas-docs/stable/user_guide/indexing.html#returning-a-view-versus-a-copy\n",
      "  bdd.rename(columns={'Date création demande_y': 'Date création demande'}, inplace=True)\n"
     ]
    },
    {
     "data": {
      "text/plain": "       Revenus annuels            Quintile Date création demande  \\\n0               6672.0    Premier Quintile   1979-03-01 00:00:00   \n1              21156.0  Cinquième Quintile   1980-11-14 00:00:00   \n2              28280.0  Cinquième Quintile   1983-10-17 00:00:00   \n3              37728.0  Cinquième Quintile   1984-12-01 00:00:00   \n4               9180.0   Deuxième Quintile   1989-05-16 00:00:00   \n...                ...                 ...                   ...   \n60238          36864.0  Cinquième Quintile   2017-12-28 00:00:00   \n60239          21288.0  Cinquième Quintile   2017-12-29 00:00:00   \n60240          25716.0  Cinquième Quintile   2017-12-29 00:00:00   \n60241          14280.0  Quatrième Quintile   2018-01-01 00:00:00   \n60242          21600.0  Cinquième Quintile   2018-01-01 00:00:00   \n\n      Date de la radiation             Age       Numéro Unique  \\\n0      2018-04-13 00:00:00     50 à 59 ans  175037900427000002   \n1      2018-06-04 00:00:00  70 ans et plus  175118000728300002   \n2      2018-10-30 00:00:00      60 à 69ans  175108301617300002   \n3      2018-04-10 00:00:00     50 à 59 ans  175128420982700002   \n4      2018-09-06 00:00:00      60 à 69ans  175058909634800002   \n...                    ...             ...                 ...   \n60238  2018-09-27 00:00:00      0 à 29 ans  1111217905754AL003   \n60239  2018-10-19 00:00:00     30 à 39 ans  1111217849606GDPUB   \n60240  2018-12-05 00:00:00      0 à 29 ans  1111217849858GDPUB   \n60241  2018-12-07 00:00:00     30 à 39 ans  1110118850370GDPUB   \n60242  2018-09-05 00:00:00      0 à 29 ans  1110118850622GDPUB   \n\n      Type du logement attribué  \n0                            T1  \n1                            T2  \n2                            T2  \n3                            T2  \n4                            T2  \n...                         ...  \n60238                        T2  \n60239                        T2  \n60240                        T2  \n60241                        T1  \n60242                        T2  \n\n[60243 rows x 7 columns]",
      "text/html": "<div>\n<style scoped>\n    .dataframe tbody tr th:only-of-type {\n        vertical-align: middle;\n    }\n\n    .dataframe tbody tr th {\n        vertical-align: top;\n    }\n\n    .dataframe thead th {\n        text-align: right;\n    }\n</style>\n<table border=\"1\" class=\"dataframe\">\n  <thead>\n    <tr style=\"text-align: right;\">\n      <th></th>\n      <th>Revenus annuels</th>\n      <th>Quintile</th>\n      <th>Date création demande</th>\n      <th>Date de la radiation</th>\n      <th>Age</th>\n      <th>Numéro Unique</th>\n      <th>Type du logement attribué</th>\n    </tr>\n  </thead>\n  <tbody>\n    <tr>\n      <th>0</th>\n      <td>6672.0</td>\n      <td>Premier Quintile</td>\n      <td>1979-03-01 00:00:00</td>\n      <td>2018-04-13 00:00:00</td>\n      <td>50 à 59 ans</td>\n      <td>175037900427000002</td>\n      <td>T1</td>\n    </tr>\n    <tr>\n      <th>1</th>\n      <td>21156.0</td>\n      <td>Cinquième Quintile</td>\n      <td>1980-11-14 00:00:00</td>\n      <td>2018-06-04 00:00:00</td>\n      <td>70 ans et plus</td>\n      <td>175118000728300002</td>\n      <td>T2</td>\n    </tr>\n    <tr>\n      <th>2</th>\n      <td>28280.0</td>\n      <td>Cinquième Quintile</td>\n      <td>1983-10-17 00:00:00</td>\n      <td>2018-10-30 00:00:00</td>\n      <td>60 à 69ans</td>\n      <td>175108301617300002</td>\n      <td>T2</td>\n    </tr>\n    <tr>\n      <th>3</th>\n      <td>37728.0</td>\n      <td>Cinquième Quintile</td>\n      <td>1984-12-01 00:00:00</td>\n      <td>2018-04-10 00:00:00</td>\n      <td>50 à 59 ans</td>\n      <td>175128420982700002</td>\n      <td>T2</td>\n    </tr>\n    <tr>\n      <th>4</th>\n      <td>9180.0</td>\n      <td>Deuxième Quintile</td>\n      <td>1989-05-16 00:00:00</td>\n      <td>2018-09-06 00:00:00</td>\n      <td>60 à 69ans</td>\n      <td>175058909634800002</td>\n      <td>T2</td>\n    </tr>\n    <tr>\n      <th>...</th>\n      <td>...</td>\n      <td>...</td>\n      <td>...</td>\n      <td>...</td>\n      <td>...</td>\n      <td>...</td>\n      <td>...</td>\n    </tr>\n    <tr>\n      <th>60238</th>\n      <td>36864.0</td>\n      <td>Cinquième Quintile</td>\n      <td>2017-12-28 00:00:00</td>\n      <td>2018-09-27 00:00:00</td>\n      <td>0 à 29 ans</td>\n      <td>1111217905754AL003</td>\n      <td>T2</td>\n    </tr>\n    <tr>\n      <th>60239</th>\n      <td>21288.0</td>\n      <td>Cinquième Quintile</td>\n      <td>2017-12-29 00:00:00</td>\n      <td>2018-10-19 00:00:00</td>\n      <td>30 à 39 ans</td>\n      <td>1111217849606GDPUB</td>\n      <td>T2</td>\n    </tr>\n    <tr>\n      <th>60240</th>\n      <td>25716.0</td>\n      <td>Cinquième Quintile</td>\n      <td>2017-12-29 00:00:00</td>\n      <td>2018-12-05 00:00:00</td>\n      <td>0 à 29 ans</td>\n      <td>1111217849858GDPUB</td>\n      <td>T2</td>\n    </tr>\n    <tr>\n      <th>60241</th>\n      <td>14280.0</td>\n      <td>Quatrième Quintile</td>\n      <td>2018-01-01 00:00:00</td>\n      <td>2018-12-07 00:00:00</td>\n      <td>30 à 39 ans</td>\n      <td>1110118850370GDPUB</td>\n      <td>T1</td>\n    </tr>\n    <tr>\n      <th>60242</th>\n      <td>21600.0</td>\n      <td>Cinquième Quintile</td>\n      <td>2018-01-01 00:00:00</td>\n      <td>2018-09-05 00:00:00</td>\n      <td>0 à 29 ans</td>\n      <td>1110118850622GDPUB</td>\n      <td>T2</td>\n    </tr>\n  </tbody>\n</table>\n<p>60243 rows × 7 columns</p>\n</div>"
     },
     "execution_count": 28,
     "metadata": {},
     "output_type": "execute_result"
    }
   ],
   "source": [
    "bdd.rename(columns={'Date création demande_y': 'Date création demande'}, inplace=True)\n",
    "bdd"
   ],
   "metadata": {
    "collapsed": false,
    "pycharm": {
     "name": "#%%\n"
    }
   }
  },
  {
   "cell_type": "code",
   "execution_count": 29,
   "outputs": [],
   "source": [
    "#!pip install datetime"
   ],
   "metadata": {
    "collapsed": false,
    "pycharm": {
     "name": "#%%\n"
    }
   }
  },
  {
   "cell_type": "code",
   "execution_count": 22,
   "outputs": [
    {
     "name": "stderr",
     "output_type": "stream",
     "text": [
      "C:\\Users\\arceb\\AppData\\Local\\Temp\\ipykernel_10432\\2437625387.py:1: SettingWithCopyWarning: \n",
      "A value is trying to be set on a copy of a slice from a DataFrame.\n",
      "Try using .loc[row_indexer,col_indexer] = value instead\n",
      "\n",
      "See the caveats in the documentation: https://pandas.pydata.org/pandas-docs/stable/user_guide/indexing.html#returning-a-view-versus-a-copy\n",
      "  dfd1['Date création demande'] = pd.to_datetime(dfd1['Date création demande'], format=\"%Y/%m/%d %H:%M:%S\")\n"
     ]
    }
   ],
   "source": [
    "dfd1['Date création demande'] = pd.to_datetime(dfd1['Date création demande'], format=\"%Y/%m/%d %H:%M:%S\")"
   ],
   "metadata": {
    "collapsed": false,
    "pycharm": {
     "name": "#%%\n"
    }
   }
  },
  {
   "cell_type": "code",
   "execution_count": 23,
   "outputs": [
    {
     "name": "stderr",
     "output_type": "stream",
     "text": [
      "C:\\Users\\arceb\\AppData\\Local\\Temp\\ipykernel_10432\\2687287794.py:1: SettingWithCopyWarning: \n",
      "A value is trying to be set on a copy of a slice from a DataFrame.\n",
      "Try using .loc[row_indexer,col_indexer] = value instead\n",
      "\n",
      "See the caveats in the documentation: https://pandas.pydata.org/pandas-docs/stable/user_guide/indexing.html#returning-a-view-versus-a-copy\n",
      "  dfd1['Date de la radiation'] = pd.to_datetime(dfd1['Date de la radiation'], format=\"%Y/%m/%d %H:%M:%S\")\n"
     ]
    },
    {
     "data": {
      "text/plain": "            Numéro Unique  Nb unités de consommation du foyer  \\\n0      111011885857794043                                 1.8   \n1      111051767234510108                                 1.5   \n2      111091777617075056                                 1.5   \n3      111021758912175056                                 1.0   \n4      111111781080175056                                 1.0   \n...                   ...                                 ...   \n42743  111011885009910129                                 1.5   \n42744  1111217829952GDPUB                                 1.8   \n42745  111111782174292019                                 2.0   \n42746  111091647518710129                                 2.0   \n42747  111041228887210033                                 2.5   \n\n       Ressources mensuelles du foyer Date création demande  \\\n0                                   1            2018-01-15   \n1                                   1            2017-05-15   \n2                                   1            2017-09-29   \n3                                   1            2017-02-08   \n4                                   1            2017-11-10   \n...                               ...                   ...   \n42743                           70914            2018-01-04   \n42744                           89164            2017-12-03   \n42745                           99276            2017-11-23   \n42746                          105794            2016-09-23   \n42747                          150113            2012-04-23   \n\n      Date de la radiation  Age demandeur Situation familiale  \\\n0               2018-06-08             37           Marié (e)   \n1               2018-06-01             54          Séparé (e)   \n2               2018-11-26             32        Concubin (e)   \n3               2018-01-03             28         Célibataire   \n4               2018-04-01             45         Célibataire   \n...                    ...            ...                 ...   \n42743           2018-04-24             54         Célibataire   \n42744           2018-02-12             33           Marié (e)   \n42745           2018-08-07             66           Marié (e)   \n42746           2018-05-25             61           Marié (e)   \n42747           2018-04-26             56         Divorcé (e)   \n\n      Type du logement attribué  revenu_par_UC  Revenus annuels Catégorie  \\\n0                            T3       0.555556         6.666667   Pauvres   \n1                            T3       0.666667         8.000000   Pauvres   \n2                            T2       0.666667         8.000000   Pauvres   \n3                            T1       1.000000        12.000000   Pauvres   \n4                            T1       1.000000        12.000000   Pauvres   \n...                         ...            ...              ...       ...   \n42743                        T3   47276.000000    567312.000000    Autres   \n42744                        T3   49535.555556    594426.666667    Autres   \n42745                        T4   49638.000000    595656.000000    Autres   \n42746                        T3   52897.000000    634764.000000    Autres   \n42747                        T4   60045.200000    720542.400000    Autres   \n\n               Age Temps attente  \n0      30 à 39 ans      144 days  \n1      50 à 59 ans      382 days  \n2      30 à 39 ans      423 days  \n3       0 à 29 ans      329 days  \n4      40 à 49 ans      142 days  \n...            ...           ...  \n42743  50 à 59 ans      110 days  \n42744  30 à 39 ans       71 days  \n42745   60 à 69ans      257 days  \n42746   60 à 69ans      609 days  \n42747  50 à 59 ans     2194 days  \n\n[42748 rows x 13 columns]",
      "text/html": "<div>\n<style scoped>\n    .dataframe tbody tr th:only-of-type {\n        vertical-align: middle;\n    }\n\n    .dataframe tbody tr th {\n        vertical-align: top;\n    }\n\n    .dataframe thead th {\n        text-align: right;\n    }\n</style>\n<table border=\"1\" class=\"dataframe\">\n  <thead>\n    <tr style=\"text-align: right;\">\n      <th></th>\n      <th>Numéro Unique</th>\n      <th>Nb unités de consommation du foyer</th>\n      <th>Ressources mensuelles du foyer</th>\n      <th>Date création demande</th>\n      <th>Date de la radiation</th>\n      <th>Age demandeur</th>\n      <th>Situation familiale</th>\n      <th>Type du logement attribué</th>\n      <th>revenu_par_UC</th>\n      <th>Revenus annuels</th>\n      <th>Catégorie</th>\n      <th>Age</th>\n      <th>Temps attente</th>\n    </tr>\n  </thead>\n  <tbody>\n    <tr>\n      <th>0</th>\n      <td>111011885857794043</td>\n      <td>1.8</td>\n      <td>1</td>\n      <td>2018-01-15</td>\n      <td>2018-06-08</td>\n      <td>37</td>\n      <td>Marié (e)</td>\n      <td>T3</td>\n      <td>0.555556</td>\n      <td>6.666667</td>\n      <td>Pauvres</td>\n      <td>30 à 39 ans</td>\n      <td>144 days</td>\n    </tr>\n    <tr>\n      <th>1</th>\n      <td>111051767234510108</td>\n      <td>1.5</td>\n      <td>1</td>\n      <td>2017-05-15</td>\n      <td>2018-06-01</td>\n      <td>54</td>\n      <td>Séparé (e)</td>\n      <td>T3</td>\n      <td>0.666667</td>\n      <td>8.000000</td>\n      <td>Pauvres</td>\n      <td>50 à 59 ans</td>\n      <td>382 days</td>\n    </tr>\n    <tr>\n      <th>2</th>\n      <td>111091777617075056</td>\n      <td>1.5</td>\n      <td>1</td>\n      <td>2017-09-29</td>\n      <td>2018-11-26</td>\n      <td>32</td>\n      <td>Concubin (e)</td>\n      <td>T2</td>\n      <td>0.666667</td>\n      <td>8.000000</td>\n      <td>Pauvres</td>\n      <td>30 à 39 ans</td>\n      <td>423 days</td>\n    </tr>\n    <tr>\n      <th>3</th>\n      <td>111021758912175056</td>\n      <td>1.0</td>\n      <td>1</td>\n      <td>2017-02-08</td>\n      <td>2018-01-03</td>\n      <td>28</td>\n      <td>Célibataire</td>\n      <td>T1</td>\n      <td>1.000000</td>\n      <td>12.000000</td>\n      <td>Pauvres</td>\n      <td>0 à 29 ans</td>\n      <td>329 days</td>\n    </tr>\n    <tr>\n      <th>4</th>\n      <td>111111781080175056</td>\n      <td>1.0</td>\n      <td>1</td>\n      <td>2017-11-10</td>\n      <td>2018-04-01</td>\n      <td>45</td>\n      <td>Célibataire</td>\n      <td>T1</td>\n      <td>1.000000</td>\n      <td>12.000000</td>\n      <td>Pauvres</td>\n      <td>40 à 49 ans</td>\n      <td>142 days</td>\n    </tr>\n    <tr>\n      <th>...</th>\n      <td>...</td>\n      <td>...</td>\n      <td>...</td>\n      <td>...</td>\n      <td>...</td>\n      <td>...</td>\n      <td>...</td>\n      <td>...</td>\n      <td>...</td>\n      <td>...</td>\n      <td>...</td>\n      <td>...</td>\n      <td>...</td>\n    </tr>\n    <tr>\n      <th>42743</th>\n      <td>111011885009910129</td>\n      <td>1.5</td>\n      <td>70914</td>\n      <td>2018-01-04</td>\n      <td>2018-04-24</td>\n      <td>54</td>\n      <td>Célibataire</td>\n      <td>T3</td>\n      <td>47276.000000</td>\n      <td>567312.000000</td>\n      <td>Autres</td>\n      <td>50 à 59 ans</td>\n      <td>110 days</td>\n    </tr>\n    <tr>\n      <th>42744</th>\n      <td>1111217829952GDPUB</td>\n      <td>1.8</td>\n      <td>89164</td>\n      <td>2017-12-03</td>\n      <td>2018-02-12</td>\n      <td>33</td>\n      <td>Marié (e)</td>\n      <td>T3</td>\n      <td>49535.555556</td>\n      <td>594426.666667</td>\n      <td>Autres</td>\n      <td>30 à 39 ans</td>\n      <td>71 days</td>\n    </tr>\n    <tr>\n      <th>42745</th>\n      <td>111111782174292019</td>\n      <td>2.0</td>\n      <td>99276</td>\n      <td>2017-11-23</td>\n      <td>2018-08-07</td>\n      <td>66</td>\n      <td>Marié (e)</td>\n      <td>T4</td>\n      <td>49638.000000</td>\n      <td>595656.000000</td>\n      <td>Autres</td>\n      <td>60 à 69ans</td>\n      <td>257 days</td>\n    </tr>\n    <tr>\n      <th>42746</th>\n      <td>111091647518710129</td>\n      <td>2.0</td>\n      <td>105794</td>\n      <td>2016-09-23</td>\n      <td>2018-05-25</td>\n      <td>61</td>\n      <td>Marié (e)</td>\n      <td>T3</td>\n      <td>52897.000000</td>\n      <td>634764.000000</td>\n      <td>Autres</td>\n      <td>60 à 69ans</td>\n      <td>609 days</td>\n    </tr>\n    <tr>\n      <th>42747</th>\n      <td>111041228887210033</td>\n      <td>2.5</td>\n      <td>150113</td>\n      <td>2012-04-23</td>\n      <td>2018-04-26</td>\n      <td>56</td>\n      <td>Divorcé (e)</td>\n      <td>T4</td>\n      <td>60045.200000</td>\n      <td>720542.400000</td>\n      <td>Autres</td>\n      <td>50 à 59 ans</td>\n      <td>2194 days</td>\n    </tr>\n  </tbody>\n</table>\n<p>42748 rows × 13 columns</p>\n</div>"
     },
     "execution_count": 23,
     "metadata": {},
     "output_type": "execute_result"
    }
   ],
   "source": [
    "dfd1['Date de la radiation'] = pd.to_datetime(dfd1['Date de la radiation'], format=\"%Y/%m/%d %H:%M:%S\")\n",
    "dfd1"
   ],
   "metadata": {
    "collapsed": false,
    "pycharm": {
     "name": "#%%\n"
    }
   }
  },
  {
   "cell_type": "code",
   "execution_count": 24,
   "outputs": [
    {
     "name": "stderr",
     "output_type": "stream",
     "text": [
      "C:\\Users\\arceb\\AppData\\Local\\Temp\\ipykernel_10432\\3060396335.py:2: SettingWithCopyWarning: \n",
      "A value is trying to be set on a copy of a slice from a DataFrame.\n",
      "Try using .loc[row_indexer,col_indexer] = value instead\n",
      "\n",
      "See the caveats in the documentation: https://pandas.pydata.org/pandas-docs/stable/user_guide/indexing.html#returning-a-view-versus-a-copy\n",
      "  dfd1['Temps attente']= timedelta\n"
     ]
    },
    {
     "data": {
      "text/plain": "            Numéro Unique  Nb unités de consommation du foyer  \\\n0      111011885857794043                                 1.8   \n1      111051767234510108                                 1.5   \n2      111091777617075056                                 1.5   \n3      111021758912175056                                 1.0   \n4      111111781080175056                                 1.0   \n...                   ...                                 ...   \n42743  111011885009910129                                 1.5   \n42744  1111217829952GDPUB                                 1.8   \n42745  111111782174292019                                 2.0   \n42746  111091647518710129                                 2.0   \n42747  111041228887210033                                 2.5   \n\n       Ressources mensuelles du foyer Date création demande  \\\n0                                   1            2018-01-15   \n1                                   1            2017-05-15   \n2                                   1            2017-09-29   \n3                                   1            2017-02-08   \n4                                   1            2017-11-10   \n...                               ...                   ...   \n42743                           70914            2018-01-04   \n42744                           89164            2017-12-03   \n42745                           99276            2017-11-23   \n42746                          105794            2016-09-23   \n42747                          150113            2012-04-23   \n\n      Date de la radiation  Age demandeur Situation familiale  \\\n0               2018-06-08             37           Marié (e)   \n1               2018-06-01             54          Séparé (e)   \n2               2018-11-26             32        Concubin (e)   \n3               2018-01-03             28         Célibataire   \n4               2018-04-01             45         Célibataire   \n...                    ...            ...                 ...   \n42743           2018-04-24             54         Célibataire   \n42744           2018-02-12             33           Marié (e)   \n42745           2018-08-07             66           Marié (e)   \n42746           2018-05-25             61           Marié (e)   \n42747           2018-04-26             56         Divorcé (e)   \n\n      Type du logement attribué  revenu_par_UC  Revenus annuels Catégorie  \\\n0                            T3       0.555556         6.666667   Pauvres   \n1                            T3       0.666667         8.000000   Pauvres   \n2                            T2       0.666667         8.000000   Pauvres   \n3                            T1       1.000000        12.000000   Pauvres   \n4                            T1       1.000000        12.000000   Pauvres   \n...                         ...            ...              ...       ...   \n42743                        T3   47276.000000    567312.000000    Autres   \n42744                        T3   49535.555556    594426.666667    Autres   \n42745                        T4   49638.000000    595656.000000    Autres   \n42746                        T3   52897.000000    634764.000000    Autres   \n42747                        T4   60045.200000    720542.400000    Autres   \n\n               Age Temps attente  \n0      30 à 39 ans      144 days  \n1      50 à 59 ans      382 days  \n2      30 à 39 ans      423 days  \n3       0 à 29 ans      329 days  \n4      40 à 49 ans      142 days  \n...            ...           ...  \n42743  50 à 59 ans      110 days  \n42744  30 à 39 ans       71 days  \n42745   60 à 69ans      257 days  \n42746   60 à 69ans      609 days  \n42747  50 à 59 ans     2194 days  \n\n[42748 rows x 13 columns]",
      "text/html": "<div>\n<style scoped>\n    .dataframe tbody tr th:only-of-type {\n        vertical-align: middle;\n    }\n\n    .dataframe tbody tr th {\n        vertical-align: top;\n    }\n\n    .dataframe thead th {\n        text-align: right;\n    }\n</style>\n<table border=\"1\" class=\"dataframe\">\n  <thead>\n    <tr style=\"text-align: right;\">\n      <th></th>\n      <th>Numéro Unique</th>\n      <th>Nb unités de consommation du foyer</th>\n      <th>Ressources mensuelles du foyer</th>\n      <th>Date création demande</th>\n      <th>Date de la radiation</th>\n      <th>Age demandeur</th>\n      <th>Situation familiale</th>\n      <th>Type du logement attribué</th>\n      <th>revenu_par_UC</th>\n      <th>Revenus annuels</th>\n      <th>Catégorie</th>\n      <th>Age</th>\n      <th>Temps attente</th>\n    </tr>\n  </thead>\n  <tbody>\n    <tr>\n      <th>0</th>\n      <td>111011885857794043</td>\n      <td>1.8</td>\n      <td>1</td>\n      <td>2018-01-15</td>\n      <td>2018-06-08</td>\n      <td>37</td>\n      <td>Marié (e)</td>\n      <td>T3</td>\n      <td>0.555556</td>\n      <td>6.666667</td>\n      <td>Pauvres</td>\n      <td>30 à 39 ans</td>\n      <td>144 days</td>\n    </tr>\n    <tr>\n      <th>1</th>\n      <td>111051767234510108</td>\n      <td>1.5</td>\n      <td>1</td>\n      <td>2017-05-15</td>\n      <td>2018-06-01</td>\n      <td>54</td>\n      <td>Séparé (e)</td>\n      <td>T3</td>\n      <td>0.666667</td>\n      <td>8.000000</td>\n      <td>Pauvres</td>\n      <td>50 à 59 ans</td>\n      <td>382 days</td>\n    </tr>\n    <tr>\n      <th>2</th>\n      <td>111091777617075056</td>\n      <td>1.5</td>\n      <td>1</td>\n      <td>2017-09-29</td>\n      <td>2018-11-26</td>\n      <td>32</td>\n      <td>Concubin (e)</td>\n      <td>T2</td>\n      <td>0.666667</td>\n      <td>8.000000</td>\n      <td>Pauvres</td>\n      <td>30 à 39 ans</td>\n      <td>423 days</td>\n    </tr>\n    <tr>\n      <th>3</th>\n      <td>111021758912175056</td>\n      <td>1.0</td>\n      <td>1</td>\n      <td>2017-02-08</td>\n      <td>2018-01-03</td>\n      <td>28</td>\n      <td>Célibataire</td>\n      <td>T1</td>\n      <td>1.000000</td>\n      <td>12.000000</td>\n      <td>Pauvres</td>\n      <td>0 à 29 ans</td>\n      <td>329 days</td>\n    </tr>\n    <tr>\n      <th>4</th>\n      <td>111111781080175056</td>\n      <td>1.0</td>\n      <td>1</td>\n      <td>2017-11-10</td>\n      <td>2018-04-01</td>\n      <td>45</td>\n      <td>Célibataire</td>\n      <td>T1</td>\n      <td>1.000000</td>\n      <td>12.000000</td>\n      <td>Pauvres</td>\n      <td>40 à 49 ans</td>\n      <td>142 days</td>\n    </tr>\n    <tr>\n      <th>...</th>\n      <td>...</td>\n      <td>...</td>\n      <td>...</td>\n      <td>...</td>\n      <td>...</td>\n      <td>...</td>\n      <td>...</td>\n      <td>...</td>\n      <td>...</td>\n      <td>...</td>\n      <td>...</td>\n      <td>...</td>\n      <td>...</td>\n    </tr>\n    <tr>\n      <th>42743</th>\n      <td>111011885009910129</td>\n      <td>1.5</td>\n      <td>70914</td>\n      <td>2018-01-04</td>\n      <td>2018-04-24</td>\n      <td>54</td>\n      <td>Célibataire</td>\n      <td>T3</td>\n      <td>47276.000000</td>\n      <td>567312.000000</td>\n      <td>Autres</td>\n      <td>50 à 59 ans</td>\n      <td>110 days</td>\n    </tr>\n    <tr>\n      <th>42744</th>\n      <td>1111217829952GDPUB</td>\n      <td>1.8</td>\n      <td>89164</td>\n      <td>2017-12-03</td>\n      <td>2018-02-12</td>\n      <td>33</td>\n      <td>Marié (e)</td>\n      <td>T3</td>\n      <td>49535.555556</td>\n      <td>594426.666667</td>\n      <td>Autres</td>\n      <td>30 à 39 ans</td>\n      <td>71 days</td>\n    </tr>\n    <tr>\n      <th>42745</th>\n      <td>111111782174292019</td>\n      <td>2.0</td>\n      <td>99276</td>\n      <td>2017-11-23</td>\n      <td>2018-08-07</td>\n      <td>66</td>\n      <td>Marié (e)</td>\n      <td>T4</td>\n      <td>49638.000000</td>\n      <td>595656.000000</td>\n      <td>Autres</td>\n      <td>60 à 69ans</td>\n      <td>257 days</td>\n    </tr>\n    <tr>\n      <th>42746</th>\n      <td>111091647518710129</td>\n      <td>2.0</td>\n      <td>105794</td>\n      <td>2016-09-23</td>\n      <td>2018-05-25</td>\n      <td>61</td>\n      <td>Marié (e)</td>\n      <td>T3</td>\n      <td>52897.000000</td>\n      <td>634764.000000</td>\n      <td>Autres</td>\n      <td>60 à 69ans</td>\n      <td>609 days</td>\n    </tr>\n    <tr>\n      <th>42747</th>\n      <td>111041228887210033</td>\n      <td>2.5</td>\n      <td>150113</td>\n      <td>2012-04-23</td>\n      <td>2018-04-26</td>\n      <td>56</td>\n      <td>Divorcé (e)</td>\n      <td>T4</td>\n      <td>60045.200000</td>\n      <td>720542.400000</td>\n      <td>Autres</td>\n      <td>50 à 59 ans</td>\n      <td>2194 days</td>\n    </tr>\n  </tbody>\n</table>\n<p>42748 rows × 13 columns</p>\n</div>"
     },
     "execution_count": 24,
     "metadata": {},
     "output_type": "execute_result"
    }
   ],
   "source": [
    "timedelta = dfd1['Date de la radiation']-dfd1['Date création demande']\n",
    "dfd1['Temps attente']= timedelta\n",
    "dfd1"
   ],
   "metadata": {
    "collapsed": false,
    "pycharm": {
     "name": "#%%\n"
    }
   }
  },
  {
   "cell_type": "code",
   "execution_count": 25,
   "outputs": [
    {
     "name": "stderr",
     "output_type": "stream",
     "text": [
      "C:\\Users\\arceb\\AppData\\Local\\Temp\\ipykernel_10432\\604223667.py:1: SettingWithCopyWarning: \n",
      "A value is trying to be set on a copy of a slice from a DataFrame.\n",
      "Try using .loc[row_indexer,col_indexer] = value instead\n",
      "\n",
      "See the caveats in the documentation: https://pandas.pydata.org/pandas-docs/stable/user_guide/indexing.html#returning-a-view-versus-a-copy\n",
      "  dfd1['Temps attente'] = dfd1['Temps attente'].values.astype(np.int64)\n"
     ]
    },
    {
     "data": {
      "text/plain": "            Numéro Unique  Nb unités de consommation du foyer  \\\n0      111011885857794043                                 1.8   \n1      111051767234510108                                 1.5   \n2      111091777617075056                                 1.5   \n3      111021758912175056                                 1.0   \n4      111111781080175056                                 1.0   \n...                   ...                                 ...   \n42743  111011885009910129                                 1.5   \n42744  1111217829952GDPUB                                 1.8   \n42745  111111782174292019                                 2.0   \n42746  111091647518710129                                 2.0   \n42747  111041228887210033                                 2.5   \n\n       Ressources mensuelles du foyer Date création demande  \\\n0                                   1            2018-01-15   \n1                                   1            2017-05-15   \n2                                   1            2017-09-29   \n3                                   1            2017-02-08   \n4                                   1            2017-11-10   \n...                               ...                   ...   \n42743                           70914            2018-01-04   \n42744                           89164            2017-12-03   \n42745                           99276            2017-11-23   \n42746                          105794            2016-09-23   \n42747                          150113            2012-04-23   \n\n      Date de la radiation  Age demandeur Situation familiale  \\\n0               2018-06-08             37           Marié (e)   \n1               2018-06-01             54          Séparé (e)   \n2               2018-11-26             32        Concubin (e)   \n3               2018-01-03             28         Célibataire   \n4               2018-04-01             45         Célibataire   \n...                    ...            ...                 ...   \n42743           2018-04-24             54         Célibataire   \n42744           2018-02-12             33           Marié (e)   \n42745           2018-08-07             66           Marié (e)   \n42746           2018-05-25             61           Marié (e)   \n42747           2018-04-26             56         Divorcé (e)   \n\n      Type du logement attribué  revenu_par_UC  Revenus annuels Catégorie  \\\n0                            T3       0.555556         6.666667   Pauvres   \n1                            T3       0.666667         8.000000   Pauvres   \n2                            T2       0.666667         8.000000   Pauvres   \n3                            T1       1.000000        12.000000   Pauvres   \n4                            T1       1.000000        12.000000   Pauvres   \n...                         ...            ...              ...       ...   \n42743                        T3   47276.000000    567312.000000    Autres   \n42744                        T3   49535.555556    594426.666667    Autres   \n42745                        T4   49638.000000    595656.000000    Autres   \n42746                        T3   52897.000000    634764.000000    Autres   \n42747                        T4   60045.200000    720542.400000    Autres   \n\n               Age       Temps attente  \n0      30 à 39 ans   12441600000000000  \n1      50 à 59 ans   33004800000000000  \n2      30 à 39 ans   36547200000000000  \n3       0 à 29 ans   28425600000000000  \n4      40 à 49 ans   12268800000000000  \n...            ...                 ...  \n42743  50 à 59 ans    9504000000000000  \n42744  30 à 39 ans    6134400000000000  \n42745   60 à 69ans   22204800000000000  \n42746   60 à 69ans   52617600000000000  \n42747  50 à 59 ans  189561600000000000  \n\n[42748 rows x 13 columns]",
      "text/html": "<div>\n<style scoped>\n    .dataframe tbody tr th:only-of-type {\n        vertical-align: middle;\n    }\n\n    .dataframe tbody tr th {\n        vertical-align: top;\n    }\n\n    .dataframe thead th {\n        text-align: right;\n    }\n</style>\n<table border=\"1\" class=\"dataframe\">\n  <thead>\n    <tr style=\"text-align: right;\">\n      <th></th>\n      <th>Numéro Unique</th>\n      <th>Nb unités de consommation du foyer</th>\n      <th>Ressources mensuelles du foyer</th>\n      <th>Date création demande</th>\n      <th>Date de la radiation</th>\n      <th>Age demandeur</th>\n      <th>Situation familiale</th>\n      <th>Type du logement attribué</th>\n      <th>revenu_par_UC</th>\n      <th>Revenus annuels</th>\n      <th>Catégorie</th>\n      <th>Age</th>\n      <th>Temps attente</th>\n    </tr>\n  </thead>\n  <tbody>\n    <tr>\n      <th>0</th>\n      <td>111011885857794043</td>\n      <td>1.8</td>\n      <td>1</td>\n      <td>2018-01-15</td>\n      <td>2018-06-08</td>\n      <td>37</td>\n      <td>Marié (e)</td>\n      <td>T3</td>\n      <td>0.555556</td>\n      <td>6.666667</td>\n      <td>Pauvres</td>\n      <td>30 à 39 ans</td>\n      <td>12441600000000000</td>\n    </tr>\n    <tr>\n      <th>1</th>\n      <td>111051767234510108</td>\n      <td>1.5</td>\n      <td>1</td>\n      <td>2017-05-15</td>\n      <td>2018-06-01</td>\n      <td>54</td>\n      <td>Séparé (e)</td>\n      <td>T3</td>\n      <td>0.666667</td>\n      <td>8.000000</td>\n      <td>Pauvres</td>\n      <td>50 à 59 ans</td>\n      <td>33004800000000000</td>\n    </tr>\n    <tr>\n      <th>2</th>\n      <td>111091777617075056</td>\n      <td>1.5</td>\n      <td>1</td>\n      <td>2017-09-29</td>\n      <td>2018-11-26</td>\n      <td>32</td>\n      <td>Concubin (e)</td>\n      <td>T2</td>\n      <td>0.666667</td>\n      <td>8.000000</td>\n      <td>Pauvres</td>\n      <td>30 à 39 ans</td>\n      <td>36547200000000000</td>\n    </tr>\n    <tr>\n      <th>3</th>\n      <td>111021758912175056</td>\n      <td>1.0</td>\n      <td>1</td>\n      <td>2017-02-08</td>\n      <td>2018-01-03</td>\n      <td>28</td>\n      <td>Célibataire</td>\n      <td>T1</td>\n      <td>1.000000</td>\n      <td>12.000000</td>\n      <td>Pauvres</td>\n      <td>0 à 29 ans</td>\n      <td>28425600000000000</td>\n    </tr>\n    <tr>\n      <th>4</th>\n      <td>111111781080175056</td>\n      <td>1.0</td>\n      <td>1</td>\n      <td>2017-11-10</td>\n      <td>2018-04-01</td>\n      <td>45</td>\n      <td>Célibataire</td>\n      <td>T1</td>\n      <td>1.000000</td>\n      <td>12.000000</td>\n      <td>Pauvres</td>\n      <td>40 à 49 ans</td>\n      <td>12268800000000000</td>\n    </tr>\n    <tr>\n      <th>...</th>\n      <td>...</td>\n      <td>...</td>\n      <td>...</td>\n      <td>...</td>\n      <td>...</td>\n      <td>...</td>\n      <td>...</td>\n      <td>...</td>\n      <td>...</td>\n      <td>...</td>\n      <td>...</td>\n      <td>...</td>\n      <td>...</td>\n    </tr>\n    <tr>\n      <th>42743</th>\n      <td>111011885009910129</td>\n      <td>1.5</td>\n      <td>70914</td>\n      <td>2018-01-04</td>\n      <td>2018-04-24</td>\n      <td>54</td>\n      <td>Célibataire</td>\n      <td>T3</td>\n      <td>47276.000000</td>\n      <td>567312.000000</td>\n      <td>Autres</td>\n      <td>50 à 59 ans</td>\n      <td>9504000000000000</td>\n    </tr>\n    <tr>\n      <th>42744</th>\n      <td>1111217829952GDPUB</td>\n      <td>1.8</td>\n      <td>89164</td>\n      <td>2017-12-03</td>\n      <td>2018-02-12</td>\n      <td>33</td>\n      <td>Marié (e)</td>\n      <td>T3</td>\n      <td>49535.555556</td>\n      <td>594426.666667</td>\n      <td>Autres</td>\n      <td>30 à 39 ans</td>\n      <td>6134400000000000</td>\n    </tr>\n    <tr>\n      <th>42745</th>\n      <td>111111782174292019</td>\n      <td>2.0</td>\n      <td>99276</td>\n      <td>2017-11-23</td>\n      <td>2018-08-07</td>\n      <td>66</td>\n      <td>Marié (e)</td>\n      <td>T4</td>\n      <td>49638.000000</td>\n      <td>595656.000000</td>\n      <td>Autres</td>\n      <td>60 à 69ans</td>\n      <td>22204800000000000</td>\n    </tr>\n    <tr>\n      <th>42746</th>\n      <td>111091647518710129</td>\n      <td>2.0</td>\n      <td>105794</td>\n      <td>2016-09-23</td>\n      <td>2018-05-25</td>\n      <td>61</td>\n      <td>Marié (e)</td>\n      <td>T3</td>\n      <td>52897.000000</td>\n      <td>634764.000000</td>\n      <td>Autres</td>\n      <td>60 à 69ans</td>\n      <td>52617600000000000</td>\n    </tr>\n    <tr>\n      <th>42747</th>\n      <td>111041228887210033</td>\n      <td>2.5</td>\n      <td>150113</td>\n      <td>2012-04-23</td>\n      <td>2018-04-26</td>\n      <td>56</td>\n      <td>Divorcé (e)</td>\n      <td>T4</td>\n      <td>60045.200000</td>\n      <td>720542.400000</td>\n      <td>Autres</td>\n      <td>50 à 59 ans</td>\n      <td>189561600000000000</td>\n    </tr>\n  </tbody>\n</table>\n<p>42748 rows × 13 columns</p>\n</div>"
     },
     "execution_count": 25,
     "metadata": {},
     "output_type": "execute_result"
    }
   ],
   "source": [
    "dfd1['Temps attente'] = dfd1['Temps attente'].values.astype(np.int64)\n",
    "dfd1"
   ],
   "metadata": {
    "collapsed": false,
    "pycharm": {
     "name": "#%%\n"
    }
   }
  },
  {
   "cell_type": "code",
   "execution_count": 26,
   "outputs": [
    {
     "name": "stderr",
     "output_type": "stream",
     "text": [
      "C:\\Users\\arceb\\AppData\\Local\\Temp\\ipykernel_10432\\69685166.py:1: SettingWithCopyWarning: \n",
      "A value is trying to be set on a copy of a slice from a DataFrame.\n",
      "Try using .loc[row_indexer,col_indexer] = value instead\n",
      "\n",
      "See the caveats in the documentation: https://pandas.pydata.org/pandas-docs/stable/user_guide/indexing.html#returning-a-view-versus-a-copy\n",
      "  dfd1['Temps attente']=(dfd1['Temps attente']//(86400000000000))\n"
     ]
    }
   ],
   "source": [
    "dfd1['Temps attente']=(dfd1['Temps attente']//(86400000000000))"
   ],
   "metadata": {
    "collapsed": false,
    "pycharm": {
     "name": "#%%\n"
    }
   }
  },
  {
   "cell_type": "code",
   "execution_count": 72,
   "outputs": [
    {
     "name": "stderr",
     "output_type": "stream",
     "text": [
      "C:\\Users\\arceb\\AppData\\Local\\Temp\\ipykernel_10432\\1707454635.py:1: SettingWithCopyWarning: \n",
      "A value is trying to be set on a copy of a slice from a DataFrame.\n",
      "Try using .loc[row_indexer,col_indexer] = value instead\n",
      "\n",
      "See the caveats in the documentation: https://pandas.pydata.org/pandas-docs/stable/user_guide/indexing.html#returning-a-view-versus-a-copy\n",
      "  dfd1['Durée effective attente']=pd.cut(dfd1['Temps attente'], [0, 365, 730, 1095, 1460, 1825, 3650, 5000000], labels=['Moins d\\'un an', 'Entre 1 an et 2 ans', 'Entre 2 ans et 3 ans', 'Entre 3 ans et 4 ans', 'Entre 4 ans et 5 ans', 'Entre 5 ans et 10 ans', 'Plus de 10 ans'])\n"
     ]
    }
   ],
   "source": [
    "dfd1['Durée effective attente']=pd.cut(dfd1['Temps attente'], [0, 365, 730, 1095, 1460, 1825, 3650, 5000000], labels=['Moins d\\'un an', 'Entre 1 an et 2 ans', 'Entre 2 ans et 3 ans', 'Entre 3 ans et 4 ans', 'Entre 4 ans et 5 ans', 'Entre 5 ans et 10 ans', 'Plus de 10 ans'])"
   ],
   "metadata": {
    "collapsed": false,
    "pycharm": {
     "name": "#%%\n"
    }
   }
  },
  {
   "cell_type": "code",
   "execution_count": 73,
   "outputs": [
    {
     "data": {
      "text/plain": "            Numéro Unique  Nb unités de consommation du foyer  \\\n0      111011885857794043                                 1.8   \n1      111051767234510108                                 1.5   \n2      111091777617075056                                 1.5   \n3      111021758912175056                                 1.0   \n4      111111781080175056                                 1.0   \n...                   ...                                 ...   \n42743  111011885009910129                                 1.5   \n42744  1111217829952GDPUB                                 1.8   \n42745  111111782174292019                                 2.0   \n42746  111091647518710129                                 2.0   \n42747  111041228887210033                                 2.5   \n\n       Ressources mensuelles du foyer Date création demande  \\\n0                                   1            2018-01-15   \n1                                   1            2017-05-15   \n2                                   1            2017-09-29   \n3                                   1            2017-02-08   \n4                                   1            2017-11-10   \n...                               ...                   ...   \n42743                           70914            2018-01-04   \n42744                           89164            2017-12-03   \n42745                           99276            2017-11-23   \n42746                          105794            2016-09-23   \n42747                          150113            2012-04-23   \n\n      Date de la radiation  Age demandeur Situation familiale  \\\n0               2018-06-08             37           Marié (e)   \n1               2018-06-01             54          Séparé (e)   \n2               2018-11-26             32        Concubin (e)   \n3               2018-01-03             28         Célibataire   \n4               2018-04-01             45         Célibataire   \n...                    ...            ...                 ...   \n42743           2018-04-24             54         Célibataire   \n42744           2018-02-12             33           Marié (e)   \n42745           2018-08-07             66           Marié (e)   \n42746           2018-05-25             61           Marié (e)   \n42747           2018-04-26             56         Divorcé (e)   \n\n      Type du logement attribué  revenu_par_UC  Revenus annuels Catégorie  \\\n0                            T3       0.555556         6.666667   Pauvres   \n1                            T3       0.666667         8.000000   Pauvres   \n2                            T2       0.666667         8.000000   Pauvres   \n3                            T1       1.000000        12.000000   Pauvres   \n4                            T1       1.000000        12.000000   Pauvres   \n...                         ...            ...              ...       ...   \n42743                        T3   47276.000000    567312.000000    Autres   \n42744                        T3   49535.555556    594426.666667    Autres   \n42745                        T4   49638.000000    595656.000000    Autres   \n42746                        T3   52897.000000    634764.000000    Autres   \n42747                        T4   60045.200000    720542.400000    Autres   \n\n               Age  Temps attente Durée effective attente  \n0      30 à 39 ans            144           Moins d'un an  \n1      50 à 59 ans            382     Entre 1 an et 2 ans  \n2      30 à 39 ans            423     Entre 1 an et 2 ans  \n3       0 à 29 ans            329           Moins d'un an  \n4      40 à 49 ans            142           Moins d'un an  \n...            ...            ...                     ...  \n42743  50 à 59 ans            110           Moins d'un an  \n42744  30 à 39 ans             71           Moins d'un an  \n42745   60 à 69ans            257           Moins d'un an  \n42746   60 à 69ans            609     Entre 1 an et 2 ans  \n42747  50 à 59 ans           2194   Entre 5 ans et 10 ans  \n\n[42748 rows x 14 columns]",
      "text/html": "<div>\n<style scoped>\n    .dataframe tbody tr th:only-of-type {\n        vertical-align: middle;\n    }\n\n    .dataframe tbody tr th {\n        vertical-align: top;\n    }\n\n    .dataframe thead th {\n        text-align: right;\n    }\n</style>\n<table border=\"1\" class=\"dataframe\">\n  <thead>\n    <tr style=\"text-align: right;\">\n      <th></th>\n      <th>Numéro Unique</th>\n      <th>Nb unités de consommation du foyer</th>\n      <th>Ressources mensuelles du foyer</th>\n      <th>Date création demande</th>\n      <th>Date de la radiation</th>\n      <th>Age demandeur</th>\n      <th>Situation familiale</th>\n      <th>Type du logement attribué</th>\n      <th>revenu_par_UC</th>\n      <th>Revenus annuels</th>\n      <th>Catégorie</th>\n      <th>Age</th>\n      <th>Temps attente</th>\n      <th>Durée effective attente</th>\n    </tr>\n  </thead>\n  <tbody>\n    <tr>\n      <th>0</th>\n      <td>111011885857794043</td>\n      <td>1.8</td>\n      <td>1</td>\n      <td>2018-01-15</td>\n      <td>2018-06-08</td>\n      <td>37</td>\n      <td>Marié (e)</td>\n      <td>T3</td>\n      <td>0.555556</td>\n      <td>6.666667</td>\n      <td>Pauvres</td>\n      <td>30 à 39 ans</td>\n      <td>144</td>\n      <td>Moins d'un an</td>\n    </tr>\n    <tr>\n      <th>1</th>\n      <td>111051767234510108</td>\n      <td>1.5</td>\n      <td>1</td>\n      <td>2017-05-15</td>\n      <td>2018-06-01</td>\n      <td>54</td>\n      <td>Séparé (e)</td>\n      <td>T3</td>\n      <td>0.666667</td>\n      <td>8.000000</td>\n      <td>Pauvres</td>\n      <td>50 à 59 ans</td>\n      <td>382</td>\n      <td>Entre 1 an et 2 ans</td>\n    </tr>\n    <tr>\n      <th>2</th>\n      <td>111091777617075056</td>\n      <td>1.5</td>\n      <td>1</td>\n      <td>2017-09-29</td>\n      <td>2018-11-26</td>\n      <td>32</td>\n      <td>Concubin (e)</td>\n      <td>T2</td>\n      <td>0.666667</td>\n      <td>8.000000</td>\n      <td>Pauvres</td>\n      <td>30 à 39 ans</td>\n      <td>423</td>\n      <td>Entre 1 an et 2 ans</td>\n    </tr>\n    <tr>\n      <th>3</th>\n      <td>111021758912175056</td>\n      <td>1.0</td>\n      <td>1</td>\n      <td>2017-02-08</td>\n      <td>2018-01-03</td>\n      <td>28</td>\n      <td>Célibataire</td>\n      <td>T1</td>\n      <td>1.000000</td>\n      <td>12.000000</td>\n      <td>Pauvres</td>\n      <td>0 à 29 ans</td>\n      <td>329</td>\n      <td>Moins d'un an</td>\n    </tr>\n    <tr>\n      <th>4</th>\n      <td>111111781080175056</td>\n      <td>1.0</td>\n      <td>1</td>\n      <td>2017-11-10</td>\n      <td>2018-04-01</td>\n      <td>45</td>\n      <td>Célibataire</td>\n      <td>T1</td>\n      <td>1.000000</td>\n      <td>12.000000</td>\n      <td>Pauvres</td>\n      <td>40 à 49 ans</td>\n      <td>142</td>\n      <td>Moins d'un an</td>\n    </tr>\n    <tr>\n      <th>...</th>\n      <td>...</td>\n      <td>...</td>\n      <td>...</td>\n      <td>...</td>\n      <td>...</td>\n      <td>...</td>\n      <td>...</td>\n      <td>...</td>\n      <td>...</td>\n      <td>...</td>\n      <td>...</td>\n      <td>...</td>\n      <td>...</td>\n      <td>...</td>\n    </tr>\n    <tr>\n      <th>42743</th>\n      <td>111011885009910129</td>\n      <td>1.5</td>\n      <td>70914</td>\n      <td>2018-01-04</td>\n      <td>2018-04-24</td>\n      <td>54</td>\n      <td>Célibataire</td>\n      <td>T3</td>\n      <td>47276.000000</td>\n      <td>567312.000000</td>\n      <td>Autres</td>\n      <td>50 à 59 ans</td>\n      <td>110</td>\n      <td>Moins d'un an</td>\n    </tr>\n    <tr>\n      <th>42744</th>\n      <td>1111217829952GDPUB</td>\n      <td>1.8</td>\n      <td>89164</td>\n      <td>2017-12-03</td>\n      <td>2018-02-12</td>\n      <td>33</td>\n      <td>Marié (e)</td>\n      <td>T3</td>\n      <td>49535.555556</td>\n      <td>594426.666667</td>\n      <td>Autres</td>\n      <td>30 à 39 ans</td>\n      <td>71</td>\n      <td>Moins d'un an</td>\n    </tr>\n    <tr>\n      <th>42745</th>\n      <td>111111782174292019</td>\n      <td>2.0</td>\n      <td>99276</td>\n      <td>2017-11-23</td>\n      <td>2018-08-07</td>\n      <td>66</td>\n      <td>Marié (e)</td>\n      <td>T4</td>\n      <td>49638.000000</td>\n      <td>595656.000000</td>\n      <td>Autres</td>\n      <td>60 à 69ans</td>\n      <td>257</td>\n      <td>Moins d'un an</td>\n    </tr>\n    <tr>\n      <th>42746</th>\n      <td>111091647518710129</td>\n      <td>2.0</td>\n      <td>105794</td>\n      <td>2016-09-23</td>\n      <td>2018-05-25</td>\n      <td>61</td>\n      <td>Marié (e)</td>\n      <td>T3</td>\n      <td>52897.000000</td>\n      <td>634764.000000</td>\n      <td>Autres</td>\n      <td>60 à 69ans</td>\n      <td>609</td>\n      <td>Entre 1 an et 2 ans</td>\n    </tr>\n    <tr>\n      <th>42747</th>\n      <td>111041228887210033</td>\n      <td>2.5</td>\n      <td>150113</td>\n      <td>2012-04-23</td>\n      <td>2018-04-26</td>\n      <td>56</td>\n      <td>Divorcé (e)</td>\n      <td>T4</td>\n      <td>60045.200000</td>\n      <td>720542.400000</td>\n      <td>Autres</td>\n      <td>50 à 59 ans</td>\n      <td>2194</td>\n      <td>Entre 5 ans et 10 ans</td>\n    </tr>\n  </tbody>\n</table>\n<p>42748 rows × 14 columns</p>\n</div>"
     },
     "execution_count": 73,
     "metadata": {},
     "output_type": "execute_result"
    }
   ],
   "source": [
    "dfd1"
   ],
   "metadata": {
    "collapsed": false,
    "pycharm": {
     "name": "#%%\n"
    }
   }
  },
  {
   "cell_type": "code",
   "execution_count": 39,
   "outputs": [
    {
     "data": {
      "text/plain": "Numéro Unique                         12471\nNb unités de consommation du foyer    12471\nRessources mensuelles du foyer        12471\nDate création demande                 12471\nDate de la radiation                  12471\nAge demandeur                         12471\nSituation familiale                   12471\nType du logement attribué             12471\nrevenu_par_UC                         12471\nRevenus annuels                       12471\nCatégorie                             12471\nAge                                   12471\nTemps attente                         12471\nDurée effective attente               12470\ndtype: int64"
     },
     "execution_count": 39,
     "metadata": {},
     "output_type": "execute_result"
    }
   ],
   "source": [
    "dfd1[dfd1['Catégorie']=='Pauvres'].count()"
   ],
   "metadata": {
    "collapsed": false,
    "pycharm": {
     "name": "#%%\n"
    }
   }
  },
  {
   "cell_type": "code",
   "execution_count": 40,
   "outputs": [
    {
     "data": {
      "text/plain": "Numéro Unique                         30277\nNb unités de consommation du foyer    30277\nRessources mensuelles du foyer        30277\nDate création demande                 30277\nDate de la radiation                  30277\nAge demandeur                         30277\nSituation familiale                   30277\nType du logement attribué             30277\nrevenu_par_UC                         30277\nRevenus annuels                       30277\nCatégorie                             30277\nAge                                   30277\nTemps attente                         30277\nDurée effective attente               30275\ndtype: int64"
     },
     "execution_count": 40,
     "metadata": {},
     "output_type": "execute_result"
    }
   ],
   "source": [
    "dfd1[dfd1['Catégorie']=='Autres'].count()"
   ],
   "metadata": {
    "collapsed": false,
    "pycharm": {
     "name": "#%%\n"
    }
   }
  },
  {
   "cell_type": "code",
   "execution_count": 74,
   "outputs": [],
   "source": [
    "attente = dfd1[[\"Catégorie\", \"Durée effective attente\"]]\n",
    "z=attente.pivot_table(index=\"Durée effective attente\", columns=\"Catégorie\",  aggfunc=\"size\", fill_value=0)"
   ],
   "metadata": {
    "collapsed": false,
    "pycharm": {
     "name": "#%%\n"
    }
   }
  },
  {
   "cell_type": "code",
   "execution_count": 75,
   "outputs": [],
   "source": [
    "z.reset_index(inplace=True)"
   ],
   "metadata": {
    "collapsed": false,
    "pycharm": {
     "name": "#%%\n"
    }
   }
  },
  {
   "cell_type": "code",
   "execution_count": 76,
   "outputs": [],
   "source": [
    "z=z.rename(columns={'Catégorie': 'Index'})"
   ],
   "metadata": {
    "collapsed": false,
    "pycharm": {
     "name": "#%%\n"
    }
   }
  },
  {
   "cell_type": "code",
   "execution_count": 77,
   "outputs": [],
   "source": [
    "z['Ensemble']=z['Pauvres']+z['Autres']"
   ],
   "metadata": {
    "collapsed": false,
    "pycharm": {
     "name": "#%%\n"
    }
   }
  },
  {
   "cell_type": "code",
   "execution_count": 78,
   "outputs": [],
   "source": [
    "z['Pauvres']=(z['Pauvres']/12471)*100\n",
    "z['Autres']=(z['Autres']/30277)*100\n",
    "z['Ensemble']=(z['Ensemble']/42748)*100"
   ],
   "metadata": {
    "collapsed": false,
    "pycharm": {
     "name": "#%%\n"
    }
   }
  },
  {
   "cell_type": "code",
   "execution_count": 79,
   "outputs": [
    {
     "data": {
      "text/plain": "Catégorie Durée effective attente    Pauvres     Autres   Ensemble\n0                   Moins d'un an  17.520648  33.031674  28.506597\n1             Entre 1 an et 2 ans  15.740518  20.355385  19.009076\n2            Entre 2 ans et 3 ans  15.515997  13.842190  14.330495\n3            Entre 3 ans et 4 ans  12.701467   9.997688  10.786470\n4            Entre 4 ans et 5 ans  10.175607   6.959078   7.897445\n5           Entre 5 ans et 10 ans  21.401652  12.563992  15.142229\n6                  Plus de 10 ans   6.936092   3.243386   4.320670",
      "text/html": "<div>\n<style scoped>\n    .dataframe tbody tr th:only-of-type {\n        vertical-align: middle;\n    }\n\n    .dataframe tbody tr th {\n        vertical-align: top;\n    }\n\n    .dataframe thead th {\n        text-align: right;\n    }\n</style>\n<table border=\"1\" class=\"dataframe\">\n  <thead>\n    <tr style=\"text-align: right;\">\n      <th>Catégorie</th>\n      <th>Durée effective attente</th>\n      <th>Pauvres</th>\n      <th>Autres</th>\n      <th>Ensemble</th>\n    </tr>\n  </thead>\n  <tbody>\n    <tr>\n      <th>0</th>\n      <td>Moins d'un an</td>\n      <td>17.520648</td>\n      <td>33.031674</td>\n      <td>28.506597</td>\n    </tr>\n    <tr>\n      <th>1</th>\n      <td>Entre 1 an et 2 ans</td>\n      <td>15.740518</td>\n      <td>20.355385</td>\n      <td>19.009076</td>\n    </tr>\n    <tr>\n      <th>2</th>\n      <td>Entre 2 ans et 3 ans</td>\n      <td>15.515997</td>\n      <td>13.842190</td>\n      <td>14.330495</td>\n    </tr>\n    <tr>\n      <th>3</th>\n      <td>Entre 3 ans et 4 ans</td>\n      <td>12.701467</td>\n      <td>9.997688</td>\n      <td>10.786470</td>\n    </tr>\n    <tr>\n      <th>4</th>\n      <td>Entre 4 ans et 5 ans</td>\n      <td>10.175607</td>\n      <td>6.959078</td>\n      <td>7.897445</td>\n    </tr>\n    <tr>\n      <th>5</th>\n      <td>Entre 5 ans et 10 ans</td>\n      <td>21.401652</td>\n      <td>12.563992</td>\n      <td>15.142229</td>\n    </tr>\n    <tr>\n      <th>6</th>\n      <td>Plus de 10 ans</td>\n      <td>6.936092</td>\n      <td>3.243386</td>\n      <td>4.320670</td>\n    </tr>\n  </tbody>\n</table>\n</div>"
     },
     "execution_count": 79,
     "metadata": {},
     "output_type": "execute_result"
    }
   ],
   "source": [
    "z"
   ],
   "metadata": {
    "collapsed": false,
    "pycharm": {
     "name": "#%%\n"
    }
   }
  },
  {
   "cell_type": "code",
   "execution_count": 71,
   "outputs": [],
   "source": [
    "file_name = 'Répartition temps d\\'attente GP.xlsx'\n",
    "z.to_excel(file_name)"
   ],
   "metadata": {
    "collapsed": false,
    "pycharm": {
     "name": "#%%\n"
    }
   }
  },
  {
   "cell_type": "markdown",
   "source": [
    "## Graphiques"
   ],
   "metadata": {
    "collapsed": false,
    "pycharm": {
     "name": "#%% md\n"
    }
   }
  },
  {
   "cell_type": "code",
   "execution_count": 98,
   "outputs": [],
   "source": [
    "attente=dfd1[[ \"Catégorie\", \"Temps attente\"]]"
   ],
   "metadata": {
    "collapsed": false,
    "pycharm": {
     "name": "#%%\n"
    }
   }
  },
  {
   "cell_type": "code",
   "execution_count": 99,
   "outputs": [],
   "source": [
    "dfplot = attente.groupby('Catégorie').mean()"
   ],
   "metadata": {
    "collapsed": false,
    "pycharm": {
     "name": "#%%\n"
    }
   }
  },
  {
   "cell_type": "code",
   "execution_count": 100,
   "outputs": [
    {
     "data": {
      "text/plain": "                         Temps attente\nCatégorie                             \nPauvres   1462 days 14:44:35.968246320\nAutres    1001 days 04:08:04.633694800",
      "text/html": "<div>\n<style scoped>\n    .dataframe tbody tr th:only-of-type {\n        vertical-align: middle;\n    }\n\n    .dataframe tbody tr th {\n        vertical-align: top;\n    }\n\n    .dataframe thead th {\n        text-align: right;\n    }\n</style>\n<table border=\"1\" class=\"dataframe\">\n  <thead>\n    <tr style=\"text-align: right;\">\n      <th></th>\n      <th>Temps attente</th>\n    </tr>\n    <tr>\n      <th>Catégorie</th>\n      <th></th>\n    </tr>\n  </thead>\n  <tbody>\n    <tr>\n      <th>Pauvres</th>\n      <td>1462 days 14:44:35.968246320</td>\n    </tr>\n    <tr>\n      <th>Autres</th>\n      <td>1001 days 04:08:04.633694800</td>\n    </tr>\n  </tbody>\n</table>\n</div>"
     },
     "execution_count": 100,
     "metadata": {},
     "output_type": "execute_result"
    }
   ],
   "source": [
    "dfplot"
   ],
   "metadata": {
    "collapsed": false,
    "pycharm": {
     "name": "#%%\n"
    }
   }
  },
  {
   "cell_type": "code",
   "execution_count": 101,
   "outputs": [],
   "source": [
    "dfplot['Temps attente'] = dfplot['Temps attente'].values.astype(np.int64)"
   ],
   "metadata": {
    "collapsed": false,
    "pycharm": {
     "name": "#%%\n"
    }
   }
  },
  {
   "cell_type": "code",
   "execution_count": 102,
   "outputs": [
    {
     "data": {
      "text/plain": "                Temps attente\nCatégorie                    \nPauvres    126369875968246320\nAutres      86501284633694800",
      "text/html": "<div>\n<style scoped>\n    .dataframe tbody tr th:only-of-type {\n        vertical-align: middle;\n    }\n\n    .dataframe tbody tr th {\n        vertical-align: top;\n    }\n\n    .dataframe thead th {\n        text-align: right;\n    }\n</style>\n<table border=\"1\" class=\"dataframe\">\n  <thead>\n    <tr style=\"text-align: right;\">\n      <th></th>\n      <th>Temps attente</th>\n    </tr>\n    <tr>\n      <th>Catégorie</th>\n      <th></th>\n    </tr>\n  </thead>\n  <tbody>\n    <tr>\n      <th>Pauvres</th>\n      <td>126369875968246320</td>\n    </tr>\n    <tr>\n      <th>Autres</th>\n      <td>86501284633694800</td>\n    </tr>\n  </tbody>\n</table>\n</div>"
     },
     "execution_count": 102,
     "metadata": {},
     "output_type": "execute_result"
    }
   ],
   "source": [
    "dfplot"
   ],
   "metadata": {
    "collapsed": false,
    "pycharm": {
     "name": "#%%\n"
    }
   }
  },
  {
   "cell_type": "code",
   "execution_count": 103,
   "outputs": [],
   "source": [
    "dfplot['Temps attente']=(dfplot['Temps attente']//(86400000000000)) #attention ici on fait un arrondi, il faut le préciser"
   ],
   "metadata": {
    "collapsed": false,
    "pycharm": {
     "name": "#%%\n"
    }
   }
  },
  {
   "cell_type": "code",
   "execution_count": 104,
   "outputs": [
    {
     "data": {
      "text/plain": "           Temps attente\nCatégorie               \nPauvres             1462\nAutres              1001",
      "text/html": "<div>\n<style scoped>\n    .dataframe tbody tr th:only-of-type {\n        vertical-align: middle;\n    }\n\n    .dataframe tbody tr th {\n        vertical-align: top;\n    }\n\n    .dataframe thead th {\n        text-align: right;\n    }\n</style>\n<table border=\"1\" class=\"dataframe\">\n  <thead>\n    <tr style=\"text-align: right;\">\n      <th></th>\n      <th>Temps attente</th>\n    </tr>\n    <tr>\n      <th>Catégorie</th>\n      <th></th>\n    </tr>\n  </thead>\n  <tbody>\n    <tr>\n      <th>Pauvres</th>\n      <td>1462</td>\n    </tr>\n    <tr>\n      <th>Autres</th>\n      <td>1001</td>\n    </tr>\n  </tbody>\n</table>\n</div>"
     },
     "execution_count": 104,
     "metadata": {},
     "output_type": "execute_result"
    }
   ],
   "source": [
    "dfplot"
   ],
   "metadata": {
    "collapsed": false,
    "pycharm": {
     "name": "#%%\n"
    }
   }
  },
  {
   "cell_type": "code",
   "execution_count": 58,
   "outputs": [
    {
     "data": {
      "text/plain": "Text(0, 0.5, \"Temps d'attente moyen pour obtenir un logement social (en jours)\")"
     },
     "execution_count": 58,
     "metadata": {},
     "output_type": "execute_result"
    },
    {
     "data": {
      "text/plain": "<Figure size 720x432 with 1 Axes>",
      "image/png": "[encoded data removed]"
     },
     "metadata": {
      "needs_background": "light"
     },
     "output_type": "display_data"
    }
   ],
   "source": [
    "dfplot.reset_index(inplace=True)\n",
    "fig = plt.figure(1, figsize=(10, 6))\n",
    "plt.bar(dfplot[\"Quintile\"], dfplot['Temps attente'], color=\"red\")\n",
    "plt.xlabel('Quintile de revenus du ménage(selon les revenus annuels par unité de consommation)')\n",
    "plt.ylabel(\"Temps d'attente moyen pour obtenir un logement social (en jours)\")"
   ],
   "metadata": {
    "collapsed": false,
    "pycharm": {
     "name": "#%%\n"
    }
   }
  },
  {
   "cell_type": "markdown",
   "source": [
    "### En fonction de l'âge"
   ],
   "metadata": {
    "collapsed": false,
    "pycharm": {
     "name": "#%% md\n"
    }
   }
  },
  {
   "cell_type": "code",
   "execution_count": 93,
   "outputs": [],
   "source": [
    "pauvres = dfd1[dfd1['Catégorie']== 'Pauvres']\n",
    "autres = dfd1[dfd1['Catégorie']== 'Autres']"
   ],
   "metadata": {
    "collapsed": false,
    "pycharm": {
     "name": "#%%\n"
    }
   }
  },
  {
   "cell_type": "code",
   "execution_count": 84,
   "outputs": [
    {
     "data": {
      "text/plain": "            Numéro Unique  Nb unités de consommation du foyer  \\\n0      111011885857794043                                 1.8   \n1      111051767234510108                                 1.5   \n2      111091777617075056                                 1.5   \n3      111021758912175056                                 1.0   \n4      111111781080175056                                 1.0   \n...                   ...                                 ...   \n12466  175110822671500002                                 2.1   \n12467  111081485961593B10                                 1.8   \n12468  111071641986693050                                 1.8   \n12469  111051638496710129                                 2.9   \n12470  111041352962075056                                 2.8   \n\n       Ressources mensuelles du foyer Date création demande  \\\n0                                   1            2018-01-15   \n1                                   1            2017-05-15   \n2                                   1            2017-09-29   \n3                                   1            2017-02-08   \n4                                   1            2017-11-10   \n...                               ...                   ...   \n12466                            2233            2008-11-01   \n12467                            1914            2014-08-01   \n12468                            1914            2016-07-12   \n12469                            3084            2016-05-31   \n12470                            2978            2013-04-19   \n\n      Date de la radiation  Age demandeur Situation familiale  \\\n0               2018-06-08             37           Marié (e)   \n1               2018-06-01             54          Séparé (e)   \n2               2018-11-26             32        Concubin (e)   \n3               2018-01-03             28         Célibataire   \n4               2018-04-01             45         Célibataire   \n...                    ...            ...                 ...   \n12466           2018-10-30             33        Concubin (e)   \n12467           2018-08-08             36           Marié (e)   \n12468           2018-09-26             46           Marié (e)   \n12469           2018-05-03             53        Concubin (e)   \n12470           2018-01-29             54           Marié (e)   \n\n      Type du logement attribué  revenu_par_UC  Revenus annuels Catégorie  \\\n0                            T3       0.555556         6.666667   Pauvres   \n1                            T3       0.666667         8.000000   Pauvres   \n2                            T2       0.666667         8.000000   Pauvres   \n3                            T1       1.000000        12.000000   Pauvres   \n4                            T1       1.000000        12.000000   Pauvres   \n...                         ...            ...              ...       ...   \n12466                        T3    1063.333333     12760.000000   Pauvres   \n12467                        T3    1063.333333     12760.000000   Pauvres   \n12468                        T3    1063.333333     12760.000000   Pauvres   \n12469                        T4    1063.448276     12761.379310   Pauvres   \n12470                        T4    1063.571429     12762.857143   Pauvres   \n\n               Age  Temps attente Durée effective attente  \n0      30 à 39 ans            144           Moins d'un an  \n1      50 à 59 ans            382     Entre 1 an et 2 ans  \n2      30 à 39 ans            423     Entre 1 an et 2 ans  \n3       0 à 29 ans            329           Moins d'un an  \n4      40 à 49 ans            142           Moins d'un an  \n...            ...            ...                     ...  \n12466  30 à 39 ans           3650   Entre 5 ans et 10 ans  \n12467  30 à 39 ans           1468    Entre 4 ans et 5 ans  \n12468  40 à 49 ans            806    Entre 2 ans et 3 ans  \n12469  50 à 59 ans            702     Entre 1 an et 2 ans  \n12470  50 à 59 ans           1746    Entre 4 ans et 5 ans  \n\n[12471 rows x 14 columns]",
      "text/html": "<div>\n<style scoped>\n    .dataframe tbody tr th:only-of-type {\n        vertical-align: middle;\n    }\n\n    .dataframe tbody tr th {\n        vertical-align: top;\n    }\n\n    .dataframe thead th {\n        text-align: right;\n    }\n</style>\n<table border=\"1\" class=\"dataframe\">\n  <thead>\n    <tr style=\"text-align: right;\">\n      <th></th>\n      <th>Numéro Unique</th>\n      <th>Nb unités de consommation du foyer</th>\n      <th>Ressources mensuelles du foyer</th>\n      <th>Date création demande</th>\n      <th>Date de la radiation</th>\n      <th>Age demandeur</th>\n      <th>Situation familiale</th>\n      <th>Type du logement attribué</th>\n      <th>revenu_par_UC</th>\n      <th>Revenus annuels</th>\n      <th>Catégorie</th>\n      <th>Age</th>\n      <th>Temps attente</th>\n      <th>Durée effective attente</th>\n    </tr>\n  </thead>\n  <tbody>\n    <tr>\n      <th>0</th>\n      <td>111011885857794043</td>\n      <td>1.8</td>\n      <td>1</td>\n      <td>2018-01-15</td>\n      <td>2018-06-08</td>\n      <td>37</td>\n      <td>Marié (e)</td>\n      <td>T3</td>\n      <td>0.555556</td>\n      <td>6.666667</td>\n      <td>Pauvres</td>\n      <td>30 à 39 ans</td>\n      <td>144</td>\n      <td>Moins d'un an</td>\n    </tr>\n    <tr>\n      <th>1</th>\n      <td>111051767234510108</td>\n      <td>1.5</td>\n      <td>1</td>\n      <td>2017-05-15</td>\n      <td>2018-06-01</td>\n      <td>54</td>\n      <td>Séparé (e)</td>\n      <td>T3</td>\n      <td>0.666667</td>\n      <td>8.000000</td>\n      <td>Pauvres</td>\n      <td>50 à 59 ans</td>\n      <td>382</td>\n      <td>Entre 1 an et 2 ans</td>\n    </tr>\n    <tr>\n      <th>2</th>\n      <td>111091777617075056</td>\n      <td>1.5</td>\n      <td>1</td>\n      <td>2017-09-29</td>\n      <td>2018-11-26</td>\n      <td>32</td>\n      <td>Concubin (e)</td>\n      <td>T2</td>\n      <td>0.666667</td>\n      <td>8.000000</td>\n      <td>Pauvres</td>\n      <td>30 à 39 ans</td>\n      <td>423</td>\n      <td>Entre 1 an et 2 ans</td>\n    </tr>\n    <tr>\n      <th>3</th>\n      <td>111021758912175056</td>\n      <td>1.0</td>\n      <td>1</td>\n      <td>2017-02-08</td>\n      <td>2018-01-03</td>\n      <td>28</td>\n      <td>Célibataire</td>\n      <td>T1</td>\n      <td>1.000000</td>\n      <td>12.000000</td>\n      <td>Pauvres</td>\n      <td>0 à 29 ans</td>\n      <td>329</td>\n      <td>Moins d'un an</td>\n    </tr>\n    <tr>\n      <th>4</th>\n      <td>111111781080175056</td>\n      <td>1.0</td>\n      <td>1</td>\n      <td>2017-11-10</td>\n      <td>2018-04-01</td>\n      <td>45</td>\n      <td>Célibataire</td>\n      <td>T1</td>\n      <td>1.000000</td>\n      <td>12.000000</td>\n      <td>Pauvres</td>\n      <td>40 à 49 ans</td>\n      <td>142</td>\n      <td>Moins d'un an</td>\n    </tr>\n    <tr>\n      <th>...</th>\n      <td>...</td>\n      <td>...</td>\n      <td>...</td>\n      <td>...</td>\n      <td>...</td>\n      <td>...</td>\n      <td>...</td>\n      <td>...</td>\n      <td>...</td>\n      <td>...</td>\n      <td>...</td>\n      <td>...</td>\n      <td>...</td>\n      <td>...</td>\n    </tr>\n    <tr>\n      <th>12466</th>\n      <td>175110822671500002</td>\n      <td>2.1</td>\n      <td>2233</td>\n      <td>2008-11-01</td>\n      <td>2018-10-30</td>\n      <td>33</td>\n      <td>Concubin (e)</td>\n      <td>T3</td>\n      <td>1063.333333</td>\n      <td>12760.000000</td>\n      <td>Pauvres</td>\n      <td>30 à 39 ans</td>\n      <td>3650</td>\n      <td>Entre 5 ans et 10 ans</td>\n    </tr>\n    <tr>\n      <th>12467</th>\n      <td>111081485961593B10</td>\n      <td>1.8</td>\n      <td>1914</td>\n      <td>2014-08-01</td>\n      <td>2018-08-08</td>\n      <td>36</td>\n      <td>Marié (e)</td>\n      <td>T3</td>\n      <td>1063.333333</td>\n      <td>12760.000000</td>\n      <td>Pauvres</td>\n      <td>30 à 39 ans</td>\n      <td>1468</td>\n      <td>Entre 4 ans et 5 ans</td>\n    </tr>\n    <tr>\n      <th>12468</th>\n      <td>111071641986693050</td>\n      <td>1.8</td>\n      <td>1914</td>\n      <td>2016-07-12</td>\n      <td>2018-09-26</td>\n      <td>46</td>\n      <td>Marié (e)</td>\n      <td>T3</td>\n      <td>1063.333333</td>\n      <td>12760.000000</td>\n      <td>Pauvres</td>\n      <td>40 à 49 ans</td>\n      <td>806</td>\n      <td>Entre 2 ans et 3 ans</td>\n    </tr>\n    <tr>\n      <th>12469</th>\n      <td>111051638496710129</td>\n      <td>2.9</td>\n      <td>3084</td>\n      <td>2016-05-31</td>\n      <td>2018-05-03</td>\n      <td>53</td>\n      <td>Concubin (e)</td>\n      <td>T4</td>\n      <td>1063.448276</td>\n      <td>12761.379310</td>\n      <td>Pauvres</td>\n      <td>50 à 59 ans</td>\n      <td>702</td>\n      <td>Entre 1 an et 2 ans</td>\n    </tr>\n    <tr>\n      <th>12470</th>\n      <td>111041352962075056</td>\n      <td>2.8</td>\n      <td>2978</td>\n      <td>2013-04-19</td>\n      <td>2018-01-29</td>\n      <td>54</td>\n      <td>Marié (e)</td>\n      <td>T4</td>\n      <td>1063.571429</td>\n      <td>12762.857143</td>\n      <td>Pauvres</td>\n      <td>50 à 59 ans</td>\n      <td>1746</td>\n      <td>Entre 4 ans et 5 ans</td>\n    </tr>\n  </tbody>\n</table>\n<p>12471 rows × 14 columns</p>\n</div>"
     },
     "execution_count": 84,
     "metadata": {},
     "output_type": "execute_result"
    }
   ],
   "source": [
    "pauvres"
   ],
   "metadata": {
    "collapsed": false,
    "pycharm": {
     "name": "#%%\n"
    }
   }
  },
  {
   "cell_type": "code",
   "execution_count": 108,
   "outputs": [
    {
     "data": {
      "text/plain": "                Temps attente\nAge                          \n0 à 29 ans                863\n30 à 39 ans              1269\n40 à 49 ans              1573\n50 à 59 ans              1818\n60 à 69ans               1859\n70 ans et plus           1541",
      "text/html": "<div>\n<style scoped>\n    .dataframe tbody tr th:only-of-type {\n        vertical-align: middle;\n    }\n\n    .dataframe tbody tr th {\n        vertical-align: top;\n    }\n\n    .dataframe thead th {\n        text-align: right;\n    }\n</style>\n<table border=\"1\" class=\"dataframe\">\n  <thead>\n    <tr style=\"text-align: right;\">\n      <th></th>\n      <th>Temps attente</th>\n    </tr>\n    <tr>\n      <th>Age</th>\n      <th></th>\n    </tr>\n  </thead>\n  <tbody>\n    <tr>\n      <th>0 à 29 ans</th>\n      <td>863</td>\n    </tr>\n    <tr>\n      <th>30 à 39 ans</th>\n      <td>1269</td>\n    </tr>\n    <tr>\n      <th>40 à 49 ans</th>\n      <td>1573</td>\n    </tr>\n    <tr>\n      <th>50 à 59 ans</th>\n      <td>1818</td>\n    </tr>\n    <tr>\n      <th>60 à 69ans</th>\n      <td>1859</td>\n    </tr>\n    <tr>\n      <th>70 ans et plus</th>\n      <td>1541</td>\n    </tr>\n  </tbody>\n</table>\n</div>"
     },
     "execution_count": 108,
     "metadata": {},
     "output_type": "execute_result"
    }
   ],
   "source": [
    "attentep=pauvres[[ \"Age\", \"Temps attente\"]]\n",
    "dfplotp = attentep.groupby('Age').mean()\n",
    "dfplotp['Temps attente'] = dfplotp['Temps attente'].values.astype(np.int64)\n",
    "dfplotp"
   ],
   "metadata": {
    "collapsed": false,
    "pycharm": {
     "name": "#%%\n"
    }
   }
  },
  {
   "cell_type": "code",
   "execution_count": 109,
   "outputs": [
    {
     "data": {
      "text/plain": "<Figure size 360x360 with 0 Axes>"
     },
     "metadata": {},
     "output_type": "display_data"
    }
   ],
   "source": [
    "dfplotp.reset_index(inplace=True)\n",
    "fig = plt.figure(1, figsize=(5, 5))"
   ],
   "metadata": {
    "collapsed": false,
    "pycharm": {
     "name": "#%%\n"
    }
   }
  },
  {
   "cell_type": "code",
   "execution_count": 110,
   "outputs": [
    {
     "data": {
      "text/plain": "Text(0, 0.5, 'Age du demandeur')"
     },
     "execution_count": 110,
     "metadata": {},
     "output_type": "execute_result"
    },
    {
     "data": {
      "text/plain": "<Figure size 432x288 with 1 Axes>",
      "image/png": "[encoded data removed]"
     },
     "metadata": {
      "needs_background": "light"
     },
     "output_type": "display_data"
    }
   ],
   "source": [
    "plt.barh(dfplotp[\"Age\"], dfplotp['Temps attente'], color=\"orange\")\n",
    "plt.xlabel(\"Temps attente pour obtenir un logement social (en jours)\")\n",
    "plt.ylabel('Age du demandeur')"
   ],
   "metadata": {
    "collapsed": false,
    "pycharm": {
     "name": "#%%\n"
    }
   }
  },
  {
   "cell_type": "code",
   "execution_count": 111,
   "outputs": [
    {
     "data": {
      "text/plain": "<Figure size 360x360 with 0 Axes>"
     },
     "metadata": {},
     "output_type": "display_data"
    }
   ],
   "source": [
    "attentea=autres[[ \"Age\", \"Temps attente\"]]\n",
    "dfplota = attentea.groupby('Age').mean()\n",
    "dfplota['Temps attente'] = dfplota['Temps attente'].values.astype(np.int64)\n",
    "dfplota.reset_index(inplace=True)\n",
    "fig = plt.figure(1, figsize=(5, 5))"
   ],
   "metadata": {
    "collapsed": false,
    "pycharm": {
     "name": "#%%\n"
    }
   }
  },
  {
   "cell_type": "code",
   "execution_count": 116,
   "outputs": [
    {
     "data": {
      "text/plain": "Text(0, 0.5, 'Age du demandeur')"
     },
     "execution_count": 116,
     "metadata": {},
     "output_type": "execute_result"
    },
    {
     "data": {
      "text/plain": "<Figure size 432x288 with 1 Axes>",
      "image/png": "[encoded data removed]"
     },
     "metadata": {
      "needs_background": "light"
     },
     "output_type": "display_data"
    }
   ],
   "source": [
    "plt.barh(dfplota[\"Age\"], dfplota['Temps attente'], color=\"blue\")\n",
    "plt.xlabel(\"Temps attente pour obtenir un logement social (en jours)\")\n",
    "plt.ylabel('Age du demandeur')"
   ],
   "metadata": {
    "collapsed": false,
    "pycharm": {
     "name": "#%%\n"
    }
   }
  },
  {
   "cell_type": "code",
   "execution_count": 133,
   "outputs": [
    {
     "data": {
      "text/plain": "<matplotlib.legend.Legend at 0x1e14e9fc1f0>"
     },
     "execution_count": 133,
     "metadata": {},
     "output_type": "execute_result"
    },
    {
     "data": {
      "text/plain": "<Figure size 432x288 with 1 Axes>",
      "image/png": "[encoded data removed]"
     },
     "metadata": {
      "needs_background": "light"
     },
     "output_type": "display_data"
    }
   ],
   "source": [
    "dfplotp['Key'] = 'Pauvres'\n",
    "dfplota['Key'] = 'Autres'\n",
    "\n",
    "DF = pd.concat([dfplotp,dfplota],keys=['Pauvres','Autres'])\n",
    "\n",
    "DFGroup = DF.groupby(['Age','Key'])\n",
    "\n",
    "DFGPlot = DFGroup.sum().unstack('Key').plot(kind='bar', ylabel='Temps d\\'attente moyen (en jours)', title='Temps moyen attendu pour obtenir un logement social en 2018 selon l\\'âge et le niveau de revenu du demandeur')\n",
    "plt.legend(['Autres', 'Pauvres'], loc='upper left')"
   ],
   "metadata": {
    "collapsed": false,
    "pycharm": {
     "name": "#%%\n"
    }
   }
  },
  {
   "cell_type": "markdown",
   "source": [
    "### En fonction du type de logement attribué"
   ],
   "metadata": {
    "collapsed": false,
    "pycharm": {
     "name": "#%% md\n"
    }
   }
  },
  {
   "cell_type": "code",
   "execution_count": 90,
   "outputs": [],
   "source": [
    "attente3=dfd1[[ \"Type du logement attribué\", \"Temps attente\"]]\n",
    "dfplot3 = attente3.groupby('Type du logement attribué').mean()\n",
    "dfplot3['Temps attente'] = dfplot3['Temps attente'].values.astype(np.int64)\n",
    "#dfplot3['Temps attente']=(dfplot3['Temps attente']//(86400000000000))"
   ],
   "metadata": {
    "collapsed": false,
    "pycharm": {
     "name": "#%%\n"
    }
   }
  },
  {
   "cell_type": "code",
   "execution_count": 91,
   "outputs": [
    {
     "data": {
      "text/plain": "<Figure size 360x360 with 0 Axes>"
     },
     "metadata": {},
     "output_type": "display_data"
    }
   ],
   "source": [
    "dfplot3.reset_index(inplace=True)\n",
    "fig = plt.figure(1, figsize=(5, 5))"
   ],
   "metadata": {
    "collapsed": false,
    "pycharm": {
     "name": "#%%\n"
    }
   }
  },
  {
   "cell_type": "code",
   "execution_count": 92,
   "outputs": [
    {
     "data": {
      "text/plain": "Text(0, 0.5, 'Type du logement attribué')"
     },
     "execution_count": 92,
     "metadata": {},
     "output_type": "execute_result"
    },
    {
     "data": {
      "text/plain": "<Figure size 360x360 with 1 Axes>",
      "image/png": "[encoded data removed]"
     },
     "metadata": {
      "needs_background": "light"
     },
     "output_type": "display_data"
    }
   ],
   "source": [
    "fig = plt.figure(1, figsize=(5, 5))\n",
    "plt.barh(dfplot3[\"Type du logement attribué\"], dfplot3['Temps attente'], color=\"red\")\n",
    "plt.xlabel(\"Temps attente pour obtenir un logement social (en jours)\")\n",
    "plt.ylabel('Type du logement attribué')"
   ],
   "metadata": {
    "collapsed": false,
    "pycharm": {
     "name": "#%%\n"
    }
   }
  },
  {
   "cell_type": "code",
   "execution_count": 57,
   "outputs": [
    {
     "data": {
      "text/plain": "  Type du logement attribué  Temps attente\n0                        T1           1162\n1                        T2           1083\n2                        T3           1109\n3                        T4           1310\n4                        T5           1422\n5                        T6           1457\n6                        T7           1757\n7                        T8            490",
      "text/html": "<div>\n<style scoped>\n    .dataframe tbody tr th:only-of-type {\n        vertical-align: middle;\n    }\n\n    .dataframe tbody tr th {\n        vertical-align: top;\n    }\n\n    .dataframe thead th {\n        text-align: right;\n    }\n</style>\n<table border=\"1\" class=\"dataframe\">\n  <thead>\n    <tr style=\"text-align: right;\">\n      <th></th>\n      <th>Type du logement attribué</th>\n      <th>Temps attente</th>\n    </tr>\n  </thead>\n  <tbody>\n    <tr>\n      <th>0</th>\n      <td>T1</td>\n      <td>1162</td>\n    </tr>\n    <tr>\n      <th>1</th>\n      <td>T2</td>\n      <td>1083</td>\n    </tr>\n    <tr>\n      <th>2</th>\n      <td>T3</td>\n      <td>1109</td>\n    </tr>\n    <tr>\n      <th>3</th>\n      <td>T4</td>\n      <td>1310</td>\n    </tr>\n    <tr>\n      <th>4</th>\n      <td>T5</td>\n      <td>1422</td>\n    </tr>\n    <tr>\n      <th>5</th>\n      <td>T6</td>\n      <td>1457</td>\n    </tr>\n    <tr>\n      <th>6</th>\n      <td>T7</td>\n      <td>1757</td>\n    </tr>\n    <tr>\n      <th>7</th>\n      <td>T8</td>\n      <td>490</td>\n    </tr>\n  </tbody>\n</table>\n</div>"
     },
     "execution_count": 57,
     "metadata": {},
     "output_type": "execute_result"
    }
   ],
   "source": [
    "dfplot3"
   ],
   "metadata": {
    "collapsed": false,
    "pycharm": {
     "name": "#%%\n"
    }
   }
  },
  {
   "cell_type": "markdown",
   "source": [
    "Il faudrait réarranger le graph au niveau de la lisibilité. On pourrait aussi créer une fonction qui donne le graph en fonction d'une colonne en entrée (motif, quintile, sexe, tranches d'âge,....). Il faudrait pour cela au préalable avoir un dataframe nettoyé. Trier aussi par ordre croissant les motifs avec la commande sort."
   ],
   "metadata": {
    "collapsed": false,
    "pycharm": {
     "name": "#%% md\n"
    }
   }
  },
  {
   "cell_type": "markdown",
   "source": [
    "Sur les motifs on a l'impression que c'est pour les motfis relatifs à des mobilités professionnelles, ou liés à des violences conjugales que le temps est moins loin (pour les gens qui ont une certane stabilité professionnelle, ou pour les cas d'extrême urgence). Je ne comprends pas trop ce que fait le \"assistante maternelle\" dans la liste."
   ],
   "metadata": {
    "collapsed": false,
    "pycharm": {
     "name": "#%% md\n"
    }
   }
  },
  {
   "cell_type": "code",
   "execution_count": null,
   "outputs": [],
   "source": [],
   "metadata": {
    "collapsed": false,
    "pycharm": {
     "name": "#%%\n"
    }
   }
  },
  {
   "cell_type": "markdown",
   "source": [
    "## Automatisation"
   ],
   "metadata": {
    "collapsed": false,
    "pycharm": {
     "name": "#%% md\n"
    }
   }
  },
  {
   "cell_type": "code",
   "execution_count": null,
   "outputs": [],
   "source": [],
   "metadata": {
    "collapsed": false,
    "pycharm": {
     "name": "#%%\n"
    }
   }
  }
 ],
 "metadata": {
  "kernelspec": {
   "display_name": "Python 3",
   "language": "python",
   "name": "python3"
  },
  "language_info": {
   "codemirror_mode": {
    "name": "ipython",
    "version": 2
   },
   "file_extension": ".py",
   "mimetype": "text/x-python",
   "name": "python",
   "nbconvert_exporter": "python",
   "pygments_lexer": "ipython2",
   "version": "2.7.6"
  }
 },
 "nbformat": 4,
 "nbformat_minor": 0
}