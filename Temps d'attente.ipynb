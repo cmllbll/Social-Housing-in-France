{
 "cells": [
  {
   "cell_type": "code",
   "execution_count": 113,
   "metadata": {
    "collapsed": true,
    "pycharm": {
     "name": "#%%\n"
    }
   },
   "outputs": [],
   "source": [
    "import numpy as np\n",
    "import pandas as pd\n",
    "import matplotlib.pyplot as plt"
   ]
  },
  {
   "cell_type": "markdown",
   "source": [
    "## Nettoyage des bases de données"
   ],
   "metadata": {
    "collapsed": false,
    "pycharm": {
     "name": "#%% md\n"
    }
   }
  },
  {
   "cell_type": "code",
   "execution_count": 114,
   "outputs": [],
   "source": [
    "df = pd.DataFrame(pd.read_excel(r'C:\\Users\\arceb\\Desktop\\Stage\\Attrib 2018 MGP - RM positif - MVI pour CBA.xlsx'))"
   ],
   "metadata": {
    "collapsed": false,
    "pycharm": {
     "name": "#%%\n"
    }
   }
  },
  {
   "cell_type": "markdown",
   "source": [
    "On va commencer par travailler sur la base de donnée des demandeurs pour estimer les différents quartiles de revenus parmis les demandeurs de la base de donnée. On va donc nettoyer la base, et créer une nouvelle colonne dans le dataframe indiquant le quartile auquel appartient le ménage. Cette information va permettre ensuite d'analyser le taux d'attente des demandeurs qui ont reçu un logement dans l'année en fonction de leur quartile d'appartenance."
   ],
   "metadata": {
    "collapsed": false,
    "pycharm": {
     "name": "#%% md\n"
    }
   }
  },
  {
   "cell_type": "code",
   "execution_count": 115,
   "outputs": [
    {
     "data": {
      "text/plain": "       Unnamed: 0         région       Numéro Unique Date création demande  \\\n0             NaN  Ile-de-France  111011885857794043            2018-01-15   \n1             NaN  Ile-de-France  111051767234510108            2017-05-15   \n2             NaN  Ile-de-France  111091777617075056            2017-09-29   \n3             NaN  Ile-de-France  111021758912175056            2017-02-08   \n4             NaN  Ile-de-France  111111781080175056            2017-11-10   \n...           ...            ...                 ...                   ...   \n42743         NaN  Ile-de-France  111011885009910129            2018-01-04   \n42744         NaN  Ile-de-France  1111217829952GDPUB            2017-12-03   \n42745         NaN  Ile-de-France  111111782174292019            2017-11-23   \n42746         NaN  Ile-de-France  111091647518710129            2016-09-23   \n42747         NaN  Ile-de-France  111041228887210033            2012-04-23   \n\n      Date de la radiation  Age demandeur Situation familiale  \\\n0               2018-06-08             37           Marié (e)   \n1               2018-06-01             54          Séparé (e)   \n2               2018-11-26             32        Concubin (e)   \n3               2018-01-03             28         Célibataire   \n4               2018-04-01             45         Célibataire   \n...                    ...            ...                 ...   \n42743           2018-04-24             54         Célibataire   \n42744           2018-02-12             33           Marié (e)   \n42745           2018-08-07             66           Marié (e)   \n42746           2018-05-25             61           Marié (e)   \n42747           2018-04-26             56         Divorcé (e)   \n\n      Code département logement actuel Code INSEE logt actuel  \\\n0                                   94                  94043   \n1                                   94                  94017   \n2                                   94                  94068   \n3                                   94                  94017   \n4                                   75                  75104   \n...                                ...                    ...   \n42743                               91                  91174   \n42744                               75                  75114   \n42745                               92                  92019   \n42746                               93                  93005   \n42747                               94                  94028   \n\n              Commune logt actuel  ...  Code de la commune attribuée  \\\n0              Le Kremlin-Bicêtre  ...                         94067   \n1             Champigny-sur-Marne  ...                         94079   \n2           Saint-Maur-des-Fossés  ...                         93057   \n3             Champigny-sur-Marne  ...                         75117   \n4       Paris 4ème arrondissement  ...                         75104   \n...                           ...  ...                           ...   \n42743            Corbeil-Essonnes  ...                         91687   \n42744  Paris 14ème arrondissement  ...                         75114   \n42745            Châtenay-Malabry  ...                         92019   \n42746            Aulnay-sous-Bois  ...                         93005   \n42747                     Créteil  ...                         94053   \n\n      Région du logement attribué Type du logement attribué   Est en QPV  \\\n0                   Ile-de-France                        T3  Ne sait pas   \n1                   Ile-de-France                        T3          Non   \n2                   Ile-de-France                        T2          Non   \n3                   Ile-de-France                        T1          Non   \n4                   Ile-de-France                        T1          Non   \n...                           ...                       ...          ...   \n42743               Ile-de-France                        T3          Non   \n42744               Ile-de-France                        T3          Non   \n42745               Ile-de-France                        T4          Non   \n42746               Ile-de-France                        T3          Oui   \n42747               Ile-de-France                        T4          Non   \n\n       Surface du logement attribué    Statut DALO  \\\n0                                64  Non renseigné   \n1                                70  Non renseigné   \n2                                46  Non renseigné   \n3                                27  Non renseigné   \n4                                16  Non renseigné   \n...                             ...            ...   \n42743                            57  Non renseigné   \n42744                            71  Non renseigné   \n42745                            81  Non renseigné   \n42746                            64  Non renseigné   \n42747                            77   Actif relogé   \n\n       Date de la décision DALO\\n\\n Accompagnement social Diagnostic social  \\\n0                               NaT                   Non               Non   \n1                               NaT                   Non               Non   \n2                               NaT                   Non               Non   \n3                               NaT                   Non               Non   \n4                               NaT                   Non               Non   \n...                             ...                   ...               ...   \n42743                           NaT                   Non               Non   \n42744                           NaT                   Non               Non   \n42745                           NaT                   Non               Non   \n42746                           NaT                   Non               Non   \n42747                    2013-06-20                   Oui               Non   \n\n                                            Réservataire  \n0                                        Action Logement  \n1                                        Action Logement  \n2                                        Action Logement  \n3      Contingent préfet fonctionnaires et agents pub...  \n4      Contingent des collectivités territoriales, de...  \n...                                                  ...  \n42743  Contingent préfet fonctionnaires et agents pub...  \n42744                                    Hors contingent  \n42745  Contingent des collectivités territoriales, de...  \n42746                                    Hors contingent  \n42747  Contingent préfet prioritaires (hors fonctionn...  \n\n[42748 rows x 39 columns]",
      "text/html": "<div>\n<style scoped>\n    .dataframe tbody tr th:only-of-type {\n        vertical-align: middle;\n    }\n\n    .dataframe tbody tr th {\n        vertical-align: top;\n    }\n\n    .dataframe thead th {\n        text-align: right;\n    }\n</style>\n<table border=\"1\" class=\"dataframe\">\n  <thead>\n    <tr style=\"text-align: right;\">\n      <th></th>\n      <th>Unnamed: 0</th>\n      <th>région</th>\n      <th>Numéro Unique</th>\n      <th>Date création demande</th>\n      <th>Date de la radiation</th>\n      <th>Age demandeur</th>\n      <th>Situation familiale</th>\n      <th>Code département logement actuel</th>\n      <th>Code INSEE logt actuel</th>\n      <th>Commune logt actuel</th>\n      <th>...</th>\n      <th>Code de la commune attribuée</th>\n      <th>Région du logement attribué</th>\n      <th>Type du logement attribué</th>\n      <th>Est en QPV</th>\n      <th>Surface du logement attribué</th>\n      <th>Statut DALO</th>\n      <th>Date de la décision DALO\\n\\n</th>\n      <th>Accompagnement social</th>\n      <th>Diagnostic social</th>\n      <th>Réservataire</th>\n    </tr>\n  </thead>\n  <tbody>\n    <tr>\n      <th>0</th>\n      <td>NaN</td>\n      <td>Ile-de-France</td>\n      <td>111011885857794043</td>\n      <td>2018-01-15</td>\n      <td>2018-06-08</td>\n      <td>37</td>\n      <td>Marié (e)</td>\n      <td>94</td>\n      <td>94043</td>\n      <td>Le Kremlin-Bicêtre</td>\n      <td>...</td>\n      <td>94067</td>\n      <td>Ile-de-France</td>\n      <td>T3</td>\n      <td>Ne sait pas</td>\n      <td>64</td>\n      <td>Non renseigné</td>\n      <td>NaT</td>\n      <td>Non</td>\n      <td>Non</td>\n      <td>Action Logement</td>\n    </tr>\n    <tr>\n      <th>1</th>\n      <td>NaN</td>\n      <td>Ile-de-France</td>\n      <td>111051767234510108</td>\n      <td>2017-05-15</td>\n      <td>2018-06-01</td>\n      <td>54</td>\n      <td>Séparé (e)</td>\n      <td>94</td>\n      <td>94017</td>\n      <td>Champigny-sur-Marne</td>\n      <td>...</td>\n      <td>94079</td>\n      <td>Ile-de-France</td>\n      <td>T3</td>\n      <td>Non</td>\n      <td>70</td>\n      <td>Non renseigné</td>\n      <td>NaT</td>\n      <td>Non</td>\n      <td>Non</td>\n      <td>Action Logement</td>\n    </tr>\n    <tr>\n      <th>2</th>\n      <td>NaN</td>\n      <td>Ile-de-France</td>\n      <td>111091777617075056</td>\n      <td>2017-09-29</td>\n      <td>2018-11-26</td>\n      <td>32</td>\n      <td>Concubin (e)</td>\n      <td>94</td>\n      <td>94068</td>\n      <td>Saint-Maur-des-Fossés</td>\n      <td>...</td>\n      <td>93057</td>\n      <td>Ile-de-France</td>\n      <td>T2</td>\n      <td>Non</td>\n      <td>46</td>\n      <td>Non renseigné</td>\n      <td>NaT</td>\n      <td>Non</td>\n      <td>Non</td>\n      <td>Action Logement</td>\n    </tr>\n    <tr>\n      <th>3</th>\n      <td>NaN</td>\n      <td>Ile-de-France</td>\n      <td>111021758912175056</td>\n      <td>2017-02-08</td>\n      <td>2018-01-03</td>\n      <td>28</td>\n      <td>Célibataire</td>\n      <td>94</td>\n      <td>94017</td>\n      <td>Champigny-sur-Marne</td>\n      <td>...</td>\n      <td>75117</td>\n      <td>Ile-de-France</td>\n      <td>T1</td>\n      <td>Non</td>\n      <td>27</td>\n      <td>Non renseigné</td>\n      <td>NaT</td>\n      <td>Non</td>\n      <td>Non</td>\n      <td>Contingent préfet fonctionnaires et agents pub...</td>\n    </tr>\n    <tr>\n      <th>4</th>\n      <td>NaN</td>\n      <td>Ile-de-France</td>\n      <td>111111781080175056</td>\n      <td>2017-11-10</td>\n      <td>2018-04-01</td>\n      <td>45</td>\n      <td>Célibataire</td>\n      <td>75</td>\n      <td>75104</td>\n      <td>Paris 4ème arrondissement</td>\n      <td>...</td>\n      <td>75104</td>\n      <td>Ile-de-France</td>\n      <td>T1</td>\n      <td>Non</td>\n      <td>16</td>\n      <td>Non renseigné</td>\n      <td>NaT</td>\n      <td>Non</td>\n      <td>Non</td>\n      <td>Contingent des collectivités territoriales, de...</td>\n    </tr>\n    <tr>\n      <th>...</th>\n      <td>...</td>\n      <td>...</td>\n      <td>...</td>\n      <td>...</td>\n      <td>...</td>\n      <td>...</td>\n      <td>...</td>\n      <td>...</td>\n      <td>...</td>\n      <td>...</td>\n      <td>...</td>\n      <td>...</td>\n      <td>...</td>\n      <td>...</td>\n      <td>...</td>\n      <td>...</td>\n      <td>...</td>\n      <td>...</td>\n      <td>...</td>\n      <td>...</td>\n      <td>...</td>\n    </tr>\n    <tr>\n      <th>42743</th>\n      <td>NaN</td>\n      <td>Ile-de-France</td>\n      <td>111011885009910129</td>\n      <td>2018-01-04</td>\n      <td>2018-04-24</td>\n      <td>54</td>\n      <td>Célibataire</td>\n      <td>91</td>\n      <td>91174</td>\n      <td>Corbeil-Essonnes</td>\n      <td>...</td>\n      <td>91687</td>\n      <td>Ile-de-France</td>\n      <td>T3</td>\n      <td>Non</td>\n      <td>57</td>\n      <td>Non renseigné</td>\n      <td>NaT</td>\n      <td>Non</td>\n      <td>Non</td>\n      <td>Contingent préfet fonctionnaires et agents pub...</td>\n    </tr>\n    <tr>\n      <th>42744</th>\n      <td>NaN</td>\n      <td>Ile-de-France</td>\n      <td>1111217829952GDPUB</td>\n      <td>2017-12-03</td>\n      <td>2018-02-12</td>\n      <td>33</td>\n      <td>Marié (e)</td>\n      <td>75</td>\n      <td>75114</td>\n      <td>Paris 14ème arrondissement</td>\n      <td>...</td>\n      <td>75114</td>\n      <td>Ile-de-France</td>\n      <td>T3</td>\n      <td>Non</td>\n      <td>71</td>\n      <td>Non renseigné</td>\n      <td>NaT</td>\n      <td>Non</td>\n      <td>Non</td>\n      <td>Hors contingent</td>\n    </tr>\n    <tr>\n      <th>42745</th>\n      <td>NaN</td>\n      <td>Ile-de-France</td>\n      <td>111111782174292019</td>\n      <td>2017-11-23</td>\n      <td>2018-08-07</td>\n      <td>66</td>\n      <td>Marié (e)</td>\n      <td>92</td>\n      <td>92019</td>\n      <td>Châtenay-Malabry</td>\n      <td>...</td>\n      <td>92019</td>\n      <td>Ile-de-France</td>\n      <td>T4</td>\n      <td>Non</td>\n      <td>81</td>\n      <td>Non renseigné</td>\n      <td>NaT</td>\n      <td>Non</td>\n      <td>Non</td>\n      <td>Contingent des collectivités territoriales, de...</td>\n    </tr>\n    <tr>\n      <th>42746</th>\n      <td>NaN</td>\n      <td>Ile-de-France</td>\n      <td>111091647518710129</td>\n      <td>2016-09-23</td>\n      <td>2018-05-25</td>\n      <td>61</td>\n      <td>Marié (e)</td>\n      <td>93</td>\n      <td>93005</td>\n      <td>Aulnay-sous-Bois</td>\n      <td>...</td>\n      <td>93005</td>\n      <td>Ile-de-France</td>\n      <td>T3</td>\n      <td>Oui</td>\n      <td>64</td>\n      <td>Non renseigné</td>\n      <td>NaT</td>\n      <td>Non</td>\n      <td>Non</td>\n      <td>Hors contingent</td>\n    </tr>\n    <tr>\n      <th>42747</th>\n      <td>NaN</td>\n      <td>Ile-de-France</td>\n      <td>111041228887210033</td>\n      <td>2012-04-23</td>\n      <td>2018-04-26</td>\n      <td>56</td>\n      <td>Divorcé (e)</td>\n      <td>94</td>\n      <td>94028</td>\n      <td>Créteil</td>\n      <td>...</td>\n      <td>94053</td>\n      <td>Ile-de-France</td>\n      <td>T4</td>\n      <td>Non</td>\n      <td>77</td>\n      <td>Actif relogé</td>\n      <td>2013-06-20</td>\n      <td>Oui</td>\n      <td>Non</td>\n      <td>Contingent préfet prioritaires (hors fonctionn...</td>\n    </tr>\n  </tbody>\n</table>\n<p>42748 rows × 39 columns</p>\n</div>"
     },
     "execution_count": 115,
     "metadata": {},
     "output_type": "execute_result"
    }
   ],
   "source": [
    "df"
   ],
   "metadata": {
    "collapsed": false,
    "pycharm": {
     "name": "#%%\n"
    }
   }
  },
  {
   "cell_type": "code",
   "execution_count": 116,
   "outputs": [
    {
     "data": {
      "text/plain": "            Numéro Unique  Nb unités de consommation du foyer  \\\n0      111011885857794043                                 1.8   \n1      111051767234510108                                 1.5   \n2      111091777617075056                                 1.5   \n3      111021758912175056                                 1.0   \n4      111111781080175056                                 1.0   \n...                   ...                                 ...   \n42743  111011885009910129                                 1.5   \n42744  1111217829952GDPUB                                 1.8   \n42745  111111782174292019                                 2.0   \n42746  111091647518710129                                 2.0   \n42747  111041228887210033                                 2.5   \n\n       Ressources mensuelles du foyer Date création demande  \\\n0                                   1            2018-01-15   \n1                                   1            2017-05-15   \n2                                   1            2017-09-29   \n3                                   1            2017-02-08   \n4                                   1            2017-11-10   \n...                               ...                   ...   \n42743                           70914            2018-01-04   \n42744                           89164            2017-12-03   \n42745                           99276            2017-11-23   \n42746                          105794            2016-09-23   \n42747                          150113            2012-04-23   \n\n      Date de la radiation  Age demandeur Situation familiale  \\\n0               2018-06-08             37           Marié (e)   \n1               2018-06-01             54          Séparé (e)   \n2               2018-11-26             32        Concubin (e)   \n3               2018-01-03             28         Célibataire   \n4               2018-04-01             45         Célibataire   \n...                    ...            ...                 ...   \n42743           2018-04-24             54         Célibataire   \n42744           2018-02-12             33           Marié (e)   \n42745           2018-08-07             66           Marié (e)   \n42746           2018-05-25             61           Marié (e)   \n42747           2018-04-26             56         Divorcé (e)   \n\n      Type du logement attribué  \\\n0                            T3   \n1                            T3   \n2                            T2   \n3                            T1   \n4                            T1   \n...                         ...   \n42743                        T3   \n42744                        T3   \n42745                        T4   \n42746                        T3   \n42747                        T4   \n\n                                 motif n°1 de la demande  \\\n0                                    Logement trop petit   \n1                                    Divorce, séparation   \n2      Sans logement ou hébergé ou en logement tempor...   \n3                                    Divorce, séparation   \n4      Sans logement ou hébergé ou en logement tempor...   \n...                                                  ...   \n42743                                 Logement trop cher   \n42744                                 Logement trop cher   \n42745                 Autre motif particulier (précisez)   \n42746                                 Logement trop cher   \n42747  Sans logement ou hébergé ou en logement tempor...   \n\n       Surface du logement attribué  \n0                                64  \n1                                70  \n2                                46  \n3                                27  \n4                                16  \n...                             ...  \n42743                            57  \n42744                            71  \n42745                            81  \n42746                            64  \n42747                            77  \n\n[42748 rows x 10 columns]",
      "text/html": "<div>\n<style scoped>\n    .dataframe tbody tr th:only-of-type {\n        vertical-align: middle;\n    }\n\n    .dataframe tbody tr th {\n        vertical-align: top;\n    }\n\n    .dataframe thead th {\n        text-align: right;\n    }\n</style>\n<table border=\"1\" class=\"dataframe\">\n  <thead>\n    <tr style=\"text-align: right;\">\n      <th></th>\n      <th>Numéro Unique</th>\n      <th>Nb unités de consommation du foyer</th>\n      <th>Ressources mensuelles du foyer</th>\n      <th>Date création demande</th>\n      <th>Date de la radiation</th>\n      <th>Age demandeur</th>\n      <th>Situation familiale</th>\n      <th>Type du logement attribué</th>\n      <th>motif n°1 de la demande</th>\n      <th>Surface du logement attribué</th>\n    </tr>\n  </thead>\n  <tbody>\n    <tr>\n      <th>0</th>\n      <td>111011885857794043</td>\n      <td>1.8</td>\n      <td>1</td>\n      <td>2018-01-15</td>\n      <td>2018-06-08</td>\n      <td>37</td>\n      <td>Marié (e)</td>\n      <td>T3</td>\n      <td>Logement trop petit</td>\n      <td>64</td>\n    </tr>\n    <tr>\n      <th>1</th>\n      <td>111051767234510108</td>\n      <td>1.5</td>\n      <td>1</td>\n      <td>2017-05-15</td>\n      <td>2018-06-01</td>\n      <td>54</td>\n      <td>Séparé (e)</td>\n      <td>T3</td>\n      <td>Divorce, séparation</td>\n      <td>70</td>\n    </tr>\n    <tr>\n      <th>2</th>\n      <td>111091777617075056</td>\n      <td>1.5</td>\n      <td>1</td>\n      <td>2017-09-29</td>\n      <td>2018-11-26</td>\n      <td>32</td>\n      <td>Concubin (e)</td>\n      <td>T2</td>\n      <td>Sans logement ou hébergé ou en logement tempor...</td>\n      <td>46</td>\n    </tr>\n    <tr>\n      <th>3</th>\n      <td>111021758912175056</td>\n      <td>1.0</td>\n      <td>1</td>\n      <td>2017-02-08</td>\n      <td>2018-01-03</td>\n      <td>28</td>\n      <td>Célibataire</td>\n      <td>T1</td>\n      <td>Divorce, séparation</td>\n      <td>27</td>\n    </tr>\n    <tr>\n      <th>4</th>\n      <td>111111781080175056</td>\n      <td>1.0</td>\n      <td>1</td>\n      <td>2017-11-10</td>\n      <td>2018-04-01</td>\n      <td>45</td>\n      <td>Célibataire</td>\n      <td>T1</td>\n      <td>Sans logement ou hébergé ou en logement tempor...</td>\n      <td>16</td>\n    </tr>\n    <tr>\n      <th>...</th>\n      <td>...</td>\n      <td>...</td>\n      <td>...</td>\n      <td>...</td>\n      <td>...</td>\n      <td>...</td>\n      <td>...</td>\n      <td>...</td>\n      <td>...</td>\n      <td>...</td>\n    </tr>\n    <tr>\n      <th>42743</th>\n      <td>111011885009910129</td>\n      <td>1.5</td>\n      <td>70914</td>\n      <td>2018-01-04</td>\n      <td>2018-04-24</td>\n      <td>54</td>\n      <td>Célibataire</td>\n      <td>T3</td>\n      <td>Logement trop cher</td>\n      <td>57</td>\n    </tr>\n    <tr>\n      <th>42744</th>\n      <td>1111217829952GDPUB</td>\n      <td>1.8</td>\n      <td>89164</td>\n      <td>2017-12-03</td>\n      <td>2018-02-12</td>\n      <td>33</td>\n      <td>Marié (e)</td>\n      <td>T3</td>\n      <td>Logement trop cher</td>\n      <td>71</td>\n    </tr>\n    <tr>\n      <th>42745</th>\n      <td>111111782174292019</td>\n      <td>2.0</td>\n      <td>99276</td>\n      <td>2017-11-23</td>\n      <td>2018-08-07</td>\n      <td>66</td>\n      <td>Marié (e)</td>\n      <td>T4</td>\n      <td>Autre motif particulier (précisez)</td>\n      <td>81</td>\n    </tr>\n    <tr>\n      <th>42746</th>\n      <td>111091647518710129</td>\n      <td>2.0</td>\n      <td>105794</td>\n      <td>2016-09-23</td>\n      <td>2018-05-25</td>\n      <td>61</td>\n      <td>Marié (e)</td>\n      <td>T3</td>\n      <td>Logement trop cher</td>\n      <td>64</td>\n    </tr>\n    <tr>\n      <th>42747</th>\n      <td>111041228887210033</td>\n      <td>2.5</td>\n      <td>150113</td>\n      <td>2012-04-23</td>\n      <td>2018-04-26</td>\n      <td>56</td>\n      <td>Divorcé (e)</td>\n      <td>T4</td>\n      <td>Sans logement ou hébergé ou en logement tempor...</td>\n      <td>77</td>\n    </tr>\n  </tbody>\n</table>\n<p>42748 rows × 10 columns</p>\n</div>"
     },
     "execution_count": 116,
     "metadata": {},
     "output_type": "execute_result"
    }
   ],
   "source": [
    "dfd1=df[[ \"Numéro Unique\", \"Nb unités de consommation du foyer\", \"Ressources mensuelles du foyer\", \"Date création demande\", \"Date de la radiation\", \"Age demandeur\", \"Situation familiale\", \"Type du logement attribué\", \"motif n°1 de la demande\", \"Surface du logement attribué\"]]\n",
    "dfd1"
   ],
   "metadata": {
    "collapsed": false,
    "pycharm": {
     "name": "#%%\n"
    }
   }
  },
  {
   "cell_type": "markdown",
   "source": [
    "On ne conserve que les colonnes qui vont nous intéresser dans le cadre de l'étude du taux d'attente."
   ],
   "metadata": {
    "collapsed": false,
    "pycharm": {
     "name": "#%% md\n"
    }
   }
  },
  {
   "cell_type": "markdown",
   "source": [
    "#### Application des filtres"
   ],
   "metadata": {
    "collapsed": false,
    "pycharm": {
     "name": "#%% md\n"
    }
   }
  },
  {
   "cell_type": "markdown",
   "source": [
    "On convertir en NaN les valeurs qui doivent être filtrées, à savoir:\n",
    "- les NaN (les valeurs qui ne sont pas renseignées), les revenus qui ne sont pas indiqués\n",
    "- les revenus qui ne sont pas strictement supérieurs à 0\n",
    "- les revenus qui sont supérieurs à 10000"
   ],
   "metadata": {
    "collapsed": false,
    "pycharm": {
     "name": "#%% md\n"
    }
   }
  },
  {
   "cell_type": "code",
   "execution_count": 117,
   "outputs": [
    {
     "data": {
      "text/plain": "            Numéro Unique  Nb unités de consommation du foyer  \\\n0      111011885857794043                                 1.8   \n1      111051767234510108                                 1.5   \n2      111091777617075056                                 1.5   \n3      111021758912175056                                 1.0   \n4      111111781080175056                                 1.0   \n...                   ...                                 ...   \n42743  111011885009910129                                 1.5   \n42744  1111217829952GDPUB                                 1.8   \n42745  111111782174292019                                 2.0   \n42746  111091647518710129                                 2.0   \n42747  111041228887210033                                 2.5   \n\n       Ressources mensuelles du foyer Date création demande  \\\n0                                   1            2018-01-15   \n1                                   1            2017-05-15   \n2                                   1            2017-09-29   \n3                                   1            2017-02-08   \n4                                   1            2017-11-10   \n...                               ...                   ...   \n42743                           70914            2018-01-04   \n42744                           89164            2017-12-03   \n42745                           99276            2017-11-23   \n42746                          105794            2016-09-23   \n42747                          150113            2012-04-23   \n\n      Date de la radiation  Age demandeur Situation familiale  \\\n0               2018-06-08             37           Marié (e)   \n1               2018-06-01             54          Séparé (e)   \n2               2018-11-26             32        Concubin (e)   \n3               2018-01-03             28         Célibataire   \n4               2018-04-01             45         Célibataire   \n...                    ...            ...                 ...   \n42743           2018-04-24             54         Célibataire   \n42744           2018-02-12             33           Marié (e)   \n42745           2018-08-07             66           Marié (e)   \n42746           2018-05-25             61           Marié (e)   \n42747           2018-04-26             56         Divorcé (e)   \n\n      Type du logement attribué  \\\n0                            T3   \n1                            T3   \n2                            T2   \n3                            T1   \n4                            T1   \n...                         ...   \n42743                        T3   \n42744                        T3   \n42745                        T4   \n42746                        T3   \n42747                        T4   \n\n                                 motif n°1 de la demande  \\\n0                                    Logement trop petit   \n1                                    Divorce, séparation   \n2      Sans logement ou hébergé ou en logement tempor...   \n3                                    Divorce, séparation   \n4      Sans logement ou hébergé ou en logement tempor...   \n...                                                  ...   \n42743                                 Logement trop cher   \n42744                                 Logement trop cher   \n42745                 Autre motif particulier (précisez)   \n42746                                 Logement trop cher   \n42747  Sans logement ou hébergé ou en logement tempor...   \n\n       Surface du logement attribué  \n0                                64  \n1                                70  \n2                                46  \n3                                27  \n4                                16  \n...                             ...  \n42743                            57  \n42744                            71  \n42745                            81  \n42746                            64  \n42747                            77  \n\n[42748 rows x 10 columns]",
      "text/html": "<div>\n<style scoped>\n    .dataframe tbody tr th:only-of-type {\n        vertical-align: middle;\n    }\n\n    .dataframe tbody tr th {\n        vertical-align: top;\n    }\n\n    .dataframe thead th {\n        text-align: right;\n    }\n</style>\n<table border=\"1\" class=\"dataframe\">\n  <thead>\n    <tr style=\"text-align: right;\">\n      <th></th>\n      <th>Numéro Unique</th>\n      <th>Nb unités de consommation du foyer</th>\n      <th>Ressources mensuelles du foyer</th>\n      <th>Date création demande</th>\n      <th>Date de la radiation</th>\n      <th>Age demandeur</th>\n      <th>Situation familiale</th>\n      <th>Type du logement attribué</th>\n      <th>motif n°1 de la demande</th>\n      <th>Surface du logement attribué</th>\n    </tr>\n  </thead>\n  <tbody>\n    <tr>\n      <th>0</th>\n      <td>111011885857794043</td>\n      <td>1.8</td>\n      <td>1</td>\n      <td>2018-01-15</td>\n      <td>2018-06-08</td>\n      <td>37</td>\n      <td>Marié (e)</td>\n      <td>T3</td>\n      <td>Logement trop petit</td>\n      <td>64</td>\n    </tr>\n    <tr>\n      <th>1</th>\n      <td>111051767234510108</td>\n      <td>1.5</td>\n      <td>1</td>\n      <td>2017-05-15</td>\n      <td>2018-06-01</td>\n      <td>54</td>\n      <td>Séparé (e)</td>\n      <td>T3</td>\n      <td>Divorce, séparation</td>\n      <td>70</td>\n    </tr>\n    <tr>\n      <th>2</th>\n      <td>111091777617075056</td>\n      <td>1.5</td>\n      <td>1</td>\n      <td>2017-09-29</td>\n      <td>2018-11-26</td>\n      <td>32</td>\n      <td>Concubin (e)</td>\n      <td>T2</td>\n      <td>Sans logement ou hébergé ou en logement tempor...</td>\n      <td>46</td>\n    </tr>\n    <tr>\n      <th>3</th>\n      <td>111021758912175056</td>\n      <td>1.0</td>\n      <td>1</td>\n      <td>2017-02-08</td>\n      <td>2018-01-03</td>\n      <td>28</td>\n      <td>Célibataire</td>\n      <td>T1</td>\n      <td>Divorce, séparation</td>\n      <td>27</td>\n    </tr>\n    <tr>\n      <th>4</th>\n      <td>111111781080175056</td>\n      <td>1.0</td>\n      <td>1</td>\n      <td>2017-11-10</td>\n      <td>2018-04-01</td>\n      <td>45</td>\n      <td>Célibataire</td>\n      <td>T1</td>\n      <td>Sans logement ou hébergé ou en logement tempor...</td>\n      <td>16</td>\n    </tr>\n    <tr>\n      <th>...</th>\n      <td>...</td>\n      <td>...</td>\n      <td>...</td>\n      <td>...</td>\n      <td>...</td>\n      <td>...</td>\n      <td>...</td>\n      <td>...</td>\n      <td>...</td>\n      <td>...</td>\n    </tr>\n    <tr>\n      <th>42743</th>\n      <td>111011885009910129</td>\n      <td>1.5</td>\n      <td>70914</td>\n      <td>2018-01-04</td>\n      <td>2018-04-24</td>\n      <td>54</td>\n      <td>Célibataire</td>\n      <td>T3</td>\n      <td>Logement trop cher</td>\n      <td>57</td>\n    </tr>\n    <tr>\n      <th>42744</th>\n      <td>1111217829952GDPUB</td>\n      <td>1.8</td>\n      <td>89164</td>\n      <td>2017-12-03</td>\n      <td>2018-02-12</td>\n      <td>33</td>\n      <td>Marié (e)</td>\n      <td>T3</td>\n      <td>Logement trop cher</td>\n      <td>71</td>\n    </tr>\n    <tr>\n      <th>42745</th>\n      <td>111111782174292019</td>\n      <td>2.0</td>\n      <td>99276</td>\n      <td>2017-11-23</td>\n      <td>2018-08-07</td>\n      <td>66</td>\n      <td>Marié (e)</td>\n      <td>T4</td>\n      <td>Autre motif particulier (précisez)</td>\n      <td>81</td>\n    </tr>\n    <tr>\n      <th>42746</th>\n      <td>111091647518710129</td>\n      <td>2.0</td>\n      <td>105794</td>\n      <td>2016-09-23</td>\n      <td>2018-05-25</td>\n      <td>61</td>\n      <td>Marié (e)</td>\n      <td>T3</td>\n      <td>Logement trop cher</td>\n      <td>64</td>\n    </tr>\n    <tr>\n      <th>42747</th>\n      <td>111041228887210033</td>\n      <td>2.5</td>\n      <td>150113</td>\n      <td>2012-04-23</td>\n      <td>2018-04-26</td>\n      <td>56</td>\n      <td>Divorcé (e)</td>\n      <td>T4</td>\n      <td>Sans logement ou hébergé ou en logement tempor...</td>\n      <td>77</td>\n    </tr>\n  </tbody>\n</table>\n<p>42748 rows × 10 columns</p>\n</div>"
     },
     "execution_count": 117,
     "metadata": {},
     "output_type": "execute_result"
    }
   ],
   "source": [
    "dfd1.dropna()"
   ],
   "metadata": {
    "collapsed": false,
    "pycharm": {
     "name": "#%%\n"
    }
   }
  },
  {
   "cell_type": "code",
   "execution_count": 118,
   "outputs": [
    {
     "name": "stderr",
     "output_type": "stream",
     "text": [
      "C:\\Users\\arceb\\AppData\\Local\\Temp\\ipykernel_41440\\519414860.py:2: SettingWithCopyWarning: \n",
      "A value is trying to be set on a copy of a slice from a DataFrame\n",
      "\n",
      "See the caveats in the documentation: https://pandas.pydata.org/pandas-docs/stable/user_guide/indexing.html#returning-a-view-versus-a-copy\n",
      "  dfd1.drop(indexNames , inplace=True)\n"
     ]
    },
    {
     "data": {
      "text/plain": "            Numéro Unique  Nb unités de consommation du foyer  \\\n0      111011885857794043                                 1.8   \n1      111051767234510108                                 1.5   \n2      111091777617075056                                 1.5   \n3      111021758912175056                                 1.0   \n4      111111781080175056                                 1.0   \n...                   ...                                 ...   \n42743  111011885009910129                                 1.5   \n42744  1111217829952GDPUB                                 1.8   \n42745  111111782174292019                                 2.0   \n42746  111091647518710129                                 2.0   \n42747  111041228887210033                                 2.5   \n\n       Ressources mensuelles du foyer Date création demande  \\\n0                                   1            2018-01-15   \n1                                   1            2017-05-15   \n2                                   1            2017-09-29   \n3                                   1            2017-02-08   \n4                                   1            2017-11-10   \n...                               ...                   ...   \n42743                           70914            2018-01-04   \n42744                           89164            2017-12-03   \n42745                           99276            2017-11-23   \n42746                          105794            2016-09-23   \n42747                          150113            2012-04-23   \n\n      Date de la radiation  Age demandeur Situation familiale  \\\n0               2018-06-08             37           Marié (e)   \n1               2018-06-01             54          Séparé (e)   \n2               2018-11-26             32        Concubin (e)   \n3               2018-01-03             28         Célibataire   \n4               2018-04-01             45         Célibataire   \n...                    ...            ...                 ...   \n42743           2018-04-24             54         Célibataire   \n42744           2018-02-12             33           Marié (e)   \n42745           2018-08-07             66           Marié (e)   \n42746           2018-05-25             61           Marié (e)   \n42747           2018-04-26             56         Divorcé (e)   \n\n      Type du logement attribué  \\\n0                            T3   \n1                            T3   \n2                            T2   \n3                            T1   \n4                            T1   \n...                         ...   \n42743                        T3   \n42744                        T3   \n42745                        T4   \n42746                        T3   \n42747                        T4   \n\n                                 motif n°1 de la demande  \\\n0                                    Logement trop petit   \n1                                    Divorce, séparation   \n2      Sans logement ou hébergé ou en logement tempor...   \n3                                    Divorce, séparation   \n4      Sans logement ou hébergé ou en logement tempor...   \n...                                                  ...   \n42743                                 Logement trop cher   \n42744                                 Logement trop cher   \n42745                 Autre motif particulier (précisez)   \n42746                                 Logement trop cher   \n42747  Sans logement ou hébergé ou en logement tempor...   \n\n       Surface du logement attribué  \n0                                64  \n1                                70  \n2                                46  \n3                                27  \n4                                16  \n...                             ...  \n42743                            57  \n42744                            71  \n42745                            81  \n42746                            64  \n42747                            77  \n\n[42748 rows x 10 columns]",
      "text/html": "<div>\n<style scoped>\n    .dataframe tbody tr th:only-of-type {\n        vertical-align: middle;\n    }\n\n    .dataframe tbody tr th {\n        vertical-align: top;\n    }\n\n    .dataframe thead th {\n        text-align: right;\n    }\n</style>\n<table border=\"1\" class=\"dataframe\">\n  <thead>\n    <tr style=\"text-align: right;\">\n      <th></th>\n      <th>Numéro Unique</th>\n      <th>Nb unités de consommation du foyer</th>\n      <th>Ressources mensuelles du foyer</th>\n      <th>Date création demande</th>\n      <th>Date de la radiation</th>\n      <th>Age demandeur</th>\n      <th>Situation familiale</th>\n      <th>Type du logement attribué</th>\n      <th>motif n°1 de la demande</th>\n      <th>Surface du logement attribué</th>\n    </tr>\n  </thead>\n  <tbody>\n    <tr>\n      <th>0</th>\n      <td>111011885857794043</td>\n      <td>1.8</td>\n      <td>1</td>\n      <td>2018-01-15</td>\n      <td>2018-06-08</td>\n      <td>37</td>\n      <td>Marié (e)</td>\n      <td>T3</td>\n      <td>Logement trop petit</td>\n      <td>64</td>\n    </tr>\n    <tr>\n      <th>1</th>\n      <td>111051767234510108</td>\n      <td>1.5</td>\n      <td>1</td>\n      <td>2017-05-15</td>\n      <td>2018-06-01</td>\n      <td>54</td>\n      <td>Séparé (e)</td>\n      <td>T3</td>\n      <td>Divorce, séparation</td>\n      <td>70</td>\n    </tr>\n    <tr>\n      <th>2</th>\n      <td>111091777617075056</td>\n      <td>1.5</td>\n      <td>1</td>\n      <td>2017-09-29</td>\n      <td>2018-11-26</td>\n      <td>32</td>\n      <td>Concubin (e)</td>\n      <td>T2</td>\n      <td>Sans logement ou hébergé ou en logement tempor...</td>\n      <td>46</td>\n    </tr>\n    <tr>\n      <th>3</th>\n      <td>111021758912175056</td>\n      <td>1.0</td>\n      <td>1</td>\n      <td>2017-02-08</td>\n      <td>2018-01-03</td>\n      <td>28</td>\n      <td>Célibataire</td>\n      <td>T1</td>\n      <td>Divorce, séparation</td>\n      <td>27</td>\n    </tr>\n    <tr>\n      <th>4</th>\n      <td>111111781080175056</td>\n      <td>1.0</td>\n      <td>1</td>\n      <td>2017-11-10</td>\n      <td>2018-04-01</td>\n      <td>45</td>\n      <td>Célibataire</td>\n      <td>T1</td>\n      <td>Sans logement ou hébergé ou en logement tempor...</td>\n      <td>16</td>\n    </tr>\n    <tr>\n      <th>...</th>\n      <td>...</td>\n      <td>...</td>\n      <td>...</td>\n      <td>...</td>\n      <td>...</td>\n      <td>...</td>\n      <td>...</td>\n      <td>...</td>\n      <td>...</td>\n      <td>...</td>\n    </tr>\n    <tr>\n      <th>42743</th>\n      <td>111011885009910129</td>\n      <td>1.5</td>\n      <td>70914</td>\n      <td>2018-01-04</td>\n      <td>2018-04-24</td>\n      <td>54</td>\n      <td>Célibataire</td>\n      <td>T3</td>\n      <td>Logement trop cher</td>\n      <td>57</td>\n    </tr>\n    <tr>\n      <th>42744</th>\n      <td>1111217829952GDPUB</td>\n      <td>1.8</td>\n      <td>89164</td>\n      <td>2017-12-03</td>\n      <td>2018-02-12</td>\n      <td>33</td>\n      <td>Marié (e)</td>\n      <td>T3</td>\n      <td>Logement trop cher</td>\n      <td>71</td>\n    </tr>\n    <tr>\n      <th>42745</th>\n      <td>111111782174292019</td>\n      <td>2.0</td>\n      <td>99276</td>\n      <td>2017-11-23</td>\n      <td>2018-08-07</td>\n      <td>66</td>\n      <td>Marié (e)</td>\n      <td>T4</td>\n      <td>Autre motif particulier (précisez)</td>\n      <td>81</td>\n    </tr>\n    <tr>\n      <th>42746</th>\n      <td>111091647518710129</td>\n      <td>2.0</td>\n      <td>105794</td>\n      <td>2016-09-23</td>\n      <td>2018-05-25</td>\n      <td>61</td>\n      <td>Marié (e)</td>\n      <td>T3</td>\n      <td>Logement trop cher</td>\n      <td>64</td>\n    </tr>\n    <tr>\n      <th>42747</th>\n      <td>111041228887210033</td>\n      <td>2.5</td>\n      <td>150113</td>\n      <td>2012-04-23</td>\n      <td>2018-04-26</td>\n      <td>56</td>\n      <td>Divorcé (e)</td>\n      <td>T4</td>\n      <td>Sans logement ou hébergé ou en logement tempor...</td>\n      <td>77</td>\n    </tr>\n  </tbody>\n</table>\n<p>42748 rows × 10 columns</p>\n</div>"
     },
     "execution_count": 118,
     "metadata": {},
     "output_type": "execute_result"
    }
   ],
   "source": [
    "indexNames = dfd1[ dfd1['Ressources mensuelles du foyer'] < 0 ].index\n",
    "dfd1.drop(indexNames , inplace=True)\n",
    "dfd1"
   ],
   "metadata": {
    "collapsed": false,
    "pycharm": {
     "name": "#%%\n"
    }
   }
  },
  {
   "cell_type": "code",
   "execution_count": 119,
   "outputs": [],
   "source": [
    "#indexNames1 = dfd1[ dfd1['Ressources mensuelles du foyer'] > 10000 ].index\n",
    "#dfd1.drop(indexNames1 , inplace=True)\n",
    "#dfd1"
   ],
   "metadata": {
    "collapsed": false,
    "pycharm": {
     "name": "#%%\n"
    }
   }
  },
  {
   "cell_type": "markdown",
   "source": [
    "dfd1 donne désormais la base de  données filtrée. On va pouvoir déterminer les quartiles de revenus."
   ],
   "metadata": {
    "collapsed": false,
    "pycharm": {
     "name": "#%% md\n"
    }
   }
  },
  {
   "cell_type": "markdown",
   "source": [
    "#### Détermination des quintiles"
   ],
   "metadata": {
    "collapsed": false,
    "pycharm": {
     "name": "#%% md\n"
    }
   }
  },
  {
   "cell_type": "markdown",
   "source": [
    "On calcule dans un premier temps le revenu par unité de consommation."
   ],
   "metadata": {
    "collapsed": false,
    "pycharm": {
     "name": "#%% md\n"
    }
   }
  },
  {
   "cell_type": "code",
   "execution_count": 120,
   "outputs": [
    {
     "name": "stderr",
     "output_type": "stream",
     "text": [
      "C:\\Users\\arceb\\AppData\\Local\\Temp\\ipykernel_41440\\2797935456.py:3: SettingWithCopyWarning: \n",
      "A value is trying to be set on a copy of a slice from a DataFrame.\n",
      "Try using .loc[row_indexer,col_indexer] = value instead\n",
      "\n",
      "See the caveats in the documentation: https://pandas.pydata.org/pandas-docs/stable/user_guide/indexing.html#returning-a-view-versus-a-copy\n",
      "  dfd1['revenu_par_UC']=revenu/UC\n"
     ]
    },
    {
     "data": {
      "text/plain": "            Numéro Unique  Nb unités de consommation du foyer  \\\n0      111011885857794043                                 1.8   \n1      111051767234510108                                 1.5   \n2      111091777617075056                                 1.5   \n3      111021758912175056                                 1.0   \n4      111111781080175056                                 1.0   \n...                   ...                                 ...   \n42743  111011885009910129                                 1.5   \n42744  1111217829952GDPUB                                 1.8   \n42745  111111782174292019                                 2.0   \n42746  111091647518710129                                 2.0   \n42747  111041228887210033                                 2.5   \n\n       Ressources mensuelles du foyer Date création demande  \\\n0                                   1            2018-01-15   \n1                                   1            2017-05-15   \n2                                   1            2017-09-29   \n3                                   1            2017-02-08   \n4                                   1            2017-11-10   \n...                               ...                   ...   \n42743                           70914            2018-01-04   \n42744                           89164            2017-12-03   \n42745                           99276            2017-11-23   \n42746                          105794            2016-09-23   \n42747                          150113            2012-04-23   \n\n      Date de la radiation  Age demandeur Situation familiale  \\\n0               2018-06-08             37           Marié (e)   \n1               2018-06-01             54          Séparé (e)   \n2               2018-11-26             32        Concubin (e)   \n3               2018-01-03             28         Célibataire   \n4               2018-04-01             45         Célibataire   \n...                    ...            ...                 ...   \n42743           2018-04-24             54         Célibataire   \n42744           2018-02-12             33           Marié (e)   \n42745           2018-08-07             66           Marié (e)   \n42746           2018-05-25             61           Marié (e)   \n42747           2018-04-26             56         Divorcé (e)   \n\n      Type du logement attribué  \\\n0                            T3   \n1                            T3   \n2                            T2   \n3                            T1   \n4                            T1   \n...                         ...   \n42743                        T3   \n42744                        T3   \n42745                        T4   \n42746                        T3   \n42747                        T4   \n\n                                 motif n°1 de la demande  \\\n0                                    Logement trop petit   \n1                                    Divorce, séparation   \n2      Sans logement ou hébergé ou en logement tempor...   \n3                                    Divorce, séparation   \n4      Sans logement ou hébergé ou en logement tempor...   \n...                                                  ...   \n42743                                 Logement trop cher   \n42744                                 Logement trop cher   \n42745                 Autre motif particulier (précisez)   \n42746                                 Logement trop cher   \n42747  Sans logement ou hébergé ou en logement tempor...   \n\n       Surface du logement attribué  revenu_par_UC  \n0                                64       0.555556  \n1                                70       0.666667  \n2                                46       0.666667  \n3                                27       1.000000  \n4                                16       1.000000  \n...                             ...            ...  \n42743                            57   47276.000000  \n42744                            71   49535.555556  \n42745                            81   49638.000000  \n42746                            64   52897.000000  \n42747                            77   60045.200000  \n\n[42748 rows x 11 columns]",
      "text/html": "<div>\n<style scoped>\n    .dataframe tbody tr th:only-of-type {\n        vertical-align: middle;\n    }\n\n    .dataframe tbody tr th {\n        vertical-align: top;\n    }\n\n    .dataframe thead th {\n        text-align: right;\n    }\n</style>\n<table border=\"1\" class=\"dataframe\">\n  <thead>\n    <tr style=\"text-align: right;\">\n      <th></th>\n      <th>Numéro Unique</th>\n      <th>Nb unités de consommation du foyer</th>\n      <th>Ressources mensuelles du foyer</th>\n      <th>Date création demande</th>\n      <th>Date de la radiation</th>\n      <th>Age demandeur</th>\n      <th>Situation familiale</th>\n      <th>Type du logement attribué</th>\n      <th>motif n°1 de la demande</th>\n      <th>Surface du logement attribué</th>\n      <th>revenu_par_UC</th>\n    </tr>\n  </thead>\n  <tbody>\n    <tr>\n      <th>0</th>\n      <td>111011885857794043</td>\n      <td>1.8</td>\n      <td>1</td>\n      <td>2018-01-15</td>\n      <td>2018-06-08</td>\n      <td>37</td>\n      <td>Marié (e)</td>\n      <td>T3</td>\n      <td>Logement trop petit</td>\n      <td>64</td>\n      <td>0.555556</td>\n    </tr>\n    <tr>\n      <th>1</th>\n      <td>111051767234510108</td>\n      <td>1.5</td>\n      <td>1</td>\n      <td>2017-05-15</td>\n      <td>2018-06-01</td>\n      <td>54</td>\n      <td>Séparé (e)</td>\n      <td>T3</td>\n      <td>Divorce, séparation</td>\n      <td>70</td>\n      <td>0.666667</td>\n    </tr>\n    <tr>\n      <th>2</th>\n      <td>111091777617075056</td>\n      <td>1.5</td>\n      <td>1</td>\n      <td>2017-09-29</td>\n      <td>2018-11-26</td>\n      <td>32</td>\n      <td>Concubin (e)</td>\n      <td>T2</td>\n      <td>Sans logement ou hébergé ou en logement tempor...</td>\n      <td>46</td>\n      <td>0.666667</td>\n    </tr>\n    <tr>\n      <th>3</th>\n      <td>111021758912175056</td>\n      <td>1.0</td>\n      <td>1</td>\n      <td>2017-02-08</td>\n      <td>2018-01-03</td>\n      <td>28</td>\n      <td>Célibataire</td>\n      <td>T1</td>\n      <td>Divorce, séparation</td>\n      <td>27</td>\n      <td>1.000000</td>\n    </tr>\n    <tr>\n      <th>4</th>\n      <td>111111781080175056</td>\n      <td>1.0</td>\n      <td>1</td>\n      <td>2017-11-10</td>\n      <td>2018-04-01</td>\n      <td>45</td>\n      <td>Célibataire</td>\n      <td>T1</td>\n      <td>Sans logement ou hébergé ou en logement tempor...</td>\n      <td>16</td>\n      <td>1.000000</td>\n    </tr>\n    <tr>\n      <th>...</th>\n      <td>...</td>\n      <td>...</td>\n      <td>...</td>\n      <td>...</td>\n      <td>...</td>\n      <td>...</td>\n      <td>...</td>\n      <td>...</td>\n      <td>...</td>\n      <td>...</td>\n      <td>...</td>\n    </tr>\n    <tr>\n      <th>42743</th>\n      <td>111011885009910129</td>\n      <td>1.5</td>\n      <td>70914</td>\n      <td>2018-01-04</td>\n      <td>2018-04-24</td>\n      <td>54</td>\n      <td>Célibataire</td>\n      <td>T3</td>\n      <td>Logement trop cher</td>\n      <td>57</td>\n      <td>47276.000000</td>\n    </tr>\n    <tr>\n      <th>42744</th>\n      <td>1111217829952GDPUB</td>\n      <td>1.8</td>\n      <td>89164</td>\n      <td>2017-12-03</td>\n      <td>2018-02-12</td>\n      <td>33</td>\n      <td>Marié (e)</td>\n      <td>T3</td>\n      <td>Logement trop cher</td>\n      <td>71</td>\n      <td>49535.555556</td>\n    </tr>\n    <tr>\n      <th>42745</th>\n      <td>111111782174292019</td>\n      <td>2.0</td>\n      <td>99276</td>\n      <td>2017-11-23</td>\n      <td>2018-08-07</td>\n      <td>66</td>\n      <td>Marié (e)</td>\n      <td>T4</td>\n      <td>Autre motif particulier (précisez)</td>\n      <td>81</td>\n      <td>49638.000000</td>\n    </tr>\n    <tr>\n      <th>42746</th>\n      <td>111091647518710129</td>\n      <td>2.0</td>\n      <td>105794</td>\n      <td>2016-09-23</td>\n      <td>2018-05-25</td>\n      <td>61</td>\n      <td>Marié (e)</td>\n      <td>T3</td>\n      <td>Logement trop cher</td>\n      <td>64</td>\n      <td>52897.000000</td>\n    </tr>\n    <tr>\n      <th>42747</th>\n      <td>111041228887210033</td>\n      <td>2.5</td>\n      <td>150113</td>\n      <td>2012-04-23</td>\n      <td>2018-04-26</td>\n      <td>56</td>\n      <td>Divorcé (e)</td>\n      <td>T4</td>\n      <td>Sans logement ou hébergé ou en logement tempor...</td>\n      <td>77</td>\n      <td>60045.200000</td>\n    </tr>\n  </tbody>\n</table>\n<p>42748 rows × 11 columns</p>\n</div>"
     },
     "execution_count": 120,
     "metadata": {},
     "output_type": "execute_result"
    }
   ],
   "source": [
    "UC=dfd1[\"Nb unités de consommation du foyer\"]\n",
    "revenu=dfd1[\"Ressources mensuelles du foyer\"]\n",
    "dfd1['revenu_par_UC']=revenu/UC\n",
    "dfd1"
   ],
   "metadata": {
    "collapsed": false,
    "pycharm": {
     "name": "#%%\n"
    }
   }
  },
  {
   "cell_type": "markdown",
   "source": [
    "Il s'agit désormais de déterminer les quintiles."
   ],
   "metadata": {
    "collapsed": false,
    "pycharm": {
     "name": "#%% md\n"
    }
   }
  },
  {
   "cell_type": "code",
   "execution_count": 121,
   "outputs": [
    {
     "name": "stderr",
     "output_type": "stream",
     "text": [
      "C:\\Users\\arceb\\AppData\\Local\\Temp\\ipykernel_41440\\325979235.py:1: SettingWithCopyWarning: \n",
      "A value is trying to be set on a copy of a slice from a DataFrame.\n",
      "Try using .loc[row_indexer,col_indexer] = value instead\n",
      "\n",
      "See the caveats in the documentation: https://pandas.pydata.org/pandas-docs/stable/user_guide/indexing.html#returning-a-view-versus-a-copy\n",
      "  dfd1['Revenus annuels']=dfd1['revenu_par_UC']*12 #le *12 est pour le revenu annuel\n"
     ]
    }
   ],
   "source": [
    "dfd1['Revenus annuels']=dfd1['revenu_par_UC']*12 #le *12 est pour le revenu annuel"
   ],
   "metadata": {
    "collapsed": false,
    "pycharm": {
     "name": "#%%\n"
    }
   }
  },
  {
   "cell_type": "code",
   "execution_count": null,
   "outputs": [
    {
     "data": {
      "text/plain": "0             6.666667\n1             8.000000\n2             8.000000\n3            12.000000\n4            12.000000\n             ...      \n42743    567312.000000\n42744    594426.666667\n42745    595656.000000\n42746    634764.000000\n42747    720542.400000\nName: Revenus annuels, Length: 42748, dtype: float64"
     },
     "execution_count": 122,
     "metadata": {},
     "output_type": "execute_result"
    }
   ],
   "source": [
    "dfd1['Revenus annuels']"
   ],
   "metadata": {
    "collapsed": false,
    "pycharm": {
     "name": "#%%\n",
     "is_executing": true
    }
   }
  },
  {
   "cell_type": "code",
   "execution_count": 123,
   "outputs": [
    {
     "data": {
      "text/plain": "count     42748.000000\nmean      17399.783620\nstd       12711.189329\nmin           6.666667\n25%       12000.000000\n50%       16266.750000\n75%       21185.128205\nmax      720542.400000\nName: Revenus annuels, dtype: float64"
     },
     "execution_count": 123,
     "metadata": {},
     "output_type": "execute_result"
    }
   ],
   "source": [
    "dfd1['Revenus annuels'].describe()"
   ],
   "metadata": {
    "collapsed": false,
    "pycharm": {
     "name": "#%%\n"
    }
   }
  },
  {
   "cell_type": "code",
   "execution_count": 124,
   "outputs": [
    {
     "data": {
      "text/plain": "count     42748.000000\nmean      17399.783620\nstd       12711.189329\nmin           6.666667\n20%       11028.000000\n40%       14603.076923\n50%       16266.750000\n60%       18000.000000\n80%       22480.000000\nmax      720542.400000\nName: Revenus annuels, dtype: float64"
     },
     "execution_count": 124,
     "metadata": {},
     "output_type": "execute_result"
    }
   ],
   "source": [
    "dfd1['Revenus annuels'].describe(percentiles=[.2, .4, .6, .8])#pour avoir les quintiles"
   ],
   "metadata": {
    "collapsed": false,
    "pycharm": {
     "name": "#%%\n"
    }
   }
  },
  {
   "cell_type": "markdown",
   "source": [
    "On a les quantiles de revenu annuel :\n",
    "- 20%= 11023.542857\n",
    "- 40%= 14593.846154\n",
    "- 60%= 18000.000000\n",
    "- 80%= 22451.657143\n",
    "\n",
    "A partir de ces valeurs on va déterminer dans une nouvelle colonne 5 groupes de quintiles d'appartenance des demandeurs."
   ],
   "metadata": {
    "collapsed": false,
    "pycharm": {
     "name": "#%% md\n"
    }
   }
  },
  {
   "cell_type": "code",
   "execution_count": 125,
   "outputs": [
    {
     "name": "stderr",
     "output_type": "stream",
     "text": [
      "C:\\Users\\arceb\\AppData\\Local\\Temp\\ipykernel_41440\\590966780.py:1: SettingWithCopyWarning: \n",
      "A value is trying to be set on a copy of a slice from a DataFrame.\n",
      "Try using .loc[row_indexer,col_indexer] = value instead\n",
      "\n",
      "See the caveats in the documentation: https://pandas.pydata.org/pandas-docs/stable/user_guide/indexing.html#returning-a-view-versus-a-copy\n",
      "  dfd1['Catégorie'] = \"\"\n"
     ]
    }
   ],
   "source": [
    "dfd1['Catégorie'] = \"\""
   ],
   "metadata": {
    "collapsed": false,
    "pycharm": {
     "name": "#%%\n"
    }
   }
  },
  {
   "cell_type": "code",
   "execution_count": 126,
   "outputs": [
    {
     "name": "stderr",
     "output_type": "stream",
     "text": [
      "C:\\Users\\arceb\\AppData\\Local\\Temp\\ipykernel_41440\\2193730149.py:1: SettingWithCopyWarning: \n",
      "A value is trying to be set on a copy of a slice from a DataFrame.\n",
      "Try using .loc[row_indexer,col_indexer] = value instead\n",
      "\n",
      "See the caveats in the documentation: https://pandas.pydata.org/pandas-docs/stable/user_guide/indexing.html#returning-a-view-versus-a-copy\n",
      "  dfd1['Catégorie']=pd.cut(dfd1['revenu_par_UC'], [0, 1063.571429, 200000], labels=['Pauvres', 'Autres'])\n"
     ]
    }
   ],
   "source": [
    "dfd1['Catégorie']=pd.cut(dfd1['revenu_par_UC'], [0, 1063.571429, 200000], labels=['Pauvres', 'Autres'])"
   ],
   "metadata": {
    "collapsed": false,
    "pycharm": {
     "name": "#%%\n"
    }
   }
  },
  {
   "cell_type": "code",
   "execution_count": 127,
   "outputs": [
    {
     "data": {
      "text/plain": "            Numéro Unique  Nb unités de consommation du foyer  \\\n0      111011885857794043                                 1.8   \n1      111051767234510108                                 1.5   \n2      111091777617075056                                 1.5   \n3      111021758912175056                                 1.0   \n4      111111781080175056                                 1.0   \n...                   ...                                 ...   \n42743  111011885009910129                                 1.5   \n42744  1111217829952GDPUB                                 1.8   \n42745  111111782174292019                                 2.0   \n42746  111091647518710129                                 2.0   \n42747  111041228887210033                                 2.5   \n\n       Ressources mensuelles du foyer Date création demande  \\\n0                                   1            2018-01-15   \n1                                   1            2017-05-15   \n2                                   1            2017-09-29   \n3                                   1            2017-02-08   \n4                                   1            2017-11-10   \n...                               ...                   ...   \n42743                           70914            2018-01-04   \n42744                           89164            2017-12-03   \n42745                           99276            2017-11-23   \n42746                          105794            2016-09-23   \n42747                          150113            2012-04-23   \n\n      Date de la radiation  Age demandeur Situation familiale  \\\n0               2018-06-08             37           Marié (e)   \n1               2018-06-01             54          Séparé (e)   \n2               2018-11-26             32        Concubin (e)   \n3               2018-01-03             28         Célibataire   \n4               2018-04-01             45         Célibataire   \n...                    ...            ...                 ...   \n42743           2018-04-24             54         Célibataire   \n42744           2018-02-12             33           Marié (e)   \n42745           2018-08-07             66           Marié (e)   \n42746           2018-05-25             61           Marié (e)   \n42747           2018-04-26             56         Divorcé (e)   \n\n      Type du logement attribué  \\\n0                            T3   \n1                            T3   \n2                            T2   \n3                            T1   \n4                            T1   \n...                         ...   \n42743                        T3   \n42744                        T3   \n42745                        T4   \n42746                        T3   \n42747                        T4   \n\n                                 motif n°1 de la demande  \\\n0                                    Logement trop petit   \n1                                    Divorce, séparation   \n2      Sans logement ou hébergé ou en logement tempor...   \n3                                    Divorce, séparation   \n4      Sans logement ou hébergé ou en logement tempor...   \n...                                                  ...   \n42743                                 Logement trop cher   \n42744                                 Logement trop cher   \n42745                 Autre motif particulier (précisez)   \n42746                                 Logement trop cher   \n42747  Sans logement ou hébergé ou en logement tempor...   \n\n       Surface du logement attribué  revenu_par_UC  Revenus annuels Catégorie  \n0                                64       0.555556         6.666667   Pauvres  \n1                                70       0.666667         8.000000   Pauvres  \n2                                46       0.666667         8.000000   Pauvres  \n3                                27       1.000000        12.000000   Pauvres  \n4                                16       1.000000        12.000000   Pauvres  \n...                             ...            ...              ...       ...  \n42743                            57   47276.000000    567312.000000    Autres  \n42744                            71   49535.555556    594426.666667    Autres  \n42745                            81   49638.000000    595656.000000    Autres  \n42746                            64   52897.000000    634764.000000    Autres  \n42747                            77   60045.200000    720542.400000    Autres  \n\n[42748 rows x 13 columns]",
      "text/html": "<div>\n<style scoped>\n    .dataframe tbody tr th:only-of-type {\n        vertical-align: middle;\n    }\n\n    .dataframe tbody tr th {\n        vertical-align: top;\n    }\n\n    .dataframe thead th {\n        text-align: right;\n    }\n</style>\n<table border=\"1\" class=\"dataframe\">\n  <thead>\n    <tr style=\"text-align: right;\">\n      <th></th>\n      <th>Numéro Unique</th>\n      <th>Nb unités de consommation du foyer</th>\n      <th>Ressources mensuelles du foyer</th>\n      <th>Date création demande</th>\n      <th>Date de la radiation</th>\n      <th>Age demandeur</th>\n      <th>Situation familiale</th>\n      <th>Type du logement attribué</th>\n      <th>motif n°1 de la demande</th>\n      <th>Surface du logement attribué</th>\n      <th>revenu_par_UC</th>\n      <th>Revenus annuels</th>\n      <th>Catégorie</th>\n    </tr>\n  </thead>\n  <tbody>\n    <tr>\n      <th>0</th>\n      <td>111011885857794043</td>\n      <td>1.8</td>\n      <td>1</td>\n      <td>2018-01-15</td>\n      <td>2018-06-08</td>\n      <td>37</td>\n      <td>Marié (e)</td>\n      <td>T3</td>\n      <td>Logement trop petit</td>\n      <td>64</td>\n      <td>0.555556</td>\n      <td>6.666667</td>\n      <td>Pauvres</td>\n    </tr>\n    <tr>\n      <th>1</th>\n      <td>111051767234510108</td>\n      <td>1.5</td>\n      <td>1</td>\n      <td>2017-05-15</td>\n      <td>2018-06-01</td>\n      <td>54</td>\n      <td>Séparé (e)</td>\n      <td>T3</td>\n      <td>Divorce, séparation</td>\n      <td>70</td>\n      <td>0.666667</td>\n      <td>8.000000</td>\n      <td>Pauvres</td>\n    </tr>\n    <tr>\n      <th>2</th>\n      <td>111091777617075056</td>\n      <td>1.5</td>\n      <td>1</td>\n      <td>2017-09-29</td>\n      <td>2018-11-26</td>\n      <td>32</td>\n      <td>Concubin (e)</td>\n      <td>T2</td>\n      <td>Sans logement ou hébergé ou en logement tempor...</td>\n      <td>46</td>\n      <td>0.666667</td>\n      <td>8.000000</td>\n      <td>Pauvres</td>\n    </tr>\n    <tr>\n      <th>3</th>\n      <td>111021758912175056</td>\n      <td>1.0</td>\n      <td>1</td>\n      <td>2017-02-08</td>\n      <td>2018-01-03</td>\n      <td>28</td>\n      <td>Célibataire</td>\n      <td>T1</td>\n      <td>Divorce, séparation</td>\n      <td>27</td>\n      <td>1.000000</td>\n      <td>12.000000</td>\n      <td>Pauvres</td>\n    </tr>\n    <tr>\n      <th>4</th>\n      <td>111111781080175056</td>\n      <td>1.0</td>\n      <td>1</td>\n      <td>2017-11-10</td>\n      <td>2018-04-01</td>\n      <td>45</td>\n      <td>Célibataire</td>\n      <td>T1</td>\n      <td>Sans logement ou hébergé ou en logement tempor...</td>\n      <td>16</td>\n      <td>1.000000</td>\n      <td>12.000000</td>\n      <td>Pauvres</td>\n    </tr>\n    <tr>\n      <th>...</th>\n      <td>...</td>\n      <td>...</td>\n      <td>...</td>\n      <td>...</td>\n      <td>...</td>\n      <td>...</td>\n      <td>...</td>\n      <td>...</td>\n      <td>...</td>\n      <td>...</td>\n      <td>...</td>\n      <td>...</td>\n      <td>...</td>\n    </tr>\n    <tr>\n      <th>42743</th>\n      <td>111011885009910129</td>\n      <td>1.5</td>\n      <td>70914</td>\n      <td>2018-01-04</td>\n      <td>2018-04-24</td>\n      <td>54</td>\n      <td>Célibataire</td>\n      <td>T3</td>\n      <td>Logement trop cher</td>\n      <td>57</td>\n      <td>47276.000000</td>\n      <td>567312.000000</td>\n      <td>Autres</td>\n    </tr>\n    <tr>\n      <th>42744</th>\n      <td>1111217829952GDPUB</td>\n      <td>1.8</td>\n      <td>89164</td>\n      <td>2017-12-03</td>\n      <td>2018-02-12</td>\n      <td>33</td>\n      <td>Marié (e)</td>\n      <td>T3</td>\n      <td>Logement trop cher</td>\n      <td>71</td>\n      <td>49535.555556</td>\n      <td>594426.666667</td>\n      <td>Autres</td>\n    </tr>\n    <tr>\n      <th>42745</th>\n      <td>111111782174292019</td>\n      <td>2.0</td>\n      <td>99276</td>\n      <td>2017-11-23</td>\n      <td>2018-08-07</td>\n      <td>66</td>\n      <td>Marié (e)</td>\n      <td>T4</td>\n      <td>Autre motif particulier (précisez)</td>\n      <td>81</td>\n      <td>49638.000000</td>\n      <td>595656.000000</td>\n      <td>Autres</td>\n    </tr>\n    <tr>\n      <th>42746</th>\n      <td>111091647518710129</td>\n      <td>2.0</td>\n      <td>105794</td>\n      <td>2016-09-23</td>\n      <td>2018-05-25</td>\n      <td>61</td>\n      <td>Marié (e)</td>\n      <td>T3</td>\n      <td>Logement trop cher</td>\n      <td>64</td>\n      <td>52897.000000</td>\n      <td>634764.000000</td>\n      <td>Autres</td>\n    </tr>\n    <tr>\n      <th>42747</th>\n      <td>111041228887210033</td>\n      <td>2.5</td>\n      <td>150113</td>\n      <td>2012-04-23</td>\n      <td>2018-04-26</td>\n      <td>56</td>\n      <td>Divorcé (e)</td>\n      <td>T4</td>\n      <td>Sans logement ou hébergé ou en logement tempor...</td>\n      <td>77</td>\n      <td>60045.200000</td>\n      <td>720542.400000</td>\n      <td>Autres</td>\n    </tr>\n  </tbody>\n</table>\n<p>42748 rows × 13 columns</p>\n</div>"
     },
     "execution_count": 127,
     "metadata": {},
     "output_type": "execute_result"
    }
   ],
   "source": [
    "dfd1"
   ],
   "metadata": {
    "collapsed": false,
    "pycharm": {
     "name": "#%%\n"
    }
   }
  },
  {
   "cell_type": "code",
   "execution_count": 128,
   "outputs": [
    {
     "name": "stderr",
     "output_type": "stream",
     "text": [
      "C:\\Users\\arceb\\AppData\\Local\\Temp\\ipykernel_41440\\3927255599.py:1: FutureWarning: DataFrame.mean and DataFrame.median with numeric_only=None will include datetime64 and datetime64tz columns in a future version.\n",
      "  dfd1[dfd1['Catégorie']=='Pauvres'].mean()\n",
      "C:\\Users\\arceb\\AppData\\Local\\Temp\\ipykernel_41440\\3927255599.py:1: FutureWarning: Dropping of nuisance columns in DataFrame reductions (with 'numeric_only=None') is deprecated; in a future version this will raise TypeError.  Select only valid columns before calling the reduction.\n",
      "  dfd1[dfd1['Catégorie']=='Pauvres'].mean()\n"
     ]
    },
    {
     "data": {
      "text/plain": "Nb unités de consommation du foyer       1.774581\nRessources mensuelles du foyer        1422.945073\nAge demandeur                           43.868174\nSurface du logement attribué            60.372224\nrevenu_par_UC                          799.400963\nRevenus annuels                       9592.811560\ndtype: float64"
     },
     "execution_count": 128,
     "metadata": {},
     "output_type": "execute_result"
    }
   ],
   "source": [
    "dfd1[dfd1['Catégorie']=='Pauvres'].mean()"
   ],
   "metadata": {
    "collapsed": false,
    "pycharm": {
     "name": "#%%\n"
    }
   }
  },
  {
   "cell_type": "markdown",
   "source": [
    "#### Création des tranches d'âge"
   ],
   "metadata": {
    "collapsed": false,
    "pycharm": {
     "name": "#%% md\n"
    }
   }
  },
  {
   "cell_type": "code",
   "execution_count": 129,
   "outputs": [
    {
     "name": "stderr",
     "output_type": "stream",
     "text": [
      "C:\\Users\\arceb\\AppData\\Local\\Temp\\ipykernel_41440\\1713092258.py:1: SettingWithCopyWarning: \n",
      "A value is trying to be set on a copy of a slice from a DataFrame.\n",
      "Try using .loc[row_indexer,col_indexer] = value instead\n",
      "\n",
      "See the caveats in the documentation: https://pandas.pydata.org/pandas-docs/stable/user_guide/indexing.html#returning-a-view-versus-a-copy\n",
      "  dfd1['Age'] = \"\"\n",
      "C:\\Users\\arceb\\AppData\\Local\\Temp\\ipykernel_41440\\1713092258.py:2: SettingWithCopyWarning: \n",
      "A value is trying to be set on a copy of a slice from a DataFrame.\n",
      "Try using .loc[row_indexer,col_indexer] = value instead\n",
      "\n",
      "See the caveats in the documentation: https://pandas.pydata.org/pandas-docs/stable/user_guide/indexing.html#returning-a-view-versus-a-copy\n",
      "  dfd1['Age']=pd.cut(dfd1['Age demandeur'], [0, 29, 39, 49, 59, 69, 130], labels=['Moins de 30 ans', '30 à 39 ans', '40 à 49 ans', '50 à 59 ans', '60 à 69 ans', '70 ans et plus'])\n"
     ]
    },
    {
     "data": {
      "text/plain": "            Numéro Unique  Nb unités de consommation du foyer  \\\n0      111011885857794043                                 1.8   \n1      111051767234510108                                 1.5   \n2      111091777617075056                                 1.5   \n3      111021758912175056                                 1.0   \n4      111111781080175056                                 1.0   \n...                   ...                                 ...   \n42743  111011885009910129                                 1.5   \n42744  1111217829952GDPUB                                 1.8   \n42745  111111782174292019                                 2.0   \n42746  111091647518710129                                 2.0   \n42747  111041228887210033                                 2.5   \n\n       Ressources mensuelles du foyer Date création demande  \\\n0                                   1            2018-01-15   \n1                                   1            2017-05-15   \n2                                   1            2017-09-29   \n3                                   1            2017-02-08   \n4                                   1            2017-11-10   \n...                               ...                   ...   \n42743                           70914            2018-01-04   \n42744                           89164            2017-12-03   \n42745                           99276            2017-11-23   \n42746                          105794            2016-09-23   \n42747                          150113            2012-04-23   \n\n      Date de la radiation  Age demandeur Situation familiale  \\\n0               2018-06-08             37           Marié (e)   \n1               2018-06-01             54          Séparé (e)   \n2               2018-11-26             32        Concubin (e)   \n3               2018-01-03             28         Célibataire   \n4               2018-04-01             45         Célibataire   \n...                    ...            ...                 ...   \n42743           2018-04-24             54         Célibataire   \n42744           2018-02-12             33           Marié (e)   \n42745           2018-08-07             66           Marié (e)   \n42746           2018-05-25             61           Marié (e)   \n42747           2018-04-26             56         Divorcé (e)   \n\n      Type du logement attribué  \\\n0                            T3   \n1                            T3   \n2                            T2   \n3                            T1   \n4                            T1   \n...                         ...   \n42743                        T3   \n42744                        T3   \n42745                        T4   \n42746                        T3   \n42747                        T4   \n\n                                 motif n°1 de la demande  \\\n0                                    Logement trop petit   \n1                                    Divorce, séparation   \n2      Sans logement ou hébergé ou en logement tempor...   \n3                                    Divorce, séparation   \n4      Sans logement ou hébergé ou en logement tempor...   \n...                                                  ...   \n42743                                 Logement trop cher   \n42744                                 Logement trop cher   \n42745                 Autre motif particulier (précisez)   \n42746                                 Logement trop cher   \n42747  Sans logement ou hébergé ou en logement tempor...   \n\n       Surface du logement attribué  revenu_par_UC  Revenus annuels Catégorie  \\\n0                                64       0.555556         6.666667   Pauvres   \n1                                70       0.666667         8.000000   Pauvres   \n2                                46       0.666667         8.000000   Pauvres   \n3                                27       1.000000        12.000000   Pauvres   \n4                                16       1.000000        12.000000   Pauvres   \n...                             ...            ...              ...       ...   \n42743                            57   47276.000000    567312.000000    Autres   \n42744                            71   49535.555556    594426.666667    Autres   \n42745                            81   49638.000000    595656.000000    Autres   \n42746                            64   52897.000000    634764.000000    Autres   \n42747                            77   60045.200000    720542.400000    Autres   \n\n                   Age  \n0          30 à 39 ans  \n1          50 à 59 ans  \n2          30 à 39 ans  \n3      Moins de 30 ans  \n4          40 à 49 ans  \n...                ...  \n42743      50 à 59 ans  \n42744      30 à 39 ans  \n42745      60 à 69 ans  \n42746      60 à 69 ans  \n42747      50 à 59 ans  \n\n[42748 rows x 14 columns]",
      "text/html": "<div>\n<style scoped>\n    .dataframe tbody tr th:only-of-type {\n        vertical-align: middle;\n    }\n\n    .dataframe tbody tr th {\n        vertical-align: top;\n    }\n\n    .dataframe thead th {\n        text-align: right;\n    }\n</style>\n<table border=\"1\" class=\"dataframe\">\n  <thead>\n    <tr style=\"text-align: right;\">\n      <th></th>\n      <th>Numéro Unique</th>\n      <th>Nb unités de consommation du foyer</th>\n      <th>Ressources mensuelles du foyer</th>\n      <th>Date création demande</th>\n      <th>Date de la radiation</th>\n      <th>Age demandeur</th>\n      <th>Situation familiale</th>\n      <th>Type du logement attribué</th>\n      <th>motif n°1 de la demande</th>\n      <th>Surface du logement attribué</th>\n      <th>revenu_par_UC</th>\n      <th>Revenus annuels</th>\n      <th>Catégorie</th>\n      <th>Age</th>\n    </tr>\n  </thead>\n  <tbody>\n    <tr>\n      <th>0</th>\n      <td>111011885857794043</td>\n      <td>1.8</td>\n      <td>1</td>\n      <td>2018-01-15</td>\n      <td>2018-06-08</td>\n      <td>37</td>\n      <td>Marié (e)</td>\n      <td>T3</td>\n      <td>Logement trop petit</td>\n      <td>64</td>\n      <td>0.555556</td>\n      <td>6.666667</td>\n      <td>Pauvres</td>\n      <td>30 à 39 ans</td>\n    </tr>\n    <tr>\n      <th>1</th>\n      <td>111051767234510108</td>\n      <td>1.5</td>\n      <td>1</td>\n      <td>2017-05-15</td>\n      <td>2018-06-01</td>\n      <td>54</td>\n      <td>Séparé (e)</td>\n      <td>T3</td>\n      <td>Divorce, séparation</td>\n      <td>70</td>\n      <td>0.666667</td>\n      <td>8.000000</td>\n      <td>Pauvres</td>\n      <td>50 à 59 ans</td>\n    </tr>\n    <tr>\n      <th>2</th>\n      <td>111091777617075056</td>\n      <td>1.5</td>\n      <td>1</td>\n      <td>2017-09-29</td>\n      <td>2018-11-26</td>\n      <td>32</td>\n      <td>Concubin (e)</td>\n      <td>T2</td>\n      <td>Sans logement ou hébergé ou en logement tempor...</td>\n      <td>46</td>\n      <td>0.666667</td>\n      <td>8.000000</td>\n      <td>Pauvres</td>\n      <td>30 à 39 ans</td>\n    </tr>\n    <tr>\n      <th>3</th>\n      <td>111021758912175056</td>\n      <td>1.0</td>\n      <td>1</td>\n      <td>2017-02-08</td>\n      <td>2018-01-03</td>\n      <td>28</td>\n      <td>Célibataire</td>\n      <td>T1</td>\n      <td>Divorce, séparation</td>\n      <td>27</td>\n      <td>1.000000</td>\n      <td>12.000000</td>\n      <td>Pauvres</td>\n      <td>Moins de 30 ans</td>\n    </tr>\n    <tr>\n      <th>4</th>\n      <td>111111781080175056</td>\n      <td>1.0</td>\n      <td>1</td>\n      <td>2017-11-10</td>\n      <td>2018-04-01</td>\n      <td>45</td>\n      <td>Célibataire</td>\n      <td>T1</td>\n      <td>Sans logement ou hébergé ou en logement tempor...</td>\n      <td>16</td>\n      <td>1.000000</td>\n      <td>12.000000</td>\n      <td>Pauvres</td>\n      <td>40 à 49 ans</td>\n    </tr>\n    <tr>\n      <th>...</th>\n      <td>...</td>\n      <td>...</td>\n      <td>...</td>\n      <td>...</td>\n      <td>...</td>\n      <td>...</td>\n      <td>...</td>\n      <td>...</td>\n      <td>...</td>\n      <td>...</td>\n      <td>...</td>\n      <td>...</td>\n      <td>...</td>\n      <td>...</td>\n    </tr>\n    <tr>\n      <th>42743</th>\n      <td>111011885009910129</td>\n      <td>1.5</td>\n      <td>70914</td>\n      <td>2018-01-04</td>\n      <td>2018-04-24</td>\n      <td>54</td>\n      <td>Célibataire</td>\n      <td>T3</td>\n      <td>Logement trop cher</td>\n      <td>57</td>\n      <td>47276.000000</td>\n      <td>567312.000000</td>\n      <td>Autres</td>\n      <td>50 à 59 ans</td>\n    </tr>\n    <tr>\n      <th>42744</th>\n      <td>1111217829952GDPUB</td>\n      <td>1.8</td>\n      <td>89164</td>\n      <td>2017-12-03</td>\n      <td>2018-02-12</td>\n      <td>33</td>\n      <td>Marié (e)</td>\n      <td>T3</td>\n      <td>Logement trop cher</td>\n      <td>71</td>\n      <td>49535.555556</td>\n      <td>594426.666667</td>\n      <td>Autres</td>\n      <td>30 à 39 ans</td>\n    </tr>\n    <tr>\n      <th>42745</th>\n      <td>111111782174292019</td>\n      <td>2.0</td>\n      <td>99276</td>\n      <td>2017-11-23</td>\n      <td>2018-08-07</td>\n      <td>66</td>\n      <td>Marié (e)</td>\n      <td>T4</td>\n      <td>Autre motif particulier (précisez)</td>\n      <td>81</td>\n      <td>49638.000000</td>\n      <td>595656.000000</td>\n      <td>Autres</td>\n      <td>60 à 69 ans</td>\n    </tr>\n    <tr>\n      <th>42746</th>\n      <td>111091647518710129</td>\n      <td>2.0</td>\n      <td>105794</td>\n      <td>2016-09-23</td>\n      <td>2018-05-25</td>\n      <td>61</td>\n      <td>Marié (e)</td>\n      <td>T3</td>\n      <td>Logement trop cher</td>\n      <td>64</td>\n      <td>52897.000000</td>\n      <td>634764.000000</td>\n      <td>Autres</td>\n      <td>60 à 69 ans</td>\n    </tr>\n    <tr>\n      <th>42747</th>\n      <td>111041228887210033</td>\n      <td>2.5</td>\n      <td>150113</td>\n      <td>2012-04-23</td>\n      <td>2018-04-26</td>\n      <td>56</td>\n      <td>Divorcé (e)</td>\n      <td>T4</td>\n      <td>Sans logement ou hébergé ou en logement tempor...</td>\n      <td>77</td>\n      <td>60045.200000</td>\n      <td>720542.400000</td>\n      <td>Autres</td>\n      <td>50 à 59 ans</td>\n    </tr>\n  </tbody>\n</table>\n<p>42748 rows × 14 columns</p>\n</div>"
     },
     "execution_count": 129,
     "metadata": {},
     "output_type": "execute_result"
    }
   ],
   "source": [
    "dfd1['Age'] = \"\"\n",
    "dfd1['Age']=pd.cut(dfd1['Age demandeur'], [0, 29, 39, 49, 59, 69, 130], labels=['Moins de 30 ans', '30 à 39 ans', '40 à 49 ans', '50 à 59 ans', '60 à 69 ans', '70 ans et plus'])\n",
    "dfd1"
   ],
   "metadata": {
    "collapsed": false,
    "pycharm": {
     "name": "#%%\n"
    }
   }
  },
  {
   "cell_type": "markdown",
   "source": [
    "#### Travail sur le temps d'attente\n",
    "\n",
    "Pour travailler sur le taux d'attente, on va fusionner à notre base de données des demandeurs filtrée à la base attributaires et calculer les taux d'attente des personnes attributaires dans l'année en fonction de la date de leur demande et de la date de leur acceptation."
   ],
   "metadata": {
    "collapsed": false,
    "pycharm": {
     "name": "#%% md\n"
    }
   }
  },
  {
   "cell_type": "code",
   "execution_count": 130,
   "outputs": [
    {
     "data": {
      "text/plain": "0       2018-01-15\n1       2017-05-15\n2       2017-09-29\n3       2017-02-08\n4       2017-11-10\n           ...    \n42743   2018-01-04\n42744   2017-12-03\n42745   2017-11-23\n42746   2016-09-23\n42747   2012-04-23\nName: Date création demande, Length: 42748, dtype: datetime64[ns]"
     },
     "execution_count": 130,
     "metadata": {},
     "output_type": "execute_result"
    }
   ],
   "source": [
    "dfd1['Date création demande']"
   ],
   "metadata": {
    "collapsed": false,
    "pycharm": {
     "name": "#%%\n"
    }
   }
  },
  {
   "cell_type": "code",
   "execution_count": 131,
   "outputs": [
    {
     "name": "stderr",
     "output_type": "stream",
     "text": [
      "C:\\Users\\arceb\\AppData\\Local\\Temp\\ipykernel_41440\\2437625387.py:1: SettingWithCopyWarning: \n",
      "A value is trying to be set on a copy of a slice from a DataFrame.\n",
      "Try using .loc[row_indexer,col_indexer] = value instead\n",
      "\n",
      "See the caveats in the documentation: https://pandas.pydata.org/pandas-docs/stable/user_guide/indexing.html#returning-a-view-versus-a-copy\n",
      "  dfd1['Date création demande'] = pd.to_datetime(dfd1['Date création demande'], format=\"%Y/%m/%d %H:%M:%S\")\n"
     ]
    }
   ],
   "source": [
    "dfd1['Date création demande'] = pd.to_datetime(dfd1['Date création demande'], format=\"%Y/%m/%d %H:%M:%S\")"
   ],
   "metadata": {
    "collapsed": false,
    "pycharm": {
     "name": "#%%\n"
    }
   }
  },
  {
   "cell_type": "code",
   "execution_count": 132,
   "outputs": [
    {
     "name": "stderr",
     "output_type": "stream",
     "text": [
      "C:\\Users\\arceb\\AppData\\Local\\Temp\\ipykernel_41440\\2687287794.py:1: SettingWithCopyWarning: \n",
      "A value is trying to be set on a copy of a slice from a DataFrame.\n",
      "Try using .loc[row_indexer,col_indexer] = value instead\n",
      "\n",
      "See the caveats in the documentation: https://pandas.pydata.org/pandas-docs/stable/user_guide/indexing.html#returning-a-view-versus-a-copy\n",
      "  dfd1['Date de la radiation'] = pd.to_datetime(dfd1['Date de la radiation'], format=\"%Y/%m/%d %H:%M:%S\")\n"
     ]
    },
    {
     "data": {
      "text/plain": "            Numéro Unique  Nb unités de consommation du foyer  \\\n0      111011885857794043                                 1.8   \n1      111051767234510108                                 1.5   \n2      111091777617075056                                 1.5   \n3      111021758912175056                                 1.0   \n4      111111781080175056                                 1.0   \n...                   ...                                 ...   \n42743  111011885009910129                                 1.5   \n42744  1111217829952GDPUB                                 1.8   \n42745  111111782174292019                                 2.0   \n42746  111091647518710129                                 2.0   \n42747  111041228887210033                                 2.5   \n\n       Ressources mensuelles du foyer Date création demande  \\\n0                                   1            2018-01-15   \n1                                   1            2017-05-15   \n2                                   1            2017-09-29   \n3                                   1            2017-02-08   \n4                                   1            2017-11-10   \n...                               ...                   ...   \n42743                           70914            2018-01-04   \n42744                           89164            2017-12-03   \n42745                           99276            2017-11-23   \n42746                          105794            2016-09-23   \n42747                          150113            2012-04-23   \n\n      Date de la radiation  Age demandeur Situation familiale  \\\n0               2018-06-08             37           Marié (e)   \n1               2018-06-01             54          Séparé (e)   \n2               2018-11-26             32        Concubin (e)   \n3               2018-01-03             28         Célibataire   \n4               2018-04-01             45         Célibataire   \n...                    ...            ...                 ...   \n42743           2018-04-24             54         Célibataire   \n42744           2018-02-12             33           Marié (e)   \n42745           2018-08-07             66           Marié (e)   \n42746           2018-05-25             61           Marié (e)   \n42747           2018-04-26             56         Divorcé (e)   \n\n      Type du logement attribué  \\\n0                            T3   \n1                            T3   \n2                            T2   \n3                            T1   \n4                            T1   \n...                         ...   \n42743                        T3   \n42744                        T3   \n42745                        T4   \n42746                        T3   \n42747                        T4   \n\n                                 motif n°1 de la demande  \\\n0                                    Logement trop petit   \n1                                    Divorce, séparation   \n2      Sans logement ou hébergé ou en logement tempor...   \n3                                    Divorce, séparation   \n4      Sans logement ou hébergé ou en logement tempor...   \n...                                                  ...   \n42743                                 Logement trop cher   \n42744                                 Logement trop cher   \n42745                 Autre motif particulier (précisez)   \n42746                                 Logement trop cher   \n42747  Sans logement ou hébergé ou en logement tempor...   \n\n       Surface du logement attribué  revenu_par_UC  Revenus annuels Catégorie  \\\n0                                64       0.555556         6.666667   Pauvres   \n1                                70       0.666667         8.000000   Pauvres   \n2                                46       0.666667         8.000000   Pauvres   \n3                                27       1.000000        12.000000   Pauvres   \n4                                16       1.000000        12.000000   Pauvres   \n...                             ...            ...              ...       ...   \n42743                            57   47276.000000    567312.000000    Autres   \n42744                            71   49535.555556    594426.666667    Autres   \n42745                            81   49638.000000    595656.000000    Autres   \n42746                            64   52897.000000    634764.000000    Autres   \n42747                            77   60045.200000    720542.400000    Autres   \n\n                   Age  \n0          30 à 39 ans  \n1          50 à 59 ans  \n2          30 à 39 ans  \n3      Moins de 30 ans  \n4          40 à 49 ans  \n...                ...  \n42743      50 à 59 ans  \n42744      30 à 39 ans  \n42745      60 à 69 ans  \n42746      60 à 69 ans  \n42747      50 à 59 ans  \n\n[42748 rows x 14 columns]",
      "text/html": "<div>\n<style scoped>\n    .dataframe tbody tr th:only-of-type {\n        vertical-align: middle;\n    }\n\n    .dataframe tbody tr th {\n        vertical-align: top;\n    }\n\n    .dataframe thead th {\n        text-align: right;\n    }\n</style>\n<table border=\"1\" class=\"dataframe\">\n  <thead>\n    <tr style=\"text-align: right;\">\n      <th></th>\n      <th>Numéro Unique</th>\n      <th>Nb unités de consommation du foyer</th>\n      <th>Ressources mensuelles du foyer</th>\n      <th>Date création demande</th>\n      <th>Date de la radiation</th>\n      <th>Age demandeur</th>\n      <th>Situation familiale</th>\n      <th>Type du logement attribué</th>\n      <th>motif n°1 de la demande</th>\n      <th>Surface du logement attribué</th>\n      <th>revenu_par_UC</th>\n      <th>Revenus annuels</th>\n      <th>Catégorie</th>\n      <th>Age</th>\n    </tr>\n  </thead>\n  <tbody>\n    <tr>\n      <th>0</th>\n      <td>111011885857794043</td>\n      <td>1.8</td>\n      <td>1</td>\n      <td>2018-01-15</td>\n      <td>2018-06-08</td>\n      <td>37</td>\n      <td>Marié (e)</td>\n      <td>T3</td>\n      <td>Logement trop petit</td>\n      <td>64</td>\n      <td>0.555556</td>\n      <td>6.666667</td>\n      <td>Pauvres</td>\n      <td>30 à 39 ans</td>\n    </tr>\n    <tr>\n      <th>1</th>\n      <td>111051767234510108</td>\n      <td>1.5</td>\n      <td>1</td>\n      <td>2017-05-15</td>\n      <td>2018-06-01</td>\n      <td>54</td>\n      <td>Séparé (e)</td>\n      <td>T3</td>\n      <td>Divorce, séparation</td>\n      <td>70</td>\n      <td>0.666667</td>\n      <td>8.000000</td>\n      <td>Pauvres</td>\n      <td>50 à 59 ans</td>\n    </tr>\n    <tr>\n      <th>2</th>\n      <td>111091777617075056</td>\n      <td>1.5</td>\n      <td>1</td>\n      <td>2017-09-29</td>\n      <td>2018-11-26</td>\n      <td>32</td>\n      <td>Concubin (e)</td>\n      <td>T2</td>\n      <td>Sans logement ou hébergé ou en logement tempor...</td>\n      <td>46</td>\n      <td>0.666667</td>\n      <td>8.000000</td>\n      <td>Pauvres</td>\n      <td>30 à 39 ans</td>\n    </tr>\n    <tr>\n      <th>3</th>\n      <td>111021758912175056</td>\n      <td>1.0</td>\n      <td>1</td>\n      <td>2017-02-08</td>\n      <td>2018-01-03</td>\n      <td>28</td>\n      <td>Célibataire</td>\n      <td>T1</td>\n      <td>Divorce, séparation</td>\n      <td>27</td>\n      <td>1.000000</td>\n      <td>12.000000</td>\n      <td>Pauvres</td>\n      <td>Moins de 30 ans</td>\n    </tr>\n    <tr>\n      <th>4</th>\n      <td>111111781080175056</td>\n      <td>1.0</td>\n      <td>1</td>\n      <td>2017-11-10</td>\n      <td>2018-04-01</td>\n      <td>45</td>\n      <td>Célibataire</td>\n      <td>T1</td>\n      <td>Sans logement ou hébergé ou en logement tempor...</td>\n      <td>16</td>\n      <td>1.000000</td>\n      <td>12.000000</td>\n      <td>Pauvres</td>\n      <td>40 à 49 ans</td>\n    </tr>\n    <tr>\n      <th>...</th>\n      <td>...</td>\n      <td>...</td>\n      <td>...</td>\n      <td>...</td>\n      <td>...</td>\n      <td>...</td>\n      <td>...</td>\n      <td>...</td>\n      <td>...</td>\n      <td>...</td>\n      <td>...</td>\n      <td>...</td>\n      <td>...</td>\n      <td>...</td>\n    </tr>\n    <tr>\n      <th>42743</th>\n      <td>111011885009910129</td>\n      <td>1.5</td>\n      <td>70914</td>\n      <td>2018-01-04</td>\n      <td>2018-04-24</td>\n      <td>54</td>\n      <td>Célibataire</td>\n      <td>T3</td>\n      <td>Logement trop cher</td>\n      <td>57</td>\n      <td>47276.000000</td>\n      <td>567312.000000</td>\n      <td>Autres</td>\n      <td>50 à 59 ans</td>\n    </tr>\n    <tr>\n      <th>42744</th>\n      <td>1111217829952GDPUB</td>\n      <td>1.8</td>\n      <td>89164</td>\n      <td>2017-12-03</td>\n      <td>2018-02-12</td>\n      <td>33</td>\n      <td>Marié (e)</td>\n      <td>T3</td>\n      <td>Logement trop cher</td>\n      <td>71</td>\n      <td>49535.555556</td>\n      <td>594426.666667</td>\n      <td>Autres</td>\n      <td>30 à 39 ans</td>\n    </tr>\n    <tr>\n      <th>42745</th>\n      <td>111111782174292019</td>\n      <td>2.0</td>\n      <td>99276</td>\n      <td>2017-11-23</td>\n      <td>2018-08-07</td>\n      <td>66</td>\n      <td>Marié (e)</td>\n      <td>T4</td>\n      <td>Autre motif particulier (précisez)</td>\n      <td>81</td>\n      <td>49638.000000</td>\n      <td>595656.000000</td>\n      <td>Autres</td>\n      <td>60 à 69 ans</td>\n    </tr>\n    <tr>\n      <th>42746</th>\n      <td>111091647518710129</td>\n      <td>2.0</td>\n      <td>105794</td>\n      <td>2016-09-23</td>\n      <td>2018-05-25</td>\n      <td>61</td>\n      <td>Marié (e)</td>\n      <td>T3</td>\n      <td>Logement trop cher</td>\n      <td>64</td>\n      <td>52897.000000</td>\n      <td>634764.000000</td>\n      <td>Autres</td>\n      <td>60 à 69 ans</td>\n    </tr>\n    <tr>\n      <th>42747</th>\n      <td>111041228887210033</td>\n      <td>2.5</td>\n      <td>150113</td>\n      <td>2012-04-23</td>\n      <td>2018-04-26</td>\n      <td>56</td>\n      <td>Divorcé (e)</td>\n      <td>T4</td>\n      <td>Sans logement ou hébergé ou en logement tempor...</td>\n      <td>77</td>\n      <td>60045.200000</td>\n      <td>720542.400000</td>\n      <td>Autres</td>\n      <td>50 à 59 ans</td>\n    </tr>\n  </tbody>\n</table>\n<p>42748 rows × 14 columns</p>\n</div>"
     },
     "execution_count": 132,
     "metadata": {},
     "output_type": "execute_result"
    }
   ],
   "source": [
    "dfd1['Date de la radiation'] = pd.to_datetime(dfd1['Date de la radiation'], format=\"%Y/%m/%d %H:%M:%S\")\n",
    "dfd1"
   ],
   "metadata": {
    "collapsed": false,
    "pycharm": {
     "name": "#%%\n"
    }
   }
  },
  {
   "cell_type": "code",
   "execution_count": 133,
   "outputs": [
    {
     "name": "stderr",
     "output_type": "stream",
     "text": [
      "C:\\Users\\arceb\\AppData\\Local\\Temp\\ipykernel_41440\\3060396335.py:2: SettingWithCopyWarning: \n",
      "A value is trying to be set on a copy of a slice from a DataFrame.\n",
      "Try using .loc[row_indexer,col_indexer] = value instead\n",
      "\n",
      "See the caveats in the documentation: https://pandas.pydata.org/pandas-docs/stable/user_guide/indexing.html#returning-a-view-versus-a-copy\n",
      "  dfd1['Temps attente']= timedelta\n"
     ]
    },
    {
     "data": {
      "text/plain": "            Numéro Unique  Nb unités de consommation du foyer  \\\n0      111011885857794043                                 1.8   \n1      111051767234510108                                 1.5   \n2      111091777617075056                                 1.5   \n3      111021758912175056                                 1.0   \n4      111111781080175056                                 1.0   \n...                   ...                                 ...   \n42743  111011885009910129                                 1.5   \n42744  1111217829952GDPUB                                 1.8   \n42745  111111782174292019                                 2.0   \n42746  111091647518710129                                 2.0   \n42747  111041228887210033                                 2.5   \n\n       Ressources mensuelles du foyer Date création demande  \\\n0                                   1            2018-01-15   \n1                                   1            2017-05-15   \n2                                   1            2017-09-29   \n3                                   1            2017-02-08   \n4                                   1            2017-11-10   \n...                               ...                   ...   \n42743                           70914            2018-01-04   \n42744                           89164            2017-12-03   \n42745                           99276            2017-11-23   \n42746                          105794            2016-09-23   \n42747                          150113            2012-04-23   \n\n      Date de la radiation  Age demandeur Situation familiale  \\\n0               2018-06-08             37           Marié (e)   \n1               2018-06-01             54          Séparé (e)   \n2               2018-11-26             32        Concubin (e)   \n3               2018-01-03             28         Célibataire   \n4               2018-04-01             45         Célibataire   \n...                    ...            ...                 ...   \n42743           2018-04-24             54         Célibataire   \n42744           2018-02-12             33           Marié (e)   \n42745           2018-08-07             66           Marié (e)   \n42746           2018-05-25             61           Marié (e)   \n42747           2018-04-26             56         Divorcé (e)   \n\n      Type du logement attribué  \\\n0                            T3   \n1                            T3   \n2                            T2   \n3                            T1   \n4                            T1   \n...                         ...   \n42743                        T3   \n42744                        T3   \n42745                        T4   \n42746                        T3   \n42747                        T4   \n\n                                 motif n°1 de la demande  \\\n0                                    Logement trop petit   \n1                                    Divorce, séparation   \n2      Sans logement ou hébergé ou en logement tempor...   \n3                                    Divorce, séparation   \n4      Sans logement ou hébergé ou en logement tempor...   \n...                                                  ...   \n42743                                 Logement trop cher   \n42744                                 Logement trop cher   \n42745                 Autre motif particulier (précisez)   \n42746                                 Logement trop cher   \n42747  Sans logement ou hébergé ou en logement tempor...   \n\n       Surface du logement attribué  revenu_par_UC  Revenus annuels Catégorie  \\\n0                                64       0.555556         6.666667   Pauvres   \n1                                70       0.666667         8.000000   Pauvres   \n2                                46       0.666667         8.000000   Pauvres   \n3                                27       1.000000        12.000000   Pauvres   \n4                                16       1.000000        12.000000   Pauvres   \n...                             ...            ...              ...       ...   \n42743                            57   47276.000000    567312.000000    Autres   \n42744                            71   49535.555556    594426.666667    Autres   \n42745                            81   49638.000000    595656.000000    Autres   \n42746                            64   52897.000000    634764.000000    Autres   \n42747                            77   60045.200000    720542.400000    Autres   \n\n                   Age Temps attente  \n0          30 à 39 ans      144 days  \n1          50 à 59 ans      382 days  \n2          30 à 39 ans      423 days  \n3      Moins de 30 ans      329 days  \n4          40 à 49 ans      142 days  \n...                ...           ...  \n42743      50 à 59 ans      110 days  \n42744      30 à 39 ans       71 days  \n42745      60 à 69 ans      257 days  \n42746      60 à 69 ans      609 days  \n42747      50 à 59 ans     2194 days  \n\n[42748 rows x 15 columns]",
      "text/html": "<div>\n<style scoped>\n    .dataframe tbody tr th:only-of-type {\n        vertical-align: middle;\n    }\n\n    .dataframe tbody tr th {\n        vertical-align: top;\n    }\n\n    .dataframe thead th {\n        text-align: right;\n    }\n</style>\n<table border=\"1\" class=\"dataframe\">\n  <thead>\n    <tr style=\"text-align: right;\">\n      <th></th>\n      <th>Numéro Unique</th>\n      <th>Nb unités de consommation du foyer</th>\n      <th>Ressources mensuelles du foyer</th>\n      <th>Date création demande</th>\n      <th>Date de la radiation</th>\n      <th>Age demandeur</th>\n      <th>Situation familiale</th>\n      <th>Type du logement attribué</th>\n      <th>motif n°1 de la demande</th>\n      <th>Surface du logement attribué</th>\n      <th>revenu_par_UC</th>\n      <th>Revenus annuels</th>\n      <th>Catégorie</th>\n      <th>Age</th>\n      <th>Temps attente</th>\n    </tr>\n  </thead>\n  <tbody>\n    <tr>\n      <th>0</th>\n      <td>111011885857794043</td>\n      <td>1.8</td>\n      <td>1</td>\n      <td>2018-01-15</td>\n      <td>2018-06-08</td>\n      <td>37</td>\n      <td>Marié (e)</td>\n      <td>T3</td>\n      <td>Logement trop petit</td>\n      <td>64</td>\n      <td>0.555556</td>\n      <td>6.666667</td>\n      <td>Pauvres</td>\n      <td>30 à 39 ans</td>\n      <td>144 days</td>\n    </tr>\n    <tr>\n      <th>1</th>\n      <td>111051767234510108</td>\n      <td>1.5</td>\n      <td>1</td>\n      <td>2017-05-15</td>\n      <td>2018-06-01</td>\n      <td>54</td>\n      <td>Séparé (e)</td>\n      <td>T3</td>\n      <td>Divorce, séparation</td>\n      <td>70</td>\n      <td>0.666667</td>\n      <td>8.000000</td>\n      <td>Pauvres</td>\n      <td>50 à 59 ans</td>\n      <td>382 days</td>\n    </tr>\n    <tr>\n      <th>2</th>\n      <td>111091777617075056</td>\n      <td>1.5</td>\n      <td>1</td>\n      <td>2017-09-29</td>\n      <td>2018-11-26</td>\n      <td>32</td>\n      <td>Concubin (e)</td>\n      <td>T2</td>\n      <td>Sans logement ou hébergé ou en logement tempor...</td>\n      <td>46</td>\n      <td>0.666667</td>\n      <td>8.000000</td>\n      <td>Pauvres</td>\n      <td>30 à 39 ans</td>\n      <td>423 days</td>\n    </tr>\n    <tr>\n      <th>3</th>\n      <td>111021758912175056</td>\n      <td>1.0</td>\n      <td>1</td>\n      <td>2017-02-08</td>\n      <td>2018-01-03</td>\n      <td>28</td>\n      <td>Célibataire</td>\n      <td>T1</td>\n      <td>Divorce, séparation</td>\n      <td>27</td>\n      <td>1.000000</td>\n      <td>12.000000</td>\n      <td>Pauvres</td>\n      <td>Moins de 30 ans</td>\n      <td>329 days</td>\n    </tr>\n    <tr>\n      <th>4</th>\n      <td>111111781080175056</td>\n      <td>1.0</td>\n      <td>1</td>\n      <td>2017-11-10</td>\n      <td>2018-04-01</td>\n      <td>45</td>\n      <td>Célibataire</td>\n      <td>T1</td>\n      <td>Sans logement ou hébergé ou en logement tempor...</td>\n      <td>16</td>\n      <td>1.000000</td>\n      <td>12.000000</td>\n      <td>Pauvres</td>\n      <td>40 à 49 ans</td>\n      <td>142 days</td>\n    </tr>\n    <tr>\n      <th>...</th>\n      <td>...</td>\n      <td>...</td>\n      <td>...</td>\n      <td>...</td>\n      <td>...</td>\n      <td>...</td>\n      <td>...</td>\n      <td>...</td>\n      <td>...</td>\n      <td>...</td>\n      <td>...</td>\n      <td>...</td>\n      <td>...</td>\n      <td>...</td>\n      <td>...</td>\n    </tr>\n    <tr>\n      <th>42743</th>\n      <td>111011885009910129</td>\n      <td>1.5</td>\n      <td>70914</td>\n      <td>2018-01-04</td>\n      <td>2018-04-24</td>\n      <td>54</td>\n      <td>Célibataire</td>\n      <td>T3</td>\n      <td>Logement trop cher</td>\n      <td>57</td>\n      <td>47276.000000</td>\n      <td>567312.000000</td>\n      <td>Autres</td>\n      <td>50 à 59 ans</td>\n      <td>110 days</td>\n    </tr>\n    <tr>\n      <th>42744</th>\n      <td>1111217829952GDPUB</td>\n      <td>1.8</td>\n      <td>89164</td>\n      <td>2017-12-03</td>\n      <td>2018-02-12</td>\n      <td>33</td>\n      <td>Marié (e)</td>\n      <td>T3</td>\n      <td>Logement trop cher</td>\n      <td>71</td>\n      <td>49535.555556</td>\n      <td>594426.666667</td>\n      <td>Autres</td>\n      <td>30 à 39 ans</td>\n      <td>71 days</td>\n    </tr>\n    <tr>\n      <th>42745</th>\n      <td>111111782174292019</td>\n      <td>2.0</td>\n      <td>99276</td>\n      <td>2017-11-23</td>\n      <td>2018-08-07</td>\n      <td>66</td>\n      <td>Marié (e)</td>\n      <td>T4</td>\n      <td>Autre motif particulier (précisez)</td>\n      <td>81</td>\n      <td>49638.000000</td>\n      <td>595656.000000</td>\n      <td>Autres</td>\n      <td>60 à 69 ans</td>\n      <td>257 days</td>\n    </tr>\n    <tr>\n      <th>42746</th>\n      <td>111091647518710129</td>\n      <td>2.0</td>\n      <td>105794</td>\n      <td>2016-09-23</td>\n      <td>2018-05-25</td>\n      <td>61</td>\n      <td>Marié (e)</td>\n      <td>T3</td>\n      <td>Logement trop cher</td>\n      <td>64</td>\n      <td>52897.000000</td>\n      <td>634764.000000</td>\n      <td>Autres</td>\n      <td>60 à 69 ans</td>\n      <td>609 days</td>\n    </tr>\n    <tr>\n      <th>42747</th>\n      <td>111041228887210033</td>\n      <td>2.5</td>\n      <td>150113</td>\n      <td>2012-04-23</td>\n      <td>2018-04-26</td>\n      <td>56</td>\n      <td>Divorcé (e)</td>\n      <td>T4</td>\n      <td>Sans logement ou hébergé ou en logement tempor...</td>\n      <td>77</td>\n      <td>60045.200000</td>\n      <td>720542.400000</td>\n      <td>Autres</td>\n      <td>50 à 59 ans</td>\n      <td>2194 days</td>\n    </tr>\n  </tbody>\n</table>\n<p>42748 rows × 15 columns</p>\n</div>"
     },
     "execution_count": 133,
     "metadata": {},
     "output_type": "execute_result"
    }
   ],
   "source": [
    "timedelta = dfd1['Date de la radiation']-dfd1['Date création demande']\n",
    "dfd1['Temps attente']= timedelta\n",
    "dfd1"
   ],
   "metadata": {
    "collapsed": false,
    "pycharm": {
     "name": "#%%\n"
    }
   }
  },
  {
   "cell_type": "code",
   "execution_count": 134,
   "outputs": [
    {
     "name": "stderr",
     "output_type": "stream",
     "text": [
      "C:\\Users\\arceb\\AppData\\Local\\Temp\\ipykernel_41440\\604223667.py:1: SettingWithCopyWarning: \n",
      "A value is trying to be set on a copy of a slice from a DataFrame.\n",
      "Try using .loc[row_indexer,col_indexer] = value instead\n",
      "\n",
      "See the caveats in the documentation: https://pandas.pydata.org/pandas-docs/stable/user_guide/indexing.html#returning-a-view-versus-a-copy\n",
      "  dfd1['Temps attente'] = dfd1['Temps attente'].values.astype(np.int64)\n"
     ]
    },
    {
     "data": {
      "text/plain": "            Numéro Unique  Nb unités de consommation du foyer  \\\n0      111011885857794043                                 1.8   \n1      111051767234510108                                 1.5   \n2      111091777617075056                                 1.5   \n3      111021758912175056                                 1.0   \n4      111111781080175056                                 1.0   \n...                   ...                                 ...   \n42743  111011885009910129                                 1.5   \n42744  1111217829952GDPUB                                 1.8   \n42745  111111782174292019                                 2.0   \n42746  111091647518710129                                 2.0   \n42747  111041228887210033                                 2.5   \n\n       Ressources mensuelles du foyer Date création demande  \\\n0                                   1            2018-01-15   \n1                                   1            2017-05-15   \n2                                   1            2017-09-29   \n3                                   1            2017-02-08   \n4                                   1            2017-11-10   \n...                               ...                   ...   \n42743                           70914            2018-01-04   \n42744                           89164            2017-12-03   \n42745                           99276            2017-11-23   \n42746                          105794            2016-09-23   \n42747                          150113            2012-04-23   \n\n      Date de la radiation  Age demandeur Situation familiale  \\\n0               2018-06-08             37           Marié (e)   \n1               2018-06-01             54          Séparé (e)   \n2               2018-11-26             32        Concubin (e)   \n3               2018-01-03             28         Célibataire   \n4               2018-04-01             45         Célibataire   \n...                    ...            ...                 ...   \n42743           2018-04-24             54         Célibataire   \n42744           2018-02-12             33           Marié (e)   \n42745           2018-08-07             66           Marié (e)   \n42746           2018-05-25             61           Marié (e)   \n42747           2018-04-26             56         Divorcé (e)   \n\n      Type du logement attribué  \\\n0                            T3   \n1                            T3   \n2                            T2   \n3                            T1   \n4                            T1   \n...                         ...   \n42743                        T3   \n42744                        T3   \n42745                        T4   \n42746                        T3   \n42747                        T4   \n\n                                 motif n°1 de la demande  \\\n0                                    Logement trop petit   \n1                                    Divorce, séparation   \n2      Sans logement ou hébergé ou en logement tempor...   \n3                                    Divorce, séparation   \n4      Sans logement ou hébergé ou en logement tempor...   \n...                                                  ...   \n42743                                 Logement trop cher   \n42744                                 Logement trop cher   \n42745                 Autre motif particulier (précisez)   \n42746                                 Logement trop cher   \n42747  Sans logement ou hébergé ou en logement tempor...   \n\n       Surface du logement attribué  revenu_par_UC  Revenus annuels Catégorie  \\\n0                                64       0.555556         6.666667   Pauvres   \n1                                70       0.666667         8.000000   Pauvres   \n2                                46       0.666667         8.000000   Pauvres   \n3                                27       1.000000        12.000000   Pauvres   \n4                                16       1.000000        12.000000   Pauvres   \n...                             ...            ...              ...       ...   \n42743                            57   47276.000000    567312.000000    Autres   \n42744                            71   49535.555556    594426.666667    Autres   \n42745                            81   49638.000000    595656.000000    Autres   \n42746                            64   52897.000000    634764.000000    Autres   \n42747                            77   60045.200000    720542.400000    Autres   \n\n                   Age       Temps attente  \n0          30 à 39 ans   12441600000000000  \n1          50 à 59 ans   33004800000000000  \n2          30 à 39 ans   36547200000000000  \n3      Moins de 30 ans   28425600000000000  \n4          40 à 49 ans   12268800000000000  \n...                ...                 ...  \n42743      50 à 59 ans    9504000000000000  \n42744      30 à 39 ans    6134400000000000  \n42745      60 à 69 ans   22204800000000000  \n42746      60 à 69 ans   52617600000000000  \n42747      50 à 59 ans  189561600000000000  \n\n[42748 rows x 15 columns]",
      "text/html": "<div>\n<style scoped>\n    .dataframe tbody tr th:only-of-type {\n        vertical-align: middle;\n    }\n\n    .dataframe tbody tr th {\n        vertical-align: top;\n    }\n\n    .dataframe thead th {\n        text-align: right;\n    }\n</style>\n<table border=\"1\" class=\"dataframe\">\n  <thead>\n    <tr style=\"text-align: right;\">\n      <th></th>\n      <th>Numéro Unique</th>\n      <th>Nb unités de consommation du foyer</th>\n      <th>Ressources mensuelles du foyer</th>\n      <th>Date création demande</th>\n      <th>Date de la radiation</th>\n      <th>Age demandeur</th>\n      <th>Situation familiale</th>\n      <th>Type du logement attribué</th>\n      <th>motif n°1 de la demande</th>\n      <th>Surface du logement attribué</th>\n      <th>revenu_par_UC</th>\n      <th>Revenus annuels</th>\n      <th>Catégorie</th>\n      <th>Age</th>\n      <th>Temps attente</th>\n    </tr>\n  </thead>\n  <tbody>\n    <tr>\n      <th>0</th>\n      <td>111011885857794043</td>\n      <td>1.8</td>\n      <td>1</td>\n      <td>2018-01-15</td>\n      <td>2018-06-08</td>\n      <td>37</td>\n      <td>Marié (e)</td>\n      <td>T3</td>\n      <td>Logement trop petit</td>\n      <td>64</td>\n      <td>0.555556</td>\n      <td>6.666667</td>\n      <td>Pauvres</td>\n      <td>30 à 39 ans</td>\n      <td>12441600000000000</td>\n    </tr>\n    <tr>\n      <th>1</th>\n      <td>111051767234510108</td>\n      <td>1.5</td>\n      <td>1</td>\n      <td>2017-05-15</td>\n      <td>2018-06-01</td>\n      <td>54</td>\n      <td>Séparé (e)</td>\n      <td>T3</td>\n      <td>Divorce, séparation</td>\n      <td>70</td>\n      <td>0.666667</td>\n      <td>8.000000</td>\n      <td>Pauvres</td>\n      <td>50 à 59 ans</td>\n      <td>33004800000000000</td>\n    </tr>\n    <tr>\n      <th>2</th>\n      <td>111091777617075056</td>\n      <td>1.5</td>\n      <td>1</td>\n      <td>2017-09-29</td>\n      <td>2018-11-26</td>\n      <td>32</td>\n      <td>Concubin (e)</td>\n      <td>T2</td>\n      <td>Sans logement ou hébergé ou en logement tempor...</td>\n      <td>46</td>\n      <td>0.666667</td>\n      <td>8.000000</td>\n      <td>Pauvres</td>\n      <td>30 à 39 ans</td>\n      <td>36547200000000000</td>\n    </tr>\n    <tr>\n      <th>3</th>\n      <td>111021758912175056</td>\n      <td>1.0</td>\n      <td>1</td>\n      <td>2017-02-08</td>\n      <td>2018-01-03</td>\n      <td>28</td>\n      <td>Célibataire</td>\n      <td>T1</td>\n      <td>Divorce, séparation</td>\n      <td>27</td>\n      <td>1.000000</td>\n      <td>12.000000</td>\n      <td>Pauvres</td>\n      <td>Moins de 30 ans</td>\n      <td>28425600000000000</td>\n    </tr>\n    <tr>\n      <th>4</th>\n      <td>111111781080175056</td>\n      <td>1.0</td>\n      <td>1</td>\n      <td>2017-11-10</td>\n      <td>2018-04-01</td>\n      <td>45</td>\n      <td>Célibataire</td>\n      <td>T1</td>\n      <td>Sans logement ou hébergé ou en logement tempor...</td>\n      <td>16</td>\n      <td>1.000000</td>\n      <td>12.000000</td>\n      <td>Pauvres</td>\n      <td>40 à 49 ans</td>\n      <td>12268800000000000</td>\n    </tr>\n    <tr>\n      <th>...</th>\n      <td>...</td>\n      <td>...</td>\n      <td>...</td>\n      <td>...</td>\n      <td>...</td>\n      <td>...</td>\n      <td>...</td>\n      <td>...</td>\n      <td>...</td>\n      <td>...</td>\n      <td>...</td>\n      <td>...</td>\n      <td>...</td>\n      <td>...</td>\n      <td>...</td>\n    </tr>\n    <tr>\n      <th>42743</th>\n      <td>111011885009910129</td>\n      <td>1.5</td>\n      <td>70914</td>\n      <td>2018-01-04</td>\n      <td>2018-04-24</td>\n      <td>54</td>\n      <td>Célibataire</td>\n      <td>T3</td>\n      <td>Logement trop cher</td>\n      <td>57</td>\n      <td>47276.000000</td>\n      <td>567312.000000</td>\n      <td>Autres</td>\n      <td>50 à 59 ans</td>\n      <td>9504000000000000</td>\n    </tr>\n    <tr>\n      <th>42744</th>\n      <td>1111217829952GDPUB</td>\n      <td>1.8</td>\n      <td>89164</td>\n      <td>2017-12-03</td>\n      <td>2018-02-12</td>\n      <td>33</td>\n      <td>Marié (e)</td>\n      <td>T3</td>\n      <td>Logement trop cher</td>\n      <td>71</td>\n      <td>49535.555556</td>\n      <td>594426.666667</td>\n      <td>Autres</td>\n      <td>30 à 39 ans</td>\n      <td>6134400000000000</td>\n    </tr>\n    <tr>\n      <th>42745</th>\n      <td>111111782174292019</td>\n      <td>2.0</td>\n      <td>99276</td>\n      <td>2017-11-23</td>\n      <td>2018-08-07</td>\n      <td>66</td>\n      <td>Marié (e)</td>\n      <td>T4</td>\n      <td>Autre motif particulier (précisez)</td>\n      <td>81</td>\n      <td>49638.000000</td>\n      <td>595656.000000</td>\n      <td>Autres</td>\n      <td>60 à 69 ans</td>\n      <td>22204800000000000</td>\n    </tr>\n    <tr>\n      <th>42746</th>\n      <td>111091647518710129</td>\n      <td>2.0</td>\n      <td>105794</td>\n      <td>2016-09-23</td>\n      <td>2018-05-25</td>\n      <td>61</td>\n      <td>Marié (e)</td>\n      <td>T3</td>\n      <td>Logement trop cher</td>\n      <td>64</td>\n      <td>52897.000000</td>\n      <td>634764.000000</td>\n      <td>Autres</td>\n      <td>60 à 69 ans</td>\n      <td>52617600000000000</td>\n    </tr>\n    <tr>\n      <th>42747</th>\n      <td>111041228887210033</td>\n      <td>2.5</td>\n      <td>150113</td>\n      <td>2012-04-23</td>\n      <td>2018-04-26</td>\n      <td>56</td>\n      <td>Divorcé (e)</td>\n      <td>T4</td>\n      <td>Sans logement ou hébergé ou en logement tempor...</td>\n      <td>77</td>\n      <td>60045.200000</td>\n      <td>720542.400000</td>\n      <td>Autres</td>\n      <td>50 à 59 ans</td>\n      <td>189561600000000000</td>\n    </tr>\n  </tbody>\n</table>\n<p>42748 rows × 15 columns</p>\n</div>"
     },
     "execution_count": 134,
     "metadata": {},
     "output_type": "execute_result"
    }
   ],
   "source": [
    "dfd1['Temps attente'] = dfd1['Temps attente'].values.astype(np.int64)\n",
    "dfd1"
   ],
   "metadata": {
    "collapsed": false,
    "pycharm": {
     "name": "#%%\n"
    }
   }
  },
  {
   "cell_type": "code",
   "execution_count": 135,
   "outputs": [
    {
     "name": "stderr",
     "output_type": "stream",
     "text": [
      "C:\\Users\\arceb\\AppData\\Local\\Temp\\ipykernel_41440\\69685166.py:1: SettingWithCopyWarning: \n",
      "A value is trying to be set on a copy of a slice from a DataFrame.\n",
      "Try using .loc[row_indexer,col_indexer] = value instead\n",
      "\n",
      "See the caveats in the documentation: https://pandas.pydata.org/pandas-docs/stable/user_guide/indexing.html#returning-a-view-versus-a-copy\n",
      "  dfd1['Temps attente']=(dfd1['Temps attente']//(86400000000000))\n"
     ]
    }
   ],
   "source": [
    "dfd1['Temps attente']=(dfd1['Temps attente']//(86400000000000))"
   ],
   "metadata": {
    "collapsed": false,
    "pycharm": {
     "name": "#%%\n"
    }
   }
  },
  {
   "cell_type": "code",
   "execution_count": 136,
   "outputs": [
    {
     "name": "stderr",
     "output_type": "stream",
     "text": [
      "C:\\Users\\arceb\\AppData\\Local\\Temp\\ipykernel_41440\\1707454635.py:1: SettingWithCopyWarning: \n",
      "A value is trying to be set on a copy of a slice from a DataFrame.\n",
      "Try using .loc[row_indexer,col_indexer] = value instead\n",
      "\n",
      "See the caveats in the documentation: https://pandas.pydata.org/pandas-docs/stable/user_guide/indexing.html#returning-a-view-versus-a-copy\n",
      "  dfd1['Durée effective attente']=pd.cut(dfd1['Temps attente'], [0, 365, 730, 1095, 1460, 1825, 3650, 5000000], labels=['Moins d\\'un an', 'Entre 1 an et 2 ans', 'Entre 2 ans et 3 ans', 'Entre 3 ans et 4 ans', 'Entre 4 ans et 5 ans', 'Entre 5 ans et 10 ans', 'Plus de 10 ans'])\n"
     ]
    }
   ],
   "source": [
    "dfd1['Durée effective attente']=pd.cut(dfd1['Temps attente'], [0, 365, 730, 1095, 1460, 1825, 3650, 5000000], labels=['Moins d\\'un an', 'Entre 1 an et 2 ans', 'Entre 2 ans et 3 ans', 'Entre 3 ans et 4 ans', 'Entre 4 ans et 5 ans', 'Entre 5 ans et 10 ans', 'Plus de 10 ans'])"
   ],
   "metadata": {
    "collapsed": false,
    "pycharm": {
     "name": "#%%\n"
    }
   }
  },
  {
   "cell_type": "code",
   "execution_count": 137,
   "outputs": [
    {
     "data": {
      "text/plain": "            Numéro Unique  Nb unités de consommation du foyer  \\\n0      111011885857794043                                 1.8   \n1      111051767234510108                                 1.5   \n2      111091777617075056                                 1.5   \n3      111021758912175056                                 1.0   \n4      111111781080175056                                 1.0   \n...                   ...                                 ...   \n42743  111011885009910129                                 1.5   \n42744  1111217829952GDPUB                                 1.8   \n42745  111111782174292019                                 2.0   \n42746  111091647518710129                                 2.0   \n42747  111041228887210033                                 2.5   \n\n       Ressources mensuelles du foyer Date création demande  \\\n0                                   1            2018-01-15   \n1                                   1            2017-05-15   \n2                                   1            2017-09-29   \n3                                   1            2017-02-08   \n4                                   1            2017-11-10   \n...                               ...                   ...   \n42743                           70914            2018-01-04   \n42744                           89164            2017-12-03   \n42745                           99276            2017-11-23   \n42746                          105794            2016-09-23   \n42747                          150113            2012-04-23   \n\n      Date de la radiation  Age demandeur Situation familiale  \\\n0               2018-06-08             37           Marié (e)   \n1               2018-06-01             54          Séparé (e)   \n2               2018-11-26             32        Concubin (e)   \n3               2018-01-03             28         Célibataire   \n4               2018-04-01             45         Célibataire   \n...                    ...            ...                 ...   \n42743           2018-04-24             54         Célibataire   \n42744           2018-02-12             33           Marié (e)   \n42745           2018-08-07             66           Marié (e)   \n42746           2018-05-25             61           Marié (e)   \n42747           2018-04-26             56         Divorcé (e)   \n\n      Type du logement attribué  \\\n0                            T3   \n1                            T3   \n2                            T2   \n3                            T1   \n4                            T1   \n...                         ...   \n42743                        T3   \n42744                        T3   \n42745                        T4   \n42746                        T3   \n42747                        T4   \n\n                                 motif n°1 de la demande  \\\n0                                    Logement trop petit   \n1                                    Divorce, séparation   \n2      Sans logement ou hébergé ou en logement tempor...   \n3                                    Divorce, séparation   \n4      Sans logement ou hébergé ou en logement tempor...   \n...                                                  ...   \n42743                                 Logement trop cher   \n42744                                 Logement trop cher   \n42745                 Autre motif particulier (précisez)   \n42746                                 Logement trop cher   \n42747  Sans logement ou hébergé ou en logement tempor...   \n\n       Surface du logement attribué  revenu_par_UC  Revenus annuels Catégorie  \\\n0                                64       0.555556         6.666667   Pauvres   \n1                                70       0.666667         8.000000   Pauvres   \n2                                46       0.666667         8.000000   Pauvres   \n3                                27       1.000000        12.000000   Pauvres   \n4                                16       1.000000        12.000000   Pauvres   \n...                             ...            ...              ...       ...   \n42743                            57   47276.000000    567312.000000    Autres   \n42744                            71   49535.555556    594426.666667    Autres   \n42745                            81   49638.000000    595656.000000    Autres   \n42746                            64   52897.000000    634764.000000    Autres   \n42747                            77   60045.200000    720542.400000    Autres   \n\n                   Age  Temps attente Durée effective attente  \n0          30 à 39 ans            144           Moins d'un an  \n1          50 à 59 ans            382     Entre 1 an et 2 ans  \n2          30 à 39 ans            423     Entre 1 an et 2 ans  \n3      Moins de 30 ans            329           Moins d'un an  \n4          40 à 49 ans            142           Moins d'un an  \n...                ...            ...                     ...  \n42743      50 à 59 ans            110           Moins d'un an  \n42744      30 à 39 ans             71           Moins d'un an  \n42745      60 à 69 ans            257           Moins d'un an  \n42746      60 à 69 ans            609     Entre 1 an et 2 ans  \n42747      50 à 59 ans           2194   Entre 5 ans et 10 ans  \n\n[42748 rows x 16 columns]",
      "text/html": "<div>\n<style scoped>\n    .dataframe tbody tr th:only-of-type {\n        vertical-align: middle;\n    }\n\n    .dataframe tbody tr th {\n        vertical-align: top;\n    }\n\n    .dataframe thead th {\n        text-align: right;\n    }\n</style>\n<table border=\"1\" class=\"dataframe\">\n  <thead>\n    <tr style=\"text-align: right;\">\n      <th></th>\n      <th>Numéro Unique</th>\n      <th>Nb unités de consommation du foyer</th>\n      <th>Ressources mensuelles du foyer</th>\n      <th>Date création demande</th>\n      <th>Date de la radiation</th>\n      <th>Age demandeur</th>\n      <th>Situation familiale</th>\n      <th>Type du logement attribué</th>\n      <th>motif n°1 de la demande</th>\n      <th>Surface du logement attribué</th>\n      <th>revenu_par_UC</th>\n      <th>Revenus annuels</th>\n      <th>Catégorie</th>\n      <th>Age</th>\n      <th>Temps attente</th>\n      <th>Durée effective attente</th>\n    </tr>\n  </thead>\n  <tbody>\n    <tr>\n      <th>0</th>\n      <td>111011885857794043</td>\n      <td>1.8</td>\n      <td>1</td>\n      <td>2018-01-15</td>\n      <td>2018-06-08</td>\n      <td>37</td>\n      <td>Marié (e)</td>\n      <td>T3</td>\n      <td>Logement trop petit</td>\n      <td>64</td>\n      <td>0.555556</td>\n      <td>6.666667</td>\n      <td>Pauvres</td>\n      <td>30 à 39 ans</td>\n      <td>144</td>\n      <td>Moins d'un an</td>\n    </tr>\n    <tr>\n      <th>1</th>\n      <td>111051767234510108</td>\n      <td>1.5</td>\n      <td>1</td>\n      <td>2017-05-15</td>\n      <td>2018-06-01</td>\n      <td>54</td>\n      <td>Séparé (e)</td>\n      <td>T3</td>\n      <td>Divorce, séparation</td>\n      <td>70</td>\n      <td>0.666667</td>\n      <td>8.000000</td>\n      <td>Pauvres</td>\n      <td>50 à 59 ans</td>\n      <td>382</td>\n      <td>Entre 1 an et 2 ans</td>\n    </tr>\n    <tr>\n      <th>2</th>\n      <td>111091777617075056</td>\n      <td>1.5</td>\n      <td>1</td>\n      <td>2017-09-29</td>\n      <td>2018-11-26</td>\n      <td>32</td>\n      <td>Concubin (e)</td>\n      <td>T2</td>\n      <td>Sans logement ou hébergé ou en logement tempor...</td>\n      <td>46</td>\n      <td>0.666667</td>\n      <td>8.000000</td>\n      <td>Pauvres</td>\n      <td>30 à 39 ans</td>\n      <td>423</td>\n      <td>Entre 1 an et 2 ans</td>\n    </tr>\n    <tr>\n      <th>3</th>\n      <td>111021758912175056</td>\n      <td>1.0</td>\n      <td>1</td>\n      <td>2017-02-08</td>\n      <td>2018-01-03</td>\n      <td>28</td>\n      <td>Célibataire</td>\n      <td>T1</td>\n      <td>Divorce, séparation</td>\n      <td>27</td>\n      <td>1.000000</td>\n      <td>12.000000</td>\n      <td>Pauvres</td>\n      <td>Moins de 30 ans</td>\n      <td>329</td>\n      <td>Moins d'un an</td>\n    </tr>\n    <tr>\n      <th>4</th>\n      <td>111111781080175056</td>\n      <td>1.0</td>\n      <td>1</td>\n      <td>2017-11-10</td>\n      <td>2018-04-01</td>\n      <td>45</td>\n      <td>Célibataire</td>\n      <td>T1</td>\n      <td>Sans logement ou hébergé ou en logement tempor...</td>\n      <td>16</td>\n      <td>1.000000</td>\n      <td>12.000000</td>\n      <td>Pauvres</td>\n      <td>40 à 49 ans</td>\n      <td>142</td>\n      <td>Moins d'un an</td>\n    </tr>\n    <tr>\n      <th>...</th>\n      <td>...</td>\n      <td>...</td>\n      <td>...</td>\n      <td>...</td>\n      <td>...</td>\n      <td>...</td>\n      <td>...</td>\n      <td>...</td>\n      <td>...</td>\n      <td>...</td>\n      <td>...</td>\n      <td>...</td>\n      <td>...</td>\n      <td>...</td>\n      <td>...</td>\n      <td>...</td>\n    </tr>\n    <tr>\n      <th>42743</th>\n      <td>111011885009910129</td>\n      <td>1.5</td>\n      <td>70914</td>\n      <td>2018-01-04</td>\n      <td>2018-04-24</td>\n      <td>54</td>\n      <td>Célibataire</td>\n      <td>T3</td>\n      <td>Logement trop cher</td>\n      <td>57</td>\n      <td>47276.000000</td>\n      <td>567312.000000</td>\n      <td>Autres</td>\n      <td>50 à 59 ans</td>\n      <td>110</td>\n      <td>Moins d'un an</td>\n    </tr>\n    <tr>\n      <th>42744</th>\n      <td>1111217829952GDPUB</td>\n      <td>1.8</td>\n      <td>89164</td>\n      <td>2017-12-03</td>\n      <td>2018-02-12</td>\n      <td>33</td>\n      <td>Marié (e)</td>\n      <td>T3</td>\n      <td>Logement trop cher</td>\n      <td>71</td>\n      <td>49535.555556</td>\n      <td>594426.666667</td>\n      <td>Autres</td>\n      <td>30 à 39 ans</td>\n      <td>71</td>\n      <td>Moins d'un an</td>\n    </tr>\n    <tr>\n      <th>42745</th>\n      <td>111111782174292019</td>\n      <td>2.0</td>\n      <td>99276</td>\n      <td>2017-11-23</td>\n      <td>2018-08-07</td>\n      <td>66</td>\n      <td>Marié (e)</td>\n      <td>T4</td>\n      <td>Autre motif particulier (précisez)</td>\n      <td>81</td>\n      <td>49638.000000</td>\n      <td>595656.000000</td>\n      <td>Autres</td>\n      <td>60 à 69 ans</td>\n      <td>257</td>\n      <td>Moins d'un an</td>\n    </tr>\n    <tr>\n      <th>42746</th>\n      <td>111091647518710129</td>\n      <td>2.0</td>\n      <td>105794</td>\n      <td>2016-09-23</td>\n      <td>2018-05-25</td>\n      <td>61</td>\n      <td>Marié (e)</td>\n      <td>T3</td>\n      <td>Logement trop cher</td>\n      <td>64</td>\n      <td>52897.000000</td>\n      <td>634764.000000</td>\n      <td>Autres</td>\n      <td>60 à 69 ans</td>\n      <td>609</td>\n      <td>Entre 1 an et 2 ans</td>\n    </tr>\n    <tr>\n      <th>42747</th>\n      <td>111041228887210033</td>\n      <td>2.5</td>\n      <td>150113</td>\n      <td>2012-04-23</td>\n      <td>2018-04-26</td>\n      <td>56</td>\n      <td>Divorcé (e)</td>\n      <td>T4</td>\n      <td>Sans logement ou hébergé ou en logement tempor...</td>\n      <td>77</td>\n      <td>60045.200000</td>\n      <td>720542.400000</td>\n      <td>Autres</td>\n      <td>50 à 59 ans</td>\n      <td>2194</td>\n      <td>Entre 5 ans et 10 ans</td>\n    </tr>\n  </tbody>\n</table>\n<p>42748 rows × 16 columns</p>\n</div>"
     },
     "execution_count": 137,
     "metadata": {},
     "output_type": "execute_result"
    }
   ],
   "source": [
    "dfd1"
   ],
   "metadata": {
    "collapsed": false,
    "pycharm": {
     "name": "#%%\n"
    }
   }
  },
  {
   "cell_type": "code",
   "execution_count": 138,
   "outputs": [
    {
     "data": {
      "text/plain": "Numéro Unique                         12471\nNb unités de consommation du foyer    12471\nRessources mensuelles du foyer        12471\nDate création demande                 12471\nDate de la radiation                  12471\nAge demandeur                         12471\nSituation familiale                   12471\nType du logement attribué             12471\nmotif n°1 de la demande               12471\nSurface du logement attribué          12471\nrevenu_par_UC                         12471\nRevenus annuels                       12471\nCatégorie                             12471\nAge                                   12471\nTemps attente                         12471\nDurée effective attente               12470\ndtype: int64"
     },
     "execution_count": 138,
     "metadata": {},
     "output_type": "execute_result"
    }
   ],
   "source": [
    "dfd1[dfd1['Catégorie']=='Pauvres'].count()"
   ],
   "metadata": {
    "collapsed": false,
    "pycharm": {
     "name": "#%%\n"
    }
   }
  },
  {
   "cell_type": "code",
   "execution_count": 139,
   "outputs": [
    {
     "data": {
      "text/plain": "Numéro Unique                         30277\nNb unités de consommation du foyer    30277\nRessources mensuelles du foyer        30277\nDate création demande                 30277\nDate de la radiation                  30277\nAge demandeur                         30277\nSituation familiale                   30277\nType du logement attribué             30277\nmotif n°1 de la demande               30277\nSurface du logement attribué          30277\nrevenu_par_UC                         30277\nRevenus annuels                       30277\nCatégorie                             30277\nAge                                   30277\nTemps attente                         30277\nDurée effective attente               30275\ndtype: int64"
     },
     "execution_count": 139,
     "metadata": {},
     "output_type": "execute_result"
    }
   ],
   "source": [
    "dfd1[dfd1['Catégorie']=='Autres'].count()"
   ],
   "metadata": {
    "collapsed": false,
    "pycharm": {
     "name": "#%%\n"
    }
   }
  },
  {
   "cell_type": "code",
   "execution_count": 140,
   "outputs": [
    {
     "name": "stderr",
     "output_type": "stream",
     "text": [
      "C:\\Users\\arceb\\AppData\\Local\\Temp\\ipykernel_41440\\3927255599.py:1: FutureWarning: DataFrame.mean and DataFrame.median with numeric_only=None will include datetime64 and datetime64tz columns in a future version.\n",
      "  dfd1[dfd1['Catégorie']=='Pauvres'].mean()\n",
      "C:\\Users\\arceb\\AppData\\Local\\Temp\\ipykernel_41440\\3927255599.py:1: FutureWarning: Dropping of nuisance columns in DataFrame reductions (with 'numeric_only=None') is deprecated; in a future version this will raise TypeError.  Select only valid columns before calling the reduction.\n",
      "  dfd1[dfd1['Catégorie']=='Pauvres'].mean()\n"
     ]
    },
    {
     "data": {
      "text/plain": "Nb unités de consommation du foyer       1.774581\nRessources mensuelles du foyer        1422.945073\nAge demandeur                           43.868174\nSurface du logement attribué            60.372224\nrevenu_par_UC                          799.400963\nRevenus annuels                       9592.811560\nTemps attente                         1462.614305\ndtype: float64"
     },
     "execution_count": 140,
     "metadata": {},
     "output_type": "execute_result"
    }
   ],
   "source": [
    "dfd1[dfd1['Catégorie']=='Pauvres'].mean()"
   ],
   "metadata": {
    "collapsed": false,
    "pycharm": {
     "name": "#%%\n"
    }
   }
  },
  {
   "cell_type": "code",
   "execution_count": 141,
   "outputs": [
    {
     "name": "stderr",
     "output_type": "stream",
     "text": [
      "C:\\Users\\arceb\\AppData\\Local\\Temp\\ipykernel_41440\\61729145.py:1: FutureWarning: DataFrame.mean and DataFrame.median with numeric_only=None will include datetime64 and datetime64tz columns in a future version.\n",
      "  dfd1[dfd1['Catégorie']=='Autres'].mean()\n",
      "C:\\Users\\arceb\\AppData\\Local\\Temp\\ipykernel_41440\\61729145.py:1: FutureWarning: Dropping of nuisance columns in DataFrame reductions (with 'numeric_only=None') is deprecated; in a future version this will raise TypeError.  Select only valid columns before calling the reduction.\n",
      "  dfd1[dfd1['Catégorie']=='Autres'].mean()\n"
     ]
    },
    {
     "data": {
      "text/plain": "Nb unités de consommation du foyer        1.475747\nRessources mensuelles du foyer         2518.522740\nAge demandeur                            38.699772\nSurface du logement attribué             56.813291\nrevenu_par_UC                          1717.954215\nRevenus annuels                       20615.450581\nTemps attente                          1000.813522\ndtype: float64"
     },
     "execution_count": 141,
     "metadata": {},
     "output_type": "execute_result"
    }
   ],
   "source": [
    "dfd1[dfd1['Catégorie']=='Autres'].mean()"
   ],
   "metadata": {
    "collapsed": false,
    "pycharm": {
     "name": "#%%\n"
    }
   }
  },
  {
   "cell_type": "code",
   "execution_count": 80,
   "outputs": [],
   "source": [
    "attente = dfd1[[\"Catégorie\", \"Durée effective attente\"]]\n",
    "z=attente.pivot_table(index=\"Durée effective attente\", columns=\"Catégorie\",  aggfunc=\"size\", fill_value=0)"
   ],
   "metadata": {
    "collapsed": false,
    "pycharm": {
     "name": "#%%\n"
    }
   }
  },
  {
   "cell_type": "code",
   "execution_count": 81,
   "outputs": [],
   "source": [
    "z.reset_index(inplace=True)"
   ],
   "metadata": {
    "collapsed": false,
    "pycharm": {
     "name": "#%%\n"
    }
   }
  },
  {
   "cell_type": "code",
   "execution_count": 82,
   "outputs": [],
   "source": [
    "z=z.rename(columns={'Catégorie': 'Index'})"
   ],
   "metadata": {
    "collapsed": false,
    "pycharm": {
     "name": "#%%\n"
    }
   }
  },
  {
   "cell_type": "code",
   "execution_count": 83,
   "outputs": [],
   "source": [
    "z['Ensemble']=z['Pauvres']+z['Autres']"
   ],
   "metadata": {
    "collapsed": false,
    "pycharm": {
     "name": "#%%\n"
    }
   }
  },
  {
   "cell_type": "code",
   "execution_count": 84,
   "outputs": [],
   "source": [
    "z['Pauvres']=(z['Pauvres']/12471)*100\n",
    "z['Autres']=(z['Autres']/30277)*100\n",
    "z['Ensemble']=(z['Ensemble']/42748)*100"
   ],
   "metadata": {
    "collapsed": false,
    "pycharm": {
     "name": "#%%\n"
    }
   }
  },
  {
   "cell_type": "code",
   "execution_count": 85,
   "outputs": [
    {
     "data": {
      "text/plain": "Catégorie Durée effective attente    Pauvres     Autres   Ensemble\n0                   Moins d'un an  17.520648  33.031674  28.506597\n1             Entre 1 an et 2 ans  15.740518  20.355385  19.009076\n2            Entre 2 ans et 3 ans  15.515997  13.842190  14.330495\n3            Entre 3 ans et 4 ans  12.701467   9.997688  10.786470\n4            Entre 4 ans et 5 ans  10.175607   6.959078   7.897445\n5           Entre 5 ans et 10 ans  21.401652  12.563992  15.142229\n6                  Plus de 10 ans   6.936092   3.243386   4.320670",
      "text/html": "<div>\n<style scoped>\n    .dataframe tbody tr th:only-of-type {\n        vertical-align: middle;\n    }\n\n    .dataframe tbody tr th {\n        vertical-align: top;\n    }\n\n    .dataframe thead th {\n        text-align: right;\n    }\n</style>\n<table border=\"1\" class=\"dataframe\">\n  <thead>\n    <tr style=\"text-align: right;\">\n      <th>Catégorie</th>\n      <th>Durée effective attente</th>\n      <th>Pauvres</th>\n      <th>Autres</th>\n      <th>Ensemble</th>\n    </tr>\n  </thead>\n  <tbody>\n    <tr>\n      <th>0</th>\n      <td>Moins d'un an</td>\n      <td>17.520648</td>\n      <td>33.031674</td>\n      <td>28.506597</td>\n    </tr>\n    <tr>\n      <th>1</th>\n      <td>Entre 1 an et 2 ans</td>\n      <td>15.740518</td>\n      <td>20.355385</td>\n      <td>19.009076</td>\n    </tr>\n    <tr>\n      <th>2</th>\n      <td>Entre 2 ans et 3 ans</td>\n      <td>15.515997</td>\n      <td>13.842190</td>\n      <td>14.330495</td>\n    </tr>\n    <tr>\n      <th>3</th>\n      <td>Entre 3 ans et 4 ans</td>\n      <td>12.701467</td>\n      <td>9.997688</td>\n      <td>10.786470</td>\n    </tr>\n    <tr>\n      <th>4</th>\n      <td>Entre 4 ans et 5 ans</td>\n      <td>10.175607</td>\n      <td>6.959078</td>\n      <td>7.897445</td>\n    </tr>\n    <tr>\n      <th>5</th>\n      <td>Entre 5 ans et 10 ans</td>\n      <td>21.401652</td>\n      <td>12.563992</td>\n      <td>15.142229</td>\n    </tr>\n    <tr>\n      <th>6</th>\n      <td>Plus de 10 ans</td>\n      <td>6.936092</td>\n      <td>3.243386</td>\n      <td>4.320670</td>\n    </tr>\n  </tbody>\n</table>\n</div>"
     },
     "execution_count": 85,
     "metadata": {},
     "output_type": "execute_result"
    }
   ],
   "source": [
    "z"
   ],
   "metadata": {
    "collapsed": false,
    "pycharm": {
     "name": "#%%\n"
    }
   }
  },
  {
   "cell_type": "code",
   "execution_count": 69,
   "outputs": [],
   "source": [
    "#file_name = 'Répartition temps d\\'attente GP.xlsx'\n",
    "#z.to_excel(file_name)"
   ],
   "metadata": {
    "collapsed": false,
    "pycharm": {
     "name": "#%%\n"
    }
   }
  },
  {
   "cell_type": "markdown",
   "source": [
    "## Graphiques"
   ],
   "metadata": {
    "collapsed": false,
    "pycharm": {
     "name": "#%% md\n"
    }
   }
  },
  {
   "cell_type": "code",
   "execution_count": 142,
   "outputs": [],
   "source": [
    "attente=dfd1[[ \"Catégorie\", \"Temps attente\"]]"
   ],
   "metadata": {
    "collapsed": false,
    "pycharm": {
     "name": "#%%\n"
    }
   }
  },
  {
   "cell_type": "code",
   "execution_count": 143,
   "outputs": [],
   "source": [
    "dfplot = attente.groupby('Catégorie').mean()"
   ],
   "metadata": {
    "collapsed": false,
    "pycharm": {
     "name": "#%%\n"
    }
   }
  },
  {
   "cell_type": "code",
   "execution_count": 144,
   "outputs": [
    {
     "data": {
      "text/plain": "           Temps attente\nCatégorie               \nPauvres      1462.614305\nAutres       1000.813522",
      "text/html": "<div>\n<style scoped>\n    .dataframe tbody tr th:only-of-type {\n        vertical-align: middle;\n    }\n\n    .dataframe tbody tr th {\n        vertical-align: top;\n    }\n\n    .dataframe thead th {\n        text-align: right;\n    }\n</style>\n<table border=\"1\" class=\"dataframe\">\n  <thead>\n    <tr style=\"text-align: right;\">\n      <th></th>\n      <th>Temps attente</th>\n    </tr>\n    <tr>\n      <th>Catégorie</th>\n      <th></th>\n    </tr>\n  </thead>\n  <tbody>\n    <tr>\n      <th>Pauvres</th>\n      <td>1462.614305</td>\n    </tr>\n    <tr>\n      <th>Autres</th>\n      <td>1000.813522</td>\n    </tr>\n  </tbody>\n</table>\n</div>"
     },
     "execution_count": 144,
     "metadata": {},
     "output_type": "execute_result"
    }
   ],
   "source": [
    "dfplot"
   ],
   "metadata": {
    "collapsed": false,
    "pycharm": {
     "name": "#%%\n"
    }
   }
  },
  {
   "cell_type": "code",
   "execution_count": 145,
   "outputs": [],
   "source": [
    "dfplot['Temps attente'] = dfplot['Temps attente'].values.astype(np.int64)"
   ],
   "metadata": {
    "collapsed": false,
    "pycharm": {
     "name": "#%%\n"
    }
   }
  },
  {
   "cell_type": "code",
   "execution_count": 146,
   "outputs": [
    {
     "data": {
      "text/plain": "           Temps attente\nCatégorie               \nPauvres             1462\nAutres              1000",
      "text/html": "<div>\n<style scoped>\n    .dataframe tbody tr th:only-of-type {\n        vertical-align: middle;\n    }\n\n    .dataframe tbody tr th {\n        vertical-align: top;\n    }\n\n    .dataframe thead th {\n        text-align: right;\n    }\n</style>\n<table border=\"1\" class=\"dataframe\">\n  <thead>\n    <tr style=\"text-align: right;\">\n      <th></th>\n      <th>Temps attente</th>\n    </tr>\n    <tr>\n      <th>Catégorie</th>\n      <th></th>\n    </tr>\n  </thead>\n  <tbody>\n    <tr>\n      <th>Pauvres</th>\n      <td>1462</td>\n    </tr>\n    <tr>\n      <th>Autres</th>\n      <td>1000</td>\n    </tr>\n  </tbody>\n</table>\n</div>"
     },
     "execution_count": 146,
     "metadata": {},
     "output_type": "execute_result"
    }
   ],
   "source": [
    "dfplot"
   ],
   "metadata": {
    "collapsed": false,
    "pycharm": {
     "name": "#%%\n"
    }
   }
  },
  {
   "cell_type": "code",
   "execution_count": 147,
   "outputs": [],
   "source": [
    "dfplot['Temps attente']=(dfplot['Temps attente']//(86400000000000)) #attention ici on fait un arrondi, il faut le préciser"
   ],
   "metadata": {
    "collapsed": false,
    "pycharm": {
     "name": "#%%\n"
    }
   }
  },
  {
   "cell_type": "code",
   "execution_count": 148,
   "outputs": [
    {
     "data": {
      "text/plain": "           Temps attente\nCatégorie               \nPauvres                0\nAutres                 0",
      "text/html": "<div>\n<style scoped>\n    .dataframe tbody tr th:only-of-type {\n        vertical-align: middle;\n    }\n\n    .dataframe tbody tr th {\n        vertical-align: top;\n    }\n\n    .dataframe thead th {\n        text-align: right;\n    }\n</style>\n<table border=\"1\" class=\"dataframe\">\n  <thead>\n    <tr style=\"text-align: right;\">\n      <th></th>\n      <th>Temps attente</th>\n    </tr>\n    <tr>\n      <th>Catégorie</th>\n      <th></th>\n    </tr>\n  </thead>\n  <tbody>\n    <tr>\n      <th>Pauvres</th>\n      <td>0</td>\n    </tr>\n    <tr>\n      <th>Autres</th>\n      <td>0</td>\n    </tr>\n  </tbody>\n</table>\n</div>"
     },
     "execution_count": 148,
     "metadata": {},
     "output_type": "execute_result"
    }
   ],
   "source": [
    "dfplot"
   ],
   "metadata": {
    "collapsed": false,
    "pycharm": {
     "name": "#%%\n"
    }
   }
  },
  {
   "cell_type": "code",
   "execution_count": 149,
   "outputs": [
    {
     "ename": "KeyError",
     "evalue": "'Quintile'",
     "output_type": "error",
     "traceback": [
      "\u001B[1;31m---------------------------------------------------------------------------\u001B[0m",
      "\u001B[1;31mKeyError\u001B[0m                                  Traceback (most recent call last)",
      "File \u001B[1;32m~\\AppData\\Local\\Programs\\Python\\Python39\\lib\\site-packages\\pandas\\core\\indexes\\base.py:3621\u001B[0m, in \u001B[0;36mIndex.get_loc\u001B[1;34m(self, key, method, tolerance)\u001B[0m\n\u001B[0;32m   3620\u001B[0m \u001B[38;5;28;01mtry\u001B[39;00m:\n\u001B[1;32m-> 3621\u001B[0m     \u001B[38;5;28;01mreturn\u001B[39;00m \u001B[38;5;28;43mself\u001B[39;49m\u001B[38;5;241;43m.\u001B[39;49m\u001B[43m_engine\u001B[49m\u001B[38;5;241;43m.\u001B[39;49m\u001B[43mget_loc\u001B[49m\u001B[43m(\u001B[49m\u001B[43mcasted_key\u001B[49m\u001B[43m)\u001B[49m\n\u001B[0;32m   3622\u001B[0m \u001B[38;5;28;01mexcept\u001B[39;00m \u001B[38;5;167;01mKeyError\u001B[39;00m \u001B[38;5;28;01mas\u001B[39;00m err:\n",
      "File \u001B[1;32m~\\AppData\\Local\\Programs\\Python\\Python39\\lib\\site-packages\\pandas\\_libs\\index.pyx:136\u001B[0m, in \u001B[0;36mpandas._libs.index.IndexEngine.get_loc\u001B[1;34m()\u001B[0m\n",
      "File \u001B[1;32m~\\AppData\\Local\\Programs\\Python\\Python39\\lib\\site-packages\\pandas\\_libs\\index.pyx:163\u001B[0m, in \u001B[0;36mpandas._libs.index.IndexEngine.get_loc\u001B[1;34m()\u001B[0m\n",
      "File \u001B[1;32mpandas\\_libs\\hashtable_class_helper.pxi:5198\u001B[0m, in \u001B[0;36mpandas._libs.hashtable.PyObjectHashTable.get_item\u001B[1;34m()\u001B[0m\n",
      "File \u001B[1;32mpandas\\_libs\\hashtable_class_helper.pxi:5206\u001B[0m, in \u001B[0;36mpandas._libs.hashtable.PyObjectHashTable.get_item\u001B[1;34m()\u001B[0m\n",
      "\u001B[1;31mKeyError\u001B[0m: 'Quintile'",
      "\nThe above exception was the direct cause of the following exception:\n",
      "\u001B[1;31mKeyError\u001B[0m                                  Traceback (most recent call last)",
      "Input \u001B[1;32mIn [149]\u001B[0m, in \u001B[0;36m<cell line: 3>\u001B[1;34m()\u001B[0m\n\u001B[0;32m      1\u001B[0m dfplot\u001B[38;5;241m.\u001B[39mreset_index(inplace\u001B[38;5;241m=\u001B[39m\u001B[38;5;28;01mTrue\u001B[39;00m)\n\u001B[0;32m      2\u001B[0m fig \u001B[38;5;241m=\u001B[39m plt\u001B[38;5;241m.\u001B[39mfigure(\u001B[38;5;241m1\u001B[39m, figsize\u001B[38;5;241m=\u001B[39m(\u001B[38;5;241m10\u001B[39m, \u001B[38;5;241m6\u001B[39m))\n\u001B[1;32m----> 3\u001B[0m plt\u001B[38;5;241m.\u001B[39mbar(\u001B[43mdfplot\u001B[49m\u001B[43m[\u001B[49m\u001B[38;5;124;43m\"\u001B[39;49m\u001B[38;5;124;43mQuintile\u001B[39;49m\u001B[38;5;124;43m\"\u001B[39;49m\u001B[43m]\u001B[49m, dfplot[\u001B[38;5;124m'\u001B[39m\u001B[38;5;124mTemps attente\u001B[39m\u001B[38;5;124m'\u001B[39m], color\u001B[38;5;241m=\u001B[39m\u001B[38;5;124m\"\u001B[39m\u001B[38;5;124mred\u001B[39m\u001B[38;5;124m\"\u001B[39m)\n\u001B[0;32m      4\u001B[0m plt\u001B[38;5;241m.\u001B[39mxlabel(\u001B[38;5;124m'\u001B[39m\u001B[38;5;124mQuintile de revenus du ménage(selon les revenus annuels par unité de consommation)\u001B[39m\u001B[38;5;124m'\u001B[39m)\n\u001B[0;32m      5\u001B[0m plt\u001B[38;5;241m.\u001B[39mylabel(\u001B[38;5;124m\"\u001B[39m\u001B[38;5;124mTemps d\u001B[39m\u001B[38;5;124m'\u001B[39m\u001B[38;5;124mattente moyen pour obtenir un logement social (en jours)\u001B[39m\u001B[38;5;124m\"\u001B[39m)\n",
      "File \u001B[1;32m~\\AppData\\Local\\Programs\\Python\\Python39\\lib\\site-packages\\pandas\\core\\frame.py:3505\u001B[0m, in \u001B[0;36mDataFrame.__getitem__\u001B[1;34m(self, key)\u001B[0m\n\u001B[0;32m   3503\u001B[0m \u001B[38;5;28;01mif\u001B[39;00m \u001B[38;5;28mself\u001B[39m\u001B[38;5;241m.\u001B[39mcolumns\u001B[38;5;241m.\u001B[39mnlevels \u001B[38;5;241m>\u001B[39m \u001B[38;5;241m1\u001B[39m:\n\u001B[0;32m   3504\u001B[0m     \u001B[38;5;28;01mreturn\u001B[39;00m \u001B[38;5;28mself\u001B[39m\u001B[38;5;241m.\u001B[39m_getitem_multilevel(key)\n\u001B[1;32m-> 3505\u001B[0m indexer \u001B[38;5;241m=\u001B[39m \u001B[38;5;28;43mself\u001B[39;49m\u001B[38;5;241;43m.\u001B[39;49m\u001B[43mcolumns\u001B[49m\u001B[38;5;241;43m.\u001B[39;49m\u001B[43mget_loc\u001B[49m\u001B[43m(\u001B[49m\u001B[43mkey\u001B[49m\u001B[43m)\u001B[49m\n\u001B[0;32m   3506\u001B[0m \u001B[38;5;28;01mif\u001B[39;00m is_integer(indexer):\n\u001B[0;32m   3507\u001B[0m     indexer \u001B[38;5;241m=\u001B[39m [indexer]\n",
      "File \u001B[1;32m~\\AppData\\Local\\Programs\\Python\\Python39\\lib\\site-packages\\pandas\\core\\indexes\\base.py:3623\u001B[0m, in \u001B[0;36mIndex.get_loc\u001B[1;34m(self, key, method, tolerance)\u001B[0m\n\u001B[0;32m   3621\u001B[0m     \u001B[38;5;28;01mreturn\u001B[39;00m \u001B[38;5;28mself\u001B[39m\u001B[38;5;241m.\u001B[39m_engine\u001B[38;5;241m.\u001B[39mget_loc(casted_key)\n\u001B[0;32m   3622\u001B[0m \u001B[38;5;28;01mexcept\u001B[39;00m \u001B[38;5;167;01mKeyError\u001B[39;00m \u001B[38;5;28;01mas\u001B[39;00m err:\n\u001B[1;32m-> 3623\u001B[0m     \u001B[38;5;28;01mraise\u001B[39;00m \u001B[38;5;167;01mKeyError\u001B[39;00m(key) \u001B[38;5;28;01mfrom\u001B[39;00m \u001B[38;5;21;01merr\u001B[39;00m\n\u001B[0;32m   3624\u001B[0m \u001B[38;5;28;01mexcept\u001B[39;00m \u001B[38;5;167;01mTypeError\u001B[39;00m:\n\u001B[0;32m   3625\u001B[0m     \u001B[38;5;66;03m# If we have a listlike key, _check_indexing_error will raise\u001B[39;00m\n\u001B[0;32m   3626\u001B[0m     \u001B[38;5;66;03m#  InvalidIndexError. Otherwise we fall through and re-raise\u001B[39;00m\n\u001B[0;32m   3627\u001B[0m     \u001B[38;5;66;03m#  the TypeError.\u001B[39;00m\n\u001B[0;32m   3628\u001B[0m     \u001B[38;5;28mself\u001B[39m\u001B[38;5;241m.\u001B[39m_check_indexing_error(key)\n",
      "\u001B[1;31mKeyError\u001B[0m: 'Quintile'"
     ]
    },
    {
     "data": {
      "text/plain": "<Figure size 720x432 with 0 Axes>"
     },
     "metadata": {},
     "output_type": "display_data"
    }
   ],
   "source": [
    "dfplot.reset_index(inplace=True)\n",
    "fig = plt.figure(1, figsize=(10, 6))\n",
    "plt.bar(dfplot[\"Quintile\"], dfplot['Temps attente'], color=\"red\")\n",
    "plt.xlabel('Quintile de revenus du ménage(selon les revenus annuels par unité de consommation)')\n",
    "plt.ylabel(\"Temps d'attente moyen pour obtenir un logement social (en jours)\")"
   ],
   "metadata": {
    "collapsed": false,
    "pycharm": {
     "name": "#%%\n"
    }
   }
  },
  {
   "cell_type": "markdown",
   "source": [
    "### En fonction de l'âge"
   ],
   "metadata": {
    "collapsed": false,
    "pycharm": {
     "name": "#%% md\n"
    }
   }
  },
  {
   "cell_type": "code",
   "execution_count": 150,
   "outputs": [],
   "source": [
    "pauvres = dfd1[dfd1['Catégorie']== 'Pauvres']\n",
    "autres = dfd1[dfd1['Catégorie']== 'Autres']"
   ],
   "metadata": {
    "collapsed": false,
    "pycharm": {
     "name": "#%%\n"
    }
   }
  },
  {
   "cell_type": "code",
   "execution_count": 151,
   "outputs": [
    {
     "data": {
      "text/plain": "            Numéro Unique  Nb unités de consommation du foyer  \\\n0      111011885857794043                                 1.8   \n1      111051767234510108                                 1.5   \n2      111091777617075056                                 1.5   \n3      111021758912175056                                 1.0   \n4      111111781080175056                                 1.0   \n...                   ...                                 ...   \n12466  175110822671500002                                 2.1   \n12467  111081485961593B10                                 1.8   \n12468  111071641986693050                                 1.8   \n12469  111051638496710129                                 2.9   \n12470  111041352962075056                                 2.8   \n\n       Ressources mensuelles du foyer Date création demande  \\\n0                                   1            2018-01-15   \n1                                   1            2017-05-15   \n2                                   1            2017-09-29   \n3                                   1            2017-02-08   \n4                                   1            2017-11-10   \n...                               ...                   ...   \n12466                            2233            2008-11-01   \n12467                            1914            2014-08-01   \n12468                            1914            2016-07-12   \n12469                            3084            2016-05-31   \n12470                            2978            2013-04-19   \n\n      Date de la radiation  Age demandeur Situation familiale  \\\n0               2018-06-08             37           Marié (e)   \n1               2018-06-01             54          Séparé (e)   \n2               2018-11-26             32        Concubin (e)   \n3               2018-01-03             28         Célibataire   \n4               2018-04-01             45         Célibataire   \n...                    ...            ...                 ...   \n12466           2018-10-30             33        Concubin (e)   \n12467           2018-08-08             36           Marié (e)   \n12468           2018-09-26             46           Marié (e)   \n12469           2018-05-03             53        Concubin (e)   \n12470           2018-01-29             54           Marié (e)   \n\n      Type du logement attribué  \\\n0                            T3   \n1                            T3   \n2                            T2   \n3                            T1   \n4                            T1   \n...                         ...   \n12466                        T3   \n12467                        T3   \n12468                        T3   \n12469                        T4   \n12470                        T4   \n\n                                 motif n°1 de la demande  \\\n0                                    Logement trop petit   \n1                                    Divorce, séparation   \n2      Sans logement ou hébergé ou en logement tempor...   \n3                                    Divorce, séparation   \n4      Sans logement ou hébergé ou en logement tempor...   \n...                                                  ...   \n12466                                Logement trop petit   \n12467                                Logement trop petit   \n12468                                Logement trop petit   \n12469                                         Démolition   \n12470                                Logement trop petit   \n\n       Surface du logement attribué  revenu_par_UC  Revenus annuels Catégorie  \\\n0                                64       0.555556         6.666667   Pauvres   \n1                                70       0.666667         8.000000   Pauvres   \n2                                46       0.666667         8.000000   Pauvres   \n3                                27       1.000000        12.000000   Pauvres   \n4                                16       1.000000        12.000000   Pauvres   \n...                             ...            ...              ...       ...   \n12466                            58    1063.333333     12760.000000   Pauvres   \n12467                            63    1063.333333     12760.000000   Pauvres   \n12468                            67    1063.333333     12760.000000   Pauvres   \n12469                            89    1063.448276     12761.379310   Pauvres   \n12470                            72    1063.571429     12762.857143   Pauvres   \n\n                   Age  Temps attente Durée effective attente  \n0          30 à 39 ans            144           Moins d'un an  \n1          50 à 59 ans            382     Entre 1 an et 2 ans  \n2          30 à 39 ans            423     Entre 1 an et 2 ans  \n3      Moins de 30 ans            329           Moins d'un an  \n4          40 à 49 ans            142           Moins d'un an  \n...                ...            ...                     ...  \n12466      30 à 39 ans           3650   Entre 5 ans et 10 ans  \n12467      30 à 39 ans           1468    Entre 4 ans et 5 ans  \n12468      40 à 49 ans            806    Entre 2 ans et 3 ans  \n12469      50 à 59 ans            702     Entre 1 an et 2 ans  \n12470      50 à 59 ans           1746    Entre 4 ans et 5 ans  \n\n[12471 rows x 16 columns]",
      "text/html": "<div>\n<style scoped>\n    .dataframe tbody tr th:only-of-type {\n        vertical-align: middle;\n    }\n\n    .dataframe tbody tr th {\n        vertical-align: top;\n    }\n\n    .dataframe thead th {\n        text-align: right;\n    }\n</style>\n<table border=\"1\" class=\"dataframe\">\n  <thead>\n    <tr style=\"text-align: right;\">\n      <th></th>\n      <th>Numéro Unique</th>\n      <th>Nb unités de consommation du foyer</th>\n      <th>Ressources mensuelles du foyer</th>\n      <th>Date création demande</th>\n      <th>Date de la radiation</th>\n      <th>Age demandeur</th>\n      <th>Situation familiale</th>\n      <th>Type du logement attribué</th>\n      <th>motif n°1 de la demande</th>\n      <th>Surface du logement attribué</th>\n      <th>revenu_par_UC</th>\n      <th>Revenus annuels</th>\n      <th>Catégorie</th>\n      <th>Age</th>\n      <th>Temps attente</th>\n      <th>Durée effective attente</th>\n    </tr>\n  </thead>\n  <tbody>\n    <tr>\n      <th>0</th>\n      <td>111011885857794043</td>\n      <td>1.8</td>\n      <td>1</td>\n      <td>2018-01-15</td>\n      <td>2018-06-08</td>\n      <td>37</td>\n      <td>Marié (e)</td>\n      <td>T3</td>\n      <td>Logement trop petit</td>\n      <td>64</td>\n      <td>0.555556</td>\n      <td>6.666667</td>\n      <td>Pauvres</td>\n      <td>30 à 39 ans</td>\n      <td>144</td>\n      <td>Moins d'un an</td>\n    </tr>\n    <tr>\n      <th>1</th>\n      <td>111051767234510108</td>\n      <td>1.5</td>\n      <td>1</td>\n      <td>2017-05-15</td>\n      <td>2018-06-01</td>\n      <td>54</td>\n      <td>Séparé (e)</td>\n      <td>T3</td>\n      <td>Divorce, séparation</td>\n      <td>70</td>\n      <td>0.666667</td>\n      <td>8.000000</td>\n      <td>Pauvres</td>\n      <td>50 à 59 ans</td>\n      <td>382</td>\n      <td>Entre 1 an et 2 ans</td>\n    </tr>\n    <tr>\n      <th>2</th>\n      <td>111091777617075056</td>\n      <td>1.5</td>\n      <td>1</td>\n      <td>2017-09-29</td>\n      <td>2018-11-26</td>\n      <td>32</td>\n      <td>Concubin (e)</td>\n      <td>T2</td>\n      <td>Sans logement ou hébergé ou en logement tempor...</td>\n      <td>46</td>\n      <td>0.666667</td>\n      <td>8.000000</td>\n      <td>Pauvres</td>\n      <td>30 à 39 ans</td>\n      <td>423</td>\n      <td>Entre 1 an et 2 ans</td>\n    </tr>\n    <tr>\n      <th>3</th>\n      <td>111021758912175056</td>\n      <td>1.0</td>\n      <td>1</td>\n      <td>2017-02-08</td>\n      <td>2018-01-03</td>\n      <td>28</td>\n      <td>Célibataire</td>\n      <td>T1</td>\n      <td>Divorce, séparation</td>\n      <td>27</td>\n      <td>1.000000</td>\n      <td>12.000000</td>\n      <td>Pauvres</td>\n      <td>Moins de 30 ans</td>\n      <td>329</td>\n      <td>Moins d'un an</td>\n    </tr>\n    <tr>\n      <th>4</th>\n      <td>111111781080175056</td>\n      <td>1.0</td>\n      <td>1</td>\n      <td>2017-11-10</td>\n      <td>2018-04-01</td>\n      <td>45</td>\n      <td>Célibataire</td>\n      <td>T1</td>\n      <td>Sans logement ou hébergé ou en logement tempor...</td>\n      <td>16</td>\n      <td>1.000000</td>\n      <td>12.000000</td>\n      <td>Pauvres</td>\n      <td>40 à 49 ans</td>\n      <td>142</td>\n      <td>Moins d'un an</td>\n    </tr>\n    <tr>\n      <th>...</th>\n      <td>...</td>\n      <td>...</td>\n      <td>...</td>\n      <td>...</td>\n      <td>...</td>\n      <td>...</td>\n      <td>...</td>\n      <td>...</td>\n      <td>...</td>\n      <td>...</td>\n      <td>...</td>\n      <td>...</td>\n      <td>...</td>\n      <td>...</td>\n      <td>...</td>\n      <td>...</td>\n    </tr>\n    <tr>\n      <th>12466</th>\n      <td>175110822671500002</td>\n      <td>2.1</td>\n      <td>2233</td>\n      <td>2008-11-01</td>\n      <td>2018-10-30</td>\n      <td>33</td>\n      <td>Concubin (e)</td>\n      <td>T3</td>\n      <td>Logement trop petit</td>\n      <td>58</td>\n      <td>1063.333333</td>\n      <td>12760.000000</td>\n      <td>Pauvres</td>\n      <td>30 à 39 ans</td>\n      <td>3650</td>\n      <td>Entre 5 ans et 10 ans</td>\n    </tr>\n    <tr>\n      <th>12467</th>\n      <td>111081485961593B10</td>\n      <td>1.8</td>\n      <td>1914</td>\n      <td>2014-08-01</td>\n      <td>2018-08-08</td>\n      <td>36</td>\n      <td>Marié (e)</td>\n      <td>T3</td>\n      <td>Logement trop petit</td>\n      <td>63</td>\n      <td>1063.333333</td>\n      <td>12760.000000</td>\n      <td>Pauvres</td>\n      <td>30 à 39 ans</td>\n      <td>1468</td>\n      <td>Entre 4 ans et 5 ans</td>\n    </tr>\n    <tr>\n      <th>12468</th>\n      <td>111071641986693050</td>\n      <td>1.8</td>\n      <td>1914</td>\n      <td>2016-07-12</td>\n      <td>2018-09-26</td>\n      <td>46</td>\n      <td>Marié (e)</td>\n      <td>T3</td>\n      <td>Logement trop petit</td>\n      <td>67</td>\n      <td>1063.333333</td>\n      <td>12760.000000</td>\n      <td>Pauvres</td>\n      <td>40 à 49 ans</td>\n      <td>806</td>\n      <td>Entre 2 ans et 3 ans</td>\n    </tr>\n    <tr>\n      <th>12469</th>\n      <td>111051638496710129</td>\n      <td>2.9</td>\n      <td>3084</td>\n      <td>2016-05-31</td>\n      <td>2018-05-03</td>\n      <td>53</td>\n      <td>Concubin (e)</td>\n      <td>T4</td>\n      <td>Démolition</td>\n      <td>89</td>\n      <td>1063.448276</td>\n      <td>12761.379310</td>\n      <td>Pauvres</td>\n      <td>50 à 59 ans</td>\n      <td>702</td>\n      <td>Entre 1 an et 2 ans</td>\n    </tr>\n    <tr>\n      <th>12470</th>\n      <td>111041352962075056</td>\n      <td>2.8</td>\n      <td>2978</td>\n      <td>2013-04-19</td>\n      <td>2018-01-29</td>\n      <td>54</td>\n      <td>Marié (e)</td>\n      <td>T4</td>\n      <td>Logement trop petit</td>\n      <td>72</td>\n      <td>1063.571429</td>\n      <td>12762.857143</td>\n      <td>Pauvres</td>\n      <td>50 à 59 ans</td>\n      <td>1746</td>\n      <td>Entre 4 ans et 5 ans</td>\n    </tr>\n  </tbody>\n</table>\n<p>12471 rows × 16 columns</p>\n</div>"
     },
     "execution_count": 151,
     "metadata": {},
     "output_type": "execute_result"
    }
   ],
   "source": [
    "pauvres"
   ],
   "metadata": {
    "collapsed": false,
    "pycharm": {
     "name": "#%%\n"
    }
   }
  },
  {
   "cell_type": "code",
   "execution_count": 152,
   "outputs": [
    {
     "data": {
      "text/plain": "                 Temps attente\nAge                           \nMoins de 30 ans           1585\n30 à 39 ans               3570\n40 à 49 ans               3571\n50 à 59 ans               2162\n60 à 69 ans               1093\n70 ans et plus             490",
      "text/html": "<div>\n<style scoped>\n    .dataframe tbody tr th:only-of-type {\n        vertical-align: middle;\n    }\n\n    .dataframe tbody tr th {\n        vertical-align: top;\n    }\n\n    .dataframe thead th {\n        text-align: right;\n    }\n</style>\n<table border=\"1\" class=\"dataframe\">\n  <thead>\n    <tr style=\"text-align: right;\">\n      <th></th>\n      <th>Temps attente</th>\n    </tr>\n    <tr>\n      <th>Age</th>\n      <th></th>\n    </tr>\n  </thead>\n  <tbody>\n    <tr>\n      <th>Moins de 30 ans</th>\n      <td>1585</td>\n    </tr>\n    <tr>\n      <th>30 à 39 ans</th>\n      <td>3570</td>\n    </tr>\n    <tr>\n      <th>40 à 49 ans</th>\n      <td>3571</td>\n    </tr>\n    <tr>\n      <th>50 à 59 ans</th>\n      <td>2162</td>\n    </tr>\n    <tr>\n      <th>60 à 69 ans</th>\n      <td>1093</td>\n    </tr>\n    <tr>\n      <th>70 ans et plus</th>\n      <td>490</td>\n    </tr>\n  </tbody>\n</table>\n</div>"
     },
     "execution_count": 152,
     "metadata": {},
     "output_type": "execute_result"
    }
   ],
   "source": [
    "attentep=pauvres[[ \"Age\", \"Temps attente\"]]\n",
    "countp = attentep.groupby('Age').count()\n",
    "countp"
   ],
   "metadata": {
    "collapsed": false,
    "pycharm": {
     "name": "#%%\n"
    }
   }
  },
  {
   "cell_type": "code",
   "execution_count": 153,
   "outputs": [
    {
     "data": {
      "text/plain": "                 Temps attente\nAge                           \nMoins de 30 ans           7658\n30 à 39 ans              10822\n40 à 49 ans               6385\n50 à 59 ans               3321\n60 à 69 ans               1438\n70 ans et plus             653",
      "text/html": "<div>\n<style scoped>\n    .dataframe tbody tr th:only-of-type {\n        vertical-align: middle;\n    }\n\n    .dataframe tbody tr th {\n        vertical-align: top;\n    }\n\n    .dataframe thead th {\n        text-align: right;\n    }\n</style>\n<table border=\"1\" class=\"dataframe\">\n  <thead>\n    <tr style=\"text-align: right;\">\n      <th></th>\n      <th>Temps attente</th>\n    </tr>\n    <tr>\n      <th>Age</th>\n      <th></th>\n    </tr>\n  </thead>\n  <tbody>\n    <tr>\n      <th>Moins de 30 ans</th>\n      <td>7658</td>\n    </tr>\n    <tr>\n      <th>30 à 39 ans</th>\n      <td>10822</td>\n    </tr>\n    <tr>\n      <th>40 à 49 ans</th>\n      <td>6385</td>\n    </tr>\n    <tr>\n      <th>50 à 59 ans</th>\n      <td>3321</td>\n    </tr>\n    <tr>\n      <th>60 à 69 ans</th>\n      <td>1438</td>\n    </tr>\n    <tr>\n      <th>70 ans et plus</th>\n      <td>653</td>\n    </tr>\n  </tbody>\n</table>\n</div>"
     },
     "execution_count": 153,
     "metadata": {},
     "output_type": "execute_result"
    }
   ],
   "source": [
    "attentea=autres[[ \"Age\", \"Temps attente\"]]\n",
    "counta = attentea.groupby('Age').count()\n",
    "counta"
   ],
   "metadata": {
    "collapsed": false,
    "pycharm": {
     "name": "#%%\n"
    }
   }
  },
  {
   "cell_type": "code",
   "execution_count": 154,
   "outputs": [
    {
     "data": {
      "text/plain": "                 Temps attente\nAge                           \nMoins de 30 ans            863\n30 à 39 ans               1269\n40 à 49 ans               1573\n50 à 59 ans               1818\n60 à 69 ans               1859\n70 ans et plus            1541",
      "text/html": "<div>\n<style scoped>\n    .dataframe tbody tr th:only-of-type {\n        vertical-align: middle;\n    }\n\n    .dataframe tbody tr th {\n        vertical-align: top;\n    }\n\n    .dataframe thead th {\n        text-align: right;\n    }\n</style>\n<table border=\"1\" class=\"dataframe\">\n  <thead>\n    <tr style=\"text-align: right;\">\n      <th></th>\n      <th>Temps attente</th>\n    </tr>\n    <tr>\n      <th>Age</th>\n      <th></th>\n    </tr>\n  </thead>\n  <tbody>\n    <tr>\n      <th>Moins de 30 ans</th>\n      <td>863</td>\n    </tr>\n    <tr>\n      <th>30 à 39 ans</th>\n      <td>1269</td>\n    </tr>\n    <tr>\n      <th>40 à 49 ans</th>\n      <td>1573</td>\n    </tr>\n    <tr>\n      <th>50 à 59 ans</th>\n      <td>1818</td>\n    </tr>\n    <tr>\n      <th>60 à 69 ans</th>\n      <td>1859</td>\n    </tr>\n    <tr>\n      <th>70 ans et plus</th>\n      <td>1541</td>\n    </tr>\n  </tbody>\n</table>\n</div>"
     },
     "execution_count": 154,
     "metadata": {},
     "output_type": "execute_result"
    }
   ],
   "source": [
    "attentep=pauvres[[ \"Age\", \"Temps attente\"]]\n",
    "dfplotp = attentep.groupby('Age').mean()\n",
    "dfplotp['Temps attente'] = dfplotp['Temps attente'].values.astype(np.int64)\n",
    "dfplotp"
   ],
   "metadata": {
    "collapsed": false,
    "pycharm": {
     "name": "#%%\n"
    }
   }
  },
  {
   "cell_type": "code",
   "execution_count": 155,
   "outputs": [
    {
     "data": {
      "text/plain": "<Figure size 360x360 with 0 Axes>"
     },
     "metadata": {},
     "output_type": "display_data"
    }
   ],
   "source": [
    "dfplotp.reset_index(inplace=True)\n",
    "fig = plt.figure(1, figsize=(5, 5))"
   ],
   "metadata": {
    "collapsed": false,
    "pycharm": {
     "name": "#%%\n"
    }
   }
  },
  {
   "cell_type": "code",
   "execution_count": 156,
   "outputs": [
    {
     "data": {
      "text/plain": "Text(0, 0.5, 'Age du demandeur')"
     },
     "execution_count": 156,
     "metadata": {},
     "output_type": "execute_result"
    },
    {
     "data": {
      "text/plain": "<Figure size 432x288 with 1 Axes>",
      "image/png": "[encoded data removed]"
     },
     "metadata": {
      "needs_background": "light"
     },
     "output_type": "display_data"
    }
   ],
   "source": [
    "plt.barh(dfplotp[\"Age\"], dfplotp['Temps attente'], color=\"orange\")\n",
    "plt.xlabel(\"Temps attente pour obtenir un logement social (en jours)\")\n",
    "plt.ylabel('Age du demandeur')"
   ],
   "metadata": {
    "collapsed": false,
    "pycharm": {
     "name": "#%%\n"
    }
   }
  },
  {
   "cell_type": "code",
   "execution_count": 157,
   "outputs": [
    {
     "data": {
      "text/plain": "<Figure size 360x360 with 0 Axes>"
     },
     "metadata": {},
     "output_type": "display_data"
    }
   ],
   "source": [
    "attentea=autres[[ \"Age\", \"Temps attente\"]]\n",
    "dfplota = attentea.groupby('Age').mean()\n",
    "dfplota['Temps attente'] = dfplota['Temps attente'].values.astype(np.int64)\n",
    "dfplota.reset_index(inplace=True)\n",
    "fig = plt.figure(1, figsize=(5, 5))"
   ],
   "metadata": {
    "collapsed": false,
    "pycharm": {
     "name": "#%%\n"
    }
   }
  },
  {
   "cell_type": "code",
   "execution_count": 158,
   "outputs": [
    {
     "data": {
      "text/plain": "Text(0, 0.5, 'Age du demandeur')"
     },
     "execution_count": 158,
     "metadata": {},
     "output_type": "execute_result"
    },
    {
     "data": {
      "text/plain": "<Figure size 432x288 with 1 Axes>",
      "image/png": "[encoded data removed]"
     },
     "metadata": {
      "needs_background": "light"
     },
     "output_type": "display_data"
    }
   ],
   "source": [
    "plt.barh(dfplota[\"Age\"], dfplota['Temps attente'], color=\"blue\")\n",
    "plt.xlabel(\"Temps attente pour obtenir un logement social (en jours)\")\n",
    "plt.ylabel('Age du demandeur')"
   ],
   "metadata": {
    "collapsed": false,
    "pycharm": {
     "name": "#%%\n"
    }
   }
  },
  {
   "cell_type": "code",
   "execution_count": 159,
   "outputs": [
    {
     "data": {
      "text/plain": "<matplotlib.legend.Legend at 0x20d14582b50>"
     },
     "execution_count": 159,
     "metadata": {},
     "output_type": "execute_result"
    },
    {
     "data": {
      "text/plain": "<Figure size 720x360 with 1 Axes>",
      "image/png": "[encoded data removed]"
     },
     "metadata": {
      "needs_background": "light"
     },
     "output_type": "display_data"
    }
   ],
   "source": [
    "dfplotp['Key'] = 'Pauvres'\n",
    "dfplota['Key'] = 'Autres'\n",
    "\n",
    "DF = pd.concat([dfplotp,dfplota],keys=['Pauvres','Autres'])\n",
    "\n",
    "DFGroup = DF.groupby(['Age','Key'])\n",
    "\n",
    "DFGPlot = DFGroup.sum().unstack('Key').plot(kind='bar', ylabel='Temps d\\'attente moyen (en jours)', title='Temps moyen attendu pour obtenir un logement social en 2018 selon l\\'âge et le niveau de revenu du demandeur', figsize=(10,5), rot=0)\n",
    "plt.legend(['Autres', 'Pauvres'], loc='upper left')"
   ],
   "metadata": {
    "collapsed": false,
    "pycharm": {
     "name": "#%%\n"
    }
   }
  },
  {
   "cell_type": "code",
   "execution_count": 160,
   "outputs": [],
   "source": [
    "DFGPlot.figure.savefig('Temps d\\'attente_Age.pdf')"
   ],
   "metadata": {
    "collapsed": false,
    "pycharm": {
     "name": "#%%\n"
    }
   }
  },
  {
   "cell_type": "markdown",
   "source": [
    "### En fonction du type de logement attribué"
   ],
   "metadata": {
    "collapsed": false,
    "pycharm": {
     "name": "#%% md\n"
    }
   }
  },
  {
   "cell_type": "code",
   "execution_count": 101,
   "outputs": [],
   "source": [
    "attentep=pauvres[[ \"Type du logement attribué\", \"Temps attente\"]]\n",
    "dfplotp = attentep.groupby('Type du logement attribué').mean()\n",
    "dfplotp['Temps attente'] = dfplotp['Temps attente'].values.astype(np.int64)\n",
    "dfplotp.reset_index(inplace=True)\n",
    "attentea=autres[[ \"Type du logement attribué\", \"Temps attente\"]]\n",
    "dfplota = attentea.groupby('Type du logement attribué').mean()\n",
    "dfplota['Temps attente'] = dfplota['Temps attente'].values.astype(np.int64)\n",
    "dfplota.reset_index(inplace=True)"
   ],
   "metadata": {
    "collapsed": false,
    "pycharm": {
     "name": "#%%\n"
    }
   }
  },
  {
   "cell_type": "code",
   "execution_count": 102,
   "outputs": [
    {
     "data": {
      "text/plain": "                           Temps attente\nType du logement attribué               \nT1                                  1434\nT2                                  2449\nT3                                  4764\nT4                                  2990\nT5                                   759\nT6                                    72\nT7                                     3",
      "text/html": "<div>\n<style scoped>\n    .dataframe tbody tr th:only-of-type {\n        vertical-align: middle;\n    }\n\n    .dataframe tbody tr th {\n        vertical-align: top;\n    }\n\n    .dataframe thead th {\n        text-align: right;\n    }\n</style>\n<table border=\"1\" class=\"dataframe\">\n  <thead>\n    <tr style=\"text-align: right;\">\n      <th></th>\n      <th>Temps attente</th>\n    </tr>\n    <tr>\n      <th>Type du logement attribué</th>\n      <th></th>\n    </tr>\n  </thead>\n  <tbody>\n    <tr>\n      <th>T1</th>\n      <td>1434</td>\n    </tr>\n    <tr>\n      <th>T2</th>\n      <td>2449</td>\n    </tr>\n    <tr>\n      <th>T3</th>\n      <td>4764</td>\n    </tr>\n    <tr>\n      <th>T4</th>\n      <td>2990</td>\n    </tr>\n    <tr>\n      <th>T5</th>\n      <td>759</td>\n    </tr>\n    <tr>\n      <th>T6</th>\n      <td>72</td>\n    </tr>\n    <tr>\n      <th>T7</th>\n      <td>3</td>\n    </tr>\n  </tbody>\n</table>\n</div>"
     },
     "execution_count": 102,
     "metadata": {},
     "output_type": "execute_result"
    }
   ],
   "source": [
    "attentep=pauvres[[ \"Type du logement attribué\", \"Temps attente\"]]\n",
    "countp = attentep.groupby('Type du logement attribué').count()\n",
    "countp"
   ],
   "metadata": {
    "collapsed": false,
    "pycharm": {
     "name": "#%%\n"
    }
   }
  },
  {
   "cell_type": "code",
   "execution_count": 103,
   "outputs": [
    {
     "data": {
      "text/plain": "                           Temps attente\nType du logement attribué               \nT1                                  3977\nT2                                 10732\nT3                                 10188\nT4                                  4310\nT5                                   990\nT6                                    74\nT7                                     5\nT8                                     1",
      "text/html": "<div>\n<style scoped>\n    .dataframe tbody tr th:only-of-type {\n        vertical-align: middle;\n    }\n\n    .dataframe tbody tr th {\n        vertical-align: top;\n    }\n\n    .dataframe thead th {\n        text-align: right;\n    }\n</style>\n<table border=\"1\" class=\"dataframe\">\n  <thead>\n    <tr style=\"text-align: right;\">\n      <th></th>\n      <th>Temps attente</th>\n    </tr>\n    <tr>\n      <th>Type du logement attribué</th>\n      <th></th>\n    </tr>\n  </thead>\n  <tbody>\n    <tr>\n      <th>T1</th>\n      <td>3977</td>\n    </tr>\n    <tr>\n      <th>T2</th>\n      <td>10732</td>\n    </tr>\n    <tr>\n      <th>T3</th>\n      <td>10188</td>\n    </tr>\n    <tr>\n      <th>T4</th>\n      <td>4310</td>\n    </tr>\n    <tr>\n      <th>T5</th>\n      <td>990</td>\n    </tr>\n    <tr>\n      <th>T6</th>\n      <td>74</td>\n    </tr>\n    <tr>\n      <th>T7</th>\n      <td>5</td>\n    </tr>\n    <tr>\n      <th>T8</th>\n      <td>1</td>\n    </tr>\n  </tbody>\n</table>\n</div>"
     },
     "execution_count": 103,
     "metadata": {},
     "output_type": "execute_result"
    }
   ],
   "source": [
    "attentea=autres[[ \"Type du logement attribué\", \"Temps attente\"]]\n",
    "counta = attentea.groupby('Type du logement attribué').count()\n",
    "counta"
   ],
   "metadata": {
    "collapsed": false,
    "pycharm": {
     "name": "#%%\n"
    }
   }
  },
  {
   "cell_type": "code",
   "execution_count": 104,
   "outputs": [
    {
     "data": {
      "text/plain": "<matplotlib.legend.Legend at 0x20d14307f10>"
     },
     "execution_count": 104,
     "metadata": {},
     "output_type": "execute_result"
    },
    {
     "data": {
      "text/plain": "<Figure size 1008x360 with 1 Axes>",
      "image/png": "[encoded data removed]"
     },
     "metadata": {
      "needs_background": "light"
     },
     "output_type": "display_data"
    }
   ],
   "source": [
    "dfplotp['Key'] = 'Pauvres'\n",
    "dfplota['Key'] = 'Autres'\n",
    "\n",
    "DF = pd.concat([dfplotp,dfplota],keys=['Pauvres','Autres'])\n",
    "\n",
    "DFGroup = DF.groupby(['Type du logement attribué','Key'])\n",
    "\n",
    "DFGPlot = DFGroup.sum().unstack('Key').plot(kind='bar', ylabel='Temps d\\'attente moyen (en jours)', title='Temps moyen attendu pour obtenir un logement social en 2018 selon le type de logement attribué et le niveau de revenu du demandeur', figsize=(14,5), rot=0)\n",
    "plt.legend(['Autres', 'Pauvres'], loc='upper left')"
   ],
   "metadata": {
    "collapsed": false,
    "pycharm": {
     "name": "#%%\n"
    }
   }
  },
  {
   "cell_type": "code",
   "execution_count": 45,
   "outputs": [],
   "source": [
    "DFGPlot.figure.savefig('Temps d\\'attente_Type logement attribué.pdf')"
   ],
   "metadata": {
    "collapsed": false,
    "pycharm": {
     "name": "#%%\n"
    }
   }
  },
  {
   "cell_type": "markdown",
   "source": [
    "### En fonction du motif n°1 ayant motivé la demande"
   ],
   "metadata": {
    "collapsed": false,
    "pycharm": {
     "name": "#%% md\n"
    }
   }
  },
  {
   "cell_type": "code",
   "execution_count": 105,
   "outputs": [],
   "source": [
    "attentep=pauvres[[ \"motif n°1 de la demande\", \"Temps attente\"]]\n",
    "dfplotp = attentep.groupby('motif n°1 de la demande').mean()\n",
    "dfplotp['Temps attente'] = dfplotp['Temps attente'].values.astype(np.int64)\n",
    "dfplotp.reset_index(inplace=True)\n",
    "attentea=autres[[ \"motif n°1 de la demande\", \"Temps attente\"]]\n",
    "dfplota = attentea.groupby('motif n°1 de la demande').mean()\n",
    "dfplota['Temps attente'] = dfplota['Temps attente'].values.astype(np.int64)\n",
    "dfplota.reset_index(inplace=True)"
   ],
   "metadata": {
    "collapsed": false,
    "pycharm": {
     "name": "#%%\n"
    }
   }
  },
  {
   "cell_type": "code",
   "execution_count": 106,
   "outputs": [
    {
     "data": {
      "text/plain": "                                                    Temps attente\nmotif n°1 de la demande                                          \nAccédant à la propriété en difficulté                          31\nAssistant(e) maternel(le) ou familiale                         37\nAutre motif particulier (précisez)                            844\nDivorce, séparation                                          1281\nDécohabitation                                               1152\nDémolition                                                    761\nEn procédure d'expulsion                                      309\nFutur mariage, concubinage, PACS                              684\nHandicap                                                      549\nLogement insalubre ou dangereux ou local improp...             10\nLogement non décent (ne répondant pas aux carac...            191\nLogement non décent, insalubre ou dangereux ou ...            603\nLogement repris ou mis en vente par son proprié...            926\nLogement trop cher                                           2523\nLogement trop grand                                           300\nLogement trop petit                                          7128\nMobilité professionnelle                                      114\nMutation professionnelle                                      552\nProblèmes d'environnement ou de voisinage                     764\nProfession du demandeur ou de son conjoint : as...             13\nRaisons de santé                                              699\nRapprochement de la famille                                   145\nRapprochement des équipements et services                      48\nRapprochement du lieu de travail                             1217\nRegroupement familial                                         139\nRenouvellement urbain                                           1\nSans logement ou hébergé ou en logement temporaire           8973\nViolences familiales                                          283",
      "text/html": "<div>\n<style scoped>\n    .dataframe tbody tr th:only-of-type {\n        vertical-align: middle;\n    }\n\n    .dataframe tbody tr th {\n        vertical-align: top;\n    }\n\n    .dataframe thead th {\n        text-align: right;\n    }\n</style>\n<table border=\"1\" class=\"dataframe\">\n  <thead>\n    <tr style=\"text-align: right;\">\n      <th></th>\n      <th>Temps attente</th>\n    </tr>\n    <tr>\n      <th>motif n°1 de la demande</th>\n      <th></th>\n    </tr>\n  </thead>\n  <tbody>\n    <tr>\n      <th>Accédant à la propriété en difficulté</th>\n      <td>31</td>\n    </tr>\n    <tr>\n      <th>Assistant(e) maternel(le) ou familiale</th>\n      <td>37</td>\n    </tr>\n    <tr>\n      <th>Autre motif particulier (précisez)</th>\n      <td>844</td>\n    </tr>\n    <tr>\n      <th>Divorce, séparation</th>\n      <td>1281</td>\n    </tr>\n    <tr>\n      <th>Décohabitation</th>\n      <td>1152</td>\n    </tr>\n    <tr>\n      <th>Démolition</th>\n      <td>761</td>\n    </tr>\n    <tr>\n      <th>En procédure d'expulsion</th>\n      <td>309</td>\n    </tr>\n    <tr>\n      <th>Futur mariage, concubinage, PACS</th>\n      <td>684</td>\n    </tr>\n    <tr>\n      <th>Handicap</th>\n      <td>549</td>\n    </tr>\n    <tr>\n      <th>Logement insalubre ou dangereux ou local impropre à l'habitation (cave, sous-sol, garage, combles, cabane)</th>\n      <td>10</td>\n    </tr>\n    <tr>\n      <th>Logement non décent (ne répondant pas aux caractéristiques fixées par le décret n° 2002-120 du 30 janvier 2002)</th>\n      <td>191</td>\n    </tr>\n    <tr>\n      <th>Logement non décent, insalubre ou dangereux ou local impropre à l'habitation (cave, sous-sol, garage, combles, cabane)</th>\n      <td>603</td>\n    </tr>\n    <tr>\n      <th>Logement repris ou mis en vente par son propriétaire</th>\n      <td>926</td>\n    </tr>\n    <tr>\n      <th>Logement trop cher</th>\n      <td>2523</td>\n    </tr>\n    <tr>\n      <th>Logement trop grand</th>\n      <td>300</td>\n    </tr>\n    <tr>\n      <th>Logement trop petit</th>\n      <td>7128</td>\n    </tr>\n    <tr>\n      <th>Mobilité professionnelle</th>\n      <td>114</td>\n    </tr>\n    <tr>\n      <th>Mutation professionnelle</th>\n      <td>552</td>\n    </tr>\n    <tr>\n      <th>Problèmes d'environnement ou de voisinage</th>\n      <td>764</td>\n    </tr>\n    <tr>\n      <th>Profession du demandeur ou de son conjoint : assistant(e) maternel(le) ou familiale</th>\n      <td>13</td>\n    </tr>\n    <tr>\n      <th>Raisons de santé</th>\n      <td>699</td>\n    </tr>\n    <tr>\n      <th>Rapprochement de la famille</th>\n      <td>145</td>\n    </tr>\n    <tr>\n      <th>Rapprochement des équipements et services</th>\n      <td>48</td>\n    </tr>\n    <tr>\n      <th>Rapprochement du lieu de travail</th>\n      <td>1217</td>\n    </tr>\n    <tr>\n      <th>Regroupement familial</th>\n      <td>139</td>\n    </tr>\n    <tr>\n      <th>Renouvellement urbain</th>\n      <td>1</td>\n    </tr>\n    <tr>\n      <th>Sans logement ou hébergé ou en logement temporaire</th>\n      <td>8973</td>\n    </tr>\n    <tr>\n      <th>Violences familiales</th>\n      <td>283</td>\n    </tr>\n  </tbody>\n</table>\n</div>"
     },
     "execution_count": 106,
     "metadata": {},
     "output_type": "execute_result"
    }
   ],
   "source": [
    "attentea=autres[[ \"motif n°1 de la demande\", \"Temps attente\"]]\n",
    "counta = attentea.groupby('motif n°1 de la demande').count()\n",
    "counta"
   ],
   "metadata": {
    "collapsed": false,
    "pycharm": {
     "name": "#%%\n"
    }
   }
  },
  {
   "cell_type": "code",
   "execution_count": 107,
   "outputs": [
    {
     "data": {
      "text/plain": "                                                    Temps attente\nmotif n°1 de la demande                                          \nAccédant à la propriété en difficulté                          10\nAssistant(e) maternel(le) ou familiale                         12\nAutre motif particulier (précisez)                            291\nDivorce, séparation                                           358\nDécohabitation                                                296\nDémolition                                                    617\nEn procédure d'expulsion                                      251\nFutur mariage, concubinage, PACS                               58\nHandicap                                                      376\nLogement insalubre ou dangereux ou local improp...              2\nLogement non décent (ne répondant pas aux carac...            127\nLogement non décent, insalubre ou dangereux ou ...            404\nLogement repris ou mis en vente par son proprié...            344\nLogement trop cher                                            999\nLogement trop grand                                           129\nLogement trop petit                                          3021\nMobilité professionnelle                                       12\nMutation professionnelle                                       36\nProblèmes d'environnement ou de voisinage                     218\nProfession du demandeur ou de son conjoint : as...              4\nRaisons de santé                                              478\nRapprochement de la famille                                    64\nRapprochement des équipements et services                      21\nRapprochement du lieu de travail                              141\nRegroupement familial                                          47\nRenouvellement urbain                                           2\nSans logement ou hébergé ou en logement temporaire           3982\nViolences familiales                                          171",
      "text/html": "<div>\n<style scoped>\n    .dataframe tbody tr th:only-of-type {\n        vertical-align: middle;\n    }\n\n    .dataframe tbody tr th {\n        vertical-align: top;\n    }\n\n    .dataframe thead th {\n        text-align: right;\n    }\n</style>\n<table border=\"1\" class=\"dataframe\">\n  <thead>\n    <tr style=\"text-align: right;\">\n      <th></th>\n      <th>Temps attente</th>\n    </tr>\n    <tr>\n      <th>motif n°1 de la demande</th>\n      <th></th>\n    </tr>\n  </thead>\n  <tbody>\n    <tr>\n      <th>Accédant à la propriété en difficulté</th>\n      <td>10</td>\n    </tr>\n    <tr>\n      <th>Assistant(e) maternel(le) ou familiale</th>\n      <td>12</td>\n    </tr>\n    <tr>\n      <th>Autre motif particulier (précisez)</th>\n      <td>291</td>\n    </tr>\n    <tr>\n      <th>Divorce, séparation</th>\n      <td>358</td>\n    </tr>\n    <tr>\n      <th>Décohabitation</th>\n      <td>296</td>\n    </tr>\n    <tr>\n      <th>Démolition</th>\n      <td>617</td>\n    </tr>\n    <tr>\n      <th>En procédure d'expulsion</th>\n      <td>251</td>\n    </tr>\n    <tr>\n      <th>Futur mariage, concubinage, PACS</th>\n      <td>58</td>\n    </tr>\n    <tr>\n      <th>Handicap</th>\n      <td>376</td>\n    </tr>\n    <tr>\n      <th>Logement insalubre ou dangereux ou local impropre à l'habitation (cave, sous-sol, garage, combles, cabane)</th>\n      <td>2</td>\n    </tr>\n    <tr>\n      <th>Logement non décent (ne répondant pas aux caractéristiques fixées par le décret n° 2002-120 du 30 janvier 2002)</th>\n      <td>127</td>\n    </tr>\n    <tr>\n      <th>Logement non décent, insalubre ou dangereux ou local impropre à l'habitation (cave, sous-sol, garage, combles, cabane)</th>\n      <td>404</td>\n    </tr>\n    <tr>\n      <th>Logement repris ou mis en vente par son propriétaire</th>\n      <td>344</td>\n    </tr>\n    <tr>\n      <th>Logement trop cher</th>\n      <td>999</td>\n    </tr>\n    <tr>\n      <th>Logement trop grand</th>\n      <td>129</td>\n    </tr>\n    <tr>\n      <th>Logement trop petit</th>\n      <td>3021</td>\n    </tr>\n    <tr>\n      <th>Mobilité professionnelle</th>\n      <td>12</td>\n    </tr>\n    <tr>\n      <th>Mutation professionnelle</th>\n      <td>36</td>\n    </tr>\n    <tr>\n      <th>Problèmes d'environnement ou de voisinage</th>\n      <td>218</td>\n    </tr>\n    <tr>\n      <th>Profession du demandeur ou de son conjoint : assistant(e) maternel(le) ou familiale</th>\n      <td>4</td>\n    </tr>\n    <tr>\n      <th>Raisons de santé</th>\n      <td>478</td>\n    </tr>\n    <tr>\n      <th>Rapprochement de la famille</th>\n      <td>64</td>\n    </tr>\n    <tr>\n      <th>Rapprochement des équipements et services</th>\n      <td>21</td>\n    </tr>\n    <tr>\n      <th>Rapprochement du lieu de travail</th>\n      <td>141</td>\n    </tr>\n    <tr>\n      <th>Regroupement familial</th>\n      <td>47</td>\n    </tr>\n    <tr>\n      <th>Renouvellement urbain</th>\n      <td>2</td>\n    </tr>\n    <tr>\n      <th>Sans logement ou hébergé ou en logement temporaire</th>\n      <td>3982</td>\n    </tr>\n    <tr>\n      <th>Violences familiales</th>\n      <td>171</td>\n    </tr>\n  </tbody>\n</table>\n</div>"
     },
     "execution_count": 107,
     "metadata": {},
     "output_type": "execute_result"
    }
   ],
   "source": [
    "attentep=pauvres[[ \"motif n°1 de la demande\", \"Temps attente\"]]\n",
    "countp = attentep.groupby('motif n°1 de la demande').count()\n",
    "countp"
   ],
   "metadata": {
    "collapsed": false,
    "pycharm": {
     "name": "#%%\n"
    }
   }
  },
  {
   "cell_type": "code",
   "execution_count": 115,
   "outputs": [
    {
     "data": {
      "text/plain": "<Figure size 1440x864 with 1 Axes>",
      "image/png": "[encoded data removed]"
     },
     "metadata": {
      "needs_background": "light"
     },
     "output_type": "display_data"
    }
   ],
   "source": [
    "dfplotp['Key'] = 'Pauvres'\n",
    "dfplota['Key'] = 'Autres'\n",
    "\n",
    "DF = pd.concat([dfplotp,dfplota],keys=['Pauvres','Autres'])\n",
    "\n",
    "DFGroup = DF.groupby(['motif n°1 de la demande','Key'])\n",
    "\n",
    "DFGPlot = DFGroup.sum().unstack('Key').plot(kind='barh', ylabel='Temps d\\'attente moyen (en jours)', title='Temps moyen attendu pour obtenir un logement social en 2018 \\n selon le premier motif indiqué ayant motivé la demande et le niveau de revenu du demandeur', figsize=(20,12))\n",
    "plt.legend(['Autres', 'Pauvres'], loc='upper right')\n",
    "DFGPlot.grid(True)"
   ],
   "metadata": {
    "collapsed": false,
    "pycharm": {
     "name": "#%%\n"
    }
   }
  },
  {
   "cell_type": "code",
   "execution_count": 120,
   "outputs": [],
   "source": [
    "DFGPlot.figure.savefig('Temps d\\'attente_Motif.pdf', bbox_inches='tight')"
   ],
   "metadata": {
    "collapsed": false,
    "pycharm": {
     "name": "#%%\n"
    }
   }
  },
  {
   "cell_type": "markdown",
   "source": [
    "### En fonction de la surface du logement attribué"
   ],
   "metadata": {
    "collapsed": false,
    "pycharm": {
     "name": "#%% md\n"
    }
   }
  },
  {
   "cell_type": "code",
   "execution_count": 109,
   "outputs": [
    {
     "name": "stderr",
     "output_type": "stream",
     "text": [
      "C:\\Users\\arceb\\AppData\\Local\\Temp\\ipykernel_41440\\3274573602.py:1: SettingWithCopyWarning: \n",
      "A value is trying to be set on a copy of a slice from a DataFrame.\n",
      "Try using .loc[row_indexer,col_indexer] = value instead\n",
      "\n",
      "See the caveats in the documentation: https://pandas.pydata.org/pandas-docs/stable/user_guide/indexing.html#returning-a-view-versus-a-copy\n",
      "  dfd1['Surface']=pd.cut(dfd1['Surface du logement attribué'], [0, 30, 50, 70, 90, 110, 5000000], labels=['Moins de 30m2', 'Entre 30 et 50m2', 'Entre 50 et 70m2', 'Entre 70 et 90m2', 'Entre 90 et 110m2', 'Plus de 110m2'])\n"
     ]
    }
   ],
   "source": [
    "dfd1['Surface']=pd.cut(dfd1['Surface du logement attribué'], [0, 30, 50, 70, 90, 110, 5000000], labels=['Moins de 30m2', 'Entre 30 et 50m2', 'Entre 50 et 70m2', 'Entre 70 et 90m2', 'Entre 90 et 110m2', 'Plus de 110m2'])"
   ],
   "metadata": {
    "collapsed": false,
    "pycharm": {
     "name": "#%%\n"
    }
   }
  },
  {
   "cell_type": "code",
   "execution_count": 110,
   "outputs": [],
   "source": [
    "pauvres = dfd1[dfd1['Catégorie']== 'Pauvres']\n",
    "autres = dfd1[dfd1['Catégorie']== 'Autres']\n",
    "attentep=pauvres[[ \"Surface\", \"Temps attente\"]]\n",
    "dfplotp = attentep.groupby('Surface').mean()\n",
    "dfplotp['Temps attente'] = dfplotp['Temps attente'].values.astype(np.int64)\n",
    "dfplotp.reset_index(inplace=True)\n",
    "attentea=autres[[ \"Surface\", \"Temps attente\"]]\n",
    "dfplota = attentea.groupby('Surface').mean()\n",
    "dfplota['Temps attente'] = dfplota['Temps attente'].values.astype(np.int64)\n",
    "dfplota.reset_index(inplace=True)"
   ],
   "metadata": {
    "collapsed": false,
    "pycharm": {
     "name": "#%%\n"
    }
   }
  },
  {
   "cell_type": "code",
   "execution_count": 111,
   "outputs": [
    {
     "data": {
      "text/plain": "                   Temps attente\nSurface                         \nMoins de 30m2               1963\nEntre 30 et 50m2           10310\nEntre 50 et 70m2           11951\nEntre 70 et 90m2            4867\nEntre 90 et 110m2           1020\nPlus de 110m2                165",
      "text/html": "<div>\n<style scoped>\n    .dataframe tbody tr th:only-of-type {\n        vertical-align: middle;\n    }\n\n    .dataframe tbody tr th {\n        vertical-align: top;\n    }\n\n    .dataframe thead th {\n        text-align: right;\n    }\n</style>\n<table border=\"1\" class=\"dataframe\">\n  <thead>\n    <tr style=\"text-align: right;\">\n      <th></th>\n      <th>Temps attente</th>\n    </tr>\n    <tr>\n      <th>Surface</th>\n      <th></th>\n    </tr>\n  </thead>\n  <tbody>\n    <tr>\n      <th>Moins de 30m2</th>\n      <td>1963</td>\n    </tr>\n    <tr>\n      <th>Entre 30 et 50m2</th>\n      <td>10310</td>\n    </tr>\n    <tr>\n      <th>Entre 50 et 70m2</th>\n      <td>11951</td>\n    </tr>\n    <tr>\n      <th>Entre 70 et 90m2</th>\n      <td>4867</td>\n    </tr>\n    <tr>\n      <th>Entre 90 et 110m2</th>\n      <td>1020</td>\n    </tr>\n    <tr>\n      <th>Plus de 110m2</th>\n      <td>165</td>\n    </tr>\n  </tbody>\n</table>\n</div>"
     },
     "execution_count": 111,
     "metadata": {},
     "output_type": "execute_result"
    }
   ],
   "source": [
    "attentea=autres[[ \"Surface\", \"Temps attente\"]]\n",
    "counta = attentea.groupby('Surface').count()\n",
    "counta"
   ],
   "metadata": {
    "collapsed": false,
    "pycharm": {
     "name": "#%%\n"
    }
   }
  },
  {
   "cell_type": "code",
   "execution_count": 112,
   "outputs": [
    {
     "data": {
      "text/plain": "                   Temps attente\nSurface                         \nMoins de 30m2                882\nEntre 30 et 50m2            2873\nEntre 50 et 70m2            5144\nEntre 70 et 90m2            2875\nEntre 90 et 110m2            598\nPlus de 110m2                 97",
      "text/html": "<div>\n<style scoped>\n    .dataframe tbody tr th:only-of-type {\n        vertical-align: middle;\n    }\n\n    .dataframe tbody tr th {\n        vertical-align: top;\n    }\n\n    .dataframe thead th {\n        text-align: right;\n    }\n</style>\n<table border=\"1\" class=\"dataframe\">\n  <thead>\n    <tr style=\"text-align: right;\">\n      <th></th>\n      <th>Temps attente</th>\n    </tr>\n    <tr>\n      <th>Surface</th>\n      <th></th>\n    </tr>\n  </thead>\n  <tbody>\n    <tr>\n      <th>Moins de 30m2</th>\n      <td>882</td>\n    </tr>\n    <tr>\n      <th>Entre 30 et 50m2</th>\n      <td>2873</td>\n    </tr>\n    <tr>\n      <th>Entre 50 et 70m2</th>\n      <td>5144</td>\n    </tr>\n    <tr>\n      <th>Entre 70 et 90m2</th>\n      <td>2875</td>\n    </tr>\n    <tr>\n      <th>Entre 90 et 110m2</th>\n      <td>598</td>\n    </tr>\n    <tr>\n      <th>Plus de 110m2</th>\n      <td>97</td>\n    </tr>\n  </tbody>\n</table>\n</div>"
     },
     "execution_count": 112,
     "metadata": {},
     "output_type": "execute_result"
    }
   ],
   "source": [
    "attentep=pauvres[[ \"Surface\", \"Temps attente\"]]\n",
    "countp = attentep.groupby('Surface').count()\n",
    "countp"
   ],
   "metadata": {
    "collapsed": false,
    "pycharm": {
     "name": "#%%\n"
    }
   }
  },
  {
   "cell_type": "code",
   "execution_count": 49,
   "outputs": [
    {
     "data": {
      "text/plain": "<matplotlib.legend.Legend at 0x20d079141c0>"
     },
     "execution_count": 49,
     "metadata": {},
     "output_type": "execute_result"
    },
    {
     "data": {
      "text/plain": "<Figure size 1008x432 with 1 Axes>",
      "image/png": "[encoded data removed]"
     },
     "metadata": {
      "needs_background": "light"
     },
     "output_type": "display_data"
    }
   ],
   "source": [
    "dfplotp['Key'] = 'Pauvres'\n",
    "dfplota['Key'] = 'Autres'\n",
    "\n",
    "DF = pd.concat([dfplotp,dfplota],keys=['Pauvres','Autres'])\n",
    "\n",
    "DFGroup = DF.groupby(['Surface','Key'])\n",
    "\n",
    "DFGPlot = DFGroup.sum().unstack('Key').plot(kind='bar', ylabel='Temps d\\'attente moyen (en jours)', title='Temps moyen attendu pour obtenir un logement social en 2018 selon la surface du logement attribué et le niveau de revenu du demandeur', figsize=(14,6), rot=0)\n",
    "plt.legend(['Autres', 'Pauvres'], loc='lower right')"
   ],
   "metadata": {
    "collapsed": false,
    "pycharm": {
     "name": "#%%\n"
    }
   }
  },
  {
   "cell_type": "code",
   "execution_count": 50,
   "outputs": [],
   "source": [
    "DFGPlot.figure.savefig('Temps d\\'attente_Surface.pdf')"
   ],
   "metadata": {
    "collapsed": false,
    "pycharm": {
     "name": "#%%\n"
    }
   }
  },
  {
   "cell_type": "markdown",
   "source": [
    "Il faudrait réarranger le graph au niveau de la lisibilité. On pourrait aussi créer une fonction qui donne le graph en fonction d'une colonne en entrée (motif, quintile, sexe, tranches d'âge,....). Il faudrait pour cela au préalable avoir un dataframe nettoyé. Trier aussi par ordre croissant les motifs avec la commande sort."
   ],
   "metadata": {
    "collapsed": false,
    "pycharm": {
     "name": "#%% md\n"
    }
   }
  },
  {
   "cell_type": "markdown",
   "source": [
    "Sur les motifs on a l'impression que c'est pour les motfis relatifs à des mobilités professionnelles, ou liés à des violences conjugales que le temps est moins loin (pour les gens qui ont une certane stabilité professionnelle, ou pour les cas d'extrême urgence). Je ne comprends pas trop ce que fait le \"assistante maternelle\" dans la liste."
   ],
   "metadata": {
    "collapsed": false,
    "pycharm": {
     "name": "#%% md\n"
    }
   }
  },
  {
   "cell_type": "code",
   "execution_count": null,
   "outputs": [],
   "source": [],
   "metadata": {
    "collapsed": false,
    "pycharm": {
     "name": "#%%\n"
    }
   }
  }
 ],
 "metadata": {
  "kernelspec": {
   "display_name": "Python 3",
   "language": "python",
   "name": "python3"
  },
  "language_info": {
   "codemirror_mode": {
    "name": "ipython",
    "version": 2
   },
   "file_extension": ".py",
   "mimetype": "text/x-python",
   "name": "python",
   "nbconvert_exporter": "python",
   "pygments_lexer": "ipython2",
   "version": "2.7.6"
  }
 },
 "nbformat": 4,
 "nbformat_minor": 0
}