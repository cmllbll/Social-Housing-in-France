{
 "cells": [
  {
   "cell_type": "code",
   "execution_count": 35,
   "outputs": [],
   "source": [
    "import pandas as pd\n",
    "import numpy as np\n",
    "import plotly.graph_objects as go\n",
    "import plotly.express as px"
   ],
   "metadata": {
    "collapsed": false,
    "pycharm": {
     "name": "#%%\n"
    }
   }
  },
  {
   "cell_type": "code",
   "execution_count": 2,
   "outputs": [],
   "source": [
    "dfd = pd.read_csv(r'C:\\Users\\arceb\\PycharmProjects\\pythonProject/demandeurs_42_69_73_74_revenus.csv', index_col = 0)"
   ],
   "metadata": {
    "collapsed": false,
    "pycharm": {
     "name": "#%%\n"
    }
   }
  },
  {
   "cell_type": "code",
   "execution_count": 4,
   "outputs": [
    {
     "name": "stderr",
     "output_type": "stream",
     "text": [
      "C:\\Users\\arceb\\AppData\\Local\\Programs\\Python\\Python39\\lib\\site-packages\\openpyxl\\styles\\stylesheet.py:226: UserWarning: Workbook contains no default style, apply openpyxl's default\n",
      "  warn(\"Workbook contains no default style, apply openpyxl's default\")\n"
     ]
    }
   ],
   "source": [
    "df = pd.DataFrame(pd.read_excel(r'C:\\Users\\arceb\\Desktop\\Stage\\Fichiers demandeurs complets Ministère/d_20180101_42_69_73_74.xlsx'))"
   ],
   "metadata": {
    "collapsed": false,
    "pycharm": {
     "name": "#%%\n"
    }
   }
  },
  {
   "cell_type": "code",
   "execution_count": 6,
   "outputs": [
    {
     "data": {
      "text/plain": "6            région       Numéro Unique Date création demande Age demandeur  \\\n0       Rhône-Alpes  073049300093611610   1993-04-19 00:00:00            66   \n1       Rhône-Alpes  175099414455300002   1994-09-21 00:00:00            71   \n2       Rhône-Alpes  069111097720911134   1994-12-19 00:00:00            60   \n3       Rhône-Alpes  0740595999585010MA   1995-05-17 00:00:00            70   \n4       Rhône-Alpes  073129601919973B01   1996-12-17 00:00:00            58   \n...             ...                 ...                   ...           ...   \n118207  Rhône-Alpes  0740118033294AL003   2018-01-01 00:00:00            48   \n118208  Rhône-Alpes  086011800000110953   2018-01-01 00:00:00            28   \n118209  Rhône-Alpes  1110118850547GDPUB   2018-01-01 00:00:00            40   \n118210  Rhône-Alpes  9710118058295GDPUB   2018-01-01 00:00:00            37   \n118211          NaN              118211                   NaN           NaN   \n\n6      Situation familiale Code département logement actuel  \\\n0                Marié (e)                               73   \n1              Célibataire                               69   \n2                Marié (e)                               69   \n3                Marié (e)                               74   \n4                Marié (e)                               73   \n...                    ...                              ...   \n118207         Divorcé (e)                               74   \n118208         Célibataire                               69   \n118209           Marié (e)                               69   \n118210         Célibataire                               69   \n118211                 NaN                              NaN   \n\n6      Code INSEE logt actuel       Commune logt actuel  \\\n0                       73065                  Chambéry   \n1                       69383  Lyon - 3e arrondissement   \n2                       69152             Pierre-Bénite   \n3                       74010                    Annecy   \n4                       73065                  Chambéry   \n...                       ...                       ...   \n118207                  74080                 La Clusaz   \n118208                  69266              Villeurbanne   \n118209                  69029                      Bron   \n118210                  69266              Villeurbanne   \n118211                    NaN                       NaN   \n\n6                                 Mode de logement actuel  \\\n0                                           Locataire HLM   \n1                                    Locataire parc privé   \n2                                           Locataire HLM   \n3                                           Locataire HLM   \n4       Logé en logement-foyer, en résidence sociale o...   \n...                                                   ...   \n118207                               Logé à titre gratuit   \n118208  Logé en logement-foyer, en résidence sociale o...   \n118209                               Locataire parc privé   \n118210                                      Locataire HLM   \n118211                                                NaN   \n\n6      Type de logement actuel  ... Ressources mensuelles du foyer  \\\n0                           T4  ...                           1225   \n1                           T2  ...                           1237   \n2                           T5  ...                           2728   \n3                           T4  ...                           2625   \n4                           T3  ...                           2734   \n...                        ...  ...                            ...   \n118207              Non Saisie  ...                           1317   \n118208                 Chambre  ...                            474   \n118209                      T4  ...                           2598   \n118210                      T3  ...                           1381   \n118211                     NaN  ...                            NaN   \n\n6      RFR du foyer, année n-1 RFR du foyer, année n-2  \\\n0                          NaN                    7317   \n1                        11396                   11395   \n2                            0                       0   \n3                            0                   40531   \n4                        21179                   28171   \n...                        ...                     ...   \n118207                     NaN                   13895   \n118208                       0                       0   \n118209                   11975                    6575   \n118210                     NaN                     NaN   \n118211                     NaN                     NaN   \n\n6      Code INSEE commune logt souhaité Commune logement souhaité  \\\n0                                 73065                  Chambéry   \n1                                 75056                     Paris   \n2                                 69152             Pierre-Bénite   \n3                                 74010                    Annecy   \n4                                 73065                  Chambéry   \n...                                 ...                       ...   \n118207                            74010                    Annecy   \n118208                            86027                     Biard   \n118209                            95176     Cormeilles-en-Parisis   \n118210                            97115                  Lamentin   \n118211                              NaN                       NaN   \n\n6      Montant maxi (loyer+charges) supportable Sexe demandeur\\n  \\\n0                                             0                M   \n1                                           500                F   \n2                                           NaN                M   \n3                                           600                M   \n4                                           560                M   \n...                                         ...              ...   \n118207                                      500                F   \n118208                                      450                M   \n118209                                      800                M   \n118210                                      600                F   \n118211                                      NaN              NaN   \n\n6      Nationalité demandeur\\n Autre logement dé\\ntenu demandeur\\n  \\\n0                    Française                                 Non   \n1                    Française                                 Non   \n2        Hors Union Européenne                                 Non   \n3                    Française                                 Non   \n4                    Française                                 Non   \n...                        ...                                 ...   \n118207               Française                                 Non   \n118208               Française                                 Non   \n118209   Hors Union Européenne                                 Non   \n118210               Française                                 Non   \n118211                     NaN                                 NaN   \n\n6      Nb de personnes handicapees  \n0                                0  \n1                                0  \n2                                0  \n3                                0  \n4                                0  \n...                            ...  \n118207                           0  \n118208                           0  \n118209                           0  \n118210                           0  \n118211                         NaN  \n\n[118212 rows x 27 columns]",
      "text/html": "<div>\n<style scoped>\n    .dataframe tbody tr th:only-of-type {\n        vertical-align: middle;\n    }\n\n    .dataframe tbody tr th {\n        vertical-align: top;\n    }\n\n    .dataframe thead th {\n        text-align: right;\n    }\n</style>\n<table border=\"1\" class=\"dataframe\">\n  <thead>\n    <tr style=\"text-align: right;\">\n      <th>6</th>\n      <th>région</th>\n      <th>Numéro Unique</th>\n      <th>Date création demande</th>\n      <th>Age demandeur</th>\n      <th>Situation familiale</th>\n      <th>Code département logement actuel</th>\n      <th>Code INSEE logt actuel</th>\n      <th>Commune logt actuel</th>\n      <th>Mode de logement actuel</th>\n      <th>Type de logement actuel</th>\n      <th>...</th>\n      <th>Ressources mensuelles du foyer</th>\n      <th>RFR du foyer, année n-1</th>\n      <th>RFR du foyer, année n-2</th>\n      <th>Code INSEE commune logt souhaité</th>\n      <th>Commune logement souhaité</th>\n      <th>Montant maxi (loyer+charges) supportable</th>\n      <th>Sexe demandeur\\n</th>\n      <th>Nationalité demandeur\\n</th>\n      <th>Autre logement dé\\ntenu demandeur\\n</th>\n      <th>Nb de personnes handicapees</th>\n    </tr>\n  </thead>\n  <tbody>\n    <tr>\n      <th>0</th>\n      <td>Rhône-Alpes</td>\n      <td>073049300093611610</td>\n      <td>1993-04-19 00:00:00</td>\n      <td>66</td>\n      <td>Marié (e)</td>\n      <td>73</td>\n      <td>73065</td>\n      <td>Chambéry</td>\n      <td>Locataire HLM</td>\n      <td>T4</td>\n      <td>...</td>\n      <td>1225</td>\n      <td>NaN</td>\n      <td>7317</td>\n      <td>73065</td>\n      <td>Chambéry</td>\n      <td>0</td>\n      <td>M</td>\n      <td>Française</td>\n      <td>Non</td>\n      <td>0</td>\n    </tr>\n    <tr>\n      <th>1</th>\n      <td>Rhône-Alpes</td>\n      <td>175099414455300002</td>\n      <td>1994-09-21 00:00:00</td>\n      <td>71</td>\n      <td>Célibataire</td>\n      <td>69</td>\n      <td>69383</td>\n      <td>Lyon - 3e arrondissement</td>\n      <td>Locataire parc privé</td>\n      <td>T2</td>\n      <td>...</td>\n      <td>1237</td>\n      <td>11396</td>\n      <td>11395</td>\n      <td>75056</td>\n      <td>Paris</td>\n      <td>500</td>\n      <td>F</td>\n      <td>Française</td>\n      <td>Non</td>\n      <td>0</td>\n    </tr>\n    <tr>\n      <th>2</th>\n      <td>Rhône-Alpes</td>\n      <td>069111097720911134</td>\n      <td>1994-12-19 00:00:00</td>\n      <td>60</td>\n      <td>Marié (e)</td>\n      <td>69</td>\n      <td>69152</td>\n      <td>Pierre-Bénite</td>\n      <td>Locataire HLM</td>\n      <td>T5</td>\n      <td>...</td>\n      <td>2728</td>\n      <td>0</td>\n      <td>0</td>\n      <td>69152</td>\n      <td>Pierre-Bénite</td>\n      <td>NaN</td>\n      <td>M</td>\n      <td>Hors Union Européenne</td>\n      <td>Non</td>\n      <td>0</td>\n    </tr>\n    <tr>\n      <th>3</th>\n      <td>Rhône-Alpes</td>\n      <td>0740595999585010MA</td>\n      <td>1995-05-17 00:00:00</td>\n      <td>70</td>\n      <td>Marié (e)</td>\n      <td>74</td>\n      <td>74010</td>\n      <td>Annecy</td>\n      <td>Locataire HLM</td>\n      <td>T4</td>\n      <td>...</td>\n      <td>2625</td>\n      <td>0</td>\n      <td>40531</td>\n      <td>74010</td>\n      <td>Annecy</td>\n      <td>600</td>\n      <td>M</td>\n      <td>Française</td>\n      <td>Non</td>\n      <td>0</td>\n    </tr>\n    <tr>\n      <th>4</th>\n      <td>Rhône-Alpes</td>\n      <td>073129601919973B01</td>\n      <td>1996-12-17 00:00:00</td>\n      <td>58</td>\n      <td>Marié (e)</td>\n      <td>73</td>\n      <td>73065</td>\n      <td>Chambéry</td>\n      <td>Logé en logement-foyer, en résidence sociale o...</td>\n      <td>T3</td>\n      <td>...</td>\n      <td>2734</td>\n      <td>21179</td>\n      <td>28171</td>\n      <td>73065</td>\n      <td>Chambéry</td>\n      <td>560</td>\n      <td>M</td>\n      <td>Française</td>\n      <td>Non</td>\n      <td>0</td>\n    </tr>\n    <tr>\n      <th>...</th>\n      <td>...</td>\n      <td>...</td>\n      <td>...</td>\n      <td>...</td>\n      <td>...</td>\n      <td>...</td>\n      <td>...</td>\n      <td>...</td>\n      <td>...</td>\n      <td>...</td>\n      <td>...</td>\n      <td>...</td>\n      <td>...</td>\n      <td>...</td>\n      <td>...</td>\n      <td>...</td>\n      <td>...</td>\n      <td>...</td>\n      <td>...</td>\n      <td>...</td>\n      <td>...</td>\n    </tr>\n    <tr>\n      <th>118207</th>\n      <td>Rhône-Alpes</td>\n      <td>0740118033294AL003</td>\n      <td>2018-01-01 00:00:00</td>\n      <td>48</td>\n      <td>Divorcé (e)</td>\n      <td>74</td>\n      <td>74080</td>\n      <td>La Clusaz</td>\n      <td>Logé à titre gratuit</td>\n      <td>Non Saisie</td>\n      <td>...</td>\n      <td>1317</td>\n      <td>NaN</td>\n      <td>13895</td>\n      <td>74010</td>\n      <td>Annecy</td>\n      <td>500</td>\n      <td>F</td>\n      <td>Française</td>\n      <td>Non</td>\n      <td>0</td>\n    </tr>\n    <tr>\n      <th>118208</th>\n      <td>Rhône-Alpes</td>\n      <td>086011800000110953</td>\n      <td>2018-01-01 00:00:00</td>\n      <td>28</td>\n      <td>Célibataire</td>\n      <td>69</td>\n      <td>69266</td>\n      <td>Villeurbanne</td>\n      <td>Logé en logement-foyer, en résidence sociale o...</td>\n      <td>Chambre</td>\n      <td>...</td>\n      <td>474</td>\n      <td>0</td>\n      <td>0</td>\n      <td>86027</td>\n      <td>Biard</td>\n      <td>450</td>\n      <td>M</td>\n      <td>Française</td>\n      <td>Non</td>\n      <td>0</td>\n    </tr>\n    <tr>\n      <th>118209</th>\n      <td>Rhône-Alpes</td>\n      <td>1110118850547GDPUB</td>\n      <td>2018-01-01 00:00:00</td>\n      <td>40</td>\n      <td>Marié (e)</td>\n      <td>69</td>\n      <td>69029</td>\n      <td>Bron</td>\n      <td>Locataire parc privé</td>\n      <td>T4</td>\n      <td>...</td>\n      <td>2598</td>\n      <td>11975</td>\n      <td>6575</td>\n      <td>95176</td>\n      <td>Cormeilles-en-Parisis</td>\n      <td>800</td>\n      <td>M</td>\n      <td>Hors Union Européenne</td>\n      <td>Non</td>\n      <td>0</td>\n    </tr>\n    <tr>\n      <th>118210</th>\n      <td>Rhône-Alpes</td>\n      <td>9710118058295GDPUB</td>\n      <td>2018-01-01 00:00:00</td>\n      <td>37</td>\n      <td>Célibataire</td>\n      <td>69</td>\n      <td>69266</td>\n      <td>Villeurbanne</td>\n      <td>Locataire HLM</td>\n      <td>T3</td>\n      <td>...</td>\n      <td>1381</td>\n      <td>NaN</td>\n      <td>NaN</td>\n      <td>97115</td>\n      <td>Lamentin</td>\n      <td>600</td>\n      <td>F</td>\n      <td>Française</td>\n      <td>Non</td>\n      <td>0</td>\n    </tr>\n    <tr>\n      <th>118211</th>\n      <td>NaN</td>\n      <td>118211</td>\n      <td>NaN</td>\n      <td>NaN</td>\n      <td>NaN</td>\n      <td>NaN</td>\n      <td>NaN</td>\n      <td>NaN</td>\n      <td>NaN</td>\n      <td>NaN</td>\n      <td>...</td>\n      <td>NaN</td>\n      <td>NaN</td>\n      <td>NaN</td>\n      <td>NaN</td>\n      <td>NaN</td>\n      <td>NaN</td>\n      <td>NaN</td>\n      <td>NaN</td>\n      <td>NaN</td>\n      <td>NaN</td>\n    </tr>\n  </tbody>\n</table>\n<p>118212 rows × 27 columns</p>\n</div>"
     },
     "execution_count": 6,
     "metadata": {},
     "output_type": "execute_result"
    }
   ],
   "source": [
    "dfbis=df.drop(index = [0, 1, 2, 3, 4, 5], columns=['Unnamed: 0'])\n",
    "dfbis.columns = dfbis.iloc[0]\n",
    "df_d=dfbis.drop(index = [6])\n",
    "df_d.reset_index(inplace=True, drop=True)\n",
    "df_d"
   ],
   "metadata": {
    "collapsed": false,
    "pycharm": {
     "name": "#%%\n"
    }
   }
  },
  {
   "cell_type": "code",
   "execution_count": 7,
   "outputs": [],
   "source": [
    "dfd=dfd.rename(columns={'Type de ressource\\n': 'Type'})"
   ],
   "metadata": {
    "collapsed": false,
    "pycharm": {
     "name": "#%%\n"
    }
   }
  },
  {
   "cell_type": "code",
   "execution_count": 8,
   "outputs": [
    {
     "data": {
      "text/plain": "             région       Numéro Unique Date création demande Age demandeur  \\\n0       Rhône-Alpes  073049300093611610   1993-04-19 00:00:00            66   \n1       Rhône-Alpes  175099414455300002   1994-09-21 00:00:00            71   \n2       Rhône-Alpes  069111097720911134   1994-12-19 00:00:00            60   \n3       Rhône-Alpes  069111097720911134   1994-12-19 00:00:00            60   \n4       Rhône-Alpes  069111097720911134   1994-12-19 00:00:00            60   \n...             ...                 ...                   ...           ...   \n227840  Rhône-Alpes  1110118850547GDPUB   2018-01-01 00:00:00            40   \n227841  Rhône-Alpes  1110118850547GDPUB   2018-01-01 00:00:00            40   \n227842  Rhône-Alpes  9710118058295GDPUB   2018-01-01 00:00:00            37   \n227843  Rhône-Alpes  9710118058295GDPUB   2018-01-01 00:00:00            37   \n227844  Rhône-Alpes  9710118058295GDPUB   2018-01-01 00:00:00            37   \n\n       Situation familiale Code département logement actuel  \\\n0                Marié (e)                               73   \n1              Célibataire                               69   \n2                Marié (e)                               69   \n3                Marié (e)                               69   \n4                Marié (e)                               69   \n...                    ...                              ...   \n227840           Marié (e)                               69   \n227841           Marié (e)                               69   \n227842         Célibataire                               69   \n227843         Célibataire                               69   \n227844         Célibataire                               69   \n\n       Code INSEE logt actuel       Commune logt actuel  \\\n0                       73065                  Chambéry   \n1                       69383  Lyon - 3e arrondissement   \n2                       69152             Pierre-Bénite   \n3                       69152             Pierre-Bénite   \n4                       69152             Pierre-Bénite   \n...                       ...                       ...   \n227840                  69029                      Bron   \n227841                  69029                      Bron   \n227842                  69266              Villeurbanne   \n227843                  69266              Villeurbanne   \n227844                  69266              Villeurbanne   \n\n       Mode de logement actuel Type de logement actuel  ...  \\\n0                Locataire HLM                      T4  ...   \n1         Locataire parc privé                      T2  ...   \n2                Locataire HLM                      T5  ...   \n3                Locataire HLM                      T5  ...   \n4                Locataire HLM                      T5  ...   \n...                        ...                     ...  ...   \n227840    Locataire parc privé                      T4  ...   \n227841    Locataire parc privé                      T4  ...   \n227842           Locataire HLM                      T3  ...   \n227843           Locataire HLM                      T3  ...   \n227844           Locataire HLM                      T3  ...   \n\n       Code INSEE commune logt souhaité Commune logement souhaité  \\\n0                                 73065                  Chambéry   \n1                                 75056                     Paris   \n2                                 69152             Pierre-Bénite   \n3                                 69152             Pierre-Bénite   \n4                                 69152             Pierre-Bénite   \n...                                 ...                       ...   \n227840                            95176     Cormeilles-en-Parisis   \n227841                            95176     Cormeilles-en-Parisis   \n227842                            97115                  Lamentin   \n227843                            97115                  Lamentin   \n227844                            97115                  Lamentin   \n\n       Montant maxi (loyer+charges) supportable Sexe demandeur\\n  \\\n0                                             0                M   \n1                                           500                F   \n2                                           NaN                M   \n3                                           NaN                M   \n4                                           NaN                M   \n...                                         ...              ...   \n227840                                      800                M   \n227841                                      800                M   \n227842                                      600                F   \n227843                                      600                F   \n227844                                      600                F   \n\n       Nationalité demandeur\\n Autre logement dé\\ntenu demandeur\\n  \\\n0                    Française                                 Non   \n1                    Française                                 Non   \n2        Hors Union Européenne                                 Non   \n3        Hors Union Européenne                                 Non   \n4        Hors Union Européenne                                 Non   \n...                        ...                                 ...   \n227840   Hors Union Européenne                                 Non   \n227841   Hors Union Européenne                                 Non   \n227842               Française                                 Non   \n227843               Française                                 Non   \n227844               Française                                 Non   \n\n       Nb de personnes handicapees Ressources mensuelles\\n  \\\n0                                0                   434.0   \n1                                0                  1237.0   \n2                                0                  2728.0   \n3                                0                  2728.0   \n4                                0                  2728.0   \n...                            ...                     ...   \n227840                           0                  2001.0   \n227841                           0                  2001.0   \n227842                           0                  1381.0   \n227843                           0                  1381.0   \n227844                           0                  1381.0   \n\n                                      Type Montant par type de ressource\\n  \n0                                 Retraite                           434.0  \n1                                 Retraite                          1237.0  \n2          Allocation chômage / indemnités                           236.0  \n3       Allocation d'adulte handicapé(AAH)                           496.0  \n4                    Allocation familiales                           491.0  \n...                                    ...                             ...  \n227840     Allocation chômage / indemnités                           150.0  \n227841        Salaire ou revenu d'activité                          1851.0  \n227842               Allocation familiales                           109.0  \n227843             Autres (hors APL ou AL)                           123.0  \n227844        Salaire ou revenu d'activité                          1149.0  \n\n[227845 rows x 30 columns]",
      "text/html": "<div>\n<style scoped>\n    .dataframe tbody tr th:only-of-type {\n        vertical-align: middle;\n    }\n\n    .dataframe tbody tr th {\n        vertical-align: top;\n    }\n\n    .dataframe thead th {\n        text-align: right;\n    }\n</style>\n<table border=\"1\" class=\"dataframe\">\n  <thead>\n    <tr style=\"text-align: right;\">\n      <th></th>\n      <th>région</th>\n      <th>Numéro Unique</th>\n      <th>Date création demande</th>\n      <th>Age demandeur</th>\n      <th>Situation familiale</th>\n      <th>Code département logement actuel</th>\n      <th>Code INSEE logt actuel</th>\n      <th>Commune logt actuel</th>\n      <th>Mode de logement actuel</th>\n      <th>Type de logement actuel</th>\n      <th>...</th>\n      <th>Code INSEE commune logt souhaité</th>\n      <th>Commune logement souhaité</th>\n      <th>Montant maxi (loyer+charges) supportable</th>\n      <th>Sexe demandeur\\n</th>\n      <th>Nationalité demandeur\\n</th>\n      <th>Autre logement dé\\ntenu demandeur\\n</th>\n      <th>Nb de personnes handicapees</th>\n      <th>Ressources mensuelles\\n</th>\n      <th>Type</th>\n      <th>Montant par type de ressource\\n</th>\n    </tr>\n  </thead>\n  <tbody>\n    <tr>\n      <th>0</th>\n      <td>Rhône-Alpes</td>\n      <td>073049300093611610</td>\n      <td>1993-04-19 00:00:00</td>\n      <td>66</td>\n      <td>Marié (e)</td>\n      <td>73</td>\n      <td>73065</td>\n      <td>Chambéry</td>\n      <td>Locataire HLM</td>\n      <td>T4</td>\n      <td>...</td>\n      <td>73065</td>\n      <td>Chambéry</td>\n      <td>0</td>\n      <td>M</td>\n      <td>Française</td>\n      <td>Non</td>\n      <td>0</td>\n      <td>434.0</td>\n      <td>Retraite</td>\n      <td>434.0</td>\n    </tr>\n    <tr>\n      <th>1</th>\n      <td>Rhône-Alpes</td>\n      <td>175099414455300002</td>\n      <td>1994-09-21 00:00:00</td>\n      <td>71</td>\n      <td>Célibataire</td>\n      <td>69</td>\n      <td>69383</td>\n      <td>Lyon - 3e arrondissement</td>\n      <td>Locataire parc privé</td>\n      <td>T2</td>\n      <td>...</td>\n      <td>75056</td>\n      <td>Paris</td>\n      <td>500</td>\n      <td>F</td>\n      <td>Française</td>\n      <td>Non</td>\n      <td>0</td>\n      <td>1237.0</td>\n      <td>Retraite</td>\n      <td>1237.0</td>\n    </tr>\n    <tr>\n      <th>2</th>\n      <td>Rhône-Alpes</td>\n      <td>069111097720911134</td>\n      <td>1994-12-19 00:00:00</td>\n      <td>60</td>\n      <td>Marié (e)</td>\n      <td>69</td>\n      <td>69152</td>\n      <td>Pierre-Bénite</td>\n      <td>Locataire HLM</td>\n      <td>T5</td>\n      <td>...</td>\n      <td>69152</td>\n      <td>Pierre-Bénite</td>\n      <td>NaN</td>\n      <td>M</td>\n      <td>Hors Union Européenne</td>\n      <td>Non</td>\n      <td>0</td>\n      <td>2728.0</td>\n      <td>Allocation chômage / indemnités</td>\n      <td>236.0</td>\n    </tr>\n    <tr>\n      <th>3</th>\n      <td>Rhône-Alpes</td>\n      <td>069111097720911134</td>\n      <td>1994-12-19 00:00:00</td>\n      <td>60</td>\n      <td>Marié (e)</td>\n      <td>69</td>\n      <td>69152</td>\n      <td>Pierre-Bénite</td>\n      <td>Locataire HLM</td>\n      <td>T5</td>\n      <td>...</td>\n      <td>69152</td>\n      <td>Pierre-Bénite</td>\n      <td>NaN</td>\n      <td>M</td>\n      <td>Hors Union Européenne</td>\n      <td>Non</td>\n      <td>0</td>\n      <td>2728.0</td>\n      <td>Allocation d'adulte handicapé(AAH)</td>\n      <td>496.0</td>\n    </tr>\n    <tr>\n      <th>4</th>\n      <td>Rhône-Alpes</td>\n      <td>069111097720911134</td>\n      <td>1994-12-19 00:00:00</td>\n      <td>60</td>\n      <td>Marié (e)</td>\n      <td>69</td>\n      <td>69152</td>\n      <td>Pierre-Bénite</td>\n      <td>Locataire HLM</td>\n      <td>T5</td>\n      <td>...</td>\n      <td>69152</td>\n      <td>Pierre-Bénite</td>\n      <td>NaN</td>\n      <td>M</td>\n      <td>Hors Union Européenne</td>\n      <td>Non</td>\n      <td>0</td>\n      <td>2728.0</td>\n      <td>Allocation familiales</td>\n      <td>491.0</td>\n    </tr>\n    <tr>\n      <th>...</th>\n      <td>...</td>\n      <td>...</td>\n      <td>...</td>\n      <td>...</td>\n      <td>...</td>\n      <td>...</td>\n      <td>...</td>\n      <td>...</td>\n      <td>...</td>\n      <td>...</td>\n      <td>...</td>\n      <td>...</td>\n      <td>...</td>\n      <td>...</td>\n      <td>...</td>\n      <td>...</td>\n      <td>...</td>\n      <td>...</td>\n      <td>...</td>\n      <td>...</td>\n      <td>...</td>\n    </tr>\n    <tr>\n      <th>227840</th>\n      <td>Rhône-Alpes</td>\n      <td>1110118850547GDPUB</td>\n      <td>2018-01-01 00:00:00</td>\n      <td>40</td>\n      <td>Marié (e)</td>\n      <td>69</td>\n      <td>69029</td>\n      <td>Bron</td>\n      <td>Locataire parc privé</td>\n      <td>T4</td>\n      <td>...</td>\n      <td>95176</td>\n      <td>Cormeilles-en-Parisis</td>\n      <td>800</td>\n      <td>M</td>\n      <td>Hors Union Européenne</td>\n      <td>Non</td>\n      <td>0</td>\n      <td>2001.0</td>\n      <td>Allocation chômage / indemnités</td>\n      <td>150.0</td>\n    </tr>\n    <tr>\n      <th>227841</th>\n      <td>Rhône-Alpes</td>\n      <td>1110118850547GDPUB</td>\n      <td>2018-01-01 00:00:00</td>\n      <td>40</td>\n      <td>Marié (e)</td>\n      <td>69</td>\n      <td>69029</td>\n      <td>Bron</td>\n      <td>Locataire parc privé</td>\n      <td>T4</td>\n      <td>...</td>\n      <td>95176</td>\n      <td>Cormeilles-en-Parisis</td>\n      <td>800</td>\n      <td>M</td>\n      <td>Hors Union Européenne</td>\n      <td>Non</td>\n      <td>0</td>\n      <td>2001.0</td>\n      <td>Salaire ou revenu d'activité</td>\n      <td>1851.0</td>\n    </tr>\n    <tr>\n      <th>227842</th>\n      <td>Rhône-Alpes</td>\n      <td>9710118058295GDPUB</td>\n      <td>2018-01-01 00:00:00</td>\n      <td>37</td>\n      <td>Célibataire</td>\n      <td>69</td>\n      <td>69266</td>\n      <td>Villeurbanne</td>\n      <td>Locataire HLM</td>\n      <td>T3</td>\n      <td>...</td>\n      <td>97115</td>\n      <td>Lamentin</td>\n      <td>600</td>\n      <td>F</td>\n      <td>Française</td>\n      <td>Non</td>\n      <td>0</td>\n      <td>1381.0</td>\n      <td>Allocation familiales</td>\n      <td>109.0</td>\n    </tr>\n    <tr>\n      <th>227843</th>\n      <td>Rhône-Alpes</td>\n      <td>9710118058295GDPUB</td>\n      <td>2018-01-01 00:00:00</td>\n      <td>37</td>\n      <td>Célibataire</td>\n      <td>69</td>\n      <td>69266</td>\n      <td>Villeurbanne</td>\n      <td>Locataire HLM</td>\n      <td>T3</td>\n      <td>...</td>\n      <td>97115</td>\n      <td>Lamentin</td>\n      <td>600</td>\n      <td>F</td>\n      <td>Française</td>\n      <td>Non</td>\n      <td>0</td>\n      <td>1381.0</td>\n      <td>Autres (hors APL ou AL)</td>\n      <td>123.0</td>\n    </tr>\n    <tr>\n      <th>227844</th>\n      <td>Rhône-Alpes</td>\n      <td>9710118058295GDPUB</td>\n      <td>2018-01-01 00:00:00</td>\n      <td>37</td>\n      <td>Célibataire</td>\n      <td>69</td>\n      <td>69266</td>\n      <td>Villeurbanne</td>\n      <td>Locataire HLM</td>\n      <td>T3</td>\n      <td>...</td>\n      <td>97115</td>\n      <td>Lamentin</td>\n      <td>600</td>\n      <td>F</td>\n      <td>Française</td>\n      <td>Non</td>\n      <td>0</td>\n      <td>1381.0</td>\n      <td>Salaire ou revenu d'activité</td>\n      <td>1149.0</td>\n    </tr>\n  </tbody>\n</table>\n<p>227845 rows × 30 columns</p>\n</div>"
     },
     "execution_count": 8,
     "metadata": {},
     "output_type": "execute_result"
    }
   ],
   "source": [
    "base= df_d.merge(dfd, on='Numéro Unique', how='inner')\n",
    "base"
   ],
   "metadata": {
    "collapsed": false,
    "pycharm": {
     "name": "#%%\n"
    }
   }
  },
  {
   "cell_type": "markdown",
   "source": [
    "## Travail sur le foyer du demandeur"
   ],
   "metadata": {
    "collapsed": false,
    "pycharm": {
     "name": "#%% md\n"
    }
   }
  },
  {
   "cell_type": "markdown",
   "source": [
    "### Personne isolée"
   ],
   "metadata": {
    "collapsed": false,
    "pycharm": {
     "name": "#%% md\n"
    }
   }
  },
  {
   "cell_type": "code",
   "execution_count": 19,
   "outputs": [
    {
     "data": {
      "text/plain": "             Numéro Unique  Ressources mensuelles\\n  \\\n1       175099414455300002                   1237.0   \n23      069059810660611180                    640.0   \n24      069059810660611180                    640.0   \n25      0740798980031056MA                    764.0   \n26      0740798997321011MA                   2265.0   \n...                    ...                      ...   \n227834  074011803092974042                   1580.0   \n227835  0740118031998PLS01                   1460.0   \n227837  0740118033294AL003                   1317.0   \n227838  0740118033294AL003                   1317.0   \n227839  086011800000110953                    474.0   \n\n                                     Type  Montant par type de ressource\\n  \n1                                Retraite                           1237.0  \n23                Autres (hors APL ou AL)                            340.0  \n24           Salaire ou revenu d'activité                            300.0  \n25                               Retraite                            764.0  \n26                               Retraite                            345.0  \n...                                   ...                              ...  \n227834       Salaire ou revenu d'activité                           1500.0  \n227835       Salaire ou revenu d'activité                           1460.0  \n227837          Pension alimentaire reçue                            117.0  \n227838       Salaire ou revenu d'activité                           1200.0  \n227839  Revenu de solidarité active (RSA)                            474.0  \n\n[77680 rows x 4 columns]",
      "text/html": "<div>\n<style scoped>\n    .dataframe tbody tr th:only-of-type {\n        vertical-align: middle;\n    }\n\n    .dataframe tbody tr th {\n        vertical-align: top;\n    }\n\n    .dataframe thead th {\n        text-align: right;\n    }\n</style>\n<table border=\"1\" class=\"dataframe\">\n  <thead>\n    <tr style=\"text-align: right;\">\n      <th></th>\n      <th>Numéro Unique</th>\n      <th>Ressources mensuelles\\n</th>\n      <th>Type</th>\n      <th>Montant par type de ressource\\n</th>\n    </tr>\n  </thead>\n  <tbody>\n    <tr>\n      <th>1</th>\n      <td>175099414455300002</td>\n      <td>1237.0</td>\n      <td>Retraite</td>\n      <td>1237.0</td>\n    </tr>\n    <tr>\n      <th>23</th>\n      <td>069059810660611180</td>\n      <td>640.0</td>\n      <td>Autres (hors APL ou AL)</td>\n      <td>340.0</td>\n    </tr>\n    <tr>\n      <th>24</th>\n      <td>069059810660611180</td>\n      <td>640.0</td>\n      <td>Salaire ou revenu d'activité</td>\n      <td>300.0</td>\n    </tr>\n    <tr>\n      <th>25</th>\n      <td>0740798980031056MA</td>\n      <td>764.0</td>\n      <td>Retraite</td>\n      <td>764.0</td>\n    </tr>\n    <tr>\n      <th>26</th>\n      <td>0740798997321011MA</td>\n      <td>2265.0</td>\n      <td>Retraite</td>\n      <td>345.0</td>\n    </tr>\n    <tr>\n      <th>...</th>\n      <td>...</td>\n      <td>...</td>\n      <td>...</td>\n      <td>...</td>\n    </tr>\n    <tr>\n      <th>227834</th>\n      <td>074011803092974042</td>\n      <td>1580.0</td>\n      <td>Salaire ou revenu d'activité</td>\n      <td>1500.0</td>\n    </tr>\n    <tr>\n      <th>227835</th>\n      <td>0740118031998PLS01</td>\n      <td>1460.0</td>\n      <td>Salaire ou revenu d'activité</td>\n      <td>1460.0</td>\n    </tr>\n    <tr>\n      <th>227837</th>\n      <td>0740118033294AL003</td>\n      <td>1317.0</td>\n      <td>Pension alimentaire reçue</td>\n      <td>117.0</td>\n    </tr>\n    <tr>\n      <th>227838</th>\n      <td>0740118033294AL003</td>\n      <td>1317.0</td>\n      <td>Salaire ou revenu d'activité</td>\n      <td>1200.0</td>\n    </tr>\n    <tr>\n      <th>227839</th>\n      <td>086011800000110953</td>\n      <td>474.0</td>\n      <td>Revenu de solidarité active (RSA)</td>\n      <td>474.0</td>\n    </tr>\n  </tbody>\n</table>\n<p>77680 rows × 4 columns</p>\n</div>"
     },
     "execution_count": 19,
     "metadata": {},
     "output_type": "execute_result"
    }
   ],
   "source": [
    "Isolés=base[base['Composition foyer demandeur']=='Personne seule']\n",
    "Isolés=Isolés[['Numéro Unique', 'Ressources mensuelles\\n', 'Type', 'Montant par type de ressource\\n']]\n",
    "Isolés"
   ],
   "metadata": {
    "collapsed": false,
    "pycharm": {
     "name": "#%%\n"
    }
   }
  },
  {
   "cell_type": "code",
   "execution_count": 20,
   "outputs": [
    {
     "data": {
      "text/plain": "             Numéro Unique  Ressources mensuelles\\n  \\\n1       175099414455300002                   1237.0   \n23      069059810660611180                    640.0   \n25      0740798980031056MA                    764.0   \n26      0740798997321011MA                   2265.0   \n28      073079804027673B01                    680.0   \n...                    ...                      ...   \n227832  074011803059174B03                   1480.0   \n227833  074011803092974042                   1580.0   \n227835  0740118031998PLS01                   1460.0   \n227837  0740118033294AL003                   1317.0   \n227839  086011800000110953                    474.0   \n\n                                     Type  Montant par type de ressource\\n  \n1                                Retraite                           1237.0  \n23                Autres (hors APL ou AL)                            340.0  \n25                               Retraite                            764.0  \n26                               Retraite                            345.0  \n28                Autres (hors APL ou AL)                            176.0  \n...                                   ...                              ...  \n227832       Salaire ou revenu d'activité                           1480.0  \n227833                   Prime d'activité                             80.0  \n227835       Salaire ou revenu d'activité                           1460.0  \n227837          Pension alimentaire reçue                            117.0  \n227839  Revenu de solidarité active (RSA)                            474.0  \n\n[46848 rows x 4 columns]",
      "text/html": "<div>\n<style scoped>\n    .dataframe tbody tr th:only-of-type {\n        vertical-align: middle;\n    }\n\n    .dataframe tbody tr th {\n        vertical-align: top;\n    }\n\n    .dataframe thead th {\n        text-align: right;\n    }\n</style>\n<table border=\"1\" class=\"dataframe\">\n  <thead>\n    <tr style=\"text-align: right;\">\n      <th></th>\n      <th>Numéro Unique</th>\n      <th>Ressources mensuelles\\n</th>\n      <th>Type</th>\n      <th>Montant par type de ressource\\n</th>\n    </tr>\n  </thead>\n  <tbody>\n    <tr>\n      <th>1</th>\n      <td>175099414455300002</td>\n      <td>1237.0</td>\n      <td>Retraite</td>\n      <td>1237.0</td>\n    </tr>\n    <tr>\n      <th>23</th>\n      <td>069059810660611180</td>\n      <td>640.0</td>\n      <td>Autres (hors APL ou AL)</td>\n      <td>340.0</td>\n    </tr>\n    <tr>\n      <th>25</th>\n      <td>0740798980031056MA</td>\n      <td>764.0</td>\n      <td>Retraite</td>\n      <td>764.0</td>\n    </tr>\n    <tr>\n      <th>26</th>\n      <td>0740798997321011MA</td>\n      <td>2265.0</td>\n      <td>Retraite</td>\n      <td>345.0</td>\n    </tr>\n    <tr>\n      <th>28</th>\n      <td>073079804027673B01</td>\n      <td>680.0</td>\n      <td>Autres (hors APL ou AL)</td>\n      <td>176.0</td>\n    </tr>\n    <tr>\n      <th>...</th>\n      <td>...</td>\n      <td>...</td>\n      <td>...</td>\n      <td>...</td>\n    </tr>\n    <tr>\n      <th>227832</th>\n      <td>074011803059174B03</td>\n      <td>1480.0</td>\n      <td>Salaire ou revenu d'activité</td>\n      <td>1480.0</td>\n    </tr>\n    <tr>\n      <th>227833</th>\n      <td>074011803092974042</td>\n      <td>1580.0</td>\n      <td>Prime d'activité</td>\n      <td>80.0</td>\n    </tr>\n    <tr>\n      <th>227835</th>\n      <td>0740118031998PLS01</td>\n      <td>1460.0</td>\n      <td>Salaire ou revenu d'activité</td>\n      <td>1460.0</td>\n    </tr>\n    <tr>\n      <th>227837</th>\n      <td>0740118033294AL003</td>\n      <td>1317.0</td>\n      <td>Pension alimentaire reçue</td>\n      <td>117.0</td>\n    </tr>\n    <tr>\n      <th>227839</th>\n      <td>086011800000110953</td>\n      <td>474.0</td>\n      <td>Revenu de solidarité active (RSA)</td>\n      <td>474.0</td>\n    </tr>\n  </tbody>\n</table>\n<p>46848 rows × 4 columns</p>\n</div>"
     },
     "execution_count": 20,
     "metadata": {},
     "output_type": "execute_result"
    }
   ],
   "source": [
    "Isolés_bis=Isolés.drop_duplicates(subset =\"Numéro Unique\")\n",
    "Isolés_bis=Isolés_bis.dropna()\n",
    "Isolés_bis"
   ],
   "metadata": {
    "collapsed": false,
    "pycharm": {
     "name": "#%%\n"
    }
   }
  },
  {
   "cell_type": "markdown",
   "source": [
    "##### Calcul des revenus imposables"
   ],
   "metadata": {
    "collapsed": false,
    "pycharm": {
     "name": "#%% md\n"
    }
   }
  },
  {
   "cell_type": "code",
   "execution_count": 21,
   "outputs": [],
   "source": [
    "values=[\"Retraite\", \"Allocation chômage / indemnités\", \"Salaire ou revenu d'activité\", \"Pension alimentaire reçue\", \"Autres (hors APL ou AL)\", \"Pension d\\'invalidité\"]\n",
    "filtered_df = Isolés[Isolés.Type.isin(values)]\n",
    "shrank_values = filtered_df.groupby(by='Numéro Unique').sum()['Montant par type de ressource\\n']\n",
    "merged_df = filtered_df.merge(shrank_values, left_on='Numéro Unique', right_index=True)\n",
    "merged_df = merged_df.rename(columns={'Montant par type de ressource\\n_y': 'Ressources imposables mensuelles moyennes (RI)'})\n",
    "merged_dfbis=merged_df.drop_duplicates(subset =\"Numéro Unique\")"
   ],
   "metadata": {
    "collapsed": false,
    "pycharm": {
     "name": "#%%\n"
    }
   }
  },
  {
   "cell_type": "code",
   "execution_count": 22,
   "outputs": [
    {
     "data": {
      "text/plain": "            Numéro Unique  RM Moyennes  \\\n0      175099414455300002       1237.0   \n1      069059810660611180        640.0   \n2      0740798980031056MA        764.0   \n3      0740798997321011MA       2265.0   \n4      073079804027673B01        680.0   \n...                   ...          ...   \n46843  074011803059174B03       1480.0   \n46844  074011803092974042       1580.0   \n46845  0740118031998PLS01       1460.0   \n46846  0740118033294AL003       1317.0   \n46847  086011800000110953        474.0   \n\n       Ressources imposables mensuelles moyennes (RI)  \n0                                              1237.0  \n1                                               640.0  \n2                                               764.0  \n3                                              2265.0  \n4                                               485.0  \n...                                               ...  \n46843                                          1480.0  \n46844                                          1500.0  \n46845                                          1460.0  \n46846                                          1317.0  \n46847                                             NaN  \n\n[46848 rows x 3 columns]",
      "text/html": "<div>\n<style scoped>\n    .dataframe tbody tr th:only-of-type {\n        vertical-align: middle;\n    }\n\n    .dataframe tbody tr th {\n        vertical-align: top;\n    }\n\n    .dataframe thead th {\n        text-align: right;\n    }\n</style>\n<table border=\"1\" class=\"dataframe\">\n  <thead>\n    <tr style=\"text-align: right;\">\n      <th></th>\n      <th>Numéro Unique</th>\n      <th>RM Moyennes</th>\n      <th>Ressources imposables mensuelles moyennes (RI)</th>\n    </tr>\n  </thead>\n  <tbody>\n    <tr>\n      <th>0</th>\n      <td>175099414455300002</td>\n      <td>1237.0</td>\n      <td>1237.0</td>\n    </tr>\n    <tr>\n      <th>1</th>\n      <td>069059810660611180</td>\n      <td>640.0</td>\n      <td>640.0</td>\n    </tr>\n    <tr>\n      <th>2</th>\n      <td>0740798980031056MA</td>\n      <td>764.0</td>\n      <td>764.0</td>\n    </tr>\n    <tr>\n      <th>3</th>\n      <td>0740798997321011MA</td>\n      <td>2265.0</td>\n      <td>2265.0</td>\n    </tr>\n    <tr>\n      <th>4</th>\n      <td>073079804027673B01</td>\n      <td>680.0</td>\n      <td>485.0</td>\n    </tr>\n    <tr>\n      <th>...</th>\n      <td>...</td>\n      <td>...</td>\n      <td>...</td>\n    </tr>\n    <tr>\n      <th>46843</th>\n      <td>074011803059174B03</td>\n      <td>1480.0</td>\n      <td>1480.0</td>\n    </tr>\n    <tr>\n      <th>46844</th>\n      <td>074011803092974042</td>\n      <td>1580.0</td>\n      <td>1500.0</td>\n    </tr>\n    <tr>\n      <th>46845</th>\n      <td>0740118031998PLS01</td>\n      <td>1460.0</td>\n      <td>1460.0</td>\n    </tr>\n    <tr>\n      <th>46846</th>\n      <td>0740118033294AL003</td>\n      <td>1317.0</td>\n      <td>1317.0</td>\n    </tr>\n    <tr>\n      <th>46847</th>\n      <td>086011800000110953</td>\n      <td>474.0</td>\n      <td>NaN</td>\n    </tr>\n  </tbody>\n</table>\n<p>46848 rows × 3 columns</p>\n</div>"
     },
     "execution_count": 22,
     "metadata": {},
     "output_type": "execute_result"
    }
   ],
   "source": [
    "bdd = Isolés_bis.merge(merged_dfbis, on='Numéro Unique', how='outer')\n",
    "bdd=bdd[['Numéro Unique', 'Ressources mensuelles\\n_x','Ressources imposables mensuelles moyennes (RI)']]\n",
    "bdd=bdd.rename(columns={'Ressources mensuelles\\n_x': 'RM Moyennes'})\n",
    "bdd"
   ],
   "metadata": {
    "collapsed": false,
    "pycharm": {
     "name": "#%%\n"
    }
   }
  },
  {
   "cell_type": "markdown",
   "source": [
    "##### Calcul des Prestations"
   ],
   "metadata": {
    "collapsed": false,
    "pycharm": {
     "name": "#%% md\n"
    }
   }
  },
  {
   "cell_type": "code",
   "execution_count": 23,
   "outputs": [],
   "source": [
    "values1=[\"Allocation d'adulte handicapé(AAH)\", \"Allocation d'éducation d'enfant handicapé (AEEH)\", \"Allocation de minimum vieillesse\", \"Allocation familiales\", \"Allocation Jeune Enfant (PAJE)\", \"Bourse étudiant\", \"Prime d'activité\", \"Revenu de solidarité active (RSA)\", \"Allocation journalière de présence parentale (AJPP)\"]\n",
    "filtered_df1 = Isolés[Isolés.Type.isin(values1)]\n",
    "shrank_values1 = filtered_df1.groupby(by='Numéro Unique').sum()['Montant par type de ressource\\n']\n",
    "merged_df1 = filtered_df1.merge(shrank_values1, left_on='Numéro Unique', right_index=True)\n",
    "merged_df1 = merged_df1.rename(columns={'Montant par type de ressource\\n_y': 'Prestations familiales et sociales mensuelles moyennes (PFS)'})\n",
    "merged_dfbis1=merged_df1.drop_duplicates(subset =\"Numéro Unique\")"
   ],
   "metadata": {
    "collapsed": false,
    "pycharm": {
     "name": "#%%\n"
    }
   }
  },
  {
   "cell_type": "code",
   "execution_count": 67,
   "outputs": [
    {
     "data": {
      "text/plain": "            Numéro Unique  RM Moyennes  \\\n0      175099414455300002       1237.0   \n1      069059810660611180        640.0   \n2      0740798980031056MA        764.0   \n3      0740798997321011MA       2265.0   \n4      073079804027673B01        680.0   \n...                   ...          ...   \n46843  074011803059174B03       1480.0   \n46844  074011803092974042       1580.0   \n46845  0740118031998PLS01       1460.0   \n46846  0740118033294AL003       1317.0   \n46847  086011800000110953        474.0   \n\n       Ressources imposables mensuelles moyennes (RI)  \\\n0                                              1237.0   \n1                                               640.0   \n2                                               764.0   \n3                                              2265.0   \n4                                               485.0   \n...                                               ...   \n46843                                          1480.0   \n46844                                          1500.0   \n46845                                          1460.0   \n46846                                          1317.0   \n46847                                             NaN   \n\n       Prestations familiales et sociales mensuelles moyennes (PFS)  \n0                                                    NaN             \n1                                                    NaN             \n2                                                    NaN             \n3                                                    NaN             \n4                                                  195.0             \n...                                                  ...             \n46843                                                NaN             \n46844                                               80.0             \n46845                                                NaN             \n46846                                                NaN             \n46847                                              474.0             \n\n[46848 rows x 4 columns]",
      "text/html": "<div>\n<style scoped>\n    .dataframe tbody tr th:only-of-type {\n        vertical-align: middle;\n    }\n\n    .dataframe tbody tr th {\n        vertical-align: top;\n    }\n\n    .dataframe thead th {\n        text-align: right;\n    }\n</style>\n<table border=\"1\" class=\"dataframe\">\n  <thead>\n    <tr style=\"text-align: right;\">\n      <th></th>\n      <th>Numéro Unique</th>\n      <th>RM Moyennes</th>\n      <th>Ressources imposables mensuelles moyennes (RI)</th>\n      <th>Prestations familiales et sociales mensuelles moyennes (PFS)</th>\n    </tr>\n  </thead>\n  <tbody>\n    <tr>\n      <th>0</th>\n      <td>175099414455300002</td>\n      <td>1237.0</td>\n      <td>1237.0</td>\n      <td>NaN</td>\n    </tr>\n    <tr>\n      <th>1</th>\n      <td>069059810660611180</td>\n      <td>640.0</td>\n      <td>640.0</td>\n      <td>NaN</td>\n    </tr>\n    <tr>\n      <th>2</th>\n      <td>0740798980031056MA</td>\n      <td>764.0</td>\n      <td>764.0</td>\n      <td>NaN</td>\n    </tr>\n    <tr>\n      <th>3</th>\n      <td>0740798997321011MA</td>\n      <td>2265.0</td>\n      <td>2265.0</td>\n      <td>NaN</td>\n    </tr>\n    <tr>\n      <th>4</th>\n      <td>073079804027673B01</td>\n      <td>680.0</td>\n      <td>485.0</td>\n      <td>195.0</td>\n    </tr>\n    <tr>\n      <th>...</th>\n      <td>...</td>\n      <td>...</td>\n      <td>...</td>\n      <td>...</td>\n    </tr>\n    <tr>\n      <th>46843</th>\n      <td>074011803059174B03</td>\n      <td>1480.0</td>\n      <td>1480.0</td>\n      <td>NaN</td>\n    </tr>\n    <tr>\n      <th>46844</th>\n      <td>074011803092974042</td>\n      <td>1580.0</td>\n      <td>1500.0</td>\n      <td>80.0</td>\n    </tr>\n    <tr>\n      <th>46845</th>\n      <td>0740118031998PLS01</td>\n      <td>1460.0</td>\n      <td>1460.0</td>\n      <td>NaN</td>\n    </tr>\n    <tr>\n      <th>46846</th>\n      <td>0740118033294AL003</td>\n      <td>1317.0</td>\n      <td>1317.0</td>\n      <td>NaN</td>\n    </tr>\n    <tr>\n      <th>46847</th>\n      <td>086011800000110953</td>\n      <td>474.0</td>\n      <td>NaN</td>\n      <td>474.0</td>\n    </tr>\n  </tbody>\n</table>\n<p>46848 rows × 4 columns</p>\n</div>"
     },
     "execution_count": 67,
     "metadata": {},
     "output_type": "execute_result"
    }
   ],
   "source": [
    "bddbis = bdd.merge(merged_dfbis1, on='Numéro Unique', how='outer')\n",
    "bddbis=bddbis.rename(columns={'Ressources mensuelles\\n_x': 'RM Moyennes'})\n",
    "bddbis=bddbis[['Numéro Unique', 'RM Moyennes','Ressources imposables mensuelles moyennes (RI)', 'Prestations familiales et sociales mensuelles moyennes (PFS)']]\n",
    "bddbis"
   ],
   "metadata": {
    "collapsed": false,
    "pycharm": {
     "name": "#%%\n"
    }
   }
  },
  {
   "cell_type": "markdown",
   "source": [
    "##### Valeurs nulles"
   ],
   "metadata": {
    "collapsed": false,
    "pycharm": {
     "name": "#%% md\n"
    }
   }
  },
  {
   "cell_type": "code",
   "execution_count": 68,
   "outputs": [
    {
     "data": {
      "text/plain": "7753"
     },
     "execution_count": 68,
     "metadata": {},
     "output_type": "execute_result"
    }
   ],
   "source": [
    "bddbis['Ressources imposables mensuelles moyennes (RI)'].isna().sum()"
   ],
   "metadata": {
    "collapsed": false,
    "pycharm": {
     "name": "#%%\n"
    }
   }
  },
  {
   "cell_type": "code",
   "execution_count": 69,
   "outputs": [
    {
     "data": {
      "text/plain": "33035"
     },
     "execution_count": 69,
     "metadata": {},
     "output_type": "execute_result"
    }
   ],
   "source": [
    "bddbis['Prestations familiales et sociales mensuelles moyennes (PFS)'].isna().sum()"
   ],
   "metadata": {
    "collapsed": false,
    "pycharm": {
     "name": "#%%\n"
    }
   }
  },
  {
   "cell_type": "code",
   "execution_count": 70,
   "outputs": [],
   "source": [
    "bddbis['Ressources imposables mensuelles moyennes (RI)'].fillna(0, inplace=True)\n",
    "bddbis['Prestations familiales et sociales mensuelles moyennes (PFS)'].fillna(0, inplace=True)"
   ],
   "metadata": {
    "collapsed": false,
    "pycharm": {
     "name": "#%%\n"
    }
   }
  },
  {
   "cell_type": "markdown",
   "source": [
    "##### Tableau croisé RI/PFS et graphique"
   ],
   "metadata": {
    "collapsed": false,
    "pycharm": {
     "name": "#%% md\n"
    }
   }
  },
  {
   "cell_type": "code",
   "execution_count": 71,
   "outputs": [],
   "source": [
    "bddbis['Tranches de RI']=0\n",
    "bddbis['Tranches de PFS']=0\n",
    "\n",
    "def decoupe2(rl):\n",
    "    for i in range(0, 2000, 50):\n",
    "        if i<rl and rl<=i+50:\n",
    "            return i\n",
    "        elif rl>2000:\n",
    "            return np.NaN\n",
    "        elif rl==0:\n",
    "            return np.NaN\n",
    "\n",
    "\n",
    "bddbis['Tranches de RI'] = bddbis['Ressources imposables mensuelles moyennes (RI)'].apply(decoupe2)\n",
    "bddbis['Tranches de PFS'] = bddbis['Prestations familiales et sociales mensuelles moyennes (PFS)'].apply(decoupe2)"
   ],
   "metadata": {
    "collapsed": false,
    "pycharm": {
     "name": "#%%\n"
    }
   }
  },
  {
   "cell_type": "code",
   "execution_count": 72,
   "outputs": [
    {
     "data": {
      "text/plain": "Tranches de PFS  0.0     50.0    100.0   150.0   200.0   250.0   300.0   \\\nTranches de RI                                                            \n0.0                   1       0       3       0       0       0       1   \n50.0                  0       0       1       3       0       3       8   \n100.0                 0       2       1       0       1       4      12   \n150.0                 0       4       3       1       4      11       7   \n200.0                 0       4       2       4       7       8       6   \n250.0                 1       2       5      10      12       7      12   \n300.0                 0       0      16      16       6       4       9   \n350.0                 3      13      17       6       6       8      11   \n400.0                 4       3       8       3       7       9      14   \n450.0                 7       3      12      12      12      21       8   \n500.0                 6       5      11       6       7      21       6   \n550.0                 3       4       5      10      24      14       9   \n600.0                 0       5       9      17      26      17      15   \n650.0                 3      17      55      24      51      27      16   \n700.0                10      19      86      13      20      31      12   \n750.0                12       9      37      20      32      17       8   \n800.0                10       7      32      27      19      13       6   \n850.0                11      16      33      28      14      16       5   \n900.0                 9      10      11      24       7       5       6   \n950.0                 3      14      19      26      12       9       3   \n1000.0                5       9      17      11      11       5       4   \n1050.0                8      12      30      18      11       5       6   \n1100.0                4      14      17      19       5       7       6   \n1150.0                9      37      35      25       8       6       5   \n1200.0                6      15      14      13       9       3       3   \n1250.0               14      30      22      17       8       3       2   \n1300.0               10      15       9      11       3       2       2   \n1350.0               15      17      15       8       3       2       1   \n1400.0                6       9      10       7       0       2       2   \n1450.0                8      13      14       8       4       1       1   \n1500.0                2       2       9       5       1       1       1   \n1550.0                1       5       2       4       2       6       2   \n1600.0                0       4       2       2       0       1       1   \n1650.0                3       6       9       3       2       0       3   \n1700.0                1       3       3       1       1       0       0   \n1750.0                3       5       6       2       0       3       0   \n1800.0                2       1       0       1       0       1       0   \n1850.0                1       2       3       0       0       0       1   \n1900.0                0       1       6       0       0       0       2   \n1950.0                0       4       2       1       1       1       2   \n\nTranches de PFS  350.0   400.0   450.0   ...  1050.0  1100.0  1150.0  1200.0  \\\nTranches de RI                           ...                                   \n0.0                   4       7      13  ...       0       0       0       0   \n50.0                 14      14      19  ...       2       1       1       0   \n100.0                11       8      30  ...       0       0       0       0   \n150.0                11       6      31  ...       1       0       0       0   \n200.0                 4      11      27  ...       0       0       0       1   \n250.0                18      10      53  ...       0       0       0       0   \n300.0                 7       6      30  ...       1       0       0       0   \n350.0                10      17      19  ...       0       0       3       0   \n400.0                17      10      15  ...       0       0       1       1   \n450.0                10      12      19  ...       1       0       2       1   \n500.0                 6       8      19  ...       0       0       1       0   \n550.0                13       9      14  ...       0       1       0       0   \n600.0                11      10      22  ...       1       0       1       0   \n650.0                 8       7      29  ...       0       0       0       0   \n700.0                13       3      15  ...       0       1       0       0   \n750.0                11      14      17  ...       0       0       0       0   \n800.0                 8       8      17  ...       0       0       0       0   \n850.0                11       3      16  ...       0       0       0       1   \n900.0                 4       6      16  ...       0       0       0       0   \n950.0                 4       6      12  ...       0       0       0       0   \n1000.0                1       5       2  ...       0       0       0       0   \n1050.0                3       2      11  ...       0       0       0       0   \n1100.0                3       3       5  ...       0       0       0       0   \n1150.0                4       6      11  ...       0       0       0       0   \n1200.0                4       3      10  ...       0       0       0       0   \n1250.0                4       6       8  ...       0       0       0       0   \n1300.0                3       1       4  ...       1       0       1       0   \n1350.0                2       3       8  ...       0       0       0       0   \n1400.0                2       2       3  ...       0       0       0       0   \n1450.0                4       2       9  ...       0       0       0       0   \n1500.0                1       0       1  ...       0       0       0       0   \n1550.0                2       2       4  ...       0       0       0       0   \n1600.0                0       1       2  ...       0       0       0       0   \n1650.0                1       0       0  ...       0       0       0       0   \n1700.0                1       0       0  ...       0       0       0       0   \n1750.0                2       1       1  ...       0       0       0       0   \n1800.0                1       0       1  ...       0       0       0       0   \n1850.0                0       0       1  ...       0       0       0       0   \n1900.0                0       0       0  ...       0       0       0       0   \n1950.0                0       0       4  ...       0       0       0       0   \n\nTranches de PFS  1250.0  1300.0  1350.0  1450.0  1500.0  1600.0  \nTranches de RI                                                   \n0.0                   0       0       0       0       0       0  \n50.0                  0       0       0       0       0       0  \n100.0                 0       0       0       0       0       0  \n150.0                 1       0       0       1       0       0  \n200.0                 0       0       0       0       0       0  \n250.0                 0       0       0       0       0       0  \n300.0                 0       0       0       1       0       0  \n350.0                 0       0       0       0       0       0  \n400.0                 0       0       0       0       0       1  \n450.0                 0       0       0       0       0       0  \n500.0                 0       1       0       0       0       0  \n550.0                 0       0       0       0       0       0  \n600.0                 1       0       0       0       0       0  \n650.0                 0       0       0       0       1       0  \n700.0                 0       1       0       0       0       0  \n750.0                 0       0       0       0       0       0  \n800.0                 0       0       0       0       0       0  \n850.0                 0       1       0       0       0       0  \n900.0                 0       0       0       0       0       0  \n950.0                 0       0       0       0       0       0  \n1000.0                0       0       0       0       0       0  \n1050.0                0       0       0       0       0       0  \n1100.0                0       0       0       0       0       0  \n1150.0                0       0       0       0       0       0  \n1200.0                0       1       0       0       0       0  \n1250.0                0       0       0       0       0       0  \n1300.0                0       0       0       0       0       0  \n1350.0                0       0       1       0       0       0  \n1400.0                0       0       0       0       0       0  \n1450.0                0       0       0       1       0       0  \n1500.0                0       0       0       0       0       0  \n1550.0                0       0       0       0       0       0  \n1600.0                0       0       0       0       0       0  \n1650.0                0       0       0       0       0       0  \n1700.0                0       0       0       0       0       0  \n1750.0                0       0       0       0       0       0  \n1800.0                0       0       0       0       0       0  \n1850.0                0       0       0       0       0       0  \n1900.0                0       0       0       0       0       0  \n1950.0                0       0       0       0       0       0  \n\n[40 rows x 31 columns]",
      "text/html": "<div>\n<style scoped>\n    .dataframe tbody tr th:only-of-type {\n        vertical-align: middle;\n    }\n\n    .dataframe tbody tr th {\n        vertical-align: top;\n    }\n\n    .dataframe thead th {\n        text-align: right;\n    }\n</style>\n<table border=\"1\" class=\"dataframe\">\n  <thead>\n    <tr style=\"text-align: right;\">\n      <th>Tranches de PFS</th>\n      <th>0.0</th>\n      <th>50.0</th>\n      <th>100.0</th>\n      <th>150.0</th>\n      <th>200.0</th>\n      <th>250.0</th>\n      <th>300.0</th>\n      <th>350.0</th>\n      <th>400.0</th>\n      <th>450.0</th>\n      <th>...</th>\n      <th>1050.0</th>\n      <th>1100.0</th>\n      <th>1150.0</th>\n      <th>1200.0</th>\n      <th>1250.0</th>\n      <th>1300.0</th>\n      <th>1350.0</th>\n      <th>1450.0</th>\n      <th>1500.0</th>\n      <th>1600.0</th>\n    </tr>\n    <tr>\n      <th>Tranches de RI</th>\n      <th></th>\n      <th></th>\n      <th></th>\n      <th></th>\n      <th></th>\n      <th></th>\n      <th></th>\n      <th></th>\n      <th></th>\n      <th></th>\n      <th></th>\n      <th></th>\n      <th></th>\n      <th></th>\n      <th></th>\n      <th></th>\n      <th></th>\n      <th></th>\n      <th></th>\n      <th></th>\n      <th></th>\n    </tr>\n  </thead>\n  <tbody>\n    <tr>\n      <th>0.0</th>\n      <td>1</td>\n      <td>0</td>\n      <td>3</td>\n      <td>0</td>\n      <td>0</td>\n      <td>0</td>\n      <td>1</td>\n      <td>4</td>\n      <td>7</td>\n      <td>13</td>\n      <td>...</td>\n      <td>0</td>\n      <td>0</td>\n      <td>0</td>\n      <td>0</td>\n      <td>0</td>\n      <td>0</td>\n      <td>0</td>\n      <td>0</td>\n      <td>0</td>\n      <td>0</td>\n    </tr>\n    <tr>\n      <th>50.0</th>\n      <td>0</td>\n      <td>0</td>\n      <td>1</td>\n      <td>3</td>\n      <td>0</td>\n      <td>3</td>\n      <td>8</td>\n      <td>14</td>\n      <td>14</td>\n      <td>19</td>\n      <td>...</td>\n      <td>2</td>\n      <td>1</td>\n      <td>1</td>\n      <td>0</td>\n      <td>0</td>\n      <td>0</td>\n      <td>0</td>\n      <td>0</td>\n      <td>0</td>\n      <td>0</td>\n    </tr>\n    <tr>\n      <th>100.0</th>\n      <td>0</td>\n      <td>2</td>\n      <td>1</td>\n      <td>0</td>\n      <td>1</td>\n      <td>4</td>\n      <td>12</td>\n      <td>11</td>\n      <td>8</td>\n      <td>30</td>\n      <td>...</td>\n      <td>0</td>\n      <td>0</td>\n      <td>0</td>\n      <td>0</td>\n      <td>0</td>\n      <td>0</td>\n      <td>0</td>\n      <td>0</td>\n      <td>0</td>\n      <td>0</td>\n    </tr>\n    <tr>\n      <th>150.0</th>\n      <td>0</td>\n      <td>4</td>\n      <td>3</td>\n      <td>1</td>\n      <td>4</td>\n      <td>11</td>\n      <td>7</td>\n      <td>11</td>\n      <td>6</td>\n      <td>31</td>\n      <td>...</td>\n      <td>1</td>\n      <td>0</td>\n      <td>0</td>\n      <td>0</td>\n      <td>1</td>\n      <td>0</td>\n      <td>0</td>\n      <td>1</td>\n      <td>0</td>\n      <td>0</td>\n    </tr>\n    <tr>\n      <th>200.0</th>\n      <td>0</td>\n      <td>4</td>\n      <td>2</td>\n      <td>4</td>\n      <td>7</td>\n      <td>8</td>\n      <td>6</td>\n      <td>4</td>\n      <td>11</td>\n      <td>27</td>\n      <td>...</td>\n      <td>0</td>\n      <td>0</td>\n      <td>0</td>\n      <td>1</td>\n      <td>0</td>\n      <td>0</td>\n      <td>0</td>\n      <td>0</td>\n      <td>0</td>\n      <td>0</td>\n    </tr>\n    <tr>\n      <th>250.0</th>\n      <td>1</td>\n      <td>2</td>\n      <td>5</td>\n      <td>10</td>\n      <td>12</td>\n      <td>7</td>\n      <td>12</td>\n      <td>18</td>\n      <td>10</td>\n      <td>53</td>\n      <td>...</td>\n      <td>0</td>\n      <td>0</td>\n      <td>0</td>\n      <td>0</td>\n      <td>0</td>\n      <td>0</td>\n      <td>0</td>\n      <td>0</td>\n      <td>0</td>\n      <td>0</td>\n    </tr>\n    <tr>\n      <th>300.0</th>\n      <td>0</td>\n      <td>0</td>\n      <td>16</td>\n      <td>16</td>\n      <td>6</td>\n      <td>4</td>\n      <td>9</td>\n      <td>7</td>\n      <td>6</td>\n      <td>30</td>\n      <td>...</td>\n      <td>1</td>\n      <td>0</td>\n      <td>0</td>\n      <td>0</td>\n      <td>0</td>\n      <td>0</td>\n      <td>0</td>\n      <td>1</td>\n      <td>0</td>\n      <td>0</td>\n    </tr>\n    <tr>\n      <th>350.0</th>\n      <td>3</td>\n      <td>13</td>\n      <td>17</td>\n      <td>6</td>\n      <td>6</td>\n      <td>8</td>\n      <td>11</td>\n      <td>10</td>\n      <td>17</td>\n      <td>19</td>\n      <td>...</td>\n      <td>0</td>\n      <td>0</td>\n      <td>3</td>\n      <td>0</td>\n      <td>0</td>\n      <td>0</td>\n      <td>0</td>\n      <td>0</td>\n      <td>0</td>\n      <td>0</td>\n    </tr>\n    <tr>\n      <th>400.0</th>\n      <td>4</td>\n      <td>3</td>\n      <td>8</td>\n      <td>3</td>\n      <td>7</td>\n      <td>9</td>\n      <td>14</td>\n      <td>17</td>\n      <td>10</td>\n      <td>15</td>\n      <td>...</td>\n      <td>0</td>\n      <td>0</td>\n      <td>1</td>\n      <td>1</td>\n      <td>0</td>\n      <td>0</td>\n      <td>0</td>\n      <td>0</td>\n      <td>0</td>\n      <td>1</td>\n    </tr>\n    <tr>\n      <th>450.0</th>\n      <td>7</td>\n      <td>3</td>\n      <td>12</td>\n      <td>12</td>\n      <td>12</td>\n      <td>21</td>\n      <td>8</td>\n      <td>10</td>\n      <td>12</td>\n      <td>19</td>\n      <td>...</td>\n      <td>1</td>\n      <td>0</td>\n      <td>2</td>\n      <td>1</td>\n      <td>0</td>\n      <td>0</td>\n      <td>0</td>\n      <td>0</td>\n      <td>0</td>\n      <td>0</td>\n    </tr>\n    <tr>\n      <th>500.0</th>\n      <td>6</td>\n      <td>5</td>\n      <td>11</td>\n      <td>6</td>\n      <td>7</td>\n      <td>21</td>\n      <td>6</td>\n      <td>6</td>\n      <td>8</td>\n      <td>19</td>\n      <td>...</td>\n      <td>0</td>\n      <td>0</td>\n      <td>1</td>\n      <td>0</td>\n      <td>0</td>\n      <td>1</td>\n      <td>0</td>\n      <td>0</td>\n      <td>0</td>\n      <td>0</td>\n    </tr>\n    <tr>\n      <th>550.0</th>\n      <td>3</td>\n      <td>4</td>\n      <td>5</td>\n      <td>10</td>\n      <td>24</td>\n      <td>14</td>\n      <td>9</td>\n      <td>13</td>\n      <td>9</td>\n      <td>14</td>\n      <td>...</td>\n      <td>0</td>\n      <td>1</td>\n      <td>0</td>\n      <td>0</td>\n      <td>0</td>\n      <td>0</td>\n      <td>0</td>\n      <td>0</td>\n      <td>0</td>\n      <td>0</td>\n    </tr>\n    <tr>\n      <th>600.0</th>\n      <td>0</td>\n      <td>5</td>\n      <td>9</td>\n      <td>17</td>\n      <td>26</td>\n      <td>17</td>\n      <td>15</td>\n      <td>11</td>\n      <td>10</td>\n      <td>22</td>\n      <td>...</td>\n      <td>1</td>\n      <td>0</td>\n      <td>1</td>\n      <td>0</td>\n      <td>1</td>\n      <td>0</td>\n      <td>0</td>\n      <td>0</td>\n      <td>0</td>\n      <td>0</td>\n    </tr>\n    <tr>\n      <th>650.0</th>\n      <td>3</td>\n      <td>17</td>\n      <td>55</td>\n      <td>24</td>\n      <td>51</td>\n      <td>27</td>\n      <td>16</td>\n      <td>8</td>\n      <td>7</td>\n      <td>29</td>\n      <td>...</td>\n      <td>0</td>\n      <td>0</td>\n      <td>0</td>\n      <td>0</td>\n      <td>0</td>\n      <td>0</td>\n      <td>0</td>\n      <td>0</td>\n      <td>1</td>\n      <td>0</td>\n    </tr>\n    <tr>\n      <th>700.0</th>\n      <td>10</td>\n      <td>19</td>\n      <td>86</td>\n      <td>13</td>\n      <td>20</td>\n      <td>31</td>\n      <td>12</td>\n      <td>13</td>\n      <td>3</td>\n      <td>15</td>\n      <td>...</td>\n      <td>0</td>\n      <td>1</td>\n      <td>0</td>\n      <td>0</td>\n      <td>0</td>\n      <td>1</td>\n      <td>0</td>\n      <td>0</td>\n      <td>0</td>\n      <td>0</td>\n    </tr>\n    <tr>\n      <th>750.0</th>\n      <td>12</td>\n      <td>9</td>\n      <td>37</td>\n      <td>20</td>\n      <td>32</td>\n      <td>17</td>\n      <td>8</td>\n      <td>11</td>\n      <td>14</td>\n      <td>17</td>\n      <td>...</td>\n      <td>0</td>\n      <td>0</td>\n      <td>0</td>\n      <td>0</td>\n      <td>0</td>\n      <td>0</td>\n      <td>0</td>\n      <td>0</td>\n      <td>0</td>\n      <td>0</td>\n    </tr>\n    <tr>\n      <th>800.0</th>\n      <td>10</td>\n      <td>7</td>\n      <td>32</td>\n      <td>27</td>\n      <td>19</td>\n      <td>13</td>\n      <td>6</td>\n      <td>8</td>\n      <td>8</td>\n      <td>17</td>\n      <td>...</td>\n      <td>0</td>\n      <td>0</td>\n      <td>0</td>\n      <td>0</td>\n      <td>0</td>\n      <td>0</td>\n      <td>0</td>\n      <td>0</td>\n      <td>0</td>\n      <td>0</td>\n    </tr>\n    <tr>\n      <th>850.0</th>\n      <td>11</td>\n      <td>16</td>\n      <td>33</td>\n      <td>28</td>\n      <td>14</td>\n      <td>16</td>\n      <td>5</td>\n      <td>11</td>\n      <td>3</td>\n      <td>16</td>\n      <td>...</td>\n      <td>0</td>\n      <td>0</td>\n      <td>0</td>\n      <td>1</td>\n      <td>0</td>\n      <td>1</td>\n      <td>0</td>\n      <td>0</td>\n      <td>0</td>\n      <td>0</td>\n    </tr>\n    <tr>\n      <th>900.0</th>\n      <td>9</td>\n      <td>10</td>\n      <td>11</td>\n      <td>24</td>\n      <td>7</td>\n      <td>5</td>\n      <td>6</td>\n      <td>4</td>\n      <td>6</td>\n      <td>16</td>\n      <td>...</td>\n      <td>0</td>\n      <td>0</td>\n      <td>0</td>\n      <td>0</td>\n      <td>0</td>\n      <td>0</td>\n      <td>0</td>\n      <td>0</td>\n      <td>0</td>\n      <td>0</td>\n    </tr>\n    <tr>\n      <th>950.0</th>\n      <td>3</td>\n      <td>14</td>\n      <td>19</td>\n      <td>26</td>\n      <td>12</td>\n      <td>9</td>\n      <td>3</td>\n      <td>4</td>\n      <td>6</td>\n      <td>12</td>\n      <td>...</td>\n      <td>0</td>\n      <td>0</td>\n      <td>0</td>\n      <td>0</td>\n      <td>0</td>\n      <td>0</td>\n      <td>0</td>\n      <td>0</td>\n      <td>0</td>\n      <td>0</td>\n    </tr>\n    <tr>\n      <th>1000.0</th>\n      <td>5</td>\n      <td>9</td>\n      <td>17</td>\n      <td>11</td>\n      <td>11</td>\n      <td>5</td>\n      <td>4</td>\n      <td>1</td>\n      <td>5</td>\n      <td>2</td>\n      <td>...</td>\n      <td>0</td>\n      <td>0</td>\n      <td>0</td>\n      <td>0</td>\n      <td>0</td>\n      <td>0</td>\n      <td>0</td>\n      <td>0</td>\n      <td>0</td>\n      <td>0</td>\n    </tr>\n    <tr>\n      <th>1050.0</th>\n      <td>8</td>\n      <td>12</td>\n      <td>30</td>\n      <td>18</td>\n      <td>11</td>\n      <td>5</td>\n      <td>6</td>\n      <td>3</td>\n      <td>2</td>\n      <td>11</td>\n      <td>...</td>\n      <td>0</td>\n      <td>0</td>\n      <td>0</td>\n      <td>0</td>\n      <td>0</td>\n      <td>0</td>\n      <td>0</td>\n      <td>0</td>\n      <td>0</td>\n      <td>0</td>\n    </tr>\n    <tr>\n      <th>1100.0</th>\n      <td>4</td>\n      <td>14</td>\n      <td>17</td>\n      <td>19</td>\n      <td>5</td>\n      <td>7</td>\n      <td>6</td>\n      <td>3</td>\n      <td>3</td>\n      <td>5</td>\n      <td>...</td>\n      <td>0</td>\n      <td>0</td>\n      <td>0</td>\n      <td>0</td>\n      <td>0</td>\n      <td>0</td>\n      <td>0</td>\n      <td>0</td>\n      <td>0</td>\n      <td>0</td>\n    </tr>\n    <tr>\n      <th>1150.0</th>\n      <td>9</td>\n      <td>37</td>\n      <td>35</td>\n      <td>25</td>\n      <td>8</td>\n      <td>6</td>\n      <td>5</td>\n      <td>4</td>\n      <td>6</td>\n      <td>11</td>\n      <td>...</td>\n      <td>0</td>\n      <td>0</td>\n      <td>0</td>\n      <td>0</td>\n      <td>0</td>\n      <td>0</td>\n      <td>0</td>\n      <td>0</td>\n      <td>0</td>\n      <td>0</td>\n    </tr>\n    <tr>\n      <th>1200.0</th>\n      <td>6</td>\n      <td>15</td>\n      <td>14</td>\n      <td>13</td>\n      <td>9</td>\n      <td>3</td>\n      <td>3</td>\n      <td>4</td>\n      <td>3</td>\n      <td>10</td>\n      <td>...</td>\n      <td>0</td>\n      <td>0</td>\n      <td>0</td>\n      <td>0</td>\n      <td>0</td>\n      <td>1</td>\n      <td>0</td>\n      <td>0</td>\n      <td>0</td>\n      <td>0</td>\n    </tr>\n    <tr>\n      <th>1250.0</th>\n      <td>14</td>\n      <td>30</td>\n      <td>22</td>\n      <td>17</td>\n      <td>8</td>\n      <td>3</td>\n      <td>2</td>\n      <td>4</td>\n      <td>6</td>\n      <td>8</td>\n      <td>...</td>\n      <td>0</td>\n      <td>0</td>\n      <td>0</td>\n      <td>0</td>\n      <td>0</td>\n      <td>0</td>\n      <td>0</td>\n      <td>0</td>\n      <td>0</td>\n      <td>0</td>\n    </tr>\n    <tr>\n      <th>1300.0</th>\n      <td>10</td>\n      <td>15</td>\n      <td>9</td>\n      <td>11</td>\n      <td>3</td>\n      <td>2</td>\n      <td>2</td>\n      <td>3</td>\n      <td>1</td>\n      <td>4</td>\n      <td>...</td>\n      <td>1</td>\n      <td>0</td>\n      <td>1</td>\n      <td>0</td>\n      <td>0</td>\n      <td>0</td>\n      <td>0</td>\n      <td>0</td>\n      <td>0</td>\n      <td>0</td>\n    </tr>\n    <tr>\n      <th>1350.0</th>\n      <td>15</td>\n      <td>17</td>\n      <td>15</td>\n      <td>8</td>\n      <td>3</td>\n      <td>2</td>\n      <td>1</td>\n      <td>2</td>\n      <td>3</td>\n      <td>8</td>\n      <td>...</td>\n      <td>0</td>\n      <td>0</td>\n      <td>0</td>\n      <td>0</td>\n      <td>0</td>\n      <td>0</td>\n      <td>1</td>\n      <td>0</td>\n      <td>0</td>\n      <td>0</td>\n    </tr>\n    <tr>\n      <th>1400.0</th>\n      <td>6</td>\n      <td>9</td>\n      <td>10</td>\n      <td>7</td>\n      <td>0</td>\n      <td>2</td>\n      <td>2</td>\n      <td>2</td>\n      <td>2</td>\n      <td>3</td>\n      <td>...</td>\n      <td>0</td>\n      <td>0</td>\n      <td>0</td>\n      <td>0</td>\n      <td>0</td>\n      <td>0</td>\n      <td>0</td>\n      <td>0</td>\n      <td>0</td>\n      <td>0</td>\n    </tr>\n    <tr>\n      <th>1450.0</th>\n      <td>8</td>\n      <td>13</td>\n      <td>14</td>\n      <td>8</td>\n      <td>4</td>\n      <td>1</td>\n      <td>1</td>\n      <td>4</td>\n      <td>2</td>\n      <td>9</td>\n      <td>...</td>\n      <td>0</td>\n      <td>0</td>\n      <td>0</td>\n      <td>0</td>\n      <td>0</td>\n      <td>0</td>\n      <td>0</td>\n      <td>1</td>\n      <td>0</td>\n      <td>0</td>\n    </tr>\n    <tr>\n      <th>1500.0</th>\n      <td>2</td>\n      <td>2</td>\n      <td>9</td>\n      <td>5</td>\n      <td>1</td>\n      <td>1</td>\n      <td>1</td>\n      <td>1</td>\n      <td>0</td>\n      <td>1</td>\n      <td>...</td>\n      <td>0</td>\n      <td>0</td>\n      <td>0</td>\n      <td>0</td>\n      <td>0</td>\n      <td>0</td>\n      <td>0</td>\n      <td>0</td>\n      <td>0</td>\n      <td>0</td>\n    </tr>\n    <tr>\n      <th>1550.0</th>\n      <td>1</td>\n      <td>5</td>\n      <td>2</td>\n      <td>4</td>\n      <td>2</td>\n      <td>6</td>\n      <td>2</td>\n      <td>2</td>\n      <td>2</td>\n      <td>4</td>\n      <td>...</td>\n      <td>0</td>\n      <td>0</td>\n      <td>0</td>\n      <td>0</td>\n      <td>0</td>\n      <td>0</td>\n      <td>0</td>\n      <td>0</td>\n      <td>0</td>\n      <td>0</td>\n    </tr>\n    <tr>\n      <th>1600.0</th>\n      <td>0</td>\n      <td>4</td>\n      <td>2</td>\n      <td>2</td>\n      <td>0</td>\n      <td>1</td>\n      <td>1</td>\n      <td>0</td>\n      <td>1</td>\n      <td>2</td>\n      <td>...</td>\n      <td>0</td>\n      <td>0</td>\n      <td>0</td>\n      <td>0</td>\n      <td>0</td>\n      <td>0</td>\n      <td>0</td>\n      <td>0</td>\n      <td>0</td>\n      <td>0</td>\n    </tr>\n    <tr>\n      <th>1650.0</th>\n      <td>3</td>\n      <td>6</td>\n      <td>9</td>\n      <td>3</td>\n      <td>2</td>\n      <td>0</td>\n      <td>3</td>\n      <td>1</td>\n      <td>0</td>\n      <td>0</td>\n      <td>...</td>\n      <td>0</td>\n      <td>0</td>\n      <td>0</td>\n      <td>0</td>\n      <td>0</td>\n      <td>0</td>\n      <td>0</td>\n      <td>0</td>\n      <td>0</td>\n      <td>0</td>\n    </tr>\n    <tr>\n      <th>1700.0</th>\n      <td>1</td>\n      <td>3</td>\n      <td>3</td>\n      <td>1</td>\n      <td>1</td>\n      <td>0</td>\n      <td>0</td>\n      <td>1</td>\n      <td>0</td>\n      <td>0</td>\n      <td>...</td>\n      <td>0</td>\n      <td>0</td>\n      <td>0</td>\n      <td>0</td>\n      <td>0</td>\n      <td>0</td>\n      <td>0</td>\n      <td>0</td>\n      <td>0</td>\n      <td>0</td>\n    </tr>\n    <tr>\n      <th>1750.0</th>\n      <td>3</td>\n      <td>5</td>\n      <td>6</td>\n      <td>2</td>\n      <td>0</td>\n      <td>3</td>\n      <td>0</td>\n      <td>2</td>\n      <td>1</td>\n      <td>1</td>\n      <td>...</td>\n      <td>0</td>\n      <td>0</td>\n      <td>0</td>\n      <td>0</td>\n      <td>0</td>\n      <td>0</td>\n      <td>0</td>\n      <td>0</td>\n      <td>0</td>\n      <td>0</td>\n    </tr>\n    <tr>\n      <th>1800.0</th>\n      <td>2</td>\n      <td>1</td>\n      <td>0</td>\n      <td>1</td>\n      <td>0</td>\n      <td>1</td>\n      <td>0</td>\n      <td>1</td>\n      <td>0</td>\n      <td>1</td>\n      <td>...</td>\n      <td>0</td>\n      <td>0</td>\n      <td>0</td>\n      <td>0</td>\n      <td>0</td>\n      <td>0</td>\n      <td>0</td>\n      <td>0</td>\n      <td>0</td>\n      <td>0</td>\n    </tr>\n    <tr>\n      <th>1850.0</th>\n      <td>1</td>\n      <td>2</td>\n      <td>3</td>\n      <td>0</td>\n      <td>0</td>\n      <td>0</td>\n      <td>1</td>\n      <td>0</td>\n      <td>0</td>\n      <td>1</td>\n      <td>...</td>\n      <td>0</td>\n      <td>0</td>\n      <td>0</td>\n      <td>0</td>\n      <td>0</td>\n      <td>0</td>\n      <td>0</td>\n      <td>0</td>\n      <td>0</td>\n      <td>0</td>\n    </tr>\n    <tr>\n      <th>1900.0</th>\n      <td>0</td>\n      <td>1</td>\n      <td>6</td>\n      <td>0</td>\n      <td>0</td>\n      <td>0</td>\n      <td>2</td>\n      <td>0</td>\n      <td>0</td>\n      <td>0</td>\n      <td>...</td>\n      <td>0</td>\n      <td>0</td>\n      <td>0</td>\n      <td>0</td>\n      <td>0</td>\n      <td>0</td>\n      <td>0</td>\n      <td>0</td>\n      <td>0</td>\n      <td>0</td>\n    </tr>\n    <tr>\n      <th>1950.0</th>\n      <td>0</td>\n      <td>4</td>\n      <td>2</td>\n      <td>1</td>\n      <td>1</td>\n      <td>1</td>\n      <td>2</td>\n      <td>0</td>\n      <td>0</td>\n      <td>4</td>\n      <td>...</td>\n      <td>0</td>\n      <td>0</td>\n      <td>0</td>\n      <td>0</td>\n      <td>0</td>\n      <td>0</td>\n      <td>0</td>\n      <td>0</td>\n      <td>0</td>\n      <td>0</td>\n    </tr>\n  </tbody>\n</table>\n<p>40 rows × 31 columns</p>\n</div>"
     },
     "execution_count": 72,
     "metadata": {},
     "output_type": "execute_result"
    }
   ],
   "source": [
    "z=bddbis.pivot_table(index=\"Tranches de RI\", columns=\"Tranches de PFS\", values=\"Numéro Unique\",  aggfunc=\"size\", fill_value=0)\n",
    "z"
   ],
   "metadata": {
    "collapsed": false,
    "pycharm": {
     "name": "#%%\n"
    }
   }
  },
  {
   "cell_type": "code",
   "execution_count": 73,
   "outputs": [
    {
     "data": {
      "application/vnd.plotly.v1+json": {
       "data": [
        {
         "x": [
          0.0,
          50.0,
          100.0,
          150.0,
          200.0,
          250.0,
          300.0,
          350.0,
          400.0,
          450.0,
          500.0,
          550.0,
          600.0,
          650.0,
          700.0,
          750.0,
          800.0,
          850.0,
          900.0,
          950.0,
          1000.0,
          1050.0,
          1100.0,
          1150.0,
          1200.0,
          1250.0,
          1300.0,
          1350.0,
          1450.0,
          1500.0,
          1600.0
         ],
         "y": [
          0.0,
          50.0,
          100.0,
          150.0,
          200.0,
          250.0,
          300.0,
          350.0,
          400.0,
          450.0,
          500.0,
          550.0,
          600.0,
          650.0,
          700.0,
          750.0,
          800.0,
          850.0,
          900.0,
          950.0,
          1000.0,
          1050.0,
          1100.0,
          1150.0,
          1200.0,
          1250.0,
          1300.0,
          1350.0,
          1400.0,
          1450.0,
          1500.0,
          1550.0,
          1600.0,
          1650.0,
          1700.0,
          1750.0,
          1800.0,
          1850.0,
          1900.0,
          1950.0
         ],
         "z": [
          [
           1,
           0,
           3,
           0,
           0,
           0,
           1,
           4,
           7,
           13,
           0,
           0,
           1,
           0,
           1,
           8,
           2,
           0,
           0,
           1,
           0,
           0,
           0,
           0,
           0,
           0,
           0,
           0,
           0,
           0,
           0
          ],
          [
           0,
           0,
           1,
           3,
           0,
           3,
           8,
           14,
           14,
           19,
           4,
           1,
           1,
           1,
           5,
           12,
           11,
           2,
           1,
           1,
           0,
           2,
           1,
           1,
           0,
           0,
           0,
           0,
           0,
           0,
           0
          ],
          [
           0,
           2,
           1,
           0,
           1,
           4,
           12,
           11,
           8,
           30,
           8,
           5,
           3,
           9,
           7,
           16,
           117,
           11,
           12,
           4,
           1,
           0,
           0,
           0,
           0,
           0,
           0,
           0,
           0,
           0,
           0
          ],
          [
           0,
           4,
           3,
           1,
           4,
           11,
           7,
           11,
           6,
           31,
           5,
           1,
           6,
           4,
           2,
           10,
           116,
           11,
           4,
           4,
           1,
           1,
           0,
           0,
           0,
           1,
           0,
           0,
           1,
           0,
           0
          ],
          [
           0,
           4,
           2,
           4,
           7,
           8,
           6,
           4,
           11,
           27,
           7,
           6,
           2,
           1,
           5,
           2,
           14,
           1,
           0,
           5,
           1,
           0,
           0,
           0,
           1,
           0,
           0,
           0,
           0,
           0,
           0
          ],
          [
           1,
           2,
           5,
           10,
           12,
           7,
           12,
           18,
           10,
           53,
           25,
           6,
           5,
           6,
           6,
           7,
           22,
           3,
           4,
           4,
           2,
           0,
           0,
           0,
           0,
           0,
           0,
           0,
           0,
           0,
           0
          ],
          [
           0,
           0,
           16,
           16,
           6,
           4,
           9,
           7,
           6,
           30,
           9,
           11,
           4,
           1,
           4,
           7,
           7,
           1,
           1,
           2,
           1,
           1,
           0,
           0,
           0,
           0,
           0,
           0,
           1,
           0,
           0
          ],
          [
           3,
           13,
           17,
           6,
           6,
           8,
           11,
           10,
           17,
           19,
           9,
           6,
           4,
           3,
           3,
           5,
           3,
           0,
           2,
           0,
           0,
           0,
           0,
           3,
           0,
           0,
           0,
           0,
           0,
           0,
           0
          ],
          [
           4,
           3,
           8,
           3,
           7,
           9,
           14,
           17,
           10,
           15,
           9,
           2,
           2,
           3,
           2,
           7,
           8,
           2,
           2,
           1,
           0,
           0,
           0,
           1,
           1,
           0,
           0,
           0,
           0,
           0,
           1
          ],
          [
           7,
           3,
           12,
           12,
           12,
           21,
           8,
           10,
           12,
           19,
           9,
           8,
           6,
           7,
           3,
           9,
           24,
           3,
           7,
           3,
           1,
           1,
           0,
           2,
           1,
           0,
           0,
           0,
           0,
           0,
           0
          ],
          [
           6,
           5,
           11,
           6,
           7,
           21,
           6,
           6,
           8,
           19,
           5,
           6,
           3,
           4,
           3,
           5,
           41,
           3,
           6,
           2,
           0,
           0,
           0,
           1,
           0,
           0,
           1,
           0,
           0,
           0,
           0
          ],
          [
           3,
           4,
           5,
           10,
           24,
           14,
           9,
           13,
           9,
           14,
           11,
           8,
           4,
           3,
           4,
           6,
           11,
           0,
           0,
           2,
           0,
           0,
           1,
           0,
           0,
           0,
           0,
           0,
           0,
           0,
           0
          ],
          [
           0,
           5,
           9,
           17,
           26,
           17,
           15,
           11,
           10,
           22,
           15,
           6,
           13,
           2,
           1,
           4,
           3,
           1,
           1,
           0,
           0,
           1,
           0,
           1,
           0,
           1,
           0,
           0,
           0,
           0,
           0
          ],
          [
           3,
           17,
           55,
           24,
           51,
           27,
           16,
           8,
           7,
           29,
           12,
           5,
           8,
           4,
           2,
           1,
           9,
           1,
           2,
           2,
           0,
           0,
           0,
           0,
           0,
           0,
           0,
           0,
           0,
           1,
           0
          ],
          [
           10,
           19,
           86,
           13,
           20,
           31,
           12,
           13,
           3,
           15,
           11,
           7,
           5,
           0,
           1,
           1,
           4,
           0,
           2,
           0,
           0,
           0,
           1,
           0,
           0,
           0,
           1,
           0,
           0,
           0,
           0
          ],
          [
           12,
           9,
           37,
           20,
           32,
           17,
           8,
           11,
           14,
           17,
           13,
           3,
           2,
           1,
           0,
           6,
           8,
           0,
           1,
           0,
           0,
           0,
           0,
           0,
           0,
           0,
           0,
           0,
           0,
           0,
           0
          ],
          [
           10,
           7,
           32,
           27,
           19,
           13,
           6,
           8,
           8,
           17,
           7,
           3,
           1,
           3,
           2,
           1,
           7,
           1,
           1,
           0,
           0,
           0,
           0,
           0,
           0,
           0,
           0,
           0,
           0,
           0,
           0
          ],
          [
           11,
           16,
           33,
           28,
           14,
           16,
           5,
           11,
           3,
           16,
           3,
           5,
           0,
           0,
           0,
           0,
           0,
           1,
           3,
           2,
           0,
           0,
           0,
           0,
           1,
           0,
           1,
           0,
           0,
           0,
           0
          ],
          [
           9,
           10,
           11,
           24,
           7,
           5,
           6,
           4,
           6,
           16,
           2,
           4,
           0,
           2,
           0,
           0,
           0,
           0,
           2,
           0,
           0,
           0,
           0,
           0,
           0,
           0,
           0,
           0,
           0,
           0,
           0
          ],
          [
           3,
           14,
           19,
           26,
           12,
           9,
           3,
           4,
           6,
           12,
           3,
           4,
           1,
           0,
           2,
           3,
           4,
           1,
           2,
           0,
           0,
           0,
           0,
           0,
           0,
           0,
           0,
           0,
           0,
           0,
           0
          ],
          [
           5,
           9,
           17,
           11,
           11,
           5,
           4,
           1,
           5,
           2,
           4,
           1,
           0,
           1,
           1,
           1,
           0,
           1,
           0,
           0,
           2,
           0,
           0,
           0,
           0,
           0,
           0,
           0,
           0,
           0,
           0
          ],
          [
           8,
           12,
           30,
           18,
           11,
           5,
           6,
           3,
           2,
           11,
           3,
           1,
           0,
           1,
           2,
           0,
           4,
           0,
           0,
           0,
           0,
           0,
           0,
           0,
           0,
           0,
           0,
           0,
           0,
           0,
           0
          ],
          [
           4,
           14,
           17,
           19,
           5,
           7,
           6,
           3,
           3,
           5,
           3,
           0,
           0,
           0,
           0,
           0,
           2,
           1,
           0,
           0,
           0,
           0,
           0,
           0,
           0,
           0,
           0,
           0,
           0,
           0,
           0
          ],
          [
           9,
           37,
           35,
           25,
           8,
           6,
           5,
           4,
           6,
           11,
           4,
           2,
           0,
           0,
           1,
           0,
           3,
           0,
           0,
           1,
           0,
           0,
           0,
           0,
           0,
           0,
           0,
           0,
           0,
           0,
           0
          ],
          [
           6,
           15,
           14,
           13,
           9,
           3,
           3,
           4,
           3,
           10,
           1,
           3,
           1,
           2,
           0,
           0,
           1,
           0,
           0,
           0,
           0,
           0,
           0,
           0,
           0,
           0,
           1,
           0,
           0,
           0,
           0
          ],
          [
           14,
           30,
           22,
           17,
           8,
           3,
           2,
           4,
           6,
           8,
           3,
           1,
           1,
           0,
           0,
           0,
           1,
           0,
           0,
           0,
           0,
           0,
           0,
           0,
           0,
           0,
           0,
           0,
           0,
           0,
           0
          ],
          [
           10,
           15,
           9,
           11,
           3,
           2,
           2,
           3,
           1,
           4,
           0,
           0,
           0,
           0,
           1,
           0,
           1,
           0,
           0,
           0,
           0,
           1,
           0,
           1,
           0,
           0,
           0,
           0,
           0,
           0,
           0
          ],
          [
           15,
           17,
           15,
           8,
           3,
           2,
           1,
           2,
           3,
           8,
           1,
           1,
           1,
           1,
           1,
           1,
           0,
           1,
           0,
           0,
           0,
           0,
           0,
           0,
           0,
           0,
           0,
           1,
           0,
           0,
           0
          ],
          [
           6,
           9,
           10,
           7,
           0,
           2,
           2,
           2,
           2,
           3,
           0,
           1,
           2,
           0,
           0,
           0,
           0,
           0,
           0,
           0,
           0,
           0,
           0,
           0,
           0,
           0,
           0,
           0,
           0,
           0,
           0
          ],
          [
           8,
           13,
           14,
           8,
           4,
           1,
           1,
           4,
           2,
           9,
           1,
           0,
           0,
           0,
           0,
           0,
           0,
           1,
           1,
           0,
           0,
           0,
           0,
           0,
           0,
           0,
           0,
           0,
           1,
           0,
           0
          ],
          [
           2,
           2,
           9,
           5,
           1,
           1,
           1,
           1,
           0,
           1,
           1,
           0,
           0,
           0,
           0,
           0,
           0,
           0,
           0,
           0,
           0,
           0,
           0,
           0,
           0,
           0,
           0,
           0,
           0,
           0,
           0
          ],
          [
           1,
           5,
           2,
           4,
           2,
           6,
           2,
           2,
           2,
           4,
           2,
           0,
           0,
           1,
           1,
           2,
           3,
           0,
           0,
           0,
           1,
           0,
           0,
           0,
           0,
           0,
           0,
           0,
           0,
           0,
           0
          ],
          [
           0,
           4,
           2,
           2,
           0,
           1,
           1,
           0,
           1,
           2,
           1,
           0,
           1,
           0,
           0,
           0,
           1,
           0,
           1,
           0,
           0,
           0,
           0,
           0,
           0,
           0,
           0,
           0,
           0,
           0,
           0
          ],
          [
           3,
           6,
           9,
           3,
           2,
           0,
           3,
           1,
           0,
           0,
           0,
           1,
           0,
           0,
           0,
           0,
           1,
           0,
           0,
           0,
           0,
           0,
           0,
           0,
           0,
           0,
           0,
           0,
           0,
           0,
           0
          ],
          [
           1,
           3,
           3,
           1,
           1,
           0,
           0,
           1,
           0,
           0,
           0,
           0,
           0,
           0,
           0,
           0,
           0,
           0,
           0,
           0,
           0,
           0,
           0,
           0,
           0,
           0,
           0,
           0,
           0,
           0,
           0
          ],
          [
           3,
           5,
           6,
           2,
           0,
           3,
           0,
           2,
           1,
           1,
           2,
           0,
           1,
           0,
           1,
           0,
           0,
           1,
           0,
           0,
           0,
           0,
           0,
           0,
           0,
           0,
           0,
           0,
           0,
           0,
           0
          ],
          [
           2,
           1,
           0,
           1,
           0,
           1,
           0,
           1,
           0,
           1,
           0,
           0,
           0,
           0,
           0,
           0,
           0,
           0,
           1,
           0,
           0,
           0,
           0,
           0,
           0,
           0,
           0,
           0,
           0,
           0,
           0
          ],
          [
           1,
           2,
           3,
           0,
           0,
           0,
           1,
           0,
           0,
           1,
           0,
           1,
           1,
           0,
           0,
           0,
           0,
           0,
           1,
           0,
           0,
           0,
           0,
           0,
           0,
           0,
           0,
           0,
           0,
           0,
           0
          ],
          [
           0,
           1,
           6,
           0,
           0,
           0,
           2,
           0,
           0,
           0,
           0,
           0,
           0,
           1,
           0,
           0,
           0,
           0,
           0,
           0,
           0,
           0,
           0,
           0,
           0,
           0,
           0,
           0,
           0,
           0,
           0
          ],
          [
           0,
           4,
           2,
           1,
           1,
           1,
           2,
           0,
           0,
           4,
           0,
           0,
           0,
           0,
           0,
           0,
           0,
           0,
           0,
           0,
           0,
           0,
           0,
           0,
           0,
           0,
           0,
           0,
           0,
           0,
           0
          ]
         ],
         "type": "surface"
        }
       ],
       "layout": {
        "template": {
         "data": {
          "histogram2dcontour": [
           {
            "type": "histogram2dcontour",
            "colorbar": {
             "outlinewidth": 0,
             "ticks": ""
            },
            "colorscale": [
             [
              0.0,
              "#0d0887"
             ],
             [
              0.1111111111111111,
              "#46039f"
             ],
             [
              0.2222222222222222,
              "#7201a8"
             ],
             [
              0.3333333333333333,
              "#9c179e"
             ],
             [
              0.4444444444444444,
              "#bd3786"
             ],
             [
              0.5555555555555556,
              "#d8576b"
             ],
             [
              0.6666666666666666,
              "#ed7953"
             ],
             [
              0.7777777777777778,
              "#fb9f3a"
             ],
             [
              0.8888888888888888,
              "#fdca26"
             ],
             [
              1.0,
              "#f0f921"
             ]
            ]
           }
          ],
          "choropleth": [
           {
            "type": "choropleth",
            "colorbar": {
             "outlinewidth": 0,
             "ticks": ""
            }
           }
          ],
          "histogram2d": [
           {
            "type": "histogram2d",
            "colorbar": {
             "outlinewidth": 0,
             "ticks": ""
            },
            "colorscale": [
             [
              0.0,
              "#0d0887"
             ],
             [
              0.1111111111111111,
              "#46039f"
             ],
             [
              0.2222222222222222,
              "#7201a8"
             ],
             [
              0.3333333333333333,
              "#9c179e"
             ],
             [
              0.4444444444444444,
              "#bd3786"
             ],
             [
              0.5555555555555556,
              "#d8576b"
             ],
             [
              0.6666666666666666,
              "#ed7953"
             ],
             [
              0.7777777777777778,
              "#fb9f3a"
             ],
             [
              0.8888888888888888,
              "#fdca26"
             ],
             [
              1.0,
              "#f0f921"
             ]
            ]
           }
          ],
          "heatmap": [
           {
            "type": "heatmap",
            "colorbar": {
             "outlinewidth": 0,
             "ticks": ""
            },
            "colorscale": [
             [
              0.0,
              "#0d0887"
             ],
             [
              0.1111111111111111,
              "#46039f"
             ],
             [
              0.2222222222222222,
              "#7201a8"
             ],
             [
              0.3333333333333333,
              "#9c179e"
             ],
             [
              0.4444444444444444,
              "#bd3786"
             ],
             [
              0.5555555555555556,
              "#d8576b"
             ],
             [
              0.6666666666666666,
              "#ed7953"
             ],
             [
              0.7777777777777778,
              "#fb9f3a"
             ],
             [
              0.8888888888888888,
              "#fdca26"
             ],
             [
              1.0,
              "#f0f921"
             ]
            ]
           }
          ],
          "heatmapgl": [
           {
            "type": "heatmapgl",
            "colorbar": {
             "outlinewidth": 0,
             "ticks": ""
            },
            "colorscale": [
             [
              0.0,
              "#0d0887"
             ],
             [
              0.1111111111111111,
              "#46039f"
             ],
             [
              0.2222222222222222,
              "#7201a8"
             ],
             [
              0.3333333333333333,
              "#9c179e"
             ],
             [
              0.4444444444444444,
              "#bd3786"
             ],
             [
              0.5555555555555556,
              "#d8576b"
             ],
             [
              0.6666666666666666,
              "#ed7953"
             ],
             [
              0.7777777777777778,
              "#fb9f3a"
             ],
             [
              0.8888888888888888,
              "#fdca26"
             ],
             [
              1.0,
              "#f0f921"
             ]
            ]
           }
          ],
          "contourcarpet": [
           {
            "type": "contourcarpet",
            "colorbar": {
             "outlinewidth": 0,
             "ticks": ""
            }
           }
          ],
          "contour": [
           {
            "type": "contour",
            "colorbar": {
             "outlinewidth": 0,
             "ticks": ""
            },
            "colorscale": [
             [
              0.0,
              "#0d0887"
             ],
             [
              0.1111111111111111,
              "#46039f"
             ],
             [
              0.2222222222222222,
              "#7201a8"
             ],
             [
              0.3333333333333333,
              "#9c179e"
             ],
             [
              0.4444444444444444,
              "#bd3786"
             ],
             [
              0.5555555555555556,
              "#d8576b"
             ],
             [
              0.6666666666666666,
              "#ed7953"
             ],
             [
              0.7777777777777778,
              "#fb9f3a"
             ],
             [
              0.8888888888888888,
              "#fdca26"
             ],
             [
              1.0,
              "#f0f921"
             ]
            ]
           }
          ],
          "surface": [
           {
            "type": "surface",
            "colorbar": {
             "outlinewidth": 0,
             "ticks": ""
            },
            "colorscale": [
             [
              0.0,
              "#0d0887"
             ],
             [
              0.1111111111111111,
              "#46039f"
             ],
             [
              0.2222222222222222,
              "#7201a8"
             ],
             [
              0.3333333333333333,
              "#9c179e"
             ],
             [
              0.4444444444444444,
              "#bd3786"
             ],
             [
              0.5555555555555556,
              "#d8576b"
             ],
             [
              0.6666666666666666,
              "#ed7953"
             ],
             [
              0.7777777777777778,
              "#fb9f3a"
             ],
             [
              0.8888888888888888,
              "#fdca26"
             ],
             [
              1.0,
              "#f0f921"
             ]
            ]
           }
          ],
          "mesh3d": [
           {
            "type": "mesh3d",
            "colorbar": {
             "outlinewidth": 0,
             "ticks": ""
            }
           }
          ],
          "scatter": [
           {
            "marker": {
             "line": {
              "color": "#283442"
             }
            },
            "type": "scatter"
           }
          ],
          "parcoords": [
           {
            "type": "parcoords",
            "line": {
             "colorbar": {
              "outlinewidth": 0,
              "ticks": ""
             }
            }
           }
          ],
          "scatterpolargl": [
           {
            "type": "scatterpolargl",
            "marker": {
             "colorbar": {
              "outlinewidth": 0,
              "ticks": ""
             }
            }
           }
          ],
          "bar": [
           {
            "error_x": {
             "color": "#f2f5fa"
            },
            "error_y": {
             "color": "#f2f5fa"
            },
            "marker": {
             "line": {
              "color": "rgb(17,17,17)",
              "width": 0.5
             },
             "pattern": {
              "fillmode": "overlay",
              "size": 10,
              "solidity": 0.2
             }
            },
            "type": "bar"
           }
          ],
          "scattergeo": [
           {
            "type": "scattergeo",
            "marker": {
             "colorbar": {
              "outlinewidth": 0,
              "ticks": ""
             }
            }
           }
          ],
          "scatterpolar": [
           {
            "type": "scatterpolar",
            "marker": {
             "colorbar": {
              "outlinewidth": 0,
              "ticks": ""
             }
            }
           }
          ],
          "histogram": [
           {
            "marker": {
             "pattern": {
              "fillmode": "overlay",
              "size": 10,
              "solidity": 0.2
             }
            },
            "type": "histogram"
           }
          ],
          "scattergl": [
           {
            "marker": {
             "line": {
              "color": "#283442"
             }
            },
            "type": "scattergl"
           }
          ],
          "scatter3d": [
           {
            "type": "scatter3d",
            "line": {
             "colorbar": {
              "outlinewidth": 0,
              "ticks": ""
             }
            },
            "marker": {
             "colorbar": {
              "outlinewidth": 0,
              "ticks": ""
             }
            }
           }
          ],
          "scattermapbox": [
           {
            "type": "scattermapbox",
            "marker": {
             "colorbar": {
              "outlinewidth": 0,
              "ticks": ""
             }
            }
           }
          ],
          "scatterternary": [
           {
            "type": "scatterternary",
            "marker": {
             "colorbar": {
              "outlinewidth": 0,
              "ticks": ""
             }
            }
           }
          ],
          "scattercarpet": [
           {
            "type": "scattercarpet",
            "marker": {
             "colorbar": {
              "outlinewidth": 0,
              "ticks": ""
             }
            }
           }
          ],
          "carpet": [
           {
            "aaxis": {
             "endlinecolor": "#A2B1C6",
             "gridcolor": "#506784",
             "linecolor": "#506784",
             "minorgridcolor": "#506784",
             "startlinecolor": "#A2B1C6"
            },
            "baxis": {
             "endlinecolor": "#A2B1C6",
             "gridcolor": "#506784",
             "linecolor": "#506784",
             "minorgridcolor": "#506784",
             "startlinecolor": "#A2B1C6"
            },
            "type": "carpet"
           }
          ],
          "table": [
           {
            "cells": {
             "fill": {
              "color": "#506784"
             },
             "line": {
              "color": "rgb(17,17,17)"
             }
            },
            "header": {
             "fill": {
              "color": "#2a3f5f"
             },
             "line": {
              "color": "rgb(17,17,17)"
             }
            },
            "type": "table"
           }
          ],
          "barpolar": [
           {
            "marker": {
             "line": {
              "color": "rgb(17,17,17)",
              "width": 0.5
             },
             "pattern": {
              "fillmode": "overlay",
              "size": 10,
              "solidity": 0.2
             }
            },
            "type": "barpolar"
           }
          ],
          "pie": [
           {
            "automargin": true,
            "type": "pie"
           }
          ]
         },
         "layout": {
          "autotypenumbers": "strict",
          "colorway": [
           "#636efa",
           "#EF553B",
           "#00cc96",
           "#ab63fa",
           "#FFA15A",
           "#19d3f3",
           "#FF6692",
           "#B6E880",
           "#FF97FF",
           "#FECB52"
          ],
          "font": {
           "color": "#f2f5fa"
          },
          "hovermode": "closest",
          "hoverlabel": {
           "align": "left"
          },
          "paper_bgcolor": "rgb(17,17,17)",
          "plot_bgcolor": "rgb(17,17,17)",
          "polar": {
           "bgcolor": "rgb(17,17,17)",
           "angularaxis": {
            "gridcolor": "#506784",
            "linecolor": "#506784",
            "ticks": ""
           },
           "radialaxis": {
            "gridcolor": "#506784",
            "linecolor": "#506784",
            "ticks": ""
           }
          },
          "ternary": {
           "bgcolor": "rgb(17,17,17)",
           "aaxis": {
            "gridcolor": "#506784",
            "linecolor": "#506784",
            "ticks": ""
           },
           "baxis": {
            "gridcolor": "#506784",
            "linecolor": "#506784",
            "ticks": ""
           },
           "caxis": {
            "gridcolor": "#506784",
            "linecolor": "#506784",
            "ticks": ""
           }
          },
          "coloraxis": {
           "colorbar": {
            "outlinewidth": 0,
            "ticks": ""
           }
          },
          "colorscale": {
           "sequential": [
            [
             0.0,
             "#0d0887"
            ],
            [
             0.1111111111111111,
             "#46039f"
            ],
            [
             0.2222222222222222,
             "#7201a8"
            ],
            [
             0.3333333333333333,
             "#9c179e"
            ],
            [
             0.4444444444444444,
             "#bd3786"
            ],
            [
             0.5555555555555556,
             "#d8576b"
            ],
            [
             0.6666666666666666,
             "#ed7953"
            ],
            [
             0.7777777777777778,
             "#fb9f3a"
            ],
            [
             0.8888888888888888,
             "#fdca26"
            ],
            [
             1.0,
             "#f0f921"
            ]
           ],
           "sequentialminus": [
            [
             0.0,
             "#0d0887"
            ],
            [
             0.1111111111111111,
             "#46039f"
            ],
            [
             0.2222222222222222,
             "#7201a8"
            ],
            [
             0.3333333333333333,
             "#9c179e"
            ],
            [
             0.4444444444444444,
             "#bd3786"
            ],
            [
             0.5555555555555556,
             "#d8576b"
            ],
            [
             0.6666666666666666,
             "#ed7953"
            ],
            [
             0.7777777777777778,
             "#fb9f3a"
            ],
            [
             0.8888888888888888,
             "#fdca26"
            ],
            [
             1.0,
             "#f0f921"
            ]
           ],
           "diverging": [
            [
             0,
             "#8e0152"
            ],
            [
             0.1,
             "#c51b7d"
            ],
            [
             0.2,
             "#de77ae"
            ],
            [
             0.3,
             "#f1b6da"
            ],
            [
             0.4,
             "#fde0ef"
            ],
            [
             0.5,
             "#f7f7f7"
            ],
            [
             0.6,
             "#e6f5d0"
            ],
            [
             0.7,
             "#b8e186"
            ],
            [
             0.8,
             "#7fbc41"
            ],
            [
             0.9,
             "#4d9221"
            ],
            [
             1,
             "#276419"
            ]
           ]
          },
          "xaxis": {
           "gridcolor": "#283442",
           "linecolor": "#506784",
           "ticks": "",
           "title": {
            "standoff": 15
           },
           "zerolinecolor": "#283442",
           "automargin": true,
           "zerolinewidth": 2
          },
          "yaxis": {
           "gridcolor": "#283442",
           "linecolor": "#506784",
           "ticks": "",
           "title": {
            "standoff": 15
           },
           "zerolinecolor": "#283442",
           "automargin": true,
           "zerolinewidth": 2
          },
          "scene": {
           "xaxis": {
            "backgroundcolor": "rgb(17,17,17)",
            "gridcolor": "#506784",
            "linecolor": "#506784",
            "showbackground": true,
            "ticks": "",
            "zerolinecolor": "#C8D4E3",
            "gridwidth": 2
           },
           "yaxis": {
            "backgroundcolor": "rgb(17,17,17)",
            "gridcolor": "#506784",
            "linecolor": "#506784",
            "showbackground": true,
            "ticks": "",
            "zerolinecolor": "#C8D4E3",
            "gridwidth": 2
           },
           "zaxis": {
            "backgroundcolor": "rgb(17,17,17)",
            "gridcolor": "#506784",
            "linecolor": "#506784",
            "showbackground": true,
            "ticks": "",
            "zerolinecolor": "#C8D4E3",
            "gridwidth": 2
           }
          },
          "shapedefaults": {
           "line": {
            "color": "#f2f5fa"
           }
          },
          "annotationdefaults": {
           "arrowcolor": "#f2f5fa",
           "arrowhead": 0,
           "arrowwidth": 1
          },
          "geo": {
           "bgcolor": "rgb(17,17,17)",
           "landcolor": "rgb(17,17,17)",
           "subunitcolor": "#506784",
           "showland": true,
           "showlakes": true,
           "lakecolor": "rgb(17,17,17)"
          },
          "title": {
           "x": 0.05
          },
          "updatemenudefaults": {
           "bgcolor": "#506784",
           "borderwidth": 0
          },
          "sliderdefaults": {
           "bgcolor": "#C8D4E3",
           "borderwidth": 1,
           "bordercolor": "rgb(17,17,17)",
           "tickwidth": 0
          },
          "mapbox": {
           "style": "dark"
          }
         }
        }
       },
       "config": {
        "plotlyServerURL": "https://plot.ly"
       }
      },
      "text/html": "<div>                            <div id=\"75e6ae72-757a-4adc-aaa1-9f73aa1a66c9\" class=\"plotly-graph-div\" style=\"height:525px; width:100%;\"></div>            <script type=\"text/javascript\">                require([\"plotly\"], function(Plotly) {                    window.PLOTLYENV=window.PLOTLYENV || {};                                    if (document.getElementById(\"75e6ae72-757a-4adc-aaa1-9f73aa1a66c9\")) {                    Plotly.newPlot(                        \"75e6ae72-757a-4adc-aaa1-9f73aa1a66c9\",                        [{\"x\":[0.0,50.0,100.0,150.0,200.0,250.0,300.0,350.0,400.0,450.0,500.0,550.0,600.0,650.0,700.0,750.0,800.0,850.0,900.0,950.0,1000.0,1050.0,1100.0,1150.0,1200.0,1250.0,1300.0,1350.0,1450.0,1500.0,1600.0],\"y\":[0.0,50.0,100.0,150.0,200.0,250.0,300.0,350.0,400.0,450.0,500.0,550.0,600.0,650.0,700.0,750.0,800.0,850.0,900.0,950.0,1000.0,1050.0,1100.0,1150.0,1200.0,1250.0,1300.0,1350.0,1400.0,1450.0,1500.0,1550.0,1600.0,1650.0,1700.0,1750.0,1800.0,1850.0,1900.0,1950.0],\"z\":[[1,0,3,0,0,0,1,4,7,13,0,0,1,0,1,8,2,0,0,1,0,0,0,0,0,0,0,0,0,0,0],[0,0,1,3,0,3,8,14,14,19,4,1,1,1,5,12,11,2,1,1,0,2,1,1,0,0,0,0,0,0,0],[0,2,1,0,1,4,12,11,8,30,8,5,3,9,7,16,117,11,12,4,1,0,0,0,0,0,0,0,0,0,0],[0,4,3,1,4,11,7,11,6,31,5,1,6,4,2,10,116,11,4,4,1,1,0,0,0,1,0,0,1,0,0],[0,4,2,4,7,8,6,4,11,27,7,6,2,1,5,2,14,1,0,5,1,0,0,0,1,0,0,0,0,0,0],[1,2,5,10,12,7,12,18,10,53,25,6,5,6,6,7,22,3,4,4,2,0,0,0,0,0,0,0,0,0,0],[0,0,16,16,6,4,9,7,6,30,9,11,4,1,4,7,7,1,1,2,1,1,0,0,0,0,0,0,1,0,0],[3,13,17,6,6,8,11,10,17,19,9,6,4,3,3,5,3,0,2,0,0,0,0,3,0,0,0,0,0,0,0],[4,3,8,3,7,9,14,17,10,15,9,2,2,3,2,7,8,2,2,1,0,0,0,1,1,0,0,0,0,0,1],[7,3,12,12,12,21,8,10,12,19,9,8,6,7,3,9,24,3,7,3,1,1,0,2,1,0,0,0,0,0,0],[6,5,11,6,7,21,6,6,8,19,5,6,3,4,3,5,41,3,6,2,0,0,0,1,0,0,1,0,0,0,0],[3,4,5,10,24,14,9,13,9,14,11,8,4,3,4,6,11,0,0,2,0,0,1,0,0,0,0,0,0,0,0],[0,5,9,17,26,17,15,11,10,22,15,6,13,2,1,4,3,1,1,0,0,1,0,1,0,1,0,0,0,0,0],[3,17,55,24,51,27,16,8,7,29,12,5,8,4,2,1,9,1,2,2,0,0,0,0,0,0,0,0,0,1,0],[10,19,86,13,20,31,12,13,3,15,11,7,5,0,1,1,4,0,2,0,0,0,1,0,0,0,1,0,0,0,0],[12,9,37,20,32,17,8,11,14,17,13,3,2,1,0,6,8,0,1,0,0,0,0,0,0,0,0,0,0,0,0],[10,7,32,27,19,13,6,8,8,17,7,3,1,3,2,1,7,1,1,0,0,0,0,0,0,0,0,0,0,0,0],[11,16,33,28,14,16,5,11,3,16,3,5,0,0,0,0,0,1,3,2,0,0,0,0,1,0,1,0,0,0,0],[9,10,11,24,7,5,6,4,6,16,2,4,0,2,0,0,0,0,2,0,0,0,0,0,0,0,0,0,0,0,0],[3,14,19,26,12,9,3,4,6,12,3,4,1,0,2,3,4,1,2,0,0,0,0,0,0,0,0,0,0,0,0],[5,9,17,11,11,5,4,1,5,2,4,1,0,1,1,1,0,1,0,0,2,0,0,0,0,0,0,0,0,0,0],[8,12,30,18,11,5,6,3,2,11,3,1,0,1,2,0,4,0,0,0,0,0,0,0,0,0,0,0,0,0,0],[4,14,17,19,5,7,6,3,3,5,3,0,0,0,0,0,2,1,0,0,0,0,0,0,0,0,0,0,0,0,0],[9,37,35,25,8,6,5,4,6,11,4,2,0,0,1,0,3,0,0,1,0,0,0,0,0,0,0,0,0,0,0],[6,15,14,13,9,3,3,4,3,10,1,3,1,2,0,0,1,0,0,0,0,0,0,0,0,0,1,0,0,0,0],[14,30,22,17,8,3,2,4,6,8,3,1,1,0,0,0,1,0,0,0,0,0,0,0,0,0,0,0,0,0,0],[10,15,9,11,3,2,2,3,1,4,0,0,0,0,1,0,1,0,0,0,0,1,0,1,0,0,0,0,0,0,0],[15,17,15,8,3,2,1,2,3,8,1,1,1,1,1,1,0,1,0,0,0,0,0,0,0,0,0,1,0,0,0],[6,9,10,7,0,2,2,2,2,3,0,1,2,0,0,0,0,0,0,0,0,0,0,0,0,0,0,0,0,0,0],[8,13,14,8,4,1,1,4,2,9,1,0,0,0,0,0,0,1,1,0,0,0,0,0,0,0,0,0,1,0,0],[2,2,9,5,1,1,1,1,0,1,1,0,0,0,0,0,0,0,0,0,0,0,0,0,0,0,0,0,0,0,0],[1,5,2,4,2,6,2,2,2,4,2,0,0,1,1,2,3,0,0,0,1,0,0,0,0,0,0,0,0,0,0],[0,4,2,2,0,1,1,0,1,2,1,0,1,0,0,0,1,0,1,0,0,0,0,0,0,0,0,0,0,0,0],[3,6,9,3,2,0,3,1,0,0,0,1,0,0,0,0,1,0,0,0,0,0,0,0,0,0,0,0,0,0,0],[1,3,3,1,1,0,0,1,0,0,0,0,0,0,0,0,0,0,0,0,0,0,0,0,0,0,0,0,0,0,0],[3,5,6,2,0,3,0,2,1,1,2,0,1,0,1,0,0,1,0,0,0,0,0,0,0,0,0,0,0,0,0],[2,1,0,1,0,1,0,1,0,1,0,0,0,0,0,0,0,0,1,0,0,0,0,0,0,0,0,0,0,0,0],[1,2,3,0,0,0,1,0,0,1,0,1,1,0,0,0,0,0,1,0,0,0,0,0,0,0,0,0,0,0,0],[0,1,6,0,0,0,2,0,0,0,0,0,0,1,0,0,0,0,0,0,0,0,0,0,0,0,0,0,0,0,0],[0,4,2,1,1,1,2,0,0,4,0,0,0,0,0,0,0,0,0,0,0,0,0,0,0,0,0,0,0,0,0]],\"type\":\"surface\"}],                        {\"template\":{\"data\":{\"histogram2dcontour\":[{\"type\":\"histogram2dcontour\",\"colorbar\":{\"outlinewidth\":0,\"ticks\":\"\"},\"colorscale\":[[0.0,\"#0d0887\"],[0.1111111111111111,\"#46039f\"],[0.2222222222222222,\"#7201a8\"],[0.3333333333333333,\"#9c179e\"],[0.4444444444444444,\"#bd3786\"],[0.5555555555555556,\"#d8576b\"],[0.6666666666666666,\"#ed7953\"],[0.7777777777777778,\"#fb9f3a\"],[0.8888888888888888,\"#fdca26\"],[1.0,\"#f0f921\"]]}],\"choropleth\":[{\"type\":\"choropleth\",\"colorbar\":{\"outlinewidth\":0,\"ticks\":\"\"}}],\"histogram2d\":[{\"type\":\"histogram2d\",\"colorbar\":{\"outlinewidth\":0,\"ticks\":\"\"},\"colorscale\":[[0.0,\"#0d0887\"],[0.1111111111111111,\"#46039f\"],[0.2222222222222222,\"#7201a8\"],[0.3333333333333333,\"#9c179e\"],[0.4444444444444444,\"#bd3786\"],[0.5555555555555556,\"#d8576b\"],[0.6666666666666666,\"#ed7953\"],[0.7777777777777778,\"#fb9f3a\"],[0.8888888888888888,\"#fdca26\"],[1.0,\"#f0f921\"]]}],\"heatmap\":[{\"type\":\"heatmap\",\"colorbar\":{\"outlinewidth\":0,\"ticks\":\"\"},\"colorscale\":[[0.0,\"#0d0887\"],[0.1111111111111111,\"#46039f\"],[0.2222222222222222,\"#7201a8\"],[0.3333333333333333,\"#9c179e\"],[0.4444444444444444,\"#bd3786\"],[0.5555555555555556,\"#d8576b\"],[0.6666666666666666,\"#ed7953\"],[0.7777777777777778,\"#fb9f3a\"],[0.8888888888888888,\"#fdca26\"],[1.0,\"#f0f921\"]]}],\"heatmapgl\":[{\"type\":\"heatmapgl\",\"colorbar\":{\"outlinewidth\":0,\"ticks\":\"\"},\"colorscale\":[[0.0,\"#0d0887\"],[0.1111111111111111,\"#46039f\"],[0.2222222222222222,\"#7201a8\"],[0.3333333333333333,\"#9c179e\"],[0.4444444444444444,\"#bd3786\"],[0.5555555555555556,\"#d8576b\"],[0.6666666666666666,\"#ed7953\"],[0.7777777777777778,\"#fb9f3a\"],[0.8888888888888888,\"#fdca26\"],[1.0,\"#f0f921\"]]}],\"contourcarpet\":[{\"type\":\"contourcarpet\",\"colorbar\":{\"outlinewidth\":0,\"ticks\":\"\"}}],\"contour\":[{\"type\":\"contour\",\"colorbar\":{\"outlinewidth\":0,\"ticks\":\"\"},\"colorscale\":[[0.0,\"#0d0887\"],[0.1111111111111111,\"#46039f\"],[0.2222222222222222,\"#7201a8\"],[0.3333333333333333,\"#9c179e\"],[0.4444444444444444,\"#bd3786\"],[0.5555555555555556,\"#d8576b\"],[0.6666666666666666,\"#ed7953\"],[0.7777777777777778,\"#fb9f3a\"],[0.8888888888888888,\"#fdca26\"],[1.0,\"#f0f921\"]]}],\"surface\":[{\"type\":\"surface\",\"colorbar\":{\"outlinewidth\":0,\"ticks\":\"\"},\"colorscale\":[[0.0,\"#0d0887\"],[0.1111111111111111,\"#46039f\"],[0.2222222222222222,\"#7201a8\"],[0.3333333333333333,\"#9c179e\"],[0.4444444444444444,\"#bd3786\"],[0.5555555555555556,\"#d8576b\"],[0.6666666666666666,\"#ed7953\"],[0.7777777777777778,\"#fb9f3a\"],[0.8888888888888888,\"#fdca26\"],[1.0,\"#f0f921\"]]}],\"mesh3d\":[{\"type\":\"mesh3d\",\"colorbar\":{\"outlinewidth\":0,\"ticks\":\"\"}}],\"scatter\":[{\"marker\":{\"line\":{\"color\":\"#283442\"}},\"type\":\"scatter\"}],\"parcoords\":[{\"type\":\"parcoords\",\"line\":{\"colorbar\":{\"outlinewidth\":0,\"ticks\":\"\"}}}],\"scatterpolargl\":[{\"type\":\"scatterpolargl\",\"marker\":{\"colorbar\":{\"outlinewidth\":0,\"ticks\":\"\"}}}],\"bar\":[{\"error_x\":{\"color\":\"#f2f5fa\"},\"error_y\":{\"color\":\"#f2f5fa\"},\"marker\":{\"line\":{\"color\":\"rgb(17,17,17)\",\"width\":0.5},\"pattern\":{\"fillmode\":\"overlay\",\"size\":10,\"solidity\":0.2}},\"type\":\"bar\"}],\"scattergeo\":[{\"type\":\"scattergeo\",\"marker\":{\"colorbar\":{\"outlinewidth\":0,\"ticks\":\"\"}}}],\"scatterpolar\":[{\"type\":\"scatterpolar\",\"marker\":{\"colorbar\":{\"outlinewidth\":0,\"ticks\":\"\"}}}],\"histogram\":[{\"marker\":{\"pattern\":{\"fillmode\":\"overlay\",\"size\":10,\"solidity\":0.2}},\"type\":\"histogram\"}],\"scattergl\":[{\"marker\":{\"line\":{\"color\":\"#283442\"}},\"type\":\"scattergl\"}],\"scatter3d\":[{\"type\":\"scatter3d\",\"line\":{\"colorbar\":{\"outlinewidth\":0,\"ticks\":\"\"}},\"marker\":{\"colorbar\":{\"outlinewidth\":0,\"ticks\":\"\"}}}],\"scattermapbox\":[{\"type\":\"scattermapbox\",\"marker\":{\"colorbar\":{\"outlinewidth\":0,\"ticks\":\"\"}}}],\"scatterternary\":[{\"type\":\"scatterternary\",\"marker\":{\"colorbar\":{\"outlinewidth\":0,\"ticks\":\"\"}}}],\"scattercarpet\":[{\"type\":\"scattercarpet\",\"marker\":{\"colorbar\":{\"outlinewidth\":0,\"ticks\":\"\"}}}],\"carpet\":[{\"aaxis\":{\"endlinecolor\":\"#A2B1C6\",\"gridcolor\":\"#506784\",\"linecolor\":\"#506784\",\"minorgridcolor\":\"#506784\",\"startlinecolor\":\"#A2B1C6\"},\"baxis\":{\"endlinecolor\":\"#A2B1C6\",\"gridcolor\":\"#506784\",\"linecolor\":\"#506784\",\"minorgridcolor\":\"#506784\",\"startlinecolor\":\"#A2B1C6\"},\"type\":\"carpet\"}],\"table\":[{\"cells\":{\"fill\":{\"color\":\"#506784\"},\"line\":{\"color\":\"rgb(17,17,17)\"}},\"header\":{\"fill\":{\"color\":\"#2a3f5f\"},\"line\":{\"color\":\"rgb(17,17,17)\"}},\"type\":\"table\"}],\"barpolar\":[{\"marker\":{\"line\":{\"color\":\"rgb(17,17,17)\",\"width\":0.5},\"pattern\":{\"fillmode\":\"overlay\",\"size\":10,\"solidity\":0.2}},\"type\":\"barpolar\"}],\"pie\":[{\"automargin\":true,\"type\":\"pie\"}]},\"layout\":{\"autotypenumbers\":\"strict\",\"colorway\":[\"#636efa\",\"#EF553B\",\"#00cc96\",\"#ab63fa\",\"#FFA15A\",\"#19d3f3\",\"#FF6692\",\"#B6E880\",\"#FF97FF\",\"#FECB52\"],\"font\":{\"color\":\"#f2f5fa\"},\"hovermode\":\"closest\",\"hoverlabel\":{\"align\":\"left\"},\"paper_bgcolor\":\"rgb(17,17,17)\",\"plot_bgcolor\":\"rgb(17,17,17)\",\"polar\":{\"bgcolor\":\"rgb(17,17,17)\",\"angularaxis\":{\"gridcolor\":\"#506784\",\"linecolor\":\"#506784\",\"ticks\":\"\"},\"radialaxis\":{\"gridcolor\":\"#506784\",\"linecolor\":\"#506784\",\"ticks\":\"\"}},\"ternary\":{\"bgcolor\":\"rgb(17,17,17)\",\"aaxis\":{\"gridcolor\":\"#506784\",\"linecolor\":\"#506784\",\"ticks\":\"\"},\"baxis\":{\"gridcolor\":\"#506784\",\"linecolor\":\"#506784\",\"ticks\":\"\"},\"caxis\":{\"gridcolor\":\"#506784\",\"linecolor\":\"#506784\",\"ticks\":\"\"}},\"coloraxis\":{\"colorbar\":{\"outlinewidth\":0,\"ticks\":\"\"}},\"colorscale\":{\"sequential\":[[0.0,\"#0d0887\"],[0.1111111111111111,\"#46039f\"],[0.2222222222222222,\"#7201a8\"],[0.3333333333333333,\"#9c179e\"],[0.4444444444444444,\"#bd3786\"],[0.5555555555555556,\"#d8576b\"],[0.6666666666666666,\"#ed7953\"],[0.7777777777777778,\"#fb9f3a\"],[0.8888888888888888,\"#fdca26\"],[1.0,\"#f0f921\"]],\"sequentialminus\":[[0.0,\"#0d0887\"],[0.1111111111111111,\"#46039f\"],[0.2222222222222222,\"#7201a8\"],[0.3333333333333333,\"#9c179e\"],[0.4444444444444444,\"#bd3786\"],[0.5555555555555556,\"#d8576b\"],[0.6666666666666666,\"#ed7953\"],[0.7777777777777778,\"#fb9f3a\"],[0.8888888888888888,\"#fdca26\"],[1.0,\"#f0f921\"]],\"diverging\":[[0,\"#8e0152\"],[0.1,\"#c51b7d\"],[0.2,\"#de77ae\"],[0.3,\"#f1b6da\"],[0.4,\"#fde0ef\"],[0.5,\"#f7f7f7\"],[0.6,\"#e6f5d0\"],[0.7,\"#b8e186\"],[0.8,\"#7fbc41\"],[0.9,\"#4d9221\"],[1,\"#276419\"]]},\"xaxis\":{\"gridcolor\":\"#283442\",\"linecolor\":\"#506784\",\"ticks\":\"\",\"title\":{\"standoff\":15},\"zerolinecolor\":\"#283442\",\"automargin\":true,\"zerolinewidth\":2},\"yaxis\":{\"gridcolor\":\"#283442\",\"linecolor\":\"#506784\",\"ticks\":\"\",\"title\":{\"standoff\":15},\"zerolinecolor\":\"#283442\",\"automargin\":true,\"zerolinewidth\":2},\"scene\":{\"xaxis\":{\"backgroundcolor\":\"rgb(17,17,17)\",\"gridcolor\":\"#506784\",\"linecolor\":\"#506784\",\"showbackground\":true,\"ticks\":\"\",\"zerolinecolor\":\"#C8D4E3\",\"gridwidth\":2},\"yaxis\":{\"backgroundcolor\":\"rgb(17,17,17)\",\"gridcolor\":\"#506784\",\"linecolor\":\"#506784\",\"showbackground\":true,\"ticks\":\"\",\"zerolinecolor\":\"#C8D4E3\",\"gridwidth\":2},\"zaxis\":{\"backgroundcolor\":\"rgb(17,17,17)\",\"gridcolor\":\"#506784\",\"linecolor\":\"#506784\",\"showbackground\":true,\"ticks\":\"\",\"zerolinecolor\":\"#C8D4E3\",\"gridwidth\":2}},\"shapedefaults\":{\"line\":{\"color\":\"#f2f5fa\"}},\"annotationdefaults\":{\"arrowcolor\":\"#f2f5fa\",\"arrowhead\":0,\"arrowwidth\":1},\"geo\":{\"bgcolor\":\"rgb(17,17,17)\",\"landcolor\":\"rgb(17,17,17)\",\"subunitcolor\":\"#506784\",\"showland\":true,\"showlakes\":true,\"lakecolor\":\"rgb(17,17,17)\"},\"title\":{\"x\":0.05},\"updatemenudefaults\":{\"bgcolor\":\"#506784\",\"borderwidth\":0},\"sliderdefaults\":{\"bgcolor\":\"#C8D4E3\",\"borderwidth\":1,\"bordercolor\":\"rgb(17,17,17)\",\"tickwidth\":0},\"mapbox\":{\"style\":\"dark\"}}}},                        {\"responsive\": true}                    ).then(function(){\n                            \nvar gd = document.getElementById('75e6ae72-757a-4adc-aaa1-9f73aa1a66c9');\nvar x = new MutationObserver(function (mutations, observer) {{\n        var display = window.getComputedStyle(gd).display;\n        if (!display || display === 'none') {{\n            console.log([gd, 'removed!']);\n            Plotly.purge(gd);\n            observer.disconnect();\n        }}\n}});\n\n// Listen for the removal of the full notebook cells\nvar notebookContainer = gd.closest('#notebook-container');\nif (notebookContainer) {{\n    x.observe(notebookContainer, {childList: true});\n}}\n\n// Listen for the clearing of the current output cell\nvar outputEl = gd.closest('.output');\nif (outputEl) {{\n    x.observe(outputEl, {childList: true});\n}}\n\n                        })                };                });            </script>        </div>"
     },
     "metadata": {},
     "output_type": "display_data"
    }
   ],
   "source": [
    "fig=go.Figure(go.Surface(z=z, y=z.index, x=z.columns))\n",
    "fig.show()"
   ],
   "metadata": {
    "collapsed": false,
    "pycharm": {
     "name": "#%%\n"
    }
   }
  },
  {
   "cell_type": "markdown",
   "source": [
    "##### Graphiques RI/PFS nuls"
   ],
   "metadata": {
    "collapsed": false,
    "pycharm": {
     "name": "#%% md\n"
    }
   }
  },
  {
   "cell_type": "code",
   "execution_count": 74,
   "outputs": [
    {
     "name": "stderr",
     "output_type": "stream",
     "text": [
      "C:\\Users\\arceb\\AppData\\Local\\Temp\\ipykernel_35328\\3290820073.py:2: SettingWithCopyWarning:\n",
      "\n",
      "\n",
      "A value is trying to be set on a copy of a slice from a DataFrame.\n",
      "Try using .loc[row_indexer,col_indexer] = value instead\n",
      "\n",
      "See the caveats in the documentation: https://pandas.pydata.org/pandas-docs/stable/user_guide/indexing.html#returning-a-view-versus-a-copy\n",
      "\n",
      "C:\\Users\\arceb\\AppData\\Local\\Temp\\ipykernel_35328\\3290820073.py:13: SettingWithCopyWarning:\n",
      "\n",
      "\n",
      "A value is trying to be set on a copy of a slice from a DataFrame.\n",
      "Try using .loc[row_indexer,col_indexer] = value instead\n",
      "\n",
      "See the caveats in the documentation: https://pandas.pydata.org/pandas-docs/stable/user_guide/indexing.html#returning-a-view-versus-a-copy\n",
      "\n"
     ]
    }
   ],
   "source": [
    "RI=bddbis[bddbis['Ressources imposables mensuelles moyennes (RI)']==0]\n",
    "RI['Tranches de PFS'] = 0\n",
    "\n",
    "\n",
    "def ri(rl):\n",
    "    for i in range(0, 2000, 50):\n",
    "        if i < rl and rl <= i + 50:\n",
    "            return i\n",
    "        elif rl > 2000:\n",
    "            return np.NaN\n",
    "\n",
    "\n",
    "RI['Tranches de PFS'] = RI['Prestations familiales et sociales mensuelles moyennes (PFS)'].apply(ri)"
   ],
   "metadata": {
    "collapsed": false,
    "pycharm": {
     "name": "#%%\n"
    }
   }
  },
  {
   "cell_type": "code",
   "execution_count": 75,
   "outputs": [
    {
     "data": {
      "text/plain": "7978"
     },
     "execution_count": 75,
     "metadata": {},
     "output_type": "execute_result"
    }
   ],
   "source": [
    "ri=RI[['Tranches de PFS', 'Numéro Unique']]\n",
    "ri = ri.groupby(by='Tranches de PFS').count()['Numéro Unique']\n",
    "ri = ri.to_frame()\n",
    "ri=ri.reset_index()\n",
    "ri['Numéro Unique'].sum()"
   ],
   "metadata": {
    "collapsed": false,
    "pycharm": {
     "name": "#%%\n"
    }
   }
  },
  {
   "cell_type": "code",
   "execution_count": 76,
   "outputs": [
    {
     "data": {
      "text/plain": "<Figure size 1512x360 with 1 Axes>",
      "image/png": "[encoded data removed]"
     },
     "metadata": {
      "needs_background": "light"
     },
     "output_type": "display_data"
    }
   ],
   "source": [
    " ax = ri.plot.bar(x='Tranches de PFS', y='Numéro Unique', xlabel='Tranche de Prestations familiales et sociales', ylabel= \"Nombre de demandeurs\", title= 'Distribution par montant de PFS des demandeurs isolés qui ne déclarent aucun RI dans les Bouches-du-Rhône', rot=0, figsize=(21,5), color='red')"
   ],
   "metadata": {
    "collapsed": false,
    "pycharm": {
     "name": "#%%\n"
    }
   }
  },
  {
   "cell_type": "code",
   "execution_count": 77,
   "outputs": [],
   "source": [
    "ax.figure.savefig('PFS_BDR_Isoles.pdf')"
   ],
   "metadata": {
    "collapsed": false,
    "pycharm": {
     "name": "#%%\n"
    }
   }
  },
  {
   "cell_type": "code",
   "execution_count": 78,
   "outputs": [
    {
     "name": "stderr",
     "output_type": "stream",
     "text": [
      "C:\\Users\\arceb\\AppData\\Local\\Temp\\ipykernel_35328\\2094142171.py:2: SettingWithCopyWarning:\n",
      "\n",
      "\n",
      "A value is trying to be set on a copy of a slice from a DataFrame.\n",
      "Try using .loc[row_indexer,col_indexer] = value instead\n",
      "\n",
      "See the caveats in the documentation: https://pandas.pydata.org/pandas-docs/stable/user_guide/indexing.html#returning-a-view-versus-a-copy\n",
      "\n",
      "C:\\Users\\arceb\\AppData\\Local\\Temp\\ipykernel_35328\\2094142171.py:11: SettingWithCopyWarning:\n",
      "\n",
      "\n",
      "A value is trying to be set on a copy of a slice from a DataFrame.\n",
      "Try using .loc[row_indexer,col_indexer] = value instead\n",
      "\n",
      "See the caveats in the documentation: https://pandas.pydata.org/pandas-docs/stable/user_guide/indexing.html#returning-a-view-versus-a-copy\n",
      "\n"
     ]
    }
   ],
   "source": [
    "PFS=bddbis[bddbis['Prestations familiales et sociales mensuelles moyennes (PFS)']==0]\n",
    "PFS['Tranches de RI']=0\n",
    "\n",
    "def pfs(rl):\n",
    "    for i in range(0, 2000, 50):\n",
    "        if i<rl and rl<=i+50:\n",
    "            return i\n",
    "        elif rl>2000:\n",
    "            return np.NaN\n",
    "\n",
    "PFS['Tranches de RI'] = PFS['Ressources imposables mensuelles moyennes (RI)'].apply(pfs)"
   ],
   "metadata": {
    "collapsed": false,
    "pycharm": {
     "name": "#%%\n"
    }
   }
  },
  {
   "cell_type": "code",
   "execution_count": 79,
   "outputs": [
    {
     "data": {
      "text/plain": "32106"
     },
     "execution_count": 79,
     "metadata": {},
     "output_type": "execute_result"
    }
   ],
   "source": [
    "pfs = PFS[['Tranches de RI', 'Numéro Unique']]\n",
    "pfs = pfs.groupby(by='Tranches de RI').count()['Numéro Unique']\n",
    "pfs = pfs.to_frame()\n",
    "pfs=pfs.reset_index()\n",
    "pfs['Numéro Unique'].sum()"
   ],
   "metadata": {
    "collapsed": false,
    "pycharm": {
     "name": "#%%\n"
    }
   }
  },
  {
   "cell_type": "code",
   "execution_count": 80,
   "outputs": [
    {
     "data": {
      "text/plain": "<Figure size 1512x360 with 1 Axes>",
      "image/png": "[encoded data removed]"
     },
     "metadata": {
      "needs_background": "light"
     },
     "output_type": "display_data"
    }
   ],
   "source": [
    " ax = pfs.plot.bar(x='Tranches de RI', y='Numéro Unique', xlabel='Tranche de Revenu imposable mensuel moyen', ylabel= \"Nombre de demandeurs\", title= 'Distribution par montant de RI des demandeurs isolés qui ne déclarent aucunes PFS dans les Bouches-du-Rhône', rot=0, figsize=(21,5), color='green')"
   ],
   "metadata": {
    "collapsed": false,
    "pycharm": {
     "name": "#%%\n"
    }
   }
  },
  {
   "cell_type": "code",
   "execution_count": 81,
   "outputs": [],
   "source": [
    "ax.figure.savefig('RI_BDR_Isoles.pdf')"
   ],
   "metadata": {
    "collapsed": false,
    "pycharm": {
     "name": "#%%\n"
    }
   }
  },
  {
   "cell_type": "markdown",
   "source": [
    "### Couples"
   ],
   "metadata": {
    "collapsed": false,
    "pycharm": {
     "name": "#%% md\n"
    }
   }
  },
  {
   "cell_type": "code",
   "execution_count": 84,
   "outputs": [
    {
     "data": {
      "text/plain": "             Numéro Unique  Ressources mensuelles\\n  \\\n0       073049300093611610                    434.0   \n8       0740595999585010MA                   1495.0   \n9       0740595999585010MA                   1495.0   \n10      0740595999585010MA                   1495.0   \n11      0740595999585010MA                   1495.0   \n...                    ...                      ...   \n227798  0690118092426GDPUB                    580.0   \n227799  0690118092426GDPUB                    580.0   \n227800  0690118092426GDPUB                    580.0   \n227801  0690118092426GDPUB                    580.0   \n227806  0690118096049AL003                   1700.0   \n\n                                                    Type  \\\n0                                               Retraite   \n8                        Allocation chômage / indemnités   \n9                     Allocation d'adulte handicapé(AAH)   \n10      Allocation d'éducation d'enfant handicapé (AEEH)   \n11                      Allocation de minimum vieillesse   \n...                                                  ...   \n227798                              Pension d'invalidité   \n227799                                          Retraite   \n227800                 Revenu de solidarité active (RSA)   \n227801                      Salaire ou revenu d'activité   \n227806                      Salaire ou revenu d'activité   \n\n        Montant par type de ressource\\n  \n0                                 434.0  \n8                                   0.0  \n9                                   0.0  \n10                                  0.0  \n11                                  0.0  \n...                                 ...  \n227798                              0.0  \n227799                              0.0  \n227800                              0.0  \n227801                            580.0  \n227806                           1700.0  \n\n[21046 rows x 4 columns]",
      "text/html": "<div>\n<style scoped>\n    .dataframe tbody tr th:only-of-type {\n        vertical-align: middle;\n    }\n\n    .dataframe tbody tr th {\n        vertical-align: top;\n    }\n\n    .dataframe thead th {\n        text-align: right;\n    }\n</style>\n<table border=\"1\" class=\"dataframe\">\n  <thead>\n    <tr style=\"text-align: right;\">\n      <th></th>\n      <th>Numéro Unique</th>\n      <th>Ressources mensuelles\\n</th>\n      <th>Type</th>\n      <th>Montant par type de ressource\\n</th>\n    </tr>\n  </thead>\n  <tbody>\n    <tr>\n      <th>0</th>\n      <td>073049300093611610</td>\n      <td>434.0</td>\n      <td>Retraite</td>\n      <td>434.0</td>\n    </tr>\n    <tr>\n      <th>8</th>\n      <td>0740595999585010MA</td>\n      <td>1495.0</td>\n      <td>Allocation chômage / indemnités</td>\n      <td>0.0</td>\n    </tr>\n    <tr>\n      <th>9</th>\n      <td>0740595999585010MA</td>\n      <td>1495.0</td>\n      <td>Allocation d'adulte handicapé(AAH)</td>\n      <td>0.0</td>\n    </tr>\n    <tr>\n      <th>10</th>\n      <td>0740595999585010MA</td>\n      <td>1495.0</td>\n      <td>Allocation d'éducation d'enfant handicapé (AEEH)</td>\n      <td>0.0</td>\n    </tr>\n    <tr>\n      <th>11</th>\n      <td>0740595999585010MA</td>\n      <td>1495.0</td>\n      <td>Allocation de minimum vieillesse</td>\n      <td>0.0</td>\n    </tr>\n    <tr>\n      <th>...</th>\n      <td>...</td>\n      <td>...</td>\n      <td>...</td>\n      <td>...</td>\n    </tr>\n    <tr>\n      <th>227798</th>\n      <td>0690118092426GDPUB</td>\n      <td>580.0</td>\n      <td>Pension d'invalidité</td>\n      <td>0.0</td>\n    </tr>\n    <tr>\n      <th>227799</th>\n      <td>0690118092426GDPUB</td>\n      <td>580.0</td>\n      <td>Retraite</td>\n      <td>0.0</td>\n    </tr>\n    <tr>\n      <th>227800</th>\n      <td>0690118092426GDPUB</td>\n      <td>580.0</td>\n      <td>Revenu de solidarité active (RSA)</td>\n      <td>0.0</td>\n    </tr>\n    <tr>\n      <th>227801</th>\n      <td>0690118092426GDPUB</td>\n      <td>580.0</td>\n      <td>Salaire ou revenu d'activité</td>\n      <td>580.0</td>\n    </tr>\n    <tr>\n      <th>227806</th>\n      <td>0690118096049AL003</td>\n      <td>1700.0</td>\n      <td>Salaire ou revenu d'activité</td>\n      <td>1700.0</td>\n    </tr>\n  </tbody>\n</table>\n<p>21046 rows × 4 columns</p>\n</div>"
     },
     "execution_count": 84,
     "metadata": {},
     "output_type": "execute_result"
    }
   ],
   "source": [
    "Couple=base[base['Composition foyer demandeur']=='Au moins 2 cotitulaires']\n",
    "Couple=Couple[['Numéro Unique', 'Ressources mensuelles\\n', 'Type', 'Montant par type de ressource\\n']]\n",
    "Couple"
   ],
   "metadata": {
    "collapsed": false,
    "pycharm": {
     "name": "#%%\n"
    }
   }
  },
  {
   "cell_type": "code",
   "execution_count": 86,
   "outputs": [
    {
     "data": {
      "text/plain": "             Numéro Unique  Ressources mensuelles\\n  \\\n0       073049300093611610                    434.0   \n8       0740595999585010MA                   1495.0   \n31      0741098994287010MA                   1970.0   \n64      0740999993856010MA                   1266.0   \n80      069060100383511191                   1603.0   \n...                    ...                      ...   \n227676  0691217092348GDPUB                   1100.0   \n227678  0691217092362GDPUB                    780.0   \n227742  0070118031906GDPUB                   1020.0   \n227788  0690118092426GDPUB                    580.0   \n227806  0690118096049AL003                   1700.0   \n\n                                   Type  Montant par type de ressource\\n  \n0                              Retraite                            434.0  \n8       Allocation chômage / indemnités                              0.0  \n31      Allocation chômage / indemnités                              0.0  \n64      Allocation chômage / indemnités                            784.0  \n80                             Retraite                           1603.0  \n...                                 ...                              ...  \n227676     Salaire ou revenu d'activité                           1100.0  \n227678     Salaire ou revenu d'activité                            780.0  \n227742  Allocation chômage / indemnités                           1020.0  \n227788  Allocation chômage / indemnités                              0.0  \n227806     Salaire ou revenu d'activité                           1700.0  \n\n[13064 rows x 4 columns]",
      "text/html": "<div>\n<style scoped>\n    .dataframe tbody tr th:only-of-type {\n        vertical-align: middle;\n    }\n\n    .dataframe tbody tr th {\n        vertical-align: top;\n    }\n\n    .dataframe thead th {\n        text-align: right;\n    }\n</style>\n<table border=\"1\" class=\"dataframe\">\n  <thead>\n    <tr style=\"text-align: right;\">\n      <th></th>\n      <th>Numéro Unique</th>\n      <th>Ressources mensuelles\\n</th>\n      <th>Type</th>\n      <th>Montant par type de ressource\\n</th>\n    </tr>\n  </thead>\n  <tbody>\n    <tr>\n      <th>0</th>\n      <td>073049300093611610</td>\n      <td>434.0</td>\n      <td>Retraite</td>\n      <td>434.0</td>\n    </tr>\n    <tr>\n      <th>8</th>\n      <td>0740595999585010MA</td>\n      <td>1495.0</td>\n      <td>Allocation chômage / indemnités</td>\n      <td>0.0</td>\n    </tr>\n    <tr>\n      <th>31</th>\n      <td>0741098994287010MA</td>\n      <td>1970.0</td>\n      <td>Allocation chômage / indemnités</td>\n      <td>0.0</td>\n    </tr>\n    <tr>\n      <th>64</th>\n      <td>0740999993856010MA</td>\n      <td>1266.0</td>\n      <td>Allocation chômage / indemnités</td>\n      <td>784.0</td>\n    </tr>\n    <tr>\n      <th>80</th>\n      <td>069060100383511191</td>\n      <td>1603.0</td>\n      <td>Retraite</td>\n      <td>1603.0</td>\n    </tr>\n    <tr>\n      <th>...</th>\n      <td>...</td>\n      <td>...</td>\n      <td>...</td>\n      <td>...</td>\n    </tr>\n    <tr>\n      <th>227676</th>\n      <td>0691217092348GDPUB</td>\n      <td>1100.0</td>\n      <td>Salaire ou revenu d'activité</td>\n      <td>1100.0</td>\n    </tr>\n    <tr>\n      <th>227678</th>\n      <td>0691217092362GDPUB</td>\n      <td>780.0</td>\n      <td>Salaire ou revenu d'activité</td>\n      <td>780.0</td>\n    </tr>\n    <tr>\n      <th>227742</th>\n      <td>0070118031906GDPUB</td>\n      <td>1020.0</td>\n      <td>Allocation chômage / indemnités</td>\n      <td>1020.0</td>\n    </tr>\n    <tr>\n      <th>227788</th>\n      <td>0690118092426GDPUB</td>\n      <td>580.0</td>\n      <td>Allocation chômage / indemnités</td>\n      <td>0.0</td>\n    </tr>\n    <tr>\n      <th>227806</th>\n      <td>0690118096049AL003</td>\n      <td>1700.0</td>\n      <td>Salaire ou revenu d'activité</td>\n      <td>1700.0</td>\n    </tr>\n  </tbody>\n</table>\n<p>13064 rows × 4 columns</p>\n</div>"
     },
     "execution_count": 86,
     "metadata": {},
     "output_type": "execute_result"
    }
   ],
   "source": [
    "Couple_bis=Couple.drop_duplicates(subset =\"Numéro Unique\")\n",
    "Couple_bis=Couple_bis.dropna()\n",
    "Couple_bis"
   ],
   "metadata": {
    "collapsed": false,
    "pycharm": {
     "name": "#%%\n"
    }
   }
  },
  {
   "cell_type": "markdown",
   "source": [
    "##### Revenus imposables"
   ],
   "metadata": {
    "collapsed": false,
    "pycharm": {
     "name": "#%% md\n"
    }
   }
  },
  {
   "cell_type": "code",
   "execution_count": 88,
   "outputs": [],
   "source": [
    "values=[\"Retraite\", \"Allocation chômage / indemnités\", \"Salaire ou revenu d'activité\", \"Pension alimentaire reçue\", \"Autres (hors APL ou AL)\", \"Pension d\\'invalidité\"]\n",
    "filtered_df = Couple[Couple.Type.isin(values)]\n",
    "shrank_values = filtered_df.groupby(by='Numéro Unique').sum()['Montant par type de ressource\\n']\n",
    "merged_df = filtered_df.merge(shrank_values, left_on='Numéro Unique', right_index=True)\n",
    "merged_df = merged_df.rename(columns={'Montant par type de ressource\\n_y': 'Ressources imposables mensuelles moyennes (RI)'})\n",
    "merged_dfbis=merged_df.drop_duplicates(subset =\"Numéro Unique\")"
   ],
   "metadata": {
    "collapsed": false,
    "pycharm": {
     "name": "#%%\n"
    }
   }
  },
  {
   "cell_type": "code",
   "execution_count": 89,
   "outputs": [
    {
     "data": {
      "text/plain": "            Numéro Unique  RM Moyennes  \\\n0      073049300093611610        434.0   \n1      0740595999585010MA       1495.0   \n2      0741098994287010MA       1970.0   \n3      0740999993856010MA       1266.0   \n4      069060100383511191       1603.0   \n...                   ...          ...   \n13059  0691217092348GDPUB       1100.0   \n13060  0691217092362GDPUB        780.0   \n13061  0070118031906GDPUB       1020.0   \n13062  0690118092426GDPUB        580.0   \n13063  0690118096049AL003       1700.0   \n\n       Ressources imposables mensuelles moyennes (RI)  \n0                                               434.0  \n1                                              1495.0  \n2                                              1970.0  \n3                                              1266.0  \n4                                              1603.0  \n...                                               ...  \n13059                                          1100.0  \n13060                                           780.0  \n13061                                          1020.0  \n13062                                           580.0  \n13063                                          1700.0  \n\n[13064 rows x 3 columns]",
      "text/html": "<div>\n<style scoped>\n    .dataframe tbody tr th:only-of-type {\n        vertical-align: middle;\n    }\n\n    .dataframe tbody tr th {\n        vertical-align: top;\n    }\n\n    .dataframe thead th {\n        text-align: right;\n    }\n</style>\n<table border=\"1\" class=\"dataframe\">\n  <thead>\n    <tr style=\"text-align: right;\">\n      <th></th>\n      <th>Numéro Unique</th>\n      <th>RM Moyennes</th>\n      <th>Ressources imposables mensuelles moyennes (RI)</th>\n    </tr>\n  </thead>\n  <tbody>\n    <tr>\n      <th>0</th>\n      <td>073049300093611610</td>\n      <td>434.0</td>\n      <td>434.0</td>\n    </tr>\n    <tr>\n      <th>1</th>\n      <td>0740595999585010MA</td>\n      <td>1495.0</td>\n      <td>1495.0</td>\n    </tr>\n    <tr>\n      <th>2</th>\n      <td>0741098994287010MA</td>\n      <td>1970.0</td>\n      <td>1970.0</td>\n    </tr>\n    <tr>\n      <th>3</th>\n      <td>0740999993856010MA</td>\n      <td>1266.0</td>\n      <td>1266.0</td>\n    </tr>\n    <tr>\n      <th>4</th>\n      <td>069060100383511191</td>\n      <td>1603.0</td>\n      <td>1603.0</td>\n    </tr>\n    <tr>\n      <th>...</th>\n      <td>...</td>\n      <td>...</td>\n      <td>...</td>\n    </tr>\n    <tr>\n      <th>13059</th>\n      <td>0691217092348GDPUB</td>\n      <td>1100.0</td>\n      <td>1100.0</td>\n    </tr>\n    <tr>\n      <th>13060</th>\n      <td>0691217092362GDPUB</td>\n      <td>780.0</td>\n      <td>780.0</td>\n    </tr>\n    <tr>\n      <th>13061</th>\n      <td>0070118031906GDPUB</td>\n      <td>1020.0</td>\n      <td>1020.0</td>\n    </tr>\n    <tr>\n      <th>13062</th>\n      <td>0690118092426GDPUB</td>\n      <td>580.0</td>\n      <td>580.0</td>\n    </tr>\n    <tr>\n      <th>13063</th>\n      <td>0690118096049AL003</td>\n      <td>1700.0</td>\n      <td>1700.0</td>\n    </tr>\n  </tbody>\n</table>\n<p>13064 rows × 3 columns</p>\n</div>"
     },
     "execution_count": 89,
     "metadata": {},
     "output_type": "execute_result"
    }
   ],
   "source": [
    "bdd = Couple_bis.merge(merged_dfbis, on='Numéro Unique', how='outer')\n",
    "bdd=bdd[['Numéro Unique', 'Ressources mensuelles\\n_x','Ressources imposables mensuelles moyennes (RI)']]\n",
    "bdd=bdd.rename(columns={'Ressources mensuelles\\n_x': 'RM Moyennes'})\n",
    "bdd"
   ],
   "metadata": {
    "collapsed": false,
    "pycharm": {
     "name": "#%%\n"
    }
   }
  },
  {
   "cell_type": "markdown",
   "source": [
    "##### Prestations"
   ],
   "metadata": {
    "collapsed": false,
    "pycharm": {
     "name": "#%% md\n"
    }
   }
  },
  {
   "cell_type": "code",
   "execution_count": 91,
   "outputs": [],
   "source": [
    "values1=[\"Allocation d'adulte handicapé(AAH)\", \"Allocation d'éducation d'enfant handicapé (AEEH)\", \"Allocation de minimum vieillesse\", \"Allocation familiales\", \"Allocation Jeune Enfant (PAJE)\", \"Bourse étudiant\", \"Prime d'activité\", \"Revenu de solidarité active (RSA)\", \"Allocation journalière de présence parentale (AJPP)\"]\n",
    "filtered_df1 = Couple[Couple.Type.isin(values1)]\n",
    "shrank_values1 = filtered_df1.groupby(by='Numéro Unique').sum()['Montant par type de ressource\\n']\n",
    "merged_df1 = filtered_df1.merge(shrank_values1, left_on='Numéro Unique', right_index=True)\n",
    "merged_df1 = merged_df1.rename(columns={'Montant par type de ressource\\n_y': 'Prestations familiales et sociales mensuelles moyennes (PFS)'})\n",
    "merged_dfbis1=merged_df1.drop_duplicates(subset =\"Numéro Unique\")"
   ],
   "metadata": {
    "collapsed": false,
    "pycharm": {
     "name": "#%%\n"
    }
   }
  },
  {
   "cell_type": "code",
   "execution_count": 92,
   "outputs": [
    {
     "data": {
      "text/plain": "            Numéro Unique  RM Moyennes  \\\n0      073049300093611610        434.0   \n1      0740595999585010MA       1495.0   \n2      0741098994287010MA       1970.0   \n3      0740999993856010MA       1266.0   \n4      069060100383511191       1603.0   \n...                   ...          ...   \n13059  0691217092348GDPUB       1100.0   \n13060  0691217092362GDPUB        780.0   \n13061  0070118031906GDPUB       1020.0   \n13062  0690118092426GDPUB        580.0   \n13063  0690118096049AL003       1700.0   \n\n       Ressources imposables mensuelles moyennes (RI)  \\\n0                                               434.0   \n1                                              1495.0   \n2                                              1970.0   \n3                                              1266.0   \n4                                              1603.0   \n...                                               ...   \n13059                                          1100.0   \n13060                                           780.0   \n13061                                          1020.0   \n13062                                           580.0   \n13063                                          1700.0   \n\n       Prestations familiales et sociales mensuelles moyennes (PFS)  \n0                                                    NaN             \n1                                                    0.0             \n2                                                    0.0             \n3                                                    0.0             \n4                                                    NaN             \n...                                                  ...             \n13059                                                NaN             \n13060                                                NaN             \n13061                                                NaN             \n13062                                                0.0             \n13063                                                NaN             \n\n[13064 rows x 4 columns]",
      "text/html": "<div>\n<style scoped>\n    .dataframe tbody tr th:only-of-type {\n        vertical-align: middle;\n    }\n\n    .dataframe tbody tr th {\n        vertical-align: top;\n    }\n\n    .dataframe thead th {\n        text-align: right;\n    }\n</style>\n<table border=\"1\" class=\"dataframe\">\n  <thead>\n    <tr style=\"text-align: right;\">\n      <th></th>\n      <th>Numéro Unique</th>\n      <th>RM Moyennes</th>\n      <th>Ressources imposables mensuelles moyennes (RI)</th>\n      <th>Prestations familiales et sociales mensuelles moyennes (PFS)</th>\n    </tr>\n  </thead>\n  <tbody>\n    <tr>\n      <th>0</th>\n      <td>073049300093611610</td>\n      <td>434.0</td>\n      <td>434.0</td>\n      <td>NaN</td>\n    </tr>\n    <tr>\n      <th>1</th>\n      <td>0740595999585010MA</td>\n      <td>1495.0</td>\n      <td>1495.0</td>\n      <td>0.0</td>\n    </tr>\n    <tr>\n      <th>2</th>\n      <td>0741098994287010MA</td>\n      <td>1970.0</td>\n      <td>1970.0</td>\n      <td>0.0</td>\n    </tr>\n    <tr>\n      <th>3</th>\n      <td>0740999993856010MA</td>\n      <td>1266.0</td>\n      <td>1266.0</td>\n      <td>0.0</td>\n    </tr>\n    <tr>\n      <th>4</th>\n      <td>069060100383511191</td>\n      <td>1603.0</td>\n      <td>1603.0</td>\n      <td>NaN</td>\n    </tr>\n    <tr>\n      <th>...</th>\n      <td>...</td>\n      <td>...</td>\n      <td>...</td>\n      <td>...</td>\n    </tr>\n    <tr>\n      <th>13059</th>\n      <td>0691217092348GDPUB</td>\n      <td>1100.0</td>\n      <td>1100.0</td>\n      <td>NaN</td>\n    </tr>\n    <tr>\n      <th>13060</th>\n      <td>0691217092362GDPUB</td>\n      <td>780.0</td>\n      <td>780.0</td>\n      <td>NaN</td>\n    </tr>\n    <tr>\n      <th>13061</th>\n      <td>0070118031906GDPUB</td>\n      <td>1020.0</td>\n      <td>1020.0</td>\n      <td>NaN</td>\n    </tr>\n    <tr>\n      <th>13062</th>\n      <td>0690118092426GDPUB</td>\n      <td>580.0</td>\n      <td>580.0</td>\n      <td>0.0</td>\n    </tr>\n    <tr>\n      <th>13063</th>\n      <td>0690118096049AL003</td>\n      <td>1700.0</td>\n      <td>1700.0</td>\n      <td>NaN</td>\n    </tr>\n  </tbody>\n</table>\n<p>13064 rows × 4 columns</p>\n</div>"
     },
     "execution_count": 92,
     "metadata": {},
     "output_type": "execute_result"
    }
   ],
   "source": [
    "bddbis = bdd.merge(merged_dfbis1, on='Numéro Unique', how='outer')\n",
    "bddbis=bddbis.rename(columns={'Ressources mensuelles\\n_x': 'RM Moyennes'})\n",
    "bddbis=bddbis[['Numéro Unique', 'RM Moyennes','Ressources imposables mensuelles moyennes (RI)', 'Prestations familiales et sociales mensuelles moyennes (PFS)']]\n",
    "bddbis"
   ],
   "metadata": {
    "collapsed": false,
    "pycharm": {
     "name": "#%%\n"
    }
   }
  },
  {
   "cell_type": "markdown",
   "source": [
    "##### Valeurs nulles"
   ],
   "metadata": {
    "collapsed": false,
    "pycharm": {
     "name": "#%% md\n"
    }
   }
  },
  {
   "cell_type": "code",
   "execution_count": 93,
   "outputs": [
    {
     "data": {
      "text/plain": "972"
     },
     "execution_count": 93,
     "metadata": {},
     "output_type": "execute_result"
    }
   ],
   "source": [
    "bddbis['Ressources imposables mensuelles moyennes (RI)'].isna().sum()"
   ],
   "metadata": {
    "collapsed": false,
    "pycharm": {
     "name": "#%%\n"
    }
   }
  },
  {
   "cell_type": "code",
   "execution_count": 94,
   "outputs": [
    {
     "data": {
      "text/plain": "10820"
     },
     "execution_count": 94,
     "metadata": {},
     "output_type": "execute_result"
    }
   ],
   "source": [
    "bddbis['Prestations familiales et sociales mensuelles moyennes (PFS)'].isna().sum()"
   ],
   "metadata": {
    "collapsed": false,
    "pycharm": {
     "name": "#%%\n"
    }
   }
  },
  {
   "cell_type": "code",
   "execution_count": 95,
   "outputs": [],
   "source": [
    "bddbis['Ressources imposables mensuelles moyennes (RI)'].fillna(0, inplace=True)\n",
    "bddbis['Prestations familiales et sociales mensuelles moyennes (PFS)'].fillna(0, inplace=True)"
   ],
   "metadata": {
    "collapsed": false,
    "pycharm": {
     "name": "#%%\n"
    }
   }
  },
  {
   "cell_type": "markdown",
   "source": [
    "##### Tableau croisé RI/PFS et graphique"
   ],
   "metadata": {
    "collapsed": false,
    "pycharm": {
     "name": "#%% md\n"
    }
   }
  },
  {
   "cell_type": "code",
   "execution_count": 96,
   "outputs": [
    {
     "data": {
      "text/plain": "Tranches de PFS  0.0     50.0    100.0   150.0   200.0   250.0   300.0   \\\nTranches de RI                                                            \n0.0                   0       0       0       0       0       0       0   \n50.0                  0       0       1       0       1       0       0   \n100.0                 0       0       0       1       0       1       1   \n150.0                 0       0       1       0       1       0       3   \n200.0                 0       0       1       1       0       1       1   \n250.0                 0       1       0       4       0       1       1   \n300.0                 1       0       0       2       0       0       1   \n350.0                 0       1       1       0       0       0       1   \n400.0                 1       0       0       1       1       0       1   \n450.0                 1       1       0       7       2       4       5   \n500.0                 1       1       0       3       3       5       4   \n550.0                 1       2       1       0       5       3       1   \n600.0                 3       1       2       2       5       3       3   \n650.0                 1       1       4       5       3       2       4   \n700.0                 1       1       5       7       4       4       2   \n750.0                 0       0       5       1       5       2       0   \n800.0                 0       1       3       3       2       1       1   \n850.0                 2       4       3       5       1       5       1   \n900.0                 0       1       2       2       2       1       1   \n950.0                 0       2       3      10       6       2       3   \n1000.0                1       1       3       1       1       1       1   \n1050.0                0       5       8       2       0       1       1   \n1100.0                1       1       1       3       0       1       0   \n1150.0                4       7       6       5       1       3       1   \n1200.0                1       0       5       1       1       2       1   \n1250.0                1       3       8       2       0       2       2   \n1300.0                2       2       5       0       0       1       1   \n1350.0                1       2       2       3       1       2       0   \n1400.0                0       3       1       0       0       2       3   \n1450.0                1       3       1       4       0       1       1   \n1500.0                0       0       2       3       2       0       1   \n1550.0                0       1       2       5       1       1       1   \n1600.0                0       0       0       0       0       0       1   \n1650.0                0       1       5       0       0       1       0   \n1700.0                0       1       1       3       1       1       1   \n1750.0                0       1       0       1       0       0       1   \n1800.0                0       0       1       0       0       0       0   \n1850.0                0       1       0       1       0       0       1   \n1900.0                0       0       1       0       0       0       1   \n1950.0                0       1       0       0       0       0       1   \n\nTranches de PFS  350.0   400.0   450.0   ...  1000.0  1050.0  1100.0  1150.0  \\\nTranches de RI                           ...                                   \n0.0                   0       1       0  ...       0       0       0       0   \n50.0                  2       2       3  ...       0       0       0       0   \n100.0                 3       1       2  ...       0       0       0       0   \n150.0                 2       1       4  ...       0       0       0       0   \n200.0                 0       3       3  ...       0       0       0       1   \n250.0                 1       3       3  ...       0       0       1       0   \n300.0                 2       1       2  ...       1       0       0       0   \n350.0                 1       4       2  ...       0       0       0       0   \n400.0                 4       1       2  ...       0       0       0       0   \n450.0                 1       2       4  ...       0       0       0       0   \n500.0                 1       3       1  ...       1       1       0       0   \n550.0                 3       2       1  ...       0       0       0       0   \n600.0                 3       0       3  ...       0       1       0       0   \n650.0                 1       6       6  ...       0       0       0       0   \n700.0                 4       1       6  ...       0       0       0       0   \n750.0                 4       5       2  ...       0       0       0       0   \n800.0                 0       1       1  ...       0       0       0       0   \n850.0                 2       1       1  ...       0       0       0       0   \n900.0                 2       0       0  ...       0       0       0       0   \n950.0                 1       3       6  ...       1       0       0       0   \n1000.0                3       0       4  ...       0       0       0       0   \n1050.0                1       1       0  ...       0       0       0       0   \n1100.0                1       0       1  ...       0       0       0       0   \n1150.0                0       2       1  ...       0       0       0       0   \n1200.0                0       1       0  ...       0       0       0       0   \n1250.0                3       1       1  ...       0       0       0       0   \n1300.0                1       0       1  ...       0       0       0       0   \n1350.0                0       0       1  ...       0       0       0       0   \n1400.0                1       2       1  ...       0       1       0       0   \n1450.0                0       1       1  ...       0       0       0       0   \n1500.0                0       1       0  ...       0       0       0       0   \n1550.0                0       1       1  ...       0       0       0       0   \n1600.0                0       0       1  ...       0       0       0       0   \n1650.0                0       0       0  ...       0       0       0       0   \n1700.0                0       0       0  ...       0       0       0       0   \n1750.0                0       0       2  ...       0       0       0       0   \n1800.0                0       0       0  ...       0       0       0       0   \n1850.0                0       0       1  ...       0       0       0       0   \n1900.0                0       0       0  ...       0       0       0       0   \n1950.0                0       0       1  ...       0       0       0       0   \n\nTranches de PFS  1200.0  1250.0  1300.0  1400.0  1650.0  1850.0  \nTranches de RI                                                   \n0.0                   0       0       0       0       0       0  \n50.0                  0       0       0       0       0       0  \n100.0                 0       0       0       0       0       1  \n150.0                 0       0       0       0       0       0  \n200.0                 0       0       0       0       0       0  \n250.0                 0       0       0       0       0       0  \n300.0                 0       0       1       0       0       0  \n350.0                 0       0       0       0       0       0  \n400.0                 0       0       0       0       0       0  \n450.0                 1       0       0       0       0       0  \n500.0                 0       0       0       0       0       0  \n550.0                 0       0       0       0       0       0  \n600.0                 0       0       0       1       0       0  \n650.0                 0       0       0       0       0       0  \n700.0                 0       0       0       0       0       0  \n750.0                 0       1       0       0       0       0  \n800.0                 0       0       0       0       0       0  \n850.0                 0       0       0       0       0       0  \n900.0                 0       0       0       0       0       0  \n950.0                 0       0       0       0       0       0  \n1000.0                0       0       0       0       0       0  \n1050.0                0       0       0       0       0       0  \n1100.0                0       1       0       0       0       0  \n1150.0                0       0       1       0       0       0  \n1200.0                0       0       0       0       0       0  \n1250.0                0       0       0       0       0       0  \n1300.0                0       0       0       0       0       0  \n1350.0                0       0       0       0       0       0  \n1400.0                0       0       0       0       0       0  \n1450.0                0       0       0       0       1       0  \n1500.0                0       0       0       0       0       0  \n1550.0                0       0       0       0       0       0  \n1600.0                0       0       0       0       0       0  \n1650.0                0       0       0       0       0       0  \n1700.0                0       0       0       0       0       0  \n1750.0                0       0       0       0       0       0  \n1800.0                0       0       0       0       0       0  \n1850.0                0       0       0       0       0       0  \n1900.0                0       0       0       0       0       0  \n1950.0                0       0       0       0       0       0  \n\n[40 rows x 30 columns]",
      "text/html": "<div>\n<style scoped>\n    .dataframe tbody tr th:only-of-type {\n        vertical-align: middle;\n    }\n\n    .dataframe tbody tr th {\n        vertical-align: top;\n    }\n\n    .dataframe thead th {\n        text-align: right;\n    }\n</style>\n<table border=\"1\" class=\"dataframe\">\n  <thead>\n    <tr style=\"text-align: right;\">\n      <th>Tranches de PFS</th>\n      <th>0.0</th>\n      <th>50.0</th>\n      <th>100.0</th>\n      <th>150.0</th>\n      <th>200.0</th>\n      <th>250.0</th>\n      <th>300.0</th>\n      <th>350.0</th>\n      <th>400.0</th>\n      <th>450.0</th>\n      <th>...</th>\n      <th>1000.0</th>\n      <th>1050.0</th>\n      <th>1100.0</th>\n      <th>1150.0</th>\n      <th>1200.0</th>\n      <th>1250.0</th>\n      <th>1300.0</th>\n      <th>1400.0</th>\n      <th>1650.0</th>\n      <th>1850.0</th>\n    </tr>\n    <tr>\n      <th>Tranches de RI</th>\n      <th></th>\n      <th></th>\n      <th></th>\n      <th></th>\n      <th></th>\n      <th></th>\n      <th></th>\n      <th></th>\n      <th></th>\n      <th></th>\n      <th></th>\n      <th></th>\n      <th></th>\n      <th></th>\n      <th></th>\n      <th></th>\n      <th></th>\n      <th></th>\n      <th></th>\n      <th></th>\n      <th></th>\n    </tr>\n  </thead>\n  <tbody>\n    <tr>\n      <th>0.0</th>\n      <td>0</td>\n      <td>0</td>\n      <td>0</td>\n      <td>0</td>\n      <td>0</td>\n      <td>0</td>\n      <td>0</td>\n      <td>0</td>\n      <td>1</td>\n      <td>0</td>\n      <td>...</td>\n      <td>0</td>\n      <td>0</td>\n      <td>0</td>\n      <td>0</td>\n      <td>0</td>\n      <td>0</td>\n      <td>0</td>\n      <td>0</td>\n      <td>0</td>\n      <td>0</td>\n    </tr>\n    <tr>\n      <th>50.0</th>\n      <td>0</td>\n      <td>0</td>\n      <td>1</td>\n      <td>0</td>\n      <td>1</td>\n      <td>0</td>\n      <td>0</td>\n      <td>2</td>\n      <td>2</td>\n      <td>3</td>\n      <td>...</td>\n      <td>0</td>\n      <td>0</td>\n      <td>0</td>\n      <td>0</td>\n      <td>0</td>\n      <td>0</td>\n      <td>0</td>\n      <td>0</td>\n      <td>0</td>\n      <td>0</td>\n    </tr>\n    <tr>\n      <th>100.0</th>\n      <td>0</td>\n      <td>0</td>\n      <td>0</td>\n      <td>1</td>\n      <td>0</td>\n      <td>1</td>\n      <td>1</td>\n      <td>3</td>\n      <td>1</td>\n      <td>2</td>\n      <td>...</td>\n      <td>0</td>\n      <td>0</td>\n      <td>0</td>\n      <td>0</td>\n      <td>0</td>\n      <td>0</td>\n      <td>0</td>\n      <td>0</td>\n      <td>0</td>\n      <td>1</td>\n    </tr>\n    <tr>\n      <th>150.0</th>\n      <td>0</td>\n      <td>0</td>\n      <td>1</td>\n      <td>0</td>\n      <td>1</td>\n      <td>0</td>\n      <td>3</td>\n      <td>2</td>\n      <td>1</td>\n      <td>4</td>\n      <td>...</td>\n      <td>0</td>\n      <td>0</td>\n      <td>0</td>\n      <td>0</td>\n      <td>0</td>\n      <td>0</td>\n      <td>0</td>\n      <td>0</td>\n      <td>0</td>\n      <td>0</td>\n    </tr>\n    <tr>\n      <th>200.0</th>\n      <td>0</td>\n      <td>0</td>\n      <td>1</td>\n      <td>1</td>\n      <td>0</td>\n      <td>1</td>\n      <td>1</td>\n      <td>0</td>\n      <td>3</td>\n      <td>3</td>\n      <td>...</td>\n      <td>0</td>\n      <td>0</td>\n      <td>0</td>\n      <td>1</td>\n      <td>0</td>\n      <td>0</td>\n      <td>0</td>\n      <td>0</td>\n      <td>0</td>\n      <td>0</td>\n    </tr>\n    <tr>\n      <th>250.0</th>\n      <td>0</td>\n      <td>1</td>\n      <td>0</td>\n      <td>4</td>\n      <td>0</td>\n      <td>1</td>\n      <td>1</td>\n      <td>1</td>\n      <td>3</td>\n      <td>3</td>\n      <td>...</td>\n      <td>0</td>\n      <td>0</td>\n      <td>1</td>\n      <td>0</td>\n      <td>0</td>\n      <td>0</td>\n      <td>0</td>\n      <td>0</td>\n      <td>0</td>\n      <td>0</td>\n    </tr>\n    <tr>\n      <th>300.0</th>\n      <td>1</td>\n      <td>0</td>\n      <td>0</td>\n      <td>2</td>\n      <td>0</td>\n      <td>0</td>\n      <td>1</td>\n      <td>2</td>\n      <td>1</td>\n      <td>2</td>\n      <td>...</td>\n      <td>1</td>\n      <td>0</td>\n      <td>0</td>\n      <td>0</td>\n      <td>0</td>\n      <td>0</td>\n      <td>1</td>\n      <td>0</td>\n      <td>0</td>\n      <td>0</td>\n    </tr>\n    <tr>\n      <th>350.0</th>\n      <td>0</td>\n      <td>1</td>\n      <td>1</td>\n      <td>0</td>\n      <td>0</td>\n      <td>0</td>\n      <td>1</td>\n      <td>1</td>\n      <td>4</td>\n      <td>2</td>\n      <td>...</td>\n      <td>0</td>\n      <td>0</td>\n      <td>0</td>\n      <td>0</td>\n      <td>0</td>\n      <td>0</td>\n      <td>0</td>\n      <td>0</td>\n      <td>0</td>\n      <td>0</td>\n    </tr>\n    <tr>\n      <th>400.0</th>\n      <td>1</td>\n      <td>0</td>\n      <td>0</td>\n      <td>1</td>\n      <td>1</td>\n      <td>0</td>\n      <td>1</td>\n      <td>4</td>\n      <td>1</td>\n      <td>2</td>\n      <td>...</td>\n      <td>0</td>\n      <td>0</td>\n      <td>0</td>\n      <td>0</td>\n      <td>0</td>\n      <td>0</td>\n      <td>0</td>\n      <td>0</td>\n      <td>0</td>\n      <td>0</td>\n    </tr>\n    <tr>\n      <th>450.0</th>\n      <td>1</td>\n      <td>1</td>\n      <td>0</td>\n      <td>7</td>\n      <td>2</td>\n      <td>4</td>\n      <td>5</td>\n      <td>1</td>\n      <td>2</td>\n      <td>4</td>\n      <td>...</td>\n      <td>0</td>\n      <td>0</td>\n      <td>0</td>\n      <td>0</td>\n      <td>1</td>\n      <td>0</td>\n      <td>0</td>\n      <td>0</td>\n      <td>0</td>\n      <td>0</td>\n    </tr>\n    <tr>\n      <th>500.0</th>\n      <td>1</td>\n      <td>1</td>\n      <td>0</td>\n      <td>3</td>\n      <td>3</td>\n      <td>5</td>\n      <td>4</td>\n      <td>1</td>\n      <td>3</td>\n      <td>1</td>\n      <td>...</td>\n      <td>1</td>\n      <td>1</td>\n      <td>0</td>\n      <td>0</td>\n      <td>0</td>\n      <td>0</td>\n      <td>0</td>\n      <td>0</td>\n      <td>0</td>\n      <td>0</td>\n    </tr>\n    <tr>\n      <th>550.0</th>\n      <td>1</td>\n      <td>2</td>\n      <td>1</td>\n      <td>0</td>\n      <td>5</td>\n      <td>3</td>\n      <td>1</td>\n      <td>3</td>\n      <td>2</td>\n      <td>1</td>\n      <td>...</td>\n      <td>0</td>\n      <td>0</td>\n      <td>0</td>\n      <td>0</td>\n      <td>0</td>\n      <td>0</td>\n      <td>0</td>\n      <td>0</td>\n      <td>0</td>\n      <td>0</td>\n    </tr>\n    <tr>\n      <th>600.0</th>\n      <td>3</td>\n      <td>1</td>\n      <td>2</td>\n      <td>2</td>\n      <td>5</td>\n      <td>3</td>\n      <td>3</td>\n      <td>3</td>\n      <td>0</td>\n      <td>3</td>\n      <td>...</td>\n      <td>0</td>\n      <td>1</td>\n      <td>0</td>\n      <td>0</td>\n      <td>0</td>\n      <td>0</td>\n      <td>0</td>\n      <td>1</td>\n      <td>0</td>\n      <td>0</td>\n    </tr>\n    <tr>\n      <th>650.0</th>\n      <td>1</td>\n      <td>1</td>\n      <td>4</td>\n      <td>5</td>\n      <td>3</td>\n      <td>2</td>\n      <td>4</td>\n      <td>1</td>\n      <td>6</td>\n      <td>6</td>\n      <td>...</td>\n      <td>0</td>\n      <td>0</td>\n      <td>0</td>\n      <td>0</td>\n      <td>0</td>\n      <td>0</td>\n      <td>0</td>\n      <td>0</td>\n      <td>0</td>\n      <td>0</td>\n    </tr>\n    <tr>\n      <th>700.0</th>\n      <td>1</td>\n      <td>1</td>\n      <td>5</td>\n      <td>7</td>\n      <td>4</td>\n      <td>4</td>\n      <td>2</td>\n      <td>4</td>\n      <td>1</td>\n      <td>6</td>\n      <td>...</td>\n      <td>0</td>\n      <td>0</td>\n      <td>0</td>\n      <td>0</td>\n      <td>0</td>\n      <td>0</td>\n      <td>0</td>\n      <td>0</td>\n      <td>0</td>\n      <td>0</td>\n    </tr>\n    <tr>\n      <th>750.0</th>\n      <td>0</td>\n      <td>0</td>\n      <td>5</td>\n      <td>1</td>\n      <td>5</td>\n      <td>2</td>\n      <td>0</td>\n      <td>4</td>\n      <td>5</td>\n      <td>2</td>\n      <td>...</td>\n      <td>0</td>\n      <td>0</td>\n      <td>0</td>\n      <td>0</td>\n      <td>0</td>\n      <td>1</td>\n      <td>0</td>\n      <td>0</td>\n      <td>0</td>\n      <td>0</td>\n    </tr>\n    <tr>\n      <th>800.0</th>\n      <td>0</td>\n      <td>1</td>\n      <td>3</td>\n      <td>3</td>\n      <td>2</td>\n      <td>1</td>\n      <td>1</td>\n      <td>0</td>\n      <td>1</td>\n      <td>1</td>\n      <td>...</td>\n      <td>0</td>\n      <td>0</td>\n      <td>0</td>\n      <td>0</td>\n      <td>0</td>\n      <td>0</td>\n      <td>0</td>\n      <td>0</td>\n      <td>0</td>\n      <td>0</td>\n    </tr>\n    <tr>\n      <th>850.0</th>\n      <td>2</td>\n      <td>4</td>\n      <td>3</td>\n      <td>5</td>\n      <td>1</td>\n      <td>5</td>\n      <td>1</td>\n      <td>2</td>\n      <td>1</td>\n      <td>1</td>\n      <td>...</td>\n      <td>0</td>\n      <td>0</td>\n      <td>0</td>\n      <td>0</td>\n      <td>0</td>\n      <td>0</td>\n      <td>0</td>\n      <td>0</td>\n      <td>0</td>\n      <td>0</td>\n    </tr>\n    <tr>\n      <th>900.0</th>\n      <td>0</td>\n      <td>1</td>\n      <td>2</td>\n      <td>2</td>\n      <td>2</td>\n      <td>1</td>\n      <td>1</td>\n      <td>2</td>\n      <td>0</td>\n      <td>0</td>\n      <td>...</td>\n      <td>0</td>\n      <td>0</td>\n      <td>0</td>\n      <td>0</td>\n      <td>0</td>\n      <td>0</td>\n      <td>0</td>\n      <td>0</td>\n      <td>0</td>\n      <td>0</td>\n    </tr>\n    <tr>\n      <th>950.0</th>\n      <td>0</td>\n      <td>2</td>\n      <td>3</td>\n      <td>10</td>\n      <td>6</td>\n      <td>2</td>\n      <td>3</td>\n      <td>1</td>\n      <td>3</td>\n      <td>6</td>\n      <td>...</td>\n      <td>1</td>\n      <td>0</td>\n      <td>0</td>\n      <td>0</td>\n      <td>0</td>\n      <td>0</td>\n      <td>0</td>\n      <td>0</td>\n      <td>0</td>\n      <td>0</td>\n    </tr>\n    <tr>\n      <th>1000.0</th>\n      <td>1</td>\n      <td>1</td>\n      <td>3</td>\n      <td>1</td>\n      <td>1</td>\n      <td>1</td>\n      <td>1</td>\n      <td>3</td>\n      <td>0</td>\n      <td>4</td>\n      <td>...</td>\n      <td>0</td>\n      <td>0</td>\n      <td>0</td>\n      <td>0</td>\n      <td>0</td>\n      <td>0</td>\n      <td>0</td>\n      <td>0</td>\n      <td>0</td>\n      <td>0</td>\n    </tr>\n    <tr>\n      <th>1050.0</th>\n      <td>0</td>\n      <td>5</td>\n      <td>8</td>\n      <td>2</td>\n      <td>0</td>\n      <td>1</td>\n      <td>1</td>\n      <td>1</td>\n      <td>1</td>\n      <td>0</td>\n      <td>...</td>\n      <td>0</td>\n      <td>0</td>\n      <td>0</td>\n      <td>0</td>\n      <td>0</td>\n      <td>0</td>\n      <td>0</td>\n      <td>0</td>\n      <td>0</td>\n      <td>0</td>\n    </tr>\n    <tr>\n      <th>1100.0</th>\n      <td>1</td>\n      <td>1</td>\n      <td>1</td>\n      <td>3</td>\n      <td>0</td>\n      <td>1</td>\n      <td>0</td>\n      <td>1</td>\n      <td>0</td>\n      <td>1</td>\n      <td>...</td>\n      <td>0</td>\n      <td>0</td>\n      <td>0</td>\n      <td>0</td>\n      <td>0</td>\n      <td>1</td>\n      <td>0</td>\n      <td>0</td>\n      <td>0</td>\n      <td>0</td>\n    </tr>\n    <tr>\n      <th>1150.0</th>\n      <td>4</td>\n      <td>7</td>\n      <td>6</td>\n      <td>5</td>\n      <td>1</td>\n      <td>3</td>\n      <td>1</td>\n      <td>0</td>\n      <td>2</td>\n      <td>1</td>\n      <td>...</td>\n      <td>0</td>\n      <td>0</td>\n      <td>0</td>\n      <td>0</td>\n      <td>0</td>\n      <td>0</td>\n      <td>1</td>\n      <td>0</td>\n      <td>0</td>\n      <td>0</td>\n    </tr>\n    <tr>\n      <th>1200.0</th>\n      <td>1</td>\n      <td>0</td>\n      <td>5</td>\n      <td>1</td>\n      <td>1</td>\n      <td>2</td>\n      <td>1</td>\n      <td>0</td>\n      <td>1</td>\n      <td>0</td>\n      <td>...</td>\n      <td>0</td>\n      <td>0</td>\n      <td>0</td>\n      <td>0</td>\n      <td>0</td>\n      <td>0</td>\n      <td>0</td>\n      <td>0</td>\n      <td>0</td>\n      <td>0</td>\n    </tr>\n    <tr>\n      <th>1250.0</th>\n      <td>1</td>\n      <td>3</td>\n      <td>8</td>\n      <td>2</td>\n      <td>0</td>\n      <td>2</td>\n      <td>2</td>\n      <td>3</td>\n      <td>1</td>\n      <td>1</td>\n      <td>...</td>\n      <td>0</td>\n      <td>0</td>\n      <td>0</td>\n      <td>0</td>\n      <td>0</td>\n      <td>0</td>\n      <td>0</td>\n      <td>0</td>\n      <td>0</td>\n      <td>0</td>\n    </tr>\n    <tr>\n      <th>1300.0</th>\n      <td>2</td>\n      <td>2</td>\n      <td>5</td>\n      <td>0</td>\n      <td>0</td>\n      <td>1</td>\n      <td>1</td>\n      <td>1</td>\n      <td>0</td>\n      <td>1</td>\n      <td>...</td>\n      <td>0</td>\n      <td>0</td>\n      <td>0</td>\n      <td>0</td>\n      <td>0</td>\n      <td>0</td>\n      <td>0</td>\n      <td>0</td>\n      <td>0</td>\n      <td>0</td>\n    </tr>\n    <tr>\n      <th>1350.0</th>\n      <td>1</td>\n      <td>2</td>\n      <td>2</td>\n      <td>3</td>\n      <td>1</td>\n      <td>2</td>\n      <td>0</td>\n      <td>0</td>\n      <td>0</td>\n      <td>1</td>\n      <td>...</td>\n      <td>0</td>\n      <td>0</td>\n      <td>0</td>\n      <td>0</td>\n      <td>0</td>\n      <td>0</td>\n      <td>0</td>\n      <td>0</td>\n      <td>0</td>\n      <td>0</td>\n    </tr>\n    <tr>\n      <th>1400.0</th>\n      <td>0</td>\n      <td>3</td>\n      <td>1</td>\n      <td>0</td>\n      <td>0</td>\n      <td>2</td>\n      <td>3</td>\n      <td>1</td>\n      <td>2</td>\n      <td>1</td>\n      <td>...</td>\n      <td>0</td>\n      <td>1</td>\n      <td>0</td>\n      <td>0</td>\n      <td>0</td>\n      <td>0</td>\n      <td>0</td>\n      <td>0</td>\n      <td>0</td>\n      <td>0</td>\n    </tr>\n    <tr>\n      <th>1450.0</th>\n      <td>1</td>\n      <td>3</td>\n      <td>1</td>\n      <td>4</td>\n      <td>0</td>\n      <td>1</td>\n      <td>1</td>\n      <td>0</td>\n      <td>1</td>\n      <td>1</td>\n      <td>...</td>\n      <td>0</td>\n      <td>0</td>\n      <td>0</td>\n      <td>0</td>\n      <td>0</td>\n      <td>0</td>\n      <td>0</td>\n      <td>0</td>\n      <td>1</td>\n      <td>0</td>\n    </tr>\n    <tr>\n      <th>1500.0</th>\n      <td>0</td>\n      <td>0</td>\n      <td>2</td>\n      <td>3</td>\n      <td>2</td>\n      <td>0</td>\n      <td>1</td>\n      <td>0</td>\n      <td>1</td>\n      <td>0</td>\n      <td>...</td>\n      <td>0</td>\n      <td>0</td>\n      <td>0</td>\n      <td>0</td>\n      <td>0</td>\n      <td>0</td>\n      <td>0</td>\n      <td>0</td>\n      <td>0</td>\n      <td>0</td>\n    </tr>\n    <tr>\n      <th>1550.0</th>\n      <td>0</td>\n      <td>1</td>\n      <td>2</td>\n      <td>5</td>\n      <td>1</td>\n      <td>1</td>\n      <td>1</td>\n      <td>0</td>\n      <td>1</td>\n      <td>1</td>\n      <td>...</td>\n      <td>0</td>\n      <td>0</td>\n      <td>0</td>\n      <td>0</td>\n      <td>0</td>\n      <td>0</td>\n      <td>0</td>\n      <td>0</td>\n      <td>0</td>\n      <td>0</td>\n    </tr>\n    <tr>\n      <th>1600.0</th>\n      <td>0</td>\n      <td>0</td>\n      <td>0</td>\n      <td>0</td>\n      <td>0</td>\n      <td>0</td>\n      <td>1</td>\n      <td>0</td>\n      <td>0</td>\n      <td>1</td>\n      <td>...</td>\n      <td>0</td>\n      <td>0</td>\n      <td>0</td>\n      <td>0</td>\n      <td>0</td>\n      <td>0</td>\n      <td>0</td>\n      <td>0</td>\n      <td>0</td>\n      <td>0</td>\n    </tr>\n    <tr>\n      <th>1650.0</th>\n      <td>0</td>\n      <td>1</td>\n      <td>5</td>\n      <td>0</td>\n      <td>0</td>\n      <td>1</td>\n      <td>0</td>\n      <td>0</td>\n      <td>0</td>\n      <td>0</td>\n      <td>...</td>\n      <td>0</td>\n      <td>0</td>\n      <td>0</td>\n      <td>0</td>\n      <td>0</td>\n      <td>0</td>\n      <td>0</td>\n      <td>0</td>\n      <td>0</td>\n      <td>0</td>\n    </tr>\n    <tr>\n      <th>1700.0</th>\n      <td>0</td>\n      <td>1</td>\n      <td>1</td>\n      <td>3</td>\n      <td>1</td>\n      <td>1</td>\n      <td>1</td>\n      <td>0</td>\n      <td>0</td>\n      <td>0</td>\n      <td>...</td>\n      <td>0</td>\n      <td>0</td>\n      <td>0</td>\n      <td>0</td>\n      <td>0</td>\n      <td>0</td>\n      <td>0</td>\n      <td>0</td>\n      <td>0</td>\n      <td>0</td>\n    </tr>\n    <tr>\n      <th>1750.0</th>\n      <td>0</td>\n      <td>1</td>\n      <td>0</td>\n      <td>1</td>\n      <td>0</td>\n      <td>0</td>\n      <td>1</td>\n      <td>0</td>\n      <td>0</td>\n      <td>2</td>\n      <td>...</td>\n      <td>0</td>\n      <td>0</td>\n      <td>0</td>\n      <td>0</td>\n      <td>0</td>\n      <td>0</td>\n      <td>0</td>\n      <td>0</td>\n      <td>0</td>\n      <td>0</td>\n    </tr>\n    <tr>\n      <th>1800.0</th>\n      <td>0</td>\n      <td>0</td>\n      <td>1</td>\n      <td>0</td>\n      <td>0</td>\n      <td>0</td>\n      <td>0</td>\n      <td>0</td>\n      <td>0</td>\n      <td>0</td>\n      <td>...</td>\n      <td>0</td>\n      <td>0</td>\n      <td>0</td>\n      <td>0</td>\n      <td>0</td>\n      <td>0</td>\n      <td>0</td>\n      <td>0</td>\n      <td>0</td>\n      <td>0</td>\n    </tr>\n    <tr>\n      <th>1850.0</th>\n      <td>0</td>\n      <td>1</td>\n      <td>0</td>\n      <td>1</td>\n      <td>0</td>\n      <td>0</td>\n      <td>1</td>\n      <td>0</td>\n      <td>0</td>\n      <td>1</td>\n      <td>...</td>\n      <td>0</td>\n      <td>0</td>\n      <td>0</td>\n      <td>0</td>\n      <td>0</td>\n      <td>0</td>\n      <td>0</td>\n      <td>0</td>\n      <td>0</td>\n      <td>0</td>\n    </tr>\n    <tr>\n      <th>1900.0</th>\n      <td>0</td>\n      <td>0</td>\n      <td>1</td>\n      <td>0</td>\n      <td>0</td>\n      <td>0</td>\n      <td>1</td>\n      <td>0</td>\n      <td>0</td>\n      <td>0</td>\n      <td>...</td>\n      <td>0</td>\n      <td>0</td>\n      <td>0</td>\n      <td>0</td>\n      <td>0</td>\n      <td>0</td>\n      <td>0</td>\n      <td>0</td>\n      <td>0</td>\n      <td>0</td>\n    </tr>\n    <tr>\n      <th>1950.0</th>\n      <td>0</td>\n      <td>1</td>\n      <td>0</td>\n      <td>0</td>\n      <td>0</td>\n      <td>0</td>\n      <td>1</td>\n      <td>0</td>\n      <td>0</td>\n      <td>1</td>\n      <td>...</td>\n      <td>0</td>\n      <td>0</td>\n      <td>0</td>\n      <td>0</td>\n      <td>0</td>\n      <td>0</td>\n      <td>0</td>\n      <td>0</td>\n      <td>0</td>\n      <td>0</td>\n    </tr>\n  </tbody>\n</table>\n<p>40 rows × 30 columns</p>\n</div>"
     },
     "execution_count": 96,
     "metadata": {},
     "output_type": "execute_result"
    }
   ],
   "source": [
    "bddbis['Tranches de RI']=0\n",
    "bddbis['Tranches de PFS']=0\n",
    "\n",
    "def decoupe2(rl):\n",
    "    for i in range(0, 2000, 50):\n",
    "        if i<rl and rl<=i+50:\n",
    "            return i\n",
    "        elif rl>2000:\n",
    "            return np.NaN\n",
    "        elif rl==0:\n",
    "            return np.NaN\n",
    "\n",
    "\n",
    "bddbis['Tranches de RI'] = bddbis['Ressources imposables mensuelles moyennes (RI)'].apply(decoupe2)\n",
    "bddbis['Tranches de PFS'] = bddbis['Prestations familiales et sociales mensuelles moyennes (PFS)'].apply(decoupe2)\n",
    "z=bddbis.pivot_table(index=\"Tranches de RI\", columns=\"Tranches de PFS\", values=\"Numéro Unique\",  aggfunc=\"size\", fill_value=0)\n",
    "z"
   ],
   "metadata": {
    "collapsed": false,
    "pycharm": {
     "name": "#%%\n"
    }
   }
  },
  {
   "cell_type": "code",
   "execution_count": 97,
   "outputs": [
    {
     "data": {
      "application/vnd.plotly.v1+json": {
       "data": [
        {
         "x": [
          0.0,
          50.0,
          100.0,
          150.0,
          200.0,
          250.0,
          300.0,
          350.0,
          400.0,
          450.0,
          500.0,
          550.0,
          600.0,
          650.0,
          700.0,
          750.0,
          800.0,
          850.0,
          900.0,
          950.0,
          1000.0,
          1050.0,
          1100.0,
          1150.0,
          1200.0,
          1250.0,
          1300.0,
          1400.0,
          1650.0,
          1850.0
         ],
         "y": [
          0.0,
          50.0,
          100.0,
          150.0,
          200.0,
          250.0,
          300.0,
          350.0,
          400.0,
          450.0,
          500.0,
          550.0,
          600.0,
          650.0,
          700.0,
          750.0,
          800.0,
          850.0,
          900.0,
          950.0,
          1000.0,
          1050.0,
          1100.0,
          1150.0,
          1200.0,
          1250.0,
          1300.0,
          1350.0,
          1400.0,
          1450.0,
          1500.0,
          1550.0,
          1600.0,
          1650.0,
          1700.0,
          1750.0,
          1800.0,
          1850.0,
          1900.0,
          1950.0
         ],
         "z": [
          [
           0,
           0,
           0,
           0,
           0,
           0,
           0,
           0,
           1,
           0,
           0,
           0,
           1,
           1,
           0,
           0,
           2,
           0,
           1,
           0,
           0,
           0,
           0,
           0,
           0,
           0,
           0,
           0,
           0,
           0
          ],
          [
           0,
           0,
           1,
           0,
           1,
           0,
           0,
           2,
           2,
           3,
           0,
           0,
           0,
           3,
           0,
           0,
           3,
           1,
           1,
           2,
           0,
           0,
           0,
           0,
           0,
           0,
           0,
           0,
           0,
           0
          ],
          [
           0,
           0,
           0,
           1,
           0,
           1,
           1,
           3,
           1,
           2,
           0,
           1,
           0,
           2,
           0,
           3,
           12,
           2,
           0,
           0,
           0,
           0,
           0,
           0,
           0,
           0,
           0,
           0,
           0,
           1
          ],
          [
           0,
           0,
           1,
           0,
           1,
           0,
           3,
           2,
           1,
           4,
           1,
           2,
           2,
           1,
           1,
           0,
           10,
           1,
           1,
           0,
           0,
           0,
           0,
           0,
           0,
           0,
           0,
           0,
           0,
           0
          ],
          [
           0,
           0,
           1,
           1,
           0,
           1,
           1,
           0,
           3,
           3,
           1,
           0,
           1,
           1,
           1,
           1,
           1,
           0,
           0,
           0,
           0,
           0,
           0,
           1,
           0,
           0,
           0,
           0,
           0,
           0
          ],
          [
           0,
           1,
           0,
           4,
           0,
           1,
           1,
           1,
           3,
           3,
           2,
           0,
           1,
           1,
           2,
           0,
           6,
           2,
           0,
           1,
           0,
           0,
           1,
           0,
           0,
           0,
           0,
           0,
           0,
           0
          ],
          [
           1,
           0,
           0,
           2,
           0,
           0,
           1,
           2,
           1,
           2,
           2,
           0,
           1,
           1,
           1,
           2,
           4,
           0,
           0,
           0,
           1,
           0,
           0,
           0,
           0,
           0,
           1,
           0,
           0,
           0
          ],
          [
           0,
           1,
           1,
           0,
           0,
           0,
           1,
           1,
           4,
           2,
           0,
           1,
           1,
           2,
           1,
           0,
           5,
           1,
           1,
           0,
           0,
           0,
           0,
           0,
           0,
           0,
           0,
           0,
           0,
           0
          ],
          [
           1,
           0,
           0,
           1,
           1,
           0,
           1,
           4,
           1,
           2,
           0,
           0,
           0,
           2,
           0,
           0,
           0,
           0,
           1,
           0,
           0,
           0,
           0,
           0,
           0,
           0,
           0,
           0,
           0,
           0
          ],
          [
           1,
           1,
           0,
           7,
           2,
           4,
           5,
           1,
           2,
           4,
           1,
           1,
           1,
           2,
           1,
           0,
           3,
           1,
           2,
           0,
           0,
           0,
           0,
           0,
           1,
           0,
           0,
           0,
           0,
           0
          ],
          [
           1,
           1,
           0,
           3,
           3,
           5,
           4,
           1,
           3,
           1,
           0,
           3,
           0,
           0,
           1,
           3,
           1,
           1,
           3,
           1,
           1,
           1,
           0,
           0,
           0,
           0,
           0,
           0,
           0,
           0
          ],
          [
           1,
           2,
           1,
           0,
           5,
           3,
           1,
           3,
           2,
           1,
           1,
           1,
           0,
           1,
           1,
           2,
           2,
           0,
           0,
           0,
           0,
           0,
           0,
           0,
           0,
           0,
           0,
           0,
           0,
           0
          ],
          [
           3,
           1,
           2,
           2,
           5,
           3,
           3,
           3,
           0,
           3,
           3,
           0,
           1,
           1,
           2,
           3,
           5,
           0,
           0,
           1,
           0,
           1,
           0,
           0,
           0,
           0,
           0,
           1,
           0,
           0
          ],
          [
           1,
           1,
           4,
           5,
           3,
           2,
           4,
           1,
           6,
           6,
           2,
           0,
           0,
           2,
           1,
           1,
           4,
           3,
           0,
           0,
           0,
           0,
           0,
           0,
           0,
           0,
           0,
           0,
           0,
           0
          ],
          [
           1,
           1,
           5,
           7,
           4,
           4,
           2,
           4,
           1,
           6,
           1,
           0,
           0,
           2,
           0,
           1,
           5,
           0,
           1,
           0,
           0,
           0,
           0,
           0,
           0,
           0,
           0,
           0,
           0,
           0
          ],
          [
           0,
           0,
           5,
           1,
           5,
           2,
           0,
           4,
           5,
           2,
           2,
           0,
           0,
           1,
           0,
           2,
           0,
           0,
           0,
           0,
           0,
           0,
           0,
           0,
           0,
           1,
           0,
           0,
           0,
           0
          ],
          [
           0,
           1,
           3,
           3,
           2,
           1,
           1,
           0,
           1,
           1,
           1,
           0,
           1,
           1,
           1,
           0,
           4,
           0,
           0,
           0,
           0,
           0,
           0,
           0,
           0,
           0,
           0,
           0,
           0,
           0
          ],
          [
           2,
           4,
           3,
           5,
           1,
           5,
           1,
           2,
           1,
           1,
           0,
           1,
           1,
           1,
           0,
           1,
           1,
           1,
           2,
           0,
           0,
           0,
           0,
           0,
           0,
           0,
           0,
           0,
           0,
           0
          ],
          [
           0,
           1,
           2,
           2,
           2,
           1,
           1,
           2,
           0,
           0,
           0,
           0,
           0,
           1,
           0,
           1,
           1,
           0,
           1,
           0,
           0,
           0,
           0,
           0,
           0,
           0,
           0,
           0,
           0,
           0
          ],
          [
           0,
           2,
           3,
           10,
           6,
           2,
           3,
           1,
           3,
           6,
           0,
           0,
           0,
           1,
           0,
           0,
           0,
           0,
           1,
           0,
           1,
           0,
           0,
           0,
           0,
           0,
           0,
           0,
           0,
           0
          ],
          [
           1,
           1,
           3,
           1,
           1,
           1,
           1,
           3,
           0,
           4,
           0,
           0,
           0,
           0,
           0,
           0,
           2,
           0,
           0,
           0,
           0,
           0,
           0,
           0,
           0,
           0,
           0,
           0,
           0,
           0
          ],
          [
           0,
           5,
           8,
           2,
           0,
           1,
           1,
           1,
           1,
           0,
           3,
           0,
           0,
           2,
           0,
           1,
           1,
           1,
           0,
           0,
           0,
           0,
           0,
           0,
           0,
           0,
           0,
           0,
           0,
           0
          ],
          [
           1,
           1,
           1,
           3,
           0,
           1,
           0,
           1,
           0,
           1,
           1,
           0,
           0,
           0,
           0,
           0,
           0,
           0,
           0,
           0,
           0,
           0,
           0,
           0,
           0,
           1,
           0,
           0,
           0,
           0
          ],
          [
           4,
           7,
           6,
           5,
           1,
           3,
           1,
           0,
           2,
           1,
           1,
           0,
           1,
           1,
           0,
           0,
           1,
           1,
           0,
           0,
           0,
           0,
           0,
           0,
           0,
           0,
           1,
           0,
           0,
           0
          ],
          [
           1,
           0,
           5,
           1,
           1,
           2,
           1,
           0,
           1,
           0,
           1,
           0,
           0,
           0,
           0,
           0,
           0,
           0,
           0,
           0,
           0,
           0,
           0,
           0,
           0,
           0,
           0,
           0,
           0,
           0
          ],
          [
           1,
           3,
           8,
           2,
           0,
           2,
           2,
           3,
           1,
           1,
           1,
           0,
           1,
           2,
           0,
           0,
           0,
           0,
           1,
           0,
           0,
           0,
           0,
           0,
           0,
           0,
           0,
           0,
           0,
           0
          ],
          [
           2,
           2,
           5,
           0,
           0,
           1,
           1,
           1,
           0,
           1,
           1,
           0,
           1,
           2,
           1,
           0,
           1,
           0,
           1,
           0,
           0,
           0,
           0,
           0,
           0,
           0,
           0,
           0,
           0,
           0
          ],
          [
           1,
           2,
           2,
           3,
           1,
           2,
           0,
           0,
           0,
           1,
           0,
           0,
           1,
           0,
           1,
           0,
           3,
           0,
           0,
           0,
           0,
           0,
           0,
           0,
           0,
           0,
           0,
           0,
           0,
           0
          ],
          [
           0,
           3,
           1,
           0,
           0,
           2,
           3,
           1,
           2,
           1,
           1,
           0,
           0,
           0,
           0,
           0,
           1,
           0,
           0,
           0,
           0,
           1,
           0,
           0,
           0,
           0,
           0,
           0,
           0,
           0
          ],
          [
           1,
           3,
           1,
           4,
           0,
           1,
           1,
           0,
           1,
           1,
           1,
           0,
           0,
           0,
           1,
           1,
           1,
           0,
           0,
           0,
           0,
           0,
           0,
           0,
           0,
           0,
           0,
           0,
           1,
           0
          ],
          [
           0,
           0,
           2,
           3,
           2,
           0,
           1,
           0,
           1,
           0,
           0,
           0,
           0,
           0,
           0,
           0,
           1,
           0,
           0,
           0,
           0,
           0,
           0,
           0,
           0,
           0,
           0,
           0,
           0,
           0
          ],
          [
           0,
           1,
           2,
           5,
           1,
           1,
           1,
           0,
           1,
           1,
           2,
           0,
           1,
           0,
           0,
           0,
           2,
           0,
           0,
           0,
           0,
           0,
           0,
           0,
           0,
           0,
           0,
           0,
           0,
           0
          ],
          [
           0,
           0,
           0,
           0,
           0,
           0,
           1,
           0,
           0,
           1,
           0,
           0,
           0,
           0,
           1,
           0,
           0,
           0,
           0,
           0,
           0,
           0,
           0,
           0,
           0,
           0,
           0,
           0,
           0,
           0
          ],
          [
           0,
           1,
           5,
           0,
           0,
           1,
           0,
           0,
           0,
           0,
           1,
           0,
           0,
           0,
           0,
           0,
           0,
           0,
           0,
           0,
           0,
           0,
           0,
           0,
           0,
           0,
           0,
           0,
           0,
           0
          ],
          [
           0,
           1,
           1,
           3,
           1,
           1,
           1,
           0,
           0,
           0,
           0,
           0,
           0,
           0,
           0,
           0,
           0,
           0,
           0,
           0,
           0,
           0,
           0,
           0,
           0,
           0,
           0,
           0,
           0,
           0
          ],
          [
           0,
           1,
           0,
           1,
           0,
           0,
           1,
           0,
           0,
           2,
           0,
           0,
           0,
           1,
           0,
           0,
           0,
           0,
           0,
           0,
           0,
           0,
           0,
           0,
           0,
           0,
           0,
           0,
           0,
           0
          ],
          [
           0,
           0,
           1,
           0,
           0,
           0,
           0,
           0,
           0,
           0,
           0,
           0,
           0,
           0,
           0,
           0,
           0,
           0,
           0,
           0,
           0,
           0,
           0,
           0,
           0,
           0,
           0,
           0,
           0,
           0
          ],
          [
           0,
           1,
           0,
           1,
           0,
           0,
           1,
           0,
           0,
           1,
           0,
           1,
           0,
           0,
           0,
           0,
           0,
           0,
           0,
           0,
           0,
           0,
           0,
           0,
           0,
           0,
           0,
           0,
           0,
           0
          ],
          [
           0,
           0,
           1,
           0,
           0,
           0,
           1,
           0,
           0,
           0,
           0,
           0,
           0,
           0,
           0,
           0,
           0,
           0,
           0,
           0,
           0,
           0,
           0,
           0,
           0,
           0,
           0,
           0,
           0,
           0
          ],
          [
           0,
           1,
           0,
           0,
           0,
           0,
           1,
           0,
           0,
           1,
           0,
           0,
           0,
           0,
           0,
           0,
           0,
           0,
           0,
           1,
           0,
           0,
           0,
           0,
           0,
           0,
           0,
           0,
           0,
           0
          ]
         ],
         "type": "surface"
        }
       ],
       "layout": {
        "template": {
         "data": {
          "histogram2dcontour": [
           {
            "type": "histogram2dcontour",
            "colorbar": {
             "outlinewidth": 0,
             "ticks": ""
            },
            "colorscale": [
             [
              0.0,
              "#0d0887"
             ],
             [
              0.1111111111111111,
              "#46039f"
             ],
             [
              0.2222222222222222,
              "#7201a8"
             ],
             [
              0.3333333333333333,
              "#9c179e"
             ],
             [
              0.4444444444444444,
              "#bd3786"
             ],
             [
              0.5555555555555556,
              "#d8576b"
             ],
             [
              0.6666666666666666,
              "#ed7953"
             ],
             [
              0.7777777777777778,
              "#fb9f3a"
             ],
             [
              0.8888888888888888,
              "#fdca26"
             ],
             [
              1.0,
              "#f0f921"
             ]
            ]
           }
          ],
          "choropleth": [
           {
            "type": "choropleth",
            "colorbar": {
             "outlinewidth": 0,
             "ticks": ""
            }
           }
          ],
          "histogram2d": [
           {
            "type": "histogram2d",
            "colorbar": {
             "outlinewidth": 0,
             "ticks": ""
            },
            "colorscale": [
             [
              0.0,
              "#0d0887"
             ],
             [
              0.1111111111111111,
              "#46039f"
             ],
             [
              0.2222222222222222,
              "#7201a8"
             ],
             [
              0.3333333333333333,
              "#9c179e"
             ],
             [
              0.4444444444444444,
              "#bd3786"
             ],
             [
              0.5555555555555556,
              "#d8576b"
             ],
             [
              0.6666666666666666,
              "#ed7953"
             ],
             [
              0.7777777777777778,
              "#fb9f3a"
             ],
             [
              0.8888888888888888,
              "#fdca26"
             ],
             [
              1.0,
              "#f0f921"
             ]
            ]
           }
          ],
          "heatmap": [
           {
            "type": "heatmap",
            "colorbar": {
             "outlinewidth": 0,
             "ticks": ""
            },
            "colorscale": [
             [
              0.0,
              "#0d0887"
             ],
             [
              0.1111111111111111,
              "#46039f"
             ],
             [
              0.2222222222222222,
              "#7201a8"
             ],
             [
              0.3333333333333333,
              "#9c179e"
             ],
             [
              0.4444444444444444,
              "#bd3786"
             ],
             [
              0.5555555555555556,
              "#d8576b"
             ],
             [
              0.6666666666666666,
              "#ed7953"
             ],
             [
              0.7777777777777778,
              "#fb9f3a"
             ],
             [
              0.8888888888888888,
              "#fdca26"
             ],
             [
              1.0,
              "#f0f921"
             ]
            ]
           }
          ],
          "heatmapgl": [
           {
            "type": "heatmapgl",
            "colorbar": {
             "outlinewidth": 0,
             "ticks": ""
            },
            "colorscale": [
             [
              0.0,
              "#0d0887"
             ],
             [
              0.1111111111111111,
              "#46039f"
             ],
             [
              0.2222222222222222,
              "#7201a8"
             ],
             [
              0.3333333333333333,
              "#9c179e"
             ],
             [
              0.4444444444444444,
              "#bd3786"
             ],
             [
              0.5555555555555556,
              "#d8576b"
             ],
             [
              0.6666666666666666,
              "#ed7953"
             ],
             [
              0.7777777777777778,
              "#fb9f3a"
             ],
             [
              0.8888888888888888,
              "#fdca26"
             ],
             [
              1.0,
              "#f0f921"
             ]
            ]
           }
          ],
          "contourcarpet": [
           {
            "type": "contourcarpet",
            "colorbar": {
             "outlinewidth": 0,
             "ticks": ""
            }
           }
          ],
          "contour": [
           {
            "type": "contour",
            "colorbar": {
             "outlinewidth": 0,
             "ticks": ""
            },
            "colorscale": [
             [
              0.0,
              "#0d0887"
             ],
             [
              0.1111111111111111,
              "#46039f"
             ],
             [
              0.2222222222222222,
              "#7201a8"
             ],
             [
              0.3333333333333333,
              "#9c179e"
             ],
             [
              0.4444444444444444,
              "#bd3786"
             ],
             [
              0.5555555555555556,
              "#d8576b"
             ],
             [
              0.6666666666666666,
              "#ed7953"
             ],
             [
              0.7777777777777778,
              "#fb9f3a"
             ],
             [
              0.8888888888888888,
              "#fdca26"
             ],
             [
              1.0,
              "#f0f921"
             ]
            ]
           }
          ],
          "surface": [
           {
            "type": "surface",
            "colorbar": {
             "outlinewidth": 0,
             "ticks": ""
            },
            "colorscale": [
             [
              0.0,
              "#0d0887"
             ],
             [
              0.1111111111111111,
              "#46039f"
             ],
             [
              0.2222222222222222,
              "#7201a8"
             ],
             [
              0.3333333333333333,
              "#9c179e"
             ],
             [
              0.4444444444444444,
              "#bd3786"
             ],
             [
              0.5555555555555556,
              "#d8576b"
             ],
             [
              0.6666666666666666,
              "#ed7953"
             ],
             [
              0.7777777777777778,
              "#fb9f3a"
             ],
             [
              0.8888888888888888,
              "#fdca26"
             ],
             [
              1.0,
              "#f0f921"
             ]
            ]
           }
          ],
          "mesh3d": [
           {
            "type": "mesh3d",
            "colorbar": {
             "outlinewidth": 0,
             "ticks": ""
            }
           }
          ],
          "scatter": [
           {
            "marker": {
             "line": {
              "color": "#283442"
             }
            },
            "type": "scatter"
           }
          ],
          "parcoords": [
           {
            "type": "parcoords",
            "line": {
             "colorbar": {
              "outlinewidth": 0,
              "ticks": ""
             }
            }
           }
          ],
          "scatterpolargl": [
           {
            "type": "scatterpolargl",
            "marker": {
             "colorbar": {
              "outlinewidth": 0,
              "ticks": ""
             }
            }
           }
          ],
          "bar": [
           {
            "error_x": {
             "color": "#f2f5fa"
            },
            "error_y": {
             "color": "#f2f5fa"
            },
            "marker": {
             "line": {
              "color": "rgb(17,17,17)",
              "width": 0.5
             },
             "pattern": {
              "fillmode": "overlay",
              "size": 10,
              "solidity": 0.2
             }
            },
            "type": "bar"
           }
          ],
          "scattergeo": [
           {
            "type": "scattergeo",
            "marker": {
             "colorbar": {
              "outlinewidth": 0,
              "ticks": ""
             }
            }
           }
          ],
          "scatterpolar": [
           {
            "type": "scatterpolar",
            "marker": {
             "colorbar": {
              "outlinewidth": 0,
              "ticks": ""
             }
            }
           }
          ],
          "histogram": [
           {
            "marker": {
             "pattern": {
              "fillmode": "overlay",
              "size": 10,
              "solidity": 0.2
             }
            },
            "type": "histogram"
           }
          ],
          "scattergl": [
           {
            "marker": {
             "line": {
              "color": "#283442"
             }
            },
            "type": "scattergl"
           }
          ],
          "scatter3d": [
           {
            "type": "scatter3d",
            "line": {
             "colorbar": {
              "outlinewidth": 0,
              "ticks": ""
             }
            },
            "marker": {
             "colorbar": {
              "outlinewidth": 0,
              "ticks": ""
             }
            }
           }
          ],
          "scattermapbox": [
           {
            "type": "scattermapbox",
            "marker": {
             "colorbar": {
              "outlinewidth": 0,
              "ticks": ""
             }
            }
           }
          ],
          "scatterternary": [
           {
            "type": "scatterternary",
            "marker": {
             "colorbar": {
              "outlinewidth": 0,
              "ticks": ""
             }
            }
           }
          ],
          "scattercarpet": [
           {
            "type": "scattercarpet",
            "marker": {
             "colorbar": {
              "outlinewidth": 0,
              "ticks": ""
             }
            }
           }
          ],
          "carpet": [
           {
            "aaxis": {
             "endlinecolor": "#A2B1C6",
             "gridcolor": "#506784",
             "linecolor": "#506784",
             "minorgridcolor": "#506784",
             "startlinecolor": "#A2B1C6"
            },
            "baxis": {
             "endlinecolor": "#A2B1C6",
             "gridcolor": "#506784",
             "linecolor": "#506784",
             "minorgridcolor": "#506784",
             "startlinecolor": "#A2B1C6"
            },
            "type": "carpet"
           }
          ],
          "table": [
           {
            "cells": {
             "fill": {
              "color": "#506784"
             },
             "line": {
              "color": "rgb(17,17,17)"
             }
            },
            "header": {
             "fill": {
              "color": "#2a3f5f"
             },
             "line": {
              "color": "rgb(17,17,17)"
             }
            },
            "type": "table"
           }
          ],
          "barpolar": [
           {
            "marker": {
             "line": {
              "color": "rgb(17,17,17)",
              "width": 0.5
             },
             "pattern": {
              "fillmode": "overlay",
              "size": 10,
              "solidity": 0.2
             }
            },
            "type": "barpolar"
           }
          ],
          "pie": [
           {
            "automargin": true,
            "type": "pie"
           }
          ]
         },
         "layout": {
          "autotypenumbers": "strict",
          "colorway": [
           "#636efa",
           "#EF553B",
           "#00cc96",
           "#ab63fa",
           "#FFA15A",
           "#19d3f3",
           "#FF6692",
           "#B6E880",
           "#FF97FF",
           "#FECB52"
          ],
          "font": {
           "color": "#f2f5fa"
          },
          "hovermode": "closest",
          "hoverlabel": {
           "align": "left"
          },
          "paper_bgcolor": "rgb(17,17,17)",
          "plot_bgcolor": "rgb(17,17,17)",
          "polar": {
           "bgcolor": "rgb(17,17,17)",
           "angularaxis": {
            "gridcolor": "#506784",
            "linecolor": "#506784",
            "ticks": ""
           },
           "radialaxis": {
            "gridcolor": "#506784",
            "linecolor": "#506784",
            "ticks": ""
           }
          },
          "ternary": {
           "bgcolor": "rgb(17,17,17)",
           "aaxis": {
            "gridcolor": "#506784",
            "linecolor": "#506784",
            "ticks": ""
           },
           "baxis": {
            "gridcolor": "#506784",
            "linecolor": "#506784",
            "ticks": ""
           },
           "caxis": {
            "gridcolor": "#506784",
            "linecolor": "#506784",
            "ticks": ""
           }
          },
          "coloraxis": {
           "colorbar": {
            "outlinewidth": 0,
            "ticks": ""
           }
          },
          "colorscale": {
           "sequential": [
            [
             0.0,
             "#0d0887"
            ],
            [
             0.1111111111111111,
             "#46039f"
            ],
            [
             0.2222222222222222,
             "#7201a8"
            ],
            [
             0.3333333333333333,
             "#9c179e"
            ],
            [
             0.4444444444444444,
             "#bd3786"
            ],
            [
             0.5555555555555556,
             "#d8576b"
            ],
            [
             0.6666666666666666,
             "#ed7953"
            ],
            [
             0.7777777777777778,
             "#fb9f3a"
            ],
            [
             0.8888888888888888,
             "#fdca26"
            ],
            [
             1.0,
             "#f0f921"
            ]
           ],
           "sequentialminus": [
            [
             0.0,
             "#0d0887"
            ],
            [
             0.1111111111111111,
             "#46039f"
            ],
            [
             0.2222222222222222,
             "#7201a8"
            ],
            [
             0.3333333333333333,
             "#9c179e"
            ],
            [
             0.4444444444444444,
             "#bd3786"
            ],
            [
             0.5555555555555556,
             "#d8576b"
            ],
            [
             0.6666666666666666,
             "#ed7953"
            ],
            [
             0.7777777777777778,
             "#fb9f3a"
            ],
            [
             0.8888888888888888,
             "#fdca26"
            ],
            [
             1.0,
             "#f0f921"
            ]
           ],
           "diverging": [
            [
             0,
             "#8e0152"
            ],
            [
             0.1,
             "#c51b7d"
            ],
            [
             0.2,
             "#de77ae"
            ],
            [
             0.3,
             "#f1b6da"
            ],
            [
             0.4,
             "#fde0ef"
            ],
            [
             0.5,
             "#f7f7f7"
            ],
            [
             0.6,
             "#e6f5d0"
            ],
            [
             0.7,
             "#b8e186"
            ],
            [
             0.8,
             "#7fbc41"
            ],
            [
             0.9,
             "#4d9221"
            ],
            [
             1,
             "#276419"
            ]
           ]
          },
          "xaxis": {
           "gridcolor": "#283442",
           "linecolor": "#506784",
           "ticks": "",
           "title": {
            "standoff": 15
           },
           "zerolinecolor": "#283442",
           "automargin": true,
           "zerolinewidth": 2
          },
          "yaxis": {
           "gridcolor": "#283442",
           "linecolor": "#506784",
           "ticks": "",
           "title": {
            "standoff": 15
           },
           "zerolinecolor": "#283442",
           "automargin": true,
           "zerolinewidth": 2
          },
          "scene": {
           "xaxis": {
            "backgroundcolor": "rgb(17,17,17)",
            "gridcolor": "#506784",
            "linecolor": "#506784",
            "showbackground": true,
            "ticks": "",
            "zerolinecolor": "#C8D4E3",
            "gridwidth": 2
           },
           "yaxis": {
            "backgroundcolor": "rgb(17,17,17)",
            "gridcolor": "#506784",
            "linecolor": "#506784",
            "showbackground": true,
            "ticks": "",
            "zerolinecolor": "#C8D4E3",
            "gridwidth": 2
           },
           "zaxis": {
            "backgroundcolor": "rgb(17,17,17)",
            "gridcolor": "#506784",
            "linecolor": "#506784",
            "showbackground": true,
            "ticks": "",
            "zerolinecolor": "#C8D4E3",
            "gridwidth": 2
           }
          },
          "shapedefaults": {
           "line": {
            "color": "#f2f5fa"
           }
          },
          "annotationdefaults": {
           "arrowcolor": "#f2f5fa",
           "arrowhead": 0,
           "arrowwidth": 1
          },
          "geo": {
           "bgcolor": "rgb(17,17,17)",
           "landcolor": "rgb(17,17,17)",
           "subunitcolor": "#506784",
           "showland": true,
           "showlakes": true,
           "lakecolor": "rgb(17,17,17)"
          },
          "title": {
           "x": 0.05
          },
          "updatemenudefaults": {
           "bgcolor": "#506784",
           "borderwidth": 0
          },
          "sliderdefaults": {
           "bgcolor": "#C8D4E3",
           "borderwidth": 1,
           "bordercolor": "rgb(17,17,17)",
           "tickwidth": 0
          },
          "mapbox": {
           "style": "dark"
          }
         }
        }
       },
       "config": {
        "plotlyServerURL": "https://plot.ly"
       }
      },
      "text/html": "<div>                            <div id=\"733a331f-1fef-415e-8753-8fb44c134279\" class=\"plotly-graph-div\" style=\"height:525px; width:100%;\"></div>            <script type=\"text/javascript\">                require([\"plotly\"], function(Plotly) {                    window.PLOTLYENV=window.PLOTLYENV || {};                                    if (document.getElementById(\"733a331f-1fef-415e-8753-8fb44c134279\")) {                    Plotly.newPlot(                        \"733a331f-1fef-415e-8753-8fb44c134279\",                        [{\"x\":[0.0,50.0,100.0,150.0,200.0,250.0,300.0,350.0,400.0,450.0,500.0,550.0,600.0,650.0,700.0,750.0,800.0,850.0,900.0,950.0,1000.0,1050.0,1100.0,1150.0,1200.0,1250.0,1300.0,1400.0,1650.0,1850.0],\"y\":[0.0,50.0,100.0,150.0,200.0,250.0,300.0,350.0,400.0,450.0,500.0,550.0,600.0,650.0,700.0,750.0,800.0,850.0,900.0,950.0,1000.0,1050.0,1100.0,1150.0,1200.0,1250.0,1300.0,1350.0,1400.0,1450.0,1500.0,1550.0,1600.0,1650.0,1700.0,1750.0,1800.0,1850.0,1900.0,1950.0],\"z\":[[0,0,0,0,0,0,0,0,1,0,0,0,1,1,0,0,2,0,1,0,0,0,0,0,0,0,0,0,0,0],[0,0,1,0,1,0,0,2,2,3,0,0,0,3,0,0,3,1,1,2,0,0,0,0,0,0,0,0,0,0],[0,0,0,1,0,1,1,3,1,2,0,1,0,2,0,3,12,2,0,0,0,0,0,0,0,0,0,0,0,1],[0,0,1,0,1,0,3,2,1,4,1,2,2,1,1,0,10,1,1,0,0,0,0,0,0,0,0,0,0,0],[0,0,1,1,0,1,1,0,3,3,1,0,1,1,1,1,1,0,0,0,0,0,0,1,0,0,0,0,0,0],[0,1,0,4,0,1,1,1,3,3,2,0,1,1,2,0,6,2,0,1,0,0,1,0,0,0,0,0,0,0],[1,0,0,2,0,0,1,2,1,2,2,0,1,1,1,2,4,0,0,0,1,0,0,0,0,0,1,0,0,0],[0,1,1,0,0,0,1,1,4,2,0,1,1,2,1,0,5,1,1,0,0,0,0,0,0,0,0,0,0,0],[1,0,0,1,1,0,1,4,1,2,0,0,0,2,0,0,0,0,1,0,0,0,0,0,0,0,0,0,0,0],[1,1,0,7,2,4,5,1,2,4,1,1,1,2,1,0,3,1,2,0,0,0,0,0,1,0,0,0,0,0],[1,1,0,3,3,5,4,1,3,1,0,3,0,0,1,3,1,1,3,1,1,1,0,0,0,0,0,0,0,0],[1,2,1,0,5,3,1,3,2,1,1,1,0,1,1,2,2,0,0,0,0,0,0,0,0,0,0,0,0,0],[3,1,2,2,5,3,3,3,0,3,3,0,1,1,2,3,5,0,0,1,0,1,0,0,0,0,0,1,0,0],[1,1,4,5,3,2,4,1,6,6,2,0,0,2,1,1,4,3,0,0,0,0,0,0,0,0,0,0,0,0],[1,1,5,7,4,4,2,4,1,6,1,0,0,2,0,1,5,0,1,0,0,0,0,0,0,0,0,0,0,0],[0,0,5,1,5,2,0,4,5,2,2,0,0,1,0,2,0,0,0,0,0,0,0,0,0,1,0,0,0,0],[0,1,3,3,2,1,1,0,1,1,1,0,1,1,1,0,4,0,0,0,0,0,0,0,0,0,0,0,0,0],[2,4,3,5,1,5,1,2,1,1,0,1,1,1,0,1,1,1,2,0,0,0,0,0,0,0,0,0,0,0],[0,1,2,2,2,1,1,2,0,0,0,0,0,1,0,1,1,0,1,0,0,0,0,0,0,0,0,0,0,0],[0,2,3,10,6,2,3,1,3,6,0,0,0,1,0,0,0,0,1,0,1,0,0,0,0,0,0,0,0,0],[1,1,3,1,1,1,1,3,0,4,0,0,0,0,0,0,2,0,0,0,0,0,0,0,0,0,0,0,0,0],[0,5,8,2,0,1,1,1,1,0,3,0,0,2,0,1,1,1,0,0,0,0,0,0,0,0,0,0,0,0],[1,1,1,3,0,1,0,1,0,1,1,0,0,0,0,0,0,0,0,0,0,0,0,0,0,1,0,0,0,0],[4,7,6,5,1,3,1,0,2,1,1,0,1,1,0,0,1,1,0,0,0,0,0,0,0,0,1,0,0,0],[1,0,5,1,1,2,1,0,1,0,1,0,0,0,0,0,0,0,0,0,0,0,0,0,0,0,0,0,0,0],[1,3,8,2,0,2,2,3,1,1,1,0,1,2,0,0,0,0,1,0,0,0,0,0,0,0,0,0,0,0],[2,2,5,0,0,1,1,1,0,1,1,0,1,2,1,0,1,0,1,0,0,0,0,0,0,0,0,0,0,0],[1,2,2,3,1,2,0,0,0,1,0,0,1,0,1,0,3,0,0,0,0,0,0,0,0,0,0,0,0,0],[0,3,1,0,0,2,3,1,2,1,1,0,0,0,0,0,1,0,0,0,0,1,0,0,0,0,0,0,0,0],[1,3,1,4,0,1,1,0,1,1,1,0,0,0,1,1,1,0,0,0,0,0,0,0,0,0,0,0,1,0],[0,0,2,3,2,0,1,0,1,0,0,0,0,0,0,0,1,0,0,0,0,0,0,0,0,0,0,0,0,0],[0,1,2,5,1,1,1,0,1,1,2,0,1,0,0,0,2,0,0,0,0,0,0,0,0,0,0,0,0,0],[0,0,0,0,0,0,1,0,0,1,0,0,0,0,1,0,0,0,0,0,0,0,0,0,0,0,0,0,0,0],[0,1,5,0,0,1,0,0,0,0,1,0,0,0,0,0,0,0,0,0,0,0,0,0,0,0,0,0,0,0],[0,1,1,3,1,1,1,0,0,0,0,0,0,0,0,0,0,0,0,0,0,0,0,0,0,0,0,0,0,0],[0,1,0,1,0,0,1,0,0,2,0,0,0,1,0,0,0,0,0,0,0,0,0,0,0,0,0,0,0,0],[0,0,1,0,0,0,0,0,0,0,0,0,0,0,0,0,0,0,0,0,0,0,0,0,0,0,0,0,0,0],[0,1,0,1,0,0,1,0,0,1,0,1,0,0,0,0,0,0,0,0,0,0,0,0,0,0,0,0,0,0],[0,0,1,0,0,0,1,0,0,0,0,0,0,0,0,0,0,0,0,0,0,0,0,0,0,0,0,0,0,0],[0,1,0,0,0,0,1,0,0,1,0,0,0,0,0,0,0,0,0,1,0,0,0,0,0,0,0,0,0,0]],\"type\":\"surface\"}],                        {\"template\":{\"data\":{\"histogram2dcontour\":[{\"type\":\"histogram2dcontour\",\"colorbar\":{\"outlinewidth\":0,\"ticks\":\"\"},\"colorscale\":[[0.0,\"#0d0887\"],[0.1111111111111111,\"#46039f\"],[0.2222222222222222,\"#7201a8\"],[0.3333333333333333,\"#9c179e\"],[0.4444444444444444,\"#bd3786\"],[0.5555555555555556,\"#d8576b\"],[0.6666666666666666,\"#ed7953\"],[0.7777777777777778,\"#fb9f3a\"],[0.8888888888888888,\"#fdca26\"],[1.0,\"#f0f921\"]]}],\"choropleth\":[{\"type\":\"choropleth\",\"colorbar\":{\"outlinewidth\":0,\"ticks\":\"\"}}],\"histogram2d\":[{\"type\":\"histogram2d\",\"colorbar\":{\"outlinewidth\":0,\"ticks\":\"\"},\"colorscale\":[[0.0,\"#0d0887\"],[0.1111111111111111,\"#46039f\"],[0.2222222222222222,\"#7201a8\"],[0.3333333333333333,\"#9c179e\"],[0.4444444444444444,\"#bd3786\"],[0.5555555555555556,\"#d8576b\"],[0.6666666666666666,\"#ed7953\"],[0.7777777777777778,\"#fb9f3a\"],[0.8888888888888888,\"#fdca26\"],[1.0,\"#f0f921\"]]}],\"heatmap\":[{\"type\":\"heatmap\",\"colorbar\":{\"outlinewidth\":0,\"ticks\":\"\"},\"colorscale\":[[0.0,\"#0d0887\"],[0.1111111111111111,\"#46039f\"],[0.2222222222222222,\"#7201a8\"],[0.3333333333333333,\"#9c179e\"],[0.4444444444444444,\"#bd3786\"],[0.5555555555555556,\"#d8576b\"],[0.6666666666666666,\"#ed7953\"],[0.7777777777777778,\"#fb9f3a\"],[0.8888888888888888,\"#fdca26\"],[1.0,\"#f0f921\"]]}],\"heatmapgl\":[{\"type\":\"heatmapgl\",\"colorbar\":{\"outlinewidth\":0,\"ticks\":\"\"},\"colorscale\":[[0.0,\"#0d0887\"],[0.1111111111111111,\"#46039f\"],[0.2222222222222222,\"#7201a8\"],[0.3333333333333333,\"#9c179e\"],[0.4444444444444444,\"#bd3786\"],[0.5555555555555556,\"#d8576b\"],[0.6666666666666666,\"#ed7953\"],[0.7777777777777778,\"#fb9f3a\"],[0.8888888888888888,\"#fdca26\"],[1.0,\"#f0f921\"]]}],\"contourcarpet\":[{\"type\":\"contourcarpet\",\"colorbar\":{\"outlinewidth\":0,\"ticks\":\"\"}}],\"contour\":[{\"type\":\"contour\",\"colorbar\":{\"outlinewidth\":0,\"ticks\":\"\"},\"colorscale\":[[0.0,\"#0d0887\"],[0.1111111111111111,\"#46039f\"],[0.2222222222222222,\"#7201a8\"],[0.3333333333333333,\"#9c179e\"],[0.4444444444444444,\"#bd3786\"],[0.5555555555555556,\"#d8576b\"],[0.6666666666666666,\"#ed7953\"],[0.7777777777777778,\"#fb9f3a\"],[0.8888888888888888,\"#fdca26\"],[1.0,\"#f0f921\"]]}],\"surface\":[{\"type\":\"surface\",\"colorbar\":{\"outlinewidth\":0,\"ticks\":\"\"},\"colorscale\":[[0.0,\"#0d0887\"],[0.1111111111111111,\"#46039f\"],[0.2222222222222222,\"#7201a8\"],[0.3333333333333333,\"#9c179e\"],[0.4444444444444444,\"#bd3786\"],[0.5555555555555556,\"#d8576b\"],[0.6666666666666666,\"#ed7953\"],[0.7777777777777778,\"#fb9f3a\"],[0.8888888888888888,\"#fdca26\"],[1.0,\"#f0f921\"]]}],\"mesh3d\":[{\"type\":\"mesh3d\",\"colorbar\":{\"outlinewidth\":0,\"ticks\":\"\"}}],\"scatter\":[{\"marker\":{\"line\":{\"color\":\"#283442\"}},\"type\":\"scatter\"}],\"parcoords\":[{\"type\":\"parcoords\",\"line\":{\"colorbar\":{\"outlinewidth\":0,\"ticks\":\"\"}}}],\"scatterpolargl\":[{\"type\":\"scatterpolargl\",\"marker\":{\"colorbar\":{\"outlinewidth\":0,\"ticks\":\"\"}}}],\"bar\":[{\"error_x\":{\"color\":\"#f2f5fa\"},\"error_y\":{\"color\":\"#f2f5fa\"},\"marker\":{\"line\":{\"color\":\"rgb(17,17,17)\",\"width\":0.5},\"pattern\":{\"fillmode\":\"overlay\",\"size\":10,\"solidity\":0.2}},\"type\":\"bar\"}],\"scattergeo\":[{\"type\":\"scattergeo\",\"marker\":{\"colorbar\":{\"outlinewidth\":0,\"ticks\":\"\"}}}],\"scatterpolar\":[{\"type\":\"scatterpolar\",\"marker\":{\"colorbar\":{\"outlinewidth\":0,\"ticks\":\"\"}}}],\"histogram\":[{\"marker\":{\"pattern\":{\"fillmode\":\"overlay\",\"size\":10,\"solidity\":0.2}},\"type\":\"histogram\"}],\"scattergl\":[{\"marker\":{\"line\":{\"color\":\"#283442\"}},\"type\":\"scattergl\"}],\"scatter3d\":[{\"type\":\"scatter3d\",\"line\":{\"colorbar\":{\"outlinewidth\":0,\"ticks\":\"\"}},\"marker\":{\"colorbar\":{\"outlinewidth\":0,\"ticks\":\"\"}}}],\"scattermapbox\":[{\"type\":\"scattermapbox\",\"marker\":{\"colorbar\":{\"outlinewidth\":0,\"ticks\":\"\"}}}],\"scatterternary\":[{\"type\":\"scatterternary\",\"marker\":{\"colorbar\":{\"outlinewidth\":0,\"ticks\":\"\"}}}],\"scattercarpet\":[{\"type\":\"scattercarpet\",\"marker\":{\"colorbar\":{\"outlinewidth\":0,\"ticks\":\"\"}}}],\"carpet\":[{\"aaxis\":{\"endlinecolor\":\"#A2B1C6\",\"gridcolor\":\"#506784\",\"linecolor\":\"#506784\",\"minorgridcolor\":\"#506784\",\"startlinecolor\":\"#A2B1C6\"},\"baxis\":{\"endlinecolor\":\"#A2B1C6\",\"gridcolor\":\"#506784\",\"linecolor\":\"#506784\",\"minorgridcolor\":\"#506784\",\"startlinecolor\":\"#A2B1C6\"},\"type\":\"carpet\"}],\"table\":[{\"cells\":{\"fill\":{\"color\":\"#506784\"},\"line\":{\"color\":\"rgb(17,17,17)\"}},\"header\":{\"fill\":{\"color\":\"#2a3f5f\"},\"line\":{\"color\":\"rgb(17,17,17)\"}},\"type\":\"table\"}],\"barpolar\":[{\"marker\":{\"line\":{\"color\":\"rgb(17,17,17)\",\"width\":0.5},\"pattern\":{\"fillmode\":\"overlay\",\"size\":10,\"solidity\":0.2}},\"type\":\"barpolar\"}],\"pie\":[{\"automargin\":true,\"type\":\"pie\"}]},\"layout\":{\"autotypenumbers\":\"strict\",\"colorway\":[\"#636efa\",\"#EF553B\",\"#00cc96\",\"#ab63fa\",\"#FFA15A\",\"#19d3f3\",\"#FF6692\",\"#B6E880\",\"#FF97FF\",\"#FECB52\"],\"font\":{\"color\":\"#f2f5fa\"},\"hovermode\":\"closest\",\"hoverlabel\":{\"align\":\"left\"},\"paper_bgcolor\":\"rgb(17,17,17)\",\"plot_bgcolor\":\"rgb(17,17,17)\",\"polar\":{\"bgcolor\":\"rgb(17,17,17)\",\"angularaxis\":{\"gridcolor\":\"#506784\",\"linecolor\":\"#506784\",\"ticks\":\"\"},\"radialaxis\":{\"gridcolor\":\"#506784\",\"linecolor\":\"#506784\",\"ticks\":\"\"}},\"ternary\":{\"bgcolor\":\"rgb(17,17,17)\",\"aaxis\":{\"gridcolor\":\"#506784\",\"linecolor\":\"#506784\",\"ticks\":\"\"},\"baxis\":{\"gridcolor\":\"#506784\",\"linecolor\":\"#506784\",\"ticks\":\"\"},\"caxis\":{\"gridcolor\":\"#506784\",\"linecolor\":\"#506784\",\"ticks\":\"\"}},\"coloraxis\":{\"colorbar\":{\"outlinewidth\":0,\"ticks\":\"\"}},\"colorscale\":{\"sequential\":[[0.0,\"#0d0887\"],[0.1111111111111111,\"#46039f\"],[0.2222222222222222,\"#7201a8\"],[0.3333333333333333,\"#9c179e\"],[0.4444444444444444,\"#bd3786\"],[0.5555555555555556,\"#d8576b\"],[0.6666666666666666,\"#ed7953\"],[0.7777777777777778,\"#fb9f3a\"],[0.8888888888888888,\"#fdca26\"],[1.0,\"#f0f921\"]],\"sequentialminus\":[[0.0,\"#0d0887\"],[0.1111111111111111,\"#46039f\"],[0.2222222222222222,\"#7201a8\"],[0.3333333333333333,\"#9c179e\"],[0.4444444444444444,\"#bd3786\"],[0.5555555555555556,\"#d8576b\"],[0.6666666666666666,\"#ed7953\"],[0.7777777777777778,\"#fb9f3a\"],[0.8888888888888888,\"#fdca26\"],[1.0,\"#f0f921\"]],\"diverging\":[[0,\"#8e0152\"],[0.1,\"#c51b7d\"],[0.2,\"#de77ae\"],[0.3,\"#f1b6da\"],[0.4,\"#fde0ef\"],[0.5,\"#f7f7f7\"],[0.6,\"#e6f5d0\"],[0.7,\"#b8e186\"],[0.8,\"#7fbc41\"],[0.9,\"#4d9221\"],[1,\"#276419\"]]},\"xaxis\":{\"gridcolor\":\"#283442\",\"linecolor\":\"#506784\",\"ticks\":\"\",\"title\":{\"standoff\":15},\"zerolinecolor\":\"#283442\",\"automargin\":true,\"zerolinewidth\":2},\"yaxis\":{\"gridcolor\":\"#283442\",\"linecolor\":\"#506784\",\"ticks\":\"\",\"title\":{\"standoff\":15},\"zerolinecolor\":\"#283442\",\"automargin\":true,\"zerolinewidth\":2},\"scene\":{\"xaxis\":{\"backgroundcolor\":\"rgb(17,17,17)\",\"gridcolor\":\"#506784\",\"linecolor\":\"#506784\",\"showbackground\":true,\"ticks\":\"\",\"zerolinecolor\":\"#C8D4E3\",\"gridwidth\":2},\"yaxis\":{\"backgroundcolor\":\"rgb(17,17,17)\",\"gridcolor\":\"#506784\",\"linecolor\":\"#506784\",\"showbackground\":true,\"ticks\":\"\",\"zerolinecolor\":\"#C8D4E3\",\"gridwidth\":2},\"zaxis\":{\"backgroundcolor\":\"rgb(17,17,17)\",\"gridcolor\":\"#506784\",\"linecolor\":\"#506784\",\"showbackground\":true,\"ticks\":\"\",\"zerolinecolor\":\"#C8D4E3\",\"gridwidth\":2}},\"shapedefaults\":{\"line\":{\"color\":\"#f2f5fa\"}},\"annotationdefaults\":{\"arrowcolor\":\"#f2f5fa\",\"arrowhead\":0,\"arrowwidth\":1},\"geo\":{\"bgcolor\":\"rgb(17,17,17)\",\"landcolor\":\"rgb(17,17,17)\",\"subunitcolor\":\"#506784\",\"showland\":true,\"showlakes\":true,\"lakecolor\":\"rgb(17,17,17)\"},\"title\":{\"x\":0.05},\"updatemenudefaults\":{\"bgcolor\":\"#506784\",\"borderwidth\":0},\"sliderdefaults\":{\"bgcolor\":\"#C8D4E3\",\"borderwidth\":1,\"bordercolor\":\"rgb(17,17,17)\",\"tickwidth\":0},\"mapbox\":{\"style\":\"dark\"}}}},                        {\"responsive\": true}                    ).then(function(){\n                            \nvar gd = document.getElementById('733a331f-1fef-415e-8753-8fb44c134279');\nvar x = new MutationObserver(function (mutations, observer) {{\n        var display = window.getComputedStyle(gd).display;\n        if (!display || display === 'none') {{\n            console.log([gd, 'removed!']);\n            Plotly.purge(gd);\n            observer.disconnect();\n        }}\n}});\n\n// Listen for the removal of the full notebook cells\nvar notebookContainer = gd.closest('#notebook-container');\nif (notebookContainer) {{\n    x.observe(notebookContainer, {childList: true});\n}}\n\n// Listen for the clearing of the current output cell\nvar outputEl = gd.closest('.output');\nif (outputEl) {{\n    x.observe(outputEl, {childList: true});\n}}\n\n                        })                };                });            </script>        </div>"
     },
     "metadata": {},
     "output_type": "display_data"
    }
   ],
   "source": [
    "fig=go.Figure(go.Surface(z=z, y=z.index, x=z.columns))\n",
    "fig.show()"
   ],
   "metadata": {
    "collapsed": false,
    "pycharm": {
     "name": "#%%\n"
    }
   }
  },
  {
   "cell_type": "markdown",
   "source": [
    "##### Graphiques RI/PFS nuls"
   ],
   "metadata": {
    "collapsed": false,
    "pycharm": {
     "name": "#%% md\n"
    }
   }
  },
  {
   "cell_type": "code",
   "execution_count": 98,
   "outputs": [
    {
     "name": "stderr",
     "output_type": "stream",
     "text": [
      "C:\\Users\\arceb\\AppData\\Local\\Temp\\ipykernel_35328\\2778533227.py:2: SettingWithCopyWarning:\n",
      "\n",
      "\n",
      "A value is trying to be set on a copy of a slice from a DataFrame.\n",
      "Try using .loc[row_indexer,col_indexer] = value instead\n",
      "\n",
      "See the caveats in the documentation: https://pandas.pydata.org/pandas-docs/stable/user_guide/indexing.html#returning-a-view-versus-a-copy\n",
      "\n",
      "C:\\Users\\arceb\\AppData\\Local\\Temp\\ipykernel_35328\\2778533227.py:13: SettingWithCopyWarning:\n",
      "\n",
      "\n",
      "A value is trying to be set on a copy of a slice from a DataFrame.\n",
      "Try using .loc[row_indexer,col_indexer] = value instead\n",
      "\n",
      "See the caveats in the documentation: https://pandas.pydata.org/pandas-docs/stable/user_guide/indexing.html#returning-a-view-versus-a-copy\n",
      "\n"
     ]
    },
    {
     "data": {
      "text/plain": "995"
     },
     "execution_count": 98,
     "metadata": {},
     "output_type": "execute_result"
    }
   ],
   "source": [
    "RI = bddbis[bddbis['Ressources imposables mensuelles moyennes (RI)'] == 0]\n",
    "RI['Tranches de PFS'] = 0\n",
    "\n",
    "\n",
    "def ri(rl):\n",
    "    for i in range(0, 2000, 50):\n",
    "        if i < rl and rl <= i + 50:\n",
    "            return i\n",
    "        elif rl > 2000:\n",
    "            return np.NaN\n",
    "\n",
    "\n",
    "RI['Tranches de PFS'] = RI['Prestations familiales et sociales mensuelles moyennes (PFS)'].apply(ri)\n",
    "ri = RI[['Tranches de PFS', 'Numéro Unique']]\n",
    "ri = ri.groupby(by='Tranches de PFS').count()['Numéro Unique']\n",
    "ri = ri.to_frame()\n",
    "ri = ri.reset_index()\n",
    "ri['Numéro Unique'].sum()"
   ],
   "metadata": {
    "collapsed": false,
    "pycharm": {
     "name": "#%%\n"
    }
   }
  },
  {
   "cell_type": "code",
   "execution_count": 99,
   "outputs": [
    {
     "data": {
      "text/plain": "<Figure size 1512x360 with 1 Axes>",
      "image/png": "[encoded data removed]"
     },
     "metadata": {
      "needs_background": "light"
     },
     "output_type": "display_data"
    }
   ],
   "source": [
    " ax = ri.plot.bar(x='Tranches de PFS', y='Numéro Unique', xlabel='Tranche de Prestations familiales et sociales', ylabel= \"Nombre de demandeurs\", title= 'Distribution par montant de PFS des ménages demandeurs avec au moins 2 cotitulaires qui ne déclarent aucun RI dans les Bouches-du-Rhône', rot=0, figsize=(21,5), color='red')"
   ],
   "metadata": {
    "collapsed": false,
    "pycharm": {
     "name": "#%%\n"
    }
   }
  },
  {
   "cell_type": "code",
   "execution_count": 100,
   "outputs": [],
   "source": [
    "ax.figure.savefig('PFS_BDR_Couples.pdf')"
   ],
   "metadata": {
    "collapsed": false,
    "pycharm": {
     "name": "#%%\n"
    }
   }
  },
  {
   "cell_type": "code",
   "execution_count": 101,
   "outputs": [
    {
     "name": "stderr",
     "output_type": "stream",
     "text": [
      "C:\\Users\\arceb\\AppData\\Local\\Temp\\ipykernel_35328\\3190665146.py:2: SettingWithCopyWarning:\n",
      "\n",
      "\n",
      "A value is trying to be set on a copy of a slice from a DataFrame.\n",
      "Try using .loc[row_indexer,col_indexer] = value instead\n",
      "\n",
      "See the caveats in the documentation: https://pandas.pydata.org/pandas-docs/stable/user_guide/indexing.html#returning-a-view-versus-a-copy\n",
      "\n",
      "C:\\Users\\arceb\\AppData\\Local\\Temp\\ipykernel_35328\\3190665146.py:11: SettingWithCopyWarning:\n",
      "\n",
      "\n",
      "A value is trying to be set on a copy of a slice from a DataFrame.\n",
      "Try using .loc[row_indexer,col_indexer] = value instead\n",
      "\n",
      "See the caveats in the documentation: https://pandas.pydata.org/pandas-docs/stable/user_guide/indexing.html#returning-a-view-versus-a-copy\n",
      "\n"
     ]
    },
    {
     "data": {
      "text/plain": "10314"
     },
     "execution_count": 101,
     "metadata": {},
     "output_type": "execute_result"
    }
   ],
   "source": [
    "PFS=bddbis[bddbis['Prestations familiales et sociales mensuelles moyennes (PFS)']==0]\n",
    "PFS['Tranches de RI']=0\n",
    "\n",
    "def pfs(rl):\n",
    "    for i in range(0, 2000, 50):\n",
    "        if i<rl and rl<=i+50:\n",
    "            return i\n",
    "        elif rl>2000:\n",
    "            return np.NaN\n",
    "\n",
    "PFS['Tranches de RI'] = PFS['Ressources imposables mensuelles moyennes (RI)'].apply(pfs)\n",
    "pfs = PFS[['Tranches de RI', 'Numéro Unique']]\n",
    "pfs = pfs.groupby(by='Tranches de RI').count()['Numéro Unique']\n",
    "pfs = pfs.to_frame()\n",
    "pfs=pfs.reset_index()\n",
    "pfs['Numéro Unique'].sum()"
   ],
   "metadata": {
    "collapsed": false,
    "pycharm": {
     "name": "#%%\n"
    }
   }
  },
  {
   "cell_type": "code",
   "execution_count": 102,
   "outputs": [
    {
     "data": {
      "text/plain": "<Figure size 1512x360 with 1 Axes>",
      "image/png": "[encoded data removed]"
     },
     "metadata": {
      "needs_background": "light"
     },
     "output_type": "display_data"
    }
   ],
   "source": [
    " ax = pfs.plot.bar(x='Tranches de RI', y='Numéro Unique', xlabel='Tranche de Revenu imposable mensuel moyen', ylabel= \"Nombre de demandeurs\", title= 'Distribution par montant de RI des ménages demandeurs ayant au moins 2 cotitulaires qui ne déclarent aucunes PFS dans les Bouches-du-Rhône', rot=0, figsize=(21,5), color='green')"
   ],
   "metadata": {
    "collapsed": false,
    "pycharm": {
     "name": "#%%\n"
    }
   }
  },
  {
   "cell_type": "code",
   "execution_count": 103,
   "outputs": [],
   "source": [
    "ax.figure.savefig('RI_BDR_Couples.pdf')"
   ],
   "metadata": {
    "collapsed": false,
    "pycharm": {
     "name": "#%%\n"
    }
   }
  },
  {
   "cell_type": "code",
   "execution_count": null,
   "outputs": [],
   "source": [],
   "metadata": {
    "collapsed": false,
    "pycharm": {
     "name": "#%%\n"
    }
   }
  }
 ],
 "metadata": {
  "kernelspec": {
   "display_name": "Python 3",
   "language": "python",
   "name": "python3"
  },
  "language_info": {
   "codemirror_mode": {
    "name": "ipython",
    "version": 2
   },
   "file_extension": ".py",
   "mimetype": "text/x-python",
   "name": "python",
   "nbconvert_exporter": "python",
   "pygments_lexer": "ipython2",
   "version": "2.7.6"
  }
 },
 "nbformat": 4,
 "nbformat_minor": 0
}